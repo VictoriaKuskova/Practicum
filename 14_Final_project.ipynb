{
 "cells": [
  {
   "cell_type": "markdown",
   "metadata": {},
   "source": [
    "# Выпускной Проект «Промышленность»"
   ]
  },
  {
   "cell_type": "markdown",
   "metadata": {},
   "source": [
    "## Введение"
   ]
  },
  {
   "cell_type": "markdown",
   "metadata": {},
   "source": [
    "В данном выпускном проекте мы решим задачу по доменной области \"Промышленность\".\n",
    "\n",
    "Чтобы оптимизировать производственные расходы, металлургический комбинат ООО «Так закаляем сталь» решил уменьшить потребление электроэнергии на этапе обработки стали. Нам предстоит построить модель, которая предскажет температуру стали. \n",
    "\n",
    "Ниже можно найти описание задачи, а также примерное содержание данного файла.\n",
    "\n",
    "<b>Описание этапа обработки</b>\n",
    "\n",
    "- Сталь обрабатывают в металлическом ковше вместимостью около 100 тонн. Чтобы ковш выдерживал высокие температуры, изнутри его облицовывают огнеупорным кирпичом. Расплавленную сталь заливают в ковш и подогревают до нужной температуры графитовыми электродами. Они установлены в крышке ковша. \n",
    "\n",
    "- Из сплава выводится сера (десульфурация), добавлением примесей корректируется химический состав и отбираются пробы. Сталь легируют — изменяют её состав — подавая куски сплава из бункера для сыпучих материалов или проволоку через специальный трайб-аппарат (англ. tribe, «масса»).\n",
    "\n",
    "- Перед тем как первый раз ввести легирующие добавки, измеряют температуру стали и производят её химический анализ. Потом температуру на несколько минут повышают, добавляют легирующие материалы и продувают сплав инертным газом. Затем его перемешивают и снова проводят измерения. Такой цикл повторяется до достижения целевого химического состава и оптимальной температуры плавки.\n",
    "\n",
    "- Тогда расплавленная сталь отправляется на доводку металла или поступает в машину непрерывной разливки. Оттуда готовый продукт выходит в виде заготовок-слябов (англ. *slab*, «плита»).\n",
    "\n",
    "\n",
    "<b>Содержание данного нотбука:</b>\n",
    "- Изучение общей информации о файлах с данными.\n",
    "- Изучение столбцов и проверка данных.\n",
    "- Анализ задачи и формирование дальнейшего плана действий.\n",
    "- Подготовка данных для обучения моделей.\n",
    "- Обучение моделей.\n",
    "- Тестирование итоговой модели.\n",
    "- Выводы проекта.\n",
    "\n",
    "<b>Автор проекта:</b>\n",
    "- Виктория Кускова, \n",
    "- студентка Яндекс.Практикума, 2021."
   ]
  },
  {
   "cell_type": "markdown",
   "metadata": {},
   "source": [
    "## Изучение данных"
   ]
  },
  {
   "cell_type": "markdown",
   "metadata": {},
   "source": [
    "### Загрузка данных"
   ]
  },
  {
   "cell_type": "markdown",
   "metadata": {},
   "source": [
    "Выделим библиотеки, которые понадобятся нам в этой части проекта в отдельную ячейку."
   ]
  },
  {
   "cell_type": "code",
   "execution_count": 1,
   "metadata": {},
   "outputs": [],
   "source": [
    "#импорты библиотек\n",
    "import pandas as pd\n",
    "import numpy as np\n",
    "import seaborn as sns\n",
    "import matplotlib.pyplot as plt\n",
    "import warnings\n",
    "import re\n",
    "from sklearn.model_selection import train_test_split, GridSearchCV, StratifiedKFold\n",
    "#from sklearn.model_selection import cross_val_score\n",
    "from sklearn.preprocessing import StandardScaler\n",
    "from sklearn.pipeline import Pipeline\n",
    "from sklearn.linear_model import LinearRegression\n",
    "from sklearn.ensemble import RandomForestRegressor\n",
    "from lightgbm import LGBMRegressor\n",
    "from catboost import CatBoostRegressor\n",
    "from sklearn.metrics import mean_squared_error, mean_absolute_error"
   ]
  },
  {
   "cell_type": "markdown",
   "metadata": {},
   "source": [
    "Импортируем данные и изучим их. У нас есть всего 7 файлов с информацией."
   ]
  },
  {
   "cell_type": "code",
   "execution_count": 2,
   "metadata": {},
   "outputs": [],
   "source": [
    "#импорт файлов с данными\n",
    "df_arc = pd.read_csv('/datasets/final_steel/data_arc.csv')\n",
    "df_arc.name = 'Данные об электродах, df_arc'\n",
    "df_bulk = pd.read_csv('/datasets/final_steel/data_bulk.csv')\n",
    "df_bulk.name = 'Данные о подаче сыпучих материалов (объём), df_bulk'\n",
    "df_bulk_time = pd.read_csv('/datasets/final_steel/data_bulk_time.csv')\n",
    "df_bulk_time.name = 'Данные о подаче сыпучих материалов (время), df_bulk_time'\n",
    "df_gas = pd.read_csv('/datasets/final_steel/data_gas.csv')\n",
    "df_gas.name = 'Данные о продувке сплава газом, df_gas'\n",
    "df_temp = pd.read_csv('/datasets/final_steel/data_temp.csv')\n",
    "df_temp.name = 'Результаты измерения температуры, df_temp'\n",
    "df_wire = pd.read_csv('/datasets/final_steel/data_wire.csv')\n",
    "df_wire.name = 'Данные о проволочных материалах (объём), df_wire'\n",
    "df_wire_time = pd.read_csv('/datasets/final_steel/data_wire_time.csv')\n",
    "df_wire_time.name = 'Данные о проволочных материалах (время), df_wire_time'"
   ]
  },
  {
   "cell_type": "code",
   "execution_count": 3,
   "metadata": {},
   "outputs": [],
   "source": [
    "list_df = [df_arc, df_bulk, df_bulk_time, df_gas, df_temp, df_wire, df_wire_time]"
   ]
  },
  {
   "cell_type": "markdown",
   "metadata": {},
   "source": [
    "Данные импортировали, посмотрим на них внимательно. Начнем с общих данных."
   ]
  },
  {
   "cell_type": "code",
   "execution_count": 4,
   "metadata": {},
   "outputs": [
    {
     "name": "stdout",
     "output_type": "stream",
     "text": [
      "Данные об электродах, df_arc\n",
      "(14876, 5)\n",
      "Данные о подаче сыпучих материалов (объём), df_bulk\n",
      "(3129, 16)\n",
      "Данные о подаче сыпучих материалов (время), df_bulk_time\n",
      "(3129, 16)\n",
      "Данные о продувке сплава газом, df_gas\n",
      "(3239, 2)\n",
      "Результаты измерения температуры, df_temp\n",
      "(15907, 3)\n",
      "Данные о проволочных материалах (объём), df_wire\n",
      "(3081, 10)\n",
      "Данные о проволочных материалах (время), df_wire_time\n",
      "(3081, 10)\n"
     ]
    }
   ],
   "source": [
    "#изучаем размеры таблиц\n",
    "for i in list_df:\n",
    "    print(i.name)\n",
    "    print(i.shape)"
   ]
  },
  {
   "cell_type": "markdown",
   "metadata": {},
   "source": [
    "Видим по форме таблиц, что:\n",
    "- Основная таблица с измерениями температуры df_temp, где вероятнее всего находится целевой признак, содержит около 15 тыс. строк.\n",
    "- Таблицы о проволочных материалах по объему и времени имеют одинаковое число строк - 3081. Это хороший признак, скорее всего наблюдения не потерялись.\n",
    "- Таблицы о сыпучих материалах по объему и времени тоже имеют одинаковое число строк - 3129. Это также хорошо.\n",
    "- Данные об электродах содержат число строк более близкое к числу строк в таблице с температурой 14 тыс. А данные о газе более похожее число на таблицы про материалы - 3239.\n",
    "\n",
    "Посмотрим на таблицы внимательнее."
   ]
  },
  {
   "cell_type": "markdown",
   "metadata": {},
   "source": [
    "### Таблица \"Данные об электродах, df_arc\""
   ]
  },
  {
   "cell_type": "markdown",
   "metadata": {},
   "source": [
    "Посмотрим внимательно на данные об электродах."
   ]
  },
  {
   "cell_type": "code",
   "execution_count": 5,
   "metadata": {},
   "outputs": [
    {
     "name": "stdout",
     "output_type": "stream",
     "text": [
      "<class 'pandas.core.frame.DataFrame'>\n",
      "RangeIndex: 14876 entries, 0 to 14875\n",
      "Data columns (total 5 columns):\n",
      "key                     14876 non-null int64\n",
      "Начало нагрева дугой    14876 non-null object\n",
      "Конец нагрева дугой     14876 non-null object\n",
      "Активная мощность       14876 non-null float64\n",
      "Реактивная мощность     14876 non-null float64\n",
      "dtypes: float64(2), int64(1), object(2)\n",
      "memory usage: 581.2+ KB\n"
     ]
    }
   ],
   "source": [
    "df_arc.info()"
   ]
  },
  {
   "cell_type": "markdown",
   "metadata": {},
   "source": [
    "5 столбцов, пропусков нет."
   ]
  },
  {
   "cell_type": "code",
   "execution_count": 6,
   "metadata": {},
   "outputs": [
    {
     "data": {
      "text/html": [
       "<div>\n",
       "<style scoped>\n",
       "    .dataframe tbody tr th:only-of-type {\n",
       "        vertical-align: middle;\n",
       "    }\n",
       "\n",
       "    .dataframe tbody tr th {\n",
       "        vertical-align: top;\n",
       "    }\n",
       "\n",
       "    .dataframe thead th {\n",
       "        text-align: right;\n",
       "    }\n",
       "</style>\n",
       "<table border=\"1\" class=\"dataframe\">\n",
       "  <thead>\n",
       "    <tr style=\"text-align: right;\">\n",
       "      <th></th>\n",
       "      <th>key</th>\n",
       "      <th>Начало нагрева дугой</th>\n",
       "      <th>Конец нагрева дугой</th>\n",
       "      <th>Активная мощность</th>\n",
       "      <th>Реактивная мощность</th>\n",
       "    </tr>\n",
       "  </thead>\n",
       "  <tbody>\n",
       "    <tr>\n",
       "      <td>0</td>\n",
       "      <td>1</td>\n",
       "      <td>2019-05-03 11:02:14</td>\n",
       "      <td>2019-05-03 11:06:02</td>\n",
       "      <td>0.976059</td>\n",
       "      <td>0.687084</td>\n",
       "    </tr>\n",
       "    <tr>\n",
       "      <td>1</td>\n",
       "      <td>1</td>\n",
       "      <td>2019-05-03 11:07:28</td>\n",
       "      <td>2019-05-03 11:10:33</td>\n",
       "      <td>0.805607</td>\n",
       "      <td>0.520285</td>\n",
       "    </tr>\n",
       "    <tr>\n",
       "      <td>2</td>\n",
       "      <td>1</td>\n",
       "      <td>2019-05-03 11:11:44</td>\n",
       "      <td>2019-05-03 11:14:36</td>\n",
       "      <td>0.744363</td>\n",
       "      <td>0.498805</td>\n",
       "    </tr>\n",
       "    <tr>\n",
       "      <td>3</td>\n",
       "      <td>1</td>\n",
       "      <td>2019-05-03 11:18:14</td>\n",
       "      <td>2019-05-03 11:24:19</td>\n",
       "      <td>1.659363</td>\n",
       "      <td>1.062669</td>\n",
       "    </tr>\n",
       "    <tr>\n",
       "      <td>4</td>\n",
       "      <td>1</td>\n",
       "      <td>2019-05-03 11:26:09</td>\n",
       "      <td>2019-05-03 11:28:37</td>\n",
       "      <td>0.692755</td>\n",
       "      <td>0.414397</td>\n",
       "    </tr>\n",
       "    <tr>\n",
       "      <td>5</td>\n",
       "      <td>2</td>\n",
       "      <td>2019-05-03 11:34:14</td>\n",
       "      <td>2019-05-03 11:36:31</td>\n",
       "      <td>0.438063</td>\n",
       "      <td>0.283043</td>\n",
       "    </tr>\n",
       "    <tr>\n",
       "      <td>6</td>\n",
       "      <td>2</td>\n",
       "      <td>2019-05-03 11:38:50</td>\n",
       "      <td>2019-05-03 11:44:28</td>\n",
       "      <td>1.296415</td>\n",
       "      <td>0.892914</td>\n",
       "    </tr>\n",
       "    <tr>\n",
       "      <td>7</td>\n",
       "      <td>2</td>\n",
       "      <td>2019-05-03 11:46:19</td>\n",
       "      <td>2019-05-03 11:48:25</td>\n",
       "      <td>0.490377</td>\n",
       "      <td>0.305281</td>\n",
       "    </tr>\n",
       "    <tr>\n",
       "      <td>8</td>\n",
       "      <td>2</td>\n",
       "      <td>2019-05-03 11:49:48</td>\n",
       "      <td>2019-05-03 11:53:18</td>\n",
       "      <td>0.827743</td>\n",
       "      <td>0.516874</td>\n",
       "    </tr>\n",
       "    <tr>\n",
       "      <td>9</td>\n",
       "      <td>3</td>\n",
       "      <td>2019-05-03 12:06:54</td>\n",
       "      <td>2019-05-03 12:11:34</td>\n",
       "      <td>1.062053</td>\n",
       "      <td>0.671494</td>\n",
       "    </tr>\n",
       "  </tbody>\n",
       "</table>\n",
       "</div>"
      ],
      "text/plain": [
       "   key Начало нагрева дугой  Конец нагрева дугой  Активная мощность  \\\n",
       "0    1  2019-05-03 11:02:14  2019-05-03 11:06:02           0.976059   \n",
       "1    1  2019-05-03 11:07:28  2019-05-03 11:10:33           0.805607   \n",
       "2    1  2019-05-03 11:11:44  2019-05-03 11:14:36           0.744363   \n",
       "3    1  2019-05-03 11:18:14  2019-05-03 11:24:19           1.659363   \n",
       "4    1  2019-05-03 11:26:09  2019-05-03 11:28:37           0.692755   \n",
       "5    2  2019-05-03 11:34:14  2019-05-03 11:36:31           0.438063   \n",
       "6    2  2019-05-03 11:38:50  2019-05-03 11:44:28           1.296415   \n",
       "7    2  2019-05-03 11:46:19  2019-05-03 11:48:25           0.490377   \n",
       "8    2  2019-05-03 11:49:48  2019-05-03 11:53:18           0.827743   \n",
       "9    3  2019-05-03 12:06:54  2019-05-03 12:11:34           1.062053   \n",
       "\n",
       "   Реактивная мощность  \n",
       "0             0.687084  \n",
       "1             0.520285  \n",
       "2             0.498805  \n",
       "3             1.062669  \n",
       "4             0.414397  \n",
       "5             0.283043  \n",
       "6             0.892914  \n",
       "7             0.305281  \n",
       "8             0.516874  \n",
       "9             0.671494  "
      ]
     },
     "execution_count": 6,
     "metadata": {},
     "output_type": "execute_result"
    }
   ],
   "source": [
    "df_arc.head(10)"
   ]
  },
  {
   "cell_type": "markdown",
   "metadata": {},
   "source": [
    "- Видим, что данные по партиям (столбец key) повторяется - это значит для обной партии могло быть несколько нагревов дугой.\n",
    "- Типа мощности у нас две: активная и реактивная. Мы можем использовать эти мощности как отдельные признаки для модели, так и посчитать полную мощность, а также работу, вычислив по столбцам со временем, время.\n",
    "- Важно при вычислениях правильно агрегировать признаки. Полную мощность получаем как корень из суммы квадратов активной и реактивной мощности. \n",
    "\n",
    "Посмотрим на распределение значений мощности при нагревах."
   ]
  },
  {
   "cell_type": "code",
   "execution_count": 7,
   "metadata": {},
   "outputs": [
    {
     "data": {
      "image/png": "[encoded data removed]",
      "text/plain": [
       "<Figure size 576x360 with 1 Axes>"
      ]
     },
     "metadata": {
      "needs_background": "light"
     },
     "output_type": "display_data"
    }
   ],
   "source": [
    "fig = plt.figure(figsize=(8, 5))\n",
    "plt.title(\"Распределение активной мощности\", fontweight='bold', size='medium')\n",
    "plt.ylabel(\"Частота, шт\")\n",
    "sns.distplot(a=df_arc['Активная мощность'],kde=True, rug=False, axlabel=\"Мощность, кВт\")\n",
    "plt.show()"
   ]
  },
  {
   "cell_type": "markdown",
   "metadata": {},
   "source": [
    "Видим, что для активной мощности нет неправдоподобных выбросов и пиков в распределении. \n",
    "\n",
    "Большинство значений, основной пик расположен около 0,5 кВт.\n",
    "\n",
    "Посмотрим на реактивную мощность."
   ]
  },
  {
   "cell_type": "code",
   "execution_count": 8,
   "metadata": {},
   "outputs": [
    {
     "data": {
      "image/png": "[encoded data removed]",
      "text/plain": [
       "<Figure size 576x360 with 1 Axes>"
      ]
     },
     "metadata": {
      "needs_background": "light"
     },
     "output_type": "display_data"
    }
   ],
   "source": [
    "plt.figure(figsize=(8, 5))\n",
    "plt.title(\"Распределение реактивной мощности\", fontweight='bold', size='medium')\n",
    "plt.ylabel(\"Частота, шт\")\n",
    "sns.distplot(a=df_arc['Реактивная мощность'],kde=True, rug=False, axlabel=\"Мощность, кВт,\")\n",
    "plt.show()"
   ]
  },
  {
   "cell_type": "markdown",
   "metadata": {},
   "source": [
    "Видим большой пик в 0, и один меньший в около -700. Посмотрим на занчения меньше 0 внимательнее. Отрицательная мощность - это то, что нужно проверить.\n",
    "\n",
    "Пик в 0 вероятно соответсвует тому, что реактивной можности при нагреве не возникло. И это хорошо, что у большиства партий ее значение именно 0. Но нужно подтвердить это наблюдение с заказчиком."
   ]
  },
  {
   "cell_type": "code",
   "execution_count": 9,
   "metadata": {},
   "outputs": [
    {
     "data": {
      "text/html": [
       "<div>\n",
       "<style scoped>\n",
       "    .dataframe tbody tr th:only-of-type {\n",
       "        vertical-align: middle;\n",
       "    }\n",
       "\n",
       "    .dataframe tbody tr th {\n",
       "        vertical-align: top;\n",
       "    }\n",
       "\n",
       "    .dataframe thead th {\n",
       "        text-align: right;\n",
       "    }\n",
       "</style>\n",
       "<table border=\"1\" class=\"dataframe\">\n",
       "  <thead>\n",
       "    <tr style=\"text-align: right;\">\n",
       "      <th></th>\n",
       "      <th>key</th>\n",
       "      <th>Начало нагрева дугой</th>\n",
       "      <th>Конец нагрева дугой</th>\n",
       "      <th>Активная мощность</th>\n",
       "      <th>Реактивная мощность</th>\n",
       "    </tr>\n",
       "  </thead>\n",
       "  <tbody>\n",
       "    <tr>\n",
       "      <td>9780</td>\n",
       "      <td>2116</td>\n",
       "      <td>2019-07-24 00:44:48</td>\n",
       "      <td>2019-07-24 00:46:37</td>\n",
       "      <td>0.495782</td>\n",
       "      <td>-715.504924</td>\n",
       "    </tr>\n",
       "  </tbody>\n",
       "</table>\n",
       "</div>"
      ],
      "text/plain": [
       "       key Начало нагрева дугой  Конец нагрева дугой  Активная мощность  \\\n",
       "9780  2116  2019-07-24 00:44:48  2019-07-24 00:46:37           0.495782   \n",
       "\n",
       "      Реактивная мощность  \n",
       "9780          -715.504924  "
      ]
     },
     "execution_count": 9,
     "metadata": {},
     "output_type": "execute_result"
    }
   ],
   "source": [
    "df_arc[df_arc['Реактивная мощность'] < 0]"
   ]
  },
  {
   "cell_type": "markdown",
   "metadata": {},
   "source": [
    "Видим, что это всего одна строка. Возможно это отрицательное значение попалао сюда по ошибке при миграции даных. Вероятно эту строку, а также и всю партию нужно удалить, так как у нас неправильные и неправдоподобные данные по ней. Но необходимо уточнить это у бизнеса. \n",
    "\n",
    "Запомним эту партию: 2116 и значение реактивной мощности -715. Вероятно удалим ее из расчетов.\n",
    "\n",
    "Теперь посмотрим на распределение без отрицательных значений и пиков в 0."
   ]
  },
  {
   "cell_type": "code",
   "execution_count": 10,
   "metadata": {},
   "outputs": [
    {
     "data": {
      "image/png": "[encoded data removed]",
      "text/plain": [
       "<Figure size 576x360 with 1 Axes>"
      ]
     },
     "metadata": {
      "needs_background": "light"
     },
     "output_type": "display_data"
    }
   ],
   "source": [
    "warnings.filterwarnings('ignore')\n",
    "\n",
    "plt.figure(figsize=(8, 5))\n",
    "plt.title(\"Распределение реактивной мощности, больше 0\", fontweight='bold', size='medium')\n",
    "plt.ylabel(\"Частота, шт\")\n",
    "sns.distplot(a=df_arc[df_arc['Реактивная мощность'] > 0]['Реактивная мощность'],\n",
    "             kde=True, rug=False, axlabel=\"Мощность, кВт,\")\n",
    "plt.show()"
   ]
  },
  {
   "cell_type": "markdown",
   "metadata": {},
   "source": [
    "Теперь распределение стало очень похоже на распределение активной мощности. Только значение пика - 2 кВт, что больше, чем было у активной. Нет неправдоподобных выбросов и пиков в распределении, вероятно данные корректы.\n",
    "\n",
    "Уточним у заказчиков также, правильно ли по их ощущениям, что приблизительно в среднем значение активной мощности для большинства партий - 0,5 кВт, а для реактивной (если она есть) - 2 кВт."
   ]
  },
  {
   "cell_type": "markdown",
   "metadata": {},
   "source": [
    "### Данные о подаче сыпучих материалов (объём и время), df_bulk и df_bulk_time"
   ]
  },
  {
   "cell_type": "markdown",
   "metadata": {},
   "source": [
    "Посмотрим на обе таблицы по сыпучим материалам вместе."
   ]
  },
  {
   "cell_type": "code",
   "execution_count": 11,
   "metadata": {},
   "outputs": [
    {
     "name": "stdout",
     "output_type": "stream",
     "text": [
      "<class 'pandas.core.frame.DataFrame'>\n",
      "RangeIndex: 3129 entries, 0 to 3128\n",
      "Data columns (total 16 columns):\n",
      "key        3129 non-null int64\n",
      "Bulk 1     252 non-null float64\n",
      "Bulk 2     22 non-null float64\n",
      "Bulk 3     1298 non-null float64\n",
      "Bulk 4     1014 non-null float64\n",
      "Bulk 5     77 non-null float64\n",
      "Bulk 6     576 non-null float64\n",
      "Bulk 7     25 non-null float64\n",
      "Bulk 8     1 non-null float64\n",
      "Bulk 9     19 non-null float64\n",
      "Bulk 10    176 non-null float64\n",
      "Bulk 11    177 non-null float64\n",
      "Bulk 12    2450 non-null float64\n",
      "Bulk 13    18 non-null float64\n",
      "Bulk 14    2806 non-null float64\n",
      "Bulk 15    2248 non-null float64\n",
      "dtypes: float64(15), int64(1)\n",
      "memory usage: 391.2 KB\n",
      "<class 'pandas.core.frame.DataFrame'>\n",
      "RangeIndex: 3129 entries, 0 to 3128\n",
      "Data columns (total 16 columns):\n",
      "key        3129 non-null int64\n",
      "Bulk 1     252 non-null object\n",
      "Bulk 2     22 non-null object\n",
      "Bulk 3     1298 non-null object\n",
      "Bulk 4     1014 non-null object\n",
      "Bulk 5     77 non-null object\n",
      "Bulk 6     576 non-null object\n",
      "Bulk 7     25 non-null object\n",
      "Bulk 8     1 non-null object\n",
      "Bulk 9     19 non-null object\n",
      "Bulk 10    176 non-null object\n",
      "Bulk 11    177 non-null object\n",
      "Bulk 12    2450 non-null object\n",
      "Bulk 13    18 non-null object\n",
      "Bulk 14    2806 non-null object\n",
      "Bulk 15    2248 non-null object\n",
      "dtypes: int64(1), object(15)\n",
      "memory usage: 391.2+ KB\n"
     ]
    },
    {
     "data": {
      "text/plain": [
       "(None, None)"
      ]
     },
     "execution_count": 11,
     "metadata": {},
     "output_type": "execute_result"
    }
   ],
   "source": [
    "df_bulk.info(), df_bulk_time.info()"
   ]
  },
  {
   "cell_type": "code",
   "execution_count": 12,
   "metadata": {},
   "outputs": [
    {
     "data": {
      "text/html": [
       "<div>\n",
       "<style scoped>\n",
       "    .dataframe tbody tr th:only-of-type {\n",
       "        vertical-align: middle;\n",
       "    }\n",
       "\n",
       "    .dataframe tbody tr th {\n",
       "        vertical-align: top;\n",
       "    }\n",
       "\n",
       "    .dataframe thead th {\n",
       "        text-align: right;\n",
       "    }\n",
       "</style>\n",
       "<table border=\"1\" class=\"dataframe\">\n",
       "  <thead>\n",
       "    <tr style=\"text-align: right;\">\n",
       "      <th></th>\n",
       "      <th>key</th>\n",
       "      <th>Bulk 1</th>\n",
       "      <th>Bulk 2</th>\n",
       "      <th>Bulk 3</th>\n",
       "      <th>Bulk 4</th>\n",
       "      <th>Bulk 5</th>\n",
       "      <th>Bulk 6</th>\n",
       "      <th>Bulk 7</th>\n",
       "      <th>Bulk 8</th>\n",
       "      <th>Bulk 9</th>\n",
       "      <th>Bulk 10</th>\n",
       "      <th>Bulk 11</th>\n",
       "      <th>Bulk 12</th>\n",
       "      <th>Bulk 13</th>\n",
       "      <th>Bulk 14</th>\n",
       "      <th>Bulk 15</th>\n",
       "    </tr>\n",
       "  </thead>\n",
       "  <tbody>\n",
       "    <tr>\n",
       "      <td>0</td>\n",
       "      <td>1</td>\n",
       "      <td>NaN</td>\n",
       "      <td>NaN</td>\n",
       "      <td>NaN</td>\n",
       "      <td>43.0</td>\n",
       "      <td>NaN</td>\n",
       "      <td>NaN</td>\n",
       "      <td>NaN</td>\n",
       "      <td>NaN</td>\n",
       "      <td>NaN</td>\n",
       "      <td>NaN</td>\n",
       "      <td>NaN</td>\n",
       "      <td>206.0</td>\n",
       "      <td>NaN</td>\n",
       "      <td>150.0</td>\n",
       "      <td>154.0</td>\n",
       "    </tr>\n",
       "    <tr>\n",
       "      <td>1</td>\n",
       "      <td>2</td>\n",
       "      <td>NaN</td>\n",
       "      <td>NaN</td>\n",
       "      <td>NaN</td>\n",
       "      <td>73.0</td>\n",
       "      <td>NaN</td>\n",
       "      <td>NaN</td>\n",
       "      <td>NaN</td>\n",
       "      <td>NaN</td>\n",
       "      <td>NaN</td>\n",
       "      <td>NaN</td>\n",
       "      <td>NaN</td>\n",
       "      <td>206.0</td>\n",
       "      <td>NaN</td>\n",
       "      <td>149.0</td>\n",
       "      <td>154.0</td>\n",
       "    </tr>\n",
       "    <tr>\n",
       "      <td>2</td>\n",
       "      <td>3</td>\n",
       "      <td>NaN</td>\n",
       "      <td>NaN</td>\n",
       "      <td>NaN</td>\n",
       "      <td>34.0</td>\n",
       "      <td>NaN</td>\n",
       "      <td>NaN</td>\n",
       "      <td>NaN</td>\n",
       "      <td>NaN</td>\n",
       "      <td>NaN</td>\n",
       "      <td>NaN</td>\n",
       "      <td>NaN</td>\n",
       "      <td>205.0</td>\n",
       "      <td>NaN</td>\n",
       "      <td>152.0</td>\n",
       "      <td>153.0</td>\n",
       "    </tr>\n",
       "    <tr>\n",
       "      <td>3</td>\n",
       "      <td>4</td>\n",
       "      <td>NaN</td>\n",
       "      <td>NaN</td>\n",
       "      <td>NaN</td>\n",
       "      <td>81.0</td>\n",
       "      <td>NaN</td>\n",
       "      <td>NaN</td>\n",
       "      <td>NaN</td>\n",
       "      <td>NaN</td>\n",
       "      <td>NaN</td>\n",
       "      <td>NaN</td>\n",
       "      <td>NaN</td>\n",
       "      <td>207.0</td>\n",
       "      <td>NaN</td>\n",
       "      <td>153.0</td>\n",
       "      <td>154.0</td>\n",
       "    </tr>\n",
       "    <tr>\n",
       "      <td>4</td>\n",
       "      <td>5</td>\n",
       "      <td>NaN</td>\n",
       "      <td>NaN</td>\n",
       "      <td>NaN</td>\n",
       "      <td>78.0</td>\n",
       "      <td>NaN</td>\n",
       "      <td>NaN</td>\n",
       "      <td>NaN</td>\n",
       "      <td>NaN</td>\n",
       "      <td>NaN</td>\n",
       "      <td>NaN</td>\n",
       "      <td>NaN</td>\n",
       "      <td>203.0</td>\n",
       "      <td>NaN</td>\n",
       "      <td>151.0</td>\n",
       "      <td>152.0</td>\n",
       "    </tr>\n",
       "  </tbody>\n",
       "</table>\n",
       "</div>"
      ],
      "text/plain": [
       "   key  Bulk 1  Bulk 2  Bulk 3  Bulk 4  Bulk 5  Bulk 6  Bulk 7  Bulk 8  \\\n",
       "0    1     NaN     NaN     NaN    43.0     NaN     NaN     NaN     NaN   \n",
       "1    2     NaN     NaN     NaN    73.0     NaN     NaN     NaN     NaN   \n",
       "2    3     NaN     NaN     NaN    34.0     NaN     NaN     NaN     NaN   \n",
       "3    4     NaN     NaN     NaN    81.0     NaN     NaN     NaN     NaN   \n",
       "4    5     NaN     NaN     NaN    78.0     NaN     NaN     NaN     NaN   \n",
       "\n",
       "   Bulk 9  Bulk 10  Bulk 11  Bulk 12  Bulk 13  Bulk 14  Bulk 15  \n",
       "0     NaN      NaN      NaN    206.0      NaN    150.0    154.0  \n",
       "1     NaN      NaN      NaN    206.0      NaN    149.0    154.0  \n",
       "2     NaN      NaN      NaN    205.0      NaN    152.0    153.0  \n",
       "3     NaN      NaN      NaN    207.0      NaN    153.0    154.0  \n",
       "4     NaN      NaN      NaN    203.0      NaN    151.0    152.0  "
      ]
     },
     "execution_count": 12,
     "metadata": {},
     "output_type": "execute_result"
    }
   ],
   "source": [
    "df_bulk.head()"
   ]
  },
  {
   "cell_type": "code",
   "execution_count": 13,
   "metadata": {},
   "outputs": [
    {
     "data": {
      "text/html": [
       "<div>\n",
       "<style scoped>\n",
       "    .dataframe tbody tr th:only-of-type {\n",
       "        vertical-align: middle;\n",
       "    }\n",
       "\n",
       "    .dataframe tbody tr th {\n",
       "        vertical-align: top;\n",
       "    }\n",
       "\n",
       "    .dataframe thead th {\n",
       "        text-align: right;\n",
       "    }\n",
       "</style>\n",
       "<table border=\"1\" class=\"dataframe\">\n",
       "  <thead>\n",
       "    <tr style=\"text-align: right;\">\n",
       "      <th></th>\n",
       "      <th>key</th>\n",
       "      <th>Bulk 1</th>\n",
       "      <th>Bulk 2</th>\n",
       "      <th>Bulk 3</th>\n",
       "      <th>Bulk 4</th>\n",
       "      <th>Bulk 5</th>\n",
       "      <th>Bulk 6</th>\n",
       "      <th>Bulk 7</th>\n",
       "      <th>Bulk 8</th>\n",
       "      <th>Bulk 9</th>\n",
       "      <th>Bulk 10</th>\n",
       "      <th>Bulk 11</th>\n",
       "      <th>Bulk 12</th>\n",
       "      <th>Bulk 13</th>\n",
       "      <th>Bulk 14</th>\n",
       "      <th>Bulk 15</th>\n",
       "    </tr>\n",
       "  </thead>\n",
       "  <tbody>\n",
       "    <tr>\n",
       "      <td>0</td>\n",
       "      <td>1</td>\n",
       "      <td>NaN</td>\n",
       "      <td>NaN</td>\n",
       "      <td>NaN</td>\n",
       "      <td>2019-05-03 11:21:30</td>\n",
       "      <td>NaN</td>\n",
       "      <td>NaN</td>\n",
       "      <td>NaN</td>\n",
       "      <td>NaN</td>\n",
       "      <td>NaN</td>\n",
       "      <td>NaN</td>\n",
       "      <td>NaN</td>\n",
       "      <td>2019-05-03 11:03:52</td>\n",
       "      <td>NaN</td>\n",
       "      <td>2019-05-03 11:03:52</td>\n",
       "      <td>2019-05-03 11:03:52</td>\n",
       "    </tr>\n",
       "    <tr>\n",
       "      <td>1</td>\n",
       "      <td>2</td>\n",
       "      <td>NaN</td>\n",
       "      <td>NaN</td>\n",
       "      <td>NaN</td>\n",
       "      <td>2019-05-03 11:46:38</td>\n",
       "      <td>NaN</td>\n",
       "      <td>NaN</td>\n",
       "      <td>NaN</td>\n",
       "      <td>NaN</td>\n",
       "      <td>NaN</td>\n",
       "      <td>NaN</td>\n",
       "      <td>NaN</td>\n",
       "      <td>2019-05-03 11:40:20</td>\n",
       "      <td>NaN</td>\n",
       "      <td>2019-05-03 11:40:20</td>\n",
       "      <td>2019-05-03 11:40:20</td>\n",
       "    </tr>\n",
       "    <tr>\n",
       "      <td>2</td>\n",
       "      <td>3</td>\n",
       "      <td>NaN</td>\n",
       "      <td>NaN</td>\n",
       "      <td>NaN</td>\n",
       "      <td>2019-05-03 12:31:06</td>\n",
       "      <td>NaN</td>\n",
       "      <td>NaN</td>\n",
       "      <td>NaN</td>\n",
       "      <td>NaN</td>\n",
       "      <td>NaN</td>\n",
       "      <td>NaN</td>\n",
       "      <td>NaN</td>\n",
       "      <td>2019-05-03 12:09:40</td>\n",
       "      <td>NaN</td>\n",
       "      <td>2019-05-03 12:09:40</td>\n",
       "      <td>2019-05-03 12:09:40</td>\n",
       "    </tr>\n",
       "    <tr>\n",
       "      <td>3</td>\n",
       "      <td>4</td>\n",
       "      <td>NaN</td>\n",
       "      <td>NaN</td>\n",
       "      <td>NaN</td>\n",
       "      <td>2019-05-03 12:48:43</td>\n",
       "      <td>NaN</td>\n",
       "      <td>NaN</td>\n",
       "      <td>NaN</td>\n",
       "      <td>NaN</td>\n",
       "      <td>NaN</td>\n",
       "      <td>NaN</td>\n",
       "      <td>NaN</td>\n",
       "      <td>2019-05-03 12:41:24</td>\n",
       "      <td>NaN</td>\n",
       "      <td>2019-05-03 12:41:24</td>\n",
       "      <td>2019-05-03 12:41:24</td>\n",
       "    </tr>\n",
       "    <tr>\n",
       "      <td>4</td>\n",
       "      <td>5</td>\n",
       "      <td>NaN</td>\n",
       "      <td>NaN</td>\n",
       "      <td>NaN</td>\n",
       "      <td>2019-05-03 13:18:50</td>\n",
       "      <td>NaN</td>\n",
       "      <td>NaN</td>\n",
       "      <td>NaN</td>\n",
       "      <td>NaN</td>\n",
       "      <td>NaN</td>\n",
       "      <td>NaN</td>\n",
       "      <td>NaN</td>\n",
       "      <td>2019-05-03 13:12:56</td>\n",
       "      <td>NaN</td>\n",
       "      <td>2019-05-03 13:12:56</td>\n",
       "      <td>2019-05-03 13:12:56</td>\n",
       "    </tr>\n",
       "  </tbody>\n",
       "</table>\n",
       "</div>"
      ],
      "text/plain": [
       "   key Bulk 1 Bulk 2 Bulk 3               Bulk 4 Bulk 5 Bulk 6 Bulk 7 Bulk 8  \\\n",
       "0    1    NaN    NaN    NaN  2019-05-03 11:21:30    NaN    NaN    NaN    NaN   \n",
       "1    2    NaN    NaN    NaN  2019-05-03 11:46:38    NaN    NaN    NaN    NaN   \n",
       "2    3    NaN    NaN    NaN  2019-05-03 12:31:06    NaN    NaN    NaN    NaN   \n",
       "3    4    NaN    NaN    NaN  2019-05-03 12:48:43    NaN    NaN    NaN    NaN   \n",
       "4    5    NaN    NaN    NaN  2019-05-03 13:18:50    NaN    NaN    NaN    NaN   \n",
       "\n",
       "  Bulk 9 Bulk 10 Bulk 11              Bulk 12 Bulk 13              Bulk 14  \\\n",
       "0    NaN     NaN     NaN  2019-05-03 11:03:52     NaN  2019-05-03 11:03:52   \n",
       "1    NaN     NaN     NaN  2019-05-03 11:40:20     NaN  2019-05-03 11:40:20   \n",
       "2    NaN     NaN     NaN  2019-05-03 12:09:40     NaN  2019-05-03 12:09:40   \n",
       "3    NaN     NaN     NaN  2019-05-03 12:41:24     NaN  2019-05-03 12:41:24   \n",
       "4    NaN     NaN     NaN  2019-05-03 13:12:56     NaN  2019-05-03 13:12:56   \n",
       "\n",
       "               Bulk 15  \n",
       "0  2019-05-03 11:03:52  \n",
       "1  2019-05-03 11:40:20  \n",
       "2  2019-05-03 12:09:40  \n",
       "3  2019-05-03 12:41:24  \n",
       "4  2019-05-03 13:12:56  "
      ]
     },
     "execution_count": 13,
     "metadata": {},
     "output_type": "execute_result"
    }
   ],
   "source": [
    "df_bulk_time.head()"
   ]
  },
  {
   "cell_type": "markdown",
   "metadata": {},
   "source": [
    "Видим по данным таблицам следующее:\n",
    "- В обоих таблицах присутсвуют пропуски, но на первый взгляд они совпадают. (Проверим это точно ниже).\n",
    "- Вероятно пропуски тут соответсвуют тому, что материал, соответсвующий этому столбцу просто не добавляли. (Что конечно в рельной жизни необходимо подтвердить у бизнеса). При необходимости в дальнейшем заменим их на 0.\n",
    "- Видим, что данные в этих таблицах агрегированные уже до партий. Это видно также по тому, что время в строках отличается в рамках одной партии - значит 1 строка уже содержит несколько итераций.\n",
    "\n",
    "\n",
    "Проверим что Nan находятся в одинаковых местах. Посмотрим на чило пропусков отдельнов каждой таблице, а также на число пропусков в одинаковых местах. Если они совпадут - значит, все так."
   ]
  },
  {
   "cell_type": "code",
   "execution_count": 14,
   "metadata": {},
   "outputs": [
    {
     "data": {
      "text/plain": [
       "(35776, 35776, 35776)"
      ]
     },
     "execution_count": 14,
     "metadata": {},
     "output_type": "execute_result"
    }
   ],
   "source": [
    "counter_1 = 0\n",
    "counter_2 = 0\n",
    "counter_both = 0\n",
    "\n",
    "#для таблицы с количетствами можно применить функцию isnan из numpy\n",
    "for i in range(1,16):\n",
    "    for j in range(3129):\n",
    "        if np.isnan(df_bulk.iloc[j,i]) == True:\n",
    "            counter_1 += 1\n",
    "\n",
    "#для таблицы с временем isnan из numpy не подойдет (не числовые значения), используем другой не такой компактный метод \n",
    "for i in range(1,16):\n",
    "    for j in range(3129):\n",
    "        if (df_bulk_time.iloc[j,i] == df_bulk_time.iloc[j,i]) == False:\n",
    "            counter_2 += 1\n",
    "            \n",
    "for i in range(1,16):\n",
    "    for j in range(3129):\n",
    "        if np.isnan(df_bulk.iloc[j,i]) == True and (df_bulk_time.iloc[j,i] == df_bulk_time.iloc[j,i]) == False:\n",
    "            counter_both += 1\n",
    "            \n",
    "counter_1, counter_2, counter_both"
   ]
  },
  {
   "cell_type": "markdown",
   "metadata": {},
   "source": [
    "Значение совпали - пропуски в одинаковых местах. Это хорошо. Посмотрим теперь внимательнее на таблицу с объемом сыпучих материалов. Если там неправдоподобные значения. Для этого посмотрим на максимумы, минимумы и др."
   ]
  },
  {
   "cell_type": "code",
   "execution_count": 15,
   "metadata": {},
   "outputs": [
    {
     "data": {
      "text/html": [
       "<div>\n",
       "<style scoped>\n",
       "    .dataframe tbody tr th:only-of-type {\n",
       "        vertical-align: middle;\n",
       "    }\n",
       "\n",
       "    .dataframe tbody tr th {\n",
       "        vertical-align: top;\n",
       "    }\n",
       "\n",
       "    .dataframe thead th {\n",
       "        text-align: right;\n",
       "    }\n",
       "</style>\n",
       "<table border=\"1\" class=\"dataframe\">\n",
       "  <thead>\n",
       "    <tr style=\"text-align: right;\">\n",
       "      <th></th>\n",
       "      <th>count</th>\n",
       "      <th>mean</th>\n",
       "      <th>std</th>\n",
       "      <th>min</th>\n",
       "      <th>25%</th>\n",
       "      <th>50%</th>\n",
       "      <th>75%</th>\n",
       "      <th>max</th>\n",
       "    </tr>\n",
       "  </thead>\n",
       "  <tbody>\n",
       "    <tr>\n",
       "      <td>key</td>\n",
       "      <td>3129.0</td>\n",
       "      <td>1624.383509</td>\n",
       "      <td>933.337642</td>\n",
       "      <td>1.0</td>\n",
       "      <td>816.00</td>\n",
       "      <td>1622.0</td>\n",
       "      <td>2431.00</td>\n",
       "      <td>3241.0</td>\n",
       "    </tr>\n",
       "    <tr>\n",
       "      <td>Bulk 1</td>\n",
       "      <td>252.0</td>\n",
       "      <td>39.242063</td>\n",
       "      <td>18.277654</td>\n",
       "      <td>10.0</td>\n",
       "      <td>27.00</td>\n",
       "      <td>31.0</td>\n",
       "      <td>46.00</td>\n",
       "      <td>185.0</td>\n",
       "    </tr>\n",
       "    <tr>\n",
       "      <td>Bulk 2</td>\n",
       "      <td>22.0</td>\n",
       "      <td>253.045455</td>\n",
       "      <td>21.180578</td>\n",
       "      <td>228.0</td>\n",
       "      <td>242.00</td>\n",
       "      <td>251.5</td>\n",
       "      <td>257.75</td>\n",
       "      <td>325.0</td>\n",
       "    </tr>\n",
       "    <tr>\n",
       "      <td>Bulk 3</td>\n",
       "      <td>1298.0</td>\n",
       "      <td>113.879045</td>\n",
       "      <td>75.483494</td>\n",
       "      <td>6.0</td>\n",
       "      <td>58.00</td>\n",
       "      <td>97.5</td>\n",
       "      <td>152.00</td>\n",
       "      <td>454.0</td>\n",
       "    </tr>\n",
       "    <tr>\n",
       "      <td>Bulk 4</td>\n",
       "      <td>1014.0</td>\n",
       "      <td>104.394477</td>\n",
       "      <td>48.184126</td>\n",
       "      <td>12.0</td>\n",
       "      <td>72.00</td>\n",
       "      <td>102.0</td>\n",
       "      <td>133.00</td>\n",
       "      <td>281.0</td>\n",
       "    </tr>\n",
       "    <tr>\n",
       "      <td>Bulk 5</td>\n",
       "      <td>77.0</td>\n",
       "      <td>107.025974</td>\n",
       "      <td>81.790646</td>\n",
       "      <td>11.0</td>\n",
       "      <td>70.00</td>\n",
       "      <td>86.0</td>\n",
       "      <td>132.00</td>\n",
       "      <td>603.0</td>\n",
       "    </tr>\n",
       "    <tr>\n",
       "      <td>Bulk 6</td>\n",
       "      <td>576.0</td>\n",
       "      <td>118.925347</td>\n",
       "      <td>72.057776</td>\n",
       "      <td>17.0</td>\n",
       "      <td>69.75</td>\n",
       "      <td>100.0</td>\n",
       "      <td>157.00</td>\n",
       "      <td>503.0</td>\n",
       "    </tr>\n",
       "    <tr>\n",
       "      <td>Bulk 7</td>\n",
       "      <td>25.0</td>\n",
       "      <td>305.600000</td>\n",
       "      <td>191.022904</td>\n",
       "      <td>47.0</td>\n",
       "      <td>155.00</td>\n",
       "      <td>298.0</td>\n",
       "      <td>406.00</td>\n",
       "      <td>772.0</td>\n",
       "    </tr>\n",
       "    <tr>\n",
       "      <td>Bulk 8</td>\n",
       "      <td>1.0</td>\n",
       "      <td>49.000000</td>\n",
       "      <td>NaN</td>\n",
       "      <td>49.0</td>\n",
       "      <td>49.00</td>\n",
       "      <td>49.0</td>\n",
       "      <td>49.00</td>\n",
       "      <td>49.0</td>\n",
       "    </tr>\n",
       "    <tr>\n",
       "      <td>Bulk 9</td>\n",
       "      <td>19.0</td>\n",
       "      <td>76.315789</td>\n",
       "      <td>21.720581</td>\n",
       "      <td>63.0</td>\n",
       "      <td>66.00</td>\n",
       "      <td>68.0</td>\n",
       "      <td>70.50</td>\n",
       "      <td>147.0</td>\n",
       "    </tr>\n",
       "    <tr>\n",
       "      <td>Bulk 10</td>\n",
       "      <td>176.0</td>\n",
       "      <td>83.284091</td>\n",
       "      <td>26.060347</td>\n",
       "      <td>24.0</td>\n",
       "      <td>64.00</td>\n",
       "      <td>86.5</td>\n",
       "      <td>102.00</td>\n",
       "      <td>159.0</td>\n",
       "    </tr>\n",
       "    <tr>\n",
       "      <td>Bulk 11</td>\n",
       "      <td>177.0</td>\n",
       "      <td>76.819209</td>\n",
       "      <td>59.655365</td>\n",
       "      <td>8.0</td>\n",
       "      <td>25.00</td>\n",
       "      <td>64.0</td>\n",
       "      <td>106.00</td>\n",
       "      <td>313.0</td>\n",
       "    </tr>\n",
       "    <tr>\n",
       "      <td>Bulk 12</td>\n",
       "      <td>2450.0</td>\n",
       "      <td>260.471020</td>\n",
       "      <td>120.649269</td>\n",
       "      <td>53.0</td>\n",
       "      <td>204.00</td>\n",
       "      <td>208.0</td>\n",
       "      <td>316.00</td>\n",
       "      <td>1849.0</td>\n",
       "    </tr>\n",
       "    <tr>\n",
       "      <td>Bulk 13</td>\n",
       "      <td>18.0</td>\n",
       "      <td>181.111111</td>\n",
       "      <td>46.088009</td>\n",
       "      <td>151.0</td>\n",
       "      <td>153.25</td>\n",
       "      <td>155.5</td>\n",
       "      <td>203.50</td>\n",
       "      <td>305.0</td>\n",
       "    </tr>\n",
       "    <tr>\n",
       "      <td>Bulk 14</td>\n",
       "      <td>2806.0</td>\n",
       "      <td>170.284747</td>\n",
       "      <td>65.868652</td>\n",
       "      <td>16.0</td>\n",
       "      <td>119.00</td>\n",
       "      <td>151.0</td>\n",
       "      <td>205.75</td>\n",
       "      <td>636.0</td>\n",
       "    </tr>\n",
       "    <tr>\n",
       "      <td>Bulk 15</td>\n",
       "      <td>2248.0</td>\n",
       "      <td>160.513345</td>\n",
       "      <td>51.765319</td>\n",
       "      <td>1.0</td>\n",
       "      <td>105.00</td>\n",
       "      <td>160.0</td>\n",
       "      <td>205.00</td>\n",
       "      <td>405.0</td>\n",
       "    </tr>\n",
       "  </tbody>\n",
       "</table>\n",
       "</div>"
      ],
      "text/plain": [
       "          count         mean         std    min     25%     50%      75%  \\\n",
       "key      3129.0  1624.383509  933.337642    1.0  816.00  1622.0  2431.00   \n",
       "Bulk 1    252.0    39.242063   18.277654   10.0   27.00    31.0    46.00   \n",
       "Bulk 2     22.0   253.045455   21.180578  228.0  242.00   251.5   257.75   \n",
       "Bulk 3   1298.0   113.879045   75.483494    6.0   58.00    97.5   152.00   \n",
       "Bulk 4   1014.0   104.394477   48.184126   12.0   72.00   102.0   133.00   \n",
       "Bulk 5     77.0   107.025974   81.790646   11.0   70.00    86.0   132.00   \n",
       "Bulk 6    576.0   118.925347   72.057776   17.0   69.75   100.0   157.00   \n",
       "Bulk 7     25.0   305.600000  191.022904   47.0  155.00   298.0   406.00   \n",
       "Bulk 8      1.0    49.000000         NaN   49.0   49.00    49.0    49.00   \n",
       "Bulk 9     19.0    76.315789   21.720581   63.0   66.00    68.0    70.50   \n",
       "Bulk 10   176.0    83.284091   26.060347   24.0   64.00    86.5   102.00   \n",
       "Bulk 11   177.0    76.819209   59.655365    8.0   25.00    64.0   106.00   \n",
       "Bulk 12  2450.0   260.471020  120.649269   53.0  204.00   208.0   316.00   \n",
       "Bulk 13    18.0   181.111111   46.088009  151.0  153.25   155.5   203.50   \n",
       "Bulk 14  2806.0   170.284747   65.868652   16.0  119.00   151.0   205.75   \n",
       "Bulk 15  2248.0   160.513345   51.765319    1.0  105.00   160.0   205.00   \n",
       "\n",
       "            max  \n",
       "key      3241.0  \n",
       "Bulk 1    185.0  \n",
       "Bulk 2    325.0  \n",
       "Bulk 3    454.0  \n",
       "Bulk 4    281.0  \n",
       "Bulk 5    603.0  \n",
       "Bulk 6    503.0  \n",
       "Bulk 7    772.0  \n",
       "Bulk 8     49.0  \n",
       "Bulk 9    147.0  \n",
       "Bulk 10   159.0  \n",
       "Bulk 11   313.0  \n",
       "Bulk 12  1849.0  \n",
       "Bulk 13   305.0  \n",
       "Bulk 14   636.0  \n",
       "Bulk 15   405.0  "
      ]
     },
     "execution_count": 15,
     "metadata": {},
     "output_type": "execute_result"
    }
   ],
   "source": [
    "df_bulk.describe().T"
   ]
  },
  {
   "cell_type": "markdown",
   "metadata": {},
   "source": [
    "Подозрительный максимум и большое отклонение (больше 100) есть у столбцов: Bulk 7 и Bulk 12.\n",
    "Причем у 7 только 25 партий с добавлением, и вероятно такое отклонение из-за малого числа данных. А вот 12 материал один из самых популярных, и его неправдоподобно большое значение следует внимательно посмотреть."
   ]
  },
  {
   "cell_type": "code",
   "execution_count": 16,
   "metadata": {},
   "outputs": [
    {
     "data": {
      "image/png": "[encoded data removed]",
      "text/plain": [
       "<Figure size 576x360 with 1 Axes>"
      ]
     },
     "metadata": {
      "needs_background": "light"
     },
     "output_type": "display_data"
    }
   ],
   "source": [
    "fig = plt.figure(figsize=(8, 5))\n",
    "plt.title(\"Распределение объема сыпучего вещества 7\", fontweight='bold', size='medium')\n",
    "plt.ylabel(\"Частота, шт\")\n",
    "sns.distplot(a=df_bulk[df_bulk['Bulk 7'].notnull()]['Bulk 7'],kde=True, bins = 25, rug=False, axlabel=\"Объем, м3\")\n",
    "plt.show()"
   ]
  },
  {
   "cell_type": "markdown",
   "metadata": {},
   "source": [
    "Мы сделли число корзин тут = числу партий с этим материалом. Да, видим, что значений немного. Но максимум не так далеко от других значений, в целом некоторые значения встречаются 2-3 раза или 1. В целом неправдоподобных значений не видно. будем считать, что с этим столбцом все хорошо.\n",
    "\n",
    "Посмотрим на 12."
   ]
  },
  {
   "cell_type": "code",
   "execution_count": 17,
   "metadata": {},
   "outputs": [
    {
     "data": {
      "image/png": "[encoded data removed]",
      "text/plain": [
       "<Figure size 576x360 with 1 Axes>"
      ]
     },
     "metadata": {
      "needs_background": "light"
     },
     "output_type": "display_data"
    }
   ],
   "source": [
    "fig = plt.figure(figsize=(8, 5))\n",
    "plt.title(\"Распределение объема сыпучего вещества 12\", fontweight='bold', size='medium')\n",
    "plt.ylabel(\"Частота, шт\")\n",
    "sns.distplot(a=df_bulk[df_bulk['Bulk 12'].notnull()]['Bulk 12'],kde=True, bins=15, rug=False, axlabel=\"Объем, м3\")\n",
    "plt.show()"
   ]
  },
  {
   "cell_type": "markdown",
   "metadata": {},
   "source": [
    "Явно есть неправоподобные большие, которые лежат далеко от других данных. Посмотрим внимательнее на них."
   ]
  },
  {
   "cell_type": "code",
   "execution_count": 18,
   "metadata": {},
   "outputs": [
    {
     "data": {
      "text/html": [
       "<div>\n",
       "<style scoped>\n",
       "    .dataframe tbody tr th:only-of-type {\n",
       "        vertical-align: middle;\n",
       "    }\n",
       "\n",
       "    .dataframe tbody tr th {\n",
       "        vertical-align: top;\n",
       "    }\n",
       "\n",
       "    .dataframe thead th {\n",
       "        text-align: right;\n",
       "    }\n",
       "</style>\n",
       "<table border=\"1\" class=\"dataframe\">\n",
       "  <thead>\n",
       "    <tr style=\"text-align: right;\">\n",
       "      <th></th>\n",
       "      <th>key</th>\n",
       "      <th>Bulk 1</th>\n",
       "      <th>Bulk 2</th>\n",
       "      <th>Bulk 3</th>\n",
       "      <th>Bulk 4</th>\n",
       "      <th>Bulk 5</th>\n",
       "      <th>Bulk 6</th>\n",
       "      <th>Bulk 7</th>\n",
       "      <th>Bulk 8</th>\n",
       "      <th>Bulk 9</th>\n",
       "      <th>Bulk 10</th>\n",
       "      <th>Bulk 11</th>\n",
       "      <th>Bulk 12</th>\n",
       "      <th>Bulk 13</th>\n",
       "      <th>Bulk 14</th>\n",
       "      <th>Bulk 15</th>\n",
       "    </tr>\n",
       "  </thead>\n",
       "  <tbody>\n",
       "    <tr>\n",
       "      <td>303</td>\n",
       "      <td>322</td>\n",
       "      <td>185.0</td>\n",
       "      <td>NaN</td>\n",
       "      <td>101.0</td>\n",
       "      <td>58.0</td>\n",
       "      <td>NaN</td>\n",
       "      <td>NaN</td>\n",
       "      <td>406.0</td>\n",
       "      <td>NaN</td>\n",
       "      <td>NaN</td>\n",
       "      <td>NaN</td>\n",
       "      <td>NaN</td>\n",
       "      <td>1849.0</td>\n",
       "      <td>NaN</td>\n",
       "      <td>636.0</td>\n",
       "      <td>NaN</td>\n",
       "    </tr>\n",
       "  </tbody>\n",
       "</table>\n",
       "</div>"
      ],
      "text/plain": [
       "     key  Bulk 1  Bulk 2  Bulk 3  Bulk 4  Bulk 5  Bulk 6  Bulk 7  Bulk 8  \\\n",
       "303  322   185.0     NaN   101.0    58.0     NaN     NaN   406.0     NaN   \n",
       "\n",
       "     Bulk 9  Bulk 10  Bulk 11  Bulk 12  Bulk 13  Bulk 14  Bulk 15  \n",
       "303     NaN      NaN      NaN   1849.0      NaN    636.0      NaN  "
      ]
     },
     "execution_count": 18,
     "metadata": {},
     "output_type": "execute_result"
    }
   ],
   "source": [
    "df_bulk[df_bulk['Bulk 12'] > 1000]"
   ]
  },
  {
   "cell_type": "markdown",
   "metadata": {},
   "source": [
    "Опять же это всего 1 партия - 322. Запомним ее и исключим при расчетах моделей, согласовав с бизнесом.\n",
    "\n",
    "Посмотрим на данные без нее."
   ]
  },
  {
   "cell_type": "code",
   "execution_count": 19,
   "metadata": {},
   "outputs": [
    {
     "data": {
      "image/png": "[encoded data removed]",
      "text/plain": [
       "<Figure size 576x360 with 1 Axes>"
      ]
     },
     "metadata": {
      "needs_background": "light"
     },
     "output_type": "display_data"
    }
   ],
   "source": [
    "fig = plt.figure(figsize=(8, 5))\n",
    "plt.title(\"Распределение объема сыпучего вещества 12\", fontweight='bold', size='medium')\n",
    "plt.ylabel(\"Частота, шт\")\n",
    "sns.distplot(a=df_bulk[(df_bulk['Bulk 12'].notnull())&(df_bulk['Bulk 12'] < 1000)]['Bulk 12'],\n",
    "             kde=True, bins=15, rug=False, axlabel=\"Объем, м3\")\n",
    "plt.show()"
   ]
  },
  {
   "cell_type": "markdown",
   "metadata": {},
   "source": [
    "Видим 2 пика в 200 м3 и 400 м3, возможно это значения около кратных 200 - возможно это величины \"посуды\", которой подсыпают материал.\n",
    "Видим, что все еще есть хвост около 800, но он уже не выглядит не так неправдоподобно. Пока остаим его, но лучше всего будет обсудить этот график распределния с бизнесом. "
   ]
  },
  {
   "cell_type": "markdown",
   "metadata": {},
   "source": [
    "### Данные о продувке сплава газом, df_gas"
   ]
  },
  {
   "cell_type": "code",
   "execution_count": 20,
   "metadata": {},
   "outputs": [
    {
     "name": "stdout",
     "output_type": "stream",
     "text": [
      "<class 'pandas.core.frame.DataFrame'>\n",
      "RangeIndex: 3239 entries, 0 to 3238\n",
      "Data columns (total 2 columns):\n",
      "key      3239 non-null int64\n",
      "Газ 1    3239 non-null float64\n",
      "dtypes: float64(1), int64(1)\n",
      "memory usage: 50.7 KB\n"
     ]
    }
   ],
   "source": [
    "df_gas.info()"
   ]
  },
  {
   "cell_type": "code",
   "execution_count": 21,
   "metadata": {},
   "outputs": [
    {
     "data": {
      "text/html": [
       "<div>\n",
       "<style scoped>\n",
       "    .dataframe tbody tr th:only-of-type {\n",
       "        vertical-align: middle;\n",
       "    }\n",
       "\n",
       "    .dataframe tbody tr th {\n",
       "        vertical-align: top;\n",
       "    }\n",
       "\n",
       "    .dataframe thead th {\n",
       "        text-align: right;\n",
       "    }\n",
       "</style>\n",
       "<table border=\"1\" class=\"dataframe\">\n",
       "  <thead>\n",
       "    <tr style=\"text-align: right;\">\n",
       "      <th></th>\n",
       "      <th>key</th>\n",
       "      <th>Газ 1</th>\n",
       "    </tr>\n",
       "  </thead>\n",
       "  <tbody>\n",
       "    <tr>\n",
       "      <td>0</td>\n",
       "      <td>1</td>\n",
       "      <td>29.749986</td>\n",
       "    </tr>\n",
       "    <tr>\n",
       "      <td>1</td>\n",
       "      <td>2</td>\n",
       "      <td>12.555561</td>\n",
       "    </tr>\n",
       "    <tr>\n",
       "      <td>2</td>\n",
       "      <td>3</td>\n",
       "      <td>28.554793</td>\n",
       "    </tr>\n",
       "    <tr>\n",
       "      <td>3</td>\n",
       "      <td>4</td>\n",
       "      <td>18.841219</td>\n",
       "    </tr>\n",
       "    <tr>\n",
       "      <td>4</td>\n",
       "      <td>5</td>\n",
       "      <td>5.413692</td>\n",
       "    </tr>\n",
       "  </tbody>\n",
       "</table>\n",
       "</div>"
      ],
      "text/plain": [
       "   key      Газ 1\n",
       "0    1  29.749986\n",
       "1    2  12.555561\n",
       "2    3  28.554793\n",
       "3    4  18.841219\n",
       "4    5   5.413692"
      ]
     },
     "execution_count": 21,
     "metadata": {},
     "output_type": "execute_result"
    }
   ],
   "source": [
    "df_gas.head()"
   ]
  },
  {
   "cell_type": "markdown",
   "metadata": {},
   "source": [
    "Видим, что данные уже агрегированные и пропусков нет. Посмотрим на распределение."
   ]
  },
  {
   "cell_type": "code",
   "execution_count": 22,
   "metadata": {},
   "outputs": [
    {
     "data": {
      "image/png": "[encoded data removed]",
      "text/plain": [
       "<Figure size 576x360 with 1 Axes>"
      ]
     },
     "metadata": {
      "needs_background": "light"
     },
     "output_type": "display_data"
    }
   ],
   "source": [
    "fig = plt.figure(figsize=(8, 5))\n",
    "plt.title(\"Распределение данных по продувке газом\", fontweight='bold', size='medium')\n",
    "plt.ylabel(\"Частота, шт\")\n",
    "sns.distplot(a=df_gas['Газ 1'],kde=True, rug=False, axlabel=\"Объем, м3\")\n",
    "plt.show()"
   ]
  },
  {
   "cell_type": "markdown",
   "metadata": {},
   "source": [
    "Неправдоподобных пиков нет. Посмотрим на максимум дополнительно."
   ]
  },
  {
   "cell_type": "code",
   "execution_count": 23,
   "metadata": {},
   "outputs": [
    {
     "data": {
      "text/html": [
       "<div>\n",
       "<style scoped>\n",
       "    .dataframe tbody tr th:only-of-type {\n",
       "        vertical-align: middle;\n",
       "    }\n",
       "\n",
       "    .dataframe tbody tr th {\n",
       "        vertical-align: top;\n",
       "    }\n",
       "\n",
       "    .dataframe thead th {\n",
       "        text-align: right;\n",
       "    }\n",
       "</style>\n",
       "<table border=\"1\" class=\"dataframe\">\n",
       "  <thead>\n",
       "    <tr style=\"text-align: right;\">\n",
       "      <th></th>\n",
       "      <th>key</th>\n",
       "      <th>Газ 1</th>\n",
       "    </tr>\n",
       "  </thead>\n",
       "  <tbody>\n",
       "    <tr>\n",
       "      <td>116</td>\n",
       "      <td>117</td>\n",
       "      <td>50.581035</td>\n",
       "    </tr>\n",
       "    <tr>\n",
       "      <td>277</td>\n",
       "      <td>280</td>\n",
       "      <td>60.935689</td>\n",
       "    </tr>\n",
       "    <tr>\n",
       "      <td>319</td>\n",
       "      <td>322</td>\n",
       "      <td>77.995040</td>\n",
       "    </tr>\n",
       "    <tr>\n",
       "      <td>2107</td>\n",
       "      <td>2110</td>\n",
       "      <td>52.142373</td>\n",
       "    </tr>\n",
       "    <tr>\n",
       "      <td>2567</td>\n",
       "      <td>2570</td>\n",
       "      <td>51.380229</td>\n",
       "    </tr>\n",
       "  </tbody>\n",
       "</table>\n",
       "</div>"
      ],
      "text/plain": [
       "       key      Газ 1\n",
       "116    117  50.581035\n",
       "277    280  60.935689\n",
       "319    322  77.995040\n",
       "2107  2110  52.142373\n",
       "2567  2570  51.380229"
      ]
     },
     "execution_count": 23,
     "metadata": {},
     "output_type": "execute_result"
    }
   ],
   "source": [
    "df_gas[df_gas['Газ 1'] > 50]"
   ]
  },
  {
   "cell_type": "markdown",
   "metadata": {},
   "source": [
    "Видим, что в максимум попала опять партия 322, которая уже вызывала у нас сомнения. Ее мы удалим, а другие значения оставим."
   ]
  },
  {
   "cell_type": "markdown",
   "metadata": {},
   "source": [
    "### Результаты измерения температуры, df_temp"
   ]
  },
  {
   "cell_type": "code",
   "execution_count": 24,
   "metadata": {},
   "outputs": [
    {
     "name": "stdout",
     "output_type": "stream",
     "text": [
      "<class 'pandas.core.frame.DataFrame'>\n",
      "RangeIndex: 15907 entries, 0 to 15906\n",
      "Data columns (total 3 columns):\n",
      "key             15907 non-null int64\n",
      "Время замера    15907 non-null object\n",
      "Температура     13006 non-null float64\n",
      "dtypes: float64(1), int64(1), object(1)\n",
      "memory usage: 372.9+ KB\n"
     ]
    }
   ],
   "source": [
    "df_temp.info()"
   ]
  },
  {
   "cell_type": "code",
   "execution_count": 25,
   "metadata": {},
   "outputs": [
    {
     "data": {
      "text/html": [
       "<div>\n",
       "<style scoped>\n",
       "    .dataframe tbody tr th:only-of-type {\n",
       "        vertical-align: middle;\n",
       "    }\n",
       "\n",
       "    .dataframe tbody tr th {\n",
       "        vertical-align: top;\n",
       "    }\n",
       "\n",
       "    .dataframe thead th {\n",
       "        text-align: right;\n",
       "    }\n",
       "</style>\n",
       "<table border=\"1\" class=\"dataframe\">\n",
       "  <thead>\n",
       "    <tr style=\"text-align: right;\">\n",
       "      <th></th>\n",
       "      <th>key</th>\n",
       "      <th>Время замера</th>\n",
       "      <th>Температура</th>\n",
       "    </tr>\n",
       "  </thead>\n",
       "  <tbody>\n",
       "    <tr>\n",
       "      <td>0</td>\n",
       "      <td>1</td>\n",
       "      <td>2019-05-03 11:16:18</td>\n",
       "      <td>1571.0</td>\n",
       "    </tr>\n",
       "    <tr>\n",
       "      <td>1</td>\n",
       "      <td>1</td>\n",
       "      <td>2019-05-03 11:25:53</td>\n",
       "      <td>1604.0</td>\n",
       "    </tr>\n",
       "    <tr>\n",
       "      <td>2</td>\n",
       "      <td>1</td>\n",
       "      <td>2019-05-03 11:29:11</td>\n",
       "      <td>1618.0</td>\n",
       "    </tr>\n",
       "    <tr>\n",
       "      <td>3</td>\n",
       "      <td>1</td>\n",
       "      <td>2019-05-03 11:30:01</td>\n",
       "      <td>1601.0</td>\n",
       "    </tr>\n",
       "    <tr>\n",
       "      <td>4</td>\n",
       "      <td>1</td>\n",
       "      <td>2019-05-03 11:30:39</td>\n",
       "      <td>1613.0</td>\n",
       "    </tr>\n",
       "    <tr>\n",
       "      <td>5</td>\n",
       "      <td>2</td>\n",
       "      <td>2019-05-03 11:37:27</td>\n",
       "      <td>1581.0</td>\n",
       "    </tr>\n",
       "    <tr>\n",
       "      <td>6</td>\n",
       "      <td>2</td>\n",
       "      <td>2019-05-03 11:38:00</td>\n",
       "      <td>1577.0</td>\n",
       "    </tr>\n",
       "    <tr>\n",
       "      <td>7</td>\n",
       "      <td>2</td>\n",
       "      <td>2019-05-03 11:49:38</td>\n",
       "      <td>1589.0</td>\n",
       "    </tr>\n",
       "    <tr>\n",
       "      <td>8</td>\n",
       "      <td>2</td>\n",
       "      <td>2019-05-03 11:55:50</td>\n",
       "      <td>1604.0</td>\n",
       "    </tr>\n",
       "    <tr>\n",
       "      <td>9</td>\n",
       "      <td>2</td>\n",
       "      <td>2019-05-03 11:58:24</td>\n",
       "      <td>1608.0</td>\n",
       "    </tr>\n",
       "  </tbody>\n",
       "</table>\n",
       "</div>"
      ],
      "text/plain": [
       "   key         Время замера  Температура\n",
       "0    1  2019-05-03 11:16:18       1571.0\n",
       "1    1  2019-05-03 11:25:53       1604.0\n",
       "2    1  2019-05-03 11:29:11       1618.0\n",
       "3    1  2019-05-03 11:30:01       1601.0\n",
       "4    1  2019-05-03 11:30:39       1613.0\n",
       "5    2  2019-05-03 11:37:27       1581.0\n",
       "6    2  2019-05-03 11:38:00       1577.0\n",
       "7    2  2019-05-03 11:49:38       1589.0\n",
       "8    2  2019-05-03 11:55:50       1604.0\n",
       "9    2  2019-05-03 11:58:24       1608.0"
      ]
     },
     "execution_count": 25,
     "metadata": {},
     "output_type": "execute_result"
    }
   ],
   "source": [
    "df_temp.head(10)"
   ]
  },
  {
   "cell_type": "markdown",
   "metadata": {},
   "source": [
    "Данные не агрегированны до партий, видим замеры температуры на разных шагах.\n",
    "\n",
    "Видим, что есть пропуски, около 3 тыс в значениях с температурой. Посмотрим сколько это уникальных партий. И сколько это относительно всех партий."
   ]
  },
  {
   "cell_type": "code",
   "execution_count": 26,
   "metadata": {},
   "outputs": [
    {
     "data": {
      "text/plain": [
       "(3216, 739)"
      ]
     },
     "execution_count": 26,
     "metadata": {},
     "output_type": "execute_result"
    }
   ],
   "source": [
    "len(df_temp['key'].unique()), len(df_temp[df_temp['Температура'].isnull()]['key'].unique())"
   ]
  },
  {
   "cell_type": "markdown",
   "metadata": {},
   "source": [
    "У около 23% отсутвует значение температуры на ком-то из этапов. Посмотрим, что это за партии."
   ]
  },
  {
   "cell_type": "code",
   "execution_count": 27,
   "metadata": {
    "scrolled": true
   },
   "outputs": [
    {
     "data": {
      "text/plain": [
       "array([2500, 2501, 2502, 2503, 2504, 2505, 2506, 2507, 2508, 2509, 2510,\n",
       "       2511, 2512, 2513, 2514, 2515, 2516, 2517, 2518, 2519, 2520, 2521,\n",
       "       2522, 2523, 2524, 2525, 2526, 2527, 2528, 2529, 2530, 2531, 2532,\n",
       "       2533, 2534, 2535, 2536, 2537, 2538, 2539, 2540, 2541, 2542, 2543,\n",
       "       2544, 2545, 2546, 2547, 2548, 2549, 2550, 2551, 2552, 2553, 2554,\n",
       "       2555, 2556, 2557, 2558, 2559, 2560, 2561, 2562, 2563, 2564, 2565,\n",
       "       2566, 2567, 2568, 2569, 2570, 2571, 2572, 2573, 2574, 2575, 2576,\n",
       "       2577, 2578, 2579, 2580, 2581, 2582, 2583, 2584, 2585, 2586, 2587,\n",
       "       2588, 2589, 2590, 2591, 2592, 2593, 2594, 2595, 2596, 2597, 2598,\n",
       "       2599, 2600, 2601, 2602, 2603, 2604, 2605, 2606, 2607, 2608, 2609,\n",
       "       2610, 2611, 2612, 2613, 2614, 2615, 2616, 2617, 2618, 2619, 2620,\n",
       "       2621, 2622, 2623, 2624, 2625, 2626, 2627, 2628, 2629, 2630, 2631,\n",
       "       2632, 2633, 2634, 2635, 2636, 2637, 2638, 2639, 2640, 2641, 2642,\n",
       "       2643, 2644, 2645, 2646, 2647, 2648, 2649, 2650, 2651, 2652, 2653,\n",
       "       2654, 2655, 2656, 2657, 2658, 2659, 2660, 2661, 2662, 2663, 2664,\n",
       "       2665, 2666, 2667, 2668, 2669, 2670, 2671, 2672, 2673, 2674, 2675,\n",
       "       2676, 2677, 2678, 2679, 2680, 2681, 2682, 2684, 2685, 2686, 2687,\n",
       "       2688, 2689, 2690, 2691, 2692, 2693, 2694, 2695, 2696, 2697, 2698,\n",
       "       2699, 2700, 2701, 2702, 2703, 2704, 2705, 2706, 2707, 2708, 2709,\n",
       "       2710, 2711, 2712, 2713, 2714, 2715, 2716, 2717, 2718, 2719, 2720,\n",
       "       2721, 2722, 2723, 2724, 2725, 2726, 2727, 2728, 2729, 2730, 2731,\n",
       "       2732, 2733, 2734, 2735, 2736, 2737, 2738, 2739, 2740, 2741, 2742,\n",
       "       2743, 2744, 2745, 2746, 2747, 2748, 2749, 2750, 2751, 2752, 2753,\n",
       "       2754, 2755, 2756, 2757, 2758, 2759, 2760, 2761, 2762, 2763, 2764,\n",
       "       2765, 2766, 2767, 2768, 2769, 2770, 2771, 2772, 2773, 2774, 2775,\n",
       "       2776, 2777, 2778, 2779, 2780, 2781, 2782, 2783, 2784, 2785, 2786,\n",
       "       2787, 2788, 2789, 2790, 2791, 2792, 2793, 2794, 2795, 2796, 2797,\n",
       "       2798, 2799, 2800, 2801, 2802, 2803, 2804, 2805, 2806, 2807, 2808,\n",
       "       2809, 2810, 2811, 2812, 2813, 2814, 2815, 2816, 2817, 2818, 2819,\n",
       "       2820, 2821, 2822, 2823, 2824, 2825, 2826, 2827, 2828, 2829, 2830,\n",
       "       2831, 2832, 2833, 2834, 2835, 2836, 2837, 2838, 2839, 2840, 2841,\n",
       "       2842, 2843, 2844, 2845, 2846, 2847, 2848, 2849, 2850, 2851, 2852,\n",
       "       2853, 2854, 2855, 2856, 2857, 2858, 2859, 2860, 2861, 2862, 2863,\n",
       "       2864, 2865, 2866, 2867, 2868, 2869, 2870, 2871, 2872, 2873, 2874,\n",
       "       2875, 2876, 2877, 2878, 2879, 2880, 2881, 2882, 2883, 2884, 2885,\n",
       "       2886, 2887, 2888, 2889, 2890, 2891, 2892, 2893, 2894, 2895, 2896,\n",
       "       2897, 2898, 2899, 2900, 2901, 2902, 2903, 2904, 2905, 2906, 2907,\n",
       "       2908, 2909, 2910, 2911, 2912, 2913, 2914, 2915, 2916, 2917, 2918,\n",
       "       2919, 2920, 2921, 2922, 2923, 2924, 2925, 2926, 2927, 2928, 2929,\n",
       "       2930, 2931, 2932, 2933, 2934, 2935, 2936, 2937, 2938, 2939, 2940,\n",
       "       2941, 2942, 2943, 2944, 2945, 2946, 2947, 2948, 2949, 2950, 2951,\n",
       "       2952, 2953, 2954, 2955, 2956, 2957, 2958, 2959, 2960, 2961, 2962,\n",
       "       2963, 2964, 2965, 2966, 2967, 2968, 2969, 2970, 2971, 2972, 2973,\n",
       "       2974, 2975, 2976, 2977, 2978, 2979, 2980, 2981, 2982, 2983, 2984,\n",
       "       2985, 2986, 2987, 2988, 2989, 2990, 2991, 2992, 2993, 2994, 2995,\n",
       "       2996, 2997, 2998, 2999, 3000, 3001, 3002, 3003, 3004, 3005, 3006,\n",
       "       3007, 3008, 3009, 3010, 3011, 3012, 3013, 3014, 3015, 3016, 3017,\n",
       "       3018, 3019, 3020, 3021, 3022, 3023, 3024, 3025, 3026, 3027, 3028,\n",
       "       3029, 3030, 3031, 3032, 3033, 3034, 3035, 3036, 3037, 3038, 3039,\n",
       "       3040, 3041, 3042, 3043, 3044, 3045, 3046, 3047, 3048, 3049, 3050,\n",
       "       3051, 3052, 3053, 3054, 3055, 3056, 3057, 3058, 3059, 3060, 3061,\n",
       "       3062, 3063, 3064, 3065, 3066, 3067, 3068, 3069, 3070, 3071, 3072,\n",
       "       3073, 3074, 3075, 3076, 3077, 3078, 3079, 3080, 3081, 3082, 3083,\n",
       "       3084, 3085, 3086, 3087, 3088, 3089, 3090, 3091, 3092, 3093, 3094,\n",
       "       3095, 3096, 3097, 3098, 3099, 3100, 3101, 3102, 3103, 3104, 3105,\n",
       "       3106, 3107, 3108, 3109, 3110, 3111, 3112, 3113, 3114, 3115, 3116,\n",
       "       3117, 3118, 3119, 3120, 3121, 3122, 3123, 3124, 3125, 3126, 3127,\n",
       "       3128, 3129, 3130, 3131, 3132, 3133, 3134, 3135, 3136, 3137, 3138,\n",
       "       3139, 3140, 3141, 3142, 3143, 3144, 3145, 3146, 3147, 3148, 3149,\n",
       "       3150, 3151, 3152, 3153, 3154, 3155, 3156, 3157, 3158, 3159, 3160,\n",
       "       3161, 3162, 3163, 3164, 3165, 3166, 3167, 3168, 3169, 3170, 3171,\n",
       "       3172, 3173, 3174, 3175, 3176, 3177, 3178, 3179, 3180, 3181, 3182,\n",
       "       3183, 3184, 3185, 3186, 3187, 3188, 3189, 3190, 3191, 3192, 3193,\n",
       "       3194, 3195, 3196, 3197, 3198, 3199, 3201, 3202, 3203, 3204, 3205,\n",
       "       3206, 3208, 3209, 3210, 3211, 3212, 3213, 3214, 3215, 3216, 3217,\n",
       "       3218, 3219, 3220, 3221, 3222, 3223, 3224, 3225, 3226, 3227, 3228,\n",
       "       3229, 3230, 3231, 3232, 3233, 3234, 3235, 3236, 3237, 3238, 3239,\n",
       "       3240, 3241])"
      ]
     },
     "execution_count": 27,
     "metadata": {},
     "output_type": "execute_result"
    }
   ],
   "source": [
    "df_temp[df_temp['Температура'].isnull()]['key'].unique()"
   ]
  },
  {
   "cell_type": "markdown",
   "metadata": {},
   "source": [
    "Это все партии с номером после 2500 - возможно начиная с этой партии возникла тех. ошибка. Или эти партии при сборе данных еще были в работе и данных по замерам нет из-за этого.\n",
    "\n",
    "\n",
    "Для нашей моели самый важный фактов - изначальная температура и конечная (целевой признак). Температурой на других этапах можно пренебречь, более того - это излишняя информация для прогнозирования, так как это уже утечка целевого признака, который мы предсказываем.\n",
    "\n",
    "Давайте найдем партии, где нет начальной или конечной температуры. Для этого для каждый партии вычислим первый и последний замер, и добавим метку об этом в таблицу с температурой."
   ]
  },
  {
   "cell_type": "code",
   "execution_count": 28,
   "metadata": {},
   "outputs": [],
   "source": [
    "key_info = (df_temp.pivot_table(index='key', values='Время замера', aggfunc=[min, max])\n",
    "             .reset_index()\n",
    "            )\n",
    "\n",
    "key_info.columns = ['key', 'Замер температуры первый','Замер температуры последний']"
   ]
  },
  {
   "cell_type": "code",
   "execution_count": 29,
   "metadata": {},
   "outputs": [
    {
     "data": {
      "text/html": [
       "<div>\n",
       "<style scoped>\n",
       "    .dataframe tbody tr th:only-of-type {\n",
       "        vertical-align: middle;\n",
       "    }\n",
       "\n",
       "    .dataframe tbody tr th {\n",
       "        vertical-align: top;\n",
       "    }\n",
       "\n",
       "    .dataframe thead th {\n",
       "        text-align: right;\n",
       "    }\n",
       "</style>\n",
       "<table border=\"1\" class=\"dataframe\">\n",
       "  <thead>\n",
       "    <tr style=\"text-align: right;\">\n",
       "      <th></th>\n",
       "      <th>key</th>\n",
       "      <th>Замер температуры первый</th>\n",
       "      <th>Замер температуры последний</th>\n",
       "    </tr>\n",
       "  </thead>\n",
       "  <tbody>\n",
       "    <tr>\n",
       "      <td>0</td>\n",
       "      <td>1</td>\n",
       "      <td>2019-05-03 11:16:18</td>\n",
       "      <td>2019-05-03 11:30:39</td>\n",
       "    </tr>\n",
       "    <tr>\n",
       "      <td>1</td>\n",
       "      <td>2</td>\n",
       "      <td>2019-05-03 11:37:27</td>\n",
       "      <td>2019-05-03 11:59:12</td>\n",
       "    </tr>\n",
       "    <tr>\n",
       "      <td>2</td>\n",
       "      <td>3</td>\n",
       "      <td>2019-05-03 12:13:17</td>\n",
       "      <td>2019-05-03 12:34:57</td>\n",
       "    </tr>\n",
       "    <tr>\n",
       "      <td>3</td>\n",
       "      <td>4</td>\n",
       "      <td>2019-05-03 12:52:57</td>\n",
       "      <td>2019-05-03 12:59:25</td>\n",
       "    </tr>\n",
       "    <tr>\n",
       "      <td>4</td>\n",
       "      <td>5</td>\n",
       "      <td>2019-05-03 13:23:19</td>\n",
       "      <td>2019-05-03 13:36:01</td>\n",
       "    </tr>\n",
       "  </tbody>\n",
       "</table>\n",
       "</div>"
      ],
      "text/plain": [
       "   key Замер температуры первый Замер температуры последний\n",
       "0    1      2019-05-03 11:16:18         2019-05-03 11:30:39\n",
       "1    2      2019-05-03 11:37:27         2019-05-03 11:59:12\n",
       "2    3      2019-05-03 12:13:17         2019-05-03 12:34:57\n",
       "3    4      2019-05-03 12:52:57         2019-05-03 12:59:25\n",
       "4    5      2019-05-03 13:23:19         2019-05-03 13:36:01"
      ]
     },
     "execution_count": 29,
     "metadata": {},
     "output_type": "execute_result"
    }
   ],
   "source": [
    "key_info.head()"
   ]
  },
  {
   "cell_type": "code",
   "execution_count": 30,
   "metadata": {},
   "outputs": [
    {
     "data": {
      "text/html": [
       "<div>\n",
       "<style scoped>\n",
       "    .dataframe tbody tr th:only-of-type {\n",
       "        vertical-align: middle;\n",
       "    }\n",
       "\n",
       "    .dataframe tbody tr th {\n",
       "        vertical-align: top;\n",
       "    }\n",
       "\n",
       "    .dataframe thead th {\n",
       "        text-align: right;\n",
       "    }\n",
       "</style>\n",
       "<table border=\"1\" class=\"dataframe\">\n",
       "  <thead>\n",
       "    <tr style=\"text-align: right;\">\n",
       "      <th></th>\n",
       "      <th>key</th>\n",
       "      <th>Время замера</th>\n",
       "      <th>Температура</th>\n",
       "      <th>Замер температуры первый</th>\n",
       "      <th>Замер температуры последний</th>\n",
       "    </tr>\n",
       "  </thead>\n",
       "  <tbody>\n",
       "    <tr>\n",
       "      <td>0</td>\n",
       "      <td>1</td>\n",
       "      <td>2019-05-03 11:16:18</td>\n",
       "      <td>1571.0</td>\n",
       "      <td>2019-05-03 11:16:18</td>\n",
       "      <td>2019-05-03 11:30:39</td>\n",
       "    </tr>\n",
       "    <tr>\n",
       "      <td>1</td>\n",
       "      <td>1</td>\n",
       "      <td>2019-05-03 11:25:53</td>\n",
       "      <td>1604.0</td>\n",
       "      <td>2019-05-03 11:16:18</td>\n",
       "      <td>2019-05-03 11:30:39</td>\n",
       "    </tr>\n",
       "    <tr>\n",
       "      <td>2</td>\n",
       "      <td>1</td>\n",
       "      <td>2019-05-03 11:29:11</td>\n",
       "      <td>1618.0</td>\n",
       "      <td>2019-05-03 11:16:18</td>\n",
       "      <td>2019-05-03 11:30:39</td>\n",
       "    </tr>\n",
       "    <tr>\n",
       "      <td>3</td>\n",
       "      <td>1</td>\n",
       "      <td>2019-05-03 11:30:01</td>\n",
       "      <td>1601.0</td>\n",
       "      <td>2019-05-03 11:16:18</td>\n",
       "      <td>2019-05-03 11:30:39</td>\n",
       "    </tr>\n",
       "    <tr>\n",
       "      <td>4</td>\n",
       "      <td>1</td>\n",
       "      <td>2019-05-03 11:30:39</td>\n",
       "      <td>1613.0</td>\n",
       "      <td>2019-05-03 11:16:18</td>\n",
       "      <td>2019-05-03 11:30:39</td>\n",
       "    </tr>\n",
       "  </tbody>\n",
       "</table>\n",
       "</div>"
      ],
      "text/plain": [
       "   key         Время замера  Температура Замер температуры первый  \\\n",
       "0    1  2019-05-03 11:16:18       1571.0      2019-05-03 11:16:18   \n",
       "1    1  2019-05-03 11:25:53       1604.0      2019-05-03 11:16:18   \n",
       "2    1  2019-05-03 11:29:11       1618.0      2019-05-03 11:16:18   \n",
       "3    1  2019-05-03 11:30:01       1601.0      2019-05-03 11:16:18   \n",
       "4    1  2019-05-03 11:30:39       1613.0      2019-05-03 11:16:18   \n",
       "\n",
       "  Замер температуры последний  \n",
       "0         2019-05-03 11:30:39  \n",
       "1         2019-05-03 11:30:39  \n",
       "2         2019-05-03 11:30:39  \n",
       "3         2019-05-03 11:30:39  \n",
       "4         2019-05-03 11:30:39  "
      ]
     },
     "execution_count": 30,
     "metadata": {},
     "output_type": "execute_result"
    }
   ],
   "source": [
    "df_temp = pd.merge(df_temp, key_info, how='outer')\n",
    "df_temp.head()"
   ]
  },
  {
   "cell_type": "markdown",
   "metadata": {},
   "source": [
    "Добавили информацию по первому замеру для партии. Посмотрим теперь сколько партий, к которых нет информации по первому или последнему. Всего у нас было 739 пропусков температуры из 3216 партий."
   ]
  },
  {
   "cell_type": "code",
   "execution_count": 31,
   "metadata": {},
   "outputs": [
    {
     "data": {
      "text/plain": [
       "0"
      ]
     },
     "execution_count": 31,
     "metadata": {},
     "output_type": "execute_result"
    }
   ],
   "source": [
    "len(df_temp[(df_temp['Время замера']==df_temp['Замер температуры первый'])&(\n",
    "    df_temp['Температура'].isnull())]['key'].unique())"
   ]
  },
  {
   "cell_type": "code",
   "execution_count": 32,
   "metadata": {},
   "outputs": [
    {
     "data": {
      "text/plain": [
       "739"
      ]
     },
     "execution_count": 32,
     "metadata": {},
     "output_type": "execute_result"
    }
   ],
   "source": [
    "len(df_temp[(df_temp['Время замера']==df_temp['Замер температуры последний'])&(\n",
    "    df_temp['Температура'].isnull())]['key'].unique())"
   ]
  },
  {
   "cell_type": "markdown",
   "metadata": {},
   "source": [
    "Видим, что у всех партий с пропусков пропущен последний замер. Да, вероятно по этим последним партиям просто рано мигрировали данные, пока замеры по последним этапам еще производились или прогружались.\n",
    "\n",
    "Сообщим об этом, но для модели удалим.\n",
    "\n",
    "Посмотри также на распределния температур."
   ]
  },
  {
   "cell_type": "code",
   "execution_count": 33,
   "metadata": {},
   "outputs": [
    {
     "data": {
      "image/png": "[encoded data removed]",
      "text/plain": [
       "<Figure size 576x360 with 1 Axes>"
      ]
     },
     "metadata": {
      "needs_background": "light"
     },
     "output_type": "display_data"
    }
   ],
   "source": [
    "fig = plt.figure(figsize=(8, 5))\n",
    "plt.title(\"Распределение данных по температуре\", fontweight='bold', size='medium')\n",
    "plt.ylabel(\"Частота, шт\")\n",
    "sns.distplot(a=df_temp[df_temp['Температура'].notnull()]['Температура'],kde=True, rug=False, axlabel=\"Температура, градус\")\n",
    "plt.show()"
   ]
  },
  {
   "cell_type": "markdown",
   "metadata": {},
   "source": [
    "Видим длинный хвост около 1200."
   ]
  },
  {
   "cell_type": "code",
   "execution_count": 34,
   "metadata": {},
   "outputs": [
    {
     "data": {
      "text/html": [
       "<div>\n",
       "<style scoped>\n",
       "    .dataframe tbody tr th:only-of-type {\n",
       "        vertical-align: middle;\n",
       "    }\n",
       "\n",
       "    .dataframe tbody tr th {\n",
       "        vertical-align: top;\n",
       "    }\n",
       "\n",
       "    .dataframe thead th {\n",
       "        text-align: right;\n",
       "    }\n",
       "</style>\n",
       "<table border=\"1\" class=\"dataframe\">\n",
       "  <thead>\n",
       "    <tr style=\"text-align: right;\">\n",
       "      <th></th>\n",
       "      <th>key</th>\n",
       "      <th>Время замера</th>\n",
       "      <th>Температура</th>\n",
       "      <th>Замер температуры первый</th>\n",
       "      <th>Замер температуры последний</th>\n",
       "    </tr>\n",
       "  </thead>\n",
       "  <tbody>\n",
       "    <tr>\n",
       "      <td>4350</td>\n",
       "      <td>867</td>\n",
       "      <td>2019-06-04 14:21:00</td>\n",
       "      <td>1191.0</td>\n",
       "      <td>2019-06-04 14:21:00</td>\n",
       "      <td>2019-06-04 14:57:17</td>\n",
       "    </tr>\n",
       "    <tr>\n",
       "      <td>5978</td>\n",
       "      <td>1214</td>\n",
       "      <td>2019-06-16 05:32:00</td>\n",
       "      <td>1208.0</td>\n",
       "      <td>2019-06-16 05:32:00</td>\n",
       "      <td>2019-06-16 06:14:45</td>\n",
       "    </tr>\n",
       "    <tr>\n",
       "      <td>7958</td>\n",
       "      <td>1619</td>\n",
       "      <td>2019-06-30 11:03:54</td>\n",
       "      <td>1218.0</td>\n",
       "      <td>2019-06-30 11:03:54</td>\n",
       "      <td>2019-06-30 11:21:54</td>\n",
       "    </tr>\n",
       "    <tr>\n",
       "      <td>8913</td>\n",
       "      <td>1818</td>\n",
       "      <td>2019-07-07 00:30:49</td>\n",
       "      <td>1383.0</td>\n",
       "      <td>2019-07-07 00:00:14</td>\n",
       "      <td>2019-07-07 00:38:50</td>\n",
       "    </tr>\n",
       "    <tr>\n",
       "      <td>8914</td>\n",
       "      <td>1818</td>\n",
       "      <td>2019-07-07 00:31:40</td>\n",
       "      <td>1383.0</td>\n",
       "      <td>2019-07-07 00:00:14</td>\n",
       "      <td>2019-07-07 00:38:50</td>\n",
       "    </tr>\n",
       "    <tr>\n",
       "      <td>10127</td>\n",
       "      <td>2052</td>\n",
       "      <td>2019-07-21 14:51:40</td>\n",
       "      <td>1227.0</td>\n",
       "      <td>2019-07-21 14:51:40</td>\n",
       "      <td>2019-07-21 15:24:06</td>\n",
       "    </tr>\n",
       "    <tr>\n",
       "      <td>12564</td>\n",
       "      <td>2561</td>\n",
       "      <td>2019-08-08 07:34:15</td>\n",
       "      <td>1204.0</td>\n",
       "      <td>2019-08-08 07:34:15</td>\n",
       "      <td>2019-08-08 07:56:57</td>\n",
       "    </tr>\n",
       "  </tbody>\n",
       "</table>\n",
       "</div>"
      ],
      "text/plain": [
       "        key         Время замера  Температура Замер температуры первый  \\\n",
       "4350    867  2019-06-04 14:21:00       1191.0      2019-06-04 14:21:00   \n",
       "5978   1214  2019-06-16 05:32:00       1208.0      2019-06-16 05:32:00   \n",
       "7958   1619  2019-06-30 11:03:54       1218.0      2019-06-30 11:03:54   \n",
       "8913   1818  2019-07-07 00:30:49       1383.0      2019-07-07 00:00:14   \n",
       "8914   1818  2019-07-07 00:31:40       1383.0      2019-07-07 00:00:14   \n",
       "10127  2052  2019-07-21 14:51:40       1227.0      2019-07-21 14:51:40   \n",
       "12564  2561  2019-08-08 07:34:15       1204.0      2019-08-08 07:34:15   \n",
       "\n",
       "      Замер температуры последний  \n",
       "4350          2019-06-04 14:57:17  \n",
       "5978          2019-06-16 06:14:45  \n",
       "7958          2019-06-30 11:21:54  \n",
       "8913          2019-07-07 00:38:50  \n",
       "8914          2019-07-07 00:38:50  \n",
       "10127         2019-07-21 15:24:06  \n",
       "12564         2019-08-08 07:56:57  "
      ]
     },
     "execution_count": 34,
     "metadata": {},
     "output_type": "execute_result"
    }
   ],
   "source": [
    "df_temp[df_temp['Температура'] < 1500]"
   ]
  },
  {
   "cell_type": "markdown",
   "metadata": {},
   "source": [
    "Всего 7 значений (и 6 уникальных партий), либо это ошибка в замерах, либо редкий случай в производстве, который нужно уточнить у бизнеса.\n",
    "\n",
    "Эти данные до выяснения причин лучше удалить."
   ]
  },
  {
   "cell_type": "markdown",
   "metadata": {},
   "source": [
    "### Данные о проволочных материалах (объём  и время), df_wire и df_wire_time"
   ]
  },
  {
   "cell_type": "code",
   "execution_count": 35,
   "metadata": {},
   "outputs": [
    {
     "name": "stdout",
     "output_type": "stream",
     "text": [
      "<class 'pandas.core.frame.DataFrame'>\n",
      "RangeIndex: 3081 entries, 0 to 3080\n",
      "Data columns (total 10 columns):\n",
      "key       3081 non-null int64\n",
      "Wire 1    3055 non-null float64\n",
      "Wire 2    1079 non-null float64\n",
      "Wire 3    63 non-null float64\n",
      "Wire 4    14 non-null float64\n",
      "Wire 5    1 non-null float64\n",
      "Wire 6    73 non-null float64\n",
      "Wire 7    11 non-null float64\n",
      "Wire 8    19 non-null float64\n",
      "Wire 9    29 non-null float64\n",
      "dtypes: float64(9), int64(1)\n",
      "memory usage: 240.8 KB\n",
      "<class 'pandas.core.frame.DataFrame'>\n",
      "RangeIndex: 3081 entries, 0 to 3080\n",
      "Data columns (total 10 columns):\n",
      "key       3081 non-null int64\n",
      "Wire 1    3055 non-null object\n",
      "Wire 2    1079 non-null object\n",
      "Wire 3    63 non-null object\n",
      "Wire 4    14 non-null object\n",
      "Wire 5    1 non-null object\n",
      "Wire 6    73 non-null object\n",
      "Wire 7    11 non-null object\n",
      "Wire 8    19 non-null object\n",
      "Wire 9    29 non-null object\n",
      "dtypes: int64(1), object(9)\n",
      "memory usage: 240.8+ KB\n"
     ]
    },
    {
     "data": {
      "text/plain": [
       "(None, None)"
      ]
     },
     "execution_count": 35,
     "metadata": {},
     "output_type": "execute_result"
    }
   ],
   "source": [
    "df_wire.info(), df_wire_time.info()"
   ]
  },
  {
   "cell_type": "code",
   "execution_count": 36,
   "metadata": {},
   "outputs": [
    {
     "data": {
      "text/html": [
       "<div>\n",
       "<style scoped>\n",
       "    .dataframe tbody tr th:only-of-type {\n",
       "        vertical-align: middle;\n",
       "    }\n",
       "\n",
       "    .dataframe tbody tr th {\n",
       "        vertical-align: top;\n",
       "    }\n",
       "\n",
       "    .dataframe thead th {\n",
       "        text-align: right;\n",
       "    }\n",
       "</style>\n",
       "<table border=\"1\" class=\"dataframe\">\n",
       "  <thead>\n",
       "    <tr style=\"text-align: right;\">\n",
       "      <th></th>\n",
       "      <th>key</th>\n",
       "      <th>Wire 1</th>\n",
       "      <th>Wire 2</th>\n",
       "      <th>Wire 3</th>\n",
       "      <th>Wire 4</th>\n",
       "      <th>Wire 5</th>\n",
       "      <th>Wire 6</th>\n",
       "      <th>Wire 7</th>\n",
       "      <th>Wire 8</th>\n",
       "      <th>Wire 9</th>\n",
       "    </tr>\n",
       "  </thead>\n",
       "  <tbody>\n",
       "    <tr>\n",
       "      <td>0</td>\n",
       "      <td>1</td>\n",
       "      <td>60.059998</td>\n",
       "      <td>NaN</td>\n",
       "      <td>NaN</td>\n",
       "      <td>NaN</td>\n",
       "      <td>NaN</td>\n",
       "      <td>NaN</td>\n",
       "      <td>NaN</td>\n",
       "      <td>NaN</td>\n",
       "      <td>NaN</td>\n",
       "    </tr>\n",
       "    <tr>\n",
       "      <td>1</td>\n",
       "      <td>2</td>\n",
       "      <td>96.052315</td>\n",
       "      <td>NaN</td>\n",
       "      <td>NaN</td>\n",
       "      <td>NaN</td>\n",
       "      <td>NaN</td>\n",
       "      <td>NaN</td>\n",
       "      <td>NaN</td>\n",
       "      <td>NaN</td>\n",
       "      <td>NaN</td>\n",
       "    </tr>\n",
       "    <tr>\n",
       "      <td>2</td>\n",
       "      <td>3</td>\n",
       "      <td>91.160157</td>\n",
       "      <td>NaN</td>\n",
       "      <td>NaN</td>\n",
       "      <td>NaN</td>\n",
       "      <td>NaN</td>\n",
       "      <td>NaN</td>\n",
       "      <td>NaN</td>\n",
       "      <td>NaN</td>\n",
       "      <td>NaN</td>\n",
       "    </tr>\n",
       "    <tr>\n",
       "      <td>3</td>\n",
       "      <td>4</td>\n",
       "      <td>89.063515</td>\n",
       "      <td>NaN</td>\n",
       "      <td>NaN</td>\n",
       "      <td>NaN</td>\n",
       "      <td>NaN</td>\n",
       "      <td>NaN</td>\n",
       "      <td>NaN</td>\n",
       "      <td>NaN</td>\n",
       "      <td>NaN</td>\n",
       "    </tr>\n",
       "    <tr>\n",
       "      <td>4</td>\n",
       "      <td>5</td>\n",
       "      <td>89.238236</td>\n",
       "      <td>9.11456</td>\n",
       "      <td>NaN</td>\n",
       "      <td>NaN</td>\n",
       "      <td>NaN</td>\n",
       "      <td>NaN</td>\n",
       "      <td>NaN</td>\n",
       "      <td>NaN</td>\n",
       "      <td>NaN</td>\n",
       "    </tr>\n",
       "  </tbody>\n",
       "</table>\n",
       "</div>"
      ],
      "text/plain": [
       "   key     Wire 1   Wire 2  Wire 3  Wire 4  Wire 5  Wire 6  Wire 7  Wire 8  \\\n",
       "0    1  60.059998      NaN     NaN     NaN     NaN     NaN     NaN     NaN   \n",
       "1    2  96.052315      NaN     NaN     NaN     NaN     NaN     NaN     NaN   \n",
       "2    3  91.160157      NaN     NaN     NaN     NaN     NaN     NaN     NaN   \n",
       "3    4  89.063515      NaN     NaN     NaN     NaN     NaN     NaN     NaN   \n",
       "4    5  89.238236  9.11456     NaN     NaN     NaN     NaN     NaN     NaN   \n",
       "\n",
       "   Wire 9  \n",
       "0     NaN  \n",
       "1     NaN  \n",
       "2     NaN  \n",
       "3     NaN  \n",
       "4     NaN  "
      ]
     },
     "execution_count": 36,
     "metadata": {},
     "output_type": "execute_result"
    }
   ],
   "source": [
    "df_wire.head()"
   ]
  },
  {
   "cell_type": "code",
   "execution_count": 37,
   "metadata": {},
   "outputs": [
    {
     "data": {
      "text/html": [
       "<div>\n",
       "<style scoped>\n",
       "    .dataframe tbody tr th:only-of-type {\n",
       "        vertical-align: middle;\n",
       "    }\n",
       "\n",
       "    .dataframe tbody tr th {\n",
       "        vertical-align: top;\n",
       "    }\n",
       "\n",
       "    .dataframe thead th {\n",
       "        text-align: right;\n",
       "    }\n",
       "</style>\n",
       "<table border=\"1\" class=\"dataframe\">\n",
       "  <thead>\n",
       "    <tr style=\"text-align: right;\">\n",
       "      <th></th>\n",
       "      <th>key</th>\n",
       "      <th>Wire 1</th>\n",
       "      <th>Wire 2</th>\n",
       "      <th>Wire 3</th>\n",
       "      <th>Wire 4</th>\n",
       "      <th>Wire 5</th>\n",
       "      <th>Wire 6</th>\n",
       "      <th>Wire 7</th>\n",
       "      <th>Wire 8</th>\n",
       "      <th>Wire 9</th>\n",
       "    </tr>\n",
       "  </thead>\n",
       "  <tbody>\n",
       "    <tr>\n",
       "      <td>0</td>\n",
       "      <td>1</td>\n",
       "      <td>2019-05-03 11:11:41</td>\n",
       "      <td>NaN</td>\n",
       "      <td>NaN</td>\n",
       "      <td>NaN</td>\n",
       "      <td>NaN</td>\n",
       "      <td>NaN</td>\n",
       "      <td>NaN</td>\n",
       "      <td>NaN</td>\n",
       "      <td>NaN</td>\n",
       "    </tr>\n",
       "    <tr>\n",
       "      <td>1</td>\n",
       "      <td>2</td>\n",
       "      <td>2019-05-03 11:46:10</td>\n",
       "      <td>NaN</td>\n",
       "      <td>NaN</td>\n",
       "      <td>NaN</td>\n",
       "      <td>NaN</td>\n",
       "      <td>NaN</td>\n",
       "      <td>NaN</td>\n",
       "      <td>NaN</td>\n",
       "      <td>NaN</td>\n",
       "    </tr>\n",
       "    <tr>\n",
       "      <td>2</td>\n",
       "      <td>3</td>\n",
       "      <td>2019-05-03 12:13:47</td>\n",
       "      <td>NaN</td>\n",
       "      <td>NaN</td>\n",
       "      <td>NaN</td>\n",
       "      <td>NaN</td>\n",
       "      <td>NaN</td>\n",
       "      <td>NaN</td>\n",
       "      <td>NaN</td>\n",
       "      <td>NaN</td>\n",
       "    </tr>\n",
       "    <tr>\n",
       "      <td>3</td>\n",
       "      <td>4</td>\n",
       "      <td>2019-05-03 12:48:05</td>\n",
       "      <td>NaN</td>\n",
       "      <td>NaN</td>\n",
       "      <td>NaN</td>\n",
       "      <td>NaN</td>\n",
       "      <td>NaN</td>\n",
       "      <td>NaN</td>\n",
       "      <td>NaN</td>\n",
       "      <td>NaN</td>\n",
       "    </tr>\n",
       "    <tr>\n",
       "      <td>4</td>\n",
       "      <td>5</td>\n",
       "      <td>2019-05-03 13:18:15</td>\n",
       "      <td>2019-05-03 13:32:06</td>\n",
       "      <td>NaN</td>\n",
       "      <td>NaN</td>\n",
       "      <td>NaN</td>\n",
       "      <td>NaN</td>\n",
       "      <td>NaN</td>\n",
       "      <td>NaN</td>\n",
       "      <td>NaN</td>\n",
       "    </tr>\n",
       "  </tbody>\n",
       "</table>\n",
       "</div>"
      ],
      "text/plain": [
       "   key               Wire 1               Wire 2 Wire 3 Wire 4 Wire 5 Wire 6  \\\n",
       "0    1  2019-05-03 11:11:41                  NaN    NaN    NaN    NaN    NaN   \n",
       "1    2  2019-05-03 11:46:10                  NaN    NaN    NaN    NaN    NaN   \n",
       "2    3  2019-05-03 12:13:47                  NaN    NaN    NaN    NaN    NaN   \n",
       "3    4  2019-05-03 12:48:05                  NaN    NaN    NaN    NaN    NaN   \n",
       "4    5  2019-05-03 13:18:15  2019-05-03 13:32:06    NaN    NaN    NaN    NaN   \n",
       "\n",
       "  Wire 7 Wire 8 Wire 9  \n",
       "0    NaN    NaN    NaN  \n",
       "1    NaN    NaN    NaN  \n",
       "2    NaN    NaN    NaN  \n",
       "3    NaN    NaN    NaN  \n",
       "4    NaN    NaN    NaN  "
      ]
     },
     "execution_count": 37,
     "metadata": {},
     "output_type": "execute_result"
    }
   ],
   "source": [
    "df_wire_time.head()"
   ]
  },
  {
   "cell_type": "markdown",
   "metadata": {},
   "source": [
    "Видим, что данные уже агрегированы до партий. Пропуски как и для сыпучих материалов вероятно означают, что проволочные материалы не подавались.\n",
    "\n",
    "И опять же есть предположение, что пропуски совпадают. "
   ]
  },
  {
   "cell_type": "code",
   "execution_count": 38,
   "metadata": {},
   "outputs": [
    {
     "data": {
      "text/plain": [
       "(23385, 23385, 23385)"
      ]
     },
     "execution_count": 38,
     "metadata": {},
     "output_type": "execute_result"
    }
   ],
   "source": [
    "counter_1 = 0\n",
    "counter_2 = 0\n",
    "counter_both = 0\n",
    "\n",
    "#для таблицы с количетствами можно применить функцию isnan из numpy\n",
    "for i in range(1,10):\n",
    "    for j in range(3081):\n",
    "        if np.isnan(df_wire.iloc[j,i]) == True:\n",
    "            counter_1 += 1\n",
    "\n",
    "#для таблицы с временем isnan из numpy не подойдет (не числовые значения), используем другой не такой компактный метод \n",
    "for i in range(1,10):\n",
    "    for j in range(3081):\n",
    "        if (df_wire_time.iloc[j,i] == df_wire_time.iloc[j,i]) == False:\n",
    "            counter_2 += 1\n",
    "            \n",
    "for i in range(1,10):\n",
    "    for j in range(3081):\n",
    "        if np.isnan(df_wire.iloc[j,i]) == True and (df_wire_time.iloc[j,i] == df_wire_time.iloc[j,i]) == False:\n",
    "            counter_both += 1\n",
    "            \n",
    "counter_1, counter_2, counter_both"
   ]
  },
  {
   "cell_type": "markdown",
   "metadata": {},
   "source": [
    "Пропуски в тех же местах. Посмотрим на значения объемов."
   ]
  },
  {
   "cell_type": "code",
   "execution_count": 39,
   "metadata": {},
   "outputs": [
    {
     "data": {
      "text/html": [
       "<div>\n",
       "<style scoped>\n",
       "    .dataframe tbody tr th:only-of-type {\n",
       "        vertical-align: middle;\n",
       "    }\n",
       "\n",
       "    .dataframe tbody tr th {\n",
       "        vertical-align: top;\n",
       "    }\n",
       "\n",
       "    .dataframe thead th {\n",
       "        text-align: right;\n",
       "    }\n",
       "</style>\n",
       "<table border=\"1\" class=\"dataframe\">\n",
       "  <thead>\n",
       "    <tr style=\"text-align: right;\">\n",
       "      <th></th>\n",
       "      <th>count</th>\n",
       "      <th>mean</th>\n",
       "      <th>std</th>\n",
       "      <th>min</th>\n",
       "      <th>25%</th>\n",
       "      <th>50%</th>\n",
       "      <th>75%</th>\n",
       "      <th>max</th>\n",
       "    </tr>\n",
       "  </thead>\n",
       "  <tbody>\n",
       "    <tr>\n",
       "      <td>key</td>\n",
       "      <td>3081.0</td>\n",
       "      <td>1623.426485</td>\n",
       "      <td>932.996726</td>\n",
       "      <td>1.000000</td>\n",
       "      <td>823.000000</td>\n",
       "      <td>1619.000000</td>\n",
       "      <td>2434.000000</td>\n",
       "      <td>3241.000000</td>\n",
       "    </tr>\n",
       "    <tr>\n",
       "      <td>Wire 1</td>\n",
       "      <td>3055.0</td>\n",
       "      <td>100.895853</td>\n",
       "      <td>42.012518</td>\n",
       "      <td>1.918800</td>\n",
       "      <td>72.115684</td>\n",
       "      <td>100.158234</td>\n",
       "      <td>126.060484</td>\n",
       "      <td>330.314424</td>\n",
       "    </tr>\n",
       "    <tr>\n",
       "      <td>Wire 2</td>\n",
       "      <td>1079.0</td>\n",
       "      <td>50.577323</td>\n",
       "      <td>39.320216</td>\n",
       "      <td>0.030160</td>\n",
       "      <td>20.193680</td>\n",
       "      <td>40.142956</td>\n",
       "      <td>70.227558</td>\n",
       "      <td>282.780152</td>\n",
       "    </tr>\n",
       "    <tr>\n",
       "      <td>Wire 3</td>\n",
       "      <td>63.0</td>\n",
       "      <td>189.482681</td>\n",
       "      <td>99.513444</td>\n",
       "      <td>0.144144</td>\n",
       "      <td>95.135044</td>\n",
       "      <td>235.194977</td>\n",
       "      <td>276.252014</td>\n",
       "      <td>385.008668</td>\n",
       "    </tr>\n",
       "    <tr>\n",
       "      <td>Wire 4</td>\n",
       "      <td>14.0</td>\n",
       "      <td>57.442841</td>\n",
       "      <td>28.824667</td>\n",
       "      <td>24.148801</td>\n",
       "      <td>40.807002</td>\n",
       "      <td>45.234282</td>\n",
       "      <td>76.124619</td>\n",
       "      <td>113.231044</td>\n",
       "    </tr>\n",
       "    <tr>\n",
       "      <td>Wire 5</td>\n",
       "      <td>1.0</td>\n",
       "      <td>15.132000</td>\n",
       "      <td>NaN</td>\n",
       "      <td>15.132000</td>\n",
       "      <td>15.132000</td>\n",
       "      <td>15.132000</td>\n",
       "      <td>15.132000</td>\n",
       "      <td>15.132000</td>\n",
       "    </tr>\n",
       "    <tr>\n",
       "      <td>Wire 6</td>\n",
       "      <td>73.0</td>\n",
       "      <td>48.016974</td>\n",
       "      <td>33.919845</td>\n",
       "      <td>0.034320</td>\n",
       "      <td>25.053600</td>\n",
       "      <td>42.076324</td>\n",
       "      <td>64.212723</td>\n",
       "      <td>180.454575</td>\n",
       "    </tr>\n",
       "    <tr>\n",
       "      <td>Wire 7</td>\n",
       "      <td>11.0</td>\n",
       "      <td>10.039007</td>\n",
       "      <td>8.610584</td>\n",
       "      <td>0.234208</td>\n",
       "      <td>6.762756</td>\n",
       "      <td>9.017009</td>\n",
       "      <td>11.886057</td>\n",
       "      <td>32.847674</td>\n",
       "    </tr>\n",
       "    <tr>\n",
       "      <td>Wire 8</td>\n",
       "      <td>19.0</td>\n",
       "      <td>53.625193</td>\n",
       "      <td>16.881728</td>\n",
       "      <td>45.076721</td>\n",
       "      <td>46.094879</td>\n",
       "      <td>46.279999</td>\n",
       "      <td>48.089603</td>\n",
       "      <td>102.762401</td>\n",
       "    </tr>\n",
       "    <tr>\n",
       "      <td>Wire 9</td>\n",
       "      <td>29.0</td>\n",
       "      <td>34.155752</td>\n",
       "      <td>19.931616</td>\n",
       "      <td>4.622800</td>\n",
       "      <td>22.058401</td>\n",
       "      <td>30.066399</td>\n",
       "      <td>43.862003</td>\n",
       "      <td>90.053604</td>\n",
       "    </tr>\n",
       "  </tbody>\n",
       "</table>\n",
       "</div>"
      ],
      "text/plain": [
       "         count         mean         std        min         25%          50%  \\\n",
       "key     3081.0  1623.426485  932.996726   1.000000  823.000000  1619.000000   \n",
       "Wire 1  3055.0   100.895853   42.012518   1.918800   72.115684   100.158234   \n",
       "Wire 2  1079.0    50.577323   39.320216   0.030160   20.193680    40.142956   \n",
       "Wire 3    63.0   189.482681   99.513444   0.144144   95.135044   235.194977   \n",
       "Wire 4    14.0    57.442841   28.824667  24.148801   40.807002    45.234282   \n",
       "Wire 5     1.0    15.132000         NaN  15.132000   15.132000    15.132000   \n",
       "Wire 6    73.0    48.016974   33.919845   0.034320   25.053600    42.076324   \n",
       "Wire 7    11.0    10.039007    8.610584   0.234208    6.762756     9.017009   \n",
       "Wire 8    19.0    53.625193   16.881728  45.076721   46.094879    46.279999   \n",
       "Wire 9    29.0    34.155752   19.931616   4.622800   22.058401    30.066399   \n",
       "\n",
       "                75%          max  \n",
       "key     2434.000000  3241.000000  \n",
       "Wire 1   126.060484   330.314424  \n",
       "Wire 2    70.227558   282.780152  \n",
       "Wire 3   276.252014   385.008668  \n",
       "Wire 4    76.124619   113.231044  \n",
       "Wire 5    15.132000    15.132000  \n",
       "Wire 6    64.212723   180.454575  \n",
       "Wire 7    11.886057    32.847674  \n",
       "Wire 8    48.089603   102.762401  \n",
       "Wire 9    43.862003    90.053604  "
      ]
     },
     "execution_count": 39,
     "metadata": {},
     "output_type": "execute_result"
    }
   ],
   "source": [
    "df_wire.describe().T"
   ]
  },
  {
   "cell_type": "markdown",
   "metadata": {},
   "source": [
    "Заметных ошибок в данных нет. Наверное у материала 3 только большое отклонение, но и партий, где его применяли немного. Скорее всего это из-за этого. По этим данным ничего не будем заменять или удалять, кроме 0 в nan, если потребуется."
   ]
  },
  {
   "cell_type": "markdown",
   "metadata": {},
   "source": [
    "### Хронология всего процесса"
   ]
  },
  {
   "cell_type": "markdown",
   "metadata": {},
   "source": [
    "Также важно после объединения призаков из таблиц - проверить правильность хронологии процесса. Что первый замер температуры происходит до добавления смесей. А после последнего ничего больше не происходит.\n",
    "\n",
    "Это мы проверим уже на следующем шаге. Время первого и последнего замера мы уже при этом определили и добавили в таблицу с температерой."
   ]
  },
  {
   "cell_type": "markdown",
   "metadata": {},
   "source": [
    "## Выводы анализа данных и дальнейший план"
   ]
  },
  {
   "cell_type": "markdown",
   "metadata": {},
   "source": [
    "Посмотрев данные в таблицах, можно составить следующий дальнейший план действий:\n",
    "\n",
    "<b>Подготовка данных</b>\n",
    "- Данные объединяем до одной партии (всего около 3 тыс строк). Там где у одной партии несколько итераций, необходимо посчитать признаки по всем итерациям в сумме.\n",
    "- Все данные, признаки из разных таблиц нужно собрать в единую по ключу номер партии (после объединения итераций до партии, этот ключ станем уникальным).\n",
    "- Также важно после объединения призаков из таблиц - проверить правильность хронологии процесса. Что первый замер температуры происходит до добавления смесей. А после последнего ничего больше не происходит.\n",
    "- По всем сформированным признакам в разрезе партий необходимо перед обучением модели произвести проверку на коллинеарность. И если признаки сильно коррелируют, то часть для обучения модели не нужно брать.\n",
    "\n",
    "\n",
    "<b>Данные, пропуски и ошибки</b>\n",
    "- Мы можем использовать активные и реактивные мощности как отдельные признаки для модели, так и посчитать полную мощность, а также работу, вычислив по столбцам со временем, время. Необходимо учесть при вычислениях особененности единиц измерения и правильные формулы для вычисления доп. признаков, а также обединения итераций. \n",
    "- Партию 2116 со значение отрицательной реактивной мощности -715 удалим (это неправдоподобное ошибочное значение).\n",
    "- Партию 322 со значением объема сыпучего материала 12 - 1849 м3 и значением по продувке газа 77.99 м3. Запомним ее и исключим при расчетах моделей, согласовав с бизнесом.\n",
    "- Nan в таблице с сыпучими материалами заменим на 0, при необходимости (это значит, что материал не подавался).\n",
    "- У около 23% (739) отсутвует значение температуры на ком-то из этапов, включая последний. Это все партии с номером после 2500 - возможно начиная с этой партии возникла тех. ошибка. Или эти партии при сборе данных еще были в работе и данных по замерам нет из-за этого. Удалим данные по ним перед обучением.\n",
    "- У 6 партий сильно есть неправдоподобные низкие значения температуры. Удалим эти партии, но сообщим бизнесу и спросим про причины.\n",
    "- Добавим в чило возможных признаков для модели: число итераций.\n",
    "\n",
    "\n",
    "<b>Согласование с бизнесом</b>\n",
    "\n",
    "В реальной жизни все замены пропусков и другие шаги в предобработке следует согласовать с бизнесом перед обучением моделей. В нашем случае это были бы следующие шаги (для проекта многое же уже было подтверждено на консультации):\n",
    "- Правильно ли, что пик в 0 по реактивной мощности - соответсвует реальности. И большинство нагревов долно быть с 0 значенией по реактивной мощности.\n",
    "- Правильно ли, что партию 2116 со значение реактивной мощности -715 нужно удалить, как ошибочную? Возможно также уточнить у бизнеса: можно ли проверить правильное значение в исходниках данных.\n",
    "- Уточним у заказчиков также, правильно ли по их ощущениям, что приблизительно в среднем значение активной мощности для большинства партий - 0,5 кВт, а для реактивной (если она есть) - 2 кВт.\n",
    "- Правильно ли, что партию 322 со значением объема сыпучего материала 12 - 1849 м3 и значением по продувке газа 77.99 м3 нужно удалить, как ошибочную? Возможно также уточнить у бизнеса: можно ли проверить правильное значение в исходниках данных. Еще по данному материалу есть хвост около 800, но он уже не выглядит не так неправдоподобно. Не считаем это ошибкой, но лучше всего будет обсудить этот график распределения с бизнесом.\n",
    "- Правильно ли, что Nan в таблице с сыпучими и проволочными материалами значит, что материал не подавался.\n",
    "- Нужно просигнализировать, что у партий, начиная с 2500 (739 партий) есть проблемы с данными по температуре, включая финальный замер. И уточнить можно ли в будущем исключить эту проблему. Да, вероятно по этим последним партиям просто рано мигрировали данные, пока замеры по последним этапам еще производились или прогружались.\n",
    "- У 6 партий сильно есть неправдоподобные низкие значения температуры (меньше 1500 градусов). Удалим эти партии, но сообщим бизнесу и спросим про причины.\n",
    "\n",
    "\n",
    "<b>Модель</b>\n",
    "- Перед нами стоит задача регрессии (вычисление температуры), поэтому для ее решения можно попробовать следующие модели: Линейная регрессия, Случайный лес (регрессия), а также модели градиентного бустинга из библиотек LightGBM и CatBoost.\n",
    "- Перед обучением необходимо выделить тренировочную и тестовую выборку.\n",
    "- Масштабируем признаки через StandardScaler, обучив его на тренировочной выборке.\n",
    "- Посмотрим на метрики элементарных моделей (медиана и среднее), и дальнейшие модели будем оценивать относительно элементарных.\n",
    "- При обучении моделей будем использовать кросс-валидацию.\n",
    "- Лучшую модель будем выбирать по наименьшей метрике MAE, а также возможно будем учитывать время работы модели в спорных ситуациях (одинаковые метрики у разных моделей).\n",
    "- Выбранную модель обучим на всем тренировочном сете.\n",
    "- Протестируем модель на тестовой выборке.\n",
    "- Посмотрим на значимость признаков итоговой модели и попробуем проанализировать полученные результаты.\n",
    "- Напишем выводы по моделе для бизнеса, по значимости признаков модели, а также другие выводы, которые могут появиться в ходе выполнения задания.\n"
   ]
  },
  {
   "cell_type": "markdown",
   "metadata": {},
   "source": [
    "## Подготовка к обучению моделей"
   ]
  },
  {
   "cell_type": "markdown",
   "metadata": {},
   "source": [
    "Запомним также номера плохих партий, которые упомянули выше, в список. Это была партия 2116 с отрицательной мощностью. 322 партия с несколькими отклонениями, а также партии с низкой температурой."
   ]
  },
  {
   "cell_type": "code",
   "execution_count": 40,
   "metadata": {},
   "outputs": [
    {
     "data": {
      "text/plain": [
       "array([ 867, 1214, 1619, 1818, 2052, 2561])"
      ]
     },
     "execution_count": 40,
     "metadata": {},
     "output_type": "execute_result"
    }
   ],
   "source": [
    "df_temp[df_temp['Температура'] < 1500]['key'].unique()"
   ]
  },
  {
   "cell_type": "markdown",
   "metadata": {},
   "source": [
    "Мы помним, что у партий, начиная с 2500 не хватает последнего замера температуры (ключевого признака). ИХ мы удалим в любом случае, поэтому не будем их включать в доп. лист для удаления.\n",
    "\n",
    "Также нам не нужно дублирование номеров партий, если вдруг они будут попадать несколько раз. Поэтому переведем лист в множество."
   ]
  },
  {
   "cell_type": "code",
   "execution_count": 41,
   "metadata": {},
   "outputs": [
    {
     "data": {
      "text/plain": [
       "{322, 867, 1214, 1619, 1818, 2052, 2116}"
      ]
     },
     "execution_count": 41,
     "metadata": {},
     "output_type": "execute_result"
    }
   ],
   "source": [
    "naughty_list = [322, 2116, 867, 1214, 1619, 1818, 2052]\n",
    "naughty_list = set(naughty_list)\n",
    "\n",
    "naughty_list"
   ]
  },
  {
   "cell_type": "markdown",
   "metadata": {},
   "source": [
    "А теперь приступим к сбору данных."
   ]
  },
  {
   "cell_type": "markdown",
   "metadata": {},
   "source": [
    "### Сбор данных"
   ]
  },
  {
   "cell_type": "markdown",
   "metadata": {},
   "source": [
    "Соберем признаки из всех таблиц в одну, агрегировав до партий, а потом удалим выбросы. Возьмем за основу таблицу key_info, которую использовали для формирования времени первого и последнего замера температуры.\n",
    "\n",
    "Начнем с добавления как раз самой температуры с первого и последнего замера (ключевой признак)."
   ]
  },
  {
   "cell_type": "code",
   "execution_count": 42,
   "metadata": {},
   "outputs": [
    {
     "data": {
      "text/html": [
       "<div>\n",
       "<style scoped>\n",
       "    .dataframe tbody tr th:only-of-type {\n",
       "        vertical-align: middle;\n",
       "    }\n",
       "\n",
       "    .dataframe tbody tr th {\n",
       "        vertical-align: top;\n",
       "    }\n",
       "\n",
       "    .dataframe thead th {\n",
       "        text-align: right;\n",
       "    }\n",
       "</style>\n",
       "<table border=\"1\" class=\"dataframe\">\n",
       "  <thead>\n",
       "    <tr style=\"text-align: right;\">\n",
       "      <th></th>\n",
       "      <th>key</th>\n",
       "      <th>Замер температуры первый</th>\n",
       "      <th>Замер температуры последний</th>\n",
       "      <th>Температура замер первый</th>\n",
       "      <th>Температура замер последний</th>\n",
       "    </tr>\n",
       "  </thead>\n",
       "  <tbody>\n",
       "    <tr>\n",
       "      <td>0</td>\n",
       "      <td>1</td>\n",
       "      <td>2019-05-03 11:16:18</td>\n",
       "      <td>2019-05-03 11:30:39</td>\n",
       "      <td>1571.0</td>\n",
       "      <td>1613.0</td>\n",
       "    </tr>\n",
       "    <tr>\n",
       "      <td>1</td>\n",
       "      <td>2</td>\n",
       "      <td>2019-05-03 11:37:27</td>\n",
       "      <td>2019-05-03 11:59:12</td>\n",
       "      <td>1581.0</td>\n",
       "      <td>1602.0</td>\n",
       "    </tr>\n",
       "    <tr>\n",
       "      <td>2</td>\n",
       "      <td>3</td>\n",
       "      <td>2019-05-03 12:13:17</td>\n",
       "      <td>2019-05-03 12:34:57</td>\n",
       "      <td>1596.0</td>\n",
       "      <td>1599.0</td>\n",
       "    </tr>\n",
       "    <tr>\n",
       "      <td>3</td>\n",
       "      <td>4</td>\n",
       "      <td>2019-05-03 12:52:57</td>\n",
       "      <td>2019-05-03 12:59:25</td>\n",
       "      <td>1601.0</td>\n",
       "      <td>1625.0</td>\n",
       "    </tr>\n",
       "    <tr>\n",
       "      <td>4</td>\n",
       "      <td>5</td>\n",
       "      <td>2019-05-03 13:23:19</td>\n",
       "      <td>2019-05-03 13:36:01</td>\n",
       "      <td>1576.0</td>\n",
       "      <td>1602.0</td>\n",
       "    </tr>\n",
       "  </tbody>\n",
       "</table>\n",
       "</div>"
      ],
      "text/plain": [
       "   key Замер температуры первый Замер температуры последний  \\\n",
       "0    1      2019-05-03 11:16:18         2019-05-03 11:30:39   \n",
       "1    2      2019-05-03 11:37:27         2019-05-03 11:59:12   \n",
       "2    3      2019-05-03 12:13:17         2019-05-03 12:34:57   \n",
       "3    4      2019-05-03 12:52:57         2019-05-03 12:59:25   \n",
       "4    5      2019-05-03 13:23:19         2019-05-03 13:36:01   \n",
       "\n",
       "   Температура замер первый  Температура замер последний  \n",
       "0                    1571.0                       1613.0  \n",
       "1                    1581.0                       1602.0  \n",
       "2                    1596.0                       1599.0  \n",
       "3                    1601.0                       1625.0  \n",
       "4                    1576.0                       1602.0  "
      ]
     },
     "execution_count": 42,
     "metadata": {},
     "output_type": "execute_result"
    }
   ],
   "source": [
    "#добавляем первый замер\n",
    "key_info = pd.merge(key_info, df_temp[['key','Время замера','Температура']], \n",
    "                    left_on=['key','Замер температуры первый'], right_on=['key','Время замера'],\n",
    "                    how='left')\n",
    "key_info.drop('Время замера', axis=1, inplace=True)\n",
    "key_info.rename(columns={'Температура': 'Температура замер первый'}, inplace=True)\n",
    "\n",
    "#добавляем последний замер\n",
    "key_info = pd.merge(key_info, df_temp[['key','Время замера','Температура']], \n",
    "                    left_on=['key','Замер температуры последний'], right_on=['key','Время замера'],\n",
    "                    how='left')\n",
    "key_info.drop('Время замера', axis=1, inplace=True)\n",
    "key_info.rename(columns={'Температура': 'Температура замер последний'}, inplace=True)\n",
    "\n",
    "key_info.head()"
   ]
  },
  {
   "cell_type": "markdown",
   "metadata": {},
   "source": [
    "Переведем временные данные во временой формат для анализа."
   ]
  },
  {
   "cell_type": "code",
   "execution_count": 43,
   "metadata": {},
   "outputs": [
    {
     "name": "stdout",
     "output_type": "stream",
     "text": [
      "<class 'pandas.core.frame.DataFrame'>\n",
      "Int64Index: 3216 entries, 0 to 3215\n",
      "Data columns (total 5 columns):\n",
      "key                            3216 non-null int64\n",
      "Замер температуры первый       3216 non-null datetime64[ns]\n",
      "Замер температуры последний    3216 non-null datetime64[ns]\n",
      "Температура замер первый       3216 non-null float64\n",
      "Температура замер последний    2477 non-null float64\n",
      "dtypes: datetime64[ns](2), float64(2), int64(1)\n",
      "memory usage: 150.8 KB\n"
     ]
    }
   ],
   "source": [
    "key_info['Замер температуры первый'] = pd.to_datetime(\n",
    "    key_info['Замер температуры первый'], format='%Y-%m-%d %H:%M:%S')\n",
    "key_info['Замер температуры последний'] = pd.to_datetime(\n",
    "    key_info['Замер температуры последний'], format='%Y-%m-%d %H:%M:%S')\n",
    "\n",
    "key_info.info()"
   ]
  },
  {
   "cell_type": "markdown",
   "metadata": {},
   "source": [
    "#### Проверка хронологии процесса"
   ]
  },
  {
   "cell_type": "markdown",
   "metadata": {},
   "source": [
    "Приступим теперь к проверке хронологии. А после добавим другие данные."
   ]
  },
  {
   "cell_type": "markdown",
   "metadata": {},
   "source": [
    "Посмотрим на таблицы df_bulk_time и df_wire_time. Подтянем к ним время первого и последнего замера температуры и проверим хронологию.\n",
    "\n",
    "Но сначала поменяем формат на временной в таблицах."
   ]
  },
  {
   "cell_type": "code",
   "execution_count": 44,
   "metadata": {},
   "outputs": [],
   "source": [
    "for i in range(1,16):\n",
    "    x = 'Bulk ' + str(i)\n",
    "    df_bulk_time[x] = pd.to_datetime(df_bulk_time[x], format='%Y-%m-%d %H:%M:%S')\n",
    "    \n",
    "for i in range(1,10):\n",
    "    x = 'Wire ' + str(i)\n",
    "    df_wire_time[x] = pd.to_datetime(df_wire_time[x], format='%Y-%m-%d %H:%M:%S')"
   ]
  },
  {
   "cell_type": "code",
   "execution_count": 45,
   "metadata": {},
   "outputs": [
    {
     "name": "stdout",
     "output_type": "stream",
     "text": [
      "<class 'pandas.core.frame.DataFrame'>\n",
      "RangeIndex: 3129 entries, 0 to 3128\n",
      "Data columns (total 16 columns):\n",
      "key        3129 non-null int64\n",
      "Bulk 1     252 non-null datetime64[ns]\n",
      "Bulk 2     22 non-null datetime64[ns]\n",
      "Bulk 3     1298 non-null datetime64[ns]\n",
      "Bulk 4     1014 non-null datetime64[ns]\n",
      "Bulk 5     77 non-null datetime64[ns]\n",
      "Bulk 6     576 non-null datetime64[ns]\n",
      "Bulk 7     25 non-null datetime64[ns]\n",
      "Bulk 8     1 non-null datetime64[ns]\n",
      "Bulk 9     19 non-null datetime64[ns]\n",
      "Bulk 10    176 non-null datetime64[ns]\n",
      "Bulk 11    177 non-null datetime64[ns]\n",
      "Bulk 12    2450 non-null datetime64[ns]\n",
      "Bulk 13    18 non-null datetime64[ns]\n",
      "Bulk 14    2806 non-null datetime64[ns]\n",
      "Bulk 15    2248 non-null datetime64[ns]\n",
      "dtypes: datetime64[ns](15), int64(1)\n",
      "memory usage: 391.2 KB\n",
      "<class 'pandas.core.frame.DataFrame'>\n",
      "RangeIndex: 3081 entries, 0 to 3080\n",
      "Data columns (total 10 columns):\n",
      "key       3081 non-null int64\n",
      "Wire 1    3055 non-null datetime64[ns]\n",
      "Wire 2    1079 non-null datetime64[ns]\n",
      "Wire 3    63 non-null datetime64[ns]\n",
      "Wire 4    14 non-null datetime64[ns]\n",
      "Wire 5    1 non-null datetime64[ns]\n",
      "Wire 6    73 non-null datetime64[ns]\n",
      "Wire 7    11 non-null datetime64[ns]\n",
      "Wire 8    19 non-null datetime64[ns]\n",
      "Wire 9    29 non-null datetime64[ns]\n",
      "dtypes: datetime64[ns](9), int64(1)\n",
      "memory usage: 240.8 KB\n"
     ]
    },
    {
     "data": {
      "text/plain": [
       "(None, None)"
      ]
     },
     "execution_count": 45,
     "metadata": {},
     "output_type": "execute_result"
    }
   ],
   "source": [
    "df_bulk_time.info(), df_wire_time.info()"
   ]
  },
  {
   "cell_type": "markdown",
   "metadata": {},
   "source": [
    "Теперь подтянем данные по первому и последнему замеру температуры."
   ]
  },
  {
   "cell_type": "code",
   "execution_count": 46,
   "metadata": {},
   "outputs": [
    {
     "data": {
      "text/html": [
       "<div>\n",
       "<style scoped>\n",
       "    .dataframe tbody tr th:only-of-type {\n",
       "        vertical-align: middle;\n",
       "    }\n",
       "\n",
       "    .dataframe tbody tr th {\n",
       "        vertical-align: top;\n",
       "    }\n",
       "\n",
       "    .dataframe thead th {\n",
       "        text-align: right;\n",
       "    }\n",
       "</style>\n",
       "<table border=\"1\" class=\"dataframe\">\n",
       "  <thead>\n",
       "    <tr style=\"text-align: right;\">\n",
       "      <th></th>\n",
       "      <th>key</th>\n",
       "      <th>Bulk 1</th>\n",
       "      <th>Bulk 2</th>\n",
       "      <th>Bulk 3</th>\n",
       "      <th>Bulk 4</th>\n",
       "      <th>Bulk 5</th>\n",
       "      <th>Bulk 6</th>\n",
       "      <th>Bulk 7</th>\n",
       "      <th>Bulk 8</th>\n",
       "      <th>Bulk 9</th>\n",
       "      <th>Bulk 10</th>\n",
       "      <th>Bulk 11</th>\n",
       "      <th>Bulk 12</th>\n",
       "      <th>Bulk 13</th>\n",
       "      <th>Bulk 14</th>\n",
       "      <th>Bulk 15</th>\n",
       "      <th>Замер температуры первый</th>\n",
       "      <th>Замер температуры последний</th>\n",
       "    </tr>\n",
       "  </thead>\n",
       "  <tbody>\n",
       "    <tr>\n",
       "      <td>0</td>\n",
       "      <td>1</td>\n",
       "      <td>NaT</td>\n",
       "      <td>NaT</td>\n",
       "      <td>NaT</td>\n",
       "      <td>2019-05-03 11:21:30</td>\n",
       "      <td>NaT</td>\n",
       "      <td>NaT</td>\n",
       "      <td>NaT</td>\n",
       "      <td>NaT</td>\n",
       "      <td>NaT</td>\n",
       "      <td>NaT</td>\n",
       "      <td>NaT</td>\n",
       "      <td>2019-05-03 11:03:52</td>\n",
       "      <td>NaT</td>\n",
       "      <td>2019-05-03 11:03:52</td>\n",
       "      <td>2019-05-03 11:03:52</td>\n",
       "      <td>2019-05-03 11:16:18</td>\n",
       "      <td>2019-05-03 11:30:39</td>\n",
       "    </tr>\n",
       "    <tr>\n",
       "      <td>1</td>\n",
       "      <td>2</td>\n",
       "      <td>NaT</td>\n",
       "      <td>NaT</td>\n",
       "      <td>NaT</td>\n",
       "      <td>2019-05-03 11:46:38</td>\n",
       "      <td>NaT</td>\n",
       "      <td>NaT</td>\n",
       "      <td>NaT</td>\n",
       "      <td>NaT</td>\n",
       "      <td>NaT</td>\n",
       "      <td>NaT</td>\n",
       "      <td>NaT</td>\n",
       "      <td>2019-05-03 11:40:20</td>\n",
       "      <td>NaT</td>\n",
       "      <td>2019-05-03 11:40:20</td>\n",
       "      <td>2019-05-03 11:40:20</td>\n",
       "      <td>2019-05-03 11:37:27</td>\n",
       "      <td>2019-05-03 11:59:12</td>\n",
       "    </tr>\n",
       "    <tr>\n",
       "      <td>2</td>\n",
       "      <td>3</td>\n",
       "      <td>NaT</td>\n",
       "      <td>NaT</td>\n",
       "      <td>NaT</td>\n",
       "      <td>2019-05-03 12:31:06</td>\n",
       "      <td>NaT</td>\n",
       "      <td>NaT</td>\n",
       "      <td>NaT</td>\n",
       "      <td>NaT</td>\n",
       "      <td>NaT</td>\n",
       "      <td>NaT</td>\n",
       "      <td>NaT</td>\n",
       "      <td>2019-05-03 12:09:40</td>\n",
       "      <td>NaT</td>\n",
       "      <td>2019-05-03 12:09:40</td>\n",
       "      <td>2019-05-03 12:09:40</td>\n",
       "      <td>2019-05-03 12:13:17</td>\n",
       "      <td>2019-05-03 12:34:57</td>\n",
       "    </tr>\n",
       "    <tr>\n",
       "      <td>3</td>\n",
       "      <td>4</td>\n",
       "      <td>NaT</td>\n",
       "      <td>NaT</td>\n",
       "      <td>NaT</td>\n",
       "      <td>2019-05-03 12:48:43</td>\n",
       "      <td>NaT</td>\n",
       "      <td>NaT</td>\n",
       "      <td>NaT</td>\n",
       "      <td>NaT</td>\n",
       "      <td>NaT</td>\n",
       "      <td>NaT</td>\n",
       "      <td>NaT</td>\n",
       "      <td>2019-05-03 12:41:24</td>\n",
       "      <td>NaT</td>\n",
       "      <td>2019-05-03 12:41:24</td>\n",
       "      <td>2019-05-03 12:41:24</td>\n",
       "      <td>2019-05-03 12:52:57</td>\n",
       "      <td>2019-05-03 12:59:25</td>\n",
       "    </tr>\n",
       "    <tr>\n",
       "      <td>4</td>\n",
       "      <td>5</td>\n",
       "      <td>NaT</td>\n",
       "      <td>NaT</td>\n",
       "      <td>NaT</td>\n",
       "      <td>2019-05-03 13:18:50</td>\n",
       "      <td>NaT</td>\n",
       "      <td>NaT</td>\n",
       "      <td>NaT</td>\n",
       "      <td>NaT</td>\n",
       "      <td>NaT</td>\n",
       "      <td>NaT</td>\n",
       "      <td>NaT</td>\n",
       "      <td>2019-05-03 13:12:56</td>\n",
       "      <td>NaT</td>\n",
       "      <td>2019-05-03 13:12:56</td>\n",
       "      <td>2019-05-03 13:12:56</td>\n",
       "      <td>2019-05-03 13:23:19</td>\n",
       "      <td>2019-05-03 13:36:01</td>\n",
       "    </tr>\n",
       "  </tbody>\n",
       "</table>\n",
       "</div>"
      ],
      "text/plain": [
       "   key Bulk 1 Bulk 2 Bulk 3              Bulk 4 Bulk 5 Bulk 6 Bulk 7 Bulk 8  \\\n",
       "0    1    NaT    NaT    NaT 2019-05-03 11:21:30    NaT    NaT    NaT    NaT   \n",
       "1    2    NaT    NaT    NaT 2019-05-03 11:46:38    NaT    NaT    NaT    NaT   \n",
       "2    3    NaT    NaT    NaT 2019-05-03 12:31:06    NaT    NaT    NaT    NaT   \n",
       "3    4    NaT    NaT    NaT 2019-05-03 12:48:43    NaT    NaT    NaT    NaT   \n",
       "4    5    NaT    NaT    NaT 2019-05-03 13:18:50    NaT    NaT    NaT    NaT   \n",
       "\n",
       "  Bulk 9 Bulk 10 Bulk 11             Bulk 12 Bulk 13             Bulk 14  \\\n",
       "0    NaT     NaT     NaT 2019-05-03 11:03:52     NaT 2019-05-03 11:03:52   \n",
       "1    NaT     NaT     NaT 2019-05-03 11:40:20     NaT 2019-05-03 11:40:20   \n",
       "2    NaT     NaT     NaT 2019-05-03 12:09:40     NaT 2019-05-03 12:09:40   \n",
       "3    NaT     NaT     NaT 2019-05-03 12:41:24     NaT 2019-05-03 12:41:24   \n",
       "4    NaT     NaT     NaT 2019-05-03 13:12:56     NaT 2019-05-03 13:12:56   \n",
       "\n",
       "              Bulk 15 Замер температуры первый Замер температуры последний  \n",
       "0 2019-05-03 11:03:52      2019-05-03 11:16:18         2019-05-03 11:30:39  \n",
       "1 2019-05-03 11:40:20      2019-05-03 11:37:27         2019-05-03 11:59:12  \n",
       "2 2019-05-03 12:09:40      2019-05-03 12:13:17         2019-05-03 12:34:57  \n",
       "3 2019-05-03 12:41:24      2019-05-03 12:52:57         2019-05-03 12:59:25  \n",
       "4 2019-05-03 13:12:56      2019-05-03 13:23:19         2019-05-03 13:36:01  "
      ]
     },
     "execution_count": 46,
     "metadata": {},
     "output_type": "execute_result"
    }
   ],
   "source": [
    "df_bulk_time= pd.merge(df_bulk_time, \n",
    "                       key_info[['key','Замер температуры первый','Замер температуры последний']], \n",
    "                       how='left')\n",
    "df_bulk_time.head()"
   ]
  },
  {
   "cell_type": "markdown",
   "metadata": {},
   "source": [
    "Теперь проверим не нарушен ли процесс: посмотрим все партии, где либо было добавление какого-то материала до первого замера. Или после.\n",
    "\n",
    "Мы помним, что у нас нет температуры по партиям, начиная с 2500. Мы их и так удалим позже. Посмотрим сколько партий попало с нарушениями без этих ошибочных партий."
   ]
  },
  {
   "cell_type": "code",
   "execution_count": 47,
   "metadata": {},
   "outputs": [
    {
     "data": {
      "text/plain": [
       "414"
      ]
     },
     "execution_count": 47,
     "metadata": {},
     "output_type": "execute_result"
    }
   ],
   "source": [
    "key_list_bulk = set()\n",
    "\n",
    "for i in range(1,16):\n",
    "    for j in range(3129):\n",
    "        if df_bulk_time.iloc[j,0] < 2500 and (\n",
    "            df_bulk_time.iloc[j,i] < df_bulk_time.iloc[j,16]\n",
    "            or df_bulk_time.iloc[j,i] > df_bulk_time.iloc[j,17]):\n",
    "            key_list_bulk.add(df_bulk_time.iloc[j,0])\n",
    "            \n",
    "len(key_list_bulk)"
   ]
  },
  {
   "cell_type": "markdown",
   "metadata": {},
   "source": [
    "Получилось довольно большое число партий - около 400. Посмотрим на первые строки, дейстивительно ли там ошибка."
   ]
  },
  {
   "cell_type": "code",
   "execution_count": 48,
   "metadata": {},
   "outputs": [
    {
     "data": {
      "text/html": [
       "<div>\n",
       "<style scoped>\n",
       "    .dataframe tbody tr th:only-of-type {\n",
       "        vertical-align: middle;\n",
       "    }\n",
       "\n",
       "    .dataframe tbody tr th {\n",
       "        vertical-align: top;\n",
       "    }\n",
       "\n",
       "    .dataframe thead th {\n",
       "        text-align: right;\n",
       "    }\n",
       "</style>\n",
       "<table border=\"1\" class=\"dataframe\">\n",
       "  <thead>\n",
       "    <tr style=\"text-align: right;\">\n",
       "      <th></th>\n",
       "      <th>key</th>\n",
       "      <th>Bulk 1</th>\n",
       "      <th>Bulk 2</th>\n",
       "      <th>Bulk 3</th>\n",
       "      <th>Bulk 4</th>\n",
       "      <th>Bulk 5</th>\n",
       "      <th>Bulk 6</th>\n",
       "      <th>Bulk 7</th>\n",
       "      <th>Bulk 8</th>\n",
       "      <th>Bulk 9</th>\n",
       "      <th>Bulk 10</th>\n",
       "      <th>Bulk 11</th>\n",
       "      <th>Bulk 12</th>\n",
       "      <th>Bulk 13</th>\n",
       "      <th>Bulk 14</th>\n",
       "      <th>Bulk 15</th>\n",
       "      <th>Замер температуры первый</th>\n",
       "      <th>Замер температуры последний</th>\n",
       "    </tr>\n",
       "  </thead>\n",
       "  <tbody>\n",
       "    <tr>\n",
       "      <td>0</td>\n",
       "      <td>1</td>\n",
       "      <td>NaT</td>\n",
       "      <td>NaT</td>\n",
       "      <td>NaT</td>\n",
       "      <td>2019-05-03 11:21:30</td>\n",
       "      <td>NaT</td>\n",
       "      <td>NaT</td>\n",
       "      <td>NaT</td>\n",
       "      <td>NaT</td>\n",
       "      <td>NaT</td>\n",
       "      <td>NaT</td>\n",
       "      <td>NaT</td>\n",
       "      <td>2019-05-03 11:03:52</td>\n",
       "      <td>NaT</td>\n",
       "      <td>2019-05-03 11:03:52</td>\n",
       "      <td>2019-05-03 11:03:52</td>\n",
       "      <td>2019-05-03 11:16:18</td>\n",
       "      <td>2019-05-03 11:30:39</td>\n",
       "    </tr>\n",
       "    <tr>\n",
       "      <td>2</td>\n",
       "      <td>3</td>\n",
       "      <td>NaT</td>\n",
       "      <td>NaT</td>\n",
       "      <td>NaT</td>\n",
       "      <td>2019-05-03 12:31:06</td>\n",
       "      <td>NaT</td>\n",
       "      <td>NaT</td>\n",
       "      <td>NaT</td>\n",
       "      <td>NaT</td>\n",
       "      <td>NaT</td>\n",
       "      <td>NaT</td>\n",
       "      <td>NaT</td>\n",
       "      <td>2019-05-03 12:09:40</td>\n",
       "      <td>NaT</td>\n",
       "      <td>2019-05-03 12:09:40</td>\n",
       "      <td>2019-05-03 12:09:40</td>\n",
       "      <td>2019-05-03 12:13:17</td>\n",
       "      <td>2019-05-03 12:34:57</td>\n",
       "    </tr>\n",
       "    <tr>\n",
       "      <td>3</td>\n",
       "      <td>4</td>\n",
       "      <td>NaT</td>\n",
       "      <td>NaT</td>\n",
       "      <td>NaT</td>\n",
       "      <td>2019-05-03 12:48:43</td>\n",
       "      <td>NaT</td>\n",
       "      <td>NaT</td>\n",
       "      <td>NaT</td>\n",
       "      <td>NaT</td>\n",
       "      <td>NaT</td>\n",
       "      <td>NaT</td>\n",
       "      <td>NaT</td>\n",
       "      <td>2019-05-03 12:41:24</td>\n",
       "      <td>NaT</td>\n",
       "      <td>2019-05-03 12:41:24</td>\n",
       "      <td>2019-05-03 12:41:24</td>\n",
       "      <td>2019-05-03 12:52:57</td>\n",
       "      <td>2019-05-03 12:59:25</td>\n",
       "    </tr>\n",
       "    <tr>\n",
       "      <td>4</td>\n",
       "      <td>5</td>\n",
       "      <td>NaT</td>\n",
       "      <td>NaT</td>\n",
       "      <td>NaT</td>\n",
       "      <td>2019-05-03 13:18:50</td>\n",
       "      <td>NaT</td>\n",
       "      <td>NaT</td>\n",
       "      <td>NaT</td>\n",
       "      <td>NaT</td>\n",
       "      <td>NaT</td>\n",
       "      <td>NaT</td>\n",
       "      <td>NaT</td>\n",
       "      <td>2019-05-03 13:12:56</td>\n",
       "      <td>NaT</td>\n",
       "      <td>2019-05-03 13:12:56</td>\n",
       "      <td>2019-05-03 13:12:56</td>\n",
       "      <td>2019-05-03 13:23:19</td>\n",
       "      <td>2019-05-03 13:36:01</td>\n",
       "    </tr>\n",
       "    <tr>\n",
       "      <td>7</td>\n",
       "      <td>8</td>\n",
       "      <td>NaT</td>\n",
       "      <td>NaT</td>\n",
       "      <td>NaT</td>\n",
       "      <td>2019-05-03 15:04:05</td>\n",
       "      <td>NaT</td>\n",
       "      <td>NaT</td>\n",
       "      <td>NaT</td>\n",
       "      <td>NaT</td>\n",
       "      <td>NaT</td>\n",
       "      <td>NaT</td>\n",
       "      <td>NaT</td>\n",
       "      <td>2019-05-03 14:55:46</td>\n",
       "      <td>NaT</td>\n",
       "      <td>2019-05-03 14:55:46</td>\n",
       "      <td>2019-05-03 14:55:46</td>\n",
       "      <td>2019-05-03 15:07:18</td>\n",
       "      <td>2019-05-03 15:22:52</td>\n",
       "    </tr>\n",
       "  </tbody>\n",
       "</table>\n",
       "</div>"
      ],
      "text/plain": [
       "   key Bulk 1 Bulk 2 Bulk 3              Bulk 4 Bulk 5 Bulk 6 Bulk 7 Bulk 8  \\\n",
       "0    1    NaT    NaT    NaT 2019-05-03 11:21:30    NaT    NaT    NaT    NaT   \n",
       "2    3    NaT    NaT    NaT 2019-05-03 12:31:06    NaT    NaT    NaT    NaT   \n",
       "3    4    NaT    NaT    NaT 2019-05-03 12:48:43    NaT    NaT    NaT    NaT   \n",
       "4    5    NaT    NaT    NaT 2019-05-03 13:18:50    NaT    NaT    NaT    NaT   \n",
       "7    8    NaT    NaT    NaT 2019-05-03 15:04:05    NaT    NaT    NaT    NaT   \n",
       "\n",
       "  Bulk 9 Bulk 10 Bulk 11             Bulk 12 Bulk 13             Bulk 14  \\\n",
       "0    NaT     NaT     NaT 2019-05-03 11:03:52     NaT 2019-05-03 11:03:52   \n",
       "2    NaT     NaT     NaT 2019-05-03 12:09:40     NaT 2019-05-03 12:09:40   \n",
       "3    NaT     NaT     NaT 2019-05-03 12:41:24     NaT 2019-05-03 12:41:24   \n",
       "4    NaT     NaT     NaT 2019-05-03 13:12:56     NaT 2019-05-03 13:12:56   \n",
       "7    NaT     NaT     NaT 2019-05-03 14:55:46     NaT 2019-05-03 14:55:46   \n",
       "\n",
       "              Bulk 15 Замер температуры первый Замер температуры последний  \n",
       "0 2019-05-03 11:03:52      2019-05-03 11:16:18         2019-05-03 11:30:39  \n",
       "2 2019-05-03 12:09:40      2019-05-03 12:13:17         2019-05-03 12:34:57  \n",
       "3 2019-05-03 12:41:24      2019-05-03 12:52:57         2019-05-03 12:59:25  \n",
       "4 2019-05-03 13:12:56      2019-05-03 13:23:19         2019-05-03 13:36:01  \n",
       "7 2019-05-03 14:55:46      2019-05-03 15:07:18         2019-05-03 15:22:52  "
      ]
     },
     "execution_count": 48,
     "metadata": {},
     "output_type": "execute_result"
    }
   ],
   "source": [
    "df_bulk_time.query('key in @key_list_bulk').head()"
   ]
  },
  {
   "cell_type": "markdown",
   "metadata": {},
   "source": [
    "К сожалению, это действительно партии с неправильной хронологией процесса. Посмотрим на таблицу с проволочными материалами."
   ]
  },
  {
   "cell_type": "code",
   "execution_count": 49,
   "metadata": {},
   "outputs": [
    {
     "data": {
      "text/html": [
       "<div>\n",
       "<style scoped>\n",
       "    .dataframe tbody tr th:only-of-type {\n",
       "        vertical-align: middle;\n",
       "    }\n",
       "\n",
       "    .dataframe tbody tr th {\n",
       "        vertical-align: top;\n",
       "    }\n",
       "\n",
       "    .dataframe thead th {\n",
       "        text-align: right;\n",
       "    }\n",
       "</style>\n",
       "<table border=\"1\" class=\"dataframe\">\n",
       "  <thead>\n",
       "    <tr style=\"text-align: right;\">\n",
       "      <th></th>\n",
       "      <th>key</th>\n",
       "      <th>Wire 1</th>\n",
       "      <th>Wire 2</th>\n",
       "      <th>Wire 3</th>\n",
       "      <th>Wire 4</th>\n",
       "      <th>Wire 5</th>\n",
       "      <th>Wire 6</th>\n",
       "      <th>Wire 7</th>\n",
       "      <th>Wire 8</th>\n",
       "      <th>Wire 9</th>\n",
       "      <th>Замер температуры первый</th>\n",
       "      <th>Замер температуры последний</th>\n",
       "    </tr>\n",
       "  </thead>\n",
       "  <tbody>\n",
       "    <tr>\n",
       "      <td>0</td>\n",
       "      <td>1</td>\n",
       "      <td>2019-05-03 11:11:41</td>\n",
       "      <td>NaT</td>\n",
       "      <td>NaT</td>\n",
       "      <td>NaT</td>\n",
       "      <td>NaT</td>\n",
       "      <td>NaT</td>\n",
       "      <td>NaT</td>\n",
       "      <td>NaT</td>\n",
       "      <td>NaT</td>\n",
       "      <td>2019-05-03 11:16:18</td>\n",
       "      <td>2019-05-03 11:30:39</td>\n",
       "    </tr>\n",
       "    <tr>\n",
       "      <td>1</td>\n",
       "      <td>2</td>\n",
       "      <td>2019-05-03 11:46:10</td>\n",
       "      <td>NaT</td>\n",
       "      <td>NaT</td>\n",
       "      <td>NaT</td>\n",
       "      <td>NaT</td>\n",
       "      <td>NaT</td>\n",
       "      <td>NaT</td>\n",
       "      <td>NaT</td>\n",
       "      <td>NaT</td>\n",
       "      <td>2019-05-03 11:37:27</td>\n",
       "      <td>2019-05-03 11:59:12</td>\n",
       "    </tr>\n",
       "    <tr>\n",
       "      <td>2</td>\n",
       "      <td>3</td>\n",
       "      <td>2019-05-03 12:13:47</td>\n",
       "      <td>NaT</td>\n",
       "      <td>NaT</td>\n",
       "      <td>NaT</td>\n",
       "      <td>NaT</td>\n",
       "      <td>NaT</td>\n",
       "      <td>NaT</td>\n",
       "      <td>NaT</td>\n",
       "      <td>NaT</td>\n",
       "      <td>2019-05-03 12:13:17</td>\n",
       "      <td>2019-05-03 12:34:57</td>\n",
       "    </tr>\n",
       "    <tr>\n",
       "      <td>3</td>\n",
       "      <td>4</td>\n",
       "      <td>2019-05-03 12:48:05</td>\n",
       "      <td>NaT</td>\n",
       "      <td>NaT</td>\n",
       "      <td>NaT</td>\n",
       "      <td>NaT</td>\n",
       "      <td>NaT</td>\n",
       "      <td>NaT</td>\n",
       "      <td>NaT</td>\n",
       "      <td>NaT</td>\n",
       "      <td>2019-05-03 12:52:57</td>\n",
       "      <td>2019-05-03 12:59:25</td>\n",
       "    </tr>\n",
       "    <tr>\n",
       "      <td>4</td>\n",
       "      <td>5</td>\n",
       "      <td>2019-05-03 13:18:15</td>\n",
       "      <td>2019-05-03 13:32:06</td>\n",
       "      <td>NaT</td>\n",
       "      <td>NaT</td>\n",
       "      <td>NaT</td>\n",
       "      <td>NaT</td>\n",
       "      <td>NaT</td>\n",
       "      <td>NaT</td>\n",
       "      <td>NaT</td>\n",
       "      <td>2019-05-03 13:23:19</td>\n",
       "      <td>2019-05-03 13:36:01</td>\n",
       "    </tr>\n",
       "  </tbody>\n",
       "</table>\n",
       "</div>"
      ],
      "text/plain": [
       "   key              Wire 1              Wire 2 Wire 3 Wire 4 Wire 5 Wire 6  \\\n",
       "0    1 2019-05-03 11:11:41                 NaT    NaT    NaT    NaT    NaT   \n",
       "1    2 2019-05-03 11:46:10                 NaT    NaT    NaT    NaT    NaT   \n",
       "2    3 2019-05-03 12:13:47                 NaT    NaT    NaT    NaT    NaT   \n",
       "3    4 2019-05-03 12:48:05                 NaT    NaT    NaT    NaT    NaT   \n",
       "4    5 2019-05-03 13:18:15 2019-05-03 13:32:06    NaT    NaT    NaT    NaT   \n",
       "\n",
       "  Wire 7 Wire 8 Wire 9 Замер температуры первый Замер температуры последний  \n",
       "0    NaT    NaT    NaT      2019-05-03 11:16:18         2019-05-03 11:30:39  \n",
       "1    NaT    NaT    NaT      2019-05-03 11:37:27         2019-05-03 11:59:12  \n",
       "2    NaT    NaT    NaT      2019-05-03 12:13:17         2019-05-03 12:34:57  \n",
       "3    NaT    NaT    NaT      2019-05-03 12:52:57         2019-05-03 12:59:25  \n",
       "4    NaT    NaT    NaT      2019-05-03 13:23:19         2019-05-03 13:36:01  "
      ]
     },
     "execution_count": 49,
     "metadata": {},
     "output_type": "execute_result"
    }
   ],
   "source": [
    "df_wire_time= pd.merge(df_wire_time, \n",
    "                       key_info[['key','Замер температуры первый','Замер температуры последний']], \n",
    "                       how='left')\n",
    "df_wire_time.head()"
   ]
  },
  {
   "cell_type": "code",
   "execution_count": 50,
   "metadata": {},
   "outputs": [
    {
     "data": {
      "text/plain": [
       "202"
      ]
     },
     "execution_count": 50,
     "metadata": {},
     "output_type": "execute_result"
    }
   ],
   "source": [
    "key_list_wire = set()\n",
    "\n",
    "for i in range(1,10):\n",
    "    for j in range(3081):\n",
    "        if df_wire_time.iloc[j,0] < 2500 and (\n",
    "            df_wire_time.iloc[j,i] < df_wire_time.iloc[j,10]\n",
    "            or df_wire_time.iloc[j,i] > df_wire_time.iloc[j,11]):\n",
    "            key_list_wire.add(df_wire_time.iloc[j,0])\n",
    "            \n",
    "len(key_list_wire)"
   ]
  },
  {
   "cell_type": "markdown",
   "metadata": {},
   "source": [
    "Меньше проблем у проволочных материалов. Посмотрим на пересечение всех списков с проблемными партиями."
   ]
  },
  {
   "cell_type": "code",
   "execution_count": 51,
   "metadata": {},
   "outputs": [
    {
     "data": {
      "text/plain": [
       "7"
      ]
     },
     "execution_count": 51,
     "metadata": {},
     "output_type": "execute_result"
    }
   ],
   "source": [
    "len(naughty_list)"
   ]
  },
  {
   "cell_type": "markdown",
   "metadata": {},
   "source": [
    "До этого у нас было 8 партий для удаления. Около 400 с нарушением хронологии по сыпучим материалам и 200 по проволочным."
   ]
  },
  {
   "cell_type": "code",
   "execution_count": 52,
   "metadata": {},
   "outputs": [
    {
     "data": {
      "text/plain": [
       "435"
      ]
     },
     "execution_count": 52,
     "metadata": {},
     "output_type": "execute_result"
    }
   ],
   "source": [
    "naughty_list = naughty_list.union(key_list_bulk) \n",
    "naughty_list = naughty_list.union(key_list_wire)\n",
    "\n",
    "len(naughty_list)"
   ]
  },
  {
   "cell_type": "markdown",
   "metadata": {},
   "source": [
    "Итого, получили 436 партий в сумме для удаления (кроме партий с номером больше 2500). \n",
    "Значит, ошибка хронологии часто была, как для сыпучих, так и для проволочных по одной и той же партии.\n",
    "\n",
    "Запомним этот список и воспользуемся им уже после объединения данных со всех таблиц."
   ]
  },
  {
   "cell_type": "markdown",
   "metadata": {},
   "source": [
    "#### Добавление данных об электродах, df_arc"
   ]
  },
  {
   "cell_type": "markdown",
   "metadata": {},
   "source": [
    "Теперь добавим данные из других таблиц, начнем с \"Данных об электродах, df_arc\". Вычислим сначала для это полную мощность и работу и агрегируем это до партии."
   ]
  },
  {
   "cell_type": "code",
   "execution_count": 53,
   "metadata": {},
   "outputs": [
    {
     "data": {
      "text/html": [
       "<div>\n",
       "<style scoped>\n",
       "    .dataframe tbody tr th:only-of-type {\n",
       "        vertical-align: middle;\n",
       "    }\n",
       "\n",
       "    .dataframe tbody tr th {\n",
       "        vertical-align: top;\n",
       "    }\n",
       "\n",
       "    .dataframe thead th {\n",
       "        text-align: right;\n",
       "    }\n",
       "</style>\n",
       "<table border=\"1\" class=\"dataframe\">\n",
       "  <thead>\n",
       "    <tr style=\"text-align: right;\">\n",
       "      <th></th>\n",
       "      <th>key</th>\n",
       "      <th>Начало нагрева дугой</th>\n",
       "      <th>Конец нагрева дугой</th>\n",
       "      <th>Активная мощность</th>\n",
       "      <th>Реактивная мощность</th>\n",
       "      <th>Полная мощность</th>\n",
       "      <th>Время нагрева</th>\n",
       "    </tr>\n",
       "  </thead>\n",
       "  <tbody>\n",
       "    <tr>\n",
       "      <td>0</td>\n",
       "      <td>1</td>\n",
       "      <td>2019-05-03 11:02:14</td>\n",
       "      <td>2019-05-03 11:06:02</td>\n",
       "      <td>0.976059</td>\n",
       "      <td>0.687084</td>\n",
       "      <td>1.193639</td>\n",
       "      <td>00:03:48</td>\n",
       "    </tr>\n",
       "    <tr>\n",
       "      <td>1</td>\n",
       "      <td>1</td>\n",
       "      <td>2019-05-03 11:07:28</td>\n",
       "      <td>2019-05-03 11:10:33</td>\n",
       "      <td>0.805607</td>\n",
       "      <td>0.520285</td>\n",
       "      <td>0.959010</td>\n",
       "      <td>00:03:05</td>\n",
       "    </tr>\n",
       "    <tr>\n",
       "      <td>2</td>\n",
       "      <td>1</td>\n",
       "      <td>2019-05-03 11:11:44</td>\n",
       "      <td>2019-05-03 11:14:36</td>\n",
       "      <td>0.744363</td>\n",
       "      <td>0.498805</td>\n",
       "      <td>0.896038</td>\n",
       "      <td>00:02:52</td>\n",
       "    </tr>\n",
       "    <tr>\n",
       "      <td>3</td>\n",
       "      <td>1</td>\n",
       "      <td>2019-05-03 11:18:14</td>\n",
       "      <td>2019-05-03 11:24:19</td>\n",
       "      <td>1.659363</td>\n",
       "      <td>1.062669</td>\n",
       "      <td>1.970470</td>\n",
       "      <td>00:06:05</td>\n",
       "    </tr>\n",
       "    <tr>\n",
       "      <td>4</td>\n",
       "      <td>1</td>\n",
       "      <td>2019-05-03 11:26:09</td>\n",
       "      <td>2019-05-03 11:28:37</td>\n",
       "      <td>0.692755</td>\n",
       "      <td>0.414397</td>\n",
       "      <td>0.807239</td>\n",
       "      <td>00:02:28</td>\n",
       "    </tr>\n",
       "  </tbody>\n",
       "</table>\n",
       "</div>"
      ],
      "text/plain": [
       "   key Начало нагрева дугой  Конец нагрева дугой  Активная мощность  \\\n",
       "0    1  2019-05-03 11:02:14  2019-05-03 11:06:02           0.976059   \n",
       "1    1  2019-05-03 11:07:28  2019-05-03 11:10:33           0.805607   \n",
       "2    1  2019-05-03 11:11:44  2019-05-03 11:14:36           0.744363   \n",
       "3    1  2019-05-03 11:18:14  2019-05-03 11:24:19           1.659363   \n",
       "4    1  2019-05-03 11:26:09  2019-05-03 11:28:37           0.692755   \n",
       "\n",
       "   Реактивная мощность  Полная мощность Время нагрева  \n",
       "0             0.687084         1.193639      00:03:48  \n",
       "1             0.520285         0.959010      00:03:05  \n",
       "2             0.498805         0.896038      00:02:52  \n",
       "3             1.062669         1.970470      00:06:05  \n",
       "4             0.414397         0.807239      00:02:28  "
      ]
     },
     "execution_count": 53,
     "metadata": {},
     "output_type": "execute_result"
    }
   ],
   "source": [
    "df_arc['Полная мощность'] = (df_arc['Активная мощность']**2 + df_arc['Реактивная мощность']**2)**(0.5)\n",
    "df_arc['Время нагрева'] = (pd.to_datetime(df_arc['Конец нагрева дугой'], format='%Y-%m-%d %H:%M:%S') -\n",
    "                           pd.to_datetime(df_arc['Начало нагрева дугой'], format='%Y-%m-%d %H:%M:%S'))\n",
    "df_arc.head()"
   ]
  },
  {
   "cell_type": "markdown",
   "metadata": {},
   "source": [
    "Переведем время, которое требовалось для нагрева в секунды. "
   ]
  },
  {
   "cell_type": "code",
   "execution_count": 54,
   "metadata": {},
   "outputs": [],
   "source": [
    "df_arc['Время нагрева, секунды'] = df_arc['Время нагрева'].apply(lambda x: x.total_seconds())\n",
    "\n",
    "df_arc['Работа'] = df_arc['Время нагрева, секунды'] * df_arc['Полная мощность']"
   ]
  },
  {
   "cell_type": "code",
   "execution_count": 55,
   "metadata": {},
   "outputs": [
    {
     "data": {
      "text/html": [
       "<div>\n",
       "<style scoped>\n",
       "    .dataframe tbody tr th:only-of-type {\n",
       "        vertical-align: middle;\n",
       "    }\n",
       "\n",
       "    .dataframe tbody tr th {\n",
       "        vertical-align: top;\n",
       "    }\n",
       "\n",
       "    .dataframe thead th {\n",
       "        text-align: right;\n",
       "    }\n",
       "</style>\n",
       "<table border=\"1\" class=\"dataframe\">\n",
       "  <thead>\n",
       "    <tr style=\"text-align: right;\">\n",
       "      <th></th>\n",
       "      <th>key</th>\n",
       "      <th>Начало нагрева дугой</th>\n",
       "      <th>Конец нагрева дугой</th>\n",
       "      <th>Активная мощность</th>\n",
       "      <th>Реактивная мощность</th>\n",
       "      <th>Полная мощность</th>\n",
       "      <th>Время нагрева</th>\n",
       "      <th>Время нагрева, секунды</th>\n",
       "      <th>Работа</th>\n",
       "    </tr>\n",
       "  </thead>\n",
       "  <tbody>\n",
       "    <tr>\n",
       "      <td>0</td>\n",
       "      <td>1</td>\n",
       "      <td>2019-05-03 11:02:14</td>\n",
       "      <td>2019-05-03 11:06:02</td>\n",
       "      <td>0.976059</td>\n",
       "      <td>0.687084</td>\n",
       "      <td>1.193639</td>\n",
       "      <td>00:03:48</td>\n",
       "      <td>228.0</td>\n",
       "      <td>272.149755</td>\n",
       "    </tr>\n",
       "    <tr>\n",
       "      <td>1</td>\n",
       "      <td>1</td>\n",
       "      <td>2019-05-03 11:07:28</td>\n",
       "      <td>2019-05-03 11:10:33</td>\n",
       "      <td>0.805607</td>\n",
       "      <td>0.520285</td>\n",
       "      <td>0.959010</td>\n",
       "      <td>00:03:05</td>\n",
       "      <td>185.0</td>\n",
       "      <td>177.416785</td>\n",
       "    </tr>\n",
       "    <tr>\n",
       "      <td>2</td>\n",
       "      <td>1</td>\n",
       "      <td>2019-05-03 11:11:44</td>\n",
       "      <td>2019-05-03 11:14:36</td>\n",
       "      <td>0.744363</td>\n",
       "      <td>0.498805</td>\n",
       "      <td>0.896038</td>\n",
       "      <td>00:02:52</td>\n",
       "      <td>172.0</td>\n",
       "      <td>154.118502</td>\n",
       "    </tr>\n",
       "    <tr>\n",
       "      <td>3</td>\n",
       "      <td>1</td>\n",
       "      <td>2019-05-03 11:18:14</td>\n",
       "      <td>2019-05-03 11:24:19</td>\n",
       "      <td>1.659363</td>\n",
       "      <td>1.062669</td>\n",
       "      <td>1.970470</td>\n",
       "      <td>00:06:05</td>\n",
       "      <td>365.0</td>\n",
       "      <td>719.221394</td>\n",
       "    </tr>\n",
       "    <tr>\n",
       "      <td>4</td>\n",
       "      <td>1</td>\n",
       "      <td>2019-05-03 11:26:09</td>\n",
       "      <td>2019-05-03 11:28:37</td>\n",
       "      <td>0.692755</td>\n",
       "      <td>0.414397</td>\n",
       "      <td>0.807239</td>\n",
       "      <td>00:02:28</td>\n",
       "      <td>148.0</td>\n",
       "      <td>119.471318</td>\n",
       "    </tr>\n",
       "  </tbody>\n",
       "</table>\n",
       "</div>"
      ],
      "text/plain": [
       "   key Начало нагрева дугой  Конец нагрева дугой  Активная мощность  \\\n",
       "0    1  2019-05-03 11:02:14  2019-05-03 11:06:02           0.976059   \n",
       "1    1  2019-05-03 11:07:28  2019-05-03 11:10:33           0.805607   \n",
       "2    1  2019-05-03 11:11:44  2019-05-03 11:14:36           0.744363   \n",
       "3    1  2019-05-03 11:18:14  2019-05-03 11:24:19           1.659363   \n",
       "4    1  2019-05-03 11:26:09  2019-05-03 11:28:37           0.692755   \n",
       "\n",
       "   Реактивная мощность  Полная мощность Время нагрева  Время нагрева, секунды  \\\n",
       "0             0.687084         1.193639      00:03:48                   228.0   \n",
       "1             0.520285         0.959010      00:03:05                   185.0   \n",
       "2             0.498805         0.896038      00:02:52                   172.0   \n",
       "3             1.062669         1.970470      00:06:05                   365.0   \n",
       "4             0.414397         0.807239      00:02:28                   148.0   \n",
       "\n",
       "       Работа  \n",
       "0  272.149755  \n",
       "1  177.416785  \n",
       "2  154.118502  \n",
       "3  719.221394  \n",
       "4  119.471318  "
      ]
     },
     "execution_count": 55,
     "metadata": {},
     "output_type": "execute_result"
    }
   ],
   "source": [
    "df_arc.head()"
   ]
  },
  {
   "cell_type": "markdown",
   "metadata": {},
   "source": [
    "Теперь агрегируем до партий время нагрева в секундах и работу. Но также посчитаем и число итераций нагревов для каждой партии.\n"
   ]
  },
  {
   "cell_type": "code",
   "execution_count": 56,
   "metadata": {},
   "outputs": [],
   "source": [
    "arc_info = (df_arc.pivot_table(index='key', values=['Время нагрева, секунды','Работа'], aggfunc=['sum', 'count'])\n",
    "             .reset_index()\n",
    "            )\n",
    "\n",
    "\n",
    "arc_info.columns = ['key', 'Время нагрева, секунды','Работа','Число итераций','Число итераций 2']\n",
    "\n",
    "arc_info.drop('Число итераций 2', axis=1, inplace=True)"
   ]
  },
  {
   "cell_type": "code",
   "execution_count": 57,
   "metadata": {},
   "outputs": [
    {
     "name": "stdout",
     "output_type": "stream",
     "text": [
      "<class 'pandas.core.frame.DataFrame'>\n",
      "RangeIndex: 3214 entries, 0 to 3213\n",
      "Data columns (total 4 columns):\n",
      "key                       3214 non-null int64\n",
      "Время нагрева, секунды    3214 non-null float64\n",
      "Работа                    3214 non-null float64\n",
      "Число итераций            3214 non-null int64\n",
      "dtypes: float64(2), int64(2)\n",
      "memory usage: 100.6 KB\n"
     ]
    }
   ],
   "source": [
    "arc_info.info()"
   ]
  },
  {
   "cell_type": "code",
   "execution_count": 58,
   "metadata": {},
   "outputs": [
    {
     "data": {
      "text/html": [
       "<div>\n",
       "<style scoped>\n",
       "    .dataframe tbody tr th:only-of-type {\n",
       "        vertical-align: middle;\n",
       "    }\n",
       "\n",
       "    .dataframe tbody tr th {\n",
       "        vertical-align: top;\n",
       "    }\n",
       "\n",
       "    .dataframe thead th {\n",
       "        text-align: right;\n",
       "    }\n",
       "</style>\n",
       "<table border=\"1\" class=\"dataframe\">\n",
       "  <thead>\n",
       "    <tr style=\"text-align: right;\">\n",
       "      <th></th>\n",
       "      <th>key</th>\n",
       "      <th>Время нагрева, секунды</th>\n",
       "      <th>Работа</th>\n",
       "      <th>Число итераций</th>\n",
       "    </tr>\n",
       "  </thead>\n",
       "  <tbody>\n",
       "    <tr>\n",
       "      <td>0</td>\n",
       "      <td>1</td>\n",
       "      <td>1098.0</td>\n",
       "      <td>1442.377754</td>\n",
       "      <td>5</td>\n",
       "    </tr>\n",
       "    <tr>\n",
       "      <td>1</td>\n",
       "      <td>2</td>\n",
       "      <td>811.0</td>\n",
       "      <td>881.233565</td>\n",
       "      <td>4</td>\n",
       "    </tr>\n",
       "    <tr>\n",
       "      <td>2</td>\n",
       "      <td>3</td>\n",
       "      <td>655.0</td>\n",
       "      <td>525.066777</td>\n",
       "      <td>5</td>\n",
       "    </tr>\n",
       "    <tr>\n",
       "      <td>3</td>\n",
       "      <td>4</td>\n",
       "      <td>741.0</td>\n",
       "      <td>796.911309</td>\n",
       "      <td>4</td>\n",
       "    </tr>\n",
       "    <tr>\n",
       "      <td>4</td>\n",
       "      <td>5</td>\n",
       "      <td>869.0</td>\n",
       "      <td>1199.137958</td>\n",
       "      <td>4</td>\n",
       "    </tr>\n",
       "  </tbody>\n",
       "</table>\n",
       "</div>"
      ],
      "text/plain": [
       "   key  Время нагрева, секунды       Работа  Число итераций\n",
       "0    1                  1098.0  1442.377754               5\n",
       "1    2                   811.0   881.233565               4\n",
       "2    3                   655.0   525.066777               5\n",
       "3    4                   741.0   796.911309               4\n",
       "4    5                   869.0  1199.137958               4"
      ]
     },
     "execution_count": 58,
     "metadata": {},
     "output_type": "execute_result"
    }
   ],
   "source": [
    "arc_info.head()"
   ]
  },
  {
   "cell_type": "markdown",
   "metadata": {},
   "source": [
    "Отлично, но также не хочется терять информацию по соотношению активной и реактивной мощности. Поэтому добавим среднее значение по ним. Суммировать мы их не можем из-за соблюдения физических формул."
   ]
  },
  {
   "cell_type": "code",
   "execution_count": 59,
   "metadata": {},
   "outputs": [],
   "source": [
    "arc_info_2 = (df_arc.pivot_table(index='key', values=['Активная мощность','Реактивная мощность'], aggfunc='mean')\n",
    "             .reset_index()\n",
    "            )\n",
    "\n",
    "\n",
    "arc_info_2.columns = ['key', 'Средняя активная мощность','Средняя реактивная мощность']\n",
    "\n",
    "arc_info = pd.merge(arc_info, arc_info_2, how='left')"
   ]
  },
  {
   "cell_type": "markdown",
   "metadata": {},
   "source": [
    "Добавим к общей таблице."
   ]
  },
  {
   "cell_type": "code",
   "execution_count": 60,
   "metadata": {},
   "outputs": [
    {
     "data": {
      "text/html": [
       "<div>\n",
       "<style scoped>\n",
       "    .dataframe tbody tr th:only-of-type {\n",
       "        vertical-align: middle;\n",
       "    }\n",
       "\n",
       "    .dataframe tbody tr th {\n",
       "        vertical-align: top;\n",
       "    }\n",
       "\n",
       "    .dataframe thead th {\n",
       "        text-align: right;\n",
       "    }\n",
       "</style>\n",
       "<table border=\"1\" class=\"dataframe\">\n",
       "  <thead>\n",
       "    <tr style=\"text-align: right;\">\n",
       "      <th></th>\n",
       "      <th>key</th>\n",
       "      <th>Замер температуры первый</th>\n",
       "      <th>Замер температуры последний</th>\n",
       "      <th>Температура замер первый</th>\n",
       "      <th>Температура замер последний</th>\n",
       "      <th>Время нагрева, секунды</th>\n",
       "      <th>Работа</th>\n",
       "      <th>Число итераций</th>\n",
       "      <th>Средняя активная мощность</th>\n",
       "      <th>Средняя реактивная мощность</th>\n",
       "    </tr>\n",
       "  </thead>\n",
       "  <tbody>\n",
       "    <tr>\n",
       "      <td>0</td>\n",
       "      <td>1</td>\n",
       "      <td>2019-05-03 11:16:18</td>\n",
       "      <td>2019-05-03 11:30:39</td>\n",
       "      <td>1571.0</td>\n",
       "      <td>1613.0</td>\n",
       "      <td>1098.0</td>\n",
       "      <td>1442.377754</td>\n",
       "      <td>5.0</td>\n",
       "      <td>0.975629</td>\n",
       "      <td>0.636648</td>\n",
       "    </tr>\n",
       "    <tr>\n",
       "      <td>1</td>\n",
       "      <td>2</td>\n",
       "      <td>2019-05-03 11:37:27</td>\n",
       "      <td>2019-05-03 11:59:12</td>\n",
       "      <td>1581.0</td>\n",
       "      <td>1602.0</td>\n",
       "      <td>811.0</td>\n",
       "      <td>881.233565</td>\n",
       "      <td>4.0</td>\n",
       "      <td>0.763150</td>\n",
       "      <td>0.499528</td>\n",
       "    </tr>\n",
       "    <tr>\n",
       "      <td>2</td>\n",
       "      <td>3</td>\n",
       "      <td>2019-05-03 12:13:17</td>\n",
       "      <td>2019-05-03 12:34:57</td>\n",
       "      <td>1596.0</td>\n",
       "      <td>1599.0</td>\n",
       "      <td>655.0</td>\n",
       "      <td>525.066777</td>\n",
       "      <td>5.0</td>\n",
       "      <td>0.505176</td>\n",
       "      <td>0.319815</td>\n",
       "    </tr>\n",
       "    <tr>\n",
       "      <td>3</td>\n",
       "      <td>4</td>\n",
       "      <td>2019-05-03 12:52:57</td>\n",
       "      <td>2019-05-03 12:59:25</td>\n",
       "      <td>1601.0</td>\n",
       "      <td>1625.0</td>\n",
       "      <td>741.0</td>\n",
       "      <td>796.911309</td>\n",
       "      <td>4.0</td>\n",
       "      <td>0.802313</td>\n",
       "      <td>0.515074</td>\n",
       "    </tr>\n",
       "    <tr>\n",
       "      <td>4</td>\n",
       "      <td>5</td>\n",
       "      <td>2019-05-03 13:23:19</td>\n",
       "      <td>2019-05-03 13:36:01</td>\n",
       "      <td>1576.0</td>\n",
       "      <td>1602.0</td>\n",
       "      <td>869.0</td>\n",
       "      <td>1199.137958</td>\n",
       "      <td>4.0</td>\n",
       "      <td>0.836793</td>\n",
       "      <td>0.563161</td>\n",
       "    </tr>\n",
       "  </tbody>\n",
       "</table>\n",
       "</div>"
      ],
      "text/plain": [
       "   key Замер температуры первый Замер температуры последний  \\\n",
       "0    1      2019-05-03 11:16:18         2019-05-03 11:30:39   \n",
       "1    2      2019-05-03 11:37:27         2019-05-03 11:59:12   \n",
       "2    3      2019-05-03 12:13:17         2019-05-03 12:34:57   \n",
       "3    4      2019-05-03 12:52:57         2019-05-03 12:59:25   \n",
       "4    5      2019-05-03 13:23:19         2019-05-03 13:36:01   \n",
       "\n",
       "   Температура замер первый  Температура замер последний  \\\n",
       "0                    1571.0                       1613.0   \n",
       "1                    1581.0                       1602.0   \n",
       "2                    1596.0                       1599.0   \n",
       "3                    1601.0                       1625.0   \n",
       "4                    1576.0                       1602.0   \n",
       "\n",
       "   Время нагрева, секунды       Работа  Число итераций  \\\n",
       "0                  1098.0  1442.377754             5.0   \n",
       "1                   811.0   881.233565             4.0   \n",
       "2                   655.0   525.066777             5.0   \n",
       "3                   741.0   796.911309             4.0   \n",
       "4                   869.0  1199.137958             4.0   \n",
       "\n",
       "   Средняя активная мощность  Средняя реактивная мощность  \n",
       "0                   0.975629                     0.636648  \n",
       "1                   0.763150                     0.499528  \n",
       "2                   0.505176                     0.319815  \n",
       "3                   0.802313                     0.515074  \n",
       "4                   0.836793                     0.563161  "
      ]
     },
     "execution_count": 60,
     "metadata": {},
     "output_type": "execute_result"
    }
   ],
   "source": [
    "key_info = pd.merge(key_info, arc_info, how='left')\n",
    "\n",
    "key_info.head()"
   ]
  },
  {
   "cell_type": "markdown",
   "metadata": {},
   "source": [
    "Также посчитаем теперь обратно полную мощность. Скорее всего она будет сильно коррелировать с работой, но проверим это на стадии проверки коллинеарности."
   ]
  },
  {
   "cell_type": "code",
   "execution_count": 61,
   "metadata": {},
   "outputs": [
    {
     "data": {
      "text/html": [
       "<div>\n",
       "<style scoped>\n",
       "    .dataframe tbody tr th:only-of-type {\n",
       "        vertical-align: middle;\n",
       "    }\n",
       "\n",
       "    .dataframe tbody tr th {\n",
       "        vertical-align: top;\n",
       "    }\n",
       "\n",
       "    .dataframe thead th {\n",
       "        text-align: right;\n",
       "    }\n",
       "</style>\n",
       "<table border=\"1\" class=\"dataframe\">\n",
       "  <thead>\n",
       "    <tr style=\"text-align: right;\">\n",
       "      <th></th>\n",
       "      <th>key</th>\n",
       "      <th>Замер температуры первый</th>\n",
       "      <th>Замер температуры последний</th>\n",
       "      <th>Температура замер первый</th>\n",
       "      <th>Температура замер последний</th>\n",
       "      <th>Время нагрева, секунды</th>\n",
       "      <th>Работа</th>\n",
       "      <th>Число итераций</th>\n",
       "      <th>Средняя активная мощность</th>\n",
       "      <th>Средняя реактивная мощность</th>\n",
       "      <th>Полная мощность</th>\n",
       "    </tr>\n",
       "  </thead>\n",
       "  <tbody>\n",
       "    <tr>\n",
       "      <td>0</td>\n",
       "      <td>1</td>\n",
       "      <td>2019-05-03 11:16:18</td>\n",
       "      <td>2019-05-03 11:30:39</td>\n",
       "      <td>1571.0</td>\n",
       "      <td>1613.0</td>\n",
       "      <td>1098.0</td>\n",
       "      <td>1442.377754</td>\n",
       "      <td>5.0</td>\n",
       "      <td>0.975629</td>\n",
       "      <td>0.636648</td>\n",
       "      <td>1.313641</td>\n",
       "    </tr>\n",
       "    <tr>\n",
       "      <td>1</td>\n",
       "      <td>2</td>\n",
       "      <td>2019-05-03 11:37:27</td>\n",
       "      <td>2019-05-03 11:59:12</td>\n",
       "      <td>1581.0</td>\n",
       "      <td>1602.0</td>\n",
       "      <td>811.0</td>\n",
       "      <td>881.233565</td>\n",
       "      <td>4.0</td>\n",
       "      <td>0.763150</td>\n",
       "      <td>0.499528</td>\n",
       "      <td>1.086601</td>\n",
       "    </tr>\n",
       "    <tr>\n",
       "      <td>2</td>\n",
       "      <td>3</td>\n",
       "      <td>2019-05-03 12:13:17</td>\n",
       "      <td>2019-05-03 12:34:57</td>\n",
       "      <td>1596.0</td>\n",
       "      <td>1599.0</td>\n",
       "      <td>655.0</td>\n",
       "      <td>525.066777</td>\n",
       "      <td>5.0</td>\n",
       "      <td>0.505176</td>\n",
       "      <td>0.319815</td>\n",
       "      <td>0.801629</td>\n",
       "    </tr>\n",
       "    <tr>\n",
       "      <td>3</td>\n",
       "      <td>4</td>\n",
       "      <td>2019-05-03 12:52:57</td>\n",
       "      <td>2019-05-03 12:59:25</td>\n",
       "      <td>1601.0</td>\n",
       "      <td>1625.0</td>\n",
       "      <td>741.0</td>\n",
       "      <td>796.911309</td>\n",
       "      <td>4.0</td>\n",
       "      <td>0.802313</td>\n",
       "      <td>0.515074</td>\n",
       "      <td>1.075454</td>\n",
       "    </tr>\n",
       "    <tr>\n",
       "      <td>4</td>\n",
       "      <td>5</td>\n",
       "      <td>2019-05-03 13:23:19</td>\n",
       "      <td>2019-05-03 13:36:01</td>\n",
       "      <td>1576.0</td>\n",
       "      <td>1602.0</td>\n",
       "      <td>869.0</td>\n",
       "      <td>1199.137958</td>\n",
       "      <td>4.0</td>\n",
       "      <td>0.836793</td>\n",
       "      <td>0.563161</td>\n",
       "      <td>1.379906</td>\n",
       "    </tr>\n",
       "  </tbody>\n",
       "</table>\n",
       "</div>"
      ],
      "text/plain": [
       "   key Замер температуры первый Замер температуры последний  \\\n",
       "0    1      2019-05-03 11:16:18         2019-05-03 11:30:39   \n",
       "1    2      2019-05-03 11:37:27         2019-05-03 11:59:12   \n",
       "2    3      2019-05-03 12:13:17         2019-05-03 12:34:57   \n",
       "3    4      2019-05-03 12:52:57         2019-05-03 12:59:25   \n",
       "4    5      2019-05-03 13:23:19         2019-05-03 13:36:01   \n",
       "\n",
       "   Температура замер первый  Температура замер последний  \\\n",
       "0                    1571.0                       1613.0   \n",
       "1                    1581.0                       1602.0   \n",
       "2                    1596.0                       1599.0   \n",
       "3                    1601.0                       1625.0   \n",
       "4                    1576.0                       1602.0   \n",
       "\n",
       "   Время нагрева, секунды       Работа  Число итераций  \\\n",
       "0                  1098.0  1442.377754             5.0   \n",
       "1                   811.0   881.233565             4.0   \n",
       "2                   655.0   525.066777             5.0   \n",
       "3                   741.0   796.911309             4.0   \n",
       "4                   869.0  1199.137958             4.0   \n",
       "\n",
       "   Средняя активная мощность  Средняя реактивная мощность  Полная мощность  \n",
       "0                   0.975629                     0.636648         1.313641  \n",
       "1                   0.763150                     0.499528         1.086601  \n",
       "2                   0.505176                     0.319815         0.801629  \n",
       "3                   0.802313                     0.515074         1.075454  \n",
       "4                   0.836793                     0.563161         1.379906  "
      ]
     },
     "execution_count": 61,
     "metadata": {},
     "output_type": "execute_result"
    }
   ],
   "source": [
    "key_info['Полная мощность'] = key_info['Работа'] / key_info['Время нагрева, секунды']\n",
    "\n",
    "key_info.head()"
   ]
  },
  {
   "cell_type": "markdown",
   "metadata": {},
   "source": [
    "#### Добавление данных о сыпучих, проволочных материалах и газе"
   ]
  },
  {
   "cell_type": "markdown",
   "metadata": {},
   "source": [
    "Добавим данные из таблиц, где данные уже агрегированные."
   ]
  },
  {
   "cell_type": "code",
   "execution_count": 62,
   "metadata": {},
   "outputs": [
    {
     "data": {
      "text/html": [
       "<div>\n",
       "<style scoped>\n",
       "    .dataframe tbody tr th:only-of-type {\n",
       "        vertical-align: middle;\n",
       "    }\n",
       "\n",
       "    .dataframe tbody tr th {\n",
       "        vertical-align: top;\n",
       "    }\n",
       "\n",
       "    .dataframe thead th {\n",
       "        text-align: right;\n",
       "    }\n",
       "</style>\n",
       "<table border=\"1\" class=\"dataframe\">\n",
       "  <thead>\n",
       "    <tr style=\"text-align: right;\">\n",
       "      <th></th>\n",
       "      <th>key</th>\n",
       "      <th>Замер температуры первый</th>\n",
       "      <th>Замер температуры последний</th>\n",
       "      <th>Температура замер первый</th>\n",
       "      <th>Температура замер последний</th>\n",
       "      <th>Время нагрева, секунды</th>\n",
       "      <th>Работа</th>\n",
       "      <th>Число итераций</th>\n",
       "      <th>Средняя активная мощность</th>\n",
       "      <th>Средняя реактивная мощность</th>\n",
       "      <th>...</th>\n",
       "      <th>Wire 1</th>\n",
       "      <th>Wire 2</th>\n",
       "      <th>Wire 3</th>\n",
       "      <th>Wire 4</th>\n",
       "      <th>Wire 5</th>\n",
       "      <th>Wire 6</th>\n",
       "      <th>Wire 7</th>\n",
       "      <th>Wire 8</th>\n",
       "      <th>Wire 9</th>\n",
       "      <th>Газ 1</th>\n",
       "    </tr>\n",
       "  </thead>\n",
       "  <tbody>\n",
       "    <tr>\n",
       "      <td>0</td>\n",
       "      <td>1</td>\n",
       "      <td>2019-05-03 11:16:18</td>\n",
       "      <td>2019-05-03 11:30:39</td>\n",
       "      <td>1571.0</td>\n",
       "      <td>1613.0</td>\n",
       "      <td>1098.0</td>\n",
       "      <td>1442.377754</td>\n",
       "      <td>5.0</td>\n",
       "      <td>0.975629</td>\n",
       "      <td>0.636648</td>\n",
       "      <td>...</td>\n",
       "      <td>60.059998</td>\n",
       "      <td>NaN</td>\n",
       "      <td>NaN</td>\n",
       "      <td>NaN</td>\n",
       "      <td>NaN</td>\n",
       "      <td>NaN</td>\n",
       "      <td>NaN</td>\n",
       "      <td>NaN</td>\n",
       "      <td>NaN</td>\n",
       "      <td>29.749986</td>\n",
       "    </tr>\n",
       "    <tr>\n",
       "      <td>1</td>\n",
       "      <td>2</td>\n",
       "      <td>2019-05-03 11:37:27</td>\n",
       "      <td>2019-05-03 11:59:12</td>\n",
       "      <td>1581.0</td>\n",
       "      <td>1602.0</td>\n",
       "      <td>811.0</td>\n",
       "      <td>881.233565</td>\n",
       "      <td>4.0</td>\n",
       "      <td>0.763150</td>\n",
       "      <td>0.499528</td>\n",
       "      <td>...</td>\n",
       "      <td>96.052315</td>\n",
       "      <td>NaN</td>\n",
       "      <td>NaN</td>\n",
       "      <td>NaN</td>\n",
       "      <td>NaN</td>\n",
       "      <td>NaN</td>\n",
       "      <td>NaN</td>\n",
       "      <td>NaN</td>\n",
       "      <td>NaN</td>\n",
       "      <td>12.555561</td>\n",
       "    </tr>\n",
       "    <tr>\n",
       "      <td>2</td>\n",
       "      <td>3</td>\n",
       "      <td>2019-05-03 12:13:17</td>\n",
       "      <td>2019-05-03 12:34:57</td>\n",
       "      <td>1596.0</td>\n",
       "      <td>1599.0</td>\n",
       "      <td>655.0</td>\n",
       "      <td>525.066777</td>\n",
       "      <td>5.0</td>\n",
       "      <td>0.505176</td>\n",
       "      <td>0.319815</td>\n",
       "      <td>...</td>\n",
       "      <td>91.160157</td>\n",
       "      <td>NaN</td>\n",
       "      <td>NaN</td>\n",
       "      <td>NaN</td>\n",
       "      <td>NaN</td>\n",
       "      <td>NaN</td>\n",
       "      <td>NaN</td>\n",
       "      <td>NaN</td>\n",
       "      <td>NaN</td>\n",
       "      <td>28.554793</td>\n",
       "    </tr>\n",
       "    <tr>\n",
       "      <td>3</td>\n",
       "      <td>4</td>\n",
       "      <td>2019-05-03 12:52:57</td>\n",
       "      <td>2019-05-03 12:59:25</td>\n",
       "      <td>1601.0</td>\n",
       "      <td>1625.0</td>\n",
       "      <td>741.0</td>\n",
       "      <td>796.911309</td>\n",
       "      <td>4.0</td>\n",
       "      <td>0.802313</td>\n",
       "      <td>0.515074</td>\n",
       "      <td>...</td>\n",
       "      <td>89.063515</td>\n",
       "      <td>NaN</td>\n",
       "      <td>NaN</td>\n",
       "      <td>NaN</td>\n",
       "      <td>NaN</td>\n",
       "      <td>NaN</td>\n",
       "      <td>NaN</td>\n",
       "      <td>NaN</td>\n",
       "      <td>NaN</td>\n",
       "      <td>18.841219</td>\n",
       "    </tr>\n",
       "    <tr>\n",
       "      <td>4</td>\n",
       "      <td>5</td>\n",
       "      <td>2019-05-03 13:23:19</td>\n",
       "      <td>2019-05-03 13:36:01</td>\n",
       "      <td>1576.0</td>\n",
       "      <td>1602.0</td>\n",
       "      <td>869.0</td>\n",
       "      <td>1199.137958</td>\n",
       "      <td>4.0</td>\n",
       "      <td>0.836793</td>\n",
       "      <td>0.563161</td>\n",
       "      <td>...</td>\n",
       "      <td>89.238236</td>\n",
       "      <td>9.11456</td>\n",
       "      <td>NaN</td>\n",
       "      <td>NaN</td>\n",
       "      <td>NaN</td>\n",
       "      <td>NaN</td>\n",
       "      <td>NaN</td>\n",
       "      <td>NaN</td>\n",
       "      <td>NaN</td>\n",
       "      <td>5.413692</td>\n",
       "    </tr>\n",
       "  </tbody>\n",
       "</table>\n",
       "<p>5 rows × 36 columns</p>\n",
       "</div>"
      ],
      "text/plain": [
       "   key Замер температуры первый Замер температуры последний  \\\n",
       "0    1      2019-05-03 11:16:18         2019-05-03 11:30:39   \n",
       "1    2      2019-05-03 11:37:27         2019-05-03 11:59:12   \n",
       "2    3      2019-05-03 12:13:17         2019-05-03 12:34:57   \n",
       "3    4      2019-05-03 12:52:57         2019-05-03 12:59:25   \n",
       "4    5      2019-05-03 13:23:19         2019-05-03 13:36:01   \n",
       "\n",
       "   Температура замер первый  Температура замер последний  \\\n",
       "0                    1571.0                       1613.0   \n",
       "1                    1581.0                       1602.0   \n",
       "2                    1596.0                       1599.0   \n",
       "3                    1601.0                       1625.0   \n",
       "4                    1576.0                       1602.0   \n",
       "\n",
       "   Время нагрева, секунды       Работа  Число итераций  \\\n",
       "0                  1098.0  1442.377754             5.0   \n",
       "1                   811.0   881.233565             4.0   \n",
       "2                   655.0   525.066777             5.0   \n",
       "3                   741.0   796.911309             4.0   \n",
       "4                   869.0  1199.137958             4.0   \n",
       "\n",
       "   Средняя активная мощность  Средняя реактивная мощность  ...     Wire 1  \\\n",
       "0                   0.975629                     0.636648  ...  60.059998   \n",
       "1                   0.763150                     0.499528  ...  96.052315   \n",
       "2                   0.505176                     0.319815  ...  91.160157   \n",
       "3                   0.802313                     0.515074  ...  89.063515   \n",
       "4                   0.836793                     0.563161  ...  89.238236   \n",
       "\n",
       "    Wire 2  Wire 3  Wire 4  Wire 5  Wire 6  Wire 7  Wire 8  Wire 9      Газ 1  \n",
       "0      NaN     NaN     NaN     NaN     NaN     NaN     NaN     NaN  29.749986  \n",
       "1      NaN     NaN     NaN     NaN     NaN     NaN     NaN     NaN  12.555561  \n",
       "2      NaN     NaN     NaN     NaN     NaN     NaN     NaN     NaN  28.554793  \n",
       "3      NaN     NaN     NaN     NaN     NaN     NaN     NaN     NaN  18.841219  \n",
       "4  9.11456     NaN     NaN     NaN     NaN     NaN     NaN     NaN   5.413692  \n",
       "\n",
       "[5 rows x 36 columns]"
      ]
     },
     "execution_count": 62,
     "metadata": {},
     "output_type": "execute_result"
    }
   ],
   "source": [
    "key_info = pd.merge(key_info, df_bulk, how='left')\n",
    "key_info = pd.merge(key_info, df_wire, how='left')\n",
    "key_info = pd.merge(key_info, df_gas, how='left')\n",
    "\n",
    "key_info.head()"
   ]
  },
  {
   "cell_type": "markdown",
   "metadata": {},
   "source": [
    "Объедилили все данные, теперь столбцы со временем замеров температуры нам не нужны. Удалим их.\n",
    "\n",
    "Также из дополнительных признаков можно добавить суммарный объем сыпучих и проволочных материалов. Для этого заменим пропуски на 0."
   ]
  },
  {
   "cell_type": "code",
   "execution_count": 63,
   "metadata": {},
   "outputs": [
    {
     "name": "stdout",
     "output_type": "stream",
     "text": [
      "<class 'pandas.core.frame.DataFrame'>\n",
      "Int64Index: 3216 entries, 0 to 3215\n",
      "Data columns (total 34 columns):\n",
      "key                            3216 non-null int64\n",
      "Температура замер первый       3216 non-null float64\n",
      "Температура замер последний    2477 non-null float64\n",
      "Время нагрева, секунды         3214 non-null float64\n",
      "Работа                         3214 non-null float64\n",
      "Число итераций                 3214 non-null float64\n",
      "Средняя активная мощность      3214 non-null float64\n",
      "Средняя реактивная мощность    3214 non-null float64\n",
      "Полная мощность                3214 non-null float64\n",
      "Bulk 1                         252 non-null float64\n",
      "Bulk 2                         22 non-null float64\n",
      "Bulk 3                         1298 non-null float64\n",
      "Bulk 4                         1014 non-null float64\n",
      "Bulk 5                         77 non-null float64\n",
      "Bulk 6                         576 non-null float64\n",
      "Bulk 7                         25 non-null float64\n",
      "Bulk 8                         1 non-null float64\n",
      "Bulk 9                         19 non-null float64\n",
      "Bulk 10                        176 non-null float64\n",
      "Bulk 11                        177 non-null float64\n",
      "Bulk 12                        2450 non-null float64\n",
      "Bulk 13                        18 non-null float64\n",
      "Bulk 14                        2806 non-null float64\n",
      "Bulk 15                        2248 non-null float64\n",
      "Wire 1                         3055 non-null float64\n",
      "Wire 2                         1079 non-null float64\n",
      "Wire 3                         63 non-null float64\n",
      "Wire 4                         14 non-null float64\n",
      "Wire 5                         1 non-null float64\n",
      "Wire 6                         73 non-null float64\n",
      "Wire 7                         11 non-null float64\n",
      "Wire 8                         19 non-null float64\n",
      "Wire 9                         29 non-null float64\n",
      "Газ 1                          3214 non-null float64\n",
      "dtypes: float64(33), int64(1)\n",
      "memory usage: 879.4 KB\n"
     ]
    }
   ],
   "source": [
    "key_info.drop('Замер температуры первый', axis=1, inplace=True)\n",
    "key_info.drop('Замер температуры последний', axis=1, inplace=True)\n",
    "\n",
    "key_info.info()"
   ]
  },
  {
   "cell_type": "code",
   "execution_count": 64,
   "metadata": {},
   "outputs": [
    {
     "name": "stdout",
     "output_type": "stream",
     "text": [
      "<class 'pandas.core.frame.DataFrame'>\n",
      "Int64Index: 3216 entries, 0 to 3215\n",
      "Data columns (total 34 columns):\n",
      "key                            3216 non-null int64\n",
      "Температура замер первый       3216 non-null float64\n",
      "Температура замер последний    3216 non-null float64\n",
      "Время нагрева, секунды         3216 non-null float64\n",
      "Работа                         3216 non-null float64\n",
      "Число итераций                 3216 non-null float64\n",
      "Средняя активная мощность      3216 non-null float64\n",
      "Средняя реактивная мощность    3216 non-null float64\n",
      "Полная мощность                3216 non-null float64\n",
      "Bulk 1                         3216 non-null float64\n",
      "Bulk 2                         3216 non-null float64\n",
      "Bulk 3                         3216 non-null float64\n",
      "Bulk 4                         3216 non-null float64\n",
      "Bulk 5                         3216 non-null float64\n",
      "Bulk 6                         3216 non-null float64\n",
      "Bulk 7                         3216 non-null float64\n",
      "Bulk 8                         3216 non-null float64\n",
      "Bulk 9                         3216 non-null float64\n",
      "Bulk 10                        3216 non-null float64\n",
      "Bulk 11                        3216 non-null float64\n",
      "Bulk 12                        3216 non-null float64\n",
      "Bulk 13                        3216 non-null float64\n",
      "Bulk 14                        3216 non-null float64\n",
      "Bulk 15                        3216 non-null float64\n",
      "Wire 1                         3216 non-null float64\n",
      "Wire 2                         3216 non-null float64\n",
      "Wire 3                         3216 non-null float64\n",
      "Wire 4                         3216 non-null float64\n",
      "Wire 5                         3216 non-null float64\n",
      "Wire 6                         3216 non-null float64\n",
      "Wire 7                         3216 non-null float64\n",
      "Wire 8                         3216 non-null float64\n",
      "Wire 9                         3216 non-null float64\n",
      "Газ 1                          3216 non-null float64\n",
      "dtypes: float64(33), int64(1)\n",
      "memory usage: 879.4 KB\n"
     ]
    }
   ],
   "source": [
    "key_info.fillna(0, inplace=True) \n",
    "\n",
    "key_info.info()"
   ]
  },
  {
   "cell_type": "code",
   "execution_count": 65,
   "metadata": {},
   "outputs": [],
   "source": [
    "key_info['Wire all'] = (key_info['Wire 1'] + key_info['Wire 2'] + key_info['Wire 3'] +\n",
    "                       key_info['Wire 4'] + key_info['Wire 5'] + key_info['Wire 6'] +\n",
    "                       key_info['Wire 7'] + key_info['Wire 8'] + key_info['Wire 9'])\n",
    "\n",
    "key_info['Bulk all'] = (key_info['Bulk 1'] + key_info['Bulk 2'] + key_info['Bulk 3'] +\n",
    "                       key_info['Bulk 4'] + key_info['Bulk 5'] + key_info['Bulk 6'] +\n",
    "                       key_info['Bulk 7'] + key_info['Bulk 8'] + key_info['Bulk 9'] +\n",
    "                       key_info['Bulk 10'] + key_info['Bulk 11'] + key_info['Bulk 12'] +\n",
    "                       key_info['Bulk 13'] + key_info['Bulk 14'] + key_info['Bulk 15'])\n"
   ]
  },
  {
   "cell_type": "code",
   "execution_count": 66,
   "metadata": {},
   "outputs": [
    {
     "data": {
      "text/html": [
       "<div>\n",
       "<style scoped>\n",
       "    .dataframe tbody tr th:only-of-type {\n",
       "        vertical-align: middle;\n",
       "    }\n",
       "\n",
       "    .dataframe tbody tr th {\n",
       "        vertical-align: top;\n",
       "    }\n",
       "\n",
       "    .dataframe thead th {\n",
       "        text-align: right;\n",
       "    }\n",
       "</style>\n",
       "<table border=\"1\" class=\"dataframe\">\n",
       "  <thead>\n",
       "    <tr style=\"text-align: right;\">\n",
       "      <th></th>\n",
       "      <th>key</th>\n",
       "      <th>Температура замер первый</th>\n",
       "      <th>Температура замер последний</th>\n",
       "      <th>Время нагрева, секунды</th>\n",
       "      <th>Работа</th>\n",
       "      <th>Число итераций</th>\n",
       "      <th>Средняя активная мощность</th>\n",
       "      <th>Средняя реактивная мощность</th>\n",
       "      <th>Полная мощность</th>\n",
       "      <th>Bulk 1</th>\n",
       "      <th>...</th>\n",
       "      <th>Wire 3</th>\n",
       "      <th>Wire 4</th>\n",
       "      <th>Wire 5</th>\n",
       "      <th>Wire 6</th>\n",
       "      <th>Wire 7</th>\n",
       "      <th>Wire 8</th>\n",
       "      <th>Wire 9</th>\n",
       "      <th>Газ 1</th>\n",
       "      <th>Wire all</th>\n",
       "      <th>Bulk all</th>\n",
       "    </tr>\n",
       "  </thead>\n",
       "  <tbody>\n",
       "    <tr>\n",
       "      <td>0</td>\n",
       "      <td>1</td>\n",
       "      <td>1571.0</td>\n",
       "      <td>1613.0</td>\n",
       "      <td>1098.0</td>\n",
       "      <td>1442.377754</td>\n",
       "      <td>5.0</td>\n",
       "      <td>0.975629</td>\n",
       "      <td>0.636648</td>\n",
       "      <td>1.313641</td>\n",
       "      <td>0.0</td>\n",
       "      <td>...</td>\n",
       "      <td>0.0</td>\n",
       "      <td>0.0</td>\n",
       "      <td>0.0</td>\n",
       "      <td>0.0</td>\n",
       "      <td>0.0</td>\n",
       "      <td>0.0</td>\n",
       "      <td>0.0</td>\n",
       "      <td>29.749986</td>\n",
       "      <td>60.059998</td>\n",
       "      <td>553.0</td>\n",
       "    </tr>\n",
       "    <tr>\n",
       "      <td>1</td>\n",
       "      <td>2</td>\n",
       "      <td>1581.0</td>\n",
       "      <td>1602.0</td>\n",
       "      <td>811.0</td>\n",
       "      <td>881.233565</td>\n",
       "      <td>4.0</td>\n",
       "      <td>0.763150</td>\n",
       "      <td>0.499528</td>\n",
       "      <td>1.086601</td>\n",
       "      <td>0.0</td>\n",
       "      <td>...</td>\n",
       "      <td>0.0</td>\n",
       "      <td>0.0</td>\n",
       "      <td>0.0</td>\n",
       "      <td>0.0</td>\n",
       "      <td>0.0</td>\n",
       "      <td>0.0</td>\n",
       "      <td>0.0</td>\n",
       "      <td>12.555561</td>\n",
       "      <td>96.052315</td>\n",
       "      <td>582.0</td>\n",
       "    </tr>\n",
       "    <tr>\n",
       "      <td>2</td>\n",
       "      <td>3</td>\n",
       "      <td>1596.0</td>\n",
       "      <td>1599.0</td>\n",
       "      <td>655.0</td>\n",
       "      <td>525.066777</td>\n",
       "      <td>5.0</td>\n",
       "      <td>0.505176</td>\n",
       "      <td>0.319815</td>\n",
       "      <td>0.801629</td>\n",
       "      <td>0.0</td>\n",
       "      <td>...</td>\n",
       "      <td>0.0</td>\n",
       "      <td>0.0</td>\n",
       "      <td>0.0</td>\n",
       "      <td>0.0</td>\n",
       "      <td>0.0</td>\n",
       "      <td>0.0</td>\n",
       "      <td>0.0</td>\n",
       "      <td>28.554793</td>\n",
       "      <td>91.160157</td>\n",
       "      <td>544.0</td>\n",
       "    </tr>\n",
       "    <tr>\n",
       "      <td>3</td>\n",
       "      <td>4</td>\n",
       "      <td>1601.0</td>\n",
       "      <td>1625.0</td>\n",
       "      <td>741.0</td>\n",
       "      <td>796.911309</td>\n",
       "      <td>4.0</td>\n",
       "      <td>0.802313</td>\n",
       "      <td>0.515074</td>\n",
       "      <td>1.075454</td>\n",
       "      <td>0.0</td>\n",
       "      <td>...</td>\n",
       "      <td>0.0</td>\n",
       "      <td>0.0</td>\n",
       "      <td>0.0</td>\n",
       "      <td>0.0</td>\n",
       "      <td>0.0</td>\n",
       "      <td>0.0</td>\n",
       "      <td>0.0</td>\n",
       "      <td>18.841219</td>\n",
       "      <td>89.063515</td>\n",
       "      <td>595.0</td>\n",
       "    </tr>\n",
       "    <tr>\n",
       "      <td>4</td>\n",
       "      <td>5</td>\n",
       "      <td>1576.0</td>\n",
       "      <td>1602.0</td>\n",
       "      <td>869.0</td>\n",
       "      <td>1199.137958</td>\n",
       "      <td>4.0</td>\n",
       "      <td>0.836793</td>\n",
       "      <td>0.563161</td>\n",
       "      <td>1.379906</td>\n",
       "      <td>0.0</td>\n",
       "      <td>...</td>\n",
       "      <td>0.0</td>\n",
       "      <td>0.0</td>\n",
       "      <td>0.0</td>\n",
       "      <td>0.0</td>\n",
       "      <td>0.0</td>\n",
       "      <td>0.0</td>\n",
       "      <td>0.0</td>\n",
       "      <td>5.413692</td>\n",
       "      <td>98.352796</td>\n",
       "      <td>584.0</td>\n",
       "    </tr>\n",
       "  </tbody>\n",
       "</table>\n",
       "<p>5 rows × 36 columns</p>\n",
       "</div>"
      ],
      "text/plain": [
       "   key  Температура замер первый  Температура замер последний  \\\n",
       "0    1                    1571.0                       1613.0   \n",
       "1    2                    1581.0                       1602.0   \n",
       "2    3                    1596.0                       1599.0   \n",
       "3    4                    1601.0                       1625.0   \n",
       "4    5                    1576.0                       1602.0   \n",
       "\n",
       "   Время нагрева, секунды       Работа  Число итераций  \\\n",
       "0                  1098.0  1442.377754             5.0   \n",
       "1                   811.0   881.233565             4.0   \n",
       "2                   655.0   525.066777             5.0   \n",
       "3                   741.0   796.911309             4.0   \n",
       "4                   869.0  1199.137958             4.0   \n",
       "\n",
       "   Средняя активная мощность  Средняя реактивная мощность  Полная мощность  \\\n",
       "0                   0.975629                     0.636648         1.313641   \n",
       "1                   0.763150                     0.499528         1.086601   \n",
       "2                   0.505176                     0.319815         0.801629   \n",
       "3                   0.802313                     0.515074         1.075454   \n",
       "4                   0.836793                     0.563161         1.379906   \n",
       "\n",
       "   Bulk 1  ...  Wire 3  Wire 4  Wire 5  Wire 6  Wire 7  Wire 8  Wire 9  \\\n",
       "0     0.0  ...     0.0     0.0     0.0     0.0     0.0     0.0     0.0   \n",
       "1     0.0  ...     0.0     0.0     0.0     0.0     0.0     0.0     0.0   \n",
       "2     0.0  ...     0.0     0.0     0.0     0.0     0.0     0.0     0.0   \n",
       "3     0.0  ...     0.0     0.0     0.0     0.0     0.0     0.0     0.0   \n",
       "4     0.0  ...     0.0     0.0     0.0     0.0     0.0     0.0     0.0   \n",
       "\n",
       "       Газ 1   Wire all  Bulk all  \n",
       "0  29.749986  60.059998     553.0  \n",
       "1  12.555561  96.052315     582.0  \n",
       "2  28.554793  91.160157     544.0  \n",
       "3  18.841219  89.063515     595.0  \n",
       "4   5.413692  98.352796     584.0  \n",
       "\n",
       "[5 rows x 36 columns]"
      ]
     },
     "execution_count": 66,
     "metadata": {},
     "output_type": "execute_result"
    }
   ],
   "source": [
    "key_info.head().head()"
   ]
  },
  {
   "cell_type": "markdown",
   "metadata": {},
   "source": [
    "Все признаки собрали теперь удалим партии, которые посчитали ошибочными."
   ]
  },
  {
   "cell_type": "markdown",
   "metadata": {},
   "source": [
    "### Чистка данных"
   ]
  },
  {
   "cell_type": "markdown",
   "metadata": {},
   "source": [
    "Нам необходимо удалить партии из списка проблемных и с номером больше 2500."
   ]
  },
  {
   "cell_type": "code",
   "execution_count": 67,
   "metadata": {},
   "outputs": [
    {
     "data": {
      "text/plain": [
       "(3216, 36)"
      ]
     },
     "execution_count": 67,
     "metadata": {},
     "output_type": "execute_result"
    }
   ],
   "source": [
    "key_info.shape"
   ]
  },
  {
   "cell_type": "code",
   "execution_count": 68,
   "metadata": {},
   "outputs": [],
   "source": [
    "key_info.drop(key_info.query('key > 2499 or key in @naughty_list').index, inplace=True)\n",
    "\n",
    "key_info.reset_index(inplace=True)\n",
    "\n",
    "key_info = key_info.drop(['index'], axis=1)"
   ]
  },
  {
   "cell_type": "code",
   "execution_count": 69,
   "metadata": {},
   "outputs": [
    {
     "data": {
      "text/html": [
       "<div>\n",
       "<style scoped>\n",
       "    .dataframe tbody tr th:only-of-type {\n",
       "        vertical-align: middle;\n",
       "    }\n",
       "\n",
       "    .dataframe tbody tr th {\n",
       "        vertical-align: top;\n",
       "    }\n",
       "\n",
       "    .dataframe thead th {\n",
       "        text-align: right;\n",
       "    }\n",
       "</style>\n",
       "<table border=\"1\" class=\"dataframe\">\n",
       "  <thead>\n",
       "    <tr style=\"text-align: right;\">\n",
       "      <th></th>\n",
       "      <th>key</th>\n",
       "      <th>Температура замер первый</th>\n",
       "      <th>Температура замер последний</th>\n",
       "      <th>Время нагрева, секунды</th>\n",
       "      <th>Работа</th>\n",
       "      <th>Число итераций</th>\n",
       "      <th>Средняя активная мощность</th>\n",
       "      <th>Средняя реактивная мощность</th>\n",
       "      <th>Полная мощность</th>\n",
       "      <th>Bulk 1</th>\n",
       "      <th>...</th>\n",
       "      <th>Wire 3</th>\n",
       "      <th>Wire 4</th>\n",
       "      <th>Wire 5</th>\n",
       "      <th>Wire 6</th>\n",
       "      <th>Wire 7</th>\n",
       "      <th>Wire 8</th>\n",
       "      <th>Wire 9</th>\n",
       "      <th>Газ 1</th>\n",
       "      <th>Wire all</th>\n",
       "      <th>Bulk all</th>\n",
       "    </tr>\n",
       "  </thead>\n",
       "  <tbody>\n",
       "    <tr>\n",
       "      <td>0</td>\n",
       "      <td>2</td>\n",
       "      <td>1581.0</td>\n",
       "      <td>1602.0</td>\n",
       "      <td>811.0</td>\n",
       "      <td>881.233565</td>\n",
       "      <td>4.0</td>\n",
       "      <td>0.763150</td>\n",
       "      <td>0.499528</td>\n",
       "      <td>1.086601</td>\n",
       "      <td>0.0</td>\n",
       "      <td>...</td>\n",
       "      <td>0.0</td>\n",
       "      <td>0.0</td>\n",
       "      <td>0.0</td>\n",
       "      <td>0.0</td>\n",
       "      <td>0.0</td>\n",
       "      <td>0.0</td>\n",
       "      <td>0.0</td>\n",
       "      <td>12.555561</td>\n",
       "      <td>96.052315</td>\n",
       "      <td>582.0</td>\n",
       "    </tr>\n",
       "    <tr>\n",
       "      <td>1</td>\n",
       "      <td>6</td>\n",
       "      <td>1543.0</td>\n",
       "      <td>1596.0</td>\n",
       "      <td>952.0</td>\n",
       "      <td>1410.747219</td>\n",
       "      <td>4.0</td>\n",
       "      <td>0.988777</td>\n",
       "      <td>0.672294</td>\n",
       "      <td>1.481877</td>\n",
       "      <td>0.0</td>\n",
       "      <td>...</td>\n",
       "      <td>0.0</td>\n",
       "      <td>0.0</td>\n",
       "      <td>0.0</td>\n",
       "      <td>0.0</td>\n",
       "      <td>0.0</td>\n",
       "      <td>0.0</td>\n",
       "      <td>0.0</td>\n",
       "      <td>11.273392</td>\n",
       "      <td>108.224477</td>\n",
       "      <td>676.0</td>\n",
       "    </tr>\n",
       "    <tr>\n",
       "      <td>2</td>\n",
       "      <td>7</td>\n",
       "      <td>1586.0</td>\n",
       "      <td>1599.0</td>\n",
       "      <td>673.0</td>\n",
       "      <td>729.780631</td>\n",
       "      <td>4.0</td>\n",
       "      <td>0.636844</td>\n",
       "      <td>0.390324</td>\n",
       "      <td>1.084369</td>\n",
       "      <td>0.0</td>\n",
       "      <td>...</td>\n",
       "      <td>0.0</td>\n",
       "      <td>0.0</td>\n",
       "      <td>0.0</td>\n",
       "      <td>0.0</td>\n",
       "      <td>0.0</td>\n",
       "      <td>0.0</td>\n",
       "      <td>0.0</td>\n",
       "      <td>9.836267</td>\n",
       "      <td>98.061600</td>\n",
       "      <td>627.0</td>\n",
       "    </tr>\n",
       "    <tr>\n",
       "      <td>3</td>\n",
       "      <td>9</td>\n",
       "      <td>1587.0</td>\n",
       "      <td>1592.0</td>\n",
       "      <td>625.0</td>\n",
       "      <td>406.460647</td>\n",
       "      <td>5.0</td>\n",
       "      <td>0.416390</td>\n",
       "      <td>0.295734</td>\n",
       "      <td>0.650337</td>\n",
       "      <td>0.0</td>\n",
       "      <td>...</td>\n",
       "      <td>0.0</td>\n",
       "      <td>0.0</td>\n",
       "      <td>0.0</td>\n",
       "      <td>0.0</td>\n",
       "      <td>0.0</td>\n",
       "      <td>0.0</td>\n",
       "      <td>0.0</td>\n",
       "      <td>8.216623</td>\n",
       "      <td>122.536960</td>\n",
       "      <td>526.0</td>\n",
       "    </tr>\n",
       "    <tr>\n",
       "      <td>4</td>\n",
       "      <td>10</td>\n",
       "      <td>1574.0</td>\n",
       "      <td>1593.0</td>\n",
       "      <td>825.0</td>\n",
       "      <td>617.361506</td>\n",
       "      <td>6.0</td>\n",
       "      <td>0.487270</td>\n",
       "      <td>0.416019</td>\n",
       "      <td>0.748317</td>\n",
       "      <td>0.0</td>\n",
       "      <td>...</td>\n",
       "      <td>0.0</td>\n",
       "      <td>0.0</td>\n",
       "      <td>0.0</td>\n",
       "      <td>0.0</td>\n",
       "      <td>0.0</td>\n",
       "      <td>0.0</td>\n",
       "      <td>0.0</td>\n",
       "      <td>6.529891</td>\n",
       "      <td>93.620796</td>\n",
       "      <td>509.0</td>\n",
       "    </tr>\n",
       "  </tbody>\n",
       "</table>\n",
       "<p>5 rows × 36 columns</p>\n",
       "</div>"
      ],
      "text/plain": [
       "   key  Температура замер первый  Температура замер последний  \\\n",
       "0    2                    1581.0                       1602.0   \n",
       "1    6                    1543.0                       1596.0   \n",
       "2    7                    1586.0                       1599.0   \n",
       "3    9                    1587.0                       1592.0   \n",
       "4   10                    1574.0                       1593.0   \n",
       "\n",
       "   Время нагрева, секунды       Работа  Число итераций  \\\n",
       "0                   811.0   881.233565             4.0   \n",
       "1                   952.0  1410.747219             4.0   \n",
       "2                   673.0   729.780631             4.0   \n",
       "3                   625.0   406.460647             5.0   \n",
       "4                   825.0   617.361506             6.0   \n",
       "\n",
       "   Средняя активная мощность  Средняя реактивная мощность  Полная мощность  \\\n",
       "0                   0.763150                     0.499528         1.086601   \n",
       "1                   0.988777                     0.672294         1.481877   \n",
       "2                   0.636844                     0.390324         1.084369   \n",
       "3                   0.416390                     0.295734         0.650337   \n",
       "4                   0.487270                     0.416019         0.748317   \n",
       "\n",
       "   Bulk 1  ...  Wire 3  Wire 4  Wire 5  Wire 6  Wire 7  Wire 8  Wire 9  \\\n",
       "0     0.0  ...     0.0     0.0     0.0     0.0     0.0     0.0     0.0   \n",
       "1     0.0  ...     0.0     0.0     0.0     0.0     0.0     0.0     0.0   \n",
       "2     0.0  ...     0.0     0.0     0.0     0.0     0.0     0.0     0.0   \n",
       "3     0.0  ...     0.0     0.0     0.0     0.0     0.0     0.0     0.0   \n",
       "4     0.0  ...     0.0     0.0     0.0     0.0     0.0     0.0     0.0   \n",
       "\n",
       "       Газ 1    Wire all  Bulk all  \n",
       "0  12.555561   96.052315     582.0  \n",
       "1  11.273392  108.224477     676.0  \n",
       "2   9.836267   98.061600     627.0  \n",
       "3   8.216623  122.536960     526.0  \n",
       "4   6.529891   93.620796     509.0  \n",
       "\n",
       "[5 rows x 36 columns]"
      ]
     },
     "execution_count": 69,
     "metadata": {},
     "output_type": "execute_result"
    }
   ],
   "source": [
    "key_info.head()"
   ]
  },
  {
   "cell_type": "code",
   "execution_count": 70,
   "metadata": {},
   "outputs": [
    {
     "data": {
      "text/plain": [
       "(2042, 36)"
      ]
     },
     "execution_count": 70,
     "metadata": {},
     "output_type": "execute_result"
    }
   ],
   "source": [
    "key_info.shape"
   ]
  },
  {
   "cell_type": "markdown",
   "metadata": {},
   "source": [
    "Итого, в сумме осталось около 2 тыс строк для обучения модели.\n",
    "\n",
    "Теперь переименуем столбцы с русскими названиями на английские. Потому что часть моделей (LightGBM) не умеет работать с русскими именами столбцов. И на всякий случай сделаем очистку и от других символов, которые мы могли не заметить."
   ]
  },
  {
   "cell_type": "code",
   "execution_count": 71,
   "metadata": {},
   "outputs": [],
   "source": [
    "key_info.rename(columns={'Температура замер первый': 'Temperature_first_measuring',\n",
    "                         'Температура замер последний': 'Temperature_last_measuring',\n",
    "                         'Время нагрева, секунды': 'Time_of_heating_seconds',\n",
    "                         'Работа': 'Work',\n",
    "                         'Число итераций': 'Number_of_iterations',\n",
    "                         'Средняя активная мощность': 'Average_active_power',\n",
    "                         'Средняя реактивная мощность': 'Average_reactive_power',\n",
    "                         'Полная мощность': 'Apparent_power',\n",
    "                         'Газ 1': 'Gas_1',\n",
    "                        }, inplace=True)\n",
    "\n",
    "key_info.rename(columns = lambda x:re.sub('[^A-Za-z0-9_]+', '_', x), inplace=True)"
   ]
  },
  {
   "cell_type": "code",
   "execution_count": 72,
   "metadata": {},
   "outputs": [
    {
     "name": "stdout",
     "output_type": "stream",
     "text": [
      "<class 'pandas.core.frame.DataFrame'>\n",
      "RangeIndex: 2042 entries, 0 to 2041\n",
      "Data columns (total 36 columns):\n",
      "key                            2042 non-null int64\n",
      "Temperature_first_measuring    2042 non-null float64\n",
      "Temperature_last_measuring     2042 non-null float64\n",
      "Time_of_heating_seconds        2042 non-null float64\n",
      "Work                           2042 non-null float64\n",
      "Number_of_iterations           2042 non-null float64\n",
      "Average_active_power           2042 non-null float64\n",
      "Average_reactive_power         2042 non-null float64\n",
      "Apparent_power                 2042 non-null float64\n",
      "Bulk_1                         2042 non-null float64\n",
      "Bulk_2                         2042 non-null float64\n",
      "Bulk_3                         2042 non-null float64\n",
      "Bulk_4                         2042 non-null float64\n",
      "Bulk_5                         2042 non-null float64\n",
      "Bulk_6                         2042 non-null float64\n",
      "Bulk_7                         2042 non-null float64\n",
      "Bulk_8                         2042 non-null float64\n",
      "Bulk_9                         2042 non-null float64\n",
      "Bulk_10                        2042 non-null float64\n",
      "Bulk_11                        2042 non-null float64\n",
      "Bulk_12                        2042 non-null float64\n",
      "Bulk_13                        2042 non-null float64\n",
      "Bulk_14                        2042 non-null float64\n",
      "Bulk_15                        2042 non-null float64\n",
      "Wire_1                         2042 non-null float64\n",
      "Wire_2                         2042 non-null float64\n",
      "Wire_3                         2042 non-null float64\n",
      "Wire_4                         2042 non-null float64\n",
      "Wire_5                         2042 non-null float64\n",
      "Wire_6                         2042 non-null float64\n",
      "Wire_7                         2042 non-null float64\n",
      "Wire_8                         2042 non-null float64\n",
      "Wire_9                         2042 non-null float64\n",
      "Gas_1                          2042 non-null float64\n",
      "Wire_all                       2042 non-null float64\n",
      "Bulk_all                       2042 non-null float64\n",
      "dtypes: float64(35), int64(1)\n",
      "memory usage: 574.4 KB\n"
     ]
    }
   ],
   "source": [
    "key_info.info()"
   ]
  },
  {
   "cell_type": "markdown",
   "metadata": {},
   "source": [
    "### Проверка на коллинеарность"
   ]
  },
  {
   "cell_type": "markdown",
   "metadata": {},
   "source": [
    "Прежде, чем приступать к проверке на коллинеарность - создадим таблицу features без целевого признака."
   ]
  },
  {
   "cell_type": "code",
   "execution_count": 73,
   "metadata": {},
   "outputs": [],
   "source": [
    "target = key_info['Temperature_last_measuring']\n",
    "features = key_info.drop(['key','Temperature_last_measuring'], axis=1)"
   ]
  },
  {
   "cell_type": "markdown",
   "metadata": {},
   "source": [
    "Теперь посмотрим на коллинеарность. Создадим таблицу корреляций столбцов. И попробуем удалить по одному из столбцов, где корреляция больше 0.8 или 0.9."
   ]
  },
  {
   "cell_type": "code",
   "execution_count": 74,
   "metadata": {},
   "outputs": [
    {
     "data": {
      "text/html": [
       "<div>\n",
       "<style scoped>\n",
       "    .dataframe tbody tr th:only-of-type {\n",
       "        vertical-align: middle;\n",
       "    }\n",
       "\n",
       "    .dataframe tbody tr th {\n",
       "        vertical-align: top;\n",
       "    }\n",
       "\n",
       "    .dataframe thead th {\n",
       "        text-align: right;\n",
       "    }\n",
       "</style>\n",
       "<table border=\"1\" class=\"dataframe\">\n",
       "  <thead>\n",
       "    <tr style=\"text-align: right;\">\n",
       "      <th></th>\n",
       "      <th>Temperature_first_measuring</th>\n",
       "      <th>Time_of_heating_seconds</th>\n",
       "      <th>Work</th>\n",
       "      <th>Number_of_iterations</th>\n",
       "      <th>Average_active_power</th>\n",
       "      <th>Average_reactive_power</th>\n",
       "      <th>Apparent_power</th>\n",
       "      <th>Bulk_1</th>\n",
       "      <th>Bulk_2</th>\n",
       "      <th>Bulk_3</th>\n",
       "      <th>...</th>\n",
       "      <th>Wire_3</th>\n",
       "      <th>Wire_4</th>\n",
       "      <th>Wire_5</th>\n",
       "      <th>Wire_6</th>\n",
       "      <th>Wire_7</th>\n",
       "      <th>Wire_8</th>\n",
       "      <th>Wire_9</th>\n",
       "      <th>Gas_1</th>\n",
       "      <th>Wire_all</th>\n",
       "      <th>Bulk_all</th>\n",
       "    </tr>\n",
       "  </thead>\n",
       "  <tbody>\n",
       "    <tr>\n",
       "      <td>Temperature_first_measuring</td>\n",
       "      <td>1.000000</td>\n",
       "      <td>-0.374377</td>\n",
       "      <td>-0.364107</td>\n",
       "      <td>-0.237555</td>\n",
       "      <td>-0.339197</td>\n",
       "      <td>-0.338996</td>\n",
       "      <td>-0.364481</td>\n",
       "      <td>0.038613</td>\n",
       "      <td>0.116657</td>\n",
       "      <td>-0.158295</td>\n",
       "      <td>...</td>\n",
       "      <td>-0.006054</td>\n",
       "      <td>0.056374</td>\n",
       "      <td>NaN</td>\n",
       "      <td>0.041741</td>\n",
       "      <td>0.046673</td>\n",
       "      <td>-0.027437</td>\n",
       "      <td>-0.004704</td>\n",
       "      <td>-0.017687</td>\n",
       "      <td>0.011064</td>\n",
       "      <td>-0.161181</td>\n",
       "    </tr>\n",
       "    <tr>\n",
       "      <td>Time_of_heating_seconds</td>\n",
       "      <td>-0.374377</td>\n",
       "      <td>1.000000</td>\n",
       "      <td>0.893620</td>\n",
       "      <td>0.798179</td>\n",
       "      <td>0.576999</td>\n",
       "      <td>0.567364</td>\n",
       "      <td>0.638919</td>\n",
       "      <td>0.085141</td>\n",
       "      <td>0.033899</td>\n",
       "      <td>0.113111</td>\n",
       "      <td>...</td>\n",
       "      <td>0.031221</td>\n",
       "      <td>0.055207</td>\n",
       "      <td>NaN</td>\n",
       "      <td>0.037909</td>\n",
       "      <td>0.030102</td>\n",
       "      <td>0.013851</td>\n",
       "      <td>-0.031872</td>\n",
       "      <td>0.378919</td>\n",
       "      <td>0.085169</td>\n",
       "      <td>0.560537</td>\n",
       "    </tr>\n",
       "    <tr>\n",
       "      <td>Work</td>\n",
       "      <td>-0.364107</td>\n",
       "      <td>0.893620</td>\n",
       "      <td>1.000000</td>\n",
       "      <td>0.519482</td>\n",
       "      <td>0.751271</td>\n",
       "      <td>0.729346</td>\n",
       "      <td>0.848997</td>\n",
       "      <td>0.049029</td>\n",
       "      <td>0.006037</td>\n",
       "      <td>0.065719</td>\n",
       "      <td>...</td>\n",
       "      <td>-0.003652</td>\n",
       "      <td>0.027170</td>\n",
       "      <td>NaN</td>\n",
       "      <td>0.024076</td>\n",
       "      <td>0.007351</td>\n",
       "      <td>0.000708</td>\n",
       "      <td>-0.028590</td>\n",
       "      <td>0.294786</td>\n",
       "      <td>-0.019596</td>\n",
       "      <td>0.499479</td>\n",
       "    </tr>\n",
       "    <tr>\n",
       "      <td>Number_of_iterations</td>\n",
       "      <td>-0.237555</td>\n",
       "      <td>0.798179</td>\n",
       "      <td>0.519482</td>\n",
       "      <td>1.000000</td>\n",
       "      <td>0.051765</td>\n",
       "      <td>0.048818</td>\n",
       "      <td>0.167201</td>\n",
       "      <td>0.084765</td>\n",
       "      <td>0.097278</td>\n",
       "      <td>0.138385</td>\n",
       "      <td>...</td>\n",
       "      <td>0.067880</td>\n",
       "      <td>0.118639</td>\n",
       "      <td>NaN</td>\n",
       "      <td>0.072812</td>\n",
       "      <td>0.077683</td>\n",
       "      <td>0.037658</td>\n",
       "      <td>-0.039480</td>\n",
       "      <td>0.403112</td>\n",
       "      <td>0.220769</td>\n",
       "      <td>0.462714</td>\n",
       "    </tr>\n",
       "    <tr>\n",
       "      <td>Average_active_power</td>\n",
       "      <td>-0.339197</td>\n",
       "      <td>0.576999</td>\n",
       "      <td>0.751271</td>\n",
       "      <td>0.051765</td>\n",
       "      <td>1.000000</td>\n",
       "      <td>0.934536</td>\n",
       "      <td>0.915772</td>\n",
       "      <td>0.026771</td>\n",
       "      <td>-0.043183</td>\n",
       "      <td>0.040651</td>\n",
       "      <td>...</td>\n",
       "      <td>-0.010224</td>\n",
       "      <td>-0.040588</td>\n",
       "      <td>NaN</td>\n",
       "      <td>0.010680</td>\n",
       "      <td>-0.031655</td>\n",
       "      <td>-0.016096</td>\n",
       "      <td>-0.008485</td>\n",
       "      <td>0.086761</td>\n",
       "      <td>-0.153932</td>\n",
       "      <td>0.356100</td>\n",
       "    </tr>\n",
       "    <tr>\n",
       "      <td>Average_reactive_power</td>\n",
       "      <td>-0.338996</td>\n",
       "      <td>0.567364</td>\n",
       "      <td>0.729346</td>\n",
       "      <td>0.048818</td>\n",
       "      <td>0.934536</td>\n",
       "      <td>1.000000</td>\n",
       "      <td>0.883831</td>\n",
       "      <td>0.054073</td>\n",
       "      <td>-0.030054</td>\n",
       "      <td>-0.009644</td>\n",
       "      <td>...</td>\n",
       "      <td>-0.018849</td>\n",
       "      <td>-0.024974</td>\n",
       "      <td>NaN</td>\n",
       "      <td>0.006471</td>\n",
       "      <td>-0.017417</td>\n",
       "      <td>-0.016736</td>\n",
       "      <td>0.005586</td>\n",
       "      <td>0.066746</td>\n",
       "      <td>-0.166894</td>\n",
       "      <td>0.327161</td>\n",
       "    </tr>\n",
       "    <tr>\n",
       "      <td>Apparent_power</td>\n",
       "      <td>-0.364481</td>\n",
       "      <td>0.638919</td>\n",
       "      <td>0.848997</td>\n",
       "      <td>0.167201</td>\n",
       "      <td>0.915772</td>\n",
       "      <td>0.883831</td>\n",
       "      <td>1.000000</td>\n",
       "      <td>0.026006</td>\n",
       "      <td>-0.030905</td>\n",
       "      <td>0.027190</td>\n",
       "      <td>...</td>\n",
       "      <td>-0.028774</td>\n",
       "      <td>-0.021328</td>\n",
       "      <td>NaN</td>\n",
       "      <td>0.002298</td>\n",
       "      <td>-0.016823</td>\n",
       "      <td>-0.007626</td>\n",
       "      <td>-0.020835</td>\n",
       "      <td>0.136860</td>\n",
       "      <td>-0.150752</td>\n",
       "      <td>0.406667</td>\n",
       "    </tr>\n",
       "    <tr>\n",
       "      <td>Bulk_1</td>\n",
       "      <td>0.038613</td>\n",
       "      <td>0.085141</td>\n",
       "      <td>0.049029</td>\n",
       "      <td>0.084765</td>\n",
       "      <td>0.026771</td>\n",
       "      <td>0.054073</td>\n",
       "      <td>0.026006</td>\n",
       "      <td>1.000000</td>\n",
       "      <td>0.224400</td>\n",
       "      <td>-0.009354</td>\n",
       "      <td>...</td>\n",
       "      <td>0.024291</td>\n",
       "      <td>0.146453</td>\n",
       "      <td>NaN</td>\n",
       "      <td>0.199354</td>\n",
       "      <td>0.092638</td>\n",
       "      <td>-0.015758</td>\n",
       "      <td>0.003536</td>\n",
       "      <td>0.190497</td>\n",
       "      <td>0.070101</td>\n",
       "      <td>0.297116</td>\n",
       "    </tr>\n",
       "    <tr>\n",
       "      <td>Bulk_2</td>\n",
       "      <td>0.116657</td>\n",
       "      <td>0.033899</td>\n",
       "      <td>0.006037</td>\n",
       "      <td>0.097278</td>\n",
       "      <td>-0.043183</td>\n",
       "      <td>-0.030054</td>\n",
       "      <td>-0.030905</td>\n",
       "      <td>0.224400</td>\n",
       "      <td>1.000000</td>\n",
       "      <td>-0.046465</td>\n",
       "      <td>...</td>\n",
       "      <td>0.240995</td>\n",
       "      <td>0.693533</td>\n",
       "      <td>NaN</td>\n",
       "      <td>0.691615</td>\n",
       "      <td>0.449473</td>\n",
       "      <td>-0.004271</td>\n",
       "      <td>-0.007750</td>\n",
       "      <td>0.219715</td>\n",
       "      <td>0.093602</td>\n",
       "      <td>0.054099</td>\n",
       "    </tr>\n",
       "    <tr>\n",
       "      <td>Bulk_3</td>\n",
       "      <td>-0.158295</td>\n",
       "      <td>0.113111</td>\n",
       "      <td>0.065719</td>\n",
       "      <td>0.138385</td>\n",
       "      <td>0.040651</td>\n",
       "      <td>-0.009644</td>\n",
       "      <td>0.027190</td>\n",
       "      <td>-0.009354</td>\n",
       "      <td>-0.046465</td>\n",
       "      <td>1.000000</td>\n",
       "      <td>...</td>\n",
       "      <td>0.022075</td>\n",
       "      <td>-0.040295</td>\n",
       "      <td>NaN</td>\n",
       "      <td>-0.007719</td>\n",
       "      <td>-0.020067</td>\n",
       "      <td>0.019055</td>\n",
       "      <td>-0.007404</td>\n",
       "      <td>0.096660</td>\n",
       "      <td>0.122136</td>\n",
       "      <td>0.235329</td>\n",
       "    </tr>\n",
       "    <tr>\n",
       "      <td>Bulk_4</td>\n",
       "      <td>0.128280</td>\n",
       "      <td>-0.026245</td>\n",
       "      <td>-0.050515</td>\n",
       "      <td>0.018004</td>\n",
       "      <td>-0.072120</td>\n",
       "      <td>-0.072276</td>\n",
       "      <td>-0.065245</td>\n",
       "      <td>0.047321</td>\n",
       "      <td>0.046205</td>\n",
       "      <td>-0.264022</td>\n",
       "      <td>...</td>\n",
       "      <td>-0.037152</td>\n",
       "      <td>0.039085</td>\n",
       "      <td>NaN</td>\n",
       "      <td>0.004326</td>\n",
       "      <td>0.038438</td>\n",
       "      <td>-0.000090</td>\n",
       "      <td>-0.061945</td>\n",
       "      <td>0.044774</td>\n",
       "      <td>0.109291</td>\n",
       "      <td>0.168864</td>\n",
       "    </tr>\n",
       "    <tr>\n",
       "      <td>Bulk_5</td>\n",
       "      <td>0.076233</td>\n",
       "      <td>0.018033</td>\n",
       "      <td>-0.016529</td>\n",
       "      <td>0.078653</td>\n",
       "      <td>-0.043321</td>\n",
       "      <td>-0.032496</td>\n",
       "      <td>-0.038198</td>\n",
       "      <td>0.070342</td>\n",
       "      <td>0.381570</td>\n",
       "      <td>0.006131</td>\n",
       "      <td>...</td>\n",
       "      <td>0.084512</td>\n",
       "      <td>0.275018</td>\n",
       "      <td>NaN</td>\n",
       "      <td>0.272460</td>\n",
       "      <td>0.185732</td>\n",
       "      <td>-0.005947</td>\n",
       "      <td>-0.010790</td>\n",
       "      <td>0.085698</td>\n",
       "      <td>0.062100</td>\n",
       "      <td>0.078559</td>\n",
       "    </tr>\n",
       "    <tr>\n",
       "      <td>Bulk_6</td>\n",
       "      <td>-0.159897</td>\n",
       "      <td>0.179086</td>\n",
       "      <td>0.140193</td>\n",
       "      <td>0.168483</td>\n",
       "      <td>0.044827</td>\n",
       "      <td>0.042594</td>\n",
       "      <td>0.050874</td>\n",
       "      <td>-0.002333</td>\n",
       "      <td>-0.029825</td>\n",
       "      <td>0.069653</td>\n",
       "      <td>...</td>\n",
       "      <td>-0.042680</td>\n",
       "      <td>-0.025864</td>\n",
       "      <td>NaN</td>\n",
       "      <td>-0.037627</td>\n",
       "      <td>-0.012880</td>\n",
       "      <td>-0.021776</td>\n",
       "      <td>-0.018961</td>\n",
       "      <td>0.164858</td>\n",
       "      <td>-0.075675</td>\n",
       "      <td>0.163352</td>\n",
       "    </tr>\n",
       "    <tr>\n",
       "      <td>Bulk_7</td>\n",
       "      <td>0.070802</td>\n",
       "      <td>0.059964</td>\n",
       "      <td>0.024862</td>\n",
       "      <td>0.135771</td>\n",
       "      <td>-0.048014</td>\n",
       "      <td>-0.033869</td>\n",
       "      <td>-0.027075</td>\n",
       "      <td>0.178091</td>\n",
       "      <td>0.736388</td>\n",
       "      <td>-0.040028</td>\n",
       "      <td>...</td>\n",
       "      <td>0.185642</td>\n",
       "      <td>0.778952</td>\n",
       "      <td>NaN</td>\n",
       "      <td>0.607581</td>\n",
       "      <td>0.387323</td>\n",
       "      <td>-0.003680</td>\n",
       "      <td>-0.006676</td>\n",
       "      <td>0.159232</td>\n",
       "      <td>0.088972</td>\n",
       "      <td>0.077391</td>\n",
       "    </tr>\n",
       "    <tr>\n",
       "      <td>Bulk_8</td>\n",
       "      <td>-0.015782</td>\n",
       "      <td>-0.011323</td>\n",
       "      <td>-0.008308</td>\n",
       "      <td>-0.009280</td>\n",
       "      <td>-0.006972</td>\n",
       "      <td>-0.001765</td>\n",
       "      <td>0.000983</td>\n",
       "      <td>-0.006246</td>\n",
       "      <td>-0.001693</td>\n",
       "      <td>0.023506</td>\n",
       "      <td>...</td>\n",
       "      <td>-0.002426</td>\n",
       "      <td>-0.001468</td>\n",
       "      <td>NaN</td>\n",
       "      <td>-0.002449</td>\n",
       "      <td>-0.000731</td>\n",
       "      <td>0.440544</td>\n",
       "      <td>-0.002243</td>\n",
       "      <td>0.004919</td>\n",
       "      <td>0.055659</td>\n",
       "      <td>-0.018418</td>\n",
       "    </tr>\n",
       "    <tr>\n",
       "      <td>Bulk_9</td>\n",
       "      <td>-0.028599</td>\n",
       "      <td>0.007091</td>\n",
       "      <td>-0.003358</td>\n",
       "      <td>0.029527</td>\n",
       "      <td>-0.017834</td>\n",
       "      <td>-0.018867</td>\n",
       "      <td>-0.008262</td>\n",
       "      <td>-0.015626</td>\n",
       "      <td>-0.004235</td>\n",
       "      <td>0.024725</td>\n",
       "      <td>...</td>\n",
       "      <td>-0.006069</td>\n",
       "      <td>-0.003673</td>\n",
       "      <td>NaN</td>\n",
       "      <td>-0.006128</td>\n",
       "      <td>-0.001829</td>\n",
       "      <td>0.970671</td>\n",
       "      <td>-0.005611</td>\n",
       "      <td>0.094322</td>\n",
       "      <td>0.088435</td>\n",
       "      <td>-0.023900</td>\n",
       "    </tr>\n",
       "    <tr>\n",
       "      <td>Bulk_10</td>\n",
       "      <td>0.028171</td>\n",
       "      <td>-0.000924</td>\n",
       "      <td>-0.004522</td>\n",
       "      <td>0.029979</td>\n",
       "      <td>-0.039301</td>\n",
       "      <td>-0.049049</td>\n",
       "      <td>-0.021704</td>\n",
       "      <td>-0.012293</td>\n",
       "      <td>-0.017261</td>\n",
       "      <td>-0.081621</td>\n",
       "      <td>...</td>\n",
       "      <td>-0.024734</td>\n",
       "      <td>-0.014969</td>\n",
       "      <td>NaN</td>\n",
       "      <td>-0.024973</td>\n",
       "      <td>-0.007454</td>\n",
       "      <td>-0.012603</td>\n",
       "      <td>-0.022866</td>\n",
       "      <td>0.011206</td>\n",
       "      <td>-0.003118</td>\n",
       "      <td>0.037900</td>\n",
       "    </tr>\n",
       "    <tr>\n",
       "      <td>Bulk_11</td>\n",
       "      <td>-0.137625</td>\n",
       "      <td>0.090036</td>\n",
       "      <td>0.072038</td>\n",
       "      <td>0.077252</td>\n",
       "      <td>0.036005</td>\n",
       "      <td>0.037119</td>\n",
       "      <td>0.044453</td>\n",
       "      <td>-0.035570</td>\n",
       "      <td>0.003116</td>\n",
       "      <td>-0.007022</td>\n",
       "      <td>...</td>\n",
       "      <td>-0.020350</td>\n",
       "      <td>-0.012321</td>\n",
       "      <td>NaN</td>\n",
       "      <td>-0.001314</td>\n",
       "      <td>-0.006136</td>\n",
       "      <td>-0.010373</td>\n",
       "      <td>-0.018821</td>\n",
       "      <td>0.060129</td>\n",
       "      <td>-0.035614</td>\n",
       "      <td>0.090584</td>\n",
       "    </tr>\n",
       "    <tr>\n",
       "      <td>Bulk_12</td>\n",
       "      <td>-0.077331</td>\n",
       "      <td>0.479502</td>\n",
       "      <td>0.474578</td>\n",
       "      <td>0.331103</td>\n",
       "      <td>0.383268</td>\n",
       "      <td>0.374117</td>\n",
       "      <td>0.436719</td>\n",
       "      <td>0.289191</td>\n",
       "      <td>-0.095048</td>\n",
       "      <td>0.038083</td>\n",
       "      <td>...</td>\n",
       "      <td>-0.122524</td>\n",
       "      <td>-0.082425</td>\n",
       "      <td>NaN</td>\n",
       "      <td>-0.049205</td>\n",
       "      <td>-0.041047</td>\n",
       "      <td>-0.047747</td>\n",
       "      <td>-0.063122</td>\n",
       "      <td>0.221144</td>\n",
       "      <td>0.023544</td>\n",
       "      <td>0.857460</td>\n",
       "    </tr>\n",
       "    <tr>\n",
       "      <td>Bulk_13</td>\n",
       "      <td>0.004641</td>\n",
       "      <td>0.132530</td>\n",
       "      <td>0.167079</td>\n",
       "      <td>0.123495</td>\n",
       "      <td>0.004074</td>\n",
       "      <td>0.001122</td>\n",
       "      <td>0.037610</td>\n",
       "      <td>-0.009874</td>\n",
       "      <td>-0.005896</td>\n",
       "      <td>-0.008979</td>\n",
       "      <td>...</td>\n",
       "      <td>-0.008449</td>\n",
       "      <td>-0.005113</td>\n",
       "      <td>NaN</td>\n",
       "      <td>-0.008530</td>\n",
       "      <td>-0.002546</td>\n",
       "      <td>-0.004305</td>\n",
       "      <td>-0.007811</td>\n",
       "      <td>0.053894</td>\n",
       "      <td>0.020991</td>\n",
       "      <td>0.076902</td>\n",
       "    </tr>\n",
       "    <tr>\n",
       "      <td>Bulk_14</td>\n",
       "      <td>-0.194191</td>\n",
       "      <td>0.467050</td>\n",
       "      <td>0.418988</td>\n",
       "      <td>0.355589</td>\n",
       "      <td>0.328766</td>\n",
       "      <td>0.294147</td>\n",
       "      <td>0.372253</td>\n",
       "      <td>0.194217</td>\n",
       "      <td>-0.129732</td>\n",
       "      <td>0.041841</td>\n",
       "      <td>...</td>\n",
       "      <td>-0.011091</td>\n",
       "      <td>-0.112503</td>\n",
       "      <td>NaN</td>\n",
       "      <td>-0.061299</td>\n",
       "      <td>-0.056026</td>\n",
       "      <td>0.021608</td>\n",
       "      <td>-0.022464</td>\n",
       "      <td>0.267795</td>\n",
       "      <td>0.004156</td>\n",
       "      <td>0.667749</td>\n",
       "    </tr>\n",
       "    <tr>\n",
       "      <td>Bulk_15</td>\n",
       "      <td>-0.127899</td>\n",
       "      <td>0.344199</td>\n",
       "      <td>0.300003</td>\n",
       "      <td>0.278471</td>\n",
       "      <td>0.241695</td>\n",
       "      <td>0.223195</td>\n",
       "      <td>0.257197</td>\n",
       "      <td>0.043342</td>\n",
       "      <td>-0.095439</td>\n",
       "      <td>0.041792</td>\n",
       "      <td>...</td>\n",
       "      <td>-0.107143</td>\n",
       "      <td>-0.082764</td>\n",
       "      <td>NaN</td>\n",
       "      <td>-0.032440</td>\n",
       "      <td>-0.041216</td>\n",
       "      <td>-0.069681</td>\n",
       "      <td>-0.055169</td>\n",
       "      <td>0.131400</td>\n",
       "      <td>0.083078</td>\n",
       "      <td>0.721117</td>\n",
       "    </tr>\n",
       "    <tr>\n",
       "      <td>Wire_1</td>\n",
       "      <td>0.088229</td>\n",
       "      <td>0.061132</td>\n",
       "      <td>-0.027006</td>\n",
       "      <td>0.184335</td>\n",
       "      <td>-0.172984</td>\n",
       "      <td>-0.193383</td>\n",
       "      <td>-0.153782</td>\n",
       "      <td>0.061235</td>\n",
       "      <td>-0.148440</td>\n",
       "      <td>0.082015</td>\n",
       "      <td>...</td>\n",
       "      <td>0.041294</td>\n",
       "      <td>-0.124610</td>\n",
       "      <td>NaN</td>\n",
       "      <td>-0.136217</td>\n",
       "      <td>-0.061664</td>\n",
       "      <td>0.029873</td>\n",
       "      <td>0.022838</td>\n",
       "      <td>0.176068</td>\n",
       "      <td>0.718021</td>\n",
       "      <td>0.206219</td>\n",
       "    </tr>\n",
       "    <tr>\n",
       "      <td>Wire_2</td>\n",
       "      <td>-0.118526</td>\n",
       "      <td>0.046555</td>\n",
       "      <td>-0.003021</td>\n",
       "      <td>0.095645</td>\n",
       "      <td>-0.046308</td>\n",
       "      <td>-0.039307</td>\n",
       "      <td>-0.053796</td>\n",
       "      <td>-0.031326</td>\n",
       "      <td>-0.038161</td>\n",
       "      <td>0.120545</td>\n",
       "      <td>...</td>\n",
       "      <td>0.090940</td>\n",
       "      <td>-0.033093</td>\n",
       "      <td>NaN</td>\n",
       "      <td>-0.054804</td>\n",
       "      <td>-0.016480</td>\n",
       "      <td>0.036954</td>\n",
       "      <td>0.261176</td>\n",
       "      <td>0.094543</td>\n",
       "      <td>0.533921</td>\n",
       "      <td>-0.063093</td>\n",
       "    </tr>\n",
       "    <tr>\n",
       "      <td>Wire_3</td>\n",
       "      <td>-0.006054</td>\n",
       "      <td>0.031221</td>\n",
       "      <td>-0.003652</td>\n",
       "      <td>0.067880</td>\n",
       "      <td>-0.010224</td>\n",
       "      <td>-0.018849</td>\n",
       "      <td>-0.028774</td>\n",
       "      <td>0.024291</td>\n",
       "      <td>0.240995</td>\n",
       "      <td>0.022075</td>\n",
       "      <td>...</td>\n",
       "      <td>1.000000</td>\n",
       "      <td>0.183348</td>\n",
       "      <td>NaN</td>\n",
       "      <td>0.189345</td>\n",
       "      <td>0.113748</td>\n",
       "      <td>-0.006120</td>\n",
       "      <td>-0.011105</td>\n",
       "      <td>0.110700</td>\n",
       "      <td>0.493348</td>\n",
       "      <td>-0.068655</td>\n",
       "    </tr>\n",
       "    <tr>\n",
       "      <td>Wire_4</td>\n",
       "      <td>0.056374</td>\n",
       "      <td>0.055207</td>\n",
       "      <td>0.027170</td>\n",
       "      <td>0.118639</td>\n",
       "      <td>-0.040588</td>\n",
       "      <td>-0.024974</td>\n",
       "      <td>-0.021328</td>\n",
       "      <td>0.146453</td>\n",
       "      <td>0.693533</td>\n",
       "      <td>-0.040295</td>\n",
       "      <td>...</td>\n",
       "      <td>0.183348</td>\n",
       "      <td>1.000000</td>\n",
       "      <td>NaN</td>\n",
       "      <td>0.549997</td>\n",
       "      <td>0.609276</td>\n",
       "      <td>-0.003704</td>\n",
       "      <td>-0.006721</td>\n",
       "      <td>0.147103</td>\n",
       "      <td>0.098936</td>\n",
       "      <td>0.043011</td>\n",
       "    </tr>\n",
       "    <tr>\n",
       "      <td>Wire_5</td>\n",
       "      <td>NaN</td>\n",
       "      <td>NaN</td>\n",
       "      <td>NaN</td>\n",
       "      <td>NaN</td>\n",
       "      <td>NaN</td>\n",
       "      <td>NaN</td>\n",
       "      <td>NaN</td>\n",
       "      <td>NaN</td>\n",
       "      <td>NaN</td>\n",
       "      <td>NaN</td>\n",
       "      <td>...</td>\n",
       "      <td>NaN</td>\n",
       "      <td>NaN</td>\n",
       "      <td>NaN</td>\n",
       "      <td>NaN</td>\n",
       "      <td>NaN</td>\n",
       "      <td>NaN</td>\n",
       "      <td>NaN</td>\n",
       "      <td>NaN</td>\n",
       "      <td>NaN</td>\n",
       "      <td>NaN</td>\n",
       "    </tr>\n",
       "    <tr>\n",
       "      <td>Wire_6</td>\n",
       "      <td>0.041741</td>\n",
       "      <td>0.037909</td>\n",
       "      <td>0.024076</td>\n",
       "      <td>0.072812</td>\n",
       "      <td>0.010680</td>\n",
       "      <td>0.006471</td>\n",
       "      <td>0.002298</td>\n",
       "      <td>0.199354</td>\n",
       "      <td>0.691615</td>\n",
       "      <td>-0.007719</td>\n",
       "      <td>...</td>\n",
       "      <td>0.189345</td>\n",
       "      <td>0.549997</td>\n",
       "      <td>NaN</td>\n",
       "      <td>1.000000</td>\n",
       "      <td>0.386781</td>\n",
       "      <td>-0.006180</td>\n",
       "      <td>-0.011212</td>\n",
       "      <td>0.136110</td>\n",
       "      <td>0.096164</td>\n",
       "      <td>0.072450</td>\n",
       "    </tr>\n",
       "    <tr>\n",
       "      <td>Wire_7</td>\n",
       "      <td>0.046673</td>\n",
       "      <td>0.030102</td>\n",
       "      <td>0.007351</td>\n",
       "      <td>0.077683</td>\n",
       "      <td>-0.031655</td>\n",
       "      <td>-0.017417</td>\n",
       "      <td>-0.016823</td>\n",
       "      <td>0.092638</td>\n",
       "      <td>0.449473</td>\n",
       "      <td>-0.020067</td>\n",
       "      <td>...</td>\n",
       "      <td>0.113748</td>\n",
       "      <td>0.609276</td>\n",
       "      <td>NaN</td>\n",
       "      <td>0.386781</td>\n",
       "      <td>1.000000</td>\n",
       "      <td>-0.001845</td>\n",
       "      <td>-0.003347</td>\n",
       "      <td>0.086634</td>\n",
       "      <td>0.080690</td>\n",
       "      <td>0.035908</td>\n",
       "    </tr>\n",
       "    <tr>\n",
       "      <td>Wire_8</td>\n",
       "      <td>-0.027437</td>\n",
       "      <td>0.013851</td>\n",
       "      <td>0.000708</td>\n",
       "      <td>0.037658</td>\n",
       "      <td>-0.016096</td>\n",
       "      <td>-0.016736</td>\n",
       "      <td>-0.007626</td>\n",
       "      <td>-0.015758</td>\n",
       "      <td>-0.004271</td>\n",
       "      <td>0.019055</td>\n",
       "      <td>...</td>\n",
       "      <td>-0.006120</td>\n",
       "      <td>-0.003704</td>\n",
       "      <td>NaN</td>\n",
       "      <td>-0.006180</td>\n",
       "      <td>-0.001845</td>\n",
       "      <td>1.000000</td>\n",
       "      <td>-0.005658</td>\n",
       "      <td>0.100436</td>\n",
       "      <td>0.085811</td>\n",
       "      <td>-0.023244</td>\n",
       "    </tr>\n",
       "    <tr>\n",
       "      <td>Wire_9</td>\n",
       "      <td>-0.004704</td>\n",
       "      <td>-0.031872</td>\n",
       "      <td>-0.028590</td>\n",
       "      <td>-0.039480</td>\n",
       "      <td>-0.008485</td>\n",
       "      <td>0.005586</td>\n",
       "      <td>-0.020835</td>\n",
       "      <td>0.003536</td>\n",
       "      <td>-0.007750</td>\n",
       "      <td>-0.007404</td>\n",
       "      <td>...</td>\n",
       "      <td>-0.011105</td>\n",
       "      <td>-0.006721</td>\n",
       "      <td>NaN</td>\n",
       "      <td>-0.011212</td>\n",
       "      <td>-0.003347</td>\n",
       "      <td>-0.005658</td>\n",
       "      <td>1.000000</td>\n",
       "      <td>0.005631</td>\n",
       "      <td>0.203741</td>\n",
       "      <td>-0.076910</td>\n",
       "    </tr>\n",
       "    <tr>\n",
       "      <td>Gas_1</td>\n",
       "      <td>-0.017687</td>\n",
       "      <td>0.378919</td>\n",
       "      <td>0.294786</td>\n",
       "      <td>0.403112</td>\n",
       "      <td>0.086761</td>\n",
       "      <td>0.066746</td>\n",
       "      <td>0.136860</td>\n",
       "      <td>0.190497</td>\n",
       "      <td>0.219715</td>\n",
       "      <td>0.096660</td>\n",
       "      <td>...</td>\n",
       "      <td>0.110700</td>\n",
       "      <td>0.147103</td>\n",
       "      <td>NaN</td>\n",
       "      <td>0.136110</td>\n",
       "      <td>0.086634</td>\n",
       "      <td>0.100436</td>\n",
       "      <td>0.005631</td>\n",
       "      <td>1.000000</td>\n",
       "      <td>0.245947</td>\n",
       "      <td>0.343192</td>\n",
       "    </tr>\n",
       "    <tr>\n",
       "      <td>Wire_all</td>\n",
       "      <td>0.011064</td>\n",
       "      <td>0.085169</td>\n",
       "      <td>-0.019596</td>\n",
       "      <td>0.220769</td>\n",
       "      <td>-0.153932</td>\n",
       "      <td>-0.166894</td>\n",
       "      <td>-0.150752</td>\n",
       "      <td>0.070101</td>\n",
       "      <td>0.093602</td>\n",
       "      <td>0.122136</td>\n",
       "      <td>...</td>\n",
       "      <td>0.493348</td>\n",
       "      <td>0.098936</td>\n",
       "      <td>NaN</td>\n",
       "      <td>0.096164</td>\n",
       "      <td>0.080690</td>\n",
       "      <td>0.085811</td>\n",
       "      <td>0.203741</td>\n",
       "      <td>0.245947</td>\n",
       "      <td>1.000000</td>\n",
       "      <td>0.095913</td>\n",
       "    </tr>\n",
       "    <tr>\n",
       "      <td>Bulk_all</td>\n",
       "      <td>-0.161181</td>\n",
       "      <td>0.560537</td>\n",
       "      <td>0.499479</td>\n",
       "      <td>0.462714</td>\n",
       "      <td>0.356100</td>\n",
       "      <td>0.327161</td>\n",
       "      <td>0.406667</td>\n",
       "      <td>0.297116</td>\n",
       "      <td>0.054099</td>\n",
       "      <td>0.235329</td>\n",
       "      <td>...</td>\n",
       "      <td>-0.068655</td>\n",
       "      <td>0.043011</td>\n",
       "      <td>NaN</td>\n",
       "      <td>0.072450</td>\n",
       "      <td>0.035908</td>\n",
       "      <td>-0.023244</td>\n",
       "      <td>-0.076910</td>\n",
       "      <td>0.343192</td>\n",
       "      <td>0.095913</td>\n",
       "      <td>1.000000</td>\n",
       "    </tr>\n",
       "  </tbody>\n",
       "</table>\n",
       "<p>34 rows × 34 columns</p>\n",
       "</div>"
      ],
      "text/plain": [
       "                             Temperature_first_measuring  \\\n",
       "Temperature_first_measuring                     1.000000   \n",
       "Time_of_heating_seconds                        -0.374377   \n",
       "Work                                           -0.364107   \n",
       "Number_of_iterations                           -0.237555   \n",
       "Average_active_power                           -0.339197   \n",
       "Average_reactive_power                         -0.338996   \n",
       "Apparent_power                                 -0.364481   \n",
       "Bulk_1                                          0.038613   \n",
       "Bulk_2                                          0.116657   \n",
       "Bulk_3                                         -0.158295   \n",
       "Bulk_4                                          0.128280   \n",
       "Bulk_5                                          0.076233   \n",
       "Bulk_6                                         -0.159897   \n",
       "Bulk_7                                          0.070802   \n",
       "Bulk_8                                         -0.015782   \n",
       "Bulk_9                                         -0.028599   \n",
       "Bulk_10                                         0.028171   \n",
       "Bulk_11                                        -0.137625   \n",
       "Bulk_12                                        -0.077331   \n",
       "Bulk_13                                         0.004641   \n",
       "Bulk_14                                        -0.194191   \n",
       "Bulk_15                                        -0.127899   \n",
       "Wire_1                                          0.088229   \n",
       "Wire_2                                         -0.118526   \n",
       "Wire_3                                         -0.006054   \n",
       "Wire_4                                          0.056374   \n",
       "Wire_5                                               NaN   \n",
       "Wire_6                                          0.041741   \n",
       "Wire_7                                          0.046673   \n",
       "Wire_8                                         -0.027437   \n",
       "Wire_9                                         -0.004704   \n",
       "Gas_1                                          -0.017687   \n",
       "Wire_all                                        0.011064   \n",
       "Bulk_all                                       -0.161181   \n",
       "\n",
       "                             Time_of_heating_seconds      Work  \\\n",
       "Temperature_first_measuring                -0.374377 -0.364107   \n",
       "Time_of_heating_seconds                     1.000000  0.893620   \n",
       "Work                                        0.893620  1.000000   \n",
       "Number_of_iterations                        0.798179  0.519482   \n",
       "Average_active_power                        0.576999  0.751271   \n",
       "Average_reactive_power                      0.567364  0.729346   \n",
       "Apparent_power                              0.638919  0.848997   \n",
       "Bulk_1                                      0.085141  0.049029   \n",
       "Bulk_2                                      0.033899  0.006037   \n",
       "Bulk_3                                      0.113111  0.065719   \n",
       "Bulk_4                                     -0.026245 -0.050515   \n",
       "Bulk_5                                      0.018033 -0.016529   \n",
       "Bulk_6                                      0.179086  0.140193   \n",
       "Bulk_7                                      0.059964  0.024862   \n",
       "Bulk_8                                     -0.011323 -0.008308   \n",
       "Bulk_9                                      0.007091 -0.003358   \n",
       "Bulk_10                                    -0.000924 -0.004522   \n",
       "Bulk_11                                     0.090036  0.072038   \n",
       "Bulk_12                                     0.479502  0.474578   \n",
       "Bulk_13                                     0.132530  0.167079   \n",
       "Bulk_14                                     0.467050  0.418988   \n",
       "Bulk_15                                     0.344199  0.300003   \n",
       "Wire_1                                      0.061132 -0.027006   \n",
       "Wire_2                                      0.046555 -0.003021   \n",
       "Wire_3                                      0.031221 -0.003652   \n",
       "Wire_4                                      0.055207  0.027170   \n",
       "Wire_5                                           NaN       NaN   \n",
       "Wire_6                                      0.037909  0.024076   \n",
       "Wire_7                                      0.030102  0.007351   \n",
       "Wire_8                                      0.013851  0.000708   \n",
       "Wire_9                                     -0.031872 -0.028590   \n",
       "Gas_1                                       0.378919  0.294786   \n",
       "Wire_all                                    0.085169 -0.019596   \n",
       "Bulk_all                                    0.560537  0.499479   \n",
       "\n",
       "                             Number_of_iterations  Average_active_power  \\\n",
       "Temperature_first_measuring             -0.237555             -0.339197   \n",
       "Time_of_heating_seconds                  0.798179              0.576999   \n",
       "Work                                     0.519482              0.751271   \n",
       "Number_of_iterations                     1.000000              0.051765   \n",
       "Average_active_power                     0.051765              1.000000   \n",
       "Average_reactive_power                   0.048818              0.934536   \n",
       "Apparent_power                           0.167201              0.915772   \n",
       "Bulk_1                                   0.084765              0.026771   \n",
       "Bulk_2                                   0.097278             -0.043183   \n",
       "Bulk_3                                   0.138385              0.040651   \n",
       "Bulk_4                                   0.018004             -0.072120   \n",
       "Bulk_5                                   0.078653             -0.043321   \n",
       "Bulk_6                                   0.168483              0.044827   \n",
       "Bulk_7                                   0.135771             -0.048014   \n",
       "Bulk_8                                  -0.009280             -0.006972   \n",
       "Bulk_9                                   0.029527             -0.017834   \n",
       "Bulk_10                                  0.029979             -0.039301   \n",
       "Bulk_11                                  0.077252              0.036005   \n",
       "Bulk_12                                  0.331103              0.383268   \n",
       "Bulk_13                                  0.123495              0.004074   \n",
       "Bulk_14                                  0.355589              0.328766   \n",
       "Bulk_15                                  0.278471              0.241695   \n",
       "Wire_1                                   0.184335             -0.172984   \n",
       "Wire_2                                   0.095645             -0.046308   \n",
       "Wire_3                                   0.067880             -0.010224   \n",
       "Wire_4                                   0.118639             -0.040588   \n",
       "Wire_5                                        NaN                   NaN   \n",
       "Wire_6                                   0.072812              0.010680   \n",
       "Wire_7                                   0.077683             -0.031655   \n",
       "Wire_8                                   0.037658             -0.016096   \n",
       "Wire_9                                  -0.039480             -0.008485   \n",
       "Gas_1                                    0.403112              0.086761   \n",
       "Wire_all                                 0.220769             -0.153932   \n",
       "Bulk_all                                 0.462714              0.356100   \n",
       "\n",
       "                             Average_reactive_power  Apparent_power    Bulk_1  \\\n",
       "Temperature_first_measuring               -0.338996       -0.364481  0.038613   \n",
       "Time_of_heating_seconds                    0.567364        0.638919  0.085141   \n",
       "Work                                       0.729346        0.848997  0.049029   \n",
       "Number_of_iterations                       0.048818        0.167201  0.084765   \n",
       "Average_active_power                       0.934536        0.915772  0.026771   \n",
       "Average_reactive_power                     1.000000        0.883831  0.054073   \n",
       "Apparent_power                             0.883831        1.000000  0.026006   \n",
       "Bulk_1                                     0.054073        0.026006  1.000000   \n",
       "Bulk_2                                    -0.030054       -0.030905  0.224400   \n",
       "Bulk_3                                    -0.009644        0.027190 -0.009354   \n",
       "Bulk_4                                    -0.072276       -0.065245  0.047321   \n",
       "Bulk_5                                    -0.032496       -0.038198  0.070342   \n",
       "Bulk_6                                     0.042594        0.050874 -0.002333   \n",
       "Bulk_7                                    -0.033869       -0.027075  0.178091   \n",
       "Bulk_8                                    -0.001765        0.000983 -0.006246   \n",
       "Bulk_9                                    -0.018867       -0.008262 -0.015626   \n",
       "Bulk_10                                   -0.049049       -0.021704 -0.012293   \n",
       "Bulk_11                                    0.037119        0.044453 -0.035570   \n",
       "Bulk_12                                    0.374117        0.436719  0.289191   \n",
       "Bulk_13                                    0.001122        0.037610 -0.009874   \n",
       "Bulk_14                                    0.294147        0.372253  0.194217   \n",
       "Bulk_15                                    0.223195        0.257197  0.043342   \n",
       "Wire_1                                    -0.193383       -0.153782  0.061235   \n",
       "Wire_2                                    -0.039307       -0.053796 -0.031326   \n",
       "Wire_3                                    -0.018849       -0.028774  0.024291   \n",
       "Wire_4                                    -0.024974       -0.021328  0.146453   \n",
       "Wire_5                                          NaN             NaN       NaN   \n",
       "Wire_6                                     0.006471        0.002298  0.199354   \n",
       "Wire_7                                    -0.017417       -0.016823  0.092638   \n",
       "Wire_8                                    -0.016736       -0.007626 -0.015758   \n",
       "Wire_9                                     0.005586       -0.020835  0.003536   \n",
       "Gas_1                                      0.066746        0.136860  0.190497   \n",
       "Wire_all                                  -0.166894       -0.150752  0.070101   \n",
       "Bulk_all                                   0.327161        0.406667  0.297116   \n",
       "\n",
       "                               Bulk_2    Bulk_3  ...    Wire_3    Wire_4  \\\n",
       "Temperature_first_measuring  0.116657 -0.158295  ... -0.006054  0.056374   \n",
       "Time_of_heating_seconds      0.033899  0.113111  ...  0.031221  0.055207   \n",
       "Work                         0.006037  0.065719  ... -0.003652  0.027170   \n",
       "Number_of_iterations         0.097278  0.138385  ...  0.067880  0.118639   \n",
       "Average_active_power        -0.043183  0.040651  ... -0.010224 -0.040588   \n",
       "Average_reactive_power      -0.030054 -0.009644  ... -0.018849 -0.024974   \n",
       "Apparent_power              -0.030905  0.027190  ... -0.028774 -0.021328   \n",
       "Bulk_1                       0.224400 -0.009354  ...  0.024291  0.146453   \n",
       "Bulk_2                       1.000000 -0.046465  ...  0.240995  0.693533   \n",
       "Bulk_3                      -0.046465  1.000000  ...  0.022075 -0.040295   \n",
       "Bulk_4                       0.046205 -0.264022  ... -0.037152  0.039085   \n",
       "Bulk_5                       0.381570  0.006131  ...  0.084512  0.275018   \n",
       "Bulk_6                      -0.029825  0.069653  ... -0.042680 -0.025864   \n",
       "Bulk_7                       0.736388 -0.040028  ...  0.185642  0.778952   \n",
       "Bulk_8                      -0.001693  0.023506  ... -0.002426 -0.001468   \n",
       "Bulk_9                      -0.004235  0.024725  ... -0.006069 -0.003673   \n",
       "Bulk_10                     -0.017261 -0.081621  ... -0.024734 -0.014969   \n",
       "Bulk_11                      0.003116 -0.007022  ... -0.020350 -0.012321   \n",
       "Bulk_12                     -0.095048  0.038083  ... -0.122524 -0.082425   \n",
       "Bulk_13                     -0.005896 -0.008979  ... -0.008449 -0.005113   \n",
       "Bulk_14                     -0.129732  0.041841  ... -0.011091 -0.112503   \n",
       "Bulk_15                     -0.095439  0.041792  ... -0.107143 -0.082764   \n",
       "Wire_1                      -0.148440  0.082015  ...  0.041294 -0.124610   \n",
       "Wire_2                      -0.038161  0.120545  ...  0.090940 -0.033093   \n",
       "Wire_3                       0.240995  0.022075  ...  1.000000  0.183348   \n",
       "Wire_4                       0.693533 -0.040295  ...  0.183348  1.000000   \n",
       "Wire_5                            NaN       NaN  ...       NaN       NaN   \n",
       "Wire_6                       0.691615 -0.007719  ...  0.189345  0.549997   \n",
       "Wire_7                       0.449473 -0.020067  ...  0.113748  0.609276   \n",
       "Wire_8                      -0.004271  0.019055  ... -0.006120 -0.003704   \n",
       "Wire_9                      -0.007750 -0.007404  ... -0.011105 -0.006721   \n",
       "Gas_1                        0.219715  0.096660  ...  0.110700  0.147103   \n",
       "Wire_all                     0.093602  0.122136  ...  0.493348  0.098936   \n",
       "Bulk_all                     0.054099  0.235329  ... -0.068655  0.043011   \n",
       "\n",
       "                             Wire_5    Wire_6    Wire_7    Wire_8    Wire_9  \\\n",
       "Temperature_first_measuring     NaN  0.041741  0.046673 -0.027437 -0.004704   \n",
       "Time_of_heating_seconds         NaN  0.037909  0.030102  0.013851 -0.031872   \n",
       "Work                            NaN  0.024076  0.007351  0.000708 -0.028590   \n",
       "Number_of_iterations            NaN  0.072812  0.077683  0.037658 -0.039480   \n",
       "Average_active_power            NaN  0.010680 -0.031655 -0.016096 -0.008485   \n",
       "Average_reactive_power          NaN  0.006471 -0.017417 -0.016736  0.005586   \n",
       "Apparent_power                  NaN  0.002298 -0.016823 -0.007626 -0.020835   \n",
       "Bulk_1                          NaN  0.199354  0.092638 -0.015758  0.003536   \n",
       "Bulk_2                          NaN  0.691615  0.449473 -0.004271 -0.007750   \n",
       "Bulk_3                          NaN -0.007719 -0.020067  0.019055 -0.007404   \n",
       "Bulk_4                          NaN  0.004326  0.038438 -0.000090 -0.061945   \n",
       "Bulk_5                          NaN  0.272460  0.185732 -0.005947 -0.010790   \n",
       "Bulk_6                          NaN -0.037627 -0.012880 -0.021776 -0.018961   \n",
       "Bulk_7                          NaN  0.607581  0.387323 -0.003680 -0.006676   \n",
       "Bulk_8                          NaN -0.002449 -0.000731  0.440544 -0.002243   \n",
       "Bulk_9                          NaN -0.006128 -0.001829  0.970671 -0.005611   \n",
       "Bulk_10                         NaN -0.024973 -0.007454 -0.012603 -0.022866   \n",
       "Bulk_11                         NaN -0.001314 -0.006136 -0.010373 -0.018821   \n",
       "Bulk_12                         NaN -0.049205 -0.041047 -0.047747 -0.063122   \n",
       "Bulk_13                         NaN -0.008530 -0.002546 -0.004305 -0.007811   \n",
       "Bulk_14                         NaN -0.061299 -0.056026  0.021608 -0.022464   \n",
       "Bulk_15                         NaN -0.032440 -0.041216 -0.069681 -0.055169   \n",
       "Wire_1                          NaN -0.136217 -0.061664  0.029873  0.022838   \n",
       "Wire_2                          NaN -0.054804 -0.016480  0.036954  0.261176   \n",
       "Wire_3                          NaN  0.189345  0.113748 -0.006120 -0.011105   \n",
       "Wire_4                          NaN  0.549997  0.609276 -0.003704 -0.006721   \n",
       "Wire_5                          NaN       NaN       NaN       NaN       NaN   \n",
       "Wire_6                          NaN  1.000000  0.386781 -0.006180 -0.011212   \n",
       "Wire_7                          NaN  0.386781  1.000000 -0.001845 -0.003347   \n",
       "Wire_8                          NaN -0.006180 -0.001845  1.000000 -0.005658   \n",
       "Wire_9                          NaN -0.011212 -0.003347 -0.005658  1.000000   \n",
       "Gas_1                           NaN  0.136110  0.086634  0.100436  0.005631   \n",
       "Wire_all                        NaN  0.096164  0.080690  0.085811  0.203741   \n",
       "Bulk_all                        NaN  0.072450  0.035908 -0.023244 -0.076910   \n",
       "\n",
       "                                Gas_1  Wire_all  Bulk_all  \n",
       "Temperature_first_measuring -0.017687  0.011064 -0.161181  \n",
       "Time_of_heating_seconds      0.378919  0.085169  0.560537  \n",
       "Work                         0.294786 -0.019596  0.499479  \n",
       "Number_of_iterations         0.403112  0.220769  0.462714  \n",
       "Average_active_power         0.086761 -0.153932  0.356100  \n",
       "Average_reactive_power       0.066746 -0.166894  0.327161  \n",
       "Apparent_power               0.136860 -0.150752  0.406667  \n",
       "Bulk_1                       0.190497  0.070101  0.297116  \n",
       "Bulk_2                       0.219715  0.093602  0.054099  \n",
       "Bulk_3                       0.096660  0.122136  0.235329  \n",
       "Bulk_4                       0.044774  0.109291  0.168864  \n",
       "Bulk_5                       0.085698  0.062100  0.078559  \n",
       "Bulk_6                       0.164858 -0.075675  0.163352  \n",
       "Bulk_7                       0.159232  0.088972  0.077391  \n",
       "Bulk_8                       0.004919  0.055659 -0.018418  \n",
       "Bulk_9                       0.094322  0.088435 -0.023900  \n",
       "Bulk_10                      0.011206 -0.003118  0.037900  \n",
       "Bulk_11                      0.060129 -0.035614  0.090584  \n",
       "Bulk_12                      0.221144  0.023544  0.857460  \n",
       "Bulk_13                      0.053894  0.020991  0.076902  \n",
       "Bulk_14                      0.267795  0.004156  0.667749  \n",
       "Bulk_15                      0.131400  0.083078  0.721117  \n",
       "Wire_1                       0.176068  0.718021  0.206219  \n",
       "Wire_2                       0.094543  0.533921 -0.063093  \n",
       "Wire_3                       0.110700  0.493348 -0.068655  \n",
       "Wire_4                       0.147103  0.098936  0.043011  \n",
       "Wire_5                            NaN       NaN       NaN  \n",
       "Wire_6                       0.136110  0.096164  0.072450  \n",
       "Wire_7                       0.086634  0.080690  0.035908  \n",
       "Wire_8                       0.100436  0.085811 -0.023244  \n",
       "Wire_9                       0.005631  0.203741 -0.076910  \n",
       "Gas_1                        1.000000  0.245947  0.343192  \n",
       "Wire_all                     0.245947  1.000000  0.095913  \n",
       "Bulk_all                     0.343192  0.095913  1.000000  \n",
       "\n",
       "[34 rows x 34 columns]"
      ]
     },
     "execution_count": 74,
     "metadata": {},
     "output_type": "execute_result"
    }
   ],
   "source": [
    "corr_features = features.corr()\n",
    "\n",
    "corr_features"
   ]
  },
  {
   "cell_type": "markdown",
   "metadata": {},
   "source": [
    "Много значений, но уже можно найти похожие столбцы. К примеру: \"Работа\" (Work) коррелирует сильно со многими значениями.\n",
    "\n",
    "При чем \"Работа\" коррелирует сильно и с \"Время нагрева, секунды\"(Time of heating, seconds) - 0,89, и с \"Полной мощностью\". А другие столбцы, с которыми она коррелирует нетак сильно коррелируют с другими. С точки зрения формул это понятно. Работа была получена из этих столбцов. Но для модели она хуже, так как корелирует сильнее с большим числом столбцов. Удалим ее.\n",
    "\n",
    "Также видим, что столбец 'Wire_5' вероятно стал пустым после удаления ошибок. Удалим и его."
   ]
  },
  {
   "cell_type": "code",
   "execution_count": 75,
   "metadata": {},
   "outputs": [],
   "source": [
    "features = features.drop(['Work', 'Wire_5'], axis=1)\n"
   ]
  },
  {
   "cell_type": "markdown",
   "metadata": {},
   "source": [
    "Теперь пройдемся циклом и вычислим еще столбцы с большой корреляцией."
   ]
  },
  {
   "cell_type": "code",
   "execution_count": 76,
   "metadata": {},
   "outputs": [],
   "source": [
    "features_colomns = list(np.array(features.columns))"
   ]
  },
  {
   "cell_type": "code",
   "execution_count": 77,
   "metadata": {},
   "outputs": [
    {
     "data": {
      "text/plain": [
       "{'Apparent_power', 'Average_reactive_power', 'Bulk_all', 'Wire_8'}"
      ]
     },
     "execution_count": 77,
     "metadata": {},
     "output_type": "execute_result"
    }
   ],
   "source": [
    "columns_not_for_model = set()\n",
    "\n",
    "for element in features_colomns:\n",
    "    for element2 in features_colomns:\n",
    "        if features_colomns.index(element2) > features_colomns.index(element):\n",
    "            if  features[element].corr(features[element2]) > 0.8:\n",
    "                columns_not_for_model.add(element2)\n",
    "\n",
    "columns_not_for_model"
   ]
  },
  {
   "cell_type": "markdown",
   "metadata": {},
   "source": [
    "Итого, удаляем все-таки еще 'Apparent_power', 'Average_reactive_power', 'Bulk_all', 'Wire_8'. \n",
    "\n",
    "В итоге, из мощностей у нас осталась только активная. Но также у нас есть время нагрева и число итераций нагрева."
   ]
  },
  {
   "cell_type": "code",
   "execution_count": 78,
   "metadata": {},
   "outputs": [],
   "source": [
    "features = features.drop(\n",
    "    ['Apparent_power', 'Average_reactive_power', 'Bulk_all', 'Wire_8'], \n",
    "    axis=1\n",
    ")"
   ]
  },
  {
   "cell_type": "code",
   "execution_count": 79,
   "metadata": {},
   "outputs": [],
   "source": [
    "features_colomns = list(np.array(features.columns))"
   ]
  },
  {
   "cell_type": "code",
   "execution_count": 80,
   "metadata": {},
   "outputs": [
    {
     "data": {
      "text/plain": [
       "(2042, 28)"
      ]
     },
     "execution_count": 80,
     "metadata": {},
     "output_type": "execute_result"
    }
   ],
   "source": [
    "features.shape"
   ]
  },
  {
   "cell_type": "code",
   "execution_count": 81,
   "metadata": {},
   "outputs": [
    {
     "data": {
      "text/html": [
       "<div>\n",
       "<style scoped>\n",
       "    .dataframe tbody tr th:only-of-type {\n",
       "        vertical-align: middle;\n",
       "    }\n",
       "\n",
       "    .dataframe tbody tr th {\n",
       "        vertical-align: top;\n",
       "    }\n",
       "\n",
       "    .dataframe thead th {\n",
       "        text-align: right;\n",
       "    }\n",
       "</style>\n",
       "<table border=\"1\" class=\"dataframe\">\n",
       "  <thead>\n",
       "    <tr style=\"text-align: right;\">\n",
       "      <th></th>\n",
       "      <th>Temperature_first_measuring</th>\n",
       "      <th>Time_of_heating_seconds</th>\n",
       "      <th>Number_of_iterations</th>\n",
       "      <th>Average_active_power</th>\n",
       "      <th>Bulk_1</th>\n",
       "      <th>Bulk_2</th>\n",
       "      <th>Bulk_3</th>\n",
       "      <th>Bulk_4</th>\n",
       "      <th>Bulk_5</th>\n",
       "      <th>Bulk_6</th>\n",
       "      <th>...</th>\n",
       "      <th>Bulk_15</th>\n",
       "      <th>Wire_1</th>\n",
       "      <th>Wire_2</th>\n",
       "      <th>Wire_3</th>\n",
       "      <th>Wire_4</th>\n",
       "      <th>Wire_6</th>\n",
       "      <th>Wire_7</th>\n",
       "      <th>Wire_9</th>\n",
       "      <th>Gas_1</th>\n",
       "      <th>Wire_all</th>\n",
       "    </tr>\n",
       "  </thead>\n",
       "  <tbody>\n",
       "    <tr>\n",
       "      <td>0</td>\n",
       "      <td>1581.0</td>\n",
       "      <td>811.0</td>\n",
       "      <td>4.0</td>\n",
       "      <td>0.763150</td>\n",
       "      <td>0.0</td>\n",
       "      <td>0.0</td>\n",
       "      <td>0.0</td>\n",
       "      <td>73.0</td>\n",
       "      <td>0.0</td>\n",
       "      <td>0.0</td>\n",
       "      <td>...</td>\n",
       "      <td>154.0</td>\n",
       "      <td>96.052315</td>\n",
       "      <td>0.000000</td>\n",
       "      <td>0.0</td>\n",
       "      <td>0.0</td>\n",
       "      <td>0.0</td>\n",
       "      <td>0.0</td>\n",
       "      <td>0.0</td>\n",
       "      <td>12.555561</td>\n",
       "      <td>96.052315</td>\n",
       "    </tr>\n",
       "    <tr>\n",
       "      <td>1</td>\n",
       "      <td>1543.0</td>\n",
       "      <td>952.0</td>\n",
       "      <td>4.0</td>\n",
       "      <td>0.988777</td>\n",
       "      <td>0.0</td>\n",
       "      <td>0.0</td>\n",
       "      <td>0.0</td>\n",
       "      <td>117.0</td>\n",
       "      <td>0.0</td>\n",
       "      <td>0.0</td>\n",
       "      <td>...</td>\n",
       "      <td>154.0</td>\n",
       "      <td>99.109917</td>\n",
       "      <td>9.114560</td>\n",
       "      <td>0.0</td>\n",
       "      <td>0.0</td>\n",
       "      <td>0.0</td>\n",
       "      <td>0.0</td>\n",
       "      <td>0.0</td>\n",
       "      <td>11.273392</td>\n",
       "      <td>108.224477</td>\n",
       "    </tr>\n",
       "    <tr>\n",
       "      <td>2</td>\n",
       "      <td>1586.0</td>\n",
       "      <td>673.0</td>\n",
       "      <td>4.0</td>\n",
       "      <td>0.636844</td>\n",
       "      <td>0.0</td>\n",
       "      <td>0.0</td>\n",
       "      <td>0.0</td>\n",
       "      <td>117.0</td>\n",
       "      <td>0.0</td>\n",
       "      <td>0.0</td>\n",
       "      <td>...</td>\n",
       "      <td>154.0</td>\n",
       "      <td>98.061600</td>\n",
       "      <td>0.000000</td>\n",
       "      <td>0.0</td>\n",
       "      <td>0.0</td>\n",
       "      <td>0.0</td>\n",
       "      <td>0.0</td>\n",
       "      <td>0.0</td>\n",
       "      <td>9.836267</td>\n",
       "      <td>98.061600</td>\n",
       "    </tr>\n",
       "    <tr>\n",
       "      <td>3</td>\n",
       "      <td>1587.0</td>\n",
       "      <td>625.0</td>\n",
       "      <td>5.0</td>\n",
       "      <td>0.416390</td>\n",
       "      <td>0.0</td>\n",
       "      <td>0.0</td>\n",
       "      <td>0.0</td>\n",
       "      <td>117.0</td>\n",
       "      <td>0.0</td>\n",
       "      <td>0.0</td>\n",
       "      <td>...</td>\n",
       "      <td>203.0</td>\n",
       "      <td>113.393279</td>\n",
       "      <td>9.143681</td>\n",
       "      <td>0.0</td>\n",
       "      <td>0.0</td>\n",
       "      <td>0.0</td>\n",
       "      <td>0.0</td>\n",
       "      <td>0.0</td>\n",
       "      <td>8.216623</td>\n",
       "      <td>122.536960</td>\n",
       "    </tr>\n",
       "    <tr>\n",
       "      <td>4</td>\n",
       "      <td>1574.0</td>\n",
       "      <td>825.0</td>\n",
       "      <td>6.0</td>\n",
       "      <td>0.487270</td>\n",
       "      <td>0.0</td>\n",
       "      <td>0.0</td>\n",
       "      <td>0.0</td>\n",
       "      <td>0.0</td>\n",
       "      <td>0.0</td>\n",
       "      <td>0.0</td>\n",
       "      <td>...</td>\n",
       "      <td>204.0</td>\n",
       "      <td>81.244796</td>\n",
       "      <td>12.376000</td>\n",
       "      <td>0.0</td>\n",
       "      <td>0.0</td>\n",
       "      <td>0.0</td>\n",
       "      <td>0.0</td>\n",
       "      <td>0.0</td>\n",
       "      <td>6.529891</td>\n",
       "      <td>93.620796</td>\n",
       "    </tr>\n",
       "  </tbody>\n",
       "</table>\n",
       "<p>5 rows × 28 columns</p>\n",
       "</div>"
      ],
      "text/plain": [
       "   Temperature_first_measuring  Time_of_heating_seconds  Number_of_iterations  \\\n",
       "0                       1581.0                    811.0                   4.0   \n",
       "1                       1543.0                    952.0                   4.0   \n",
       "2                       1586.0                    673.0                   4.0   \n",
       "3                       1587.0                    625.0                   5.0   \n",
       "4                       1574.0                    825.0                   6.0   \n",
       "\n",
       "   Average_active_power  Bulk_1  Bulk_2  Bulk_3  Bulk_4  Bulk_5  Bulk_6  ...  \\\n",
       "0              0.763150     0.0     0.0     0.0    73.0     0.0     0.0  ...   \n",
       "1              0.988777     0.0     0.0     0.0   117.0     0.0     0.0  ...   \n",
       "2              0.636844     0.0     0.0     0.0   117.0     0.0     0.0  ...   \n",
       "3              0.416390     0.0     0.0     0.0   117.0     0.0     0.0  ...   \n",
       "4              0.487270     0.0     0.0     0.0     0.0     0.0     0.0  ...   \n",
       "\n",
       "   Bulk_15      Wire_1     Wire_2  Wire_3  Wire_4  Wire_6  Wire_7  Wire_9  \\\n",
       "0    154.0   96.052315   0.000000     0.0     0.0     0.0     0.0     0.0   \n",
       "1    154.0   99.109917   9.114560     0.0     0.0     0.0     0.0     0.0   \n",
       "2    154.0   98.061600   0.000000     0.0     0.0     0.0     0.0     0.0   \n",
       "3    203.0  113.393279   9.143681     0.0     0.0     0.0     0.0     0.0   \n",
       "4    204.0   81.244796  12.376000     0.0     0.0     0.0     0.0     0.0   \n",
       "\n",
       "       Gas_1    Wire_all  \n",
       "0  12.555561   96.052315  \n",
       "1  11.273392  108.224477  \n",
       "2   9.836267   98.061600  \n",
       "3   8.216623  122.536960  \n",
       "4   6.529891   93.620796  \n",
       "\n",
       "[5 rows x 28 columns]"
      ]
     },
     "execution_count": 81,
     "metadata": {},
     "output_type": "execute_result"
    }
   ],
   "source": [
    "features.head()"
   ]
  },
  {
   "cell_type": "markdown",
   "metadata": {},
   "source": [
    "Итого, у нас 28 признаков. Приступим к формированию выборок."
   ]
  },
  {
   "cell_type": "markdown",
   "metadata": {},
   "source": [
    "### Формирование выборок и масштабирование"
   ]
  },
  {
   "cell_type": "markdown",
   "metadata": {},
   "source": [
    "Выше мы уже разделили данные на признаки и целевой признак. Теперь нам необходимо создать выборки с данными:\n",
    "- тренировочную,\n",
    "- тестовую.\n",
    "\n",
    "\n",
    "Так как для обучения моделей мы будем использовать только кросс-валидационные методы, то выделять отдельно валидационную не будем. Возьмем соотношение 75% и 25%."
   ]
  },
  {
   "cell_type": "code",
   "execution_count": 82,
   "metadata": {},
   "outputs": [],
   "source": [
    "#деление на тренировочную и тестовую выборки\n",
    "features_train, features_test, target_train, target_test = train_test_split(\n",
    "    features, target, test_size=0.25, random_state=12345) "
   ]
  },
  {
   "cell_type": "code",
   "execution_count": 83,
   "metadata": {},
   "outputs": [
    {
     "data": {
      "text/plain": [
       "((1531, 28), (1531,), (511, 28), (511,))"
      ]
     },
     "execution_count": 83,
     "metadata": {},
     "output_type": "execute_result"
    }
   ],
   "source": [
    "features_train.shape, target_train.shape, features_test.shape, target_test.shape"
   ]
  },
  {
   "cell_type": "markdown",
   "metadata": {},
   "source": [
    "Отлично, размеры совпадают.\n",
    "\n",
    "Теперь приступим к масштабированию данных. Посмотрим, как выглядит выборка до преобразования."
   ]
  },
  {
   "cell_type": "code",
   "execution_count": 84,
   "metadata": {},
   "outputs": [
    {
     "data": {
      "text/html": [
       "<div>\n",
       "<style scoped>\n",
       "    .dataframe tbody tr th:only-of-type {\n",
       "        vertical-align: middle;\n",
       "    }\n",
       "\n",
       "    .dataframe tbody tr th {\n",
       "        vertical-align: top;\n",
       "    }\n",
       "\n",
       "    .dataframe thead th {\n",
       "        text-align: right;\n",
       "    }\n",
       "</style>\n",
       "<table border=\"1\" class=\"dataframe\">\n",
       "  <thead>\n",
       "    <tr style=\"text-align: right;\">\n",
       "      <th></th>\n",
       "      <th>Temperature_first_measuring</th>\n",
       "      <th>Time_of_heating_seconds</th>\n",
       "      <th>Number_of_iterations</th>\n",
       "      <th>Average_active_power</th>\n",
       "      <th>Bulk_1</th>\n",
       "      <th>Bulk_2</th>\n",
       "      <th>Bulk_3</th>\n",
       "      <th>Bulk_4</th>\n",
       "      <th>Bulk_5</th>\n",
       "      <th>Bulk_6</th>\n",
       "      <th>...</th>\n",
       "      <th>Bulk_15</th>\n",
       "      <th>Wire_1</th>\n",
       "      <th>Wire_2</th>\n",
       "      <th>Wire_3</th>\n",
       "      <th>Wire_4</th>\n",
       "      <th>Wire_6</th>\n",
       "      <th>Wire_7</th>\n",
       "      <th>Wire_9</th>\n",
       "      <th>Gas_1</th>\n",
       "      <th>Wire_all</th>\n",
       "    </tr>\n",
       "  </thead>\n",
       "  <tbody>\n",
       "    <tr>\n",
       "      <td>1556</td>\n",
       "      <td>1638.0</td>\n",
       "      <td>461.0</td>\n",
       "      <td>4.0</td>\n",
       "      <td>0.460830</td>\n",
       "      <td>0.0</td>\n",
       "      <td>0.0</td>\n",
       "      <td>0.0</td>\n",
       "      <td>89.0</td>\n",
       "      <td>0.0</td>\n",
       "      <td>0.0</td>\n",
       "      <td>...</td>\n",
       "      <td>205.0</td>\n",
       "      <td>162.395993</td>\n",
       "      <td>0.000000</td>\n",
       "      <td>0.0</td>\n",
       "      <td>0.0</td>\n",
       "      <td>0.0</td>\n",
       "      <td>0.0</td>\n",
       "      <td>0.0</td>\n",
       "      <td>9.849052</td>\n",
       "      <td>162.395993</td>\n",
       "    </tr>\n",
       "    <tr>\n",
       "      <td>1489</td>\n",
       "      <td>1568.0</td>\n",
       "      <td>611.0</td>\n",
       "      <td>4.0</td>\n",
       "      <td>0.590287</td>\n",
       "      <td>0.0</td>\n",
       "      <td>0.0</td>\n",
       "      <td>85.0</td>\n",
       "      <td>0.0</td>\n",
       "      <td>0.0</td>\n",
       "      <td>0.0</td>\n",
       "      <td>...</td>\n",
       "      <td>103.0</td>\n",
       "      <td>54.054001</td>\n",
       "      <td>65.115440</td>\n",
       "      <td>0.0</td>\n",
       "      <td>0.0</td>\n",
       "      <td>0.0</td>\n",
       "      <td>0.0</td>\n",
       "      <td>0.0</td>\n",
       "      <td>6.650553</td>\n",
       "      <td>119.169441</td>\n",
       "    </tr>\n",
       "    <tr>\n",
       "      <td>1620</td>\n",
       "      <td>1580.0</td>\n",
       "      <td>707.0</td>\n",
       "      <td>5.0</td>\n",
       "      <td>0.534314</td>\n",
       "      <td>0.0</td>\n",
       "      <td>0.0</td>\n",
       "      <td>150.0</td>\n",
       "      <td>0.0</td>\n",
       "      <td>0.0</td>\n",
       "      <td>0.0</td>\n",
       "      <td>...</td>\n",
       "      <td>0.0</td>\n",
       "      <td>81.157445</td>\n",
       "      <td>0.000000</td>\n",
       "      <td>0.0</td>\n",
       "      <td>0.0</td>\n",
       "      <td>0.0</td>\n",
       "      <td>0.0</td>\n",
       "      <td>0.0</td>\n",
       "      <td>11.082682</td>\n",
       "      <td>81.157445</td>\n",
       "    </tr>\n",
       "    <tr>\n",
       "      <td>1325</td>\n",
       "      <td>1607.0</td>\n",
       "      <td>334.0</td>\n",
       "      <td>2.0</td>\n",
       "      <td>0.641229</td>\n",
       "      <td>0.0</td>\n",
       "      <td>0.0</td>\n",
       "      <td>25.0</td>\n",
       "      <td>0.0</td>\n",
       "      <td>0.0</td>\n",
       "      <td>0.0</td>\n",
       "      <td>...</td>\n",
       "      <td>205.0</td>\n",
       "      <td>104.410797</td>\n",
       "      <td>58.148479</td>\n",
       "      <td>0.0</td>\n",
       "      <td>0.0</td>\n",
       "      <td>0.0</td>\n",
       "      <td>0.0</td>\n",
       "      <td>0.0</td>\n",
       "      <td>9.161124</td>\n",
       "      <td>162.559276</td>\n",
       "    </tr>\n",
       "    <tr>\n",
       "      <td>945</td>\n",
       "      <td>1600.0</td>\n",
       "      <td>966.0</td>\n",
       "      <td>6.0</td>\n",
       "      <td>0.584702</td>\n",
       "      <td>0.0</td>\n",
       "      <td>0.0</td>\n",
       "      <td>0.0</td>\n",
       "      <td>77.0</td>\n",
       "      <td>0.0</td>\n",
       "      <td>0.0</td>\n",
       "      <td>...</td>\n",
       "      <td>208.0</td>\n",
       "      <td>139.183196</td>\n",
       "      <td>0.000000</td>\n",
       "      <td>0.0</td>\n",
       "      <td>0.0</td>\n",
       "      <td>0.0</td>\n",
       "      <td>0.0</td>\n",
       "      <td>0.0</td>\n",
       "      <td>13.094869</td>\n",
       "      <td>139.183196</td>\n",
       "    </tr>\n",
       "  </tbody>\n",
       "</table>\n",
       "<p>5 rows × 28 columns</p>\n",
       "</div>"
      ],
      "text/plain": [
       "      Temperature_first_measuring  Time_of_heating_seconds  \\\n",
       "1556                       1638.0                    461.0   \n",
       "1489                       1568.0                    611.0   \n",
       "1620                       1580.0                    707.0   \n",
       "1325                       1607.0                    334.0   \n",
       "945                        1600.0                    966.0   \n",
       "\n",
       "      Number_of_iterations  Average_active_power  Bulk_1  Bulk_2  Bulk_3  \\\n",
       "1556                   4.0              0.460830     0.0     0.0     0.0   \n",
       "1489                   4.0              0.590287     0.0     0.0    85.0   \n",
       "1620                   5.0              0.534314     0.0     0.0   150.0   \n",
       "1325                   2.0              0.641229     0.0     0.0    25.0   \n",
       "945                    6.0              0.584702     0.0     0.0     0.0   \n",
       "\n",
       "      Bulk_4  Bulk_5  Bulk_6  ...  Bulk_15      Wire_1     Wire_2  Wire_3  \\\n",
       "1556    89.0     0.0     0.0  ...    205.0  162.395993   0.000000     0.0   \n",
       "1489     0.0     0.0     0.0  ...    103.0   54.054001  65.115440     0.0   \n",
       "1620     0.0     0.0     0.0  ...      0.0   81.157445   0.000000     0.0   \n",
       "1325     0.0     0.0     0.0  ...    205.0  104.410797  58.148479     0.0   \n",
       "945     77.0     0.0     0.0  ...    208.0  139.183196   0.000000     0.0   \n",
       "\n",
       "      Wire_4  Wire_6  Wire_7  Wire_9      Gas_1    Wire_all  \n",
       "1556     0.0     0.0     0.0     0.0   9.849052  162.395993  \n",
       "1489     0.0     0.0     0.0     0.0   6.650553  119.169441  \n",
       "1620     0.0     0.0     0.0     0.0  11.082682   81.157445  \n",
       "1325     0.0     0.0     0.0     0.0   9.161124  162.559276  \n",
       "945      0.0     0.0     0.0     0.0  13.094869  139.183196  \n",
       "\n",
       "[5 rows x 28 columns]"
      ]
     },
     "execution_count": 84,
     "metadata": {},
     "output_type": "execute_result"
    }
   ],
   "source": [
    "features_train.head()"
   ]
  },
  {
   "cell_type": "code",
   "execution_count": 85,
   "metadata": {},
   "outputs": [],
   "source": [
    "scaler = StandardScaler()\n",
    "scaler.fit(features_train) \n",
    "pd.options.mode.chained_assignment = None\n",
    "\n",
    "features_train[features_colomns] = scaler.transform(features_train[features_colomns])\n",
    "features_test[features_colomns] = scaler.transform(features_test[features_colomns])"
   ]
  },
  {
   "cell_type": "markdown",
   "metadata": {},
   "source": [
    "Посмотрим на то, как она выглядит после."
   ]
  },
  {
   "cell_type": "code",
   "execution_count": 86,
   "metadata": {},
   "outputs": [
    {
     "data": {
      "text/html": [
       "<div>\n",
       "<style scoped>\n",
       "    .dataframe tbody tr th:only-of-type {\n",
       "        vertical-align: middle;\n",
       "    }\n",
       "\n",
       "    .dataframe tbody tr th {\n",
       "        vertical-align: top;\n",
       "    }\n",
       "\n",
       "    .dataframe thead th {\n",
       "        text-align: right;\n",
       "    }\n",
       "</style>\n",
       "<table border=\"1\" class=\"dataframe\">\n",
       "  <thead>\n",
       "    <tr style=\"text-align: right;\">\n",
       "      <th></th>\n",
       "      <th>Temperature_first_measuring</th>\n",
       "      <th>Time_of_heating_seconds</th>\n",
       "      <th>Number_of_iterations</th>\n",
       "      <th>Average_active_power</th>\n",
       "      <th>Bulk_1</th>\n",
       "      <th>Bulk_2</th>\n",
       "      <th>Bulk_3</th>\n",
       "      <th>Bulk_4</th>\n",
       "      <th>Bulk_5</th>\n",
       "      <th>Bulk_6</th>\n",
       "      <th>...</th>\n",
       "      <th>Bulk_15</th>\n",
       "      <th>Wire_1</th>\n",
       "      <th>Wire_2</th>\n",
       "      <th>Wire_3</th>\n",
       "      <th>Wire_4</th>\n",
       "      <th>Wire_6</th>\n",
       "      <th>Wire_7</th>\n",
       "      <th>Wire_9</th>\n",
       "      <th>Gas_1</th>\n",
       "      <th>Wire_all</th>\n",
       "    </tr>\n",
       "  </thead>\n",
       "  <tbody>\n",
       "    <tr>\n",
       "      <td>1556</td>\n",
       "      <td>1.801149</td>\n",
       "      <td>-0.985709</td>\n",
       "      <td>-0.414644</td>\n",
       "      <td>-0.937127</td>\n",
       "      <td>-0.28045</td>\n",
       "      <td>-0.080925</td>\n",
       "      <td>-0.603022</td>\n",
       "      <td>0.942427</td>\n",
       "      <td>-0.121734</td>\n",
       "      <td>-0.398449</td>\n",
       "      <td>...</td>\n",
       "      <td>1.117335</td>\n",
       "      <td>1.306514</td>\n",
       "      <td>-0.514422</td>\n",
       "      <td>-0.109241</td>\n",
       "      <td>-0.076658</td>\n",
       "      <td>-0.116015</td>\n",
       "      <td>-0.038155</td>\n",
       "      <td>-0.104188</td>\n",
       "      <td>-0.224890</td>\n",
       "      <td>0.628950</td>\n",
       "    </tr>\n",
       "    <tr>\n",
       "      <td>1489</td>\n",
       "      <td>-0.963797</td>\n",
       "      <td>-0.533286</td>\n",
       "      <td>-0.414644</td>\n",
       "      <td>-0.303540</td>\n",
       "      <td>-0.28045</td>\n",
       "      <td>-0.080925</td>\n",
       "      <td>0.553716</td>\n",
       "      <td>-0.613542</td>\n",
       "      <td>-0.121734</td>\n",
       "      <td>-0.398449</td>\n",
       "      <td>...</td>\n",
       "      <td>-0.057563</td>\n",
       "      <td>-0.923021</td>\n",
       "      <td>1.548200</td>\n",
       "      <td>-0.109241</td>\n",
       "      <td>-0.076658</td>\n",
       "      <td>-0.116015</td>\n",
       "      <td>-0.038155</td>\n",
       "      <td>-0.104188</td>\n",
       "      <td>-0.750942</td>\n",
       "      <td>-0.012629</td>\n",
       "    </tr>\n",
       "    <tr>\n",
       "      <td>1620</td>\n",
       "      <td>-0.489806</td>\n",
       "      <td>-0.243735</td>\n",
       "      <td>0.208339</td>\n",
       "      <td>-0.577485</td>\n",
       "      <td>-0.28045</td>\n",
       "      <td>-0.080925</td>\n",
       "      <td>1.438281</td>\n",
       "      <td>-0.613542</td>\n",
       "      <td>-0.121734</td>\n",
       "      <td>-0.398449</td>\n",
       "      <td>...</td>\n",
       "      <td>-1.243979</td>\n",
       "      <td>-0.365268</td>\n",
       "      <td>-0.514422</td>\n",
       "      <td>-0.109241</td>\n",
       "      <td>-0.076658</td>\n",
       "      <td>-0.116015</td>\n",
       "      <td>-0.038155</td>\n",
       "      <td>-0.104188</td>\n",
       "      <td>-0.021997</td>\n",
       "      <td>-0.576812</td>\n",
       "    </tr>\n",
       "    <tr>\n",
       "      <td>1325</td>\n",
       "      <td>0.576673</td>\n",
       "      <td>-1.368761</td>\n",
       "      <td>-1.660611</td>\n",
       "      <td>-0.054219</td>\n",
       "      <td>-0.28045</td>\n",
       "      <td>-0.080925</td>\n",
       "      <td>-0.262805</td>\n",
       "      <td>-0.613542</td>\n",
       "      <td>-0.121734</td>\n",
       "      <td>-0.398449</td>\n",
       "      <td>...</td>\n",
       "      <td>1.117335</td>\n",
       "      <td>0.113255</td>\n",
       "      <td>1.327512</td>\n",
       "      <td>-0.109241</td>\n",
       "      <td>-0.076658</td>\n",
       "      <td>-0.116015</td>\n",
       "      <td>-0.038155</td>\n",
       "      <td>-0.104188</td>\n",
       "      <td>-0.338033</td>\n",
       "      <td>0.631373</td>\n",
       "    </tr>\n",
       "    <tr>\n",
       "      <td>945</td>\n",
       "      <td>0.300179</td>\n",
       "      <td>0.537449</td>\n",
       "      <td>0.831323</td>\n",
       "      <td>-0.330877</td>\n",
       "      <td>-0.28045</td>\n",
       "      <td>-0.080925</td>\n",
       "      <td>-0.603022</td>\n",
       "      <td>0.732633</td>\n",
       "      <td>-0.121734</td>\n",
       "      <td>-0.398449</td>\n",
       "      <td>...</td>\n",
       "      <td>1.151891</td>\n",
       "      <td>0.828825</td>\n",
       "      <td>-0.514422</td>\n",
       "      <td>-0.109241</td>\n",
       "      <td>-0.076658</td>\n",
       "      <td>-0.116015</td>\n",
       "      <td>-0.038155</td>\n",
       "      <td>-0.104188</td>\n",
       "      <td>0.308944</td>\n",
       "      <td>0.284420</td>\n",
       "    </tr>\n",
       "  </tbody>\n",
       "</table>\n",
       "<p>5 rows × 28 columns</p>\n",
       "</div>"
      ],
      "text/plain": [
       "      Temperature_first_measuring  Time_of_heating_seconds  \\\n",
       "1556                     1.801149                -0.985709   \n",
       "1489                    -0.963797                -0.533286   \n",
       "1620                    -0.489806                -0.243735   \n",
       "1325                     0.576673                -1.368761   \n",
       "945                      0.300179                 0.537449   \n",
       "\n",
       "      Number_of_iterations  Average_active_power   Bulk_1    Bulk_2    Bulk_3  \\\n",
       "1556             -0.414644             -0.937127 -0.28045 -0.080925 -0.603022   \n",
       "1489             -0.414644             -0.303540 -0.28045 -0.080925  0.553716   \n",
       "1620              0.208339             -0.577485 -0.28045 -0.080925  1.438281   \n",
       "1325             -1.660611             -0.054219 -0.28045 -0.080925 -0.262805   \n",
       "945               0.831323             -0.330877 -0.28045 -0.080925 -0.603022   \n",
       "\n",
       "        Bulk_4    Bulk_5    Bulk_6  ...   Bulk_15    Wire_1    Wire_2  \\\n",
       "1556  0.942427 -0.121734 -0.398449  ...  1.117335  1.306514 -0.514422   \n",
       "1489 -0.613542 -0.121734 -0.398449  ... -0.057563 -0.923021  1.548200   \n",
       "1620 -0.613542 -0.121734 -0.398449  ... -1.243979 -0.365268 -0.514422   \n",
       "1325 -0.613542 -0.121734 -0.398449  ...  1.117335  0.113255  1.327512   \n",
       "945   0.732633 -0.121734 -0.398449  ...  1.151891  0.828825 -0.514422   \n",
       "\n",
       "        Wire_3    Wire_4    Wire_6    Wire_7    Wire_9     Gas_1  Wire_all  \n",
       "1556 -0.109241 -0.076658 -0.116015 -0.038155 -0.104188 -0.224890  0.628950  \n",
       "1489 -0.109241 -0.076658 -0.116015 -0.038155 -0.104188 -0.750942 -0.012629  \n",
       "1620 -0.109241 -0.076658 -0.116015 -0.038155 -0.104188 -0.021997 -0.576812  \n",
       "1325 -0.109241 -0.076658 -0.116015 -0.038155 -0.104188 -0.338033  0.631373  \n",
       "945  -0.109241 -0.076658 -0.116015 -0.038155 -0.104188  0.308944  0.284420  \n",
       "\n",
       "[5 rows x 28 columns]"
      ]
     },
     "execution_count": 86,
     "metadata": {},
     "output_type": "execute_result"
    }
   ],
   "source": [
    "features_train.head()"
   ]
  },
  {
   "cell_type": "markdown",
   "metadata": {},
   "source": [
    "Видим, что масштаб изменился, все успешно. Приступаем к самому важному шагу - обучению моделей."
   ]
  },
  {
   "cell_type": "markdown",
   "metadata": {},
   "source": [
    "## Обучение моделей"
   ]
  },
  {
   "cell_type": "markdown",
   "metadata": {},
   "source": [
    "### Элементарные модели"
   ]
  },
  {
   "cell_type": "markdown",
   "metadata": {},
   "source": [
    "Для начала оценим параметры модели, которая всегда предсказывает среднее (округленное до целого), или медиану. Посмотрим на метрики этих моделей, и будем сравнивать другие модели относительно этих."
   ]
  },
  {
   "cell_type": "code",
   "execution_count": 87,
   "metadata": {},
   "outputs": [
    {
     "name": "stdout",
     "output_type": "stream",
     "text": [
      "CPU times: user 836 µs, sys: 51 µs, total: 887 µs\n",
      "Wall time: 681 µs\n"
     ]
    }
   ],
   "source": [
    "%%time\n",
    "\n",
    "median = target_train.median()"
   ]
  },
  {
   "cell_type": "code",
   "execution_count": 88,
   "metadata": {},
   "outputs": [
    {
     "name": "stdout",
     "output_type": "stream",
     "text": [
      "CPU times: user 23 µs, sys: 0 ns, total: 23 µs\n",
      "Wall time: 26.7 µs\n"
     ]
    }
   ],
   "source": [
    "%%time\n",
    "\n",
    "predictions_median = [median] * len(target_test)"
   ]
  },
  {
   "cell_type": "code",
   "execution_count": 89,
   "metadata": {},
   "outputs": [
    {
     "data": {
      "text/plain": [
       "10.017612524461839"
      ]
     },
     "execution_count": 89,
     "metadata": {},
     "output_type": "execute_result"
    }
   ],
   "source": [
    "mean_absolute_error(target_test, predictions_median)"
   ]
  },
  {
   "cell_type": "markdown",
   "metadata": {},
   "source": [
    "Время обучения и предсказания совсем маленькие. Запишем данные в талицу и проверим также предсказание по среднему.\n",
    "\n",
    "| N |       Model                | MAE  | Время обучения | Скорость предсказания |  \n",
    "|---|----------------------------|------------|----------|----------|\n",
    "| 1 | Median |   10.01  | Меньше 1 сек    | Меньше 1 сек    |\n"
   ]
  },
  {
   "cell_type": "code",
   "execution_count": 90,
   "metadata": {},
   "outputs": [
    {
     "name": "stdout",
     "output_type": "stream",
     "text": [
      "CPU times: user 336 µs, sys: 21 µs, total: 357 µs\n",
      "Wall time: 318 µs\n"
     ]
    }
   ],
   "source": [
    "%%time\n",
    "\n",
    "mean = target_train.mean()"
   ]
  },
  {
   "cell_type": "code",
   "execution_count": 91,
   "metadata": {},
   "outputs": [
    {
     "name": "stdout",
     "output_type": "stream",
     "text": [
      "CPU times: user 22 µs, sys: 0 ns, total: 22 µs\n",
      "Wall time: 25.7 µs\n"
     ]
    }
   ],
   "source": [
    "%%time\n",
    "predictions_mean = [mean] * len(target_test)"
   ]
  },
  {
   "cell_type": "code",
   "execution_count": 92,
   "metadata": {},
   "outputs": [
    {
     "data": {
      "text/plain": [
       "10.57833604527947"
      ]
     },
     "execution_count": 92,
     "metadata": {},
     "output_type": "execute_result"
    }
   ],
   "source": [
    "mean_absolute_error(target_test, predictions_mean)"
   ]
  },
  {
   "cell_type": "markdown",
   "metadata": {},
   "source": [
    "Данные похожи на медиану, запомним. На более сложных моделях результат должен быть значительно лучше, иначе мы что-то делаем не так.\n",
    "\n",
    "\n",
    "| N |       Model                | MAE  | Время обучения | \n",
    "|---|----------------------------|------------|----------|\n",
    "| 1 | Median |   10.01  | Меньше 1 сек    | \n",
    "| 2 | Mean |   10.57  | Меньше 1 сек    | "
   ]
  },
  {
   "cell_type": "markdown",
   "metadata": {},
   "source": [
    "### Модель линейной регрессии"
   ]
  },
  {
   "cell_type": "markdown",
   "metadata": {},
   "source": [
    "Начнем с базовой модели Линейной регрессии."
   ]
  },
  {
   "cell_type": "code",
   "execution_count": 93,
   "metadata": {},
   "outputs": [],
   "source": [
    "cv = StratifiedKFold(n_splits=3, shuffle=True, random_state=12345)\n",
    "\n",
    "model_lin_reg = LinearRegression()\n",
    "\n",
    "parameters_lin_reg = {'normalize': [False, True]}"
   ]
  },
  {
   "cell_type": "code",
   "execution_count": 94,
   "metadata": {},
   "outputs": [
    {
     "name": "stdout",
     "output_type": "stream",
     "text": [
      "CPU times: user 331 ms, sys: 343 ms, total: 674 ms\n",
      "Wall time: 620 ms\n"
     ]
    },
    {
     "data": {
      "text/plain": [
       "GridSearchCV(cv=StratifiedKFold(n_splits=3, random_state=12345, shuffle=True),\n",
       "             error_score='raise-deprecating',\n",
       "             estimator=LinearRegression(copy_X=True, fit_intercept=True,\n",
       "                                        n_jobs=None, normalize=False),\n",
       "             iid='warn', n_jobs=-1, param_grid={'normalize': [False, True]},\n",
       "             pre_dispatch='2*n_jobs', refit=True, return_train_score=False,\n",
       "             scoring='neg_mean_absolute_error', verbose=0)"
      ]
     },
     "execution_count": 94,
     "metadata": {},
     "output_type": "execute_result"
    }
   ],
   "source": [
    "%%time\n",
    "grid_search = GridSearchCV(\n",
    "    estimator = model_lin_reg, param_grid = parameters_lin_reg, \n",
    "    cv = cv, scoring = 'neg_mean_absolute_error', n_jobs = -1\n",
    ")\n",
    "\n",
    "grid_search.fit(features_train, target_train)"
   ]
  },
  {
   "cell_type": "code",
   "execution_count": 95,
   "metadata": {},
   "outputs": [
    {
     "data": {
      "text/plain": [
       "(-8.071245291519883, {'normalize': True})"
      ]
     },
     "execution_count": 95,
     "metadata": {},
     "output_type": "execute_result"
    }
   ],
   "source": [
    "grid_search.best_score_, grid_search.best_params_"
   ]
  },
  {
   "cell_type": "markdown",
   "metadata": {},
   "source": [
    "\n",
    "Модель линейной регресии показала себя немного лучше элементарных. Посмотрим на другие модели.\n",
    "\n",
    "| N |       Model                | MAE  | Время обучения | \n",
    "|---|----------------------------|------------|----------|\n",
    "| 1 | Median |   10.01  | Меньше 1 сек    | \n",
    "| 2 | Mean |   10.57  | Меньше 1 сек    |\n",
    "| 3 | LinearRegression |   8.07  | Около 1 сек    |"
   ]
  },
  {
   "cell_type": "markdown",
   "metadata": {},
   "source": [
    "### Случайный лес"
   ]
  },
  {
   "cell_type": "markdown",
   "metadata": {},
   "source": [
    "Посмотрим теперь на модель случайного леса, и попробуем перебрать у нее некоторые параметры."
   ]
  },
  {
   "cell_type": "code",
   "execution_count": 96,
   "metadata": {},
   "outputs": [],
   "source": [
    "model_random_forest = RandomForestRegressor(random_state=12345)\n",
    "parameters_random_forest = { 'n_estimators': range(1, 31),\n",
    "                            'max_depth': range(1, 11) }"
   ]
  },
  {
   "cell_type": "code",
   "execution_count": 97,
   "metadata": {},
   "outputs": [
    {
     "name": "stdout",
     "output_type": "stream",
     "text": [
      "CPU times: user 52 s, sys: 142 ms, total: 52.2 s\n",
      "Wall time: 52.5 s\n"
     ]
    },
    {
     "data": {
      "text/plain": [
       "GridSearchCV(cv=StratifiedKFold(n_splits=3, random_state=12345, shuffle=True),\n",
       "             error_score='raise-deprecating',\n",
       "             estimator=RandomForestRegressor(bootstrap=True, criterion='mse',\n",
       "                                             max_depth=None,\n",
       "                                             max_features='auto',\n",
       "                                             max_leaf_nodes=None,\n",
       "                                             min_impurity_decrease=0.0,\n",
       "                                             min_impurity_split=None,\n",
       "                                             min_samples_leaf=1,\n",
       "                                             min_samples_split=2,\n",
       "                                             min_weight_fraction_leaf=0.0,\n",
       "                                             n_estimators='warn', n_jobs=None,\n",
       "                                             oob_score=False,\n",
       "                                             random_state=12345, verbose=0,\n",
       "                                             warm_start=False),\n",
       "             iid='warn', n_jobs=-1,\n",
       "             param_grid={'max_depth': range(1, 11),\n",
       "                         'n_estimators': range(1, 31)},\n",
       "             pre_dispatch='2*n_jobs', refit=True, return_train_score=False,\n",
       "             scoring='neg_mean_absolute_error', verbose=0)"
      ]
     },
     "execution_count": 97,
     "metadata": {},
     "output_type": "execute_result"
    }
   ],
   "source": [
    "%%time\n",
    "grid_search = GridSearchCV(\n",
    "    estimator = model_random_forest, param_grid = parameters_random_forest, \n",
    "    cv = cv, scoring = 'neg_mean_absolute_error', n_jobs = -1\n",
    ")\n",
    "\n",
    "grid_search.fit(features_train, target_train)"
   ]
  },
  {
   "cell_type": "code",
   "execution_count": 98,
   "metadata": {},
   "outputs": [
    {
     "data": {
      "text/plain": [
       "(-6.756780934227143, {'max_depth': 9, 'n_estimators': 30})"
      ]
     },
     "execution_count": 98,
     "metadata": {},
     "output_type": "execute_result"
    }
   ],
   "source": [
    "grid_search.best_score_, grid_search.best_params_"
   ]
  },
  {
   "cell_type": "markdown",
   "metadata": {},
   "source": [
    "Модель случайного леса показала себя еще немного лучше линейной регрессии.\n",
    "\n",
    "Лучшие параметры при этом такие: 'max_depth': 9, 'n_estimators': 30. \n",
    "\n",
    "| N |       Model                | MAE  | Время обучения | \n",
    "|---|----------------------------|------------|----------|\n",
    "| 1 | Median |   10.01  | Меньше 1 сек    | \n",
    "| 2 | Mean |   10.57  | Меньше 1 сек    |\n",
    "| 3 | LinearRegression |   8.07  | Около 1 сек    |\n",
    "| 4 | RandomForestRegressor |   6.75  | Около 1 мин    |\n",
    "\n",
    "\n",
    "Посмотрим на модели градиентного бустинга из библиотек LightGBM и CatBoost."
   ]
  },
  {
   "cell_type": "markdown",
   "metadata": {},
   "source": [
    "### LightGBM"
   ]
  },
  {
   "cell_type": "markdown",
   "metadata": {},
   "source": [
    "Попробуем решить эту задачу регрессии через библиотеку LightGBM. \n",
    "\n",
    "Попробуем изменить n_estimators и learning_rate. По умолчанию они - 100 и 0.1. Проверим другие параметры в разные стороны от данных по умолчанию."
   ]
  },
  {
   "cell_type": "code",
   "execution_count": 99,
   "metadata": {},
   "outputs": [],
   "source": [
    "model_lgbm = LGBMRegressor(random_state=12345)\n",
    "\n",
    "parameters_lgbm = { 'n_estimators': [50, 100, 150, 200],\n",
    "                   'learning_rate': [0.01, 0.03, 0.1, 1]\n",
    "                  }"
   ]
  },
  {
   "cell_type": "code",
   "execution_count": 100,
   "metadata": {},
   "outputs": [
    {
     "name": "stdout",
     "output_type": "stream",
     "text": [
      "CPU times: user 1min 20s, sys: 1.01 s, total: 1min 21s\n",
      "Wall time: 1min 23s\n"
     ]
    },
    {
     "data": {
      "text/plain": [
       "GridSearchCV(cv=StratifiedKFold(n_splits=3, random_state=12345, shuffle=True),\n",
       "             error_score='raise-deprecating',\n",
       "             estimator=LGBMRegressor(boosting_type='gbdt', class_weight=None,\n",
       "                                     colsample_bytree=1.0,\n",
       "                                     importance_type='split', learning_rate=0.1,\n",
       "                                     max_depth=-1, min_child_samples=20,\n",
       "                                     min_child_weight=0.001, min_split_gain=0.0,\n",
       "                                     n_estimators=100, n_jobs=-1, num_leaves=31,\n",
       "                                     objective=None, random_state=12345,\n",
       "                                     reg_alpha=0.0, reg_lambda=0.0, silent=True,\n",
       "                                     subsample=1.0, subsample_for_bin=200000,\n",
       "                                     subsample_freq=0),\n",
       "             iid='warn', n_jobs=-1,\n",
       "             param_grid={'learning_rate': [0.01, 0.03, 0.1, 1],\n",
       "                         'n_estimators': [50, 100, 150, 200]},\n",
       "             pre_dispatch='2*n_jobs', refit=True, return_train_score=False,\n",
       "             scoring='neg_mean_absolute_error', verbose=0)"
      ]
     },
     "execution_count": 100,
     "metadata": {},
     "output_type": "execute_result"
    }
   ],
   "source": [
    "%%time\n",
    "grid_search = GridSearchCV(\n",
    "    estimator = model_lgbm, param_grid = parameters_lgbm, \n",
    "    cv = cv, scoring = 'neg_mean_absolute_error', n_jobs = -1\n",
    ")\n",
    "\n",
    "grid_search.fit(features_train, target_train)"
   ]
  },
  {
   "cell_type": "code",
   "execution_count": 101,
   "metadata": {},
   "outputs": [
    {
     "data": {
      "text/plain": [
       "(-6.799216728991804, {'learning_rate': 0.03, 'n_estimators': 200})"
      ]
     },
     "execution_count": 101,
     "metadata": {},
     "output_type": "execute_result"
    }
   ],
   "source": [
    "grid_search.best_score_, grid_search.best_params_"
   ]
  },
  {
   "cell_type": "markdown",
   "metadata": {},
   "source": [
    "Итак, модель LightGBM показала себя немного хуже Случайного леса. \n",
    "\n",
    "Параметры при этом: {'learning_rate': 0.03, 'n_estimators': 200}. Запомним показатели.\n",
    "\n",
    "| N |       Model                | MAE  | Время обучения | \n",
    "|---|----------------------------|------------|----------|\n",
    "| 1 | Median |   10.01  | Меньше 1 сек    | \n",
    "| 2 | Mean |   10.57  | Меньше 1 сек    |\n",
    "| 3 | LinearRegression |   8.07  | Около 1 сек    |\n",
    "| 4 | RandomForestRegressor |   6.75  | Около 1 мин    |\n",
    "| 5 | LightGBM |   6.79  | Около 3 мин    |\n",
    "\n",
    "Остался CatBoost."
   ]
  },
  {
   "cell_type": "markdown",
   "metadata": {},
   "source": [
    "### CatBoost"
   ]
  },
  {
   "cell_type": "markdown",
   "metadata": {},
   "source": [
    "Приступим к регрессии из CatBoost. К сожалению, перебор боьшого гиперпараметров в ней приводит часто к умиранию ядра. Поэтому остановимся на переборе только небольшого числа параметров. \n",
    "\n",
    "\n",
    "По умолчанию n_estimators и learning_rate: 1000 и 0.003. Сравним эти данные по умолчанию и немного другие."
   ]
  },
  {
   "cell_type": "code",
   "execution_count": 102,
   "metadata": {},
   "outputs": [],
   "source": [
    "model_cat_boost = CatBoostRegressor(random_seed=12345,\n",
    "                                    loss_function='MAE')\n",
    "\n",
    "parameters_cat_boost = { 'n_estimators': [1000, 3000],\n",
    "                        'learning_rate': [0.005, 0.01, 0.03]\n",
    "                       }"
   ]
  },
  {
   "cell_type": "code",
   "execution_count": 103,
   "metadata": {},
   "outputs": [
    {
     "name": "stdout",
     "output_type": "stream",
     "text": [
      "0:\tlearn: 10.5123121\ttotal: 49ms\tremaining: 49s\n",
      "999:\tlearn: 5.1019725\ttotal: 12.2s\tremaining: 0us\n",
      "0:\tlearn: 10.2297333\ttotal: 1.89ms\tremaining: 1.89s\n",
      "999:\tlearn: 5.2744934\ttotal: 12.3s\tremaining: 0us\n",
      "0:\tlearn: 10.8657420\ttotal: 2.12ms\tremaining: 2.12s\n",
      "999:\tlearn: 5.0872728\ttotal: 12.9s\tremaining: 0us\n",
      "0:\tlearn: 10.5123121\ttotal: 1.78ms\tremaining: 5.33s\n",
      "1000:\tlearn: 5.1006490\ttotal: 12.4s\tremaining: 24.8s\n",
      "2000:\tlearn: 4.1317122\ttotal: 25s\tremaining: 12.5s\n",
      "2999:\tlearn: 3.5932862\ttotal: 37.8s\tremaining: 0us\n",
      "0:\tlearn: 10.2297333\ttotal: 1.79ms\tremaining: 5.38s\n",
      "1000:\tlearn: 5.2725625\ttotal: 12.4s\tremaining: 24.8s\n",
      "2000:\tlearn: 4.3039288\ttotal: 24.7s\tremaining: 12.3s\n",
      "2999:\tlearn: 3.7480380\ttotal: 37.5s\tremaining: 0us\n",
      "0:\tlearn: 10.8657420\ttotal: 2.57ms\tremaining: 7.71s\n",
      "1000:\tlearn: 5.0857782\ttotal: 13.1s\tremaining: 26.2s\n",
      "2000:\tlearn: 4.1874760\ttotal: 26s\tremaining: 13s\n",
      "2999:\tlearn: 3.6635292\ttotal: 39.2s\tremaining: 0us\n",
      "0:\tlearn: 10.4892313\ttotal: 1.66ms\tremaining: 1.66s\n",
      "999:\tlearn: 4.1745307\ttotal: 13.7s\tremaining: 0us\n",
      "0:\tlearn: 10.2065148\ttotal: 2.98ms\tremaining: 2.98s\n",
      "999:\tlearn: 4.3086677\ttotal: 13.3s\tremaining: 0us\n",
      "0:\tlearn: 10.8417440\ttotal: 1.93ms\tremaining: 1.93s\n",
      "999:\tlearn: 4.1910753\ttotal: 13.1s\tremaining: 0us\n",
      "0:\tlearn: 10.4892313\ttotal: 1.93ms\tremaining: 5.78s\n",
      "1000:\tlearn: 4.1737921\ttotal: 13s\tremaining: 26.1s\n",
      "2000:\tlearn: 3.2554372\ttotal: 25.8s\tremaining: 12.9s\n",
      "2999:\tlearn: 2.8262993\ttotal: 38.6s\tremaining: 0us\n",
      "0:\tlearn: 10.2065148\ttotal: 1.71ms\tremaining: 5.13s\n",
      "1000:\tlearn: 4.3065364\ttotal: 12.5s\tremaining: 24.9s\n",
      "2000:\tlearn: 3.3689898\ttotal: 25.1s\tremaining: 12.5s\n",
      "2999:\tlearn: 2.8954499\ttotal: 37.6s\tremaining: 0us\n",
      "0:\tlearn: 10.8417440\ttotal: 1.73ms\tremaining: 5.18s\n",
      "1000:\tlearn: 4.1901217\ttotal: 13.2s\tremaining: 26.4s\n",
      "2000:\tlearn: 3.3065194\ttotal: 26.4s\tremaining: 13.2s\n",
      "2999:\tlearn: 2.8811576\ttotal: 39.5s\tremaining: 0us\n",
      "0:\tlearn: 10.3979651\ttotal: 4.13ms\tremaining: 4.13s\n",
      "999:\tlearn: 2.7888417\ttotal: 12.6s\tremaining: 0us\n",
      "0:\tlearn: 10.1136407\ttotal: 1.7ms\tremaining: 1.7s\n",
      "999:\tlearn: 2.9076852\ttotal: 12.4s\tremaining: 0us\n",
      "0:\tlearn: 10.7457516\ttotal: 1.78ms\tremaining: 1.77s\n",
      "999:\tlearn: 2.8956184\ttotal: 13.2s\tremaining: 0us\n",
      "0:\tlearn: 10.3979651\ttotal: 1.61ms\tremaining: 4.83s\n",
      "1000:\tlearn: 2.7877078\ttotal: 12.6s\tremaining: 25.1s\n",
      "2000:\tlearn: 2.1432088\ttotal: 25.1s\tremaining: 12.6s\n",
      "2999:\tlearn: 1.8430843\ttotal: 37.9s\tremaining: 0us\n",
      "0:\tlearn: 10.1136407\ttotal: 1.52ms\tremaining: 4.57s\n",
      "1000:\tlearn: 2.9069510\ttotal: 12.4s\tremaining: 24.8s\n",
      "2000:\tlearn: 2.2490510\ttotal: 25.2s\tremaining: 12.6s\n",
      "2999:\tlearn: 1.9270175\ttotal: 37.7s\tremaining: 0us\n",
      "0:\tlearn: 10.7457516\ttotal: 1.92ms\tremaining: 5.75s\n",
      "1000:\tlearn: 2.8952014\ttotal: 12.4s\tremaining: 24.9s\n",
      "2000:\tlearn: 2.2922505\ttotal: 24.8s\tremaining: 12.4s\n",
      "2999:\tlearn: 1.9967285\ttotal: 37.6s\tremaining: 0us\n",
      "0:\tlearn: 10.5385457\ttotal: 2.64ms\tremaining: 7.92s\n",
      "1000:\tlearn: 5.3823361\ttotal: 13.7s\tremaining: 27.5s\n",
      "2000:\tlearn: 4.5849848\ttotal: 27.5s\tremaining: 13.7s\n",
      "2999:\tlearn: 4.1087534\ttotal: 41.1s\tremaining: 0us\n",
      "CPU times: user 7min 34s, sys: 56.7 s, total: 8min 31s\n",
      "Wall time: 9min 2s\n"
     ]
    },
    {
     "data": {
      "text/plain": [
       "GridSearchCV(cv=StratifiedKFold(n_splits=3, random_state=12345, shuffle=True),\n",
       "             error_score='raise-deprecating',\n",
       "             estimator=<catboost.core.CatBoostRegressor object at 0x7faecb37a3d0>,\n",
       "             iid='warn', n_jobs=-1,\n",
       "             param_grid={'learning_rate': [0.005, 0.01, 0.03],\n",
       "                         'n_estimators': [1000, 3000]},\n",
       "             pre_dispatch='2*n_jobs', refit=True, return_train_score=False,\n",
       "             scoring='neg_mean_absolute_error', verbose=0)"
      ]
     },
     "execution_count": 103,
     "metadata": {},
     "output_type": "execute_result"
    }
   ],
   "source": [
    "%%time\n",
    "grid_search = GridSearchCV(\n",
    "    estimator = model_cat_boost, param_grid = parameters_cat_boost, \n",
    "    cv = cv, scoring = 'neg_mean_absolute_error', n_jobs = -1\n",
    ")\n",
    "\n",
    "grid_search.fit(features_train, target_train, verbose=1000)"
   ]
  },
  {
   "cell_type": "code",
   "execution_count": 104,
   "metadata": {},
   "outputs": [
    {
     "data": {
      "text/plain": [
       "(-6.315705556561358, {'learning_rate': 0.005, 'n_estimators': 3000})"
      ]
     },
     "execution_count": 104,
     "metadata": {},
     "output_type": "execute_result"
    }
   ],
   "source": [
    "grid_search.best_score_, grid_search.best_params_"
   ]
  },
  {
   "cell_type": "markdown",
   "metadata": {},
   "source": [
    "Модель CatBoostRegressor показала себя лучше, чем LGBMRegressor, параметры: 'learning_rate': 0.005, 'n_estimators': 3000. \n",
    "\n",
    "| N |       Model                | MAE  | Время обучения | \n",
    "|---|----------------------------|------------|----------|\n",
    "| 1 | Median |   10.01  | Меньше 1 сек    | \n",
    "| 2 | Mean |   10.57  | Меньше 1 сек    |\n",
    "| 3 | LinearRegression |   8.07  | Около 1 сек    |\n",
    "| 4 | RandomForestRegressor |   6.75  | Около 1 мин    |\n",
    "| 5 | LightGBM |   6.79  | Около 3 мин    |\n",
    "| 6 | CatBoost |   6.31  | Около 10 мин    |\n",
    "\n",
    "Остановимся на ней как на основной."
   ]
  },
  {
   "cell_type": "markdown",
   "metadata": {},
   "source": [
    "## Тестирование и подведение итогов"
   ]
  },
  {
   "cell_type": "markdown",
   "metadata": {},
   "source": [
    "### Тестирование"
   ]
  },
  {
   "cell_type": "markdown",
   "metadata": {},
   "source": [
    "Протестируем модель , на которой и остановились. Сначала обучим ее на всей тренировочной выборке."
   ]
  },
  {
   "cell_type": "code",
   "execution_count": 119,
   "metadata": {},
   "outputs": [],
   "source": [
    "best_model = CatBoostRegressor(random_seed=12345,\n",
    "                               loss_function='MAE',\n",
    "                               learning_rate = 0.005,\n",
    "                               n_estimators = 3000)"
   ]
  },
  {
   "cell_type": "code",
   "execution_count": 120,
   "metadata": {},
   "outputs": [
    {
     "name": "stdout",
     "output_type": "stream",
     "text": [
      "0:\tlearn: 10.5385457\ttotal: 4.94ms\tremaining: 14.8s\n",
      "1000:\tlearn: 5.3823361\ttotal: 14.2s\tremaining: 28.4s\n",
      "2000:\tlearn: 4.5849848\ttotal: 28.6s\tremaining: 14.3s\n",
      "2999:\tlearn: 4.1087534\ttotal: 42.6s\tremaining: 0us\n",
      "CPU times: user 38.5 s, sys: 4.95 s, total: 43.4 s\n",
      "Wall time: 44.8 s\n"
     ]
    }
   ],
   "source": [
    "%%time\n",
    "best_model.fit(features_train, target_train, verbose=1000)\n",
    "\n",
    "pred_best_model = best_model.predict(features_test)"
   ]
  },
  {
   "cell_type": "code",
   "execution_count": 121,
   "metadata": {},
   "outputs": [
    {
     "data": {
      "text/plain": [
       "6.364558998224909"
      ]
     },
     "execution_count": 121,
     "metadata": {},
     "output_type": "execute_result"
    }
   ],
   "source": [
    "mean_absolute_error(target_test, pred_best_model)"
   ]
  },
  {
   "cell_type": "markdown",
   "metadata": {},
   "source": [
    "MAE на тестовой выборке -  <b>6.36</b>.\n",
    "\n",
    "\n",
    "Это хороший результат, который очень близок к метрикам на тренировочной выборке, значит модель не переобучена. И прогнозирует температуру стабильно."
   ]
  },
  {
   "cell_type": "markdown",
   "metadata": {},
   "source": [
    "### Важность признаков"
   ]
  },
  {
   "cell_type": "markdown",
   "metadata": {},
   "source": [
    "Теперь посмотрим на важность признаков выбранной модели."
   ]
  },
  {
   "cell_type": "code",
   "execution_count": 108,
   "metadata": {},
   "outputs": [],
   "source": [
    "importances = best_model.feature_importances_\n",
    "columns = list(features_train.columns)"
   ]
  },
  {
   "cell_type": "code",
   "execution_count": 109,
   "metadata": {},
   "outputs": [],
   "source": [
    "d = {'importances':importances,'columns':columns}\n",
    "\n",
    "model_importances = pd.DataFrame(d)"
   ]
  },
  {
   "cell_type": "code",
   "execution_count": 110,
   "metadata": {},
   "outputs": [
    {
     "data": {
      "image/png": "[encoded data removed]",
      "text/plain": [
       "<Figure size 1080x504 with 1 Axes>"
      ]
     },
     "metadata": {
      "needs_background": "light"
     },
     "output_type": "display_data"
    }
   ],
   "source": [
    "fig = plt.figure(figsize=(15, 7))\n",
    "ax = fig.add_subplot(111)\n",
    "plt.title(\"Важность признаков в итоговой модели\", fontweight='bold', size='large')\n",
    "\n",
    "plt.ylabel(\"Важность\")\n",
    "plt.xlabel(\"Признаки\")\n",
    "plt.xticks(range(len(range(len(model_importances.sort_values(by = 'importances')['columns'])))),\n",
    "                     model_importances.sort_values(by = 'importances')['columns'], rotation=90, size='small')\n",
    "\n",
    "plt.bar(range(len(model_importances.sort_values(by = 'importances')['columns'])),\n",
    "        model_importances.sort_values(by = 'importances')['importances'],\n",
    "        width = 0.5)\n",
    "\n",
    "for i, v in enumerate(model_importances.sort_values(by = 'importances')['importances']):\n",
    "    ax.text(i, v+0.5, \"%d\" %v, ha=\"center\")\n",
    "plt.show()"
   ]
  },
  {
   "cell_type": "markdown",
   "metadata": {},
   "source": [
    "Видим, что факторы, которые внесли наибольший вклад:\n",
    "- Температура до начала процесса;\n",
    "- Активная мощность;\n",
    "- Общий объем добавленных проволочных веществ;\n",
    "- Общее время нагрева;\n",
    "- Объем добавленного проволочного вещества 1.\n",
    "\n",
    "Дальше идет заметное падение важности признаков.\n",
    "\n",
    "Из интересных наблюдений это конечно - <b>Общий объем добавленных проволочных веществ</b>. Если вывод про изначальную температуру, мощность и время нагрева выглядит логично и без построения такой сложной модели, то найти закономерность между общим объемом добавленных проволочных веществ и конечной температуры, кажется не таким очевидным.\n",
    "\n",
    "Также из наблюдений:\n",
    "- Число итераций не так важно, как общее время нагрева. То есть большее влияет сколько мы суммарно греем, чем в сколько заходов.\n",
    "- Проволочные материалы вносят больший вклад, чем сыпучие.\n",
    "- Продувка газом имеет не такое большое влияние, как проволочные материалы. Но большее, чем сыпучие."
   ]
  },
  {
   "cell_type": "markdown",
   "metadata": {},
   "source": [
    "## Вывод"
   ]
  },
  {
   "cell_type": "markdown",
   "metadata": {},
   "source": [
    "<b>Краткие выводы проекта:</b>\n",
    "\n",
    "Выводы анализа данных уже были описаны в пунтке 3 \"Выводы анализа данных и дальнейший план\". \n",
    "\n",
    "Здесь мы не будем дублировать подробно результаты этого шага. Но немного пройдемся по тому, к чему привели шаги, которые запланировали там <b>для обработки и подготовке данных.</b>\n",
    "- Больше 1 тыс партий пришлось удалить из чуть больше 3 тыс иходных. Половину из-за отсутствия целевого признака - температуры последнего замера (вероятно данные не успели прогрузить, или была ошибка в прогрузке именно этих партий). Еще примерно половину удалили из-за ошибок: ошибок в хронологии процесса и вылетов по показателям.\n",
    "- Итого, для обучения модели осталось около 2 тыс партий.\n",
    "\n",
    "- После агрегации всех данных до партий была проведена проверка на коллинеарность и 3 признака были удалены (Работа, Суммарное количество сухих веществ, и объем проволочного вещества 8). \n",
    "- Итого конечное чило признаков, участвующих в обучении было 29. Включая те, что мы добавили сами: суммарное количество проволочных веществ, число итераций, полная мощность, суммарное время нагрева в секундах.\n",
    "\n",
    "<b>Моделировалие</b>\n",
    "\n",
    "\n",
    "- Для прогнозирования использовались: Линейная регрессия, Случайный лес (регрессия), модели градиентного бустинга из библиотек LightGBM и CatBoost. \n",
    "\n",
    "- Также были попробованы элементарные модели, чтобы оценивать качество остальных моделей.\n",
    "\n",
    "Результаты обучения моделей на тренировчной выборке с кроссвалидацией:\n",
    "\n",
    "\n",
    "| N |       Model                | MAE  | Время обучения | \n",
    "|---|----------------------------|------------|----------|\n",
    "| 1 | Median |   10.01  | Меньше 1 сек    | \n",
    "| 2 | Mean |   10.57  | Меньше 1 сек    |\n",
    "| 3 | LinearRegression |   8.07  | Около 1 сек    |\n",
    "| 4 | RandomForestRegressor |   6.75  | Около 1 мин    |\n",
    "| 5 | LightGBM |   6.79  | Около 3 мин    |\n",
    "| 6 | <b>CatBoost</b> |  <b> 6.31</b>| Около 10 мин    |\n",
    "\n",
    "Модель CatBoostRegressor показала себя лучше всего, параметры:\n",
    "- learning_rate: 0.005, \n",
    "- n_estimators: 3000,\n",
    "\n",
    "- MAE на тренировочной выборке -  <b>6.31</b>,\n",
    "- MAE на тестовой выборке -  <b>6.36</b>.\n",
    "\n",
    "Это хороший результат тестирования, который очень близок к метрикам на тренировочной выборке, значит модель не переобучена. И прогнозирует температуру стабильно.\n",
    "\n",
    "<b>Важность признаков</b>\n",
    "\n",
    "Факторы, которые внесли наибольший вклад:\n",
    "\n",
    "1. Температура до начала процесса;\n",
    "2. Активная мощность;\n",
    "3. Общий объем добавленных проволочных веществ;\n",
    "4. Общее время нагрева;\n",
    "5. Объем добавленного проволочного вещества 1.\n",
    "\n",
    "\n",
    "Другие наблюдения:\n",
    "- Из важных и неочевидных наблюдений: из всех веществ именно \"Общий объем добавленных проволочных веществ\" имеет самое большое влияние на величину конечной температуры.\n",
    "- Число итераций не так важно, как общее время нагрева. То есть большее влияет сколько мы суммарно греем, чем в сколько заходов.\n",
    "- Проволочные материалы вносят больший вклад, чем сыпучие.\n",
    "- Продувка газом имеет не такое большое влияние, как проволочные материалы. Но большее, чем сыпучие.\n",
    "\n",
    "<b>Разговор с бизнесом</b>\n",
    "\n",
    "При презентации проекта бизнесу необходимо обсудить:\n",
    "\n",
    "- <b>Качество данных</b>:\n",
    "Выше мы уже описали найденные проблемы, основная отсутствие целевого признака по почти 500 партиям. Но также к ним добавились и ошибки в данных хронологии процесса, которых оказалось значительно много - около 400. Необходимо обсудить причины и понять как их устранить. Это важно для дальнейшего использования модели.\n",
    "\n",
    "\n",
    "- <b>Модель</b>: \n",
    "Необходимо презентовать модель и указать, что она предсказывает с отпределенной ошибкой. Но она лучше элементраных моделей, а также ее предсказания стаблильны, так метрики на тренировочном сете данных и тестовом очень похожи.\n",
    "\n",
    "\n",
    "- <b>Важность признаков</b>: \n",
    "Необходимо обратить внимание на закономерности, которые мы нашли выше. И особенно указать на то, что общий объем добавленных проволочных веществ вносит очень серьезный вклад в значение температуры.\n",
    "\n",
    "\n",
    "Возможно потребуется произвести дополнительный анализ по итогам разговора и нам смогут предоставить больше данных, к примеру, по составу данных веществ и мы сможем помочь уменьшить потребляемую энергию в будущем."
   ]
  },
  {
   "cell_type": "markdown",
   "metadata": {},
   "source": [
    "## Отчет по проекту"
   ]
  },
  {
   "cell_type": "markdown",
   "metadata": {},
   "source": [
    "Ниже можно найти итоговый отчет по выполнению проекта выше. Изначальный план по выполнению проекта был описан в пункте 3 \"Выводы анализа данных и дальнейший план\". \n",
    "\n",
    "\n",
    "<b>Какие пункты плана были выполнены, а какие — нет (поясните почему)?</b>\n",
    "- Все шаги по разделу <b>\"Подготовка данных\"</b> удалось выполнить: данные были агрегированы до партий, признаки собраны в 1 таблицу, была проверена хронология процесса и выполнена проверка на коллинеарность.\n",
    "- Шаги по разделу <b>\"Данные, пропуски и ошибки\"</b> также были осуществлены: Партии с ошибками и нереалистичными значениями были удалены, пропуски заполнены. Единственное, что их количество оказалось немного больше, изначально ожидаемого.\n",
    "- Из сгененированных новых признаков, кроме запланированного числа итераций, также добавились: суммарное время нагрева, средние активные и реактивные мощности. Но не все из них прошли проверку на коллинеарность. Тем не менее, новые сгенерированные признаки: суммарное время нагрева и активная мощность оказались значительными для модели.\n",
    "- Вопросы по <b>\"Согласованию с бизнесом\"</b> были обсуждены на консультации. Поэтому анализ и подготовка данных были выполнены с учетом информации, полученной на консультации.\n",
    "\n",
    "\n",
    "- Большинство шагов по разделу <b>\"Модель\"</b> также были выполнены: данные разделены на выборки, масштабированы, обучены на элементарных и запланированных моделях с применением кроссвалидации, были рассмотрены разные гиперпараметры для модели.\n",
    "- Выбор лучшей модели происходил по наибольшему MAE, лучшая модель была обучена на всем тренировочном сете и протестирована.\n",
    "- Был произведен анализ важности признаков, написан вывод по проекту и работе модели.\n",
    "\n",
    "\n",
    "\n",
    "- Из нереализованных шагов: при выборе модели оптимальное время работы модели не было учтено при выборе итоговой модели. Даже скорее наоборот лучшие результаты показала самая медленная модель. Но отрыв метрики по ней был существенный относительно более быстрых моделей.\n",
    "\n",
    "\n",
    "\n",
    "<b>Какие трудности возникли и как вы их преодолели?</b>\n",
    "- Было не очевидно, как правильно агрегировать до партий физические показатели. Помогли решить эти проблемы: консультация и поиск формул в интернете.\n",
    "- Было трудно добиваться улучшения качества моделей. Изначально лучшая модель (также CatBoost) показывала значания около 6,4 MAE при обучении. Удалось понизить метрику за счет добавления новых сгенерерированных признаков, а также за счет изучения изначальных гиперпараметров моделей. \n",
    "- Оказалось, что стандартный набор параметров, который я использовала до этого был хуже значительно гиперпараметров по умолчанию (пр. число деревьев перебиралось до 100, а по умолчанию значение было 1000). Сократив количество перебираемых гиперпараметров, но приблизив их к оптимальным, качество значительно улучшилось как для LightGBM, так и для CatBoost. А также ушла проблема с умиранием ядра на некоторых моделях, когда перебиралось большое число гиперпараметров.\n",
    "\n",
    "<b>Какие ключевые шаги в решении задачи выделили?</b>\n",
    "- Выяснение деталей задачи и потребностей бизнеса на разговоре с бизнесом/консультации. Это сэкономило много времени. Предполагаю, что самостоятельное изучение заняло в разы больше времени и не исключило ошибки. Как вывод: всегда необходимо уточнять подробности изначальной задачи у заказчика.\n",
    "- Гененирование признаков для обучения моделей. Качество модели значительно улучшалось после добавления некоторых признаков.\n",
    "- Аккуратный исследовательский анализ - изучение признаков, выбросов и хронологии. Что позволило получить правильные данные для обучения моделей.\n",
    "- Изучение библиотек, с помощью которых происходило обучение. Позволило улучшить качество моделей и оптимизировать процесс обучения.\n",
    "- Анализ важности признаков итоговой модели. были получены интересные наблюдения, которые могут помочь бизнесу понять дальнейшие возможные пути работы над задачей.\n",
    "\n",
    "<b>Какая ваша итоговая модель и какое у неё качество?</b>\n",
    "\n",
    "\n",
    "Модель CatBoostRegressor показала себя лучше всего, гиперпараметры:\n",
    "- learning_rate: 0.005, \n",
    "- n_estimators: 3000,\n",
    "\n",
    "- MAE на тренировочной выборке -  <b>6.31</b>,\n",
    "- MAE на тестовой выборке -  <b>6.36</b>.\n",
    "\n",
    "Это хороший результат тестирования, который очень близок к метрикам на тренировочной выборке, значит модель не переобучена. И прогнозирует температуру стабильно.\n",
    "\n"
   ]
  },
  {
   "cell_type": "markdown",
   "metadata": {},
   "source": [
    "## Чек-лист"
   ]
  },
  {
   "cell_type": "markdown",
   "metadata": {},
   "source": [
    "- [x]  Jupyter Notebook открыт\n",
    "- [x]  Весь код выполняется без ошибок\n",
    "- [x]  Ячейки с кодом расположены в порядке исполнения\n",
    "- [x]  Данные загружены и подготовлены\n",
    "- [x]  Данные проанализированы\n",
    "- [x]  Модель обучена, гиперпараметры подобраны\n",
    "- [x]  Качество моделей проверено, выводы сделаны\n",
    "- [x]  Значение *MAE* на тренировочной и тестовой выборке около 6,3"
   ]
  }
 ],
 "metadata": {
  "ExecuteTimeLog": [
   {
    "duration": 790,
    "start_time": "2021-11-16T16:55:26.235Z"
   },
   {
    "duration": 2892,
    "start_time": "2021-11-16T16:55:28.826Z"
   },
   {
    "duration": 218,
    "start_time": "2021-11-16T16:55:45.192Z"
   },
   {
    "duration": 12,
    "start_time": "2021-11-16T16:56:28.542Z"
   },
   {
    "duration": 21,
    "start_time": "2021-11-16T16:56:43.158Z"
   },
   {
    "duration": 4,
    "start_time": "2021-11-16T16:57:50.105Z"
   },
   {
    "duration": 79,
    "start_time": "2021-11-16T16:58:30.871Z"
   },
   {
    "duration": 41,
    "start_time": "2021-11-16T17:00:36.944Z"
   },
   {
    "duration": 37,
    "start_time": "2021-11-16T17:00:49.970Z"
   },
   {
    "duration": 38,
    "start_time": "2021-11-16T17:01:18.088Z"
   },
   {
    "duration": 37,
    "start_time": "2021-11-16T17:01:35.311Z"
   },
   {
    "duration": 70,
    "start_time": "2021-11-16T17:01:54.316Z"
   },
   {
    "duration": 125,
    "start_time": "2021-11-16T17:02:39.176Z"
   },
   {
    "duration": 123,
    "start_time": "2021-11-16T17:02:50.607Z"
   },
   {
    "duration": 129,
    "start_time": "2021-11-16T17:03:00.436Z"
   },
   {
    "duration": 71,
    "start_time": "2021-11-16T17:03:20.274Z"
   },
   {
    "duration": 755,
    "start_time": "2021-11-18T16:56:18.101Z"
   },
   {
    "duration": 283,
    "start_time": "2021-11-18T16:56:19.929Z"
   },
   {
    "duration": 4,
    "start_time": "2021-11-18T16:56:22.994Z"
   },
   {
    "duration": 43,
    "start_time": "2021-11-18T16:57:12.075Z"
   },
   {
    "duration": 86,
    "start_time": "2021-11-18T16:58:01.523Z"
   },
   {
    "duration": 434,
    "start_time": "2021-11-18T16:58:23.838Z"
   },
   {
    "duration": 401,
    "start_time": "2021-11-18T16:58:29.496Z"
   },
   {
    "duration": 335,
    "start_time": "2021-11-18T17:01:18.403Z"
   },
   {
    "duration": 36,
    "start_time": "2021-11-18T17:01:29.933Z"
   },
   {
    "duration": 306,
    "start_time": "2021-11-18T17:02:16.543Z"
   },
   {
    "duration": 19,
    "start_time": "2021-11-18T17:02:34.593Z"
   },
   {
    "duration": 109,
    "start_time": "2021-11-18T17:02:38.992Z"
   },
   {
    "duration": 6,
    "start_time": "2021-11-18T17:02:49.647Z"
   },
   {
    "duration": 306,
    "start_time": "2021-11-18T17:04:29.421Z"
   },
   {
    "duration": 185,
    "start_time": "2021-11-18T17:12:49.290Z"
   },
   {
    "duration": 5,
    "start_time": "2021-11-18T17:12:51.597Z"
   },
   {
    "duration": 5,
    "start_time": "2021-11-18T17:12:55.127Z"
   },
   {
    "duration": 6,
    "start_time": "2021-11-18T17:13:18.105Z"
   },
   {
    "duration": 187,
    "start_time": "2021-11-18T17:14:21.347Z"
   },
   {
    "duration": 7,
    "start_time": "2021-11-18T17:14:26.444Z"
   },
   {
    "duration": 172,
    "start_time": "2021-11-18T17:14:45.087Z"
   },
   {
    "duration": 6,
    "start_time": "2021-11-18T17:14:46.930Z"
   },
   {
    "duration": 757,
    "start_time": "2021-11-18T17:15:01.701Z"
   },
   {
    "duration": 189,
    "start_time": "2021-11-18T17:15:02.461Z"
   },
   {
    "duration": 3,
    "start_time": "2021-11-18T17:15:02.653Z"
   },
   {
    "duration": 12,
    "start_time": "2021-11-18T17:15:02.658Z"
   },
   {
    "duration": 731,
    "start_time": "2021-11-18T17:15:27.399Z"
   },
   {
    "duration": 186,
    "start_time": "2021-11-18T17:15:28.132Z"
   },
   {
    "duration": 4,
    "start_time": "2021-11-18T17:15:28.322Z"
   },
   {
    "duration": 9,
    "start_time": "2021-11-18T17:15:28.329Z"
   },
   {
    "duration": 7,
    "start_time": "2021-11-18T17:27:26.271Z"
   },
   {
    "duration": 7,
    "start_time": "2021-11-18T17:27:46.770Z"
   },
   {
    "duration": 12,
    "start_time": "2021-11-18T17:28:26.916Z"
   },
   {
    "duration": 23,
    "start_time": "2021-11-18T17:28:39.812Z"
   },
   {
    "duration": 11,
    "start_time": "2021-11-18T17:29:46.940Z"
   },
   {
    "duration": 9,
    "start_time": "2021-11-18T17:30:23.979Z"
   },
   {
    "duration": 20,
    "start_time": "2021-11-18T17:30:26.335Z"
   },
   {
    "duration": 364,
    "start_time": "2021-11-21T11:03:55.291Z"
   },
   {
    "duration": 903,
    "start_time": "2021-11-21T11:04:02.940Z"
   },
   {
    "duration": 196,
    "start_time": "2021-11-21T11:04:03.846Z"
   },
   {
    "duration": 3,
    "start_time": "2021-11-21T11:04:04.045Z"
   },
   {
    "duration": 10,
    "start_time": "2021-11-21T11:04:04.051Z"
   },
   {
    "duration": 13,
    "start_time": "2021-11-21T11:04:04.064Z"
   },
   {
    "duration": 22,
    "start_time": "2021-11-21T11:04:04.080Z"
   },
   {
    "duration": 30,
    "start_time": "2021-11-21T11:04:04.104Z"
   },
   {
    "duration": 20,
    "start_time": "2021-11-21T11:06:55.966Z"
   },
   {
    "duration": 10,
    "start_time": "2021-11-21T11:07:10.005Z"
   },
   {
    "duration": 22,
    "start_time": "2021-11-21T11:07:13.546Z"
   },
   {
    "duration": 16,
    "start_time": "2021-11-21T11:07:27.044Z"
   },
   {
    "duration": 22,
    "start_time": "2021-11-21T11:07:40.494Z"
   },
   {
    "duration": 390,
    "start_time": "2021-11-21T11:08:44.099Z"
   },
   {
    "duration": 22,
    "start_time": "2021-11-21T11:08:56.807Z"
   },
   {
    "duration": 444,
    "start_time": "2021-11-21T11:18:19.034Z"
   },
   {
    "duration": 696,
    "start_time": "2021-11-21T11:18:26.089Z"
   },
   {
    "duration": 618,
    "start_time": "2021-11-21T11:18:34.808Z"
   },
   {
    "duration": 445,
    "start_time": "2021-11-21T11:20:10.928Z"
   },
   {
    "duration": 465,
    "start_time": "2021-11-21T11:20:51.640Z"
   },
   {
    "duration": 469,
    "start_time": "2021-11-21T11:22:20.331Z"
   },
   {
    "duration": 497,
    "start_time": "2021-11-21T11:22:28.816Z"
   },
   {
    "duration": 639,
    "start_time": "2021-11-21T11:30:26.615Z"
   },
   {
    "duration": 300,
    "start_time": "2021-11-21T11:30:42.623Z"
   },
   {
    "duration": 4,
    "start_time": "2021-11-21T11:31:01.544Z"
   },
   {
    "duration": 319,
    "start_time": "2021-11-21T11:31:24.783Z"
   },
   {
    "duration": 14,
    "start_time": "2021-11-21T11:32:06.587Z"
   },
   {
    "duration": 19,
    "start_time": "2021-11-21T11:32:26.073Z"
   },
   {
    "duration": 15,
    "start_time": "2021-11-21T11:32:53.977Z"
   },
   {
    "duration": 113,
    "start_time": "2021-11-21T11:40:54.163Z"
   },
   {
    "duration": 448,
    "start_time": "2021-11-21T11:41:03.414Z"
   },
   {
    "duration": 9585,
    "start_time": "2021-11-21T11:52:35.874Z"
   },
   {
    "duration": 8612,
    "start_time": "2021-11-21T11:53:24.484Z"
   },
   {
    "duration": 560,
    "start_time": "2021-11-21T11:53:37.303Z"
   },
   {
    "duration": 329,
    "start_time": "2021-11-21T11:54:48.702Z"
   },
   {
    "duration": 400,
    "start_time": "2021-11-21T11:55:00.430Z"
   },
   {
    "duration": 7,
    "start_time": "2021-11-21T11:55:50.227Z"
   },
   {
    "duration": 333,
    "start_time": "2021-11-21T11:56:55.929Z"
   },
   {
    "duration": 6,
    "start_time": "2021-11-21T11:57:08.914Z"
   },
   {
    "duration": 360,
    "start_time": "2021-11-21T11:58:31.980Z"
   },
   {
    "duration": 328,
    "start_time": "2021-11-21T11:58:43.522Z"
   },
   {
    "duration": 7,
    "start_time": "2021-11-21T11:59:23.029Z"
   },
   {
    "duration": 309,
    "start_time": "2021-11-21T12:01:36.584Z"
   },
   {
    "duration": 423,
    "start_time": "2021-11-21T12:02:06.360Z"
   },
   {
    "duration": 322,
    "start_time": "2021-11-21T12:02:34.704Z"
   },
   {
    "duration": 364,
    "start_time": "2021-11-21T12:02:42.825Z"
   },
   {
    "duration": 1409,
    "start_time": "2021-11-21T12:03:19.448Z"
   },
   {
    "duration": 488,
    "start_time": "2021-11-21T12:05:46.739Z"
   },
   {
    "duration": 588,
    "start_time": "2021-11-21T12:06:11.778Z"
   },
   {
    "duration": 386,
    "start_time": "2021-11-21T12:07:21.500Z"
   },
   {
    "duration": 2165,
    "start_time": "2021-11-21T12:07:45.701Z"
   },
   {
    "duration": 1344,
    "start_time": "2021-11-21T12:08:39.133Z"
   },
   {
    "duration": 1192,
    "start_time": "2021-11-21T12:09:09.974Z"
   },
   {
    "duration": 437,
    "start_time": "2021-11-21T12:11:39.363Z"
   },
   {
    "duration": 344,
    "start_time": "2021-11-21T12:12:04.599Z"
   },
   {
    "duration": 332,
    "start_time": "2021-11-21T12:12:12.987Z"
   },
   {
    "duration": 412,
    "start_time": "2021-11-21T12:12:20.653Z"
   },
   {
    "duration": 6,
    "start_time": "2021-11-21T12:12:29.373Z"
   },
   {
    "duration": 7,
    "start_time": "2021-11-21T12:12:40.061Z"
   },
   {
    "duration": 6,
    "start_time": "2021-11-21T12:12:50.582Z"
   },
   {
    "duration": 6,
    "start_time": "2021-11-21T12:13:07.222Z"
   },
   {
    "duration": 764,
    "start_time": "2021-11-21T12:13:52.927Z"
   },
   {
    "duration": 7,
    "start_time": "2021-11-21T12:13:58.400Z"
   },
   {
    "duration": 1574,
    "start_time": "2021-11-21T12:14:16.353Z"
   },
   {
    "duration": 1998,
    "start_time": "2021-11-21T12:15:01.548Z"
   },
   {
    "duration": 5,
    "start_time": "2021-11-21T12:15:20.289Z"
   },
   {
    "duration": 6,
    "start_time": "2021-11-21T12:15:35.981Z"
   },
   {
    "duration": 330,
    "start_time": "2021-11-21T12:16:29.925Z"
   },
   {
    "duration": 6,
    "start_time": "2021-11-21T12:16:40.773Z"
   },
   {
    "duration": 327,
    "start_time": "2021-11-21T12:16:49.063Z"
   },
   {
    "duration": 310,
    "start_time": "2021-11-21T12:17:04.725Z"
   },
   {
    "duration": 334,
    "start_time": "2021-11-21T12:17:11.231Z"
   },
   {
    "duration": 292,
    "start_time": "2021-11-21T12:17:25.953Z"
   },
   {
    "duration": 5,
    "start_time": "2021-11-21T12:18:37.587Z"
   },
   {
    "duration": 6,
    "start_time": "2021-11-21T12:18:57.223Z"
   },
   {
    "duration": 3738,
    "start_time": "2021-11-21T12:19:45.907Z"
   },
   {
    "duration": 3772,
    "start_time": "2021-11-21T12:22:16.127Z"
   },
   {
    "duration": 86,
    "start_time": "2021-11-21T12:24:01.049Z"
   },
   {
    "duration": 77,
    "start_time": "2021-11-21T12:24:12.547Z"
   },
   {
    "duration": 604,
    "start_time": "2021-11-21T12:30:29.645Z"
   },
   {
    "duration": 327,
    "start_time": "2021-11-21T12:31:00.352Z"
   },
   {
    "duration": 356,
    "start_time": "2021-11-21T12:31:34.665Z"
   },
   {
    "duration": 339,
    "start_time": "2021-11-21T12:31:41.331Z"
   },
   {
    "duration": 349,
    "start_time": "2021-11-21T12:32:05.297Z"
   },
   {
    "duration": 460,
    "start_time": "2021-11-21T12:32:18.697Z"
   },
   {
    "duration": 316,
    "start_time": "2021-11-21T12:35:49.215Z"
   },
   {
    "duration": 670,
    "start_time": "2021-11-21T12:36:37.569Z"
   },
   {
    "duration": 378,
    "start_time": "2021-11-21T12:38:43.398Z"
   },
   {
    "duration": 31,
    "start_time": "2021-11-21T12:39:31.201Z"
   },
   {
    "duration": 23,
    "start_time": "2021-11-21T12:39:35.757Z"
   },
   {
    "duration": 31,
    "start_time": "2021-11-21T12:39:44.785Z"
   },
   {
    "duration": 603,
    "start_time": "2021-11-21T12:45:09.715Z"
   },
   {
    "duration": 366,
    "start_time": "2021-11-21T12:45:31.916Z"
   },
   {
    "duration": 480,
    "start_time": "2021-11-21T12:45:43.841Z"
   },
   {
    "duration": 441,
    "start_time": "2021-11-21T12:45:53.849Z"
   },
   {
    "duration": 447,
    "start_time": "2021-11-21T12:46:01.109Z"
   },
   {
    "duration": 340,
    "start_time": "2021-11-21T12:46:34.814Z"
   },
   {
    "duration": 356,
    "start_time": "2021-11-21T12:46:48.457Z"
   },
   {
    "duration": 436,
    "start_time": "2021-11-21T12:47:05.201Z"
   },
   {
    "duration": 9,
    "start_time": "2021-11-21T12:52:10.964Z"
   },
   {
    "duration": 9,
    "start_time": "2021-11-21T12:52:21.995Z"
   },
   {
    "duration": 432,
    "start_time": "2021-11-21T12:56:41.645Z"
   },
   {
    "duration": 11,
    "start_time": "2021-11-21T12:57:37.350Z"
   },
   {
    "duration": 11,
    "start_time": "2021-11-21T12:58:25.432Z"
   },
   {
    "duration": 11,
    "start_time": "2021-11-21T13:00:16.447Z"
   },
   {
    "duration": 10,
    "start_time": "2021-11-21T13:01:40.621Z"
   },
   {
    "duration": 14,
    "start_time": "2021-11-21T13:02:00.461Z"
   },
   {
    "duration": 12,
    "start_time": "2021-11-21T13:04:07.869Z"
   },
   {
    "duration": 12,
    "start_time": "2021-11-21T13:04:48.725Z"
   },
   {
    "duration": 309,
    "start_time": "2021-11-21T13:07:39.186Z"
   },
   {
    "duration": 358,
    "start_time": "2021-11-21T13:07:49.141Z"
   },
   {
    "duration": 9,
    "start_time": "2021-11-21T13:08:20.413Z"
   },
   {
    "duration": 8,
    "start_time": "2021-11-21T13:08:25.399Z"
   },
   {
    "duration": 440,
    "start_time": "2021-11-21T13:25:55.988Z"
   },
   {
    "duration": 1393,
    "start_time": "2021-11-21T13:26:09.993Z"
   },
   {
    "duration": 106,
    "start_time": "2021-11-21T13:27:16.085Z"
   },
   {
    "duration": 313,
    "start_time": "2021-11-21T13:27:23.435Z"
   },
   {
    "duration": 2544,
    "start_time": "2021-11-21T13:33:23.473Z"
   },
   {
    "duration": 2126,
    "start_time": "2021-11-21T13:37:11.957Z"
   },
   {
    "duration": 2365,
    "start_time": "2021-11-21T13:38:38.595Z"
   },
   {
    "duration": 2330,
    "start_time": "2021-11-21T13:39:02.591Z"
   },
   {
    "duration": 2456,
    "start_time": "2021-11-21T13:41:09.601Z"
   },
   {
    "duration": 2061,
    "start_time": "2021-11-21T13:41:25.393Z"
   },
   {
    "duration": 10,
    "start_time": "2021-11-21T13:41:48.890Z"
   },
   {
    "duration": 320,
    "start_time": "2021-11-21T13:47:59.842Z"
   },
   {
    "duration": 20,
    "start_time": "2021-11-21T13:48:46.027Z"
   },
   {
    "duration": 11,
    "start_time": "2021-11-21T13:53:37.368Z"
   },
   {
    "duration": 374,
    "start_time": "2021-11-21T13:53:52.146Z"
   },
   {
    "duration": 12,
    "start_time": "2021-11-21T13:54:22.765Z"
   },
   {
    "duration": 10,
    "start_time": "2021-11-21T13:55:30.419Z"
   },
   {
    "duration": 99,
    "start_time": "2021-11-21T13:56:15.394Z"
   },
   {
    "duration": 112,
    "start_time": "2021-11-21T13:56:27.862Z"
   },
   {
    "duration": 14,
    "start_time": "2021-11-21T13:57:19.309Z"
   },
   {
    "duration": 12,
    "start_time": "2021-11-21T13:57:49.788Z"
   },
   {
    "duration": 15,
    "start_time": "2021-11-21T13:58:13.887Z"
   },
   {
    "duration": 720,
    "start_time": "2021-11-21T14:04:27.112Z"
   },
   {
    "duration": 446,
    "start_time": "2021-11-21T14:05:15.719Z"
   },
   {
    "duration": 15,
    "start_time": "2021-11-21T14:06:07.268Z"
   },
   {
    "duration": 18,
    "start_time": "2021-11-21T14:12:10.460Z"
   },
   {
    "duration": 17,
    "start_time": "2021-11-21T14:12:36.852Z"
   },
   {
    "duration": 23,
    "start_time": "2021-11-21T14:12:39.182Z"
   },
   {
    "duration": 377,
    "start_time": "2021-11-21T14:15:19.514Z"
   },
   {
    "duration": 1373,
    "start_time": "2021-11-21T14:15:54.345Z"
   },
   {
    "duration": 3942,
    "start_time": "2021-11-21T14:16:19.333Z"
   },
   {
    "duration": 54,
    "start_time": "2021-11-21T14:17:45.693Z"
   },
   {
    "duration": 344,
    "start_time": "2021-11-21T14:19:33.463Z"
   },
   {
    "duration": 761,
    "start_time": "2021-11-21T14:19:49.345Z"
   },
   {
    "duration": 1843,
    "start_time": "2021-11-21T14:26:33.015Z"
   },
   {
    "duration": 241,
    "start_time": "2021-11-21T14:26:34.861Z"
   },
   {
    "duration": 3,
    "start_time": "2021-11-21T14:26:35.105Z"
   },
   {
    "duration": 9,
    "start_time": "2021-11-21T14:26:35.111Z"
   },
   {
    "duration": 17,
    "start_time": "2021-11-21T14:26:35.124Z"
   },
   {
    "duration": 49,
    "start_time": "2021-11-21T14:26:35.144Z"
   },
   {
    "duration": 513,
    "start_time": "2021-11-21T14:26:35.196Z"
   },
   {
    "duration": 490,
    "start_time": "2021-11-21T14:26:35.713Z"
   },
   {
    "duration": 18,
    "start_time": "2021-11-21T14:26:36.206Z"
   },
   {
    "duration": 502,
    "start_time": "2021-11-21T14:26:36.227Z"
   },
   {
    "duration": 23,
    "start_time": "2021-11-21T14:26:36.732Z"
   },
   {
    "duration": 54,
    "start_time": "2021-11-21T14:26:36.758Z"
   },
   {
    "duration": 27,
    "start_time": "2021-11-21T14:26:36.814Z"
   },
   {
    "duration": 3938,
    "start_time": "2021-11-21T14:26:36.843Z"
   },
   {
    "duration": 75,
    "start_time": "2021-11-21T14:26:40.784Z"
   },
   {
    "duration": 512,
    "start_time": "2021-11-21T14:26:40.862Z"
   },
   {
    "duration": 509,
    "start_time": "2021-11-21T14:26:41.376Z"
   },
   {
    "duration": 21,
    "start_time": "2021-11-21T14:26:41.888Z"
   },
   {
    "duration": 652,
    "start_time": "2021-11-21T14:26:41.912Z"
   },
   {
    "duration": 17,
    "start_time": "2021-11-21T14:26:42.566Z"
   },
   {
    "duration": 10,
    "start_time": "2021-11-21T14:26:42.586Z"
   },
   {
    "duration": 450,
    "start_time": "2021-11-21T14:26:42.599Z"
   },
   {
    "duration": 26,
    "start_time": "2021-11-21T14:26:43.057Z"
   },
   {
    "duration": 18,
    "start_time": "2021-11-21T14:26:43.086Z"
   },
   {
    "duration": 16,
    "start_time": "2021-11-21T14:26:43.107Z"
   },
   {
    "duration": 20,
    "start_time": "2021-11-21T14:26:43.125Z"
   },
   {
    "duration": 35,
    "start_time": "2021-11-21T14:26:43.148Z"
   },
   {
    "duration": 2268,
    "start_time": "2021-11-21T14:26:43.186Z"
   },
   {
    "duration": 27,
    "start_time": "2021-11-21T14:26:45.457Z"
   },
   {
    "duration": 31,
    "start_time": "2021-11-21T14:26:45.487Z"
   },
   {
    "duration": 12,
    "start_time": "2021-11-21T14:26:45.520Z"
   },
   {
    "duration": 10,
    "start_time": "2021-11-21T14:26:45.535Z"
   },
   {
    "duration": 508,
    "start_time": "2021-11-21T14:26:45.547Z"
   },
   {
    "duration": 25,
    "start_time": "2021-11-21T14:26:46.057Z"
   },
   {
    "duration": 23,
    "start_time": "2021-11-21T14:26:46.085Z"
   },
   {
    "duration": 21,
    "start_time": "2021-11-21T14:26:46.111Z"
   },
   {
    "duration": 60,
    "start_time": "2021-11-21T14:26:46.135Z"
   },
   {
    "duration": 4065,
    "start_time": "2021-11-21T14:26:46.198Z"
   },
   {
    "duration": 70,
    "start_time": "2021-11-21T14:26:50.266Z"
   },
   {
    "duration": 1518,
    "start_time": "2021-11-23T19:42:52.202Z"
   },
   {
    "duration": 186,
    "start_time": "2021-11-23T19:42:53.723Z"
   },
   {
    "duration": 4,
    "start_time": "2021-11-23T19:42:53.912Z"
   },
   {
    "duration": 9,
    "start_time": "2021-11-23T19:42:53.918Z"
   },
   {
    "duration": 13,
    "start_time": "2021-11-23T19:42:53.929Z"
   },
   {
    "duration": 39,
    "start_time": "2021-11-23T19:42:53.944Z"
   },
   {
    "duration": 495,
    "start_time": "2021-11-23T19:42:53.986Z"
   },
   {
    "duration": 493,
    "start_time": "2021-11-23T19:42:54.485Z"
   },
   {
    "duration": 14,
    "start_time": "2021-11-23T19:42:54.982Z"
   },
   {
    "duration": 468,
    "start_time": "2021-11-23T19:42:54.998Z"
   },
   {
    "duration": 23,
    "start_time": "2021-11-23T19:42:55.469Z"
   },
   {
    "duration": 21,
    "start_time": "2021-11-23T19:42:55.495Z"
   },
   {
    "duration": 37,
    "start_time": "2021-11-23T19:42:55.519Z"
   },
   {
    "duration": 3892,
    "start_time": "2021-11-23T19:42:55.558Z"
   },
   {
    "duration": 87,
    "start_time": "2021-11-23T19:42:59.452Z"
   },
   {
    "duration": 386,
    "start_time": "2021-11-23T19:42:59.542Z"
   },
   {
    "duration": 540,
    "start_time": "2021-11-23T19:42:59.931Z"
   },
   {
    "duration": 28,
    "start_time": "2021-11-23T19:43:00.473Z"
   },
   {
    "duration": 459,
    "start_time": "2021-11-23T19:43:00.503Z"
   },
   {
    "duration": 17,
    "start_time": "2021-11-23T19:43:00.965Z"
   },
   {
    "duration": 23,
    "start_time": "2021-11-23T19:43:00.985Z"
   },
   {
    "duration": 467,
    "start_time": "2021-11-23T19:43:01.010Z"
   },
   {
    "duration": 15,
    "start_time": "2021-11-23T19:43:01.482Z"
   },
   {
    "duration": 36,
    "start_time": "2021-11-23T19:43:01.500Z"
   },
   {
    "duration": 25,
    "start_time": "2021-11-23T19:43:01.538Z"
   },
   {
    "duration": 25,
    "start_time": "2021-11-23T19:43:01.567Z"
   },
   {
    "duration": 20,
    "start_time": "2021-11-23T19:43:01.595Z"
   },
   {
    "duration": 2164,
    "start_time": "2021-11-23T19:43:01.618Z"
   },
   {
    "duration": 11,
    "start_time": "2021-11-23T19:43:03.784Z"
   },
   {
    "duration": 30,
    "start_time": "2021-11-23T19:43:03.797Z"
   },
   {
    "duration": 16,
    "start_time": "2021-11-23T19:43:03.830Z"
   },
   {
    "duration": 44,
    "start_time": "2021-11-23T19:43:03.849Z"
   },
   {
    "duration": 825,
    "start_time": "2021-11-23T19:43:03.896Z"
   },
   {
    "duration": 20,
    "start_time": "2021-11-23T19:43:04.724Z"
   },
   {
    "duration": 45,
    "start_time": "2021-11-23T19:43:04.747Z"
   },
   {
    "duration": 22,
    "start_time": "2021-11-23T19:43:04.795Z"
   },
   {
    "duration": 23,
    "start_time": "2021-11-23T19:43:04.821Z"
   },
   {
    "duration": 2739,
    "start_time": "2021-11-23T19:43:04.847Z"
   },
   {
    "duration": 54,
    "start_time": "2021-11-23T19:43:07.589Z"
   },
   {
    "duration": 1639,
    "start_time": "2021-11-23T19:46:00.087Z"
   },
   {
    "duration": 192,
    "start_time": "2021-11-23T19:46:01.728Z"
   },
   {
    "duration": 5,
    "start_time": "2021-11-23T19:46:01.923Z"
   },
   {
    "duration": 14,
    "start_time": "2021-11-23T19:46:01.930Z"
   },
   {
    "duration": 14,
    "start_time": "2021-11-23T19:46:01.946Z"
   },
   {
    "duration": 31,
    "start_time": "2021-11-23T19:46:01.963Z"
   },
   {
    "duration": 515,
    "start_time": "2021-11-23T19:46:01.996Z"
   },
   {
    "duration": 674,
    "start_time": "2021-11-23T19:46:02.516Z"
   },
   {
    "duration": 18,
    "start_time": "2021-11-23T19:46:03.194Z"
   },
   {
    "duration": 749,
    "start_time": "2021-11-23T19:46:03.215Z"
   },
   {
    "duration": 39,
    "start_time": "2021-11-23T19:46:03.967Z"
   },
   {
    "duration": 33,
    "start_time": "2021-11-23T19:46:04.009Z"
   },
   {
    "duration": 53,
    "start_time": "2021-11-23T19:46:04.045Z"
   },
   {
    "duration": 3916,
    "start_time": "2021-11-23T19:46:04.100Z"
   },
   {
    "duration": 87,
    "start_time": "2021-11-23T19:46:08.018Z"
   },
   {
    "duration": 399,
    "start_time": "2021-11-23T19:46:08.107Z"
   },
   {
    "duration": 376,
    "start_time": "2021-11-23T19:46:08.509Z"
   },
   {
    "duration": 21,
    "start_time": "2021-11-23T19:46:08.887Z"
   },
   {
    "duration": 452,
    "start_time": "2021-11-23T19:46:08.910Z"
   },
   {
    "duration": 17,
    "start_time": "2021-11-23T19:46:09.365Z"
   },
   {
    "duration": 14,
    "start_time": "2021-11-23T19:46:09.384Z"
   },
   {
    "duration": 542,
    "start_time": "2021-11-23T19:46:09.400Z"
   },
   {
    "duration": 11,
    "start_time": "2021-11-23T19:46:09.946Z"
   },
   {
    "duration": 29,
    "start_time": "2021-11-23T19:46:09.960Z"
   },
   {
    "duration": 11,
    "start_time": "2021-11-23T19:46:09.991Z"
   },
   {
    "duration": 12,
    "start_time": "2021-11-23T19:46:10.005Z"
   },
   {
    "duration": 22,
    "start_time": "2021-11-23T19:46:10.020Z"
   },
   {
    "duration": 3708,
    "start_time": "2021-11-23T19:46:10.081Z"
   },
   {
    "duration": 14,
    "start_time": "2021-11-23T19:46:13.792Z"
   },
   {
    "duration": 34,
    "start_time": "2021-11-23T19:46:13.809Z"
   },
   {
    "duration": 8119,
    "start_time": "2021-11-23T19:46:13.846Z"
   },
   {
    "duration": -251,
    "start_time": "2021-11-23T19:46:22.218Z"
   },
   {
    "duration": -260,
    "start_time": "2021-11-23T19:46:22.229Z"
   },
   {
    "duration": -262,
    "start_time": "2021-11-23T19:46:22.233Z"
   },
   {
    "duration": -265,
    "start_time": "2021-11-23T19:46:22.237Z"
   },
   {
    "duration": -303,
    "start_time": "2021-11-23T19:46:22.276Z"
   },
   {
    "duration": -305,
    "start_time": "2021-11-23T19:46:22.280Z"
   },
   {
    "duration": -308,
    "start_time": "2021-11-23T19:46:22.285Z"
   },
   {
    "duration": -310,
    "start_time": "2021-11-23T19:46:22.288Z"
   },
   {
    "duration": 17,
    "start_time": "2021-11-23T19:48:28.898Z"
   },
   {
    "duration": 12,
    "start_time": "2021-11-23T19:48:40.360Z"
   },
   {
    "duration": 456,
    "start_time": "2021-11-23T19:48:43.793Z"
   },
   {
    "duration": 15,
    "start_time": "2021-11-23T19:48:48.850Z"
   },
   {
    "duration": 18,
    "start_time": "2021-11-23T19:48:51.297Z"
   },
   {
    "duration": 18,
    "start_time": "2021-11-23T19:48:54.496Z"
   },
   {
    "duration": 18,
    "start_time": "2021-11-23T19:48:57.263Z"
   },
   {
    "duration": 2423,
    "start_time": "2021-11-23T19:48:59.398Z"
   },
   {
    "duration": 65,
    "start_time": "2021-11-23T19:49:02.011Z"
   },
   {
    "duration": 1469,
    "start_time": "2021-11-23T19:50:48.923Z"
   },
   {
    "duration": 188,
    "start_time": "2021-11-23T19:50:50.394Z"
   },
   {
    "duration": 4,
    "start_time": "2021-11-23T19:50:50.586Z"
   },
   {
    "duration": 11,
    "start_time": "2021-11-23T19:50:50.593Z"
   },
   {
    "duration": 13,
    "start_time": "2021-11-23T19:50:50.606Z"
   },
   {
    "duration": 21,
    "start_time": "2021-11-23T19:50:50.621Z"
   },
   {
    "duration": 562,
    "start_time": "2021-11-23T19:50:50.644Z"
   },
   {
    "duration": 500,
    "start_time": "2021-11-23T19:50:51.209Z"
   },
   {
    "duration": 13,
    "start_time": "2021-11-23T19:50:51.713Z"
   },
   {
    "duration": 507,
    "start_time": "2021-11-23T19:50:51.728Z"
   },
   {
    "duration": 19,
    "start_time": "2021-11-23T19:50:52.238Z"
   },
   {
    "duration": 42,
    "start_time": "2021-11-23T19:50:52.260Z"
   },
   {
    "duration": 23,
    "start_time": "2021-11-23T19:50:52.304Z"
   },
   {
    "duration": 6637,
    "start_time": "2021-11-23T19:50:52.330Z"
   },
   {
    "duration": 89,
    "start_time": "2021-11-23T19:50:58.970Z"
   },
   {
    "duration": 419,
    "start_time": "2021-11-23T19:50:59.062Z"
   },
   {
    "duration": 396,
    "start_time": "2021-11-23T19:50:59.483Z"
   },
   {
    "duration": 24,
    "start_time": "2021-11-23T19:50:59.882Z"
   },
   {
    "duration": 573,
    "start_time": "2021-11-23T19:50:59.909Z"
   },
   {
    "duration": 8,
    "start_time": "2021-11-23T19:51:00.484Z"
   },
   {
    "duration": 16,
    "start_time": "2021-11-23T19:51:00.495Z"
   },
   {
    "duration": 480,
    "start_time": "2021-11-23T19:51:00.513Z"
   },
   {
    "duration": 11,
    "start_time": "2021-11-23T19:51:00.998Z"
   },
   {
    "duration": 30,
    "start_time": "2021-11-23T19:51:01.012Z"
   },
   {
    "duration": 30,
    "start_time": "2021-11-23T19:51:01.044Z"
   },
   {
    "duration": 29,
    "start_time": "2021-11-23T19:51:01.076Z"
   },
   {
    "duration": 23,
    "start_time": "2021-11-23T19:51:01.108Z"
   },
   {
    "duration": 2314,
    "start_time": "2021-11-23T19:51:01.134Z"
   },
   {
    "duration": 13,
    "start_time": "2021-11-23T19:51:03.451Z"
   },
   {
    "duration": 28,
    "start_time": "2021-11-23T19:51:03.482Z"
   },
   {
    "duration": 12,
    "start_time": "2021-11-23T19:51:03.512Z"
   },
   {
    "duration": 11,
    "start_time": "2021-11-23T19:51:03.526Z"
   },
   {
    "duration": 504,
    "start_time": "2021-11-23T19:51:03.540Z"
   },
   {
    "duration": 35,
    "start_time": "2021-11-23T19:51:04.047Z"
   },
   {
    "duration": 17,
    "start_time": "2021-11-23T19:51:04.085Z"
   },
   {
    "duration": 16,
    "start_time": "2021-11-23T19:51:04.105Z"
   },
   {
    "duration": 17,
    "start_time": "2021-11-23T19:51:04.124Z"
   },
   {
    "duration": 2218,
    "start_time": "2021-11-23T19:51:04.183Z"
   },
   {
    "duration": 55,
    "start_time": "2021-11-23T19:51:06.404Z"
   },
   {
    "duration": 12,
    "start_time": "2021-11-23T20:07:43.393Z"
   },
   {
    "duration": 684,
    "start_time": "2021-11-23T20:12:06.946Z"
   },
   {
    "duration": 354,
    "start_time": "2021-11-23T20:13:15.144Z"
   },
   {
    "duration": 8320,
    "start_time": "2021-11-23T20:13:47.766Z"
   },
   {
    "duration": 321,
    "start_time": "2021-11-23T20:14:24.728Z"
   },
   {
    "duration": 8695,
    "start_time": "2021-11-23T20:19:08.573Z"
   },
   {
    "duration": 329,
    "start_time": "2021-11-23T20:19:40.809Z"
   },
   {
    "duration": 441,
    "start_time": "2021-11-23T20:20:01.818Z"
   },
   {
    "duration": 345,
    "start_time": "2021-11-23T20:22:11.698Z"
   },
   {
    "duration": 320,
    "start_time": "2021-11-23T20:27:11.175Z"
   },
   {
    "duration": 317,
    "start_time": "2021-11-23T20:27:57.519Z"
   },
   {
    "duration": 101,
    "start_time": "2021-11-23T20:29:40.850Z"
   },
   {
    "duration": 390,
    "start_time": "2021-11-23T20:30:00.287Z"
   },
   {
    "duration": 317,
    "start_time": "2021-11-23T20:30:35.007Z"
   },
   {
    "duration": 1472,
    "start_time": "2021-11-23T20:31:05.881Z"
   },
   {
    "duration": 178,
    "start_time": "2021-11-23T20:31:07.356Z"
   },
   {
    "duration": 4,
    "start_time": "2021-11-23T20:31:07.537Z"
   },
   {
    "duration": 17,
    "start_time": "2021-11-23T20:31:07.543Z"
   },
   {
    "duration": 13,
    "start_time": "2021-11-23T20:31:07.562Z"
   },
   {
    "duration": 21,
    "start_time": "2021-11-23T20:31:07.577Z"
   },
   {
    "duration": 486,
    "start_time": "2021-11-23T20:31:07.601Z"
   },
   {
    "duration": 473,
    "start_time": "2021-11-23T20:31:08.091Z"
   },
   {
    "duration": 23,
    "start_time": "2021-11-23T20:31:08.567Z"
   },
   {
    "duration": 476,
    "start_time": "2021-11-23T20:31:08.592Z"
   },
   {
    "duration": 34,
    "start_time": "2021-11-23T20:31:09.071Z"
   },
   {
    "duration": 22,
    "start_time": "2021-11-23T20:31:09.107Z"
   },
   {
    "duration": 20,
    "start_time": "2021-11-23T20:31:09.132Z"
   },
   {
    "duration": 3633,
    "start_time": "2021-11-23T20:31:09.184Z"
   },
   {
    "duration": 90,
    "start_time": "2021-11-23T20:31:12.820Z"
   },
   {
    "duration": 400,
    "start_time": "2021-11-23T20:31:12.913Z"
   },
   {
    "duration": 388,
    "start_time": "2021-11-23T20:31:13.315Z"
   },
   {
    "duration": 32,
    "start_time": "2021-11-23T20:31:13.707Z"
   },
   {
    "duration": 461,
    "start_time": "2021-11-23T20:31:13.742Z"
   },
   {
    "duration": 8,
    "start_time": "2021-11-23T20:31:14.206Z"
   },
   {
    "duration": 13,
    "start_time": "2021-11-23T20:31:14.217Z"
   },
   {
    "duration": 460,
    "start_time": "2021-11-23T20:31:14.233Z"
   },
   {
    "duration": 13,
    "start_time": "2021-11-23T20:31:14.698Z"
   },
   {
    "duration": 10,
    "start_time": "2021-11-23T20:31:14.714Z"
   },
   {
    "duration": 12,
    "start_time": "2021-11-23T20:31:14.727Z"
   },
   {
    "duration": 46,
    "start_time": "2021-11-23T20:31:14.741Z"
   },
   {
    "duration": 11,
    "start_time": "2021-11-23T20:31:14.790Z"
   },
   {
    "duration": 2239,
    "start_time": "2021-11-23T20:31:14.803Z"
   },
   {
    "duration": 11,
    "start_time": "2021-11-23T20:31:17.045Z"
   },
   {
    "duration": 41,
    "start_time": "2021-11-23T20:31:17.060Z"
   },
   {
    "duration": 12,
    "start_time": "2021-11-23T20:31:17.104Z"
   },
   {
    "duration": 15,
    "start_time": "2021-11-23T20:31:17.119Z"
   },
   {
    "duration": 534,
    "start_time": "2021-11-23T20:31:17.137Z"
   },
   {
    "duration": 20,
    "start_time": "2021-11-23T20:31:17.674Z"
   },
   {
    "duration": 19,
    "start_time": "2021-11-23T20:31:17.697Z"
   },
   {
    "duration": 17,
    "start_time": "2021-11-23T20:31:17.719Z"
   },
   {
    "duration": 53,
    "start_time": "2021-11-23T20:31:17.739Z"
   },
   {
    "duration": 2292,
    "start_time": "2021-11-23T20:31:17.794Z"
   },
   {
    "duration": 57,
    "start_time": "2021-11-23T20:31:20.089Z"
   },
   {
    "duration": 42,
    "start_time": "2021-11-23T20:31:20.149Z"
   },
   {
    "duration": 444,
    "start_time": "2021-11-23T20:31:20.194Z"
   },
   {
    "duration": 32,
    "start_time": "2021-11-23T20:32:14.449Z"
   },
   {
    "duration": 111,
    "start_time": "2021-11-23T20:32:59.367Z"
   },
   {
    "duration": 1484,
    "start_time": "2021-11-23T20:33:12.193Z"
   },
   {
    "duration": 178,
    "start_time": "2021-11-23T20:33:13.680Z"
   },
   {
    "duration": 4,
    "start_time": "2021-11-23T20:33:13.861Z"
   },
   {
    "duration": 12,
    "start_time": "2021-11-23T20:33:13.868Z"
   },
   {
    "duration": 15,
    "start_time": "2021-11-23T20:33:13.883Z"
   },
   {
    "duration": 17,
    "start_time": "2021-11-23T20:33:13.901Z"
   },
   {
    "duration": 501,
    "start_time": "2021-11-23T20:33:13.921Z"
   },
   {
    "duration": 478,
    "start_time": "2021-11-23T20:33:14.426Z"
   },
   {
    "duration": 14,
    "start_time": "2021-11-23T20:33:14.907Z"
   },
   {
    "duration": 587,
    "start_time": "2021-11-23T20:33:14.924Z"
   },
   {
    "duration": 20,
    "start_time": "2021-11-23T20:33:15.514Z"
   },
   {
    "duration": 45,
    "start_time": "2021-11-23T20:33:15.537Z"
   },
   {
    "duration": 21,
    "start_time": "2021-11-23T20:33:15.585Z"
   },
   {
    "duration": 5973,
    "start_time": "2021-11-23T20:33:15.609Z"
   },
   {
    "duration": 133,
    "start_time": "2021-11-23T20:33:21.585Z"
   },
   {
    "duration": 398,
    "start_time": "2021-11-23T20:33:21.721Z"
   },
   {
    "duration": 384,
    "start_time": "2021-11-23T20:33:22.123Z"
   },
   {
    "duration": 23,
    "start_time": "2021-11-23T20:33:22.510Z"
   },
   {
    "duration": 688,
    "start_time": "2021-11-23T20:33:22.536Z"
   },
   {
    "duration": 11,
    "start_time": "2021-11-23T20:33:23.228Z"
   },
   {
    "duration": 17,
    "start_time": "2021-11-23T20:33:23.242Z"
   },
   {
    "duration": 432,
    "start_time": "2021-11-23T20:33:23.281Z"
   },
   {
    "duration": 11,
    "start_time": "2021-11-23T20:33:23.719Z"
   },
   {
    "duration": 11,
    "start_time": "2021-11-23T20:33:23.733Z"
   },
   {
    "duration": 46,
    "start_time": "2021-11-23T20:33:23.747Z"
   },
   {
    "duration": 9,
    "start_time": "2021-11-23T20:33:23.796Z"
   },
   {
    "duration": 12,
    "start_time": "2021-11-23T20:33:23.809Z"
   },
   {
    "duration": 3823,
    "start_time": "2021-11-23T20:33:23.824Z"
   },
   {
    "duration": 14,
    "start_time": "2021-11-23T20:33:27.650Z"
   },
   {
    "duration": 29,
    "start_time": "2021-11-23T20:33:27.683Z"
   },
   {
    "duration": 14,
    "start_time": "2021-11-23T20:33:27.714Z"
   },
   {
    "duration": 11,
    "start_time": "2021-11-23T20:33:27.730Z"
   },
   {
    "duration": 498,
    "start_time": "2021-11-23T20:33:27.743Z"
   },
   {
    "duration": 15,
    "start_time": "2021-11-23T20:33:28.243Z"
   },
   {
    "duration": 32,
    "start_time": "2021-11-23T20:33:28.260Z"
   },
   {
    "duration": 16,
    "start_time": "2021-11-23T20:33:28.294Z"
   },
   {
    "duration": 18,
    "start_time": "2021-11-23T20:33:28.312Z"
   },
   {
    "duration": 2313,
    "start_time": "2021-11-23T20:33:28.332Z"
   },
   {
    "duration": 71,
    "start_time": "2021-11-23T20:33:30.647Z"
   },
   {
    "duration": 16,
    "start_time": "2021-11-23T20:33:30.722Z"
   },
   {
    "duration": 59,
    "start_time": "2021-11-23T20:33:30.740Z"
   },
   {
    "duration": 1429,
    "start_time": "2021-11-23T20:38:40.236Z"
   },
   {
    "duration": 176,
    "start_time": "2021-11-23T20:38:41.668Z"
   },
   {
    "duration": 4,
    "start_time": "2021-11-23T20:38:41.847Z"
   },
   {
    "duration": 8,
    "start_time": "2021-11-23T20:38:41.854Z"
   },
   {
    "duration": 12,
    "start_time": "2021-11-23T20:38:41.865Z"
   },
   {
    "duration": 20,
    "start_time": "2021-11-23T20:38:41.879Z"
   },
   {
    "duration": 496,
    "start_time": "2021-11-23T20:38:41.901Z"
   },
   {
    "duration": 582,
    "start_time": "2021-11-23T20:38:42.403Z"
   },
   {
    "duration": 17,
    "start_time": "2021-11-23T20:38:42.990Z"
   },
   {
    "duration": 588,
    "start_time": "2021-11-23T20:38:43.010Z"
   },
   {
    "duration": 27,
    "start_time": "2021-11-23T20:38:43.601Z"
   },
   {
    "duration": 56,
    "start_time": "2021-11-23T20:38:43.631Z"
   },
   {
    "duration": 31,
    "start_time": "2021-11-23T20:38:43.690Z"
   },
   {
    "duration": 3771,
    "start_time": "2021-11-23T20:38:43.724Z"
   },
   {
    "duration": 105,
    "start_time": "2021-11-23T20:38:47.497Z"
   },
   {
    "duration": 401,
    "start_time": "2021-11-23T20:38:47.605Z"
   },
   {
    "duration": 478,
    "start_time": "2021-11-23T20:38:48.009Z"
   },
   {
    "duration": 30,
    "start_time": "2021-11-23T20:38:48.490Z"
   },
   {
    "duration": 646,
    "start_time": "2021-11-23T20:38:48.523Z"
   },
   {
    "duration": 17,
    "start_time": "2021-11-23T20:38:49.171Z"
   },
   {
    "duration": 13,
    "start_time": "2021-11-23T20:38:49.191Z"
   },
   {
    "duration": 444,
    "start_time": "2021-11-23T20:38:49.207Z"
   },
   {
    "duration": 26,
    "start_time": "2021-11-23T20:38:49.655Z"
   },
   {
    "duration": 11,
    "start_time": "2021-11-23T20:38:49.684Z"
   },
   {
    "duration": 13,
    "start_time": "2021-11-23T20:38:49.698Z"
   },
   {
    "duration": 12,
    "start_time": "2021-11-23T20:38:49.715Z"
   },
   {
    "duration": 11,
    "start_time": "2021-11-23T20:38:49.729Z"
   },
   {
    "duration": 2209,
    "start_time": "2021-11-23T20:38:49.783Z"
   },
   {
    "duration": 10,
    "start_time": "2021-11-23T20:38:51.994Z"
   },
   {
    "duration": 25,
    "start_time": "2021-11-23T20:38:52.007Z"
   },
   {
    "duration": 13,
    "start_time": "2021-11-23T20:38:52.035Z"
   },
   {
    "duration": 11,
    "start_time": "2021-11-23T20:38:52.081Z"
   },
   {
    "duration": 455,
    "start_time": "2021-11-23T20:38:52.094Z"
   },
   {
    "duration": 14,
    "start_time": "2021-11-23T20:38:52.551Z"
   },
   {
    "duration": 30,
    "start_time": "2021-11-23T20:38:52.567Z"
   },
   {
    "duration": 16,
    "start_time": "2021-11-23T20:38:52.599Z"
   },
   {
    "duration": 30,
    "start_time": "2021-11-23T20:38:52.617Z"
   },
   {
    "duration": 3966,
    "start_time": "2021-11-23T20:38:52.650Z"
   },
   {
    "duration": 92,
    "start_time": "2021-11-23T20:38:56.618Z"
   },
   {
    "duration": 15,
    "start_time": "2021-11-23T20:38:56.713Z"
   },
   {
    "duration": 101,
    "start_time": "2021-11-23T20:38:56.731Z"
   },
   {
    "duration": 46,
    "start_time": "2021-11-23T20:39:24.864Z"
   },
   {
    "duration": 1529,
    "start_time": "2021-11-23T20:40:21.938Z"
   },
   {
    "duration": 191,
    "start_time": "2021-11-23T20:40:23.470Z"
   },
   {
    "duration": 3,
    "start_time": "2021-11-23T20:40:23.664Z"
   },
   {
    "duration": 15,
    "start_time": "2021-11-23T20:40:23.670Z"
   },
   {
    "duration": 19,
    "start_time": "2021-11-23T20:40:23.689Z"
   },
   {
    "duration": 18,
    "start_time": "2021-11-23T20:40:23.711Z"
   },
   {
    "duration": 729,
    "start_time": "2021-11-23T20:40:23.731Z"
   },
   {
    "duration": 632,
    "start_time": "2021-11-23T20:40:24.466Z"
   },
   {
    "duration": 20,
    "start_time": "2021-11-23T20:40:25.103Z"
   },
   {
    "duration": 498,
    "start_time": "2021-11-23T20:40:25.126Z"
   },
   {
    "duration": 22,
    "start_time": "2021-11-23T20:40:25.628Z"
   },
   {
    "duration": 47,
    "start_time": "2021-11-23T20:40:25.653Z"
   },
   {
    "duration": 23,
    "start_time": "2021-11-23T20:40:25.703Z"
   },
   {
    "duration": 6201,
    "start_time": "2021-11-23T20:40:25.729Z"
   },
   {
    "duration": 95,
    "start_time": "2021-11-23T20:40:31.933Z"
   },
   {
    "duration": 400,
    "start_time": "2021-11-23T20:40:32.031Z"
   },
   {
    "duration": 390,
    "start_time": "2021-11-23T20:40:32.435Z"
   },
   {
    "duration": 30,
    "start_time": "2021-11-23T20:40:32.827Z"
   },
   {
    "duration": 626,
    "start_time": "2021-11-23T20:40:32.860Z"
   },
   {
    "duration": 11,
    "start_time": "2021-11-23T20:40:33.490Z"
   },
   {
    "duration": 13,
    "start_time": "2021-11-23T20:40:33.504Z"
   },
   {
    "duration": 778,
    "start_time": "2021-11-23T20:40:33.520Z"
   },
   {
    "duration": 12,
    "start_time": "2021-11-23T20:40:34.305Z"
   },
   {
    "duration": 10,
    "start_time": "2021-11-23T20:40:34.321Z"
   },
   {
    "duration": 12,
    "start_time": "2021-11-23T20:40:34.334Z"
   },
   {
    "duration": 9,
    "start_time": "2021-11-23T20:40:34.383Z"
   },
   {
    "duration": 12,
    "start_time": "2021-11-23T20:40:34.394Z"
   },
   {
    "duration": 2250,
    "start_time": "2021-11-23T20:40:34.409Z"
   },
   {
    "duration": 10,
    "start_time": "2021-11-23T20:40:36.661Z"
   },
   {
    "duration": 27,
    "start_time": "2021-11-23T20:40:36.673Z"
   },
   {
    "duration": 12,
    "start_time": "2021-11-23T20:40:36.703Z"
   },
   {
    "duration": 11,
    "start_time": "2021-11-23T20:40:36.717Z"
   },
   {
    "duration": 494,
    "start_time": "2021-11-23T20:40:36.730Z"
   },
   {
    "duration": 15,
    "start_time": "2021-11-23T20:40:37.226Z"
   },
   {
    "duration": 39,
    "start_time": "2021-11-23T20:40:37.243Z"
   },
   {
    "duration": 16,
    "start_time": "2021-11-23T20:40:37.285Z"
   },
   {
    "duration": 30,
    "start_time": "2021-11-23T20:40:37.304Z"
   },
   {
    "duration": 2217,
    "start_time": "2021-11-23T20:40:37.336Z"
   },
   {
    "duration": 64,
    "start_time": "2021-11-23T20:40:39.556Z"
   },
   {
    "duration": 14,
    "start_time": "2021-11-23T20:40:39.623Z"
   },
   {
    "duration": 86,
    "start_time": "2021-11-23T20:40:39.640Z"
   },
   {
    "duration": 1241,
    "start_time": "2021-11-24T13:50:48.919Z"
   },
   {
    "duration": 231,
    "start_time": "2021-11-24T13:50:50.162Z"
   },
   {
    "duration": 3,
    "start_time": "2021-11-24T13:50:50.402Z"
   },
   {
    "duration": 11,
    "start_time": "2021-11-24T13:50:50.407Z"
   },
   {
    "duration": 13,
    "start_time": "2021-11-24T13:50:50.420Z"
   },
   {
    "duration": 26,
    "start_time": "2021-11-24T13:50:50.435Z"
   },
   {
    "duration": 293,
    "start_time": "2021-11-24T13:50:50.463Z"
   },
   {
    "duration": 285,
    "start_time": "2021-11-24T13:50:50.759Z"
   },
   {
    "duration": 9,
    "start_time": "2021-11-24T13:50:51.047Z"
   },
   {
    "duration": 288,
    "start_time": "2021-11-24T13:50:51.058Z"
   },
   {
    "duration": 14,
    "start_time": "2021-11-24T13:50:51.348Z"
   },
   {
    "duration": 13,
    "start_time": "2021-11-24T13:50:51.364Z"
   },
   {
    "duration": 36,
    "start_time": "2021-11-24T13:50:51.379Z"
   },
   {
    "duration": 2185,
    "start_time": "2021-11-24T13:50:51.416Z"
   },
   {
    "duration": 45,
    "start_time": "2021-11-24T13:50:53.603Z"
   },
   {
    "duration": 245,
    "start_time": "2021-11-24T13:50:53.649Z"
   },
   {
    "duration": 223,
    "start_time": "2021-11-24T13:50:53.896Z"
   },
   {
    "duration": 13,
    "start_time": "2021-11-24T13:50:54.121Z"
   },
   {
    "duration": 292,
    "start_time": "2021-11-24T13:50:54.136Z"
   },
   {
    "duration": 6,
    "start_time": "2021-11-24T13:50:54.430Z"
   },
   {
    "duration": 15,
    "start_time": "2021-11-24T13:50:54.437Z"
   },
   {
    "duration": 257,
    "start_time": "2021-11-24T13:50:54.454Z"
   },
   {
    "duration": 8,
    "start_time": "2021-11-24T13:50:54.714Z"
   },
   {
    "duration": 17,
    "start_time": "2021-11-24T13:50:54.724Z"
   },
   {
    "duration": 9,
    "start_time": "2021-11-24T13:50:54.743Z"
   },
   {
    "duration": 10,
    "start_time": "2021-11-24T13:50:54.753Z"
   },
   {
    "duration": 8,
    "start_time": "2021-11-24T13:50:54.765Z"
   },
   {
    "duration": 1057,
    "start_time": "2021-11-24T13:50:54.775Z"
   },
   {
    "duration": 6,
    "start_time": "2021-11-24T13:50:55.834Z"
   },
   {
    "duration": 19,
    "start_time": "2021-11-24T13:50:55.842Z"
   },
   {
    "duration": 9,
    "start_time": "2021-11-24T13:50:55.863Z"
   },
   {
    "duration": 14,
    "start_time": "2021-11-24T13:50:55.874Z"
   },
   {
    "duration": 298,
    "start_time": "2021-11-24T13:50:55.889Z"
   },
   {
    "duration": 20,
    "start_time": "2021-11-24T13:50:56.189Z"
   },
   {
    "duration": 15,
    "start_time": "2021-11-24T13:50:56.211Z"
   },
   {
    "duration": 11,
    "start_time": "2021-11-24T13:50:56.228Z"
   },
   {
    "duration": 12,
    "start_time": "2021-11-24T13:50:56.241Z"
   },
   {
    "duration": 1282,
    "start_time": "2021-11-24T13:50:56.255Z"
   },
   {
    "duration": 41,
    "start_time": "2021-11-24T13:50:57.539Z"
   },
   {
    "duration": 51,
    "start_time": "2021-11-24T13:50:57.582Z"
   },
   {
    "duration": 9,
    "start_time": "2021-11-24T13:52:10.195Z"
   },
   {
    "duration": 542,
    "start_time": "2021-11-24T14:24:49.605Z"
   },
   {
    "duration": 11,
    "start_time": "2021-11-24T14:26:42.190Z"
   },
   {
    "duration": 10,
    "start_time": "2021-11-24T14:27:11.712Z"
   },
   {
    "duration": 373,
    "start_time": "2021-11-24T14:33:01.591Z"
   },
   {
    "duration": 9,
    "start_time": "2021-11-24T14:35:53.205Z"
   },
   {
    "duration": 2369,
    "start_time": "2021-11-24T14:44:12.085Z"
   },
   {
    "duration": 21,
    "start_time": "2021-11-24T14:45:44.214Z"
   },
   {
    "duration": 24,
    "start_time": "2021-11-24T14:46:49.926Z"
   },
   {
    "duration": 1179,
    "start_time": "2021-11-24T14:59:39.566Z"
   },
   {
    "duration": 199,
    "start_time": "2021-11-24T14:59:40.747Z"
   },
   {
    "duration": 3,
    "start_time": "2021-11-24T14:59:40.948Z"
   },
   {
    "duration": 8,
    "start_time": "2021-11-24T14:59:40.953Z"
   },
   {
    "duration": 10,
    "start_time": "2021-11-24T14:59:40.963Z"
   },
   {
    "duration": 14,
    "start_time": "2021-11-24T14:59:40.975Z"
   },
   {
    "duration": 297,
    "start_time": "2021-11-24T14:59:40.991Z"
   },
   {
    "duration": 283,
    "start_time": "2021-11-24T14:59:41.290Z"
   },
   {
    "duration": 9,
    "start_time": "2021-11-24T14:59:41.575Z"
   },
   {
    "duration": 290,
    "start_time": "2021-11-24T14:59:41.586Z"
   },
   {
    "duration": 12,
    "start_time": "2021-11-24T14:59:41.878Z"
   },
   {
    "duration": 27,
    "start_time": "2021-11-24T14:59:41.892Z"
   },
   {
    "duration": 16,
    "start_time": "2021-11-24T14:59:41.920Z"
   },
   {
    "duration": 2206,
    "start_time": "2021-11-24T14:59:41.937Z"
   },
   {
    "duration": 47,
    "start_time": "2021-11-24T14:59:44.145Z"
   },
   {
    "duration": 245,
    "start_time": "2021-11-24T14:59:44.193Z"
   },
   {
    "duration": 236,
    "start_time": "2021-11-24T14:59:44.440Z"
   },
   {
    "duration": 14,
    "start_time": "2021-11-24T14:59:44.677Z"
   },
   {
    "duration": 295,
    "start_time": "2021-11-24T14:59:44.692Z"
   },
   {
    "duration": 6,
    "start_time": "2021-11-24T14:59:44.988Z"
   },
   {
    "duration": 28,
    "start_time": "2021-11-24T14:59:44.995Z"
   },
   {
    "duration": 311,
    "start_time": "2021-11-24T14:59:45.025Z"
   },
   {
    "duration": 8,
    "start_time": "2021-11-24T14:59:45.340Z"
   },
   {
    "duration": 15,
    "start_time": "2021-11-24T14:59:45.350Z"
   },
   {
    "duration": 17,
    "start_time": "2021-11-24T14:59:45.366Z"
   },
   {
    "duration": 24,
    "start_time": "2021-11-24T14:59:45.384Z"
   },
   {
    "duration": 14,
    "start_time": "2021-11-24T14:59:45.410Z"
   },
   {
    "duration": 1112,
    "start_time": "2021-11-24T14:59:45.426Z"
   },
   {
    "duration": 7,
    "start_time": "2021-11-24T14:59:46.540Z"
   },
   {
    "duration": 29,
    "start_time": "2021-11-24T14:59:46.548Z"
   },
   {
    "duration": 21,
    "start_time": "2021-11-24T14:59:46.579Z"
   },
   {
    "duration": 38,
    "start_time": "2021-11-24T14:59:46.602Z"
   },
   {
    "duration": 293,
    "start_time": "2021-11-24T14:59:46.642Z"
   },
   {
    "duration": 10,
    "start_time": "2021-11-24T14:59:46.938Z"
   },
   {
    "duration": 19,
    "start_time": "2021-11-24T14:59:46.950Z"
   },
   {
    "duration": 11,
    "start_time": "2021-11-24T14:59:46.971Z"
   },
   {
    "duration": 11,
    "start_time": "2021-11-24T14:59:47.007Z"
   },
   {
    "duration": 1414,
    "start_time": "2021-11-24T14:59:47.021Z"
   },
   {
    "duration": 36,
    "start_time": "2021-11-24T14:59:48.436Z"
   },
   {
    "duration": 55,
    "start_time": "2021-11-24T14:59:48.474Z"
   },
   {
    "duration": 27,
    "start_time": "2021-11-24T14:59:48.531Z"
   },
   {
    "duration": 5,
    "start_time": "2021-11-24T14:59:48.559Z"
   },
   {
    "duration": 434,
    "start_time": "2021-11-24T14:59:48.566Z"
   },
   {
    "duration": 389,
    "start_time": "2021-11-24T15:04:09.734Z"
   },
   {
    "duration": 802,
    "start_time": "2021-11-24T15:14:36.250Z"
   },
   {
    "duration": 1494,
    "start_time": "2021-11-24T15:14:56.890Z"
   },
   {
    "duration": 1876,
    "start_time": "2021-11-24T15:16:13.852Z"
   },
   {
    "duration": 5070,
    "start_time": "2021-11-24T15:17:43.123Z"
   },
   {
    "duration": 105,
    "start_time": "2021-11-24T15:18:52.893Z"
   },
   {
    "duration": 12,
    "start_time": "2021-11-24T15:19:23.572Z"
   },
   {
    "duration": 13,
    "start_time": "2021-11-24T15:22:56.044Z"
   },
   {
    "duration": 6,
    "start_time": "2021-11-24T15:22:58.205Z"
   },
   {
    "duration": 7,
    "start_time": "2021-11-24T15:23:11.715Z"
   },
   {
    "duration": 15,
    "start_time": "2021-11-24T15:27:59.422Z"
   },
   {
    "duration": 12,
    "start_time": "2021-11-24T15:34:55.408Z"
   },
   {
    "duration": 10,
    "start_time": "2021-11-24T15:44:16.709Z"
   },
   {
    "duration": 354,
    "start_time": "2021-11-24T15:46:21.155Z"
   },
   {
    "duration": 9062,
    "start_time": "2021-11-24T15:46:36.112Z"
   },
   {
    "duration": 8683,
    "start_time": "2021-11-24T15:47:54.419Z"
   },
   {
    "duration": 35,
    "start_time": "2021-11-24T15:48:17.053Z"
   },
   {
    "duration": 8,
    "start_time": "2021-11-24T15:48:19.779Z"
   },
   {
    "duration": 12,
    "start_time": "2021-11-24T15:49:27.888Z"
   },
   {
    "duration": 37,
    "start_time": "2021-11-24T15:49:38.510Z"
   },
   {
    "duration": 12,
    "start_time": "2021-11-24T15:49:42.034Z"
   },
   {
    "duration": 7,
    "start_time": "2021-11-24T15:57:13.864Z"
   },
   {
    "duration": 6,
    "start_time": "2021-11-24T15:57:34.978Z"
   },
   {
    "duration": 3,
    "start_time": "2021-11-24T15:59:09.908Z"
   },
   {
    "duration": 3,
    "start_time": "2021-11-24T16:01:05.256Z"
   },
   {
    "duration": 3,
    "start_time": "2021-11-24T16:01:12.930Z"
   },
   {
    "duration": 22,
    "start_time": "2021-11-24T16:13:18.885Z"
   },
   {
    "duration": 355,
    "start_time": "2021-11-24T16:18:19.222Z"
   },
   {
    "duration": 1665,
    "start_time": "2021-11-24T16:19:11.351Z"
   },
   {
    "duration": 1874,
    "start_time": "2021-11-24T16:19:42.755Z"
   },
   {
    "duration": 1145,
    "start_time": "2021-11-24T20:08:44.145Z"
   },
   {
    "duration": 182,
    "start_time": "2021-11-24T20:08:45.292Z"
   },
   {
    "duration": 3,
    "start_time": "2021-11-24T20:08:45.476Z"
   },
   {
    "duration": 7,
    "start_time": "2021-11-24T20:08:45.481Z"
   },
   {
    "duration": 9,
    "start_time": "2021-11-24T20:08:45.490Z"
   },
   {
    "duration": 12,
    "start_time": "2021-11-24T20:08:45.500Z"
   },
   {
    "duration": 364,
    "start_time": "2021-11-24T20:08:45.514Z"
   },
   {
    "duration": 417,
    "start_time": "2021-11-24T20:08:45.881Z"
   },
   {
    "duration": 13,
    "start_time": "2021-11-24T20:08:46.301Z"
   },
   {
    "duration": 283,
    "start_time": "2021-11-24T20:08:46.316Z"
   },
   {
    "duration": 17,
    "start_time": "2021-11-24T20:08:46.601Z"
   },
   {
    "duration": 13,
    "start_time": "2021-11-24T20:08:46.620Z"
   },
   {
    "duration": 19,
    "start_time": "2021-11-24T20:08:46.634Z"
   },
   {
    "duration": 2219,
    "start_time": "2021-11-24T20:08:46.655Z"
   },
   {
    "duration": 56,
    "start_time": "2021-11-24T20:08:48.875Z"
   },
   {
    "duration": 241,
    "start_time": "2021-11-24T20:08:48.932Z"
   },
   {
    "duration": 224,
    "start_time": "2021-11-24T20:08:49.175Z"
   },
   {
    "duration": 17,
    "start_time": "2021-11-24T20:08:49.401Z"
   },
   {
    "duration": 299,
    "start_time": "2021-11-24T20:08:49.420Z"
   },
   {
    "duration": 6,
    "start_time": "2021-11-24T20:08:49.720Z"
   },
   {
    "duration": 10,
    "start_time": "2021-11-24T20:08:49.728Z"
   },
   {
    "duration": 261,
    "start_time": "2021-11-24T20:08:49.739Z"
   },
   {
    "duration": 7,
    "start_time": "2021-11-24T20:08:50.008Z"
   },
   {
    "duration": 32,
    "start_time": "2021-11-24T20:08:50.018Z"
   },
   {
    "duration": 38,
    "start_time": "2021-11-24T20:08:50.051Z"
   },
   {
    "duration": 24,
    "start_time": "2021-11-24T20:08:50.090Z"
   },
   {
    "duration": 29,
    "start_time": "2021-11-24T20:08:50.115Z"
   },
   {
    "duration": 1028,
    "start_time": "2021-11-24T20:08:50.146Z"
   },
   {
    "duration": 7,
    "start_time": "2021-11-24T20:08:51.176Z"
   },
   {
    "duration": 31,
    "start_time": "2021-11-24T20:08:51.184Z"
   },
   {
    "duration": 8,
    "start_time": "2021-11-24T20:08:51.217Z"
   },
   {
    "duration": 8,
    "start_time": "2021-11-24T20:08:51.227Z"
   },
   {
    "duration": 291,
    "start_time": "2021-11-24T20:08:51.237Z"
   },
   {
    "duration": 10,
    "start_time": "2021-11-24T20:08:51.530Z"
   },
   {
    "duration": 26,
    "start_time": "2021-11-24T20:08:51.542Z"
   },
   {
    "duration": 20,
    "start_time": "2021-11-24T20:08:51.570Z"
   },
   {
    "duration": 27,
    "start_time": "2021-11-24T20:08:51.592Z"
   },
   {
    "duration": 1174,
    "start_time": "2021-11-24T20:08:51.621Z"
   },
   {
    "duration": 41,
    "start_time": "2021-11-24T20:08:52.796Z"
   },
   {
    "duration": 13,
    "start_time": "2021-11-24T20:08:52.839Z"
   },
   {
    "duration": 24,
    "start_time": "2021-11-24T20:08:52.854Z"
   },
   {
    "duration": 55,
    "start_time": "2021-11-24T20:08:52.880Z"
   },
   {
    "duration": 11,
    "start_time": "2021-11-24T20:08:52.937Z"
   },
   {
    "duration": 60,
    "start_time": "2021-11-24T20:08:52.950Z"
   },
   {
    "duration": 13,
    "start_time": "2021-11-24T20:08:53.012Z"
   },
   {
    "duration": 31,
    "start_time": "2021-11-24T20:08:53.027Z"
   },
   {
    "duration": 440,
    "start_time": "2021-11-24T20:08:53.061Z"
   },
   {
    "duration": -240,
    "start_time": "2021-11-24T20:08:53.743Z"
   },
   {
    "duration": -246,
    "start_time": "2021-11-24T20:08:53.750Z"
   },
   {
    "duration": -264,
    "start_time": "2021-11-24T20:08:53.768Z"
   },
   {
    "duration": -277,
    "start_time": "2021-11-24T20:08:53.782Z"
   },
   {
    "duration": -293,
    "start_time": "2021-11-24T20:08:53.799Z"
   },
   {
    "duration": -305,
    "start_time": "2021-11-24T20:08:53.812Z"
   },
   {
    "duration": -311,
    "start_time": "2021-11-24T20:08:53.819Z"
   },
   {
    "duration": -325,
    "start_time": "2021-11-24T20:08:53.834Z"
   },
   {
    "duration": 1441,
    "start_time": "2021-11-24T20:11:15.043Z"
   },
   {
    "duration": 1421,
    "start_time": "2021-11-24T20:11:35.165Z"
   },
   {
    "duration": 332,
    "start_time": "2021-11-24T20:18:09.989Z"
   },
   {
    "duration": 383,
    "start_time": "2021-11-24T20:18:22.777Z"
   },
   {
    "duration": 1406,
    "start_time": "2021-11-24T20:22:39.741Z"
   },
   {
    "duration": 421,
    "start_time": "2021-11-24T20:24:26.695Z"
   },
   {
    "duration": 26,
    "start_time": "2021-11-24T20:25:55.088Z"
   },
   {
    "duration": 19,
    "start_time": "2021-11-24T20:28:00.897Z"
   },
   {
    "duration": 19,
    "start_time": "2021-11-24T20:29:48.155Z"
   },
   {
    "duration": 349,
    "start_time": "2021-11-24T20:31:16.007Z"
   },
   {
    "duration": 926,
    "start_time": "2021-11-24T20:31:56.544Z"
   },
   {
    "duration": 115,
    "start_time": "2021-11-24T20:33:00.640Z"
   },
   {
    "duration": 4,
    "start_time": "2021-11-24T20:34:43.178Z"
   },
   {
    "duration": 4,
    "start_time": "2021-11-24T20:37:13.977Z"
   },
   {
    "duration": 350,
    "start_time": "2021-11-24T20:37:31.959Z"
   },
   {
    "duration": 337,
    "start_time": "2021-11-24T20:38:07.450Z"
   },
   {
    "duration": 4,
    "start_time": "2021-11-24T20:39:20.789Z"
   },
   {
    "duration": 1174,
    "start_time": "2021-11-24T20:43:27.788Z"
   },
   {
    "duration": 226,
    "start_time": "2021-11-24T20:43:28.964Z"
   },
   {
    "duration": 3,
    "start_time": "2021-11-24T20:43:29.193Z"
   },
   {
    "duration": 14,
    "start_time": "2021-11-24T20:43:29.198Z"
   },
   {
    "duration": 15,
    "start_time": "2021-11-24T20:43:29.214Z"
   },
   {
    "duration": 23,
    "start_time": "2021-11-24T20:43:29.231Z"
   },
   {
    "duration": 298,
    "start_time": "2021-11-24T20:43:29.256Z"
   },
   {
    "duration": 295,
    "start_time": "2021-11-24T20:43:29.557Z"
   },
   {
    "duration": 9,
    "start_time": "2021-11-24T20:43:29.854Z"
   },
   {
    "duration": 298,
    "start_time": "2021-11-24T20:43:29.865Z"
   },
   {
    "duration": 13,
    "start_time": "2021-11-24T20:43:30.164Z"
   },
   {
    "duration": 42,
    "start_time": "2021-11-24T20:43:30.179Z"
   },
   {
    "duration": 32,
    "start_time": "2021-11-24T20:43:30.223Z"
   },
   {
    "duration": 1997,
    "start_time": "2021-11-24T20:43:30.257Z"
   },
   {
    "duration": 55,
    "start_time": "2021-11-24T20:43:32.256Z"
   },
   {
    "duration": 235,
    "start_time": "2021-11-24T20:43:32.313Z"
   },
   {
    "duration": 229,
    "start_time": "2021-11-24T20:43:32.550Z"
   },
   {
    "duration": 14,
    "start_time": "2021-11-24T20:43:32.781Z"
   },
   {
    "duration": 294,
    "start_time": "2021-11-24T20:43:32.796Z"
   },
   {
    "duration": 14,
    "start_time": "2021-11-24T20:43:33.092Z"
   },
   {
    "duration": 7,
    "start_time": "2021-11-24T20:43:33.108Z"
   },
   {
    "duration": 255,
    "start_time": "2021-11-24T20:43:33.116Z"
   },
   {
    "duration": 8,
    "start_time": "2021-11-24T20:43:33.375Z"
   },
   {
    "duration": 22,
    "start_time": "2021-11-24T20:43:33.385Z"
   },
   {
    "duration": 7,
    "start_time": "2021-11-24T20:43:33.409Z"
   },
   {
    "duration": 8,
    "start_time": "2021-11-24T20:43:33.418Z"
   },
   {
    "duration": 21,
    "start_time": "2021-11-24T20:43:33.428Z"
   },
   {
    "duration": 1057,
    "start_time": "2021-11-24T20:43:33.451Z"
   },
   {
    "duration": 6,
    "start_time": "2021-11-24T20:43:34.510Z"
   },
   {
    "duration": 17,
    "start_time": "2021-11-24T20:43:34.518Z"
   },
   {
    "duration": 7,
    "start_time": "2021-11-24T20:43:34.537Z"
   },
   {
    "duration": 8,
    "start_time": "2021-11-24T20:43:34.546Z"
   },
   {
    "duration": 294,
    "start_time": "2021-11-24T20:43:34.555Z"
   },
   {
    "duration": 11,
    "start_time": "2021-11-24T20:43:34.851Z"
   },
   {
    "duration": 16,
    "start_time": "2021-11-24T20:43:34.864Z"
   },
   {
    "duration": 26,
    "start_time": "2021-11-24T20:43:34.882Z"
   },
   {
    "duration": 14,
    "start_time": "2021-11-24T20:43:34.910Z"
   },
   {
    "duration": 1459,
    "start_time": "2021-11-24T20:43:34.926Z"
   },
   {
    "duration": 47,
    "start_time": "2021-11-24T20:43:36.387Z"
   },
   {
    "duration": 6,
    "start_time": "2021-11-24T20:43:36.436Z"
   },
   {
    "duration": 7,
    "start_time": "2021-11-24T20:43:36.445Z"
   },
   {
    "duration": 59,
    "start_time": "2021-11-24T20:43:36.454Z"
   },
   {
    "duration": 11,
    "start_time": "2021-11-24T20:43:36.515Z"
   },
   {
    "duration": 49,
    "start_time": "2021-11-24T20:43:36.528Z"
   },
   {
    "duration": 34,
    "start_time": "2021-11-24T20:43:36.579Z"
   },
   {
    "duration": 27,
    "start_time": "2021-11-24T20:43:36.615Z"
   },
   {
    "duration": 1497,
    "start_time": "2021-11-24T20:43:36.644Z"
   },
   {
    "duration": 22,
    "start_time": "2021-11-24T20:43:38.143Z"
   },
   {
    "duration": 21,
    "start_time": "2021-11-24T20:43:38.166Z"
   },
   {
    "duration": 925,
    "start_time": "2021-11-24T20:43:38.188Z"
   },
   {
    "duration": 4,
    "start_time": "2021-11-24T20:43:39.116Z"
   },
   {
    "duration": 15,
    "start_time": "2021-11-24T20:43:39.122Z"
   },
   {
    "duration": 33,
    "start_time": "2021-11-24T20:43:39.139Z"
   },
   {
    "duration": 145,
    "start_time": "2021-11-24T20:43:39.174Z"
   },
   {
    "duration": 12,
    "start_time": "2021-11-24T20:43:39.321Z"
   },
   {
    "duration": 19,
    "start_time": "2021-11-24T20:43:39.335Z"
   },
   {
    "duration": 19,
    "start_time": "2021-11-24T20:43:39.356Z"
   },
   {
    "duration": 19,
    "start_time": "2021-11-24T20:43:39.377Z"
   },
   {
    "duration": 23,
    "start_time": "2021-11-24T20:43:39.398Z"
   },
   {
    "duration": 40,
    "start_time": "2021-11-24T20:43:39.423Z"
   },
   {
    "duration": 1207,
    "start_time": "2021-11-24T20:45:35.686Z"
   },
   {
    "duration": 200,
    "start_time": "2021-11-24T20:45:36.895Z"
   },
   {
    "duration": 3,
    "start_time": "2021-11-24T20:45:37.097Z"
   },
   {
    "duration": 18,
    "start_time": "2021-11-24T20:45:37.101Z"
   },
   {
    "duration": 32,
    "start_time": "2021-11-24T20:45:37.121Z"
   },
   {
    "duration": 52,
    "start_time": "2021-11-24T20:45:37.154Z"
   },
   {
    "duration": 323,
    "start_time": "2021-11-24T20:45:37.208Z"
   },
   {
    "duration": 288,
    "start_time": "2021-11-24T20:45:37.534Z"
   },
   {
    "duration": 10,
    "start_time": "2021-11-24T20:45:37.824Z"
   },
   {
    "duration": 290,
    "start_time": "2021-11-24T20:45:37.836Z"
   },
   {
    "duration": 13,
    "start_time": "2021-11-24T20:45:38.128Z"
   },
   {
    "duration": 14,
    "start_time": "2021-11-24T20:45:38.143Z"
   },
   {
    "duration": 28,
    "start_time": "2021-11-24T20:45:38.158Z"
   },
   {
    "duration": 2269,
    "start_time": "2021-11-24T20:45:38.187Z"
   },
   {
    "duration": 55,
    "start_time": "2021-11-24T20:45:40.458Z"
   },
   {
    "duration": 237,
    "start_time": "2021-11-24T20:45:40.515Z"
   },
   {
    "duration": 224,
    "start_time": "2021-11-24T20:45:40.754Z"
   },
   {
    "duration": 14,
    "start_time": "2021-11-24T20:45:40.980Z"
   },
   {
    "duration": 294,
    "start_time": "2021-11-24T20:45:41.007Z"
   },
   {
    "duration": 6,
    "start_time": "2021-11-24T20:45:41.306Z"
   },
   {
    "duration": 16,
    "start_time": "2021-11-24T20:45:41.313Z"
   },
   {
    "duration": 265,
    "start_time": "2021-11-24T20:45:41.330Z"
   },
   {
    "duration": 13,
    "start_time": "2021-11-24T20:45:41.599Z"
   },
   {
    "duration": 11,
    "start_time": "2021-11-24T20:45:41.614Z"
   },
   {
    "duration": 10,
    "start_time": "2021-11-24T20:45:41.627Z"
   },
   {
    "duration": 7,
    "start_time": "2021-11-24T20:45:41.638Z"
   },
   {
    "duration": 8,
    "start_time": "2021-11-24T20:45:41.647Z"
   },
   {
    "duration": 1072,
    "start_time": "2021-11-24T20:45:41.656Z"
   },
   {
    "duration": 7,
    "start_time": "2021-11-24T20:45:42.730Z"
   },
   {
    "duration": 25,
    "start_time": "2021-11-24T20:45:42.739Z"
   },
   {
    "duration": 17,
    "start_time": "2021-11-24T20:45:42.766Z"
   },
   {
    "duration": 14,
    "start_time": "2021-11-24T20:45:42.784Z"
   },
   {
    "duration": 276,
    "start_time": "2021-11-24T20:45:42.800Z"
   },
   {
    "duration": 10,
    "start_time": "2021-11-24T20:45:43.078Z"
   },
   {
    "duration": 26,
    "start_time": "2021-11-24T20:45:43.090Z"
   },
   {
    "duration": 13,
    "start_time": "2021-11-24T20:45:43.117Z"
   },
   {
    "duration": 23,
    "start_time": "2021-11-24T20:45:43.131Z"
   },
   {
    "duration": 1201,
    "start_time": "2021-11-24T20:45:43.155Z"
   },
   {
    "duration": 33,
    "start_time": "2021-11-24T20:45:44.358Z"
   },
   {
    "duration": 18,
    "start_time": "2021-11-24T20:45:44.393Z"
   },
   {
    "duration": 8,
    "start_time": "2021-11-24T20:45:44.412Z"
   },
   {
    "duration": 34,
    "start_time": "2021-11-24T20:45:44.422Z"
   },
   {
    "duration": 11,
    "start_time": "2021-11-24T20:45:44.458Z"
   },
   {
    "duration": 73,
    "start_time": "2021-11-24T20:45:44.470Z"
   },
   {
    "duration": 12,
    "start_time": "2021-11-24T20:45:44.545Z"
   },
   {
    "duration": 20,
    "start_time": "2021-11-24T20:45:44.559Z"
   },
   {
    "duration": 1875,
    "start_time": "2021-11-24T20:45:44.580Z"
   },
   {
    "duration": 23,
    "start_time": "2021-11-24T20:45:46.457Z"
   },
   {
    "duration": 30,
    "start_time": "2021-11-24T20:45:46.482Z"
   },
   {
    "duration": 1003,
    "start_time": "2021-11-24T20:45:46.514Z"
   },
   {
    "duration": 4,
    "start_time": "2021-11-24T20:45:47.519Z"
   },
   {
    "duration": 8,
    "start_time": "2021-11-24T20:45:47.525Z"
   },
   {
    "duration": 33,
    "start_time": "2021-11-24T20:45:47.535Z"
   },
   {
    "duration": 162,
    "start_time": "2021-11-24T20:45:47.570Z"
   },
   {
    "duration": 13,
    "start_time": "2021-11-24T20:45:47.734Z"
   },
   {
    "duration": 505,
    "start_time": "2021-11-24T20:45:47.749Z"
   },
   {
    "duration": -70,
    "start_time": "2021-11-24T20:45:48.327Z"
   },
   {
    "duration": -120,
    "start_time": "2021-11-24T20:45:48.378Z"
   },
   {
    "duration": -125,
    "start_time": "2021-11-24T20:45:48.385Z"
   },
   {
    "duration": -132,
    "start_time": "2021-11-24T20:45:48.393Z"
   },
   {
    "duration": 336,
    "start_time": "2021-11-24T20:46:10.392Z"
   },
   {
    "duration": 25,
    "start_time": "2021-11-24T20:48:50.968Z"
   },
   {
    "duration": 19,
    "start_time": "2021-11-24T20:50:02.969Z"
   },
   {
    "duration": 7,
    "start_time": "2021-11-24T20:50:05.108Z"
   },
   {
    "duration": 8,
    "start_time": "2021-11-24T20:50:07.774Z"
   },
   {
    "duration": 16,
    "start_time": "2021-11-24T20:50:19.521Z"
   },
   {
    "duration": 14,
    "start_time": "2021-11-24T20:52:35.058Z"
   },
   {
    "duration": 34,
    "start_time": "2021-11-24T20:54:17.550Z"
   },
   {
    "duration": 34,
    "start_time": "2021-11-24T20:55:22.337Z"
   },
   {
    "duration": 1215,
    "start_time": "2021-11-24T21:11:11.551Z"
   },
   {
    "duration": 190,
    "start_time": "2021-11-24T21:11:12.768Z"
   },
   {
    "duration": 3,
    "start_time": "2021-11-24T21:11:12.960Z"
   },
   {
    "duration": 20,
    "start_time": "2021-11-24T21:11:12.965Z"
   },
   {
    "duration": 21,
    "start_time": "2021-11-24T21:11:12.986Z"
   },
   {
    "duration": 22,
    "start_time": "2021-11-24T21:11:13.009Z"
   },
   {
    "duration": 293,
    "start_time": "2021-11-24T21:11:13.033Z"
   },
   {
    "duration": 281,
    "start_time": "2021-11-24T21:11:13.328Z"
   },
   {
    "duration": 9,
    "start_time": "2021-11-24T21:11:13.611Z"
   },
   {
    "duration": 300,
    "start_time": "2021-11-24T21:11:13.622Z"
   },
   {
    "duration": 15,
    "start_time": "2021-11-24T21:11:13.924Z"
   },
   {
    "duration": 35,
    "start_time": "2021-11-24T21:11:13.940Z"
   },
   {
    "duration": 28,
    "start_time": "2021-11-24T21:11:13.977Z"
   },
   {
    "duration": 2111,
    "start_time": "2021-11-24T21:11:14.007Z"
   },
   {
    "duration": 49,
    "start_time": "2021-11-24T21:11:16.120Z"
   },
   {
    "duration": 247,
    "start_time": "2021-11-24T21:11:16.171Z"
   },
   {
    "duration": 236,
    "start_time": "2021-11-24T21:11:16.420Z"
   },
   {
    "duration": 13,
    "start_time": "2021-11-24T21:11:16.657Z"
   },
   {
    "duration": 293,
    "start_time": "2021-11-24T21:11:16.672Z"
   },
   {
    "duration": 5,
    "start_time": "2021-11-24T21:11:16.967Z"
   },
   {
    "duration": 34,
    "start_time": "2021-11-24T21:11:16.974Z"
   },
   {
    "duration": 266,
    "start_time": "2021-11-24T21:11:17.010Z"
   },
   {
    "duration": 9,
    "start_time": "2021-11-24T21:11:17.280Z"
   },
   {
    "duration": 31,
    "start_time": "2021-11-24T21:11:17.291Z"
   },
   {
    "duration": 30,
    "start_time": "2021-11-24T21:11:17.324Z"
   },
   {
    "duration": 25,
    "start_time": "2021-11-24T21:11:17.356Z"
   },
   {
    "duration": 28,
    "start_time": "2021-11-24T21:11:17.383Z"
   },
   {
    "duration": 1038,
    "start_time": "2021-11-24T21:11:17.412Z"
   },
   {
    "duration": 7,
    "start_time": "2021-11-24T21:11:18.452Z"
   },
   {
    "duration": 40,
    "start_time": "2021-11-24T21:11:18.461Z"
   },
   {
    "duration": 18,
    "start_time": "2021-11-24T21:11:18.502Z"
   },
   {
    "duration": 29,
    "start_time": "2021-11-24T21:11:18.521Z"
   },
   {
    "duration": 269,
    "start_time": "2021-11-24T21:11:18.552Z"
   },
   {
    "duration": 10,
    "start_time": "2021-11-24T21:11:18.823Z"
   },
   {
    "duration": 14,
    "start_time": "2021-11-24T21:11:18.835Z"
   },
   {
    "duration": 9,
    "start_time": "2021-11-24T21:11:18.851Z"
   },
   {
    "duration": 16,
    "start_time": "2021-11-24T21:11:18.862Z"
   },
   {
    "duration": 1221,
    "start_time": "2021-11-24T21:11:18.879Z"
   },
   {
    "duration": 34,
    "start_time": "2021-11-24T21:11:20.107Z"
   },
   {
    "duration": 6,
    "start_time": "2021-11-24T21:11:20.143Z"
   },
   {
    "duration": 13,
    "start_time": "2021-11-24T21:11:20.150Z"
   },
   {
    "duration": 53,
    "start_time": "2021-11-24T21:11:20.165Z"
   },
   {
    "duration": 11,
    "start_time": "2021-11-24T21:11:20.220Z"
   },
   {
    "duration": 48,
    "start_time": "2021-11-24T21:11:20.233Z"
   },
   {
    "duration": 29,
    "start_time": "2021-11-24T21:11:20.283Z"
   },
   {
    "duration": 22,
    "start_time": "2021-11-24T21:11:20.314Z"
   },
   {
    "duration": 1594,
    "start_time": "2021-11-24T21:11:20.337Z"
   },
   {
    "duration": 23,
    "start_time": "2021-11-24T21:11:21.933Z"
   },
   {
    "duration": 18,
    "start_time": "2021-11-24T21:11:21.958Z"
   },
   {
    "duration": 1016,
    "start_time": "2021-11-24T21:11:21.978Z"
   },
   {
    "duration": 12,
    "start_time": "2021-11-24T21:11:22.996Z"
   },
   {
    "duration": 5,
    "start_time": "2021-11-24T21:11:23.010Z"
   },
   {
    "duration": 23,
    "start_time": "2021-11-24T21:11:23.016Z"
   },
   {
    "duration": 132,
    "start_time": "2021-11-24T21:11:23.040Z"
   },
   {
    "duration": 11,
    "start_time": "2021-11-24T21:11:23.174Z"
   },
   {
    "duration": 33,
    "start_time": "2021-11-24T21:11:23.188Z"
   },
   {
    "duration": 6,
    "start_time": "2021-11-24T21:11:23.224Z"
   },
   {
    "duration": 11,
    "start_time": "2021-11-24T21:11:23.232Z"
   },
   {
    "duration": 16,
    "start_time": "2021-11-24T21:11:23.245Z"
   },
   {
    "duration": 14,
    "start_time": "2021-11-24T21:11:23.262Z"
   },
   {
    "duration": 10886,
    "start_time": "2021-11-24T21:11:23.277Z"
   },
   {
    "duration": 9450,
    "start_time": "2021-11-24T21:11:34.165Z"
   },
   {
    "duration": -193,
    "start_time": "2021-11-24T21:11:43.810Z"
   },
   {
    "duration": -198,
    "start_time": "2021-11-24T21:11:43.816Z"
   },
   {
    "duration": 6628,
    "start_time": "2021-11-24T21:12:05.209Z"
   },
   {
    "duration": 33,
    "start_time": "2021-11-24T21:12:14.351Z"
   },
   {
    "duration": 1107,
    "start_time": "2021-11-24T21:16:41.327Z"
   },
   {
    "duration": 191,
    "start_time": "2021-11-24T21:16:42.436Z"
   },
   {
    "duration": 2,
    "start_time": "2021-11-24T21:16:42.630Z"
   },
   {
    "duration": 7,
    "start_time": "2021-11-24T21:16:42.635Z"
   },
   {
    "duration": 10,
    "start_time": "2021-11-24T21:16:42.643Z"
   },
   {
    "duration": 13,
    "start_time": "2021-11-24T21:16:42.655Z"
   },
   {
    "duration": 296,
    "start_time": "2021-11-24T21:16:42.669Z"
   },
   {
    "duration": 285,
    "start_time": "2021-11-24T21:16:42.968Z"
   },
   {
    "duration": 10,
    "start_time": "2021-11-24T21:16:43.255Z"
   },
   {
    "duration": 302,
    "start_time": "2021-11-24T21:16:43.266Z"
   },
   {
    "duration": 14,
    "start_time": "2021-11-24T21:16:43.569Z"
   },
   {
    "duration": 29,
    "start_time": "2021-11-24T21:16:43.584Z"
   },
   {
    "duration": 16,
    "start_time": "2021-11-24T21:16:43.615Z"
   },
   {
    "duration": 1983,
    "start_time": "2021-11-24T21:16:43.633Z"
   },
   {
    "duration": 46,
    "start_time": "2021-11-24T21:16:45.618Z"
   },
   {
    "duration": 251,
    "start_time": "2021-11-24T21:16:45.666Z"
   },
   {
    "duration": 277,
    "start_time": "2021-11-24T21:16:45.919Z"
   },
   {
    "duration": 24,
    "start_time": "2021-11-24T21:16:46.198Z"
   },
   {
    "duration": 321,
    "start_time": "2021-11-24T21:16:46.224Z"
   },
   {
    "duration": 5,
    "start_time": "2021-11-24T21:16:46.547Z"
   },
   {
    "duration": 25,
    "start_time": "2021-11-24T21:16:46.554Z"
   },
   {
    "duration": 269,
    "start_time": "2021-11-24T21:16:46.581Z"
   },
   {
    "duration": 7,
    "start_time": "2021-11-24T21:16:46.853Z"
   },
   {
    "duration": 21,
    "start_time": "2021-11-24T21:16:46.863Z"
   },
   {
    "duration": 8,
    "start_time": "2021-11-24T21:16:46.886Z"
   },
   {
    "duration": 12,
    "start_time": "2021-11-24T21:16:46.895Z"
   },
   {
    "duration": 7,
    "start_time": "2021-11-24T21:16:46.909Z"
   },
   {
    "duration": 1061,
    "start_time": "2021-11-24T21:16:46.917Z"
   },
   {
    "duration": 7,
    "start_time": "2021-11-24T21:16:47.980Z"
   },
   {
    "duration": 29,
    "start_time": "2021-11-24T21:16:47.988Z"
   },
   {
    "duration": 8,
    "start_time": "2021-11-24T21:16:48.019Z"
   },
   {
    "duration": 10,
    "start_time": "2021-11-24T21:16:48.029Z"
   },
   {
    "duration": 285,
    "start_time": "2021-11-24T21:16:48.041Z"
   },
   {
    "duration": 11,
    "start_time": "2021-11-24T21:16:48.328Z"
   },
   {
    "duration": 14,
    "start_time": "2021-11-24T21:16:48.341Z"
   },
   {
    "duration": 10,
    "start_time": "2021-11-24T21:16:48.357Z"
   },
   {
    "duration": 39,
    "start_time": "2021-11-24T21:16:48.369Z"
   },
   {
    "duration": 1296,
    "start_time": "2021-11-24T21:16:48.410Z"
   },
   {
    "duration": 34,
    "start_time": "2021-11-24T21:16:49.707Z"
   },
   {
    "duration": 6,
    "start_time": "2021-11-24T21:16:49.742Z"
   },
   {
    "duration": 6,
    "start_time": "2021-11-24T21:16:49.750Z"
   },
   {
    "duration": 36,
    "start_time": "2021-11-24T21:16:49.757Z"
   },
   {
    "duration": 12,
    "start_time": "2021-11-24T21:16:49.794Z"
   },
   {
    "duration": 49,
    "start_time": "2021-11-24T21:16:49.808Z"
   },
   {
    "duration": 12,
    "start_time": "2021-11-24T21:16:49.858Z"
   },
   {
    "duration": 22,
    "start_time": "2021-11-24T21:16:49.875Z"
   },
   {
    "duration": 1904,
    "start_time": "2021-11-24T21:16:49.898Z"
   },
   {
    "duration": 22,
    "start_time": "2021-11-24T21:16:51.804Z"
   },
   {
    "duration": 19,
    "start_time": "2021-11-24T21:16:51.827Z"
   },
   {
    "duration": 980,
    "start_time": "2021-11-24T21:16:51.848Z"
   },
   {
    "duration": 3,
    "start_time": "2021-11-24T21:16:52.830Z"
   },
   {
    "duration": 17,
    "start_time": "2021-11-24T21:16:52.835Z"
   },
   {
    "duration": 49,
    "start_time": "2021-11-24T21:16:52.854Z"
   },
   {
    "duration": 121,
    "start_time": "2021-11-24T21:16:52.906Z"
   },
   {
    "duration": 11,
    "start_time": "2021-11-24T21:16:53.029Z"
   },
   {
    "duration": 28,
    "start_time": "2021-11-24T21:16:53.042Z"
   },
   {
    "duration": 8,
    "start_time": "2021-11-24T21:16:53.072Z"
   },
   {
    "duration": 29,
    "start_time": "2021-11-24T21:16:53.081Z"
   },
   {
    "duration": 21,
    "start_time": "2021-11-24T21:16:53.112Z"
   },
   {
    "duration": 19,
    "start_time": "2021-11-24T21:16:53.135Z"
   },
   {
    "duration": 51,
    "start_time": "2021-11-24T21:16:53.156Z"
   },
   {
    "duration": 13,
    "start_time": "2021-11-24T21:16:53.209Z"
   },
   {
    "duration": 26,
    "start_time": "2021-11-24T21:16:53.224Z"
   },
   {
    "duration": 9031,
    "start_time": "2021-11-24T21:16:53.252Z"
   },
   {
    "duration": -229,
    "start_time": "2021-11-24T21:17:02.514Z"
   },
   {
    "duration": -234,
    "start_time": "2021-11-24T21:17:02.520Z"
   },
   {
    "duration": 6069,
    "start_time": "2021-11-24T21:18:01.937Z"
   },
   {
    "duration": 11231,
    "start_time": "2021-11-24T21:18:11.570Z"
   },
   {
    "duration": 20,
    "start_time": "2021-11-24T21:18:27.423Z"
   },
   {
    "duration": 9,
    "start_time": "2021-11-24T21:19:20.493Z"
   },
   {
    "duration": 25,
    "start_time": "2021-11-24T21:19:42.475Z"
   },
   {
    "duration": 110,
    "start_time": "2021-11-24T21:23:01.699Z"
   },
   {
    "duration": 9,
    "start_time": "2021-11-24T21:23:07.234Z"
   },
   {
    "duration": 21,
    "start_time": "2021-11-24T21:23:09.536Z"
   },
   {
    "duration": 13,
    "start_time": "2021-11-24T21:23:33.616Z"
   },
   {
    "duration": 20,
    "start_time": "2021-11-24T21:24:02.620Z"
   },
   {
    "duration": 5,
    "start_time": "2021-11-24T21:28:51.813Z"
   },
   {
    "duration": 10,
    "start_time": "2021-11-24T21:28:53.860Z"
   },
   {
    "duration": 8,
    "start_time": "2021-11-24T21:28:55.889Z"
   },
   {
    "duration": 5,
    "start_time": "2021-11-24T21:29:00.915Z"
   },
   {
    "duration": 4,
    "start_time": "2021-11-24T21:39:12.081Z"
   },
   {
    "duration": 18,
    "start_time": "2021-11-24T21:39:45.236Z"
   },
   {
    "duration": 1201,
    "start_time": "2021-11-24T21:40:17.390Z"
   },
   {
    "duration": 227,
    "start_time": "2021-11-24T21:40:18.593Z"
   },
   {
    "duration": 3,
    "start_time": "2021-11-24T21:40:18.822Z"
   },
   {
    "duration": 8,
    "start_time": "2021-11-24T21:40:18.827Z"
   },
   {
    "duration": 10,
    "start_time": "2021-11-24T21:40:18.836Z"
   },
   {
    "duration": 12,
    "start_time": "2021-11-24T21:40:18.847Z"
   },
   {
    "duration": 307,
    "start_time": "2021-11-24T21:40:18.860Z"
   },
   {
    "duration": 296,
    "start_time": "2021-11-24T21:40:19.170Z"
   },
   {
    "duration": 10,
    "start_time": "2021-11-24T21:40:19.469Z"
   },
   {
    "duration": 291,
    "start_time": "2021-11-24T21:40:19.480Z"
   },
   {
    "duration": 14,
    "start_time": "2021-11-24T21:40:19.772Z"
   },
   {
    "duration": 25,
    "start_time": "2021-11-24T21:40:19.788Z"
   },
   {
    "duration": 26,
    "start_time": "2021-11-24T21:40:19.815Z"
   },
   {
    "duration": 2098,
    "start_time": "2021-11-24T21:40:19.843Z"
   },
   {
    "duration": 48,
    "start_time": "2021-11-24T21:40:21.943Z"
   },
   {
    "duration": 236,
    "start_time": "2021-11-24T21:40:22.007Z"
   },
   {
    "duration": 241,
    "start_time": "2021-11-24T21:40:22.245Z"
   },
   {
    "duration": 24,
    "start_time": "2021-11-24T21:40:22.488Z"
   },
   {
    "duration": 332,
    "start_time": "2021-11-24T21:40:22.514Z"
   },
   {
    "duration": 6,
    "start_time": "2021-11-24T21:40:22.847Z"
   },
   {
    "duration": 8,
    "start_time": "2021-11-24T21:40:22.855Z"
   },
   {
    "duration": 317,
    "start_time": "2021-11-24T21:40:22.865Z"
   },
   {
    "duration": 7,
    "start_time": "2021-11-24T21:40:23.186Z"
   },
   {
    "duration": 11,
    "start_time": "2021-11-24T21:40:23.208Z"
   },
   {
    "duration": 10,
    "start_time": "2021-11-24T21:40:23.222Z"
   },
   {
    "duration": 9,
    "start_time": "2021-11-24T21:40:23.234Z"
   },
   {
    "duration": 7,
    "start_time": "2021-11-24T21:40:23.245Z"
   },
   {
    "duration": 1166,
    "start_time": "2021-11-24T21:40:23.253Z"
   },
   {
    "duration": 7,
    "start_time": "2021-11-24T21:40:24.421Z"
   },
   {
    "duration": 16,
    "start_time": "2021-11-24T21:40:24.430Z"
   },
   {
    "duration": 10,
    "start_time": "2021-11-24T21:40:24.448Z"
   },
   {
    "duration": 10,
    "start_time": "2021-11-24T21:40:24.460Z"
   },
   {
    "duration": 322,
    "start_time": "2021-11-24T21:40:24.471Z"
   },
   {
    "duration": 23,
    "start_time": "2021-11-24T21:40:24.795Z"
   },
   {
    "duration": 13,
    "start_time": "2021-11-24T21:40:24.820Z"
   },
   {
    "duration": 10,
    "start_time": "2021-11-24T21:40:24.835Z"
   },
   {
    "duration": 13,
    "start_time": "2021-11-24T21:40:24.847Z"
   },
   {
    "duration": 1414,
    "start_time": "2021-11-24T21:40:24.862Z"
   },
   {
    "duration": 51,
    "start_time": "2021-11-24T21:40:26.278Z"
   },
   {
    "duration": 5,
    "start_time": "2021-11-24T21:40:26.330Z"
   },
   {
    "duration": 16,
    "start_time": "2021-11-24T21:40:26.337Z"
   },
   {
    "duration": 51,
    "start_time": "2021-11-24T21:40:26.355Z"
   },
   {
    "duration": 16,
    "start_time": "2021-11-24T21:40:26.408Z"
   },
   {
    "duration": 63,
    "start_time": "2021-11-24T21:40:26.426Z"
   },
   {
    "duration": 31,
    "start_time": "2021-11-24T21:40:26.491Z"
   },
   {
    "duration": 22,
    "start_time": "2021-11-24T21:40:26.524Z"
   },
   {
    "duration": 1605,
    "start_time": "2021-11-24T21:40:26.548Z"
   },
   {
    "duration": 23,
    "start_time": "2021-11-24T21:40:28.155Z"
   },
   {
    "duration": 31,
    "start_time": "2021-11-24T21:40:28.180Z"
   },
   {
    "duration": 984,
    "start_time": "2021-11-24T21:40:28.212Z"
   },
   {
    "duration": 10,
    "start_time": "2021-11-24T21:40:29.198Z"
   },
   {
    "duration": 12,
    "start_time": "2021-11-24T21:40:29.211Z"
   },
   {
    "duration": 23,
    "start_time": "2021-11-24T21:40:29.225Z"
   },
   {
    "duration": 133,
    "start_time": "2021-11-24T21:40:29.249Z"
   },
   {
    "duration": 11,
    "start_time": "2021-11-24T21:40:29.384Z"
   },
   {
    "duration": 39,
    "start_time": "2021-11-24T21:40:29.397Z"
   },
   {
    "duration": 11,
    "start_time": "2021-11-24T21:40:29.437Z"
   },
   {
    "duration": 18,
    "start_time": "2021-11-24T21:40:29.449Z"
   },
   {
    "duration": 29,
    "start_time": "2021-11-24T21:40:29.468Z"
   },
   {
    "duration": 14,
    "start_time": "2021-11-24T21:40:29.499Z"
   },
   {
    "duration": 43,
    "start_time": "2021-11-24T21:40:29.515Z"
   },
   {
    "duration": 12,
    "start_time": "2021-11-24T21:40:29.559Z"
   },
   {
    "duration": 9,
    "start_time": "2021-11-24T21:40:29.572Z"
   },
   {
    "duration": 31,
    "start_time": "2021-11-24T21:40:29.583Z"
   },
   {
    "duration": 21,
    "start_time": "2021-11-24T21:40:29.616Z"
   },
   {
    "duration": 4,
    "start_time": "2021-11-24T21:40:29.638Z"
   },
   {
    "duration": 11,
    "start_time": "2021-11-24T21:40:29.644Z"
   },
   {
    "duration": 7,
    "start_time": "2021-11-24T21:40:29.660Z"
   },
   {
    "duration": 5,
    "start_time": "2021-11-24T21:40:29.669Z"
   },
   {
    "duration": 463,
    "start_time": "2021-11-24T21:40:29.675Z"
   },
   {
    "duration": 4,
    "start_time": "2021-11-24T21:42:00.378Z"
   },
   {
    "duration": 31,
    "start_time": "2021-11-24T21:44:52.601Z"
   },
   {
    "duration": 22,
    "start_time": "2021-11-24T21:48:50.326Z"
   },
   {
    "duration": 5,
    "start_time": "2021-11-24T21:58:19.993Z"
   },
   {
    "duration": 380,
    "start_time": "2021-11-24T21:58:34.623Z"
   },
   {
    "duration": 352,
    "start_time": "2021-11-24T21:59:34.290Z"
   },
   {
    "duration": 9,
    "start_time": "2021-11-24T22:00:08.176Z"
   },
   {
    "duration": 1224,
    "start_time": "2021-11-24T22:00:45.510Z"
   },
   {
    "duration": 194,
    "start_time": "2021-11-24T22:00:46.735Z"
   },
   {
    "duration": 3,
    "start_time": "2021-11-24T22:00:46.931Z"
   },
   {
    "duration": 14,
    "start_time": "2021-11-24T22:00:46.936Z"
   },
   {
    "duration": 10,
    "start_time": "2021-11-24T22:00:46.952Z"
   },
   {
    "duration": 12,
    "start_time": "2021-11-24T22:00:46.964Z"
   },
   {
    "duration": 301,
    "start_time": "2021-11-24T22:00:46.978Z"
   },
   {
    "duration": 375,
    "start_time": "2021-11-24T22:00:47.282Z"
   },
   {
    "duration": 9,
    "start_time": "2021-11-24T22:00:47.659Z"
   },
   {
    "duration": 295,
    "start_time": "2021-11-24T22:00:47.670Z"
   },
   {
    "duration": 15,
    "start_time": "2021-11-24T22:00:47.967Z"
   },
   {
    "duration": 30,
    "start_time": "2021-11-24T22:00:47.983Z"
   },
   {
    "duration": 23,
    "start_time": "2021-11-24T22:00:48.015Z"
   },
   {
    "duration": 1980,
    "start_time": "2021-11-24T22:00:48.040Z"
   },
   {
    "duration": 48,
    "start_time": "2021-11-24T22:00:50.021Z"
   },
   {
    "duration": 256,
    "start_time": "2021-11-24T22:00:50.071Z"
   },
   {
    "duration": 239,
    "start_time": "2021-11-24T22:00:50.329Z"
   },
   {
    "duration": 14,
    "start_time": "2021-11-24T22:00:50.569Z"
   },
   {
    "duration": 296,
    "start_time": "2021-11-24T22:00:50.585Z"
   },
   {
    "duration": 6,
    "start_time": "2021-11-24T22:00:50.883Z"
   },
   {
    "duration": 7,
    "start_time": "2021-11-24T22:00:50.906Z"
   },
   {
    "duration": 269,
    "start_time": "2021-11-24T22:00:50.915Z"
   },
   {
    "duration": 8,
    "start_time": "2021-11-24T22:00:51.188Z"
   },
   {
    "duration": 8,
    "start_time": "2021-11-24T22:00:51.207Z"
   },
   {
    "duration": 17,
    "start_time": "2021-11-24T22:00:51.216Z"
   },
   {
    "duration": 26,
    "start_time": "2021-11-24T22:00:51.234Z"
   },
   {
    "duration": 8,
    "start_time": "2021-11-24T22:00:51.262Z"
   },
   {
    "duration": 1014,
    "start_time": "2021-11-24T22:00:51.272Z"
   },
   {
    "duration": 7,
    "start_time": "2021-11-24T22:00:52.287Z"
   },
   {
    "duration": 52,
    "start_time": "2021-11-24T22:00:52.295Z"
   },
   {
    "duration": 31,
    "start_time": "2021-11-24T22:00:52.349Z"
   },
   {
    "duration": 24,
    "start_time": "2021-11-24T22:00:52.382Z"
   },
   {
    "duration": 282,
    "start_time": "2021-11-24T22:00:52.408Z"
   },
   {
    "duration": 15,
    "start_time": "2021-11-24T22:00:52.692Z"
   },
   {
    "duration": 23,
    "start_time": "2021-11-24T22:00:52.709Z"
   },
   {
    "duration": 11,
    "start_time": "2021-11-24T22:00:52.734Z"
   },
   {
    "duration": 19,
    "start_time": "2021-11-24T22:00:52.747Z"
   },
   {
    "duration": 1183,
    "start_time": "2021-11-24T22:00:52.768Z"
   },
   {
    "duration": 33,
    "start_time": "2021-11-24T22:00:53.953Z"
   },
   {
    "duration": 21,
    "start_time": "2021-11-24T22:00:53.988Z"
   },
   {
    "duration": 14,
    "start_time": "2021-11-24T22:00:54.011Z"
   },
   {
    "duration": 37,
    "start_time": "2021-11-24T22:00:54.027Z"
   },
   {
    "duration": 13,
    "start_time": "2021-11-24T22:00:54.066Z"
   },
   {
    "duration": 68,
    "start_time": "2021-11-24T22:00:54.081Z"
   },
   {
    "duration": 14,
    "start_time": "2021-11-24T22:00:54.151Z"
   },
   {
    "duration": 48,
    "start_time": "2021-11-24T22:00:54.167Z"
   },
   {
    "duration": 1464,
    "start_time": "2021-11-24T22:00:54.216Z"
   },
   {
    "duration": 27,
    "start_time": "2021-11-24T22:00:55.681Z"
   },
   {
    "duration": 35,
    "start_time": "2021-11-24T22:00:55.710Z"
   },
   {
    "duration": 890,
    "start_time": "2021-11-24T22:00:55.746Z"
   },
   {
    "duration": 3,
    "start_time": "2021-11-24T22:00:56.638Z"
   },
   {
    "duration": 23,
    "start_time": "2021-11-24T22:00:56.643Z"
   },
   {
    "duration": 25,
    "start_time": "2021-11-24T22:00:56.667Z"
   },
   {
    "duration": 118,
    "start_time": "2021-11-24T22:00:56.693Z"
   },
   {
    "duration": 11,
    "start_time": "2021-11-24T22:00:56.812Z"
   },
   {
    "duration": 36,
    "start_time": "2021-11-24T22:00:56.825Z"
   },
   {
    "duration": 11,
    "start_time": "2021-11-24T22:00:56.863Z"
   },
   {
    "duration": 11,
    "start_time": "2021-11-24T22:00:56.876Z"
   },
   {
    "duration": 31,
    "start_time": "2021-11-24T22:00:56.889Z"
   },
   {
    "duration": 13,
    "start_time": "2021-11-24T22:00:56.922Z"
   },
   {
    "duration": 38,
    "start_time": "2021-11-24T22:00:56.937Z"
   },
   {
    "duration": 28,
    "start_time": "2021-11-24T22:00:56.978Z"
   },
   {
    "duration": 10,
    "start_time": "2021-11-24T22:00:57.009Z"
   },
   {
    "duration": 10,
    "start_time": "2021-11-24T22:00:57.021Z"
   },
   {
    "duration": 22,
    "start_time": "2021-11-24T22:00:57.033Z"
   },
   {
    "duration": 4,
    "start_time": "2021-11-24T22:00:57.057Z"
   },
   {
    "duration": 44,
    "start_time": "2021-11-24T22:00:57.062Z"
   },
   {
    "duration": 8,
    "start_time": "2021-11-24T22:00:57.111Z"
   },
   {
    "duration": 21,
    "start_time": "2021-11-24T22:00:57.121Z"
   },
   {
    "duration": 20,
    "start_time": "2021-11-24T22:00:57.144Z"
   },
   {
    "duration": 53,
    "start_time": "2021-11-24T22:00:57.166Z"
   },
   {
    "duration": 3,
    "start_time": "2021-11-24T22:00:57.221Z"
   },
   {
    "duration": 23,
    "start_time": "2021-11-24T22:00:57.226Z"
   },
   {
    "duration": 439,
    "start_time": "2021-11-24T22:00:57.251Z"
   },
   {
    "duration": 332,
    "start_time": "2021-11-24T22:02:38.898Z"
   },
   {
    "duration": 3,
    "start_time": "2021-11-24T22:04:17.259Z"
   },
   {
    "duration": 403,
    "start_time": "2021-11-24T22:05:35.043Z"
   },
   {
    "duration": 3,
    "start_time": "2021-11-24T22:06:30.813Z"
   },
   {
    "duration": 110,
    "start_time": "2021-11-24T22:06:32.267Z"
   },
   {
    "duration": 4,
    "start_time": "2021-11-24T22:08:14.776Z"
   },
   {
    "duration": 4,
    "start_time": "2021-11-24T22:08:34.339Z"
   },
   {
    "duration": 334,
    "start_time": "2021-11-24T22:10:27.850Z"
   },
   {
    "duration": 63,
    "start_time": "2021-11-24T22:11:15.838Z"
   },
   {
    "duration": 6,
    "start_time": "2021-11-24T22:11:20.230Z"
   },
   {
    "duration": 4,
    "start_time": "2021-11-24T22:11:21.972Z"
   },
   {
    "duration": 463,
    "start_time": "2021-11-24T22:13:52.146Z"
   },
   {
    "duration": 3,
    "start_time": "2021-11-24T22:14:29.997Z"
   },
   {
    "duration": 14,
    "start_time": "2021-11-24T22:14:57.584Z"
   },
   {
    "duration": 17,
    "start_time": "2021-11-24T22:16:03.195Z"
   },
   {
    "duration": 1292,
    "start_time": "2021-11-24T22:17:24.169Z"
   },
   {
    "duration": 190,
    "start_time": "2021-11-24T22:17:25.463Z"
   },
   {
    "duration": 2,
    "start_time": "2021-11-24T22:17:25.656Z"
   },
   {
    "duration": 7,
    "start_time": "2021-11-24T22:17:25.660Z"
   },
   {
    "duration": 11,
    "start_time": "2021-11-24T22:17:25.669Z"
   },
   {
    "duration": 13,
    "start_time": "2021-11-24T22:17:25.682Z"
   },
   {
    "duration": 285,
    "start_time": "2021-11-24T22:17:25.696Z"
   },
   {
    "duration": 282,
    "start_time": "2021-11-24T22:17:25.984Z"
   },
   {
    "duration": 9,
    "start_time": "2021-11-24T22:17:26.268Z"
   },
   {
    "duration": 306,
    "start_time": "2021-11-24T22:17:26.279Z"
   },
   {
    "duration": 30,
    "start_time": "2021-11-24T22:17:26.587Z"
   },
   {
    "duration": 22,
    "start_time": "2021-11-24T22:17:26.619Z"
   },
   {
    "duration": 13,
    "start_time": "2021-11-24T22:17:26.643Z"
   },
   {
    "duration": 2037,
    "start_time": "2021-11-24T22:17:26.658Z"
   },
   {
    "duration": 48,
    "start_time": "2021-11-24T22:17:28.697Z"
   },
   {
    "duration": 273,
    "start_time": "2021-11-24T22:17:28.747Z"
   },
   {
    "duration": 304,
    "start_time": "2021-11-24T22:17:29.022Z"
   },
   {
    "duration": 21,
    "start_time": "2021-11-24T22:17:29.328Z"
   },
   {
    "duration": 336,
    "start_time": "2021-11-24T22:17:29.352Z"
   },
   {
    "duration": 6,
    "start_time": "2021-11-24T22:17:29.690Z"
   },
   {
    "duration": 13,
    "start_time": "2021-11-24T22:17:29.698Z"
   },
   {
    "duration": 282,
    "start_time": "2021-11-24T22:17:29.713Z"
   },
   {
    "duration": 9,
    "start_time": "2021-11-24T22:17:30.000Z"
   },
   {
    "duration": 20,
    "start_time": "2021-11-24T22:17:30.013Z"
   },
   {
    "duration": 32,
    "start_time": "2021-11-24T22:17:30.034Z"
   },
   {
    "duration": 87,
    "start_time": "2021-11-24T22:17:30.068Z"
   },
   {
    "duration": 27,
    "start_time": "2021-11-24T22:17:30.157Z"
   },
   {
    "duration": 1739,
    "start_time": "2021-11-24T22:17:30.186Z"
   },
   {
    "duration": 9,
    "start_time": "2021-11-24T22:17:31.928Z"
   },
   {
    "duration": 28,
    "start_time": "2021-11-24T22:17:31.939Z"
   },
   {
    "duration": 24,
    "start_time": "2021-11-24T22:17:31.969Z"
   },
   {
    "duration": 45,
    "start_time": "2021-11-24T22:17:31.995Z"
   },
   {
    "duration": 282,
    "start_time": "2021-11-24T22:17:32.042Z"
   },
   {
    "duration": 10,
    "start_time": "2021-11-24T22:17:32.325Z"
   },
   {
    "duration": 17,
    "start_time": "2021-11-24T22:17:32.337Z"
   },
   {
    "duration": 10,
    "start_time": "2021-11-24T22:17:32.356Z"
   },
   {
    "duration": 30,
    "start_time": "2021-11-24T22:17:32.368Z"
   },
   {
    "duration": 1226,
    "start_time": "2021-11-24T22:17:32.400Z"
   },
   {
    "duration": 36,
    "start_time": "2021-11-24T22:17:33.628Z"
   },
   {
    "duration": 6,
    "start_time": "2021-11-24T22:17:33.666Z"
   },
   {
    "duration": 34,
    "start_time": "2021-11-24T22:17:33.674Z"
   },
   {
    "duration": 39,
    "start_time": "2021-11-24T22:17:33.710Z"
   },
   {
    "duration": 12,
    "start_time": "2021-11-24T22:17:33.751Z"
   },
   {
    "duration": 104,
    "start_time": "2021-11-24T22:17:33.765Z"
   },
   {
    "duration": 16,
    "start_time": "2021-11-24T22:17:33.871Z"
   },
   {
    "duration": 46,
    "start_time": "2021-11-24T22:17:33.890Z"
   },
   {
    "duration": 2110,
    "start_time": "2021-11-24T22:17:33.938Z"
   },
   {
    "duration": 33,
    "start_time": "2021-11-24T22:17:36.051Z"
   },
   {
    "duration": 22,
    "start_time": "2021-11-24T22:17:36.086Z"
   },
   {
    "duration": 902,
    "start_time": "2021-11-24T22:17:36.110Z"
   },
   {
    "duration": 3,
    "start_time": "2021-11-24T22:17:37.014Z"
   },
   {
    "duration": 10,
    "start_time": "2021-11-24T22:17:37.018Z"
   },
   {
    "duration": 26,
    "start_time": "2021-11-24T22:17:37.030Z"
   },
   {
    "duration": 130,
    "start_time": "2021-11-24T22:17:37.058Z"
   },
   {
    "duration": 20,
    "start_time": "2021-11-24T22:17:37.190Z"
   },
   {
    "duration": 26,
    "start_time": "2021-11-24T22:17:37.211Z"
   },
   {
    "duration": 10,
    "start_time": "2021-11-24T22:17:37.239Z"
   },
   {
    "duration": 20,
    "start_time": "2021-11-24T22:17:37.250Z"
   },
   {
    "duration": 31,
    "start_time": "2021-11-24T22:17:37.271Z"
   },
   {
    "duration": 16,
    "start_time": "2021-11-24T22:17:37.304Z"
   },
   {
    "duration": 48,
    "start_time": "2021-11-24T22:17:37.322Z"
   },
   {
    "duration": 12,
    "start_time": "2021-11-24T22:17:37.371Z"
   },
   {
    "duration": 24,
    "start_time": "2021-11-24T22:17:37.385Z"
   },
   {
    "duration": 11,
    "start_time": "2021-11-24T22:17:37.411Z"
   },
   {
    "duration": 32,
    "start_time": "2021-11-24T22:17:37.424Z"
   },
   {
    "duration": 29,
    "start_time": "2021-11-24T22:17:37.459Z"
   },
   {
    "duration": 33,
    "start_time": "2021-11-24T22:17:37.490Z"
   },
   {
    "duration": 28,
    "start_time": "2021-11-24T22:17:37.529Z"
   },
   {
    "duration": 30,
    "start_time": "2021-11-24T22:17:37.559Z"
   },
   {
    "duration": 22,
    "start_time": "2021-11-24T22:17:37.591Z"
   },
   {
    "duration": 58,
    "start_time": "2021-11-24T22:17:37.615Z"
   },
   {
    "duration": 4,
    "start_time": "2021-11-24T22:17:37.675Z"
   },
   {
    "duration": 16,
    "start_time": "2021-11-24T22:17:37.681Z"
   },
   {
    "duration": 119,
    "start_time": "2021-11-24T22:17:37.699Z"
   },
   {
    "duration": 4,
    "start_time": "2021-11-24T22:17:37.820Z"
   },
   {
    "duration": 9,
    "start_time": "2021-11-24T22:17:37.826Z"
   },
   {
    "duration": 22,
    "start_time": "2021-11-24T22:17:37.837Z"
   },
   {
    "duration": 11,
    "start_time": "2021-11-24T22:17:37.861Z"
   },
   {
    "duration": 20,
    "start_time": "2021-11-24T22:17:37.874Z"
   },
   {
    "duration": 18,
    "start_time": "2021-11-24T22:17:37.896Z"
   },
   {
    "duration": 27,
    "start_time": "2021-11-24T22:17:37.916Z"
   },
   {
    "duration": 21,
    "start_time": "2021-11-24T22:19:16.604Z"
   },
   {
    "duration": 26,
    "start_time": "2021-11-24T22:20:11.511Z"
   },
   {
    "duration": 1260,
    "start_time": "2021-11-24T22:20:32.638Z"
   },
   {
    "duration": 195,
    "start_time": "2021-11-24T22:20:33.900Z"
   },
   {
    "duration": 4,
    "start_time": "2021-11-24T22:20:34.097Z"
   },
   {
    "duration": 7,
    "start_time": "2021-11-24T22:20:34.103Z"
   },
   {
    "duration": 11,
    "start_time": "2021-11-24T22:20:34.112Z"
   },
   {
    "duration": 13,
    "start_time": "2021-11-24T22:20:34.125Z"
   },
   {
    "duration": 313,
    "start_time": "2021-11-24T22:20:34.140Z"
   },
   {
    "duration": 297,
    "start_time": "2021-11-24T22:20:34.455Z"
   },
   {
    "duration": 9,
    "start_time": "2021-11-24T22:20:34.754Z"
   },
   {
    "duration": 294,
    "start_time": "2021-11-24T22:20:34.765Z"
   },
   {
    "duration": 15,
    "start_time": "2021-11-24T22:20:35.061Z"
   },
   {
    "duration": 35,
    "start_time": "2021-11-24T22:20:35.078Z"
   },
   {
    "duration": 20,
    "start_time": "2021-11-24T22:20:35.115Z"
   },
   {
    "duration": 1997,
    "start_time": "2021-11-24T22:20:35.137Z"
   },
   {
    "duration": 45,
    "start_time": "2021-11-24T22:20:37.135Z"
   },
   {
    "duration": 236,
    "start_time": "2021-11-24T22:20:37.182Z"
   },
   {
    "duration": 296,
    "start_time": "2021-11-24T22:20:37.420Z"
   },
   {
    "duration": 13,
    "start_time": "2021-11-24T22:20:37.719Z"
   },
   {
    "duration": 216,
    "start_time": "2021-11-24T22:20:37.734Z"
   },
   {
    "duration": 6,
    "start_time": "2021-11-24T22:20:37.952Z"
   },
   {
    "duration": 15,
    "start_time": "2021-11-24T22:20:37.959Z"
   },
   {
    "duration": 253,
    "start_time": "2021-11-24T22:20:37.976Z"
   },
   {
    "duration": 8,
    "start_time": "2021-11-24T22:20:38.234Z"
   },
   {
    "duration": 8,
    "start_time": "2021-11-24T22:20:38.244Z"
   },
   {
    "duration": 7,
    "start_time": "2021-11-24T22:20:38.254Z"
   },
   {
    "duration": 11,
    "start_time": "2021-11-24T22:20:38.263Z"
   },
   {
    "duration": 33,
    "start_time": "2021-11-24T22:20:38.276Z"
   },
   {
    "duration": 1008,
    "start_time": "2021-11-24T22:20:38.310Z"
   },
   {
    "duration": 7,
    "start_time": "2021-11-24T22:20:39.320Z"
   },
   {
    "duration": 25,
    "start_time": "2021-11-24T22:20:39.328Z"
   },
   {
    "duration": 17,
    "start_time": "2021-11-24T22:20:39.354Z"
   },
   {
    "duration": 9,
    "start_time": "2021-11-24T22:20:39.372Z"
   },
   {
    "duration": 275,
    "start_time": "2021-11-24T22:20:39.383Z"
   },
   {
    "duration": 10,
    "start_time": "2021-11-24T22:20:39.659Z"
   },
   {
    "duration": 17,
    "start_time": "2021-11-24T22:20:39.670Z"
   },
   {
    "duration": 24,
    "start_time": "2021-11-24T22:20:39.689Z"
   },
   {
    "duration": 21,
    "start_time": "2021-11-24T22:20:39.715Z"
   },
   {
    "duration": 1166,
    "start_time": "2021-11-24T22:20:39.737Z"
   },
   {
    "duration": 35,
    "start_time": "2021-11-24T22:20:40.907Z"
   },
   {
    "duration": 5,
    "start_time": "2021-11-24T22:20:40.944Z"
   },
   {
    "duration": 16,
    "start_time": "2021-11-24T22:20:40.950Z"
   },
   {
    "duration": 48,
    "start_time": "2021-11-24T22:20:40.967Z"
   },
   {
    "duration": 10,
    "start_time": "2021-11-24T22:20:41.017Z"
   },
   {
    "duration": 54,
    "start_time": "2021-11-24T22:20:41.030Z"
   },
   {
    "duration": 37,
    "start_time": "2021-11-24T22:20:41.086Z"
   },
   {
    "duration": 68,
    "start_time": "2021-11-24T22:20:41.125Z"
   },
   {
    "duration": 1456,
    "start_time": "2021-11-24T22:20:41.195Z"
   },
   {
    "duration": 23,
    "start_time": "2021-11-24T22:20:42.653Z"
   },
   {
    "duration": 31,
    "start_time": "2021-11-24T22:20:42.678Z"
   },
   {
    "duration": 853,
    "start_time": "2021-11-24T22:20:42.711Z"
   },
   {
    "duration": 3,
    "start_time": "2021-11-24T22:20:43.566Z"
   },
   {
    "duration": 6,
    "start_time": "2021-11-24T22:20:43.571Z"
   },
   {
    "duration": 37,
    "start_time": "2021-11-24T22:20:43.579Z"
   },
   {
    "duration": 115,
    "start_time": "2021-11-24T22:20:43.617Z"
   },
   {
    "duration": 11,
    "start_time": "2021-11-24T22:20:43.734Z"
   },
   {
    "duration": 21,
    "start_time": "2021-11-24T22:20:43.746Z"
   },
   {
    "duration": 6,
    "start_time": "2021-11-24T22:20:43.768Z"
   },
   {
    "duration": 8,
    "start_time": "2021-11-24T22:20:43.775Z"
   },
   {
    "duration": 35,
    "start_time": "2021-11-24T22:20:43.784Z"
   },
   {
    "duration": 13,
    "start_time": "2021-11-24T22:20:43.821Z"
   },
   {
    "duration": 39,
    "start_time": "2021-11-24T22:20:43.835Z"
   },
   {
    "duration": 32,
    "start_time": "2021-11-24T22:20:43.876Z"
   },
   {
    "duration": 8,
    "start_time": "2021-11-24T22:20:43.910Z"
   },
   {
    "duration": 8,
    "start_time": "2021-11-24T22:20:43.919Z"
   },
   {
    "duration": 24,
    "start_time": "2021-11-24T22:20:43.929Z"
   },
   {
    "duration": 4,
    "start_time": "2021-11-24T22:20:43.954Z"
   },
   {
    "duration": 13,
    "start_time": "2021-11-24T22:20:43.959Z"
   },
   {
    "duration": 31,
    "start_time": "2021-11-24T22:20:43.977Z"
   },
   {
    "duration": 17,
    "start_time": "2021-11-24T22:20:44.010Z"
   },
   {
    "duration": 6,
    "start_time": "2021-11-24T22:20:44.029Z"
   },
   {
    "duration": 23,
    "start_time": "2021-11-24T22:20:44.036Z"
   },
   {
    "duration": 4,
    "start_time": "2021-11-24T22:20:44.061Z"
   },
   {
    "duration": 7,
    "start_time": "2021-11-24T22:20:44.067Z"
   },
   {
    "duration": 124,
    "start_time": "2021-11-24T22:20:44.076Z"
   },
   {
    "duration": 4,
    "start_time": "2021-11-24T22:20:44.207Z"
   },
   {
    "duration": 6,
    "start_time": "2021-11-24T22:20:44.213Z"
   },
   {
    "duration": 6,
    "start_time": "2021-11-24T22:20:44.221Z"
   },
   {
    "duration": 7,
    "start_time": "2021-11-24T22:20:44.229Z"
   },
   {
    "duration": 7,
    "start_time": "2021-11-24T22:20:44.238Z"
   },
   {
    "duration": 18,
    "start_time": "2021-11-24T22:20:44.247Z"
   },
   {
    "duration": 39,
    "start_time": "2021-11-24T22:20:44.267Z"
   },
   {
    "duration": 1243,
    "start_time": "2021-11-25T12:44:31.597Z"
   },
   {
    "duration": 177,
    "start_time": "2021-11-25T12:44:32.843Z"
   },
   {
    "duration": 3,
    "start_time": "2021-11-25T12:44:33.022Z"
   },
   {
    "duration": 14,
    "start_time": "2021-11-25T12:44:33.027Z"
   },
   {
    "duration": 28,
    "start_time": "2021-11-25T12:44:33.044Z"
   },
   {
    "duration": 13,
    "start_time": "2021-11-25T12:44:33.074Z"
   },
   {
    "duration": 298,
    "start_time": "2021-11-25T12:44:33.089Z"
   },
   {
    "duration": 297,
    "start_time": "2021-11-25T12:44:33.391Z"
   },
   {
    "duration": 9,
    "start_time": "2021-11-25T12:44:33.690Z"
   },
   {
    "duration": 297,
    "start_time": "2021-11-25T12:44:33.701Z"
   },
   {
    "duration": 14,
    "start_time": "2021-11-25T12:44:34.000Z"
   },
   {
    "duration": 29,
    "start_time": "2021-11-25T12:44:34.016Z"
   },
   {
    "duration": 14,
    "start_time": "2021-11-25T12:44:34.047Z"
   },
   {
    "duration": 2068,
    "start_time": "2021-11-25T12:44:34.063Z"
   },
   {
    "duration": 77,
    "start_time": "2021-11-25T12:44:36.134Z"
   },
   {
    "duration": 370,
    "start_time": "2021-11-25T12:44:36.214Z"
   },
   {
    "duration": 438,
    "start_time": "2021-11-25T12:44:36.586Z"
   },
   {
    "duration": 27,
    "start_time": "2021-11-25T12:44:37.027Z"
   },
   {
    "duration": 354,
    "start_time": "2021-11-25T12:44:37.056Z"
   },
   {
    "duration": 8,
    "start_time": "2021-11-25T12:44:37.412Z"
   },
   {
    "duration": 33,
    "start_time": "2021-11-25T12:44:37.422Z"
   },
   {
    "duration": 424,
    "start_time": "2021-11-25T12:44:37.457Z"
   },
   {
    "duration": 11,
    "start_time": "2021-11-25T12:44:37.887Z"
   },
   {
    "duration": 10,
    "start_time": "2021-11-25T12:44:37.901Z"
   },
   {
    "duration": 33,
    "start_time": "2021-11-25T12:44:37.913Z"
   },
   {
    "duration": 6,
    "start_time": "2021-11-25T12:44:37.948Z"
   },
   {
    "duration": 7,
    "start_time": "2021-11-25T12:44:37.956Z"
   },
   {
    "duration": 1097,
    "start_time": "2021-11-25T12:44:37.965Z"
   },
   {
    "duration": 7,
    "start_time": "2021-11-25T12:44:39.063Z"
   },
   {
    "duration": 32,
    "start_time": "2021-11-25T12:44:39.072Z"
   },
   {
    "duration": 15,
    "start_time": "2021-11-25T12:44:39.106Z"
   },
   {
    "duration": 22,
    "start_time": "2021-11-25T12:44:39.123Z"
   },
   {
    "duration": 289,
    "start_time": "2021-11-25T12:44:39.147Z"
   },
   {
    "duration": 17,
    "start_time": "2021-11-25T12:44:39.438Z"
   },
   {
    "duration": 17,
    "start_time": "2021-11-25T12:44:39.457Z"
   },
   {
    "duration": 19,
    "start_time": "2021-11-25T12:44:39.476Z"
   },
   {
    "duration": 12,
    "start_time": "2021-11-25T12:44:39.497Z"
   },
   {
    "duration": 1395,
    "start_time": "2021-11-25T12:44:39.511Z"
   },
   {
    "duration": 54,
    "start_time": "2021-11-25T12:44:40.907Z"
   },
   {
    "duration": 5,
    "start_time": "2021-11-25T12:44:40.963Z"
   },
   {
    "duration": 25,
    "start_time": "2021-11-25T12:44:40.970Z"
   },
   {
    "duration": 49,
    "start_time": "2021-11-25T12:44:40.997Z"
   },
   {
    "duration": 10,
    "start_time": "2021-11-25T12:44:41.048Z"
   },
   {
    "duration": 68,
    "start_time": "2021-11-25T12:44:41.060Z"
   },
   {
    "duration": 25,
    "start_time": "2021-11-25T12:44:41.130Z"
   },
   {
    "duration": 32,
    "start_time": "2021-11-25T12:44:41.157Z"
   },
   {
    "duration": 2443,
    "start_time": "2021-11-25T12:44:41.192Z"
   },
   {
    "duration": 39,
    "start_time": "2021-11-25T12:44:43.638Z"
   },
   {
    "duration": 20,
    "start_time": "2021-11-25T12:44:43.680Z"
   },
   {
    "duration": 1033,
    "start_time": "2021-11-25T12:44:43.703Z"
   },
   {
    "duration": 8,
    "start_time": "2021-11-25T12:44:44.737Z"
   },
   {
    "duration": 32,
    "start_time": "2021-11-25T12:44:44.747Z"
   },
   {
    "duration": 36,
    "start_time": "2021-11-25T12:44:44.781Z"
   },
   {
    "duration": 113,
    "start_time": "2021-11-25T12:44:44.819Z"
   },
   {
    "duration": 12,
    "start_time": "2021-11-25T12:44:44.933Z"
   },
   {
    "duration": 36,
    "start_time": "2021-11-25T12:44:44.947Z"
   },
   {
    "duration": 8,
    "start_time": "2021-11-25T12:44:44.984Z"
   },
   {
    "duration": 16,
    "start_time": "2021-11-25T12:44:44.993Z"
   },
   {
    "duration": 41,
    "start_time": "2021-11-25T12:44:45.011Z"
   },
   {
    "duration": 21,
    "start_time": "2021-11-25T12:44:45.054Z"
   },
   {
    "duration": 37,
    "start_time": "2021-11-25T12:44:45.077Z"
   },
   {
    "duration": 28,
    "start_time": "2021-11-25T12:44:45.116Z"
   },
   {
    "duration": 12,
    "start_time": "2021-11-25T12:44:45.146Z"
   },
   {
    "duration": 18,
    "start_time": "2021-11-25T12:44:45.160Z"
   },
   {
    "duration": 46,
    "start_time": "2021-11-25T12:44:45.179Z"
   },
   {
    "duration": 4,
    "start_time": "2021-11-25T12:44:45.227Z"
   },
   {
    "duration": 24,
    "start_time": "2021-11-25T12:44:45.232Z"
   },
   {
    "duration": 18,
    "start_time": "2021-11-25T12:44:45.261Z"
   },
   {
    "duration": 39,
    "start_time": "2021-11-25T12:44:45.281Z"
   },
   {
    "duration": 16,
    "start_time": "2021-11-25T12:44:45.322Z"
   },
   {
    "duration": 46,
    "start_time": "2021-11-25T12:44:45.339Z"
   },
   {
    "duration": 4,
    "start_time": "2021-11-25T12:44:45.387Z"
   },
   {
    "duration": 5,
    "start_time": "2021-11-25T12:44:45.394Z"
   },
   {
    "duration": 115,
    "start_time": "2021-11-25T12:44:45.400Z"
   },
   {
    "duration": 4,
    "start_time": "2021-11-25T12:44:45.517Z"
   },
   {
    "duration": 5,
    "start_time": "2021-11-25T12:44:45.523Z"
   },
   {
    "duration": 17,
    "start_time": "2021-11-25T12:44:45.529Z"
   },
   {
    "duration": 8,
    "start_time": "2021-11-25T12:44:45.548Z"
   },
   {
    "duration": 5,
    "start_time": "2021-11-25T12:44:45.558Z"
   },
   {
    "duration": 15,
    "start_time": "2021-11-25T12:44:45.565Z"
   },
   {
    "duration": 28,
    "start_time": "2021-11-25T12:44:45.582Z"
   },
   {
    "duration": 1738,
    "start_time": "2021-11-25T12:45:25.010Z"
   },
   {
    "duration": 202,
    "start_time": "2021-11-25T12:45:26.751Z"
   },
   {
    "duration": 2,
    "start_time": "2021-11-25T12:45:26.956Z"
   },
   {
    "duration": 9,
    "start_time": "2021-11-25T12:45:26.961Z"
   },
   {
    "duration": 10,
    "start_time": "2021-11-25T12:45:26.971Z"
   },
   {
    "duration": 13,
    "start_time": "2021-11-25T12:45:26.983Z"
   },
   {
    "duration": 337,
    "start_time": "2021-11-25T12:45:26.998Z"
   },
   {
    "duration": 295,
    "start_time": "2021-11-25T12:45:27.339Z"
   },
   {
    "duration": 16,
    "start_time": "2021-11-25T12:45:27.636Z"
   },
   {
    "duration": 307,
    "start_time": "2021-11-25T12:45:27.654Z"
   },
   {
    "duration": 14,
    "start_time": "2021-11-25T12:45:27.963Z"
   },
   {
    "duration": 29,
    "start_time": "2021-11-25T12:45:27.979Z"
   },
   {
    "duration": 46,
    "start_time": "2021-11-25T12:45:28.010Z"
   },
   {
    "duration": 2204,
    "start_time": "2021-11-25T12:45:28.058Z"
   },
   {
    "duration": 49,
    "start_time": "2021-11-25T12:45:30.264Z"
   },
   {
    "duration": 265,
    "start_time": "2021-11-25T12:45:30.315Z"
   },
   {
    "duration": 301,
    "start_time": "2021-11-25T12:45:30.582Z"
   },
   {
    "duration": 14,
    "start_time": "2021-11-25T12:45:30.885Z"
   },
   {
    "duration": 238,
    "start_time": "2021-11-25T12:45:30.900Z"
   },
   {
    "duration": 6,
    "start_time": "2021-11-25T12:45:31.140Z"
   },
   {
    "duration": 57,
    "start_time": "2021-11-25T12:45:31.147Z"
   },
   {
    "duration": 279,
    "start_time": "2021-11-25T12:45:31.206Z"
   },
   {
    "duration": 8,
    "start_time": "2021-11-25T12:45:31.489Z"
   },
   {
    "duration": 18,
    "start_time": "2021-11-25T12:45:31.501Z"
   },
   {
    "duration": 31,
    "start_time": "2021-11-25T12:45:31.521Z"
   },
   {
    "duration": 8,
    "start_time": "2021-11-25T12:45:31.554Z"
   },
   {
    "duration": 18,
    "start_time": "2021-11-25T12:45:31.564Z"
   },
   {
    "duration": 1191,
    "start_time": "2021-11-25T12:45:31.584Z"
   },
   {
    "duration": 6,
    "start_time": "2021-11-25T12:45:32.777Z"
   },
   {
    "duration": 15,
    "start_time": "2021-11-25T12:45:32.785Z"
   },
   {
    "duration": 9,
    "start_time": "2021-11-25T12:45:32.802Z"
   },
   {
    "duration": 37,
    "start_time": "2021-11-25T12:45:32.813Z"
   },
   {
    "duration": 298,
    "start_time": "2021-11-25T12:45:32.852Z"
   },
   {
    "duration": 10,
    "start_time": "2021-11-25T12:45:33.153Z"
   },
   {
    "duration": 12,
    "start_time": "2021-11-25T12:45:33.165Z"
   },
   {
    "duration": 11,
    "start_time": "2021-11-25T12:45:33.179Z"
   },
   {
    "duration": 11,
    "start_time": "2021-11-25T12:45:33.192Z"
   },
   {
    "duration": 1371,
    "start_time": "2021-11-25T12:45:33.204Z"
   },
   {
    "duration": 37,
    "start_time": "2021-11-25T12:45:34.576Z"
   },
   {
    "duration": 14,
    "start_time": "2021-11-25T12:45:34.614Z"
   },
   {
    "duration": 31,
    "start_time": "2021-11-25T12:45:34.630Z"
   },
   {
    "duration": 71,
    "start_time": "2021-11-25T12:45:34.663Z"
   },
   {
    "duration": 25,
    "start_time": "2021-11-25T12:45:34.735Z"
   },
   {
    "duration": 79,
    "start_time": "2021-11-25T12:45:34.762Z"
   },
   {
    "duration": 12,
    "start_time": "2021-11-25T12:45:34.843Z"
   },
   {
    "duration": 40,
    "start_time": "2021-11-25T12:45:34.857Z"
   },
   {
    "duration": 1693,
    "start_time": "2021-11-25T12:45:34.899Z"
   },
   {
    "duration": 24,
    "start_time": "2021-11-25T12:45:36.594Z"
   },
   {
    "duration": 30,
    "start_time": "2021-11-25T12:45:36.620Z"
   },
   {
    "duration": 1034,
    "start_time": "2021-11-25T12:45:36.652Z"
   },
   {
    "duration": 4,
    "start_time": "2021-11-25T12:45:37.688Z"
   },
   {
    "duration": 7,
    "start_time": "2021-11-25T12:45:37.693Z"
   },
   {
    "duration": 42,
    "start_time": "2021-11-25T12:45:37.702Z"
   },
   {
    "duration": 122,
    "start_time": "2021-11-25T12:45:37.746Z"
   },
   {
    "duration": 12,
    "start_time": "2021-11-25T12:45:37.870Z"
   },
   {
    "duration": 23,
    "start_time": "2021-11-25T12:45:37.883Z"
   },
   {
    "duration": 6,
    "start_time": "2021-11-25T12:45:37.908Z"
   },
   {
    "duration": 30,
    "start_time": "2021-11-25T12:45:37.915Z"
   },
   {
    "duration": 16,
    "start_time": "2021-11-25T12:45:37.947Z"
   },
   {
    "duration": 12,
    "start_time": "2021-11-25T12:45:37.964Z"
   },
   {
    "duration": 36,
    "start_time": "2021-11-25T12:45:37.978Z"
   },
   {
    "duration": 38,
    "start_time": "2021-11-25T12:45:38.015Z"
   },
   {
    "duration": 9,
    "start_time": "2021-11-25T12:45:38.055Z"
   },
   {
    "duration": 10,
    "start_time": "2021-11-25T12:45:38.065Z"
   },
   {
    "duration": 22,
    "start_time": "2021-11-25T12:45:38.077Z"
   },
   {
    "duration": 4,
    "start_time": "2021-11-25T12:45:38.101Z"
   },
   {
    "duration": 46,
    "start_time": "2021-11-25T12:45:38.106Z"
   },
   {
    "duration": 7,
    "start_time": "2021-11-25T12:45:38.157Z"
   },
   {
    "duration": 9,
    "start_time": "2021-11-25T12:45:38.166Z"
   },
   {
    "duration": 10,
    "start_time": "2021-11-25T12:45:38.177Z"
   },
   {
    "duration": 46,
    "start_time": "2021-11-25T12:45:38.189Z"
   },
   {
    "duration": 4,
    "start_time": "2021-11-25T12:45:38.237Z"
   },
   {
    "duration": 4,
    "start_time": "2021-11-25T12:45:38.244Z"
   },
   {
    "duration": 121,
    "start_time": "2021-11-25T12:45:38.250Z"
   },
   {
    "duration": 3,
    "start_time": "2021-11-25T12:45:38.373Z"
   },
   {
    "duration": 22,
    "start_time": "2021-11-25T12:45:38.378Z"
   },
   {
    "duration": 26,
    "start_time": "2021-11-25T12:45:38.402Z"
   },
   {
    "duration": 25,
    "start_time": "2021-11-25T12:45:38.430Z"
   },
   {
    "duration": 16,
    "start_time": "2021-11-25T12:45:38.457Z"
   },
   {
    "duration": 9,
    "start_time": "2021-11-25T12:45:38.474Z"
   },
   {
    "duration": 28,
    "start_time": "2021-11-25T12:45:38.485Z"
   },
   {
    "duration": 37,
    "start_time": "2021-11-25T12:45:38.515Z"
   },
   {
    "duration": 1279,
    "start_time": "2021-11-25T12:46:14.695Z"
   },
   {
    "duration": 179,
    "start_time": "2021-11-25T12:46:15.976Z"
   },
   {
    "duration": 3,
    "start_time": "2021-11-25T12:46:16.157Z"
   },
   {
    "duration": 8,
    "start_time": "2021-11-25T12:46:16.162Z"
   },
   {
    "duration": 11,
    "start_time": "2021-11-25T12:46:16.172Z"
   },
   {
    "duration": 14,
    "start_time": "2021-11-25T12:46:16.185Z"
   },
   {
    "duration": 331,
    "start_time": "2021-11-25T12:46:16.200Z"
   },
   {
    "duration": 298,
    "start_time": "2021-11-25T12:46:16.534Z"
   },
   {
    "duration": 19,
    "start_time": "2021-11-25T12:46:16.834Z"
   },
   {
    "duration": 318,
    "start_time": "2021-11-25T12:46:16.855Z"
   },
   {
    "duration": 14,
    "start_time": "2021-11-25T12:46:17.175Z"
   },
   {
    "duration": 13,
    "start_time": "2021-11-25T12:46:17.191Z"
   },
   {
    "duration": 20,
    "start_time": "2021-11-25T12:46:17.206Z"
   },
   {
    "duration": 2338,
    "start_time": "2021-11-25T12:46:17.228Z"
   },
   {
    "duration": 49,
    "start_time": "2021-11-25T12:46:19.568Z"
   },
   {
    "duration": 259,
    "start_time": "2021-11-25T12:46:19.619Z"
   },
   {
    "duration": 440,
    "start_time": "2021-11-25T12:46:19.880Z"
   },
   {
    "duration": 27,
    "start_time": "2021-11-25T12:46:20.323Z"
   },
   {
    "duration": 242,
    "start_time": "2021-11-25T12:46:20.353Z"
   },
   {
    "duration": 7,
    "start_time": "2021-11-25T12:46:20.597Z"
   },
   {
    "duration": 10,
    "start_time": "2021-11-25T12:46:20.606Z"
   },
   {
    "duration": 304,
    "start_time": "2021-11-25T12:46:20.618Z"
   },
   {
    "duration": 22,
    "start_time": "2021-11-25T12:46:20.927Z"
   },
   {
    "duration": 10,
    "start_time": "2021-11-25T12:46:20.952Z"
   },
   {
    "duration": 9,
    "start_time": "2021-11-25T12:46:20.965Z"
   },
   {
    "duration": 10,
    "start_time": "2021-11-25T12:46:20.976Z"
   },
   {
    "duration": 7,
    "start_time": "2021-11-25T12:46:20.988Z"
   },
   {
    "duration": 1148,
    "start_time": "2021-11-25T12:46:20.997Z"
   },
   {
    "duration": 8,
    "start_time": "2021-11-25T12:46:22.147Z"
   },
   {
    "duration": 38,
    "start_time": "2021-11-25T12:46:22.157Z"
   },
   {
    "duration": 12,
    "start_time": "2021-11-25T12:46:22.197Z"
   },
   {
    "duration": 26,
    "start_time": "2021-11-25T12:46:22.211Z"
   },
   {
    "duration": 322,
    "start_time": "2021-11-25T12:46:22.240Z"
   },
   {
    "duration": 11,
    "start_time": "2021-11-25T12:46:22.565Z"
   },
   {
    "duration": 13,
    "start_time": "2021-11-25T12:46:22.579Z"
   },
   {
    "duration": 10,
    "start_time": "2021-11-25T12:46:22.594Z"
   },
   {
    "duration": 41,
    "start_time": "2021-11-25T12:46:22.606Z"
   },
   {
    "duration": 1285,
    "start_time": "2021-11-25T12:46:22.649Z"
   },
   {
    "duration": 43,
    "start_time": "2021-11-25T12:46:23.935Z"
   },
   {
    "duration": 7,
    "start_time": "2021-11-25T12:46:23.981Z"
   },
   {
    "duration": 11,
    "start_time": "2021-11-25T12:46:23.989Z"
   },
   {
    "duration": 66,
    "start_time": "2021-11-25T12:46:24.003Z"
   },
   {
    "duration": 11,
    "start_time": "2021-11-25T12:46:24.071Z"
   },
   {
    "duration": 71,
    "start_time": "2021-11-25T12:46:24.084Z"
   },
   {
    "duration": 13,
    "start_time": "2021-11-25T12:46:24.157Z"
   },
   {
    "duration": 23,
    "start_time": "2021-11-25T12:46:24.172Z"
   },
   {
    "duration": 1597,
    "start_time": "2021-11-25T12:46:24.196Z"
   },
   {
    "duration": 24,
    "start_time": "2021-11-25T12:46:25.795Z"
   },
   {
    "duration": 31,
    "start_time": "2021-11-25T12:46:25.821Z"
   },
   {
    "duration": 914,
    "start_time": "2021-11-25T12:46:25.854Z"
   },
   {
    "duration": 4,
    "start_time": "2021-11-25T12:46:26.770Z"
   },
   {
    "duration": 6,
    "start_time": "2021-11-25T12:46:26.776Z"
   },
   {
    "duration": 35,
    "start_time": "2021-11-25T12:46:26.784Z"
   },
   {
    "duration": 233,
    "start_time": "2021-11-25T12:46:26.821Z"
   },
   {
    "duration": 18,
    "start_time": "2021-11-25T12:46:27.056Z"
   },
   {
    "duration": 31,
    "start_time": "2021-11-25T12:46:27.076Z"
   },
   {
    "duration": 8,
    "start_time": "2021-11-25T12:46:27.109Z"
   },
   {
    "duration": 9,
    "start_time": "2021-11-25T12:46:27.144Z"
   },
   {
    "duration": 18,
    "start_time": "2021-11-25T12:46:27.155Z"
   },
   {
    "duration": 14,
    "start_time": "2021-11-25T12:46:27.176Z"
   },
   {
    "duration": 69,
    "start_time": "2021-11-25T12:46:27.193Z"
   },
   {
    "duration": 15,
    "start_time": "2021-11-25T12:46:27.265Z"
   },
   {
    "duration": 10,
    "start_time": "2021-11-25T12:46:27.282Z"
   },
   {
    "duration": 9,
    "start_time": "2021-11-25T12:46:27.294Z"
   },
   {
    "duration": 56,
    "start_time": "2021-11-25T12:46:27.305Z"
   },
   {
    "duration": 4,
    "start_time": "2021-11-25T12:46:27.363Z"
   },
   {
    "duration": 10,
    "start_time": "2021-11-25T12:46:27.369Z"
   },
   {
    "duration": 8,
    "start_time": "2021-11-25T12:46:27.384Z"
   },
   {
    "duration": 376,
    "start_time": "2021-11-25T12:46:27.394Z"
   },
   {
    "duration": -211,
    "start_time": "2021-11-25T12:46:27.983Z"
   },
   {
    "duration": -218,
    "start_time": "2021-11-25T12:46:27.991Z"
   },
   {
    "duration": -226,
    "start_time": "2021-11-25T12:46:28.000Z"
   },
   {
    "duration": -233,
    "start_time": "2021-11-25T12:46:28.008Z"
   },
   {
    "duration": -239,
    "start_time": "2021-11-25T12:46:28.015Z"
   },
   {
    "duration": -245,
    "start_time": "2021-11-25T12:46:28.022Z"
   },
   {
    "duration": -250,
    "start_time": "2021-11-25T12:46:28.028Z"
   },
   {
    "duration": -255,
    "start_time": "2021-11-25T12:46:28.035Z"
   },
   {
    "duration": -261,
    "start_time": "2021-11-25T12:46:28.042Z"
   },
   {
    "duration": -266,
    "start_time": "2021-11-25T12:46:28.048Z"
   },
   {
    "duration": -270,
    "start_time": "2021-11-25T12:46:28.054Z"
   },
   {
    "duration": -275,
    "start_time": "2021-11-25T12:46:28.061Z"
   },
   {
    "duration": -280,
    "start_time": "2021-11-25T12:46:28.068Z"
   },
   {
    "duration": 20,
    "start_time": "2021-11-25T12:48:14.583Z"
   },
   {
    "duration": 23,
    "start_time": "2021-11-25T12:49:19.072Z"
   },
   {
    "duration": 21,
    "start_time": "2021-11-25T12:56:45.953Z"
   },
   {
    "duration": 1260,
    "start_time": "2021-11-25T13:00:14.555Z"
   },
   {
    "duration": 178,
    "start_time": "2021-11-25T13:00:15.817Z"
   },
   {
    "duration": 3,
    "start_time": "2021-11-25T13:00:15.998Z"
   },
   {
    "duration": 35,
    "start_time": "2021-11-25T13:00:16.004Z"
   },
   {
    "duration": 34,
    "start_time": "2021-11-25T13:00:16.041Z"
   },
   {
    "duration": 17,
    "start_time": "2021-11-25T13:00:16.077Z"
   },
   {
    "duration": 317,
    "start_time": "2021-11-25T13:00:16.096Z"
   },
   {
    "duration": 316,
    "start_time": "2021-11-25T13:00:16.417Z"
   },
   {
    "duration": 12,
    "start_time": "2021-11-25T13:00:16.735Z"
   },
   {
    "duration": 358,
    "start_time": "2021-11-25T13:00:16.749Z"
   },
   {
    "duration": 14,
    "start_time": "2021-11-25T13:00:17.109Z"
   },
   {
    "duration": 29,
    "start_time": "2021-11-25T13:00:17.124Z"
   },
   {
    "duration": 19,
    "start_time": "2021-11-25T13:00:17.155Z"
   },
   {
    "duration": 2911,
    "start_time": "2021-11-25T13:00:17.176Z"
   },
   {
    "duration": 58,
    "start_time": "2021-11-25T13:00:20.089Z"
   },
   {
    "duration": 238,
    "start_time": "2021-11-25T13:00:20.149Z"
   },
   {
    "duration": 309,
    "start_time": "2021-11-25T13:00:20.389Z"
   },
   {
    "duration": 13,
    "start_time": "2021-11-25T13:00:20.700Z"
   },
   {
    "duration": 231,
    "start_time": "2021-11-25T13:00:20.715Z"
   },
   {
    "duration": 5,
    "start_time": "2021-11-25T13:00:20.948Z"
   },
   {
    "duration": 27,
    "start_time": "2021-11-25T13:00:20.955Z"
   },
   {
    "duration": 281,
    "start_time": "2021-11-25T13:00:20.983Z"
   },
   {
    "duration": 15,
    "start_time": "2021-11-25T13:00:21.268Z"
   },
   {
    "duration": 19,
    "start_time": "2021-11-25T13:00:21.286Z"
   },
   {
    "duration": 19,
    "start_time": "2021-11-25T13:00:21.307Z"
   },
   {
    "duration": 17,
    "start_time": "2021-11-25T13:00:21.328Z"
   },
   {
    "duration": 20,
    "start_time": "2021-11-25T13:00:21.347Z"
   },
   {
    "duration": 1118,
    "start_time": "2021-11-25T13:00:21.369Z"
   },
   {
    "duration": 7,
    "start_time": "2021-11-25T13:00:22.489Z"
   },
   {
    "duration": 30,
    "start_time": "2021-11-25T13:00:22.498Z"
   },
   {
    "duration": 21,
    "start_time": "2021-11-25T13:00:22.530Z"
   },
   {
    "duration": 12,
    "start_time": "2021-11-25T13:00:22.554Z"
   },
   {
    "duration": 296,
    "start_time": "2021-11-25T13:00:22.568Z"
   },
   {
    "duration": 11,
    "start_time": "2021-11-25T13:00:22.867Z"
   },
   {
    "duration": 19,
    "start_time": "2021-11-25T13:00:22.880Z"
   },
   {
    "duration": 28,
    "start_time": "2021-11-25T13:00:22.901Z"
   },
   {
    "duration": 43,
    "start_time": "2021-11-25T13:00:22.931Z"
   },
   {
    "duration": 1290,
    "start_time": "2021-11-25T13:00:22.977Z"
   },
   {
    "duration": 37,
    "start_time": "2021-11-25T13:00:24.269Z"
   },
   {
    "duration": 6,
    "start_time": "2021-11-25T13:00:24.309Z"
   },
   {
    "duration": 31,
    "start_time": "2021-11-25T13:00:24.317Z"
   },
   {
    "duration": 37,
    "start_time": "2021-11-25T13:00:24.350Z"
   },
   {
    "duration": 11,
    "start_time": "2021-11-25T13:00:24.388Z"
   },
   {
    "duration": 75,
    "start_time": "2021-11-25T13:00:24.401Z"
   },
   {
    "duration": 11,
    "start_time": "2021-11-25T13:00:24.478Z"
   },
   {
    "duration": 22,
    "start_time": "2021-11-25T13:00:24.491Z"
   },
   {
    "duration": 1562,
    "start_time": "2021-11-25T13:00:24.515Z"
   },
   {
    "duration": 24,
    "start_time": "2021-11-25T13:00:26.079Z"
   },
   {
    "duration": 18,
    "start_time": "2021-11-25T13:00:26.105Z"
   },
   {
    "duration": 940,
    "start_time": "2021-11-25T13:00:26.124Z"
   },
   {
    "duration": 3,
    "start_time": "2021-11-25T13:00:27.066Z"
   },
   {
    "duration": 21,
    "start_time": "2021-11-25T13:00:27.071Z"
   },
   {
    "duration": 38,
    "start_time": "2021-11-25T13:00:27.094Z"
   },
   {
    "duration": 118,
    "start_time": "2021-11-25T13:00:27.134Z"
   },
   {
    "duration": 12,
    "start_time": "2021-11-25T13:00:27.254Z"
   },
   {
    "duration": 30,
    "start_time": "2021-11-25T13:00:27.267Z"
   },
   {
    "duration": 5,
    "start_time": "2021-11-25T13:00:27.299Z"
   },
   {
    "duration": 10,
    "start_time": "2021-11-25T13:00:27.306Z"
   },
   {
    "duration": 29,
    "start_time": "2021-11-25T13:00:27.318Z"
   },
   {
    "duration": 14,
    "start_time": "2021-11-25T13:00:27.348Z"
   },
   {
    "duration": 37,
    "start_time": "2021-11-25T13:00:27.363Z"
   },
   {
    "duration": 13,
    "start_time": "2021-11-25T13:00:27.402Z"
   },
   {
    "duration": 10,
    "start_time": "2021-11-25T13:00:27.445Z"
   },
   {
    "duration": 10,
    "start_time": "2021-11-25T13:00:27.456Z"
   },
   {
    "duration": 27,
    "start_time": "2021-11-25T13:00:27.468Z"
   },
   {
    "duration": 4,
    "start_time": "2021-11-25T13:00:27.497Z"
   },
   {
    "duration": 42,
    "start_time": "2021-11-25T13:00:27.502Z"
   },
   {
    "duration": 2,
    "start_time": "2021-11-25T13:00:27.550Z"
   },
   {
    "duration": 27,
    "start_time": "2021-11-25T13:00:27.554Z"
   },
   {
    "duration": 3,
    "start_time": "2021-11-25T13:00:27.583Z"
   },
   {
    "duration": 6,
    "start_time": "2021-11-25T13:00:27.588Z"
   },
   {
    "duration": 26,
    "start_time": "2021-11-25T13:00:27.596Z"
   },
   {
    "duration": 21,
    "start_time": "2021-11-25T13:00:27.623Z"
   },
   {
    "duration": 6,
    "start_time": "2021-11-25T13:00:27.646Z"
   },
   {
    "duration": 123,
    "start_time": "2021-11-25T13:00:27.654Z"
   },
   {
    "duration": 4,
    "start_time": "2021-11-25T13:00:27.779Z"
   },
   {
    "duration": 7,
    "start_time": "2021-11-25T13:00:27.785Z"
   },
   {
    "duration": 10,
    "start_time": "2021-11-25T13:00:27.794Z"
   },
   {
    "duration": 22,
    "start_time": "2021-11-25T13:00:27.806Z"
   },
   {
    "duration": 16,
    "start_time": "2021-11-25T13:00:27.830Z"
   },
   {
    "duration": 4,
    "start_time": "2021-11-25T13:00:27.848Z"
   },
   {
    "duration": 15,
    "start_time": "2021-11-25T13:00:27.854Z"
   },
   {
    "duration": 18,
    "start_time": "2021-11-25T13:00:27.871Z"
   },
   {
    "duration": 4,
    "start_time": "2021-11-25T13:01:50.174Z"
   },
   {
    "duration": 1256,
    "start_time": "2021-11-25T13:02:29.390Z"
   },
   {
    "duration": 177,
    "start_time": "2021-11-25T13:02:30.647Z"
   },
   {
    "duration": 3,
    "start_time": "2021-11-25T13:02:30.826Z"
   },
   {
    "duration": 18,
    "start_time": "2021-11-25T13:02:30.831Z"
   },
   {
    "duration": 12,
    "start_time": "2021-11-25T13:02:30.851Z"
   },
   {
    "duration": 31,
    "start_time": "2021-11-25T13:02:30.865Z"
   },
   {
    "duration": 297,
    "start_time": "2021-11-25T13:02:30.898Z"
   },
   {
    "duration": 282,
    "start_time": "2021-11-25T13:02:31.199Z"
   },
   {
    "duration": 10,
    "start_time": "2021-11-25T13:02:31.484Z"
   },
   {
    "duration": 293,
    "start_time": "2021-11-25T13:02:31.497Z"
   },
   {
    "duration": 14,
    "start_time": "2021-11-25T13:02:31.793Z"
   },
   {
    "duration": 15,
    "start_time": "2021-11-25T13:02:31.809Z"
   },
   {
    "duration": 17,
    "start_time": "2021-11-25T13:02:31.844Z"
   },
   {
    "duration": 2182,
    "start_time": "2021-11-25T13:02:31.863Z"
   },
   {
    "duration": 50,
    "start_time": "2021-11-25T13:02:34.047Z"
   },
   {
    "duration": 245,
    "start_time": "2021-11-25T13:02:34.099Z"
   },
   {
    "duration": 300,
    "start_time": "2021-11-25T13:02:34.346Z"
   },
   {
    "duration": 13,
    "start_time": "2021-11-25T13:02:34.648Z"
   },
   {
    "duration": 236,
    "start_time": "2021-11-25T13:02:34.662Z"
   },
   {
    "duration": 6,
    "start_time": "2021-11-25T13:02:34.899Z"
   },
   {
    "duration": 19,
    "start_time": "2021-11-25T13:02:34.906Z"
   },
   {
    "duration": 261,
    "start_time": "2021-11-25T13:02:34.927Z"
   },
   {
    "duration": 7,
    "start_time": "2021-11-25T13:02:35.192Z"
   },
   {
    "duration": 25,
    "start_time": "2021-11-25T13:02:35.202Z"
   },
   {
    "duration": 19,
    "start_time": "2021-11-25T13:02:35.228Z"
   },
   {
    "duration": 19,
    "start_time": "2021-11-25T13:02:35.248Z"
   },
   {
    "duration": 25,
    "start_time": "2021-11-25T13:02:35.269Z"
   },
   {
    "duration": 1023,
    "start_time": "2021-11-25T13:02:35.296Z"
   },
   {
    "duration": 9,
    "start_time": "2021-11-25T13:02:36.320Z"
   },
   {
    "duration": 35,
    "start_time": "2021-11-25T13:02:36.331Z"
   },
   {
    "duration": 10,
    "start_time": "2021-11-25T13:02:36.368Z"
   },
   {
    "duration": 25,
    "start_time": "2021-11-25T13:02:36.380Z"
   },
   {
    "duration": 473,
    "start_time": "2021-11-25T13:02:36.407Z"
   },
   {
    "duration": 62,
    "start_time": "2021-11-25T13:02:36.882Z"
   },
   {
    "duration": 13,
    "start_time": "2021-11-25T13:02:36.946Z"
   },
   {
    "duration": 10,
    "start_time": "2021-11-25T13:02:36.960Z"
   },
   {
    "duration": 13,
    "start_time": "2021-11-25T13:02:36.972Z"
   },
   {
    "duration": 1377,
    "start_time": "2021-11-25T13:02:36.986Z"
   },
   {
    "duration": 32,
    "start_time": "2021-11-25T13:02:38.365Z"
   },
   {
    "duration": 5,
    "start_time": "2021-11-25T13:02:38.399Z"
   },
   {
    "duration": 7,
    "start_time": "2021-11-25T13:02:38.406Z"
   },
   {
    "duration": 55,
    "start_time": "2021-11-25T13:02:38.415Z"
   },
   {
    "duration": 11,
    "start_time": "2021-11-25T13:02:38.472Z"
   },
   {
    "duration": 70,
    "start_time": "2021-11-25T13:02:38.485Z"
   },
   {
    "duration": 11,
    "start_time": "2021-11-25T13:02:38.557Z"
   },
   {
    "duration": 20,
    "start_time": "2021-11-25T13:02:38.570Z"
   },
   {
    "duration": 1529,
    "start_time": "2021-11-25T13:02:38.592Z"
   },
   {
    "duration": 28,
    "start_time": "2021-11-25T13:02:40.123Z"
   },
   {
    "duration": 19,
    "start_time": "2021-11-25T13:02:40.153Z"
   },
   {
    "duration": 911,
    "start_time": "2021-11-25T13:02:40.174Z"
   },
   {
    "duration": 3,
    "start_time": "2021-11-25T13:02:41.087Z"
   },
   {
    "duration": 7,
    "start_time": "2021-11-25T13:02:41.092Z"
   },
   {
    "duration": 22,
    "start_time": "2021-11-25T13:02:41.101Z"
   },
   {
    "duration": 133,
    "start_time": "2021-11-25T13:02:41.125Z"
   },
   {
    "duration": 11,
    "start_time": "2021-11-25T13:02:41.260Z"
   },
   {
    "duration": 21,
    "start_time": "2021-11-25T13:02:41.272Z"
   },
   {
    "duration": 6,
    "start_time": "2021-11-25T13:02:41.294Z"
   },
   {
    "duration": 10,
    "start_time": "2021-11-25T13:02:41.301Z"
   },
   {
    "duration": 40,
    "start_time": "2021-11-25T13:02:41.313Z"
   },
   {
    "duration": 13,
    "start_time": "2021-11-25T13:02:41.354Z"
   },
   {
    "duration": 33,
    "start_time": "2021-11-25T13:02:41.368Z"
   },
   {
    "duration": 12,
    "start_time": "2021-11-25T13:02:41.402Z"
   },
   {
    "duration": 33,
    "start_time": "2021-11-25T13:02:41.416Z"
   },
   {
    "duration": 9,
    "start_time": "2021-11-25T13:02:41.451Z"
   },
   {
    "duration": 21,
    "start_time": "2021-11-25T13:02:41.462Z"
   },
   {
    "duration": 4,
    "start_time": "2021-11-25T13:02:41.485Z"
   },
   {
    "duration": 12,
    "start_time": "2021-11-25T13:02:41.491Z"
   },
   {
    "duration": 2,
    "start_time": "2021-11-25T13:02:41.509Z"
   },
   {
    "duration": 21,
    "start_time": "2021-11-25T13:02:41.545Z"
   },
   {
    "duration": 4,
    "start_time": "2021-11-25T13:02:41.568Z"
   },
   {
    "duration": 6,
    "start_time": "2021-11-25T13:02:41.573Z"
   },
   {
    "duration": 24,
    "start_time": "2021-11-25T13:02:41.580Z"
   },
   {
    "duration": 3,
    "start_time": "2021-11-25T13:02:41.606Z"
   },
   {
    "duration": 4,
    "start_time": "2021-11-25T13:02:41.611Z"
   },
   {
    "duration": 142,
    "start_time": "2021-11-25T13:02:41.617Z"
   },
   {
    "duration": 3,
    "start_time": "2021-11-25T13:02:41.761Z"
   },
   {
    "duration": 6,
    "start_time": "2021-11-25T13:02:41.766Z"
   },
   {
    "duration": 7,
    "start_time": "2021-11-25T13:02:41.774Z"
   },
   {
    "duration": 21,
    "start_time": "2021-11-25T13:02:41.782Z"
   },
   {
    "duration": 6,
    "start_time": "2021-11-25T13:02:41.805Z"
   },
   {
    "duration": 5,
    "start_time": "2021-11-25T13:02:41.812Z"
   },
   {
    "duration": 20,
    "start_time": "2021-11-25T13:02:41.845Z"
   },
   {
    "duration": 11,
    "start_time": "2021-11-25T13:02:41.867Z"
   },
   {
    "duration": 18,
    "start_time": "2021-11-25T13:02:41.880Z"
   },
   {
    "duration": 5,
    "start_time": "2021-11-25T13:10:00.512Z"
   },
   {
    "duration": 4,
    "start_time": "2021-11-25T13:10:02.249Z"
   },
   {
    "duration": 5,
    "start_time": "2021-11-25T13:10:04.410Z"
   },
   {
    "duration": 4,
    "start_time": "2021-11-25T13:11:53.957Z"
   },
   {
    "duration": 4,
    "start_time": "2021-11-25T13:11:57.134Z"
   },
   {
    "duration": 5,
    "start_time": "2021-11-25T13:11:59.622Z"
   },
   {
    "duration": 4,
    "start_time": "2021-11-25T13:22:30.348Z"
   },
   {
    "duration": 362,
    "start_time": "2021-11-25T13:27:07.824Z"
   },
   {
    "duration": 4,
    "start_time": "2021-11-25T13:29:46.688Z"
   },
   {
    "duration": 313,
    "start_time": "2021-11-25T13:29:59.135Z"
   },
   {
    "duration": 2,
    "start_time": "2021-11-25T13:37:26.611Z"
   },
   {
    "duration": 5,
    "start_time": "2021-11-25T13:37:44.750Z"
   },
   {
    "duration": 3,
    "start_time": "2021-11-25T13:50:43.924Z"
   },
   {
    "duration": 3,
    "start_time": "2021-11-25T13:50:54.847Z"
   },
   {
    "duration": 187,
    "start_time": "2021-11-25T13:50:59.157Z"
   },
   {
    "duration": 209,
    "start_time": "2021-11-25T13:51:27.992Z"
   },
   {
    "duration": 730,
    "start_time": "2021-11-25T13:51:54.971Z"
   },
   {
    "duration": 887,
    "start_time": "2021-11-25T13:54:05.567Z"
   },
   {
    "duration": 4,
    "start_time": "2021-11-25T13:54:37.177Z"
   },
   {
    "duration": 3,
    "start_time": "2021-11-25T14:00:20.677Z"
   },
   {
    "duration": 361,
    "start_time": "2021-11-25T14:00:22.690Z"
   },
   {
    "duration": 4,
    "start_time": "2021-11-25T14:00:26.103Z"
   },
   {
    "duration": 327,
    "start_time": "2021-11-25T14:21:51.851Z"
   },
   {
    "duration": 509,
    "start_time": "2021-11-25T15:28:19.076Z"
   },
   {
    "duration": 314,
    "start_time": "2021-11-25T15:29:01.281Z"
   },
   {
    "duration": 4,
    "start_time": "2021-11-25T15:29:13.284Z"
   },
   {
    "duration": 3,
    "start_time": "2021-11-25T15:29:19.351Z"
   },
   {
    "duration": 28249,
    "start_time": "2021-11-25T15:29:22.248Z"
   },
   {
    "duration": 4,
    "start_time": "2021-11-25T15:30:16.275Z"
   },
   {
    "duration": 3,
    "start_time": "2021-11-25T15:32:38.362Z"
   },
   {
    "duration": 58122,
    "start_time": "2021-11-25T15:32:41.440Z"
   },
   {
    "duration": 4,
    "start_time": "2021-11-25T15:33:54.998Z"
   },
   {
    "duration": 3,
    "start_time": "2021-11-25T15:34:11.407Z"
   },
   {
    "duration": 24737,
    "start_time": "2021-11-25T15:34:12.755Z"
   },
   {
    "duration": 3,
    "start_time": "2021-11-25T15:35:07.314Z"
   },
   {
    "duration": 53417,
    "start_time": "2021-11-25T15:35:08.969Z"
   },
   {
    "duration": 4,
    "start_time": "2021-11-25T15:36:32.123Z"
   },
   {
    "duration": 4,
    "start_time": "2021-11-25T15:39:05.078Z"
   },
   {
    "duration": 220,
    "start_time": "2021-11-25T15:39:07.127Z"
   },
   {
    "duration": 1294,
    "start_time": "2021-11-25T15:59:34.469Z"
   },
   {
    "duration": 179,
    "start_time": "2021-11-25T15:59:35.765Z"
   },
   {
    "duration": 3,
    "start_time": "2021-11-25T15:59:35.946Z"
   },
   {
    "duration": 26,
    "start_time": "2021-11-25T15:59:35.951Z"
   },
   {
    "duration": 32,
    "start_time": "2021-11-25T15:59:35.978Z"
   },
   {
    "duration": 41,
    "start_time": "2021-11-25T15:59:36.012Z"
   },
   {
    "duration": 298,
    "start_time": "2021-11-25T15:59:36.055Z"
   },
   {
    "duration": 281,
    "start_time": "2021-11-25T15:59:36.356Z"
   },
   {
    "duration": 11,
    "start_time": "2021-11-25T15:59:36.639Z"
   },
   {
    "duration": 298,
    "start_time": "2021-11-25T15:59:36.652Z"
   },
   {
    "duration": 13,
    "start_time": "2021-11-25T15:59:36.951Z"
   },
   {
    "duration": 31,
    "start_time": "2021-11-25T15:59:36.965Z"
   },
   {
    "duration": 38,
    "start_time": "2021-11-25T15:59:36.997Z"
   },
   {
    "duration": 2032,
    "start_time": "2021-11-25T15:59:37.037Z"
   },
   {
    "duration": 47,
    "start_time": "2021-11-25T15:59:39.071Z"
   },
   {
    "duration": 254,
    "start_time": "2021-11-25T15:59:39.120Z"
   },
   {
    "duration": 309,
    "start_time": "2021-11-25T15:59:39.376Z"
   },
   {
    "duration": 13,
    "start_time": "2021-11-25T15:59:39.687Z"
   },
   {
    "duration": 223,
    "start_time": "2021-11-25T15:59:39.702Z"
   },
   {
    "duration": 7,
    "start_time": "2021-11-25T15:59:39.927Z"
   },
   {
    "duration": 14,
    "start_time": "2021-11-25T15:59:39.945Z"
   },
   {
    "duration": 287,
    "start_time": "2021-11-25T15:59:39.961Z"
   },
   {
    "duration": 8,
    "start_time": "2021-11-25T15:59:40.252Z"
   },
   {
    "duration": 13,
    "start_time": "2021-11-25T15:59:40.262Z"
   },
   {
    "duration": 15,
    "start_time": "2021-11-25T15:59:40.277Z"
   },
   {
    "duration": 12,
    "start_time": "2021-11-25T15:59:40.294Z"
   },
   {
    "duration": 30,
    "start_time": "2021-11-25T15:59:40.308Z"
   },
   {
    "duration": 1201,
    "start_time": "2021-11-25T15:59:40.340Z"
   },
   {
    "duration": 8,
    "start_time": "2021-11-25T15:59:41.545Z"
   },
   {
    "duration": 21,
    "start_time": "2021-11-25T15:59:41.556Z"
   },
   {
    "duration": 9,
    "start_time": "2021-11-25T15:59:41.580Z"
   },
   {
    "duration": 12,
    "start_time": "2021-11-25T15:59:41.590Z"
   },
   {
    "duration": 305,
    "start_time": "2021-11-25T15:59:41.604Z"
   },
   {
    "duration": 10,
    "start_time": "2021-11-25T15:59:41.911Z"
   },
   {
    "duration": 30,
    "start_time": "2021-11-25T15:59:41.923Z"
   },
   {
    "duration": 10,
    "start_time": "2021-11-25T15:59:41.955Z"
   },
   {
    "duration": 12,
    "start_time": "2021-11-25T15:59:41.966Z"
   },
   {
    "duration": 1275,
    "start_time": "2021-11-25T15:59:41.980Z"
   },
   {
    "duration": 35,
    "start_time": "2021-11-25T15:59:43.256Z"
   },
   {
    "duration": 6,
    "start_time": "2021-11-25T15:59:43.292Z"
   },
   {
    "duration": 9,
    "start_time": "2021-11-25T15:59:43.300Z"
   },
   {
    "duration": 63,
    "start_time": "2021-11-25T15:59:43.311Z"
   },
   {
    "duration": 12,
    "start_time": "2021-11-25T15:59:43.376Z"
   },
   {
    "duration": 65,
    "start_time": "2021-11-25T15:59:43.390Z"
   },
   {
    "duration": 12,
    "start_time": "2021-11-25T15:59:43.457Z"
   },
   {
    "duration": 21,
    "start_time": "2021-11-25T15:59:43.470Z"
   },
   {
    "duration": 1499,
    "start_time": "2021-11-25T15:59:43.493Z"
   },
   {
    "duration": 23,
    "start_time": "2021-11-25T15:59:44.994Z"
   },
   {
    "duration": 27,
    "start_time": "2021-11-25T15:59:45.018Z"
   },
   {
    "duration": 875,
    "start_time": "2021-11-25T15:59:45.046Z"
   },
   {
    "duration": 4,
    "start_time": "2021-11-25T15:59:45.922Z"
   },
   {
    "duration": 18,
    "start_time": "2021-11-25T15:59:45.927Z"
   },
   {
    "duration": 21,
    "start_time": "2021-11-25T15:59:45.947Z"
   },
   {
    "duration": 126,
    "start_time": "2021-11-25T15:59:45.970Z"
   },
   {
    "duration": 11,
    "start_time": "2021-11-25T15:59:46.098Z"
   },
   {
    "duration": 33,
    "start_time": "2021-11-25T15:59:46.111Z"
   },
   {
    "duration": 6,
    "start_time": "2021-11-25T15:59:46.146Z"
   },
   {
    "duration": 23,
    "start_time": "2021-11-25T15:59:46.154Z"
   },
   {
    "duration": 15,
    "start_time": "2021-11-25T15:59:46.178Z"
   },
   {
    "duration": 12,
    "start_time": "2021-11-25T15:59:46.195Z"
   },
   {
    "duration": 53,
    "start_time": "2021-11-25T15:59:46.209Z"
   },
   {
    "duration": 11,
    "start_time": "2021-11-25T15:59:46.263Z"
   },
   {
    "duration": 26,
    "start_time": "2021-11-25T15:59:46.276Z"
   },
   {
    "duration": 9,
    "start_time": "2021-11-25T15:59:46.303Z"
   },
   {
    "duration": 26,
    "start_time": "2021-11-25T15:59:46.313Z"
   },
   {
    "duration": 4,
    "start_time": "2021-11-25T15:59:46.341Z"
   },
   {
    "duration": 25,
    "start_time": "2021-11-25T15:59:46.346Z"
   },
   {
    "duration": 21,
    "start_time": "2021-11-25T15:59:46.376Z"
   },
   {
    "duration": 4,
    "start_time": "2021-11-25T15:59:46.399Z"
   },
   {
    "duration": 7,
    "start_time": "2021-11-25T15:59:46.405Z"
   },
   {
    "duration": 22,
    "start_time": "2021-11-25T15:59:46.413Z"
   },
   {
    "duration": 4,
    "start_time": "2021-11-25T15:59:46.444Z"
   },
   {
    "duration": 33,
    "start_time": "2021-11-25T15:59:46.450Z"
   },
   {
    "duration": 4,
    "start_time": "2021-11-25T15:59:46.485Z"
   },
   {
    "duration": 29,
    "start_time": "2021-11-25T15:59:46.491Z"
   },
   {
    "duration": 117,
    "start_time": "2021-11-25T15:59:46.522Z"
   },
   {
    "duration": 4,
    "start_time": "2021-11-25T15:59:46.641Z"
   },
   {
    "duration": 22,
    "start_time": "2021-11-25T15:59:46.646Z"
   },
   {
    "duration": 7,
    "start_time": "2021-11-25T15:59:46.670Z"
   },
   {
    "duration": 25,
    "start_time": "2021-11-25T15:59:46.678Z"
   },
   {
    "duration": 5,
    "start_time": "2021-11-25T15:59:46.705Z"
   },
   {
    "duration": 35,
    "start_time": "2021-11-25T15:59:46.712Z"
   },
   {
    "duration": 21,
    "start_time": "2021-11-25T15:59:46.749Z"
   },
   {
    "duration": 10,
    "start_time": "2021-11-25T15:59:46.772Z"
   },
   {
    "duration": 16,
    "start_time": "2021-11-25T15:59:46.784Z"
   },
   {
    "duration": 32,
    "start_time": "2021-11-25T15:59:46.802Z"
   },
   {
    "duration": 15,
    "start_time": "2021-11-25T15:59:46.835Z"
   },
   {
    "duration": 9,
    "start_time": "2021-11-25T15:59:46.852Z"
   },
   {
    "duration": 12,
    "start_time": "2021-11-25T15:59:46.862Z"
   },
   {
    "duration": 6,
    "start_time": "2021-11-25T15:59:46.876Z"
   },
   {
    "duration": 16,
    "start_time": "2021-11-25T15:59:46.883Z"
   },
   {
    "duration": 9,
    "start_time": "2021-11-25T15:59:46.900Z"
   },
   {
    "duration": 1154,
    "start_time": "2021-11-25T15:59:46.910Z"
   },
   {
    "duration": 4,
    "start_time": "2021-11-25T15:59:48.145Z"
   },
   {
    "duration": 6,
    "start_time": "2021-11-25T15:59:48.151Z"
   },
   {
    "duration": 56147,
    "start_time": "2021-11-25T15:59:48.159Z"
   },
   {
    "duration": 3,
    "start_time": "2021-11-25T16:00:44.308Z"
   },
   {
    "duration": 10,
    "start_time": "2021-11-25T16:00:44.313Z"
   },
   {
    "duration": 426,
    "start_time": "2021-11-25T16:00:44.325Z"
   },
   {
    "duration": 1365,
    "start_time": "2021-11-25T16:01:55.643Z"
   },
   {
    "duration": 192,
    "start_time": "2021-11-25T16:01:57.010Z"
   },
   {
    "duration": 3,
    "start_time": "2021-11-25T16:01:57.205Z"
   },
   {
    "duration": 22,
    "start_time": "2021-11-25T16:01:57.211Z"
   },
   {
    "duration": 26,
    "start_time": "2021-11-25T16:01:57.236Z"
   },
   {
    "duration": 22,
    "start_time": "2021-11-25T16:01:57.265Z"
   },
   {
    "duration": 347,
    "start_time": "2021-11-25T16:01:57.289Z"
   },
   {
    "duration": 325,
    "start_time": "2021-11-25T16:01:57.639Z"
   },
   {
    "duration": 8,
    "start_time": "2021-11-25T16:01:57.966Z"
   },
   {
    "duration": 325,
    "start_time": "2021-11-25T16:01:57.976Z"
   },
   {
    "duration": 12,
    "start_time": "2021-11-25T16:01:58.303Z"
   },
   {
    "duration": 21,
    "start_time": "2021-11-25T16:01:58.317Z"
   },
   {
    "duration": 15,
    "start_time": "2021-11-25T16:01:58.344Z"
   },
   {
    "duration": 2504,
    "start_time": "2021-11-25T16:01:58.361Z"
   },
   {
    "duration": 79,
    "start_time": "2021-11-25T16:02:00.867Z"
   },
   {
    "duration": 371,
    "start_time": "2021-11-25T16:02:00.949Z"
   },
   {
    "duration": 333,
    "start_time": "2021-11-25T16:02:01.321Z"
   },
   {
    "duration": 16,
    "start_time": "2021-11-25T16:02:01.656Z"
   },
   {
    "duration": 260,
    "start_time": "2021-11-25T16:02:01.674Z"
   },
   {
    "duration": 10,
    "start_time": "2021-11-25T16:02:01.936Z"
   },
   {
    "duration": 32,
    "start_time": "2021-11-25T16:02:01.948Z"
   },
   {
    "duration": 367,
    "start_time": "2021-11-25T16:02:01.982Z"
   },
   {
    "duration": 8,
    "start_time": "2021-11-25T16:02:02.353Z"
   },
   {
    "duration": 35,
    "start_time": "2021-11-25T16:02:02.363Z"
   },
   {
    "duration": 17,
    "start_time": "2021-11-25T16:02:02.400Z"
   },
   {
    "duration": 18,
    "start_time": "2021-11-25T16:02:02.419Z"
   },
   {
    "duration": 32,
    "start_time": "2021-11-25T16:02:02.439Z"
   },
   {
    "duration": 1189,
    "start_time": "2021-11-25T16:02:02.473Z"
   },
   {
    "duration": 7,
    "start_time": "2021-11-25T16:02:03.664Z"
   },
   {
    "duration": 45,
    "start_time": "2021-11-25T16:02:03.673Z"
   },
   {
    "duration": 9,
    "start_time": "2021-11-25T16:02:03.720Z"
   },
   {
    "duration": 34,
    "start_time": "2021-11-25T16:02:03.730Z"
   },
   {
    "duration": 305,
    "start_time": "2021-11-25T16:02:03.766Z"
   },
   {
    "duration": 10,
    "start_time": "2021-11-25T16:02:04.073Z"
   },
   {
    "duration": 37,
    "start_time": "2021-11-25T16:02:04.085Z"
   },
   {
    "duration": 28,
    "start_time": "2021-11-25T16:02:04.124Z"
   },
   {
    "duration": 37,
    "start_time": "2021-11-25T16:02:04.154Z"
   },
   {
    "duration": 1328,
    "start_time": "2021-11-25T16:02:04.193Z"
   },
   {
    "duration": 42,
    "start_time": "2021-11-25T16:02:05.522Z"
   },
   {
    "duration": 5,
    "start_time": "2021-11-25T16:02:05.566Z"
   },
   {
    "duration": 54,
    "start_time": "2021-11-25T16:02:05.573Z"
   },
   {
    "duration": 57,
    "start_time": "2021-11-25T16:02:05.629Z"
   },
   {
    "duration": 14,
    "start_time": "2021-11-25T16:02:05.688Z"
   },
   {
    "duration": 70,
    "start_time": "2021-11-25T16:02:05.704Z"
   },
   {
    "duration": 11,
    "start_time": "2021-11-25T16:02:05.776Z"
   },
   {
    "duration": 39,
    "start_time": "2021-11-25T16:02:05.789Z"
   },
   {
    "duration": 1538,
    "start_time": "2021-11-25T16:02:05.829Z"
   },
   {
    "duration": 23,
    "start_time": "2021-11-25T16:02:07.368Z"
   },
   {
    "duration": 30,
    "start_time": "2021-11-25T16:02:07.392Z"
   },
   {
    "duration": 1028,
    "start_time": "2021-11-25T16:02:07.424Z"
   },
   {
    "duration": 5,
    "start_time": "2021-11-25T16:02:08.455Z"
   },
   {
    "duration": 38,
    "start_time": "2021-11-25T16:02:08.462Z"
   },
   {
    "duration": 51,
    "start_time": "2021-11-25T16:02:08.502Z"
   },
   {
    "duration": 136,
    "start_time": "2021-11-25T16:02:08.555Z"
   },
   {
    "duration": 12,
    "start_time": "2021-11-25T16:02:08.692Z"
   },
   {
    "duration": 49,
    "start_time": "2021-11-25T16:02:08.706Z"
   },
   {
    "duration": 51,
    "start_time": "2021-11-25T16:02:08.757Z"
   },
   {
    "duration": 79,
    "start_time": "2021-11-25T16:02:08.810Z"
   },
   {
    "duration": 56,
    "start_time": "2021-11-25T16:02:08.891Z"
   },
   {
    "duration": 51,
    "start_time": "2021-11-25T16:02:08.949Z"
   },
   {
    "duration": 70,
    "start_time": "2021-11-25T16:02:09.002Z"
   },
   {
    "duration": 22,
    "start_time": "2021-11-25T16:02:09.074Z"
   },
   {
    "duration": 44,
    "start_time": "2021-11-25T16:02:09.098Z"
   },
   {
    "duration": 39,
    "start_time": "2021-11-25T16:02:09.144Z"
   },
   {
    "duration": 50,
    "start_time": "2021-11-25T16:02:09.185Z"
   },
   {
    "duration": 22,
    "start_time": "2021-11-25T16:02:09.237Z"
   },
   {
    "duration": 65,
    "start_time": "2021-11-25T16:02:09.260Z"
   },
   {
    "duration": 56,
    "start_time": "2021-11-25T16:02:09.330Z"
   },
   {
    "duration": 78,
    "start_time": "2021-11-25T16:02:09.388Z"
   },
   {
    "duration": 32,
    "start_time": "2021-11-25T16:02:09.468Z"
   },
   {
    "duration": 61,
    "start_time": "2021-11-25T16:02:09.502Z"
   },
   {
    "duration": 32,
    "start_time": "2021-11-25T16:02:09.565Z"
   },
   {
    "duration": 54,
    "start_time": "2021-11-25T16:02:09.598Z"
   },
   {
    "duration": 21,
    "start_time": "2021-11-25T16:02:09.654Z"
   },
   {
    "duration": 38,
    "start_time": "2021-11-25T16:02:09.677Z"
   },
   {
    "duration": 130,
    "start_time": "2021-11-25T16:02:09.716Z"
   },
   {
    "duration": 4,
    "start_time": "2021-11-25T16:02:09.848Z"
   },
   {
    "duration": 25,
    "start_time": "2021-11-25T16:02:09.853Z"
   },
   {
    "duration": 28,
    "start_time": "2021-11-25T16:02:09.879Z"
   },
   {
    "duration": 43,
    "start_time": "2021-11-25T16:02:09.908Z"
   },
   {
    "duration": 21,
    "start_time": "2021-11-25T16:02:09.953Z"
   },
   {
    "duration": 28,
    "start_time": "2021-11-25T16:02:09.976Z"
   },
   {
    "duration": 42,
    "start_time": "2021-11-25T16:02:10.006Z"
   },
   {
    "duration": 40,
    "start_time": "2021-11-25T16:02:10.050Z"
   },
   {
    "duration": 46,
    "start_time": "2021-11-25T16:02:10.092Z"
   },
   {
    "duration": 30,
    "start_time": "2021-11-25T16:02:10.140Z"
   },
   {
    "duration": 19,
    "start_time": "2021-11-25T16:02:10.172Z"
   },
   {
    "duration": 29,
    "start_time": "2021-11-25T16:02:10.192Z"
   },
   {
    "duration": 27,
    "start_time": "2021-11-25T16:02:10.223Z"
   },
   {
    "duration": 33,
    "start_time": "2021-11-25T16:02:10.251Z"
   },
   {
    "duration": 31,
    "start_time": "2021-11-25T16:02:10.285Z"
   },
   {
    "duration": 28,
    "start_time": "2021-11-25T16:02:10.318Z"
   },
   {
    "duration": 398,
    "start_time": "2021-11-25T16:02:10.348Z"
   },
   {
    "duration": 5,
    "start_time": "2021-11-25T16:02:10.748Z"
   },
   {
    "duration": 20,
    "start_time": "2021-11-25T16:02:10.845Z"
   },
   {
    "duration": 57036,
    "start_time": "2021-11-25T16:02:10.867Z"
   },
   {
    "duration": 4,
    "start_time": "2021-11-25T16:03:07.905Z"
   },
   {
    "duration": 24,
    "start_time": "2021-11-25T16:03:07.910Z"
   },
   {
    "duration": 361,
    "start_time": "2021-11-25T16:03:07.935Z"
   },
   {
    "duration": 1233,
    "start_time": "2021-11-25T16:06:06.325Z"
   },
   {
    "duration": 177,
    "start_time": "2021-11-25T16:06:07.560Z"
   },
   {
    "duration": 2,
    "start_time": "2021-11-25T16:06:07.739Z"
   },
   {
    "duration": 32,
    "start_time": "2021-11-25T16:06:07.743Z"
   },
   {
    "duration": 8,
    "start_time": "2021-11-25T16:06:07.777Z"
   },
   {
    "duration": 21,
    "start_time": "2021-11-25T16:06:07.787Z"
   },
   {
    "duration": 286,
    "start_time": "2021-11-25T16:06:07.809Z"
   },
   {
    "duration": 288,
    "start_time": "2021-11-25T16:06:08.098Z"
   },
   {
    "duration": 9,
    "start_time": "2021-11-25T16:06:08.388Z"
   },
   {
    "duration": 289,
    "start_time": "2021-11-25T16:06:08.399Z"
   },
   {
    "duration": 14,
    "start_time": "2021-11-25T16:06:08.690Z"
   },
   {
    "duration": 29,
    "start_time": "2021-11-25T16:06:08.705Z"
   },
   {
    "duration": 19,
    "start_time": "2021-11-25T16:06:08.736Z"
   },
   {
    "duration": 2315,
    "start_time": "2021-11-25T16:06:08.757Z"
   },
   {
    "duration": 50,
    "start_time": "2021-11-25T16:06:11.074Z"
   },
   {
    "duration": 242,
    "start_time": "2021-11-25T16:06:11.126Z"
   },
   {
    "duration": 293,
    "start_time": "2021-11-25T16:06:11.370Z"
   },
   {
    "duration": 14,
    "start_time": "2021-11-25T16:06:11.665Z"
   },
   {
    "duration": 322,
    "start_time": "2021-11-25T16:06:11.681Z"
   },
   {
    "duration": 6,
    "start_time": "2021-11-25T16:06:12.005Z"
   },
   {
    "duration": 31,
    "start_time": "2021-11-25T16:06:12.013Z"
   },
   {
    "duration": 267,
    "start_time": "2021-11-25T16:06:12.046Z"
   },
   {
    "duration": 7,
    "start_time": "2021-11-25T16:06:12.317Z"
   },
   {
    "duration": 17,
    "start_time": "2021-11-25T16:06:12.327Z"
   },
   {
    "duration": 12,
    "start_time": "2021-11-25T16:06:12.346Z"
   },
   {
    "duration": 17,
    "start_time": "2021-11-25T16:06:12.360Z"
   },
   {
    "duration": 18,
    "start_time": "2021-11-25T16:06:12.379Z"
   },
   {
    "duration": 1058,
    "start_time": "2021-11-25T16:06:12.398Z"
   },
   {
    "duration": 6,
    "start_time": "2021-11-25T16:06:13.458Z"
   },
   {
    "duration": 16,
    "start_time": "2021-11-25T16:06:13.466Z"
   },
   {
    "duration": 8,
    "start_time": "2021-11-25T16:06:13.484Z"
   },
   {
    "duration": 15,
    "start_time": "2021-11-25T16:06:13.494Z"
   },
   {
    "duration": 293,
    "start_time": "2021-11-25T16:06:13.510Z"
   },
   {
    "duration": 11,
    "start_time": "2021-11-25T16:06:13.805Z"
   },
   {
    "duration": 30,
    "start_time": "2021-11-25T16:06:13.818Z"
   },
   {
    "duration": 23,
    "start_time": "2021-11-25T16:06:13.850Z"
   },
   {
    "duration": 46,
    "start_time": "2021-11-25T16:06:13.876Z"
   },
   {
    "duration": 1284,
    "start_time": "2021-11-25T16:06:13.924Z"
   },
   {
    "duration": 42,
    "start_time": "2021-11-25T16:06:15.210Z"
   },
   {
    "duration": 6,
    "start_time": "2021-11-25T16:06:15.253Z"
   },
   {
    "duration": 30,
    "start_time": "2021-11-25T16:06:15.260Z"
   },
   {
    "duration": 64,
    "start_time": "2021-11-25T16:06:15.291Z"
   },
   {
    "duration": 10,
    "start_time": "2021-11-25T16:06:15.356Z"
   },
   {
    "duration": 59,
    "start_time": "2021-11-25T16:06:15.368Z"
   },
   {
    "duration": 14,
    "start_time": "2021-11-25T16:06:15.429Z"
   },
   {
    "duration": 38,
    "start_time": "2021-11-25T16:06:15.444Z"
   },
   {
    "duration": 1554,
    "start_time": "2021-11-25T16:06:15.483Z"
   },
   {
    "duration": 29,
    "start_time": "2021-11-25T16:06:17.039Z"
   },
   {
    "duration": 41,
    "start_time": "2021-11-25T16:06:17.070Z"
   },
   {
    "duration": 948,
    "start_time": "2021-11-25T16:06:17.113Z"
   },
   {
    "duration": 3,
    "start_time": "2021-11-25T16:06:18.063Z"
   },
   {
    "duration": 37,
    "start_time": "2021-11-25T16:06:18.068Z"
   },
   {
    "duration": 27,
    "start_time": "2021-11-25T16:06:18.107Z"
   },
   {
    "duration": 117,
    "start_time": "2021-11-25T16:06:18.136Z"
   },
   {
    "duration": 12,
    "start_time": "2021-11-25T16:06:18.255Z"
   },
   {
    "duration": 21,
    "start_time": "2021-11-25T16:06:18.269Z"
   },
   {
    "duration": 7,
    "start_time": "2021-11-25T16:06:18.292Z"
   },
   {
    "duration": 21,
    "start_time": "2021-11-25T16:06:18.301Z"
   },
   {
    "duration": 34,
    "start_time": "2021-11-25T16:06:18.324Z"
   },
   {
    "duration": 17,
    "start_time": "2021-11-25T16:06:18.361Z"
   },
   {
    "duration": 43,
    "start_time": "2021-11-25T16:06:18.380Z"
   },
   {
    "duration": 19,
    "start_time": "2021-11-25T16:06:18.425Z"
   },
   {
    "duration": 12,
    "start_time": "2021-11-25T16:06:18.446Z"
   },
   {
    "duration": 9,
    "start_time": "2021-11-25T16:06:18.460Z"
   },
   {
    "duration": 40,
    "start_time": "2021-11-25T16:06:18.470Z"
   },
   {
    "duration": 15,
    "start_time": "2021-11-25T16:06:18.512Z"
   },
   {
    "duration": 13,
    "start_time": "2021-11-25T16:06:18.528Z"
   },
   {
    "duration": 18,
    "start_time": "2021-11-25T16:06:18.546Z"
   },
   {
    "duration": 11,
    "start_time": "2021-11-25T16:06:18.566Z"
   },
   {
    "duration": 6,
    "start_time": "2021-11-25T16:06:18.579Z"
   },
   {
    "duration": 8,
    "start_time": "2021-11-25T16:06:18.587Z"
   },
   {
    "duration": 7625,
    "start_time": "2021-11-25T16:06:18.597Z"
   },
   {
    "duration": -144,
    "start_time": "2021-11-25T16:06:26.368Z"
   },
   {
    "duration": -163,
    "start_time": "2021-11-25T16:06:26.388Z"
   },
   {
    "duration": -172,
    "start_time": "2021-11-25T16:06:26.398Z"
   },
   {
    "duration": -179,
    "start_time": "2021-11-25T16:06:26.406Z"
   },
   {
    "duration": -187,
    "start_time": "2021-11-25T16:06:26.415Z"
   },
   {
    "duration": -196,
    "start_time": "2021-11-25T16:06:26.425Z"
   },
   {
    "duration": -202,
    "start_time": "2021-11-25T16:06:26.432Z"
   },
   {
    "duration": -208,
    "start_time": "2021-11-25T16:06:26.440Z"
   },
   {
    "duration": -214,
    "start_time": "2021-11-25T16:06:26.447Z"
   },
   {
    "duration": -246,
    "start_time": "2021-11-25T16:06:26.480Z"
   },
   {
    "duration": -255,
    "start_time": "2021-11-25T16:06:26.490Z"
   },
   {
    "duration": -264,
    "start_time": "2021-11-25T16:06:26.500Z"
   },
   {
    "duration": -271,
    "start_time": "2021-11-25T16:06:26.508Z"
   },
   {
    "duration": -279,
    "start_time": "2021-11-25T16:06:26.517Z"
   },
   {
    "duration": -286,
    "start_time": "2021-11-25T16:06:26.525Z"
   },
   {
    "duration": -295,
    "start_time": "2021-11-25T16:06:26.535Z"
   },
   {
    "duration": -317,
    "start_time": "2021-11-25T16:06:26.558Z"
   },
   {
    "duration": -324,
    "start_time": "2021-11-25T16:06:26.566Z"
   },
   {
    "duration": -331,
    "start_time": "2021-11-25T16:06:26.574Z"
   },
   {
    "duration": -357,
    "start_time": "2021-11-25T16:06:26.601Z"
   },
   {
    "duration": -367,
    "start_time": "2021-11-25T16:06:26.612Z"
   },
   {
    "duration": -420,
    "start_time": "2021-11-25T16:06:26.666Z"
   },
   {
    "duration": -442,
    "start_time": "2021-11-25T16:06:26.689Z"
   },
   {
    "duration": -475,
    "start_time": "2021-11-25T16:06:26.723Z"
   },
   {
    "duration": -482,
    "start_time": "2021-11-25T16:06:26.731Z"
   },
   {
    "duration": -491,
    "start_time": "2021-11-25T16:06:26.741Z"
   },
   {
    "duration": -498,
    "start_time": "2021-11-25T16:06:26.749Z"
   },
   {
    "duration": -506,
    "start_time": "2021-11-25T16:06:26.759Z"
   },
   {
    "duration": 1273,
    "start_time": "2021-11-25T16:07:39.964Z"
   },
   {
    "duration": 174,
    "start_time": "2021-11-25T16:07:41.239Z"
   },
   {
    "duration": 2,
    "start_time": "2021-11-25T16:07:41.415Z"
   },
   {
    "duration": 8,
    "start_time": "2021-11-25T16:07:41.419Z"
   },
   {
    "duration": 8,
    "start_time": "2021-11-25T16:07:41.429Z"
   },
   {
    "duration": 12,
    "start_time": "2021-11-25T16:07:41.439Z"
   },
   {
    "duration": 285,
    "start_time": "2021-11-25T16:07:41.453Z"
   },
   {
    "duration": 279,
    "start_time": "2021-11-25T16:07:41.740Z"
   },
   {
    "duration": 10,
    "start_time": "2021-11-25T16:07:42.021Z"
   },
   {
    "duration": 291,
    "start_time": "2021-11-25T16:07:42.033Z"
   },
   {
    "duration": 21,
    "start_time": "2021-11-25T16:07:42.326Z"
   },
   {
    "duration": 13,
    "start_time": "2021-11-25T16:07:42.348Z"
   },
   {
    "duration": 15,
    "start_time": "2021-11-25T16:07:42.363Z"
   },
   {
    "duration": 1974,
    "start_time": "2021-11-25T16:07:42.380Z"
   },
   {
    "duration": 48,
    "start_time": "2021-11-25T16:07:44.356Z"
   },
   {
    "duration": 251,
    "start_time": "2021-11-25T16:07:44.405Z"
   },
   {
    "duration": 289,
    "start_time": "2021-11-25T16:07:44.657Z"
   },
   {
    "duration": 13,
    "start_time": "2021-11-25T16:07:44.948Z"
   },
   {
    "duration": 221,
    "start_time": "2021-11-25T16:07:44.963Z"
   },
   {
    "duration": 6,
    "start_time": "2021-11-25T16:07:45.186Z"
   },
   {
    "duration": 9,
    "start_time": "2021-11-25T16:07:45.194Z"
   },
   {
    "duration": 264,
    "start_time": "2021-11-25T16:07:45.205Z"
   },
   {
    "duration": 8,
    "start_time": "2021-11-25T16:07:45.473Z"
   },
   {
    "duration": 10,
    "start_time": "2021-11-25T16:07:45.484Z"
   },
   {
    "duration": 12,
    "start_time": "2021-11-25T16:07:45.495Z"
   },
   {
    "duration": 10,
    "start_time": "2021-11-25T16:07:45.508Z"
   },
   {
    "duration": 27,
    "start_time": "2021-11-25T16:07:45.519Z"
   },
   {
    "duration": 1062,
    "start_time": "2021-11-25T16:07:45.548Z"
   },
   {
    "duration": 7,
    "start_time": "2021-11-25T16:07:46.613Z"
   },
   {
    "duration": 30,
    "start_time": "2021-11-25T16:07:46.622Z"
   },
   {
    "duration": 8,
    "start_time": "2021-11-25T16:07:46.653Z"
   },
   {
    "duration": 6,
    "start_time": "2021-11-25T16:07:46.663Z"
   },
   {
    "duration": 286,
    "start_time": "2021-11-25T16:07:46.671Z"
   },
   {
    "duration": 10,
    "start_time": "2021-11-25T16:07:46.959Z"
   },
   {
    "duration": 12,
    "start_time": "2021-11-25T16:07:46.970Z"
   },
   {
    "duration": 9,
    "start_time": "2021-11-25T16:07:46.984Z"
   },
   {
    "duration": 14,
    "start_time": "2021-11-25T16:07:46.995Z"
   },
   {
    "duration": 1310,
    "start_time": "2021-11-25T16:07:47.010Z"
   },
   {
    "duration": 43,
    "start_time": "2021-11-25T16:07:48.322Z"
   },
   {
    "duration": 5,
    "start_time": "2021-11-25T16:07:48.367Z"
   },
   {
    "duration": 23,
    "start_time": "2021-11-25T16:07:48.374Z"
   },
   {
    "duration": 47,
    "start_time": "2021-11-25T16:07:48.399Z"
   },
   {
    "duration": 12,
    "start_time": "2021-11-25T16:07:48.448Z"
   },
   {
    "duration": 57,
    "start_time": "2021-11-25T16:07:48.462Z"
   },
   {
    "duration": 26,
    "start_time": "2021-11-25T16:07:48.521Z"
   },
   {
    "duration": 29,
    "start_time": "2021-11-25T16:07:48.549Z"
   },
   {
    "duration": 1656,
    "start_time": "2021-11-25T16:07:48.580Z"
   },
   {
    "duration": 25,
    "start_time": "2021-11-25T16:07:50.238Z"
   },
   {
    "duration": 31,
    "start_time": "2021-11-25T16:07:50.264Z"
   },
   {
    "duration": 900,
    "start_time": "2021-11-25T16:07:50.297Z"
   },
   {
    "duration": 4,
    "start_time": "2021-11-25T16:07:51.199Z"
   },
   {
    "duration": 37,
    "start_time": "2021-11-25T16:07:51.205Z"
   },
   {
    "duration": 51,
    "start_time": "2021-11-25T16:07:51.244Z"
   },
   {
    "duration": 114,
    "start_time": "2021-11-25T16:07:51.297Z"
   },
   {
    "duration": 12,
    "start_time": "2021-11-25T16:07:51.413Z"
   },
   {
    "duration": 43,
    "start_time": "2021-11-25T16:07:51.428Z"
   },
   {
    "duration": 31,
    "start_time": "2021-11-25T16:07:51.473Z"
   },
   {
    "duration": 26,
    "start_time": "2021-11-25T16:07:51.506Z"
   },
   {
    "duration": 43,
    "start_time": "2021-11-25T16:07:51.534Z"
   },
   {
    "duration": 22,
    "start_time": "2021-11-25T16:07:51.579Z"
   },
   {
    "duration": 60,
    "start_time": "2021-11-25T16:07:51.603Z"
   },
   {
    "duration": 13,
    "start_time": "2021-11-25T16:07:51.665Z"
   },
   {
    "duration": 31,
    "start_time": "2021-11-25T16:07:51.681Z"
   },
   {
    "duration": 36,
    "start_time": "2021-11-25T16:07:51.714Z"
   },
   {
    "duration": 45,
    "start_time": "2021-11-25T16:07:51.752Z"
   },
   {
    "duration": 31,
    "start_time": "2021-11-25T16:07:51.799Z"
   },
   {
    "duration": 37,
    "start_time": "2021-11-25T16:07:51.832Z"
   },
   {
    "duration": 49,
    "start_time": "2021-11-25T16:07:51.874Z"
   },
   {
    "duration": 31,
    "start_time": "2021-11-25T16:07:51.926Z"
   },
   {
    "duration": 31,
    "start_time": "2021-11-25T16:07:51.959Z"
   },
   {
    "duration": 32,
    "start_time": "2021-11-25T16:07:51.992Z"
   },
   {
    "duration": 7562,
    "start_time": "2021-11-25T16:07:52.026Z"
   },
   {
    "duration": -149,
    "start_time": "2021-11-25T16:07:59.740Z"
   },
   {
    "duration": -158,
    "start_time": "2021-11-25T16:07:59.750Z"
   },
   {
    "duration": -166,
    "start_time": "2021-11-25T16:07:59.759Z"
   },
   {
    "duration": -175,
    "start_time": "2021-11-25T16:07:59.768Z"
   },
   {
    "duration": -181,
    "start_time": "2021-11-25T16:07:59.775Z"
   },
   {
    "duration": -189,
    "start_time": "2021-11-25T16:07:59.784Z"
   },
   {
    "duration": -211,
    "start_time": "2021-11-25T16:07:59.807Z"
   },
   {
    "duration": -220,
    "start_time": "2021-11-25T16:07:59.817Z"
   },
   {
    "duration": -228,
    "start_time": "2021-11-25T16:07:59.825Z"
   },
   {
    "duration": -236,
    "start_time": "2021-11-25T16:07:59.834Z"
   },
   {
    "duration": -242,
    "start_time": "2021-11-25T16:07:59.841Z"
   },
   {
    "duration": -250,
    "start_time": "2021-11-25T16:07:59.850Z"
   },
   {
    "duration": -258,
    "start_time": "2021-11-25T16:07:59.859Z"
   },
   {
    "duration": -266,
    "start_time": "2021-11-25T16:07:59.868Z"
   },
   {
    "duration": -273,
    "start_time": "2021-11-25T16:07:59.876Z"
   },
   {
    "duration": -281,
    "start_time": "2021-11-25T16:07:59.885Z"
   },
   {
    "duration": -289,
    "start_time": "2021-11-25T16:07:59.894Z"
   },
   {
    "duration": -384,
    "start_time": "2021-11-25T16:07:59.989Z"
   },
   {
    "duration": -391,
    "start_time": "2021-11-25T16:07:59.997Z"
   },
   {
    "duration": -399,
    "start_time": "2021-11-25T16:08:00.006Z"
   },
   {
    "duration": -421,
    "start_time": "2021-11-25T16:08:00.029Z"
   },
   {
    "duration": -428,
    "start_time": "2021-11-25T16:08:00.037Z"
   },
   {
    "duration": -435,
    "start_time": "2021-11-25T16:08:00.046Z"
   },
   {
    "duration": -444,
    "start_time": "2021-11-25T16:08:00.056Z"
   },
   {
    "duration": -460,
    "start_time": "2021-11-25T16:08:00.073Z"
   },
   {
    "duration": -467,
    "start_time": "2021-11-25T16:08:00.081Z"
   },
   {
    "duration": -473,
    "start_time": "2021-11-25T16:08:00.088Z"
   },
   {
    "duration": -480,
    "start_time": "2021-11-25T16:08:00.096Z"
   },
   {
    "duration": 1244,
    "start_time": "2021-11-25T16:09:56.315Z"
   },
   {
    "duration": 177,
    "start_time": "2021-11-25T16:09:57.561Z"
   },
   {
    "duration": 2,
    "start_time": "2021-11-25T16:09:57.740Z"
   },
   {
    "duration": 14,
    "start_time": "2021-11-25T16:09:57.744Z"
   },
   {
    "duration": 7,
    "start_time": "2021-11-25T16:09:57.759Z"
   },
   {
    "duration": 17,
    "start_time": "2021-11-25T16:09:57.768Z"
   },
   {
    "duration": 282,
    "start_time": "2021-11-25T16:09:57.787Z"
   },
   {
    "duration": 282,
    "start_time": "2021-11-25T16:09:58.071Z"
   },
   {
    "duration": 8,
    "start_time": "2021-11-25T16:09:58.355Z"
   },
   {
    "duration": 296,
    "start_time": "2021-11-25T16:09:58.365Z"
   },
   {
    "duration": 13,
    "start_time": "2021-11-25T16:09:58.663Z"
   },
   {
    "duration": 24,
    "start_time": "2021-11-25T16:09:58.677Z"
   },
   {
    "duration": 26,
    "start_time": "2021-11-25T16:09:58.703Z"
   },
   {
    "duration": 1951,
    "start_time": "2021-11-25T16:09:58.730Z"
   },
   {
    "duration": 45,
    "start_time": "2021-11-25T16:10:00.683Z"
   },
   {
    "duration": 233,
    "start_time": "2021-11-25T16:10:00.730Z"
   },
   {
    "duration": 303,
    "start_time": "2021-11-25T16:10:00.964Z"
   },
   {
    "duration": 14,
    "start_time": "2021-11-25T16:10:01.269Z"
   },
   {
    "duration": 234,
    "start_time": "2021-11-25T16:10:01.284Z"
   },
   {
    "duration": 6,
    "start_time": "2021-11-25T16:10:01.520Z"
   },
   {
    "duration": 54,
    "start_time": "2021-11-25T16:10:01.527Z"
   },
   {
    "duration": 287,
    "start_time": "2021-11-25T16:10:01.584Z"
   },
   {
    "duration": 8,
    "start_time": "2021-11-25T16:10:01.876Z"
   },
   {
    "duration": 46,
    "start_time": "2021-11-25T16:10:01.887Z"
   },
   {
    "duration": 20,
    "start_time": "2021-11-25T16:10:01.935Z"
   },
   {
    "duration": 18,
    "start_time": "2021-11-25T16:10:01.957Z"
   },
   {
    "duration": 17,
    "start_time": "2021-11-25T16:10:01.977Z"
   },
   {
    "duration": 1137,
    "start_time": "2021-11-25T16:10:01.996Z"
   },
   {
    "duration": 11,
    "start_time": "2021-11-25T16:10:03.135Z"
   },
   {
    "duration": 19,
    "start_time": "2021-11-25T16:10:03.148Z"
   },
   {
    "duration": 10,
    "start_time": "2021-11-25T16:10:03.170Z"
   },
   {
    "duration": 11,
    "start_time": "2021-11-25T16:10:03.182Z"
   },
   {
    "duration": 304,
    "start_time": "2021-11-25T16:10:03.194Z"
   },
   {
    "duration": 10,
    "start_time": "2021-11-25T16:10:03.500Z"
   },
   {
    "duration": 22,
    "start_time": "2021-11-25T16:10:03.511Z"
   },
   {
    "duration": 19,
    "start_time": "2021-11-25T16:10:03.534Z"
   },
   {
    "duration": 34,
    "start_time": "2021-11-25T16:10:03.555Z"
   },
   {
    "duration": 1211,
    "start_time": "2021-11-25T16:10:03.591Z"
   },
   {
    "duration": 42,
    "start_time": "2021-11-25T16:10:04.803Z"
   },
   {
    "duration": 5,
    "start_time": "2021-11-25T16:10:04.847Z"
   },
   {
    "duration": 5,
    "start_time": "2021-11-25T16:10:04.854Z"
   },
   {
    "duration": 33,
    "start_time": "2021-11-25T16:10:04.861Z"
   },
   {
    "duration": 11,
    "start_time": "2021-11-25T16:10:04.895Z"
   },
   {
    "duration": 76,
    "start_time": "2021-11-25T16:10:04.908Z"
   },
   {
    "duration": 12,
    "start_time": "2021-11-25T16:10:04.986Z"
   },
   {
    "duration": 22,
    "start_time": "2021-11-25T16:10:04.999Z"
   },
   {
    "duration": 1448,
    "start_time": "2021-11-25T16:10:05.023Z"
   },
   {
    "duration": 22,
    "start_time": "2021-11-25T16:10:06.473Z"
   },
   {
    "duration": 21,
    "start_time": "2021-11-25T16:10:06.496Z"
   },
   {
    "duration": 845,
    "start_time": "2021-11-25T16:10:06.519Z"
   },
   {
    "duration": 3,
    "start_time": "2021-11-25T16:10:07.366Z"
   },
   {
    "duration": 29,
    "start_time": "2021-11-25T16:10:07.371Z"
   },
   {
    "duration": 41,
    "start_time": "2021-11-25T16:10:07.402Z"
   },
   {
    "duration": 109,
    "start_time": "2021-11-25T16:10:07.445Z"
   },
   {
    "duration": 11,
    "start_time": "2021-11-25T16:10:07.556Z"
   },
   {
    "duration": 37,
    "start_time": "2021-11-25T16:10:07.568Z"
   },
   {
    "duration": 28,
    "start_time": "2021-11-25T16:10:07.607Z"
   },
   {
    "duration": 30,
    "start_time": "2021-11-25T16:10:07.637Z"
   },
   {
    "duration": 33,
    "start_time": "2021-11-25T16:10:07.669Z"
   },
   {
    "duration": 28,
    "start_time": "2021-11-25T16:10:07.703Z"
   },
   {
    "duration": 37,
    "start_time": "2021-11-25T16:10:07.732Z"
   },
   {
    "duration": 11,
    "start_time": "2021-11-25T16:10:07.770Z"
   },
   {
    "duration": 21,
    "start_time": "2021-11-25T16:10:07.783Z"
   },
   {
    "duration": 37,
    "start_time": "2021-11-25T16:10:07.806Z"
   },
   {
    "duration": 47,
    "start_time": "2021-11-25T16:10:07.845Z"
   },
   {
    "duration": 20,
    "start_time": "2021-11-25T16:10:07.894Z"
   },
   {
    "duration": 25,
    "start_time": "2021-11-25T16:10:07.916Z"
   },
   {
    "duration": 33,
    "start_time": "2021-11-25T16:10:07.947Z"
   },
   {
    "duration": 32,
    "start_time": "2021-11-25T16:10:07.983Z"
   },
   {
    "duration": 24,
    "start_time": "2021-11-25T16:10:08.016Z"
   },
   {
    "duration": 43,
    "start_time": "2021-11-25T16:10:08.042Z"
   },
   {
    "duration": 16,
    "start_time": "2021-11-25T16:10:08.086Z"
   },
   {
    "duration": 39,
    "start_time": "2021-11-25T16:10:08.104Z"
   },
   {
    "duration": 15,
    "start_time": "2021-11-25T16:10:08.145Z"
   },
   {
    "duration": 24,
    "start_time": "2021-11-25T16:10:08.162Z"
   },
   {
    "duration": 138,
    "start_time": "2021-11-25T16:10:08.187Z"
   },
   {
    "duration": 4,
    "start_time": "2021-11-25T16:10:08.326Z"
   },
   {
    "duration": 29,
    "start_time": "2021-11-25T16:10:08.331Z"
   },
   {
    "duration": 25,
    "start_time": "2021-11-25T16:10:08.362Z"
   },
   {
    "duration": 35,
    "start_time": "2021-11-25T16:10:08.389Z"
   },
   {
    "duration": 15,
    "start_time": "2021-11-25T16:10:08.426Z"
   },
   {
    "duration": 29,
    "start_time": "2021-11-25T16:10:08.442Z"
   },
   {
    "duration": 38,
    "start_time": "2021-11-25T16:10:08.473Z"
   },
   {
    "duration": 17,
    "start_time": "2021-11-25T16:10:08.513Z"
   },
   {
    "duration": 34,
    "start_time": "2021-11-25T16:10:08.532Z"
   },
   {
    "duration": 24,
    "start_time": "2021-11-25T16:10:08.567Z"
   },
   {
    "duration": 14,
    "start_time": "2021-11-25T16:10:08.593Z"
   },
   {
    "duration": 32,
    "start_time": "2021-11-25T16:10:08.609Z"
   },
   {
    "duration": 24,
    "start_time": "2021-11-25T16:10:08.643Z"
   },
   {
    "duration": 18,
    "start_time": "2021-11-25T16:10:08.669Z"
   },
   {
    "duration": 22,
    "start_time": "2021-11-25T16:10:08.689Z"
   },
   {
    "duration": 18,
    "start_time": "2021-11-25T16:10:08.713Z"
   },
   {
    "duration": 415,
    "start_time": "2021-11-25T16:10:08.732Z"
   },
   {
    "duration": 97,
    "start_time": "2021-11-25T16:10:09.149Z"
   },
   {
    "duration": 13,
    "start_time": "2021-11-25T16:10:09.248Z"
   },
   {
    "duration": 52488,
    "start_time": "2021-11-25T16:10:09.263Z"
   },
   {
    "duration": 4,
    "start_time": "2021-11-25T16:11:01.753Z"
   },
   {
    "duration": 24,
    "start_time": "2021-11-25T16:11:01.758Z"
   },
   {
    "duration": 16267,
    "start_time": "2021-11-25T16:11:01.784Z"
   },
   {
    "duration": 4,
    "start_time": "2021-11-25T16:11:18.053Z"
   },
   {
    "duration": 4,
    "start_time": "2021-11-25T16:18:30.219Z"
   },
   {
    "duration": 100539,
    "start_time": "2021-11-25T16:18:32.613Z"
   },
   {
    "duration": 3,
    "start_time": "2021-11-25T16:22:56.526Z"
   },
   {
    "duration": 10548,
    "start_time": "2021-11-25T16:22:59.105Z"
   },
   {
    "duration": 4,
    "start_time": "2021-11-25T16:23:09.655Z"
   },
   {
    "duration": 4,
    "start_time": "2021-11-25T16:23:24.552Z"
   },
   {
    "duration": 32922,
    "start_time": "2021-11-25T16:23:26.024Z"
   },
   {
    "duration": 5,
    "start_time": "2021-11-25T16:24:16.895Z"
   },
   {
    "duration": 4,
    "start_time": "2021-11-25T16:24:59.439Z"
   },
   {
    "duration": 113616,
    "start_time": "2021-11-25T16:25:04.041Z"
   },
   {
    "duration": 4,
    "start_time": "2021-11-25T16:26:57.659Z"
   },
   {
    "duration": 4,
    "start_time": "2021-11-25T16:27:05.065Z"
   },
   {
    "duration": 3,
    "start_time": "2021-11-25T16:27:19.090Z"
   },
   {
    "duration": 74903,
    "start_time": "2021-11-25T16:27:39.808Z"
   },
   {
    "duration": 346,
    "start_time": "2021-11-25T16:29:48.461Z"
   },
   {
    "duration": 3,
    "start_time": "2021-11-25T16:31:02.944Z"
   },
   {
    "duration": 1567,
    "start_time": "2021-11-25T16:58:39.340Z"
   },
   {
    "duration": 190,
    "start_time": "2021-11-25T16:58:40.910Z"
   },
   {
    "duration": 3,
    "start_time": "2021-11-25T16:58:41.103Z"
   },
   {
    "duration": 13,
    "start_time": "2021-11-25T16:58:41.108Z"
   },
   {
    "duration": 11,
    "start_time": "2021-11-25T16:58:41.123Z"
   },
   {
    "duration": 14,
    "start_time": "2021-11-25T16:58:41.135Z"
   },
   {
    "duration": 302,
    "start_time": "2021-11-25T16:58:41.150Z"
   },
   {
    "duration": 289,
    "start_time": "2021-11-25T16:58:41.455Z"
   },
   {
    "duration": 11,
    "start_time": "2021-11-25T16:58:41.746Z"
   },
   {
    "duration": 301,
    "start_time": "2021-11-25T16:58:41.759Z"
   },
   {
    "duration": 21,
    "start_time": "2021-11-25T16:58:42.062Z"
   },
   {
    "duration": 16,
    "start_time": "2021-11-25T16:58:42.085Z"
   },
   {
    "duration": 45,
    "start_time": "2021-11-25T16:58:42.103Z"
   },
   {
    "duration": 2473,
    "start_time": "2021-11-25T16:58:42.150Z"
   },
   {
    "duration": 58,
    "start_time": "2021-11-25T16:58:44.625Z"
   },
   {
    "duration": 251,
    "start_time": "2021-11-25T16:58:44.685Z"
   },
   {
    "duration": 398,
    "start_time": "2021-11-25T16:58:44.939Z"
   },
   {
    "duration": 15,
    "start_time": "2021-11-25T16:58:45.344Z"
   },
   {
    "duration": 229,
    "start_time": "2021-11-25T16:58:45.361Z"
   },
   {
    "duration": 6,
    "start_time": "2021-11-25T16:58:45.592Z"
   },
   {
    "duration": 10,
    "start_time": "2021-11-25T16:58:45.600Z"
   },
   {
    "duration": 302,
    "start_time": "2021-11-25T16:58:45.613Z"
   },
   {
    "duration": 8,
    "start_time": "2021-11-25T16:58:45.919Z"
   },
   {
    "duration": 19,
    "start_time": "2021-11-25T16:58:45.930Z"
   },
   {
    "duration": 10,
    "start_time": "2021-11-25T16:58:45.953Z"
   },
   {
    "duration": 18,
    "start_time": "2021-11-25T16:58:45.965Z"
   },
   {
    "duration": 14,
    "start_time": "2021-11-25T16:58:45.986Z"
   },
   {
    "duration": 1242,
    "start_time": "2021-11-25T16:58:46.002Z"
   },
   {
    "duration": 11,
    "start_time": "2021-11-25T16:58:47.247Z"
   },
   {
    "duration": 39,
    "start_time": "2021-11-25T16:58:47.260Z"
   },
   {
    "duration": 13,
    "start_time": "2021-11-25T16:58:47.302Z"
   },
   {
    "duration": 51,
    "start_time": "2021-11-25T16:58:47.317Z"
   },
   {
    "duration": 301,
    "start_time": "2021-11-25T16:58:47.370Z"
   },
   {
    "duration": 11,
    "start_time": "2021-11-25T16:58:47.673Z"
   },
   {
    "duration": 14,
    "start_time": "2021-11-25T16:58:47.686Z"
   },
   {
    "duration": 12,
    "start_time": "2021-11-25T16:58:47.702Z"
   },
   {
    "duration": 43,
    "start_time": "2021-11-25T16:58:47.715Z"
   },
   {
    "duration": 2031,
    "start_time": "2021-11-25T16:58:47.761Z"
   },
   {
    "duration": 56,
    "start_time": "2021-11-25T16:58:49.794Z"
   },
   {
    "duration": 7,
    "start_time": "2021-11-25T16:58:49.852Z"
   },
   {
    "duration": 10,
    "start_time": "2021-11-25T16:58:49.861Z"
   },
   {
    "duration": 49,
    "start_time": "2021-11-25T16:58:49.873Z"
   },
   {
    "duration": 35,
    "start_time": "2021-11-25T16:58:49.925Z"
   },
   {
    "duration": 53,
    "start_time": "2021-11-25T16:58:49.962Z"
   },
   {
    "duration": 35,
    "start_time": "2021-11-25T16:58:50.017Z"
   },
   {
    "duration": 24,
    "start_time": "2021-11-25T16:58:50.055Z"
   },
   {
    "duration": 1544,
    "start_time": "2021-11-25T16:58:50.081Z"
   },
   {
    "duration": 28,
    "start_time": "2021-11-25T16:58:51.626Z"
   },
   {
    "duration": 66,
    "start_time": "2021-11-25T16:58:51.657Z"
   },
   {
    "duration": 895,
    "start_time": "2021-11-25T16:58:51.725Z"
   },
   {
    "duration": 4,
    "start_time": "2021-11-25T16:58:52.622Z"
   },
   {
    "duration": 19,
    "start_time": "2021-11-25T16:58:52.628Z"
   },
   {
    "duration": 44,
    "start_time": "2021-11-25T16:58:52.649Z"
   },
   {
    "duration": 126,
    "start_time": "2021-11-25T16:58:52.695Z"
   },
   {
    "duration": 22,
    "start_time": "2021-11-25T16:58:52.823Z"
   },
   {
    "duration": 22,
    "start_time": "2021-11-25T16:58:52.848Z"
   },
   {
    "duration": 7,
    "start_time": "2021-11-25T16:58:52.872Z"
   },
   {
    "duration": 10,
    "start_time": "2021-11-25T16:58:52.881Z"
   },
   {
    "duration": 20,
    "start_time": "2021-11-25T16:58:52.893Z"
   },
   {
    "duration": 39,
    "start_time": "2021-11-25T16:58:52.915Z"
   },
   {
    "duration": 45,
    "start_time": "2021-11-25T16:58:52.956Z"
   },
   {
    "duration": 12,
    "start_time": "2021-11-25T16:58:53.003Z"
   },
   {
    "duration": 20,
    "start_time": "2021-11-25T16:58:53.017Z"
   },
   {
    "duration": 9,
    "start_time": "2021-11-25T16:58:53.044Z"
   },
   {
    "duration": 24,
    "start_time": "2021-11-25T16:58:53.055Z"
   },
   {
    "duration": 5,
    "start_time": "2021-11-25T16:58:53.081Z"
   },
   {
    "duration": 26,
    "start_time": "2021-11-25T16:58:53.088Z"
   },
   {
    "duration": 36,
    "start_time": "2021-11-25T16:58:53.120Z"
   },
   {
    "duration": 24,
    "start_time": "2021-11-25T16:58:53.160Z"
   },
   {
    "duration": 11,
    "start_time": "2021-11-25T16:58:53.186Z"
   },
   {
    "duration": 25,
    "start_time": "2021-11-25T16:58:53.199Z"
   },
   {
    "duration": 6,
    "start_time": "2021-11-25T16:58:53.227Z"
   },
   {
    "duration": 28,
    "start_time": "2021-11-25T16:58:53.235Z"
   },
   {
    "duration": 4,
    "start_time": "2021-11-25T16:58:53.266Z"
   },
   {
    "duration": 13,
    "start_time": "2021-11-25T16:58:53.272Z"
   },
   {
    "duration": 118,
    "start_time": "2021-11-25T16:58:53.286Z"
   },
   {
    "duration": 5,
    "start_time": "2021-11-25T16:58:53.406Z"
   },
   {
    "duration": 29,
    "start_time": "2021-11-25T16:58:53.413Z"
   },
   {
    "duration": 15,
    "start_time": "2021-11-25T16:58:53.444Z"
   },
   {
    "duration": 37,
    "start_time": "2021-11-25T16:58:53.461Z"
   },
   {
    "duration": 23,
    "start_time": "2021-11-25T16:58:53.500Z"
   },
   {
    "duration": 22,
    "start_time": "2021-11-25T16:58:53.525Z"
   },
   {
    "duration": 48,
    "start_time": "2021-11-25T16:58:53.549Z"
   },
   {
    "duration": 24,
    "start_time": "2021-11-25T16:58:53.598Z"
   },
   {
    "duration": 45,
    "start_time": "2021-11-25T16:58:53.624Z"
   },
   {
    "duration": 19,
    "start_time": "2021-11-25T16:58:53.670Z"
   },
   {
    "duration": 14,
    "start_time": "2021-11-25T16:58:53.691Z"
   },
   {
    "duration": 8,
    "start_time": "2021-11-25T16:58:53.707Z"
   },
   {
    "duration": 11,
    "start_time": "2021-11-25T16:58:53.716Z"
   },
   {
    "duration": 14,
    "start_time": "2021-11-25T16:58:53.729Z"
   },
   {
    "duration": 16,
    "start_time": "2021-11-25T16:58:53.745Z"
   },
   {
    "duration": 5,
    "start_time": "2021-11-25T16:58:53.763Z"
   },
   {
    "duration": 581,
    "start_time": "2021-11-25T16:58:53.770Z"
   },
   {
    "duration": 92,
    "start_time": "2021-11-25T16:58:54.354Z"
   },
   {
    "duration": 5,
    "start_time": "2021-11-25T16:58:54.448Z"
   },
   {
    "duration": 55862,
    "start_time": "2021-11-25T16:58:54.455Z"
   },
   {
    "duration": 4,
    "start_time": "2021-11-25T16:59:50.319Z"
   },
   {
    "duration": 20,
    "start_time": "2021-11-25T16:59:50.325Z"
   },
   {
    "duration": 679210,
    "start_time": "2021-11-25T16:59:50.346Z"
   },
   {
    "duration": 5,
    "start_time": "2021-11-25T17:11:09.558Z"
   },
   {
    "duration": 80,
    "start_time": "2021-11-25T17:11:09.565Z"
   },
   {
    "duration": 1386,
    "start_time": "2021-11-25T17:21:23.641Z"
   },
   {
    "duration": 202,
    "start_time": "2021-11-25T17:21:25.029Z"
   },
   {
    "duration": 3,
    "start_time": "2021-11-25T17:21:25.234Z"
   },
   {
    "duration": 17,
    "start_time": "2021-11-25T17:21:25.240Z"
   },
   {
    "duration": 21,
    "start_time": "2021-11-25T17:21:25.259Z"
   },
   {
    "duration": 33,
    "start_time": "2021-11-25T17:21:25.282Z"
   },
   {
    "duration": 298,
    "start_time": "2021-11-25T17:21:25.317Z"
   },
   {
    "duration": 419,
    "start_time": "2021-11-25T17:21:25.619Z"
   },
   {
    "duration": 13,
    "start_time": "2021-11-25T17:21:26.044Z"
   },
   {
    "duration": 428,
    "start_time": "2021-11-25T17:21:26.059Z"
   },
   {
    "duration": 17,
    "start_time": "2021-11-25T17:21:26.490Z"
   },
   {
    "duration": 37,
    "start_time": "2021-11-25T17:21:26.509Z"
   },
   {
    "duration": 30,
    "start_time": "2021-11-25T17:21:26.549Z"
   },
   {
    "duration": 3334,
    "start_time": "2021-11-25T17:21:26.582Z"
   },
   {
    "duration": 79,
    "start_time": "2021-11-25T17:21:29.919Z"
   },
   {
    "duration": 247,
    "start_time": "2021-11-25T17:21:29.999Z"
   },
   {
    "duration": 309,
    "start_time": "2021-11-25T17:21:30.248Z"
   },
   {
    "duration": 15,
    "start_time": "2021-11-25T17:21:30.559Z"
   },
   {
    "duration": 238,
    "start_time": "2021-11-25T17:21:30.575Z"
   },
   {
    "duration": 6,
    "start_time": "2021-11-25T17:21:30.815Z"
   },
   {
    "duration": 23,
    "start_time": "2021-11-25T17:21:30.822Z"
   },
   {
    "duration": 264,
    "start_time": "2021-11-25T17:21:30.847Z"
   },
   {
    "duration": 8,
    "start_time": "2021-11-25T17:21:31.116Z"
   },
   {
    "duration": 24,
    "start_time": "2021-11-25T17:21:31.126Z"
   },
   {
    "duration": 11,
    "start_time": "2021-11-25T17:21:31.152Z"
   },
   {
    "duration": 12,
    "start_time": "2021-11-25T17:21:31.164Z"
   },
   {
    "duration": 13,
    "start_time": "2021-11-25T17:21:31.178Z"
   },
   {
    "duration": 1090,
    "start_time": "2021-11-25T17:21:31.193Z"
   },
   {
    "duration": 9,
    "start_time": "2021-11-25T17:21:32.286Z"
   },
   {
    "duration": 44,
    "start_time": "2021-11-25T17:21:32.297Z"
   },
   {
    "duration": 14,
    "start_time": "2021-11-25T17:21:32.344Z"
   },
   {
    "duration": 35,
    "start_time": "2021-11-25T17:21:32.360Z"
   },
   {
    "duration": 319,
    "start_time": "2021-11-25T17:21:32.396Z"
   },
   {
    "duration": 10,
    "start_time": "2021-11-25T17:21:32.717Z"
   },
   {
    "duration": 34,
    "start_time": "2021-11-25T17:21:32.729Z"
   },
   {
    "duration": 44,
    "start_time": "2021-11-25T17:21:32.765Z"
   },
   {
    "duration": 24,
    "start_time": "2021-11-25T17:21:32.811Z"
   },
   {
    "duration": 1224,
    "start_time": "2021-11-25T17:21:32.837Z"
   },
   {
    "duration": 49,
    "start_time": "2021-11-25T17:21:34.063Z"
   },
   {
    "duration": 7,
    "start_time": "2021-11-25T17:21:34.115Z"
   },
   {
    "duration": 47,
    "start_time": "2021-11-25T17:21:34.124Z"
   },
   {
    "duration": 39,
    "start_time": "2021-11-25T17:21:34.173Z"
   },
   {
    "duration": 11,
    "start_time": "2021-11-25T17:21:34.214Z"
   },
   {
    "duration": 58,
    "start_time": "2021-11-25T17:21:34.226Z"
   },
   {
    "duration": 14,
    "start_time": "2021-11-25T17:21:34.286Z"
   },
   {
    "duration": 42,
    "start_time": "2021-11-25T17:21:34.302Z"
   },
   {
    "duration": 1467,
    "start_time": "2021-11-25T17:21:34.346Z"
   },
   {
    "duration": 32,
    "start_time": "2021-11-25T17:21:35.816Z"
   },
   {
    "duration": 18,
    "start_time": "2021-11-25T17:21:35.850Z"
   },
   {
    "duration": 853,
    "start_time": "2021-11-25T17:21:35.870Z"
   },
   {
    "duration": 4,
    "start_time": "2021-11-25T17:21:36.724Z"
   },
   {
    "duration": 16,
    "start_time": "2021-11-25T17:21:36.729Z"
   },
   {
    "duration": 31,
    "start_time": "2021-11-25T17:21:36.747Z"
   },
   {
    "duration": 110,
    "start_time": "2021-11-25T17:21:36.780Z"
   },
   {
    "duration": 11,
    "start_time": "2021-11-25T17:21:36.891Z"
   },
   {
    "duration": 19,
    "start_time": "2021-11-25T17:21:36.904Z"
   },
   {
    "duration": 20,
    "start_time": "2021-11-25T17:21:36.925Z"
   },
   {
    "duration": 8,
    "start_time": "2021-11-25T17:21:36.947Z"
   },
   {
    "duration": 23,
    "start_time": "2021-11-25T17:21:36.957Z"
   },
   {
    "duration": 12,
    "start_time": "2021-11-25T17:21:36.982Z"
   },
   {
    "duration": 66,
    "start_time": "2021-11-25T17:21:36.996Z"
   },
   {
    "duration": 12,
    "start_time": "2021-11-25T17:21:37.064Z"
   },
   {
    "duration": 8,
    "start_time": "2021-11-25T17:21:37.078Z"
   },
   {
    "duration": 8,
    "start_time": "2021-11-25T17:21:37.088Z"
   },
   {
    "duration": 49,
    "start_time": "2021-11-25T17:21:37.098Z"
   },
   {
    "duration": 3,
    "start_time": "2021-11-25T17:21:37.149Z"
   },
   {
    "duration": 17,
    "start_time": "2021-11-25T17:21:37.153Z"
   },
   {
    "duration": 19,
    "start_time": "2021-11-25T17:21:37.175Z"
   },
   {
    "duration": 10,
    "start_time": "2021-11-25T17:21:37.196Z"
   },
   {
    "duration": 7,
    "start_time": "2021-11-25T17:21:37.207Z"
   },
   {
    "duration": 33,
    "start_time": "2021-11-25T17:21:37.216Z"
   },
   {
    "duration": 3,
    "start_time": "2021-11-25T17:21:37.251Z"
   },
   {
    "duration": 26,
    "start_time": "2021-11-25T17:21:37.256Z"
   },
   {
    "duration": 3,
    "start_time": "2021-11-25T17:21:37.284Z"
   },
   {
    "duration": 6,
    "start_time": "2021-11-25T17:21:37.289Z"
   },
   {
    "duration": 125,
    "start_time": "2021-11-25T17:21:37.297Z"
   },
   {
    "duration": 3,
    "start_time": "2021-11-25T17:21:37.424Z"
   },
   {
    "duration": 8,
    "start_time": "2021-11-25T17:21:37.429Z"
   },
   {
    "duration": 6,
    "start_time": "2021-11-25T17:21:37.445Z"
   },
   {
    "duration": 24,
    "start_time": "2021-11-25T17:21:37.452Z"
   },
   {
    "duration": 7,
    "start_time": "2021-11-25T17:21:37.478Z"
   },
   {
    "duration": 15,
    "start_time": "2021-11-25T17:21:37.486Z"
   },
   {
    "duration": 21,
    "start_time": "2021-11-25T17:21:37.502Z"
   },
   {
    "duration": 23,
    "start_time": "2021-11-25T17:21:37.524Z"
   },
   {
    "duration": 32,
    "start_time": "2021-11-25T17:21:37.548Z"
   },
   {
    "duration": 7,
    "start_time": "2021-11-25T17:21:37.582Z"
   },
   {
    "duration": 8,
    "start_time": "2021-11-25T17:21:37.591Z"
   },
   {
    "duration": 7,
    "start_time": "2021-11-25T17:21:37.600Z"
   },
   {
    "duration": 4,
    "start_time": "2021-11-25T17:21:37.608Z"
   },
   {
    "duration": 12,
    "start_time": "2021-11-25T17:21:37.614Z"
   },
   {
    "duration": 18,
    "start_time": "2021-11-25T17:21:37.628Z"
   },
   {
    "duration": 3,
    "start_time": "2021-11-25T17:21:37.648Z"
   },
   {
    "duration": 996,
    "start_time": "2021-11-25T17:21:37.653Z"
   },
   {
    "duration": 93,
    "start_time": "2021-11-25T17:21:38.652Z"
   },
   {
    "duration": 14,
    "start_time": "2021-11-25T17:21:38.747Z"
   },
   {
    "duration": 53962,
    "start_time": "2021-11-25T17:21:38.762Z"
   },
   {
    "duration": 4,
    "start_time": "2021-11-25T17:22:32.725Z"
   },
   {
    "duration": 21,
    "start_time": "2021-11-25T17:22:32.731Z"
   },
   {
    "duration": 137403,
    "start_time": "2021-11-25T17:22:32.754Z"
   },
   {
    "duration": 87,
    "start_time": "2021-11-25T17:24:50.159Z"
   },
   {
    "duration": 3,
    "start_time": "2021-11-25T17:24:50.248Z"
   },
   {
    "duration": 343,
    "start_time": "2021-11-25T17:35:34.552Z"
   },
   {
    "duration": 1592,
    "start_time": "2021-11-25T17:35:47.161Z"
   },
   {
    "duration": 182,
    "start_time": "2021-11-25T17:35:48.755Z"
   },
   {
    "duration": 3,
    "start_time": "2021-11-25T17:35:48.939Z"
   },
   {
    "duration": 8,
    "start_time": "2021-11-25T17:35:48.944Z"
   },
   {
    "duration": 13,
    "start_time": "2021-11-25T17:35:48.954Z"
   },
   {
    "duration": 18,
    "start_time": "2021-11-25T17:35:48.969Z"
   },
   {
    "duration": 449,
    "start_time": "2021-11-25T17:35:48.989Z"
   },
   {
    "duration": 290,
    "start_time": "2021-11-25T17:35:49.445Z"
   },
   {
    "duration": 10,
    "start_time": "2021-11-25T17:35:49.745Z"
   },
   {
    "duration": 303,
    "start_time": "2021-11-25T17:35:49.757Z"
   },
   {
    "duration": 17,
    "start_time": "2021-11-25T17:35:50.062Z"
   },
   {
    "duration": 15,
    "start_time": "2021-11-25T17:35:50.081Z"
   },
   {
    "duration": 15,
    "start_time": "2021-11-25T17:35:50.098Z"
   },
   {
    "duration": 2185,
    "start_time": "2021-11-25T17:35:50.144Z"
   },
   {
    "duration": 57,
    "start_time": "2021-11-25T17:35:52.331Z"
   },
   {
    "duration": 237,
    "start_time": "2021-11-25T17:35:52.390Z"
   },
   {
    "duration": 442,
    "start_time": "2021-11-25T17:35:52.628Z"
   },
   {
    "duration": 13,
    "start_time": "2021-11-25T17:35:53.072Z"
   },
   {
    "duration": 346,
    "start_time": "2021-11-25T17:35:53.087Z"
   },
   {
    "duration": 14,
    "start_time": "2021-11-25T17:35:53.436Z"
   },
   {
    "duration": 16,
    "start_time": "2021-11-25T17:35:53.452Z"
   },
   {
    "duration": 270,
    "start_time": "2021-11-25T17:35:53.473Z"
   },
   {
    "duration": 9,
    "start_time": "2021-11-25T17:35:53.747Z"
   },
   {
    "duration": 9,
    "start_time": "2021-11-25T17:35:53.759Z"
   },
   {
    "duration": 8,
    "start_time": "2021-11-25T17:35:53.770Z"
   },
   {
    "duration": 8,
    "start_time": "2021-11-25T17:35:53.779Z"
   },
   {
    "duration": 8,
    "start_time": "2021-11-25T17:35:53.788Z"
   },
   {
    "duration": 1046,
    "start_time": "2021-11-25T17:35:53.798Z"
   },
   {
    "duration": 8,
    "start_time": "2021-11-25T17:35:54.846Z"
   },
   {
    "duration": 36,
    "start_time": "2021-11-25T17:35:54.855Z"
   },
   {
    "duration": 16,
    "start_time": "2021-11-25T17:35:54.893Z"
   },
   {
    "duration": 25,
    "start_time": "2021-11-25T17:35:54.911Z"
   },
   {
    "duration": 308,
    "start_time": "2021-11-25T17:35:54.938Z"
   },
   {
    "duration": 11,
    "start_time": "2021-11-25T17:35:55.248Z"
   },
   {
    "duration": 13,
    "start_time": "2021-11-25T17:35:55.261Z"
   },
   {
    "duration": 15,
    "start_time": "2021-11-25T17:35:55.276Z"
   },
   {
    "duration": 28,
    "start_time": "2021-11-25T17:35:55.292Z"
   },
   {
    "duration": 1307,
    "start_time": "2021-11-25T17:35:55.322Z"
   },
   {
    "duration": 42,
    "start_time": "2021-11-25T17:35:56.631Z"
   },
   {
    "duration": 6,
    "start_time": "2021-11-25T17:35:56.675Z"
   },
   {
    "duration": 5,
    "start_time": "2021-11-25T17:35:56.683Z"
   },
   {
    "duration": 61,
    "start_time": "2021-11-25T17:35:56.690Z"
   },
   {
    "duration": 16,
    "start_time": "2021-11-25T17:35:56.753Z"
   },
   {
    "duration": 79,
    "start_time": "2021-11-25T17:35:56.771Z"
   },
   {
    "duration": 12,
    "start_time": "2021-11-25T17:35:56.851Z"
   },
   {
    "duration": 21,
    "start_time": "2021-11-25T17:35:56.865Z"
   },
   {
    "duration": 1558,
    "start_time": "2021-11-25T17:35:56.888Z"
   },
   {
    "duration": 23,
    "start_time": "2021-11-25T17:35:58.448Z"
   },
   {
    "duration": 17,
    "start_time": "2021-11-25T17:35:58.473Z"
   },
   {
    "duration": 862,
    "start_time": "2021-11-25T17:35:58.491Z"
   },
   {
    "duration": 3,
    "start_time": "2021-11-25T17:35:59.355Z"
   },
   {
    "duration": 7,
    "start_time": "2021-11-25T17:35:59.360Z"
   },
   {
    "duration": 26,
    "start_time": "2021-11-25T17:35:59.368Z"
   },
   {
    "duration": 132,
    "start_time": "2021-11-25T17:35:59.396Z"
   },
   {
    "duration": 23,
    "start_time": "2021-11-25T17:35:59.530Z"
   },
   {
    "duration": 27,
    "start_time": "2021-11-25T17:35:59.555Z"
   },
   {
    "duration": 5,
    "start_time": "2021-11-25T17:35:59.584Z"
   },
   {
    "duration": 21,
    "start_time": "2021-11-25T17:35:59.591Z"
   },
   {
    "duration": 24,
    "start_time": "2021-11-25T17:35:59.614Z"
   },
   {
    "duration": 13,
    "start_time": "2021-11-25T17:35:59.639Z"
   },
   {
    "duration": 45,
    "start_time": "2021-11-25T17:35:59.654Z"
   },
   {
    "duration": 12,
    "start_time": "2021-11-25T17:35:59.700Z"
   },
   {
    "duration": 18,
    "start_time": "2021-11-25T17:35:59.713Z"
   },
   {
    "duration": 13,
    "start_time": "2021-11-25T17:35:59.733Z"
   },
   {
    "duration": 30,
    "start_time": "2021-11-25T17:35:59.748Z"
   },
   {
    "duration": 28,
    "start_time": "2021-11-25T17:35:59.779Z"
   },
   {
    "duration": 23,
    "start_time": "2021-11-25T17:35:59.809Z"
   },
   {
    "duration": 19,
    "start_time": "2021-11-25T17:35:59.837Z"
   },
   {
    "duration": 13,
    "start_time": "2021-11-25T17:35:59.859Z"
   },
   {
    "duration": 7,
    "start_time": "2021-11-25T17:35:59.874Z"
   },
   {
    "duration": 9,
    "start_time": "2021-11-25T17:35:59.882Z"
   },
   {
    "duration": 6,
    "start_time": "2021-11-25T17:35:59.892Z"
   },
   {
    "duration": 31,
    "start_time": "2021-11-25T17:35:59.899Z"
   },
   {
    "duration": 13,
    "start_time": "2021-11-25T17:35:59.932Z"
   },
   {
    "duration": 4,
    "start_time": "2021-11-25T17:35:59.946Z"
   },
   {
    "duration": 131,
    "start_time": "2021-11-25T17:35:59.951Z"
   },
   {
    "duration": 4,
    "start_time": "2021-11-25T17:36:00.083Z"
   },
   {
    "duration": 41,
    "start_time": "2021-11-25T17:36:00.089Z"
   },
   {
    "duration": 54,
    "start_time": "2021-11-25T17:36:00.131Z"
   },
   {
    "duration": 44,
    "start_time": "2021-11-25T17:36:00.186Z"
   },
   {
    "duration": 14,
    "start_time": "2021-11-25T17:36:00.232Z"
   },
   {
    "duration": 18,
    "start_time": "2021-11-25T17:36:00.248Z"
   },
   {
    "duration": 50,
    "start_time": "2021-11-25T17:36:00.267Z"
   },
   {
    "duration": 19,
    "start_time": "2021-11-25T17:36:00.319Z"
   },
   {
    "duration": 44,
    "start_time": "2021-11-25T17:36:00.340Z"
   },
   {
    "duration": 29,
    "start_time": "2021-11-25T17:36:00.385Z"
   },
   {
    "duration": 23,
    "start_time": "2021-11-25T17:36:00.416Z"
   },
   {
    "duration": 14,
    "start_time": "2021-11-25T17:36:00.441Z"
   },
   {
    "duration": 21,
    "start_time": "2021-11-25T17:36:00.457Z"
   },
   {
    "duration": 17,
    "start_time": "2021-11-25T17:36:00.480Z"
   },
   {
    "duration": 18,
    "start_time": "2021-11-25T17:36:00.499Z"
   },
   {
    "duration": 17,
    "start_time": "2021-11-25T17:36:00.518Z"
   },
   {
    "duration": 1208,
    "start_time": "2021-11-25T17:36:00.537Z"
   },
   {
    "duration": 9,
    "start_time": "2021-11-25T17:36:01.747Z"
   },
   {
    "duration": 21,
    "start_time": "2021-11-25T17:36:01.845Z"
   },
   {
    "duration": 53298,
    "start_time": "2021-11-25T17:36:01.867Z"
   },
   {
    "duration": 4,
    "start_time": "2021-11-25T17:36:55.167Z"
   },
   {
    "duration": 4,
    "start_time": "2021-11-25T17:36:55.173Z"
   },
   {
    "duration": 45777,
    "start_time": "2021-11-25T17:36:55.178Z"
   },
   {
    "duration": 4,
    "start_time": "2021-11-25T17:37:40.957Z"
   },
   {
    "duration": 87,
    "start_time": "2021-11-25T17:37:40.963Z"
   },
   {
    "duration": 59321,
    "start_time": "2021-11-25T17:37:41.052Z"
   },
   {
    "duration": 4,
    "start_time": "2021-11-25T17:38:40.375Z"
   },
   {
    "duration": 15858,
    "start_time": "2021-11-25T17:38:40.381Z"
   },
   {
    "duration": 4,
    "start_time": "2021-11-25T17:38:56.241Z"
   },
   {
    "duration": 4,
    "start_time": "2021-11-25T17:38:56.247Z"
   },
   {
    "duration": 9,
    "start_time": "2021-11-25T17:38:56.253Z"
   },
   {
    "duration": 435,
    "start_time": "2021-11-25T17:38:56.264Z"
   },
   {
    "duration": 3,
    "start_time": "2021-11-25T17:39:32.980Z"
   },
   {
    "duration": 102841,
    "start_time": "2021-11-25T17:39:35.992Z"
   },
   {
    "duration": 4,
    "start_time": "2021-11-25T17:43:06.784Z"
   },
   {
    "duration": 16946,
    "start_time": "2021-11-25T17:43:15.462Z"
   },
   {
    "duration": 3,
    "start_time": "2021-11-25T17:43:55.038Z"
   },
   {
    "duration": 103805,
    "start_time": "2021-11-25T17:43:58.389Z"
   },
   {
    "duration": 4,
    "start_time": "2021-11-25T17:45:47.511Z"
   },
   {
    "duration": 1184,
    "start_time": "2021-11-25T17:55:03.289Z"
   },
   {
    "duration": 179,
    "start_time": "2021-11-25T17:55:04.475Z"
   },
   {
    "duration": 3,
    "start_time": "2021-11-25T17:55:04.656Z"
   },
   {
    "duration": 6,
    "start_time": "2021-11-25T17:55:04.662Z"
   },
   {
    "duration": 9,
    "start_time": "2021-11-25T17:55:04.670Z"
   },
   {
    "duration": 13,
    "start_time": "2021-11-25T17:55:04.681Z"
   },
   {
    "duration": 318,
    "start_time": "2021-11-25T17:55:04.696Z"
   },
   {
    "duration": 289,
    "start_time": "2021-11-25T17:55:05.018Z"
   },
   {
    "duration": 10,
    "start_time": "2021-11-25T17:55:05.310Z"
   },
   {
    "duration": 299,
    "start_time": "2021-11-25T17:55:05.322Z"
   },
   {
    "duration": 27,
    "start_time": "2021-11-25T17:55:05.623Z"
   },
   {
    "duration": 16,
    "start_time": "2021-11-25T17:55:05.652Z"
   },
   {
    "duration": 17,
    "start_time": "2021-11-25T17:55:05.671Z"
   },
   {
    "duration": 2027,
    "start_time": "2021-11-25T17:55:05.690Z"
   },
   {
    "duration": 59,
    "start_time": "2021-11-25T17:55:07.718Z"
   },
   {
    "duration": 345,
    "start_time": "2021-11-25T17:55:07.779Z"
   },
   {
    "duration": 289,
    "start_time": "2021-11-25T17:55:08.126Z"
   },
   {
    "duration": 13,
    "start_time": "2021-11-25T17:55:08.417Z"
   },
   {
    "duration": 218,
    "start_time": "2021-11-25T17:55:08.432Z"
   },
   {
    "duration": 6,
    "start_time": "2021-11-25T17:55:08.651Z"
   },
   {
    "duration": 9,
    "start_time": "2021-11-25T17:55:08.658Z"
   },
   {
    "duration": 259,
    "start_time": "2021-11-25T17:55:08.669Z"
   },
   {
    "duration": 13,
    "start_time": "2021-11-25T17:55:08.933Z"
   },
   {
    "duration": 8,
    "start_time": "2021-11-25T17:55:08.949Z"
   },
   {
    "duration": 7,
    "start_time": "2021-11-25T17:55:08.960Z"
   },
   {
    "duration": 6,
    "start_time": "2021-11-25T17:55:08.969Z"
   },
   {
    "duration": 7,
    "start_time": "2021-11-25T17:55:08.976Z"
   },
   {
    "duration": 1149,
    "start_time": "2021-11-25T17:55:08.985Z"
   },
   {
    "duration": 12,
    "start_time": "2021-11-25T17:55:10.136Z"
   },
   {
    "duration": 16,
    "start_time": "2021-11-25T17:55:10.150Z"
   },
   {
    "duration": 9,
    "start_time": "2021-11-25T17:55:10.168Z"
   },
   {
    "duration": 8,
    "start_time": "2021-11-25T17:55:10.179Z"
   },
   {
    "duration": 316,
    "start_time": "2021-11-25T17:55:10.189Z"
   },
   {
    "duration": 10,
    "start_time": "2021-11-25T17:55:10.506Z"
   },
   {
    "duration": 28,
    "start_time": "2021-11-25T17:55:10.517Z"
   },
   {
    "duration": 11,
    "start_time": "2021-11-25T17:55:10.547Z"
   },
   {
    "duration": 12,
    "start_time": "2021-11-25T17:55:10.559Z"
   },
   {
    "duration": 1215,
    "start_time": "2021-11-25T17:55:10.573Z"
   },
   {
    "duration": 35,
    "start_time": "2021-11-25T17:55:11.790Z"
   },
   {
    "duration": 23,
    "start_time": "2021-11-25T17:55:11.826Z"
   },
   {
    "duration": 4,
    "start_time": "2021-11-25T17:55:11.851Z"
   },
   {
    "duration": 33,
    "start_time": "2021-11-25T17:55:11.856Z"
   },
   {
    "duration": 9,
    "start_time": "2021-11-25T17:55:11.890Z"
   },
   {
    "duration": 72,
    "start_time": "2021-11-25T17:55:11.901Z"
   },
   {
    "duration": 12,
    "start_time": "2021-11-25T17:55:11.975Z"
   },
   {
    "duration": 21,
    "start_time": "2021-11-25T17:55:11.988Z"
   },
   {
    "duration": 1468,
    "start_time": "2021-11-25T17:55:12.011Z"
   },
   {
    "duration": 24,
    "start_time": "2021-11-25T17:55:13.481Z"
   },
   {
    "duration": 16,
    "start_time": "2021-11-25T17:55:13.507Z"
   },
   {
    "duration": 888,
    "start_time": "2021-11-25T17:55:13.525Z"
   },
   {
    "duration": 5,
    "start_time": "2021-11-25T17:55:14.415Z"
   },
   {
    "duration": 6,
    "start_time": "2021-11-25T17:55:14.422Z"
   },
   {
    "duration": 23,
    "start_time": "2021-11-25T17:55:14.445Z"
   },
   {
    "duration": 129,
    "start_time": "2021-11-25T17:55:14.470Z"
   },
   {
    "duration": 11,
    "start_time": "2021-11-25T17:55:14.600Z"
   },
   {
    "duration": 31,
    "start_time": "2021-11-25T17:55:14.613Z"
   },
   {
    "duration": 6,
    "start_time": "2021-11-25T17:55:14.646Z"
   },
   {
    "duration": 9,
    "start_time": "2021-11-25T17:55:14.653Z"
   },
   {
    "duration": 15,
    "start_time": "2021-11-25T17:55:14.663Z"
   },
   {
    "duration": 12,
    "start_time": "2021-11-25T17:55:14.680Z"
   },
   {
    "duration": 61,
    "start_time": "2021-11-25T17:55:14.693Z"
   },
   {
    "duration": 12,
    "start_time": "2021-11-25T17:55:14.756Z"
   },
   {
    "duration": 8,
    "start_time": "2021-11-25T17:55:14.769Z"
   },
   {
    "duration": 8,
    "start_time": "2021-11-25T17:55:14.779Z"
   },
   {
    "duration": 21,
    "start_time": "2021-11-25T17:55:14.788Z"
   },
   {
    "duration": 33,
    "start_time": "2021-11-25T17:55:14.811Z"
   },
   {
    "duration": 12,
    "start_time": "2021-11-25T17:55:14.846Z"
   },
   {
    "duration": 19,
    "start_time": "2021-11-25T17:55:14.863Z"
   },
   {
    "duration": 6,
    "start_time": "2021-11-25T17:55:14.885Z"
   },
   {
    "duration": 6,
    "start_time": "2021-11-25T17:55:14.893Z"
   },
   {
    "duration": 8,
    "start_time": "2021-11-25T17:55:14.901Z"
   },
   {
    "duration": 34,
    "start_time": "2021-11-25T17:55:14.911Z"
   },
   {
    "duration": 21,
    "start_time": "2021-11-25T17:55:14.947Z"
   },
   {
    "duration": 3,
    "start_time": "2021-11-25T17:55:14.970Z"
   },
   {
    "duration": 5,
    "start_time": "2021-11-25T17:55:14.975Z"
   },
   {
    "duration": 144,
    "start_time": "2021-11-25T17:55:14.981Z"
   },
   {
    "duration": 3,
    "start_time": "2021-11-25T17:55:15.127Z"
   },
   {
    "duration": 2,
    "start_time": "2021-11-25T17:55:15.144Z"
   },
   {
    "duration": 6,
    "start_time": "2021-11-25T17:55:15.148Z"
   },
   {
    "duration": 21,
    "start_time": "2021-11-25T17:55:15.155Z"
   },
   {
    "duration": 5,
    "start_time": "2021-11-25T17:55:15.177Z"
   },
   {
    "duration": 4,
    "start_time": "2021-11-25T17:55:15.184Z"
   },
   {
    "duration": 21,
    "start_time": "2021-11-25T17:55:15.190Z"
   },
   {
    "duration": 31,
    "start_time": "2021-11-25T17:55:15.213Z"
   },
   {
    "duration": 19,
    "start_time": "2021-11-25T17:55:15.246Z"
   },
   {
    "duration": 5,
    "start_time": "2021-11-25T17:55:15.266Z"
   },
   {
    "duration": 5,
    "start_time": "2021-11-25T17:55:15.273Z"
   },
   {
    "duration": 5,
    "start_time": "2021-11-25T17:55:15.280Z"
   },
   {
    "duration": 5,
    "start_time": "2021-11-25T17:55:15.287Z"
   },
   {
    "duration": 5,
    "start_time": "2021-11-25T17:55:15.294Z"
   },
   {
    "duration": 5,
    "start_time": "2021-11-25T17:55:15.301Z"
   },
   {
    "duration": 3,
    "start_time": "2021-11-25T17:55:15.345Z"
   },
   {
    "duration": 898,
    "start_time": "2021-11-25T17:55:15.350Z"
   },
   {
    "duration": 94,
    "start_time": "2021-11-25T17:55:16.251Z"
   },
   {
    "duration": 6,
    "start_time": "2021-11-25T17:55:16.347Z"
   },
   {
    "duration": 53855,
    "start_time": "2021-11-25T17:55:16.355Z"
   },
   {
    "duration": 3,
    "start_time": "2021-11-25T17:56:10.212Z"
   },
   {
    "duration": 8,
    "start_time": "2021-11-25T17:56:10.217Z"
   },
   {
    "duration": 31430,
    "start_time": "2021-11-25T17:56:10.227Z"
   },
   {
    "duration": 4,
    "start_time": "2021-11-25T17:56:41.659Z"
   },
   {
    "duration": 3,
    "start_time": "2021-11-25T17:56:41.744Z"
   },
   {
    "duration": 286451,
    "start_time": "2021-11-25T17:56:41.749Z"
   },
   {
    "duration": 4,
    "start_time": "2021-11-25T18:01:28.202Z"
   },
   {
    "duration": 15812,
    "start_time": "2021-11-25T18:01:28.208Z"
   },
   {
    "duration": 5,
    "start_time": "2021-11-25T18:01:44.023Z"
   },
   {
    "duration": 5,
    "start_time": "2021-11-25T18:01:44.030Z"
   },
   {
    "duration": 11,
    "start_time": "2021-11-25T18:01:44.037Z"
   },
   {
    "duration": 441,
    "start_time": "2021-11-25T18:01:44.050Z"
   },
   {
    "duration": 3,
    "start_time": "2021-11-25T18:03:58.261Z"
   },
   {
    "duration": 30565,
    "start_time": "2021-11-25T18:04:00.241Z"
   },
   {
    "duration": 5,
    "start_time": "2021-11-25T18:04:42.935Z"
   },
   {
    "duration": 1251,
    "start_time": "2021-11-25T18:07:42.272Z"
   },
   {
    "duration": 193,
    "start_time": "2021-11-25T18:07:43.525Z"
   },
   {
    "duration": 4,
    "start_time": "2021-11-25T18:07:43.721Z"
   },
   {
    "duration": 7,
    "start_time": "2021-11-25T18:07:43.727Z"
   },
   {
    "duration": 13,
    "start_time": "2021-11-25T18:07:43.736Z"
   },
   {
    "duration": 12,
    "start_time": "2021-11-25T18:07:43.750Z"
   },
   {
    "duration": 317,
    "start_time": "2021-11-25T18:07:43.764Z"
   },
   {
    "duration": 287,
    "start_time": "2021-11-25T18:07:44.084Z"
   },
   {
    "duration": 9,
    "start_time": "2021-11-25T18:07:44.373Z"
   },
   {
    "duration": 311,
    "start_time": "2021-11-25T18:07:44.384Z"
   },
   {
    "duration": 22,
    "start_time": "2021-11-25T18:07:44.697Z"
   },
   {
    "duration": 37,
    "start_time": "2021-11-25T18:07:44.721Z"
   },
   {
    "duration": 24,
    "start_time": "2021-11-25T18:07:44.760Z"
   },
   {
    "duration": 2030,
    "start_time": "2021-11-25T18:07:44.786Z"
   },
   {
    "duration": 62,
    "start_time": "2021-11-25T18:07:46.818Z"
   },
   {
    "duration": 247,
    "start_time": "2021-11-25T18:07:46.882Z"
   },
   {
    "duration": 329,
    "start_time": "2021-11-25T18:07:47.131Z"
   },
   {
    "duration": 15,
    "start_time": "2021-11-25T18:07:47.462Z"
   },
   {
    "duration": 218,
    "start_time": "2021-11-25T18:07:47.478Z"
   },
   {
    "duration": 6,
    "start_time": "2021-11-25T18:07:47.698Z"
   },
   {
    "duration": 8,
    "start_time": "2021-11-25T18:07:47.706Z"
   },
   {
    "duration": 266,
    "start_time": "2021-11-25T18:07:47.716Z"
   },
   {
    "duration": 8,
    "start_time": "2021-11-25T18:07:47.986Z"
   },
   {
    "duration": 8,
    "start_time": "2021-11-25T18:07:47.997Z"
   },
   {
    "duration": 8,
    "start_time": "2021-11-25T18:07:48.007Z"
   },
   {
    "duration": 32,
    "start_time": "2021-11-25T18:07:48.017Z"
   },
   {
    "duration": 8,
    "start_time": "2021-11-25T18:07:48.051Z"
   },
   {
    "duration": 1039,
    "start_time": "2021-11-25T18:07:48.061Z"
   },
   {
    "duration": 6,
    "start_time": "2021-11-25T18:07:49.102Z"
   },
   {
    "duration": 16,
    "start_time": "2021-11-25T18:07:49.110Z"
   },
   {
    "duration": 23,
    "start_time": "2021-11-25T18:07:49.127Z"
   },
   {
    "duration": 14,
    "start_time": "2021-11-25T18:07:49.151Z"
   },
   {
    "duration": 280,
    "start_time": "2021-11-25T18:07:49.166Z"
   },
   {
    "duration": 10,
    "start_time": "2021-11-25T18:07:49.448Z"
   },
   {
    "duration": 13,
    "start_time": "2021-11-25T18:07:49.460Z"
   },
   {
    "duration": 13,
    "start_time": "2021-11-25T18:07:49.475Z"
   },
   {
    "duration": 19,
    "start_time": "2021-11-25T18:07:49.490Z"
   },
   {
    "duration": 1287,
    "start_time": "2021-11-25T18:07:49.510Z"
   },
   {
    "duration": 47,
    "start_time": "2021-11-25T18:07:50.799Z"
   },
   {
    "duration": 7,
    "start_time": "2021-11-25T18:07:50.848Z"
   },
   {
    "duration": 5,
    "start_time": "2021-11-25T18:07:50.857Z"
   },
   {
    "duration": 41,
    "start_time": "2021-11-25T18:07:50.864Z"
   },
   {
    "duration": 43,
    "start_time": "2021-11-25T18:07:50.907Z"
   },
   {
    "duration": 84,
    "start_time": "2021-11-25T18:07:50.952Z"
   },
   {
    "duration": 18,
    "start_time": "2021-11-25T18:07:51.045Z"
   },
   {
    "duration": 24,
    "start_time": "2021-11-25T18:07:51.066Z"
   },
   {
    "duration": 1877,
    "start_time": "2021-11-25T18:07:51.092Z"
   },
   {
    "duration": 27,
    "start_time": "2021-11-25T18:07:52.971Z"
   },
   {
    "duration": 47,
    "start_time": "2021-11-25T18:07:52.999Z"
   },
   {
    "duration": 1008,
    "start_time": "2021-11-25T18:07:53.048Z"
   },
   {
    "duration": 4,
    "start_time": "2021-11-25T18:07:54.058Z"
   },
   {
    "duration": 34,
    "start_time": "2021-11-25T18:07:54.063Z"
   },
   {
    "duration": 42,
    "start_time": "2021-11-25T18:07:54.099Z"
   },
   {
    "duration": 165,
    "start_time": "2021-11-25T18:07:54.143Z"
   },
   {
    "duration": 12,
    "start_time": "2021-11-25T18:07:54.310Z"
   },
   {
    "duration": 53,
    "start_time": "2021-11-25T18:07:54.323Z"
   },
   {
    "duration": 61,
    "start_time": "2021-11-25T18:07:54.378Z"
   },
   {
    "duration": 46,
    "start_time": "2021-11-25T18:07:54.440Z"
   },
   {
    "duration": 58,
    "start_time": "2021-11-25T18:07:54.488Z"
   },
   {
    "duration": 18,
    "start_time": "2021-11-25T18:07:54.548Z"
   },
   {
    "duration": 52,
    "start_time": "2021-11-25T18:07:54.568Z"
   },
   {
    "duration": 12,
    "start_time": "2021-11-25T18:07:54.622Z"
   },
   {
    "duration": 39,
    "start_time": "2021-11-25T18:07:54.636Z"
   },
   {
    "duration": 39,
    "start_time": "2021-11-25T18:07:54.677Z"
   },
   {
    "duration": 55,
    "start_time": "2021-11-25T18:07:54.718Z"
   },
   {
    "duration": 19,
    "start_time": "2021-11-25T18:07:54.774Z"
   },
   {
    "duration": 28,
    "start_time": "2021-11-25T18:07:54.795Z"
   },
   {
    "duration": 41,
    "start_time": "2021-11-25T18:07:54.829Z"
   },
   {
    "duration": 40,
    "start_time": "2021-11-25T18:07:54.872Z"
   },
   {
    "duration": 30,
    "start_time": "2021-11-25T18:07:54.914Z"
   },
   {
    "duration": 41,
    "start_time": "2021-11-25T18:07:54.945Z"
   },
   {
    "duration": 35,
    "start_time": "2021-11-25T18:07:54.988Z"
   },
   {
    "duration": 40,
    "start_time": "2021-11-25T18:07:55.025Z"
   },
   {
    "duration": 42,
    "start_time": "2021-11-25T18:07:55.067Z"
   },
   {
    "duration": 9,
    "start_time": "2021-11-25T18:07:55.111Z"
   },
   {
    "duration": 141,
    "start_time": "2021-11-25T18:07:55.122Z"
   },
   {
    "duration": 5,
    "start_time": "2021-11-25T18:07:55.265Z"
   },
   {
    "duration": 30,
    "start_time": "2021-11-25T18:07:55.272Z"
   },
   {
    "duration": 37,
    "start_time": "2021-11-25T18:07:55.304Z"
   },
   {
    "duration": 46,
    "start_time": "2021-11-25T18:07:55.344Z"
   },
   {
    "duration": 9,
    "start_time": "2021-11-25T18:07:55.393Z"
   },
   {
    "duration": 28,
    "start_time": "2021-11-25T18:07:55.404Z"
   },
   {
    "duration": 43,
    "start_time": "2021-11-25T18:07:55.434Z"
   },
   {
    "duration": 24,
    "start_time": "2021-11-25T18:07:55.480Z"
   },
   {
    "duration": 23,
    "start_time": "2021-11-25T18:07:55.506Z"
   },
   {
    "duration": 12,
    "start_time": "2021-11-25T18:07:55.530Z"
   },
   {
    "duration": 11,
    "start_time": "2021-11-25T18:07:55.543Z"
   },
   {
    "duration": 13,
    "start_time": "2021-11-25T18:07:55.556Z"
   },
   {
    "duration": 10,
    "start_time": "2021-11-25T18:07:55.571Z"
   },
   {
    "duration": 7,
    "start_time": "2021-11-25T18:07:55.583Z"
   },
   {
    "duration": 10,
    "start_time": "2021-11-25T18:07:55.592Z"
   },
   {
    "duration": 16,
    "start_time": "2021-11-25T18:07:55.603Z"
   },
   {
    "duration": 330,
    "start_time": "2021-11-25T18:07:55.621Z"
   },
   {
    "duration": 94,
    "start_time": "2021-11-25T18:07:55.953Z"
   },
   {
    "duration": 122,
    "start_time": "2021-11-25T18:07:56.049Z"
   },
   {
    "duration": 56239,
    "start_time": "2021-11-25T18:07:56.173Z"
   },
   {
    "duration": 4,
    "start_time": "2021-11-25T18:08:52.413Z"
   },
   {
    "duration": 6,
    "start_time": "2021-11-25T18:08:52.418Z"
   },
   {
    "duration": 85731,
    "start_time": "2021-11-25T18:08:52.425Z"
   },
   {
    "duration": 4,
    "start_time": "2021-11-25T18:10:18.157Z"
   },
   {
    "duration": 8,
    "start_time": "2021-11-25T18:10:18.162Z"
   },
   {
    "duration": 539197,
    "start_time": "2021-11-25T18:10:18.171Z"
   },
   {
    "duration": 3,
    "start_time": "2021-11-25T18:19:17.370Z"
   },
   {
    "duration": 34,
    "start_time": "2021-11-25T18:19:17.374Z"
   },
   {
    "duration": -148,
    "start_time": "2021-11-25T18:19:48.112Z"
   },
   {
    "duration": -181,
    "start_time": "2021-11-25T18:19:48.146Z"
   },
   {
    "duration": -190,
    "start_time": "2021-11-25T18:19:48.157Z"
   },
   {
    "duration": -198,
    "start_time": "2021-11-25T18:19:48.166Z"
   },
   {
    "duration": -207,
    "start_time": "2021-11-25T18:19:48.177Z"
   },
   {
    "duration": 4,
    "start_time": "2021-11-25T18:21:40.839Z"
   },
   {
    "duration": 44719,
    "start_time": "2021-11-25T18:21:44.566Z"
   },
   {
    "duration": 262,
    "start_time": "2021-11-25T18:23:44.782Z"
   },
   {
    "duration": 5,
    "start_time": "2021-11-25T18:23:55.653Z"
   },
   {
    "duration": 93,
    "start_time": "2021-11-25T18:25:13.690Z"
   },
   {
    "duration": 268,
    "start_time": "2021-11-25T18:25:19.513Z"
   },
   {
    "duration": 4,
    "start_time": "2021-11-25T18:25:25.654Z"
   },
   {
    "duration": 44545,
    "start_time": "2021-11-25T18:25:28.202Z"
   },
   {
    "duration": 5,
    "start_time": "2021-11-25T18:26:36.974Z"
   },
   {
    "duration": 1160,
    "start_time": "2021-11-25T18:27:32.992Z"
   },
   {
    "duration": 178,
    "start_time": "2021-11-25T18:27:34.154Z"
   },
   {
    "duration": 3,
    "start_time": "2021-11-25T18:27:34.335Z"
   },
   {
    "duration": 8,
    "start_time": "2021-11-25T18:27:34.341Z"
   },
   {
    "duration": 12,
    "start_time": "2021-11-25T18:27:34.350Z"
   },
   {
    "duration": 13,
    "start_time": "2021-11-25T18:27:34.364Z"
   },
   {
    "duration": 284,
    "start_time": "2021-11-25T18:27:34.379Z"
   },
   {
    "duration": 278,
    "start_time": "2021-11-25T18:27:34.666Z"
   },
   {
    "duration": 11,
    "start_time": "2021-11-25T18:27:34.947Z"
   },
   {
    "duration": 293,
    "start_time": "2021-11-25T18:27:34.959Z"
   },
   {
    "duration": 15,
    "start_time": "2021-11-25T18:27:35.254Z"
   },
   {
    "duration": 15,
    "start_time": "2021-11-25T18:27:35.270Z"
   },
   {
    "duration": 15,
    "start_time": "2021-11-25T18:27:35.286Z"
   },
   {
    "duration": 1944,
    "start_time": "2021-11-25T18:27:35.303Z"
   },
   {
    "duration": 42,
    "start_time": "2021-11-25T18:27:37.249Z"
   },
   {
    "duration": 237,
    "start_time": "2021-11-25T18:27:37.293Z"
   },
   {
    "duration": 286,
    "start_time": "2021-11-25T18:27:37.531Z"
   },
   {
    "duration": 14,
    "start_time": "2021-11-25T18:27:37.819Z"
   },
   {
    "duration": 215,
    "start_time": "2021-11-25T18:27:37.844Z"
   },
   {
    "duration": 5,
    "start_time": "2021-11-25T18:27:38.061Z"
   },
   {
    "duration": 7,
    "start_time": "2021-11-25T18:27:38.068Z"
   },
   {
    "duration": 267,
    "start_time": "2021-11-25T18:27:38.077Z"
   },
   {
    "duration": 7,
    "start_time": "2021-11-25T18:27:38.348Z"
   },
   {
    "duration": 24,
    "start_time": "2021-11-25T18:27:38.357Z"
   },
   {
    "duration": 18,
    "start_time": "2021-11-25T18:27:38.382Z"
   },
   {
    "duration": 14,
    "start_time": "2021-11-25T18:27:38.401Z"
   },
   {
    "duration": 7,
    "start_time": "2021-11-25T18:27:38.416Z"
   },
   {
    "duration": 1281,
    "start_time": "2021-11-25T18:27:38.425Z"
   },
   {
    "duration": 7,
    "start_time": "2021-11-25T18:27:39.708Z"
   },
   {
    "duration": 31,
    "start_time": "2021-11-25T18:27:39.716Z"
   },
   {
    "duration": 8,
    "start_time": "2021-11-25T18:27:39.749Z"
   },
   {
    "duration": 11,
    "start_time": "2021-11-25T18:27:39.759Z"
   },
   {
    "duration": 291,
    "start_time": "2021-11-25T18:27:39.772Z"
   },
   {
    "duration": 10,
    "start_time": "2021-11-25T18:27:40.065Z"
   },
   {
    "duration": 15,
    "start_time": "2021-11-25T18:27:40.077Z"
   },
   {
    "duration": 13,
    "start_time": "2021-11-25T18:27:40.094Z"
   },
   {
    "duration": 38,
    "start_time": "2021-11-25T18:27:40.108Z"
   },
   {
    "duration": 1211,
    "start_time": "2021-11-25T18:27:40.148Z"
   },
   {
    "duration": 32,
    "start_time": "2021-11-25T18:27:41.361Z"
   },
   {
    "duration": 5,
    "start_time": "2021-11-25T18:27:41.395Z"
   },
   {
    "duration": 12,
    "start_time": "2021-11-25T18:27:41.402Z"
   },
   {
    "duration": 56,
    "start_time": "2021-11-25T18:27:41.415Z"
   },
   {
    "duration": 10,
    "start_time": "2021-11-25T18:27:41.472Z"
   },
   {
    "duration": 64,
    "start_time": "2021-11-25T18:27:41.484Z"
   },
   {
    "duration": 12,
    "start_time": "2021-11-25T18:27:41.549Z"
   },
   {
    "duration": 22,
    "start_time": "2021-11-25T18:27:41.563Z"
   },
   {
    "duration": 1453,
    "start_time": "2021-11-25T18:27:41.587Z"
   },
   {
    "duration": 22,
    "start_time": "2021-11-25T18:27:43.044Z"
   },
   {
    "duration": 17,
    "start_time": "2021-11-25T18:27:43.068Z"
   },
   {
    "duration": 858,
    "start_time": "2021-11-25T18:27:43.087Z"
   },
   {
    "duration": 3,
    "start_time": "2021-11-25T18:27:43.947Z"
   },
   {
    "duration": 7,
    "start_time": "2021-11-25T18:27:43.951Z"
   },
   {
    "duration": 20,
    "start_time": "2021-11-25T18:27:43.959Z"
   },
   {
    "duration": 122,
    "start_time": "2021-11-25T18:27:43.981Z"
   },
   {
    "duration": 10,
    "start_time": "2021-11-25T18:27:44.105Z"
   },
   {
    "duration": 36,
    "start_time": "2021-11-25T18:27:44.117Z"
   },
   {
    "duration": 6,
    "start_time": "2021-11-25T18:27:44.155Z"
   },
   {
    "duration": 7,
    "start_time": "2021-11-25T18:27:44.162Z"
   },
   {
    "duration": 14,
    "start_time": "2021-11-25T18:27:44.171Z"
   },
   {
    "duration": 12,
    "start_time": "2021-11-25T18:27:44.186Z"
   },
   {
    "duration": 60,
    "start_time": "2021-11-25T18:27:44.200Z"
   },
   {
    "duration": 11,
    "start_time": "2021-11-25T18:27:44.261Z"
   },
   {
    "duration": 8,
    "start_time": "2021-11-25T18:27:44.273Z"
   },
   {
    "duration": 8,
    "start_time": "2021-11-25T18:27:44.283Z"
   },
   {
    "duration": 23,
    "start_time": "2021-11-25T18:27:44.292Z"
   },
   {
    "duration": 29,
    "start_time": "2021-11-25T18:27:44.317Z"
   },
   {
    "duration": 16,
    "start_time": "2021-11-25T18:27:44.348Z"
   },
   {
    "duration": 20,
    "start_time": "2021-11-25T18:27:44.369Z"
   },
   {
    "duration": 4,
    "start_time": "2021-11-25T18:27:44.392Z"
   },
   {
    "duration": 7,
    "start_time": "2021-11-25T18:27:44.398Z"
   },
   {
    "duration": 37,
    "start_time": "2021-11-25T18:27:44.407Z"
   },
   {
    "duration": 5,
    "start_time": "2021-11-25T18:27:44.446Z"
   },
   {
    "duration": 26,
    "start_time": "2021-11-25T18:27:44.453Z"
   },
   {
    "duration": 4,
    "start_time": "2021-11-25T18:27:44.481Z"
   },
   {
    "duration": 8,
    "start_time": "2021-11-25T18:27:44.487Z"
   },
   {
    "duration": 133,
    "start_time": "2021-11-25T18:27:44.497Z"
   },
   {
    "duration": 12,
    "start_time": "2021-11-25T18:27:44.632Z"
   },
   {
    "duration": 6,
    "start_time": "2021-11-25T18:27:44.646Z"
   },
   {
    "duration": 5,
    "start_time": "2021-11-25T18:27:44.654Z"
   },
   {
    "duration": 22,
    "start_time": "2021-11-25T18:27:44.661Z"
   },
   {
    "duration": 6,
    "start_time": "2021-11-25T18:27:44.686Z"
   },
   {
    "duration": 7,
    "start_time": "2021-11-25T18:27:44.693Z"
   },
   {
    "duration": 49,
    "start_time": "2021-11-25T18:27:44.702Z"
   },
   {
    "duration": 12,
    "start_time": "2021-11-25T18:27:44.753Z"
   },
   {
    "duration": 19,
    "start_time": "2021-11-25T18:27:44.767Z"
   },
   {
    "duration": 5,
    "start_time": "2021-11-25T18:27:44.788Z"
   },
   {
    "duration": 5,
    "start_time": "2021-11-25T18:27:44.795Z"
   },
   {
    "duration": 43,
    "start_time": "2021-11-25T18:27:44.802Z"
   },
   {
    "duration": 5,
    "start_time": "2021-11-25T18:27:44.847Z"
   },
   {
    "duration": 11,
    "start_time": "2021-11-25T18:27:44.854Z"
   },
   {
    "duration": 11,
    "start_time": "2021-11-25T18:27:44.867Z"
   },
   {
    "duration": 4,
    "start_time": "2021-11-25T18:27:44.879Z"
   },
   {
    "duration": 463,
    "start_time": "2021-11-25T18:27:44.885Z"
   },
   {
    "duration": 94,
    "start_time": "2021-11-25T18:27:45.350Z"
   },
   {
    "duration": 16,
    "start_time": "2021-11-25T18:27:45.446Z"
   },
   {
    "duration": 48741,
    "start_time": "2021-11-25T18:27:45.464Z"
   },
   {
    "duration": 3,
    "start_time": "2021-11-25T18:28:34.207Z"
   },
   {
    "duration": 4,
    "start_time": "2021-11-25T18:28:34.212Z"
   },
   {
    "duration": 83138,
    "start_time": "2021-11-25T18:28:34.218Z"
   },
   {
    "duration": 4,
    "start_time": "2021-11-25T18:29:57.358Z"
   },
   {
    "duration": 81,
    "start_time": "2021-11-25T18:29:57.364Z"
   },
   {
    "duration": 27571,
    "start_time": "2021-11-25T18:29:57.447Z"
   },
   {
    "duration": 276,
    "start_time": "2021-11-25T18:30:25.019Z"
   },
   {
    "duration": -51,
    "start_time": "2021-11-25T18:30:25.348Z"
   },
   {
    "duration": -60,
    "start_time": "2021-11-25T18:30:25.358Z"
   },
   {
    "duration": -86,
    "start_time": "2021-11-25T18:30:25.386Z"
   },
   {
    "duration": -97,
    "start_time": "2021-11-25T18:30:25.398Z"
   },
   {
    "duration": -105,
    "start_time": "2021-11-25T18:30:25.407Z"
   },
   {
    "duration": -116,
    "start_time": "2021-11-25T18:30:25.419Z"
   },
   {
    "duration": 1197,
    "start_time": "2021-11-25T18:31:59.971Z"
   },
   {
    "duration": 184,
    "start_time": "2021-11-25T18:32:01.170Z"
   },
   {
    "duration": 4,
    "start_time": "2021-11-25T18:32:01.356Z"
   },
   {
    "duration": 86,
    "start_time": "2021-11-25T18:32:01.362Z"
   },
   {
    "duration": 84,
    "start_time": "2021-11-25T18:32:01.450Z"
   },
   {
    "duration": 32,
    "start_time": "2021-11-25T18:32:01.536Z"
   },
   {
    "duration": 325,
    "start_time": "2021-11-25T18:32:01.570Z"
   },
   {
    "duration": 319,
    "start_time": "2021-11-25T18:32:01.897Z"
   },
   {
    "duration": 17,
    "start_time": "2021-11-25T18:32:02.218Z"
   },
   {
    "duration": 311,
    "start_time": "2021-11-25T18:32:02.245Z"
   },
   {
    "duration": 13,
    "start_time": "2021-11-25T18:32:02.558Z"
   },
   {
    "duration": 29,
    "start_time": "2021-11-25T18:32:02.572Z"
   },
   {
    "duration": 27,
    "start_time": "2021-11-25T18:32:02.603Z"
   },
   {
    "duration": 2094,
    "start_time": "2021-11-25T18:32:02.632Z"
   },
   {
    "duration": 54,
    "start_time": "2021-11-25T18:32:04.728Z"
   },
   {
    "duration": 229,
    "start_time": "2021-11-25T18:32:04.784Z"
   },
   {
    "duration": 293,
    "start_time": "2021-11-25T18:32:05.015Z"
   },
   {
    "duration": 14,
    "start_time": "2021-11-25T18:32:05.310Z"
   },
   {
    "duration": 214,
    "start_time": "2021-11-25T18:32:05.325Z"
   },
   {
    "duration": 6,
    "start_time": "2021-11-25T18:32:05.541Z"
   },
   {
    "duration": 10,
    "start_time": "2021-11-25T18:32:05.548Z"
   },
   {
    "duration": 274,
    "start_time": "2021-11-25T18:32:05.560Z"
   },
   {
    "duration": 11,
    "start_time": "2021-11-25T18:32:05.838Z"
   },
   {
    "duration": 11,
    "start_time": "2021-11-25T18:32:05.852Z"
   },
   {
    "duration": 12,
    "start_time": "2021-11-25T18:32:05.865Z"
   },
   {
    "duration": 17,
    "start_time": "2021-11-25T18:32:05.878Z"
   },
   {
    "duration": 10,
    "start_time": "2021-11-25T18:32:05.897Z"
   },
   {
    "duration": 1045,
    "start_time": "2021-11-25T18:32:05.909Z"
   },
   {
    "duration": 7,
    "start_time": "2021-11-25T18:32:06.956Z"
   },
   {
    "duration": 33,
    "start_time": "2021-11-25T18:32:06.965Z"
   },
   {
    "duration": 10,
    "start_time": "2021-11-25T18:32:07.000Z"
   },
   {
    "duration": 11,
    "start_time": "2021-11-25T18:32:07.011Z"
   },
   {
    "duration": 271,
    "start_time": "2021-11-25T18:32:07.024Z"
   },
   {
    "duration": 9,
    "start_time": "2021-11-25T18:32:07.297Z"
   },
   {
    "duration": 26,
    "start_time": "2021-11-25T18:32:07.308Z"
   },
   {
    "duration": 17,
    "start_time": "2021-11-25T18:32:07.335Z"
   },
   {
    "duration": 19,
    "start_time": "2021-11-25T18:32:07.354Z"
   },
   {
    "duration": 1211,
    "start_time": "2021-11-25T18:32:07.374Z"
   },
   {
    "duration": 33,
    "start_time": "2021-11-25T18:32:08.587Z"
   },
   {
    "duration": 5,
    "start_time": "2021-11-25T18:32:08.621Z"
   },
   {
    "duration": 4,
    "start_time": "2021-11-25T18:32:08.645Z"
   },
   {
    "duration": 35,
    "start_time": "2021-11-25T18:32:08.652Z"
   },
   {
    "duration": 11,
    "start_time": "2021-11-25T18:32:08.689Z"
   },
   {
    "duration": 77,
    "start_time": "2021-11-25T18:32:08.702Z"
   },
   {
    "duration": 13,
    "start_time": "2021-11-25T18:32:08.782Z"
   },
   {
    "duration": 27,
    "start_time": "2021-11-25T18:32:08.797Z"
   },
   {
    "duration": 1606,
    "start_time": "2021-11-25T18:32:08.825Z"
   },
   {
    "duration": 23,
    "start_time": "2021-11-25T18:32:10.432Z"
   },
   {
    "duration": 17,
    "start_time": "2021-11-25T18:32:10.456Z"
   },
   {
    "duration": 875,
    "start_time": "2021-11-25T18:32:10.475Z"
   },
   {
    "duration": 4,
    "start_time": "2021-11-25T18:32:11.351Z"
   },
   {
    "duration": 15,
    "start_time": "2021-11-25T18:32:11.357Z"
   },
   {
    "duration": 24,
    "start_time": "2021-11-25T18:32:11.374Z"
   },
   {
    "duration": 118,
    "start_time": "2021-11-25T18:32:11.400Z"
   },
   {
    "duration": 11,
    "start_time": "2021-11-25T18:32:11.520Z"
   },
   {
    "duration": 19,
    "start_time": "2021-11-25T18:32:11.545Z"
   },
   {
    "duration": 16,
    "start_time": "2021-11-25T18:32:11.566Z"
   },
   {
    "duration": 15,
    "start_time": "2021-11-25T18:32:11.584Z"
   },
   {
    "duration": 16,
    "start_time": "2021-11-25T18:32:11.601Z"
   },
   {
    "duration": 14,
    "start_time": "2021-11-25T18:32:11.619Z"
   },
   {
    "duration": 40,
    "start_time": "2021-11-25T18:32:11.634Z"
   },
   {
    "duration": 11,
    "start_time": "2021-11-25T18:32:11.676Z"
   },
   {
    "duration": 26,
    "start_time": "2021-11-25T18:32:11.689Z"
   },
   {
    "duration": 16,
    "start_time": "2021-11-25T18:32:11.716Z"
   },
   {
    "duration": 38,
    "start_time": "2021-11-25T18:32:11.734Z"
   },
   {
    "duration": 4,
    "start_time": "2021-11-25T18:32:11.774Z"
   },
   {
    "duration": 38,
    "start_time": "2021-11-25T18:32:11.779Z"
   },
   {
    "duration": 23,
    "start_time": "2021-11-25T18:32:11.822Z"
   },
   {
    "duration": 10,
    "start_time": "2021-11-25T18:32:11.848Z"
   },
   {
    "duration": 17,
    "start_time": "2021-11-25T18:32:11.859Z"
   },
   {
    "duration": 39,
    "start_time": "2021-11-25T18:32:11.878Z"
   },
   {
    "duration": 6,
    "start_time": "2021-11-25T18:32:11.919Z"
   },
   {
    "duration": 28,
    "start_time": "2021-11-25T18:32:11.926Z"
   },
   {
    "duration": 3,
    "start_time": "2021-11-25T18:32:11.956Z"
   },
   {
    "duration": 19,
    "start_time": "2021-11-25T18:32:11.961Z"
   },
   {
    "duration": 135,
    "start_time": "2021-11-25T18:32:11.982Z"
   },
   {
    "duration": 3,
    "start_time": "2021-11-25T18:32:12.119Z"
   },
   {
    "duration": 29,
    "start_time": "2021-11-25T18:32:12.124Z"
   },
   {
    "duration": 24,
    "start_time": "2021-11-25T18:32:12.154Z"
   },
   {
    "duration": 33,
    "start_time": "2021-11-25T18:32:12.180Z"
   },
   {
    "duration": 22,
    "start_time": "2021-11-25T18:32:12.215Z"
   },
   {
    "duration": 17,
    "start_time": "2021-11-25T18:32:12.239Z"
   },
   {
    "duration": 36,
    "start_time": "2021-11-25T18:32:12.258Z"
   },
   {
    "duration": 17,
    "start_time": "2021-11-25T18:32:12.296Z"
   },
   {
    "duration": 39,
    "start_time": "2021-11-25T18:32:12.315Z"
   },
   {
    "duration": 28,
    "start_time": "2021-11-25T18:32:12.356Z"
   },
   {
    "duration": 32,
    "start_time": "2021-11-25T18:32:12.385Z"
   },
   {
    "duration": 33,
    "start_time": "2021-11-25T18:32:12.419Z"
   },
   {
    "duration": 26,
    "start_time": "2021-11-25T18:32:12.454Z"
   },
   {
    "duration": 14,
    "start_time": "2021-11-25T18:32:12.482Z"
   },
   {
    "duration": 25,
    "start_time": "2021-11-25T18:32:12.498Z"
   },
   {
    "duration": 27,
    "start_time": "2021-11-25T18:32:12.524Z"
   },
   {
    "duration": 892,
    "start_time": "2021-11-25T18:32:12.553Z"
   },
   {
    "duration": 4,
    "start_time": "2021-11-25T18:32:13.447Z"
   },
   {
    "duration": 92,
    "start_time": "2021-11-25T18:32:13.453Z"
   },
   {
    "duration": 52082,
    "start_time": "2021-11-25T18:32:13.547Z"
   },
   {
    "duration": 4,
    "start_time": "2021-11-25T18:33:05.630Z"
   },
   {
    "duration": 11,
    "start_time": "2021-11-25T18:33:05.635Z"
   },
   {
    "duration": 78006,
    "start_time": "2021-11-25T18:33:05.648Z"
   },
   {
    "duration": 4,
    "start_time": "2021-11-25T18:34:23.656Z"
   },
   {
    "duration": 3,
    "start_time": "2021-11-25T18:34:23.662Z"
   },
   {
    "duration": 545250,
    "start_time": "2021-11-25T18:34:23.667Z"
   },
   {
    "duration": 4,
    "start_time": "2021-11-25T18:43:28.918Z"
   },
   {
    "duration": 4,
    "start_time": "2021-11-25T18:43:28.924Z"
   },
   {
    "duration": 44659,
    "start_time": "2021-11-25T18:43:28.930Z"
   },
   {
    "duration": 5,
    "start_time": "2021-11-25T18:44:13.590Z"
   },
   {
    "duration": 9,
    "start_time": "2021-11-25T18:44:13.596Z"
   },
   {
    "duration": 17,
    "start_time": "2021-11-25T18:44:13.606Z"
   },
   {
    "duration": 437,
    "start_time": "2021-11-25T18:44:13.624Z"
   },
   {
    "duration": 5,
    "start_time": "2021-11-25T18:45:30.830Z"
   },
   {
    "duration": 74926,
    "start_time": "2021-11-25T18:46:01.321Z"
   },
   {
    "duration": 5,
    "start_time": "2021-11-25T18:48:54.499Z"
   },
   {
    "duration": 1192,
    "start_time": "2021-11-25T18:57:30.697Z"
   },
   {
    "duration": 175,
    "start_time": "2021-11-25T18:57:31.891Z"
   },
   {
    "duration": 3,
    "start_time": "2021-11-25T18:57:32.068Z"
   },
   {
    "duration": 11,
    "start_time": "2021-11-25T18:57:32.072Z"
   },
   {
    "duration": 14,
    "start_time": "2021-11-25T18:57:32.085Z"
   },
   {
    "duration": 14,
    "start_time": "2021-11-25T18:57:32.101Z"
   },
   {
    "duration": 355,
    "start_time": "2021-11-25T18:57:32.116Z"
   },
   {
    "duration": 274,
    "start_time": "2021-11-25T18:57:32.473Z"
   },
   {
    "duration": 9,
    "start_time": "2021-11-25T18:57:32.749Z"
   },
   {
    "duration": 277,
    "start_time": "2021-11-25T18:57:32.759Z"
   },
   {
    "duration": 17,
    "start_time": "2021-11-25T18:57:33.038Z"
   },
   {
    "duration": 17,
    "start_time": "2021-11-25T18:57:33.056Z"
   },
   {
    "duration": 13,
    "start_time": "2021-11-25T18:57:33.075Z"
   },
   {
    "duration": 1977,
    "start_time": "2021-11-25T18:57:33.089Z"
   },
   {
    "duration": 47,
    "start_time": "2021-11-25T18:57:35.068Z"
   },
   {
    "duration": 247,
    "start_time": "2021-11-25T18:57:35.117Z"
   },
   {
    "duration": 304,
    "start_time": "2021-11-25T18:57:35.366Z"
   },
   {
    "duration": 14,
    "start_time": "2021-11-25T18:57:35.672Z"
   },
   {
    "duration": 229,
    "start_time": "2021-11-25T18:57:35.688Z"
   },
   {
    "duration": 6,
    "start_time": "2021-11-25T18:57:35.918Z"
   },
   {
    "duration": 19,
    "start_time": "2021-11-25T18:57:35.926Z"
   },
   {
    "duration": 252,
    "start_time": "2021-11-25T18:57:35.947Z"
   },
   {
    "duration": 8,
    "start_time": "2021-11-25T18:57:36.203Z"
   },
   {
    "duration": 8,
    "start_time": "2021-11-25T18:57:36.213Z"
   },
   {
    "duration": 22,
    "start_time": "2021-11-25T18:57:36.223Z"
   },
   {
    "duration": 6,
    "start_time": "2021-11-25T18:57:36.247Z"
   },
   {
    "duration": 7,
    "start_time": "2021-11-25T18:57:36.254Z"
   },
   {
    "duration": 1067,
    "start_time": "2021-11-25T18:57:36.263Z"
   },
   {
    "duration": 13,
    "start_time": "2021-11-25T18:57:37.332Z"
   },
   {
    "duration": 16,
    "start_time": "2021-11-25T18:57:37.347Z"
   },
   {
    "duration": 8,
    "start_time": "2021-11-25T18:57:37.365Z"
   },
   {
    "duration": 7,
    "start_time": "2021-11-25T18:57:37.375Z"
   },
   {
    "duration": 289,
    "start_time": "2021-11-25T18:57:37.384Z"
   },
   {
    "duration": 13,
    "start_time": "2021-11-25T18:57:37.675Z"
   },
   {
    "duration": 28,
    "start_time": "2021-11-25T18:57:37.690Z"
   },
   {
    "duration": 14,
    "start_time": "2021-11-25T18:57:37.720Z"
   },
   {
    "duration": 25,
    "start_time": "2021-11-25T18:57:37.735Z"
   },
   {
    "duration": 1187,
    "start_time": "2021-11-25T18:57:37.762Z"
   },
   {
    "duration": 38,
    "start_time": "2021-11-25T18:57:38.951Z"
   },
   {
    "duration": 5,
    "start_time": "2021-11-25T18:57:38.990Z"
   },
   {
    "duration": 10,
    "start_time": "2021-11-25T18:57:38.996Z"
   },
   {
    "duration": 55,
    "start_time": "2021-11-25T18:57:39.008Z"
   },
   {
    "duration": 10,
    "start_time": "2021-11-25T18:57:39.065Z"
   },
   {
    "duration": 50,
    "start_time": "2021-11-25T18:57:39.077Z"
   },
   {
    "duration": 12,
    "start_time": "2021-11-25T18:57:39.144Z"
   },
   {
    "duration": 22,
    "start_time": "2021-11-25T18:57:39.158Z"
   },
   {
    "duration": 1518,
    "start_time": "2021-11-25T18:57:39.182Z"
   },
   {
    "duration": 36,
    "start_time": "2021-11-25T18:57:40.701Z"
   },
   {
    "duration": 19,
    "start_time": "2021-11-25T18:57:40.739Z"
   },
   {
    "duration": 1376,
    "start_time": "2021-11-25T18:57:40.760Z"
   },
   {
    "duration": 7,
    "start_time": "2021-11-25T18:57:42.138Z"
   },
   {
    "duration": 9,
    "start_time": "2021-11-25T18:57:42.147Z"
   },
   {
    "duration": 21,
    "start_time": "2021-11-25T18:57:42.157Z"
   },
   {
    "duration": 124,
    "start_time": "2021-11-25T18:57:42.179Z"
   },
   {
    "duration": 12,
    "start_time": "2021-11-25T18:57:42.304Z"
   },
   {
    "duration": 35,
    "start_time": "2021-11-25T18:57:42.318Z"
   },
   {
    "duration": 6,
    "start_time": "2021-11-25T18:57:42.355Z"
   },
   {
    "duration": 7,
    "start_time": "2021-11-25T18:57:42.362Z"
   },
   {
    "duration": 14,
    "start_time": "2021-11-25T18:57:42.371Z"
   },
   {
    "duration": 17,
    "start_time": "2021-11-25T18:57:42.387Z"
   },
   {
    "duration": 43,
    "start_time": "2021-11-25T18:57:42.406Z"
   },
   {
    "duration": 35,
    "start_time": "2021-11-25T18:57:42.451Z"
   },
   {
    "duration": 13,
    "start_time": "2021-11-25T18:57:42.488Z"
   },
   {
    "duration": 42,
    "start_time": "2021-11-25T18:57:42.503Z"
   },
   {
    "duration": 9,
    "start_time": "2021-11-25T18:57:42.547Z"
   },
   {
    "duration": 33,
    "start_time": "2021-11-25T18:57:42.558Z"
   },
   {
    "duration": 3,
    "start_time": "2021-11-25T18:57:42.593Z"
   },
   {
    "duration": 12,
    "start_time": "2021-11-25T18:57:42.603Z"
   },
   {
    "duration": 42,
    "start_time": "2021-11-25T18:57:42.617Z"
   },
   {
    "duration": 5,
    "start_time": "2021-11-25T18:57:42.661Z"
   },
   {
    "duration": 17,
    "start_time": "2021-11-25T18:57:42.668Z"
   },
   {
    "duration": 18,
    "start_time": "2021-11-25T18:57:42.687Z"
   },
   {
    "duration": 13,
    "start_time": "2021-11-25T18:57:42.707Z"
   },
   {
    "duration": 26,
    "start_time": "2021-11-25T18:57:42.722Z"
   },
   {
    "duration": 4,
    "start_time": "2021-11-25T18:57:42.749Z"
   },
   {
    "duration": 22,
    "start_time": "2021-11-25T18:57:42.755Z"
   },
   {
    "duration": 375,
    "start_time": "2021-11-25T18:57:42.779Z"
   },
   {
    "duration": -1014,
    "start_time": "2021-11-25T18:57:44.169Z"
   },
   {
    "duration": -1024,
    "start_time": "2021-11-25T18:57:44.180Z"
   },
   {
    "duration": -1031,
    "start_time": "2021-11-25T18:57:44.188Z"
   },
   {
    "duration": -1039,
    "start_time": "2021-11-25T18:57:44.197Z"
   },
   {
    "duration": -1045,
    "start_time": "2021-11-25T18:57:44.204Z"
   },
   {
    "duration": -1053,
    "start_time": "2021-11-25T18:57:44.213Z"
   },
   {
    "duration": -1061,
    "start_time": "2021-11-25T18:57:44.222Z"
   },
   {
    "duration": -1069,
    "start_time": "2021-11-25T18:57:44.231Z"
   },
   {
    "duration": -1101,
    "start_time": "2021-11-25T18:57:44.264Z"
   },
   {
    "duration": -1110,
    "start_time": "2021-11-25T18:57:44.274Z"
   },
   {
    "duration": -1119,
    "start_time": "2021-11-25T18:57:44.284Z"
   },
   {
    "duration": -1132,
    "start_time": "2021-11-25T18:57:44.298Z"
   },
   {
    "duration": -1139,
    "start_time": "2021-11-25T18:57:44.306Z"
   },
   {
    "duration": -1147,
    "start_time": "2021-11-25T18:57:44.315Z"
   },
   {
    "duration": -1154,
    "start_time": "2021-11-25T18:57:44.323Z"
   },
   {
    "duration": -1161,
    "start_time": "2021-11-25T18:57:44.332Z"
   },
   {
    "duration": -1168,
    "start_time": "2021-11-25T18:57:44.340Z"
   },
   {
    "duration": -1175,
    "start_time": "2021-11-25T18:57:44.349Z"
   },
   {
    "duration": -1182,
    "start_time": "2021-11-25T18:57:44.357Z"
   },
   {
    "duration": -1206,
    "start_time": "2021-11-25T18:57:44.382Z"
   },
   {
    "duration": -1213,
    "start_time": "2021-11-25T18:57:44.390Z"
   },
   {
    "duration": -1223,
    "start_time": "2021-11-25T18:57:44.401Z"
   },
   {
    "duration": -1260,
    "start_time": "2021-11-25T18:57:44.440Z"
   },
   {
    "duration": -1268,
    "start_time": "2021-11-25T18:57:44.449Z"
   },
   {
    "duration": -1274,
    "start_time": "2021-11-25T18:57:44.457Z"
   },
   {
    "duration": -1283,
    "start_time": "2021-11-25T18:57:44.467Z"
   },
   {
    "duration": -1290,
    "start_time": "2021-11-25T18:57:44.475Z"
   },
   {
    "duration": -1310,
    "start_time": "2021-11-25T18:57:44.497Z"
   },
   {
    "duration": -1317,
    "start_time": "2021-11-25T18:57:44.505Z"
   },
   {
    "duration": -1336,
    "start_time": "2021-11-25T18:57:44.526Z"
   },
   {
    "duration": -1346,
    "start_time": "2021-11-25T18:57:44.538Z"
   },
   {
    "duration": -1356,
    "start_time": "2021-11-25T18:57:44.549Z"
   },
   {
    "duration": -1362,
    "start_time": "2021-11-25T18:57:44.557Z"
   },
   {
    "duration": 6,
    "start_time": "2021-11-25T19:00:38.779Z"
   },
   {
    "duration": 10,
    "start_time": "2021-11-25T19:00:42.897Z"
   },
   {
    "duration": 5,
    "start_time": "2021-11-25T19:00:48.297Z"
   },
   {
    "duration": 22,
    "start_time": "2021-11-25T19:00:50.529Z"
   },
   {
    "duration": 1216,
    "start_time": "2021-11-25T19:01:14.838Z"
   },
   {
    "duration": 176,
    "start_time": "2021-11-25T19:01:16.056Z"
   },
   {
    "duration": 3,
    "start_time": "2021-11-25T19:01:16.233Z"
   },
   {
    "duration": 9,
    "start_time": "2021-11-25T19:01:16.237Z"
   },
   {
    "duration": 11,
    "start_time": "2021-11-25T19:01:16.248Z"
   },
   {
    "duration": 10,
    "start_time": "2021-11-25T19:01:16.260Z"
   },
   {
    "duration": 289,
    "start_time": "2021-11-25T19:01:16.272Z"
   },
   {
    "duration": 273,
    "start_time": "2021-11-25T19:01:16.563Z"
   },
   {
    "duration": 10,
    "start_time": "2021-11-25T19:01:16.843Z"
   },
   {
    "duration": 285,
    "start_time": "2021-11-25T19:01:16.855Z"
   },
   {
    "duration": 16,
    "start_time": "2021-11-25T19:01:17.143Z"
   },
   {
    "duration": 23,
    "start_time": "2021-11-25T19:01:17.161Z"
   },
   {
    "duration": 37,
    "start_time": "2021-11-25T19:01:17.186Z"
   },
   {
    "duration": 1921,
    "start_time": "2021-11-25T19:01:17.225Z"
   },
   {
    "duration": 46,
    "start_time": "2021-11-25T19:01:19.148Z"
   },
   {
    "duration": 243,
    "start_time": "2021-11-25T19:01:19.195Z"
   },
   {
    "duration": 286,
    "start_time": "2021-11-25T19:01:19.440Z"
   },
   {
    "duration": 22,
    "start_time": "2021-11-25T19:01:19.727Z"
   },
   {
    "duration": 211,
    "start_time": "2021-11-25T19:01:19.751Z"
   },
   {
    "duration": 7,
    "start_time": "2021-11-25T19:01:19.964Z"
   },
   {
    "duration": 14,
    "start_time": "2021-11-25T19:01:19.973Z"
   },
   {
    "duration": 258,
    "start_time": "2021-11-25T19:01:19.989Z"
   },
   {
    "duration": 9,
    "start_time": "2021-11-25T19:01:20.249Z"
   },
   {
    "duration": 12,
    "start_time": "2021-11-25T19:01:20.260Z"
   },
   {
    "duration": 11,
    "start_time": "2021-11-25T19:01:20.273Z"
   },
   {
    "duration": 7,
    "start_time": "2021-11-25T19:01:20.286Z"
   },
   {
    "duration": 16,
    "start_time": "2021-11-25T19:01:20.298Z"
   },
   {
    "duration": 1048,
    "start_time": "2021-11-25T19:01:20.317Z"
   },
   {
    "duration": 8,
    "start_time": "2021-11-25T19:01:21.367Z"
   },
   {
    "duration": 23,
    "start_time": "2021-11-25T19:01:21.377Z"
   },
   {
    "duration": 9,
    "start_time": "2021-11-25T19:01:21.402Z"
   },
   {
    "duration": 34,
    "start_time": "2021-11-25T19:01:21.413Z"
   },
   {
    "duration": 267,
    "start_time": "2021-11-25T19:01:21.449Z"
   },
   {
    "duration": 10,
    "start_time": "2021-11-25T19:01:21.717Z"
   },
   {
    "duration": 22,
    "start_time": "2021-11-25T19:01:21.728Z"
   },
   {
    "duration": 30,
    "start_time": "2021-11-25T19:01:21.752Z"
   },
   {
    "duration": 14,
    "start_time": "2021-11-25T19:01:21.784Z"
   },
   {
    "duration": 1189,
    "start_time": "2021-11-25T19:01:21.800Z"
   },
   {
    "duration": 32,
    "start_time": "2021-11-25T19:01:22.991Z"
   },
   {
    "duration": 5,
    "start_time": "2021-11-25T19:01:23.024Z"
   },
   {
    "duration": 4,
    "start_time": "2021-11-25T19:01:23.045Z"
   },
   {
    "duration": 36,
    "start_time": "2021-11-25T19:01:23.050Z"
   },
   {
    "duration": 11,
    "start_time": "2021-11-25T19:01:23.087Z"
   },
   {
    "duration": 65,
    "start_time": "2021-11-25T19:01:23.099Z"
   },
   {
    "duration": 11,
    "start_time": "2021-11-25T19:01:23.167Z"
   },
   {
    "duration": 20,
    "start_time": "2021-11-25T19:01:23.180Z"
   },
   {
    "duration": 1443,
    "start_time": "2021-11-25T19:01:23.202Z"
   },
   {
    "duration": 23,
    "start_time": "2021-11-25T19:01:24.647Z"
   },
   {
    "duration": 17,
    "start_time": "2021-11-25T19:01:24.671Z"
   },
   {
    "duration": 867,
    "start_time": "2021-11-25T19:01:24.690Z"
   },
   {
    "duration": 4,
    "start_time": "2021-11-25T19:01:25.558Z"
   },
   {
    "duration": 16,
    "start_time": "2021-11-25T19:01:25.563Z"
   },
   {
    "duration": 21,
    "start_time": "2021-11-25T19:01:25.580Z"
   },
   {
    "duration": 122,
    "start_time": "2021-11-25T19:01:25.603Z"
   },
   {
    "duration": 19,
    "start_time": "2021-11-25T19:01:25.727Z"
   },
   {
    "duration": 25,
    "start_time": "2021-11-25T19:01:25.748Z"
   },
   {
    "duration": 5,
    "start_time": "2021-11-25T19:01:25.775Z"
   },
   {
    "duration": 11,
    "start_time": "2021-11-25T19:01:25.782Z"
   },
   {
    "duration": 18,
    "start_time": "2021-11-25T19:01:25.794Z"
   },
   {
    "duration": 36,
    "start_time": "2021-11-25T19:01:25.813Z"
   },
   {
    "duration": 13,
    "start_time": "2021-11-25T19:01:25.851Z"
   },
   {
    "duration": 30,
    "start_time": "2021-11-25T19:01:25.866Z"
   },
   {
    "duration": 11,
    "start_time": "2021-11-25T19:01:25.898Z"
   },
   {
    "duration": 34,
    "start_time": "2021-11-25T19:01:25.910Z"
   },
   {
    "duration": 9,
    "start_time": "2021-11-25T19:01:25.946Z"
   },
   {
    "duration": 41,
    "start_time": "2021-11-25T19:01:25.956Z"
   },
   {
    "duration": 10,
    "start_time": "2021-11-25T19:01:25.999Z"
   },
   {
    "duration": 20,
    "start_time": "2021-11-25T19:01:26.011Z"
   },
   {
    "duration": 27,
    "start_time": "2021-11-25T19:01:26.032Z"
   },
   {
    "duration": 19,
    "start_time": "2021-11-25T19:01:26.061Z"
   },
   {
    "duration": 22,
    "start_time": "2021-11-25T19:01:26.082Z"
   },
   {
    "duration": 24,
    "start_time": "2021-11-25T19:01:26.106Z"
   },
   {
    "duration": 6,
    "start_time": "2021-11-25T19:01:26.132Z"
   },
   {
    "duration": 52,
    "start_time": "2021-11-25T19:01:26.139Z"
   },
   {
    "duration": 6,
    "start_time": "2021-11-25T19:01:26.193Z"
   },
   {
    "duration": 9,
    "start_time": "2021-11-25T19:01:26.201Z"
   },
   {
    "duration": 144,
    "start_time": "2021-11-25T19:01:26.211Z"
   },
   {
    "duration": 4,
    "start_time": "2021-11-25T19:01:26.357Z"
   },
   {
    "duration": 11,
    "start_time": "2021-11-25T19:01:26.362Z"
   },
   {
    "duration": 8,
    "start_time": "2021-11-25T19:01:26.375Z"
   },
   {
    "duration": 20,
    "start_time": "2021-11-25T19:01:26.389Z"
   },
   {
    "duration": 5,
    "start_time": "2021-11-25T19:01:26.411Z"
   },
   {
    "duration": 27,
    "start_time": "2021-11-25T19:01:26.418Z"
   },
   {
    "duration": 28,
    "start_time": "2021-11-25T19:01:26.447Z"
   },
   {
    "duration": 30,
    "start_time": "2021-11-25T19:01:26.477Z"
   },
   {
    "duration": 19,
    "start_time": "2021-11-25T19:01:26.544Z"
   },
   {
    "duration": 20,
    "start_time": "2021-11-25T19:01:26.565Z"
   },
   {
    "duration": 59,
    "start_time": "2021-11-25T19:01:26.587Z"
   },
   {
    "duration": 19,
    "start_time": "2021-11-25T19:01:26.648Z"
   },
   {
    "duration": 9,
    "start_time": "2021-11-25T19:01:26.669Z"
   },
   {
    "duration": 23,
    "start_time": "2021-11-25T19:01:26.680Z"
   },
   {
    "duration": 41,
    "start_time": "2021-11-25T19:01:26.705Z"
   },
   {
    "duration": 9,
    "start_time": "2021-11-25T19:01:26.748Z"
   },
   {
    "duration": 787,
    "start_time": "2021-11-25T19:01:26.760Z"
   },
   {
    "duration": 96,
    "start_time": "2021-11-25T19:01:27.549Z"
   },
   {
    "duration": 4,
    "start_time": "2021-11-25T19:01:27.647Z"
   },
   {
    "duration": 60156,
    "start_time": "2021-11-25T19:01:27.653Z"
   },
   {
    "duration": 4,
    "start_time": "2021-11-25T19:02:27.810Z"
   },
   {
    "duration": 5,
    "start_time": "2021-11-25T19:02:27.816Z"
   },
   {
    "duration": 88026,
    "start_time": "2021-11-25T19:02:27.823Z"
   },
   {
    "duration": 4,
    "start_time": "2021-11-25T19:03:55.850Z"
   },
   {
    "duration": 5,
    "start_time": "2021-11-25T19:03:55.856Z"
   },
   {
    "duration": 386868,
    "start_time": "2021-11-25T19:03:55.862Z"
   },
   {
    "duration": 5,
    "start_time": "2021-11-25T19:10:22.732Z"
   },
   {
    "duration": 12,
    "start_time": "2021-11-25T19:10:22.738Z"
   },
   {
    "duration": 48559,
    "start_time": "2021-11-25T19:10:22.752Z"
   },
   {
    "duration": 6,
    "start_time": "2021-11-25T19:11:11.313Z"
   },
   {
    "duration": 6,
    "start_time": "2021-11-25T19:11:11.321Z"
   },
   {
    "duration": 7,
    "start_time": "2021-11-25T19:11:11.329Z"
   },
   {
    "duration": 735,
    "start_time": "2021-11-25T19:11:11.338Z"
   },
   {
    "duration": 4,
    "start_time": "2021-11-25T19:11:25.517Z"
   },
   {
    "duration": 33896,
    "start_time": "2021-11-25T19:11:27.468Z"
   },
   {
    "duration": 5,
    "start_time": "2021-11-25T19:12:56.290Z"
   },
   {
    "duration": 1349,
    "start_time": "2021-11-25T19:13:39.747Z"
   },
   {
    "duration": 175,
    "start_time": "2021-11-25T19:13:41.098Z"
   },
   {
    "duration": 2,
    "start_time": "2021-11-25T19:13:41.275Z"
   },
   {
    "duration": 15,
    "start_time": "2021-11-25T19:13:41.279Z"
   },
   {
    "duration": 12,
    "start_time": "2021-11-25T19:13:41.296Z"
   },
   {
    "duration": 11,
    "start_time": "2021-11-25T19:13:41.310Z"
   },
   {
    "duration": 290,
    "start_time": "2021-11-25T19:13:41.323Z"
   },
   {
    "duration": 281,
    "start_time": "2021-11-25T19:13:41.616Z"
   },
   {
    "duration": 9,
    "start_time": "2021-11-25T19:13:41.899Z"
   },
   {
    "duration": 286,
    "start_time": "2021-11-25T19:13:41.909Z"
   },
   {
    "duration": 12,
    "start_time": "2021-11-25T19:13:42.197Z"
   },
   {
    "duration": 13,
    "start_time": "2021-11-25T19:13:42.210Z"
   },
   {
    "duration": 34,
    "start_time": "2021-11-25T19:13:42.224Z"
   },
   {
    "duration": 2126,
    "start_time": "2021-11-25T19:13:42.259Z"
   },
   {
    "duration": 58,
    "start_time": "2021-11-25T19:13:44.387Z"
   },
   {
    "duration": 267,
    "start_time": "2021-11-25T19:13:44.447Z"
   },
   {
    "duration": 291,
    "start_time": "2021-11-25T19:13:44.716Z"
   },
   {
    "duration": 14,
    "start_time": "2021-11-25T19:13:45.009Z"
   },
   {
    "duration": 224,
    "start_time": "2021-11-25T19:13:45.025Z"
   },
   {
    "duration": 6,
    "start_time": "2021-11-25T19:13:45.250Z"
   },
   {
    "duration": 9,
    "start_time": "2021-11-25T19:13:45.258Z"
   },
   {
    "duration": 271,
    "start_time": "2021-11-25T19:13:45.269Z"
   },
   {
    "duration": 8,
    "start_time": "2021-11-25T19:13:45.545Z"
   },
   {
    "duration": 8,
    "start_time": "2021-11-25T19:13:45.556Z"
   },
   {
    "duration": 8,
    "start_time": "2021-11-25T19:13:45.566Z"
   },
   {
    "duration": 8,
    "start_time": "2021-11-25T19:13:45.576Z"
   },
   {
    "duration": 7,
    "start_time": "2021-11-25T19:13:45.586Z"
   },
   {
    "duration": 1060,
    "start_time": "2021-11-25T19:13:45.594Z"
   },
   {
    "duration": 7,
    "start_time": "2021-11-25T19:13:46.656Z"
   },
   {
    "duration": 17,
    "start_time": "2021-11-25T19:13:46.664Z"
   },
   {
    "duration": 8,
    "start_time": "2021-11-25T19:13:46.682Z"
   },
   {
    "duration": 8,
    "start_time": "2021-11-25T19:13:46.691Z"
   },
   {
    "duration": 386,
    "start_time": "2021-11-25T19:13:46.700Z"
   },
   {
    "duration": 63,
    "start_time": "2021-11-25T19:13:47.088Z"
   },
   {
    "duration": 14,
    "start_time": "2021-11-25T19:13:47.153Z"
   },
   {
    "duration": 18,
    "start_time": "2021-11-25T19:13:47.168Z"
   },
   {
    "duration": 57,
    "start_time": "2021-11-25T19:13:47.188Z"
   },
   {
    "duration": 1281,
    "start_time": "2021-11-25T19:13:47.248Z"
   },
   {
    "duration": 41,
    "start_time": "2021-11-25T19:13:48.530Z"
   },
   {
    "duration": 5,
    "start_time": "2021-11-25T19:13:48.573Z"
   },
   {
    "duration": 16,
    "start_time": "2021-11-25T19:13:48.580Z"
   },
   {
    "duration": 34,
    "start_time": "2021-11-25T19:13:48.598Z"
   },
   {
    "duration": 11,
    "start_time": "2021-11-25T19:13:48.644Z"
   },
   {
    "duration": 48,
    "start_time": "2021-11-25T19:13:48.657Z"
   },
   {
    "duration": 12,
    "start_time": "2021-11-25T19:13:48.707Z"
   },
   {
    "duration": 22,
    "start_time": "2021-11-25T19:13:48.745Z"
   },
   {
    "duration": 1507,
    "start_time": "2021-11-25T19:13:48.769Z"
   },
   {
    "duration": 23,
    "start_time": "2021-11-25T19:13:50.278Z"
   },
   {
    "duration": 19,
    "start_time": "2021-11-25T19:13:50.303Z"
   },
   {
    "duration": 882,
    "start_time": "2021-11-25T19:13:50.323Z"
   },
   {
    "duration": 3,
    "start_time": "2021-11-25T19:13:51.207Z"
   },
   {
    "duration": 10,
    "start_time": "2021-11-25T19:13:51.211Z"
   },
   {
    "duration": 33,
    "start_time": "2021-11-25T19:13:51.222Z"
   },
   {
    "duration": 116,
    "start_time": "2021-11-25T19:13:51.256Z"
   },
   {
    "duration": 11,
    "start_time": "2021-11-25T19:13:51.374Z"
   },
   {
    "duration": 19,
    "start_time": "2021-11-25T19:13:51.387Z"
   },
   {
    "duration": 5,
    "start_time": "2021-11-25T19:13:51.408Z"
   },
   {
    "duration": 34,
    "start_time": "2021-11-25T19:13:51.415Z"
   },
   {
    "duration": 14,
    "start_time": "2021-11-25T19:13:51.451Z"
   },
   {
    "duration": 16,
    "start_time": "2021-11-25T19:13:51.467Z"
   },
   {
    "duration": 13,
    "start_time": "2021-11-25T19:13:51.485Z"
   },
   {
    "duration": 64,
    "start_time": "2021-11-25T19:13:51.499Z"
   },
   {
    "duration": 13,
    "start_time": "2021-11-25T19:13:51.565Z"
   },
   {
    "duration": 8,
    "start_time": "2021-11-25T19:13:51.580Z"
   },
   {
    "duration": 8,
    "start_time": "2021-11-25T19:13:51.590Z"
   },
   {
    "duration": 23,
    "start_time": "2021-11-25T19:13:51.600Z"
   },
   {
    "duration": 4,
    "start_time": "2021-11-25T19:13:51.645Z"
   },
   {
    "duration": 11,
    "start_time": "2021-11-25T19:13:51.656Z"
   },
   {
    "duration": 21,
    "start_time": "2021-11-25T19:13:51.671Z"
   },
   {
    "duration": 6,
    "start_time": "2021-11-25T19:13:51.694Z"
   },
   {
    "duration": 7,
    "start_time": "2021-11-25T19:13:51.702Z"
   },
   {
    "duration": 43,
    "start_time": "2021-11-25T19:13:51.710Z"
   },
   {
    "duration": 4,
    "start_time": "2021-11-25T19:13:51.755Z"
   },
   {
    "duration": 43,
    "start_time": "2021-11-25T19:13:51.760Z"
   },
   {
    "duration": 90,
    "start_time": "2021-11-25T19:13:51.804Z"
   },
   {
    "duration": -433,
    "start_time": "2021-11-25T19:13:52.329Z"
   },
   {
    "duration": -541,
    "start_time": "2021-11-25T19:13:52.438Z"
   },
   {
    "duration": -551,
    "start_time": "2021-11-25T19:13:52.449Z"
   },
   {
    "duration": -558,
    "start_time": "2021-11-25T19:13:52.457Z"
   },
   {
    "duration": -570,
    "start_time": "2021-11-25T19:13:52.470Z"
   },
   {
    "duration": -577,
    "start_time": "2021-11-25T19:13:52.478Z"
   },
   {
    "duration": -585,
    "start_time": "2021-11-25T19:13:52.487Z"
   },
   {
    "duration": -591,
    "start_time": "2021-11-25T19:13:52.495Z"
   },
   {
    "duration": -599,
    "start_time": "2021-11-25T19:13:52.504Z"
   },
   {
    "duration": -608,
    "start_time": "2021-11-25T19:13:52.513Z"
   },
   {
    "duration": -616,
    "start_time": "2021-11-25T19:13:52.522Z"
   },
   {
    "duration": -1002,
    "start_time": "2021-11-25T19:13:52.909Z"
   },
   {
    "duration": -1010,
    "start_time": "2021-11-25T19:13:52.918Z"
   },
   {
    "duration": -1031,
    "start_time": "2021-11-25T19:13:52.940Z"
   },
   {
    "duration": -1040,
    "start_time": "2021-11-25T19:13:52.950Z"
   },
   {
    "duration": -1047,
    "start_time": "2021-11-25T19:13:52.958Z"
   },
   {
    "duration": -1055,
    "start_time": "2021-11-25T19:13:52.967Z"
   },
   {
    "duration": -1063,
    "start_time": "2021-11-25T19:13:52.975Z"
   },
   {
    "duration": -1070,
    "start_time": "2021-11-25T19:13:52.983Z"
   },
   {
    "duration": -1076,
    "start_time": "2021-11-25T19:13:52.990Z"
   },
   {
    "duration": -1084,
    "start_time": "2021-11-25T19:13:52.999Z"
   },
   {
    "duration": -1091,
    "start_time": "2021-11-25T19:13:53.007Z"
   },
   {
    "duration": -1100,
    "start_time": "2021-11-25T19:13:53.016Z"
   },
   {
    "duration": -1106,
    "start_time": "2021-11-25T19:13:53.023Z"
   },
   {
    "duration": -1114,
    "start_time": "2021-11-25T19:13:53.032Z"
   },
   {
    "duration": -1133,
    "start_time": "2021-11-25T19:13:53.052Z"
   },
   {
    "duration": -1142,
    "start_time": "2021-11-25T19:13:53.062Z"
   },
   {
    "duration": -1150,
    "start_time": "2021-11-25T19:13:53.071Z"
   },
   {
    "duration": -1159,
    "start_time": "2021-11-25T19:13:53.080Z"
   },
   {
    "duration": -1167,
    "start_time": "2021-11-25T19:13:53.089Z"
   },
   {
    "duration": -1175,
    "start_time": "2021-11-25T19:13:53.098Z"
   },
   {
    "duration": -1182,
    "start_time": "2021-11-25T19:13:53.106Z"
   },
   {
    "duration": -1190,
    "start_time": "2021-11-25T19:13:53.115Z"
   },
   {
    "duration": -1197,
    "start_time": "2021-11-25T19:13:53.123Z"
   },
   {
    "duration": -1204,
    "start_time": "2021-11-25T19:13:53.131Z"
   },
   {
    "duration": 2,
    "start_time": "2021-11-25T19:15:09.977Z"
   },
   {
    "duration": 146,
    "start_time": "2021-11-25T19:15:12.551Z"
   },
   {
    "duration": 1231,
    "start_time": "2021-11-25T19:17:25.622Z"
   },
   {
    "duration": 178,
    "start_time": "2021-11-25T19:17:26.856Z"
   },
   {
    "duration": 3,
    "start_time": "2021-11-25T19:17:27.036Z"
   },
   {
    "duration": 19,
    "start_time": "2021-11-25T19:17:27.041Z"
   },
   {
    "duration": 13,
    "start_time": "2021-11-25T19:17:27.062Z"
   },
   {
    "duration": 15,
    "start_time": "2021-11-25T19:17:27.077Z"
   },
   {
    "duration": 284,
    "start_time": "2021-11-25T19:17:27.094Z"
   },
   {
    "duration": 285,
    "start_time": "2021-11-25T19:17:27.381Z"
   },
   {
    "duration": 9,
    "start_time": "2021-11-25T19:17:27.669Z"
   },
   {
    "duration": 309,
    "start_time": "2021-11-25T19:17:27.679Z"
   },
   {
    "duration": 13,
    "start_time": "2021-11-25T19:17:27.990Z"
   },
   {
    "duration": 54,
    "start_time": "2021-11-25T19:17:28.005Z"
   },
   {
    "duration": 40,
    "start_time": "2021-11-25T19:17:28.061Z"
   },
   {
    "duration": 2052,
    "start_time": "2021-11-25T19:17:28.103Z"
   },
   {
    "duration": 45,
    "start_time": "2021-11-25T19:17:30.156Z"
   },
   {
    "duration": 233,
    "start_time": "2021-11-25T19:17:30.203Z"
   },
   {
    "duration": 297,
    "start_time": "2021-11-25T19:17:30.438Z"
   },
   {
    "duration": 19,
    "start_time": "2021-11-25T19:17:30.737Z"
   },
   {
    "duration": 214,
    "start_time": "2021-11-25T19:17:30.758Z"
   },
   {
    "duration": 5,
    "start_time": "2021-11-25T19:17:30.974Z"
   },
   {
    "duration": 18,
    "start_time": "2021-11-25T19:17:30.981Z"
   },
   {
    "duration": 248,
    "start_time": "2021-11-25T19:17:31.001Z"
   },
   {
    "duration": 8,
    "start_time": "2021-11-25T19:17:31.254Z"
   },
   {
    "duration": 10,
    "start_time": "2021-11-25T19:17:31.264Z"
   },
   {
    "duration": 25,
    "start_time": "2021-11-25T19:17:31.276Z"
   },
   {
    "duration": 23,
    "start_time": "2021-11-25T19:17:31.302Z"
   },
   {
    "duration": 13,
    "start_time": "2021-11-25T19:17:31.326Z"
   },
   {
    "duration": 1074,
    "start_time": "2021-11-25T19:17:31.340Z"
   },
   {
    "duration": 6,
    "start_time": "2021-11-25T19:17:32.416Z"
   },
   {
    "duration": 24,
    "start_time": "2021-11-25T19:17:32.424Z"
   },
   {
    "duration": 9,
    "start_time": "2021-11-25T19:17:32.449Z"
   },
   {
    "duration": 10,
    "start_time": "2021-11-25T19:17:32.459Z"
   },
   {
    "duration": 276,
    "start_time": "2021-11-25T19:17:32.471Z"
   },
   {
    "duration": 9,
    "start_time": "2021-11-25T19:17:32.749Z"
   },
   {
    "duration": 12,
    "start_time": "2021-11-25T19:17:32.759Z"
   },
   {
    "duration": 9,
    "start_time": "2021-11-25T19:17:32.772Z"
   },
   {
    "duration": 12,
    "start_time": "2021-11-25T19:17:32.783Z"
   },
   {
    "duration": 1169,
    "start_time": "2021-11-25T19:17:32.796Z"
   },
   {
    "duration": 34,
    "start_time": "2021-11-25T19:17:33.967Z"
   },
   {
    "duration": 6,
    "start_time": "2021-11-25T19:17:34.003Z"
   },
   {
    "duration": 5,
    "start_time": "2021-11-25T19:17:34.011Z"
   },
   {
    "duration": 58,
    "start_time": "2021-11-25T19:17:34.018Z"
   },
   {
    "duration": 10,
    "start_time": "2021-11-25T19:17:34.078Z"
   },
   {
    "duration": 63,
    "start_time": "2021-11-25T19:17:34.090Z"
   },
   {
    "duration": 11,
    "start_time": "2021-11-25T19:17:34.155Z"
   },
   {
    "duration": 19,
    "start_time": "2021-11-25T19:17:34.167Z"
   },
   {
    "duration": 1516,
    "start_time": "2021-11-25T19:17:34.188Z"
   },
   {
    "duration": 21,
    "start_time": "2021-11-25T19:17:35.706Z"
   },
   {
    "duration": 25,
    "start_time": "2021-11-25T19:17:35.729Z"
   },
   {
    "duration": 845,
    "start_time": "2021-11-25T19:17:35.756Z"
   },
   {
    "duration": 3,
    "start_time": "2021-11-25T19:17:36.602Z"
   },
   {
    "duration": 7,
    "start_time": "2021-11-25T19:17:36.607Z"
   },
   {
    "duration": 30,
    "start_time": "2021-11-25T19:17:36.615Z"
   },
   {
    "duration": 112,
    "start_time": "2021-11-25T19:17:36.647Z"
   },
   {
    "duration": 11,
    "start_time": "2021-11-25T19:17:36.760Z"
   },
   {
    "duration": 21,
    "start_time": "2021-11-25T19:17:36.773Z"
   },
   {
    "duration": 15,
    "start_time": "2021-11-25T19:17:36.795Z"
   },
   {
    "duration": 19,
    "start_time": "2021-11-25T19:17:36.811Z"
   },
   {
    "duration": 18,
    "start_time": "2021-11-25T19:17:36.832Z"
   },
   {
    "duration": 21,
    "start_time": "2021-11-25T19:17:36.852Z"
   },
   {
    "duration": 18,
    "start_time": "2021-11-25T19:17:36.875Z"
   },
   {
    "duration": 33,
    "start_time": "2021-11-25T19:17:36.894Z"
   },
   {
    "duration": 26,
    "start_time": "2021-11-25T19:17:36.928Z"
   },
   {
    "duration": 8,
    "start_time": "2021-11-25T19:17:36.955Z"
   },
   {
    "duration": 10,
    "start_time": "2021-11-25T19:17:36.965Z"
   },
   {
    "duration": 29,
    "start_time": "2021-11-25T19:17:36.976Z"
   },
   {
    "duration": 4,
    "start_time": "2021-11-25T19:17:37.006Z"
   },
   {
    "duration": 28,
    "start_time": "2021-11-25T19:17:37.016Z"
   },
   {
    "duration": 22,
    "start_time": "2021-11-25T19:17:37.047Z"
   },
   {
    "duration": 18,
    "start_time": "2021-11-25T19:17:37.071Z"
   },
   {
    "duration": 20,
    "start_time": "2021-11-25T19:17:37.091Z"
   },
   {
    "duration": 15,
    "start_time": "2021-11-25T19:17:37.113Z"
   },
   {
    "duration": 11,
    "start_time": "2021-11-25T19:17:37.130Z"
   },
   {
    "duration": 43,
    "start_time": "2021-11-25T19:17:37.143Z"
   },
   {
    "duration": 90,
    "start_time": "2021-11-25T19:17:37.188Z"
   },
   {
    "duration": -1276,
    "start_time": "2021-11-25T19:17:38.556Z"
   },
   {
    "duration": -1336,
    "start_time": "2021-11-25T19:17:38.617Z"
   },
   {
    "duration": -1345,
    "start_time": "2021-11-25T19:17:38.627Z"
   },
   {
    "duration": -1354,
    "start_time": "2021-11-25T19:17:38.638Z"
   },
   {
    "duration": -1361,
    "start_time": "2021-11-25T19:17:38.646Z"
   },
   {
    "duration": -1371,
    "start_time": "2021-11-25T19:17:38.656Z"
   },
   {
    "duration": -1378,
    "start_time": "2021-11-25T19:17:38.665Z"
   },
   {
    "duration": -1387,
    "start_time": "2021-11-25T19:17:38.675Z"
   },
   {
    "duration": -1396,
    "start_time": "2021-11-25T19:17:38.684Z"
   },
   {
    "duration": -1407,
    "start_time": "2021-11-25T19:17:38.696Z"
   },
   {
    "duration": -1414,
    "start_time": "2021-11-25T19:17:38.704Z"
   },
   {
    "duration": -1423,
    "start_time": "2021-11-25T19:17:38.714Z"
   },
   {
    "duration": -1444,
    "start_time": "2021-11-25T19:17:38.736Z"
   },
   {
    "duration": -1455,
    "start_time": "2021-11-25T19:17:38.748Z"
   },
   {
    "duration": -1463,
    "start_time": "2021-11-25T19:17:38.757Z"
   },
   {
    "duration": -1471,
    "start_time": "2021-11-25T19:17:38.766Z"
   },
   {
    "duration": -1478,
    "start_time": "2021-11-25T19:17:38.774Z"
   },
   {
    "duration": -1487,
    "start_time": "2021-11-25T19:17:38.784Z"
   },
   {
    "duration": -1495,
    "start_time": "2021-11-25T19:17:38.793Z"
   },
   {
    "duration": -1503,
    "start_time": "2021-11-25T19:17:38.802Z"
   },
   {
    "duration": -1511,
    "start_time": "2021-11-25T19:17:38.811Z"
   },
   {
    "duration": -1521,
    "start_time": "2021-11-25T19:17:38.822Z"
   },
   {
    "duration": -1528,
    "start_time": "2021-11-25T19:17:38.830Z"
   },
   {
    "duration": -1552,
    "start_time": "2021-11-25T19:17:38.855Z"
   },
   {
    "duration": -1561,
    "start_time": "2021-11-25T19:17:38.865Z"
   },
   {
    "duration": -1571,
    "start_time": "2021-11-25T19:17:38.876Z"
   },
   {
    "duration": -1579,
    "start_time": "2021-11-25T19:17:38.885Z"
   },
   {
    "duration": -1593,
    "start_time": "2021-11-25T19:17:38.900Z"
   },
   {
    "duration": -1602,
    "start_time": "2021-11-25T19:17:38.909Z"
   },
   {
    "duration": -1611,
    "start_time": "2021-11-25T19:17:38.919Z"
   },
   {
    "duration": -1619,
    "start_time": "2021-11-25T19:17:38.928Z"
   },
   {
    "duration": -1627,
    "start_time": "2021-11-25T19:17:38.937Z"
   },
   {
    "duration": -1635,
    "start_time": "2021-11-25T19:17:38.946Z"
   },
   {
    "duration": -1654,
    "start_time": "2021-11-25T19:17:38.967Z"
   },
   {
    "duration": -1663,
    "start_time": "2021-11-25T19:17:38.977Z"
   },
   {
    "duration": 1273,
    "start_time": "2021-11-25T19:18:03.283Z"
   },
   {
    "duration": 172,
    "start_time": "2021-11-25T19:18:04.558Z"
   },
   {
    "duration": 3,
    "start_time": "2021-11-25T19:18:04.732Z"
   },
   {
    "duration": 18,
    "start_time": "2021-11-25T19:18:04.737Z"
   },
   {
    "duration": 34,
    "start_time": "2021-11-25T19:18:04.757Z"
   },
   {
    "duration": 22,
    "start_time": "2021-11-25T19:18:04.793Z"
   },
   {
    "duration": 297,
    "start_time": "2021-11-25T19:18:04.817Z"
   },
   {
    "duration": 278,
    "start_time": "2021-11-25T19:18:05.116Z"
   },
   {
    "duration": 9,
    "start_time": "2021-11-25T19:18:05.396Z"
   },
   {
    "duration": 294,
    "start_time": "2021-11-25T19:18:05.406Z"
   },
   {
    "duration": 14,
    "start_time": "2021-11-25T19:18:05.702Z"
   },
   {
    "duration": 29,
    "start_time": "2021-11-25T19:18:05.717Z"
   },
   {
    "duration": 18,
    "start_time": "2021-11-25T19:18:05.748Z"
   },
   {
    "duration": 1942,
    "start_time": "2021-11-25T19:18:05.768Z"
   },
   {
    "duration": 60,
    "start_time": "2021-11-25T19:18:07.712Z"
   },
   {
    "duration": 226,
    "start_time": "2021-11-25T19:18:07.773Z"
   },
   {
    "duration": 302,
    "start_time": "2021-11-25T19:18:08.001Z"
   },
   {
    "duration": 13,
    "start_time": "2021-11-25T19:18:08.305Z"
   },
   {
    "duration": 221,
    "start_time": "2021-11-25T19:18:08.320Z"
   },
   {
    "duration": 6,
    "start_time": "2021-11-25T19:18:08.543Z"
   },
   {
    "duration": 14,
    "start_time": "2021-11-25T19:18:08.551Z"
   },
   {
    "duration": 259,
    "start_time": "2021-11-25T19:18:08.566Z"
   },
   {
    "duration": 7,
    "start_time": "2021-11-25T19:18:08.829Z"
   },
   {
    "duration": 40,
    "start_time": "2021-11-25T19:18:08.839Z"
   },
   {
    "duration": 19,
    "start_time": "2021-11-25T19:18:08.880Z"
   },
   {
    "duration": 27,
    "start_time": "2021-11-25T19:18:08.901Z"
   },
   {
    "duration": 12,
    "start_time": "2021-11-25T19:18:08.930Z"
   },
   {
    "duration": 1033,
    "start_time": "2021-11-25T19:18:08.944Z"
   },
   {
    "duration": 7,
    "start_time": "2021-11-25T19:18:09.979Z"
   },
   {
    "duration": 24,
    "start_time": "2021-11-25T19:18:09.987Z"
   },
   {
    "duration": 20,
    "start_time": "2021-11-25T19:18:10.012Z"
   },
   {
    "duration": 19,
    "start_time": "2021-11-25T19:18:10.034Z"
   },
   {
    "duration": 269,
    "start_time": "2021-11-25T19:18:10.055Z"
   },
   {
    "duration": 10,
    "start_time": "2021-11-25T19:18:10.326Z"
   },
   {
    "duration": 11,
    "start_time": "2021-11-25T19:18:10.345Z"
   },
   {
    "duration": 23,
    "start_time": "2021-11-25T19:18:10.358Z"
   },
   {
    "duration": 23,
    "start_time": "2021-11-25T19:18:10.383Z"
   },
   {
    "duration": 1173,
    "start_time": "2021-11-25T19:18:10.408Z"
   },
   {
    "duration": 33,
    "start_time": "2021-11-25T19:18:11.583Z"
   },
   {
    "duration": 10,
    "start_time": "2021-11-25T19:18:11.617Z"
   },
   {
    "duration": 20,
    "start_time": "2021-11-25T19:18:11.629Z"
   },
   {
    "duration": 58,
    "start_time": "2021-11-25T19:18:11.651Z"
   },
   {
    "duration": 21,
    "start_time": "2021-11-25T19:18:11.711Z"
   },
   {
    "duration": 54,
    "start_time": "2021-11-25T19:18:11.733Z"
   },
   {
    "duration": 10,
    "start_time": "2021-11-25T19:18:11.789Z"
   },
   {
    "duration": 22,
    "start_time": "2021-11-25T19:18:11.801Z"
   },
   {
    "duration": 1420,
    "start_time": "2021-11-25T19:18:11.825Z"
   },
   {
    "duration": 22,
    "start_time": "2021-11-25T19:18:13.246Z"
   },
   {
    "duration": 30,
    "start_time": "2021-11-25T19:18:13.269Z"
   },
   {
    "duration": 856,
    "start_time": "2021-11-25T19:18:13.300Z"
   },
   {
    "duration": 3,
    "start_time": "2021-11-25T19:18:14.158Z"
   },
   {
    "duration": 18,
    "start_time": "2021-11-25T19:18:14.162Z"
   },
   {
    "duration": 44,
    "start_time": "2021-11-25T19:18:14.181Z"
   },
   {
    "duration": 114,
    "start_time": "2021-11-25T19:18:14.227Z"
   },
   {
    "duration": 12,
    "start_time": "2021-11-25T19:18:14.344Z"
   },
   {
    "duration": 20,
    "start_time": "2021-11-25T19:18:14.358Z"
   },
   {
    "duration": 6,
    "start_time": "2021-11-25T19:18:14.380Z"
   },
   {
    "duration": 18,
    "start_time": "2021-11-25T19:18:14.387Z"
   },
   {
    "duration": 15,
    "start_time": "2021-11-25T19:18:14.406Z"
   },
   {
    "duration": 37,
    "start_time": "2021-11-25T19:18:14.422Z"
   },
   {
    "duration": 18,
    "start_time": "2021-11-25T19:18:14.461Z"
   },
   {
    "duration": 33,
    "start_time": "2021-11-25T19:18:14.481Z"
   },
   {
    "duration": 38,
    "start_time": "2021-11-25T19:18:14.516Z"
   },
   {
    "duration": 8,
    "start_time": "2021-11-25T19:18:14.556Z"
   },
   {
    "duration": 9,
    "start_time": "2021-11-25T19:18:14.566Z"
   },
   {
    "duration": 28,
    "start_time": "2021-11-25T19:18:14.576Z"
   },
   {
    "duration": 4,
    "start_time": "2021-11-25T19:18:14.607Z"
   },
   {
    "duration": 12,
    "start_time": "2021-11-25T19:18:14.647Z"
   },
   {
    "duration": 19,
    "start_time": "2021-11-25T19:18:14.662Z"
   },
   {
    "duration": 7,
    "start_time": "2021-11-25T19:18:14.683Z"
   },
   {
    "duration": 9,
    "start_time": "2021-11-25T19:18:14.692Z"
   },
   {
    "duration": 14,
    "start_time": "2021-11-25T19:18:14.702Z"
   },
   {
    "duration": 27,
    "start_time": "2021-11-25T19:18:14.718Z"
   },
   {
    "duration": 34,
    "start_time": "2021-11-25T19:18:14.747Z"
   },
   {
    "duration": 3,
    "start_time": "2021-11-25T19:18:14.783Z"
   },
   {
    "duration": 6,
    "start_time": "2021-11-25T19:18:14.788Z"
   },
   {
    "duration": 148,
    "start_time": "2021-11-25T19:18:14.795Z"
   },
   {
    "duration": 4,
    "start_time": "2021-11-25T19:18:14.945Z"
   },
   {
    "duration": 4,
    "start_time": "2021-11-25T19:18:14.951Z"
   },
   {
    "duration": 5,
    "start_time": "2021-11-25T19:18:14.957Z"
   },
   {
    "duration": 19,
    "start_time": "2021-11-25T19:18:14.963Z"
   },
   {
    "duration": 6,
    "start_time": "2021-11-25T19:18:14.984Z"
   },
   {
    "duration": 5,
    "start_time": "2021-11-25T19:18:14.992Z"
   },
   {
    "duration": 55,
    "start_time": "2021-11-25T19:18:14.999Z"
   },
   {
    "duration": 12,
    "start_time": "2021-11-25T19:18:15.057Z"
   },
   {
    "duration": 19,
    "start_time": "2021-11-25T19:18:15.070Z"
   },
   {
    "duration": 6,
    "start_time": "2021-11-25T19:18:15.091Z"
   },
   {
    "duration": 6,
    "start_time": "2021-11-25T19:18:15.099Z"
   },
   {
    "duration": 6,
    "start_time": "2021-11-25T19:18:15.107Z"
   },
   {
    "duration": 31,
    "start_time": "2021-11-25T19:18:15.115Z"
   },
   {
    "duration": 8,
    "start_time": "2021-11-25T19:18:15.148Z"
   },
   {
    "duration": 17,
    "start_time": "2021-11-25T19:18:15.158Z"
   },
   {
    "duration": 5,
    "start_time": "2021-11-25T19:18:15.177Z"
   },
   {
    "duration": 362,
    "start_time": "2021-11-25T19:18:15.184Z"
   },
   {
    "duration": 98,
    "start_time": "2021-11-25T19:18:15.548Z"
   },
   {
    "duration": 3,
    "start_time": "2021-11-25T19:18:15.647Z"
   },
   {
    "duration": 51738,
    "start_time": "2021-11-25T19:18:15.652Z"
   },
   {
    "duration": 3,
    "start_time": "2021-11-25T19:19:07.392Z"
   },
   {
    "duration": 6,
    "start_time": "2021-11-25T19:19:07.397Z"
   },
   {
    "duration": 78249,
    "start_time": "2021-11-25T19:19:07.405Z"
   },
   {
    "duration": 3,
    "start_time": "2021-11-25T19:20:25.656Z"
   },
   {
    "duration": 5,
    "start_time": "2021-11-25T19:20:25.661Z"
   },
   {
    "duration": 274485,
    "start_time": "2021-11-25T19:20:25.668Z"
   },
   {
    "duration": 4,
    "start_time": "2021-11-25T19:25:00.155Z"
   },
   {
    "duration": 22,
    "start_time": "2021-11-25T19:25:00.160Z"
   },
   {
    "duration": 29763,
    "start_time": "2021-11-25T19:25:00.184Z"
   },
   {
    "duration": 4,
    "start_time": "2021-11-25T19:25:29.949Z"
   },
   {
    "duration": 4,
    "start_time": "2021-11-25T19:25:29.955Z"
   },
   {
    "duration": 5,
    "start_time": "2021-11-25T19:25:29.961Z"
   },
   {
    "duration": 518,
    "start_time": "2021-11-25T19:25:29.968Z"
   },
   {
    "duration": 4,
    "start_time": "2021-11-25T19:25:46.250Z"
   },
   {
    "duration": 30045,
    "start_time": "2021-11-25T19:25:48.794Z"
   },
   {
    "duration": 4,
    "start_time": "2021-11-25T19:26:25.548Z"
   },
   {
    "duration": 5,
    "start_time": "2021-11-25T19:26:31.979Z"
   },
   {
    "duration": 45257,
    "start_time": "2021-11-25T19:26:41.943Z"
   },
   {
    "duration": 5,
    "start_time": "2021-11-25T19:28:21.401Z"
   },
   {
    "duration": 5,
    "start_time": "2021-11-25T19:28:52.186Z"
   },
   {
    "duration": 43326,
    "start_time": "2021-11-25T19:28:54.429Z"
   },
   {
    "duration": 4,
    "start_time": "2021-11-25T19:30:03.575Z"
   },
   {
    "duration": 4,
    "start_time": "2021-11-25T19:30:38.310Z"
   },
   {
    "duration": 72453,
    "start_time": "2021-11-25T19:30:42.652Z"
   },
   {
    "duration": 4,
    "start_time": "2021-11-25T19:36:05.596Z"
   },
   {
    "duration": 1220,
    "start_time": "2021-11-25T19:36:13.788Z"
   },
   {
    "duration": 175,
    "start_time": "2021-11-25T19:36:15.009Z"
   },
   {
    "duration": 3,
    "start_time": "2021-11-25T19:36:15.186Z"
   },
   {
    "duration": 11,
    "start_time": "2021-11-25T19:36:15.190Z"
   },
   {
    "duration": 12,
    "start_time": "2021-11-25T19:36:15.202Z"
   },
   {
    "duration": 12,
    "start_time": "2021-11-25T19:36:15.215Z"
   },
   {
    "duration": 274,
    "start_time": "2021-11-25T19:36:15.228Z"
   },
   {
    "duration": 291,
    "start_time": "2021-11-25T19:36:15.505Z"
   },
   {
    "duration": 9,
    "start_time": "2021-11-25T19:36:15.798Z"
   },
   {
    "duration": 285,
    "start_time": "2021-11-25T19:36:15.809Z"
   },
   {
    "duration": 14,
    "start_time": "2021-11-25T19:36:16.096Z"
   },
   {
    "duration": 32,
    "start_time": "2021-11-25T19:36:16.112Z"
   },
   {
    "duration": 15,
    "start_time": "2021-11-25T19:36:16.146Z"
   },
   {
    "duration": 2582,
    "start_time": "2021-11-25T19:36:16.163Z"
   },
   {
    "duration": 48,
    "start_time": "2021-11-25T19:36:18.747Z"
   },
   {
    "duration": 253,
    "start_time": "2021-11-25T19:36:18.796Z"
   },
   {
    "duration": 305,
    "start_time": "2021-11-25T19:36:19.050Z"
   },
   {
    "duration": 15,
    "start_time": "2021-11-25T19:36:19.357Z"
   },
   {
    "duration": 235,
    "start_time": "2021-11-25T19:36:19.374Z"
   },
   {
    "duration": 6,
    "start_time": "2021-11-25T19:36:19.611Z"
   },
   {
    "duration": 25,
    "start_time": "2021-11-25T19:36:19.620Z"
   },
   {
    "duration": 248,
    "start_time": "2021-11-25T19:36:19.647Z"
   },
   {
    "duration": 8,
    "start_time": "2021-11-25T19:36:19.898Z"
   },
   {
    "duration": 7,
    "start_time": "2021-11-25T19:36:19.909Z"
   },
   {
    "duration": 29,
    "start_time": "2021-11-25T19:36:19.917Z"
   },
   {
    "duration": 6,
    "start_time": "2021-11-25T19:36:19.947Z"
   },
   {
    "duration": 9,
    "start_time": "2021-11-25T19:36:19.955Z"
   },
   {
    "duration": 1050,
    "start_time": "2021-11-25T19:36:19.965Z"
   },
   {
    "duration": 7,
    "start_time": "2021-11-25T19:36:21.017Z"
   },
   {
    "duration": 28,
    "start_time": "2021-11-25T19:36:21.025Z"
   },
   {
    "duration": 9,
    "start_time": "2021-11-25T19:36:21.054Z"
   },
   {
    "duration": 8,
    "start_time": "2021-11-25T19:36:21.064Z"
   },
   {
    "duration": 277,
    "start_time": "2021-11-25T19:36:21.074Z"
   },
   {
    "duration": 11,
    "start_time": "2021-11-25T19:36:21.352Z"
   },
   {
    "duration": 13,
    "start_time": "2021-11-25T19:36:21.365Z"
   },
   {
    "duration": 11,
    "start_time": "2021-11-25T19:36:21.379Z"
   },
   {
    "duration": 12,
    "start_time": "2021-11-25T19:36:21.391Z"
   },
   {
    "duration": 1269,
    "start_time": "2021-11-25T19:36:21.405Z"
   },
   {
    "duration": 35,
    "start_time": "2021-11-25T19:36:22.675Z"
   },
   {
    "duration": 6,
    "start_time": "2021-11-25T19:36:22.712Z"
   },
   {
    "duration": 27,
    "start_time": "2021-11-25T19:36:22.719Z"
   },
   {
    "duration": 38,
    "start_time": "2021-11-25T19:36:22.748Z"
   },
   {
    "duration": 11,
    "start_time": "2021-11-25T19:36:22.788Z"
   },
   {
    "duration": 74,
    "start_time": "2021-11-25T19:36:22.801Z"
   },
   {
    "duration": 11,
    "start_time": "2021-11-25T19:36:22.877Z"
   },
   {
    "duration": 20,
    "start_time": "2021-11-25T19:36:22.890Z"
   },
   {
    "duration": 1470,
    "start_time": "2021-11-25T19:36:22.912Z"
   },
   {
    "duration": 23,
    "start_time": "2021-11-25T19:36:24.384Z"
   },
   {
    "duration": 18,
    "start_time": "2021-11-25T19:36:24.408Z"
   },
   {
    "duration": 966,
    "start_time": "2021-11-25T19:36:24.443Z"
   },
   {
    "duration": 4,
    "start_time": "2021-11-25T19:36:25.410Z"
   },
   {
    "duration": 6,
    "start_time": "2021-11-25T19:36:25.415Z"
   },
   {
    "duration": 34,
    "start_time": "2021-11-25T19:36:25.422Z"
   },
   {
    "duration": 112,
    "start_time": "2021-11-25T19:36:25.457Z"
   },
   {
    "duration": 13,
    "start_time": "2021-11-25T19:36:25.571Z"
   },
   {
    "duration": 20,
    "start_time": "2021-11-25T19:36:25.586Z"
   },
   {
    "duration": 6,
    "start_time": "2021-11-25T19:36:25.608Z"
   },
   {
    "duration": 9,
    "start_time": "2021-11-25T19:36:25.645Z"
   },
   {
    "duration": 20,
    "start_time": "2021-11-25T19:36:25.656Z"
   },
   {
    "duration": 41,
    "start_time": "2021-11-25T19:36:25.677Z"
   },
   {
    "duration": 20,
    "start_time": "2021-11-25T19:36:25.720Z"
   },
   {
    "duration": 48,
    "start_time": "2021-11-25T19:36:25.741Z"
   },
   {
    "duration": 11,
    "start_time": "2021-11-25T19:36:25.791Z"
   },
   {
    "duration": 18,
    "start_time": "2021-11-25T19:36:25.804Z"
   },
   {
    "duration": 26,
    "start_time": "2021-11-25T19:36:25.824Z"
   },
   {
    "duration": 36,
    "start_time": "2021-11-25T19:36:25.852Z"
   },
   {
    "duration": 3,
    "start_time": "2021-11-25T19:36:25.890Z"
   },
   {
    "duration": 26,
    "start_time": "2021-11-25T19:36:25.898Z"
   },
   {
    "duration": 19,
    "start_time": "2021-11-25T19:36:25.926Z"
   },
   {
    "duration": 18,
    "start_time": "2021-11-25T19:36:25.946Z"
   },
   {
    "duration": 8,
    "start_time": "2021-11-25T19:36:25.965Z"
   },
   {
    "duration": 9,
    "start_time": "2021-11-25T19:36:25.975Z"
   },
   {
    "duration": 4,
    "start_time": "2021-11-25T19:36:25.986Z"
   },
   {
    "duration": 35,
    "start_time": "2021-11-25T19:36:25.991Z"
   },
   {
    "duration": 7,
    "start_time": "2021-11-25T19:36:26.044Z"
   },
   {
    "duration": 3,
    "start_time": "2021-11-25T19:36:26.055Z"
   },
   {
    "duration": 124,
    "start_time": "2021-11-25T19:36:26.060Z"
   },
   {
    "duration": 4,
    "start_time": "2021-11-25T19:36:26.185Z"
   },
   {
    "duration": 5,
    "start_time": "2021-11-25T19:36:26.190Z"
   },
   {
    "duration": 6,
    "start_time": "2021-11-25T19:36:26.196Z"
   },
   {
    "duration": 20,
    "start_time": "2021-11-25T19:36:26.204Z"
   },
   {
    "duration": 24,
    "start_time": "2021-11-25T19:36:26.225Z"
   },
   {
    "duration": 4,
    "start_time": "2021-11-25T19:36:26.251Z"
   },
   {
    "duration": 21,
    "start_time": "2021-11-25T19:36:26.257Z"
   },
   {
    "duration": 14,
    "start_time": "2021-11-25T19:36:26.279Z"
   },
   {
    "duration": 18,
    "start_time": "2021-11-25T19:36:26.295Z"
   },
   {
    "duration": 32,
    "start_time": "2021-11-25T19:36:26.315Z"
   },
   {
    "duration": 6,
    "start_time": "2021-11-25T19:36:26.348Z"
   },
   {
    "duration": 5,
    "start_time": "2021-11-25T19:36:26.356Z"
   },
   {
    "duration": 6,
    "start_time": "2021-11-25T19:36:26.363Z"
   },
   {
    "duration": 5,
    "start_time": "2021-11-25T19:36:26.370Z"
   },
   {
    "duration": 9,
    "start_time": "2021-11-25T19:36:26.376Z"
   },
   {
    "duration": 5,
    "start_time": "2021-11-25T19:36:26.386Z"
   },
   {
    "duration": 559,
    "start_time": "2021-11-25T19:36:26.392Z"
   },
   {
    "duration": 93,
    "start_time": "2021-11-25T19:36:26.953Z"
   },
   {
    "duration": 4,
    "start_time": "2021-11-25T19:36:27.049Z"
   },
   {
    "duration": 53787,
    "start_time": "2021-11-25T19:36:27.054Z"
   },
   {
    "duration": 5,
    "start_time": "2021-11-25T19:37:20.844Z"
   },
   {
    "duration": 12,
    "start_time": "2021-11-25T19:37:20.851Z"
   },
   {
    "duration": 165785,
    "start_time": "2021-11-25T19:37:20.864Z"
   },
   {
    "duration": 4,
    "start_time": "2021-11-25T19:40:06.651Z"
   },
   {
    "duration": 61,
    "start_time": "2021-11-25T19:40:06.657Z"
   },
   {
    "duration": 547025,
    "start_time": "2021-11-25T19:40:06.720Z"
   },
   {
    "duration": 4,
    "start_time": "2021-11-25T19:49:13.747Z"
   },
   {
    "duration": 5,
    "start_time": "2021-11-25T19:49:13.753Z"
   },
   {
    "duration": 74854,
    "start_time": "2021-11-25T19:49:13.759Z"
   },
   {
    "duration": 6,
    "start_time": "2021-11-25T19:50:28.616Z"
   },
   {
    "duration": 23,
    "start_time": "2021-11-25T19:50:28.623Z"
   },
   {
    "duration": 13,
    "start_time": "2021-11-25T19:50:28.648Z"
   },
   {
    "duration": 465,
    "start_time": "2021-11-25T19:50:28.662Z"
   },
   {
    "duration": 5,
    "start_time": "2021-11-25T19:50:40.622Z"
   },
   {
    "duration": 44545,
    "start_time": "2021-11-25T19:50:44.515Z"
   },
   {
    "duration": 4,
    "start_time": "2021-11-25T19:52:03.184Z"
   },
   {
    "duration": 5,
    "start_time": "2021-11-25T19:52:17.731Z"
   },
   {
    "duration": 73072,
    "start_time": "2021-11-25T19:52:20.224Z"
   },
   {
    "duration": 481,
    "start_time": "2021-11-25T19:57:35.518Z"
   },
   {
    "duration": 472,
    "start_time": "2021-11-25T19:57:49.172Z"
   },
   {
    "duration": 1231,
    "start_time": "2021-11-25T20:02:51.221Z"
   },
   {
    "duration": 172,
    "start_time": "2021-11-25T20:02:52.454Z"
   },
   {
    "duration": 3,
    "start_time": "2021-11-25T20:02:52.628Z"
   },
   {
    "duration": 7,
    "start_time": "2021-11-25T20:02:52.632Z"
   },
   {
    "duration": 11,
    "start_time": "2021-11-25T20:02:52.640Z"
   },
   {
    "duration": 11,
    "start_time": "2021-11-25T20:02:52.652Z"
   },
   {
    "duration": 292,
    "start_time": "2021-11-25T20:02:52.665Z"
   },
   {
    "duration": 276,
    "start_time": "2021-11-25T20:02:52.960Z"
   },
   {
    "duration": 13,
    "start_time": "2021-11-25T20:02:53.238Z"
   },
   {
    "duration": 268,
    "start_time": "2021-11-25T20:02:53.252Z"
   },
   {
    "duration": 23,
    "start_time": "2021-11-25T20:02:53.521Z"
   },
   {
    "duration": 14,
    "start_time": "2021-11-25T20:02:53.546Z"
   },
   {
    "duration": 13,
    "start_time": "2021-11-25T20:02:53.562Z"
   },
   {
    "duration": 1920,
    "start_time": "2021-11-25T20:02:53.577Z"
   },
   {
    "duration": 56,
    "start_time": "2021-11-25T20:02:55.499Z"
   },
   {
    "duration": 224,
    "start_time": "2021-11-25T20:02:55.557Z"
   },
   {
    "duration": 280,
    "start_time": "2021-11-25T20:02:55.782Z"
   },
   {
    "duration": 12,
    "start_time": "2021-11-25T20:02:56.064Z"
   },
   {
    "duration": 212,
    "start_time": "2021-11-25T20:02:56.078Z"
   },
   {
    "duration": 5,
    "start_time": "2021-11-25T20:02:56.292Z"
   },
   {
    "duration": 21,
    "start_time": "2021-11-25T20:02:56.299Z"
   },
   {
    "duration": 245,
    "start_time": "2021-11-25T20:02:56.322Z"
   },
   {
    "duration": 9,
    "start_time": "2021-11-25T20:02:56.571Z"
   },
   {
    "duration": 23,
    "start_time": "2021-11-25T20:02:56.582Z"
   },
   {
    "duration": 22,
    "start_time": "2021-11-25T20:02:56.607Z"
   },
   {
    "duration": 15,
    "start_time": "2021-11-25T20:02:56.630Z"
   },
   {
    "duration": 19,
    "start_time": "2021-11-25T20:02:56.646Z"
   },
   {
    "duration": 986,
    "start_time": "2021-11-25T20:02:56.667Z"
   },
   {
    "duration": 7,
    "start_time": "2021-11-25T20:02:57.655Z"
   },
   {
    "duration": 13,
    "start_time": "2021-11-25T20:02:57.664Z"
   },
   {
    "duration": 9,
    "start_time": "2021-11-25T20:02:57.679Z"
   },
   {
    "duration": 8,
    "start_time": "2021-11-25T20:02:57.690Z"
   },
   {
    "duration": 284,
    "start_time": "2021-11-25T20:02:57.699Z"
   },
   {
    "duration": 9,
    "start_time": "2021-11-25T20:02:57.984Z"
   },
   {
    "duration": 11,
    "start_time": "2021-11-25T20:02:57.995Z"
   },
   {
    "duration": 8,
    "start_time": "2021-11-25T20:02:58.008Z"
   },
   {
    "duration": 32,
    "start_time": "2021-11-25T20:02:58.017Z"
   },
   {
    "duration": 1249,
    "start_time": "2021-11-25T20:02:58.051Z"
   },
   {
    "duration": 31,
    "start_time": "2021-11-25T20:02:59.302Z"
   },
   {
    "duration": 7,
    "start_time": "2021-11-25T20:02:59.345Z"
   },
   {
    "duration": 6,
    "start_time": "2021-11-25T20:02:59.354Z"
   },
   {
    "duration": 35,
    "start_time": "2021-11-25T20:02:59.361Z"
   },
   {
    "duration": 10,
    "start_time": "2021-11-25T20:02:59.398Z"
   },
   {
    "duration": 78,
    "start_time": "2021-11-25T20:02:59.409Z"
   },
   {
    "duration": 12,
    "start_time": "2021-11-25T20:02:59.488Z"
   },
   {
    "duration": 45,
    "start_time": "2021-11-25T20:02:59.501Z"
   },
   {
    "duration": 1435,
    "start_time": "2021-11-25T20:02:59.547Z"
   },
   {
    "duration": 22,
    "start_time": "2021-11-25T20:03:00.984Z"
   },
   {
    "duration": 23,
    "start_time": "2021-11-25T20:03:01.007Z"
   },
   {
    "duration": 848,
    "start_time": "2021-11-25T20:03:01.045Z"
   },
   {
    "duration": 3,
    "start_time": "2021-11-25T20:03:01.895Z"
   },
   {
    "duration": 16,
    "start_time": "2021-11-25T20:03:01.900Z"
   },
   {
    "duration": 35,
    "start_time": "2021-11-25T20:03:01.918Z"
   },
   {
    "duration": 320,
    "start_time": "2021-11-25T20:03:01.955Z"
   },
   {
    "duration": 14,
    "start_time": "2021-11-25T20:03:02.277Z"
   },
   {
    "duration": 75,
    "start_time": "2021-11-25T20:03:02.293Z"
   },
   {
    "duration": 74,
    "start_time": "2021-11-25T20:03:02.370Z"
   },
   {
    "duration": 10,
    "start_time": "2021-11-25T20:03:02.447Z"
   },
   {
    "duration": 38,
    "start_time": "2021-11-25T20:03:02.459Z"
   },
   {
    "duration": 76,
    "start_time": "2021-11-25T20:03:02.499Z"
   },
   {
    "duration": 20,
    "start_time": "2021-11-25T20:03:02.577Z"
   },
   {
    "duration": 71,
    "start_time": "2021-11-25T20:03:02.598Z"
   },
   {
    "duration": 11,
    "start_time": "2021-11-25T20:03:02.670Z"
   },
   {
    "duration": 10,
    "start_time": "2021-11-25T20:03:02.683Z"
   },
   {
    "duration": 31,
    "start_time": "2021-11-25T20:03:02.695Z"
   },
   {
    "duration": 44,
    "start_time": "2021-11-25T20:03:02.728Z"
   },
   {
    "duration": 9,
    "start_time": "2021-11-25T20:03:02.774Z"
   },
   {
    "duration": 34,
    "start_time": "2021-11-25T20:03:02.789Z"
   },
   {
    "duration": 48,
    "start_time": "2021-11-25T20:03:02.825Z"
   },
   {
    "duration": 32,
    "start_time": "2021-11-25T20:03:02.874Z"
   },
   {
    "duration": 21,
    "start_time": "2021-11-25T20:03:02.908Z"
   },
   {
    "duration": 31,
    "start_time": "2021-11-25T20:03:02.930Z"
   },
   {
    "duration": 22,
    "start_time": "2021-11-25T20:03:02.962Z"
   },
   {
    "duration": 52,
    "start_time": "2021-11-25T20:03:02.986Z"
   },
   {
    "duration": 17,
    "start_time": "2021-11-25T20:03:03.040Z"
   },
   {
    "duration": 25,
    "start_time": "2021-11-25T20:03:03.059Z"
   },
   {
    "duration": 150,
    "start_time": "2021-11-25T20:03:03.086Z"
   },
   {
    "duration": 2921,
    "start_time": "2021-11-25T20:03:03.238Z"
   },
   {
    "duration": -60,
    "start_time": "2021-11-25T20:03:06.221Z"
   },
   {
    "duration": -70,
    "start_time": "2021-11-25T20:03:06.232Z"
   },
   {
    "duration": -78,
    "start_time": "2021-11-25T20:03:06.240Z"
   },
   {
    "duration": -115,
    "start_time": "2021-11-25T20:03:06.278Z"
   },
   {
    "duration": -168,
    "start_time": "2021-11-25T20:03:06.332Z"
   },
   {
    "duration": -227,
    "start_time": "2021-11-25T20:03:06.392Z"
   },
   {
    "duration": -254,
    "start_time": "2021-11-25T20:03:06.420Z"
   },
   {
    "duration": -264,
    "start_time": "2021-11-25T20:03:06.431Z"
   },
   {
    "duration": -273,
    "start_time": "2021-11-25T20:03:06.441Z"
   },
   {
    "duration": -304,
    "start_time": "2021-11-25T20:03:06.473Z"
   },
   {
    "duration": -326,
    "start_time": "2021-11-25T20:03:06.496Z"
   },
   {
    "duration": -359,
    "start_time": "2021-11-25T20:03:06.530Z"
   },
   {
    "duration": -384,
    "start_time": "2021-11-25T20:03:06.555Z"
   },
   {
    "duration": -394,
    "start_time": "2021-11-25T20:03:06.566Z"
   },
   {
    "duration": -402,
    "start_time": "2021-11-25T20:03:06.575Z"
   },
   {
    "duration": -410,
    "start_time": "2021-11-25T20:03:06.584Z"
   },
   {
    "duration": -418,
    "start_time": "2021-11-25T20:03:06.593Z"
   },
   {
    "duration": -518,
    "start_time": "2021-11-25T20:03:06.694Z"
   },
   {
    "duration": -548,
    "start_time": "2021-11-25T20:03:06.725Z"
   },
   {
    "duration": -571,
    "start_time": "2021-11-25T20:03:06.749Z"
   },
   {
    "duration": -580,
    "start_time": "2021-11-25T20:03:06.758Z"
   },
   {
    "duration": -589,
    "start_time": "2021-11-25T20:03:06.768Z"
   },
   {
    "duration": -597,
    "start_time": "2021-11-25T20:03:06.777Z"
   },
   {
    "duration": -605,
    "start_time": "2021-11-25T20:03:06.786Z"
   },
   {
    "duration": -613,
    "start_time": "2021-11-25T20:03:06.794Z"
   },
   {
    "duration": -622,
    "start_time": "2021-11-25T20:03:06.804Z"
   },
   {
    "duration": -629,
    "start_time": "2021-11-25T20:03:06.812Z"
   },
   {
    "duration": -638,
    "start_time": "2021-11-25T20:03:06.822Z"
   },
   {
    "duration": -645,
    "start_time": "2021-11-25T20:03:06.830Z"
   },
   {
    "duration": -654,
    "start_time": "2021-11-25T20:03:06.840Z"
   },
   {
    "duration": -679,
    "start_time": "2021-11-25T20:03:06.866Z"
   },
   {
    "duration": -710,
    "start_time": "2021-11-25T20:03:06.898Z"
   },
   {
    "duration": -717,
    "start_time": "2021-11-25T20:03:06.906Z"
   },
   {
    "duration": 112,
    "start_time": "2021-11-25T20:03:22.401Z"
   },
   {
    "duration": 110,
    "start_time": "2021-11-25T20:03:30.594Z"
   },
   {
    "duration": 1463,
    "start_time": "2021-11-25T20:04:07.712Z"
   },
   {
    "duration": 216,
    "start_time": "2021-11-25T20:04:09.177Z"
   },
   {
    "duration": 3,
    "start_time": "2021-11-25T20:04:09.396Z"
   },
   {
    "duration": 12,
    "start_time": "2021-11-25T20:04:09.401Z"
   },
   {
    "duration": 18,
    "start_time": "2021-11-25T20:04:09.415Z"
   },
   {
    "duration": 19,
    "start_time": "2021-11-25T20:04:09.435Z"
   },
   {
    "duration": 332,
    "start_time": "2021-11-25T20:04:09.456Z"
   },
   {
    "duration": 282,
    "start_time": "2021-11-25T20:04:09.790Z"
   },
   {
    "duration": 9,
    "start_time": "2021-11-25T20:04:10.075Z"
   },
   {
    "duration": 293,
    "start_time": "2021-11-25T20:04:10.086Z"
   },
   {
    "duration": 13,
    "start_time": "2021-11-25T20:04:10.381Z"
   },
   {
    "duration": 14,
    "start_time": "2021-11-25T20:04:10.395Z"
   },
   {
    "duration": 38,
    "start_time": "2021-11-25T20:04:10.410Z"
   },
   {
    "duration": 1982,
    "start_time": "2021-11-25T20:04:10.450Z"
   },
   {
    "duration": 51,
    "start_time": "2021-11-25T20:04:12.434Z"
   },
   {
    "duration": 232,
    "start_time": "2021-11-25T20:04:12.487Z"
   },
   {
    "duration": 293,
    "start_time": "2021-11-25T20:04:12.721Z"
   },
   {
    "duration": 14,
    "start_time": "2021-11-25T20:04:13.016Z"
   },
   {
    "duration": 210,
    "start_time": "2021-11-25T20:04:13.044Z"
   },
   {
    "duration": 6,
    "start_time": "2021-11-25T20:04:13.257Z"
   },
   {
    "duration": 20,
    "start_time": "2021-11-25T20:04:13.265Z"
   },
   {
    "duration": 258,
    "start_time": "2021-11-25T20:04:13.287Z"
   },
   {
    "duration": 9,
    "start_time": "2021-11-25T20:04:13.547Z"
   },
   {
    "duration": 32,
    "start_time": "2021-11-25T20:04:13.558Z"
   },
   {
    "duration": 17,
    "start_time": "2021-11-25T20:04:13.592Z"
   },
   {
    "duration": 15,
    "start_time": "2021-11-25T20:04:13.611Z"
   },
   {
    "duration": 30,
    "start_time": "2021-11-25T20:04:13.631Z"
   },
   {
    "duration": 1059,
    "start_time": "2021-11-25T20:04:13.665Z"
   },
   {
    "duration": 18,
    "start_time": "2021-11-25T20:04:14.727Z"
   },
   {
    "duration": 27,
    "start_time": "2021-11-25T20:04:14.747Z"
   },
   {
    "duration": 8,
    "start_time": "2021-11-25T20:04:14.776Z"
   },
   {
    "duration": 16,
    "start_time": "2021-11-25T20:04:14.785Z"
   },
   {
    "duration": 281,
    "start_time": "2021-11-25T20:04:14.803Z"
   },
   {
    "duration": 10,
    "start_time": "2021-11-25T20:04:15.086Z"
   },
   {
    "duration": 34,
    "start_time": "2021-11-25T20:04:15.098Z"
   },
   {
    "duration": 24,
    "start_time": "2021-11-25T20:04:15.134Z"
   },
   {
    "duration": 26,
    "start_time": "2021-11-25T20:04:15.160Z"
   },
   {
    "duration": 1282,
    "start_time": "2021-11-25T20:04:15.187Z"
   },
   {
    "duration": 32,
    "start_time": "2021-11-25T20:04:16.471Z"
   },
   {
    "duration": 5,
    "start_time": "2021-11-25T20:04:16.504Z"
   },
   {
    "duration": 6,
    "start_time": "2021-11-25T20:04:16.510Z"
   },
   {
    "duration": 63,
    "start_time": "2021-11-25T20:04:16.517Z"
   },
   {
    "duration": 12,
    "start_time": "2021-11-25T20:04:16.581Z"
   },
   {
    "duration": 71,
    "start_time": "2021-11-25T20:04:16.595Z"
   },
   {
    "duration": 11,
    "start_time": "2021-11-25T20:04:16.668Z"
   },
   {
    "duration": 19,
    "start_time": "2021-11-25T20:04:16.681Z"
   },
   {
    "duration": 1451,
    "start_time": "2021-11-25T20:04:16.702Z"
   },
   {
    "duration": 25,
    "start_time": "2021-11-25T20:04:18.155Z"
   },
   {
    "duration": 17,
    "start_time": "2021-11-25T20:04:18.181Z"
   },
   {
    "duration": 858,
    "start_time": "2021-11-25T20:04:18.200Z"
   },
   {
    "duration": 3,
    "start_time": "2021-11-25T20:04:19.060Z"
   },
   {
    "duration": 22,
    "start_time": "2021-11-25T20:04:19.064Z"
   },
   {
    "duration": 49,
    "start_time": "2021-11-25T20:04:19.088Z"
   },
   {
    "duration": 114,
    "start_time": "2021-11-25T20:04:19.139Z"
   },
   {
    "duration": 12,
    "start_time": "2021-11-25T20:04:19.254Z"
   },
   {
    "duration": 43,
    "start_time": "2021-11-25T20:04:19.267Z"
   },
   {
    "duration": 26,
    "start_time": "2021-11-25T20:04:19.312Z"
   },
   {
    "duration": 54,
    "start_time": "2021-11-25T20:04:19.340Z"
   },
   {
    "duration": 34,
    "start_time": "2021-11-25T20:04:19.396Z"
   },
   {
    "duration": 33,
    "start_time": "2021-11-25T20:04:19.432Z"
   },
   {
    "duration": 22,
    "start_time": "2021-11-25T20:04:19.467Z"
   },
   {
    "duration": 45,
    "start_time": "2021-11-25T20:04:19.491Z"
   },
   {
    "duration": 13,
    "start_time": "2021-11-25T20:04:19.538Z"
   },
   {
    "duration": 17,
    "start_time": "2021-11-25T20:04:19.553Z"
   },
   {
    "duration": 32,
    "start_time": "2021-11-25T20:04:19.572Z"
   },
   {
    "duration": 51,
    "start_time": "2021-11-25T20:04:19.605Z"
   },
   {
    "duration": 4,
    "start_time": "2021-11-25T20:04:19.658Z"
   },
   {
    "duration": 32,
    "start_time": "2021-11-25T20:04:19.663Z"
   },
   {
    "duration": 37,
    "start_time": "2021-11-25T20:04:19.697Z"
   },
   {
    "duration": 9,
    "start_time": "2021-11-25T20:04:19.736Z"
   },
   {
    "duration": 25,
    "start_time": "2021-11-25T20:04:19.747Z"
   },
   {
    "duration": 21,
    "start_time": "2021-11-25T20:04:19.773Z"
   },
   {
    "duration": 17,
    "start_time": "2021-11-25T20:04:19.796Z"
   },
   {
    "duration": 57,
    "start_time": "2021-11-25T20:04:19.815Z"
   },
   {
    "duration": 5,
    "start_time": "2021-11-25T20:04:19.874Z"
   },
   {
    "duration": 12,
    "start_time": "2021-11-25T20:04:19.881Z"
   },
   {
    "duration": 134,
    "start_time": "2021-11-25T20:04:19.894Z"
   },
   {
    "duration": 4,
    "start_time": "2021-11-25T20:04:20.030Z"
   },
   {
    "duration": 25,
    "start_time": "2021-11-25T20:04:20.036Z"
   },
   {
    "duration": 23,
    "start_time": "2021-11-25T20:04:20.063Z"
   },
   {
    "duration": 20,
    "start_time": "2021-11-25T20:04:20.093Z"
   },
   {
    "duration": 22,
    "start_time": "2021-11-25T20:04:20.115Z"
   },
   {
    "duration": 14,
    "start_time": "2021-11-25T20:04:20.139Z"
   },
   {
    "duration": 40,
    "start_time": "2021-11-25T20:04:20.154Z"
   },
   {
    "duration": 23,
    "start_time": "2021-11-25T20:04:20.196Z"
   },
   {
    "duration": 27,
    "start_time": "2021-11-25T20:04:20.221Z"
   },
   {
    "duration": 31,
    "start_time": "2021-11-25T20:04:20.250Z"
   },
   {
    "duration": 16,
    "start_time": "2021-11-25T20:04:20.282Z"
   },
   {
    "duration": 25,
    "start_time": "2021-11-25T20:04:20.300Z"
   },
   {
    "duration": 15,
    "start_time": "2021-11-25T20:04:20.326Z"
   },
   {
    "duration": 14,
    "start_time": "2021-11-25T20:04:20.342Z"
   },
   {
    "duration": 29,
    "start_time": "2021-11-25T20:04:20.357Z"
   },
   {
    "duration": 21,
    "start_time": "2021-11-25T20:04:20.387Z"
   },
   {
    "duration": 736,
    "start_time": "2021-11-25T20:04:20.409Z"
   },
   {
    "duration": 5,
    "start_time": "2021-11-25T20:04:21.148Z"
   },
   {
    "duration": 21,
    "start_time": "2021-11-25T20:04:21.245Z"
   },
   {
    "duration": 52570,
    "start_time": "2021-11-25T20:04:21.267Z"
   },
   {
    "duration": 8,
    "start_time": "2021-11-25T20:05:13.838Z"
   },
   {
    "duration": 6,
    "start_time": "2021-11-25T20:05:13.848Z"
   },
   {
    "duration": 83398,
    "start_time": "2021-11-25T20:05:13.856Z"
   },
   {
    "duration": 3,
    "start_time": "2021-11-25T20:06:37.256Z"
   },
   {
    "duration": 5,
    "start_time": "2021-11-25T20:06:37.261Z"
   },
   {
    "duration": 542132,
    "start_time": "2021-11-25T20:06:37.267Z"
   },
   {
    "duration": 4,
    "start_time": "2021-11-25T20:15:39.401Z"
   },
   {
    "duration": 8,
    "start_time": "2021-11-25T20:15:39.407Z"
   },
   {
    "duration": 44102,
    "start_time": "2021-11-25T20:15:39.416Z"
   },
   {
    "duration": 5,
    "start_time": "2021-11-25T20:16:23.520Z"
   },
   {
    "duration": 7,
    "start_time": "2021-11-25T20:16:23.526Z"
   },
   {
    "duration": 20,
    "start_time": "2021-11-25T20:16:23.534Z"
   },
   {
    "duration": 498,
    "start_time": "2021-11-25T20:16:23.556Z"
   },
   {
    "duration": 4,
    "start_time": "2021-11-25T20:19:53.228Z"
   },
   {
    "duration": 2309,
    "start_time": "2021-11-25T20:19:55.718Z"
   },
   {
    "duration": 3,
    "start_time": "2021-11-25T20:21:47.547Z"
   },
   {
    "duration": 42508,
    "start_time": "2021-11-25T20:21:50.296Z"
   },
   {
    "duration": 5,
    "start_time": "2021-11-25T20:23:30.328Z"
   },
   {
    "duration": 5,
    "start_time": "2021-11-25T20:24:42.840Z"
   },
   {
    "duration": 43012,
    "start_time": "2021-11-25T20:24:44.966Z"
   },
   {
    "duration": 5,
    "start_time": "2021-11-25T20:25:34.542Z"
   },
   {
    "duration": 5,
    "start_time": "2021-11-25T20:25:46.667Z"
   },
   {
    "duration": 44806,
    "start_time": "2021-11-25T20:25:48.767Z"
   },
   {
    "duration": 5,
    "start_time": "2021-11-25T20:27:12.001Z"
   }
  ],
  "kernelspec": {
   "display_name": "Python 3",
   "language": "python",
   "name": "python3"
  },
  "language_info": {
   "codemirror_mode": {
    "name": "ipython",
    "version": 3
   },
   "file_extension": ".py",
   "mimetype": "text/x-python",
   "name": "python",
   "nbconvert_exporter": "python",
   "pygments_lexer": "ipython3",
   "version": "3.8.8"
  },
  "toc": {
   "base_numbering": 1,
   "nav_menu": {},
   "number_sections": true,
   "sideBar": true,
   "skip_h1_title": true,
   "title_cell": "Table of Contents",
   "title_sidebar": "Contents",
   "toc_cell": false,
   "toc_position": {
    "height": "calc(100% - 180px)",
    "left": "10px",
    "top": "150px",
    "width": "288px"
   },
   "toc_section_display": true,
   "toc_window_display": true
  }
 },
 "nbformat": 4,
 "nbformat_minor": 2
}

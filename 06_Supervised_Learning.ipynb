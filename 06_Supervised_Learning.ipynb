{
 "cells": [
  {
   "cell_type": "markdown",
   "metadata": {
    "toc": true
   },
   "source": [
    "<h1>Содержание<span class=\"tocSkip\"></span></h1>\n",
    "<div class=\"toc\"><ul class=\"toc-item\"><li><span><a href=\"#Введение\" data-toc-modified-id=\"Введение-1\"><span class=\"toc-item-num\">1&nbsp;&nbsp;</span>Введение</a></span></li><li><span><a href=\"#Подготовка-данных\" data-toc-modified-id=\"Подготовка-данных-2\"><span class=\"toc-item-num\">2&nbsp;&nbsp;</span>Подготовка данных</a></span><ul class=\"toc-item\"><li><span><a href=\"#Изучение-общей-информации\" data-toc-modified-id=\"Изучение-общей-информации-2.1\"><span class=\"toc-item-num\">2.1&nbsp;&nbsp;</span>Изучение общей информации</a></span></li><li><span><a href=\"#Изучение-столбцов\" data-toc-modified-id=\"Изучение-столбцов-2.2\"><span class=\"toc-item-num\">2.2&nbsp;&nbsp;</span>Изучение столбцов</a></span><ul class=\"toc-item\"><li><span><a href=\"#Столбцы-'RowNumber',-'CustomerId',-'Surname'\" data-toc-modified-id=\"Столбцы-'RowNumber',-'CustomerId',-'Surname'-2.2.1\"><span class=\"toc-item-num\">2.2.1&nbsp;&nbsp;</span>Столбцы 'RowNumber', 'CustomerId', 'Surname'</a></span></li><li><span><a href=\"#Столбец-'CreditScore'\" data-toc-modified-id=\"Столбец-'CreditScore'-2.2.2\"><span class=\"toc-item-num\">2.2.2&nbsp;&nbsp;</span>Столбец 'CreditScore'</a></span></li><li><span><a href=\"#Столбцы-'Geography',-'Gender'\" data-toc-modified-id=\"Столбцы-'Geography',-'Gender'-2.2.3\"><span class=\"toc-item-num\">2.2.3&nbsp;&nbsp;</span>Столбцы 'Geography', 'Gender'</a></span></li><li><span><a href=\"#Столбцы-'Age',-'Tenure'\" data-toc-modified-id=\"Столбцы-'Age',-'Tenure'-2.2.4\"><span class=\"toc-item-num\">2.2.4&nbsp;&nbsp;</span>Столбцы 'Age', 'Tenure'</a></span></li><li><span><a href=\"#Столбцы-'Balance',-'EstimatedSalary'\" data-toc-modified-id=\"Столбцы-'Balance',-'EstimatedSalary'-2.2.5\"><span class=\"toc-item-num\">2.2.5&nbsp;&nbsp;</span>Столбцы 'Balance', 'EstimatedSalary'</a></span></li><li><span><a href=\"#Столбцы-'NumOfProducts',-'HasCrCard',-'IsActiveMember'\" data-toc-modified-id=\"Столбцы-'NumOfProducts',-'HasCrCard',-'IsActiveMember'-2.2.6\"><span class=\"toc-item-num\">2.2.6&nbsp;&nbsp;</span>Столбцы 'NumOfProducts', 'HasCrCard', 'IsActiveMember'</a></span></li><li><span><a href=\"#Столбец-'Exited'\" data-toc-modified-id=\"Столбец-'Exited'-2.2.7\"><span class=\"toc-item-num\">2.2.7&nbsp;&nbsp;</span>Столбец 'Exited'</a></span></li><li><span><a href=\"#Итоги-шага-по-изучению-столбцов\" data-toc-modified-id=\"Итоги-шага-по-изучению-столбцов-2.2.8\"><span class=\"toc-item-num\">2.2.8&nbsp;&nbsp;</span>Итоги шага по изучению столбцов</a></span></li></ul></li><li><span><a href=\"#Замена-пропусков\" data-toc-modified-id=\"Замена-пропусков-2.3\"><span class=\"toc-item-num\">2.3&nbsp;&nbsp;</span>Замена пропусков</a></span></li><li><span><a href=\"#Оптимизация-типов-данных\" data-toc-modified-id=\"Оптимизация-типов-данных-2.4\"><span class=\"toc-item-num\">2.4&nbsp;&nbsp;</span>Оптимизация типов данных</a></span></li><li><span><a href=\"#Подготовка-выборок\" data-toc-modified-id=\"Подготовка-выборок-2.5\"><span class=\"toc-item-num\">2.5&nbsp;&nbsp;</span>Подготовка выборок</a></span></li></ul></li><li><span><a href=\"#Исследование-задачи\" data-toc-modified-id=\"Исследование-задачи-3\"><span class=\"toc-item-num\">3&nbsp;&nbsp;</span>Исследование задачи</a></span><ul class=\"toc-item\"><li><span><a href=\"#Исследование-баланса-классов\" data-toc-modified-id=\"Исследование-баланса-классов-3.1\"><span class=\"toc-item-num\">3.1&nbsp;&nbsp;</span>Исследование баланса классов</a></span></li><li><span><a href=\"#Изучение-метрик-модели-без-учёта-дисбаланса\" data-toc-modified-id=\"Изучение-метрик-модели-без-учёта-дисбаланса-3.2\"><span class=\"toc-item-num\">3.2&nbsp;&nbsp;</span>Изучение метрик модели без учёта дисбаланса</a></span></li><li><span><a href=\"#Изучение-разных-моделей-без-учёта-дисбаланса\" data-toc-modified-id=\"Изучение-разных-моделей-без-учёта-дисбаланса-3.3\"><span class=\"toc-item-num\">3.3&nbsp;&nbsp;</span>Изучение разных моделей без учёта дисбаланса</a></span></li><li><span><a href=\"#Выводы-шага\" data-toc-modified-id=\"Выводы-шага-3.4\"><span class=\"toc-item-num\">3.4&nbsp;&nbsp;</span>Выводы шага</a></span></li></ul></li><li><span><a href=\"#Борьба-с-дисбалансом\" data-toc-modified-id=\"Борьба-с-дисбалансом-4\"><span class=\"toc-item-num\">4&nbsp;&nbsp;</span>Борьба с дисбалансом</a></span><ul class=\"toc-item\"><li><span><a href=\"#Параметр-'class_weight'\" data-toc-modified-id=\"Параметр-'class_weight'-4.1\"><span class=\"toc-item-num\">4.1&nbsp;&nbsp;</span>Параметр 'class_weight'</a></span></li><li><span><a href=\"#Уменьшение-и-увеличение-выборок\" data-toc-modified-id=\"Уменьшение-и-увеличение-выборок-4.2\"><span class=\"toc-item-num\">4.2&nbsp;&nbsp;</span>Уменьшение и увеличение выборок</a></span></li><li><span><a href=\"#Итоги-борьбы-с-дисбалансом-и-выбор-финальной-модели\" data-toc-modified-id=\"Итоги-борьбы-с-дисбалансом-и-выбор-финальной-модели-4.3\"><span class=\"toc-item-num\">4.3&nbsp;&nbsp;</span>Итоги борьбы с дисбалансом и выбор финальной модели</a></span></li></ul></li><li><span><a href=\"#Тестирование-модели\" data-toc-modified-id=\"Тестирование-модели-5\"><span class=\"toc-item-num\">5&nbsp;&nbsp;</span>Тестирование модели</a></span></li><li><span><a href=\"#Вывод\" data-toc-modified-id=\"Вывод-6\"><span class=\"toc-item-num\">6&nbsp;&nbsp;</span>Вывод</a></span></li><li><span><a href=\"#Чек-лист-готовности-проекта\" data-toc-modified-id=\"Чек-лист-готовности-проекта-7\"><span class=\"toc-item-num\">7&nbsp;&nbsp;</span>Чек-лист готовности проекта</a></span></li></ul></div>"
   ]
  },
  {
   "cell_type": "markdown",
   "metadata": {},
   "source": [
    "# Отток клиентов"
   ]
  },
  {
   "cell_type": "markdown",
   "metadata": {},
   "source": [
    "## Введение"
   ]
  },
  {
   "cell_type": "markdown",
   "metadata": {},
   "source": [
    "В данном проекте мы решим задачу по машинному обучению в рамках темы \"Обучение с учителем\". Мы изучим данных, построим несколько моделей и постараемся улучшить их, а после, используя лучшую модель, проведем ее тестирование.\n",
    "\n",
    "Ниже можно найти описание задачи, а также примерный план проекта.\n",
    "\n",
    "<b>Описание задачи:</b>\n",
    "\n",
    "Из «Бета-Банка» стали уходить клиенты. Каждый месяц. Немного, но заметно. Банковские маркетологи посчитали: сохранять текущих клиентов дешевле, чем привлекать новых.\n",
    "\n",
    "Нужно спрогнозировать, уйдёт клиент из банка в ближайшее время или нет. Вам предоставлены исторические данные о поведении клиентов и расторжении договоров с банком. \n",
    "\n",
    "Постройте модель с предельно большим значением *F1*-меры. Чтобы сдать проект успешно, нужно довести метрику до 0.59. Проверьте *F1*-меру на тестовой выборке самостоятельно.\n",
    "\n",
    "Дополнительно измеряйте *AUC-ROC*, сравнивайте её значение с *F1*-мерой.\n",
    "\n",
    "Источник данных: [https://www.kaggle.com/barelydedicated/bank-customer-churn-modeling](https://www.kaggle.com/barelydedicated/bank-customer-churn-modeling)\n",
    "\n",
    "<b>План работы над проектом:</b>\n",
    "- Изучение общей информации о файле с данными.\n",
    "- Изучение столбцов и проверка данных.\n",
    "- Определение выборок для обучения и тестирования модели.\n",
    "- Изучение моделей.\n",
    "- Общий вывод.\n",
    "- Чек-лист проекта.\n",
    "\n",
    "<b>Автор проекта:</b>\n",
    "- Виктория Кускова, \n",
    "- студентка Яндекс.Практикума, 2021."
   ]
  },
  {
   "cell_type": "markdown",
   "metadata": {},
   "source": [
    "## Подготовка данных"
   ]
  },
  {
   "cell_type": "markdown",
   "metadata": {},
   "source": [
    "### Изучение общей информации"
   ]
  },
  {
   "cell_type": "markdown",
   "metadata": {},
   "source": [
    "Выделим импорты всех библиотек, импорт файла с данными и по общую информацию по нему в отдельные ячейки."
   ]
  },
  {
   "cell_type": "code",
   "execution_count": 1,
   "metadata": {},
   "outputs": [],
   "source": [
    "#импорты библиотек\n",
    "import pandas as pd\n",
    "import numpy as np\n",
    "import seaborn as sns\n",
    "import matplotlib.pyplot as plt\n",
    "import warnings\n",
    "from collections import namedtuple\n",
    "from sklearn.preprocessing import StandardScaler\n",
    "from sklearn.tree import DecisionTreeClassifier\n",
    "from sklearn.ensemble import RandomForestClassifier\n",
    "from sklearn.linear_model import LogisticRegression\n",
    "from sklearn.metrics import (accuracy_score, confusion_matrix, recall_score, make_scorer,\n",
    "                             precision_score, f1_score, roc_curve, roc_auc_score)\n",
    "from sklearn.utils import shuffle\n",
    "from sklearn.model_selection import train_test_split, GridSearchCV"
   ]
  },
  {
   "cell_type": "code",
   "execution_count": 2,
   "metadata": {},
   "outputs": [],
   "source": [
    "#импорт файла с данными\n",
    "df = pd.read_csv('/datasets/Churn.csv')"
   ]
  },
  {
   "cell_type": "code",
   "execution_count": 3,
   "metadata": {},
   "outputs": [
    {
     "name": "stdout",
     "output_type": "stream",
     "text": [
      "<class 'pandas.core.frame.DataFrame'>\n",
      "RangeIndex: 10000 entries, 0 to 9999\n",
      "Data columns (total 14 columns):\n",
      "RowNumber          10000 non-null int64\n",
      "CustomerId         10000 non-null int64\n",
      "Surname            10000 non-null object\n",
      "CreditScore        10000 non-null int64\n",
      "Geography          10000 non-null object\n",
      "Gender             10000 non-null object\n",
      "Age                10000 non-null int64\n",
      "Tenure             9091 non-null float64\n",
      "Balance            10000 non-null float64\n",
      "NumOfProducts      10000 non-null int64\n",
      "HasCrCard          10000 non-null int64\n",
      "IsActiveMember     10000 non-null int64\n",
      "EstimatedSalary    10000 non-null float64\n",
      "Exited             10000 non-null int64\n",
      "dtypes: float64(3), int64(8), object(3)\n",
      "memory usage: 1.1+ MB\n"
     ]
    }
   ],
   "source": [
    "#общая информация\n",
    "df.info()"
   ]
  },
  {
   "cell_type": "markdown",
   "metadata": {},
   "source": [
    "Видим, что у нас 10000 строк и 14 столбцов. Точно есть пропуски (909 строк) в стобце \"Tenure\" (сколько лет человек является клиентом банка).\n",
    "Возможные причины появления этих пропусков могут быть разнвые: как и просто технические ошибки, так и системнон отсутствие данных. Примеры причин пропусков:\n",
    "- При подтягивании года из другой таблицы данные не подтянулись, так как связывали таблицы по id клиента, а в одной из таблиц впереди id был дополнительный 0.\n",
    "- В филиале, к которому прикреплены данные клиенты не записывается дата регистрации клиента, по которой формула вычиляет количество лет.\n",
    "- Клиент уходил, а потом возвращался. Поэтому у него 2 даты регистрации в системе, и формула по которой вычиляется сколько лет он клиент ломается на таких случаях.\n",
    "\n",
    "Посмотрим внимательнее на значение в других столбцах и, на всякий случай, проверим другие столбцы на другие потенциальные ошибки."
   ]
  },
  {
   "cell_type": "code",
   "execution_count": 4,
   "metadata": {},
   "outputs": [
    {
     "data": {
      "text/html": [
       "<div>\n",
       "<style scoped>\n",
       "    .dataframe tbody tr th:only-of-type {\n",
       "        vertical-align: middle;\n",
       "    }\n",
       "\n",
       "    .dataframe tbody tr th {\n",
       "        vertical-align: top;\n",
       "    }\n",
       "\n",
       "    .dataframe thead th {\n",
       "        text-align: right;\n",
       "    }\n",
       "</style>\n",
       "<table border=\"1\" class=\"dataframe\">\n",
       "  <thead>\n",
       "    <tr style=\"text-align: right;\">\n",
       "      <th></th>\n",
       "      <th>RowNumber</th>\n",
       "      <th>CustomerId</th>\n",
       "      <th>Surname</th>\n",
       "      <th>CreditScore</th>\n",
       "      <th>Geography</th>\n",
       "      <th>Gender</th>\n",
       "      <th>Age</th>\n",
       "      <th>Tenure</th>\n",
       "      <th>Balance</th>\n",
       "      <th>NumOfProducts</th>\n",
       "      <th>HasCrCard</th>\n",
       "      <th>IsActiveMember</th>\n",
       "      <th>EstimatedSalary</th>\n",
       "      <th>Exited</th>\n",
       "    </tr>\n",
       "  </thead>\n",
       "  <tbody>\n",
       "    <tr>\n",
       "      <td>0</td>\n",
       "      <td>1</td>\n",
       "      <td>15634602</td>\n",
       "      <td>Hargrave</td>\n",
       "      <td>619</td>\n",
       "      <td>France</td>\n",
       "      <td>Female</td>\n",
       "      <td>42</td>\n",
       "      <td>2.0</td>\n",
       "      <td>0.00</td>\n",
       "      <td>1</td>\n",
       "      <td>1</td>\n",
       "      <td>1</td>\n",
       "      <td>101348.88</td>\n",
       "      <td>1</td>\n",
       "    </tr>\n",
       "    <tr>\n",
       "      <td>1</td>\n",
       "      <td>2</td>\n",
       "      <td>15647311</td>\n",
       "      <td>Hill</td>\n",
       "      <td>608</td>\n",
       "      <td>Spain</td>\n",
       "      <td>Female</td>\n",
       "      <td>41</td>\n",
       "      <td>1.0</td>\n",
       "      <td>83807.86</td>\n",
       "      <td>1</td>\n",
       "      <td>0</td>\n",
       "      <td>1</td>\n",
       "      <td>112542.58</td>\n",
       "      <td>0</td>\n",
       "    </tr>\n",
       "    <tr>\n",
       "      <td>2</td>\n",
       "      <td>3</td>\n",
       "      <td>15619304</td>\n",
       "      <td>Onio</td>\n",
       "      <td>502</td>\n",
       "      <td>France</td>\n",
       "      <td>Female</td>\n",
       "      <td>42</td>\n",
       "      <td>8.0</td>\n",
       "      <td>159660.80</td>\n",
       "      <td>3</td>\n",
       "      <td>1</td>\n",
       "      <td>0</td>\n",
       "      <td>113931.57</td>\n",
       "      <td>1</td>\n",
       "    </tr>\n",
       "    <tr>\n",
       "      <td>3</td>\n",
       "      <td>4</td>\n",
       "      <td>15701354</td>\n",
       "      <td>Boni</td>\n",
       "      <td>699</td>\n",
       "      <td>France</td>\n",
       "      <td>Female</td>\n",
       "      <td>39</td>\n",
       "      <td>1.0</td>\n",
       "      <td>0.00</td>\n",
       "      <td>2</td>\n",
       "      <td>0</td>\n",
       "      <td>0</td>\n",
       "      <td>93826.63</td>\n",
       "      <td>0</td>\n",
       "    </tr>\n",
       "    <tr>\n",
       "      <td>4</td>\n",
       "      <td>5</td>\n",
       "      <td>15737888</td>\n",
       "      <td>Mitchell</td>\n",
       "      <td>850</td>\n",
       "      <td>Spain</td>\n",
       "      <td>Female</td>\n",
       "      <td>43</td>\n",
       "      <td>2.0</td>\n",
       "      <td>125510.82</td>\n",
       "      <td>1</td>\n",
       "      <td>1</td>\n",
       "      <td>1</td>\n",
       "      <td>79084.10</td>\n",
       "      <td>0</td>\n",
       "    </tr>\n",
       "  </tbody>\n",
       "</table>\n",
       "</div>"
      ],
      "text/plain": [
       "   RowNumber  CustomerId   Surname  CreditScore Geography  Gender  Age  \\\n",
       "0          1    15634602  Hargrave          619    France  Female   42   \n",
       "1          2    15647311      Hill          608     Spain  Female   41   \n",
       "2          3    15619304      Onio          502    France  Female   42   \n",
       "3          4    15701354      Boni          699    France  Female   39   \n",
       "4          5    15737888  Mitchell          850     Spain  Female   43   \n",
       "\n",
       "   Tenure    Balance  NumOfProducts  HasCrCard  IsActiveMember  \\\n",
       "0     2.0       0.00              1          1               1   \n",
       "1     1.0   83807.86              1          0               1   \n",
       "2     8.0  159660.80              3          1               0   \n",
       "3     1.0       0.00              2          0               0   \n",
       "4     2.0  125510.82              1          1               1   \n",
       "\n",
       "   EstimatedSalary  Exited  \n",
       "0        101348.88       1  \n",
       "1        112542.58       0  \n",
       "2        113931.57       1  \n",
       "3         93826.63       0  \n",
       "4         79084.10       0  "
      ]
     },
     "execution_count": 4,
     "metadata": {},
     "output_type": "execute_result"
    }
   ],
   "source": [
    "df.head()"
   ]
  },
  {
   "cell_type": "markdown",
   "metadata": {},
   "source": [
    "Целевой признак - \"Exited\" (факт ухода клиента). При изучении остальных столбцов будем также оценивать, попадет ли столбец в список признаков, на которых будем обучать наши модели или нет.\n",
    "\n",
    "Также можно заметить, что у всех названий столбцов названия однотипны. В таком случае, не будем их приводить к другому единому формату."
   ]
  },
  {
   "cell_type": "code",
   "execution_count": 5,
   "metadata": {},
   "outputs": [
    {
     "data": {
      "text/html": [
       "<div>\n",
       "<style scoped>\n",
       "    .dataframe tbody tr th:only-of-type {\n",
       "        vertical-align: middle;\n",
       "    }\n",
       "\n",
       "    .dataframe tbody tr th {\n",
       "        vertical-align: top;\n",
       "    }\n",
       "\n",
       "    .dataframe thead th {\n",
       "        text-align: right;\n",
       "    }\n",
       "</style>\n",
       "<table border=\"1\" class=\"dataframe\">\n",
       "  <thead>\n",
       "    <tr style=\"text-align: right;\">\n",
       "      <th></th>\n",
       "      <th>count</th>\n",
       "      <th>mean</th>\n",
       "      <th>std</th>\n",
       "      <th>min</th>\n",
       "      <th>25%</th>\n",
       "      <th>50%</th>\n",
       "      <th>75%</th>\n",
       "      <th>max</th>\n",
       "    </tr>\n",
       "  </thead>\n",
       "  <tbody>\n",
       "    <tr>\n",
       "      <td>RowNumber</td>\n",
       "      <td>10000.0</td>\n",
       "      <td>5.000500e+03</td>\n",
       "      <td>2886.895680</td>\n",
       "      <td>1.00</td>\n",
       "      <td>2500.75</td>\n",
       "      <td>5.000500e+03</td>\n",
       "      <td>7.500250e+03</td>\n",
       "      <td>10000.00</td>\n",
       "    </tr>\n",
       "    <tr>\n",
       "      <td>CustomerId</td>\n",
       "      <td>10000.0</td>\n",
       "      <td>1.569094e+07</td>\n",
       "      <td>71936.186123</td>\n",
       "      <td>15565701.00</td>\n",
       "      <td>15628528.25</td>\n",
       "      <td>1.569074e+07</td>\n",
       "      <td>1.575323e+07</td>\n",
       "      <td>15815690.00</td>\n",
       "    </tr>\n",
       "    <tr>\n",
       "      <td>CreditScore</td>\n",
       "      <td>10000.0</td>\n",
       "      <td>6.505288e+02</td>\n",
       "      <td>96.653299</td>\n",
       "      <td>350.00</td>\n",
       "      <td>584.00</td>\n",
       "      <td>6.520000e+02</td>\n",
       "      <td>7.180000e+02</td>\n",
       "      <td>850.00</td>\n",
       "    </tr>\n",
       "    <tr>\n",
       "      <td>Age</td>\n",
       "      <td>10000.0</td>\n",
       "      <td>3.892180e+01</td>\n",
       "      <td>10.487806</td>\n",
       "      <td>18.00</td>\n",
       "      <td>32.00</td>\n",
       "      <td>3.700000e+01</td>\n",
       "      <td>4.400000e+01</td>\n",
       "      <td>92.00</td>\n",
       "    </tr>\n",
       "    <tr>\n",
       "      <td>Tenure</td>\n",
       "      <td>9091.0</td>\n",
       "      <td>4.997690e+00</td>\n",
       "      <td>2.894723</td>\n",
       "      <td>0.00</td>\n",
       "      <td>2.00</td>\n",
       "      <td>5.000000e+00</td>\n",
       "      <td>7.000000e+00</td>\n",
       "      <td>10.00</td>\n",
       "    </tr>\n",
       "    <tr>\n",
       "      <td>Balance</td>\n",
       "      <td>10000.0</td>\n",
       "      <td>7.648589e+04</td>\n",
       "      <td>62397.405202</td>\n",
       "      <td>0.00</td>\n",
       "      <td>0.00</td>\n",
       "      <td>9.719854e+04</td>\n",
       "      <td>1.276442e+05</td>\n",
       "      <td>250898.09</td>\n",
       "    </tr>\n",
       "    <tr>\n",
       "      <td>NumOfProducts</td>\n",
       "      <td>10000.0</td>\n",
       "      <td>1.530200e+00</td>\n",
       "      <td>0.581654</td>\n",
       "      <td>1.00</td>\n",
       "      <td>1.00</td>\n",
       "      <td>1.000000e+00</td>\n",
       "      <td>2.000000e+00</td>\n",
       "      <td>4.00</td>\n",
       "    </tr>\n",
       "    <tr>\n",
       "      <td>HasCrCard</td>\n",
       "      <td>10000.0</td>\n",
       "      <td>7.055000e-01</td>\n",
       "      <td>0.455840</td>\n",
       "      <td>0.00</td>\n",
       "      <td>0.00</td>\n",
       "      <td>1.000000e+00</td>\n",
       "      <td>1.000000e+00</td>\n",
       "      <td>1.00</td>\n",
       "    </tr>\n",
       "    <tr>\n",
       "      <td>IsActiveMember</td>\n",
       "      <td>10000.0</td>\n",
       "      <td>5.151000e-01</td>\n",
       "      <td>0.499797</td>\n",
       "      <td>0.00</td>\n",
       "      <td>0.00</td>\n",
       "      <td>1.000000e+00</td>\n",
       "      <td>1.000000e+00</td>\n",
       "      <td>1.00</td>\n",
       "    </tr>\n",
       "    <tr>\n",
       "      <td>EstimatedSalary</td>\n",
       "      <td>10000.0</td>\n",
       "      <td>1.000902e+05</td>\n",
       "      <td>57510.492818</td>\n",
       "      <td>11.58</td>\n",
       "      <td>51002.11</td>\n",
       "      <td>1.001939e+05</td>\n",
       "      <td>1.493882e+05</td>\n",
       "      <td>199992.48</td>\n",
       "    </tr>\n",
       "    <tr>\n",
       "      <td>Exited</td>\n",
       "      <td>10000.0</td>\n",
       "      <td>2.037000e-01</td>\n",
       "      <td>0.402769</td>\n",
       "      <td>0.00</td>\n",
       "      <td>0.00</td>\n",
       "      <td>0.000000e+00</td>\n",
       "      <td>0.000000e+00</td>\n",
       "      <td>1.00</td>\n",
       "    </tr>\n",
       "  </tbody>\n",
       "</table>\n",
       "</div>"
      ],
      "text/plain": [
       "                   count          mean           std          min  \\\n",
       "RowNumber        10000.0  5.000500e+03   2886.895680         1.00   \n",
       "CustomerId       10000.0  1.569094e+07  71936.186123  15565701.00   \n",
       "CreditScore      10000.0  6.505288e+02     96.653299       350.00   \n",
       "Age              10000.0  3.892180e+01     10.487806        18.00   \n",
       "Tenure            9091.0  4.997690e+00      2.894723         0.00   \n",
       "Balance          10000.0  7.648589e+04  62397.405202         0.00   \n",
       "NumOfProducts    10000.0  1.530200e+00      0.581654         1.00   \n",
       "HasCrCard        10000.0  7.055000e-01      0.455840         0.00   \n",
       "IsActiveMember   10000.0  5.151000e-01      0.499797         0.00   \n",
       "EstimatedSalary  10000.0  1.000902e+05  57510.492818        11.58   \n",
       "Exited           10000.0  2.037000e-01      0.402769         0.00   \n",
       "\n",
       "                         25%           50%           75%          max  \n",
       "RowNumber            2500.75  5.000500e+03  7.500250e+03     10000.00  \n",
       "CustomerId       15628528.25  1.569074e+07  1.575323e+07  15815690.00  \n",
       "CreditScore           584.00  6.520000e+02  7.180000e+02       850.00  \n",
       "Age                    32.00  3.700000e+01  4.400000e+01        92.00  \n",
       "Tenure                  2.00  5.000000e+00  7.000000e+00        10.00  \n",
       "Balance                 0.00  9.719854e+04  1.276442e+05    250898.09  \n",
       "NumOfProducts           1.00  1.000000e+00  2.000000e+00         4.00  \n",
       "HasCrCard               0.00  1.000000e+00  1.000000e+00         1.00  \n",
       "IsActiveMember          0.00  1.000000e+00  1.000000e+00         1.00  \n",
       "EstimatedSalary     51002.11  1.001939e+05  1.493882e+05    199992.48  \n",
       "Exited                  0.00  0.000000e+00  0.000000e+00         1.00  "
      ]
     },
     "execution_count": 5,
     "metadata": {},
     "output_type": "execute_result"
    }
   ],
   "source": [
    "df.describe().T"
   ]
  },
  {
   "cell_type": "markdown",
   "metadata": {},
   "source": [
    "По числовым значениям видим, что нет отрицательных значений (все min 0 или больше). Также пока не видно других сигналов, указывающих на ошибки в данных.\n",
    "\n",
    "Теперь изучим все столбцы более детально."
   ]
  },
  {
   "cell_type": "markdown",
   "metadata": {},
   "source": [
    "### Изучение столбцов"
   ]
  },
  {
   "cell_type": "markdown",
   "metadata": {},
   "source": [
    "#### Столбцы 'RowNumber', 'CustomerId', 'Surname'"
   ]
  },
  {
   "cell_type": "markdown",
   "metadata": {},
   "source": [
    "Столбцы 'RowNumber', 'CustomerId', 'Surname' изучим вместе, это те значения, которые служат опреденными идентификаторам. Поэтому изучать их в связке удобно."
   ]
  },
  {
   "cell_type": "code",
   "execution_count": 6,
   "metadata": {},
   "outputs": [
    {
     "data": {
      "text/plain": [
       "10000"
      ]
     },
     "execution_count": 6,
     "metadata": {},
     "output_type": "execute_result"
    }
   ],
   "source": [
    "df['RowNumber'].nunique()"
   ]
  },
  {
   "cell_type": "code",
   "execution_count": 7,
   "metadata": {},
   "outputs": [
    {
     "data": {
      "text/plain": [
       "10000"
      ]
     },
     "execution_count": 7,
     "metadata": {},
     "output_type": "execute_result"
    }
   ],
   "source": [
    "df['CustomerId'].nunique()"
   ]
  },
  {
   "cell_type": "markdown",
   "metadata": {},
   "source": [
    "Отлично, мы видим, что в первых двух столбцах нет повторяющихся значений, так как все 10 тысяч уникальные. Никакой номер строки также даже не пропущен, так как мы знаем максимум и минумум по этому столбцу (параграф выше) и это 10000 и 1.\n",
    "\n",
    "Теперь прооверим фамилии, если там дубликаты. Они скорее всего могут быть, так как в жизни у разных людей бывают разные фамилии."
   ]
  },
  {
   "cell_type": "code",
   "execution_count": 8,
   "metadata": {},
   "outputs": [
    {
     "data": {
      "text/plain": [
       "2932"
      ]
     },
     "execution_count": 8,
     "metadata": {},
     "output_type": "execute_result"
    }
   ],
   "source": [
    "df['Surname'].nunique()"
   ]
  },
  {
   "cell_type": "markdown",
   "metadata": {},
   "source": [
    "Действительно, их намного меньше - около 3 тысяч, а не 10 тысяч как всех строк. Но при этом их достаточно много, и при применении моделей машинного обучения этот признак:\n",
    "- во-первых, трудно закодировать с помощью техник прямого (OHE) или порядкового (OrdinalEncoder) кодирования;\n",
    "- во-вторых, каждое значение признака встречается у слишком маленького числа строк в среднем (3-4 раз = 10 тыс /3 тыс).\n",
    "\n",
    "Поэтому придавать ему большое значение и использовать при обучении модели - неверно.\n",
    "\n",
    "В целом, все эти 3 столбца нам не нужны для обучения моделей, но их изучение помогло понять, что в строках нет дубликатов. "
   ]
  },
  {
   "cell_type": "markdown",
   "metadata": {},
   "source": [
    "#### Столбец 'CreditScore'"
   ]
  },
  {
   "cell_type": "markdown",
   "metadata": {},
   "source": [
    "При изучениии общей информации мы выяснили, что минимум по этому столбцу - 350, а максимум 850."
   ]
  },
  {
   "cell_type": "code",
   "execution_count": 9,
   "metadata": {},
   "outputs": [
    {
     "data": {
      "image/png": "[encoded data removed]",
      "text/plain": [
       "<Figure size 432x288 with 1 Axes>"
      ]
     },
     "metadata": {
      "needs_background": "light"
     },
     "output_type": "display_data"
    }
   ],
   "source": [
    "plt.title(\"Количество оценок рейтинга, шт\", fontweight='bold', size='medium')\n",
    "plt.ylabel(\"Частота, шт\")\n",
    "sns.distplot(a=df['CreditScore'], kde=False, rug=False, axlabel=\"Количество оценок рейтинга, шт\")\n",
    "plt.show()"
   ]
  },
  {
   "cell_type": "markdown",
   "metadata": {},
   "source": [
    "Видим определенный пик в максимальном значении рейтинга. \n",
    "\n",
    "Возможно, что это не ошибка. Возможно, что он возник как раз из-за того, рейтинг ограничен этим значением. И если не был бы ограничен, то хвост распределялся бы более равномерно. Возможно рейтинг образуется как максимальный по умолчанию, и снижается из-за других факторов. Эта возможная причина пика. Такое часто можно наблюдать для значения 0 для показателей, которым свойственно иметь 0 по умолчанию и которые увеличиваются в зависимости от разных факторов (количество звонков за месяц, количество проданных игр за год и др.).\n",
    "\n",
    "Посмотрим на хвост от 800 более детельнее."
   ]
  },
  {
   "cell_type": "code",
   "execution_count": 10,
   "metadata": {},
   "outputs": [
    {
     "data": {
      "image/png": "[encoded data removed]",
      "text/plain": [
       "<Figure size 432x288 with 1 Axes>"
      ]
     },
     "metadata": {
      "needs_background": "light"
     },
     "output_type": "display_data"
    }
   ],
   "source": [
    "plt.title(\"Количество оценок рейтинга, шт\", fontweight='bold', size='medium')\n",
    "plt.ylabel(\"Частота, шт\")\n",
    "sns.distplot(a=df.query('CreditScore > 800')['CreditScore'], kde=False, bins=20, rug=False, axlabel=\"Количество оценок рейтинга, шт\")\n",
    "plt.show()"
   ]
  },
  {
   "cell_type": "code",
   "execution_count": 11,
   "metadata": {},
   "outputs": [
    {
     "data": {
      "text/plain": [
       "850    233\n",
       "Name: CreditScore, dtype: int64"
      ]
     },
     "execution_count": 11,
     "metadata": {},
     "output_type": "execute_result"
    }
   ],
   "source": [
    "df.query('CreditScore == 850')['CreditScore'].value_counts()"
   ]
  },
  {
   "cell_type": "markdown",
   "metadata": {},
   "source": [
    "Видим, что 233 строки имеют максимальные значения. Это около 2% от всех значений.\n",
    "\n",
    "Посмотрим на эти строки. "
   ]
  },
  {
   "cell_type": "code",
   "execution_count": 12,
   "metadata": {},
   "outputs": [
    {
     "data": {
      "text/html": [
       "<div>\n",
       "<style scoped>\n",
       "    .dataframe tbody tr th:only-of-type {\n",
       "        vertical-align: middle;\n",
       "    }\n",
       "\n",
       "    .dataframe tbody tr th {\n",
       "        vertical-align: top;\n",
       "    }\n",
       "\n",
       "    .dataframe thead th {\n",
       "        text-align: right;\n",
       "    }\n",
       "</style>\n",
       "<table border=\"1\" class=\"dataframe\">\n",
       "  <thead>\n",
       "    <tr style=\"text-align: right;\">\n",
       "      <th></th>\n",
       "      <th>RowNumber</th>\n",
       "      <th>CustomerId</th>\n",
       "      <th>Surname</th>\n",
       "      <th>CreditScore</th>\n",
       "      <th>Geography</th>\n",
       "      <th>Gender</th>\n",
       "      <th>Age</th>\n",
       "      <th>Tenure</th>\n",
       "      <th>Balance</th>\n",
       "      <th>NumOfProducts</th>\n",
       "      <th>HasCrCard</th>\n",
       "      <th>IsActiveMember</th>\n",
       "      <th>EstimatedSalary</th>\n",
       "      <th>Exited</th>\n",
       "    </tr>\n",
       "  </thead>\n",
       "  <tbody>\n",
       "    <tr>\n",
       "      <td>4</td>\n",
       "      <td>5</td>\n",
       "      <td>15737888</td>\n",
       "      <td>Mitchell</td>\n",
       "      <td>850</td>\n",
       "      <td>Spain</td>\n",
       "      <td>Female</td>\n",
       "      <td>43</td>\n",
       "      <td>2.0</td>\n",
       "      <td>125510.82</td>\n",
       "      <td>1</td>\n",
       "      <td>1</td>\n",
       "      <td>1</td>\n",
       "      <td>79084.10</td>\n",
       "      <td>0</td>\n",
       "    </tr>\n",
       "    <tr>\n",
       "      <td>38</td>\n",
       "      <td>39</td>\n",
       "      <td>15717426</td>\n",
       "      <td>Armstrong</td>\n",
       "      <td>850</td>\n",
       "      <td>France</td>\n",
       "      <td>Male</td>\n",
       "      <td>36</td>\n",
       "      <td>7.0</td>\n",
       "      <td>0.00</td>\n",
       "      <td>1</td>\n",
       "      <td>1</td>\n",
       "      <td>1</td>\n",
       "      <td>40812.90</td>\n",
       "      <td>0</td>\n",
       "    </tr>\n",
       "    <tr>\n",
       "      <td>180</td>\n",
       "      <td>181</td>\n",
       "      <td>15716334</td>\n",
       "      <td>Rozier</td>\n",
       "      <td>850</td>\n",
       "      <td>Spain</td>\n",
       "      <td>Female</td>\n",
       "      <td>45</td>\n",
       "      <td>NaN</td>\n",
       "      <td>122311.21</td>\n",
       "      <td>1</td>\n",
       "      <td>1</td>\n",
       "      <td>1</td>\n",
       "      <td>19482.50</td>\n",
       "      <td>0</td>\n",
       "    </tr>\n",
       "    <tr>\n",
       "      <td>200</td>\n",
       "      <td>201</td>\n",
       "      <td>15604482</td>\n",
       "      <td>Chiemezie</td>\n",
       "      <td>850</td>\n",
       "      <td>Spain</td>\n",
       "      <td>Male</td>\n",
       "      <td>30</td>\n",
       "      <td>2.0</td>\n",
       "      <td>141040.01</td>\n",
       "      <td>1</td>\n",
       "      <td>1</td>\n",
       "      <td>1</td>\n",
       "      <td>5978.20</td>\n",
       "      <td>0</td>\n",
       "    </tr>\n",
       "    <tr>\n",
       "      <td>223</td>\n",
       "      <td>224</td>\n",
       "      <td>15733247</td>\n",
       "      <td>Stevenson</td>\n",
       "      <td>850</td>\n",
       "      <td>France</td>\n",
       "      <td>Male</td>\n",
       "      <td>33</td>\n",
       "      <td>10.0</td>\n",
       "      <td>0.00</td>\n",
       "      <td>1</td>\n",
       "      <td>1</td>\n",
       "      <td>0</td>\n",
       "      <td>4861.72</td>\n",
       "      <td>1</td>\n",
       "    </tr>\n",
       "    <tr>\n",
       "      <td>259</td>\n",
       "      <td>260</td>\n",
       "      <td>15607178</td>\n",
       "      <td>Welch</td>\n",
       "      <td>850</td>\n",
       "      <td>Germany</td>\n",
       "      <td>Male</td>\n",
       "      <td>38</td>\n",
       "      <td>3.0</td>\n",
       "      <td>54901.01</td>\n",
       "      <td>1</td>\n",
       "      <td>1</td>\n",
       "      <td>1</td>\n",
       "      <td>140075.55</td>\n",
       "      <td>0</td>\n",
       "    </tr>\n",
       "    <tr>\n",
       "      <td>356</td>\n",
       "      <td>357</td>\n",
       "      <td>15611759</td>\n",
       "      <td>Simmons</td>\n",
       "      <td>850</td>\n",
       "      <td>Spain</td>\n",
       "      <td>Female</td>\n",
       "      <td>57</td>\n",
       "      <td>8.0</td>\n",
       "      <td>126776.30</td>\n",
       "      <td>2</td>\n",
       "      <td>1</td>\n",
       "      <td>1</td>\n",
       "      <td>132298.49</td>\n",
       "      <td>0</td>\n",
       "    </tr>\n",
       "    <tr>\n",
       "      <td>411</td>\n",
       "      <td>412</td>\n",
       "      <td>15760431</td>\n",
       "      <td>Pino</td>\n",
       "      <td>850</td>\n",
       "      <td>France</td>\n",
       "      <td>Male</td>\n",
       "      <td>38</td>\n",
       "      <td>1.0</td>\n",
       "      <td>0.00</td>\n",
       "      <td>2</td>\n",
       "      <td>1</td>\n",
       "      <td>1</td>\n",
       "      <td>80006.65</td>\n",
       "      <td>0</td>\n",
       "    </tr>\n",
       "    <tr>\n",
       "      <td>451</td>\n",
       "      <td>452</td>\n",
       "      <td>15785798</td>\n",
       "      <td>Uchechukwu</td>\n",
       "      <td>850</td>\n",
       "      <td>France</td>\n",
       "      <td>Male</td>\n",
       "      <td>40</td>\n",
       "      <td>9.0</td>\n",
       "      <td>0.00</td>\n",
       "      <td>2</td>\n",
       "      <td>0</td>\n",
       "      <td>1</td>\n",
       "      <td>119232.33</td>\n",
       "      <td>0</td>\n",
       "    </tr>\n",
       "    <tr>\n",
       "      <td>466</td>\n",
       "      <td>467</td>\n",
       "      <td>15663252</td>\n",
       "      <td>Olisanugo</td>\n",
       "      <td>850</td>\n",
       "      <td>Spain</td>\n",
       "      <td>Female</td>\n",
       "      <td>32</td>\n",
       "      <td>9.0</td>\n",
       "      <td>0.00</td>\n",
       "      <td>2</td>\n",
       "      <td>1</td>\n",
       "      <td>1</td>\n",
       "      <td>18924.92</td>\n",
       "      <td>0</td>\n",
       "    </tr>\n",
       "  </tbody>\n",
       "</table>\n",
       "</div>"
      ],
      "text/plain": [
       "     RowNumber  CustomerId     Surname  CreditScore Geography  Gender  Age  \\\n",
       "4            5    15737888    Mitchell          850     Spain  Female   43   \n",
       "38          39    15717426   Armstrong          850    France    Male   36   \n",
       "180        181    15716334      Rozier          850     Spain  Female   45   \n",
       "200        201    15604482   Chiemezie          850     Spain    Male   30   \n",
       "223        224    15733247   Stevenson          850    France    Male   33   \n",
       "259        260    15607178       Welch          850   Germany    Male   38   \n",
       "356        357    15611759     Simmons          850     Spain  Female   57   \n",
       "411        412    15760431        Pino          850    France    Male   38   \n",
       "451        452    15785798  Uchechukwu          850    France    Male   40   \n",
       "466        467    15663252   Olisanugo          850     Spain  Female   32   \n",
       "\n",
       "     Tenure    Balance  NumOfProducts  HasCrCard  IsActiveMember  \\\n",
       "4       2.0  125510.82              1          1               1   \n",
       "38      7.0       0.00              1          1               1   \n",
       "180     NaN  122311.21              1          1               1   \n",
       "200     2.0  141040.01              1          1               1   \n",
       "223    10.0       0.00              1          1               0   \n",
       "259     3.0   54901.01              1          1               1   \n",
       "356     8.0  126776.30              2          1               1   \n",
       "411     1.0       0.00              2          1               1   \n",
       "451     9.0       0.00              2          0               1   \n",
       "466     9.0       0.00              2          1               1   \n",
       "\n",
       "     EstimatedSalary  Exited  \n",
       "4           79084.10       0  \n",
       "38          40812.90       0  \n",
       "180         19482.50       0  \n",
       "200          5978.20       0  \n",
       "223          4861.72       1  \n",
       "259        140075.55       0  \n",
       "356        132298.49       0  \n",
       "411         80006.65       0  \n",
       "451        119232.33       0  \n",
       "466         18924.92       0  "
      ]
     },
     "execution_count": 12,
     "metadata": {},
     "output_type": "execute_result"
    }
   ],
   "source": [
    "df.query('CreditScore == 850').head(10)"
   ]
  },
  {
   "cell_type": "markdown",
   "metadata": {},
   "source": [
    "Видимых вылетов и ошибок в этих строках не видно. Давайте попробуем проверить предположение, что рейтинг 850 присваивается по умолчанию. И со временем может снижаться, возможно это коррелирует с возрастом (чем ты старше, тем вероятнее ситуации, когда тебе понижают рейтинг) и с количеством продуктов (чем больше продуктов, тем больше данных для изучения и возможности понизить твой рейтинг).\n",
    "\n",
    "Посмотрим на нашу выборку, где рейтинг максимальный. И на остальные строки. Начнем с чила продуктов."
   ]
  },
  {
   "cell_type": "code",
   "execution_count": 13,
   "metadata": {},
   "outputs": [
    {
     "data": {
      "text/plain": [
       "1    120\n",
       "2    108\n",
       "3      3\n",
       "4      2\n",
       "Name: NumOfProducts, dtype: int64"
      ]
     },
     "execution_count": 13,
     "metadata": {},
     "output_type": "execute_result"
    }
   ],
   "source": [
    "df.query('CreditScore == 850')['NumOfProducts'].value_counts()"
   ]
  },
  {
   "cell_type": "code",
   "execution_count": 14,
   "metadata": {},
   "outputs": [
    {
     "data": {
      "text/plain": [
       "1    4964\n",
       "2    4482\n",
       "3     263\n",
       "4      58\n",
       "Name: NumOfProducts, dtype: int64"
      ]
     },
     "execution_count": 14,
     "metadata": {},
     "output_type": "execute_result"
    }
   ],
   "source": [
    "df.query('CreditScore < 850')['NumOfProducts'].value_counts()"
   ]
  },
  {
   "cell_type": "markdown",
   "metadata": {},
   "source": [
    "Посмотрим на доли."
   ]
  },
  {
   "cell_type": "code",
   "execution_count": 15,
   "metadata": {},
   "outputs": [
    {
     "data": {
      "text/plain": [
       "1    0.515021\n",
       "2    0.463519\n",
       "3    0.012876\n",
       "4    0.008584\n",
       "Name: NumOfProducts, dtype: float64"
      ]
     },
     "execution_count": 15,
     "metadata": {},
     "output_type": "execute_result"
    }
   ],
   "source": [
    "df.query('CreditScore == 850')['NumOfProducts'].value_counts() / len(df.query('CreditScore == 850')['NumOfProducts'])"
   ]
  },
  {
   "cell_type": "code",
   "execution_count": 16,
   "metadata": {},
   "outputs": [
    {
     "data": {
      "text/plain": [
       "1    0.508242\n",
       "2    0.458892\n",
       "3    0.026927\n",
       "4    0.005938\n",
       "Name: NumOfProducts, dtype: float64"
      ]
     },
     "execution_count": 16,
     "metadata": {},
     "output_type": "execute_result"
    }
   ],
   "source": [
    "df.query('CreditScore < 850')['NumOfProducts'].value_counts() / len(df.query('CreditScore < 850')['NumOfProducts'])"
   ]
  },
  {
   "cell_type": "markdown",
   "metadata": {},
   "source": [
    "Да, там где рейтинг максимальный, доля строк с маленьким количеством продуктов 1 или 2 - больше, но не значительно. Всего на 1%.\n",
    "\n",
    "Посмотрим на возраст. Построим гистограммы с чилом корзин 75 (минимальный и максимальный возраста - 18 и 92) "
   ]
  },
  {
   "cell_type": "code",
   "execution_count": 17,
   "metadata": {},
   "outputs": [
    {
     "data": {
      "image/png": "[encoded data removed]",
      "text/plain": [
       "<Figure size 432x288 with 1 Axes>"
      ]
     },
     "metadata": {
      "needs_background": "light"
     },
     "output_type": "display_data"
    },
    {
     "data": {
      "image/png": "[encoded data removed]",
      "text/plain": [
       "<Figure size 432x288 with 1 Axes>"
      ]
     },
     "metadata": {
      "needs_background": "light"
     },
     "output_type": "display_data"
    }
   ],
   "source": [
    "plt.title(\"Возраст клиентов с максимальным рейтингом\", fontweight='bold', size='medium')\n",
    "plt.ylabel(\"Частота, шт\")\n",
    "plt.xlim(18, 92)\n",
    "plt.ylim(0, 0.1)\n",
    "sns.distplot(a=df.query('CreditScore == 850')['Age'], kde=True, bins=75, rug=False,\n",
    "             axlabel=\"Возраст клиентов с максимальным рейтингом, шт\")\n",
    "plt.show()\n",
    "\n",
    "plt.title(\"Возраст клиентов с меньшим максимума рейтингом\", fontweight='bold', size='medium')\n",
    "plt.ylabel(\"Частота, шт\")\n",
    "plt.xlim(18, 92)\n",
    "plt.ylim(0, 0.1)\n",
    "sns.distplot(\n",
    "    a=df.query('CreditScore < 850')['Age'], kde=True, rug=False, bins=75,\n",
    "    axlabel=\"Возраст клиентов с меньшим максимума рейтингом, шт\")\n",
    "plt.show()"
   ]
  },
  {
   "cell_type": "markdown",
   "metadata": {},
   "source": [
    "С одной стороны, видимых различий по тому, как распределились данные сильно нет между этими группами. С другой стороны, видим, что в диапазоне от 30 до 40 лет есть значения с большей частотойв группе с максимальным рейтингом.\n",
    "\n",
    "В любом случае, при изучении этих данных глубже - все больше видно, что они не похожи на ошибки. Скорее всего этот всплеск, как мы и предполагали в начале, связан с тем, что рейтинг ограничен этим значением. И если не был бы ограничен, то хвост распределялся бы более равномерно. Скорее всего рейтинг образуется как максимальный по умолчанию, и снижается из-за других факторов. Эта вероятная причина пика.\n",
    "\n",
    "Менять данный столбец не будем, и также будем его использовать как признак для обучения."
   ]
  },
  {
   "cell_type": "markdown",
   "metadata": {},
   "source": [
    "#### Столбцы 'Geography', 'Gender'"
   ]
  },
  {
   "cell_type": "markdown",
   "metadata": {},
   "source": [
    "Из общей информации нам известно, что пропусков по столбцам с географией и гендером нет. Но помотрим на то, какие значения они могут принимать."
   ]
  },
  {
   "cell_type": "code",
   "execution_count": 18,
   "metadata": {},
   "outputs": [
    {
     "data": {
      "text/plain": [
       "France     5014\n",
       "Germany    2509\n",
       "Spain      2477\n",
       "Name: Geography, dtype: int64"
      ]
     },
     "execution_count": 18,
     "metadata": {},
     "output_type": "execute_result"
    }
   ],
   "source": [
    "df['Geography'].value_counts()"
   ]
  },
  {
   "cell_type": "code",
   "execution_count": 19,
   "metadata": {},
   "outputs": [
    {
     "data": {
      "text/plain": [
       "Male      5457\n",
       "Female    4543\n",
       "Name: Gender, dtype: int64"
      ]
     },
     "execution_count": 19,
     "metadata": {},
     "output_type": "execute_result"
    }
   ],
   "source": [
    "df['Gender'].value_counts()"
   ]
  },
  {
   "cell_type": "markdown",
   "metadata": {},
   "source": [
    "Видим, что по странам проживания всего 3 значения, а по полу 2. Это хорошо, это значит, что мы сможем использовать прямое или порядковое кодирование для их обработки и последующего использования для модели."
   ]
  },
  {
   "cell_type": "markdown",
   "metadata": {},
   "source": [
    "#### Столбцы 'Age', 'Tenure'"
   ]
  },
  {
   "cell_type": "markdown",
   "metadata": {},
   "source": [
    "Посмотрим на столбцы 'Age', 'Tenure'. При изучении общей информации мы узнали, что столбец с числом лет, когда человек являлся клиентом, имеет пропуски (909 строк). \n",
    "\n",
    "Посмотрим сначала внимательнее на то, как распределены данные в этих столбцах."
   ]
  },
  {
   "cell_type": "code",
   "execution_count": 20,
   "metadata": {},
   "outputs": [
    {
     "data": {
      "image/png": "[encoded data removed]",
      "text/plain": [
       "<Figure size 432x288 with 1 Axes>"
      ]
     },
     "metadata": {
      "needs_background": "light"
     },
     "output_type": "display_data"
    }
   ],
   "source": [
    "plt.title(\"Возраст клиентов\", fontweight='bold', size='medium')\n",
    "plt.ylabel(\"Частота, шт\")\n",
    "plt.xlim(18, 92)\n",
    "plt.ylim(0, 0.1)\n",
    "sns.distplot(a=df['Age'], kde=True, bins=75, rug=False,\n",
    "             axlabel=\"Возраст клиентов, шт\")\n",
    "plt.show()"
   ]
  },
  {
   "cell_type": "markdown",
   "metadata": {},
   "source": [
    "По возрасту мы уже смотрели на эти данные, но в разбивке на 2 группы. Выше же график по всем даннным. Всплесков и вылетов нет."
   ]
  },
  {
   "cell_type": "code",
   "execution_count": 21,
   "metadata": {},
   "outputs": [
    {
     "data": {
      "image/png": "[encoded data removed]",
      "text/plain": [
       "<Figure size 432x288 with 1 Axes>"
      ]
     },
     "metadata": {
      "needs_background": "light"
     },
     "output_type": "display_data"
    }
   ],
   "source": [
    "plt.title(\"Сколько лет человек является клиентом банка\", fontweight='bold', size='medium')\n",
    "plt.ylabel(\"Частота, шт\")\n",
    "sns.distplot(a=df.query('Tenure.notnull()')['Tenure'], kde=False, rug=False,\n",
    "             axlabel=\"Сколько лет человек является клиентом банка, шт\")\n",
    "plt.show()"
   ]
  },
  {
   "cell_type": "markdown",
   "metadata": {},
   "source": [
    "По столбцу 'Tenure' еще более равномерная картина. По значениям от 1 до 9 почти одинаковые доли. Только значений 0 и 10 значений в 2 раза меньше."
   ]
  },
  {
   "cell_type": "code",
   "execution_count": 22,
   "metadata": {},
   "outputs": [
    {
     "data": {
      "text/html": [
       "<div>\n",
       "<style scoped>\n",
       "    .dataframe tbody tr th:only-of-type {\n",
       "        vertical-align: middle;\n",
       "    }\n",
       "\n",
       "    .dataframe tbody tr th {\n",
       "        vertical-align: top;\n",
       "    }\n",
       "\n",
       "    .dataframe thead th {\n",
       "        text-align: right;\n",
       "    }\n",
       "</style>\n",
       "<table border=\"1\" class=\"dataframe\">\n",
       "  <thead>\n",
       "    <tr style=\"text-align: right;\">\n",
       "      <th></th>\n",
       "      <th>RowNumber</th>\n",
       "      <th>CustomerId</th>\n",
       "      <th>Surname</th>\n",
       "      <th>CreditScore</th>\n",
       "      <th>Geography</th>\n",
       "      <th>Gender</th>\n",
       "      <th>Age</th>\n",
       "      <th>Tenure</th>\n",
       "      <th>Balance</th>\n",
       "      <th>NumOfProducts</th>\n",
       "      <th>HasCrCard</th>\n",
       "      <th>IsActiveMember</th>\n",
       "      <th>EstimatedSalary</th>\n",
       "      <th>Exited</th>\n",
       "    </tr>\n",
       "  </thead>\n",
       "  <tbody>\n",
       "    <tr>\n",
       "      <td>29</td>\n",
       "      <td>30</td>\n",
       "      <td>15656300</td>\n",
       "      <td>Lucciano</td>\n",
       "      <td>411</td>\n",
       "      <td>France</td>\n",
       "      <td>Male</td>\n",
       "      <td>29</td>\n",
       "      <td>0.0</td>\n",
       "      <td>59697.17</td>\n",
       "      <td>2</td>\n",
       "      <td>1</td>\n",
       "      <td>1</td>\n",
       "      <td>53483.21</td>\n",
       "      <td>0</td>\n",
       "    </tr>\n",
       "    <tr>\n",
       "      <td>35</td>\n",
       "      <td>36</td>\n",
       "      <td>15794171</td>\n",
       "      <td>Lombardo</td>\n",
       "      <td>475</td>\n",
       "      <td>France</td>\n",
       "      <td>Female</td>\n",
       "      <td>45</td>\n",
       "      <td>0.0</td>\n",
       "      <td>134264.04</td>\n",
       "      <td>1</td>\n",
       "      <td>1</td>\n",
       "      <td>0</td>\n",
       "      <td>27822.99</td>\n",
       "      <td>1</td>\n",
       "    </tr>\n",
       "    <tr>\n",
       "      <td>57</td>\n",
       "      <td>58</td>\n",
       "      <td>15647091</td>\n",
       "      <td>Endrizzi</td>\n",
       "      <td>725</td>\n",
       "      <td>Germany</td>\n",
       "      <td>Male</td>\n",
       "      <td>19</td>\n",
       "      <td>0.0</td>\n",
       "      <td>75888.20</td>\n",
       "      <td>1</td>\n",
       "      <td>0</td>\n",
       "      <td>0</td>\n",
       "      <td>45613.75</td>\n",
       "      <td>0</td>\n",
       "    </tr>\n",
       "    <tr>\n",
       "      <td>72</td>\n",
       "      <td>73</td>\n",
       "      <td>15812518</td>\n",
       "      <td>Palermo</td>\n",
       "      <td>657</td>\n",
       "      <td>Spain</td>\n",
       "      <td>Female</td>\n",
       "      <td>37</td>\n",
       "      <td>0.0</td>\n",
       "      <td>163607.18</td>\n",
       "      <td>1</td>\n",
       "      <td>0</td>\n",
       "      <td>1</td>\n",
       "      <td>44203.55</td>\n",
       "      <td>0</td>\n",
       "    </tr>\n",
       "    <tr>\n",
       "      <td>127</td>\n",
       "      <td>128</td>\n",
       "      <td>15782688</td>\n",
       "      <td>Piccio</td>\n",
       "      <td>625</td>\n",
       "      <td>Germany</td>\n",
       "      <td>Male</td>\n",
       "      <td>56</td>\n",
       "      <td>0.0</td>\n",
       "      <td>148507.24</td>\n",
       "      <td>1</td>\n",
       "      <td>1</td>\n",
       "      <td>0</td>\n",
       "      <td>46824.08</td>\n",
       "      <td>1</td>\n",
       "    </tr>\n",
       "  </tbody>\n",
       "</table>\n",
       "</div>"
      ],
      "text/plain": [
       "     RowNumber  CustomerId   Surname  CreditScore Geography  Gender  Age  \\\n",
       "29          30    15656300  Lucciano          411    France    Male   29   \n",
       "35          36    15794171  Lombardo          475    France  Female   45   \n",
       "57          58    15647091  Endrizzi          725   Germany    Male   19   \n",
       "72          73    15812518   Palermo          657     Spain  Female   37   \n",
       "127        128    15782688    Piccio          625   Germany    Male   56   \n",
       "\n",
       "     Tenure    Balance  NumOfProducts  HasCrCard  IsActiveMember  \\\n",
       "29      0.0   59697.17              2          1               1   \n",
       "35      0.0  134264.04              1          1               0   \n",
       "57      0.0   75888.20              1          0               0   \n",
       "72      0.0  163607.18              1          0               1   \n",
       "127     0.0  148507.24              1          1               0   \n",
       "\n",
       "     EstimatedSalary  Exited  \n",
       "29          53483.21       0  \n",
       "35          27822.99       1  \n",
       "57          45613.75       0  \n",
       "72          44203.55       0  \n",
       "127         46824.08       1  "
      ]
     },
     "execution_count": 22,
     "metadata": {},
     "output_type": "execute_result"
    }
   ],
   "source": [
    "df.query('Tenure == 0').head()"
   ]
  },
  {
   "cell_type": "code",
   "execution_count": 23,
   "metadata": {},
   "outputs": [
    {
     "data": {
      "text/html": [
       "<div>\n",
       "<style scoped>\n",
       "    .dataframe tbody tr th:only-of-type {\n",
       "        vertical-align: middle;\n",
       "    }\n",
       "\n",
       "    .dataframe tbody tr th {\n",
       "        vertical-align: top;\n",
       "    }\n",
       "\n",
       "    .dataframe thead th {\n",
       "        text-align: right;\n",
       "    }\n",
       "</style>\n",
       "<table border=\"1\" class=\"dataframe\">\n",
       "  <thead>\n",
       "    <tr style=\"text-align: right;\">\n",
       "      <th></th>\n",
       "      <th>RowNumber</th>\n",
       "      <th>CustomerId</th>\n",
       "      <th>Surname</th>\n",
       "      <th>CreditScore</th>\n",
       "      <th>Geography</th>\n",
       "      <th>Gender</th>\n",
       "      <th>Age</th>\n",
       "      <th>Tenure</th>\n",
       "      <th>Balance</th>\n",
       "      <th>NumOfProducts</th>\n",
       "      <th>HasCrCard</th>\n",
       "      <th>IsActiveMember</th>\n",
       "      <th>EstimatedSalary</th>\n",
       "      <th>Exited</th>\n",
       "    </tr>\n",
       "  </thead>\n",
       "  <tbody>\n",
       "    <tr>\n",
       "      <td>12</td>\n",
       "      <td>13</td>\n",
       "      <td>15632264</td>\n",
       "      <td>Kay</td>\n",
       "      <td>476</td>\n",
       "      <td>France</td>\n",
       "      <td>Female</td>\n",
       "      <td>34</td>\n",
       "      <td>10.0</td>\n",
       "      <td>0.00</td>\n",
       "      <td>2</td>\n",
       "      <td>1</td>\n",
       "      <td>0</td>\n",
       "      <td>26260.98</td>\n",
       "      <td>0</td>\n",
       "    </tr>\n",
       "    <tr>\n",
       "      <td>50</td>\n",
       "      <td>51</td>\n",
       "      <td>15616550</td>\n",
       "      <td>Chidiebele</td>\n",
       "      <td>698</td>\n",
       "      <td>Germany</td>\n",
       "      <td>Male</td>\n",
       "      <td>44</td>\n",
       "      <td>10.0</td>\n",
       "      <td>116363.37</td>\n",
       "      <td>2</td>\n",
       "      <td>1</td>\n",
       "      <td>0</td>\n",
       "      <td>198059.16</td>\n",
       "      <td>0</td>\n",
       "    </tr>\n",
       "    <tr>\n",
       "      <td>67</td>\n",
       "      <td>68</td>\n",
       "      <td>15641582</td>\n",
       "      <td>Chibugo</td>\n",
       "      <td>735</td>\n",
       "      <td>Germany</td>\n",
       "      <td>Male</td>\n",
       "      <td>43</td>\n",
       "      <td>10.0</td>\n",
       "      <td>123180.01</td>\n",
       "      <td>2</td>\n",
       "      <td>1</td>\n",
       "      <td>1</td>\n",
       "      <td>196673.28</td>\n",
       "      <td>0</td>\n",
       "    </tr>\n",
       "    <tr>\n",
       "      <td>79</td>\n",
       "      <td>80</td>\n",
       "      <td>15803136</td>\n",
       "      <td>Postle</td>\n",
       "      <td>416</td>\n",
       "      <td>Germany</td>\n",
       "      <td>Female</td>\n",
       "      <td>41</td>\n",
       "      <td>10.0</td>\n",
       "      <td>122189.66</td>\n",
       "      <td>2</td>\n",
       "      <td>1</td>\n",
       "      <td>0</td>\n",
       "      <td>98301.61</td>\n",
       "      <td>0</td>\n",
       "    </tr>\n",
       "    <tr>\n",
       "      <td>92</td>\n",
       "      <td>93</td>\n",
       "      <td>15809248</td>\n",
       "      <td>Cole</td>\n",
       "      <td>524</td>\n",
       "      <td>France</td>\n",
       "      <td>Female</td>\n",
       "      <td>36</td>\n",
       "      <td>10.0</td>\n",
       "      <td>0.00</td>\n",
       "      <td>2</td>\n",
       "      <td>1</td>\n",
       "      <td>0</td>\n",
       "      <td>109614.57</td>\n",
       "      <td>0</td>\n",
       "    </tr>\n",
       "  </tbody>\n",
       "</table>\n",
       "</div>"
      ],
      "text/plain": [
       "    RowNumber  CustomerId     Surname  CreditScore Geography  Gender  Age  \\\n",
       "12         13    15632264         Kay          476    France  Female   34   \n",
       "50         51    15616550  Chidiebele          698   Germany    Male   44   \n",
       "67         68    15641582     Chibugo          735   Germany    Male   43   \n",
       "79         80    15803136      Postle          416   Germany  Female   41   \n",
       "92         93    15809248        Cole          524    France  Female   36   \n",
       "\n",
       "    Tenure    Balance  NumOfProducts  HasCrCard  IsActiveMember  \\\n",
       "12    10.0       0.00              2          1               0   \n",
       "50    10.0  116363.37              2          1               0   \n",
       "67    10.0  123180.01              2          1               1   \n",
       "79    10.0  122189.66              2          1               0   \n",
       "92    10.0       0.00              2          1               0   \n",
       "\n",
       "    EstimatedSalary  Exited  \n",
       "12         26260.98       0  \n",
       "50        198059.16       0  \n",
       "67        196673.28       0  \n",
       "79         98301.61       0  \n",
       "92        109614.57       0  "
      ]
     },
     "execution_count": 23,
     "metadata": {},
     "output_type": "execute_result"
    }
   ],
   "source": [
    "df.query('Tenure == 10').head()"
   ]
  },
  {
   "cell_type": "markdown",
   "metadata": {},
   "source": [
    "Попробуем найти какие-то зависимости, по которым мы можем восстановить пропуски в 'Tenure'. Возможно уменьшенные значения 0 и 10 соответсвуют каким-то подгруппам тут. Тогда возможно при заполнении пропусков мы сможем использовать более сложную логику. \n",
    "\n",
    "Из возможных предположений: \n",
    "- Id клиента часто выдается по мере регистрации клиентов и иногда можно по нему понять как давно клиент зарегистрирован в банке.\n",
    "- Возможно есть зависимость от возраста и сколько лет человек является клиентом."
   ]
  },
  {
   "cell_type": "code",
   "execution_count": 24,
   "metadata": {},
   "outputs": [
    {
     "data": {
      "image/png": "[encoded data removed]",
      "text/plain": [
       "<Figure size 432x288 with 1 Axes>"
      ]
     },
     "metadata": {
      "needs_background": "light"
     },
     "output_type": "display_data"
    }
   ],
   "source": [
    "df.query('Tenure.notnull()').plot(\n",
    "        x='CustomerId', y='Tenure', kind='scatter'\n",
    ")  \n",
    "plt.title(\"Диаграмма рассеивания, Сколько лет клиент и код клиента\", fontweight='bold', size='large')\n",
    "plt.ylabel(\"Сколько лет клиент, годы\")\n",
    "plt.xlabel(\"Код клиента, годы\")\n",
    "plt.show()"
   ]
  },
  {
   "cell_type": "markdown",
   "metadata": {},
   "source": [
    "К сожалению, данные распределены очень равномерно. Явно Id клиента не зависит от продолжительности того, как давно человек является клиентом банка."
   ]
  },
  {
   "cell_type": "code",
   "execution_count": 25,
   "metadata": {},
   "outputs": [
    {
     "data": {
      "image/png": "[encoded data removed]",
      "text/plain": [
       "<Figure size 432x288 with 1 Axes>"
      ]
     },
     "metadata": {
      "needs_background": "light"
     },
     "output_type": "display_data"
    }
   ],
   "source": [
    "df.query('Tenure.notnull()').plot(\n",
    "        x='Age', y='Tenure', kind='scatter'\n",
    ")  \n",
    "plt.title(\"Диаграмма рассеивания, сколько лет клиент и возраст\", fontweight='bold', size='large')\n",
    "plt.ylabel(\"Сколько лет клиент, годы\")\n",
    "plt.xlabel(\"Возраст, годы\")\n",
    "plt.show()"
   ]
  },
  {
   "cell_type": "markdown",
   "metadata": {},
   "source": [
    "По прежнему не видно явной зависимости, но линии различаются между собой. И явно видно, что хвосты более редкие. Попробуем построить ящик с усами для этих величин."
   ]
  },
  {
   "cell_type": "code",
   "execution_count": 26,
   "metadata": {},
   "outputs": [
    {
     "data": {
      "image/png": "[encoded data removed]",
      "text/plain": [
       "<Figure size 1080x360 with 1 Axes>"
      ]
     },
     "metadata": {
      "needs_background": "light"
     },
     "output_type": "display_data"
    }
   ],
   "source": [
    "np.warnings.filterwarnings('ignore', category=np.VisibleDeprecationWarning) \n",
    "df.query('Tenure.notnull()').reset_index().boxplot(\n",
    "    column='Age', by='Tenure', vert=False, figsize=(15,5)\n",
    ")\n",
    "\n",
    "plt.show()"
   ]
  },
  {
   "cell_type": "markdown",
   "metadata": {},
   "source": [
    "И на ящик с усами для пропущенных значений."
   ]
  },
  {
   "cell_type": "code",
   "execution_count": 27,
   "metadata": {},
   "outputs": [
    {
     "data": {
      "image/png": "[encoded data removed]",
      "text/plain": [
       "<Figure size 1080x108 with 1 Axes>"
      ]
     },
     "metadata": {
      "needs_background": "light"
     },
     "output_type": "display_data"
    }
   ],
   "source": [
    "np.warnings.filterwarnings('ignore', category=np.VisibleDeprecationWarning) \n",
    "df.query('Tenure.isnull()').reset_index().boxplot(\n",
    "    column='Age', vert=False, figsize=(15, 1.5)\n",
    ")\n",
    "\n",
    "plt.show()"
   ]
  },
  {
   "cell_type": "markdown",
   "metadata": {},
   "source": [
    "К сожалению, и тут не так видна общая зависимость. По всем значениям 'Tenure' данные распределены похожи. Медиана около 35-40 лет.  \n",
    "Но зато видно, что после 60 лет точки встречаются реже намного. При замене пропусков нельзя нарушать этот баланс.\n",
    "\n",
    "Попробуем посмотреть еще на эту диаграмму с измененными осями, но для начала сгруппироуем возраст по группам. "
   ]
  },
  {
   "cell_type": "code",
   "execution_count": 28,
   "metadata": {},
   "outputs": [],
   "source": [
    "df['GroupByAge'] = np.floor(df['Age'] / 10)"
   ]
  },
  {
   "cell_type": "code",
   "execution_count": 29,
   "metadata": {},
   "outputs": [
    {
     "data": {
      "image/png": "[encoded data removed]",
      "text/plain": [
       "<Figure size 1080x360 with 1 Axes>"
      ]
     },
     "metadata": {
      "needs_background": "light"
     },
     "output_type": "display_data"
    }
   ],
   "source": [
    "np.warnings.filterwarnings('ignore', category=np.VisibleDeprecationWarning) \n",
    "df.query('Tenure.notnull()').reset_index().boxplot(\n",
    "    column='Tenure', by='GroupByAge', vert=True, figsize=(15,5)\n",
    ")\n",
    "\n",
    "plt.show()"
   ]
  },
  {
   "cell_type": "code",
   "execution_count": 30,
   "metadata": {},
   "outputs": [
    {
     "data": {
      "text/plain": [
       "GroupByAge\n",
       "1.0    5.0\n",
       "2.0    5.0\n",
       "3.0    5.0\n",
       "4.0    5.0\n",
       "5.0    5.0\n",
       "6.0    5.0\n",
       "7.0    5.0\n",
       "8.0    6.0\n",
       "9.0    1.0\n",
       "Name: Tenure, dtype: float64"
      ]
     },
     "execution_count": 30,
     "metadata": {},
     "output_type": "execute_result"
    }
   ],
   "source": [
    "df.groupby('GroupByAge')['Tenure'].median()"
   ]
  },
  {
   "cell_type": "markdown",
   "metadata": {},
   "source": [
    "К сожалению, медиана везде примерно одинаковая. И если мы будем менять на медиану пов овзрасту, то мы искусствено увеличим число строк с значением 5, и это не очень хорошо.\n",
    "\n",
    "Посмотрим на матрицу корреряции и распреденение с другими признаками. Если не найдем другой зависимости попробуем заменить пропуски случайным значением."
   ]
  },
  {
   "cell_type": "code",
   "execution_count": 31,
   "metadata": {},
   "outputs": [
    {
     "data": {
      "text/html": [
       "<div>\n",
       "<style scoped>\n",
       "    .dataframe tbody tr th:only-of-type {\n",
       "        vertical-align: middle;\n",
       "    }\n",
       "\n",
       "    .dataframe tbody tr th {\n",
       "        vertical-align: top;\n",
       "    }\n",
       "\n",
       "    .dataframe thead th {\n",
       "        text-align: right;\n",
       "    }\n",
       "</style>\n",
       "<table border=\"1\" class=\"dataframe\">\n",
       "  <thead>\n",
       "    <tr style=\"text-align: right;\">\n",
       "      <th></th>\n",
       "      <th>RowNumber</th>\n",
       "      <th>CustomerId</th>\n",
       "      <th>CreditScore</th>\n",
       "      <th>Age</th>\n",
       "      <th>Tenure</th>\n",
       "      <th>Balance</th>\n",
       "      <th>NumOfProducts</th>\n",
       "      <th>HasCrCard</th>\n",
       "      <th>IsActiveMember</th>\n",
       "      <th>EstimatedSalary</th>\n",
       "      <th>Exited</th>\n",
       "      <th>GroupByAge</th>\n",
       "    </tr>\n",
       "  </thead>\n",
       "  <tbody>\n",
       "    <tr>\n",
       "      <td>RowNumber</td>\n",
       "      <td>1.000000</td>\n",
       "      <td>0.004202</td>\n",
       "      <td>0.005840</td>\n",
       "      <td>0.000783</td>\n",
       "      <td>-0.007322</td>\n",
       "      <td>-0.009067</td>\n",
       "      <td>0.007246</td>\n",
       "      <td>0.000599</td>\n",
       "      <td>0.012044</td>\n",
       "      <td>-0.005988</td>\n",
       "      <td>-0.016571</td>\n",
       "      <td>0.000871</td>\n",
       "    </tr>\n",
       "    <tr>\n",
       "      <td>CustomerId</td>\n",
       "      <td>0.004202</td>\n",
       "      <td>1.000000</td>\n",
       "      <td>0.005308</td>\n",
       "      <td>0.009497</td>\n",
       "      <td>-0.021418</td>\n",
       "      <td>-0.012419</td>\n",
       "      <td>0.016972</td>\n",
       "      <td>-0.014025</td>\n",
       "      <td>0.001665</td>\n",
       "      <td>0.015271</td>\n",
       "      <td>-0.006248</td>\n",
       "      <td>0.007181</td>\n",
       "    </tr>\n",
       "    <tr>\n",
       "      <td>CreditScore</td>\n",
       "      <td>0.005840</td>\n",
       "      <td>0.005308</td>\n",
       "      <td>1.000000</td>\n",
       "      <td>-0.003965</td>\n",
       "      <td>-0.000062</td>\n",
       "      <td>0.006268</td>\n",
       "      <td>0.012238</td>\n",
       "      <td>-0.005458</td>\n",
       "      <td>0.025651</td>\n",
       "      <td>-0.001384</td>\n",
       "      <td>-0.027094</td>\n",
       "      <td>-0.005077</td>\n",
       "    </tr>\n",
       "    <tr>\n",
       "      <td>Age</td>\n",
       "      <td>0.000783</td>\n",
       "      <td>0.009497</td>\n",
       "      <td>-0.003965</td>\n",
       "      <td>1.000000</td>\n",
       "      <td>-0.013134</td>\n",
       "      <td>0.028308</td>\n",
       "      <td>-0.030680</td>\n",
       "      <td>-0.011721</td>\n",
       "      <td>0.085472</td>\n",
       "      <td>-0.007201</td>\n",
       "      <td>0.285323</td>\n",
       "      <td>0.964005</td>\n",
       "    </tr>\n",
       "    <tr>\n",
       "      <td>Tenure</td>\n",
       "      <td>-0.007322</td>\n",
       "      <td>-0.021418</td>\n",
       "      <td>-0.000062</td>\n",
       "      <td>-0.013134</td>\n",
       "      <td>1.000000</td>\n",
       "      <td>-0.007911</td>\n",
       "      <td>0.011979</td>\n",
       "      <td>0.027232</td>\n",
       "      <td>-0.032178</td>\n",
       "      <td>0.010520</td>\n",
       "      <td>-0.016761</td>\n",
       "      <td>-0.013407</td>\n",
       "    </tr>\n",
       "    <tr>\n",
       "      <td>Balance</td>\n",
       "      <td>-0.009067</td>\n",
       "      <td>-0.012419</td>\n",
       "      <td>0.006268</td>\n",
       "      <td>0.028308</td>\n",
       "      <td>-0.007911</td>\n",
       "      <td>1.000000</td>\n",
       "      <td>-0.304180</td>\n",
       "      <td>-0.014858</td>\n",
       "      <td>-0.010084</td>\n",
       "      <td>0.012797</td>\n",
       "      <td>0.118533</td>\n",
       "      <td>0.027210</td>\n",
       "    </tr>\n",
       "    <tr>\n",
       "      <td>NumOfProducts</td>\n",
       "      <td>0.007246</td>\n",
       "      <td>0.016972</td>\n",
       "      <td>0.012238</td>\n",
       "      <td>-0.030680</td>\n",
       "      <td>0.011979</td>\n",
       "      <td>-0.304180</td>\n",
       "      <td>1.000000</td>\n",
       "      <td>0.003183</td>\n",
       "      <td>0.009612</td>\n",
       "      <td>0.014204</td>\n",
       "      <td>-0.047820</td>\n",
       "      <td>-0.029216</td>\n",
       "    </tr>\n",
       "    <tr>\n",
       "      <td>HasCrCard</td>\n",
       "      <td>0.000599</td>\n",
       "      <td>-0.014025</td>\n",
       "      <td>-0.005458</td>\n",
       "      <td>-0.011721</td>\n",
       "      <td>0.027232</td>\n",
       "      <td>-0.014858</td>\n",
       "      <td>0.003183</td>\n",
       "      <td>1.000000</td>\n",
       "      <td>-0.011866</td>\n",
       "      <td>-0.009933</td>\n",
       "      <td>-0.007138</td>\n",
       "      <td>-0.015027</td>\n",
       "    </tr>\n",
       "    <tr>\n",
       "      <td>IsActiveMember</td>\n",
       "      <td>0.012044</td>\n",
       "      <td>0.001665</td>\n",
       "      <td>0.025651</td>\n",
       "      <td>0.085472</td>\n",
       "      <td>-0.032178</td>\n",
       "      <td>-0.010084</td>\n",
       "      <td>0.009612</td>\n",
       "      <td>-0.011866</td>\n",
       "      <td>1.000000</td>\n",
       "      <td>-0.011421</td>\n",
       "      <td>-0.156128</td>\n",
       "      <td>0.086522</td>\n",
       "    </tr>\n",
       "    <tr>\n",
       "      <td>EstimatedSalary</td>\n",
       "      <td>-0.005988</td>\n",
       "      <td>0.015271</td>\n",
       "      <td>-0.001384</td>\n",
       "      <td>-0.007201</td>\n",
       "      <td>0.010520</td>\n",
       "      <td>0.012797</td>\n",
       "      <td>0.014204</td>\n",
       "      <td>-0.009933</td>\n",
       "      <td>-0.011421</td>\n",
       "      <td>1.000000</td>\n",
       "      <td>0.012097</td>\n",
       "      <td>-0.002122</td>\n",
       "    </tr>\n",
       "    <tr>\n",
       "      <td>Exited</td>\n",
       "      <td>-0.016571</td>\n",
       "      <td>-0.006248</td>\n",
       "      <td>-0.027094</td>\n",
       "      <td>0.285323</td>\n",
       "      <td>-0.016761</td>\n",
       "      <td>0.118533</td>\n",
       "      <td>-0.047820</td>\n",
       "      <td>-0.007138</td>\n",
       "      <td>-0.156128</td>\n",
       "      <td>0.012097</td>\n",
       "      <td>1.000000</td>\n",
       "      <td>0.275891</td>\n",
       "    </tr>\n",
       "    <tr>\n",
       "      <td>GroupByAge</td>\n",
       "      <td>0.000871</td>\n",
       "      <td>0.007181</td>\n",
       "      <td>-0.005077</td>\n",
       "      <td>0.964005</td>\n",
       "      <td>-0.013407</td>\n",
       "      <td>0.027210</td>\n",
       "      <td>-0.029216</td>\n",
       "      <td>-0.015027</td>\n",
       "      <td>0.086522</td>\n",
       "      <td>-0.002122</td>\n",
       "      <td>0.275891</td>\n",
       "      <td>1.000000</td>\n",
       "    </tr>\n",
       "  </tbody>\n",
       "</table>\n",
       "</div>"
      ],
      "text/plain": [
       "                 RowNumber  CustomerId  CreditScore       Age    Tenure  \\\n",
       "RowNumber         1.000000    0.004202     0.005840  0.000783 -0.007322   \n",
       "CustomerId        0.004202    1.000000     0.005308  0.009497 -0.021418   \n",
       "CreditScore       0.005840    0.005308     1.000000 -0.003965 -0.000062   \n",
       "Age               0.000783    0.009497    -0.003965  1.000000 -0.013134   \n",
       "Tenure           -0.007322   -0.021418    -0.000062 -0.013134  1.000000   \n",
       "Balance          -0.009067   -0.012419     0.006268  0.028308 -0.007911   \n",
       "NumOfProducts     0.007246    0.016972     0.012238 -0.030680  0.011979   \n",
       "HasCrCard         0.000599   -0.014025    -0.005458 -0.011721  0.027232   \n",
       "IsActiveMember    0.012044    0.001665     0.025651  0.085472 -0.032178   \n",
       "EstimatedSalary  -0.005988    0.015271    -0.001384 -0.007201  0.010520   \n",
       "Exited           -0.016571   -0.006248    -0.027094  0.285323 -0.016761   \n",
       "GroupByAge        0.000871    0.007181    -0.005077  0.964005 -0.013407   \n",
       "\n",
       "                  Balance  NumOfProducts  HasCrCard  IsActiveMember  \\\n",
       "RowNumber       -0.009067       0.007246   0.000599        0.012044   \n",
       "CustomerId      -0.012419       0.016972  -0.014025        0.001665   \n",
       "CreditScore      0.006268       0.012238  -0.005458        0.025651   \n",
       "Age              0.028308      -0.030680  -0.011721        0.085472   \n",
       "Tenure          -0.007911       0.011979   0.027232       -0.032178   \n",
       "Balance          1.000000      -0.304180  -0.014858       -0.010084   \n",
       "NumOfProducts   -0.304180       1.000000   0.003183        0.009612   \n",
       "HasCrCard       -0.014858       0.003183   1.000000       -0.011866   \n",
       "IsActiveMember  -0.010084       0.009612  -0.011866        1.000000   \n",
       "EstimatedSalary  0.012797       0.014204  -0.009933       -0.011421   \n",
       "Exited           0.118533      -0.047820  -0.007138       -0.156128   \n",
       "GroupByAge       0.027210      -0.029216  -0.015027        0.086522   \n",
       "\n",
       "                 EstimatedSalary    Exited  GroupByAge  \n",
       "RowNumber              -0.005988 -0.016571    0.000871  \n",
       "CustomerId              0.015271 -0.006248    0.007181  \n",
       "CreditScore            -0.001384 -0.027094   -0.005077  \n",
       "Age                    -0.007201  0.285323    0.964005  \n",
       "Tenure                  0.010520 -0.016761   -0.013407  \n",
       "Balance                 0.012797  0.118533    0.027210  \n",
       "NumOfProducts           0.014204 -0.047820   -0.029216  \n",
       "HasCrCard              -0.009933 -0.007138   -0.015027  \n",
       "IsActiveMember         -0.011421 -0.156128    0.086522  \n",
       "EstimatedSalary         1.000000  0.012097   -0.002122  \n",
       "Exited                  0.012097  1.000000    0.275891  \n",
       "GroupByAge             -0.002122  0.275891    1.000000  "
      ]
     },
     "execution_count": 31,
     "metadata": {},
     "output_type": "execute_result"
    }
   ],
   "source": [
    "df.corr()"
   ]
  },
  {
   "cell_type": "code",
   "execution_count": 32,
   "metadata": {},
   "outputs": [
    {
     "data": {
      "image/png": "[encoded data removed]",
      "text/plain": [
       "<Figure size 778.125x180 with 4 Axes>"
      ]
     },
     "metadata": {
      "needs_background": "light"
     },
     "output_type": "display_data"
    },
    {
     "data": {
      "image/png": "[encoded data removed]",
      "text/plain": [
       "<Figure size 778.125x180 with 4 Axes>"
      ]
     },
     "metadata": {
      "needs_background": "light"
     },
     "output_type": "display_data"
    }
   ],
   "source": [
    "sns.pairplot(df, hue='Tenure', \n",
    "             x_vars=['CreditScore','Age', 'Balance', 'NumOfProducts'],\n",
    "             y_vars=['Tenure'])\n",
    "plt.show()\n",
    "\n",
    "sns.pairplot(df, hue='Tenure', \n",
    "             x_vars=['HasCrCard', 'IsActiveMember', 'EstimatedSalary', 'Exited'],\n",
    "             y_vars=['Tenure'])\n",
    "plt.show()"
   ]
  },
  {
   "cell_type": "markdown",
   "metadata": {},
   "source": [
    "Нет, корреляции не с чем не найдено, если смотреть на матрицу корреляций. \n",
    "Если же смотреть на распределение значений относительно нашего столбца 'Tenure', то можно наблюдать или совсем равмомерное распреление, какое мы видели при сравнении с id клиента (пр. зарплата). Либо близкое к тому, что видели с возрастом (пр. баланс).\n",
    "\n",
    "Все-таки заменим пропуски случайным значением от 0 до 10. Но также не забудем удалить сразу вспомогательный столбец."
   ]
  },
  {
   "cell_type": "code",
   "execution_count": 33,
   "metadata": {},
   "outputs": [],
   "source": [
    "df.drop(columns=['GroupByAge'], axis=1, inplace=True)"
   ]
  },
  {
   "cell_type": "markdown",
   "metadata": {},
   "source": [
    "Как итог: \n",
    "- Пропуски заменим случайными значениями, и проверим после что распределение значений не изменилось относительно возраста, к примеру.\n",
    "- И значения по возрасту и по тому сколько лет человек является клиентом будем использовать для обучания."
   ]
  },
  {
   "cell_type": "markdown",
   "metadata": {},
   "source": [
    "#### Столбцы 'Balance', 'EstimatedSalary'"
   ]
  },
  {
   "cell_type": "code",
   "execution_count": 34,
   "metadata": {},
   "outputs": [
    {
     "data": {
      "image/png": "[encoded data removed]",
      "text/plain": [
       "<Figure size 432x288 with 1 Axes>"
      ]
     },
     "metadata": {
      "needs_background": "light"
     },
     "output_type": "display_data"
    }
   ],
   "source": [
    "plt.title(\"Баланс на счете, евро\", fontweight='bold', size='medium')\n",
    "plt.ylabel(\"Частота, шт\")\n",
    "sns.distplot(a=df['Balance'], kde=False, bins=50, rug=False, axlabel=\"Баланс, евро\")\n",
    "plt.show()"
   ]
  },
  {
   "cell_type": "markdown",
   "metadata": {},
   "source": [
    "Пик в нуле как раз похож на пик с рейтингом, но в обратную сторону. Это можно объяснить тем, что часть клиентов не пользуется сейчас такими сервисами банка, как хранение денег на счету. А та часть, которая пользуется распредела как раз нормально."
   ]
  },
  {
   "cell_type": "code",
   "execution_count": 35,
   "metadata": {},
   "outputs": [
    {
     "data": {
      "image/png": "[encoded data removed]",
      "text/plain": [
       "<Figure size 432x288 with 1 Axes>"
      ]
     },
     "metadata": {
      "needs_background": "light"
     },
     "output_type": "display_data"
    }
   ],
   "source": [
    "plt.title(\"Зарплата, евро\", fontweight='bold', size='medium')\n",
    "plt.ylabel(\"Частота, шт\")\n",
    "sns.distplot(a=df['EstimatedSalary'], kde=False, bins=50, rug=False, axlabel=\"Зарплата, евро\")\n",
    "plt.show()"
   ]
  },
  {
   "cell_type": "markdown",
   "metadata": {},
   "source": [
    "По зарплате совсем равномерные данные. Выбросов нет.\n",
    "\n",
    "Оба данных столбца будем использовать для обучения модели."
   ]
  },
  {
   "cell_type": "markdown",
   "metadata": {},
   "source": [
    "#### Столбцы 'NumOfProducts', 'HasCrCard', 'IsActiveMember'"
   ]
  },
  {
   "cell_type": "code",
   "execution_count": 36,
   "metadata": {},
   "outputs": [
    {
     "data": {
      "text/plain": [
       "1    5084\n",
       "2    4590\n",
       "3     266\n",
       "4      60\n",
       "Name: NumOfProducts, dtype: int64"
      ]
     },
     "execution_count": 36,
     "metadata": {},
     "output_type": "execute_result"
    }
   ],
   "source": [
    "df['NumOfProducts'].value_counts()"
   ]
  },
  {
   "cell_type": "code",
   "execution_count": 37,
   "metadata": {},
   "outputs": [
    {
     "data": {
      "text/plain": [
       "1    7055\n",
       "0    2945\n",
       "Name: HasCrCard, dtype: int64"
      ]
     },
     "execution_count": 37,
     "metadata": {},
     "output_type": "execute_result"
    }
   ],
   "source": [
    "df['HasCrCard'].value_counts()"
   ]
  },
  {
   "cell_type": "code",
   "execution_count": 38,
   "metadata": {},
   "outputs": [
    {
     "data": {
      "text/plain": [
       "1    5151\n",
       "0    4849\n",
       "Name: IsActiveMember, dtype: int64"
      ]
     },
     "execution_count": 38,
     "metadata": {},
     "output_type": "execute_result"
    }
   ],
   "source": [
    "df['IsActiveMember'].value_counts()"
   ]
  },
  {
   "cell_type": "markdown",
   "metadata": {},
   "source": [
    "Странных выбивающихся значений нет, все три данных столбца будем использовать для обучения модели."
   ]
  },
  {
   "cell_type": "markdown",
   "metadata": {},
   "source": [
    "#### Столбец 'Exited'"
   ]
  },
  {
   "cell_type": "markdown",
   "metadata": {},
   "source": [
    "Посмотрим на данный столбец."
   ]
  },
  {
   "cell_type": "code",
   "execution_count": 39,
   "metadata": {},
   "outputs": [
    {
     "data": {
      "text/plain": [
       "0    7963\n",
       "1    2037\n",
       "Name: Exited, dtype: int64"
      ]
     },
     "execution_count": 39,
     "metadata": {},
     "output_type": "execute_result"
    }
   ],
   "source": [
    "df['Exited'].value_counts()"
   ]
  },
  {
   "cell_type": "markdown",
   "metadata": {},
   "source": [
    "Данный столбец будет являться нашим целевым признаком."
   ]
  },
  {
   "cell_type": "markdown",
   "metadata": {},
   "source": [
    "#### Итоги шага по изучению столбцов"
   ]
  },
  {
   "cell_type": "markdown",
   "metadata": {},
   "source": [
    "Подведем краткие итоги и определимся с тем, что еще нужно сделать:\n",
    "- Видимых ошибок в файле не найдено;\n",
    "- Пропуски есть только в столбце 'Tenure', но видимой зависимости или корреляции с другими столбцами не выявлено. Сами данные в этом столбце распределены равномерно, поэтому пропуски будем заполнять случайно (замена на медиану или среднее нарушит баланс в данных);\n",
    "- Столбцы 'RowNumber', 'CustomerId', 'Surname' при обучении можели удалим.\n",
    "- Категориальные столбцы 'Geography', 'Gender' преобразуем кодированием в числовые.\n",
    "- Столбцы 'CreditScore', 'Age', 'Tenure' и др. являются числовыми до их значения очень различаются между собой (у возраста максимум меньше 100, а у зарплаты уже сотни тысяч). Перед использованием их в учебной модели нужно выполнить масштабирование всех числовых признаков.\n",
    "- Столбец 'Exited' является нашим целевым признаком."
   ]
  },
  {
   "cell_type": "markdown",
   "metadata": {},
   "source": [
    "### Замена пропусков"
   ]
  },
  {
   "cell_type": "markdown",
   "metadata": {},
   "source": [
    "Начнем замену пропусков случайным образом. Но сначала еще раз посмотрим на данные и как они были заполнены до."
   ]
  },
  {
   "cell_type": "code",
   "execution_count": 40,
   "metadata": {},
   "outputs": [
    {
     "data": {
      "image/png": "[encoded data removed]",
      "text/plain": [
       "<Figure size 432x288 with 1 Axes>"
      ]
     },
     "metadata": {
      "needs_background": "light"
     },
     "output_type": "display_data"
    }
   ],
   "source": [
    "plt.title(\"Сколько лет человек является клиентом банка\", fontweight='bold', size='medium')\n",
    "plt.ylabel(\"Частота, шт\")\n",
    "sns.distplot(a=df.query('Tenure.notnull()')['Tenure'], kde=False, bins=21, rug=False,\n",
    "             axlabel=\"Сколько лет человек является клиентом банка, шт\")\n",
    "plt.show()"
   ]
  },
  {
   "cell_type": "code",
   "execution_count": 41,
   "metadata": {},
   "outputs": [
    {
     "data": {
      "text/plain": [
       "1.0     952\n",
       "2.0     950\n",
       "8.0     933\n",
       "3.0     928\n",
       "5.0     927\n",
       "7.0     925\n",
       "4.0     885\n",
       "9.0     882\n",
       "6.0     881\n",
       "10.0    446\n",
       "0.0     382\n",
       "Name: Tenure, dtype: int64"
      ]
     },
     "execution_count": 41,
     "metadata": {},
     "output_type": "execute_result"
    }
   ],
   "source": [
    "df['Tenure'].value_counts()"
   ]
  },
  {
   "cell_type": "markdown",
   "metadata": {},
   "source": [
    "Сначала создадим массив случайных чисел от 0 до 10."
   ]
  },
  {
   "cell_type": "code",
   "execution_count": 42,
   "metadata": {},
   "outputs": [
    {
     "data": {
      "text/html": [
       "<div>\n",
       "<style scoped>\n",
       "    .dataframe tbody tr th:only-of-type {\n",
       "        vertical-align: middle;\n",
       "    }\n",
       "\n",
       "    .dataframe tbody tr th {\n",
       "        vertical-align: top;\n",
       "    }\n",
       "\n",
       "    .dataframe thead th {\n",
       "        text-align: right;\n",
       "    }\n",
       "</style>\n",
       "<table border=\"1\" class=\"dataframe\">\n",
       "  <thead>\n",
       "    <tr style=\"text-align: right;\">\n",
       "      <th></th>\n",
       "      <th>Tenure</th>\n",
       "    </tr>\n",
       "  </thead>\n",
       "  <tbody>\n",
       "    <tr>\n",
       "      <td>count</td>\n",
       "      <td>10000.000000</td>\n",
       "    </tr>\n",
       "    <tr>\n",
       "      <td>mean</td>\n",
       "      <td>5.016000</td>\n",
       "    </tr>\n",
       "    <tr>\n",
       "      <td>std</td>\n",
       "      <td>3.150863</td>\n",
       "    </tr>\n",
       "    <tr>\n",
       "      <td>min</td>\n",
       "      <td>0.000000</td>\n",
       "    </tr>\n",
       "    <tr>\n",
       "      <td>25%</td>\n",
       "      <td>2.000000</td>\n",
       "    </tr>\n",
       "    <tr>\n",
       "      <td>50%</td>\n",
       "      <td>5.000000</td>\n",
       "    </tr>\n",
       "    <tr>\n",
       "      <td>75%</td>\n",
       "      <td>8.000000</td>\n",
       "    </tr>\n",
       "    <tr>\n",
       "      <td>max</td>\n",
       "      <td>10.000000</td>\n",
       "    </tr>\n",
       "  </tbody>\n",
       "</table>\n",
       "</div>"
      ],
      "text/plain": [
       "             Tenure\n",
       "count  10000.000000\n",
       "mean       5.016000\n",
       "std        3.150863\n",
       "min        0.000000\n",
       "25%        2.000000\n",
       "50%        5.000000\n",
       "75%        8.000000\n",
       "max       10.000000"
      ]
     },
     "execution_count": 42,
     "metadata": {},
     "output_type": "execute_result"
    }
   ],
   "source": [
    "np.random.seed(1)\n",
    "df_rand=pd.DataFrame(np.random.randint(0, 11, 10000))\n",
    "df_rand.columns = ['Tenure']\n",
    "\n",
    "df_rand.describe()"
   ]
  },
  {
   "cell_type": "code",
   "execution_count": 43,
   "metadata": {},
   "outputs": [],
   "source": [
    "df.loc[df['Tenure'].isnull(), 'Tenure'] = df_rand['Tenure']"
   ]
  },
  {
   "cell_type": "code",
   "execution_count": 44,
   "metadata": {},
   "outputs": [
    {
     "data": {
      "image/png": "[encoded data removed]",
      "text/plain": [
       "<Figure size 432x288 with 1 Axes>"
      ]
     },
     "metadata": {
      "needs_background": "light"
     },
     "output_type": "display_data"
    }
   ],
   "source": [
    "plt.title(\"Сколько лет человек является клиентом банка\", fontweight='bold', size='medium')\n",
    "plt.ylabel(\"Частота, шт\")\n",
    "sns.distplot(a=df['Tenure'], kde=False, rug=False, bins=21,\n",
    "             axlabel=\"Сколько лет человек является клиентом банка, шт\")\n",
    "plt.show()"
   ]
  },
  {
   "cell_type": "code",
   "execution_count": 45,
   "metadata": {},
   "outputs": [
    {
     "data": {
      "text/plain": [
       "3.0     1026\n",
       "1.0     1023\n",
       "2.0     1021\n",
       "5.0     1018\n",
       "8.0     1016\n",
       "7.0     1009\n",
       "9.0      969\n",
       "6.0      968\n",
       "4.0      962\n",
       "10.0     532\n",
       "0.0      456\n",
       "Name: Tenure, dtype: int64"
      ]
     },
     "execution_count": 45,
     "metadata": {},
     "output_type": "execute_result"
    }
   ],
   "source": [
    "df['Tenure'].value_counts()"
   ]
  },
  {
   "cell_type": "markdown",
   "metadata": {},
   "source": [
    "Видим, что значения добавились, а распределение осталось значений осталось похожем: не появились выпады или всплески. Проверим, что пропусков теперь точно нет."
   ]
  },
  {
   "cell_type": "code",
   "execution_count": 46,
   "metadata": {},
   "outputs": [
    {
     "name": "stdout",
     "output_type": "stream",
     "text": [
      "<class 'pandas.core.frame.DataFrame'>\n",
      "RangeIndex: 10000 entries, 0 to 9999\n",
      "Data columns (total 14 columns):\n",
      "RowNumber          10000 non-null int64\n",
      "CustomerId         10000 non-null int64\n",
      "Surname            10000 non-null object\n",
      "CreditScore        10000 non-null int64\n",
      "Geography          10000 non-null object\n",
      "Gender             10000 non-null object\n",
      "Age                10000 non-null int64\n",
      "Tenure             10000 non-null float64\n",
      "Balance            10000 non-null float64\n",
      "NumOfProducts      10000 non-null int64\n",
      "HasCrCard          10000 non-null int64\n",
      "IsActiveMember     10000 non-null int64\n",
      "EstimatedSalary    10000 non-null float64\n",
      "Exited             10000 non-null int64\n",
      "dtypes: float64(3), int64(8), object(3)\n",
      "memory usage: 1.1+ MB\n"
     ]
    }
   ],
   "source": [
    "df.info()"
   ]
  },
  {
   "cell_type": "markdown",
   "metadata": {},
   "source": [
    "Теперь пропусков нет. Движемся к шагу по оптимизации типов данных."
   ]
  },
  {
   "cell_type": "markdown",
   "metadata": {},
   "source": [
    "### Оптимизация типов данных"
   ]
  },
  {
   "cell_type": "markdown",
   "metadata": {},
   "source": [
    "Итак, исходный размер: 1.1+ MB (как видим в параграфе выше). \n",
    "Мы также определились, что для обучения нам не нужны некоторые столбцы, поэтому их мы пока не будем преобразовывать.\n",
    "\n",
    "Начнем с преобразования числовых, посмотрим на их характеристики, чтобы лучше выбрать формат."
   ]
  },
  {
   "cell_type": "code",
   "execution_count": 47,
   "metadata": {},
   "outputs": [
    {
     "data": {
      "text/html": [
       "<div>\n",
       "<style scoped>\n",
       "    .dataframe tbody tr th:only-of-type {\n",
       "        vertical-align: middle;\n",
       "    }\n",
       "\n",
       "    .dataframe tbody tr th {\n",
       "        vertical-align: top;\n",
       "    }\n",
       "\n",
       "    .dataframe thead th {\n",
       "        text-align: right;\n",
       "    }\n",
       "</style>\n",
       "<table border=\"1\" class=\"dataframe\">\n",
       "  <thead>\n",
       "    <tr style=\"text-align: right;\">\n",
       "      <th></th>\n",
       "      <th>count</th>\n",
       "      <th>mean</th>\n",
       "      <th>std</th>\n",
       "      <th>min</th>\n",
       "      <th>25%</th>\n",
       "      <th>50%</th>\n",
       "      <th>75%</th>\n",
       "      <th>max</th>\n",
       "    </tr>\n",
       "  </thead>\n",
       "  <tbody>\n",
       "    <tr>\n",
       "      <td>RowNumber</td>\n",
       "      <td>10000.0</td>\n",
       "      <td>5.000500e+03</td>\n",
       "      <td>2886.895680</td>\n",
       "      <td>1.00</td>\n",
       "      <td>2500.75</td>\n",
       "      <td>5.000500e+03</td>\n",
       "      <td>7.500250e+03</td>\n",
       "      <td>10000.00</td>\n",
       "    </tr>\n",
       "    <tr>\n",
       "      <td>CustomerId</td>\n",
       "      <td>10000.0</td>\n",
       "      <td>1.569094e+07</td>\n",
       "      <td>71936.186123</td>\n",
       "      <td>15565701.00</td>\n",
       "      <td>15628528.25</td>\n",
       "      <td>1.569074e+07</td>\n",
       "      <td>1.575323e+07</td>\n",
       "      <td>15815690.00</td>\n",
       "    </tr>\n",
       "    <tr>\n",
       "      <td>CreditScore</td>\n",
       "      <td>10000.0</td>\n",
       "      <td>6.505288e+02</td>\n",
       "      <td>96.653299</td>\n",
       "      <td>350.00</td>\n",
       "      <td>584.00</td>\n",
       "      <td>6.520000e+02</td>\n",
       "      <td>7.180000e+02</td>\n",
       "      <td>850.00</td>\n",
       "    </tr>\n",
       "    <tr>\n",
       "      <td>Age</td>\n",
       "      <td>10000.0</td>\n",
       "      <td>3.892180e+01</td>\n",
       "      <td>10.487806</td>\n",
       "      <td>18.00</td>\n",
       "      <td>32.00</td>\n",
       "      <td>3.700000e+01</td>\n",
       "      <td>4.400000e+01</td>\n",
       "      <td>92.00</td>\n",
       "    </tr>\n",
       "    <tr>\n",
       "      <td>Tenure</td>\n",
       "      <td>10000.0</td>\n",
       "      <td>5.012100e+00</td>\n",
       "      <td>2.915168</td>\n",
       "      <td>0.00</td>\n",
       "      <td>2.75</td>\n",
       "      <td>5.000000e+00</td>\n",
       "      <td>8.000000e+00</td>\n",
       "      <td>10.00</td>\n",
       "    </tr>\n",
       "    <tr>\n",
       "      <td>Balance</td>\n",
       "      <td>10000.0</td>\n",
       "      <td>7.648589e+04</td>\n",
       "      <td>62397.405202</td>\n",
       "      <td>0.00</td>\n",
       "      <td>0.00</td>\n",
       "      <td>9.719854e+04</td>\n",
       "      <td>1.276442e+05</td>\n",
       "      <td>250898.09</td>\n",
       "    </tr>\n",
       "    <tr>\n",
       "      <td>NumOfProducts</td>\n",
       "      <td>10000.0</td>\n",
       "      <td>1.530200e+00</td>\n",
       "      <td>0.581654</td>\n",
       "      <td>1.00</td>\n",
       "      <td>1.00</td>\n",
       "      <td>1.000000e+00</td>\n",
       "      <td>2.000000e+00</td>\n",
       "      <td>4.00</td>\n",
       "    </tr>\n",
       "    <tr>\n",
       "      <td>HasCrCard</td>\n",
       "      <td>10000.0</td>\n",
       "      <td>7.055000e-01</td>\n",
       "      <td>0.455840</td>\n",
       "      <td>0.00</td>\n",
       "      <td>0.00</td>\n",
       "      <td>1.000000e+00</td>\n",
       "      <td>1.000000e+00</td>\n",
       "      <td>1.00</td>\n",
       "    </tr>\n",
       "    <tr>\n",
       "      <td>IsActiveMember</td>\n",
       "      <td>10000.0</td>\n",
       "      <td>5.151000e-01</td>\n",
       "      <td>0.499797</td>\n",
       "      <td>0.00</td>\n",
       "      <td>0.00</td>\n",
       "      <td>1.000000e+00</td>\n",
       "      <td>1.000000e+00</td>\n",
       "      <td>1.00</td>\n",
       "    </tr>\n",
       "    <tr>\n",
       "      <td>EstimatedSalary</td>\n",
       "      <td>10000.0</td>\n",
       "      <td>1.000902e+05</td>\n",
       "      <td>57510.492818</td>\n",
       "      <td>11.58</td>\n",
       "      <td>51002.11</td>\n",
       "      <td>1.001939e+05</td>\n",
       "      <td>1.493882e+05</td>\n",
       "      <td>199992.48</td>\n",
       "    </tr>\n",
       "    <tr>\n",
       "      <td>Exited</td>\n",
       "      <td>10000.0</td>\n",
       "      <td>2.037000e-01</td>\n",
       "      <td>0.402769</td>\n",
       "      <td>0.00</td>\n",
       "      <td>0.00</td>\n",
       "      <td>0.000000e+00</td>\n",
       "      <td>0.000000e+00</td>\n",
       "      <td>1.00</td>\n",
       "    </tr>\n",
       "  </tbody>\n",
       "</table>\n",
       "</div>"
      ],
      "text/plain": [
       "                   count          mean           std          min  \\\n",
       "RowNumber        10000.0  5.000500e+03   2886.895680         1.00   \n",
       "CustomerId       10000.0  1.569094e+07  71936.186123  15565701.00   \n",
       "CreditScore      10000.0  6.505288e+02     96.653299       350.00   \n",
       "Age              10000.0  3.892180e+01     10.487806        18.00   \n",
       "Tenure           10000.0  5.012100e+00      2.915168         0.00   \n",
       "Balance          10000.0  7.648589e+04  62397.405202         0.00   \n",
       "NumOfProducts    10000.0  1.530200e+00      0.581654         1.00   \n",
       "HasCrCard        10000.0  7.055000e-01      0.455840         0.00   \n",
       "IsActiveMember   10000.0  5.151000e-01      0.499797         0.00   \n",
       "EstimatedSalary  10000.0  1.000902e+05  57510.492818        11.58   \n",
       "Exited           10000.0  2.037000e-01      0.402769         0.00   \n",
       "\n",
       "                         25%           50%           75%          max  \n",
       "RowNumber            2500.75  5.000500e+03  7.500250e+03     10000.00  \n",
       "CustomerId       15628528.25  1.569074e+07  1.575323e+07  15815690.00  \n",
       "CreditScore           584.00  6.520000e+02  7.180000e+02       850.00  \n",
       "Age                    32.00  3.700000e+01  4.400000e+01        92.00  \n",
       "Tenure                  2.75  5.000000e+00  8.000000e+00        10.00  \n",
       "Balance                 0.00  9.719854e+04  1.276442e+05    250898.09  \n",
       "NumOfProducts           1.00  1.000000e+00  2.000000e+00         4.00  \n",
       "HasCrCard               0.00  1.000000e+00  1.000000e+00         1.00  \n",
       "IsActiveMember          0.00  1.000000e+00  1.000000e+00         1.00  \n",
       "EstimatedSalary     51002.11  1.001939e+05  1.493882e+05    199992.48  \n",
       "Exited                  0.00  0.000000e+00  0.000000e+00         1.00  "
      ]
     },
     "execution_count": 47,
     "metadata": {},
     "output_type": "execute_result"
    }
   ],
   "source": [
    "df.describe().T"
   ]
  },
  {
   "cell_type": "code",
   "execution_count": 48,
   "metadata": {},
   "outputs": [],
   "source": [
    "df['CreditScore'] = np.int16(df['CreditScore'])\n",
    "df['Age'] = np.int16(df['Age'])\n",
    "df['Tenure'] = np.int16(df['Tenure'])\n",
    "df['Balance'] = np.float32(df['Balance'])\n",
    "df['NumOfProducts'] = np.int16(df['NumOfProducts'])\n",
    "df['HasCrCard'] = np.int16(df['HasCrCard'])\n",
    "df['IsActiveMember'] = np.int16(df['IsActiveMember'])\n",
    "df['EstimatedSalary'] = np.float32(df['EstimatedSalary'])\n",
    "df['Exited'] = np.int16(df['Exited'])"
   ]
  },
  {
   "cell_type": "markdown",
   "metadata": {},
   "source": [
    "Замену сделали для числовых, теперь приступим к остальным."
   ]
  },
  {
   "cell_type": "code",
   "execution_count": 49,
   "metadata": {},
   "outputs": [],
   "source": [
    "df['Geography'] = df['Geography'].astype('category')\n",
    "df['Gender'] = df['Gender'].astype('category')"
   ]
  },
  {
   "cell_type": "code",
   "execution_count": 50,
   "metadata": {},
   "outputs": [
    {
     "name": "stdout",
     "output_type": "stream",
     "text": [
      "<class 'pandas.core.frame.DataFrame'>\n",
      "RangeIndex: 10000 entries, 0 to 9999\n",
      "Data columns (total 14 columns):\n",
      "RowNumber          10000 non-null int64\n",
      "CustomerId         10000 non-null int64\n",
      "Surname            10000 non-null object\n",
      "CreditScore        10000 non-null int16\n",
      "Geography          10000 non-null category\n",
      "Gender             10000 non-null category\n",
      "Age                10000 non-null int16\n",
      "Tenure             10000 non-null int16\n",
      "Balance            10000 non-null float32\n",
      "NumOfProducts      10000 non-null int16\n",
      "HasCrCard          10000 non-null int16\n",
      "IsActiveMember     10000 non-null int16\n",
      "EstimatedSalary    10000 non-null float32\n",
      "Exited             10000 non-null int16\n",
      "dtypes: category(2), float32(2), int16(7), int64(2), object(1)\n",
      "memory usage: 469.1+ KB\n"
     ]
    }
   ],
   "source": [
    "df.info()"
   ]
  },
  {
   "cell_type": "code",
   "execution_count": 51,
   "metadata": {},
   "outputs": [
    {
     "data": {
      "text/html": [
       "<div>\n",
       "<style scoped>\n",
       "    .dataframe tbody tr th:only-of-type {\n",
       "        vertical-align: middle;\n",
       "    }\n",
       "\n",
       "    .dataframe tbody tr th {\n",
       "        vertical-align: top;\n",
       "    }\n",
       "\n",
       "    .dataframe thead th {\n",
       "        text-align: right;\n",
       "    }\n",
       "</style>\n",
       "<table border=\"1\" class=\"dataframe\">\n",
       "  <thead>\n",
       "    <tr style=\"text-align: right;\">\n",
       "      <th></th>\n",
       "      <th>count</th>\n",
       "      <th>mean</th>\n",
       "      <th>std</th>\n",
       "      <th>min</th>\n",
       "      <th>25%</th>\n",
       "      <th>50%</th>\n",
       "      <th>75%</th>\n",
       "      <th>max</th>\n",
       "    </tr>\n",
       "  </thead>\n",
       "  <tbody>\n",
       "    <tr>\n",
       "      <td>RowNumber</td>\n",
       "      <td>10000.0</td>\n",
       "      <td>5.000500e+03</td>\n",
       "      <td>2886.895680</td>\n",
       "      <td>1.00</td>\n",
       "      <td>2.500750e+03</td>\n",
       "      <td>5.000500e+03</td>\n",
       "      <td>7.500250e+03</td>\n",
       "      <td>1.000000e+04</td>\n",
       "    </tr>\n",
       "    <tr>\n",
       "      <td>CustomerId</td>\n",
       "      <td>10000.0</td>\n",
       "      <td>1.569094e+07</td>\n",
       "      <td>71936.186123</td>\n",
       "      <td>15565701.00</td>\n",
       "      <td>1.562853e+07</td>\n",
       "      <td>1.569074e+07</td>\n",
       "      <td>1.575323e+07</td>\n",
       "      <td>1.581569e+07</td>\n",
       "    </tr>\n",
       "    <tr>\n",
       "      <td>CreditScore</td>\n",
       "      <td>10000.0</td>\n",
       "      <td>6.505288e+02</td>\n",
       "      <td>96.653299</td>\n",
       "      <td>350.00</td>\n",
       "      <td>5.840000e+02</td>\n",
       "      <td>6.520000e+02</td>\n",
       "      <td>7.180000e+02</td>\n",
       "      <td>8.500000e+02</td>\n",
       "    </tr>\n",
       "    <tr>\n",
       "      <td>Age</td>\n",
       "      <td>10000.0</td>\n",
       "      <td>3.892180e+01</td>\n",
       "      <td>10.487806</td>\n",
       "      <td>18.00</td>\n",
       "      <td>3.200000e+01</td>\n",
       "      <td>3.700000e+01</td>\n",
       "      <td>4.400000e+01</td>\n",
       "      <td>9.200000e+01</td>\n",
       "    </tr>\n",
       "    <tr>\n",
       "      <td>Tenure</td>\n",
       "      <td>10000.0</td>\n",
       "      <td>5.012100e+00</td>\n",
       "      <td>2.915168</td>\n",
       "      <td>0.00</td>\n",
       "      <td>2.750000e+00</td>\n",
       "      <td>5.000000e+00</td>\n",
       "      <td>8.000000e+00</td>\n",
       "      <td>1.000000e+01</td>\n",
       "    </tr>\n",
       "    <tr>\n",
       "      <td>Balance</td>\n",
       "      <td>10000.0</td>\n",
       "      <td>7.648589e+04</td>\n",
       "      <td>62397.406250</td>\n",
       "      <td>0.00</td>\n",
       "      <td>0.000000e+00</td>\n",
       "      <td>9.719854e+04</td>\n",
       "      <td>1.276442e+05</td>\n",
       "      <td>2.508981e+05</td>\n",
       "    </tr>\n",
       "    <tr>\n",
       "      <td>NumOfProducts</td>\n",
       "      <td>10000.0</td>\n",
       "      <td>1.530200e+00</td>\n",
       "      <td>0.581654</td>\n",
       "      <td>1.00</td>\n",
       "      <td>1.000000e+00</td>\n",
       "      <td>1.000000e+00</td>\n",
       "      <td>2.000000e+00</td>\n",
       "      <td>4.000000e+00</td>\n",
       "    </tr>\n",
       "    <tr>\n",
       "      <td>HasCrCard</td>\n",
       "      <td>10000.0</td>\n",
       "      <td>7.055000e-01</td>\n",
       "      <td>0.455840</td>\n",
       "      <td>0.00</td>\n",
       "      <td>0.000000e+00</td>\n",
       "      <td>1.000000e+00</td>\n",
       "      <td>1.000000e+00</td>\n",
       "      <td>1.000000e+00</td>\n",
       "    </tr>\n",
       "    <tr>\n",
       "      <td>IsActiveMember</td>\n",
       "      <td>10000.0</td>\n",
       "      <td>5.151000e-01</td>\n",
       "      <td>0.499797</td>\n",
       "      <td>0.00</td>\n",
       "      <td>0.000000e+00</td>\n",
       "      <td>1.000000e+00</td>\n",
       "      <td>1.000000e+00</td>\n",
       "      <td>1.000000e+00</td>\n",
       "    </tr>\n",
       "    <tr>\n",
       "      <td>EstimatedSalary</td>\n",
       "      <td>10000.0</td>\n",
       "      <td>1.000902e+05</td>\n",
       "      <td>57510.492188</td>\n",
       "      <td>11.58</td>\n",
       "      <td>5.100211e+04</td>\n",
       "      <td>1.001939e+05</td>\n",
       "      <td>1.493883e+05</td>\n",
       "      <td>1.999925e+05</td>\n",
       "    </tr>\n",
       "    <tr>\n",
       "      <td>Exited</td>\n",
       "      <td>10000.0</td>\n",
       "      <td>2.037000e-01</td>\n",
       "      <td>0.402769</td>\n",
       "      <td>0.00</td>\n",
       "      <td>0.000000e+00</td>\n",
       "      <td>0.000000e+00</td>\n",
       "      <td>0.000000e+00</td>\n",
       "      <td>1.000000e+00</td>\n",
       "    </tr>\n",
       "  </tbody>\n",
       "</table>\n",
       "</div>"
      ],
      "text/plain": [
       "                   count          mean           std          min  \\\n",
       "RowNumber        10000.0  5.000500e+03   2886.895680         1.00   \n",
       "CustomerId       10000.0  1.569094e+07  71936.186123  15565701.00   \n",
       "CreditScore      10000.0  6.505288e+02     96.653299       350.00   \n",
       "Age              10000.0  3.892180e+01     10.487806        18.00   \n",
       "Tenure           10000.0  5.012100e+00      2.915168         0.00   \n",
       "Balance          10000.0  7.648589e+04  62397.406250         0.00   \n",
       "NumOfProducts    10000.0  1.530200e+00      0.581654         1.00   \n",
       "HasCrCard        10000.0  7.055000e-01      0.455840         0.00   \n",
       "IsActiveMember   10000.0  5.151000e-01      0.499797         0.00   \n",
       "EstimatedSalary  10000.0  1.000902e+05  57510.492188        11.58   \n",
       "Exited           10000.0  2.037000e-01      0.402769         0.00   \n",
       "\n",
       "                          25%           50%           75%           max  \n",
       "RowNumber        2.500750e+03  5.000500e+03  7.500250e+03  1.000000e+04  \n",
       "CustomerId       1.562853e+07  1.569074e+07  1.575323e+07  1.581569e+07  \n",
       "CreditScore      5.840000e+02  6.520000e+02  7.180000e+02  8.500000e+02  \n",
       "Age              3.200000e+01  3.700000e+01  4.400000e+01  9.200000e+01  \n",
       "Tenure           2.750000e+00  5.000000e+00  8.000000e+00  1.000000e+01  \n",
       "Balance          0.000000e+00  9.719854e+04  1.276442e+05  2.508981e+05  \n",
       "NumOfProducts    1.000000e+00  1.000000e+00  2.000000e+00  4.000000e+00  \n",
       "HasCrCard        0.000000e+00  1.000000e+00  1.000000e+00  1.000000e+00  \n",
       "IsActiveMember   0.000000e+00  1.000000e+00  1.000000e+00  1.000000e+00  \n",
       "EstimatedSalary  5.100211e+04  1.001939e+05  1.493883e+05  1.999925e+05  \n",
       "Exited           0.000000e+00  0.000000e+00  0.000000e+00  1.000000e+00  "
      ]
     },
     "execution_count": 51,
     "metadata": {},
     "output_type": "execute_result"
    }
   ],
   "source": [
    "df.describe().T"
   ]
  },
  {
   "cell_type": "markdown",
   "metadata": {},
   "source": [
    "Отлично, объем сократился до 469.1+ KB, а значения не потеряли точности.\n",
    "\n",
    "Сохраним на этом шаге нашу таблицу со всеми столбцами. А далее приступим уже к подготовке признаков, удалив ненужные столбцы."
   ]
  },
  {
   "cell_type": "code",
   "execution_count": 52,
   "metadata": {},
   "outputs": [
    {
     "name": "stdout",
     "output_type": "stream",
     "text": [
      "<class 'pandas.core.frame.DataFrame'>\n",
      "RangeIndex: 10000 entries, 0 to 9999\n",
      "Data columns (total 11 columns):\n",
      "CreditScore        10000 non-null int16\n",
      "Geography          10000 non-null category\n",
      "Gender             10000 non-null category\n",
      "Age                10000 non-null int16\n",
      "Tenure             10000 non-null int16\n",
      "Balance            10000 non-null float32\n",
      "NumOfProducts      10000 non-null int16\n",
      "HasCrCard          10000 non-null int16\n",
      "IsActiveMember     10000 non-null int16\n",
      "EstimatedSalary    10000 non-null float32\n",
      "Exited             10000 non-null int16\n",
      "dtypes: category(2), float32(2), int16(7)\n",
      "memory usage: 234.7 KB\n"
     ]
    }
   ],
   "source": [
    "ml_data = df\n",
    "\n",
    "ml_data.drop(columns=['RowNumber','CustomerId','Surname'], axis=1, inplace=True)\n",
    "\n",
    "ml_data.info()"
   ]
  },
  {
   "cell_type": "markdown",
   "metadata": {},
   "source": [
    "Отлично, сократили объем данных еще в 2 раза."
   ]
  },
  {
   "cell_type": "markdown",
   "metadata": {},
   "source": [
    "### Подготовка выборок"
   ]
  },
  {
   "cell_type": "markdown",
   "metadata": {},
   "source": [
    "Закодируем наши категориальные признаки. Остановимся на технике One-Hot Encoding. Так как мы пока не знаем какую модель выберем, а техника Ordinal Encoding не подходит для логистической регрессии.\n",
    "\n",
    "Воспользуемся методом OHE для столбцов с полом и страной, причем так как наши данные разделены на группы однозначно, и из одного получается другой, то чтобы избежать Дамми-ловушки, удалим первый столбец."
   ]
  },
  {
   "cell_type": "code",
   "execution_count": 53,
   "metadata": {},
   "outputs": [],
   "source": [
    "ml_data = pd.get_dummies(ml_data, drop_first=True)"
   ]
  },
  {
   "cell_type": "code",
   "execution_count": 54,
   "metadata": {},
   "outputs": [
    {
     "data": {
      "text/html": [
       "<div>\n",
       "<style scoped>\n",
       "    .dataframe tbody tr th:only-of-type {\n",
       "        vertical-align: middle;\n",
       "    }\n",
       "\n",
       "    .dataframe tbody tr th {\n",
       "        vertical-align: top;\n",
       "    }\n",
       "\n",
       "    .dataframe thead th {\n",
       "        text-align: right;\n",
       "    }\n",
       "</style>\n",
       "<table border=\"1\" class=\"dataframe\">\n",
       "  <thead>\n",
       "    <tr style=\"text-align: right;\">\n",
       "      <th></th>\n",
       "      <th>CreditScore</th>\n",
       "      <th>Age</th>\n",
       "      <th>Tenure</th>\n",
       "      <th>Balance</th>\n",
       "      <th>NumOfProducts</th>\n",
       "      <th>HasCrCard</th>\n",
       "      <th>IsActiveMember</th>\n",
       "      <th>EstimatedSalary</th>\n",
       "      <th>Exited</th>\n",
       "      <th>Geography_Germany</th>\n",
       "      <th>Geography_Spain</th>\n",
       "      <th>Gender_Male</th>\n",
       "    </tr>\n",
       "  </thead>\n",
       "  <tbody>\n",
       "    <tr>\n",
       "      <td>0</td>\n",
       "      <td>619</td>\n",
       "      <td>42</td>\n",
       "      <td>2</td>\n",
       "      <td>0.000000</td>\n",
       "      <td>1</td>\n",
       "      <td>1</td>\n",
       "      <td>1</td>\n",
       "      <td>101348.882812</td>\n",
       "      <td>1</td>\n",
       "      <td>0</td>\n",
       "      <td>0</td>\n",
       "      <td>0</td>\n",
       "    </tr>\n",
       "    <tr>\n",
       "      <td>1</td>\n",
       "      <td>608</td>\n",
       "      <td>41</td>\n",
       "      <td>1</td>\n",
       "      <td>83807.859375</td>\n",
       "      <td>1</td>\n",
       "      <td>0</td>\n",
       "      <td>1</td>\n",
       "      <td>112542.578125</td>\n",
       "      <td>0</td>\n",
       "      <td>0</td>\n",
       "      <td>1</td>\n",
       "      <td>0</td>\n",
       "    </tr>\n",
       "    <tr>\n",
       "      <td>2</td>\n",
       "      <td>502</td>\n",
       "      <td>42</td>\n",
       "      <td>8</td>\n",
       "      <td>159660.796875</td>\n",
       "      <td>3</td>\n",
       "      <td>1</td>\n",
       "      <td>0</td>\n",
       "      <td>113931.570312</td>\n",
       "      <td>1</td>\n",
       "      <td>0</td>\n",
       "      <td>0</td>\n",
       "      <td>0</td>\n",
       "    </tr>\n",
       "    <tr>\n",
       "      <td>3</td>\n",
       "      <td>699</td>\n",
       "      <td>39</td>\n",
       "      <td>1</td>\n",
       "      <td>0.000000</td>\n",
       "      <td>2</td>\n",
       "      <td>0</td>\n",
       "      <td>0</td>\n",
       "      <td>93826.632812</td>\n",
       "      <td>0</td>\n",
       "      <td>0</td>\n",
       "      <td>0</td>\n",
       "      <td>0</td>\n",
       "    </tr>\n",
       "    <tr>\n",
       "      <td>4</td>\n",
       "      <td>850</td>\n",
       "      <td>43</td>\n",
       "      <td>2</td>\n",
       "      <td>125510.820312</td>\n",
       "      <td>1</td>\n",
       "      <td>1</td>\n",
       "      <td>1</td>\n",
       "      <td>79084.101562</td>\n",
       "      <td>0</td>\n",
       "      <td>0</td>\n",
       "      <td>1</td>\n",
       "      <td>0</td>\n",
       "    </tr>\n",
       "    <tr>\n",
       "      <td>5</td>\n",
       "      <td>645</td>\n",
       "      <td>44</td>\n",
       "      <td>8</td>\n",
       "      <td>113755.781250</td>\n",
       "      <td>2</td>\n",
       "      <td>1</td>\n",
       "      <td>0</td>\n",
       "      <td>149756.703125</td>\n",
       "      <td>1</td>\n",
       "      <td>0</td>\n",
       "      <td>1</td>\n",
       "      <td>1</td>\n",
       "    </tr>\n",
       "    <tr>\n",
       "      <td>6</td>\n",
       "      <td>822</td>\n",
       "      <td>50</td>\n",
       "      <td>7</td>\n",
       "      <td>0.000000</td>\n",
       "      <td>2</td>\n",
       "      <td>1</td>\n",
       "      <td>1</td>\n",
       "      <td>10062.799805</td>\n",
       "      <td>0</td>\n",
       "      <td>0</td>\n",
       "      <td>0</td>\n",
       "      <td>1</td>\n",
       "    </tr>\n",
       "    <tr>\n",
       "      <td>7</td>\n",
       "      <td>376</td>\n",
       "      <td>29</td>\n",
       "      <td>4</td>\n",
       "      <td>115046.742188</td>\n",
       "      <td>4</td>\n",
       "      <td>1</td>\n",
       "      <td>0</td>\n",
       "      <td>119346.882812</td>\n",
       "      <td>1</td>\n",
       "      <td>1</td>\n",
       "      <td>0</td>\n",
       "      <td>0</td>\n",
       "    </tr>\n",
       "    <tr>\n",
       "      <td>8</td>\n",
       "      <td>501</td>\n",
       "      <td>44</td>\n",
       "      <td>4</td>\n",
       "      <td>142051.062500</td>\n",
       "      <td>2</td>\n",
       "      <td>0</td>\n",
       "      <td>1</td>\n",
       "      <td>74940.500000</td>\n",
       "      <td>0</td>\n",
       "      <td>0</td>\n",
       "      <td>0</td>\n",
       "      <td>1</td>\n",
       "    </tr>\n",
       "    <tr>\n",
       "      <td>9</td>\n",
       "      <td>684</td>\n",
       "      <td>27</td>\n",
       "      <td>2</td>\n",
       "      <td>134603.875000</td>\n",
       "      <td>1</td>\n",
       "      <td>1</td>\n",
       "      <td>1</td>\n",
       "      <td>71725.726562</td>\n",
       "      <td>0</td>\n",
       "      <td>0</td>\n",
       "      <td>0</td>\n",
       "      <td>1</td>\n",
       "    </tr>\n",
       "  </tbody>\n",
       "</table>\n",
       "</div>"
      ],
      "text/plain": [
       "   CreditScore  Age  Tenure        Balance  NumOfProducts  HasCrCard  \\\n",
       "0          619   42       2       0.000000              1          1   \n",
       "1          608   41       1   83807.859375              1          0   \n",
       "2          502   42       8  159660.796875              3          1   \n",
       "3          699   39       1       0.000000              2          0   \n",
       "4          850   43       2  125510.820312              1          1   \n",
       "5          645   44       8  113755.781250              2          1   \n",
       "6          822   50       7       0.000000              2          1   \n",
       "7          376   29       4  115046.742188              4          1   \n",
       "8          501   44       4  142051.062500              2          0   \n",
       "9          684   27       2  134603.875000              1          1   \n",
       "\n",
       "   IsActiveMember  EstimatedSalary  Exited  Geography_Germany  \\\n",
       "0               1    101348.882812       1                  0   \n",
       "1               1    112542.578125       0                  0   \n",
       "2               0    113931.570312       1                  0   \n",
       "3               0     93826.632812       0                  0   \n",
       "4               1     79084.101562       0                  0   \n",
       "5               0    149756.703125       1                  0   \n",
       "6               1     10062.799805       0                  0   \n",
       "7               0    119346.882812       1                  1   \n",
       "8               1     74940.500000       0                  0   \n",
       "9               1     71725.726562       0                  0   \n",
       "\n",
       "   Geography_Spain  Gender_Male  \n",
       "0                0            0  \n",
       "1                1            0  \n",
       "2                0            0  \n",
       "3                0            0  \n",
       "4                1            0  \n",
       "5                1            1  \n",
       "6                0            1  \n",
       "7                0            0  \n",
       "8                0            1  \n",
       "9                0            1  "
      ]
     },
     "execution_count": 54,
     "metadata": {},
     "output_type": "execute_result"
    }
   ],
   "source": [
    "ml_data.head(10)"
   ]
  },
  {
   "cell_type": "markdown",
   "metadata": {},
   "source": [
    "Отлично, остались только численные данные. Рабозьем признаки:"
   ]
  },
  {
   "cell_type": "code",
   "execution_count": 55,
   "metadata": {},
   "outputs": [],
   "source": [
    "#определим признаки и целевой признак\n",
    "target = ml_data['Exited']\n",
    "features = ml_data.drop('Exited', axis=1)"
   ]
  },
  {
   "cell_type": "markdown",
   "metadata": {},
   "source": [
    "Выше мы разделили данные на признаки и целевой признак. Теперь нам необходимо создать выборки с данными:\n",
    "- тренировочную,\n",
    "- валидационную,\n",
    "- тестовую.\n",
    "\n",
    "Размеры тестовой и валидационной выборки обычно берутся равными. И валидационная выборка обычно состовлят 25% от совокупности тренировочная+валидационная. Если мы возьмем для тренировочной выборки 60%, для валидационной 20% и для тестовой 20%, то как раз эти условия выполнятся (равные выборки по 20% тестовая и валидационная, и 20% от 60%+20% - это как раз 25%).\n",
    "\n",
    "Чтобы получить финальную разбивку на 3 выборки нужно сначала поделить совокупность на 80% и 20%. А потом получившиеся 80% поделить на 75% и 25%."
   ]
  },
  {
   "cell_type": "code",
   "execution_count": 56,
   "metadata": {},
   "outputs": [],
   "source": [
    "#первое деление на тестовую выборку и оставшие данные\n",
    "features_temp, features_test, target_temp, target_test = train_test_split(\n",
    "    features, target, test_size=0.20, stratify=target, random_state=12345)"
   ]
  },
  {
   "cell_type": "markdown",
   "metadata": {},
   "source": [
    "Посмотрим на параметра тестовой выборки, которую мы отделили."
   ]
  },
  {
   "cell_type": "code",
   "execution_count": 57,
   "metadata": {},
   "outputs": [
    {
     "data": {
      "text/plain": [
       "((2000, 11), (2000,))"
      ]
     },
     "execution_count": 57,
     "metadata": {},
     "output_type": "execute_result"
    }
   ],
   "source": [
    "features_test.shape, target_test.shape"
   ]
  },
  {
   "cell_type": "markdown",
   "metadata": {},
   "source": [
    "Запомним и сравним с другими выборками."
   ]
  },
  {
   "cell_type": "code",
   "execution_count": 58,
   "metadata": {},
   "outputs": [],
   "source": [
    "#второе деление на тренировочную и валидационную выборки\n",
    "features_train, features_valid, target_train, target_valid = train_test_split(\n",
    "    features_temp, target_temp, test_size=0.25, stratify=target_temp, random_state=12345)"
   ]
  },
  {
   "cell_type": "markdown",
   "metadata": {},
   "source": [
    "Посмотрим что у нас получилось."
   ]
  },
  {
   "cell_type": "code",
   "execution_count": 59,
   "metadata": {},
   "outputs": [
    {
     "data": {
      "text/plain": [
       "((6000, 11), (6000,))"
      ]
     },
     "execution_count": 59,
     "metadata": {},
     "output_type": "execute_result"
    }
   ],
   "source": [
    "features_train.shape, target_train.shape"
   ]
  },
  {
   "cell_type": "code",
   "execution_count": 60,
   "metadata": {},
   "outputs": [
    {
     "data": {
      "text/plain": [
       "((2000, 11), (2000,))"
      ]
     },
     "execution_count": 60,
     "metadata": {},
     "output_type": "execute_result"
    }
   ],
   "source": [
    "features_valid.shape, target_valid.shape"
   ]
  },
  {
   "cell_type": "markdown",
   "metadata": {},
   "source": [
    "Отлично, размеры валидационной выборки и тестовой равны. А тренировочная больше ровно в 3 раза.\n",
    "\n",
    "Теперь необходимо масштабировать все признаки. встроенная фукция scaler уравнивает все числа до диапазона от 0 до 1. Некоторые столбцы наших данных уже попадают под это условие, пожтому нам нужно обработать только: 'CreditScore', 'Age', 'Tenure', 'Balance','NumOfProducts', 'EstimatedSalary'."
   ]
  },
  {
   "cell_type": "code",
   "execution_count": 61,
   "metadata": {},
   "outputs": [],
   "source": [
    "numeric = ['CreditScore', 'Age', 'Tenure', 'Balance','NumOfProducts', 'EstimatedSalary']\n",
    "scaler = StandardScaler()\n",
    "scaler.fit(features_train[numeric]) \n",
    "pd.options.mode.chained_assignment = None\n",
    "\n",
    "features_train[numeric] = scaler.transform(features_train[numeric])\n",
    "features_valid[numeric] = scaler.transform(features_valid[numeric])\n",
    "features_temp[numeric] = scaler.transform(features_temp[numeric])\n",
    "features_test[numeric] = scaler.transform(features_test[numeric])"
   ]
  },
  {
   "cell_type": "code",
   "execution_count": 62,
   "metadata": {},
   "outputs": [
    {
     "data": {
      "text/html": [
       "<div>\n",
       "<style scoped>\n",
       "    .dataframe tbody tr th:only-of-type {\n",
       "        vertical-align: middle;\n",
       "    }\n",
       "\n",
       "    .dataframe tbody tr th {\n",
       "        vertical-align: top;\n",
       "    }\n",
       "\n",
       "    .dataframe thead th {\n",
       "        text-align: right;\n",
       "    }\n",
       "</style>\n",
       "<table border=\"1\" class=\"dataframe\">\n",
       "  <thead>\n",
       "    <tr style=\"text-align: right;\">\n",
       "      <th></th>\n",
       "      <th>CreditScore</th>\n",
       "      <th>Age</th>\n",
       "      <th>Tenure</th>\n",
       "      <th>Balance</th>\n",
       "      <th>NumOfProducts</th>\n",
       "      <th>HasCrCard</th>\n",
       "      <th>IsActiveMember</th>\n",
       "      <th>EstimatedSalary</th>\n",
       "      <th>Geography_Germany</th>\n",
       "      <th>Geography_Spain</th>\n",
       "      <th>Gender_Male</th>\n",
       "    </tr>\n",
       "  </thead>\n",
       "  <tbody>\n",
       "    <tr>\n",
       "      <td>5536</td>\n",
       "      <td>-0.143332</td>\n",
       "      <td>0.577533</td>\n",
       "      <td>0.679005</td>\n",
       "      <td>-1.220573</td>\n",
       "      <td>0.797767</td>\n",
       "      <td>1</td>\n",
       "      <td>1</td>\n",
       "      <td>1.029613</td>\n",
       "      <td>0</td>\n",
       "      <td>1</td>\n",
       "      <td>1</td>\n",
       "    </tr>\n",
       "    <tr>\n",
       "      <td>8530</td>\n",
       "      <td>1.632702</td>\n",
       "      <td>-0.564119</td>\n",
       "      <td>-1.038835</td>\n",
       "      <td>0.435807</td>\n",
       "      <td>-0.916018</td>\n",
       "      <td>1</td>\n",
       "      <td>0</td>\n",
       "      <td>0.237986</td>\n",
       "      <td>0</td>\n",
       "      <td>0</td>\n",
       "      <td>0</td>\n",
       "    </tr>\n",
       "    <tr>\n",
       "      <td>1762</td>\n",
       "      <td>1.116413</td>\n",
       "      <td>-0.468981</td>\n",
       "      <td>-1.382404</td>\n",
       "      <td>1.245823</td>\n",
       "      <td>-0.916018</td>\n",
       "      <td>1</td>\n",
       "      <td>1</td>\n",
       "      <td>-0.686104</td>\n",
       "      <td>0</td>\n",
       "      <td>0</td>\n",
       "      <td>0</td>\n",
       "    </tr>\n",
       "    <tr>\n",
       "      <td>9090</td>\n",
       "      <td>1.643028</td>\n",
       "      <td>0.006707</td>\n",
       "      <td>-0.008131</td>\n",
       "      <td>-1.220573</td>\n",
       "      <td>-0.916018</td>\n",
       "      <td>1</td>\n",
       "      <td>0</td>\n",
       "      <td>-0.391097</td>\n",
       "      <td>0</td>\n",
       "      <td>0</td>\n",
       "      <td>0</td>\n",
       "    </tr>\n",
       "    <tr>\n",
       "      <td>8777</td>\n",
       "      <td>-0.484083</td>\n",
       "      <td>-1.420358</td>\n",
       "      <td>-1.382404</td>\n",
       "      <td>1.421989</td>\n",
       "      <td>0.797767</td>\n",
       "      <td>1</td>\n",
       "      <td>0</td>\n",
       "      <td>-1.361559</td>\n",
       "      <td>0</td>\n",
       "      <td>1</td>\n",
       "      <td>1</td>\n",
       "    </tr>\n",
       "  </tbody>\n",
       "</table>\n",
       "</div>"
      ],
      "text/plain": [
       "      CreditScore       Age    Tenure   Balance  NumOfProducts  HasCrCard  \\\n",
       "5536    -0.143332  0.577533  0.679005 -1.220573       0.797767          1   \n",
       "8530     1.632702 -0.564119 -1.038835  0.435807      -0.916018          1   \n",
       "1762     1.116413 -0.468981 -1.382404  1.245823      -0.916018          1   \n",
       "9090     1.643028  0.006707 -0.008131 -1.220573      -0.916018          1   \n",
       "8777    -0.484083 -1.420358 -1.382404  1.421989       0.797767          1   \n",
       "\n",
       "      IsActiveMember  EstimatedSalary  Geography_Germany  Geography_Spain  \\\n",
       "5536               1         1.029613                  0                1   \n",
       "8530               0         0.237986                  0                0   \n",
       "1762               1        -0.686104                  0                0   \n",
       "9090               0        -0.391097                  0                0   \n",
       "8777               0        -1.361559                  0                1   \n",
       "\n",
       "      Gender_Male  \n",
       "5536            1  \n",
       "8530            0  \n",
       "1762            0  \n",
       "9090            0  \n",
       "8777            1  "
      ]
     },
     "execution_count": 62,
     "metadata": {},
     "output_type": "execute_result"
    }
   ],
   "source": [
    "features_train.head()"
   ]
  },
  {
   "cell_type": "markdown",
   "metadata": {},
   "source": [
    "Масштабирование сработало, приступаем к изучению задачи."
   ]
  },
  {
   "cell_type": "markdown",
   "metadata": {},
   "source": [
    "## Исследование задачи"
   ]
  },
  {
   "cell_type": "markdown",
   "metadata": {},
   "source": [
    "Задача, которую нам необходимо выполнить - это задача классификации. Для задач такого типа можно использовать такие модели как:\n",
    "- решающее дерево;\n",
    "- случайный лес;\n",
    "- логистическая регрессия.\n",
    "\n",
    "Посмотрим на данные модели и как они справляются с нашей валидационной выборкой. Рассмотрим баланс классов для нашей задачи.\n",
    "\n",
    "Рассмотрим гипермараметры, которые будем рассматривать: глубину деревьев переберем от 1 до 10, а для модели случайного леса проверим количество деревьев от 1 до 10."
   ]
  },
  {
   "cell_type": "markdown",
   "metadata": {},
   "source": [
    "### Исследование баланса классов"
   ]
  },
  {
   "cell_type": "markdown",
   "metadata": {},
   "source": [
    "Посмотрим на то, как распределены у нас значения в целевом признаке."
   ]
  },
  {
   "cell_type": "code",
   "execution_count": 63,
   "metadata": {},
   "outputs": [
    {
     "data": {
      "text/plain": [
       "0    0.7963\n",
       "1    0.2037\n",
       "Name: Exited, dtype: float64"
      ]
     },
     "execution_count": 63,
     "metadata": {},
     "output_type": "execute_result"
    }
   ],
   "source": [
    "class_frequency = target.value_counts(normalize=True)\n",
    "\n",
    "class_frequency"
   ]
  },
  {
   "cell_type": "code",
   "execution_count": 64,
   "metadata": {},
   "outputs": [
    {
     "data": {
      "image/png": "[encoded data removed]",
      "text/plain": [
       "<Figure size 432x288 with 1 Axes>"
      ]
     },
     "metadata": {
      "needs_background": "light"
     },
     "output_type": "display_data"
    }
   ],
   "source": [
    "class_frequency.plot(kind='bar')\n",
    "\n",
    "plt.title(\"Факт ушедшего клиента\", fontweight='bold', size='large')\n",
    "plt.ylabel(\"Частота, сообщения\")\n",
    "plt.xlabel(\"Факт ушедшего клиента\")\n",
    "plt.show()"
   ]
  },
  {
   "cell_type": "markdown",
   "metadata": {},
   "source": [
    "Число еще не ушедших клиентов в 4 раза больше, чем ушедших. 80% и 20%.\n",
    "\n",
    "Такая разница в данных может быть критична. Проверим как ведет себя модель, если ничего не делать с балансом классов."
   ]
  },
  {
   "cell_type": "markdown",
   "metadata": {},
   "source": [
    "### Изучение метрик модели без учёта дисбаланса"
   ]
  },
  {
   "cell_type": "markdown",
   "metadata": {},
   "source": [
    "Попробуем подобрать модель без учёта дисбаланса. В данном случае будем опираться на f1 меру, а не accuracy, так как нам важно именно то, как модель угадывает положительные значения целевого признака.\n",
    "\n",
    "Но для подобранной тестовой модели посмотрим на разные метрики, которые получаются по ней.\n",
    "\n",
    "Возьмем решающего дерева."
   ]
  },
  {
   "cell_type": "code",
   "execution_count": 65,
   "metadata": {},
   "outputs": [],
   "source": [
    "#модель решающее дерево по f1\n",
    "best_model_decision_tree = None\n",
    "best_result_decision_tree = 0\n",
    "best_depth_decision_tree = 0\n",
    "result = 0\n",
    "\n",
    "warnings.filterwarnings('ignore')\n",
    "for depth in range(1,20):\n",
    "    model = DecisionTreeClassifier(random_state=12345, max_depth=depth)\n",
    "    model.fit(features_train,target_train)\n",
    "    predictions_valid = model.predict(features_valid)\n",
    "    result = f1_score(target_valid, predictions_valid)\n",
    "    if result > best_result_decision_tree:\n",
    "        best_model_decision_tree = model\n",
    "        best_result_decision_tree = result\n",
    "        best_depth_decision_tree = depth\n",
    "        best_predictions_valid = predictions_valid"
   ]
  },
  {
   "cell_type": "code",
   "execution_count": 66,
   "metadata": {},
   "outputs": [
    {
     "data": {
      "text/plain": [
       "(0.5855072463768115, 8)"
      ]
     },
     "execution_count": 66,
     "metadata": {},
     "output_type": "execute_result"
    }
   ],
   "source": [
    "best_result_decision_tree, best_depth_decision_tree"
   ]
  },
  {
   "cell_type": "markdown",
   "metadata": {},
   "source": [
    "Итак, если смотреть по f1, то лучшая модель среди деревьев с глубиной 8 и f1 больше 0,58.\n",
    "\n",
    "Посмотрим на то, как модель ведет себя на тренировочной выборке."
   ]
  },
  {
   "cell_type": "code",
   "execution_count": 67,
   "metadata": {},
   "outputs": [
    {
     "data": {
      "text/plain": [
       "0.6604968339016074"
      ]
     },
     "execution_count": 67,
     "metadata": {},
     "output_type": "execute_result"
    }
   ],
   "source": [
    "predictions_train = best_model_decision_tree.predict(features_train)\n",
    "f1_score(target_train, predictions_train)"
   ]
  },
  {
   "cell_type": "markdown",
   "metadata": {},
   "source": [
    "На тренировочной выборке f1 больше, есть определенная проблема переобучения. Но насколько она большая? Сейчас разница около 7,5. Запомним и сравним с другими моделями."
   ]
  },
  {
   "cell_type": "markdown",
   "metadata": {},
   "source": [
    "Теперь посмотрим на соотношение классов в угаданных данных."
   ]
  },
  {
   "cell_type": "code",
   "execution_count": 68,
   "metadata": {},
   "outputs": [
    {
     "data": {
      "text/plain": [
       "0    0.8585\n",
       "1    0.1415\n",
       "dtype: float64"
      ]
     },
     "execution_count": 68,
     "metadata": {},
     "output_type": "execute_result"
    }
   ],
   "source": [
    "class_frequency2 = pd.Series(np.squeeze(best_predictions_valid)).value_counts(normalize=True)\n",
    "\n",
    "class_frequency2"
   ]
  },
  {
   "cell_type": "code",
   "execution_count": 69,
   "metadata": {},
   "outputs": [
    {
     "data": {
      "image/png": "[encoded data removed]",
      "text/plain": [
       "<Figure size 432x288 with 1 Axes>"
      ]
     },
     "metadata": {
      "needs_background": "light"
     },
     "output_type": "display_data"
    }
   ],
   "source": [
    "class_frequency2.plot(kind='bar')\n",
    "\n",
    "plt.title(\"Предсказание факта ушедшего клиента\", fontweight='bold', size='large')\n",
    "plt.ylabel(\"Частота, сообщения\")\n",
    "plt.xlabel(\"Предсказание факта ушедшего клиента\")\n",
    "plt.show()"
   ]
  },
  {
   "cell_type": "markdown",
   "metadata": {},
   "source": [
    "Видим, что дисбаланс классов в угадываемых значениях еще больше, чем в выборке с целевым признаком (85% и 15%). И не смотря на то, что f1 досточно хорошая, это может быть проблемой.\n",
    "\n",
    "Что будет с другими метриками? Ведь в данном задаче нам важно именно правильно вычислять потенциально ушедших (с целевым признаком 1). Посмотрим на матрицу ошибок состоящую из ложноположительных, ложноотрицательных и верных ответов (в разбивке на положительные и отрицательные)."
   ]
  },
  {
   "cell_type": "code",
   "execution_count": 70,
   "metadata": {},
   "outputs": [
    {
     "data": {
      "text/plain": [
       "array([[1512,   81],\n",
       "       [ 205,  202]])"
      ]
     },
     "execution_count": 70,
     "metadata": {},
     "output_type": "execute_result"
    }
   ],
   "source": [
    "confusion_matrix(target_valid, best_predictions_valid)"
   ]
  },
  {
   "cell_type": "markdown",
   "metadata": {},
   "source": [
    "Итак, мы получили:\n",
    "- TN (True Negative) - 1512;\n",
    "- TP (True Positive) - 202;\n",
    "- FP (False Positive) - 81;\n",
    "- FN (False Negative) - 205.\n",
    "\n",
    "Видим, что как раз больше угадывается негативных ответов (целевой признак - 0). А другие ответы достаточно малы относительно TN.\n",
    "\n",
    "Посмотрим на полноту, точность и accuracy по нашей модели, чтобы лучше понять есть ли у нас все-таки проблемы с моделью:"
   ]
  },
  {
   "cell_type": "code",
   "execution_count": 71,
   "metadata": {},
   "outputs": [
    {
     "data": {
      "text/plain": [
       "0.4963144963144963"
      ]
     },
     "execution_count": 71,
     "metadata": {},
     "output_type": "execute_result"
    }
   ],
   "source": [
    "recall_score(target_valid, best_predictions_valid)"
   ]
  },
  {
   "cell_type": "code",
   "execution_count": 72,
   "metadata": {},
   "outputs": [
    {
     "data": {
      "text/plain": [
       "0.7137809187279152"
      ]
     },
     "execution_count": 72,
     "metadata": {},
     "output_type": "execute_result"
    }
   ],
   "source": [
    "precision_score(target_valid, best_predictions_valid)"
   ]
  },
  {
   "cell_type": "code",
   "execution_count": 73,
   "metadata": {},
   "outputs": [
    {
     "data": {
      "text/plain": [
       "0.857"
      ]
     },
     "execution_count": 73,
     "metadata": {},
     "output_type": "execute_result"
    }
   ],
   "source": [
    "accuracy_score(target_valid, best_predictions_valid)"
   ]
  },
  {
   "cell_type": "markdown",
   "metadata": {},
   "source": [
    "Видим, что полнота очень плохая - всего 49%. Отсюда и мера F1 достаточно низкая - чуть больше 0,58, а точность лучше - 0,71.\n",
    "А вот accuracy конечно намного больше (0,857), но в данном случае мы на нее не ориентируемся.\n",
    "\n",
    "Проверим еще раз нашу модель на адекватность, сравним accuracy с моделью, которая всегда предсказыает 0."
   ]
  },
  {
   "cell_type": "code",
   "execution_count": 74,
   "metadata": {},
   "outputs": [
    {
     "data": {
      "text/plain": [
       "0.7965"
      ]
     },
     "execution_count": 74,
     "metadata": {},
     "output_type": "execute_result"
    }
   ],
   "source": [
    "target_pred_constant = pd.Series([0]*len(target_valid))\n",
    "\n",
    "accuracy_score(target_valid, target_pred_constant)"
   ]
  },
  {
   "cell_type": "markdown",
   "metadata": {},
   "source": [
    "Хоть наша модель и имеет accuracy больше, но не сильно много. 0,7965 и 0,857. \n",
    "\n",
    "Все-таки тут при поиске модели нужно опираться на f1 меру, а не acuuracy."
   ]
  },
  {
   "cell_type": "markdown",
   "metadata": {},
   "source": [
    "### Изучение разных моделей без учёта дисбаланса"
   ]
  },
  {
   "cell_type": "markdown",
   "metadata": {},
   "source": [
    "Лучшую модель решающего дерева мы уже подобрали без учета дисбаланса. Теперь подберем модель случайного леса и логистической регрессии,  опираясь на f1 меру. \n",
    "\n",
    "А результаты будем записывать вот так и по мере продвижения сохранять новые данные для тех моделей, которые попадут на следующие шаги:"
   ]
  },
  {
   "cell_type": "markdown",
   "metadata": {},
   "source": [
    "| N |       Model                | Parametrs  | f1 valid | f1 train |  new f1 train+valid | new f1 test  |\n",
    "|---|----------------------------|------------|----------|----------|-----------------------|--------------|\n",
    "| 1 | Decision tree, disbalansed | depth 8    | 0,585    | 0,660    |                        |              |"
   ]
  },
  {
   "cell_type": "markdown",
   "metadata": {},
   "source": [
    "Подберем теперь на модель случайного леса.\n",
    "\n",
    "Попробуем сначала подобрать гиперпараметры в цикле, а потом повторить это через поиск гиперпараметров по сетке."
   ]
  },
  {
   "cell_type": "code",
   "execution_count": 75,
   "metadata": {},
   "outputs": [],
   "source": [
    "#модель случайный лес цикл\n",
    "best_model_random_forest = None\n",
    "best_result_random_forest = 0\n",
    "best_depth_random_forest = 0\n",
    "best_est_random_forest = 0\n",
    "result = 0\n",
    "\n",
    "for est in range(1, 21):\n",
    "    for depth in range(1,11):\n",
    "        model = RandomForestClassifier(random_state=12345, max_depth=depth, n_estimators=est)\n",
    "        model.fit(features_train, target_train) \n",
    "        predictions_valid = model.predict(features_valid)\n",
    "        result = f1_score(target_valid, predictions_valid)\n",
    "        if result > best_result_random_forest:\n",
    "            best_model_random_forest = model\n",
    "            best_result_random_forest = result\n",
    "            best_depth_random_forest = depth\n",
    "            best_est_random_forest = est"
   ]
  },
  {
   "cell_type": "code",
   "execution_count": 76,
   "metadata": {},
   "outputs": [
    {
     "data": {
      "text/plain": [
       "(0.5622119815668204, 9, 3)"
      ]
     },
     "execution_count": 76,
     "metadata": {},
     "output_type": "execute_result"
    }
   ],
   "source": [
    "best_result_random_forest, best_depth_random_forest, best_est_random_forest"
   ]
  },
  {
   "cell_type": "markdown",
   "metadata": {},
   "source": [
    "Получили, что лучшая f1 мера достигается при 3 деревьях и глубине 9. Но она, к сожалению, даже меньше, чем была для решающего дерева. Посмотрим, как она ведет себя на тенировочной выборке."
   ]
  },
  {
   "cell_type": "code",
   "execution_count": 77,
   "metadata": {},
   "outputs": [
    {
     "data": {
      "text/plain": [
       "0.6493902439024389"
      ]
     },
     "execution_count": 77,
     "metadata": {},
     "output_type": "execute_result"
    }
   ],
   "source": [
    "predictions_train =  best_model_random_forest.predict(features_train)\n",
    "f1_score(target_train, predictions_train)"
   ]
  },
  {
   "cell_type": "markdown",
   "metadata": {},
   "source": [
    "На тренировочной f1 - 0,649, это меньше, чем у рандомного дерева, но разница с оценкой по валидационной еще выше. Тут проблема переобучения еще более актуальна."
   ]
  },
  {
   "cell_type": "code",
   "execution_count": 78,
   "metadata": {},
   "outputs": [],
   "source": [
    "rf = RandomForestClassifier(random_state=12345)\n",
    "parameters = { 'n_estimators': range(1, 21),\n",
    "              'max_depth': range(1, 11) }"
   ]
  },
  {
   "cell_type": "code",
   "execution_count": 79,
   "metadata": {},
   "outputs": [
    {
     "data": {
      "text/plain": [
       "GridSearchCV(cv='warn', error_score='raise-deprecating',\n",
       "             estimator=RandomForestClassifier(bootstrap=True, class_weight=None,\n",
       "                                              criterion='gini', max_depth=None,\n",
       "                                              max_features='auto',\n",
       "                                              max_leaf_nodes=None,\n",
       "                                              min_impurity_decrease=0.0,\n",
       "                                              min_impurity_split=None,\n",
       "                                              min_samples_leaf=1,\n",
       "                                              min_samples_split=2,\n",
       "                                              min_weight_fraction_leaf=0.0,\n",
       "                                              n_estimators='warn', n_jobs=None,\n",
       "                                              oob_score=False,\n",
       "                                              random_state=12345, verbose=0,\n",
       "                                              warm_start=False),\n",
       "             iid='warn', n_jobs=None,\n",
       "             param_grid={'max_depth': range(1, 11),\n",
       "                         'n_estimators': range(1, 21)},\n",
       "             pre_dispatch='2*n_jobs', refit=True, return_train_score=False,\n",
       "             scoring='f1', verbose=0)"
      ]
     },
     "execution_count": 79,
     "metadata": {},
     "output_type": "execute_result"
    }
   ],
   "source": [
    "grid_search = GridSearchCV(estimator = rf, param_grid = parameters, scoring='f1')\n",
    "grid_search.fit(features_train, target_train)"
   ]
  },
  {
   "cell_type": "code",
   "execution_count": 80,
   "metadata": {},
   "outputs": [
    {
     "data": {
      "text/plain": [
       "{'max_depth': 9, 'n_estimators': 16}"
      ]
     },
     "execution_count": 80,
     "metadata": {},
     "output_type": "execute_result"
    }
   ],
   "source": [
    "grid_search.best_params_"
   ]
  },
  {
   "cell_type": "markdown",
   "metadata": {},
   "source": [
    "Параметры получились другие 9 глубина и 16 деревьев. Это произошло потому что, тут лучшие параметры проверяются на тренировочной выборке. Проверим какие они получились."
   ]
  },
  {
   "cell_type": "code",
   "execution_count": 81,
   "metadata": {},
   "outputs": [
    {
     "data": {
      "text/plain": [
       "{'max_depth': 9, 'n_estimators': 16}"
      ]
     },
     "execution_count": 81,
     "metadata": {},
     "output_type": "execute_result"
    }
   ],
   "source": [
    "grid_search.best_params_"
   ]
  },
  {
   "cell_type": "code",
   "execution_count": 82,
   "metadata": {},
   "outputs": [
    {
     "data": {
      "text/plain": [
       "0.5221674876847291"
      ]
     },
     "execution_count": 82,
     "metadata": {},
     "output_type": "execute_result"
    }
   ],
   "source": [
    "model_grid_search_best = RandomForestClassifier(random_state=12345, max_depth=9, n_estimators=16)\n",
    "model_grid_search_best.fit(features_train, target_train)\n",
    "predictions_valid = model_grid_search_best.predict(features_valid)\n",
    "f1_score(target_valid, predictions_valid)"
   ]
  },
  {
   "cell_type": "code",
   "execution_count": 83,
   "metadata": {},
   "outputs": [
    {
     "data": {
      "text/plain": [
       "0.64034151547492"
      ]
     },
     "execution_count": 83,
     "metadata": {},
     "output_type": "execute_result"
    }
   ],
   "source": [
    "predictions_train =  model_grid_search_best.predict(features_train)\n",
    "f1_score(target_train, predictions_train)"
   ]
  },
  {
   "cell_type": "markdown",
   "metadata": {},
   "source": [
    "Разница очень большая, все-таки подбирать модель по значению тренировочной выборки не правильно. Возьмем для дальнейшего обучения модель, подобранную в цикле."
   ]
  },
  {
   "cell_type": "markdown",
   "metadata": {},
   "source": [
    "| N |       Model                | Parametrs  | f1 valid | f1 train |  new f1 train+valid | new f1 test  |\n",
    "|---|----------------------------|------------|----------|----------|------------------------------|--------------|\n",
    "| 1 | Decision tree, disbalansed | depth 8    | 0,585    | 0,660    |                             |              |\n",
    "| 2 | Random forest1, disbalansed| d 9, tr 3  | 0,562    | 0,649    |                            |              |"
   ]
  },
  {
   "cell_type": "markdown",
   "metadata": {},
   "source": [
    "У леса с таким ограничением на работу параметров не сильно отличается f1 мера. А что будет если посмотреть с большим количеством деревьев? Проверим, но чтобы не перребирать огромное число вариантов, сделаем шаг в 10 деревьев."
   ]
  },
  {
   "cell_type": "code",
   "execution_count": 84,
   "metadata": {},
   "outputs": [],
   "source": [
    "#модель случайный лес 2\n",
    "best_model_random_forest_2 = None\n",
    "best_result_random_forest_2 = 0\n",
    "best_depth_random_forest_2 = 0\n",
    "best_est_random_forest_2 = 0\n",
    "result = 0\n",
    "\n",
    "for est in range(10, 51, 10):\n",
    "    for depth in range(1,11):\n",
    "        model = RandomForestClassifier(random_state=12345, max_depth=depth, n_estimators=est)\n",
    "        model.fit(features_train, target_train) \n",
    "        predictions_valid = model.predict(features_valid)\n",
    "        result = f1_score(target_valid, predictions_valid)\n",
    "        if result > best_result_random_forest_2:\n",
    "            best_model_random_forest_2 = model\n",
    "            best_result_random_forest_2 = result\n",
    "            best_depth_random_forest_2 = depth\n",
    "            best_est_random_forest_2 = est"
   ]
  },
  {
   "cell_type": "code",
   "execution_count": 85,
   "metadata": {},
   "outputs": [
    {
     "data": {
      "text/plain": [
       "(0.5536, 10, 20)"
      ]
     },
     "execution_count": 85,
     "metadata": {},
     "output_type": "execute_result"
    }
   ],
   "source": [
    "best_result_random_forest_2, best_depth_random_forest_2, best_est_random_forest_2"
   ]
  },
  {
   "cell_type": "code",
   "execution_count": 86,
   "metadata": {},
   "outputs": [
    {
     "data": {
      "text/plain": [
       "0.6962351727694688"
      ]
     },
     "execution_count": 86,
     "metadata": {},
     "output_type": "execute_result"
    }
   ],
   "source": [
    "predictions_train =  best_model_random_forest_2.predict(features_train)\n",
    "f1_score(target_train, predictions_train)"
   ]
  },
  {
   "cell_type": "markdown",
   "metadata": {},
   "source": [
    "Увеличение числа деревьев не дает прироста f1 меры для моделей с бизбаллансом. Запомним результат."
   ]
  },
  {
   "cell_type": "markdown",
   "metadata": {},
   "source": [
    "| N |       Model                | Parametrs  | f1 valid | f1 train |  new f1 train+valid | new f1 test  |\n",
    "|---|----------------------------|------------|----------|----------|----------------------------|--------------|\n",
    "| 1 | Decision tree, disbalansed | depth 8    | 0,585    | 0,660    |                              |              |\n",
    "| 2 | Random forest1, disbalansed| d 9, tr 3  | 0,562    | 0,649    |                             |              |\n",
    "| 3 | Random forest2, disbalansed| d 10, tr 20| 0,553    | 0,696    |                             |              |"
   ]
  },
  {
   "cell_type": "markdown",
   "metadata": {},
   "source": [
    "Проверим последнюю модель логистической регрессии, и если не получим необходимый результат, то попробуем улучшить качество нашей модели уже борясь с дисбалансом классов."
   ]
  },
  {
   "cell_type": "code",
   "execution_count": 87,
   "metadata": {},
   "outputs": [],
   "source": [
    "#модель логистическая регрессия\n",
    "best_model_logistic_regression = None\n",
    "best_result_logistic_regression = 0\n",
    "best_iter_logistic_regression = 0\n",
    "best_solver_logistic_regression = None\n",
    "\n",
    "for iteration in range(100, 500, 100):\n",
    "    for solver in ('lbfgs', 'liblinear', 'sag', 'saga', 'newton-cg'):\n",
    "        model = LogisticRegression(random_state=12345, solver=solver, max_iter=iteration)\n",
    "        model.fit(features_train, target_train) \n",
    "        predictions_valid = model.predict(features_valid)\n",
    "        result = f1_score(target_valid, predictions_valid)\n",
    "        if result > best_result_logistic_regression:\n",
    "            best_model_logistic_regression = model\n",
    "            best_result_logistic_regression = result\n",
    "            best_iter_logistic_regression = iteration\n",
    "            best_solver_logistic_regression = solver"
   ]
  },
  {
   "cell_type": "code",
   "execution_count": 88,
   "metadata": {},
   "outputs": [
    {
     "data": {
      "text/plain": [
       "(0.32462686567164173, 100, 'lbfgs')"
      ]
     },
     "execution_count": 88,
     "metadata": {},
     "output_type": "execute_result"
    }
   ],
   "source": [
    "best_result_logistic_regression, best_iter_logistic_regression, best_solver_logistic_regression"
   ]
  },
  {
   "cell_type": "code",
   "execution_count": 89,
   "metadata": {},
   "outputs": [
    {
     "data": {
      "text/plain": [
       "0.30254184748915064"
      ]
     },
     "execution_count": 89,
     "metadata": {},
     "output_type": "execute_result"
    }
   ],
   "source": [
    "predictions_train =  best_model_logistic_regression.predict(features_train)\n",
    "f1_score(target_train, predictions_train)"
   ]
  },
  {
   "cell_type": "markdown",
   "metadata": {},
   "source": [
    "К сожалению, логистическая регрессия еще сильнее отстает от необходимой отметки f1 меры. Поэтому приступим к другим дальнейшим шагам для улучшения модели."
   ]
  },
  {
   "cell_type": "markdown",
   "metadata": {},
   "source": [
    "| N |       Model                | Parametrs  | f1 valid | f1 train | f1 test  | new f1 train+valid | new f1 test  |\n",
    "|---|----------------------------|------------|----------|----------|----------|--------------------|--------------|\n",
    "| 1 | Decision tree, disbalansed | depth 8    | 0,585    | 0,660    |          |                    |              |\n",
    "| 2 | Random forest1, disbalansed| d 9, tr 3  | 0,562    | 0,649    |          |                    |              |\n",
    "| 3 | Random forest2, disbalansed| d 10, tr 20| 0,553    | 0,696    |          |                    |              |\n",
    "| 4 | Logistic regr, disbalansed |iter 100, lb| 0,324    | 0,302    |          |                    |              |"
   ]
  },
  {
   "cell_type": "markdown",
   "metadata": {},
   "source": [
    "### Выводы шага"
   ]
  },
  {
   "cell_type": "markdown",
   "metadata": {},
   "source": [
    "Краткие итоги шага:\n",
    "- В целевом признаке наблюдается дисбаланс классов: число еще не ушедших клиентов в 4 раза больше, чем ушедших, 80% и 20%.\n",
    "- Такая разница влияет на модели при их обучении: они лучше предсказывают 0, а не 1. Отсбда можно наблюдать и дизбаланс классов в предсказаниях. А нам как раз важнее угадывать положительные ответы. \n",
    "- На тестовой модели случайного дерева при хорошей accuracy в 0,85 полнота полнота очень плохая - всего 49%. Отсюда и мера F1 достаточно низкая - чуть больше 0,58, а точность лучше - 0,71. \n",
    "- При поиске оптимальной модели без учета дисбаланса классов победила модель рандомного дерева. Но даже она не достигда оптимального значения f1 меры (только около 58%).\n",
    "\n",
    "| N |       Model                | Parametrs  | f1 valid | f1 train |  new f1 train+valid | new f1 test  |\n",
    "|---|----------------------------|------------|----------|----------|-----------------------------|--------------|\n",
    "| 1 | Decision tree, disbalansed | depth 8    | 0,585    | 0,660    |                              |              |\n",
    "| 2 | Random forest1, disbalansed| d 9, tr 3  | 0,562    | 0,649    |                              |              |\n",
    "| 3 | Random forest2, disbalansed| d 10, tr 20| 0,553    | 0,696    |                              |              |\n",
    "| 4 | Logistic regr, disbalansed |iter 100, lb| 0,324    | 0,302    |                              |              |\n",
    "\n",
    "Далее продолжим улучшать качетство модели борясь с дисбалансом классов."
   ]
  },
  {
   "cell_type": "markdown",
   "metadata": {},
   "source": [
    "## Борьба с дисбалансом"
   ]
  },
  {
   "cell_type": "markdown",
   "metadata": {},
   "source": [
    "### Параметр 'class_weight'"
   ]
  },
  {
   "cell_type": "markdown",
   "metadata": {},
   "source": [
    "Попробуем улучшить все наши модели. Сначала воспользуемся параметром class_weight. И применив его еще раз попробуем найти оптимальну модель. Ниже мы будем:\n",
    "- опять подбирать оптимальные гиперпараметры для наших моделей;\n",
    "- запоминать значение f1 на валидационной выборке;\n",
    "- и проверять его на тренироваочной."
   ]
  },
  {
   "cell_type": "code",
   "execution_count": 90,
   "metadata": {},
   "outputs": [],
   "source": [
    "#модель решающее дерево\n",
    "best_model_decision_tree = None\n",
    "best_result_decision_tree = 0\n",
    "best_depth_decision_tree = 0\n",
    "result = 0\n",
    "\n",
    "warnings.filterwarnings('ignore')\n",
    "for depth in range(1,11):\n",
    "    model = DecisionTreeClassifier(random_state=12345, class_weight='balanced', max_depth=depth)\n",
    "    model.fit(features_train,target_train)\n",
    "    predictions_valid = model.predict(features_valid)\n",
    "    result = f1_score(target_valid, predictions_valid)\n",
    "    if result > best_result_decision_tree:\n",
    "        best_model_decision_tree = model\n",
    "        best_result_decision_tree = result\n",
    "        best_depth_decision_tree = depth"
   ]
  },
  {
   "cell_type": "code",
   "execution_count": 91,
   "metadata": {},
   "outputs": [
    {
     "data": {
      "text/plain": [
       "(0.5685920577617328, 7)"
      ]
     },
     "execution_count": 91,
     "metadata": {},
     "output_type": "execute_result"
    }
   ],
   "source": [
    "best_result_decision_tree, best_depth_decision_tree"
   ]
  },
  {
   "cell_type": "code",
   "execution_count": 92,
   "metadata": {},
   "outputs": [
    {
     "data": {
      "text/plain": [
       "0.6234491315136477"
      ]
     },
     "execution_count": 92,
     "metadata": {},
     "output_type": "execute_result"
    }
   ],
   "source": [
    "predictions_train =  best_model_decision_tree.predict(features_train)\n",
    "f1_score(target_train, predictions_train)"
   ]
  },
  {
   "cell_type": "code",
   "execution_count": 93,
   "metadata": {},
   "outputs": [],
   "source": [
    "#модель случайный лес\n",
    "best_model_random_forest = None\n",
    "best_result_random_forest = 0\n",
    "best_depth_random_forest = 0\n",
    "best_est_random_forest = 0\n",
    "result = 0\n",
    "\n",
    "for est in range(1, 21):\n",
    "    for depth in range(1,11):\n",
    "        model = RandomForestClassifier(random_state=12345, class_weight='balanced', max_depth=depth, n_estimators=est)\n",
    "        model.fit(features_train, target_train) \n",
    "        predictions_valid = model.predict(features_valid)\n",
    "        result = f1_score(target_valid, predictions_valid)\n",
    "        if result > best_result_random_forest:\n",
    "            best_model_random_forest = model\n",
    "            best_result_random_forest = result\n",
    "            best_depth_random_forest = depth\n",
    "            best_est_random_forest = est"
   ]
  },
  {
   "cell_type": "code",
   "execution_count": 94,
   "metadata": {},
   "outputs": [
    {
     "data": {
      "text/plain": [
       "(0.6273224043715846, 8, 16)"
      ]
     },
     "execution_count": 94,
     "metadata": {},
     "output_type": "execute_result"
    }
   ],
   "source": [
    "best_result_random_forest, best_depth_random_forest, best_est_random_forest"
   ]
  },
  {
   "cell_type": "code",
   "execution_count": 95,
   "metadata": {},
   "outputs": [
    {
     "data": {
      "text/plain": [
       "0.6881878209831255"
      ]
     },
     "execution_count": 95,
     "metadata": {},
     "output_type": "execute_result"
    }
   ],
   "source": [
    "predictions_train =  best_model_random_forest.predict(features_train)\n",
    "f1_score(target_train, predictions_train)"
   ]
  },
  {
   "cell_type": "code",
   "execution_count": 96,
   "metadata": {},
   "outputs": [],
   "source": [
    "#модель случайный лес 2\n",
    "best_model_random_forest_2 = None\n",
    "best_result_random_forest_2 = 0\n",
    "best_depth_random_forest_2 = 0\n",
    "best_est_random_forest_2 = 0\n",
    "result = 0\n",
    "\n",
    "for est in range(10, 51, 10):\n",
    "    for depth in range(1,11):\n",
    "        model = RandomForestClassifier(random_state=12345, class_weight='balanced', max_depth=depth, n_estimators=est)\n",
    "        model.fit(features_train, target_train) \n",
    "        predictions_valid = model.predict(features_valid)\n",
    "        result = f1_score(target_valid, predictions_valid)\n",
    "        if result > best_result_random_forest_2:\n",
    "            best_model_random_forest_2 = model\n",
    "            best_result_random_forest_2 = result\n",
    "            best_depth_random_forest_2 = depth\n",
    "            best_est_random_forest_2 = est"
   ]
  },
  {
   "cell_type": "code",
   "execution_count": 97,
   "metadata": {},
   "outputs": [
    {
     "data": {
      "text/plain": [
       "(0.6340425531914893, 7, 50)"
      ]
     },
     "execution_count": 97,
     "metadata": {},
     "output_type": "execute_result"
    }
   ],
   "source": [
    "best_result_random_forest_2, best_depth_random_forest_2, best_est_random_forest_2"
   ]
  },
  {
   "cell_type": "code",
   "execution_count": 98,
   "metadata": {},
   "outputs": [
    {
     "data": {
      "text/plain": [
       "0.663287472845764"
      ]
     },
     "execution_count": 98,
     "metadata": {},
     "output_type": "execute_result"
    }
   ],
   "source": [
    "predictions_train =  best_model_random_forest_2.predict(features_train)\n",
    "f1_score(target_train, predictions_train)"
   ]
  },
  {
   "cell_type": "code",
   "execution_count": 99,
   "metadata": {},
   "outputs": [],
   "source": [
    "#модель логистическая регрессия\n",
    "best_model_logistic_regression = None\n",
    "best_result_logistic_regression = 0\n",
    "best_iter_logistic_regression = 0\n",
    "best_solver_logistic_regression = None\n",
    "\n",
    "for iteration in range(100, 500, 100):\n",
    "    for solver in ('lbfgs', 'liblinear', 'sag', 'saga', 'newton-cg'):\n",
    "        model = LogisticRegression(random_state=12345, class_weight='balanced', solver=solver, max_iter=iteration)\n",
    "        model.fit(features_train, target_train) \n",
    "        predictions_valid = model.predict(features_valid)\n",
    "        result = f1_score(target_valid, predictions_valid)\n",
    "        if result > best_result_logistic_regression:\n",
    "            best_model_logistic_regression = model\n",
    "            best_result_logistic_regression = result\n",
    "            best_iter_logistic_regression = iteration\n",
    "            best_solver_logistic_regression = solver"
   ]
  },
  {
   "cell_type": "code",
   "execution_count": 100,
   "metadata": {},
   "outputs": [
    {
     "data": {
      "text/plain": [
       "(0.5121951219512194, 100, 'lbfgs')"
      ]
     },
     "execution_count": 100,
     "metadata": {},
     "output_type": "execute_result"
    }
   ],
   "source": [
    "best_result_logistic_regression, best_iter_logistic_regression, best_solver_logistic_regression"
   ]
  },
  {
   "cell_type": "code",
   "execution_count": 101,
   "metadata": {},
   "outputs": [
    {
     "data": {
      "text/plain": [
       "0.47988422575976836"
      ]
     },
     "execution_count": 101,
     "metadata": {},
     "output_type": "execute_result"
    }
   ],
   "source": [
    "predictions_train =  best_model_logistic_regression.predict(features_train)\n",
    "f1_score(target_train, predictions_train)"
   ]
  },
  {
   "cell_type": "markdown",
   "metadata": {},
   "source": [
    "Отлично, запишем результаты новых моделей и посмотрим, что получилось."
   ]
  },
  {
   "cell_type": "markdown",
   "metadata": {},
   "source": [
    "| N |       Model                | Parametrs  | f1 valid | f1 train |  new f1 train+valid | new f1 test  |\n",
    "|---|----------------------------|------------|----------|----------|------------------------------|--------------|\n",
    "| 1 | Decision tree, disbalansed | depth 8    | 0,585    | 0,660    |                              |              |\n",
    "| 2 | Random forest1, disbalansed| d 9, tr 3  | 0,562    | 0,649    |                              |              |\n",
    "| 3 | Random forest2, disbalansed| d 10, tr 20| 0,553    | 0,696    |                              |              |\n",
    "| 4 | Logistic regr, disbalansed |iter 100, lb| 0,324    | 0,302    |                              |              |\n",
    "| 5 | Decision tree, balansed_1  | depth 7    | 0,568    | 0,623    |                              |              |\n",
    "| 6 | Random forest1, balansed_1 | d 8, tr 16 | 0,627    | 0,688    |                              |              |\n",
    "| 7 | Random forest2, balansed_1 | d 7, tr 50 |<b>0,634</b>| 0,663  |                           |              |\n",
    "| 8 | Logistic regr, balansed_1  |iter 100, lb| 0,512    | 0,479    |                              |              |\n"
   ]
  },
  {
   "cell_type": "markdown",
   "metadata": {},
   "source": [
    "Все метрики по почти всем моделям улучшились с примерением параметра class_weight.\n",
    "- Самый сильный скачок произошел у логистической регрессии с 0,324 до 0,512.\n",
    "- Самый незначительная разница у решающего дерева: даже упала f1 мера с 0,585 до 0,568 .\n",
    "- А вот обе модели случайного леса достигли 0,59 и даже превысыли его (0,627 и 0,634) вместо прошлых значений около 0,55. Хотя и подобранные гиперпараметры немного изменились (теперь глубина 8 и 16 деревьев для модели 1, и глубина 7 и 50 деревьев для модели 2).\n",
    "- Также для модели случайного леса 2 самая маленькая разница f1 меры относительно тренировочной выборки. И это еще с просто лучшим показателем f1 на валидационной. У нас однозначно есть лидер."
   ]
  },
  {
   "cell_type": "markdown",
   "metadata": {},
   "source": [
    "### Уменьшение и увеличение выборок"
   ]
  },
  {
   "cell_type": "markdown",
   "metadata": {},
   "source": [
    "Так как мы помним, что наше соотношение выборок - это 80% и 20%. Рассмотрим 2 способа: \n",
    "- уменьшим первую часть в 4 раза, \n",
    "- вторую увеличим в 4 раза.\n",
    "\n",
    "Напишем функции, которые делают это. И проверим как изменились классы."
   ]
  },
  {
   "cell_type": "code",
   "execution_count": 102,
   "metadata": {},
   "outputs": [],
   "source": [
    "def upsample(features, target, repeat):\n",
    "    features_zeros = features[target == 0]\n",
    "    features_ones = features[target == 1]\n",
    "    target_zeros = target[target == 0]\n",
    "    target_ones = target[target == 1]\n",
    "\n",
    "    features_upsampled = pd.concat([features_zeros] + [features_ones] * repeat)\n",
    "    target_upsampled = pd.concat([target_zeros] + [target_ones] * repeat)\n",
    "    \n",
    "    features_upsampled, target_upsampled = shuffle(\n",
    "        features_upsampled, target_upsampled, random_state=12345)\n",
    "    \n",
    "    return features_upsampled, target_upsampled\n",
    "\n",
    "features_upsampled, target_upsampled = upsample(features_train, target_train, 4)"
   ]
  },
  {
   "cell_type": "code",
   "execution_count": 103,
   "metadata": {},
   "outputs": [],
   "source": [
    "def downsample(features, target, fraction):\n",
    "    features_zeros = features[target == 0]\n",
    "    features_ones = features[target == 1]\n",
    "    target_zeros = target[target == 0]\n",
    "    target_ones = target[target == 1]\n",
    "\n",
    "    features_downsampled = pd.concat(\n",
    "        [features_zeros.sample(frac=fraction, random_state=12345)] + [features_ones])\n",
    "    target_downsampled = pd.concat(\n",
    "        [target_zeros.sample(frac=fraction, random_state=12345)] + [target_ones])\n",
    "    \n",
    "    features_downsampled, target_downsampled = shuffle(\n",
    "        features_downsampled, target_downsampled, random_state=12345)\n",
    "    \n",
    "    return features_downsampled, target_downsampled\n",
    "\n",
    "features_downsampled, target_downsampled = downsample(features_train, target_train, 0.25)"
   ]
  },
  {
   "cell_type": "code",
   "execution_count": 104,
   "metadata": {},
   "outputs": [
    {
     "data": {
      "text/plain": [
       "1    0.505947\n",
       "0    0.494053\n",
       "Name: Exited, dtype: float64"
      ]
     },
     "execution_count": 104,
     "metadata": {},
     "output_type": "execute_result"
    }
   ],
   "source": [
    "class_frequency3 = target_upsampled.value_counts(normalize=True)\n",
    "\n",
    "class_frequency3"
   ]
  },
  {
   "cell_type": "code",
   "execution_count": 105,
   "metadata": {},
   "outputs": [
    {
     "data": {
      "text/plain": [
       "1    0.505999\n",
       "0    0.494001\n",
       "Name: Exited, dtype: float64"
      ]
     },
     "execution_count": 105,
     "metadata": {},
     "output_type": "execute_result"
    }
   ],
   "source": [
    "class_frequency4 = target_downsampled.value_counts(normalize=True)\n",
    "\n",
    "class_frequency4"
   ]
  },
  {
   "cell_type": "markdown",
   "metadata": {},
   "source": [
    "Оба класса получились почти равные и при увеличении, и при уменьшении нужных частей выборок. Посмотрим как это выглядит на графиках."
   ]
  },
  {
   "cell_type": "code",
   "execution_count": 106,
   "metadata": {},
   "outputs": [
    {
     "data": {
      "image/png": "[encoded data removed]",
      "text/plain": [
       "<Figure size 432x288 with 1 Axes>"
      ]
     },
     "metadata": {
      "needs_background": "light"
     },
     "output_type": "display_data"
    },
    {
     "data": {
      "image/png": "[encoded data removed]",
      "text/plain": [
       "<Figure size 432x288 with 1 Axes>"
      ]
     },
     "metadata": {
      "needs_background": "light"
     },
     "output_type": "display_data"
    }
   ],
   "source": [
    "class_frequency3.plot(kind='bar')\n",
    "\n",
    "plt.title(\"Выборка после увеличения 1 результатов\", fontweight='bold', size='large')\n",
    "plt.ylabel(\"Частота, сообщения\")\n",
    "plt.xlabel(\"Факт ушедшего клиента\")\n",
    "plt.show()\n",
    "\n",
    "class_frequency4.plot(kind='bar')\n",
    "\n",
    "plt.title(\"Выборка после уменьшения 0 результатов\", fontweight='bold', size='large')\n",
    "plt.ylabel(\"Частота, сообщения\")\n",
    "plt.xlabel(\"Факт ушедшего клиента\")\n",
    "plt.show()"
   ]
  },
  {
   "cell_type": "markdown",
   "metadata": {},
   "source": [
    "Отлично, теперь попробуем заново подобрать гиперпараметры для каждой из наших моделей на обоих выборках. Возможно метрики еще улучшатся.\n",
    "\n",
    "Если это произойдет (f1 на валидационной станет больше 0,634), то запомним этот способ. Если нет, остановимся на прошлом методе балансировки.\n",
    "\n",
    "Далее выборку из уменьшенного и увеличенных наборов будем перебирать в одном цикле как параметр, а запоминать как лучшее значение будем длину массива, на котором был достигнут лучший результат. (Это самый легкий параметр, который поможет ее определить без присваивания дополнительных атрибутов.)"
   ]
  },
  {
   "cell_type": "code",
   "execution_count": 107,
   "metadata": {},
   "outputs": [
    {
     "data": {
      "text/plain": [
       "(9669, 2417)"
      ]
     },
     "execution_count": 107,
     "metadata": {},
     "output_type": "execute_result"
    }
   ],
   "source": [
    "len(target_upsampled), len(target_downsampled)"
   ]
  },
  {
   "cell_type": "markdown",
   "metadata": {},
   "source": [
    "Отлично, 9669 - это upsampled. А 2417 - это downsampled."
   ]
  },
  {
   "cell_type": "code",
   "execution_count": 108,
   "metadata": {},
   "outputs": [],
   "source": [
    "#модель решающее дерево с upsampled и downsampled\n",
    "best_model_decision_tree = None\n",
    "best_result_decision_tree = 0\n",
    "best_depth_decision_tree = 0\n",
    "best_len_set_decision_tree = 0\n",
    "upsampled = (features_upsampled, target_upsampled)\n",
    "downsampled = (features_downsampled, target_downsampled)\n",
    "\n",
    "for set in (upsampled, downsampled):\n",
    "    for depth in range(1,11):\n",
    "        model = DecisionTreeClassifier(random_state=12345, max_depth=depth)\n",
    "        model.fit(set[0],set[1])\n",
    "        predictions_valid = model.predict(features_valid)\n",
    "        result = f1_score(target_valid, predictions_valid)\n",
    "        if result > best_result_decision_tree:\n",
    "            best_model_decision_tree = model\n",
    "            best_result_decision_tree = result\n",
    "            best_depth_decision_tree = depth\n",
    "            best_len_set_decision_tree = len(set[1])"
   ]
  },
  {
   "cell_type": "code",
   "execution_count": 109,
   "metadata": {},
   "outputs": [
    {
     "data": {
      "text/plain": [
       "(0.5921450151057401, 6, 2417)"
      ]
     },
     "execution_count": 109,
     "metadata": {},
     "output_type": "execute_result"
    }
   ],
   "source": [
    "best_result_decision_tree, best_depth_decision_tree, best_len_set_decision_tree"
   ]
  },
  {
   "cell_type": "code",
   "execution_count": 110,
   "metadata": {},
   "outputs": [
    {
     "data": {
      "text/plain": [
       "0.6020159888773028"
      ]
     },
     "execution_count": 110,
     "metadata": {},
     "output_type": "execute_result"
    }
   ],
   "source": [
    "predictions_train =  best_model_decision_tree.predict(features_train)\n",
    "f1_score(target_train, predictions_train)"
   ]
  },
  {
   "cell_type": "markdown",
   "metadata": {},
   "source": [
    "Для рандомного дерева лучше всех сработало улучшение баланса через уменьшение выборки отрицательных ответов. Но при этом до лучших показателей пока далеко."
   ]
  },
  {
   "cell_type": "markdown",
   "metadata": {},
   "source": [
    "| N |       Model                | Parametrs  | f1 valid | f1 train | new f1 train+valid | new f1 test  |\n",
    "|---|----------------------------|------------|----------|----------|-----------------------------|--------------|\n",
    "| 1 | Decision tree, disbalansed | depth 8    | 0,585    | 0,660    |                            |              |\n",
    "| 2 | Random forest1, disbalansed| d 9, tr 3  | 0,562    | 0,649    |                             |              |\n",
    "| 3 | Random forest2, disbalansed| d 10, tr 20| 0,553    | 0,696    |                             |              |\n",
    "| 4 | Logistic regr, disbalansed |iter 100, lb| 0,324    | 0,302    |                             |              |\n",
    "| 5 | Decision tree, balansed_1  | depth 7    | 0,568    | 0,623    |                             |              |\n",
    "| 6 | Random forest1, balansed_1 | d 8, tr 16 | 0,627    | 0,688    |                             |              |\n",
    "| 7 | Random forest2, balansed_1 | d 7, tr 50 |<b>0,634</b>| 0,663    |                             |              |\n",
    "| 8 | Logistic regr, balansed_1  |iter 100, lb| 0,512    | 0,479    |                             |              |\n",
    "| 9 | Decision tree, balansed_2  |down, depth 6| 0,592    | 0,602    |                             |              |"
   ]
  },
  {
   "cell_type": "code",
   "execution_count": 111,
   "metadata": {},
   "outputs": [],
   "source": [
    "#модель случайный лес с upsampled и downsampled\n",
    "best_model_random_forest = None\n",
    "best_result_random_forest = 0\n",
    "best_depth_random_forest = 0\n",
    "best_est_random_forest = 0\n",
    "best_len_set_random_forest = 0\n",
    "\n",
    "for set in (upsampled, downsampled):\n",
    "    for est in range(1, 21):\n",
    "        for depth in range(1,11):\n",
    "            model = RandomForestClassifier(random_state=12345, max_depth=depth, n_estimators=est)\n",
    "            model.fit(set[0],set[1]) \n",
    "            predictions_valid = model.predict(features_valid)\n",
    "            result = f1_score(target_valid, predictions_valid)\n",
    "            if result > best_result_random_forest:\n",
    "                best_model_random_forest = model\n",
    "                best_result_random_forest = result\n",
    "                best_depth_random_forest = depth\n",
    "                best_est_random_forest = est\n",
    "                best_len_set_random_forest = len(set[1])"
   ]
  },
  {
   "cell_type": "code",
   "execution_count": 112,
   "metadata": {},
   "outputs": [
    {
     "data": {
      "text/plain": [
       "(0.629822732012513, 9, 17, 9669)"
      ]
     },
     "execution_count": 112,
     "metadata": {},
     "output_type": "execute_result"
    }
   ],
   "source": [
    "best_result_random_forest, best_depth_random_forest, best_est_random_forest, best_len_set_random_forest"
   ]
  },
  {
   "cell_type": "code",
   "execution_count": 113,
   "metadata": {},
   "outputs": [
    {
     "data": {
      "text/plain": [
       "0.7323644097837646"
      ]
     },
     "execution_count": 113,
     "metadata": {},
     "output_type": "execute_result"
    }
   ],
   "source": [
    "predictions_train =  best_model_random_forest.predict(features_train)\n",
    "f1_score(target_train, predictions_train)"
   ]
  },
  {
   "cell_type": "markdown",
   "metadata": {},
   "source": [
    "Видим, что тут наоброт лучше сработала выборка upsampled, но на ваидационной значение хуже максимума, который у нас был. А переобучение еще больше.\n",
    "\n",
    "| N |       Model                | Parametrs  | f1 valid | f1 train |  new f1 train+valid | new f1 test  |\n",
    "|---|----------------------------|------------|----------|----------|------------------------------|--------------|\n",
    "| 1 | Decision tree, disbalansed | depth 8    | 0,585    | 0,660    |                              |              |\n",
    "| 2 | Random forest1, disbalansed| d 9, tr 3  | 0,562    | 0,649    |                             |              |\n",
    "| 3 | Random forest2, disbalansed| d 10, tr 20| 0,553    | 0,696    |                              |              |\n",
    "| 4 | Logistic regr, disbalansed |iter 100, lb| 0,324    | 0,302    |                              |              |\n",
    "| 5 | Decision tree, balansed_1  | depth 7    | 0,568    | 0,623    |                              |              |\n",
    "| 6 | Random forest1, balansed_1 | d 8, tr 16 | 0,627    | 0,688    |                              |              |\n",
    "| 7 | Random forest2, balansed_1 | d 7, tr 50 |<b>0,634</b>| 0,663    |                              |              |\n",
    "| 8 | Logistic regr, balansed_1  |iter 100, lb| 0,512    | 0,479    |                              |              |\n",
    "| 9 | Decision tree, balansed_2  |down, depth 6| 0,592    | 0,602    |                             |              |\n",
    "| 10| Random forest1, balansed_2 |up, d 9, tr 17| 0,629    | 0,732    |                             |              |"
   ]
  },
  {
   "cell_type": "code",
   "execution_count": 114,
   "metadata": {},
   "outputs": [],
   "source": [
    "#модель случайный лес 2 с upsampled и downsampled\n",
    "best_model_random_forest_2 = None\n",
    "best_result_random_forest_2 = 0\n",
    "best_depth_random_forest_2 = 0\n",
    "best_est_random_forest_2 = 0\n",
    "best_len_set_random_forest_2 = 0\n",
    "\n",
    "for set in (upsampled, downsampled):\n",
    "    for est in range(10, 51, 10):\n",
    "        for depth in range(1,11):\n",
    "            model = RandomForestClassifier(random_state=12345, max_depth=depth, n_estimators=est)\n",
    "            model.fit(set[0],set[1]) \n",
    "            predictions_valid = model.predict(features_valid)\n",
    "            result = f1_score(target_valid, predictions_valid)\n",
    "            if result > best_result_random_forest_2:\n",
    "                best_model_random_forest_2 = model\n",
    "                best_result_random_forest_2 = result\n",
    "                best_depth_random_forest_2 = depth\n",
    "                best_est_random_forest_2 = est\n",
    "                best_len_set_random_forest_2 = len(set[1])"
   ]
  },
  {
   "cell_type": "code",
   "execution_count": 115,
   "metadata": {},
   "outputs": [
    {
     "data": {
      "text/plain": [
       "(0.6337271750805586, 10, 40, 9669)"
      ]
     },
     "execution_count": 115,
     "metadata": {},
     "output_type": "execute_result"
    }
   ],
   "source": [
    "best_result_random_forest_2, best_depth_random_forest_2, best_est_random_forest_2, best_len_set_random_forest_2"
   ]
  },
  {
   "cell_type": "code",
   "execution_count": 116,
   "metadata": {},
   "outputs": [
    {
     "data": {
      "text/plain": [
       "0.7998560115190785"
      ]
     },
     "execution_count": 116,
     "metadata": {},
     "output_type": "execute_result"
    }
   ],
   "source": [
    "predictions_train =  best_model_random_forest_2.predict(features_train)\n",
    "f1_score(target_train, predictions_train)"
   ]
  },
  {
   "cell_type": "markdown",
   "metadata": {},
   "source": [
    "Видим, что для upsampled почти догнала наш максимум, но нет. И тут опять есть проблема переобучения.\n",
    "\n",
    "| N |       Model                | Parametrs  | f1 valid | f1 train |  new f1 train+valid | new f1 test  |\n",
    "|---|----------------------------|------------|----------|----------|---------------------------|--------------|\n",
    "| 1 | Decision tree, disbalansed | depth 8    | 0,585    | 0,660    |                              |              |\n",
    "| 2 | Random forest1, disbalansed| d 9, tr 3  | 0,562    | 0,649    |                             |              |\n",
    "| 3 | Random forest2, disbalansed| d 10, tr 20| 0,553    | 0,696    |                             |              |\n",
    "| 4 | Logistic regr, disbalansed |iter 100, lb| 0,324    | 0,302    |                              |              |\n",
    "| 5 | Decision tree, balansed_1  | depth 7    | 0,568    | 0,623    |                              |              |\n",
    "| 6 | Random forest1, balansed_1 | d 8, tr 16 | 0,627    | 0,688    |                              |              |\n",
    "| 7 | Random forest2, balansed_1 | d 7, tr 50 |<b>0,634</b>| 0,663    |                             |              |\n",
    "| 8 | Logistic regr, balansed_1  |iter 100, lb| 0,512    | 0,479    |                              |              |\n",
    "| 9 | Decision tree, balansed_2  |down, depth 6| 0,592    | 0,602    |                              |              |\n",
    "| 10| Random forest1, balansed_2 |up, d 9, tr 17| 0,629    | 0,732    |                              |              |\n",
    "| 11| Random forest2, balansed_2 |up, d 10, tr 40| 0,633    | 0,799    |                            |              |"
   ]
  },
  {
   "cell_type": "code",
   "execution_count": 117,
   "metadata": {},
   "outputs": [],
   "source": [
    "#модель логистическая регрессия\n",
    "best_model_logistic_regression = None\n",
    "best_result_logistic_regression = 0\n",
    "best_iter_logistic_regression = 0\n",
    "best_solver_logistic_regression = None\n",
    "best_len_set_logistic_regression = 0\n",
    "\n",
    "for set in (upsampled, downsampled):\n",
    "    for iteration in range(100, 500, 100):\n",
    "        for solver in ('lbfgs', 'liblinear', 'sag', 'saga', 'newton-cg'):\n",
    "            model = LogisticRegression(random_state=12345, solver=solver, max_iter=iteration)\n",
    "            model.fit(set[0],set[1]) \n",
    "            predictions_valid = model.predict(features_valid)\n",
    "            result = f1_score(target_valid, predictions_valid)\n",
    "            if result > best_result_logistic_regression:\n",
    "                best_model_logistic_regression = model\n",
    "                best_result_logistic_regression = result\n",
    "                best_iter_logistic_regression = iteration\n",
    "                best_solver_logistic_regression = solver\n",
    "                best_len_set_logistic_regression = len(set[1])"
   ]
  },
  {
   "cell_type": "code",
   "execution_count": 118,
   "metadata": {},
   "outputs": [
    {
     "data": {
      "text/plain": [
       "(0.5085910652920962, 100, 'lbfgs', 9669)"
      ]
     },
     "execution_count": 118,
     "metadata": {},
     "output_type": "execute_result"
    }
   ],
   "source": [
    "(best_result_logistic_regression, best_iter_logistic_regression,\n",
    " best_solver_logistic_regression, best_len_set_logistic_regression)"
   ]
  },
  {
   "cell_type": "code",
   "execution_count": 119,
   "metadata": {},
   "outputs": [
    {
     "data": {
      "text/plain": [
       "0.479107040641099"
      ]
     },
     "execution_count": 119,
     "metadata": {},
     "output_type": "execute_result"
    }
   ],
   "source": [
    "predictions_train =  best_model_logistic_regression.predict(features_train)\n",
    "f1_score(target_train, predictions_train)"
   ]
  },
  {
   "cell_type": "markdown",
   "metadata": {},
   "source": [
    "Видим, что для upsampled значение лучше, но не намного. И параметр class_weight работает лучше для логистической регрессии.\n",
    "\n",
    "| N |       Model                | Parametrs  | f1 valid | f1 train |  new f1 train+valid | new f1 test  |\n",
    "|---|----------------------------|------------|----------|----------|-----------------------------|--------------|\n",
    "| 1 | Decision tree, disbalansed | depth 8    | 0,585    | 0,660    |                             |              |\n",
    "| 2 | Random forest1, disbalansed| d 9, tr 3  | 0,562    | 0,649    |                             |              |\n",
    "| 3 | Random forest2, disbalansed| d 10, tr 20| 0,553    | 0,696    |                             |              |\n",
    "| 4 | Logistic regr, disbalansed |iter 100, lb| 0,324    | 0,302    |                             |              |\n",
    "| 5 | Decision tree, balansed_1  | depth 7    | 0,568    | 0,623    |                          |              |\n",
    "| 6 | Random forest1, balansed_1 | d 8, tr 16 | 0,627    | 0,688    |                             |              |\n",
    "| 7 | Random forest2, balansed_1 | d 7, tr 50 |<b>0,634</b>| 0,663    |                          |              |\n",
    "| 8 | Logistic regr, balansed_1  |iter 100, lb| 0,512    | 0,479    |                             |              |\n",
    "| 9 | Decision tree, balansed_2  |down, depth 6| 0,592    | 0,602    |                            |              |\n",
    "| 10| Random forest1, balansed_2 |up, d 9, tr 17| 0,629    | 0,732    |                            |              |\n",
    "| 11| Random forest2, balansed_2 |up, d 10, tr 40| 0,633    | 0,799    |                          |              |\n",
    "| 12| Logistic regr, balansed_2  |up, iter 100, lb| 0,508    | 0,479    |                          |              |"
   ]
  },
  {
   "cell_type": "markdown",
   "metadata": {},
   "source": [
    "### Итоги борьбы с дисбалансом и выбор финальной модели"
   ]
  },
  {
   "cell_type": "markdown",
   "metadata": {},
   "source": [
    "К сожалению, увеличение и уменьшение выборк не дали нам прироста в мере f1, глобально. Хотя длся решаюшего дерева значение и улучшилось, но для остальных ухудшилось. Поэтому остановимся на моделях случайного леса с примененным параметром class_weight.\n",
    "\n",
    "А именно на моделе 2 (в таблице Random forest2, balansed_1), так как f1 лучше всех - 0,634, а проблема переобучения самая маленькая.\n",
    "\n",
    "На второе место я бы поставла модель Random forest1, balansed_1, где применяли параметр class_weight.\n",
    "Возможно у нее f1 на валидационной яуть ниже чем у сбалансированных другим методом. Но проблема переобучения намного ниже. Сохраним их и запомним. И посмотрим на их ROC-кривые."
   ]
  },
  {
   "cell_type": "code",
   "execution_count": 120,
   "metadata": {},
   "outputs": [
    {
     "data": {
      "text/plain": [
       "(0.828, 0.7321867321867321, 0.5590994371482176, 0.6340425531914893)"
      ]
     },
     "execution_count": 120,
     "metadata": {},
     "output_type": "execute_result"
    }
   ],
   "source": [
    "best_model_1 = RandomForestClassifier(random_state=12345, class_weight='balanced', max_depth=7, n_estimators=50)\n",
    "best_model_1.fit(features_train, target_train) \n",
    "predictions_valid = best_model_1.predict(features_valid)\n",
    "\n",
    "(accuracy_score(target_valid, predictions_valid), recall_score(target_valid, predictions_valid), \n",
    " precision_score(target_valid, predictions_valid), f1_score(target_valid, predictions_valid))"
   ]
  },
  {
   "cell_type": "code",
   "execution_count": 121,
   "metadata": {},
   "outputs": [
    {
     "data": {
      "image/png": "[encoded data removed]",
      "text/plain": [
       "<Figure size 432x288 with 1 Axes>"
      ]
     },
     "metadata": {
      "needs_background": "light"
     },
     "output_type": "display_data"
    }
   ],
   "source": [
    "#ROC-кривая для лучшей модели случайного леса\n",
    "probabilities_valid = best_model_1.predict_proba(features_valid)\n",
    "probabilities_one_valid = probabilities_valid[:, 1]\n",
    "\n",
    "fpr, tpr, thresholds = roc_curve(target_valid, probabilities_one_valid)\n",
    "\n",
    "plt.figure()\n",
    "plt.plot(fpr, tpr)\n",
    "plt.plot([0, 1], [0, 1], linestyle='--')\n",
    "plt.xlim([0.0, 1.0])\n",
    "plt.ylim([0.0, 1.0])\n",
    "plt.xlabel('False Positive Rate')\n",
    "plt.ylabel('True Positive Rate')\n",
    "plt.title('ROC-кривая для Random forest2, balansed_1')\n",
    "plt.show()"
   ]
  },
  {
   "cell_type": "code",
   "execution_count": 122,
   "metadata": {},
   "outputs": [
    {
     "data": {
      "text/plain": [
       "0.8712518373535323"
      ]
     },
     "execution_count": 122,
     "metadata": {},
     "output_type": "execute_result"
    }
   ],
   "source": [
    "auc_roc = roc_auc_score(target_valid, probabilities_one_valid)\n",
    "\n",
    "auc_roc"
   ]
  },
  {
   "cell_type": "markdown",
   "metadata": {},
   "source": [
    "Теперь посмотрим на другую модель."
   ]
  },
  {
   "cell_type": "code",
   "execution_count": 123,
   "metadata": {},
   "outputs": [
    {
     "data": {
      "text/plain": [
       "(0.8295, 0.7051597051597052, 0.5649606299212598, 0.6273224043715846)"
      ]
     },
     "execution_count": 123,
     "metadata": {},
     "output_type": "execute_result"
    }
   ],
   "source": [
    "best_model_2 = RandomForestClassifier(random_state=12345, class_weight='balanced', max_depth=8, n_estimators=16)\n",
    "best_model_2.fit(features_train, target_train)\n",
    "predictions_valid = best_model_2.predict(features_valid)\n",
    "\n",
    "(accuracy_score(target_valid, predictions_valid), recall_score(target_valid, predictions_valid), \n",
    " precision_score(target_valid, predictions_valid), f1_score(target_valid, predictions_valid))"
   ]
  },
  {
   "cell_type": "code",
   "execution_count": 124,
   "metadata": {},
   "outputs": [
    {
     "data": {
      "image/png": "[encoded data removed]",
      "text/plain": [
       "<Figure size 432x288 with 1 Axes>"
      ]
     },
     "metadata": {
      "needs_background": "light"
     },
     "output_type": "display_data"
    }
   ],
   "source": [
    "#ROC-кривая для другой модели случайного леса\n",
    "probabilities_valid = best_model_2.predict_proba(features_valid)\n",
    "probabilities_one_valid = probabilities_valid[:, 1]\n",
    "\n",
    "fpr, tpr, thresholds = roc_curve(target_valid, probabilities_one_valid)\n",
    "\n",
    "plt.figure()\n",
    "plt.plot(fpr, tpr)\n",
    "plt.plot([0, 1], [0, 1], linestyle='--')\n",
    "plt.xlim([0.0, 1.0])\n",
    "plt.ylim([0.0, 1.0])\n",
    "plt.xlabel('False Positive Rate')\n",
    "plt.ylabel('True Positive Rate')\n",
    "plt.title('ROC-кривая для Random forest1, balansed_1')\n",
    "plt.show()"
   ]
  },
  {
   "cell_type": "code",
   "execution_count": 125,
   "metadata": {},
   "outputs": [
    {
     "data": {
      "text/plain": [
       "0.8631011597113293"
      ]
     },
     "execution_count": 125,
     "metadata": {},
     "output_type": "execute_result"
    }
   ],
   "source": [
    "auc_roc = roc_auc_score(target_valid, probabilities_one_valid)\n",
    "\n",
    "auc_roc"
   ]
  },
  {
   "cell_type": "markdown",
   "metadata": {},
   "source": [
    "И все-таки модель: которую мы изначально выбрали Random forest2, balansed_1 немного выходит вперед по показателям. И площадь под ROC-кривой у нее больше (0,871), чем у другой модели (0,863).\n",
    "\n",
    "Поэтому правильно, что мы выбрали именно ее. Далее переобучим именно ее и протестируем."
   ]
  },
  {
   "cell_type": "markdown",
   "metadata": {},
   "source": [
    "## Тестирование модели"
   ]
  },
  {
   "cell_type": "markdown",
   "metadata": {},
   "source": [
    "Переобучим финальную модель на сбалансированной объединенной выборке (тренировочной и валидационой). И протестируем потом.\n",
    "\n",
    "Когда мы делили выборки, то уже сохранили объединенную выборку, возпользуемся ей."
   ]
  },
  {
   "cell_type": "code",
   "execution_count": 126,
   "metadata": {},
   "outputs": [
    {
     "data": {
      "text/plain": [
       "(0.835125, 0.7680981595092025, 0.5709074327405381, 0.6549829976458279)"
      ]
     },
     "execution_count": 126,
     "metadata": {},
     "output_type": "execute_result"
    }
   ],
   "source": [
    "best_model_1 = RandomForestClassifier(random_state=12345, class_weight='balanced', max_depth=7, n_estimators=50)\n",
    "best_model_1.fit(features_temp, target_temp) \n",
    "predictions_temp = best_model_1.predict(features_temp)\n",
    "\n",
    "(accuracy_score(target_temp, predictions_temp), recall_score(target_temp, predictions_temp), \n",
    " precision_score(target_temp, predictions_temp), f1_score(target_temp, predictions_temp))"
   ]
  },
  {
   "cell_type": "markdown",
   "metadata": {},
   "source": [
    "На объединенной выборке (тренировочной и валидационной) f1 даже улучшилась.\n",
    "- accuracy 0.835;\n",
    "- recall 0.768;\n",
    "- precision 0.570;\n",
    "- f1-score 0,654.\n",
    "\n",
    "Теперь посмотрим на тестовой."
   ]
  },
  {
   "cell_type": "code",
   "execution_count": 127,
   "metadata": {},
   "outputs": [
    {
     "data": {
      "text/plain": [
       "(0.824, 0.7493857493857494, 0.5495495495495496, 0.6340956340956342)"
      ]
     },
     "execution_count": 127,
     "metadata": {},
     "output_type": "execute_result"
    }
   ],
   "source": [
    "predictions_test = best_model_1.predict(features_test)\n",
    "\n",
    "(accuracy_score(target_test, predictions_test), recall_score(target_test, predictions_test), \n",
    " precision_score(target_test, predictions_test), f1_score(target_test, predictions_test))"
   ]
  },
  {
   "cell_type": "markdown",
   "metadata": {},
   "source": [
    "На тестовой получились отличные значения:\n",
    "- accuracy 0.824;\n",
    "- recall 0.749;\n",
    "- precision 0.549;\n",
    "- f1-score 0,634.\n",
    "\n",
    "Посмотрим на общее соотношение теперь всех f1:\n",
    "\n",
    "| N |       Model                | Parametrs  | f1 valid | f1 train | f1 train+valid | f1 test  |\n",
    "|---|----------------------------|------------|----------|----------|-----------------------------|--------------|\n",
    "| 1 | Decision tree, disbalansed | depth 8    | 0,585    | 0,660    |                             |              |\n",
    "| 2 | Random forest1, disbalansed| d 9, tr 3  | 0,562    | 0,649    |                             |              |\n",
    "| 3 | Random forest2, disbalansed| d 10, tr 20| 0,553    | 0,696    |                             |              |\n",
    "| 4 | Logistic regr, disbalansed |iter 100, lb| 0,324    | 0,302    |                             |              |\n",
    "| 5 | Decision tree, balansed_1  | depth 7    | 0,568    | 0,623    |                          |              |\n",
    "| 6 | Random forest1, balansed_1 | d 8, tr 16 | 0,627    | 0,688    |                             |              |\n",
    "| 7 | Random forest2, balansed_1 | d 7, tr 50 |<b>0,634</b>|<b>0,663</b>| <b> 0,654</b>          |<b> 0,634</b> |\n",
    "| 8 | Logistic regr, balansed_1  |iter 100, lb| 0,512    | 0,479    |                             |              |\n",
    "| 9 | Decision tree, balansed_2  |down, depth 6| 0,592    | 0,602    |                            |              |\n",
    "| 10| Random forest1, balansed_2 |up, d 9, tr 17| 0,629    | 0,732    |                            |              |\n",
    "| 11| Random forest2, balansed_2 |up, d 10, tr 40| 0,633    | 0,799    |                          |              |\n",
    "| 12| Logistic regr, balansed_2  |up, iter 100, lb| 0,508    | 0,479    |                          |              |"
   ]
  },
  {
   "cell_type": "markdown",
   "metadata": {},
   "source": [
    "Построим еще ROC кривую для модели и посчитаем auc_roc."
   ]
  },
  {
   "cell_type": "code",
   "execution_count": 128,
   "metadata": {},
   "outputs": [
    {
     "data": {
      "image/png": "[encoded data removed]",
      "text/plain": [
       "<Figure size 432x288 with 1 Axes>"
      ]
     },
     "metadata": {
      "needs_background": "light"
     },
     "output_type": "display_data"
    }
   ],
   "source": [
    "#ROC-кривая для модели случайного леса 1\n",
    "probabilities_test = best_model_1.predict_proba(features_test)\n",
    "probabilities_one_test = probabilities_test[:, 1]\n",
    "\n",
    "fpr, tpr, thresholds = roc_curve(target_test, probabilities_one_test)\n",
    "\n",
    "plt.figure()\n",
    "plt.plot(fpr, tpr)\n",
    "plt.plot([0, 1], [0, 1], linestyle='--')\n",
    "plt.xlim([0.0, 1.0])\n",
    "plt.ylim([0.0, 1.0])\n",
    "plt.xlabel('False Positive Rate')\n",
    "plt.ylabel('True Positive Rate')\n",
    "plt.title('ROC-кривая для модели случаного леса 1')\n",
    "plt.show()"
   ]
  },
  {
   "cell_type": "code",
   "execution_count": 129,
   "metadata": {},
   "outputs": [
    {
     "data": {
      "text/plain": [
       "0.8674899861340539"
      ]
     },
     "execution_count": 129,
     "metadata": {},
     "output_type": "execute_result"
    }
   ],
   "source": [
    "auc_roc = roc_auc_score(target_test, probabilities_one_test)\n",
    "\n",
    "auc_roc"
   ]
  },
  {
   "cell_type": "markdown",
   "metadata": {},
   "source": [
    "Отлично, и AUC-ROC хорошая на тесте - 0,647. Переходим к выводам."
   ]
  },
  {
   "cell_type": "markdown",
   "metadata": {},
   "source": [
    "## Вывод"
   ]
  },
  {
   "cell_type": "markdown",
   "metadata": {},
   "source": [
    "Краткие итоги проекта:\n",
    "- При обработке данных в 10 тыс строк исходных данных были найдены пропуски в столбце Tenure - 909 строк.\n",
    "- Данные пропуски были заполнены случайным образом, так как явной корреляции с другими столбцами было не найдено, а заполнение медианой или средним на основе дугих показателей только ухудшило бы баланс, так как медиана почти везде одинаковая.\n",
    "- Часть столбцов (номер строки, id клиента и фамилия) не были взяты для последующего обучения модели, так как не несли значимой инофрмации для обучения.\n",
    "- Столбцы с страной проживания с полом были закодированы техникой прямого кодирования OHE, с выкидыванием первого столбца.\n",
    "- Столбцы 'CreditScore', 'Age', 'Tenure' и др. являются числовыми до их значения очень различаются между собой (у возраста максимум меньше 100, а у зарплаты уже сотни тысяч). Перед использованием их в учебной модели было выполнено масштабирование всех числовых признаков.\n",
    "- Целевой признак был в столбце 'Exited', и как показало изучение классов отризательных ответов там было в 4 раза больше, чем положительных (80% и 20%).\n",
    "- При поиске оптимальной модели использовались: лигистическая регрессия, решающее дерево, случайный лес (последние две с перебором разных гиперпараметров).\n",
    "- При изучении метрик и поиске модели без учета дисбаланса не удалось достичь необходимого значения по f1 метрике (у решаюшего дерева и у случаного леса около 50% и у логистической регресии около 30%), хотя accuracy изначально с первого раза было достигнуто хорошее (более 80%).\n",
    "- Особенно страдала полнота моделей, так как верно положительных ответов было совсем немного в сравнении с ложноотрицательными.\n",
    "- Чтобы решить эту проблему, возникающую из-за дисбаланса классов были применены 2 метода: использование параметра class_weight и изменение размера выборок с положительными и отрицательными ответами.\n",
    "- Лучше себя проявил параметр class_weight на 2 моделях случайного леса с разными гиперпараметрами: глубина 8 и 16 деревьев для модели 1 и f1 мера - 0,627, и глубина 7 и 50 деревьев для модели 2 и f1 мера - 0,634.\n",
    "\n",
    "С незначительным опережением по значению f1 модели победила модель Random forest2, balansed_1, которая после переобучения на объединенной выборке показала также хорошие f1 меры.\n",
    "\n",
    "| N |       Model                | Parametrs  | f1 valid | f1 train | new f1 train+valid |  new f1 test  |\n",
    "|---|----------------------------|------------|----------|----------|-----------------------------|--------------|\n",
    "| 1 | Decision tree, disbalansed | depth 8    | 0,585    | 0,660    |                             |              |\n",
    "| 2 | Random forest1, disbalansed| d 9, tr 3  | 0,562    | 0,649    |                             |              |\n",
    "| 3 | Random forest2, disbalansed| d 10, tr 20| 0,553    | 0,696    |                             |              |\n",
    "| 4 | Logistic regr, disbalansed |iter 100, lb| 0,324    | 0,302    |                             |              |\n",
    "| 5 | Decision tree, balansed_1  | depth 7    | 0,568    | 0,623    |                          |              |\n",
    "| 6 | Random forest1, balansed_1 | d 8, tr 16 | 0,627    | 0,688    |                             |              |\n",
    "| 7 | Random forest2, balansed_1 | d 7, tr 50 |<b>0,634</b>|<b>0,663</b>| <b> 0,654</b>          |<b> 0,634</b> |\n",
    "| 8 | Logistic regr, balansed_1  |iter 100, lb| 0,512    | 0,479    |                             |              |\n",
    "| 9 | Decision tree, balansed_2  |down, depth 6| 0,592    | 0,602    |                            |              |\n",
    "| 10| Random forest1, balansed_2 |up, d 9, tr 17| 0,629    | 0,732    |                            |              |\n",
    "| 11| Random forest2, balansed_2 |up, d 10, tr 40| 0,633    | 0,799    |                          |              |\n",
    "| 12| Logistic regr, balansed_2  |up, iter 100, lb| 0,508    | 0,479    |                          |              |\n",
    "\n",
    "Другие метрики по лучшей итоговой модели Random forest2, balansed_1:\n",
    "- Глубина 7 и 50 деревьев;\n",
    "- F1 мера на валидационной выборке 0,634;\n",
    "- F1 мера на тренировочной выборке 0,663;\n",
    "- F1 мера после дообучения на тренировочной+валидационной выборке 0,654;\n",
    "- F1 мера на тестовой выборке 0,634.\n",
    "\n",
    "\n",
    "- Accuracy на тестовой выборке 0.824;\n",
    "- Recall на тестовой выборке 0.749;\n",
    "- Precision на тестовой выборке 0.549;\n",
    "- AUC-ROC на тестовой выборке 0,867."
   ]
  },
  {
   "cell_type": "markdown",
   "metadata": {},
   "source": [
    "## Чек-лист готовности проекта"
   ]
  },
  {
   "cell_type": "markdown",
   "metadata": {},
   "source": [
    "Поставьте 'x' в выполненных пунктах. Далее нажмите Shift+Enter."
   ]
  },
  {
   "cell_type": "markdown",
   "metadata": {},
   "source": [
    "- [x]  Jupyter Notebook открыт\n",
    "- [x]  Весь код выполняется без ошибок\n",
    "- [x]  Ячейки с кодом расположены в порядке исполнения\n",
    "- [x]  Выполнен шаг 1: данные подготовлены\n",
    "- [x]  Выполнен шаг 2: задача исследована\n",
    "    - [x]  Исследован баланс классов\n",
    "    - [x]  Изучены модели без учёта дисбаланса\n",
    "    - [x]  Написаны выводы по результатам исследования\n",
    "- [x]  Выполнен шаг 3: учтён дисбаланс\n",
    "    - [x]  Применено несколько способов борьбы с дисбалансом\n",
    "    - [x]  Написаны выводы по результатам исследования\n",
    "- [x]  Выполнен шаг 4: проведено тестирование\n",
    "- [x]  Удалось достичь *F1*-меры не менее 0.59\n",
    "- [x]  Исследована метрика *AUC-ROC*"
   ]
  }
 ],
 "metadata": {
  "ExecuteTimeLog": [
   {
    "duration": 622,
    "start_time": "2021-07-29T08:57:46.563Z"
   },
   {
    "duration": 1362,
    "start_time": "2021-07-29T08:58:54.481Z"
   },
   {
    "duration": 60,
    "start_time": "2021-07-29T08:59:26.400Z"
   },
   {
    "duration": 10,
    "start_time": "2021-07-29T10:05:19.468Z"
   },
   {
    "duration": 19,
    "start_time": "2021-07-29T10:08:19.964Z"
   },
   {
    "duration": 1200,
    "start_time": "2021-07-30T07:16:22.312Z"
   },
   {
    "duration": 35,
    "start_time": "2021-07-30T07:16:27.325Z"
   },
   {
    "duration": 9,
    "start_time": "2021-07-30T07:16:30.862Z"
   },
   {
    "duration": 15,
    "start_time": "2021-07-30T07:16:34.045Z"
   },
   {
    "duration": 4,
    "start_time": "2021-07-30T11:28:50.918Z"
   },
   {
    "duration": 4,
    "start_time": "2021-07-30T11:29:07.781Z"
   },
   {
    "duration": 353,
    "start_time": "2021-07-30T11:31:00.511Z"
   },
   {
    "duration": 263,
    "start_time": "2021-07-30T11:31:25.999Z"
   },
   {
    "duration": 6,
    "start_time": "2021-07-30T11:35:30.384Z"
   },
   {
    "duration": 37,
    "start_time": "2021-07-30T11:51:39.401Z"
   },
   {
    "duration": 239,
    "start_time": "2021-07-30T12:00:16.055Z"
   },
   {
    "duration": 162,
    "start_time": "2021-07-30T12:10:52.689Z"
   },
   {
    "duration": 230,
    "start_time": "2021-07-30T12:11:31.188Z"
   },
   {
    "duration": 191,
    "start_time": "2021-07-30T12:11:46.582Z"
   },
   {
    "duration": 16,
    "start_time": "2021-07-30T12:14:36.150Z"
   },
   {
    "duration": 1569,
    "start_time": "2021-08-02T07:45:03.258Z"
   },
   {
    "duration": 37,
    "start_time": "2021-08-02T07:45:04.830Z"
   },
   {
    "duration": 12,
    "start_time": "2021-08-02T07:45:04.870Z"
   },
   {
    "duration": 23,
    "start_time": "2021-08-02T07:45:04.886Z"
   },
   {
    "duration": 89,
    "start_time": "2021-08-02T07:45:04.912Z"
   },
   {
    "duration": 6,
    "start_time": "2021-08-02T07:45:05.004Z"
   },
   {
    "duration": 17,
    "start_time": "2021-08-02T07:45:05.012Z"
   },
   {
    "duration": 16,
    "start_time": "2021-08-02T07:45:05.032Z"
   },
   {
    "duration": 425,
    "start_time": "2021-08-02T07:45:05.051Z"
   },
   {
    "duration": 350,
    "start_time": "2021-08-02T07:45:05.479Z"
   },
   {
    "duration": 12,
    "start_time": "2021-08-02T07:45:05.831Z"
   },
   {
    "duration": 36,
    "start_time": "2021-08-02T07:45:05.845Z"
   },
   {
    "duration": 12,
    "start_time": "2021-08-02T08:07:55.625Z"
   },
   {
    "duration": 9,
    "start_time": "2021-08-02T08:08:14.366Z"
   },
   {
    "duration": 38,
    "start_time": "2021-08-02T08:09:02.463Z"
   },
   {
    "duration": 25,
    "start_time": "2021-08-02T08:09:42.669Z"
   },
   {
    "duration": 20,
    "start_time": "2021-08-02T08:10:18.968Z"
   },
   {
    "duration": 9,
    "start_time": "2021-08-02T08:10:23.335Z"
   },
   {
    "duration": 15,
    "start_time": "2021-08-02T08:10:50.208Z"
   },
   {
    "duration": 9,
    "start_time": "2021-08-02T08:11:10.827Z"
   },
   {
    "duration": 12,
    "start_time": "2021-08-02T08:14:28.178Z"
   },
   {
    "duration": 13,
    "start_time": "2021-08-02T08:14:45.258Z"
   },
   {
    "duration": 16,
    "start_time": "2021-08-02T08:16:45.334Z"
   },
   {
    "duration": 65,
    "start_time": "2021-08-02T08:17:13.939Z"
   },
   {
    "duration": 12,
    "start_time": "2021-08-02T08:17:41.081Z"
   },
   {
    "duration": 15,
    "start_time": "2021-08-02T08:17:45.222Z"
   },
   {
    "duration": 17,
    "start_time": "2021-08-02T08:18:18.521Z"
   },
   {
    "duration": 857,
    "start_time": "2021-08-02T08:23:34.410Z"
   },
   {
    "duration": 709,
    "start_time": "2021-08-02T08:23:47.976Z"
   },
   {
    "duration": 565,
    "start_time": "2021-08-02T08:23:58.018Z"
   },
   {
    "duration": 961,
    "start_time": "2021-08-02T08:25:26.518Z"
   },
   {
    "duration": 977,
    "start_time": "2021-08-02T08:28:59.010Z"
   },
   {
    "duration": 1092,
    "start_time": "2021-08-02T08:29:13.428Z"
   },
   {
    "duration": 771,
    "start_time": "2021-08-02T08:32:02.581Z"
   },
   {
    "duration": 1082,
    "start_time": "2021-08-02T08:32:44.284Z"
   },
   {
    "duration": 1193,
    "start_time": "2021-08-02T08:35:10.051Z"
   },
   {
    "duration": 1064,
    "start_time": "2021-08-02T08:35:28.124Z"
   },
   {
    "duration": 516,
    "start_time": "2021-08-02T08:35:41.260Z"
   },
   {
    "duration": 517,
    "start_time": "2021-08-02T08:35:55.866Z"
   },
   {
    "duration": 976,
    "start_time": "2021-08-02T08:36:28.993Z"
   },
   {
    "duration": 1140,
    "start_time": "2021-08-02T08:36:46.433Z"
   },
   {
    "duration": 1294,
    "start_time": "2021-08-02T08:38:27.221Z"
   },
   {
    "duration": 1092,
    "start_time": "2021-08-02T08:38:45.646Z"
   },
   {
    "duration": 9,
    "start_time": "2021-08-02T08:59:03.027Z"
   },
   {
    "duration": 12,
    "start_time": "2021-08-02T08:59:16.574Z"
   },
   {
    "duration": 605,
    "start_time": "2021-08-02T15:26:44.542Z"
   },
   {
    "duration": 1028,
    "start_time": "2021-08-02T15:28:01.108Z"
   },
   {
    "duration": 1007,
    "start_time": "2021-08-02T15:30:27.468Z"
   },
   {
    "duration": 830,
    "start_time": "2021-08-02T15:31:48.857Z"
   },
   {
    "duration": 904,
    "start_time": "2021-08-02T15:32:06.687Z"
   },
   {
    "duration": 492,
    "start_time": "2021-08-02T15:33:55.355Z"
   },
   {
    "duration": 333,
    "start_time": "2021-08-02T15:33:58.503Z"
   },
   {
    "duration": 574,
    "start_time": "2021-08-02T15:41:41.302Z"
   },
   {
    "duration": 11,
    "start_time": "2021-08-02T15:44:50.228Z"
   },
   {
    "duration": 11,
    "start_time": "2021-08-02T15:48:27.284Z"
   },
   {
    "duration": 3,
    "start_time": "2021-08-02T15:51:09.644Z"
   },
   {
    "duration": 1408,
    "start_time": "2021-08-02T15:53:25.805Z"
   },
   {
    "duration": 32,
    "start_time": "2021-08-02T15:55:24.735Z"
   },
   {
    "duration": 514,
    "start_time": "2021-08-02T15:57:41.744Z"
   },
   {
    "duration": 543,
    "start_time": "2021-08-02T15:59:46.660Z"
   },
   {
    "duration": 321,
    "start_time": "2021-08-02T16:00:01.567Z"
   },
   {
    "duration": 503,
    "start_time": "2021-08-02T16:00:40.290Z"
   },
   {
    "duration": 22,
    "start_time": "2021-08-02T16:01:22.969Z"
   },
   {
    "duration": 22,
    "start_time": "2021-08-02T16:01:31.872Z"
   },
   {
    "duration": 516,
    "start_time": "2021-08-02T16:04:04.982Z"
   },
   {
    "duration": 265,
    "start_time": "2021-08-02T16:12:18.971Z"
   },
   {
    "duration": 5,
    "start_time": "2021-08-02T16:12:46.258Z"
   },
   {
    "duration": 549,
    "start_time": "2021-08-02T16:12:57.339Z"
   },
   {
    "duration": 2798,
    "start_time": "2021-08-02T16:13:01.597Z"
   },
   {
    "duration": 2719,
    "start_time": "2021-08-02T16:14:52.472Z"
   },
   {
    "duration": 712,
    "start_time": "2021-08-02T16:15:13.781Z"
   },
   {
    "duration": 643,
    "start_time": "2021-08-02T16:17:36.126Z"
   },
   {
    "duration": 722,
    "start_time": "2021-08-02T16:17:49.390Z"
   },
   {
    "duration": 610,
    "start_time": "2021-08-02T16:18:28.496Z"
   },
   {
    "duration": 225,
    "start_time": "2021-08-02T16:24:47.956Z"
   },
   {
    "duration": 622,
    "start_time": "2021-08-02T16:24:58.966Z"
   },
   {
    "duration": 312,
    "start_time": "2021-08-02T16:25:04.999Z"
   },
   {
    "duration": 2723,
    "start_time": "2021-08-02T16:25:13.211Z"
   },
   {
    "duration": 256,
    "start_time": "2021-08-02T16:38:43.679Z"
   },
   {
    "duration": 35452,
    "start_time": "2021-08-02T16:39:15.616Z"
   },
   {
    "duration": 244,
    "start_time": "2021-08-02T16:40:48.595Z"
   },
   {
    "duration": 26,
    "start_time": "2021-08-02T16:41:34.133Z"
   },
   {
    "duration": 6397,
    "start_time": "2021-08-02T16:43:04.853Z"
   },
   {
    "duration": 248,
    "start_time": "2021-08-02T16:43:13.239Z"
   },
   {
    "duration": 230,
    "start_time": "2021-08-02T16:43:24.157Z"
   },
   {
    "duration": 36,
    "start_time": "2021-08-02T16:43:29.303Z"
   },
   {
    "duration": 608,
    "start_time": "2021-08-02T16:50:07.804Z"
   },
   {
    "duration": 473,
    "start_time": "2021-08-02T16:50:15.698Z"
   },
   {
    "duration": 249,
    "start_time": "2021-08-02T16:50:39.866Z"
   },
   {
    "duration": 214,
    "start_time": "2021-08-02T16:51:41.556Z"
   },
   {
    "duration": 224,
    "start_time": "2021-08-02T16:51:53.004Z"
   },
   {
    "duration": 5,
    "start_time": "2021-08-02T17:01:41.290Z"
   },
   {
    "duration": 20,
    "start_time": "2021-08-02T17:02:03.988Z"
   },
   {
    "duration": 770,
    "start_time": "2021-08-02T17:03:00.254Z"
   },
   {
    "duration": 289,
    "start_time": "2021-08-02T17:03:13.685Z"
   },
   {
    "duration": 11,
    "start_time": "2021-08-02T17:03:48.453Z"
   },
   {
    "duration": 12,
    "start_time": "2021-08-02T17:04:37.048Z"
   },
   {
    "duration": 12,
    "start_time": "2021-08-02T17:04:56.357Z"
   },
   {
    "duration": 2632,
    "start_time": "2021-08-02T17:08:13.642Z"
   },
   {
    "duration": 525,
    "start_time": "2021-08-02T17:08:24.075Z"
   },
   {
    "duration": 537,
    "start_time": "2021-08-02T17:09:17.901Z"
   },
   {
    "duration": 34,
    "start_time": "2021-08-02T17:14:17.266Z"
   },
   {
    "duration": 352,
    "start_time": "2021-08-02T17:19:25.550Z"
   },
   {
    "duration": 352,
    "start_time": "2021-08-02T17:20:00.880Z"
   },
   {
    "duration": 332,
    "start_time": "2021-08-02T17:20:25.596Z"
   },
   {
    "duration": 353,
    "start_time": "2021-08-02T17:20:37.855Z"
   },
   {
    "duration": 537,
    "start_time": "2021-08-02T17:20:53.296Z"
   },
   {
    "duration": 340,
    "start_time": "2021-08-02T17:23:23.885Z"
   },
   {
    "duration": 407,
    "start_time": "2021-08-02T17:26:37.630Z"
   },
   {
    "duration": 434,
    "start_time": "2021-08-02T17:28:04.933Z"
   },
   {
    "duration": 381,
    "start_time": "2021-08-02T17:30:08.861Z"
   },
   {
    "duration": 342,
    "start_time": "2021-08-02T17:30:16.545Z"
   },
   {
    "duration": 10,
    "start_time": "2021-08-02T17:31:18.431Z"
   },
   {
    "duration": 9,
    "start_time": "2021-08-02T17:31:23.032Z"
   },
   {
    "duration": 8,
    "start_time": "2021-08-02T17:31:32.852Z"
   },
   {
    "duration": 8,
    "start_time": "2021-08-02T17:33:05.794Z"
   },
   {
    "duration": 8,
    "start_time": "2021-08-02T17:33:07.507Z"
   },
   {
    "duration": 265,
    "start_time": "2021-08-02T18:04:11.660Z"
   },
   {
    "duration": 1728,
    "start_time": "2021-08-02T18:04:20.159Z"
   },
   {
    "duration": 1748,
    "start_time": "2021-08-02T18:11:30.967Z"
   },
   {
    "duration": 34,
    "start_time": "2021-08-02T18:11:32.718Z"
   },
   {
    "duration": 19,
    "start_time": "2021-08-02T18:11:32.756Z"
   },
   {
    "duration": 25,
    "start_time": "2021-08-02T18:11:32.779Z"
   },
   {
    "duration": 90,
    "start_time": "2021-08-02T18:11:32.807Z"
   },
   {
    "duration": 6,
    "start_time": "2021-08-02T18:11:32.900Z"
   },
   {
    "duration": 8,
    "start_time": "2021-08-02T18:11:32.909Z"
   },
   {
    "duration": 6,
    "start_time": "2021-08-02T18:11:32.920Z"
   },
   {
    "duration": 403,
    "start_time": "2021-08-02T18:11:32.966Z"
   },
   {
    "duration": 334,
    "start_time": "2021-08-02T18:11:33.372Z"
   },
   {
    "duration": 11,
    "start_time": "2021-08-02T18:11:33.708Z"
   },
   {
    "duration": 48,
    "start_time": "2021-08-02T18:11:33.721Z"
   },
   {
    "duration": 11,
    "start_time": "2021-08-02T18:11:33.771Z"
   },
   {
    "duration": 13,
    "start_time": "2021-08-02T18:11:33.784Z"
   },
   {
    "duration": 14,
    "start_time": "2021-08-02T18:11:33.799Z"
   },
   {
    "duration": 60,
    "start_time": "2021-08-02T18:11:33.815Z"
   },
   {
    "duration": 1096,
    "start_time": "2021-08-02T18:11:33.877Z"
   },
   {
    "duration": 9,
    "start_time": "2021-08-02T18:11:34.975Z"
   },
   {
    "duration": 12,
    "start_time": "2021-08-02T18:11:34.988Z"
   },
   {
    "duration": 516,
    "start_time": "2021-08-02T18:11:35.003Z"
   },
   {
    "duration": 348,
    "start_time": "2021-08-02T18:11:35.522Z"
   },
   {
    "duration": 22,
    "start_time": "2021-08-02T18:11:35.873Z"
   },
   {
    "duration": 24,
    "start_time": "2021-08-02T18:11:35.897Z"
   },
   {
    "duration": 550,
    "start_time": "2021-08-02T18:11:35.923Z"
   },
   {
    "duration": 518,
    "start_time": "2021-08-02T18:11:36.475Z"
   },
   {
    "duration": 642,
    "start_time": "2021-08-02T18:11:36.995Z"
   },
   {
    "duration": 235,
    "start_time": "2021-08-02T18:11:37.642Z"
   },
   {
    "duration": 6,
    "start_time": "2021-08-02T18:11:37.880Z"
   },
   {
    "duration": 550,
    "start_time": "2021-08-02T18:11:37.889Z"
   },
   {
    "duration": 28,
    "start_time": "2021-08-02T18:11:38.441Z"
   },
   {
    "duration": 29,
    "start_time": "2021-08-02T18:11:38.471Z"
   },
   {
    "duration": 65,
    "start_time": "2021-08-02T18:11:38.502Z"
   },
   {
    "duration": 517,
    "start_time": "2021-08-02T18:11:38.570Z"
   },
   {
    "duration": 430,
    "start_time": "2021-08-02T18:11:39.090Z"
   },
   {
    "duration": 7,
    "start_time": "2021-08-02T18:11:39.523Z"
   },
   {
    "duration": 11,
    "start_time": "2021-08-02T18:11:39.533Z"
   },
   {
    "duration": 10,
    "start_time": "2021-08-02T18:11:39.566Z"
   },
   {
    "duration": 10,
    "start_time": "2021-08-02T18:11:39.579Z"
   },
   {
    "duration": 1819,
    "start_time": "2021-08-02T18:11:39.592Z"
   },
   {
    "duration": 8,
    "start_time": "2021-08-02T18:17:39.814Z"
   },
   {
    "duration": 345,
    "start_time": "2021-08-02T18:18:09.545Z"
   },
   {
    "duration": 1588,
    "start_time": "2021-08-02T18:18:48.446Z"
   },
   {
    "duration": 35,
    "start_time": "2021-08-02T18:18:50.037Z"
   },
   {
    "duration": 12,
    "start_time": "2021-08-02T18:18:50.075Z"
   },
   {
    "duration": 26,
    "start_time": "2021-08-02T18:18:50.090Z"
   },
   {
    "duration": 87,
    "start_time": "2021-08-02T18:18:50.119Z"
   },
   {
    "duration": 6,
    "start_time": "2021-08-02T18:18:50.208Z"
   },
   {
    "duration": 10,
    "start_time": "2021-08-02T18:18:50.217Z"
   },
   {
    "duration": 7,
    "start_time": "2021-08-02T18:18:50.230Z"
   },
   {
    "duration": 422,
    "start_time": "2021-08-02T18:18:50.240Z"
   },
   {
    "duration": 344,
    "start_time": "2021-08-02T18:18:50.664Z"
   },
   {
    "duration": 12,
    "start_time": "2021-08-02T18:18:51.010Z"
   },
   {
    "duration": 47,
    "start_time": "2021-08-02T18:18:51.024Z"
   },
   {
    "duration": 11,
    "start_time": "2021-08-02T18:18:51.074Z"
   },
   {
    "duration": 14,
    "start_time": "2021-08-02T18:18:51.087Z"
   },
   {
    "duration": 14,
    "start_time": "2021-08-02T18:18:51.103Z"
   },
   {
    "duration": 57,
    "start_time": "2021-08-02T18:18:51.119Z"
   },
   {
    "duration": 1088,
    "start_time": "2021-08-02T18:18:51.179Z"
   },
   {
    "duration": 9,
    "start_time": "2021-08-02T18:18:52.269Z"
   },
   {
    "duration": 17,
    "start_time": "2021-08-02T18:18:52.282Z"
   },
   {
    "duration": 831,
    "start_time": "2021-08-02T18:18:52.302Z"
   },
   {
    "duration": 551,
    "start_time": "2021-08-02T18:18:53.137Z"
   },
   {
    "duration": 22,
    "start_time": "2021-08-02T18:18:53.691Z"
   },
   {
    "duration": 48,
    "start_time": "2021-08-02T18:18:53.720Z"
   },
   {
    "duration": 522,
    "start_time": "2021-08-02T18:18:53.771Z"
   },
   {
    "duration": 580,
    "start_time": "2021-08-02T18:18:54.296Z"
   },
   {
    "duration": 621,
    "start_time": "2021-08-02T18:18:54.879Z"
   },
   {
    "duration": 234,
    "start_time": "2021-08-02T18:18:55.502Z"
   },
   {
    "duration": 5,
    "start_time": "2021-08-02T18:18:55.739Z"
   },
   {
    "duration": 548,
    "start_time": "2021-08-02T18:18:55.747Z"
   },
   {
    "duration": 9,
    "start_time": "2021-08-02T18:18:56.297Z"
   },
   {
    "duration": 27,
    "start_time": "2021-08-02T18:18:56.309Z"
   },
   {
    "duration": 69,
    "start_time": "2021-08-02T18:18:56.339Z"
   },
   {
    "duration": 834,
    "start_time": "2021-08-02T18:18:56.411Z"
   },
   {
    "duration": 682,
    "start_time": "2021-08-02T18:18:57.248Z"
   },
   {
    "duration": 11,
    "start_time": "2021-08-02T18:18:57.933Z"
   },
   {
    "duration": 27,
    "start_time": "2021-08-02T18:18:57.947Z"
   },
   {
    "duration": 12,
    "start_time": "2021-08-02T18:18:57.977Z"
   },
   {
    "duration": 11,
    "start_time": "2021-08-02T18:18:57.992Z"
   },
   {
    "duration": 3,
    "start_time": "2021-08-02T18:18:58.006Z"
   },
   {
    "duration": 377,
    "start_time": "2021-08-02T18:18:58.012Z"
   },
   {
    "duration": 419,
    "start_time": "2021-08-02T18:20:55.237Z"
   },
   {
    "duration": 1204,
    "start_time": "2021-08-02T18:21:11.567Z"
   },
   {
    "duration": 10,
    "start_time": "2021-08-02T18:28:30.761Z"
   },
   {
    "duration": 9,
    "start_time": "2021-08-02T18:28:40.259Z"
   },
   {
    "duration": 12,
    "start_time": "2021-08-02T18:28:52.524Z"
   },
   {
    "duration": 10,
    "start_time": "2021-08-02T18:29:12.318Z"
   },
   {
    "duration": 11,
    "start_time": "2021-08-02T18:30:06.536Z"
   },
   {
    "duration": 10,
    "start_time": "2021-08-02T18:30:13.168Z"
   },
   {
    "duration": 19,
    "start_time": "2021-08-02T18:32:19.912Z"
   },
   {
    "duration": 2864,
    "start_time": "2021-08-02T18:32:29.047Z"
   },
   {
    "duration": 19,
    "start_time": "2021-08-02T18:32:37.451Z"
   },
   {
    "duration": 284,
    "start_time": "2021-08-02T18:33:29.772Z"
   },
   {
    "duration": 18,
    "start_time": "2021-08-02T18:36:29.291Z"
   },
   {
    "duration": 263,
    "start_time": "2021-08-02T18:36:33.995Z"
   },
   {
    "duration": 255,
    "start_time": "2021-08-02T18:37:50.481Z"
   },
   {
    "duration": 503,
    "start_time": "2021-08-02T18:41:25.771Z"
   },
   {
    "duration": 1164,
    "start_time": "2021-08-02T18:42:38.470Z"
   },
   {
    "duration": 245,
    "start_time": "2021-08-02T18:44:43.434Z"
   },
   {
    "duration": 6513,
    "start_time": "2021-08-02T18:51:57.481Z"
   },
   {
    "duration": 8,
    "start_time": "2021-08-02T18:52:18.517Z"
   },
   {
    "duration": 334,
    "start_time": "2021-08-02T18:52:39.813Z"
   },
   {
    "duration": 9,
    "start_time": "2021-08-02T18:53:41.474Z"
   },
   {
    "duration": 9,
    "start_time": "2021-08-02T18:53:53.162Z"
   },
   {
    "duration": 1643,
    "start_time": "2021-08-02T18:54:53.895Z"
   },
   {
    "duration": 35,
    "start_time": "2021-08-02T18:54:55.541Z"
   },
   {
    "duration": 12,
    "start_time": "2021-08-02T18:54:55.579Z"
   },
   {
    "duration": 25,
    "start_time": "2021-08-02T18:54:55.594Z"
   },
   {
    "duration": 93,
    "start_time": "2021-08-02T18:54:55.621Z"
   },
   {
    "duration": 6,
    "start_time": "2021-08-02T18:54:55.716Z"
   },
   {
    "duration": 7,
    "start_time": "2021-08-02T18:54:55.724Z"
   },
   {
    "duration": 34,
    "start_time": "2021-08-02T18:54:55.736Z"
   },
   {
    "duration": 414,
    "start_time": "2021-08-02T18:54:55.773Z"
   },
   {
    "duration": 349,
    "start_time": "2021-08-02T18:54:56.190Z"
   },
   {
    "duration": 26,
    "start_time": "2021-08-02T18:54:56.542Z"
   },
   {
    "duration": 24,
    "start_time": "2021-08-02T18:54:56.570Z"
   },
   {
    "duration": 10,
    "start_time": "2021-08-02T18:54:56.597Z"
   },
   {
    "duration": 15,
    "start_time": "2021-08-02T18:54:56.610Z"
   },
   {
    "duration": 47,
    "start_time": "2021-08-02T18:54:56.627Z"
   },
   {
    "duration": 16,
    "start_time": "2021-08-02T18:54:56.677Z"
   },
   {
    "duration": 1140,
    "start_time": "2021-08-02T18:54:56.696Z"
   },
   {
    "duration": 9,
    "start_time": "2021-08-02T18:54:57.838Z"
   },
   {
    "duration": 9,
    "start_time": "2021-08-02T18:54:57.868Z"
   },
   {
    "duration": 505,
    "start_time": "2021-08-02T18:54:57.880Z"
   },
   {
    "duration": 355,
    "start_time": "2021-08-02T18:54:58.388Z"
   },
   {
    "duration": 32,
    "start_time": "2021-08-02T18:54:58.745Z"
   },
   {
    "duration": 25,
    "start_time": "2021-08-02T18:54:58.779Z"
   },
   {
    "duration": 591,
    "start_time": "2021-08-02T18:54:58.806Z"
   },
   {
    "duration": 593,
    "start_time": "2021-08-02T18:54:59.400Z"
   },
   {
    "duration": 679,
    "start_time": "2021-08-02T18:55:00.000Z"
   },
   {
    "duration": 253,
    "start_time": "2021-08-02T18:55:00.682Z"
   },
   {
    "duration": 7,
    "start_time": "2021-08-02T18:55:00.937Z"
   },
   {
    "duration": 573,
    "start_time": "2021-08-02T18:55:00.946Z"
   },
   {
    "duration": 9,
    "start_time": "2021-08-02T18:55:01.521Z"
   },
   {
    "duration": 45,
    "start_time": "2021-08-02T18:55:01.532Z"
   },
   {
    "duration": 38,
    "start_time": "2021-08-02T18:55:01.579Z"
   },
   {
    "duration": 567,
    "start_time": "2021-08-02T18:55:01.620Z"
   },
   {
    "duration": 449,
    "start_time": "2021-08-02T18:55:02.190Z"
   },
   {
    "duration": 8,
    "start_time": "2021-08-02T18:55:02.641Z"
   },
   {
    "duration": 17,
    "start_time": "2021-08-02T18:55:02.651Z"
   },
   {
    "duration": 15,
    "start_time": "2021-08-02T18:55:02.671Z"
   },
   {
    "duration": 13,
    "start_time": "2021-08-02T18:55:02.689Z"
   },
   {
    "duration": 360,
    "start_time": "2021-08-02T18:55:02.704Z"
   },
   {
    "duration": 8,
    "start_time": "2021-08-02T18:55:03.068Z"
   },
   {
    "duration": 19,
    "start_time": "2021-08-02T18:55:03.078Z"
   },
   {
    "duration": 9,
    "start_time": "2021-08-02T18:55:03.100Z"
   },
   {
    "duration": 375,
    "start_time": "2021-08-02T18:55:03.111Z"
   },
   {
    "duration": 10,
    "start_time": "2021-08-02T18:55:03.488Z"
   },
   {
    "duration": 18,
    "start_time": "2021-08-02T18:57:17.222Z"
   },
   {
    "duration": 1646,
    "start_time": "2021-08-02T18:58:01.506Z"
   },
   {
    "duration": 48,
    "start_time": "2021-08-02T18:58:03.155Z"
   },
   {
    "duration": 12,
    "start_time": "2021-08-02T18:58:03.206Z"
   },
   {
    "duration": 25,
    "start_time": "2021-08-02T18:58:03.221Z"
   },
   {
    "duration": 63,
    "start_time": "2021-08-02T18:58:03.267Z"
   },
   {
    "duration": 7,
    "start_time": "2021-08-02T18:58:03.333Z"
   },
   {
    "duration": 27,
    "start_time": "2021-08-02T18:58:03.342Z"
   },
   {
    "duration": 12,
    "start_time": "2021-08-02T18:58:03.372Z"
   },
   {
    "duration": 501,
    "start_time": "2021-08-02T18:58:03.387Z"
   },
   {
    "duration": 338,
    "start_time": "2021-08-02T18:58:03.890Z"
   },
   {
    "duration": 11,
    "start_time": "2021-08-02T18:58:04.231Z"
   },
   {
    "duration": 41,
    "start_time": "2021-08-02T18:58:04.244Z"
   },
   {
    "duration": 12,
    "start_time": "2021-08-02T18:58:04.288Z"
   },
   {
    "duration": 15,
    "start_time": "2021-08-02T18:58:04.302Z"
   },
   {
    "duration": 49,
    "start_time": "2021-08-02T18:58:04.319Z"
   },
   {
    "duration": 16,
    "start_time": "2021-08-02T18:58:04.370Z"
   },
   {
    "duration": 1211,
    "start_time": "2021-08-02T18:58:04.388Z"
   },
   {
    "duration": 10,
    "start_time": "2021-08-02T18:58:05.603Z"
   },
   {
    "duration": 17,
    "start_time": "2021-08-02T18:58:05.615Z"
   },
   {
    "duration": 862,
    "start_time": "2021-08-02T18:58:05.635Z"
   },
   {
    "duration": 362,
    "start_time": "2021-08-02T18:58:06.499Z"
   },
   {
    "duration": 23,
    "start_time": "2021-08-02T18:58:06.863Z"
   },
   {
    "duration": 23,
    "start_time": "2021-08-02T18:58:06.892Z"
   },
   {
    "duration": 567,
    "start_time": "2021-08-02T18:58:06.918Z"
   },
   {
    "duration": 818,
    "start_time": "2021-08-02T18:58:07.488Z"
   },
   {
    "duration": 746,
    "start_time": "2021-08-02T18:58:08.309Z"
   },
   {
    "duration": 235,
    "start_time": "2021-08-02T18:58:09.057Z"
   },
   {
    "duration": 5,
    "start_time": "2021-08-02T18:58:09.295Z"
   },
   {
    "duration": 555,
    "start_time": "2021-08-02T18:58:09.303Z"
   },
   {
    "duration": 11,
    "start_time": "2021-08-02T18:58:09.868Z"
   },
   {
    "duration": 32,
    "start_time": "2021-08-02T18:58:09.882Z"
   },
   {
    "duration": 63,
    "start_time": "2021-08-02T18:58:09.917Z"
   },
   {
    "duration": 517,
    "start_time": "2021-08-02T18:58:09.983Z"
   },
   {
    "duration": 425,
    "start_time": "2021-08-02T18:58:10.502Z"
   },
   {
    "duration": 8,
    "start_time": "2021-08-02T18:58:10.929Z"
   },
   {
    "duration": 29,
    "start_time": "2021-08-02T18:58:10.940Z"
   },
   {
    "duration": 9,
    "start_time": "2021-08-02T18:58:10.971Z"
   },
   {
    "duration": 8,
    "start_time": "2021-08-02T18:58:10.982Z"
   },
   {
    "duration": 351,
    "start_time": "2021-08-02T18:58:10.992Z"
   },
   {
    "duration": 8,
    "start_time": "2021-08-02T18:58:11.345Z"
   },
   {
    "duration": 18,
    "start_time": "2021-08-02T18:58:11.368Z"
   },
   {
    "duration": 10,
    "start_time": "2021-08-02T18:58:11.389Z"
   },
   {
    "duration": 358,
    "start_time": "2021-08-02T18:58:11.401Z"
   },
   {
    "duration": 12,
    "start_time": "2021-08-02T18:58:11.761Z"
   },
   {
    "duration": 14,
    "start_time": "2021-08-02T18:58:11.775Z"
   },
   {
    "duration": 1592,
    "start_time": "2021-08-02T19:02:16.950Z"
   },
   {
    "duration": 35,
    "start_time": "2021-08-02T19:02:18.544Z"
   },
   {
    "duration": 12,
    "start_time": "2021-08-02T19:02:18.582Z"
   },
   {
    "duration": 25,
    "start_time": "2021-08-02T19:02:18.597Z"
   },
   {
    "duration": 93,
    "start_time": "2021-08-02T19:02:18.624Z"
   },
   {
    "duration": 6,
    "start_time": "2021-08-02T19:02:18.719Z"
   },
   {
    "duration": 8,
    "start_time": "2021-08-02T19:02:18.727Z"
   },
   {
    "duration": 31,
    "start_time": "2021-08-02T19:02:18.737Z"
   },
   {
    "duration": 407,
    "start_time": "2021-08-02T19:02:18.772Z"
   },
   {
    "duration": 339,
    "start_time": "2021-08-02T19:02:19.182Z"
   },
   {
    "duration": 11,
    "start_time": "2021-08-02T19:02:19.523Z"
   },
   {
    "duration": 46,
    "start_time": "2021-08-02T19:02:19.537Z"
   },
   {
    "duration": 10,
    "start_time": "2021-08-02T19:02:19.586Z"
   },
   {
    "duration": 17,
    "start_time": "2021-08-02T19:02:19.599Z"
   },
   {
    "duration": 15,
    "start_time": "2021-08-02T19:02:19.618Z"
   },
   {
    "duration": 43,
    "start_time": "2021-08-02T19:02:19.635Z"
   },
   {
    "duration": 1208,
    "start_time": "2021-08-02T19:02:19.680Z"
   },
   {
    "duration": 10,
    "start_time": "2021-08-02T19:02:20.890Z"
   },
   {
    "duration": 20,
    "start_time": "2021-08-02T19:02:20.903Z"
   },
   {
    "duration": 513,
    "start_time": "2021-08-02T19:02:20.925Z"
   },
   {
    "duration": 337,
    "start_time": "2021-08-02T19:02:21.441Z"
   },
   {
    "duration": 22,
    "start_time": "2021-08-02T19:02:21.780Z"
   },
   {
    "duration": 24,
    "start_time": "2021-08-02T19:02:21.804Z"
   },
   {
    "duration": 538,
    "start_time": "2021-08-02T19:02:21.830Z"
   },
   {
    "duration": 605,
    "start_time": "2021-08-02T19:02:22.371Z"
   },
   {
    "duration": 650,
    "start_time": "2021-08-02T19:02:22.979Z"
   },
   {
    "duration": 239,
    "start_time": "2021-08-02T19:02:23.634Z"
   },
   {
    "duration": 5,
    "start_time": "2021-08-02T19:02:23.876Z"
   },
   {
    "duration": 553,
    "start_time": "2021-08-02T19:02:23.884Z"
   },
   {
    "duration": 9,
    "start_time": "2021-08-02T19:02:24.440Z"
   },
   {
    "duration": 41,
    "start_time": "2021-08-02T19:02:24.451Z"
   },
   {
    "duration": 36,
    "start_time": "2021-08-02T19:02:24.494Z"
   },
   {
    "duration": 546,
    "start_time": "2021-08-02T19:02:24.532Z"
   },
   {
    "duration": 433,
    "start_time": "2021-08-02T19:02:25.080Z"
   },
   {
    "duration": 8,
    "start_time": "2021-08-02T19:02:25.515Z"
   },
   {
    "duration": 8,
    "start_time": "2021-08-02T19:02:25.526Z"
   },
   {
    "duration": 36,
    "start_time": "2021-08-02T19:02:25.536Z"
   },
   {
    "duration": 9,
    "start_time": "2021-08-02T19:02:25.574Z"
   },
   {
    "duration": 349,
    "start_time": "2021-08-02T19:02:25.586Z"
   },
   {
    "duration": 8,
    "start_time": "2021-08-02T19:02:25.937Z"
   },
   {
    "duration": 33,
    "start_time": "2021-08-02T19:02:25.948Z"
   },
   {
    "duration": 8,
    "start_time": "2021-08-02T19:02:25.983Z"
   },
   {
    "duration": 354,
    "start_time": "2021-08-02T19:02:25.994Z"
   },
   {
    "duration": 18,
    "start_time": "2021-08-02T19:02:26.350Z"
   },
   {
    "duration": 10,
    "start_time": "2021-08-02T19:02:26.370Z"
   },
   {
    "duration": 1574,
    "start_time": "2021-08-02T19:03:54.464Z"
   },
   {
    "duration": 37,
    "start_time": "2021-08-02T19:03:56.041Z"
   },
   {
    "duration": 11,
    "start_time": "2021-08-02T19:03:56.081Z"
   },
   {
    "duration": 23,
    "start_time": "2021-08-02T19:03:56.095Z"
   },
   {
    "duration": 85,
    "start_time": "2021-08-02T19:03:56.120Z"
   },
   {
    "duration": 6,
    "start_time": "2021-08-02T19:03:56.207Z"
   },
   {
    "duration": 6,
    "start_time": "2021-08-02T19:03:56.215Z"
   },
   {
    "duration": 10,
    "start_time": "2021-08-02T19:03:56.224Z"
   },
   {
    "duration": 424,
    "start_time": "2021-08-02T19:03:56.237Z"
   },
   {
    "duration": 340,
    "start_time": "2021-08-02T19:03:56.668Z"
   },
   {
    "duration": 12,
    "start_time": "2021-08-02T19:03:57.010Z"
   },
   {
    "duration": 45,
    "start_time": "2021-08-02T19:03:57.024Z"
   },
   {
    "duration": 11,
    "start_time": "2021-08-02T19:03:57.072Z"
   },
   {
    "duration": 12,
    "start_time": "2021-08-02T19:03:57.086Z"
   },
   {
    "duration": 15,
    "start_time": "2021-08-02T19:03:57.100Z"
   },
   {
    "duration": 57,
    "start_time": "2021-08-02T19:03:57.117Z"
   },
   {
    "duration": 1091,
    "start_time": "2021-08-02T19:03:57.176Z"
   },
   {
    "duration": 9,
    "start_time": "2021-08-02T19:03:58.269Z"
   },
   {
    "duration": 11,
    "start_time": "2021-08-02T19:03:58.281Z"
   },
   {
    "duration": 523,
    "start_time": "2021-08-02T19:03:58.295Z"
   },
   {
    "duration": 352,
    "start_time": "2021-08-02T19:03:58.821Z"
   },
   {
    "duration": 22,
    "start_time": "2021-08-02T19:03:59.176Z"
   },
   {
    "duration": 22,
    "start_time": "2021-08-02T19:03:59.204Z"
   },
   {
    "duration": 541,
    "start_time": "2021-08-02T19:03:59.229Z"
   },
   {
    "duration": 535,
    "start_time": "2021-08-02T19:03:59.774Z"
   },
   {
    "duration": 650,
    "start_time": "2021-08-02T19:04:00.312Z"
   },
   {
    "duration": 240,
    "start_time": "2021-08-02T19:04:00.965Z"
   },
   {
    "duration": 5,
    "start_time": "2021-08-02T19:04:01.207Z"
   },
   {
    "duration": 562,
    "start_time": "2021-08-02T19:04:01.214Z"
   },
   {
    "duration": 9,
    "start_time": "2021-08-02T19:04:01.778Z"
   },
   {
    "duration": 33,
    "start_time": "2021-08-02T19:04:01.790Z"
   },
   {
    "duration": 66,
    "start_time": "2021-08-02T19:04:01.826Z"
   },
   {
    "duration": 539,
    "start_time": "2021-08-02T19:04:01.894Z"
   },
   {
    "duration": 435,
    "start_time": "2021-08-02T19:04:02.435Z"
   },
   {
    "duration": 9,
    "start_time": "2021-08-02T19:04:02.873Z"
   },
   {
    "duration": 8,
    "start_time": "2021-08-02T19:04:02.884Z"
   },
   {
    "duration": 9,
    "start_time": "2021-08-02T19:04:02.894Z"
   },
   {
    "duration": 16,
    "start_time": "2021-08-02T19:04:02.905Z"
   },
   {
    "duration": 357,
    "start_time": "2021-08-02T19:04:02.923Z"
   },
   {
    "duration": 8,
    "start_time": "2021-08-02T19:04:03.282Z"
   },
   {
    "duration": 19,
    "start_time": "2021-08-02T19:04:03.292Z"
   },
   {
    "duration": 7,
    "start_time": "2021-08-02T19:04:03.313Z"
   },
   {
    "duration": 358,
    "start_time": "2021-08-02T19:04:03.322Z"
   },
   {
    "duration": 8,
    "start_time": "2021-08-02T19:04:03.683Z"
   },
   {
    "duration": 11,
    "start_time": "2021-08-02T19:04:03.694Z"
   },
   {
    "duration": 319,
    "start_time": "2021-08-02T19:06:55.444Z"
   },
   {
    "duration": 302,
    "start_time": "2021-08-02T19:07:24.280Z"
   },
   {
    "duration": 320,
    "start_time": "2021-08-02T19:07:40.287Z"
   },
   {
    "duration": 363,
    "start_time": "2021-08-02T19:07:46.363Z"
   },
   {
    "duration": 341,
    "start_time": "2021-08-02T19:07:57.571Z"
   },
   {
    "duration": 11,
    "start_time": "2021-08-02T19:09:46.172Z"
   },
   {
    "duration": 67,
    "start_time": "2021-08-02T19:16:13.528Z"
   },
   {
    "duration": 1579,
    "start_time": "2021-08-02T19:28:33.749Z"
   },
   {
    "duration": 40,
    "start_time": "2021-08-02T19:28:35.331Z"
   },
   {
    "duration": 12,
    "start_time": "2021-08-02T19:28:35.374Z"
   },
   {
    "duration": 23,
    "start_time": "2021-08-02T19:28:35.389Z"
   },
   {
    "duration": 95,
    "start_time": "2021-08-02T19:28:35.415Z"
   },
   {
    "duration": 7,
    "start_time": "2021-08-02T19:28:35.513Z"
   },
   {
    "duration": 8,
    "start_time": "2021-08-02T19:28:35.523Z"
   },
   {
    "duration": 34,
    "start_time": "2021-08-02T19:28:35.534Z"
   },
   {
    "duration": 422,
    "start_time": "2021-08-02T19:28:35.576Z"
   },
   {
    "duration": 338,
    "start_time": "2021-08-02T19:28:36.002Z"
   },
   {
    "duration": 10,
    "start_time": "2021-08-02T19:28:36.343Z"
   },
   {
    "duration": 31,
    "start_time": "2021-08-02T19:28:36.356Z"
   },
   {
    "duration": 11,
    "start_time": "2021-08-02T19:28:36.389Z"
   },
   {
    "duration": 12,
    "start_time": "2021-08-02T19:28:36.403Z"
   },
   {
    "duration": 15,
    "start_time": "2021-08-02T19:28:36.417Z"
   },
   {
    "duration": 17,
    "start_time": "2021-08-02T19:28:36.434Z"
   },
   {
    "duration": 1261,
    "start_time": "2021-08-02T19:28:36.453Z"
   },
   {
    "duration": 9,
    "start_time": "2021-08-02T19:28:37.716Z"
   },
   {
    "duration": 16,
    "start_time": "2021-08-02T19:28:37.727Z"
   },
   {
    "duration": 510,
    "start_time": "2021-08-02T19:28:37.745Z"
   },
   {
    "duration": 345,
    "start_time": "2021-08-02T19:28:38.257Z"
   },
   {
    "duration": 21,
    "start_time": "2021-08-02T19:28:38.604Z"
   },
   {
    "duration": 40,
    "start_time": "2021-08-02T19:28:38.628Z"
   },
   {
    "duration": 487,
    "start_time": "2021-08-02T19:28:38.670Z"
   },
   {
    "duration": 499,
    "start_time": "2021-08-02T19:28:39.160Z"
   },
   {
    "duration": 636,
    "start_time": "2021-08-02T19:28:39.661Z"
   },
   {
    "duration": 240,
    "start_time": "2021-08-02T19:28:40.303Z"
   },
   {
    "duration": 5,
    "start_time": "2021-08-02T19:28:40.546Z"
   },
   {
    "duration": 538,
    "start_time": "2021-08-02T19:28:40.553Z"
   },
   {
    "duration": 9,
    "start_time": "2021-08-02T19:28:41.093Z"
   },
   {
    "duration": 30,
    "start_time": "2021-08-02T19:28:41.105Z"
   },
   {
    "duration": 30,
    "start_time": "2021-08-02T19:28:41.137Z"
   },
   {
    "duration": 527,
    "start_time": "2021-08-02T19:28:41.169Z"
   },
   {
    "duration": 437,
    "start_time": "2021-08-02T19:28:41.700Z"
   },
   {
    "duration": 8,
    "start_time": "2021-08-02T19:28:42.139Z"
   },
   {
    "duration": 22,
    "start_time": "2021-08-02T19:28:42.150Z"
   },
   {
    "duration": 8,
    "start_time": "2021-08-02T19:28:42.175Z"
   },
   {
    "duration": 8,
    "start_time": "2021-08-02T19:28:42.186Z"
   },
   {
    "duration": 361,
    "start_time": "2021-08-02T19:28:42.197Z"
   },
   {
    "duration": 13,
    "start_time": "2021-08-02T19:28:42.561Z"
   },
   {
    "duration": 19,
    "start_time": "2021-08-02T19:28:42.577Z"
   },
   {
    "duration": 8,
    "start_time": "2021-08-02T19:28:42.599Z"
   },
   {
    "duration": 367,
    "start_time": "2021-08-02T19:28:42.610Z"
   },
   {
    "duration": 8,
    "start_time": "2021-08-02T19:28:42.979Z"
   },
   {
    "duration": 12,
    "start_time": "2021-08-02T19:28:42.990Z"
   },
   {
    "duration": 93,
    "start_time": "2021-08-02T19:28:43.004Z"
   },
   {
    "duration": 13,
    "start_time": "2021-08-02T19:28:43.100Z"
   },
   {
    "duration": 14,
    "start_time": "2021-08-02T19:29:22.795Z"
   },
   {
    "duration": 50,
    "start_time": "2021-08-02T19:29:46.180Z"
   },
   {
    "duration": 11,
    "start_time": "2021-08-02T19:30:33.168Z"
   },
   {
    "duration": 9,
    "start_time": "2021-08-02T19:33:48.256Z"
   },
   {
    "duration": 12,
    "start_time": "2021-08-02T19:33:50.270Z"
   },
   {
    "duration": 14,
    "start_time": "2021-08-02T19:42:48.293Z"
   },
   {
    "duration": 391,
    "start_time": "2021-08-02T19:49:17.561Z"
   },
   {
    "duration": 1621,
    "start_time": "2021-08-02T19:49:23.952Z"
   },
   {
    "duration": 34,
    "start_time": "2021-08-02T19:49:25.575Z"
   },
   {
    "duration": 11,
    "start_time": "2021-08-02T19:49:25.612Z"
   },
   {
    "duration": 42,
    "start_time": "2021-08-02T19:49:25.625Z"
   },
   {
    "duration": 61,
    "start_time": "2021-08-02T19:49:25.669Z"
   },
   {
    "duration": 7,
    "start_time": "2021-08-02T19:49:25.733Z"
   },
   {
    "duration": 7,
    "start_time": "2021-08-02T19:49:25.767Z"
   },
   {
    "duration": 8,
    "start_time": "2021-08-02T19:49:25.780Z"
   },
   {
    "duration": 622,
    "start_time": "2021-08-02T19:49:25.792Z"
   },
   {
    "duration": 501,
    "start_time": "2021-08-02T19:49:26.417Z"
   },
   {
    "duration": 15,
    "start_time": "2021-08-02T19:49:26.921Z"
   },
   {
    "duration": 51,
    "start_time": "2021-08-02T19:49:26.939Z"
   },
   {
    "duration": 15,
    "start_time": "2021-08-02T19:49:26.992Z"
   },
   {
    "duration": 16,
    "start_time": "2021-08-02T19:49:27.010Z"
   },
   {
    "duration": 49,
    "start_time": "2021-08-02T19:49:27.029Z"
   },
   {
    "duration": 22,
    "start_time": "2021-08-02T19:49:27.081Z"
   },
   {
    "duration": 1384,
    "start_time": "2021-08-02T19:49:27.106Z"
   },
   {
    "duration": 9,
    "start_time": "2021-08-02T19:49:28.492Z"
   },
   {
    "duration": 10,
    "start_time": "2021-08-02T19:49:28.504Z"
   },
   {
    "duration": 527,
    "start_time": "2021-08-02T19:49:28.516Z"
   },
   {
    "duration": 345,
    "start_time": "2021-08-02T19:49:29.046Z"
   },
   {
    "duration": 23,
    "start_time": "2021-08-02T19:49:29.394Z"
   },
   {
    "duration": 45,
    "start_time": "2021-08-02T19:49:29.423Z"
   },
   {
    "duration": 526,
    "start_time": "2021-08-02T19:49:29.472Z"
   },
   {
    "duration": 561,
    "start_time": "2021-08-02T19:49:30.000Z"
   },
   {
    "duration": 616,
    "start_time": "2021-08-02T19:49:30.567Z"
   },
   {
    "duration": 244,
    "start_time": "2021-08-02T19:49:31.185Z"
   },
   {
    "duration": 6,
    "start_time": "2021-08-02T19:49:31.431Z"
   },
   {
    "duration": 567,
    "start_time": "2021-08-02T19:49:31.440Z"
   },
   {
    "duration": 10,
    "start_time": "2021-08-02T19:49:32.010Z"
   },
   {
    "duration": 51,
    "start_time": "2021-08-02T19:49:32.023Z"
   },
   {
    "duration": 6,
    "start_time": "2021-08-02T19:49:32.076Z"
   },
   {
    "duration": 523,
    "start_time": "2021-08-02T19:49:32.085Z"
   },
   {
    "duration": 431,
    "start_time": "2021-08-02T19:49:32.611Z"
   },
   {
    "duration": 8,
    "start_time": "2021-08-02T19:49:33.045Z"
   },
   {
    "duration": 18,
    "start_time": "2021-08-02T19:49:33.055Z"
   },
   {
    "duration": 10,
    "start_time": "2021-08-02T19:49:33.076Z"
   },
   {
    "duration": 8,
    "start_time": "2021-08-02T19:49:33.089Z"
   },
   {
    "duration": 363,
    "start_time": "2021-08-02T19:49:33.099Z"
   },
   {
    "duration": 9,
    "start_time": "2021-08-02T19:49:33.467Z"
   },
   {
    "duration": 19,
    "start_time": "2021-08-02T19:49:33.479Z"
   },
   {
    "duration": 8,
    "start_time": "2021-08-02T19:49:33.501Z"
   },
   {
    "duration": 529,
    "start_time": "2021-08-02T19:49:33.512Z"
   },
   {
    "duration": 25,
    "start_time": "2021-08-02T19:49:34.044Z"
   },
   {
    "duration": 17,
    "start_time": "2021-08-02T19:49:34.072Z"
   },
   {
    "duration": 112,
    "start_time": "2021-08-02T19:49:34.092Z"
   },
   {
    "duration": 17,
    "start_time": "2021-08-02T19:49:34.206Z"
   },
   {
    "duration": 13,
    "start_time": "2021-08-02T19:49:34.225Z"
   },
   {
    "duration": 36,
    "start_time": "2021-08-02T19:49:34.241Z"
   },
   {
    "duration": 87,
    "start_time": "2021-08-02T19:49:34.280Z"
   },
   {
    "duration": 17,
    "start_time": "2021-08-02T19:49:34.370Z"
   },
   {
    "duration": 6,
    "start_time": "2021-08-02T19:49:34.390Z"
   },
   {
    "duration": 9,
    "start_time": "2021-08-02T19:49:34.398Z"
   },
   {
    "duration": 10,
    "start_time": "2021-08-02T19:50:05.689Z"
   },
   {
    "duration": 389,
    "start_time": "2021-08-02T19:50:59.053Z"
   },
   {
    "duration": 218,
    "start_time": "2021-08-02T19:51:23.741Z"
   },
   {
    "duration": 1559,
    "start_time": "2021-08-02T19:51:43.765Z"
   },
   {
    "duration": 33,
    "start_time": "2021-08-02T19:51:45.327Z"
   },
   {
    "duration": 11,
    "start_time": "2021-08-02T19:51:45.364Z"
   },
   {
    "duration": 22,
    "start_time": "2021-08-02T19:51:45.378Z"
   },
   {
    "duration": 83,
    "start_time": "2021-08-02T19:51:45.402Z"
   },
   {
    "duration": 6,
    "start_time": "2021-08-02T19:51:45.487Z"
   },
   {
    "duration": 11,
    "start_time": "2021-08-02T19:51:45.495Z"
   },
   {
    "duration": 6,
    "start_time": "2021-08-02T19:51:45.508Z"
   },
   {
    "duration": 420,
    "start_time": "2021-08-02T19:51:45.518Z"
   },
   {
    "duration": 338,
    "start_time": "2021-08-02T19:51:45.941Z"
   },
   {
    "duration": 12,
    "start_time": "2021-08-02T19:51:46.281Z"
   },
   {
    "duration": 26,
    "start_time": "2021-08-02T19:51:46.295Z"
   },
   {
    "duration": 13,
    "start_time": "2021-08-02T19:51:46.323Z"
   },
   {
    "duration": 12,
    "start_time": "2021-08-02T19:51:46.368Z"
   },
   {
    "duration": 13,
    "start_time": "2021-08-02T19:51:46.383Z"
   },
   {
    "duration": 15,
    "start_time": "2021-08-02T19:51:46.399Z"
   },
   {
    "duration": 1103,
    "start_time": "2021-08-02T19:51:46.417Z"
   },
   {
    "duration": 9,
    "start_time": "2021-08-02T19:51:47.522Z"
   },
   {
    "duration": 19,
    "start_time": "2021-08-02T19:51:47.533Z"
   },
   {
    "duration": 500,
    "start_time": "2021-08-02T19:51:47.567Z"
   },
   {
    "duration": 337,
    "start_time": "2021-08-02T19:51:48.069Z"
   },
   {
    "duration": 22,
    "start_time": "2021-08-02T19:51:48.408Z"
   },
   {
    "duration": 45,
    "start_time": "2021-08-02T19:51:48.433Z"
   },
   {
    "duration": 516,
    "start_time": "2021-08-02T19:51:48.480Z"
   },
   {
    "duration": 550,
    "start_time": "2021-08-02T19:51:49.000Z"
   },
   {
    "duration": 630,
    "start_time": "2021-08-02T19:51:49.553Z"
   },
   {
    "duration": 245,
    "start_time": "2021-08-02T19:51:50.191Z"
   },
   {
    "duration": 7,
    "start_time": "2021-08-02T19:51:50.440Z"
   },
   {
    "duration": 555,
    "start_time": "2021-08-02T19:51:50.449Z"
   },
   {
    "duration": 10,
    "start_time": "2021-08-02T19:51:51.007Z"
   },
   {
    "duration": 49,
    "start_time": "2021-08-02T19:51:51.020Z"
   },
   {
    "duration": 6,
    "start_time": "2021-08-02T19:51:51.071Z"
   },
   {
    "duration": 533,
    "start_time": "2021-08-02T19:51:51.079Z"
   },
   {
    "duration": 435,
    "start_time": "2021-08-02T19:51:51.615Z"
   },
   {
    "duration": 19,
    "start_time": "2021-08-02T19:51:52.053Z"
   },
   {
    "duration": 10,
    "start_time": "2021-08-02T19:51:52.075Z"
   },
   {
    "duration": 11,
    "start_time": "2021-08-02T19:51:52.088Z"
   },
   {
    "duration": 10,
    "start_time": "2021-08-02T19:51:52.101Z"
   },
   {
    "duration": 381,
    "start_time": "2021-08-02T19:51:52.114Z"
   },
   {
    "duration": 11,
    "start_time": "2021-08-02T19:51:52.499Z"
   },
   {
    "duration": 19,
    "start_time": "2021-08-02T19:51:52.512Z"
   },
   {
    "duration": 8,
    "start_time": "2021-08-02T19:51:52.567Z"
   },
   {
    "duration": 343,
    "start_time": "2021-08-02T19:51:52.577Z"
   },
   {
    "duration": 10,
    "start_time": "2021-08-02T19:51:52.922Z"
   },
   {
    "duration": 33,
    "start_time": "2021-08-02T19:51:52.934Z"
   },
   {
    "duration": 64,
    "start_time": "2021-08-02T19:51:52.970Z"
   },
   {
    "duration": 37,
    "start_time": "2021-08-02T19:51:53.037Z"
   },
   {
    "duration": 10,
    "start_time": "2021-08-02T19:51:53.076Z"
   },
   {
    "duration": 14,
    "start_time": "2021-08-02T19:51:53.089Z"
   },
   {
    "duration": 88,
    "start_time": "2021-08-02T19:51:53.106Z"
   },
   {
    "duration": 15,
    "start_time": "2021-08-02T19:51:53.197Z"
   },
   {
    "duration": 20,
    "start_time": "2021-08-02T19:51:53.215Z"
   },
   {
    "duration": 22,
    "start_time": "2021-08-02T19:51:53.268Z"
   },
   {
    "duration": 1533,
    "start_time": "2021-08-02T19:53:44.696Z"
   },
   {
    "duration": 39,
    "start_time": "2021-08-02T19:53:46.231Z"
   },
   {
    "duration": 11,
    "start_time": "2021-08-02T19:53:46.273Z"
   },
   {
    "duration": 27,
    "start_time": "2021-08-02T19:53:46.287Z"
   },
   {
    "duration": 89,
    "start_time": "2021-08-02T19:53:46.316Z"
   },
   {
    "duration": 6,
    "start_time": "2021-08-02T19:53:46.407Z"
   },
   {
    "duration": 6,
    "start_time": "2021-08-02T19:53:46.415Z"
   },
   {
    "duration": 6,
    "start_time": "2021-08-02T19:53:46.423Z"
   },
   {
    "duration": 448,
    "start_time": "2021-08-02T19:53:46.433Z"
   },
   {
    "duration": 321,
    "start_time": "2021-08-02T19:53:46.885Z"
   },
   {
    "duration": 11,
    "start_time": "2021-08-02T19:53:47.208Z"
   },
   {
    "duration": 27,
    "start_time": "2021-08-02T19:53:47.221Z"
   },
   {
    "duration": 11,
    "start_time": "2021-08-02T19:53:47.267Z"
   },
   {
    "duration": 12,
    "start_time": "2021-08-02T19:53:47.281Z"
   },
   {
    "duration": 14,
    "start_time": "2021-08-02T19:53:47.296Z"
   },
   {
    "duration": 55,
    "start_time": "2021-08-02T19:53:47.313Z"
   },
   {
    "duration": 1079,
    "start_time": "2021-08-02T19:53:47.370Z"
   },
   {
    "duration": 17,
    "start_time": "2021-08-02T19:53:48.451Z"
   },
   {
    "duration": 17,
    "start_time": "2021-08-02T19:53:48.470Z"
   },
   {
    "duration": 495,
    "start_time": "2021-08-02T19:53:48.489Z"
   },
   {
    "duration": 353,
    "start_time": "2021-08-02T19:53:48.987Z"
   },
   {
    "duration": 34,
    "start_time": "2021-08-02T19:53:49.343Z"
   },
   {
    "duration": 24,
    "start_time": "2021-08-02T19:53:49.379Z"
   },
   {
    "duration": 556,
    "start_time": "2021-08-02T19:53:49.405Z"
   },
   {
    "duration": 513,
    "start_time": "2021-08-02T19:53:49.963Z"
   },
   {
    "duration": 935,
    "start_time": "2021-08-02T19:53:50.479Z"
   },
   {
    "duration": 349,
    "start_time": "2021-08-02T19:53:51.424Z"
   },
   {
    "duration": 6,
    "start_time": "2021-08-02T19:53:51.776Z"
   },
   {
    "duration": 549,
    "start_time": "2021-08-02T19:53:51.784Z"
   },
   {
    "duration": 11,
    "start_time": "2021-08-02T19:53:52.336Z"
   },
   {
    "duration": 42,
    "start_time": "2021-08-02T19:53:52.350Z"
   },
   {
    "duration": 7,
    "start_time": "2021-08-02T19:53:52.394Z"
   },
   {
    "duration": 535,
    "start_time": "2021-08-02T19:53:52.404Z"
   },
   {
    "duration": 534,
    "start_time": "2021-08-02T19:53:52.943Z"
   },
   {
    "duration": 9,
    "start_time": "2021-08-02T19:53:53.480Z"
   },
   {
    "duration": 12,
    "start_time": "2021-08-02T19:53:53.491Z"
   },
   {
    "duration": 18,
    "start_time": "2021-08-02T19:53:53.506Z"
   },
   {
    "duration": 20,
    "start_time": "2021-08-02T19:53:53.527Z"
   },
   {
    "duration": 440,
    "start_time": "2021-08-02T19:53:53.567Z"
   },
   {
    "duration": 9,
    "start_time": "2021-08-02T19:53:54.009Z"
   },
   {
    "duration": 26,
    "start_time": "2021-08-02T19:53:54.021Z"
   },
   {
    "duration": 9,
    "start_time": "2021-08-02T19:53:54.071Z"
   },
   {
    "duration": 502,
    "start_time": "2021-08-02T19:53:54.082Z"
   },
   {
    "duration": 10,
    "start_time": "2021-08-02T19:53:54.587Z"
   },
   {
    "duration": 15,
    "start_time": "2021-08-02T19:53:54.600Z"
   },
   {
    "duration": 115,
    "start_time": "2021-08-02T19:53:54.618Z"
   },
   {
    "duration": 31,
    "start_time": "2021-08-02T19:53:54.736Z"
   },
   {
    "duration": 10,
    "start_time": "2021-08-02T19:53:54.771Z"
   },
   {
    "duration": 14,
    "start_time": "2021-08-02T19:53:54.784Z"
   },
   {
    "duration": 93,
    "start_time": "2021-08-02T19:53:54.801Z"
   },
   {
    "duration": 13,
    "start_time": "2021-08-02T19:53:54.897Z"
   },
   {
    "duration": 19,
    "start_time": "2021-08-02T19:53:54.912Z"
   },
   {
    "duration": 43,
    "start_time": "2021-08-02T19:53:54.933Z"
   },
   {
    "duration": 4,
    "start_time": "2021-08-02T19:54:44.140Z"
   },
   {
    "duration": 464,
    "start_time": "2021-08-02T19:54:45.771Z"
   },
   {
    "duration": 1611,
    "start_time": "2021-08-02T19:55:35.434Z"
   },
   {
    "duration": 33,
    "start_time": "2021-08-02T19:55:37.048Z"
   },
   {
    "duration": 12,
    "start_time": "2021-08-02T19:55:37.084Z"
   },
   {
    "duration": 27,
    "start_time": "2021-08-02T19:55:37.098Z"
   },
   {
    "duration": 87,
    "start_time": "2021-08-02T19:55:37.127Z"
   },
   {
    "duration": 5,
    "start_time": "2021-08-02T19:55:37.217Z"
   },
   {
    "duration": 7,
    "start_time": "2021-08-02T19:55:37.224Z"
   },
   {
    "duration": 7,
    "start_time": "2021-08-02T19:55:37.233Z"
   },
   {
    "duration": 413,
    "start_time": "2021-08-02T19:55:37.269Z"
   },
   {
    "duration": 351,
    "start_time": "2021-08-02T19:55:37.685Z"
   },
   {
    "duration": 28,
    "start_time": "2021-08-02T19:55:38.039Z"
   },
   {
    "duration": 25,
    "start_time": "2021-08-02T19:55:38.070Z"
   },
   {
    "duration": 17,
    "start_time": "2021-08-02T19:55:38.097Z"
   },
   {
    "duration": 21,
    "start_time": "2021-08-02T19:55:38.117Z"
   },
   {
    "duration": 38,
    "start_time": "2021-08-02T19:55:38.141Z"
   },
   {
    "duration": 16,
    "start_time": "2021-08-02T19:55:38.182Z"
   },
   {
    "duration": 1189,
    "start_time": "2021-08-02T19:55:38.201Z"
   },
   {
    "duration": 8,
    "start_time": "2021-08-02T19:55:39.392Z"
   },
   {
    "duration": 10,
    "start_time": "2021-08-02T19:55:39.403Z"
   },
   {
    "duration": 618,
    "start_time": "2021-08-02T19:55:39.415Z"
   },
   {
    "duration": 359,
    "start_time": "2021-08-02T19:55:40.035Z"
   },
   {
    "duration": 22,
    "start_time": "2021-08-02T19:55:40.396Z"
   },
   {
    "duration": 49,
    "start_time": "2021-08-02T19:55:40.421Z"
   },
   {
    "duration": 528,
    "start_time": "2021-08-02T19:55:40.473Z"
   },
   {
    "duration": 580,
    "start_time": "2021-08-02T19:55:41.005Z"
   },
   {
    "duration": 654,
    "start_time": "2021-08-02T19:55:41.588Z"
   },
   {
    "duration": 248,
    "start_time": "2021-08-02T19:55:42.249Z"
   },
   {
    "duration": 6,
    "start_time": "2021-08-02T19:55:42.501Z"
   },
   {
    "duration": 561,
    "start_time": "2021-08-02T19:55:42.510Z"
   },
   {
    "duration": 9,
    "start_time": "2021-08-02T19:55:43.073Z"
   },
   {
    "duration": 27,
    "start_time": "2021-08-02T19:55:43.084Z"
   },
   {
    "duration": 6,
    "start_time": "2021-08-02T19:55:43.113Z"
   },
   {
    "duration": 558,
    "start_time": "2021-08-02T19:55:43.121Z"
   },
   {
    "duration": 445,
    "start_time": "2021-08-02T19:55:43.682Z"
   },
   {
    "duration": 8,
    "start_time": "2021-08-02T19:55:44.129Z"
   },
   {
    "duration": 28,
    "start_time": "2021-08-02T19:55:44.139Z"
   },
   {
    "duration": 12,
    "start_time": "2021-08-02T19:55:44.170Z"
   },
   {
    "duration": 18,
    "start_time": "2021-08-02T19:55:44.185Z"
   },
   {
    "duration": 361,
    "start_time": "2021-08-02T19:55:44.206Z"
   },
   {
    "duration": 8,
    "start_time": "2021-08-02T19:55:44.569Z"
   },
   {
    "duration": 22,
    "start_time": "2021-08-02T19:55:44.579Z"
   },
   {
    "duration": 8,
    "start_time": "2021-08-02T19:55:44.604Z"
   },
   {
    "duration": 378,
    "start_time": "2021-08-02T19:55:44.614Z"
   },
   {
    "duration": 8,
    "start_time": "2021-08-02T19:55:44.994Z"
   },
   {
    "duration": 25,
    "start_time": "2021-08-02T19:55:45.005Z"
   },
   {
    "duration": 78,
    "start_time": "2021-08-02T19:55:45.032Z"
   },
   {
    "duration": 12,
    "start_time": "2021-08-02T19:55:45.113Z"
   },
   {
    "duration": 10,
    "start_time": "2021-08-02T19:55:45.127Z"
   },
   {
    "duration": 33,
    "start_time": "2021-08-02T19:55:45.139Z"
   },
   {
    "duration": 64,
    "start_time": "2021-08-02T19:55:45.174Z"
   },
   {
    "duration": 35,
    "start_time": "2021-08-02T19:55:45.240Z"
   },
   {
    "duration": 17,
    "start_time": "2021-08-02T19:55:45.278Z"
   },
   {
    "duration": 17,
    "start_time": "2021-08-02T19:55:45.297Z"
   },
   {
    "duration": 7,
    "start_time": "2021-08-02T20:02:04.055Z"
   },
   {
    "duration": 8,
    "start_time": "2021-08-02T20:03:31.802Z"
   },
   {
    "duration": 5,
    "start_time": "2021-08-02T20:03:59.909Z"
   },
   {
    "duration": 9,
    "start_time": "2021-08-02T20:04:35.160Z"
   },
   {
    "duration": 5,
    "start_time": "2021-08-02T20:05:11.096Z"
   },
   {
    "duration": 5,
    "start_time": "2021-08-02T20:05:30.240Z"
   },
   {
    "duration": 5,
    "start_time": "2021-08-02T20:20:04.374Z"
   },
   {
    "duration": 41,
    "start_time": "2021-08-02T20:30:52.675Z"
   },
   {
    "duration": 1661,
    "start_time": "2021-08-02T20:31:19.660Z"
   },
   {
    "duration": 35,
    "start_time": "2021-08-02T20:31:21.323Z"
   },
   {
    "duration": 13,
    "start_time": "2021-08-02T20:31:21.361Z"
   },
   {
    "duration": 22,
    "start_time": "2021-08-02T20:31:21.376Z"
   },
   {
    "duration": 88,
    "start_time": "2021-08-02T20:31:21.400Z"
   },
   {
    "duration": 5,
    "start_time": "2021-08-02T20:31:21.491Z"
   },
   {
    "duration": 6,
    "start_time": "2021-08-02T20:31:21.499Z"
   },
   {
    "duration": 7,
    "start_time": "2021-08-02T20:31:21.508Z"
   },
   {
    "duration": 432,
    "start_time": "2021-08-02T20:31:21.518Z"
   },
   {
    "duration": 340,
    "start_time": "2021-08-02T20:31:21.953Z"
   },
   {
    "duration": 11,
    "start_time": "2021-08-02T20:31:22.296Z"
   },
   {
    "duration": 25,
    "start_time": "2021-08-02T20:31:22.309Z"
   },
   {
    "duration": 39,
    "start_time": "2021-08-02T20:31:22.337Z"
   },
   {
    "duration": 14,
    "start_time": "2021-08-02T20:31:22.379Z"
   },
   {
    "duration": 16,
    "start_time": "2021-08-02T20:31:22.396Z"
   },
   {
    "duration": 52,
    "start_time": "2021-08-02T20:31:22.414Z"
   },
   {
    "duration": 1212,
    "start_time": "2021-08-02T20:31:22.469Z"
   },
   {
    "duration": 8,
    "start_time": "2021-08-02T20:31:23.684Z"
   },
   {
    "duration": 14,
    "start_time": "2021-08-02T20:31:23.694Z"
   },
   {
    "duration": 515,
    "start_time": "2021-08-02T20:31:23.710Z"
   },
   {
    "duration": 344,
    "start_time": "2021-08-02T20:31:24.228Z"
   },
   {
    "duration": 21,
    "start_time": "2021-08-02T20:31:24.575Z"
   },
   {
    "duration": 21,
    "start_time": "2021-08-02T20:31:24.602Z"
   },
   {
    "duration": 549,
    "start_time": "2021-08-02T20:31:24.627Z"
   },
   {
    "duration": 510,
    "start_time": "2021-08-02T20:31:25.178Z"
   },
   {
    "duration": 630,
    "start_time": "2021-08-02T20:31:25.690Z"
   },
   {
    "duration": 230,
    "start_time": "2021-08-02T20:31:26.323Z"
   },
   {
    "duration": 11,
    "start_time": "2021-08-02T20:31:26.556Z"
   },
   {
    "duration": 548,
    "start_time": "2021-08-02T20:31:26.570Z"
   },
   {
    "duration": 9,
    "start_time": "2021-08-02T20:31:27.120Z"
   },
   {
    "duration": 48,
    "start_time": "2021-08-02T20:31:27.132Z"
   },
   {
    "duration": 7,
    "start_time": "2021-08-02T20:31:27.182Z"
   },
   {
    "duration": 521,
    "start_time": "2021-08-02T20:31:27.192Z"
   },
   {
    "duration": 439,
    "start_time": "2021-08-02T20:31:27.715Z"
   },
   {
    "duration": 17,
    "start_time": "2021-08-02T20:31:28.156Z"
   },
   {
    "duration": 11,
    "start_time": "2021-08-02T20:31:28.176Z"
   },
   {
    "duration": 8,
    "start_time": "2021-08-02T20:31:28.189Z"
   },
   {
    "duration": 10,
    "start_time": "2021-08-02T20:31:28.199Z"
   },
   {
    "duration": 369,
    "start_time": "2021-08-02T20:31:28.212Z"
   },
   {
    "duration": 8,
    "start_time": "2021-08-02T20:31:28.584Z"
   },
   {
    "duration": 19,
    "start_time": "2021-08-02T20:31:28.595Z"
   },
   {
    "duration": 8,
    "start_time": "2021-08-02T20:31:28.616Z"
   },
   {
    "duration": 383,
    "start_time": "2021-08-02T20:31:28.627Z"
   },
   {
    "duration": 9,
    "start_time": "2021-08-02T20:31:29.013Z"
   },
   {
    "duration": 16,
    "start_time": "2021-08-02T20:31:29.024Z"
   },
   {
    "duration": 76,
    "start_time": "2021-08-02T20:31:29.043Z"
   },
   {
    "duration": 12,
    "start_time": "2021-08-02T20:31:29.121Z"
   },
   {
    "duration": 34,
    "start_time": "2021-08-02T20:31:29.135Z"
   },
   {
    "duration": 12,
    "start_time": "2021-08-02T20:31:29.171Z"
   },
   {
    "duration": 60,
    "start_time": "2021-08-02T20:31:29.185Z"
   },
   {
    "duration": 12,
    "start_time": "2021-08-02T20:31:29.268Z"
   },
   {
    "duration": 17,
    "start_time": "2021-08-02T20:31:29.283Z"
   },
   {
    "duration": 18,
    "start_time": "2021-08-02T20:31:29.302Z"
   },
   {
    "duration": 48,
    "start_time": "2021-08-02T20:31:29.322Z"
   },
   {
    "duration": 8,
    "start_time": "2021-08-02T20:31:29.372Z"
   },
   {
    "duration": 5,
    "start_time": "2021-08-02T20:31:29.382Z"
   },
   {
    "duration": 9,
    "start_time": "2021-08-02T20:31:29.389Z"
   },
   {
    "duration": 5,
    "start_time": "2021-08-02T20:31:29.400Z"
   },
   {
    "duration": 6,
    "start_time": "2021-08-02T20:31:29.407Z"
   },
   {
    "duration": 75,
    "start_time": "2021-08-02T20:31:29.415Z"
   },
   {
    "duration": 18,
    "start_time": "2021-08-02T20:35:22.657Z"
   },
   {
    "duration": 10,
    "start_time": "2021-08-02T20:42:21.557Z"
   },
   {
    "duration": 217,
    "start_time": "2021-08-02T20:42:24.589Z"
   },
   {
    "duration": 245,
    "start_time": "2021-08-02T20:43:55.547Z"
   },
   {
    "duration": 1651,
    "start_time": "2021-08-03T07:13:36.218Z"
   },
   {
    "duration": 47,
    "start_time": "2021-08-03T07:13:37.872Z"
   },
   {
    "duration": 14,
    "start_time": "2021-08-03T07:13:37.922Z"
   },
   {
    "duration": 57,
    "start_time": "2021-08-03T07:13:37.941Z"
   },
   {
    "duration": 61,
    "start_time": "2021-08-03T07:13:38.000Z"
   },
   {
    "duration": 22,
    "start_time": "2021-08-03T07:13:38.064Z"
   },
   {
    "duration": 10,
    "start_time": "2021-08-03T07:13:38.089Z"
   },
   {
    "duration": 15,
    "start_time": "2021-08-03T07:13:38.102Z"
   },
   {
    "duration": 441,
    "start_time": "2021-08-03T07:13:38.122Z"
   },
   {
    "duration": 358,
    "start_time": "2021-08-03T07:13:38.567Z"
   },
   {
    "duration": 12,
    "start_time": "2021-08-03T07:13:38.928Z"
   },
   {
    "duration": 57,
    "start_time": "2021-08-03T07:13:38.942Z"
   },
   {
    "duration": 14,
    "start_time": "2021-08-03T07:13:39.003Z"
   },
   {
    "duration": 13,
    "start_time": "2021-08-03T07:13:39.020Z"
   },
   {
    "duration": 17,
    "start_time": "2021-08-03T07:13:39.036Z"
   },
   {
    "duration": 22,
    "start_time": "2021-08-03T07:13:39.085Z"
   },
   {
    "duration": 1179,
    "start_time": "2021-08-03T07:13:39.110Z"
   },
   {
    "duration": 9,
    "start_time": "2021-08-03T07:13:40.292Z"
   },
   {
    "duration": 13,
    "start_time": "2021-08-03T07:13:40.304Z"
   },
   {
    "duration": 532,
    "start_time": "2021-08-03T07:13:40.321Z"
   },
   {
    "duration": 343,
    "start_time": "2021-08-03T07:13:40.855Z"
   },
   {
    "duration": 25,
    "start_time": "2021-08-03T07:13:41.202Z"
   },
   {
    "duration": 22,
    "start_time": "2021-08-03T07:13:41.230Z"
   },
   {
    "duration": 560,
    "start_time": "2021-08-03T07:13:41.255Z"
   },
   {
    "duration": 574,
    "start_time": "2021-08-03T07:13:41.817Z"
   },
   {
    "duration": 631,
    "start_time": "2021-08-03T07:13:42.396Z"
   },
   {
    "duration": 244,
    "start_time": "2021-08-03T07:13:43.033Z"
   },
   {
    "duration": 6,
    "start_time": "2021-08-03T07:13:43.284Z"
   },
   {
    "duration": 558,
    "start_time": "2021-08-03T07:13:43.294Z"
   },
   {
    "duration": 9,
    "start_time": "2021-08-03T07:13:43.854Z"
   },
   {
    "duration": 49,
    "start_time": "2021-08-03T07:13:43.866Z"
   },
   {
    "duration": 6,
    "start_time": "2021-08-03T07:13:43.918Z"
   },
   {
    "duration": 539,
    "start_time": "2021-08-03T07:13:43.926Z"
   },
   {
    "duration": 640,
    "start_time": "2021-08-03T07:13:44.468Z"
   },
   {
    "duration": 8,
    "start_time": "2021-08-03T07:13:45.110Z"
   },
   {
    "duration": 19,
    "start_time": "2021-08-03T07:13:45.121Z"
   },
   {
    "duration": 14,
    "start_time": "2021-08-03T07:13:45.142Z"
   },
   {
    "duration": 42,
    "start_time": "2021-08-03T07:13:45.159Z"
   },
   {
    "duration": 360,
    "start_time": "2021-08-03T07:13:45.203Z"
   },
   {
    "duration": 8,
    "start_time": "2021-08-03T07:13:45.565Z"
   },
   {
    "duration": 22,
    "start_time": "2021-08-03T07:13:45.587Z"
   },
   {
    "duration": 10,
    "start_time": "2021-08-03T07:13:45.612Z"
   },
   {
    "duration": 393,
    "start_time": "2021-08-03T07:13:45.624Z"
   },
   {
    "duration": 9,
    "start_time": "2021-08-03T07:13:46.019Z"
   },
   {
    "duration": 15,
    "start_time": "2021-08-03T07:13:46.030Z"
   },
   {
    "duration": 87,
    "start_time": "2021-08-03T07:13:46.048Z"
   },
   {
    "duration": 12,
    "start_time": "2021-08-03T07:13:46.137Z"
   },
   {
    "duration": 10,
    "start_time": "2021-08-03T07:13:46.151Z"
   },
   {
    "duration": 33,
    "start_time": "2021-08-03T07:13:46.163Z"
   },
   {
    "duration": 62,
    "start_time": "2021-08-03T07:13:46.199Z"
   },
   {
    "duration": 17,
    "start_time": "2021-08-03T07:13:46.290Z"
   },
   {
    "duration": 17,
    "start_time": "2021-08-03T07:13:46.309Z"
   },
   {
    "duration": 24,
    "start_time": "2021-08-03T07:13:46.329Z"
   },
   {
    "duration": 8,
    "start_time": "2021-08-03T07:13:46.356Z"
   },
   {
    "duration": 27,
    "start_time": "2021-08-03T07:13:46.367Z"
   },
   {
    "duration": 8,
    "start_time": "2021-08-03T07:13:46.396Z"
   },
   {
    "duration": 12,
    "start_time": "2021-08-03T07:13:46.407Z"
   },
   {
    "duration": 5,
    "start_time": "2021-08-03T07:13:46.421Z"
   },
   {
    "duration": 11,
    "start_time": "2021-08-03T07:13:46.429Z"
   },
   {
    "duration": 78,
    "start_time": "2021-08-03T07:13:46.442Z"
   },
   {
    "duration": 19,
    "start_time": "2021-08-03T07:13:46.522Z"
   },
   {
    "duration": 11,
    "start_time": "2021-08-03T07:13:46.544Z"
   },
   {
    "duration": 271,
    "start_time": "2021-08-03T07:13:46.558Z"
   },
   {
    "duration": 226,
    "start_time": "2021-08-03T07:13:46.831Z"
   },
   {
    "duration": 4,
    "start_time": "2021-08-03T07:13:47.060Z"
   },
   {
    "duration": 238,
    "start_time": "2021-08-03T07:18:30.118Z"
   },
   {
    "duration": 5,
    "start_time": "2021-08-03T07:18:31.865Z"
   },
   {
    "duration": 555,
    "start_time": "2021-08-03T07:18:41.105Z"
   },
   {
    "duration": 5,
    "start_time": "2021-08-03T07:19:22.015Z"
   },
   {
    "duration": 13,
    "start_time": "2021-08-03T07:19:30.181Z"
   },
   {
    "duration": 7,
    "start_time": "2021-08-03T07:37:35.094Z"
   },
   {
    "duration": 10,
    "start_time": "2021-08-03T07:40:00.380Z"
   },
   {
    "duration": 10,
    "start_time": "2021-08-03T07:40:32.955Z"
   },
   {
    "duration": 9,
    "start_time": "2021-08-03T07:40:43.779Z"
   },
   {
    "duration": 10,
    "start_time": "2021-08-03T07:40:46.179Z"
   },
   {
    "duration": 8,
    "start_time": "2021-08-03T07:41:01.013Z"
   },
   {
    "duration": 411,
    "start_time": "2021-08-03T07:47:03.315Z"
   },
   {
    "duration": 406,
    "start_time": "2021-08-03T07:47:45.937Z"
   },
   {
    "duration": 426,
    "start_time": "2021-08-03T07:48:54.796Z"
   },
   {
    "duration": 5,
    "start_time": "2021-08-03T07:49:27.305Z"
   },
   {
    "duration": 453,
    "start_time": "2021-08-03T07:54:00.550Z"
   },
   {
    "duration": 239,
    "start_time": "2021-08-03T07:55:56.409Z"
   },
   {
    "duration": 10,
    "start_time": "2021-08-03T07:56:21.626Z"
   },
   {
    "duration": 219,
    "start_time": "2021-08-03T07:56:24.055Z"
   },
   {
    "duration": 10,
    "start_time": "2021-08-03T08:08:32.617Z"
   },
   {
    "duration": 241,
    "start_time": "2021-08-03T08:16:35.616Z"
   },
   {
    "duration": 6,
    "start_time": "2021-08-03T08:18:54.049Z"
   },
   {
    "duration": 14839,
    "start_time": "2021-08-03T08:23:02.403Z"
   },
   {
    "duration": 6,
    "start_time": "2021-08-03T08:27:56.949Z"
   },
   {
    "duration": 275,
    "start_time": "2021-08-03T08:28:37.146Z"
   },
   {
    "duration": 6,
    "start_time": "2021-08-03T08:28:39.906Z"
   },
   {
    "duration": 14695,
    "start_time": "2021-08-03T08:28:43.265Z"
   },
   {
    "duration": 6,
    "start_time": "2021-08-03T08:29:28.173Z"
   },
   {
    "duration": 1707,
    "start_time": "2021-08-03T08:29:49.775Z"
   },
   {
    "duration": 39,
    "start_time": "2021-08-03T08:29:51.487Z"
   },
   {
    "duration": 12,
    "start_time": "2021-08-03T08:29:51.529Z"
   },
   {
    "duration": 44,
    "start_time": "2021-08-03T08:29:51.544Z"
   },
   {
    "duration": 68,
    "start_time": "2021-08-03T08:29:51.592Z"
   },
   {
    "duration": 10,
    "start_time": "2021-08-03T08:29:51.688Z"
   },
   {
    "duration": 23,
    "start_time": "2021-08-03T08:29:51.702Z"
   },
   {
    "duration": 18,
    "start_time": "2021-08-03T08:29:51.728Z"
   },
   {
    "duration": 454,
    "start_time": "2021-08-03T08:29:51.750Z"
   },
   {
    "duration": 381,
    "start_time": "2021-08-03T08:29:52.208Z"
   },
   {
    "duration": 21,
    "start_time": "2021-08-03T08:29:52.593Z"
   },
   {
    "duration": 48,
    "start_time": "2021-08-03T08:29:52.617Z"
   },
   {
    "duration": 36,
    "start_time": "2021-08-03T08:29:52.668Z"
   },
   {
    "duration": 17,
    "start_time": "2021-08-03T08:29:52.707Z"
   },
   {
    "duration": 31,
    "start_time": "2021-08-03T08:29:52.727Z"
   },
   {
    "duration": 34,
    "start_time": "2021-08-03T08:29:52.761Z"
   },
   {
    "duration": 1225,
    "start_time": "2021-08-03T08:29:52.798Z"
   },
   {
    "duration": 10,
    "start_time": "2021-08-03T08:29:54.026Z"
   },
   {
    "duration": 10,
    "start_time": "2021-08-03T08:29:54.039Z"
   },
   {
    "duration": 562,
    "start_time": "2021-08-03T08:29:54.052Z"
   },
   {
    "duration": 378,
    "start_time": "2021-08-03T08:29:54.618Z"
   },
   {
    "duration": 29,
    "start_time": "2021-08-03T08:29:55.000Z"
   },
   {
    "duration": 59,
    "start_time": "2021-08-03T08:29:55.033Z"
   },
   {
    "duration": 727,
    "start_time": "2021-08-03T08:29:55.096Z"
   },
   {
    "duration": 731,
    "start_time": "2021-08-03T08:29:55.826Z"
   },
   {
    "duration": 693,
    "start_time": "2021-08-03T08:29:56.560Z"
   },
   {
    "duration": 261,
    "start_time": "2021-08-03T08:29:57.260Z"
   },
   {
    "duration": 6,
    "start_time": "2021-08-03T08:29:57.526Z"
   },
   {
    "duration": 613,
    "start_time": "2021-08-03T08:29:57.535Z"
   },
   {
    "duration": 12,
    "start_time": "2021-08-03T08:29:58.151Z"
   },
   {
    "duration": 42,
    "start_time": "2021-08-03T08:29:58.186Z"
   },
   {
    "duration": 6,
    "start_time": "2021-08-03T08:29:58.231Z"
   },
   {
    "duration": 596,
    "start_time": "2021-08-03T08:29:58.241Z"
   },
   {
    "duration": 565,
    "start_time": "2021-08-03T08:29:58.839Z"
   },
   {
    "duration": 11,
    "start_time": "2021-08-03T08:29:59.408Z"
   },
   {
    "duration": 9,
    "start_time": "2021-08-03T08:29:59.421Z"
   },
   {
    "duration": 13,
    "start_time": "2021-08-03T08:29:59.433Z"
   },
   {
    "duration": 46,
    "start_time": "2021-08-03T08:29:59.448Z"
   },
   {
    "duration": 368,
    "start_time": "2021-08-03T08:29:59.497Z"
   },
   {
    "duration": 25,
    "start_time": "2021-08-03T08:29:59.867Z"
   },
   {
    "duration": 25,
    "start_time": "2021-08-03T08:29:59.896Z"
   },
   {
    "duration": 13,
    "start_time": "2021-08-03T08:29:59.924Z"
   },
   {
    "duration": 402,
    "start_time": "2021-08-03T08:29:59.939Z"
   },
   {
    "duration": 11,
    "start_time": "2021-08-03T08:30:00.344Z"
   },
   {
    "duration": 43,
    "start_time": "2021-08-03T08:30:00.357Z"
   },
   {
    "duration": 65,
    "start_time": "2021-08-03T08:30:00.403Z"
   },
   {
    "duration": 19,
    "start_time": "2021-08-03T08:30:00.487Z"
   },
   {
    "duration": 13,
    "start_time": "2021-08-03T08:30:00.508Z"
   },
   {
    "duration": 29,
    "start_time": "2021-08-03T08:30:00.523Z"
   },
   {
    "duration": 87,
    "start_time": "2021-08-03T08:30:00.555Z"
   },
   {
    "duration": 14,
    "start_time": "2021-08-03T08:30:00.645Z"
   },
   {
    "duration": 25,
    "start_time": "2021-08-03T08:30:00.688Z"
   },
   {
    "duration": 20,
    "start_time": "2021-08-03T08:30:00.716Z"
   },
   {
    "duration": 8,
    "start_time": "2021-08-03T08:30:00.739Z"
   },
   {
    "duration": 46,
    "start_time": "2021-08-03T08:30:00.750Z"
   },
   {
    "duration": 13,
    "start_time": "2021-08-03T08:30:00.801Z"
   },
   {
    "duration": 19,
    "start_time": "2021-08-03T08:30:00.816Z"
   },
   {
    "duration": 19,
    "start_time": "2021-08-03T08:30:00.837Z"
   },
   {
    "duration": 31,
    "start_time": "2021-08-03T08:30:00.859Z"
   },
   {
    "duration": 50,
    "start_time": "2021-08-03T08:30:00.893Z"
   },
   {
    "duration": 18,
    "start_time": "2021-08-03T08:30:00.946Z"
   },
   {
    "duration": 32,
    "start_time": "2021-08-03T08:30:00.966Z"
   },
   {
    "duration": 260,
    "start_time": "2021-08-03T08:30:01.003Z"
   },
   {
    "duration": 238,
    "start_time": "2021-08-03T08:30:01.266Z"
   },
   {
    "duration": 7,
    "start_time": "2021-08-03T08:30:01.507Z"
   },
   {
    "duration": 29,
    "start_time": "2021-08-03T08:30:01.517Z"
   },
   {
    "duration": 324,
    "start_time": "2021-08-03T08:30:01.549Z"
   },
   {
    "duration": 18,
    "start_time": "2021-08-03T08:30:01.876Z"
   },
   {
    "duration": 25,
    "start_time": "2021-08-03T08:30:01.898Z"
   },
   {
    "duration": 29,
    "start_time": "2021-08-03T08:30:01.925Z"
   },
   {
    "duration": 20,
    "start_time": "2021-08-03T08:30:01.957Z"
   },
   {
    "duration": 24,
    "start_time": "2021-08-03T08:30:01.980Z"
   },
   {
    "duration": 238,
    "start_time": "2021-08-03T08:30:02.007Z"
   },
   {
    "duration": 7,
    "start_time": "2021-08-03T08:30:02.247Z"
   },
   {
    "duration": 14489,
    "start_time": "2021-08-03T08:30:02.257Z"
   },
   {
    "duration": 7,
    "start_time": "2021-08-03T08:30:16.748Z"
   },
   {
    "duration": 9504,
    "start_time": "2021-08-03T08:33:54.250Z"
   },
   {
    "duration": 5,
    "start_time": "2021-08-03T08:34:10.177Z"
   },
   {
    "duration": 676,
    "start_time": "2021-08-03T08:36:26.570Z"
   },
   {
    "duration": 32,
    "start_time": "2021-08-03T08:38:04.895Z"
   },
   {
    "duration": 5,
    "start_time": "2021-08-03T08:38:17.330Z"
   },
   {
    "duration": 248,
    "start_time": "2021-08-03T08:53:25.622Z"
   },
   {
    "duration": 5,
    "start_time": "2021-08-03T08:53:41.673Z"
   },
   {
    "duration": 15526,
    "start_time": "2021-08-03T08:54:57.055Z"
   },
   {
    "duration": 5,
    "start_time": "2021-08-03T08:55:15.826Z"
   },
   {
    "duration": 9646,
    "start_time": "2021-08-03T08:57:01.927Z"
   },
   {
    "duration": 6,
    "start_time": "2021-08-03T08:57:14.753Z"
   },
   {
    "duration": 32,
    "start_time": "2021-08-03T08:57:21.910Z"
   },
   {
    "duration": 5,
    "start_time": "2021-08-03T08:57:24.278Z"
   },
   {
    "duration": 5,
    "start_time": "2021-08-03T09:05:29.477Z"
   },
   {
    "duration": 38,
    "start_time": "2021-08-03T09:13:50.579Z"
   },
   {
    "duration": 5,
    "start_time": "2021-08-03T09:13:52.310Z"
   },
   {
    "duration": 31,
    "start_time": "2021-08-03T09:13:58.740Z"
   },
   {
    "duration": 6,
    "start_time": "2021-08-03T09:14:00.767Z"
   },
   {
    "duration": 673,
    "start_time": "2021-08-03T09:18:43.721Z"
   },
   {
    "duration": 1826,
    "start_time": "2021-08-03T09:24:34.809Z"
   },
   {
    "duration": 1159,
    "start_time": "2021-08-03T09:25:15.087Z"
   },
   {
    "duration": 8,
    "start_time": "2021-08-03T09:25:33.900Z"
   },
   {
    "duration": 25,
    "start_time": "2021-08-03T09:25:37.698Z"
   },
   {
    "duration": 11,
    "start_time": "2021-08-03T09:26:19.902Z"
   },
   {
    "duration": 260,
    "start_time": "2021-08-03T09:27:16.709Z"
   },
   {
    "duration": 249,
    "start_time": "2021-08-03T09:27:21.517Z"
   },
   {
    "duration": 579,
    "start_time": "2021-08-03T09:33:18.976Z"
   },
   {
    "duration": 137,
    "start_time": "2021-08-03T09:37:05.918Z"
   },
   {
    "duration": 5,
    "start_time": "2021-08-03T09:37:49.317Z"
   },
   {
    "duration": 147,
    "start_time": "2021-08-03T09:39:15.072Z"
   },
   {
    "duration": 6,
    "start_time": "2021-08-03T09:39:16.828Z"
   },
   {
    "duration": 1748,
    "start_time": "2021-08-03T09:42:51.774Z"
   },
   {
    "duration": 36,
    "start_time": "2021-08-03T09:42:53.525Z"
   },
   {
    "duration": 21,
    "start_time": "2021-08-03T09:42:53.564Z"
   },
   {
    "duration": 33,
    "start_time": "2021-08-03T09:42:53.589Z"
   },
   {
    "duration": 89,
    "start_time": "2021-08-03T09:42:53.625Z"
   },
   {
    "duration": 8,
    "start_time": "2021-08-03T09:42:53.717Z"
   },
   {
    "duration": 8,
    "start_time": "2021-08-03T09:42:53.728Z"
   },
   {
    "duration": 6,
    "start_time": "2021-08-03T09:42:53.740Z"
   },
   {
    "duration": 435,
    "start_time": "2021-08-03T09:42:53.785Z"
   },
   {
    "duration": 382,
    "start_time": "2021-08-03T09:42:54.222Z"
   },
   {
    "duration": 12,
    "start_time": "2021-08-03T09:42:54.607Z"
   },
   {
    "duration": 28,
    "start_time": "2021-08-03T09:42:54.623Z"
   },
   {
    "duration": 46,
    "start_time": "2021-08-03T09:42:54.653Z"
   },
   {
    "duration": 18,
    "start_time": "2021-08-03T09:42:54.701Z"
   },
   {
    "duration": 16,
    "start_time": "2021-08-03T09:42:54.722Z"
   },
   {
    "duration": 56,
    "start_time": "2021-08-03T09:42:54.740Z"
   },
   {
    "duration": 1187,
    "start_time": "2021-08-03T09:42:54.798Z"
   },
   {
    "duration": 12,
    "start_time": "2021-08-03T09:42:55.990Z"
   },
   {
    "duration": 15,
    "start_time": "2021-08-03T09:42:56.005Z"
   },
   {
    "duration": 564,
    "start_time": "2021-08-03T09:42:56.023Z"
   },
   {
    "duration": 376,
    "start_time": "2021-08-03T09:42:56.590Z"
   },
   {
    "duration": 38,
    "start_time": "2021-08-03T09:42:56.969Z"
   },
   {
    "duration": 24,
    "start_time": "2021-08-03T09:42:57.016Z"
   },
   {
    "duration": 590,
    "start_time": "2021-08-03T09:42:57.044Z"
   },
   {
    "duration": 590,
    "start_time": "2021-08-03T09:42:57.637Z"
   },
   {
    "duration": 679,
    "start_time": "2021-08-03T09:42:58.230Z"
   },
   {
    "duration": 257,
    "start_time": "2021-08-03T09:42:58.911Z"
   },
   {
    "duration": 27,
    "start_time": "2021-08-03T09:42:59.170Z"
   },
   {
    "duration": 569,
    "start_time": "2021-08-03T09:42:59.201Z"
   },
   {
    "duration": 20,
    "start_time": "2021-08-03T09:42:59.773Z"
   },
   {
    "duration": 31,
    "start_time": "2021-08-03T09:42:59.800Z"
   },
   {
    "duration": 7,
    "start_time": "2021-08-03T09:42:59.834Z"
   },
   {
    "duration": 585,
    "start_time": "2021-08-03T09:42:59.844Z"
   },
   {
    "duration": 584,
    "start_time": "2021-08-03T09:43:00.432Z"
   },
   {
    "duration": 11,
    "start_time": "2021-08-03T09:43:01.019Z"
   },
   {
    "duration": 10,
    "start_time": "2021-08-03T09:43:01.033Z"
   },
   {
    "duration": 15,
    "start_time": "2021-08-03T09:43:01.046Z"
   },
   {
    "duration": 16,
    "start_time": "2021-08-03T09:43:01.091Z"
   },
   {
    "duration": 494,
    "start_time": "2021-08-03T09:43:01.111Z"
   },
   {
    "duration": 12,
    "start_time": "2021-08-03T09:43:01.608Z"
   },
   {
    "duration": 30,
    "start_time": "2021-08-03T09:43:01.623Z"
   },
   {
    "duration": 34,
    "start_time": "2021-08-03T09:43:01.656Z"
   },
   {
    "duration": 371,
    "start_time": "2021-08-03T09:43:01.693Z"
   },
   {
    "duration": 31,
    "start_time": "2021-08-03T09:43:02.067Z"
   },
   {
    "duration": 26,
    "start_time": "2021-08-03T09:43:02.101Z"
   },
   {
    "duration": 88,
    "start_time": "2021-08-03T09:43:02.131Z"
   },
   {
    "duration": 15,
    "start_time": "2021-08-03T09:43:02.222Z"
   },
   {
    "duration": 22,
    "start_time": "2021-08-03T09:43:02.240Z"
   },
   {
    "duration": 32,
    "start_time": "2021-08-03T09:43:02.265Z"
   },
   {
    "duration": 92,
    "start_time": "2021-08-03T09:43:02.301Z"
   },
   {
    "duration": 15,
    "start_time": "2021-08-03T09:43:02.395Z"
   },
   {
    "duration": 33,
    "start_time": "2021-08-03T09:43:02.414Z"
   },
   {
    "duration": 27,
    "start_time": "2021-08-03T09:43:02.450Z"
   },
   {
    "duration": 26,
    "start_time": "2021-08-03T09:43:02.479Z"
   },
   {
    "duration": 18,
    "start_time": "2021-08-03T09:43:02.509Z"
   },
   {
    "duration": 34,
    "start_time": "2021-08-03T09:43:02.530Z"
   },
   {
    "duration": 20,
    "start_time": "2021-08-03T09:43:02.567Z"
   },
   {
    "duration": 25,
    "start_time": "2021-08-03T09:43:02.593Z"
   },
   {
    "duration": 22,
    "start_time": "2021-08-03T09:43:02.621Z"
   },
   {
    "duration": 45,
    "start_time": "2021-08-03T09:43:02.645Z"
   },
   {
    "duration": 23,
    "start_time": "2021-08-03T09:43:02.701Z"
   },
   {
    "duration": 14,
    "start_time": "2021-08-03T09:43:02.728Z"
   },
   {
    "duration": 277,
    "start_time": "2021-08-03T09:43:02.745Z"
   },
   {
    "duration": 233,
    "start_time": "2021-08-03T09:43:03.026Z"
   },
   {
    "duration": 6,
    "start_time": "2021-08-03T09:43:03.262Z"
   },
   {
    "duration": 14,
    "start_time": "2021-08-03T09:43:03.285Z"
   },
   {
    "duration": 264,
    "start_time": "2021-08-03T09:43:03.303Z"
   },
   {
    "duration": 16,
    "start_time": "2021-08-03T09:43:03.590Z"
   },
   {
    "duration": 13,
    "start_time": "2021-08-03T09:43:03.611Z"
   },
   {
    "duration": 31,
    "start_time": "2021-08-03T09:43:03.626Z"
   },
   {
    "duration": 16,
    "start_time": "2021-08-03T09:43:03.660Z"
   },
   {
    "duration": 23,
    "start_time": "2021-08-03T09:43:03.678Z"
   },
   {
    "duration": 250,
    "start_time": "2021-08-03T09:43:03.705Z"
   },
   {
    "duration": 6,
    "start_time": "2021-08-03T09:43:03.957Z"
   },
   {
    "duration": 15025,
    "start_time": "2021-08-03T09:43:03.966Z"
   },
   {
    "duration": 7,
    "start_time": "2021-08-03T09:43:18.996Z"
   },
   {
    "duration": 9560,
    "start_time": "2021-08-03T09:43:19.006Z"
   },
   {
    "duration": 6,
    "start_time": "2021-08-03T09:43:28.568Z"
   },
   {
    "duration": 38,
    "start_time": "2021-08-03T09:43:28.590Z"
   },
   {
    "duration": 79,
    "start_time": "2021-08-03T09:43:28.630Z"
   },
   {
    "duration": 277,
    "start_time": "2021-08-03T09:43:28.791Z"
   },
   {
    "duration": 6,
    "start_time": "2021-08-03T09:43:29.071Z"
   },
   {
    "duration": 15510,
    "start_time": "2021-08-03T09:43:29.080Z"
   },
   {
    "duration": 8,
    "start_time": "2021-08-03T09:43:44.592Z"
   },
   {
    "duration": 10231,
    "start_time": "2021-08-03T09:43:44.602Z"
   },
   {
    "duration": 5,
    "start_time": "2021-08-03T09:43:54.836Z"
   },
   {
    "duration": 63,
    "start_time": "2021-08-03T09:43:54.843Z"
   },
   {
    "duration": 81,
    "start_time": "2021-08-03T09:43:54.909Z"
   },
   {
    "duration": 933,
    "start_time": "2021-08-03T09:43:54.993Z"
   },
   {
    "duration": -254,
    "start_time": "2021-08-03T09:43:56.183Z"
   },
   {
    "duration": -263,
    "start_time": "2021-08-03T09:43:56.193Z"
   },
   {
    "duration": -273,
    "start_time": "2021-08-03T09:43:56.204Z"
   },
   {
    "duration": -281,
    "start_time": "2021-08-03T09:43:56.214Z"
   },
   {
    "duration": -288,
    "start_time": "2021-08-03T09:43:56.222Z"
   },
   {
    "duration": -297,
    "start_time": "2021-08-03T09:43:56.232Z"
   },
   {
    "duration": 29,
    "start_time": "2021-08-03T09:46:01.976Z"
   },
   {
    "duration": 9,
    "start_time": "2021-08-03T09:46:04.449Z"
   },
   {
    "duration": 261,
    "start_time": "2021-08-03T09:46:07.302Z"
   },
   {
    "duration": 141,
    "start_time": "2021-08-03T09:46:10.588Z"
   },
   {
    "duration": 14,
    "start_time": "2021-08-03T09:46:12.593Z"
   },
   {
    "duration": 154,
    "start_time": "2021-08-03T09:46:34.264Z"
   },
   {
    "duration": 395,
    "start_time": "2021-08-03T09:47:13.465Z"
   },
   {
    "duration": 8,
    "start_time": "2021-08-03T09:47:15.584Z"
   },
   {
    "duration": 504,
    "start_time": "2021-08-03T09:52:38.470Z"
   },
   {
    "duration": 450,
    "start_time": "2021-08-03T09:52:43.759Z"
   },
   {
    "duration": 27,
    "start_time": "2021-08-03T09:52:53.710Z"
   },
   {
    "duration": 26,
    "start_time": "2021-08-03T09:53:12.501Z"
   },
   {
    "duration": 425,
    "start_time": "2021-08-03T09:53:51.902Z"
   },
   {
    "duration": 48,
    "start_time": "2021-08-03T10:03:04.191Z"
   },
   {
    "duration": 296,
    "start_time": "2021-08-03T10:11:43.324Z"
   },
   {
    "duration": 383,
    "start_time": "2021-08-03T10:13:06.310Z"
   },
   {
    "duration": 296,
    "start_time": "2021-08-03T10:14:53.478Z"
   },
   {
    "duration": 9,
    "start_time": "2021-08-03T10:17:21.764Z"
   },
   {
    "duration": 280,
    "start_time": "2021-08-03T10:19:03.570Z"
   },
   {
    "duration": 8,
    "start_time": "2021-08-03T10:19:06.449Z"
   },
   {
    "duration": 296,
    "start_time": "2021-08-03T10:19:45.326Z"
   },
   {
    "duration": 9,
    "start_time": "2021-08-03T10:20:06.745Z"
   },
   {
    "duration": 290,
    "start_time": "2021-08-03T10:20:14.364Z"
   },
   {
    "duration": 8,
    "start_time": "2021-08-03T10:20:16.939Z"
   },
   {
    "duration": 467,
    "start_time": "2021-08-03T10:54:10.864Z"
   },
   {
    "duration": 11,
    "start_time": "2021-08-03T10:54:14.026Z"
   },
   {
    "duration": 435,
    "start_time": "2021-08-03T10:55:05.928Z"
   },
   {
    "duration": 5,
    "start_time": "2021-08-03T10:55:08.368Z"
   },
   {
    "duration": 440,
    "start_time": "2021-08-03T10:56:30.642Z"
   },
   {
    "duration": 7,
    "start_time": "2021-08-03T10:56:33.828Z"
   },
   {
    "duration": 1755,
    "start_time": "2021-08-03T11:06:10.171Z"
   },
   {
    "duration": 38,
    "start_time": "2021-08-03T11:06:11.929Z"
   },
   {
    "duration": 24,
    "start_time": "2021-08-03T11:06:11.970Z"
   },
   {
    "duration": 25,
    "start_time": "2021-08-03T11:06:11.999Z"
   },
   {
    "duration": 102,
    "start_time": "2021-08-03T11:06:12.027Z"
   },
   {
    "duration": 6,
    "start_time": "2021-08-03T11:06:12.132Z"
   },
   {
    "duration": 12,
    "start_time": "2021-08-03T11:06:12.140Z"
   },
   {
    "duration": 42,
    "start_time": "2021-08-03T11:06:12.156Z"
   },
   {
    "duration": 433,
    "start_time": "2021-08-03T11:06:12.202Z"
   },
   {
    "duration": 369,
    "start_time": "2021-08-03T11:06:12.637Z"
   },
   {
    "duration": 11,
    "start_time": "2021-08-03T11:06:13.008Z"
   },
   {
    "duration": 31,
    "start_time": "2021-08-03T11:06:13.021Z"
   },
   {
    "duration": 36,
    "start_time": "2021-08-03T11:06:13.055Z"
   },
   {
    "duration": 19,
    "start_time": "2021-08-03T11:06:13.095Z"
   },
   {
    "duration": 16,
    "start_time": "2021-08-03T11:06:13.117Z"
   },
   {
    "duration": 19,
    "start_time": "2021-08-03T11:06:13.135Z"
   },
   {
    "duration": 1287,
    "start_time": "2021-08-03T11:06:13.156Z"
   },
   {
    "duration": 9,
    "start_time": "2021-08-03T11:06:14.445Z"
   },
   {
    "duration": 39,
    "start_time": "2021-08-03T11:06:14.456Z"
   },
   {
    "duration": 546,
    "start_time": "2021-08-03T11:06:14.500Z"
   },
   {
    "duration": 373,
    "start_time": "2021-08-03T11:06:15.049Z"
   },
   {
    "duration": 23,
    "start_time": "2021-08-03T11:06:15.425Z"
   },
   {
    "duration": 71,
    "start_time": "2021-08-03T11:06:15.454Z"
   },
   {
    "duration": 701,
    "start_time": "2021-08-03T11:06:15.530Z"
   },
   {
    "duration": 578,
    "start_time": "2021-08-03T11:06:16.233Z"
   },
   {
    "duration": 693,
    "start_time": "2021-08-03T11:06:16.813Z"
   },
   {
    "duration": 271,
    "start_time": "2021-08-03T11:06:17.509Z"
   },
   {
    "duration": 8,
    "start_time": "2021-08-03T11:06:17.787Z"
   },
   {
    "duration": 858,
    "start_time": "2021-08-03T11:06:17.799Z"
   },
   {
    "duration": 11,
    "start_time": "2021-08-03T11:06:18.659Z"
   },
   {
    "duration": 51,
    "start_time": "2021-08-03T11:06:18.672Z"
   },
   {
    "duration": 6,
    "start_time": "2021-08-03T11:06:18.726Z"
   },
   {
    "duration": 658,
    "start_time": "2021-08-03T11:06:18.735Z"
   },
   {
    "duration": 451,
    "start_time": "2021-08-03T11:06:19.396Z"
   },
   {
    "duration": 8,
    "start_time": "2021-08-03T11:06:19.849Z"
   },
   {
    "duration": 30,
    "start_time": "2021-08-03T11:06:19.860Z"
   },
   {
    "duration": 12,
    "start_time": "2021-08-03T11:06:19.893Z"
   },
   {
    "duration": 13,
    "start_time": "2021-08-03T11:06:19.908Z"
   },
   {
    "duration": 379,
    "start_time": "2021-08-03T11:06:19.924Z"
   },
   {
    "duration": 8,
    "start_time": "2021-08-03T11:06:20.306Z"
   },
   {
    "duration": 31,
    "start_time": "2021-08-03T11:06:20.317Z"
   },
   {
    "duration": 8,
    "start_time": "2021-08-03T11:06:20.350Z"
   },
   {
    "duration": 380,
    "start_time": "2021-08-03T11:06:20.360Z"
   },
   {
    "duration": 8,
    "start_time": "2021-08-03T11:06:20.743Z"
   },
   {
    "duration": 42,
    "start_time": "2021-08-03T11:06:20.754Z"
   },
   {
    "duration": 94,
    "start_time": "2021-08-03T11:06:20.800Z"
   },
   {
    "duration": 16,
    "start_time": "2021-08-03T11:06:20.896Z"
   },
   {
    "duration": 57,
    "start_time": "2021-08-03T11:06:20.914Z"
   },
   {
    "duration": 24,
    "start_time": "2021-08-03T11:06:20.974Z"
   },
   {
    "duration": 61,
    "start_time": "2021-08-03T11:06:21.002Z"
   },
   {
    "duration": 33,
    "start_time": "2021-08-03T11:06:21.065Z"
   },
   {
    "duration": 47,
    "start_time": "2021-08-03T11:06:21.102Z"
   },
   {
    "duration": 36,
    "start_time": "2021-08-03T11:06:21.153Z"
   },
   {
    "duration": 30,
    "start_time": "2021-08-03T11:06:21.194Z"
   },
   {
    "duration": 30,
    "start_time": "2021-08-03T11:06:21.226Z"
   },
   {
    "duration": 16,
    "start_time": "2021-08-03T11:06:21.258Z"
   },
   {
    "duration": 31,
    "start_time": "2021-08-03T11:06:21.276Z"
   },
   {
    "duration": 16,
    "start_time": "2021-08-03T11:06:21.309Z"
   },
   {
    "duration": 32,
    "start_time": "2021-08-03T11:06:21.327Z"
   },
   {
    "duration": 55,
    "start_time": "2021-08-03T11:06:21.361Z"
   },
   {
    "duration": 17,
    "start_time": "2021-08-03T11:06:21.419Z"
   },
   {
    "duration": 19,
    "start_time": "2021-08-03T11:06:21.439Z"
   },
   {
    "duration": 277,
    "start_time": "2021-08-03T11:06:21.461Z"
   },
   {
    "duration": 251,
    "start_time": "2021-08-03T11:06:21.740Z"
   },
   {
    "duration": 6,
    "start_time": "2021-08-03T11:06:21.995Z"
   },
   {
    "duration": 23,
    "start_time": "2021-08-03T11:06:22.004Z"
   },
   {
    "duration": 259,
    "start_time": "2021-08-03T11:06:22.030Z"
   },
   {
    "duration": 10,
    "start_time": "2021-08-03T11:06:22.302Z"
   },
   {
    "duration": 12,
    "start_time": "2021-08-03T11:06:22.315Z"
   },
   {
    "duration": 15,
    "start_time": "2021-08-03T11:06:22.329Z"
   },
   {
    "duration": 46,
    "start_time": "2021-08-03T11:06:22.347Z"
   },
   {
    "duration": 10,
    "start_time": "2021-08-03T11:06:22.396Z"
   },
   {
    "duration": 269,
    "start_time": "2021-08-03T11:06:22.408Z"
   },
   {
    "duration": 7,
    "start_time": "2021-08-03T11:06:22.680Z"
   },
   {
    "duration": 15679,
    "start_time": "2021-08-03T11:06:22.690Z"
   },
   {
    "duration": 5,
    "start_time": "2021-08-03T11:06:38.371Z"
   },
   {
    "duration": 9921,
    "start_time": "2021-08-03T11:06:38.379Z"
   },
   {
    "duration": 5,
    "start_time": "2021-08-03T11:06:48.303Z"
   },
   {
    "duration": 79,
    "start_time": "2021-08-03T11:06:48.310Z"
   },
   {
    "duration": 94,
    "start_time": "2021-08-03T11:06:48.395Z"
   },
   {
    "duration": 299,
    "start_time": "2021-08-03T11:06:48.493Z"
   },
   {
    "duration": 7,
    "start_time": "2021-08-03T11:06:48.797Z"
   },
   {
    "duration": 14897,
    "start_time": "2021-08-03T11:06:48.806Z"
   },
   {
    "duration": 5,
    "start_time": "2021-08-03T11:07:03.706Z"
   },
   {
    "duration": 10403,
    "start_time": "2021-08-03T11:07:03.713Z"
   },
   {
    "duration": 6,
    "start_time": "2021-08-03T11:07:14.118Z"
   },
   {
    "duration": 70,
    "start_time": "2021-08-03T11:07:14.126Z"
   },
   {
    "duration": 92,
    "start_time": "2021-08-03T11:07:14.199Z"
   },
   {
    "duration": 25,
    "start_time": "2021-08-03T11:07:14.294Z"
   },
   {
    "duration": 9,
    "start_time": "2021-08-03T11:07:14.321Z"
   },
   {
    "duration": 296,
    "start_time": "2021-08-03T11:07:14.332Z"
   },
   {
    "duration": 147,
    "start_time": "2021-08-03T11:07:14.631Z"
   },
   {
    "duration": 6,
    "start_time": "2021-08-03T11:07:14.781Z"
   },
   {
    "duration": 315,
    "start_time": "2021-08-03T11:07:14.789Z"
   },
   {
    "duration": 4,
    "start_time": "2021-08-03T11:07:15.107Z"
   },
   {
    "duration": 33,
    "start_time": "2021-08-03T11:07:15.113Z"
   },
   {
    "duration": 56,
    "start_time": "2021-08-03T11:07:15.148Z"
   },
   {
    "duration": 385,
    "start_time": "2021-08-03T11:07:15.207Z"
   },
   {
    "duration": 8,
    "start_time": "2021-08-03T11:07:15.595Z"
   },
   {
    "duration": 408,
    "start_time": "2021-08-03T11:07:15.606Z"
   },
   {
    "duration": 10,
    "start_time": "2021-08-03T11:07:16.018Z"
   },
   {
    "duration": 1764,
    "start_time": "2021-08-03T11:10:40.766Z"
   },
   {
    "duration": 35,
    "start_time": "2021-08-03T11:10:42.533Z"
   },
   {
    "duration": 15,
    "start_time": "2021-08-03T11:10:42.571Z"
   },
   {
    "duration": 30,
    "start_time": "2021-08-03T11:10:42.590Z"
   },
   {
    "duration": 81,
    "start_time": "2021-08-03T11:10:42.622Z"
   },
   {
    "duration": 5,
    "start_time": "2021-08-03T11:10:42.706Z"
   },
   {
    "duration": 21,
    "start_time": "2021-08-03T11:10:42.714Z"
   },
   {
    "duration": 15,
    "start_time": "2021-08-03T11:10:42.738Z"
   },
   {
    "duration": 409,
    "start_time": "2021-08-03T11:10:42.756Z"
   },
   {
    "duration": 357,
    "start_time": "2021-08-03T11:10:43.167Z"
   },
   {
    "duration": 11,
    "start_time": "2021-08-03T11:10:43.526Z"
   },
   {
    "duration": 27,
    "start_time": "2021-08-03T11:10:43.539Z"
   },
   {
    "duration": 27,
    "start_time": "2021-08-03T11:10:43.568Z"
   },
   {
    "duration": 19,
    "start_time": "2021-08-03T11:10:43.598Z"
   },
   {
    "duration": 15,
    "start_time": "2021-08-03T11:10:43.619Z"
   },
   {
    "duration": 55,
    "start_time": "2021-08-03T11:10:43.636Z"
   },
   {
    "duration": 1131,
    "start_time": "2021-08-03T11:10:43.696Z"
   },
   {
    "duration": 9,
    "start_time": "2021-08-03T11:10:44.829Z"
   },
   {
    "duration": 18,
    "start_time": "2021-08-03T11:10:44.840Z"
   },
   {
    "duration": 521,
    "start_time": "2021-08-03T11:10:44.860Z"
   },
   {
    "duration": 352,
    "start_time": "2021-08-03T11:10:45.385Z"
   },
   {
    "duration": 22,
    "start_time": "2021-08-03T11:10:45.739Z"
   },
   {
    "duration": 43,
    "start_time": "2021-08-03T11:10:45.767Z"
   },
   {
    "duration": 585,
    "start_time": "2021-08-03T11:10:45.814Z"
   },
   {
    "duration": 551,
    "start_time": "2021-08-03T11:10:46.402Z"
   },
   {
    "duration": 633,
    "start_time": "2021-08-03T11:10:46.955Z"
   },
   {
    "duration": 231,
    "start_time": "2021-08-03T11:10:47.591Z"
   },
   {
    "duration": 6,
    "start_time": "2021-08-03T11:10:47.825Z"
   },
   {
    "duration": 556,
    "start_time": "2021-08-03T11:10:47.833Z"
   },
   {
    "duration": 14,
    "start_time": "2021-08-03T11:10:48.392Z"
   },
   {
    "duration": 32,
    "start_time": "2021-08-03T11:10:48.408Z"
   },
   {
    "duration": 6,
    "start_time": "2021-08-03T11:10:48.442Z"
   },
   {
    "duration": 582,
    "start_time": "2021-08-03T11:10:48.450Z"
   },
   {
    "duration": 457,
    "start_time": "2021-08-03T11:10:49.036Z"
   },
   {
    "duration": 10,
    "start_time": "2021-08-03T11:10:49.496Z"
   },
   {
    "duration": 21,
    "start_time": "2021-08-03T11:10:49.508Z"
   },
   {
    "duration": 22,
    "start_time": "2021-08-03T11:10:49.532Z"
   },
   {
    "duration": 7,
    "start_time": "2021-08-03T11:10:49.556Z"
   },
   {
    "duration": 372,
    "start_time": "2021-08-03T11:10:49.566Z"
   },
   {
    "duration": 8,
    "start_time": "2021-08-03T11:10:49.941Z"
   },
   {
    "duration": 40,
    "start_time": "2021-08-03T11:10:49.951Z"
   },
   {
    "duration": 11,
    "start_time": "2021-08-03T11:10:49.996Z"
   },
   {
    "duration": 361,
    "start_time": "2021-08-03T11:10:50.009Z"
   },
   {
    "duration": 20,
    "start_time": "2021-08-03T11:10:50.372Z"
   },
   {
    "duration": 14,
    "start_time": "2021-08-03T11:10:50.396Z"
   },
   {
    "duration": 90,
    "start_time": "2021-08-03T11:10:50.413Z"
   },
   {
    "duration": 12,
    "start_time": "2021-08-03T11:10:50.505Z"
   },
   {
    "duration": 23,
    "start_time": "2021-08-03T11:10:50.519Z"
   },
   {
    "duration": 24,
    "start_time": "2021-08-03T11:10:50.545Z"
   },
   {
    "duration": 76,
    "start_time": "2021-08-03T11:10:50.571Z"
   },
   {
    "duration": 12,
    "start_time": "2021-08-03T11:10:50.649Z"
   },
   {
    "duration": 31,
    "start_time": "2021-08-03T11:10:50.663Z"
   },
   {
    "duration": 31,
    "start_time": "2021-08-03T11:10:50.699Z"
   },
   {
    "duration": 23,
    "start_time": "2021-08-03T11:10:50.732Z"
   },
   {
    "duration": 26,
    "start_time": "2021-08-03T11:10:50.757Z"
   },
   {
    "duration": 34,
    "start_time": "2021-08-03T11:10:50.787Z"
   },
   {
    "duration": 11,
    "start_time": "2021-08-03T11:10:50.823Z"
   },
   {
    "duration": 9,
    "start_time": "2021-08-03T11:10:50.837Z"
   },
   {
    "duration": 11,
    "start_time": "2021-08-03T11:10:50.848Z"
   },
   {
    "duration": 52,
    "start_time": "2021-08-03T11:10:50.861Z"
   },
   {
    "duration": 16,
    "start_time": "2021-08-03T11:10:50.915Z"
   },
   {
    "duration": 13,
    "start_time": "2021-08-03T11:10:50.933Z"
   },
   {
    "duration": 264,
    "start_time": "2021-08-03T11:10:50.948Z"
   },
   {
    "duration": 230,
    "start_time": "2021-08-03T11:10:51.215Z"
   },
   {
    "duration": 5,
    "start_time": "2021-08-03T11:10:51.448Z"
   },
   {
    "duration": 17,
    "start_time": "2021-08-03T11:10:51.455Z"
   },
   {
    "duration": 264,
    "start_time": "2021-08-03T11:10:51.474Z"
   },
   {
    "duration": 9,
    "start_time": "2021-08-03T11:10:51.746Z"
   },
   {
    "duration": 30,
    "start_time": "2021-08-03T11:10:51.758Z"
   },
   {
    "duration": 14,
    "start_time": "2021-08-03T11:10:51.792Z"
   },
   {
    "duration": 11,
    "start_time": "2021-08-03T11:10:51.810Z"
   },
   {
    "duration": 12,
    "start_time": "2021-08-03T11:10:51.824Z"
   },
   {
    "duration": 289,
    "start_time": "2021-08-03T11:10:51.839Z"
   },
   {
    "duration": 6,
    "start_time": "2021-08-03T11:10:52.130Z"
   },
   {
    "duration": 14485,
    "start_time": "2021-08-03T11:10:52.138Z"
   },
   {
    "duration": 6,
    "start_time": "2021-08-03T11:11:06.626Z"
   },
   {
    "duration": 9485,
    "start_time": "2021-08-03T11:11:06.635Z"
   },
   {
    "duration": 6,
    "start_time": "2021-08-03T11:11:16.122Z"
   },
   {
    "duration": 154,
    "start_time": "2021-08-03T11:11:16.131Z"
   },
   {
    "duration": 7,
    "start_time": "2021-08-03T11:11:16.290Z"
   },
   {
    "duration": 314,
    "start_time": "2021-08-03T11:11:16.301Z"
   },
   {
    "duration": 6,
    "start_time": "2021-08-03T11:11:16.618Z"
   },
   {
    "duration": 14400,
    "start_time": "2021-08-03T11:11:16.627Z"
   },
   {
    "duration": 6,
    "start_time": "2021-08-03T11:11:31.030Z"
   },
   {
    "duration": 9553,
    "start_time": "2021-08-03T11:11:31.039Z"
   },
   {
    "duration": 8,
    "start_time": "2021-08-03T11:11:40.596Z"
   },
   {
    "duration": 79,
    "start_time": "2021-08-03T11:11:40.607Z"
   },
   {
    "duration": 8,
    "start_time": "2021-08-03T11:11:40.690Z"
   },
   {
    "duration": 29,
    "start_time": "2021-08-03T11:11:40.788Z"
   },
   {
    "duration": 20,
    "start_time": "2021-08-03T11:11:40.819Z"
   },
   {
    "duration": 273,
    "start_time": "2021-08-03T11:11:40.842Z"
   },
   {
    "duration": 142,
    "start_time": "2021-08-03T11:11:41.117Z"
   },
   {
    "duration": 6,
    "start_time": "2021-08-03T11:11:41.261Z"
   },
   {
    "duration": 320,
    "start_time": "2021-08-03T11:11:41.269Z"
   },
   {
    "duration": 8,
    "start_time": "2021-08-03T11:11:41.593Z"
   },
   {
    "duration": 30,
    "start_time": "2021-08-03T11:11:41.604Z"
   },
   {
    "duration": 62,
    "start_time": "2021-08-03T11:11:41.637Z"
   },
   {
    "duration": 304,
    "start_time": "2021-08-03T11:11:41.702Z"
   },
   {
    "duration": 8,
    "start_time": "2021-08-03T11:11:42.009Z"
   },
   {
    "duration": 424,
    "start_time": "2021-08-03T11:11:42.020Z"
   },
   {
    "duration": 9,
    "start_time": "2021-08-03T11:11:42.446Z"
   },
   {
    "duration": 1722,
    "start_time": "2021-08-03T11:21:41.663Z"
   },
   {
    "duration": 37,
    "start_time": "2021-08-03T11:21:43.388Z"
   },
   {
    "duration": 12,
    "start_time": "2021-08-03T11:21:43.428Z"
   },
   {
    "duration": 32,
    "start_time": "2021-08-03T11:21:43.442Z"
   },
   {
    "duration": 62,
    "start_time": "2021-08-03T11:21:43.485Z"
   },
   {
    "duration": 5,
    "start_time": "2021-08-03T11:21:43.549Z"
   },
   {
    "duration": 32,
    "start_time": "2021-08-03T11:21:43.557Z"
   },
   {
    "duration": 28,
    "start_time": "2021-08-03T11:21:43.592Z"
   },
   {
    "duration": 406,
    "start_time": "2021-08-03T11:21:43.624Z"
   },
   {
    "duration": 356,
    "start_time": "2021-08-03T11:21:44.033Z"
   },
   {
    "duration": 12,
    "start_time": "2021-08-03T11:21:44.391Z"
   },
   {
    "duration": 37,
    "start_time": "2021-08-03T11:21:44.406Z"
   },
   {
    "duration": 28,
    "start_time": "2021-08-03T11:21:44.446Z"
   },
   {
    "duration": 23,
    "start_time": "2021-08-03T11:21:44.485Z"
   },
   {
    "duration": 22,
    "start_time": "2021-08-03T11:21:44.511Z"
   },
   {
    "duration": 21,
    "start_time": "2021-08-03T11:21:44.535Z"
   },
   {
    "duration": 1112,
    "start_time": "2021-08-03T11:21:44.559Z"
   },
   {
    "duration": 16,
    "start_time": "2021-08-03T11:21:45.674Z"
   },
   {
    "duration": 25,
    "start_time": "2021-08-03T11:21:45.693Z"
   },
   {
    "duration": 509,
    "start_time": "2021-08-03T11:21:45.721Z"
   },
   {
    "duration": 343,
    "start_time": "2021-08-03T11:21:46.232Z"
   },
   {
    "duration": 27,
    "start_time": "2021-08-03T11:21:46.578Z"
   },
   {
    "duration": 28,
    "start_time": "2021-08-03T11:21:46.608Z"
   },
   {
    "duration": 641,
    "start_time": "2021-08-03T11:21:46.639Z"
   },
   {
    "duration": 519,
    "start_time": "2021-08-03T11:21:47.285Z"
   },
   {
    "duration": 630,
    "start_time": "2021-08-03T11:21:47.806Z"
   },
   {
    "duration": 245,
    "start_time": "2021-08-03T11:21:48.446Z"
   },
   {
    "duration": 7,
    "start_time": "2021-08-03T11:21:48.695Z"
   },
   {
    "duration": 571,
    "start_time": "2021-08-03T11:21:48.704Z"
   },
   {
    "duration": 15,
    "start_time": "2021-08-03T11:21:49.277Z"
   },
   {
    "duration": 28,
    "start_time": "2021-08-03T11:21:49.295Z"
   },
   {
    "duration": 7,
    "start_time": "2021-08-03T11:21:49.325Z"
   },
   {
    "duration": 554,
    "start_time": "2021-08-03T11:21:49.334Z"
   },
   {
    "duration": 538,
    "start_time": "2021-08-03T11:21:49.891Z"
   },
   {
    "duration": 7,
    "start_time": "2021-08-03T11:21:50.432Z"
   },
   {
    "duration": 10,
    "start_time": "2021-08-03T11:21:50.442Z"
   },
   {
    "duration": 34,
    "start_time": "2021-08-03T11:21:50.455Z"
   },
   {
    "duration": 19,
    "start_time": "2021-08-03T11:21:50.492Z"
   },
   {
    "duration": 350,
    "start_time": "2021-08-03T11:21:50.514Z"
   },
   {
    "duration": 9,
    "start_time": "2021-08-03T11:21:50.866Z"
   },
   {
    "duration": 24,
    "start_time": "2021-08-03T11:21:50.877Z"
   },
   {
    "duration": 8,
    "start_time": "2021-08-03T11:21:50.904Z"
   },
   {
    "duration": 373,
    "start_time": "2021-08-03T11:21:50.915Z"
   },
   {
    "duration": 8,
    "start_time": "2021-08-03T11:21:51.291Z"
   },
   {
    "duration": 22,
    "start_time": "2021-08-03T11:21:51.303Z"
   },
   {
    "duration": 89,
    "start_time": "2021-08-03T11:21:51.328Z"
   },
   {
    "duration": 13,
    "start_time": "2021-08-03T11:21:51.420Z"
   },
   {
    "duration": 22,
    "start_time": "2021-08-03T11:21:51.435Z"
   },
   {
    "duration": 25,
    "start_time": "2021-08-03T11:21:51.460Z"
   },
   {
    "duration": 64,
    "start_time": "2021-08-03T11:21:51.488Z"
   },
   {
    "duration": 38,
    "start_time": "2021-08-03T11:21:51.554Z"
   },
   {
    "duration": 24,
    "start_time": "2021-08-03T11:21:51.594Z"
   },
   {
    "duration": 38,
    "start_time": "2021-08-03T11:21:51.621Z"
   },
   {
    "duration": 27,
    "start_time": "2021-08-03T11:21:51.661Z"
   },
   {
    "duration": 16,
    "start_time": "2021-08-03T11:21:51.690Z"
   },
   {
    "duration": 8,
    "start_time": "2021-08-03T11:21:51.709Z"
   },
   {
    "duration": 14,
    "start_time": "2021-08-03T11:21:51.719Z"
   },
   {
    "duration": 13,
    "start_time": "2021-08-03T11:21:51.735Z"
   },
   {
    "duration": 8,
    "start_time": "2021-08-03T11:21:51.751Z"
   },
   {
    "duration": 59,
    "start_time": "2021-08-03T11:21:51.762Z"
   },
   {
    "duration": 20,
    "start_time": "2021-08-03T11:21:51.823Z"
   },
   {
    "duration": 46,
    "start_time": "2021-08-03T11:21:51.846Z"
   },
   {
    "duration": 251,
    "start_time": "2021-08-03T11:21:51.895Z"
   },
   {
    "duration": 226,
    "start_time": "2021-08-03T11:21:52.149Z"
   },
   {
    "duration": 9,
    "start_time": "2021-08-03T11:21:52.378Z"
   },
   {
    "duration": 23,
    "start_time": "2021-08-03T11:21:52.389Z"
   },
   {
    "duration": 238,
    "start_time": "2021-08-03T11:21:52.414Z"
   },
   {
    "duration": 9,
    "start_time": "2021-08-03T11:21:52.655Z"
   },
   {
    "duration": 24,
    "start_time": "2021-08-03T11:21:52.667Z"
   },
   {
    "duration": 16,
    "start_time": "2021-08-03T11:21:52.694Z"
   },
   {
    "duration": 23,
    "start_time": "2021-08-03T11:21:52.712Z"
   },
   {
    "duration": 22,
    "start_time": "2021-08-03T11:21:52.737Z"
   },
   {
    "duration": 235,
    "start_time": "2021-08-03T11:21:52.762Z"
   },
   {
    "duration": 5,
    "start_time": "2021-08-03T11:21:53.000Z"
   },
   {
    "duration": 13862,
    "start_time": "2021-08-03T11:21:53.007Z"
   },
   {
    "duration": 15,
    "start_time": "2021-08-03T11:22:06.872Z"
   },
   {
    "duration": 9108,
    "start_time": "2021-08-03T11:22:06.890Z"
   },
   {
    "duration": 5,
    "start_time": "2021-08-03T11:22:16.000Z"
   },
   {
    "duration": 85,
    "start_time": "2021-08-03T11:22:16.007Z"
   },
   {
    "duration": 94,
    "start_time": "2021-08-03T11:22:16.095Z"
   },
   {
    "duration": 263,
    "start_time": "2021-08-03T11:22:16.198Z"
   },
   {
    "duration": 6,
    "start_time": "2021-08-03T11:22:16.464Z"
   },
   {
    "duration": 13754,
    "start_time": "2021-08-03T11:22:16.472Z"
   },
   {
    "duration": 5,
    "start_time": "2021-08-03T11:22:30.229Z"
   },
   {
    "duration": 9126,
    "start_time": "2021-08-03T11:22:30.236Z"
   },
   {
    "duration": 5,
    "start_time": "2021-08-03T11:22:39.364Z"
   },
   {
    "duration": 114,
    "start_time": "2021-08-03T11:22:39.372Z"
   },
   {
    "duration": 96,
    "start_time": "2021-08-03T11:22:39.490Z"
   },
   {
    "duration": 21,
    "start_time": "2021-08-03T11:22:39.588Z"
   },
   {
    "duration": 8,
    "start_time": "2021-08-03T11:22:39.611Z"
   },
   {
    "duration": 255,
    "start_time": "2021-08-03T11:22:39.621Z"
   },
   {
    "duration": 138,
    "start_time": "2021-08-03T11:22:39.886Z"
   },
   {
    "duration": 9,
    "start_time": "2021-08-03T11:22:40.027Z"
   },
   {
    "duration": 297,
    "start_time": "2021-08-03T11:22:40.039Z"
   },
   {
    "duration": 6,
    "start_time": "2021-08-03T11:22:40.338Z"
   },
   {
    "duration": 20,
    "start_time": "2021-08-03T11:22:40.347Z"
   },
   {
    "duration": 539,
    "start_time": "2021-08-03T11:22:40.369Z"
   },
   {
    "duration": -101,
    "start_time": "2021-08-03T11:22:41.013Z"
   },
   {
    "duration": -108,
    "start_time": "2021-08-03T11:22:41.022Z"
   },
   {
    "duration": -116,
    "start_time": "2021-08-03T11:22:41.032Z"
   },
   {
    "duration": -124,
    "start_time": "2021-08-03T11:22:41.043Z"
   },
   {
    "duration": -131,
    "start_time": "2021-08-03T11:22:41.052Z"
   },
   {
    "duration": 550,
    "start_time": "2021-08-03T11:25:46.337Z"
   },
   {
    "duration": 22,
    "start_time": "2021-08-03T11:26:07.857Z"
   },
   {
    "duration": 205,
    "start_time": "2021-08-03T11:26:28.603Z"
   },
   {
    "duration": 24,
    "start_time": "2021-08-03T11:26:48.050Z"
   },
   {
    "duration": 424,
    "start_time": "2021-08-03T11:27:15.691Z"
   },
   {
    "duration": 144,
    "start_time": "2021-08-03T11:27:57.553Z"
   },
   {
    "duration": 313,
    "start_time": "2021-08-03T11:28:00.714Z"
   },
   {
    "duration": 276,
    "start_time": "2021-08-03T11:28:20.191Z"
   },
   {
    "duration": 9,
    "start_time": "2021-08-03T11:28:22.903Z"
   },
   {
    "duration": 369,
    "start_time": "2021-08-03T11:28:24.985Z"
   },
   {
    "duration": 10,
    "start_time": "2021-08-03T11:28:27.955Z"
   },
   {
    "duration": 1707,
    "start_time": "2021-08-03T17:16:37.641Z"
   },
   {
    "duration": 33,
    "start_time": "2021-08-03T17:16:39.351Z"
   },
   {
    "duration": 12,
    "start_time": "2021-08-03T17:16:39.387Z"
   },
   {
    "duration": 23,
    "start_time": "2021-08-03T17:16:39.401Z"
   },
   {
    "duration": 87,
    "start_time": "2021-08-03T17:16:39.426Z"
   },
   {
    "duration": 5,
    "start_time": "2021-08-03T17:16:39.516Z"
   },
   {
    "duration": 9,
    "start_time": "2021-08-03T17:16:39.523Z"
   },
   {
    "duration": 32,
    "start_time": "2021-08-03T17:16:39.536Z"
   },
   {
    "duration": 398,
    "start_time": "2021-08-03T17:16:39.572Z"
   },
   {
    "duration": 346,
    "start_time": "2021-08-03T17:16:39.972Z"
   },
   {
    "duration": 11,
    "start_time": "2021-08-03T17:16:40.320Z"
   },
   {
    "duration": 45,
    "start_time": "2021-08-03T17:16:40.334Z"
   },
   {
    "duration": 11,
    "start_time": "2021-08-03T17:16:40.381Z"
   },
   {
    "duration": 12,
    "start_time": "2021-08-03T17:16:40.395Z"
   },
   {
    "duration": 13,
    "start_time": "2021-08-03T17:16:40.410Z"
   },
   {
    "duration": 52,
    "start_time": "2021-08-03T17:16:40.426Z"
   },
   {
    "duration": 1103,
    "start_time": "2021-08-03T17:16:40.480Z"
   },
   {
    "duration": 9,
    "start_time": "2021-08-03T17:16:41.586Z"
   },
   {
    "duration": 9,
    "start_time": "2021-08-03T17:16:41.597Z"
   },
   {
    "duration": 519,
    "start_time": "2021-08-03T17:16:41.608Z"
   },
   {
    "duration": 339,
    "start_time": "2021-08-03T17:16:42.129Z"
   },
   {
    "duration": 21,
    "start_time": "2021-08-03T17:16:42.471Z"
   },
   {
    "duration": 21,
    "start_time": "2021-08-03T17:16:42.498Z"
   },
   {
    "duration": 536,
    "start_time": "2021-08-03T17:16:42.522Z"
   },
   {
    "duration": 515,
    "start_time": "2021-08-03T17:16:43.061Z"
   },
   {
    "duration": 622,
    "start_time": "2021-08-03T17:16:43.579Z"
   },
   {
    "duration": 231,
    "start_time": "2021-08-03T17:16:44.204Z"
   },
   {
    "duration": 5,
    "start_time": "2021-08-03T17:16:44.437Z"
   },
   {
    "duration": 547,
    "start_time": "2021-08-03T17:16:44.445Z"
   },
   {
    "duration": 8,
    "start_time": "2021-08-03T17:16:44.995Z"
   },
   {
    "duration": 42,
    "start_time": "2021-08-03T17:16:45.006Z"
   },
   {
    "duration": 17,
    "start_time": "2021-08-03T17:16:45.050Z"
   },
   {
    "duration": 511,
    "start_time": "2021-08-03T17:16:45.070Z"
   },
   {
    "duration": 436,
    "start_time": "2021-08-03T17:16:45.583Z"
   },
   {
    "duration": 8,
    "start_time": "2021-08-03T17:16:46.021Z"
   },
   {
    "duration": 12,
    "start_time": "2021-08-03T17:16:46.031Z"
   },
   {
    "duration": 24,
    "start_time": "2021-08-03T17:16:46.045Z"
   },
   {
    "duration": 12,
    "start_time": "2021-08-03T17:16:46.072Z"
   },
   {
    "duration": 346,
    "start_time": "2021-08-03T17:16:46.086Z"
   },
   {
    "duration": 8,
    "start_time": "2021-08-03T17:16:46.434Z"
   },
   {
    "duration": 34,
    "start_time": "2021-08-03T17:16:46.444Z"
   },
   {
    "duration": 10,
    "start_time": "2021-08-03T17:16:46.481Z"
   },
   {
    "duration": 349,
    "start_time": "2021-08-03T17:16:46.493Z"
   },
   {
    "duration": 8,
    "start_time": "2021-08-03T17:16:46.844Z"
   },
   {
    "duration": 11,
    "start_time": "2021-08-03T17:16:46.867Z"
   },
   {
    "duration": 66,
    "start_time": "2021-08-03T17:16:46.880Z"
   },
   {
    "duration": 25,
    "start_time": "2021-08-03T17:16:46.948Z"
   },
   {
    "duration": 9,
    "start_time": "2021-08-03T17:16:46.975Z"
   },
   {
    "duration": 11,
    "start_time": "2021-08-03T17:16:46.987Z"
   },
   {
    "duration": 87,
    "start_time": "2021-08-03T17:16:47.000Z"
   },
   {
    "duration": 12,
    "start_time": "2021-08-03T17:16:47.089Z"
   },
   {
    "duration": 23,
    "start_time": "2021-08-03T17:16:47.103Z"
   },
   {
    "duration": 41,
    "start_time": "2021-08-03T17:16:47.128Z"
   },
   {
    "duration": 7,
    "start_time": "2021-08-03T17:16:47.171Z"
   },
   {
    "duration": 9,
    "start_time": "2021-08-03T17:16:47.181Z"
   },
   {
    "duration": 8,
    "start_time": "2021-08-03T17:16:47.192Z"
   },
   {
    "duration": 10,
    "start_time": "2021-08-03T17:16:47.202Z"
   },
   {
    "duration": 5,
    "start_time": "2021-08-03T17:16:47.214Z"
   },
   {
    "duration": 46,
    "start_time": "2021-08-03T17:16:47.221Z"
   },
   {
    "duration": 39,
    "start_time": "2021-08-03T17:16:47.270Z"
   },
   {
    "duration": 17,
    "start_time": "2021-08-03T17:16:47.311Z"
   },
   {
    "duration": 38,
    "start_time": "2021-08-03T17:16:47.330Z"
   },
   {
    "duration": 243,
    "start_time": "2021-08-03T17:16:47.371Z"
   },
   {
    "duration": 215,
    "start_time": "2021-08-03T17:16:47.616Z"
   },
   {
    "duration": 5,
    "start_time": "2021-08-03T17:16:47.833Z"
   },
   {
    "duration": 27,
    "start_time": "2021-08-03T17:16:47.840Z"
   },
   {
    "duration": 241,
    "start_time": "2021-08-03T17:16:47.870Z"
   },
   {
    "duration": 8,
    "start_time": "2021-08-03T17:16:48.120Z"
   },
   {
    "duration": 7,
    "start_time": "2021-08-03T17:16:48.132Z"
   },
   {
    "duration": 8,
    "start_time": "2021-08-03T17:16:48.166Z"
   },
   {
    "duration": 21,
    "start_time": "2021-08-03T17:16:48.177Z"
   },
   {
    "duration": 7,
    "start_time": "2021-08-03T17:16:48.201Z"
   },
   {
    "duration": 242,
    "start_time": "2021-08-03T17:16:48.210Z"
   },
   {
    "duration": 12,
    "start_time": "2021-08-03T17:16:48.455Z"
   },
   {
    "duration": 13413,
    "start_time": "2021-08-03T17:16:48.469Z"
   },
   {
    "duration": 5,
    "start_time": "2021-08-03T17:17:01.884Z"
   },
   {
    "duration": 8934,
    "start_time": "2021-08-03T17:17:01.892Z"
   },
   {
    "duration": 5,
    "start_time": "2021-08-03T17:17:10.828Z"
   },
   {
    "duration": 49,
    "start_time": "2021-08-03T17:17:10.835Z"
   },
   {
    "duration": 96,
    "start_time": "2021-08-03T17:17:10.974Z"
   },
   {
    "duration": 257,
    "start_time": "2021-08-03T17:17:11.073Z"
   },
   {
    "duration": 5,
    "start_time": "2021-08-03T17:17:11.332Z"
   },
   {
    "duration": 13937,
    "start_time": "2021-08-03T17:17:11.339Z"
   },
   {
    "duration": 5,
    "start_time": "2021-08-03T17:17:25.279Z"
   },
   {
    "duration": 9235,
    "start_time": "2021-08-03T17:17:25.287Z"
   },
   {
    "duration": 5,
    "start_time": "2021-08-03T17:17:34.524Z"
   },
   {
    "duration": 49,
    "start_time": "2021-08-03T17:17:34.532Z"
   },
   {
    "duration": 86,
    "start_time": "2021-08-03T17:17:34.585Z"
   },
   {
    "duration": 111,
    "start_time": "2021-08-03T17:17:34.674Z"
   },
   {
    "duration": 8,
    "start_time": "2021-08-03T17:17:34.787Z"
   },
   {
    "duration": 263,
    "start_time": "2021-08-03T17:17:34.798Z"
   },
   {
    "duration": 136,
    "start_time": "2021-08-03T17:17:35.067Z"
   },
   {
    "duration": 4,
    "start_time": "2021-08-03T17:17:35.206Z"
   },
   {
    "duration": 293,
    "start_time": "2021-08-03T17:17:35.212Z"
   },
   {
    "duration": 4,
    "start_time": "2021-08-03T17:17:35.508Z"
   },
   {
    "duration": 167,
    "start_time": "2021-08-03T17:17:35.515Z"
   },
   {
    "duration": 341,
    "start_time": "2021-08-03T17:17:35.684Z"
   },
   {
    "duration": 299,
    "start_time": "2021-08-03T17:17:36.028Z"
   },
   {
    "duration": 9,
    "start_time": "2021-08-03T17:17:36.329Z"
   },
   {
    "duration": 391,
    "start_time": "2021-08-03T17:17:36.340Z"
   },
   {
    "duration": 9,
    "start_time": "2021-08-03T17:17:36.733Z"
   },
   {
    "duration": 10,
    "start_time": "2021-08-03T17:27:06.544Z"
   },
   {
    "duration": 9,
    "start_time": "2021-08-03T17:27:07.822Z"
   },
   {
    "duration": 8,
    "start_time": "2021-08-03T17:44:13.344Z"
   },
   {
    "duration": 11,
    "start_time": "2021-08-03T17:46:57.504Z"
   },
   {
    "duration": 130,
    "start_time": "2021-08-03T17:47:01.068Z"
   },
   {
    "duration": 5,
    "start_time": "2021-08-03T17:47:07.130Z"
   },
   {
    "duration": 225,
    "start_time": "2021-08-03T17:52:35.010Z"
   },
   {
    "duration": 5,
    "start_time": "2021-08-03T17:52:36.557Z"
   },
   {
    "duration": 13611,
    "start_time": "2021-08-03T17:52:41.702Z"
   },
   {
    "duration": 5,
    "start_time": "2021-08-03T17:52:59.155Z"
   },
   {
    "duration": 244,
    "start_time": "2021-08-03T17:53:19.412Z"
   },
   {
    "duration": 5,
    "start_time": "2021-08-03T17:53:21.964Z"
   },
   {
    "duration": 1621,
    "start_time": "2021-08-03T19:32:20.163Z"
   },
   {
    "duration": 35,
    "start_time": "2021-08-03T19:32:21.787Z"
   },
   {
    "duration": 11,
    "start_time": "2021-08-03T19:32:21.825Z"
   },
   {
    "duration": 33,
    "start_time": "2021-08-03T19:32:21.839Z"
   },
   {
    "duration": 59,
    "start_time": "2021-08-03T19:32:21.875Z"
   },
   {
    "duration": 22,
    "start_time": "2021-08-03T19:32:21.936Z"
   },
   {
    "duration": 11,
    "start_time": "2021-08-03T19:32:21.960Z"
   },
   {
    "duration": 11,
    "start_time": "2021-08-03T19:32:21.975Z"
   },
   {
    "duration": 407,
    "start_time": "2021-08-03T19:32:21.989Z"
   },
   {
    "duration": 316,
    "start_time": "2021-08-03T19:32:22.399Z"
   },
   {
    "duration": 11,
    "start_time": "2021-08-03T19:32:22.717Z"
   },
   {
    "duration": 51,
    "start_time": "2021-08-03T19:32:22.730Z"
   },
   {
    "duration": 23,
    "start_time": "2021-08-03T19:32:22.784Z"
   },
   {
    "duration": 28,
    "start_time": "2021-08-03T19:32:22.809Z"
   },
   {
    "duration": 23,
    "start_time": "2021-08-03T19:32:22.840Z"
   },
   {
    "duration": 19,
    "start_time": "2021-08-03T19:32:22.866Z"
   },
   {
    "duration": 1443,
    "start_time": "2021-08-03T19:32:22.888Z"
   },
   {
    "duration": 9,
    "start_time": "2021-08-03T19:32:24.334Z"
   },
   {
    "duration": 8,
    "start_time": "2021-08-03T19:32:24.356Z"
   },
   {
    "duration": 480,
    "start_time": "2021-08-03T19:32:24.366Z"
   },
   {
    "duration": 421,
    "start_time": "2021-08-03T19:32:24.850Z"
   },
   {
    "duration": 22,
    "start_time": "2021-08-03T19:32:25.274Z"
   },
   {
    "duration": 22,
    "start_time": "2021-08-03T19:32:25.302Z"
   },
   {
    "duration": 550,
    "start_time": "2021-08-03T19:32:25.327Z"
   },
   {
    "duration": 545,
    "start_time": "2021-08-03T19:32:25.880Z"
   },
   {
    "duration": 589,
    "start_time": "2021-08-03T19:32:26.428Z"
   },
   {
    "duration": 299,
    "start_time": "2021-08-03T19:32:27.020Z"
   },
   {
    "duration": 5,
    "start_time": "2021-08-03T19:32:27.322Z"
   },
   {
    "duration": 527,
    "start_time": "2021-08-03T19:32:27.329Z"
   },
   {
    "duration": 9,
    "start_time": "2021-08-03T19:32:27.858Z"
   },
   {
    "duration": 25,
    "start_time": "2021-08-03T19:32:27.870Z"
   },
   {
    "duration": 5,
    "start_time": "2021-08-03T19:32:27.898Z"
   },
   {
    "duration": 512,
    "start_time": "2021-08-03T19:32:27.906Z"
   },
   {
    "duration": 407,
    "start_time": "2021-08-03T19:32:28.420Z"
   },
   {
    "duration": 8,
    "start_time": "2021-08-03T19:32:28.830Z"
   },
   {
    "duration": 20,
    "start_time": "2021-08-03T19:32:28.840Z"
   },
   {
    "duration": 13,
    "start_time": "2021-08-03T19:32:28.862Z"
   },
   {
    "duration": 14,
    "start_time": "2021-08-03T19:32:28.877Z"
   },
   {
    "duration": 327,
    "start_time": "2021-08-03T19:32:28.894Z"
   },
   {
    "duration": 11,
    "start_time": "2021-08-03T19:32:29.223Z"
   },
   {
    "duration": 34,
    "start_time": "2021-08-03T19:32:29.236Z"
   },
   {
    "duration": 12,
    "start_time": "2021-08-03T19:32:29.272Z"
   },
   {
    "duration": 338,
    "start_time": "2021-08-03T19:32:29.287Z"
   },
   {
    "duration": 8,
    "start_time": "2021-08-03T19:32:29.628Z"
   },
   {
    "duration": 27,
    "start_time": "2021-08-03T19:32:29.638Z"
   },
   {
    "duration": 65,
    "start_time": "2021-08-03T19:32:29.668Z"
   },
   {
    "duration": 27,
    "start_time": "2021-08-03T19:32:29.736Z"
   },
   {
    "duration": 10,
    "start_time": "2021-08-03T19:32:29.766Z"
   },
   {
    "duration": 14,
    "start_time": "2021-08-03T19:32:29.779Z"
   },
   {
    "duration": 110,
    "start_time": "2021-08-03T19:32:29.797Z"
   },
   {
    "duration": 15,
    "start_time": "2021-08-03T19:32:29.910Z"
   },
   {
    "duration": 42,
    "start_time": "2021-08-03T19:32:29.928Z"
   },
   {
    "duration": 26,
    "start_time": "2021-08-03T19:32:29.973Z"
   },
   {
    "duration": 8,
    "start_time": "2021-08-03T19:32:30.001Z"
   },
   {
    "duration": 22,
    "start_time": "2021-08-03T19:32:30.012Z"
   },
   {
    "duration": 30,
    "start_time": "2021-08-03T19:32:30.037Z"
   },
   {
    "duration": 15,
    "start_time": "2021-08-03T19:32:30.070Z"
   },
   {
    "duration": 17,
    "start_time": "2021-08-03T19:32:30.088Z"
   },
   {
    "duration": 16,
    "start_time": "2021-08-03T19:32:30.108Z"
   },
   {
    "duration": 46,
    "start_time": "2021-08-03T19:32:30.126Z"
   },
   {
    "duration": 17,
    "start_time": "2021-08-03T19:32:30.174Z"
   },
   {
    "duration": 20,
    "start_time": "2021-08-03T19:32:30.194Z"
   },
   {
    "duration": 247,
    "start_time": "2021-08-03T19:32:30.216Z"
   },
   {
    "duration": 218,
    "start_time": "2021-08-03T19:32:30.466Z"
   },
   {
    "duration": 5,
    "start_time": "2021-08-03T19:32:30.687Z"
   },
   {
    "duration": 31,
    "start_time": "2021-08-03T19:32:30.695Z"
   },
   {
    "duration": 238,
    "start_time": "2021-08-03T19:32:30.728Z"
   },
   {
    "duration": 9,
    "start_time": "2021-08-03T19:32:30.975Z"
   },
   {
    "duration": 15,
    "start_time": "2021-08-03T19:32:30.987Z"
   },
   {
    "duration": 14,
    "start_time": "2021-08-03T19:32:31.004Z"
   },
   {
    "duration": 25,
    "start_time": "2021-08-03T19:32:31.020Z"
   },
   {
    "duration": 7,
    "start_time": "2021-08-03T19:32:31.057Z"
   },
   {
    "duration": 228,
    "start_time": "2021-08-03T19:32:31.067Z"
   },
   {
    "duration": 5,
    "start_time": "2021-08-03T19:32:31.298Z"
   },
   {
    "duration": 13053,
    "start_time": "2021-08-03T19:32:31.306Z"
   },
   {
    "duration": 5,
    "start_time": "2021-08-03T19:32:44.362Z"
   },
   {
    "duration": 8987,
    "start_time": "2021-08-03T19:32:44.370Z"
   },
   {
    "duration": 5,
    "start_time": "2021-08-03T19:32:53.360Z"
   },
   {
    "duration": 188,
    "start_time": "2021-08-03T19:32:53.367Z"
   },
   {
    "duration": 5,
    "start_time": "2021-08-03T19:32:53.558Z"
   },
   {
    "duration": 244,
    "start_time": "2021-08-03T19:32:53.565Z"
   },
   {
    "duration": 6,
    "start_time": "2021-08-03T19:32:53.811Z"
   },
   {
    "duration": 18420,
    "start_time": "2021-08-03T19:32:53.819Z"
   },
   {
    "duration": 14,
    "start_time": "2021-08-03T19:33:12.242Z"
   },
   {
    "duration": 12102,
    "start_time": "2021-08-03T19:33:12.258Z"
   },
   {
    "duration": 6,
    "start_time": "2021-08-03T19:33:24.363Z"
   },
   {
    "duration": 98,
    "start_time": "2021-08-03T19:33:24.371Z"
   },
   {
    "duration": 6,
    "start_time": "2021-08-03T19:33:24.557Z"
   },
   {
    "duration": 21,
    "start_time": "2021-08-03T19:33:24.565Z"
   },
   {
    "duration": 9,
    "start_time": "2021-08-03T19:33:24.588Z"
   },
   {
    "duration": 263,
    "start_time": "2021-08-03T19:33:24.599Z"
   },
   {
    "duration": 142,
    "start_time": "2021-08-03T19:33:24.865Z"
   },
   {
    "duration": 5,
    "start_time": "2021-08-03T19:33:25.010Z"
   },
   {
    "duration": 287,
    "start_time": "2021-08-03T19:33:25.017Z"
   },
   {
    "duration": 5,
    "start_time": "2021-08-03T19:33:25.306Z"
   },
   {
    "duration": 289,
    "start_time": "2021-08-03T19:33:25.313Z"
   },
   {
    "duration": 365,
    "start_time": "2021-08-03T19:33:25.605Z"
   },
   {
    "duration": 309,
    "start_time": "2021-08-03T19:33:25.972Z"
   },
   {
    "duration": 9,
    "start_time": "2021-08-03T19:33:26.283Z"
   },
   {
    "duration": 493,
    "start_time": "2021-08-03T19:33:26.295Z"
   },
   {
    "duration": 9,
    "start_time": "2021-08-03T19:33:26.791Z"
   },
   {
    "duration": 202,
    "start_time": "2021-08-03T21:05:59.141Z"
   },
   {
    "duration": 5,
    "start_time": "2021-08-03T21:06:10.996Z"
   },
   {
    "duration": 201,
    "start_time": "2021-08-03T21:06:13.094Z"
   },
   {
    "duration": 6,
    "start_time": "2021-08-03T21:06:17.538Z"
   },
   {
    "duration": 12499,
    "start_time": "2021-08-03T21:06:32.939Z"
   },
   {
    "duration": 5,
    "start_time": "2021-08-03T21:07:01.095Z"
   },
   {
    "duration": 8208,
    "start_time": "2021-08-03T21:07:30.563Z"
   },
   {
    "duration": 5,
    "start_time": "2021-08-03T21:07:41.575Z"
   },
   {
    "duration": 8435,
    "start_time": "2021-08-03T21:07:46.379Z"
   },
   {
    "duration": 5,
    "start_time": "2021-08-03T21:07:57.440Z"
   },
   {
    "duration": 1536,
    "start_time": "2021-08-03T21:08:16.940Z"
   },
   {
    "duration": 36,
    "start_time": "2021-08-03T21:08:18.479Z"
   },
   {
    "duration": 12,
    "start_time": "2021-08-03T21:08:18.518Z"
   },
   {
    "duration": 34,
    "start_time": "2021-08-03T21:08:18.532Z"
   },
   {
    "duration": 57,
    "start_time": "2021-08-03T21:08:18.569Z"
   },
   {
    "duration": 6,
    "start_time": "2021-08-03T21:08:18.628Z"
   },
   {
    "duration": 6,
    "start_time": "2021-08-03T21:08:18.655Z"
   },
   {
    "duration": 14,
    "start_time": "2021-08-03T21:08:18.665Z"
   },
   {
    "duration": 372,
    "start_time": "2021-08-03T21:08:18.682Z"
   },
   {
    "duration": 316,
    "start_time": "2021-08-03T21:08:19.057Z"
   },
   {
    "duration": 11,
    "start_time": "2021-08-03T21:08:19.376Z"
   },
   {
    "duration": 27,
    "start_time": "2021-08-03T21:08:19.390Z"
   },
   {
    "duration": 36,
    "start_time": "2021-08-03T21:08:19.420Z"
   },
   {
    "duration": 12,
    "start_time": "2021-08-03T21:08:19.459Z"
   },
   {
    "duration": 15,
    "start_time": "2021-08-03T21:08:19.474Z"
   },
   {
    "duration": 15,
    "start_time": "2021-08-03T21:08:19.491Z"
   },
   {
    "duration": 1061,
    "start_time": "2021-08-03T21:08:19.508Z"
   },
   {
    "duration": 9,
    "start_time": "2021-08-03T21:08:20.571Z"
   },
   {
    "duration": 13,
    "start_time": "2021-08-03T21:08:20.582Z"
   },
   {
    "duration": 467,
    "start_time": "2021-08-03T21:08:20.597Z"
   },
   {
    "duration": 312,
    "start_time": "2021-08-03T21:08:21.067Z"
   },
   {
    "duration": 21,
    "start_time": "2021-08-03T21:08:21.381Z"
   },
   {
    "duration": 20,
    "start_time": "2021-08-03T21:08:21.409Z"
   },
   {
    "duration": 478,
    "start_time": "2021-08-03T21:08:21.456Z"
   },
   {
    "duration": 522,
    "start_time": "2021-08-03T21:08:21.936Z"
   },
   {
    "duration": 598,
    "start_time": "2021-08-03T21:08:22.461Z"
   },
   {
    "duration": 308,
    "start_time": "2021-08-03T21:08:23.061Z"
   },
   {
    "duration": 5,
    "start_time": "2021-08-03T21:08:23.371Z"
   },
   {
    "duration": 500,
    "start_time": "2021-08-03T21:08:23.378Z"
   },
   {
    "duration": 9,
    "start_time": "2021-08-03T21:08:23.880Z"
   },
   {
    "duration": 29,
    "start_time": "2021-08-03T21:08:23.891Z"
   },
   {
    "duration": 6,
    "start_time": "2021-08-03T21:08:23.922Z"
   },
   {
    "duration": 507,
    "start_time": "2021-08-03T21:08:23.931Z"
   },
   {
    "duration": 576,
    "start_time": "2021-08-03T21:08:24.440Z"
   },
   {
    "duration": 41,
    "start_time": "2021-08-03T21:08:25.018Z"
   },
   {
    "duration": 9,
    "start_time": "2021-08-03T21:08:25.062Z"
   },
   {
    "duration": 7,
    "start_time": "2021-08-03T21:08:25.074Z"
   },
   {
    "duration": 9,
    "start_time": "2021-08-03T21:08:25.083Z"
   },
   {
    "duration": 464,
    "start_time": "2021-08-03T21:08:25.095Z"
   },
   {
    "duration": 8,
    "start_time": "2021-08-03T21:08:25.561Z"
   },
   {
    "duration": 22,
    "start_time": "2021-08-03T21:08:25.571Z"
   },
   {
    "duration": 7,
    "start_time": "2021-08-03T21:08:25.595Z"
   },
   {
    "duration": 355,
    "start_time": "2021-08-03T21:08:25.604Z"
   },
   {
    "duration": 9,
    "start_time": "2021-08-03T21:08:25.961Z"
   },
   {
    "duration": 17,
    "start_time": "2021-08-03T21:08:25.972Z"
   },
   {
    "duration": 78,
    "start_time": "2021-08-03T21:08:25.991Z"
   },
   {
    "duration": 12,
    "start_time": "2021-08-03T21:08:26.071Z"
   },
   {
    "duration": 13,
    "start_time": "2021-08-03T21:08:26.085Z"
   },
   {
    "duration": 17,
    "start_time": "2021-08-03T21:08:26.101Z"
   },
   {
    "duration": 84,
    "start_time": "2021-08-03T21:08:26.120Z"
   },
   {
    "duration": 12,
    "start_time": "2021-08-03T21:08:26.206Z"
   },
   {
    "duration": 38,
    "start_time": "2021-08-03T21:08:26.221Z"
   },
   {
    "duration": 18,
    "start_time": "2021-08-03T21:08:26.261Z"
   },
   {
    "duration": 8,
    "start_time": "2021-08-03T21:08:26.281Z"
   },
   {
    "duration": 7,
    "start_time": "2021-08-03T21:08:26.291Z"
   },
   {
    "duration": 5,
    "start_time": "2021-08-03T21:08:26.300Z"
   },
   {
    "duration": 51,
    "start_time": "2021-08-03T21:08:26.308Z"
   },
   {
    "duration": 9,
    "start_time": "2021-08-03T21:08:26.361Z"
   },
   {
    "duration": 10,
    "start_time": "2021-08-03T21:08:26.372Z"
   },
   {
    "duration": 36,
    "start_time": "2021-08-03T21:08:26.385Z"
   },
   {
    "duration": 42,
    "start_time": "2021-08-03T21:08:26.424Z"
   },
   {
    "duration": 10,
    "start_time": "2021-08-03T21:08:26.470Z"
   },
   {
    "duration": 248,
    "start_time": "2021-08-03T21:08:26.483Z"
   },
   {
    "duration": 202,
    "start_time": "2021-08-03T21:08:26.734Z"
   },
   {
    "duration": 17,
    "start_time": "2021-08-03T21:08:26.939Z"
   },
   {
    "duration": 11,
    "start_time": "2021-08-03T21:08:26.959Z"
   },
   {
    "duration": 255,
    "start_time": "2021-08-03T21:08:26.973Z"
   },
   {
    "duration": 21,
    "start_time": "2021-08-03T21:08:27.236Z"
   },
   {
    "duration": 8,
    "start_time": "2021-08-03T21:08:27.260Z"
   },
   {
    "duration": 11,
    "start_time": "2021-08-03T21:08:27.270Z"
   },
   {
    "duration": 15,
    "start_time": "2021-08-03T21:08:27.283Z"
   },
   {
    "duration": 11,
    "start_time": "2021-08-03T21:08:27.301Z"
   },
   {
    "duration": 246,
    "start_time": "2021-08-03T21:08:27.315Z"
   },
   {
    "duration": 6,
    "start_time": "2021-08-03T21:08:27.564Z"
   },
   {
    "duration": 12447,
    "start_time": "2021-08-03T21:08:27.573Z"
   },
   {
    "duration": 6,
    "start_time": "2021-08-03T21:08:40.022Z"
   },
   {
    "duration": 8363,
    "start_time": "2021-08-03T21:08:40.030Z"
   },
   {
    "duration": 6,
    "start_time": "2021-08-03T21:08:48.395Z"
   },
   {
    "duration": 61,
    "start_time": "2021-08-03T21:08:48.403Z"
   },
   {
    "duration": 7,
    "start_time": "2021-08-03T21:08:48.557Z"
   },
   {
    "duration": 294,
    "start_time": "2021-08-03T21:08:48.567Z"
   },
   {
    "duration": 5,
    "start_time": "2021-08-03T21:08:48.863Z"
   },
   {
    "duration": 12745,
    "start_time": "2021-08-03T21:08:48.870Z"
   },
   {
    "duration": 5,
    "start_time": "2021-08-03T21:09:01.617Z"
   },
   {
    "duration": 8690,
    "start_time": "2021-08-03T21:09:01.624Z"
   },
   {
    "duration": 6,
    "start_time": "2021-08-03T21:09:10.316Z"
   },
   {
    "duration": 57,
    "start_time": "2021-08-03T21:09:10.324Z"
   },
   {
    "duration": 7,
    "start_time": "2021-08-03T21:09:10.456Z"
   },
   {
    "duration": 21,
    "start_time": "2021-08-03T21:09:10.556Z"
   },
   {
    "duration": 8,
    "start_time": "2021-08-03T21:09:10.579Z"
   },
   {
    "duration": 268,
    "start_time": "2021-08-03T21:09:10.590Z"
   },
   {
    "duration": 129,
    "start_time": "2021-08-03T21:09:10.861Z"
   },
   {
    "duration": 5,
    "start_time": "2021-08-03T21:09:10.992Z"
   },
   {
    "duration": 271,
    "start_time": "2021-08-03T21:09:10.999Z"
   },
   {
    "duration": 4,
    "start_time": "2021-08-03T21:09:11.273Z"
   },
   {
    "duration": 159,
    "start_time": "2021-08-03T21:09:11.280Z"
   },
   {
    "duration": 308,
    "start_time": "2021-08-03T21:09:11.441Z"
   },
   {
    "duration": 265,
    "start_time": "2021-08-03T21:09:11.752Z"
   },
   {
    "duration": 8,
    "start_time": "2021-08-03T21:09:12.019Z"
   },
   {
    "duration": 375,
    "start_time": "2021-08-03T21:09:12.030Z"
   },
   {
    "duration": 8,
    "start_time": "2021-08-03T21:09:12.407Z"
   },
   {
    "duration": 1466,
    "start_time": "2021-08-03T21:14:52.604Z"
   },
   {
    "duration": 35,
    "start_time": "2021-08-03T21:14:54.073Z"
   },
   {
    "duration": 11,
    "start_time": "2021-08-03T21:14:54.112Z"
   },
   {
    "duration": 36,
    "start_time": "2021-08-03T21:14:54.126Z"
   },
   {
    "duration": 58,
    "start_time": "2021-08-03T21:14:54.165Z"
   },
   {
    "duration": 5,
    "start_time": "2021-08-03T21:14:54.225Z"
   },
   {
    "duration": 6,
    "start_time": "2021-08-03T21:14:54.256Z"
   },
   {
    "duration": 13,
    "start_time": "2021-08-03T21:14:54.266Z"
   },
   {
    "duration": 385,
    "start_time": "2021-08-03T21:14:54.282Z"
   },
   {
    "duration": 319,
    "start_time": "2021-08-03T21:14:54.670Z"
   },
   {
    "duration": 10,
    "start_time": "2021-08-03T21:14:54.992Z"
   },
   {
    "duration": 31,
    "start_time": "2021-08-03T21:14:55.004Z"
   },
   {
    "duration": 27,
    "start_time": "2021-08-03T21:14:55.038Z"
   },
   {
    "duration": 26,
    "start_time": "2021-08-03T21:14:55.067Z"
   },
   {
    "duration": 20,
    "start_time": "2021-08-03T21:14:55.096Z"
   },
   {
    "duration": 37,
    "start_time": "2021-08-03T21:14:55.119Z"
   },
   {
    "duration": 1022,
    "start_time": "2021-08-03T21:14:55.158Z"
   },
   {
    "duration": 8,
    "start_time": "2021-08-03T21:14:56.183Z"
   },
   {
    "duration": 16,
    "start_time": "2021-08-03T21:14:56.194Z"
   },
   {
    "duration": 474,
    "start_time": "2021-08-03T21:14:56.212Z"
   },
   {
    "duration": 316,
    "start_time": "2021-08-03T21:14:56.689Z"
   },
   {
    "duration": 22,
    "start_time": "2021-08-03T21:14:57.007Z"
   },
   {
    "duration": 37,
    "start_time": "2021-08-03T21:14:57.034Z"
   },
   {
    "duration": 542,
    "start_time": "2021-08-03T21:14:57.075Z"
   },
   {
    "duration": 517,
    "start_time": "2021-08-03T21:14:57.619Z"
   },
   {
    "duration": 600,
    "start_time": "2021-08-03T21:14:58.138Z"
   },
   {
    "duration": 225,
    "start_time": "2021-08-03T21:14:58.741Z"
   },
   {
    "duration": 6,
    "start_time": "2021-08-03T21:14:58.968Z"
   },
   {
    "duration": 520,
    "start_time": "2021-08-03T21:14:58.976Z"
   },
   {
    "duration": 9,
    "start_time": "2021-08-03T21:14:59.498Z"
   },
   {
    "duration": 50,
    "start_time": "2021-08-03T21:14:59.510Z"
   },
   {
    "duration": 5,
    "start_time": "2021-08-03T21:14:59.562Z"
   },
   {
    "duration": 485,
    "start_time": "2021-08-03T21:14:59.570Z"
   },
   {
    "duration": 419,
    "start_time": "2021-08-03T21:15:00.058Z"
   },
   {
    "duration": 8,
    "start_time": "2021-08-03T21:15:00.479Z"
   },
   {
    "duration": 16,
    "start_time": "2021-08-03T21:15:00.490Z"
   },
   {
    "duration": 33,
    "start_time": "2021-08-03T21:15:00.509Z"
   },
   {
    "duration": 18,
    "start_time": "2021-08-03T21:15:00.545Z"
   },
   {
    "duration": 334,
    "start_time": "2021-08-03T21:15:00.565Z"
   },
   {
    "duration": 9,
    "start_time": "2021-08-03T21:15:00.901Z"
   },
   {
    "duration": 41,
    "start_time": "2021-08-03T21:15:00.912Z"
   },
   {
    "duration": 14,
    "start_time": "2021-08-03T21:15:00.956Z"
   },
   {
    "duration": 331,
    "start_time": "2021-08-03T21:15:00.972Z"
   },
   {
    "duration": 8,
    "start_time": "2021-08-03T21:15:01.306Z"
   },
   {
    "duration": 41,
    "start_time": "2021-08-03T21:15:01.316Z"
   },
   {
    "duration": 95,
    "start_time": "2021-08-03T21:15:01.360Z"
   },
   {
    "duration": 13,
    "start_time": "2021-08-03T21:15:01.457Z"
   },
   {
    "duration": 38,
    "start_time": "2021-08-03T21:15:01.474Z"
   },
   {
    "duration": 37,
    "start_time": "2021-08-03T21:15:01.515Z"
   },
   {
    "duration": 92,
    "start_time": "2021-08-03T21:15:01.555Z"
   },
   {
    "duration": 12,
    "start_time": "2021-08-03T21:15:01.650Z"
   },
   {
    "duration": 41,
    "start_time": "2021-08-03T21:15:01.665Z"
   },
   {
    "duration": 40,
    "start_time": "2021-08-03T21:15:01.708Z"
   },
   {
    "duration": 35,
    "start_time": "2021-08-03T21:15:01.750Z"
   },
   {
    "duration": 28,
    "start_time": "2021-08-03T21:15:01.787Z"
   },
   {
    "duration": 20,
    "start_time": "2021-08-03T21:15:01.817Z"
   },
   {
    "duration": 34,
    "start_time": "2021-08-03T21:15:01.839Z"
   },
   {
    "duration": 42,
    "start_time": "2021-08-03T21:15:01.875Z"
   },
   {
    "duration": 34,
    "start_time": "2021-08-03T21:15:01.919Z"
   },
   {
    "duration": 55,
    "start_time": "2021-08-03T21:15:01.956Z"
   },
   {
    "duration": 17,
    "start_time": "2021-08-03T21:15:02.014Z"
   },
   {
    "duration": 21,
    "start_time": "2021-08-03T21:15:02.034Z"
   },
   {
    "duration": 262,
    "start_time": "2021-08-03T21:15:02.058Z"
   },
   {
    "duration": 210,
    "start_time": "2021-08-03T21:15:02.323Z"
   },
   {
    "duration": 5,
    "start_time": "2021-08-03T21:15:02.535Z"
   },
   {
    "duration": 35,
    "start_time": "2021-08-03T21:15:02.543Z"
   },
   {
    "duration": 242,
    "start_time": "2021-08-03T21:15:02.580Z"
   },
   {
    "duration": 9,
    "start_time": "2021-08-03T21:15:02.830Z"
   },
   {
    "duration": 19,
    "start_time": "2021-08-03T21:15:02.842Z"
   },
   {
    "duration": 23,
    "start_time": "2021-08-03T21:15:02.863Z"
   },
   {
    "duration": 21,
    "start_time": "2021-08-03T21:15:02.888Z"
   },
   {
    "duration": 20,
    "start_time": "2021-08-03T21:15:02.912Z"
   },
   {
    "duration": 232,
    "start_time": "2021-08-03T21:15:02.935Z"
   },
   {
    "duration": 5,
    "start_time": "2021-08-03T21:15:03.169Z"
   },
   {
    "duration": 12763,
    "start_time": "2021-08-03T21:15:03.177Z"
   },
   {
    "duration": 4,
    "start_time": "2021-08-03T21:15:15.942Z"
   },
   {
    "duration": 8333,
    "start_time": "2021-08-03T21:15:15.956Z"
   },
   {
    "duration": 5,
    "start_time": "2021-08-03T21:15:24.291Z"
   },
   {
    "duration": 65,
    "start_time": "2021-08-03T21:15:24.299Z"
   },
   {
    "duration": 7,
    "start_time": "2021-08-03T21:15:24.458Z"
   },
   {
    "duration": 240,
    "start_time": "2021-08-03T21:15:24.557Z"
   },
   {
    "duration": 5,
    "start_time": "2021-08-03T21:15:24.800Z"
   },
   {
    "duration": 12588,
    "start_time": "2021-08-03T21:15:24.807Z"
   },
   {
    "duration": 5,
    "start_time": "2021-08-03T21:15:37.398Z"
   },
   {
    "duration": 8412,
    "start_time": "2021-08-03T21:15:37.405Z"
   },
   {
    "duration": 5,
    "start_time": "2021-08-03T21:15:45.820Z"
   },
   {
    "duration": 50,
    "start_time": "2021-08-03T21:15:45.828Z"
   },
   {
    "duration": 77,
    "start_time": "2021-08-03T21:15:45.882Z"
   },
   {
    "duration": 109,
    "start_time": "2021-08-03T21:15:45.963Z"
   },
   {
    "duration": 10,
    "start_time": "2021-08-03T21:15:46.075Z"
   },
   {
    "duration": 257,
    "start_time": "2021-08-03T21:15:46.088Z"
   },
   {
    "duration": 131,
    "start_time": "2021-08-03T21:15:46.348Z"
   },
   {
    "duration": 6,
    "start_time": "2021-08-03T21:15:46.481Z"
   },
   {
    "duration": 279,
    "start_time": "2021-08-03T21:15:46.489Z"
   },
   {
    "duration": 6,
    "start_time": "2021-08-03T21:15:46.770Z"
   },
   {
    "duration": 163,
    "start_time": "2021-08-03T21:15:46.778Z"
   },
   {
    "duration": 376,
    "start_time": "2021-08-03T21:15:46.943Z"
   },
   {
    "duration": 281,
    "start_time": "2021-08-03T21:15:47.322Z"
   },
   {
    "duration": 8,
    "start_time": "2021-08-03T21:15:47.605Z"
   },
   {
    "duration": 384,
    "start_time": "2021-08-03T21:15:47.616Z"
   },
   {
    "duration": 10,
    "start_time": "2021-08-03T21:15:48.004Z"
   },
   {
    "duration": 1559,
    "start_time": "2021-08-03T21:17:28.848Z"
   },
   {
    "duration": 38,
    "start_time": "2021-08-03T21:17:30.410Z"
   },
   {
    "duration": 14,
    "start_time": "2021-08-03T21:17:30.451Z"
   },
   {
    "duration": 26,
    "start_time": "2021-08-03T21:17:30.468Z"
   },
   {
    "duration": 88,
    "start_time": "2021-08-03T21:17:30.497Z"
   },
   {
    "duration": 7,
    "start_time": "2021-08-03T21:17:30.587Z"
   },
   {
    "duration": 10,
    "start_time": "2021-08-03T21:17:30.597Z"
   },
   {
    "duration": 34,
    "start_time": "2021-08-03T21:17:30.610Z"
   },
   {
    "duration": 377,
    "start_time": "2021-08-03T21:17:30.648Z"
   },
   {
    "duration": 314,
    "start_time": "2021-08-03T21:17:31.029Z"
   },
   {
    "duration": 17,
    "start_time": "2021-08-03T21:17:31.345Z"
   },
   {
    "duration": 29,
    "start_time": "2021-08-03T21:17:31.365Z"
   },
   {
    "duration": 19,
    "start_time": "2021-08-03T21:17:31.397Z"
   },
   {
    "duration": 13,
    "start_time": "2021-08-03T21:17:31.418Z"
   },
   {
    "duration": 36,
    "start_time": "2021-08-03T21:17:31.433Z"
   },
   {
    "duration": 16,
    "start_time": "2021-08-03T21:17:31.472Z"
   },
   {
    "duration": 1125,
    "start_time": "2021-08-03T21:17:31.490Z"
   },
   {
    "duration": 10,
    "start_time": "2021-08-03T21:17:32.617Z"
   },
   {
    "duration": 28,
    "start_time": "2021-08-03T21:17:32.629Z"
   },
   {
    "duration": 471,
    "start_time": "2021-08-03T21:17:32.660Z"
   },
   {
    "duration": 332,
    "start_time": "2021-08-03T21:17:33.133Z"
   },
   {
    "duration": 22,
    "start_time": "2021-08-03T21:17:33.467Z"
   },
   {
    "duration": 22,
    "start_time": "2021-08-03T21:17:33.492Z"
   },
   {
    "duration": 511,
    "start_time": "2021-08-03T21:17:33.517Z"
   },
   {
    "duration": 502,
    "start_time": "2021-08-03T21:17:34.031Z"
   },
   {
    "duration": 588,
    "start_time": "2021-08-03T21:17:34.535Z"
   },
   {
    "duration": 230,
    "start_time": "2021-08-03T21:17:35.130Z"
   },
   {
    "duration": 5,
    "start_time": "2021-08-03T21:17:35.364Z"
   },
   {
    "duration": 711,
    "start_time": "2021-08-03T21:17:35.371Z"
   },
   {
    "duration": 9,
    "start_time": "2021-08-03T21:17:36.084Z"
   },
   {
    "duration": 28,
    "start_time": "2021-08-03T21:17:36.095Z"
   },
   {
    "duration": 32,
    "start_time": "2021-08-03T21:17:36.126Z"
   },
   {
    "duration": 514,
    "start_time": "2021-08-03T21:17:36.160Z"
   },
   {
    "duration": 401,
    "start_time": "2021-08-03T21:17:36.676Z"
   },
   {
    "duration": 8,
    "start_time": "2021-08-03T21:17:37.079Z"
   },
   {
    "duration": 11,
    "start_time": "2021-08-03T21:17:37.089Z"
   },
   {
    "duration": 10,
    "start_time": "2021-08-03T21:17:37.103Z"
   },
   {
    "duration": 48,
    "start_time": "2021-08-03T21:17:37.116Z"
   },
   {
    "duration": 520,
    "start_time": "2021-08-03T21:17:37.167Z"
   },
   {
    "duration": 8,
    "start_time": "2021-08-03T21:17:37.691Z"
   },
   {
    "duration": 31,
    "start_time": "2021-08-03T21:17:37.701Z"
   },
   {
    "duration": 22,
    "start_time": "2021-08-03T21:17:37.734Z"
   },
   {
    "duration": 350,
    "start_time": "2021-08-03T21:17:37.758Z"
   },
   {
    "duration": 9,
    "start_time": "2021-08-03T21:17:38.111Z"
   },
   {
    "duration": 38,
    "start_time": "2021-08-03T21:17:38.122Z"
   },
   {
    "duration": 58,
    "start_time": "2021-08-03T21:17:38.162Z"
   },
   {
    "duration": 34,
    "start_time": "2021-08-03T21:17:38.222Z"
   },
   {
    "duration": 8,
    "start_time": "2021-08-03T21:17:38.258Z"
   },
   {
    "duration": 18,
    "start_time": "2021-08-03T21:17:38.268Z"
   },
   {
    "duration": 77,
    "start_time": "2021-08-03T21:17:38.288Z"
   },
   {
    "duration": 12,
    "start_time": "2021-08-03T21:17:38.368Z"
   },
   {
    "duration": 18,
    "start_time": "2021-08-03T21:17:38.383Z"
   },
   {
    "duration": 22,
    "start_time": "2021-08-03T21:17:38.404Z"
   },
   {
    "duration": 35,
    "start_time": "2021-08-03T21:17:38.428Z"
   },
   {
    "duration": 20,
    "start_time": "2021-08-03T21:17:38.465Z"
   },
   {
    "duration": 14,
    "start_time": "2021-08-03T21:17:38.488Z"
   },
   {
    "duration": 22,
    "start_time": "2021-08-03T21:17:38.505Z"
   },
   {
    "duration": 6,
    "start_time": "2021-08-03T21:17:38.529Z"
   },
   {
    "duration": 20,
    "start_time": "2021-08-03T21:17:38.537Z"
   },
   {
    "duration": 40,
    "start_time": "2021-08-03T21:17:38.559Z"
   },
   {
    "duration": 17,
    "start_time": "2021-08-03T21:17:38.601Z"
   },
   {
    "duration": 16,
    "start_time": "2021-08-03T21:17:38.620Z"
   },
   {
    "duration": 247,
    "start_time": "2021-08-03T21:17:38.638Z"
   },
   {
    "duration": 212,
    "start_time": "2021-08-03T21:17:38.887Z"
   },
   {
    "duration": 5,
    "start_time": "2021-08-03T21:17:39.101Z"
   },
   {
    "duration": 15,
    "start_time": "2021-08-03T21:17:39.109Z"
   },
   {
    "duration": 236,
    "start_time": "2021-08-03T21:17:39.126Z"
   },
   {
    "duration": 9,
    "start_time": "2021-08-03T21:17:39.364Z"
   },
   {
    "duration": 10,
    "start_time": "2021-08-03T21:17:39.375Z"
   },
   {
    "duration": 11,
    "start_time": "2021-08-03T21:17:39.388Z"
   },
   {
    "duration": 10,
    "start_time": "2021-08-03T21:17:39.402Z"
   },
   {
    "duration": 12,
    "start_time": "2021-08-03T21:17:39.456Z"
   },
   {
    "duration": 317,
    "start_time": "2021-08-03T21:17:39.471Z"
   },
   {
    "duration": 7,
    "start_time": "2021-08-03T21:17:39.791Z"
   },
   {
    "duration": 17283,
    "start_time": "2021-08-03T21:17:39.801Z"
   },
   {
    "duration": 5,
    "start_time": "2021-08-03T21:17:57.086Z"
   },
   {
    "duration": 8437,
    "start_time": "2021-08-03T21:17:57.094Z"
   },
   {
    "duration": 5,
    "start_time": "2021-08-03T21:18:05.534Z"
   },
   {
    "duration": 103,
    "start_time": "2021-08-03T21:18:05.556Z"
   },
   {
    "duration": 96,
    "start_time": "2021-08-03T21:18:05.662Z"
   },
   {
    "duration": 240,
    "start_time": "2021-08-03T21:18:05.768Z"
   },
   {
    "duration": 5,
    "start_time": "2021-08-03T21:18:06.011Z"
   },
   {
    "duration": 12842,
    "start_time": "2021-08-03T21:18:06.018Z"
   },
   {
    "duration": 5,
    "start_time": "2021-08-03T21:18:18.862Z"
   },
   {
    "duration": 8794,
    "start_time": "2021-08-03T21:18:18.869Z"
   },
   {
    "duration": 5,
    "start_time": "2021-08-03T21:18:27.666Z"
   },
   {
    "duration": 85,
    "start_time": "2021-08-03T21:18:27.673Z"
   },
   {
    "duration": 97,
    "start_time": "2021-08-03T21:18:27.761Z"
   },
   {
    "duration": 19,
    "start_time": "2021-08-03T21:18:27.861Z"
   },
   {
    "duration": 8,
    "start_time": "2021-08-03T21:18:27.883Z"
   },
   {
    "duration": 255,
    "start_time": "2021-08-03T21:18:27.894Z"
   },
   {
    "duration": 122,
    "start_time": "2021-08-03T21:18:28.151Z"
   },
   {
    "duration": 7,
    "start_time": "2021-08-03T21:18:28.275Z"
   },
   {
    "duration": 288,
    "start_time": "2021-08-03T21:18:28.285Z"
   },
   {
    "duration": 7,
    "start_time": "2021-08-03T21:18:28.575Z"
   },
   {
    "duration": 170,
    "start_time": "2021-08-03T21:18:28.585Z"
   },
   {
    "duration": 319,
    "start_time": "2021-08-03T21:18:28.758Z"
   },
   {
    "duration": 269,
    "start_time": "2021-08-03T21:18:29.080Z"
   },
   {
    "duration": 10,
    "start_time": "2021-08-03T21:18:29.356Z"
   },
   {
    "duration": 374,
    "start_time": "2021-08-03T21:18:29.369Z"
   },
   {
    "duration": 16,
    "start_time": "2021-08-03T21:18:29.745Z"
   },
   {
    "duration": 1594,
    "start_time": "2021-08-03T21:39:08.501Z"
   },
   {
    "duration": 20,
    "start_time": "2021-08-03T21:39:17.904Z"
   },
   {
    "duration": 22,
    "start_time": "2021-08-03T21:39:26.642Z"
   },
   {
    "duration": 398,
    "start_time": "2021-08-03T21:46:13.278Z"
   },
   {
    "duration": 18,
    "start_time": "2021-08-03T21:46:28.025Z"
   },
   {
    "duration": 18,
    "start_time": "2021-08-03T21:46:39.972Z"
   },
   {
    "duration": 1553,
    "start_time": "2021-08-03T21:46:59.059Z"
   },
   {
    "duration": 36,
    "start_time": "2021-08-03T21:47:00.614Z"
   },
   {
    "duration": 22,
    "start_time": "2021-08-03T21:47:00.653Z"
   },
   {
    "duration": 38,
    "start_time": "2021-08-03T21:47:00.677Z"
   },
   {
    "duration": 77,
    "start_time": "2021-08-03T21:47:00.718Z"
   },
   {
    "duration": 6,
    "start_time": "2021-08-03T21:47:00.797Z"
   },
   {
    "duration": 24,
    "start_time": "2021-08-03T21:47:00.805Z"
   },
   {
    "duration": 29,
    "start_time": "2021-08-03T21:47:00.832Z"
   },
   {
    "duration": 382,
    "start_time": "2021-08-03T21:47:00.863Z"
   },
   {
    "duration": 334,
    "start_time": "2021-08-03T21:47:01.248Z"
   },
   {
    "duration": 11,
    "start_time": "2021-08-03T21:47:01.584Z"
   },
   {
    "duration": 38,
    "start_time": "2021-08-03T21:47:01.596Z"
   },
   {
    "duration": 24,
    "start_time": "2021-08-03T21:47:01.636Z"
   },
   {
    "duration": 19,
    "start_time": "2021-08-03T21:47:01.662Z"
   },
   {
    "duration": 21,
    "start_time": "2021-08-03T21:47:01.684Z"
   },
   {
    "duration": 18,
    "start_time": "2021-08-03T21:47:01.708Z"
   },
   {
    "duration": 1053,
    "start_time": "2021-08-03T21:47:01.729Z"
   },
   {
    "duration": 9,
    "start_time": "2021-08-03T21:47:02.785Z"
   },
   {
    "duration": 21,
    "start_time": "2021-08-03T21:47:02.797Z"
   },
   {
    "duration": 481,
    "start_time": "2021-08-03T21:47:02.821Z"
   },
   {
    "duration": 325,
    "start_time": "2021-08-03T21:47:03.305Z"
   },
   {
    "duration": 36,
    "start_time": "2021-08-03T21:47:03.633Z"
   },
   {
    "duration": 23,
    "start_time": "2021-08-03T21:47:03.677Z"
   },
   {
    "duration": 525,
    "start_time": "2021-08-03T21:47:03.705Z"
   },
   {
    "duration": 505,
    "start_time": "2021-08-03T21:47:04.233Z"
   },
   {
    "duration": 593,
    "start_time": "2021-08-03T21:47:04.740Z"
   },
   {
    "duration": 226,
    "start_time": "2021-08-03T21:47:05.335Z"
   },
   {
    "duration": 5,
    "start_time": "2021-08-03T21:47:05.564Z"
   },
   {
    "duration": 506,
    "start_time": "2021-08-03T21:47:05.571Z"
   },
   {
    "duration": 9,
    "start_time": "2021-08-03T21:47:06.080Z"
   },
   {
    "duration": 27,
    "start_time": "2021-08-03T21:47:06.091Z"
   },
   {
    "duration": 5,
    "start_time": "2021-08-03T21:47:06.121Z"
   },
   {
    "duration": 476,
    "start_time": "2021-08-03T21:47:06.156Z"
   },
   {
    "duration": 400,
    "start_time": "2021-08-03T21:47:06.635Z"
   },
   {
    "duration": 8,
    "start_time": "2021-08-03T21:47:07.037Z"
   },
   {
    "duration": 7,
    "start_time": "2021-08-03T21:47:07.056Z"
   },
   {
    "duration": 11,
    "start_time": "2021-08-03T21:47:07.066Z"
   },
   {
    "duration": 14,
    "start_time": "2021-08-03T21:47:07.079Z"
   },
   {
    "duration": 335,
    "start_time": "2021-08-03T21:47:07.096Z"
   },
   {
    "duration": 9,
    "start_time": "2021-08-03T21:47:07.433Z"
   },
   {
    "duration": 18,
    "start_time": "2021-08-03T21:47:07.455Z"
   },
   {
    "duration": 8,
    "start_time": "2021-08-03T21:47:07.475Z"
   },
   {
    "duration": 327,
    "start_time": "2021-08-03T21:47:07.486Z"
   },
   {
    "duration": 8,
    "start_time": "2021-08-03T21:47:07.815Z"
   },
   {
    "duration": 32,
    "start_time": "2021-08-03T21:47:07.825Z"
   },
   {
    "duration": 64,
    "start_time": "2021-08-03T21:47:07.859Z"
   },
   {
    "duration": 31,
    "start_time": "2021-08-03T21:47:07.926Z"
   },
   {
    "duration": 8,
    "start_time": "2021-08-03T21:47:07.959Z"
   },
   {
    "duration": 12,
    "start_time": "2021-08-03T21:47:07.969Z"
   },
   {
    "duration": 85,
    "start_time": "2021-08-03T21:47:07.984Z"
   },
   {
    "duration": 11,
    "start_time": "2021-08-03T21:47:08.072Z"
   },
   {
    "duration": 17,
    "start_time": "2021-08-03T21:47:08.086Z"
   },
   {
    "duration": 18,
    "start_time": "2021-08-03T21:47:08.106Z"
   },
   {
    "duration": 32,
    "start_time": "2021-08-03T21:47:08.127Z"
   },
   {
    "duration": 10,
    "start_time": "2021-08-03T21:47:08.161Z"
   },
   {
    "duration": 7,
    "start_time": "2021-08-03T21:47:08.173Z"
   },
   {
    "duration": 9,
    "start_time": "2021-08-03T21:47:08.182Z"
   },
   {
    "duration": 7,
    "start_time": "2021-08-03T21:47:08.193Z"
   },
   {
    "duration": 7,
    "start_time": "2021-08-03T21:47:08.202Z"
   },
   {
    "duration": 74,
    "start_time": "2021-08-03T21:47:08.211Z"
   },
   {
    "duration": 16,
    "start_time": "2021-08-03T21:47:08.288Z"
   },
   {
    "duration": 14,
    "start_time": "2021-08-03T21:47:08.307Z"
   },
   {
    "duration": 244,
    "start_time": "2021-08-03T21:47:08.323Z"
   },
   {
    "duration": 207,
    "start_time": "2021-08-03T21:47:08.569Z"
   },
   {
    "duration": 4,
    "start_time": "2021-08-03T21:47:08.779Z"
   },
   {
    "duration": 14,
    "start_time": "2021-08-03T21:47:08.785Z"
   },
   {
    "duration": 217,
    "start_time": "2021-08-03T21:47:08.802Z"
   },
   {
    "duration": 8,
    "start_time": "2021-08-03T21:47:09.027Z"
   },
   {
    "duration": 8,
    "start_time": "2021-08-03T21:47:09.055Z"
   },
   {
    "duration": 9,
    "start_time": "2021-08-03T21:47:09.065Z"
   },
   {
    "duration": 8,
    "start_time": "2021-08-03T21:47:09.077Z"
   },
   {
    "duration": 9,
    "start_time": "2021-08-03T21:47:09.087Z"
   },
   {
    "duration": 254,
    "start_time": "2021-08-03T21:47:09.098Z"
   },
   {
    "duration": 5,
    "start_time": "2021-08-03T21:47:09.356Z"
   },
   {
    "duration": 12546,
    "start_time": "2021-08-03T21:47:09.363Z"
   },
   {
    "duration": 5,
    "start_time": "2021-08-03T21:47:21.912Z"
   },
   {
    "duration": 8460,
    "start_time": "2021-08-03T21:47:21.919Z"
   },
   {
    "duration": 7,
    "start_time": "2021-08-03T21:47:30.382Z"
   },
   {
    "duration": 68,
    "start_time": "2021-08-03T21:47:30.392Z"
   },
   {
    "duration": 96,
    "start_time": "2021-08-03T21:47:30.464Z"
   },
   {
    "duration": 334,
    "start_time": "2021-08-03T21:47:30.564Z"
   },
   {
    "duration": 5,
    "start_time": "2021-08-03T21:47:30.900Z"
   },
   {
    "duration": 12586,
    "start_time": "2021-08-03T21:47:30.907Z"
   },
   {
    "duration": 5,
    "start_time": "2021-08-03T21:47:43.495Z"
   },
   {
    "duration": 8370,
    "start_time": "2021-08-03T21:47:43.502Z"
   },
   {
    "duration": 5,
    "start_time": "2021-08-03T21:47:51.874Z"
   },
   {
    "duration": 75,
    "start_time": "2021-08-03T21:47:51.881Z"
   },
   {
    "duration": 97,
    "start_time": "2021-08-03T21:47:51.959Z"
   },
   {
    "duration": 19,
    "start_time": "2021-08-03T21:47:52.059Z"
   },
   {
    "duration": 11,
    "start_time": "2021-08-03T21:47:52.081Z"
   },
   {
    "duration": 259,
    "start_time": "2021-08-03T21:47:52.095Z"
   },
   {
    "duration": 131,
    "start_time": "2021-08-03T21:47:52.357Z"
   },
   {
    "duration": 5,
    "start_time": "2021-08-03T21:47:52.490Z"
   },
   {
    "duration": 267,
    "start_time": "2021-08-03T21:47:52.498Z"
   },
   {
    "duration": 5,
    "start_time": "2021-08-03T21:47:52.767Z"
   },
   {
    "duration": 228,
    "start_time": "2021-08-03T21:47:52.775Z"
   },
   {
    "duration": 390,
    "start_time": "2021-08-03T21:47:53.006Z"
   },
   {
    "duration": 263,
    "start_time": "2021-08-03T21:47:53.398Z"
   },
   {
    "duration": 8,
    "start_time": "2021-08-03T21:47:53.663Z"
   },
   {
    "duration": 369,
    "start_time": "2021-08-03T21:47:53.673Z"
   },
   {
    "duration": 16,
    "start_time": "2021-08-03T21:47:54.044Z"
   },
   {
    "duration": 1562,
    "start_time": "2021-08-03T21:51:50.836Z"
   },
   {
    "duration": 36,
    "start_time": "2021-08-03T21:51:52.401Z"
   },
   {
    "duration": 20,
    "start_time": "2021-08-03T21:51:52.440Z"
   },
   {
    "duration": 34,
    "start_time": "2021-08-03T21:51:52.462Z"
   },
   {
    "duration": 70,
    "start_time": "2021-08-03T21:51:52.499Z"
   },
   {
    "duration": 6,
    "start_time": "2021-08-03T21:51:52.571Z"
   },
   {
    "duration": 6,
    "start_time": "2021-08-03T21:51:52.579Z"
   },
   {
    "duration": 7,
    "start_time": "2021-08-03T21:51:52.588Z"
   },
   {
    "duration": 392,
    "start_time": "2021-08-03T21:51:52.598Z"
   },
   {
    "duration": 320,
    "start_time": "2021-08-03T21:51:52.993Z"
   },
   {
    "duration": 11,
    "start_time": "2021-08-03T21:51:53.315Z"
   },
   {
    "duration": 45,
    "start_time": "2021-08-03T21:51:53.328Z"
   },
   {
    "duration": 11,
    "start_time": "2021-08-03T21:51:53.376Z"
   },
   {
    "duration": 30,
    "start_time": "2021-08-03T21:51:53.390Z"
   },
   {
    "duration": 20,
    "start_time": "2021-08-03T21:51:53.422Z"
   },
   {
    "duration": 15,
    "start_time": "2021-08-03T21:51:53.455Z"
   },
   {
    "duration": 1010,
    "start_time": "2021-08-03T21:51:53.473Z"
   },
   {
    "duration": 10,
    "start_time": "2021-08-03T21:51:54.485Z"
   },
   {
    "duration": 15,
    "start_time": "2021-08-03T21:51:54.497Z"
   },
   {
    "duration": 475,
    "start_time": "2021-08-03T21:51:54.515Z"
   },
   {
    "duration": 317,
    "start_time": "2021-08-03T21:51:54.992Z"
   },
   {
    "duration": 21,
    "start_time": "2021-08-03T21:51:55.311Z"
   },
   {
    "duration": 22,
    "start_time": "2021-08-03T21:51:55.358Z"
   },
   {
    "duration": 539,
    "start_time": "2021-08-03T21:51:55.384Z"
   },
   {
    "duration": 504,
    "start_time": "2021-08-03T21:51:55.926Z"
   },
   {
    "duration": 596,
    "start_time": "2021-08-03T21:51:56.433Z"
   },
   {
    "duration": 225,
    "start_time": "2021-08-03T21:51:57.031Z"
   },
   {
    "duration": 6,
    "start_time": "2021-08-03T21:51:57.258Z"
   },
   {
    "duration": 517,
    "start_time": "2021-08-03T21:51:57.266Z"
   },
   {
    "duration": 9,
    "start_time": "2021-08-03T21:51:57.786Z"
   },
   {
    "duration": 26,
    "start_time": "2021-08-03T21:51:57.797Z"
   },
   {
    "duration": 32,
    "start_time": "2021-08-03T21:51:57.825Z"
   },
   {
    "duration": 481,
    "start_time": "2021-08-03T21:51:57.859Z"
   },
   {
    "duration": 414,
    "start_time": "2021-08-03T21:51:58.342Z"
   },
   {
    "duration": 8,
    "start_time": "2021-08-03T21:51:58.758Z"
   },
   {
    "duration": 11,
    "start_time": "2021-08-03T21:51:58.768Z"
   },
   {
    "duration": 8,
    "start_time": "2021-08-03T21:51:58.781Z"
   },
   {
    "duration": 20,
    "start_time": "2021-08-03T21:51:58.791Z"
   },
   {
    "duration": 340,
    "start_time": "2021-08-03T21:51:58.813Z"
   },
   {
    "duration": 9,
    "start_time": "2021-08-03T21:51:59.155Z"
   },
   {
    "duration": 19,
    "start_time": "2021-08-03T21:51:59.166Z"
   },
   {
    "duration": 9,
    "start_time": "2021-08-03T21:51:59.187Z"
   },
   {
    "duration": 341,
    "start_time": "2021-08-03T21:51:59.198Z"
   },
   {
    "duration": 17,
    "start_time": "2021-08-03T21:51:59.541Z"
   },
   {
    "duration": 17,
    "start_time": "2021-08-03T21:51:59.560Z"
   },
   {
    "duration": 59,
    "start_time": "2021-08-03T21:51:59.579Z"
   },
   {
    "duration": 25,
    "start_time": "2021-08-03T21:51:59.640Z"
   },
   {
    "duration": 8,
    "start_time": "2021-08-03T21:51:59.668Z"
   },
   {
    "duration": 12,
    "start_time": "2021-08-03T21:51:59.678Z"
   },
   {
    "duration": 95,
    "start_time": "2021-08-03T21:51:59.692Z"
   },
   {
    "duration": 12,
    "start_time": "2021-08-03T21:51:59.790Z"
   },
   {
    "duration": 17,
    "start_time": "2021-08-03T21:51:59.805Z"
   },
   {
    "duration": 42,
    "start_time": "2021-08-03T21:51:59.825Z"
   },
   {
    "duration": 11,
    "start_time": "2021-08-03T21:51:59.869Z"
   },
   {
    "duration": 8,
    "start_time": "2021-08-03T21:51:59.883Z"
   },
   {
    "duration": 5,
    "start_time": "2021-08-03T21:51:59.894Z"
   },
   {
    "duration": 14,
    "start_time": "2021-08-03T21:51:59.902Z"
   },
   {
    "duration": 39,
    "start_time": "2021-08-03T21:51:59.919Z"
   },
   {
    "duration": 23,
    "start_time": "2021-08-03T21:51:59.961Z"
   },
   {
    "duration": 37,
    "start_time": "2021-08-03T21:51:59.987Z"
   },
   {
    "duration": 16,
    "start_time": "2021-08-03T21:52:00.027Z"
   },
   {
    "duration": 13,
    "start_time": "2021-08-03T21:52:00.057Z"
   },
   {
    "duration": 244,
    "start_time": "2021-08-03T21:52:00.073Z"
   },
   {
    "duration": 257,
    "start_time": "2021-08-03T21:52:00.319Z"
   },
   {
    "duration": 23,
    "start_time": "2021-08-03T21:52:00.579Z"
   },
   {
    "duration": 57,
    "start_time": "2021-08-03T21:52:00.605Z"
   },
   {
    "duration": 317,
    "start_time": "2021-08-03T21:52:00.665Z"
   },
   {
    "duration": 8,
    "start_time": "2021-08-03T21:52:00.990Z"
   },
   {
    "duration": 14,
    "start_time": "2021-08-03T21:52:01.001Z"
   },
   {
    "duration": 24,
    "start_time": "2021-08-03T21:52:01.018Z"
   },
   {
    "duration": 19,
    "start_time": "2021-08-03T21:52:01.045Z"
   },
   {
    "duration": 27,
    "start_time": "2021-08-03T21:52:01.066Z"
   },
   {
    "duration": 249,
    "start_time": "2021-08-03T21:52:01.095Z"
   },
   {
    "duration": 9,
    "start_time": "2021-08-03T21:52:01.346Z"
   },
   {
    "duration": 12663,
    "start_time": "2021-08-03T21:52:01.358Z"
   },
   {
    "duration": 5,
    "start_time": "2021-08-03T21:52:14.023Z"
   },
   {
    "duration": 8308,
    "start_time": "2021-08-03T21:52:14.030Z"
   },
   {
    "duration": 5,
    "start_time": "2021-08-03T21:52:22.340Z"
   },
   {
    "duration": 30,
    "start_time": "2021-08-03T21:52:22.355Z"
   },
   {
    "duration": 7,
    "start_time": "2021-08-03T21:52:22.458Z"
   },
   {
    "duration": 238,
    "start_time": "2021-08-03T21:52:22.557Z"
   },
   {
    "duration": 6,
    "start_time": "2021-08-03T21:52:22.798Z"
   },
   {
    "duration": 13317,
    "start_time": "2021-08-03T21:52:22.807Z"
   },
   {
    "duration": 6,
    "start_time": "2021-08-03T21:52:36.126Z"
   },
   {
    "duration": 8351,
    "start_time": "2021-08-03T21:52:36.134Z"
   },
   {
    "duration": 5,
    "start_time": "2021-08-03T21:52:44.487Z"
   },
   {
    "duration": 67,
    "start_time": "2021-08-03T21:52:44.494Z"
   },
   {
    "duration": 96,
    "start_time": "2021-08-03T21:52:44.565Z"
   },
   {
    "duration": 95,
    "start_time": "2021-08-03T21:52:44.664Z"
   },
   {
    "duration": 9,
    "start_time": "2021-08-03T21:52:44.761Z"
   },
   {
    "duration": 229,
    "start_time": "2021-08-03T21:52:44.772Z"
   },
   {
    "duration": 136,
    "start_time": "2021-08-03T21:52:45.005Z"
   },
   {
    "duration": 13,
    "start_time": "2021-08-03T21:52:45.143Z"
   },
   {
    "duration": 276,
    "start_time": "2021-08-03T21:52:45.159Z"
   },
   {
    "duration": 6,
    "start_time": "2021-08-03T21:52:45.438Z"
   },
   {
    "duration": 151,
    "start_time": "2021-08-03T21:52:45.457Z"
   },
   {
    "duration": 319,
    "start_time": "2021-08-03T21:52:45.612Z"
   },
   {
    "duration": 265,
    "start_time": "2021-08-03T21:52:45.934Z"
   },
   {
    "duration": 11,
    "start_time": "2021-08-03T21:52:46.202Z"
   },
   {
    "duration": 363,
    "start_time": "2021-08-03T21:52:46.216Z"
   },
   {
    "duration": 8,
    "start_time": "2021-08-03T21:52:46.581Z"
   },
   {
    "duration": 1100,
    "start_time": "2021-08-04T07:56:28.853Z"
   },
   {
    "duration": 27,
    "start_time": "2021-08-04T07:56:29.954Z"
   },
   {
    "duration": 8,
    "start_time": "2021-08-04T07:56:29.983Z"
   },
   {
    "duration": 13,
    "start_time": "2021-08-04T07:56:29.993Z"
   },
   {
    "duration": 36,
    "start_time": "2021-08-04T07:56:30.007Z"
   },
   {
    "duration": 4,
    "start_time": "2021-08-04T07:56:30.044Z"
   },
   {
    "duration": 7,
    "start_time": "2021-08-04T07:56:30.049Z"
   },
   {
    "duration": 7,
    "start_time": "2021-08-04T07:56:30.059Z"
   },
   {
    "duration": 211,
    "start_time": "2021-08-04T07:56:30.092Z"
   },
   {
    "duration": 187,
    "start_time": "2021-08-04T07:56:30.305Z"
   },
   {
    "duration": 8,
    "start_time": "2021-08-04T07:56:30.494Z"
   },
   {
    "duration": 18,
    "start_time": "2021-08-04T07:56:30.503Z"
   },
   {
    "duration": 6,
    "start_time": "2021-08-04T07:56:30.523Z"
   },
   {
    "duration": 27,
    "start_time": "2021-08-04T07:56:30.530Z"
   },
   {
    "duration": 13,
    "start_time": "2021-08-04T07:56:30.559Z"
   },
   {
    "duration": 8,
    "start_time": "2021-08-04T07:56:30.573Z"
   },
   {
    "duration": 608,
    "start_time": "2021-08-04T07:56:30.583Z"
   },
   {
    "duration": 7,
    "start_time": "2021-08-04T07:56:31.192Z"
   },
   {
    "duration": 8,
    "start_time": "2021-08-04T07:56:31.200Z"
   },
   {
    "duration": 259,
    "start_time": "2021-08-04T07:56:31.210Z"
   },
   {
    "duration": 175,
    "start_time": "2021-08-04T07:56:31.470Z"
   },
   {
    "duration": 13,
    "start_time": "2021-08-04T07:56:31.647Z"
   },
   {
    "duration": 12,
    "start_time": "2021-08-04T07:56:31.663Z"
   },
   {
    "duration": 337,
    "start_time": "2021-08-04T07:56:31.692Z"
   },
   {
    "duration": 331,
    "start_time": "2021-08-04T07:56:32.030Z"
   },
   {
    "duration": 330,
    "start_time": "2021-08-04T07:56:32.362Z"
   },
   {
    "duration": 119,
    "start_time": "2021-08-04T07:56:32.693Z"
   },
   {
    "duration": 4,
    "start_time": "2021-08-04T07:56:32.813Z"
   },
   {
    "duration": 286,
    "start_time": "2021-08-04T07:56:32.818Z"
   },
   {
    "duration": 6,
    "start_time": "2021-08-04T07:56:33.106Z"
   },
   {
    "duration": 15,
    "start_time": "2021-08-04T07:56:33.114Z"
   },
   {
    "duration": 4,
    "start_time": "2021-08-04T07:56:33.130Z"
   },
   {
    "duration": 310,
    "start_time": "2021-08-04T07:56:33.135Z"
   },
   {
    "duration": 219,
    "start_time": "2021-08-04T07:56:33.447Z"
   },
   {
    "duration": 5,
    "start_time": "2021-08-04T07:56:33.667Z"
   },
   {
    "duration": 9,
    "start_time": "2021-08-04T07:56:33.674Z"
   },
   {
    "duration": 5,
    "start_time": "2021-08-04T07:56:33.691Z"
   },
   {
    "duration": 6,
    "start_time": "2021-08-04T07:56:33.697Z"
   },
   {
    "duration": 190,
    "start_time": "2021-08-04T07:56:33.705Z"
   },
   {
    "duration": 6,
    "start_time": "2021-08-04T07:56:33.896Z"
   },
   {
    "duration": 13,
    "start_time": "2021-08-04T07:56:33.903Z"
   },
   {
    "duration": 5,
    "start_time": "2021-08-04T07:56:33.917Z"
   },
   {
    "duration": 189,
    "start_time": "2021-08-04T07:56:33.923Z"
   },
   {
    "duration": 6,
    "start_time": "2021-08-04T07:56:34.114Z"
   },
   {
    "duration": 9,
    "start_time": "2021-08-04T07:56:34.121Z"
   },
   {
    "duration": 35,
    "start_time": "2021-08-04T07:56:34.131Z"
   },
   {
    "duration": 27,
    "start_time": "2021-08-04T07:56:34.167Z"
   },
   {
    "duration": 5,
    "start_time": "2021-08-04T07:56:34.196Z"
   },
   {
    "duration": 7,
    "start_time": "2021-08-04T07:56:34.202Z"
   },
   {
    "duration": 37,
    "start_time": "2021-08-04T07:56:34.211Z"
   },
   {
    "duration": 8,
    "start_time": "2021-08-04T07:56:34.249Z"
   },
   {
    "duration": 38,
    "start_time": "2021-08-04T07:56:34.259Z"
   },
   {
    "duration": 18,
    "start_time": "2021-08-04T07:56:34.298Z"
   },
   {
    "duration": 10,
    "start_time": "2021-08-04T07:56:34.318Z"
   },
   {
    "duration": 11,
    "start_time": "2021-08-04T07:56:34.330Z"
   },
   {
    "duration": 11,
    "start_time": "2021-08-04T07:56:34.342Z"
   },
   {
    "duration": 12,
    "start_time": "2021-08-04T07:56:34.354Z"
   },
   {
    "duration": 14,
    "start_time": "2021-08-04T07:56:34.367Z"
   },
   {
    "duration": 9,
    "start_time": "2021-08-04T07:56:34.382Z"
   },
   {
    "duration": 25,
    "start_time": "2021-08-04T07:56:34.392Z"
   },
   {
    "duration": 9,
    "start_time": "2021-08-04T07:56:34.419Z"
   },
   {
    "duration": 8,
    "start_time": "2021-08-04T07:56:34.429Z"
   },
   {
    "duration": 131,
    "start_time": "2021-08-04T07:56:34.439Z"
   },
   {
    "duration": 150,
    "start_time": "2021-08-04T07:56:34.572Z"
   },
   {
    "duration": 3,
    "start_time": "2021-08-04T07:56:34.723Z"
   },
   {
    "duration": 10,
    "start_time": "2021-08-04T07:56:34.728Z"
   },
   {
    "duration": 129,
    "start_time": "2021-08-04T07:56:34.739Z"
   },
   {
    "duration": 17,
    "start_time": "2021-08-04T07:56:34.874Z"
   },
   {
    "duration": 4,
    "start_time": "2021-08-04T07:56:34.893Z"
   },
   {
    "duration": 4,
    "start_time": "2021-08-04T07:56:34.899Z"
   },
   {
    "duration": 4,
    "start_time": "2021-08-04T07:56:34.905Z"
   },
   {
    "duration": 5,
    "start_time": "2021-08-04T07:56:34.910Z"
   },
   {
    "duration": 156,
    "start_time": "2021-08-04T07:56:34.916Z"
   },
   {
    "duration": 3,
    "start_time": "2021-08-04T07:56:35.073Z"
   },
   {
    "duration": 8465,
    "start_time": "2021-08-04T07:56:35.078Z"
   },
   {
    "duration": 4,
    "start_time": "2021-08-04T07:56:43.545Z"
   },
   {
    "duration": 5143,
    "start_time": "2021-08-04T07:56:43.550Z"
   },
   {
    "duration": 4,
    "start_time": "2021-08-04T07:56:48.694Z"
   },
   {
    "duration": 92,
    "start_time": "2021-08-04T07:56:48.700Z"
   },
   {
    "duration": 5,
    "start_time": "2021-08-04T07:56:48.795Z"
   },
   {
    "duration": 155,
    "start_time": "2021-08-04T07:56:48.891Z"
   },
   {
    "duration": 3,
    "start_time": "2021-08-04T07:56:49.048Z"
   },
   {
    "duration": 7938,
    "start_time": "2021-08-04T07:56:49.053Z"
   },
   {
    "duration": 3,
    "start_time": "2021-08-04T07:56:56.993Z"
   },
   {
    "duration": 5293,
    "start_time": "2021-08-04T07:56:56.998Z"
   },
   {
    "duration": 4,
    "start_time": "2021-08-04T07:57:02.293Z"
   },
   {
    "duration": 25,
    "start_time": "2021-08-04T07:57:02.299Z"
   },
   {
    "duration": 5,
    "start_time": "2021-08-04T07:57:02.396Z"
   },
   {
    "duration": 14,
    "start_time": "2021-08-04T07:57:02.492Z"
   },
   {
    "duration": 7,
    "start_time": "2021-08-04T07:57:02.508Z"
   },
   {
    "duration": 151,
    "start_time": "2021-08-04T07:57:02.516Z"
   },
   {
    "duration": 84,
    "start_time": "2021-08-04T07:57:02.669Z"
   },
   {
    "duration": 3,
    "start_time": "2021-08-04T07:57:02.754Z"
   },
   {
    "duration": 173,
    "start_time": "2021-08-04T07:57:02.759Z"
   },
   {
    "duration": 4,
    "start_time": "2021-08-04T07:57:02.933Z"
   },
   {
    "duration": 100,
    "start_time": "2021-08-04T07:57:02.938Z"
   },
   {
    "duration": 194,
    "start_time": "2021-08-04T07:57:03.040Z"
   },
   {
    "duration": 157,
    "start_time": "2021-08-04T07:57:03.236Z"
   },
   {
    "duration": 6,
    "start_time": "2021-08-04T07:57:03.394Z"
   },
   {
    "duration": 239,
    "start_time": "2021-08-04T07:57:03.401Z"
   },
   {
    "duration": 5,
    "start_time": "2021-08-04T07:57:03.642Z"
   },
   {
    "duration": 1384,
    "start_time": "2021-08-04T13:00:08.902Z"
   },
   {
    "duration": 32,
    "start_time": "2021-08-04T13:00:10.288Z"
   },
   {
    "duration": 8,
    "start_time": "2021-08-04T13:00:10.321Z"
   },
   {
    "duration": 16,
    "start_time": "2021-08-04T13:00:10.331Z"
   },
   {
    "duration": 34,
    "start_time": "2021-08-04T13:00:10.348Z"
   },
   {
    "duration": 11,
    "start_time": "2021-08-04T13:00:10.391Z"
   },
   {
    "duration": 5,
    "start_time": "2021-08-04T13:00:10.404Z"
   },
   {
    "duration": 10,
    "start_time": "2021-08-04T13:00:10.412Z"
   },
   {
    "duration": 247,
    "start_time": "2021-08-04T13:00:10.423Z"
   },
   {
    "duration": 193,
    "start_time": "2021-08-04T13:00:10.672Z"
   },
   {
    "duration": 7,
    "start_time": "2021-08-04T13:00:10.867Z"
   },
   {
    "duration": 30,
    "start_time": "2021-08-04T13:00:10.876Z"
   },
   {
    "duration": 12,
    "start_time": "2021-08-04T13:00:10.908Z"
   },
   {
    "duration": 10,
    "start_time": "2021-08-04T13:00:10.921Z"
   },
   {
    "duration": 10,
    "start_time": "2021-08-04T13:00:10.933Z"
   },
   {
    "duration": 9,
    "start_time": "2021-08-04T13:00:10.945Z"
   },
   {
    "duration": 693,
    "start_time": "2021-08-04T13:00:10.955Z"
   },
   {
    "duration": 6,
    "start_time": "2021-08-04T13:00:11.649Z"
   },
   {
    "duration": 8,
    "start_time": "2021-08-04T13:00:11.657Z"
   },
   {
    "duration": 303,
    "start_time": "2021-08-04T13:00:11.666Z"
   },
   {
    "duration": 208,
    "start_time": "2021-08-04T13:00:11.971Z"
   },
   {
    "duration": 23,
    "start_time": "2021-08-04T13:00:12.180Z"
   },
   {
    "duration": 13,
    "start_time": "2021-08-04T13:00:12.207Z"
   },
   {
    "duration": 422,
    "start_time": "2021-08-04T13:00:12.222Z"
   },
   {
    "duration": 395,
    "start_time": "2021-08-04T13:00:12.646Z"
   },
   {
    "duration": 364,
    "start_time": "2021-08-04T13:00:13.043Z"
   },
   {
    "duration": 135,
    "start_time": "2021-08-04T13:00:13.409Z"
   },
   {
    "duration": 4,
    "start_time": "2021-08-04T13:00:13.546Z"
   },
   {
    "duration": 325,
    "start_time": "2021-08-04T13:00:13.551Z"
   },
   {
    "duration": 7,
    "start_time": "2021-08-04T13:00:13.878Z"
   },
   {
    "duration": 25,
    "start_time": "2021-08-04T13:00:13.891Z"
   },
   {
    "duration": 4,
    "start_time": "2021-08-04T13:00:13.917Z"
   },
   {
    "duration": 338,
    "start_time": "2021-08-04T13:00:13.923Z"
   },
   {
    "duration": 267,
    "start_time": "2021-08-04T13:00:14.262Z"
   },
   {
    "duration": 6,
    "start_time": "2021-08-04T13:00:14.530Z"
   },
   {
    "duration": 17,
    "start_time": "2021-08-04T13:00:14.537Z"
   },
   {
    "duration": 9,
    "start_time": "2021-08-04T13:00:14.556Z"
   },
   {
    "duration": 19,
    "start_time": "2021-08-04T13:00:14.566Z"
   },
   {
    "duration": 194,
    "start_time": "2021-08-04T13:00:14.586Z"
   },
   {
    "duration": 18,
    "start_time": "2021-08-04T13:00:14.781Z"
   },
   {
    "duration": 13,
    "start_time": "2021-08-04T13:00:14.802Z"
   },
   {
    "duration": 7,
    "start_time": "2021-08-04T13:00:14.817Z"
   },
   {
    "duration": 206,
    "start_time": "2021-08-04T13:00:14.826Z"
   },
   {
    "duration": 6,
    "start_time": "2021-08-04T13:00:15.033Z"
   },
   {
    "duration": 11,
    "start_time": "2021-08-04T13:00:15.041Z"
   },
   {
    "duration": 54,
    "start_time": "2021-08-04T13:00:15.053Z"
   },
   {
    "duration": 7,
    "start_time": "2021-08-04T13:00:15.108Z"
   },
   {
    "duration": 24,
    "start_time": "2021-08-04T13:00:15.117Z"
   },
   {
    "duration": 20,
    "start_time": "2021-08-04T13:00:15.143Z"
   },
   {
    "duration": 47,
    "start_time": "2021-08-04T13:00:15.165Z"
   },
   {
    "duration": 7,
    "start_time": "2021-08-04T13:00:15.214Z"
   },
   {
    "duration": 30,
    "start_time": "2021-08-04T13:00:15.223Z"
   },
   {
    "duration": 24,
    "start_time": "2021-08-04T13:00:15.254Z"
   },
   {
    "duration": 6,
    "start_time": "2021-08-04T13:00:15.279Z"
   },
   {
    "duration": 28,
    "start_time": "2021-08-04T13:00:15.287Z"
   },
   {
    "duration": 13,
    "start_time": "2021-08-04T13:00:15.317Z"
   },
   {
    "duration": 16,
    "start_time": "2021-08-04T13:00:15.332Z"
   },
   {
    "duration": 10,
    "start_time": "2021-08-04T13:00:15.349Z"
   },
   {
    "duration": 19,
    "start_time": "2021-08-04T13:00:15.360Z"
   },
   {
    "duration": 38,
    "start_time": "2021-08-04T13:00:15.380Z"
   },
   {
    "duration": 16,
    "start_time": "2021-08-04T13:00:15.420Z"
   },
   {
    "duration": 15,
    "start_time": "2021-08-04T13:00:15.437Z"
   },
   {
    "duration": 138,
    "start_time": "2021-08-04T13:00:15.454Z"
   },
   {
    "duration": 143,
    "start_time": "2021-08-04T13:00:15.594Z"
   },
   {
    "duration": 3,
    "start_time": "2021-08-04T13:00:15.739Z"
   },
   {
    "duration": 10,
    "start_time": "2021-08-04T13:00:15.744Z"
   },
   {
    "duration": 135,
    "start_time": "2021-08-04T13:00:15.756Z"
   },
   {
    "duration": 9,
    "start_time": "2021-08-04T13:00:15.900Z"
   },
   {
    "duration": 6,
    "start_time": "2021-08-04T13:00:15.911Z"
   },
   {
    "duration": 15,
    "start_time": "2021-08-04T13:00:15.918Z"
   },
   {
    "duration": 12,
    "start_time": "2021-08-04T13:00:15.934Z"
   },
   {
    "duration": 14,
    "start_time": "2021-08-04T13:00:15.947Z"
   },
   {
    "duration": 165,
    "start_time": "2021-08-04T13:00:15.962Z"
   },
   {
    "duration": 4,
    "start_time": "2021-08-04T13:00:16.128Z"
   },
   {
    "duration": 8583,
    "start_time": "2021-08-04T13:00:16.133Z"
   },
   {
    "duration": 3,
    "start_time": "2021-08-04T13:00:24.718Z"
   },
   {
    "duration": 5660,
    "start_time": "2021-08-04T13:00:24.723Z"
   },
   {
    "duration": 6,
    "start_time": "2021-08-04T13:00:30.385Z"
   },
   {
    "duration": 99,
    "start_time": "2021-08-04T13:00:30.393Z"
   },
   {
    "duration": 5,
    "start_time": "2021-08-04T13:00:30.494Z"
   },
   {
    "duration": 267,
    "start_time": "2021-08-04T13:00:30.505Z"
   },
   {
    "duration": 5,
    "start_time": "2021-08-04T13:00:30.773Z"
   },
   {
    "duration": 8636,
    "start_time": "2021-08-04T13:00:30.780Z"
   },
   {
    "duration": 4,
    "start_time": "2021-08-04T13:00:39.417Z"
   },
   {
    "duration": 5574,
    "start_time": "2021-08-04T13:00:39.422Z"
   },
   {
    "duration": 5,
    "start_time": "2021-08-04T13:00:44.999Z"
   },
   {
    "duration": 88,
    "start_time": "2021-08-04T13:00:45.006Z"
   },
   {
    "duration": 5,
    "start_time": "2021-08-04T13:00:45.097Z"
   },
   {
    "duration": 102,
    "start_time": "2021-08-04T13:00:45.104Z"
   },
   {
    "duration": 5,
    "start_time": "2021-08-04T13:00:45.208Z"
   },
   {
    "duration": 148,
    "start_time": "2021-08-04T13:00:45.214Z"
   },
   {
    "duration": 79,
    "start_time": "2021-08-04T13:00:45.364Z"
   },
   {
    "duration": 3,
    "start_time": "2021-08-04T13:00:45.445Z"
   },
   {
    "duration": 190,
    "start_time": "2021-08-04T13:00:45.450Z"
   },
   {
    "duration": 4,
    "start_time": "2021-08-04T13:00:45.641Z"
   },
   {
    "duration": 104,
    "start_time": "2021-08-04T13:00:45.647Z"
   },
   {
    "duration": 198,
    "start_time": "2021-08-04T13:00:45.753Z"
   },
   {
    "duration": 174,
    "start_time": "2021-08-04T13:00:45.953Z"
   },
   {
    "duration": 6,
    "start_time": "2021-08-04T13:00:46.129Z"
   },
   {
    "duration": 259,
    "start_time": "2021-08-04T13:00:46.136Z"
   },
   {
    "duration": 9,
    "start_time": "2021-08-04T13:00:46.397Z"
   },
   {
    "duration": 463,
    "start_time": "2021-08-04T13:44:45.610Z"
   },
   {
    "duration": 71261,
    "start_time": "2021-08-04T13:45:00.585Z"
   },
   {
    "duration": 79063,
    "start_time": "2021-08-04T13:47:42.867Z"
   },
   {
    "duration": 80,
    "start_time": "2021-08-04T13:51:22.499Z"
   },
   {
    "duration": 77,
    "start_time": "2021-08-04T13:52:31.324Z"
   },
   {
    "duration": 80,
    "start_time": "2021-08-04T13:52:40.434Z"
   },
   {
    "duration": 219,
    "start_time": "2021-08-04T13:52:49.067Z"
   },
   {
    "duration": 250,
    "start_time": "2021-08-04T13:53:00.698Z"
   },
   {
    "duration": 4,
    "start_time": "2021-08-04T13:54:10.131Z"
   },
   {
    "duration": 6740,
    "start_time": "2021-08-04T13:55:10.658Z"
   },
   {
    "duration": 73,
    "start_time": "2021-08-04T13:56:16.864Z"
   },
   {
    "duration": 9914,
    "start_time": "2021-08-04T13:56:46.167Z"
   },
   {
    "duration": 8790,
    "start_time": "2021-08-04T13:57:20.072Z"
   },
   {
    "duration": 7396,
    "start_time": "2021-08-04T13:58:16.863Z"
   },
   {
    "duration": 1186,
    "start_time": "2021-08-04T14:08:41.068Z"
   },
   {
    "duration": 29,
    "start_time": "2021-08-04T14:08:42.256Z"
   },
   {
    "duration": 8,
    "start_time": "2021-08-04T14:08:42.286Z"
   },
   {
    "duration": 13,
    "start_time": "2021-08-04T14:08:42.296Z"
   },
   {
    "duration": 33,
    "start_time": "2021-08-04T14:08:42.311Z"
   },
   {
    "duration": 4,
    "start_time": "2021-08-04T14:08:42.346Z"
   },
   {
    "duration": 6,
    "start_time": "2021-08-04T14:08:42.351Z"
   },
   {
    "duration": 33,
    "start_time": "2021-08-04T14:08:42.359Z"
   },
   {
    "duration": 208,
    "start_time": "2021-08-04T14:08:42.394Z"
   },
   {
    "duration": 196,
    "start_time": "2021-08-04T14:08:42.604Z"
   },
   {
    "duration": 7,
    "start_time": "2021-08-04T14:08:42.801Z"
   },
   {
    "duration": 16,
    "start_time": "2021-08-04T14:08:42.810Z"
   },
   {
    "duration": 7,
    "start_time": "2021-08-04T14:08:42.828Z"
   },
   {
    "duration": 11,
    "start_time": "2021-08-04T14:08:42.836Z"
   },
   {
    "duration": 9,
    "start_time": "2021-08-04T14:08:42.849Z"
   },
   {
    "duration": 40,
    "start_time": "2021-08-04T14:08:42.859Z"
   },
   {
    "duration": 608,
    "start_time": "2021-08-04T14:08:42.900Z"
   },
   {
    "duration": 7,
    "start_time": "2021-08-04T14:08:43.510Z"
   },
   {
    "duration": 11,
    "start_time": "2021-08-04T14:08:43.518Z"
   },
   {
    "duration": 267,
    "start_time": "2021-08-04T14:08:43.530Z"
   },
   {
    "duration": 186,
    "start_time": "2021-08-04T14:08:43.799Z"
   },
   {
    "duration": 13,
    "start_time": "2021-08-04T14:08:43.991Z"
   },
   {
    "duration": 12,
    "start_time": "2021-08-04T14:08:44.007Z"
   },
   {
    "duration": 326,
    "start_time": "2021-08-04T14:08:44.022Z"
   },
   {
    "duration": 379,
    "start_time": "2021-08-04T14:08:44.350Z"
   },
   {
    "duration": 340,
    "start_time": "2021-08-04T14:08:44.731Z"
   },
   {
    "duration": 129,
    "start_time": "2021-08-04T14:08:45.072Z"
   },
   {
    "duration": 4,
    "start_time": "2021-08-04T14:08:45.203Z"
   },
   {
    "duration": 295,
    "start_time": "2021-08-04T14:08:45.208Z"
   },
   {
    "duration": 7,
    "start_time": "2021-08-04T14:08:45.504Z"
   },
   {
    "duration": 20,
    "start_time": "2021-08-04T14:08:45.512Z"
   },
   {
    "duration": 8546,
    "start_time": "2021-08-04T14:08:45.534Z"
   },
   {
    "duration": 10,
    "start_time": "2021-08-04T14:08:54.082Z"
   },
   {
    "duration": 225,
    "start_time": "2021-08-04T14:08:54.094Z"
   },
   {
    "duration": 321,
    "start_time": "2021-08-04T14:08:54.321Z"
   },
   {
    "duration": 5,
    "start_time": "2021-08-04T14:08:54.644Z"
   },
   {
    "duration": 5,
    "start_time": "2021-08-04T14:08:54.651Z"
   },
   {
    "duration": 5,
    "start_time": "2021-08-04T14:08:54.658Z"
   },
   {
    "duration": 32,
    "start_time": "2021-08-04T14:08:54.664Z"
   },
   {
    "duration": 185,
    "start_time": "2021-08-04T14:08:54.698Z"
   },
   {
    "duration": 9,
    "start_time": "2021-08-04T14:08:54.885Z"
   },
   {
    "duration": 13,
    "start_time": "2021-08-04T14:08:54.896Z"
   },
   {
    "duration": 6,
    "start_time": "2021-08-04T14:08:54.910Z"
   },
   {
    "duration": 206,
    "start_time": "2021-08-04T14:08:54.918Z"
   },
   {
    "duration": 7,
    "start_time": "2021-08-04T14:08:55.126Z"
   },
   {
    "duration": 12,
    "start_time": "2021-08-04T14:08:55.135Z"
   },
   {
    "duration": 50,
    "start_time": "2021-08-04T14:08:55.149Z"
   },
   {
    "duration": 9,
    "start_time": "2021-08-04T14:08:55.201Z"
   },
   {
    "duration": 13,
    "start_time": "2021-08-04T14:08:55.211Z"
   },
   {
    "duration": 9,
    "start_time": "2021-08-04T14:08:55.226Z"
   },
   {
    "duration": 35,
    "start_time": "2021-08-04T14:08:55.236Z"
   },
   {
    "duration": 23,
    "start_time": "2021-08-04T14:08:55.273Z"
   },
   {
    "duration": 14,
    "start_time": "2021-08-04T14:08:55.298Z"
   },
   {
    "duration": 13,
    "start_time": "2021-08-04T14:08:55.314Z"
   },
   {
    "duration": 6,
    "start_time": "2021-08-04T14:08:55.329Z"
   },
   {
    "duration": 11,
    "start_time": "2021-08-04T14:08:55.337Z"
   },
   {
    "duration": 7,
    "start_time": "2021-08-04T14:08:55.350Z"
   },
   {
    "duration": 9,
    "start_time": "2021-08-04T14:08:55.359Z"
   },
   {
    "duration": 22,
    "start_time": "2021-08-04T14:08:55.369Z"
   },
   {
    "duration": 5,
    "start_time": "2021-08-04T14:08:55.393Z"
   },
   {
    "duration": 25,
    "start_time": "2021-08-04T14:08:55.400Z"
   },
   {
    "duration": 10,
    "start_time": "2021-08-04T14:08:55.427Z"
   },
   {
    "duration": 9,
    "start_time": "2021-08-04T14:08:55.438Z"
   },
   {
    "duration": 157,
    "start_time": "2021-08-04T14:08:55.449Z"
   },
   {
    "duration": 144,
    "start_time": "2021-08-04T14:08:55.607Z"
   },
   {
    "duration": 4,
    "start_time": "2021-08-04T14:08:55.753Z"
   },
   {
    "duration": 10,
    "start_time": "2021-08-04T14:08:55.759Z"
   },
   {
    "duration": 137,
    "start_time": "2021-08-04T14:08:55.774Z"
   },
   {
    "duration": 6,
    "start_time": "2021-08-04T14:08:55.913Z"
   },
   {
    "duration": 6,
    "start_time": "2021-08-04T14:08:55.921Z"
   },
   {
    "duration": 5,
    "start_time": "2021-08-04T14:08:55.929Z"
   },
   {
    "duration": 6,
    "start_time": "2021-08-04T14:08:55.935Z"
   },
   {
    "duration": 5,
    "start_time": "2021-08-04T14:08:55.943Z"
   },
   {
    "duration": 173,
    "start_time": "2021-08-04T14:08:55.950Z"
   },
   {
    "duration": 4,
    "start_time": "2021-08-04T14:08:56.125Z"
   },
   {
    "duration": 8168,
    "start_time": "2021-08-04T14:08:56.130Z"
   },
   {
    "duration": 3,
    "start_time": "2021-08-04T14:09:04.300Z"
   },
   {
    "duration": 5325,
    "start_time": "2021-08-04T14:09:04.305Z"
   },
   {
    "duration": 4,
    "start_time": "2021-08-04T14:09:09.631Z"
   },
   {
    "duration": 159,
    "start_time": "2021-08-04T14:09:09.636Z"
   },
   {
    "duration": 5,
    "start_time": "2021-08-04T14:09:09.797Z"
   },
   {
    "duration": 301,
    "start_time": "2021-08-04T14:09:09.803Z"
   },
   {
    "duration": 3,
    "start_time": "2021-08-04T14:09:10.107Z"
   },
   {
    "duration": 8491,
    "start_time": "2021-08-04T14:09:10.112Z"
   },
   {
    "duration": 4,
    "start_time": "2021-08-04T14:09:18.604Z"
   },
   {
    "duration": 5294,
    "start_time": "2021-08-04T14:09:18.610Z"
   },
   {
    "duration": 3,
    "start_time": "2021-08-04T14:09:23.906Z"
   },
   {
    "duration": 84,
    "start_time": "2021-08-04T14:09:23.910Z"
   },
   {
    "duration": 5,
    "start_time": "2021-08-04T14:09:23.996Z"
   },
   {
    "duration": 16,
    "start_time": "2021-08-04T14:09:24.092Z"
   },
   {
    "duration": 6,
    "start_time": "2021-08-04T14:09:24.109Z"
   },
   {
    "duration": 144,
    "start_time": "2021-08-04T14:09:24.116Z"
   },
   {
    "duration": 83,
    "start_time": "2021-08-04T14:09:24.262Z"
   },
   {
    "duration": 4,
    "start_time": "2021-08-04T14:09:24.346Z"
   },
   {
    "duration": 174,
    "start_time": "2021-08-04T14:09:24.352Z"
   },
   {
    "duration": 4,
    "start_time": "2021-08-04T14:09:24.528Z"
   },
   {
    "duration": 101,
    "start_time": "2021-08-04T14:09:24.533Z"
   },
   {
    "duration": 206,
    "start_time": "2021-08-04T14:09:24.635Z"
   },
   {
    "duration": 155,
    "start_time": "2021-08-04T14:09:24.842Z"
   },
   {
    "duration": 5,
    "start_time": "2021-08-04T14:09:24.999Z"
   },
   {
    "duration": 167,
    "start_time": "2021-08-04T14:09:25.005Z"
   },
   {
    "duration": 5,
    "start_time": "2021-08-04T14:09:25.174Z"
   },
   {
    "duration": 1273,
    "start_time": "2021-08-04T14:17:01.294Z"
   },
   {
    "duration": 29,
    "start_time": "2021-08-04T14:17:02.569Z"
   },
   {
    "duration": 9,
    "start_time": "2021-08-04T14:17:02.600Z"
   },
   {
    "duration": 24,
    "start_time": "2021-08-04T14:17:02.611Z"
   },
   {
    "duration": 37,
    "start_time": "2021-08-04T14:17:02.637Z"
   },
   {
    "duration": 18,
    "start_time": "2021-08-04T14:17:02.676Z"
   },
   {
    "duration": 7,
    "start_time": "2021-08-04T14:17:02.695Z"
   },
   {
    "duration": 6,
    "start_time": "2021-08-04T14:17:02.704Z"
   },
   {
    "duration": 224,
    "start_time": "2021-08-04T14:17:02.713Z"
   },
   {
    "duration": 198,
    "start_time": "2021-08-04T14:17:02.939Z"
   },
   {
    "duration": 7,
    "start_time": "2021-08-04T14:17:03.139Z"
   },
   {
    "duration": 18,
    "start_time": "2021-08-04T14:17:03.147Z"
   },
   {
    "duration": 6,
    "start_time": "2021-08-04T14:17:03.166Z"
   },
   {
    "duration": 29,
    "start_time": "2021-08-04T14:17:03.174Z"
   },
   {
    "duration": 19,
    "start_time": "2021-08-04T14:17:03.205Z"
   },
   {
    "duration": 13,
    "start_time": "2021-08-04T14:17:03.225Z"
   },
   {
    "duration": 657,
    "start_time": "2021-08-04T14:17:03.240Z"
   },
   {
    "duration": 12,
    "start_time": "2021-08-04T14:17:03.899Z"
   },
   {
    "duration": 7,
    "start_time": "2021-08-04T14:17:03.913Z"
   },
   {
    "duration": 299,
    "start_time": "2021-08-04T14:17:03.922Z"
   },
   {
    "duration": 210,
    "start_time": "2021-08-04T14:17:04.223Z"
   },
   {
    "duration": 16,
    "start_time": "2021-08-04T14:17:04.435Z"
   },
   {
    "duration": 18,
    "start_time": "2021-08-04T14:17:04.455Z"
   },
   {
    "duration": 375,
    "start_time": "2021-08-04T14:17:04.475Z"
   },
   {
    "duration": 414,
    "start_time": "2021-08-04T14:17:04.851Z"
   },
   {
    "duration": 368,
    "start_time": "2021-08-04T14:17:05.267Z"
   },
   {
    "duration": 129,
    "start_time": "2021-08-04T14:17:05.637Z"
   },
   {
    "duration": 4,
    "start_time": "2021-08-04T14:17:05.767Z"
   },
   {
    "duration": 320,
    "start_time": "2021-08-04T14:17:05.773Z"
   },
   {
    "duration": 9,
    "start_time": "2021-08-04T14:17:06.095Z"
   },
   {
    "duration": 19,
    "start_time": "2021-08-04T14:17:06.108Z"
   },
   {
    "duration": 9807,
    "start_time": "2021-08-04T14:17:06.129Z"
   },
   {
    "duration": 4,
    "start_time": "2021-08-04T14:17:15.938Z"
   },
   {
    "duration": 256,
    "start_time": "2021-08-04T14:17:15.944Z"
   },
   {
    "duration": 352,
    "start_time": "2021-08-04T14:17:16.203Z"
   },
   {
    "duration": 7,
    "start_time": "2021-08-04T14:17:16.557Z"
   },
   {
    "duration": 7,
    "start_time": "2021-08-04T14:17:16.565Z"
   },
   {
    "duration": 23,
    "start_time": "2021-08-04T14:17:16.573Z"
   },
   {
    "duration": 8,
    "start_time": "2021-08-04T14:17:16.598Z"
   },
   {
    "duration": 223,
    "start_time": "2021-08-04T14:17:16.608Z"
   },
   {
    "duration": 6,
    "start_time": "2021-08-04T14:17:16.833Z"
   },
   {
    "duration": 18,
    "start_time": "2021-08-04T14:17:16.840Z"
   },
   {
    "duration": 10,
    "start_time": "2021-08-04T14:17:16.859Z"
   },
   {
    "duration": 214,
    "start_time": "2021-08-04T14:17:16.871Z"
   },
   {
    "duration": 7,
    "start_time": "2021-08-04T14:17:17.091Z"
   },
   {
    "duration": 21,
    "start_time": "2021-08-04T14:17:17.100Z"
   },
   {
    "duration": 36,
    "start_time": "2021-08-04T14:17:17.123Z"
   },
   {
    "duration": 36,
    "start_time": "2021-08-04T14:17:17.161Z"
   },
   {
    "duration": 9,
    "start_time": "2021-08-04T14:17:17.202Z"
   },
   {
    "duration": 12,
    "start_time": "2021-08-04T14:17:17.214Z"
   },
   {
    "duration": 36,
    "start_time": "2021-08-04T14:17:17.228Z"
   },
   {
    "duration": 29,
    "start_time": "2021-08-04T14:17:17.265Z"
   },
   {
    "duration": 18,
    "start_time": "2021-08-04T14:17:17.298Z"
   },
   {
    "duration": 12,
    "start_time": "2021-08-04T14:17:17.318Z"
   },
   {
    "duration": 5,
    "start_time": "2021-08-04T14:17:17.332Z"
   },
   {
    "duration": 14,
    "start_time": "2021-08-04T14:17:17.339Z"
   },
   {
    "duration": 10,
    "start_time": "2021-08-04T14:17:17.354Z"
   },
   {
    "duration": 86,
    "start_time": "2021-08-04T14:17:17.365Z"
   },
   {
    "duration": -880,
    "start_time": "2021-08-04T14:17:18.334Z"
   },
   {
    "duration": -929,
    "start_time": "2021-08-04T14:17:18.384Z"
   },
   {
    "duration": -939,
    "start_time": "2021-08-04T14:17:18.395Z"
   },
   {
    "duration": -949,
    "start_time": "2021-08-04T14:17:18.406Z"
   },
   {
    "duration": -958,
    "start_time": "2021-08-04T14:17:18.416Z"
   },
   {
    "duration": -967,
    "start_time": "2021-08-04T14:17:18.426Z"
   },
   {
    "duration": -975,
    "start_time": "2021-08-04T14:17:18.435Z"
   },
   {
    "duration": -982,
    "start_time": "2021-08-04T14:17:18.443Z"
   },
   {
    "duration": -991,
    "start_time": "2021-08-04T14:17:18.453Z"
   },
   {
    "duration": -999,
    "start_time": "2021-08-04T14:17:18.462Z"
   },
   {
    "duration": -1008,
    "start_time": "2021-08-04T14:17:18.472Z"
   },
   {
    "duration": -1017,
    "start_time": "2021-08-04T14:17:18.481Z"
   },
   {
    "duration": -1038,
    "start_time": "2021-08-04T14:17:18.503Z"
   },
   {
    "duration": -1048,
    "start_time": "2021-08-04T14:17:18.514Z"
   },
   {
    "duration": -1057,
    "start_time": "2021-08-04T14:17:18.525Z"
   },
   {
    "duration": -1066,
    "start_time": "2021-08-04T14:17:18.535Z"
   },
   {
    "duration": -1074,
    "start_time": "2021-08-04T14:17:18.544Z"
   },
   {
    "duration": -1083,
    "start_time": "2021-08-04T14:17:18.555Z"
   },
   {
    "duration": -1093,
    "start_time": "2021-08-04T14:17:18.566Z"
   },
   {
    "duration": -1101,
    "start_time": "2021-08-04T14:17:18.575Z"
   },
   {
    "duration": -1109,
    "start_time": "2021-08-04T14:17:18.585Z"
   },
   {
    "duration": -1118,
    "start_time": "2021-08-04T14:17:18.595Z"
   },
   {
    "duration": -1138,
    "start_time": "2021-08-04T14:17:18.616Z"
   },
   {
    "duration": -1145,
    "start_time": "2021-08-04T14:17:18.625Z"
   },
   {
    "duration": -1154,
    "start_time": "2021-08-04T14:17:18.635Z"
   },
   {
    "duration": -1161,
    "start_time": "2021-08-04T14:17:18.644Z"
   },
   {
    "duration": -1170,
    "start_time": "2021-08-04T14:17:18.654Z"
   },
   {
    "duration": -1178,
    "start_time": "2021-08-04T14:17:18.663Z"
   },
   {
    "duration": -1186,
    "start_time": "2021-08-04T14:17:18.672Z"
   },
   {
    "duration": -1194,
    "start_time": "2021-08-04T14:17:18.681Z"
   },
   {
    "duration": -1201,
    "start_time": "2021-08-04T14:17:18.690Z"
   },
   {
    "duration": -1220,
    "start_time": "2021-08-04T14:17:18.712Z"
   },
   {
    "duration": -1238,
    "start_time": "2021-08-04T14:17:18.735Z"
   },
   {
    "duration": -1244,
    "start_time": "2021-08-04T14:17:18.743Z"
   },
   {
    "duration": -1253,
    "start_time": "2021-08-04T14:17:18.753Z"
   },
   {
    "duration": -1261,
    "start_time": "2021-08-04T14:17:18.762Z"
   },
   {
    "duration": -1271,
    "start_time": "2021-08-04T14:17:18.772Z"
   },
   {
    "duration": -1272,
    "start_time": "2021-08-04T14:17:18.782Z"
   },
   {
    "duration": -1279,
    "start_time": "2021-08-04T14:17:18.791Z"
   },
   {
    "duration": -1286,
    "start_time": "2021-08-04T14:17:18.801Z"
   },
   {
    "duration": -1294,
    "start_time": "2021-08-04T14:17:18.810Z"
   },
   {
    "duration": -1302,
    "start_time": "2021-08-04T14:17:18.819Z"
   },
   {
    "duration": -1310,
    "start_time": "2021-08-04T14:17:18.828Z"
   },
   {
    "duration": -1330,
    "start_time": "2021-08-04T14:17:18.850Z"
   },
   {
    "duration": 350,
    "start_time": "2021-08-04T14:17:59.862Z"
   },
   {
    "duration": 8,
    "start_time": "2021-08-04T14:18:28.354Z"
   },
   {
    "duration": 4,
    "start_time": "2021-08-04T14:18:31.345Z"
   },
   {
    "duration": 4,
    "start_time": "2021-08-04T14:18:33.870Z"
   },
   {
    "duration": 22,
    "start_time": "2021-08-04T14:19:57.302Z"
   },
   {
    "duration": 10,
    "start_time": "2021-08-04T14:19:59.605Z"
   },
   {
    "duration": 6,
    "start_time": "2021-08-04T14:20:12.048Z"
   },
   {
    "duration": 133,
    "start_time": "2021-08-04T14:20:14.605Z"
   },
   {
    "duration": 140,
    "start_time": "2021-08-04T14:23:07.389Z"
   },
   {
    "duration": 366,
    "start_time": "2021-08-04T14:23:33.692Z"
   },
   {
    "duration": 4,
    "start_time": "2021-08-04T14:23:40.532Z"
   },
   {
    "duration": 10,
    "start_time": "2021-08-04T14:27:56.956Z"
   },
   {
    "duration": 7,
    "start_time": "2021-08-04T14:29:33.908Z"
   },
   {
    "duration": 118,
    "start_time": "2021-08-04T14:29:38.779Z"
   },
   {
    "duration": 6,
    "start_time": "2021-08-04T14:30:58.606Z"
   },
   {
    "duration": 6,
    "start_time": "2021-08-04T14:32:04.493Z"
   },
   {
    "duration": 6,
    "start_time": "2021-08-04T14:34:22.078Z"
   },
   {
    "duration": 5,
    "start_time": "2021-08-04T14:34:24.023Z"
   },
   {
    "duration": 217,
    "start_time": "2021-08-04T14:34:25.937Z"
   },
   {
    "duration": 216,
    "start_time": "2021-08-04T14:34:35.422Z"
   },
   {
    "duration": 5,
    "start_time": "2021-08-04T14:34:51.295Z"
   },
   {
    "duration": 9,
    "start_time": "2021-08-04T14:37:24.397Z"
   },
   {
    "duration": 6,
    "start_time": "2021-08-04T14:37:40.214Z"
   },
   {
    "duration": 4,
    "start_time": "2021-08-04T15:50:23.726Z"
   },
   {
    "duration": 8315,
    "start_time": "2021-08-04T15:59:51.116Z"
   },
   {
    "duration": 4,
    "start_time": "2021-08-04T16:00:14.032Z"
   },
   {
    "duration": 3,
    "start_time": "2021-08-04T16:03:06.546Z"
   },
   {
    "duration": 238,
    "start_time": "2021-08-04T16:04:03.651Z"
   },
   {
    "duration": 3,
    "start_time": "2021-08-04T16:04:29.319Z"
   },
   {
    "duration": 238,
    "start_time": "2021-08-04T16:08:18.106Z"
   },
   {
    "duration": 303,
    "start_time": "2021-08-04T16:09:38.051Z"
   },
   {
    "duration": 1530,
    "start_time": "2021-08-05T06:34:34.780Z"
   },
   {
    "duration": 35,
    "start_time": "2021-08-05T06:34:36.313Z"
   },
   {
    "duration": 14,
    "start_time": "2021-08-05T06:34:36.351Z"
   },
   {
    "duration": 36,
    "start_time": "2021-08-05T06:34:36.368Z"
   },
   {
    "duration": 82,
    "start_time": "2021-08-05T06:34:36.407Z"
   },
   {
    "duration": 7,
    "start_time": "2021-08-05T06:34:36.493Z"
   },
   {
    "duration": 6,
    "start_time": "2021-08-05T06:34:36.503Z"
   },
   {
    "duration": 6,
    "start_time": "2021-08-05T06:34:36.515Z"
   },
   {
    "duration": 397,
    "start_time": "2021-08-05T06:34:36.525Z"
   },
   {
    "duration": 312,
    "start_time": "2021-08-05T06:34:36.925Z"
   },
   {
    "duration": 12,
    "start_time": "2021-08-05T06:34:37.240Z"
   },
   {
    "duration": 46,
    "start_time": "2021-08-05T06:34:37.254Z"
   },
   {
    "duration": 11,
    "start_time": "2021-08-05T06:34:37.302Z"
   },
   {
    "duration": 20,
    "start_time": "2021-08-05T06:34:37.315Z"
   },
   {
    "duration": 18,
    "start_time": "2021-08-05T06:34:37.337Z"
   },
   {
    "duration": 36,
    "start_time": "2021-08-05T06:34:37.357Z"
   },
   {
    "duration": 1024,
    "start_time": "2021-08-05T06:34:37.395Z"
   },
   {
    "duration": 8,
    "start_time": "2021-08-05T06:34:38.422Z"
   },
   {
    "duration": 9,
    "start_time": "2021-08-05T06:34:38.433Z"
   },
   {
    "duration": 494,
    "start_time": "2021-08-05T06:34:38.444Z"
   },
   {
    "duration": 320,
    "start_time": "2021-08-05T06:34:38.941Z"
   },
   {
    "duration": 29,
    "start_time": "2021-08-05T06:34:39.264Z"
   },
   {
    "duration": 24,
    "start_time": "2021-08-05T06:34:39.301Z"
   },
   {
    "duration": 540,
    "start_time": "2021-08-05T06:34:39.329Z"
   },
   {
    "duration": 511,
    "start_time": "2021-08-05T06:34:39.871Z"
   },
   {
    "duration": 599,
    "start_time": "2021-08-05T06:34:40.384Z"
   },
   {
    "duration": 234,
    "start_time": "2021-08-05T06:34:40.986Z"
   },
   {
    "duration": 6,
    "start_time": "2021-08-05T06:34:41.222Z"
   },
   {
    "duration": 524,
    "start_time": "2021-08-05T06:34:41.230Z"
   },
   {
    "duration": 9,
    "start_time": "2021-08-05T06:34:41.757Z"
   },
   {
    "duration": 27,
    "start_time": "2021-08-05T06:34:41.782Z"
   },
   {
    "duration": 10316,
    "start_time": "2021-08-05T06:34:41.812Z"
   },
   {
    "duration": 7,
    "start_time": "2021-08-05T06:34:52.130Z"
   },
   {
    "duration": 402,
    "start_time": "2021-08-05T06:34:52.140Z"
   },
   {
    "duration": 473,
    "start_time": "2021-08-05T06:34:52.545Z"
   },
   {
    "duration": 8,
    "start_time": "2021-08-05T06:34:53.021Z"
   },
   {
    "duration": 12,
    "start_time": "2021-08-05T06:34:53.032Z"
   },
   {
    "duration": 9,
    "start_time": "2021-08-05T06:34:53.046Z"
   },
   {
    "duration": 34,
    "start_time": "2021-08-05T06:34:53.057Z"
   },
   {
    "duration": 319,
    "start_time": "2021-08-05T06:34:53.094Z"
   },
   {
    "duration": 8,
    "start_time": "2021-08-05T06:34:53.415Z"
   },
   {
    "duration": 28,
    "start_time": "2021-08-05T06:34:53.425Z"
   },
   {
    "duration": 29,
    "start_time": "2021-08-05T06:34:53.455Z"
   },
   {
    "duration": 313,
    "start_time": "2021-08-05T06:34:53.487Z"
   },
   {
    "duration": 8,
    "start_time": "2021-08-05T06:34:53.803Z"
   },
   {
    "duration": 20,
    "start_time": "2021-08-05T06:34:53.814Z"
   },
   {
    "duration": 79,
    "start_time": "2021-08-05T06:34:53.836Z"
   },
   {
    "duration": 11,
    "start_time": "2021-08-05T06:34:53.917Z"
   },
   {
    "duration": 10,
    "start_time": "2021-08-05T06:34:53.931Z"
   },
   {
    "duration": 14,
    "start_time": "2021-08-05T06:34:53.943Z"
   },
   {
    "duration": 77,
    "start_time": "2021-08-05T06:34:53.964Z"
   },
   {
    "duration": 11,
    "start_time": "2021-08-05T06:34:54.043Z"
   },
   {
    "duration": 17,
    "start_time": "2021-08-05T06:34:54.082Z"
   },
   {
    "duration": 28,
    "start_time": "2021-08-05T06:34:54.101Z"
   },
   {
    "duration": 24,
    "start_time": "2021-08-05T06:34:54.132Z"
   },
   {
    "duration": 22,
    "start_time": "2021-08-05T06:34:54.158Z"
   },
   {
    "duration": 12,
    "start_time": "2021-08-05T06:34:54.182Z"
   },
   {
    "duration": 18,
    "start_time": "2021-08-05T06:34:54.197Z"
   },
   {
    "duration": 10,
    "start_time": "2021-08-05T06:34:54.217Z"
   },
   {
    "duration": 15,
    "start_time": "2021-08-05T06:34:54.229Z"
   },
   {
    "duration": 43,
    "start_time": "2021-08-05T06:34:54.246Z"
   },
   {
    "duration": 16,
    "start_time": "2021-08-05T06:34:54.291Z"
   },
   {
    "duration": 12,
    "start_time": "2021-08-05T06:34:54.310Z"
   },
   {
    "duration": 242,
    "start_time": "2021-08-05T06:34:54.325Z"
   },
   {
    "duration": 535,
    "start_time": "2021-08-05T06:34:54.570Z"
   },
   {
    "duration": 5,
    "start_time": "2021-08-05T06:34:55.107Z"
   },
   {
    "duration": 19,
    "start_time": "2021-08-05T06:34:55.114Z"
   },
   {
    "duration": 12,
    "start_time": "2021-08-05T06:34:55.141Z"
   },
   {
    "duration": 225,
    "start_time": "2021-08-05T06:34:55.157Z"
   },
   {
    "duration": 10,
    "start_time": "2021-08-05T06:34:55.385Z"
   },
   {
    "duration": 9,
    "start_time": "2021-08-05T06:34:55.397Z"
   },
   {
    "duration": 12,
    "start_time": "2021-08-05T06:34:55.408Z"
   },
   {
    "duration": 11,
    "start_time": "2021-08-05T06:34:55.423Z"
   },
   {
    "duration": 46,
    "start_time": "2021-08-05T06:34:55.437Z"
   },
   {
    "duration": 12575,
    "start_time": "2021-08-05T06:34:55.486Z"
   },
   {
    "duration": 5,
    "start_time": "2021-08-05T06:35:08.063Z"
   },
   {
    "duration": 564,
    "start_time": "2021-08-05T06:35:08.070Z"
   },
   {
    "duration": -283,
    "start_time": "2021-08-05T06:35:08.919Z"
   },
   {
    "duration": -293,
    "start_time": "2021-08-05T06:35:08.931Z"
   },
   {
    "duration": -303,
    "start_time": "2021-08-05T06:35:08.942Z"
   },
   {
    "duration": -311,
    "start_time": "2021-08-05T06:35:08.952Z"
   },
   {
    "duration": -322,
    "start_time": "2021-08-05T06:35:08.964Z"
   },
   {
    "duration": -340,
    "start_time": "2021-08-05T06:35:08.983Z"
   },
   {
    "duration": -350,
    "start_time": "2021-08-05T06:35:08.995Z"
   },
   {
    "duration": -358,
    "start_time": "2021-08-05T06:35:09.005Z"
   },
   {
    "duration": -368,
    "start_time": "2021-08-05T06:35:09.016Z"
   },
   {
    "duration": -378,
    "start_time": "2021-08-05T06:35:09.027Z"
   },
   {
    "duration": -387,
    "start_time": "2021-08-05T06:35:09.037Z"
   },
   {
    "duration": -395,
    "start_time": "2021-08-05T06:35:09.047Z"
   },
   {
    "duration": -405,
    "start_time": "2021-08-05T06:35:09.058Z"
   },
   {
    "duration": -412,
    "start_time": "2021-08-05T06:35:09.067Z"
   },
   {
    "duration": -421,
    "start_time": "2021-08-05T06:35:09.077Z"
   },
   {
    "duration": -438,
    "start_time": "2021-08-05T06:35:09.095Z"
   },
   {
    "duration": -447,
    "start_time": "2021-08-05T06:35:09.106Z"
   },
   {
    "duration": -456,
    "start_time": "2021-08-05T06:35:09.117Z"
   },
   {
    "duration": -464,
    "start_time": "2021-08-05T06:35:09.127Z"
   },
   {
    "duration": -474,
    "start_time": "2021-08-05T06:35:09.138Z"
   },
   {
    "duration": -483,
    "start_time": "2021-08-05T06:35:09.148Z"
   },
   {
    "duration": -490,
    "start_time": "2021-08-05T06:35:09.157Z"
   },
   {
    "duration": -486,
    "start_time": "2021-08-05T06:35:09.168Z"
   },
   {
    "duration": -524,
    "start_time": "2021-08-05T06:35:09.208Z"
   },
   {
    "duration": -534,
    "start_time": "2021-08-05T06:35:09.219Z"
   },
   {
    "duration": -543,
    "start_time": "2021-08-05T06:35:09.230Z"
   },
   {
    "duration": 4,
    "start_time": "2021-08-05T06:44:06.521Z"
   },
   {
    "duration": 283,
    "start_time": "2021-08-05T06:45:00.968Z"
   },
   {
    "duration": 306,
    "start_time": "2021-08-05T06:45:16.875Z"
   },
   {
    "duration": 6,
    "start_time": "2021-08-05T06:46:13.718Z"
   },
   {
    "duration": 222,
    "start_time": "2021-08-05T06:46:55.383Z"
   },
   {
    "duration": 241,
    "start_time": "2021-08-05T06:47:18.379Z"
   },
   {
    "duration": 280,
    "start_time": "2021-08-05T06:48:15.724Z"
   },
   {
    "duration": 759,
    "start_time": "2021-08-05T06:50:16.623Z"
   },
   {
    "duration": 4,
    "start_time": "2021-08-05T06:51:32.313Z"
   },
   {
    "duration": 304,
    "start_time": "2021-08-05T06:51:35.547Z"
   },
   {
    "duration": 4,
    "start_time": "2021-08-05T06:53:42.186Z"
   },
   {
    "duration": 259,
    "start_time": "2021-08-05T06:53:44.475Z"
   },
   {
    "duration": 4,
    "start_time": "2021-08-05T06:54:27.313Z"
   },
   {
    "duration": 308,
    "start_time": "2021-08-05T06:54:29.505Z"
   },
   {
    "duration": 4,
    "start_time": "2021-08-05T06:54:56.726Z"
   },
   {
    "duration": 322,
    "start_time": "2021-08-05T06:54:59.503Z"
   },
   {
    "duration": 4,
    "start_time": "2021-08-05T06:55:27.885Z"
   },
   {
    "duration": 12036,
    "start_time": "2021-08-05T06:55:30.410Z"
   },
   {
    "duration": 6,
    "start_time": "2021-08-05T06:55:52.831Z"
   },
   {
    "duration": 4,
    "start_time": "2021-08-05T06:58:38.059Z"
   },
   {
    "duration": 29902,
    "start_time": "2021-08-05T06:58:40.902Z"
   },
   {
    "duration": 5,
    "start_time": "2021-08-05T06:59:19.846Z"
   },
   {
    "duration": 30410,
    "start_time": "2021-08-05T06:59:54.762Z"
   },
   {
    "duration": 6,
    "start_time": "2021-08-05T07:00:29.385Z"
   },
   {
    "duration": 30069,
    "start_time": "2021-08-05T07:00:59.313Z"
   },
   {
    "duration": 5,
    "start_time": "2021-08-05T07:01:35.958Z"
   },
   {
    "duration": 14,
    "start_time": "2021-08-05T07:09:55.240Z"
   },
   {
    "duration": 5,
    "start_time": "2021-08-05T07:14:26.399Z"
   },
   {
    "duration": 30764,
    "start_time": "2021-08-05T07:16:15.076Z"
   },
   {
    "duration": 5,
    "start_time": "2021-08-05T07:16:51.228Z"
   },
   {
    "duration": 120,
    "start_time": "2021-08-05T07:21:08.528Z"
   },
   {
    "duration": 132,
    "start_time": "2021-08-05T07:22:41.876Z"
   },
   {
    "duration": 31,
    "start_time": "2021-08-05T07:22:51.029Z"
   },
   {
    "duration": 1601,
    "start_time": "2021-08-05T07:33:45.080Z"
   },
   {
    "duration": 42,
    "start_time": "2021-08-05T07:33:46.683Z"
   },
   {
    "duration": 16,
    "start_time": "2021-08-05T07:33:46.729Z"
   },
   {
    "duration": 40,
    "start_time": "2021-08-05T07:33:46.748Z"
   },
   {
    "duration": 57,
    "start_time": "2021-08-05T07:33:46.791Z"
   },
   {
    "duration": 6,
    "start_time": "2021-08-05T07:33:46.850Z"
   },
   {
    "duration": 28,
    "start_time": "2021-08-05T07:33:46.858Z"
   },
   {
    "duration": 10,
    "start_time": "2021-08-05T07:33:46.889Z"
   },
   {
    "duration": 383,
    "start_time": "2021-08-05T07:33:46.901Z"
   },
   {
    "duration": 313,
    "start_time": "2021-08-05T07:33:47.287Z"
   },
   {
    "duration": 11,
    "start_time": "2021-08-05T07:33:47.603Z"
   },
   {
    "duration": 33,
    "start_time": "2021-08-05T07:33:47.616Z"
   },
   {
    "duration": 18,
    "start_time": "2021-08-05T07:33:47.651Z"
   },
   {
    "duration": 14,
    "start_time": "2021-08-05T07:33:47.684Z"
   },
   {
    "duration": 20,
    "start_time": "2021-08-05T07:33:47.701Z"
   },
   {
    "duration": 21,
    "start_time": "2021-08-05T07:33:47.724Z"
   },
   {
    "duration": 1037,
    "start_time": "2021-08-05T07:33:47.748Z"
   },
   {
    "duration": 10,
    "start_time": "2021-08-05T07:33:48.787Z"
   },
   {
    "duration": 23,
    "start_time": "2021-08-05T07:33:48.800Z"
   },
   {
    "duration": 529,
    "start_time": "2021-08-05T07:33:48.826Z"
   },
   {
    "duration": 309,
    "start_time": "2021-08-05T07:33:49.357Z"
   },
   {
    "duration": 30,
    "start_time": "2021-08-05T07:33:49.668Z"
   },
   {
    "duration": 21,
    "start_time": "2021-08-05T07:33:49.704Z"
   },
   {
    "duration": 530,
    "start_time": "2021-08-05T07:33:49.729Z"
   },
   {
    "duration": 507,
    "start_time": "2021-08-05T07:33:50.261Z"
   },
   {
    "duration": 583,
    "start_time": "2021-08-05T07:33:50.770Z"
   },
   {
    "duration": 215,
    "start_time": "2021-08-05T07:33:51.356Z"
   },
   {
    "duration": 12,
    "start_time": "2021-08-05T07:33:51.573Z"
   },
   {
    "duration": 507,
    "start_time": "2021-08-05T07:33:51.587Z"
   },
   {
    "duration": 9,
    "start_time": "2021-08-05T07:33:52.096Z"
   },
   {
    "duration": 29,
    "start_time": "2021-08-05T07:33:52.107Z"
   },
   {
    "duration": 10763,
    "start_time": "2021-08-05T07:33:52.138Z"
   },
   {
    "duration": 7,
    "start_time": "2021-08-05T07:34:02.903Z"
   },
   {
    "duration": 405,
    "start_time": "2021-08-05T07:34:02.913Z"
   },
   {
    "duration": 562,
    "start_time": "2021-08-05T07:34:03.320Z"
   },
   {
    "duration": 7,
    "start_time": "2021-08-05T07:34:03.884Z"
   },
   {
    "duration": 29,
    "start_time": "2021-08-05T07:34:03.893Z"
   },
   {
    "duration": 12,
    "start_time": "2021-08-05T07:34:03.924Z"
   },
   {
    "duration": 25,
    "start_time": "2021-08-05T07:34:03.938Z"
   },
   {
    "duration": 312,
    "start_time": "2021-08-05T07:34:03.966Z"
   },
   {
    "duration": 7,
    "start_time": "2021-08-05T07:34:04.282Z"
   },
   {
    "duration": 18,
    "start_time": "2021-08-05T07:34:04.291Z"
   },
   {
    "duration": 9,
    "start_time": "2021-08-05T07:34:04.312Z"
   },
   {
    "duration": 389,
    "start_time": "2021-08-05T07:34:04.324Z"
   },
   {
    "duration": 9,
    "start_time": "2021-08-05T07:34:04.716Z"
   },
   {
    "duration": 10,
    "start_time": "2021-08-05T07:34:04.782Z"
   },
   {
    "duration": 120,
    "start_time": "2021-08-05T07:34:04.795Z"
   },
   {
    "duration": 12,
    "start_time": "2021-08-05T07:34:04.917Z"
   },
   {
    "duration": 57,
    "start_time": "2021-08-05T07:34:04.932Z"
   },
   {
    "duration": 11,
    "start_time": "2021-08-05T07:34:04.992Z"
   },
   {
    "duration": 65,
    "start_time": "2021-08-05T07:34:05.005Z"
   },
   {
    "duration": 17,
    "start_time": "2021-08-05T07:34:05.072Z"
   },
   {
    "duration": 16,
    "start_time": "2021-08-05T07:34:05.091Z"
   },
   {
    "duration": 25,
    "start_time": "2021-08-05T07:34:05.110Z"
   },
   {
    "duration": 8,
    "start_time": "2021-08-05T07:34:05.138Z"
   },
   {
    "duration": 47,
    "start_time": "2021-08-05T07:34:05.149Z"
   },
   {
    "duration": 6,
    "start_time": "2021-08-05T07:34:05.199Z"
   },
   {
    "duration": 18,
    "start_time": "2021-08-05T07:34:05.208Z"
   },
   {
    "duration": 6,
    "start_time": "2021-08-05T07:34:05.284Z"
   },
   {
    "duration": 10,
    "start_time": "2021-08-05T07:34:05.292Z"
   },
   {
    "duration": 100,
    "start_time": "2021-08-05T07:34:05.305Z"
   },
   {
    "duration": 16,
    "start_time": "2021-08-05T07:34:05.408Z"
   },
   {
    "duration": 9,
    "start_time": "2021-08-05T07:34:05.427Z"
   },
   {
    "duration": 608,
    "start_time": "2021-08-05T07:34:05.439Z"
   },
   {
    "duration": 531,
    "start_time": "2021-08-05T07:34:06.051Z"
   },
   {
    "duration": 7,
    "start_time": "2021-08-05T07:34:06.585Z"
   },
   {
    "duration": 19,
    "start_time": "2021-08-05T07:34:06.594Z"
   },
   {
    "duration": 8,
    "start_time": "2021-08-05T07:34:06.621Z"
   },
   {
    "duration": 233,
    "start_time": "2021-08-05T07:34:06.633Z"
   },
   {
    "duration": 16,
    "start_time": "2021-08-05T07:34:06.869Z"
   },
   {
    "duration": 7,
    "start_time": "2021-08-05T07:34:06.888Z"
   },
   {
    "duration": 16,
    "start_time": "2021-08-05T07:34:06.898Z"
   },
   {
    "duration": 12,
    "start_time": "2021-08-05T07:34:06.916Z"
   },
   {
    "duration": 8,
    "start_time": "2021-08-05T07:34:06.930Z"
   },
   {
    "duration": 12193,
    "start_time": "2021-08-05T07:34:06.940Z"
   },
   {
    "duration": 5,
    "start_time": "2021-08-05T07:34:19.135Z"
   },
   {
    "duration": 21,
    "start_time": "2021-08-05T07:34:19.143Z"
   },
   {
    "duration": 16,
    "start_time": "2021-08-05T07:34:19.167Z"
   },
   {
    "duration": 30319,
    "start_time": "2021-08-05T07:34:19.185Z"
   },
   {
    "duration": 4,
    "start_time": "2021-08-05T07:34:49.507Z"
   },
   {
    "duration": 7,
    "start_time": "2021-08-05T07:34:49.514Z"
   },
   {
    "duration": 150,
    "start_time": "2021-08-05T07:34:49.524Z"
   },
   {
    "duration": 29,
    "start_time": "2021-08-05T07:34:49.676Z"
   },
   {
    "duration": 4,
    "start_time": "2021-08-05T07:34:49.707Z"
   },
   {
    "duration": 12224,
    "start_time": "2021-08-05T07:34:49.713Z"
   },
   {
    "duration": 5,
    "start_time": "2021-08-05T07:35:01.939Z"
   },
   {
    "duration": 57,
    "start_time": "2021-08-05T07:35:01.946Z"
   },
   {
    "duration": 82,
    "start_time": "2021-08-05T07:35:02.006Z"
   },
   {
    "duration": 346,
    "start_time": "2021-08-05T07:35:02.091Z"
   },
   {
    "duration": 6,
    "start_time": "2021-08-05T07:35:02.440Z"
   },
   {
    "duration": 12539,
    "start_time": "2021-08-05T07:35:02.449Z"
   },
   {
    "duration": 5,
    "start_time": "2021-08-05T07:35:14.990Z"
   },
   {
    "duration": 8219,
    "start_time": "2021-08-05T07:35:14.997Z"
   },
   {
    "duration": 5,
    "start_time": "2021-08-05T07:35:23.218Z"
   },
   {
    "duration": 58,
    "start_time": "2021-08-05T07:35:23.225Z"
   },
   {
    "duration": 96,
    "start_time": "2021-08-05T07:35:23.287Z"
   },
   {
    "duration": 110,
    "start_time": "2021-08-05T07:35:23.388Z"
   },
   {
    "duration": 10,
    "start_time": "2021-08-05T07:35:23.500Z"
   },
   {
    "duration": 243,
    "start_time": "2021-08-05T07:35:23.512Z"
   },
   {
    "duration": 124,
    "start_time": "2021-08-05T07:35:23.758Z"
   },
   {
    "duration": 5,
    "start_time": "2021-08-05T07:35:23.885Z"
   },
   {
    "duration": 265,
    "start_time": "2021-08-05T07:35:23.893Z"
   },
   {
    "duration": 6,
    "start_time": "2021-08-05T07:35:24.160Z"
   },
   {
    "duration": 159,
    "start_time": "2021-08-05T07:35:24.168Z"
   },
   {
    "duration": 307,
    "start_time": "2021-08-05T07:35:24.329Z"
   },
   {
    "duration": 270,
    "start_time": "2021-08-05T07:35:24.639Z"
   },
   {
    "duration": 8,
    "start_time": "2021-08-05T07:35:24.911Z"
   },
   {
    "duration": 288,
    "start_time": "2021-08-05T07:35:24.922Z"
   },
   {
    "duration": 8,
    "start_time": "2021-08-05T07:35:25.213Z"
   },
   {
    "duration": 1496,
    "start_time": "2021-08-05T07:38:13.599Z"
   },
   {
    "duration": 33,
    "start_time": "2021-08-05T07:38:15.098Z"
   },
   {
    "duration": 12,
    "start_time": "2021-08-05T07:38:15.135Z"
   },
   {
    "duration": 44,
    "start_time": "2021-08-05T07:38:15.151Z"
   },
   {
    "duration": 58,
    "start_time": "2021-08-05T07:38:15.198Z"
   },
   {
    "duration": 26,
    "start_time": "2021-08-05T07:38:15.259Z"
   },
   {
    "duration": 6,
    "start_time": "2021-08-05T07:38:15.287Z"
   },
   {
    "duration": 6,
    "start_time": "2021-08-05T07:38:15.298Z"
   },
   {
    "duration": 403,
    "start_time": "2021-08-05T07:38:15.307Z"
   },
   {
    "duration": 325,
    "start_time": "2021-08-05T07:38:15.712Z"
   },
   {
    "duration": 11,
    "start_time": "2021-08-05T07:38:16.040Z"
   },
   {
    "duration": 44,
    "start_time": "2021-08-05T07:38:16.054Z"
   },
   {
    "duration": 17,
    "start_time": "2021-08-05T07:38:16.101Z"
   },
   {
    "duration": 12,
    "start_time": "2021-08-05T07:38:16.120Z"
   },
   {
    "duration": 15,
    "start_time": "2021-08-05T07:38:16.134Z"
   },
   {
    "duration": 41,
    "start_time": "2021-08-05T07:38:16.151Z"
   },
   {
    "duration": 1016,
    "start_time": "2021-08-05T07:38:16.195Z"
   },
   {
    "duration": 8,
    "start_time": "2021-08-05T07:38:17.213Z"
   },
   {
    "duration": 12,
    "start_time": "2021-08-05T07:38:17.223Z"
   },
   {
    "duration": 461,
    "start_time": "2021-08-05T07:38:17.237Z"
   },
   {
    "duration": 317,
    "start_time": "2021-08-05T07:38:17.700Z"
   },
   {
    "duration": 21,
    "start_time": "2021-08-05T07:38:18.020Z"
   },
   {
    "duration": 48,
    "start_time": "2021-08-05T07:38:18.047Z"
   },
   {
    "duration": 502,
    "start_time": "2021-08-05T07:38:18.099Z"
   },
   {
    "duration": 523,
    "start_time": "2021-08-05T07:38:18.603Z"
   },
   {
    "duration": 579,
    "start_time": "2021-08-05T07:38:19.128Z"
   },
   {
    "duration": 210,
    "start_time": "2021-08-05T07:38:19.710Z"
   },
   {
    "duration": 5,
    "start_time": "2021-08-05T07:38:19.923Z"
   },
   {
    "duration": 606,
    "start_time": "2021-08-05T07:38:19.930Z"
   },
   {
    "duration": 9,
    "start_time": "2021-08-05T07:38:20.539Z"
   },
   {
    "duration": 47,
    "start_time": "2021-08-05T07:38:20.551Z"
   },
   {
    "duration": 10355,
    "start_time": "2021-08-05T07:38:20.600Z"
   },
   {
    "duration": 6,
    "start_time": "2021-08-05T07:38:30.957Z"
   },
   {
    "duration": 390,
    "start_time": "2021-08-05T07:38:30.965Z"
   },
   {
    "duration": 503,
    "start_time": "2021-08-05T07:38:31.357Z"
   },
   {
    "duration": 21,
    "start_time": "2021-08-05T07:38:31.863Z"
   },
   {
    "duration": 22,
    "start_time": "2021-08-05T07:38:31.886Z"
   },
   {
    "duration": 13,
    "start_time": "2021-08-05T07:38:31.911Z"
   },
   {
    "duration": 44,
    "start_time": "2021-08-05T07:38:31.927Z"
   },
   {
    "duration": 313,
    "start_time": "2021-08-05T07:38:31.974Z"
   },
   {
    "duration": 8,
    "start_time": "2021-08-05T07:38:32.289Z"
   },
   {
    "duration": 24,
    "start_time": "2021-08-05T07:38:32.300Z"
   },
   {
    "duration": 8,
    "start_time": "2021-08-05T07:38:32.326Z"
   },
   {
    "duration": 337,
    "start_time": "2021-08-05T07:38:32.337Z"
   },
   {
    "duration": 13,
    "start_time": "2021-08-05T07:38:32.676Z"
   },
   {
    "duration": 14,
    "start_time": "2021-08-05T07:38:32.692Z"
   },
   {
    "duration": 94,
    "start_time": "2021-08-05T07:38:32.709Z"
   },
   {
    "duration": 14,
    "start_time": "2021-08-05T07:38:32.805Z"
   },
   {
    "duration": 16,
    "start_time": "2021-08-05T07:38:32.822Z"
   },
   {
    "duration": 41,
    "start_time": "2021-08-05T07:38:32.841Z"
   },
   {
    "duration": 63,
    "start_time": "2021-08-05T07:38:32.885Z"
   },
   {
    "duration": 34,
    "start_time": "2021-08-05T07:38:32.951Z"
   },
   {
    "duration": 27,
    "start_time": "2021-08-05T07:38:32.988Z"
   },
   {
    "duration": 25,
    "start_time": "2021-08-05T07:38:33.018Z"
   },
   {
    "duration": 19,
    "start_time": "2021-08-05T07:38:33.046Z"
   },
   {
    "duration": 26,
    "start_time": "2021-08-05T07:38:33.068Z"
   },
   {
    "duration": 8,
    "start_time": "2021-08-05T07:38:33.097Z"
   },
   {
    "duration": 21,
    "start_time": "2021-08-05T07:38:33.108Z"
   },
   {
    "duration": 15,
    "start_time": "2021-08-05T07:38:33.131Z"
   },
   {
    "duration": 10,
    "start_time": "2021-08-05T07:38:33.149Z"
   },
   {
    "duration": 36,
    "start_time": "2021-08-05T07:38:33.182Z"
   },
   {
    "duration": 19,
    "start_time": "2021-08-05T07:38:33.221Z"
   },
   {
    "duration": 39,
    "start_time": "2021-08-05T07:38:33.243Z"
   },
   {
    "duration": 222,
    "start_time": "2021-08-05T07:38:33.285Z"
   },
   {
    "duration": 584,
    "start_time": "2021-08-05T07:38:33.509Z"
   },
   {
    "duration": 5,
    "start_time": "2021-08-05T07:38:34.095Z"
   },
   {
    "duration": 13,
    "start_time": "2021-08-05T07:38:34.103Z"
   },
   {
    "duration": 10,
    "start_time": "2021-08-05T07:38:34.127Z"
   },
   {
    "duration": 251,
    "start_time": "2021-08-05T07:38:34.141Z"
   },
   {
    "duration": 9,
    "start_time": "2021-08-05T07:38:34.394Z"
   },
   {
    "duration": 7,
    "start_time": "2021-08-05T07:38:34.405Z"
   },
   {
    "duration": 12,
    "start_time": "2021-08-05T07:38:34.414Z"
   },
   {
    "duration": 6,
    "start_time": "2021-08-05T07:38:34.428Z"
   },
   {
    "duration": 49,
    "start_time": "2021-08-05T07:38:34.436Z"
   },
   {
    "duration": 12312,
    "start_time": "2021-08-05T07:38:34.488Z"
   },
   {
    "duration": 6,
    "start_time": "2021-08-05T07:38:46.803Z"
   },
   {
    "duration": 20,
    "start_time": "2021-08-05T07:38:46.812Z"
   },
   {
    "duration": 4,
    "start_time": "2021-08-05T07:38:46.835Z"
   },
   {
    "duration": 39470,
    "start_time": "2021-08-05T07:38:46.842Z"
   },
   {
    "duration": 5,
    "start_time": "2021-08-05T07:39:26.314Z"
   },
   {
    "duration": 13,
    "start_time": "2021-08-05T07:39:26.321Z"
   },
   {
    "duration": 149,
    "start_time": "2021-08-05T07:39:26.336Z"
   },
   {
    "duration": 24,
    "start_time": "2021-08-05T07:39:26.487Z"
   },
   {
    "duration": 8338,
    "start_time": "2021-08-05T07:39:26.513Z"
   },
   {
    "duration": 5,
    "start_time": "2021-08-05T07:39:34.853Z"
   },
   {
    "duration": 49,
    "start_time": "2021-08-05T07:39:34.861Z"
   },
   {
    "duration": 75,
    "start_time": "2021-08-05T07:39:34.912Z"
   },
   {
    "duration": 319,
    "start_time": "2021-08-05T07:39:34.990Z"
   },
   {
    "duration": 5,
    "start_time": "2021-08-05T07:39:35.311Z"
   },
   {
    "duration": 12576,
    "start_time": "2021-08-05T07:39:35.319Z"
   },
   {
    "duration": 5,
    "start_time": "2021-08-05T07:39:47.898Z"
   },
   {
    "duration": 8358,
    "start_time": "2021-08-05T07:39:47.905Z"
   },
   {
    "duration": 17,
    "start_time": "2021-08-05T07:39:56.265Z"
   },
   {
    "duration": 101,
    "start_time": "2021-08-05T07:39:56.284Z"
   },
   {
    "duration": 8,
    "start_time": "2021-08-05T07:39:56.388Z"
   },
   {
    "duration": 21,
    "start_time": "2021-08-05T07:39:56.492Z"
   },
   {
    "duration": 8,
    "start_time": "2021-08-05T07:39:56.515Z"
   },
   {
    "duration": 232,
    "start_time": "2021-08-05T07:39:56.525Z"
   },
   {
    "duration": 129,
    "start_time": "2021-08-05T07:39:56.760Z"
   },
   {
    "duration": 5,
    "start_time": "2021-08-05T07:39:56.891Z"
   },
   {
    "duration": 278,
    "start_time": "2021-08-05T07:39:56.898Z"
   },
   {
    "duration": 4,
    "start_time": "2021-08-05T07:39:57.179Z"
   },
   {
    "duration": 162,
    "start_time": "2021-08-05T07:39:57.186Z"
   },
   {
    "duration": 316,
    "start_time": "2021-08-05T07:39:57.350Z"
   },
   {
    "duration": 323,
    "start_time": "2021-08-05T07:39:57.669Z"
   },
   {
    "duration": 8,
    "start_time": "2021-08-05T07:39:57.994Z"
   },
   {
    "duration": 282,
    "start_time": "2021-08-05T07:39:58.005Z"
   },
   {
    "duration": 9,
    "start_time": "2021-08-05T07:39:58.289Z"
   },
   {
    "duration": 49,
    "start_time": "2021-08-05T07:40:27.055Z"
   },
   {
    "duration": 101,
    "start_time": "2021-08-05T08:00:09.071Z"
   },
   {
    "duration": 100,
    "start_time": "2021-08-05T08:00:27.158Z"
   },
   {
    "duration": 106,
    "start_time": "2021-08-05T08:00:43.474Z"
   },
   {
    "duration": 96,
    "start_time": "2021-08-05T08:00:57.550Z"
   },
   {
    "duration": 100,
    "start_time": "2021-08-05T08:02:56.972Z"
   },
   {
    "duration": 2382,
    "start_time": "2021-08-05T08:03:30.922Z"
   },
   {
    "duration": 5,
    "start_time": "2021-08-05T08:03:57.345Z"
   },
   {
    "duration": 2986,
    "start_time": "2021-08-05T08:05:06.216Z"
   },
   {
    "duration": 5,
    "start_time": "2021-08-05T08:05:11.399Z"
   },
   {
    "duration": 177,
    "start_time": "2021-08-05T08:06:33.517Z"
   },
   {
    "duration": 5,
    "start_time": "2021-08-05T08:06:36.570Z"
   },
   {
    "duration": 39680,
    "start_time": "2021-08-05T08:06:59.116Z"
   },
   {
    "duration": 5,
    "start_time": "2021-08-05T08:07:42.881Z"
   },
   {
    "duration": 2452,
    "start_time": "2021-08-05T08:08:39.752Z"
   },
   {
    "duration": 5,
    "start_time": "2021-08-05T08:08:45.634Z"
   },
   {
    "duration": 5826,
    "start_time": "2021-08-05T08:08:58.881Z"
   },
   {
    "duration": 5,
    "start_time": "2021-08-05T08:09:19.772Z"
   },
   {
    "duration": 15,
    "start_time": "2021-08-05T08:09:56.565Z"
   },
   {
    "duration": 5621,
    "start_time": "2021-08-05T08:12:46.166Z"
   },
   {
    "duration": 5,
    "start_time": "2021-08-05T08:12:54.193Z"
   },
   {
    "duration": 101,
    "start_time": "2021-08-05T08:13:05.082Z"
   },
   {
    "duration": 61,
    "start_time": "2021-08-05T08:16:51.123Z"
   },
   {
    "duration": 260,
    "start_time": "2021-08-05T08:17:18.532Z"
   },
   {
    "duration": 5,
    "start_time": "2021-08-05T08:17:20.371Z"
   },
   {
    "duration": 13,
    "start_time": "2021-08-05T08:17:46.323Z"
   },
   {
    "duration": 17094,
    "start_time": "2021-08-05T08:19:40.256Z"
   },
   {
    "duration": 6,
    "start_time": "2021-08-05T08:20:27.059Z"
   },
   {
    "duration": 26,
    "start_time": "2021-08-05T08:20:31.016Z"
   },
   {
    "duration": 8425,
    "start_time": "2021-08-05T08:21:48.175Z"
   },
   {
    "duration": 5,
    "start_time": "2021-08-05T08:22:12.245Z"
   },
   {
    "duration": 47,
    "start_time": "2021-08-05T08:22:37.906Z"
   },
   {
    "duration": 1541,
    "start_time": "2021-08-05T08:23:34.412Z"
   },
   {
    "duration": 46,
    "start_time": "2021-08-05T08:23:35.956Z"
   },
   {
    "duration": 14,
    "start_time": "2021-08-05T08:23:36.006Z"
   },
   {
    "duration": 23,
    "start_time": "2021-08-05T08:23:36.023Z"
   },
   {
    "duration": 97,
    "start_time": "2021-08-05T08:23:36.049Z"
   },
   {
    "duration": 6,
    "start_time": "2021-08-05T08:23:36.149Z"
   },
   {
    "duration": 6,
    "start_time": "2021-08-05T08:23:36.181Z"
   },
   {
    "duration": 12,
    "start_time": "2021-08-05T08:23:36.191Z"
   },
   {
    "duration": 385,
    "start_time": "2021-08-05T08:23:36.206Z"
   },
   {
    "duration": 318,
    "start_time": "2021-08-05T08:23:36.593Z"
   },
   {
    "duration": 11,
    "start_time": "2021-08-05T08:23:36.913Z"
   },
   {
    "duration": 28,
    "start_time": "2021-08-05T08:23:36.927Z"
   },
   {
    "duration": 32,
    "start_time": "2021-08-05T08:23:36.958Z"
   },
   {
    "duration": 13,
    "start_time": "2021-08-05T08:23:36.993Z"
   },
   {
    "duration": 15,
    "start_time": "2021-08-05T08:23:37.009Z"
   },
   {
    "duration": 56,
    "start_time": "2021-08-05T08:23:37.026Z"
   },
   {
    "duration": 1017,
    "start_time": "2021-08-05T08:23:37.084Z"
   },
   {
    "duration": 9,
    "start_time": "2021-08-05T08:23:38.103Z"
   },
   {
    "duration": 9,
    "start_time": "2021-08-05T08:23:38.115Z"
   },
   {
    "duration": 469,
    "start_time": "2021-08-05T08:23:38.127Z"
   },
   {
    "duration": 311,
    "start_time": "2021-08-05T08:23:38.598Z"
   },
   {
    "duration": 21,
    "start_time": "2021-08-05T08:23:38.911Z"
   },
   {
    "duration": 52,
    "start_time": "2021-08-05T08:23:38.941Z"
   },
   {
    "duration": 696,
    "start_time": "2021-08-05T08:23:38.998Z"
   },
   {
    "duration": 705,
    "start_time": "2021-08-05T08:23:39.698Z"
   },
   {
    "duration": 826,
    "start_time": "2021-08-05T08:23:40.405Z"
   },
   {
    "duration": 301,
    "start_time": "2021-08-05T08:23:41.234Z"
   },
   {
    "duration": 7,
    "start_time": "2021-08-05T08:23:41.538Z"
   },
   {
    "duration": 699,
    "start_time": "2021-08-05T08:23:41.547Z"
   },
   {
    "duration": 11,
    "start_time": "2021-08-05T08:23:42.249Z"
   },
   {
    "duration": 43,
    "start_time": "2021-08-05T08:23:42.263Z"
   },
   {
    "duration": 12719,
    "start_time": "2021-08-05T08:23:42.308Z"
   },
   {
    "duration": 7,
    "start_time": "2021-08-05T08:23:55.030Z"
   },
   {
    "duration": 419,
    "start_time": "2021-08-05T08:23:55.040Z"
   },
   {
    "duration": 583,
    "start_time": "2021-08-05T08:23:55.462Z"
   },
   {
    "duration": 9,
    "start_time": "2021-08-05T08:23:56.048Z"
   },
   {
    "duration": 29,
    "start_time": "2021-08-05T08:23:56.059Z"
   },
   {
    "duration": 15,
    "start_time": "2021-08-05T08:23:56.090Z"
   },
   {
    "duration": 10,
    "start_time": "2021-08-05T08:23:56.107Z"
   },
   {
    "duration": 431,
    "start_time": "2021-08-05T08:23:56.119Z"
   },
   {
    "duration": 8,
    "start_time": "2021-08-05T08:23:56.552Z"
   },
   {
    "duration": 30,
    "start_time": "2021-08-05T08:23:56.563Z"
   },
   {
    "duration": 8,
    "start_time": "2021-08-05T08:23:56.596Z"
   },
   {
    "duration": 336,
    "start_time": "2021-08-05T08:23:56.607Z"
   },
   {
    "duration": 8,
    "start_time": "2021-08-05T08:23:56.945Z"
   },
   {
    "duration": 29,
    "start_time": "2021-08-05T08:23:56.956Z"
   },
   {
    "duration": 59,
    "start_time": "2021-08-05T08:23:56.988Z"
   },
   {
    "duration": 35,
    "start_time": "2021-08-05T08:23:57.049Z"
   },
   {
    "duration": 8,
    "start_time": "2021-08-05T08:23:57.086Z"
   },
   {
    "duration": 11,
    "start_time": "2021-08-05T08:23:57.096Z"
   },
   {
    "duration": 82,
    "start_time": "2021-08-05T08:23:57.109Z"
   },
   {
    "duration": 12,
    "start_time": "2021-08-05T08:23:57.193Z"
   },
   {
    "duration": 20,
    "start_time": "2021-08-05T08:23:57.207Z"
   },
   {
    "duration": 18,
    "start_time": "2021-08-05T08:23:57.229Z"
   },
   {
    "duration": 36,
    "start_time": "2021-08-05T08:23:57.249Z"
   },
   {
    "duration": 12,
    "start_time": "2021-08-05T08:23:57.287Z"
   },
   {
    "duration": 5,
    "start_time": "2021-08-05T08:23:57.301Z"
   },
   {
    "duration": 14,
    "start_time": "2021-08-05T08:23:57.308Z"
   },
   {
    "duration": 5,
    "start_time": "2021-08-05T08:23:57.324Z"
   },
   {
    "duration": 51,
    "start_time": "2021-08-05T08:23:57.331Z"
   },
   {
    "duration": 34,
    "start_time": "2021-08-05T08:23:57.384Z"
   },
   {
    "duration": 17,
    "start_time": "2021-08-05T08:23:57.420Z"
   },
   {
    "duration": 44,
    "start_time": "2021-08-05T08:23:57.440Z"
   },
   {
    "duration": 239,
    "start_time": "2021-08-05T08:23:57.487Z"
   },
   {
    "duration": 544,
    "start_time": "2021-08-05T08:23:57.728Z"
   },
   {
    "duration": 9,
    "start_time": "2021-08-05T08:23:58.275Z"
   },
   {
    "duration": 14,
    "start_time": "2021-08-05T08:23:58.287Z"
   },
   {
    "duration": 9,
    "start_time": "2021-08-05T08:23:58.310Z"
   },
   {
    "duration": 236,
    "start_time": "2021-08-05T08:23:58.322Z"
   },
   {
    "duration": 23,
    "start_time": "2021-08-05T08:23:58.561Z"
   },
   {
    "duration": 9,
    "start_time": "2021-08-05T08:23:58.587Z"
   },
   {
    "duration": 10,
    "start_time": "2021-08-05T08:23:58.599Z"
   },
   {
    "duration": 8,
    "start_time": "2021-08-05T08:23:58.612Z"
   },
   {
    "duration": 12,
    "start_time": "2021-08-05T08:23:58.623Z"
   },
   {
    "duration": 17426,
    "start_time": "2021-08-05T08:23:58.699Z"
   },
   {
    "duration": 7,
    "start_time": "2021-08-05T08:24:16.128Z"
   },
   {
    "duration": 20,
    "start_time": "2021-08-05T08:24:16.137Z"
   },
   {
    "duration": 5,
    "start_time": "2021-08-05T08:24:16.183Z"
   },
   {
    "duration": 43801,
    "start_time": "2021-08-05T08:24:16.191Z"
   },
   {
    "duration": 6,
    "start_time": "2021-08-05T08:24:59.994Z"
   },
   {
    "duration": 10,
    "start_time": "2021-08-05T08:25:00.003Z"
   },
   {
    "duration": 155,
    "start_time": "2021-08-05T08:25:00.016Z"
   },
   {
    "duration": 32,
    "start_time": "2021-08-05T08:25:00.173Z"
   },
   {
    "duration": 8338,
    "start_time": "2021-08-05T08:25:00.208Z"
   },
   {
    "duration": 5,
    "start_time": "2021-08-05T08:25:08.548Z"
   },
   {
    "duration": 50,
    "start_time": "2021-08-05T08:25:08.556Z"
   },
   {
    "duration": 5373,
    "start_time": "2021-08-05T08:25:08.609Z"
   },
   {
    "duration": 94,
    "start_time": "2021-08-05T08:25:13.994Z"
   },
   {
    "duration": 91,
    "start_time": "2021-08-05T08:25:14.090Z"
   },
   {
    "duration": 316,
    "start_time": "2021-08-05T08:25:14.185Z"
   },
   {
    "duration": 7,
    "start_time": "2021-08-05T08:25:14.503Z"
   },
   {
    "duration": 11,
    "start_time": "2021-08-05T08:25:14.513Z"
   },
   {
    "duration": 13022,
    "start_time": "2021-08-05T08:25:14.527Z"
   },
   {
    "duration": 6,
    "start_time": "2021-08-05T08:25:27.551Z"
   },
   {
    "duration": 41,
    "start_time": "2021-08-05T08:25:27.560Z"
   },
   {
    "duration": 8382,
    "start_time": "2021-08-05T08:25:27.604Z"
   },
   {
    "duration": 5,
    "start_time": "2021-08-05T08:25:35.988Z"
   },
   {
    "duration": 58,
    "start_time": "2021-08-05T08:25:35.996Z"
   },
   {
    "duration": 50,
    "start_time": "2021-08-05T08:25:36.057Z"
   },
   {
    "duration": 76,
    "start_time": "2021-08-05T08:25:36.110Z"
   },
   {
    "duration": 118,
    "start_time": "2021-08-05T08:25:36.189Z"
   },
   {
    "duration": 10,
    "start_time": "2021-08-05T08:25:36.310Z"
   },
   {
    "duration": 237,
    "start_time": "2021-08-05T08:25:36.323Z"
   },
   {
    "duration": 141,
    "start_time": "2021-08-05T08:25:36.563Z"
   },
   {
    "duration": 6,
    "start_time": "2021-08-05T08:25:36.707Z"
   },
   {
    "duration": 278,
    "start_time": "2021-08-05T08:25:36.716Z"
   },
   {
    "duration": 7,
    "start_time": "2021-08-05T08:25:36.996Z"
   },
   {
    "duration": 168,
    "start_time": "2021-08-05T08:25:37.006Z"
   },
   {
    "duration": 308,
    "start_time": "2021-08-05T08:25:37.176Z"
   },
   {
    "duration": 277,
    "start_time": "2021-08-05T08:25:37.486Z"
   },
   {
    "duration": 18,
    "start_time": "2021-08-05T08:25:37.766Z"
   },
   {
    "duration": 289,
    "start_time": "2021-08-05T08:25:37.786Z"
   },
   {
    "duration": 10,
    "start_time": "2021-08-05T08:25:38.078Z"
   },
   {
    "duration": 5207,
    "start_time": "2021-08-05T08:28:57.876Z"
   },
   {
    "duration": 6,
    "start_time": "2021-08-05T08:29:05.041Z"
   },
   {
    "duration": 54,
    "start_time": "2021-08-05T08:29:10.930Z"
   },
   {
    "duration": 100,
    "start_time": "2021-08-05T08:44:46.249Z"
   },
   {
    "duration": 17,
    "start_time": "2021-08-05T08:44:50.534Z"
   },
   {
    "duration": 8,
    "start_time": "2021-08-05T08:45:56.484Z"
   },
   {
    "duration": 9,
    "start_time": "2021-08-05T08:47:12.650Z"
   },
   {
    "duration": 566,
    "start_time": "2021-08-05T08:48:41.873Z"
   },
   {
    "duration": 291,
    "start_time": "2021-08-05T09:02:45.576Z"
   },
   {
    "duration": 6,
    "start_time": "2021-08-05T09:02:47.926Z"
   },
   {
    "duration": 108,
    "start_time": "2021-08-05T09:03:41.114Z"
   },
   {
    "duration": 5,
    "start_time": "2021-08-05T09:03:43.010Z"
   },
   {
    "duration": 269,
    "start_time": "2021-08-05T09:04:41.498Z"
   },
   {
    "duration": 5,
    "start_time": "2021-08-05T09:04:46.674Z"
   },
   {
    "duration": 11,
    "start_time": "2021-08-05T09:04:51.315Z"
   },
   {
    "duration": 109,
    "start_time": "2021-08-05T09:05:14.144Z"
   },
   {
    "duration": 5,
    "start_time": "2021-08-05T09:05:16.198Z"
   },
   {
    "duration": 15,
    "start_time": "2021-08-05T09:05:17.957Z"
   },
   {
    "duration": 382,
    "start_time": "2021-08-05T09:16:57.711Z"
   },
   {
    "duration": 374,
    "start_time": "2021-08-05T09:17:23.537Z"
   },
   {
    "duration": 6,
    "start_time": "2021-08-05T09:17:30.000Z"
   },
   {
    "duration": 15,
    "start_time": "2021-08-05T09:17:43.028Z"
   },
   {
    "duration": 348,
    "start_time": "2021-08-05T09:18:00.699Z"
   },
   {
    "duration": 241,
    "start_time": "2021-08-05T09:18:52.709Z"
   },
   {
    "duration": 237,
    "start_time": "2021-08-05T09:22:38.273Z"
   },
   {
    "duration": 575,
    "start_time": "2021-08-05T09:25:40.773Z"
   },
   {
    "duration": 290,
    "start_time": "2021-08-05T09:25:57.712Z"
   },
   {
    "duration": 307,
    "start_time": "2021-08-05T09:29:31.079Z"
   },
   {
    "duration": 329,
    "start_time": "2021-08-05T09:33:35.562Z"
   },
   {
    "duration": 6,
    "start_time": "2021-08-05T09:33:50.857Z"
   },
   {
    "duration": 260,
    "start_time": "2021-08-05T09:33:57.920Z"
   },
   {
    "duration": 415,
    "start_time": "2021-08-05T09:37:22.218Z"
   },
   {
    "duration": 5,
    "start_time": "2021-08-05T09:46:33.172Z"
   },
   {
    "duration": 373,
    "start_time": "2021-08-05T09:50:34.381Z"
   },
   {
    "duration": 5,
    "start_time": "2021-08-05T09:50:41.485Z"
   },
   {
    "duration": 12,
    "start_time": "2021-08-05T09:50:51.459Z"
   },
   {
    "duration": 24716,
    "start_time": "2021-08-05T09:57:54.409Z"
   },
   {
    "duration": 6,
    "start_time": "2021-08-05T09:58:23.170Z"
   },
   {
    "duration": 29,
    "start_time": "2021-08-05T09:58:40.111Z"
   },
   {
    "duration": 17804,
    "start_time": "2021-08-05T10:00:25.507Z"
   },
   {
    "duration": 5,
    "start_time": "2021-08-05T10:00:46.028Z"
   },
   {
    "duration": 47,
    "start_time": "2021-08-05T10:00:54.708Z"
   },
   {
    "duration": 11131,
    "start_time": "2021-08-05T10:07:44.752Z"
   },
   {
    "duration": 6,
    "start_time": "2021-08-05T10:08:09.996Z"
   },
   {
    "duration": 14,
    "start_time": "2021-08-05T10:08:15.056Z"
   },
   {
    "duration": 321,
    "start_time": "2021-08-05T10:21:02.274Z"
   },
   {
    "duration": 133,
    "start_time": "2021-08-05T10:21:10.051Z"
   },
   {
    "duration": 339,
    "start_time": "2021-08-05T10:22:31.230Z"
   },
   {
    "duration": 128,
    "start_time": "2021-08-05T10:22:33.962Z"
   },
   {
    "duration": 328,
    "start_time": "2021-08-05T10:22:39.382Z"
   },
   {
    "duration": 9,
    "start_time": "2021-08-05T10:25:03.753Z"
   },
   {
    "duration": 255,
    "start_time": "2021-08-05T10:25:13.693Z"
   },
   {
    "duration": 265,
    "start_time": "2021-08-05T10:27:56.987Z"
   },
   {
    "duration": 321,
    "start_time": "2021-08-05T10:28:20.563Z"
   },
   {
    "duration": 272,
    "start_time": "2021-08-05T10:28:23.387Z"
   },
   {
    "duration": 262,
    "start_time": "2021-08-05T10:28:30.271Z"
   },
   {
    "duration": 8,
    "start_time": "2021-08-05T10:28:34.870Z"
   },
   {
    "duration": 249,
    "start_time": "2021-08-05T10:30:25.040Z"
   },
   {
    "duration": 8,
    "start_time": "2021-08-05T10:30:42.327Z"
   },
   {
    "duration": 445,
    "start_time": "2021-08-05T10:36:26.504Z"
   },
   {
    "duration": 30,
    "start_time": "2021-08-05T10:41:07.624Z"
   },
   {
    "duration": 42,
    "start_time": "2021-08-05T10:47:58.225Z"
   },
   {
    "duration": 432,
    "start_time": "2021-08-05T10:48:12.015Z"
   },
   {
    "duration": 32,
    "start_time": "2021-08-05T10:48:31.577Z"
   },
   {
    "duration": 1574,
    "start_time": "2021-08-05T10:48:49.914Z"
   },
   {
    "duration": 34,
    "start_time": "2021-08-05T10:48:51.490Z"
   },
   {
    "duration": 12,
    "start_time": "2021-08-05T10:48:51.526Z"
   },
   {
    "duration": 21,
    "start_time": "2021-08-05T10:48:51.541Z"
   },
   {
    "duration": 74,
    "start_time": "2021-08-05T10:48:51.564Z"
   },
   {
    "duration": 7,
    "start_time": "2021-08-05T10:48:51.641Z"
   },
   {
    "duration": 33,
    "start_time": "2021-08-05T10:48:51.650Z"
   },
   {
    "duration": 6,
    "start_time": "2021-08-05T10:48:51.687Z"
   },
   {
    "duration": 379,
    "start_time": "2021-08-05T10:48:51.696Z"
   },
   {
    "duration": 323,
    "start_time": "2021-08-05T10:48:52.078Z"
   },
   {
    "duration": 11,
    "start_time": "2021-08-05T10:48:52.404Z"
   },
   {
    "duration": 27,
    "start_time": "2021-08-05T10:48:52.418Z"
   },
   {
    "duration": 42,
    "start_time": "2021-08-05T10:48:52.448Z"
   },
   {
    "duration": 15,
    "start_time": "2021-08-05T10:48:52.493Z"
   },
   {
    "duration": 16,
    "start_time": "2021-08-05T10:48:52.511Z"
   },
   {
    "duration": 62,
    "start_time": "2021-08-05T10:48:52.530Z"
   },
   {
    "duration": 1017,
    "start_time": "2021-08-05T10:48:52.595Z"
   },
   {
    "duration": 11,
    "start_time": "2021-08-05T10:48:53.615Z"
   },
   {
    "duration": 16,
    "start_time": "2021-08-05T10:48:53.629Z"
   },
   {
    "duration": 484,
    "start_time": "2021-08-05T10:48:53.648Z"
   },
   {
    "duration": 328,
    "start_time": "2021-08-05T10:48:54.135Z"
   },
   {
    "duration": 29,
    "start_time": "2021-08-05T10:48:54.466Z"
   },
   {
    "duration": 26,
    "start_time": "2021-08-05T10:48:54.501Z"
   },
   {
    "duration": 681,
    "start_time": "2021-08-05T10:48:54.532Z"
   },
   {
    "duration": 543,
    "start_time": "2021-08-05T10:48:55.216Z"
   },
   {
    "duration": 599,
    "start_time": "2021-08-05T10:48:55.762Z"
   },
   {
    "duration": 222,
    "start_time": "2021-08-05T10:48:56.363Z"
   },
   {
    "duration": 5,
    "start_time": "2021-08-05T10:48:56.587Z"
   },
   {
    "duration": 505,
    "start_time": "2021-08-05T10:48:56.594Z"
   },
   {
    "duration": 9,
    "start_time": "2021-08-05T10:48:57.101Z"
   },
   {
    "duration": 25,
    "start_time": "2021-08-05T10:48:57.112Z"
   },
   {
    "duration": 10045,
    "start_time": "2021-08-05T10:48:57.139Z"
   },
   {
    "duration": 5,
    "start_time": "2021-08-05T10:49:07.187Z"
   },
   {
    "duration": 409,
    "start_time": "2021-08-05T10:49:07.195Z"
   },
   {
    "duration": 493,
    "start_time": "2021-08-05T10:49:07.606Z"
   },
   {
    "duration": 7,
    "start_time": "2021-08-05T10:49:08.102Z"
   },
   {
    "duration": 9,
    "start_time": "2021-08-05T10:49:08.111Z"
   },
   {
    "duration": 7,
    "start_time": "2021-08-05T10:49:08.122Z"
   },
   {
    "duration": 8,
    "start_time": "2021-08-05T10:49:08.131Z"
   },
   {
    "duration": 355,
    "start_time": "2021-08-05T10:49:08.141Z"
   },
   {
    "duration": 9,
    "start_time": "2021-08-05T10:49:08.498Z"
   },
   {
    "duration": 18,
    "start_time": "2021-08-05T10:49:08.509Z"
   },
   {
    "duration": 7,
    "start_time": "2021-08-05T10:49:08.530Z"
   },
   {
    "duration": 336,
    "start_time": "2021-08-05T10:49:08.540Z"
   },
   {
    "duration": 8,
    "start_time": "2021-08-05T10:49:08.882Z"
   },
   {
    "duration": 15,
    "start_time": "2021-08-05T10:49:08.893Z"
   },
   {
    "duration": 77,
    "start_time": "2021-08-05T10:49:08.910Z"
   },
   {
    "duration": 13,
    "start_time": "2021-08-05T10:49:08.989Z"
   },
   {
    "duration": 10,
    "start_time": "2021-08-05T10:49:09.004Z"
   },
   {
    "duration": 14,
    "start_time": "2021-08-05T10:49:09.017Z"
   },
   {
    "duration": 112,
    "start_time": "2021-08-05T10:49:09.033Z"
   },
   {
    "duration": 14,
    "start_time": "2021-08-05T10:49:09.148Z"
   },
   {
    "duration": 32,
    "start_time": "2021-08-05T10:49:09.165Z"
   },
   {
    "duration": 23,
    "start_time": "2021-08-05T10:49:09.199Z"
   },
   {
    "duration": 6,
    "start_time": "2021-08-05T10:49:09.225Z"
   },
   {
    "duration": 12,
    "start_time": "2021-08-05T10:49:09.234Z"
   },
   {
    "duration": 35,
    "start_time": "2021-08-05T10:49:09.249Z"
   },
   {
    "duration": 16,
    "start_time": "2021-08-05T10:49:09.286Z"
   },
   {
    "duration": 5,
    "start_time": "2021-08-05T10:49:09.305Z"
   },
   {
    "duration": 7,
    "start_time": "2021-08-05T10:49:09.314Z"
   },
   {
    "duration": 90,
    "start_time": "2021-08-05T10:49:09.324Z"
   },
   {
    "duration": 16,
    "start_time": "2021-08-05T10:49:09.417Z"
   },
   {
    "duration": 14,
    "start_time": "2021-08-05T10:49:09.435Z"
   },
   {
    "duration": 244,
    "start_time": "2021-08-05T10:49:09.452Z"
   },
   {
    "duration": 549,
    "start_time": "2021-08-05T10:49:09.698Z"
   },
   {
    "duration": 5,
    "start_time": "2021-08-05T10:49:10.249Z"
   },
   {
    "duration": 27,
    "start_time": "2021-08-05T10:49:10.258Z"
   },
   {
    "duration": 10,
    "start_time": "2021-08-05T10:49:10.294Z"
   },
   {
    "duration": 305,
    "start_time": "2021-08-05T10:49:10.309Z"
   },
   {
    "duration": 10,
    "start_time": "2021-08-05T10:49:10.617Z"
   },
   {
    "duration": 7,
    "start_time": "2021-08-05T10:49:10.629Z"
   },
   {
    "duration": 7,
    "start_time": "2021-08-05T10:49:10.639Z"
   },
   {
    "duration": 6,
    "start_time": "2021-08-05T10:49:10.683Z"
   },
   {
    "duration": 9,
    "start_time": "2021-08-05T10:49:10.691Z"
   },
   {
    "duration": 12579,
    "start_time": "2021-08-05T10:49:10.703Z"
   },
   {
    "duration": 6,
    "start_time": "2021-08-05T10:49:23.284Z"
   },
   {
    "duration": 32,
    "start_time": "2021-08-05T10:49:23.292Z"
   },
   {
    "duration": 10,
    "start_time": "2021-08-05T10:49:23.327Z"
   },
   {
    "duration": 30856,
    "start_time": "2021-08-05T10:49:23.339Z"
   },
   {
    "duration": 4,
    "start_time": "2021-08-05T10:49:54.198Z"
   },
   {
    "duration": 6,
    "start_time": "2021-08-05T10:49:54.205Z"
   },
   {
    "duration": 156,
    "start_time": "2021-08-05T10:49:54.213Z"
   },
   {
    "duration": 30,
    "start_time": "2021-08-05T10:49:54.372Z"
   },
   {
    "duration": 8458,
    "start_time": "2021-08-05T10:49:54.404Z"
   },
   {
    "duration": 7,
    "start_time": "2021-08-05T10:50:02.864Z"
   },
   {
    "duration": 37,
    "start_time": "2021-08-05T10:50:02.883Z"
   },
   {
    "duration": 8559,
    "start_time": "2021-08-05T10:50:02.922Z"
   },
   {
    "duration": 5,
    "start_time": "2021-08-05T10:50:11.484Z"
   },
   {
    "duration": 193,
    "start_time": "2021-08-05T10:50:11.491Z"
   },
   {
    "duration": 244,
    "start_time": "2021-08-05T10:50:11.686Z"
   },
   {
    "duration": 5,
    "start_time": "2021-08-05T10:50:11.933Z"
   },
   {
    "duration": 14,
    "start_time": "2021-08-05T10:50:11.940Z"
   },
   {
    "duration": 12728,
    "start_time": "2021-08-05T10:50:11.957Z"
   },
   {
    "duration": 5,
    "start_time": "2021-08-05T10:50:24.687Z"
   },
   {
    "duration": 42,
    "start_time": "2021-08-05T10:50:24.696Z"
   },
   {
    "duration": 11835,
    "start_time": "2021-08-05T10:50:24.741Z"
   },
   {
    "duration": 6,
    "start_time": "2021-08-05T10:50:36.579Z"
   },
   {
    "duration": 52,
    "start_time": "2021-08-05T10:50:36.588Z"
   },
   {
    "duration": 5742,
    "start_time": "2021-08-05T10:50:36.642Z"
   },
   {
    "duration": 96,
    "start_time": "2021-08-05T10:50:42.387Z"
   },
   {
    "duration": 97,
    "start_time": "2021-08-05T10:50:42.486Z"
   },
   {
    "duration": 105,
    "start_time": "2021-08-05T10:50:42.586Z"
   },
   {
    "duration": 20,
    "start_time": "2021-08-05T10:50:42.696Z"
   },
   {
    "duration": 9,
    "start_time": "2021-08-05T10:50:42.719Z"
   },
   {
    "duration": 12,
    "start_time": "2021-08-05T10:50:42.730Z"
   },
   {
    "duration": 474,
    "start_time": "2021-08-05T10:50:42.745Z"
   },
   {
    "duration": 5,
    "start_time": "2021-08-05T10:50:43.222Z"
   },
   {
    "duration": 409,
    "start_time": "2021-08-05T10:50:43.229Z"
   },
   {
    "duration": 5,
    "start_time": "2021-08-05T10:50:43.640Z"
   },
   {
    "duration": 23,
    "start_time": "2021-08-05T10:50:43.647Z"
   },
   {
    "duration": 25240,
    "start_time": "2021-08-05T10:50:43.673Z"
   },
   {
    "duration": 6,
    "start_time": "2021-08-05T10:51:08.916Z"
   },
   {
    "duration": 48,
    "start_time": "2021-08-05T10:51:08.925Z"
   },
   {
    "duration": 23557,
    "start_time": "2021-08-05T10:51:08.983Z"
   },
   {
    "duration": 6,
    "start_time": "2021-08-05T10:51:32.543Z"
   },
   {
    "duration": 69,
    "start_time": "2021-08-05T10:51:32.552Z"
   },
   {
    "duration": 13163,
    "start_time": "2021-08-05T10:51:32.624Z"
   },
   {
    "duration": 97,
    "start_time": "2021-08-05T10:51:45.793Z"
   },
   {
    "duration": 84,
    "start_time": "2021-08-05T10:51:45.893Z"
   },
   {
    "duration": 518,
    "start_time": "2021-08-05T10:51:45.985Z"
   },
   {
    "duration": 387,
    "start_time": "2021-08-05T10:51:46.506Z"
   },
   {
    "duration": 9,
    "start_time": "2021-08-05T10:51:46.896Z"
   },
   {
    "duration": 153,
    "start_time": "2021-08-05T10:51:46.907Z"
   },
   {
    "duration": 293,
    "start_time": "2021-08-05T10:51:47.063Z"
   },
   {
    "duration": 23,
    "start_time": "2021-08-05T10:51:47.359Z"
   },
   {
    "duration": 610,
    "start_time": "2021-08-05T10:51:47.386Z"
   },
   {
    "duration": 33,
    "start_time": "2021-08-05T10:51:47.999Z"
   },
   {
    "duration": 288,
    "start_time": "2021-08-05T10:51:48.034Z"
   },
   {
    "duration": 8,
    "start_time": "2021-08-05T10:51:48.324Z"
   },
   {
    "duration": 281,
    "start_time": "2021-08-05T10:51:48.335Z"
   },
   {
    "duration": 8,
    "start_time": "2021-08-05T10:51:48.619Z"
   },
   {
    "duration": 262,
    "start_time": "2021-08-05T11:06:11.253Z"
   },
   {
    "duration": 9,
    "start_time": "2021-08-05T11:06:15.474Z"
   },
   {
    "duration": 1516,
    "start_time": "2021-08-05T11:23:58.732Z"
   },
   {
    "duration": 34,
    "start_time": "2021-08-05T11:24:00.251Z"
   },
   {
    "duration": 12,
    "start_time": "2021-08-05T11:24:00.288Z"
   },
   {
    "duration": 24,
    "start_time": "2021-08-05T11:24:00.303Z"
   },
   {
    "duration": 99,
    "start_time": "2021-08-05T11:24:00.330Z"
   },
   {
    "duration": 6,
    "start_time": "2021-08-05T11:24:00.431Z"
   },
   {
    "duration": 16,
    "start_time": "2021-08-05T11:24:00.440Z"
   },
   {
    "duration": 26,
    "start_time": "2021-08-05T11:24:00.460Z"
   },
   {
    "duration": 387,
    "start_time": "2021-08-05T11:24:00.490Z"
   },
   {
    "duration": 318,
    "start_time": "2021-08-05T11:24:00.882Z"
   },
   {
    "duration": 11,
    "start_time": "2021-08-05T11:24:01.203Z"
   },
   {
    "duration": 29,
    "start_time": "2021-08-05T11:24:01.216Z"
   },
   {
    "duration": 37,
    "start_time": "2021-08-05T11:24:01.247Z"
   },
   {
    "duration": 14,
    "start_time": "2021-08-05T11:24:01.286Z"
   },
   {
    "duration": 26,
    "start_time": "2021-08-05T11:24:01.302Z"
   },
   {
    "duration": 24,
    "start_time": "2021-08-05T11:24:01.331Z"
   },
   {
    "duration": 1150,
    "start_time": "2021-08-05T11:24:01.357Z"
   },
   {
    "duration": 9,
    "start_time": "2021-08-05T11:24:02.509Z"
   },
   {
    "duration": 17,
    "start_time": "2021-08-05T11:24:02.520Z"
   },
   {
    "duration": 582,
    "start_time": "2021-08-05T11:24:02.540Z"
   },
   {
    "duration": 330,
    "start_time": "2021-08-05T11:24:03.125Z"
   },
   {
    "duration": 39,
    "start_time": "2021-08-05T11:24:03.458Z"
   },
   {
    "duration": 28,
    "start_time": "2021-08-05T11:24:03.505Z"
   },
   {
    "duration": 531,
    "start_time": "2021-08-05T11:24:03.537Z"
   },
   {
    "duration": 523,
    "start_time": "2021-08-05T11:24:04.070Z"
   },
   {
    "duration": 716,
    "start_time": "2021-08-05T11:24:04.596Z"
   },
   {
    "duration": 228,
    "start_time": "2021-08-05T11:24:05.315Z"
   },
   {
    "duration": 7,
    "start_time": "2021-08-05T11:24:05.546Z"
   },
   {
    "duration": 736,
    "start_time": "2021-08-05T11:24:05.556Z"
   },
   {
    "duration": 11,
    "start_time": "2021-08-05T11:24:06.295Z"
   },
   {
    "duration": 37,
    "start_time": "2021-08-05T11:24:06.309Z"
   },
   {
    "duration": 11316,
    "start_time": "2021-08-05T11:24:06.349Z"
   },
   {
    "duration": 15,
    "start_time": "2021-08-05T11:24:17.668Z"
   },
   {
    "duration": 413,
    "start_time": "2021-08-05T11:24:17.687Z"
   },
   {
    "duration": 515,
    "start_time": "2021-08-05T11:24:18.103Z"
   },
   {
    "duration": 10,
    "start_time": "2021-08-05T11:24:18.621Z"
   },
   {
    "duration": 11,
    "start_time": "2021-08-05T11:24:18.633Z"
   },
   {
    "duration": 39,
    "start_time": "2021-08-05T11:24:18.648Z"
   },
   {
    "duration": 9,
    "start_time": "2021-08-05T11:24:18.690Z"
   },
   {
    "duration": 338,
    "start_time": "2021-08-05T11:24:18.701Z"
   },
   {
    "duration": 9,
    "start_time": "2021-08-05T11:24:19.041Z"
   },
   {
    "duration": 44,
    "start_time": "2021-08-05T11:24:19.053Z"
   },
   {
    "duration": 9,
    "start_time": "2021-08-05T11:24:19.099Z"
   },
   {
    "duration": 474,
    "start_time": "2021-08-05T11:24:19.111Z"
   },
   {
    "duration": 9,
    "start_time": "2021-08-05T11:24:19.588Z"
   },
   {
    "duration": 15,
    "start_time": "2021-08-05T11:24:19.600Z"
   },
   {
    "duration": 92,
    "start_time": "2021-08-05T11:24:19.618Z"
   },
   {
    "duration": 14,
    "start_time": "2021-08-05T11:24:19.713Z"
   },
   {
    "duration": 10,
    "start_time": "2021-08-05T11:24:19.729Z"
   },
   {
    "duration": 46,
    "start_time": "2021-08-05T11:24:19.742Z"
   },
   {
    "duration": 56,
    "start_time": "2021-08-05T11:24:19.791Z"
   },
   {
    "duration": 12,
    "start_time": "2021-08-05T11:24:19.849Z"
   },
   {
    "duration": 17,
    "start_time": "2021-08-05T11:24:19.883Z"
   },
   {
    "duration": 17,
    "start_time": "2021-08-05T11:24:19.903Z"
   },
   {
    "duration": 6,
    "start_time": "2021-08-05T11:24:19.923Z"
   },
   {
    "duration": 12,
    "start_time": "2021-08-05T11:24:19.932Z"
   },
   {
    "duration": 6,
    "start_time": "2021-08-05T11:24:19.982Z"
   },
   {
    "duration": 11,
    "start_time": "2021-08-05T11:24:19.990Z"
   },
   {
    "duration": 5,
    "start_time": "2021-08-05T11:24:20.004Z"
   },
   {
    "duration": 10,
    "start_time": "2021-08-05T11:24:20.011Z"
   },
   {
    "duration": 88,
    "start_time": "2021-08-05T11:24:20.024Z"
   },
   {
    "duration": 16,
    "start_time": "2021-08-05T11:24:20.114Z"
   },
   {
    "duration": 19,
    "start_time": "2021-08-05T11:24:20.133Z"
   },
   {
    "duration": 323,
    "start_time": "2021-08-05T11:24:20.154Z"
   },
   {
    "duration": 741,
    "start_time": "2021-08-05T11:24:20.483Z"
   },
   {
    "duration": 6,
    "start_time": "2021-08-05T11:24:21.227Z"
   },
   {
    "duration": 13,
    "start_time": "2021-08-05T11:24:21.236Z"
   },
   {
    "duration": 8,
    "start_time": "2021-08-05T11:24:21.284Z"
   },
   {
    "duration": 238,
    "start_time": "2021-08-05T11:24:21.296Z"
   },
   {
    "duration": 9,
    "start_time": "2021-08-05T11:24:21.536Z"
   },
   {
    "duration": 8,
    "start_time": "2021-08-05T11:24:21.547Z"
   },
   {
    "duration": 8,
    "start_time": "2021-08-05T11:24:21.583Z"
   },
   {
    "duration": 9,
    "start_time": "2021-08-05T11:24:21.593Z"
   },
   {
    "duration": 14,
    "start_time": "2021-08-05T11:24:21.604Z"
   },
   {
    "duration": 12754,
    "start_time": "2021-08-05T11:24:21.621Z"
   },
   {
    "duration": 7,
    "start_time": "2021-08-05T11:24:34.378Z"
   },
   {
    "duration": 25,
    "start_time": "2021-08-05T11:24:34.387Z"
   },
   {
    "duration": 4,
    "start_time": "2021-08-05T11:24:34.414Z"
   },
   {
    "duration": 30974,
    "start_time": "2021-08-05T11:24:34.420Z"
   },
   {
    "duration": 5,
    "start_time": "2021-08-05T11:25:05.396Z"
   },
   {
    "duration": 13,
    "start_time": "2021-08-05T11:25:05.403Z"
   },
   {
    "duration": 146,
    "start_time": "2021-08-05T11:25:05.418Z"
   },
   {
    "duration": 30,
    "start_time": "2021-08-05T11:25:05.566Z"
   },
   {
    "duration": 8235,
    "start_time": "2021-08-05T11:25:05.598Z"
   },
   {
    "duration": 5,
    "start_time": "2021-08-05T11:25:13.835Z"
   },
   {
    "duration": 52,
    "start_time": "2021-08-05T11:25:13.843Z"
   },
   {
    "duration": 5591,
    "start_time": "2021-08-05T11:25:13.897Z"
   },
   {
    "duration": 95,
    "start_time": "2021-08-05T11:25:19.491Z"
   },
   {
    "duration": 97,
    "start_time": "2021-08-05T11:25:19.590Z"
   },
   {
    "duration": 314,
    "start_time": "2021-08-05T11:25:19.690Z"
   },
   {
    "duration": 5,
    "start_time": "2021-08-05T11:25:20.007Z"
   },
   {
    "duration": 22,
    "start_time": "2021-08-05T11:25:20.015Z"
   },
   {
    "duration": 12859,
    "start_time": "2021-08-05T11:25:20.040Z"
   },
   {
    "duration": 6,
    "start_time": "2021-08-05T11:25:32.902Z"
   },
   {
    "duration": 30,
    "start_time": "2021-08-05T11:25:32.911Z"
   },
   {
    "duration": 8480,
    "start_time": "2021-08-05T11:25:32.944Z"
   },
   {
    "duration": 7,
    "start_time": "2021-08-05T11:25:41.426Z"
   },
   {
    "duration": 81,
    "start_time": "2021-08-05T11:25:41.436Z"
   },
   {
    "duration": 5663,
    "start_time": "2021-08-05T11:25:41.520Z"
   },
   {
    "duration": 91,
    "start_time": "2021-08-05T11:25:47.191Z"
   },
   {
    "duration": 17,
    "start_time": "2021-08-05T11:25:47.285Z"
   },
   {
    "duration": 105,
    "start_time": "2021-08-05T11:25:47.384Z"
   },
   {
    "duration": 18,
    "start_time": "2021-08-05T11:25:47.492Z"
   },
   {
    "duration": 10,
    "start_time": "2021-08-05T11:25:47.513Z"
   },
   {
    "duration": 9,
    "start_time": "2021-08-05T11:25:47.526Z"
   },
   {
    "duration": 464,
    "start_time": "2021-08-05T11:25:47.537Z"
   },
   {
    "duration": 6,
    "start_time": "2021-08-05T11:25:48.003Z"
   },
   {
    "duration": 544,
    "start_time": "2021-08-05T11:25:48.011Z"
   },
   {
    "duration": 6,
    "start_time": "2021-08-05T11:25:48.558Z"
   },
   {
    "duration": 28,
    "start_time": "2021-08-05T11:25:48.566Z"
   },
   {
    "duration": 35538,
    "start_time": "2021-08-05T11:25:48.597Z"
   },
   {
    "duration": 6,
    "start_time": "2021-08-05T11:26:24.138Z"
   },
   {
    "duration": 49,
    "start_time": "2021-08-05T11:26:24.147Z"
   },
   {
    "duration": 24144,
    "start_time": "2021-08-05T11:26:24.199Z"
   },
   {
    "duration": 7,
    "start_time": "2021-08-05T11:26:48.345Z"
   },
   {
    "duration": 78,
    "start_time": "2021-08-05T11:26:48.354Z"
   },
   {
    "duration": 11561,
    "start_time": "2021-08-05T11:26:48.435Z"
   },
   {
    "duration": 12,
    "start_time": "2021-08-05T11:27:00.084Z"
   },
   {
    "duration": 12,
    "start_time": "2021-08-05T11:27:00.183Z"
   },
   {
    "duration": 513,
    "start_time": "2021-08-05T11:27:00.198Z"
   },
   {
    "duration": 286,
    "start_time": "2021-08-05T11:27:00.714Z"
   },
   {
    "duration": 10,
    "start_time": "2021-08-05T11:27:01.004Z"
   },
   {
    "duration": 163,
    "start_time": "2021-08-05T11:27:01.017Z"
   },
   {
    "duration": 280,
    "start_time": "2021-08-05T11:27:01.184Z"
   },
   {
    "duration": 22,
    "start_time": "2021-08-05T11:27:01.467Z"
   },
   {
    "duration": 479,
    "start_time": "2021-08-05T11:27:01.492Z"
   },
   {
    "duration": 35,
    "start_time": "2021-08-05T11:27:01.981Z"
   },
   {
    "duration": 291,
    "start_time": "2021-08-05T11:27:02.019Z"
   },
   {
    "duration": 9,
    "start_time": "2021-08-05T11:27:02.314Z"
   }
  ],
  "kernelspec": {
   "display_name": "Python 3",
   "language": "python",
   "name": "python3"
  },
  "language_info": {
   "codemirror_mode": {
    "name": "ipython",
    "version": 3
   },
   "file_extension": ".py",
   "mimetype": "text/x-python",
   "name": "python",
   "nbconvert_exporter": "python",
   "pygments_lexer": "ipython3",
   "version": "3.8.8"
  },
  "toc": {
   "base_numbering": 1,
   "nav_menu": {
    "height": "238px",
    "width": "335px"
   },
   "number_sections": true,
   "sideBar": true,
   "skip_h1_title": true,
   "title_cell": "Содержание",
   "title_sidebar": "Contents",
   "toc_cell": true,
   "toc_position": {
    "height": "calc(100% - 180px)",
    "left": "10px",
    "top": "150px",
    "width": "239px"
   },
   "toc_section_display": true,
   "toc_window_display": true
  }
 },
 "nbformat": 4,
 "nbformat_minor": 2
}

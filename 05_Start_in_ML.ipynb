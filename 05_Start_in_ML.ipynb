{
 "cells": [
  {
   "cell_type": "markdown",
   "metadata": {},
   "source": [
    "# Рекомендация тарифов"
   ]
  },
  {
   "cell_type": "markdown",
   "metadata": {},
   "source": [
    "<b>Описание задачи:</b>\n",
    "\n",
    "В вашем распоряжении данные о поведении клиентов, которые уже перешли на эти тарифы (из проекта курса «Статистический анализ данных»). Нужно построить модель для задачи классификации, которая выберет подходящий тариф. Предобработка данных не понадобится — вы её уже сделали в одном из прошлых проектов.\n",
    "\n",
    "Постройте модель с максимально большим значением *accuracy*. Чтобы сдать проект успешно, нужно довести долю правильных ответов по крайней мере до 0.75. Проверьте *accuracy* на тестовой выборке самостоятельно.\n",
    "\n",
    "<b>Краткое содержание проекта:</b>\n",
    "- Изучение общей информации о файле с данными.\n",
    "- Изучение столбцов и проверка данных.\n",
    "- Определение выборок для обучения и тестирования модели.\n",
    "- Изучение моделей.\n",
    "- Общий вывод.\n",
    "- Чек-лист проекта.\n",
    "\n",
    "<b>Автор проекта:</b>\n",
    "- Виктория Кускова, \n",
    "- студентка Яндекс.Практикума, 2021."
   ]
  },
  {
   "cell_type": "markdown",
   "metadata": {},
   "source": [
    "## Откройте и изучите файл"
   ]
  },
  {
   "cell_type": "code",
   "execution_count": 1,
   "metadata": {},
   "outputs": [],
   "source": [
    "#импорты библиотек и ключевые константы для проекта\n",
    "import pandas as pd\n",
    "import seaborn as sns\n",
    "import matplotlib.pyplot as plt\n",
    "from sklearn.tree import DecisionTreeClassifier\n",
    "from sklearn.ensemble import RandomForestClassifier\n",
    "from sklearn.linear_model import LogisticRegression\n",
    "from sklearn.metrics import accuracy_score\n",
    "from sklearn.model_selection import train_test_split"
   ]
  },
  {
   "cell_type": "code",
   "execution_count": 2,
   "metadata": {},
   "outputs": [],
   "source": [
    "#импорт файла с данными\n",
    "df = pd.read_csv('/datasets/users_behavior.csv')"
   ]
  },
  {
   "cell_type": "code",
   "execution_count": 3,
   "metadata": {},
   "outputs": [
    {
     "name": "stdout",
     "output_type": "stream",
     "text": [
      "<class 'pandas.core.frame.DataFrame'>\n",
      "RangeIndex: 3214 entries, 0 to 3213\n",
      "Data columns (total 5 columns):\n",
      "calls       3214 non-null float64\n",
      "minutes     3214 non-null float64\n",
      "messages    3214 non-null float64\n",
      "mb_used     3214 non-null float64\n",
      "is_ultra    3214 non-null int64\n",
      "dtypes: float64(4), int64(1)\n",
      "memory usage: 125.7 KB\n"
     ]
    }
   ],
   "source": [
    "#общая информация\n",
    "df.info()"
   ]
  },
  {
   "cell_type": "markdown",
   "metadata": {},
   "source": [
    "Видим, что у нас 3214 строк и 5 столбцов. Пропусков в столбцах нет. Посмотрим внимательнее на значение в столбцах и, на всякий случай, проверим слолбцы на другие потенциальные ошибки."
   ]
  },
  {
   "cell_type": "code",
   "execution_count": 4,
   "metadata": {},
   "outputs": [
    {
     "data": {
      "text/html": [
       "<div>\n",
       "<style scoped>\n",
       "    .dataframe tbody tr th:only-of-type {\n",
       "        vertical-align: middle;\n",
       "    }\n",
       "\n",
       "    .dataframe tbody tr th {\n",
       "        vertical-align: top;\n",
       "    }\n",
       "\n",
       "    .dataframe thead th {\n",
       "        text-align: right;\n",
       "    }\n",
       "</style>\n",
       "<table border=\"1\" class=\"dataframe\">\n",
       "  <thead>\n",
       "    <tr style=\"text-align: right;\">\n",
       "      <th></th>\n",
       "      <th>calls</th>\n",
       "      <th>minutes</th>\n",
       "      <th>messages</th>\n",
       "      <th>mb_used</th>\n",
       "      <th>is_ultra</th>\n",
       "    </tr>\n",
       "  </thead>\n",
       "  <tbody>\n",
       "    <tr>\n",
       "      <td>0</td>\n",
       "      <td>40.0</td>\n",
       "      <td>311.90</td>\n",
       "      <td>83.0</td>\n",
       "      <td>19915.42</td>\n",
       "      <td>0</td>\n",
       "    </tr>\n",
       "    <tr>\n",
       "      <td>1</td>\n",
       "      <td>85.0</td>\n",
       "      <td>516.75</td>\n",
       "      <td>56.0</td>\n",
       "      <td>22696.96</td>\n",
       "      <td>0</td>\n",
       "    </tr>\n",
       "    <tr>\n",
       "      <td>2</td>\n",
       "      <td>77.0</td>\n",
       "      <td>467.66</td>\n",
       "      <td>86.0</td>\n",
       "      <td>21060.45</td>\n",
       "      <td>0</td>\n",
       "    </tr>\n",
       "    <tr>\n",
       "      <td>3</td>\n",
       "      <td>106.0</td>\n",
       "      <td>745.53</td>\n",
       "      <td>81.0</td>\n",
       "      <td>8437.39</td>\n",
       "      <td>1</td>\n",
       "    </tr>\n",
       "    <tr>\n",
       "      <td>4</td>\n",
       "      <td>66.0</td>\n",
       "      <td>418.74</td>\n",
       "      <td>1.0</td>\n",
       "      <td>14502.75</td>\n",
       "      <td>0</td>\n",
       "    </tr>\n",
       "  </tbody>\n",
       "</table>\n",
       "</div>"
      ],
      "text/plain": [
       "   calls  minutes  messages   mb_used  is_ultra\n",
       "0   40.0   311.90      83.0  19915.42         0\n",
       "1   85.0   516.75      56.0  22696.96         0\n",
       "2   77.0   467.66      86.0  21060.45         0\n",
       "3  106.0   745.53      81.0   8437.39         1\n",
       "4   66.0   418.74       1.0  14502.75         0"
      ]
     },
     "execution_count": 4,
     "metadata": {},
     "output_type": "execute_result"
    }
   ],
   "source": [
    "df.head()"
   ]
  },
  {
   "cell_type": "markdown",
   "metadata": {},
   "source": [
    "Видим, что признаки, по котрым мы будем предсказывать - это столбцы calls, minutes, messages, mb_used. А целевой признак, который нам нужно будет предсказыать - is_ultra.\n",
    "\n",
    "Теперь посмотрим на данные по столбцам."
   ]
  },
  {
   "cell_type": "code",
   "execution_count": 5,
   "metadata": {},
   "outputs": [
    {
     "data": {
      "image/png": "[encoded data removed]",
      "text/plain": [
       "<Figure size 432x288 with 1 Axes>"
      ]
     },
     "metadata": {
      "needs_background": "light"
     },
     "output_type": "display_data"
    }
   ],
   "source": [
    "plt.title(\"Количество звонков, шт\", fontweight='bold', size='medium')\n",
    "plt.ylabel(\"Частота, шт\")\n",
    "sns.distplot(a=df['calls'], kde=False, rug=False, axlabel=\"Количество звонков, шт\")\n",
    "plt.show()"
   ]
  },
  {
   "cell_type": "code",
   "execution_count": 6,
   "metadata": {},
   "outputs": [
    {
     "data": {
      "image/png": "[encoded data removed]",
      "text/plain": [
       "<Figure size 432x288 with 1 Axes>"
      ]
     },
     "metadata": {
      "needs_background": "light"
     },
     "output_type": "display_data"
    }
   ],
   "source": [
    "plt.title(\"Продолжительность звонков, мин\", fontweight='bold', size='medium')\n",
    "plt.ylabel(\"Частота, шт\")\n",
    "sns.distplot(a=df['minutes'], kde=False, rug=False, axlabel=\"Продолжительность звонков, мин\")\n",
    "plt.show()"
   ]
  },
  {
   "cell_type": "code",
   "execution_count": 7,
   "metadata": {},
   "outputs": [
    {
     "data": {
      "image/png": "[encoded data removed]",
      "text/plain": [
       "<Figure size 432x288 with 1 Axes>"
      ]
     },
     "metadata": {
      "needs_background": "light"
     },
     "output_type": "display_data"
    }
   ],
   "source": [
    "plt.title(\"Количество сообщений, шт\", fontweight='bold', size='medium')\n",
    "plt.ylabel(\"Частота, шт\")\n",
    "sns.distplot(a=df['messages'], kde=False, rug=False, axlabel=\"Количество сообщений, шт\")\n",
    "plt.show()"
   ]
  },
  {
   "cell_type": "code",
   "execution_count": 8,
   "metadata": {},
   "outputs": [
    {
     "data": {
      "image/png": "[encoded data removed]",
      "text/plain": [
       "<Figure size 432x288 with 1 Axes>"
      ]
     },
     "metadata": {
      "needs_background": "light"
     },
     "output_type": "display_data"
    }
   ],
   "source": [
    "plt.title(\"Трафик интернета, МБ\", fontweight='bold', size='medium')\n",
    "plt.ylabel(\"Частота, шт\")\n",
    "sns.distplot(a=df['mb_used'], kde=False, rug=False, axlabel=\"Трафик интернета, МБ\")\n",
    "plt.show()"
   ]
  },
  {
   "cell_type": "markdown",
   "metadata": {},
   "source": [
    "Распределение данных выглядит нормально. Нет неожиданных пиков и выделяющихся значений.\n",
    "\n",
    "У данных по сообщениям есть пик в 0, но как мы выяснили в прошлом проекте, сообщения - это самая невостребованная функция, ей многие не пользуются. По второму месту по популярности была услуга звонков - в ней тоже видим небольшой пик в 0, но меньше чем по сообщениям. Это как раз сходится с прошлым анализом популярности.\n",
    "\n",
    "Самая популярная услуга была - интернет. И как мы видим у нее намного меньше нулевых значений, если сравнивать с другими услугами.\n",
    "\n",
    "Перейдем к дальнейшим шагам."
   ]
  },
  {
   "cell_type": "markdown",
   "metadata": {},
   "source": [
    "## Разбейте данные на выборки"
   ]
  },
  {
   "cell_type": "code",
   "execution_count": 9,
   "metadata": {},
   "outputs": [],
   "source": [
    "#определим признаки и целевой признак\n",
    "features = df.drop('is_ultra', axis=1) \n",
    "target = df['is_ultra']"
   ]
  },
  {
   "cell_type": "markdown",
   "metadata": {},
   "source": [
    "Выше мы разделили данные на признаки и целевой признак. Теперь нам необходимо создать выборки с данными:\n",
    "- тренировочную,\n",
    "- валидационную,\n",
    "- тестовую.\n",
    "\n",
    "Размеры тестовой и валидационной выборки обычно берутся равными. И валидационная выборка обычно состовлят 25% от совокупности тренировочная+валидационная. Если мы возьмем для тренировочной выборки 60%, для валидационной 20% и для тестовой 20%, то как раз эти условия выполнятся (равные выборки по 20% тестовая и валидационная, и 20% от 60%+20% - это как раз 25%).\n",
    "\n",
    "Чтобы получить финальную разбивку на 3 выборки нужно сначала поделить совокупность на 80% и 20%. А потом получившиеся 80% поделить на 75% и 25%."
   ]
  },
  {
   "cell_type": "code",
   "execution_count": 10,
   "metadata": {},
   "outputs": [],
   "source": [
    "#первое деление на тестовую выборку и оставшие данные\n",
    "features_temp, features_test, target_temp, target_test = train_test_split(\n",
    "    features, target, test_size=0.20, random_state=12345)"
   ]
  },
  {
   "cell_type": "markdown",
   "metadata": {},
   "source": [
    "Посмотрим на параметра тестовой выборки, которую мы отделили."
   ]
  },
  {
   "cell_type": "code",
   "execution_count": 11,
   "metadata": {},
   "outputs": [
    {
     "data": {
      "text/plain": [
       "((643, 4), (643,))"
      ]
     },
     "execution_count": 11,
     "metadata": {},
     "output_type": "execute_result"
    }
   ],
   "source": [
    "features_test.shape, target_test.shape"
   ]
  },
  {
   "cell_type": "markdown",
   "metadata": {},
   "source": [
    "Запомним и сравним с другими выборками."
   ]
  },
  {
   "cell_type": "code",
   "execution_count": 12,
   "metadata": {},
   "outputs": [],
   "source": [
    "#второе деление на тренировочную и валидационную выборки\n",
    "features_train, features_valid, target_train, target_valid = train_test_split(\n",
    "    features_temp, target_temp, test_size=0.25, random_state=12345) "
   ]
  },
  {
   "cell_type": "markdown",
   "metadata": {},
   "source": [
    "Посмотрим что у нас получилось."
   ]
  },
  {
   "cell_type": "code",
   "execution_count": 13,
   "metadata": {},
   "outputs": [
    {
     "data": {
      "text/plain": [
       "((1928, 4), (1928,))"
      ]
     },
     "execution_count": 13,
     "metadata": {},
     "output_type": "execute_result"
    }
   ],
   "source": [
    "features_train.shape, target_train.shape"
   ]
  },
  {
   "cell_type": "code",
   "execution_count": 14,
   "metadata": {},
   "outputs": [
    {
     "data": {
      "text/plain": [
       "((643, 4), (643,))"
      ]
     },
     "execution_count": 14,
     "metadata": {},
     "output_type": "execute_result"
    }
   ],
   "source": [
    "features_valid.shape, target_valid.shape"
   ]
  },
  {
   "cell_type": "markdown",
   "metadata": {},
   "source": [
    "Отлично, размеры валидационной выборки и тестовой равны. А тренировочная больше в 3 раза. (Уточнение: почти в 3 раза, из-за того, что изначальное число строк не делится на 5, именно на такое количество частей мы разбиваем 3+1+1, то существуют небольшое отклонение.)"
   ]
  },
  {
   "cell_type": "markdown",
   "metadata": {},
   "source": [
    "## Исследуйте модели"
   ]
  },
  {
   "cell_type": "markdown",
   "metadata": {},
   "source": [
    "Задача, которую нам необходимо выполнить - это задача классификации. Для задач такого типа можно использовать такие модели как:\n",
    "- решающее дерево;\n",
    "- случайный лес;\n",
    "- логистическая регрессия.\n",
    "\n",
    "Посмотрим на данные модели и как они справляются с нашей валидационной выборкой. Гипермараметры, которые будем рассматривать: глубину деревьев переберем от 1 до 10, а для модели случайного леса проверим количество деревьев от 1 до 10."
   ]
  },
  {
   "cell_type": "code",
   "execution_count": 15,
   "metadata": {},
   "outputs": [],
   "source": [
    "#модель решающее дерево\n",
    "best_model_decision_tree = None\n",
    "best_result_decision_tree = 0\n",
    "best_depth_decision_tree = 0\n",
    "\n",
    "for depth in range(1,11):\n",
    "    model = DecisionTreeClassifier(random_state=12345, max_depth=depth)\n",
    "    model.fit(features_train,target_train)\n",
    "    predictions_valid = model.predict(features_valid)\n",
    "    result = accuracy_score(target_valid, predictions_valid)\n",
    "    if result > best_result_decision_tree:\n",
    "        best_model_decision_tree = model\n",
    "        best_result_decision_tree = result\n",
    "        best_depth_decision_tree = depth"
   ]
  },
  {
   "cell_type": "code",
   "execution_count": 16,
   "metadata": {},
   "outputs": [
    {
     "data": {
      "text/plain": [
       "(0.7744945567651633, 7)"
      ]
     },
     "execution_count": 16,
     "metadata": {},
     "output_type": "execute_result"
    }
   ],
   "source": [
    "best_result_decision_tree, best_depth_decision_tree"
   ]
  },
  {
   "cell_type": "code",
   "execution_count": 17,
   "metadata": {},
   "outputs": [
    {
     "data": {
      "text/plain": [
       "0.8506224066390041"
      ]
     },
     "execution_count": 17,
     "metadata": {},
     "output_type": "execute_result"
    }
   ],
   "source": [
    "predictions_train = best_model_decision_tree.predict(features_train)\n",
    "accuracy_score(target_train, predictions_train)"
   ]
  },
  {
   "cell_type": "markdown",
   "metadata": {},
   "source": [
    "Отлично, мы уже нашли одну модель, которая на валидационной выборке показала результат accuracy больше 0,75 - целых 0,77. Глубина дерева при этом оказалась равна 7. Но на обучающей выборке модель показыват значительно лучшую метрику качества accuracy - 0,85 значит есть проблема переобучения (разница 8). Проверим другие типы моделей и сравним все показатели."
   ]
  },
  {
   "cell_type": "code",
   "execution_count": 18,
   "metadata": {},
   "outputs": [],
   "source": [
    "#модель случайный лес\n",
    "best_model_random_forest = None\n",
    "best_result_random_forest = 0\n",
    "best_depth_random_forest = 0\n",
    "best_est_random_forest = 0\n",
    "\n",
    "for est in range(1, 21):\n",
    "    for depth in range(1,11):\n",
    "        model = RandomForestClassifier(random_state=12345, max_depth=depth, n_estimators=est)\n",
    "        model.fit(features_train, target_train) \n",
    "        result = model.score(features_valid, target_valid)\n",
    "        if result > best_result_random_forest:\n",
    "            best_model_random_forest = model\n",
    "            best_result_random_forest = result\n",
    "            best_depth_random_forest = depth\n",
    "            best_est_random_forest = est"
   ]
  },
  {
   "cell_type": "code",
   "execution_count": 19,
   "metadata": {},
   "outputs": [
    {
     "data": {
      "text/plain": [
       "(0.7962674961119751, 9, 3)"
      ]
     },
     "execution_count": 19,
     "metadata": {},
     "output_type": "execute_result"
    }
   ],
   "source": [
    "best_result_random_forest, best_depth_random_forest, best_est_random_forest"
   ]
  },
  {
   "cell_type": "markdown",
   "metadata": {},
   "source": [
    "При работе модели случайного леса accuracy еще чуть выше! Всего 3 дерева, с глубиной 9. Accuracy при этом больше 0,79. А что будет если посмотреть с большим количеством деревьев? Проверим, но чтобы не перребирать огромное число вариантов, сделаем шаг в 10 деревьев."
   ]
  },
  {
   "cell_type": "code",
   "execution_count": 20,
   "metadata": {},
   "outputs": [],
   "source": [
    "#модель случайный лес 2\n",
    "best_model_random_forest_2 = None\n",
    "best_result_random_forest_2 = 0\n",
    "best_depth_random_forest_2 = 0\n",
    "best_est_random_forest_2 = 0\n",
    "\n",
    "for est in range(10, 51, 10):\n",
    "    for depth in range(1,11):\n",
    "        model = RandomForestClassifier(random_state=12345, max_depth=depth, n_estimators=est)\n",
    "        model.fit(features_train, target_train) \n",
    "        result = model.score(features_valid, target_valid)\n",
    "        if result > best_result_random_forest_2:\n",
    "            best_model_random_forest_2 = model\n",
    "            best_result_random_forest_2 = result\n",
    "            best_depth_random_forest_2 = depth\n",
    "            best_est_random_forest_2 = est"
   ]
  },
  {
   "cell_type": "code",
   "execution_count": 21,
   "metadata": {},
   "outputs": [
    {
     "data": {
      "text/plain": [
       "(0.7978227060653188, 10, 50)"
      ]
     },
     "execution_count": 21,
     "metadata": {},
     "output_type": "execute_result"
    }
   ],
   "source": [
    "best_result_random_forest_2, best_depth_random_forest_2, best_est_random_forest_2"
   ]
  },
  {
   "cell_type": "markdown",
   "metadata": {},
   "source": [
    "Accuracy выросла незначительно, зато и глубина и количество деревьев выросло значительно. Это сильно повышает скорость работы модели. Посмотрим на то, не переобучились ли наши модели."
   ]
  },
  {
   "cell_type": "code",
   "execution_count": 22,
   "metadata": {},
   "outputs": [
    {
     "data": {
      "text/plain": [
       "0.8651452282157677"
      ]
     },
     "execution_count": 22,
     "metadata": {},
     "output_type": "execute_result"
    }
   ],
   "source": [
    "predictions_train = best_model_random_forest.predict(features_train)\n",
    "accuracy_score(target_train, predictions_train)"
   ]
  },
  {
   "cell_type": "code",
   "execution_count": 23,
   "metadata": {},
   "outputs": [
    {
     "data": {
      "text/plain": [
       "0.8947095435684648"
      ]
     },
     "execution_count": 23,
     "metadata": {},
     "output_type": "execute_result"
    }
   ],
   "source": [
    "predictions_train = best_model_random_forest_2.predict(features_train)\n",
    "accuracy_score(target_train, predictions_train)"
   ]
  },
  {
   "cell_type": "markdown",
   "metadata": {},
   "source": [
    "Хоть вторая модель и более точная, видно, что проблема переобучения у нее больше (разница почти 10 в accuracy), чем у первой модели случайного леса (разница около 7). Пока явно выигрывает модель best_model_random_forest. Так как несмотря на незначительно большую accuracy, скорость работы и проблема переобучения у нее значительно выше.\n",
    "\n",
    "Проверим последний тип модели - Логистическую регрессию."
   ]
  },
  {
   "cell_type": "code",
   "execution_count": 24,
   "metadata": {},
   "outputs": [
    {
     "name": "stderr",
     "output_type": "stream",
     "text": [
      "/opt/conda/lib/python3.7/site-packages/sklearn/linear_model/logistic.py:432: FutureWarning: Default solver will be changed to 'lbfgs' in 0.22. Specify a solver to silence this warning.\n",
      "  FutureWarning)\n"
     ]
    }
   ],
   "source": [
    "#модель логистическая регрессия\n",
    "model_logistic_regression = LogisticRegression(random_state=12345)\n",
    "model_logistic_regression.fit(features_train, target_train)\n",
    "result_logistic_regression = model_logistic_regression.score(features_valid, target_valid) "
   ]
  },
  {
   "cell_type": "code",
   "execution_count": 25,
   "metadata": {},
   "outputs": [
    {
     "data": {
      "text/plain": [
       "0.6967340590979783"
      ]
     },
     "execution_count": 25,
     "metadata": {},
     "output_type": "execute_result"
    }
   ],
   "source": [
    "result_logistic_regression"
   ]
  },
  {
   "cell_type": "markdown",
   "metadata": {},
   "source": [
    "У модели логистической регресии accuracy значительно хуже, чем у решающего дерева и случайного леса. Accuracy даже меньше 0,75. К сожалению, на этой модели мы не станем останавливаться, так как она не выполняем даже необходимого условия нашей задачи."
   ]
  },
  {
   "cell_type": "markdown",
   "metadata": {},
   "source": [
    "## Проверьте модель на тестовой выборке"
   ]
  },
  {
   "cell_type": "markdown",
   "metadata": {},
   "source": [
    "Проверим на тестовой выборке все три модели, которые рассматривали выше."
   ]
  },
  {
   "cell_type": "code",
   "execution_count": 26,
   "metadata": {},
   "outputs": [
    {
     "data": {
      "text/plain": [
       "0.7884914463452566"
      ]
     },
     "execution_count": 26,
     "metadata": {},
     "output_type": "execute_result"
    }
   ],
   "source": [
    "#тест модели решающего дерева\n",
    "predictions_test = best_model_decision_tree.predict(features_test)\n",
    "accuracy_score(target_test, predictions_test)"
   ]
  },
  {
   "cell_type": "code",
   "execution_count": 27,
   "metadata": {},
   "outputs": [
    {
     "data": {
      "text/plain": [
       "0.7931570762052877"
      ]
     },
     "execution_count": 27,
     "metadata": {},
     "output_type": "execute_result"
    }
   ],
   "source": [
    "#тест модели рандомного леса\n",
    "predictions_test = best_model_random_forest.predict(features_test)\n",
    "accuracy_score(target_test, predictions_test)"
   ]
  },
  {
   "cell_type": "code",
   "execution_count": 28,
   "metadata": {},
   "outputs": [
    {
     "data": {
      "text/plain": [
       "0.7993779160186625"
      ]
     },
     "execution_count": 28,
     "metadata": {},
     "output_type": "execute_result"
    }
   ],
   "source": [
    "#тест модели рандомного леса 2\n",
    "predictions_test = best_model_random_forest_2.predict(features_test)\n",
    "accuracy_score(target_test, predictions_test)"
   ]
  },
  {
   "cell_type": "markdown",
   "metadata": {},
   "source": [
    "Все модели показали хорошие результаты. Несмотря на то, что лучший результат у модели случайного леса №2, при выборе модели для внедрения на производстве я буду рекомендовать модель случайного дерева номер 1. Так как ее показатели близки к модели №2, но она работает быстрее и проблема переобучения у нее меньше."
   ]
  },
  {
   "cell_type": "markdown",
   "metadata": {},
   "source": [
    "## (бонус) Проверьте модели на адекватность"
   ]
  },
  {
   "cell_type": "markdown",
   "metadata": {},
   "source": [
    "Сравним модели со случайной. Для нашей задачи классификации случайная модель - это та, которая случайно, с вероятностью 0,5 угадывает 1 или 0 будет искомое значение. Accuracy для такой модель будет считаться как: \n",
    "\n",
    "- Accuracy = Количество угаданных объектов / Количество объектов = (Количество угаданных 1 + Количество угаданных 0) / Количество объектов.\n",
    "\n",
    "Пусть всего объектов будет K, количество 1 = L, тогда количество 0 = K - L. Тогда \"количество угаданных 1\" для случайной модели будет 0,5L, а \"количество угаданных 0\" 0,5(K - L)\n",
    "\n",
    "- Accuracy = (0,5L + 0,5(K - L)) / K = 0,5((L+K-L)/K) = 0,5.\n",
    "\n",
    "Все три модели, которые мы тестировали имееют большую accuracy, поэтому они прошли проверку на адекватность."
   ]
  },
  {
   "cell_type": "markdown",
   "metadata": {},
   "source": [
    "## Общий вывод"
   ]
  },
  {
   "cell_type": "markdown",
   "metadata": {},
   "source": [
    "В данном проекте решалась задача классификации: выбор тарифа Смарт или Ультра для клиентов мобильного оператора.\n",
    "\n",
    "Признаки, по которым строилась модель - это столбцы количество звонков, количество минут, количество сообщений, трафик интернета. А целевой признак, который предсказывался - столбец с 1 и 0, где 1 - это тариф Ультра, а 0 - тариф Смарт.\n",
    "\n",
    "Данные были разделены на следующие выборки:\n",
    "- тренировочную, 60% и 1928 строк;\n",
    "- валидационную, 20% и 643 строки;\n",
    "- тестовую, 20% и 643 строки.\n",
    "\n",
    "Типы моделей и гиперпараметры, которые были рассмотрены:\n",
    "- решающее дерево (с макс. глубиной от 1 до 10);\n",
    "- случайный лес (с количестсвом деревьев от 1 до 20);\n",
    "- случайный лес № 2 (с количестсвом деревьев от 10 до 50 с шагом в 10);\n",
    "- логистическая регрессия.\n",
    "\n",
    "Необходимое условие для задачи accuracy = 0,75 достигли все модели кроме логистической регрессии. Поэтому дальнейшее тестирование было продолжено только с моделями решающего дерева и случайного леса.\n",
    "\n",
    "- решающее дерево, лучший результат: глубина 7, accuracy = 0,77;\n",
    "- случайный лес, лучший результат: количество деревьев 3, глубина 9, accuracy = 0,796;\n",
    "- случайный лес № 2, лучший результат: количество деревьев 50, глубина 10 , accuracy = 0,797;\n",
    "- логистическая регрессия, accuracy = 0,69.\n",
    "\n",
    "По оставшимся трем моделям их результат на тренировочной выборке был:\n",
    "- решающее дерево - 0,85, разница с валидационной около 8;\n",
    "- случайный лес - 0,86, разница с валидационной около 7;\n",
    "- случайный лес № 2 - 0,89, разница с валидационной около 10.\n",
    "\n",
    "А на тестовой выборке результат был:\n",
    "- решающее дерево - 0,788;\n",
    "- случайный лес - 0,793;\n",
    "- случайный лес № 2 - 0,799.\n",
    "\n",
    "Все три модели имеют accuracy больше 0,5, которую показала бы случайная модель, поэтому они прошли проверку на адекватность.\n",
    "\n",
    "Итого, все три модели выполнили необходимое условие задачи: имеют accuracy больше 0,75. Но для внедрения на продуктиве рекомендуется:\n",
    "- случайный лес, количество деревьев 3, глубина 9.\n",
    "\n",
    "У данной модели незначительное отставание от второй модели случайного леса по accuracy. Но при этом она меньше переобучена, а также имеет значительно меньшее число деревьев, и с меньшей глубиной, поэтому будет работать намного быстрее на большом количестве данных."
   ]
  },
  {
   "cell_type": "markdown",
   "metadata": {},
   "source": [
    "## Чек-лист готовности проекта"
   ]
  },
  {
   "cell_type": "markdown",
   "metadata": {},
   "source": [
    "Поставьте 'x' в выполненных пунктах. Далее нажмите Shift+Enter."
   ]
  },
  {
   "cell_type": "markdown",
   "metadata": {},
   "source": [
    "- [x] Jupyter Notebook открыт\n",
    "- [x] Весь код исполняется без ошибок\n",
    "- [x] Ячейки с кодом расположены в порядке исполнения\n",
    "- [x] Выполнено задание 1: данные загружены и изучены\n",
    "- [x] Выполнено задание 2: данные разбиты на три выборки\n",
    "- [x] Выполнено задание 3: проведено исследование моделей\n",
    "    - [x] Рассмотрено больше одной модели\n",
    "    - [x] Рассмотрено хотя бы 3 значения гипепараметров для какой-нибудь модели\n",
    "    - [x] Написаны выводы по результатам исследования\n",
    "- [x] Выполнено задание 3: Проведено тестирование\n",
    "- [x] Удалось достичь accuracy не меньше 0.75\n"
   ]
  }
 ],
 "metadata": {
  "kernelspec": {
   "display_name": "Python 3",
   "language": "python",
   "name": "python3"
  },
  "language_info": {
   "codemirror_mode": {
    "name": "ipython",
    "version": 3
   },
   "file_extension": ".py",
   "mimetype": "text/x-python",
   "name": "python",
   "nbconvert_exporter": "python",
   "pygments_lexer": "ipython3",
   "version": "3.8.8"
  },
  "toc": {
   "base_numbering": 1,
   "nav_menu": {},
   "number_sections": true,
   "sideBar": true,
   "skip_h1_title": true,
   "title_cell": "Table of Contents",
   "title_sidebar": "Contents",
   "toc_cell": false,
   "toc_position": {},
   "toc_section_display": true,
   "toc_window_display": true
  }
 },
 "nbformat": 4,
 "nbformat_minor": 2
}

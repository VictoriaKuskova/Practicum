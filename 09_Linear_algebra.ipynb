{
 "cells": [
  {
   "cell_type": "markdown",
   "metadata": {
    "toc": true
   },
   "source": [
    "<h1>Содержание<span class=\"tocSkip\"></span></h1>\n",
    "<div class=\"toc\"><ul class=\"toc-item\"><li><span><a href=\"#Введение\" data-toc-modified-id=\"Введение-1\"><span class=\"toc-item-num\">1&nbsp;&nbsp;</span>Введение</a></span></li><li><span><a href=\"#Загрузка-данных\" data-toc-modified-id=\"Загрузка-данных-2\"><span class=\"toc-item-num\">2&nbsp;&nbsp;</span>Загрузка данных</a></span><ul class=\"toc-item\"><li><span><a href=\"#Общая-информация\" data-toc-modified-id=\"Общая-информация-2.1\"><span class=\"toc-item-num\">2.1&nbsp;&nbsp;</span>Общая информация</a></span></li><li><span><a href=\"#Изучения-столбцов-и-проверка-данных\" data-toc-modified-id=\"Изучения-столбцов-и-проверка-данных-2.2\"><span class=\"toc-item-num\">2.2&nbsp;&nbsp;</span>Изучения столбцов и проверка данных</a></span></li></ul></li><li><span><a href=\"#Умножение-матриц\" data-toc-modified-id=\"Умножение-матриц-3\"><span class=\"toc-item-num\">3&nbsp;&nbsp;</span>Умножение матриц</a></span></li><li><span><a href=\"#Алгоритм-преобразования\" data-toc-modified-id=\"Алгоритм-преобразования-4\"><span class=\"toc-item-num\">4&nbsp;&nbsp;</span>Алгоритм преобразования</a></span></li><li><span><a href=\"#Проверка-алгоритма\" data-toc-modified-id=\"Проверка-алгоритма-5\"><span class=\"toc-item-num\">5&nbsp;&nbsp;</span>Проверка алгоритма</a></span></li><li><span><a href=\"#Вывод\" data-toc-modified-id=\"Вывод-6\"><span class=\"toc-item-num\">6&nbsp;&nbsp;</span>Вывод</a></span></li><li><span><a href=\"#Чек-лист-проверки\" data-toc-modified-id=\"Чек-лист-проверки-7\"><span class=\"toc-item-num\">7&nbsp;&nbsp;</span>Чек-лист проверки</a></span></li></ul></div>"
   ]
  },
  {
   "cell_type": "markdown",
   "metadata": {},
   "source": [
    "# Защита персональных данных клиентов"
   ]
  },
  {
   "cell_type": "markdown",
   "metadata": {},
   "source": [
    "## Введение"
   ]
  },
  {
   "cell_type": "markdown",
   "metadata": {},
   "source": [
    "В данном проекте мы решим задачу в рамках темы \"Линейная алгебра\", по проекту \"Защита персональных данных клиентов\".\n",
    "\n",
    "Ниже можно найти описание задачи, а также примерный план проекта.\n",
    "\n",
    "<b>Описание задачи:</b>\n",
    "\n",
    "Вам нужно защитить данные клиентов страховой компании «Хоть потоп». Разработайте такой метод преобразования данных, чтобы по ним было сложно восстановить персональную информацию. Обоснуйте корректность его работы.\n",
    "\n",
    "Нужно защитить данные, чтобы при преобразовании качество моделей машинного обучения не ухудшилось. Подбирать наилучшую модель не требуется.\n",
    "\n",
    "<b>План работы над проектом:</b>\n",
    "- Изучение общей информации о файле с данными.\n",
    "- Изучение столбцов и проверка данных.\n",
    "- Раскрытие теоритических вопросов.\n",
    "- Создание метода преобразования данных.\n",
    "- Обучение моделей.\n",
    "- Общий вывод.\n",
    "- Чек-лист проекта.\n",
    "\n",
    "<b>Автор проекта:</b>\n",
    "- Виктория Кускова, \n",
    "- студентка Яндекс.Практикума, 2021."
   ]
  },
  {
   "cell_type": "markdown",
   "metadata": {},
   "source": [
    "## Загрузка данных"
   ]
  },
  {
   "cell_type": "markdown",
   "metadata": {},
   "source": [
    "### Общая информация"
   ]
  },
  {
   "cell_type": "markdown",
   "metadata": {},
   "source": [
    "Выделим импорты всех библиотек, импорт файла с данными и общую информацию по нему в отдельные ячейки."
   ]
  },
  {
   "cell_type": "code",
   "execution_count": 1,
   "metadata": {},
   "outputs": [],
   "source": [
    "import pandas as pd\n",
    "import numpy as np\n",
    "import seaborn as sns\n",
    "import matplotlib.pyplot as plt\n",
    "from sklearn.linear_model import LinearRegression\n",
    "from sklearn.metrics import r2_score"
   ]
  },
  {
   "cell_type": "code",
   "execution_count": 2,
   "metadata": {},
   "outputs": [],
   "source": [
    "#импорт файла с данными\n",
    "df = pd.read_csv('/datasets/insurance.csv')"
   ]
  },
  {
   "cell_type": "code",
   "execution_count": 3,
   "metadata": {},
   "outputs": [
    {
     "name": "stdout",
     "output_type": "stream",
     "text": [
      "<class 'pandas.core.frame.DataFrame'>\n",
      "RangeIndex: 5000 entries, 0 to 4999\n",
      "Data columns (total 5 columns):\n",
      "Пол                  5000 non-null int64\n",
      "Возраст              5000 non-null float64\n",
      "Зарплата             5000 non-null float64\n",
      "Члены семьи          5000 non-null int64\n",
      "Страховые выплаты    5000 non-null int64\n",
      "dtypes: float64(2), int64(3)\n",
      "memory usage: 195.4 KB\n"
     ]
    }
   ],
   "source": [
    "df.info()"
   ]
  },
  {
   "cell_type": "markdown",
   "metadata": {},
   "source": [
    "В нашей таблице 5000 строк, 5 столбцов, 1 из которых - целевой признак.\n",
    "\n",
    "Пропусков нет, это хорошо. Посмотрим на первые строки датасета."
   ]
  },
  {
   "cell_type": "code",
   "execution_count": 4,
   "metadata": {},
   "outputs": [
    {
     "data": {
      "text/html": [
       "<div>\n",
       "<style scoped>\n",
       "    .dataframe tbody tr th:only-of-type {\n",
       "        vertical-align: middle;\n",
       "    }\n",
       "\n",
       "    .dataframe tbody tr th {\n",
       "        vertical-align: top;\n",
       "    }\n",
       "\n",
       "    .dataframe thead th {\n",
       "        text-align: right;\n",
       "    }\n",
       "</style>\n",
       "<table border=\"1\" class=\"dataframe\">\n",
       "  <thead>\n",
       "    <tr style=\"text-align: right;\">\n",
       "      <th></th>\n",
       "      <th>Пол</th>\n",
       "      <th>Возраст</th>\n",
       "      <th>Зарплата</th>\n",
       "      <th>Члены семьи</th>\n",
       "      <th>Страховые выплаты</th>\n",
       "    </tr>\n",
       "  </thead>\n",
       "  <tbody>\n",
       "    <tr>\n",
       "      <td>0</td>\n",
       "      <td>1</td>\n",
       "      <td>41.0</td>\n",
       "      <td>49600.0</td>\n",
       "      <td>1</td>\n",
       "      <td>0</td>\n",
       "    </tr>\n",
       "    <tr>\n",
       "      <td>1</td>\n",
       "      <td>0</td>\n",
       "      <td>46.0</td>\n",
       "      <td>38000.0</td>\n",
       "      <td>1</td>\n",
       "      <td>1</td>\n",
       "    </tr>\n",
       "    <tr>\n",
       "      <td>2</td>\n",
       "      <td>0</td>\n",
       "      <td>29.0</td>\n",
       "      <td>21000.0</td>\n",
       "      <td>0</td>\n",
       "      <td>0</td>\n",
       "    </tr>\n",
       "    <tr>\n",
       "      <td>3</td>\n",
       "      <td>0</td>\n",
       "      <td>21.0</td>\n",
       "      <td>41700.0</td>\n",
       "      <td>2</td>\n",
       "      <td>0</td>\n",
       "    </tr>\n",
       "    <tr>\n",
       "      <td>4</td>\n",
       "      <td>1</td>\n",
       "      <td>28.0</td>\n",
       "      <td>26100.0</td>\n",
       "      <td>0</td>\n",
       "      <td>0</td>\n",
       "    </tr>\n",
       "  </tbody>\n",
       "</table>\n",
       "</div>"
      ],
      "text/plain": [
       "   Пол  Возраст  Зарплата  Члены семьи  Страховые выплаты\n",
       "0    1     41.0   49600.0            1                  0\n",
       "1    0     46.0   38000.0            1                  1\n",
       "2    0     29.0   21000.0            0                  0\n",
       "3    0     21.0   41700.0            2                  0\n",
       "4    1     28.0   26100.0            0                  0"
      ]
     },
     "execution_count": 4,
     "metadata": {},
     "output_type": "execute_result"
    }
   ],
   "source": [
    "df.head()"
   ]
  },
  {
   "cell_type": "markdown",
   "metadata": {},
   "source": [
    "Видим, что в первых строках порядок данных выглядит правдоподобно. Посмотрим внимательнее на значение в столбцах и, на всякий случай, проверим слолбцы на другие потенциальные ошибки."
   ]
  },
  {
   "cell_type": "markdown",
   "metadata": {},
   "source": [
    "### Изучения столбцов и проверка данных"
   ]
  },
  {
   "cell_type": "markdown",
   "metadata": {},
   "source": [
    "Перед изучением стобцов посмотрим на основные характеристики. Они могут помочб нам для дальнейшего анализа."
   ]
  },
  {
   "cell_type": "code",
   "execution_count": 5,
   "metadata": {},
   "outputs": [
    {
     "data": {
      "text/html": [
       "<div>\n",
       "<style scoped>\n",
       "    .dataframe tbody tr th:only-of-type {\n",
       "        vertical-align: middle;\n",
       "    }\n",
       "\n",
       "    .dataframe tbody tr th {\n",
       "        vertical-align: top;\n",
       "    }\n",
       "\n",
       "    .dataframe thead th {\n",
       "        text-align: right;\n",
       "    }\n",
       "</style>\n",
       "<table border=\"1\" class=\"dataframe\">\n",
       "  <thead>\n",
       "    <tr style=\"text-align: right;\">\n",
       "      <th></th>\n",
       "      <th>Пол</th>\n",
       "      <th>Возраст</th>\n",
       "      <th>Зарплата</th>\n",
       "      <th>Члены семьи</th>\n",
       "      <th>Страховые выплаты</th>\n",
       "    </tr>\n",
       "  </thead>\n",
       "  <tbody>\n",
       "    <tr>\n",
       "      <td>count</td>\n",
       "      <td>5000.000000</td>\n",
       "      <td>5000.000000</td>\n",
       "      <td>5000.000000</td>\n",
       "      <td>5000.000000</td>\n",
       "      <td>5000.000000</td>\n",
       "    </tr>\n",
       "    <tr>\n",
       "      <td>mean</td>\n",
       "      <td>0.499000</td>\n",
       "      <td>30.952800</td>\n",
       "      <td>39916.360000</td>\n",
       "      <td>1.194200</td>\n",
       "      <td>0.148000</td>\n",
       "    </tr>\n",
       "    <tr>\n",
       "      <td>std</td>\n",
       "      <td>0.500049</td>\n",
       "      <td>8.440807</td>\n",
       "      <td>9900.083569</td>\n",
       "      <td>1.091387</td>\n",
       "      <td>0.463183</td>\n",
       "    </tr>\n",
       "    <tr>\n",
       "      <td>min</td>\n",
       "      <td>0.000000</td>\n",
       "      <td>18.000000</td>\n",
       "      <td>5300.000000</td>\n",
       "      <td>0.000000</td>\n",
       "      <td>0.000000</td>\n",
       "    </tr>\n",
       "    <tr>\n",
       "      <td>25%</td>\n",
       "      <td>0.000000</td>\n",
       "      <td>24.000000</td>\n",
       "      <td>33300.000000</td>\n",
       "      <td>0.000000</td>\n",
       "      <td>0.000000</td>\n",
       "    </tr>\n",
       "    <tr>\n",
       "      <td>50%</td>\n",
       "      <td>0.000000</td>\n",
       "      <td>30.000000</td>\n",
       "      <td>40200.000000</td>\n",
       "      <td>1.000000</td>\n",
       "      <td>0.000000</td>\n",
       "    </tr>\n",
       "    <tr>\n",
       "      <td>75%</td>\n",
       "      <td>1.000000</td>\n",
       "      <td>37.000000</td>\n",
       "      <td>46600.000000</td>\n",
       "      <td>2.000000</td>\n",
       "      <td>0.000000</td>\n",
       "    </tr>\n",
       "    <tr>\n",
       "      <td>max</td>\n",
       "      <td>1.000000</td>\n",
       "      <td>65.000000</td>\n",
       "      <td>79000.000000</td>\n",
       "      <td>6.000000</td>\n",
       "      <td>5.000000</td>\n",
       "    </tr>\n",
       "  </tbody>\n",
       "</table>\n",
       "</div>"
      ],
      "text/plain": [
       "               Пол      Возраст      Зарплата  Члены семьи  Страховые выплаты\n",
       "count  5000.000000  5000.000000   5000.000000  5000.000000        5000.000000\n",
       "mean      0.499000    30.952800  39916.360000     1.194200           0.148000\n",
       "std       0.500049     8.440807   9900.083569     1.091387           0.463183\n",
       "min       0.000000    18.000000   5300.000000     0.000000           0.000000\n",
       "25%       0.000000    24.000000  33300.000000     0.000000           0.000000\n",
       "50%       0.000000    30.000000  40200.000000     1.000000           0.000000\n",
       "75%       1.000000    37.000000  46600.000000     2.000000           0.000000\n",
       "max       1.000000    65.000000  79000.000000     6.000000           5.000000"
      ]
     },
     "execution_count": 5,
     "metadata": {},
     "output_type": "execute_result"
    }
   ],
   "source": [
    "df.describe()"
   ]
  },
  {
   "cell_type": "markdown",
   "metadata": {},
   "source": [
    "Проверим данные в столбцах \"Пол\", \"Члены семьи\" и \"Страховые выплаты\"."
   ]
  },
  {
   "cell_type": "code",
   "execution_count": 6,
   "metadata": {},
   "outputs": [
    {
     "data": {
      "text/plain": [
       "(2, 7, 6)"
      ]
     },
     "execution_count": 6,
     "metadata": {},
     "output_type": "execute_result"
    }
   ],
   "source": [
    "df['Пол'].nunique(), df['Члены семьи'].nunique(), df['Страховые выплаты'].nunique()"
   ]
  },
  {
   "cell_type": "markdown",
   "metadata": {},
   "source": [
    "Значий пола тольк 2 вида - это хорошо, вероятно ошибок нет. По другим столбцам тоже не огромное число значений, это хорошо, но посмотрим еще и на их более подробное распределение по значениям."
   ]
  },
  {
   "cell_type": "code",
   "execution_count": 7,
   "metadata": {},
   "outputs": [
    {
     "data": {
      "text/plain": [
       "0    2505\n",
       "1    2495\n",
       "Name: Пол, dtype: int64"
      ]
     },
     "execution_count": 7,
     "metadata": {},
     "output_type": "execute_result"
    }
   ],
   "source": [
    "df['Пол'].value_counts()"
   ]
  },
  {
   "cell_type": "code",
   "execution_count": 8,
   "metadata": {},
   "outputs": [
    {
     "data": {
      "text/plain": [
       "1    1814\n",
       "0    1513\n",
       "2    1071\n",
       "3     439\n",
       "4     124\n",
       "5      32\n",
       "6       7\n",
       "Name: Члены семьи, dtype: int64"
      ]
     },
     "execution_count": 8,
     "metadata": {},
     "output_type": "execute_result"
    }
   ],
   "source": [
    "df['Члены семьи'].value_counts()"
   ]
  },
  {
   "cell_type": "code",
   "execution_count": 9,
   "metadata": {},
   "outputs": [
    {
     "data": {
      "text/plain": [
       "0    4436\n",
       "1     423\n",
       "2     115\n",
       "3      18\n",
       "4       7\n",
       "5       1\n",
       "Name: Страховые выплаты, dtype: int64"
      ]
     },
     "execution_count": 9,
     "metadata": {},
     "output_type": "execute_result"
    }
   ],
   "source": [
    "df['Страховые выплаты'].value_counts()"
   ]
  },
  {
   "cell_type": "markdown",
   "metadata": {},
   "source": [
    "Видим, что распределение по полу - почти равное, это выглядит правдоподобно. Для других двух столбцов тоже видно, что при увеличении значений - частота снижается. Только у количества детей пик в 1, а потом идет 0 и затем 2. А по количеству страховых выплат максимум у 0 выплат и после уже 1, 2... Это также выглядит правдоподобно. \n",
    "\n",
    "Теперь проверим оставшиеся столбцы."
   ]
  },
  {
   "cell_type": "markdown",
   "metadata": {},
   "source": [
    "Посмотрим на столбец с возрастом, число корзин возьмем как количество возможных целых лет в наших данных. Для этого воспользуемся максимальными и минимальными значеними из таблицы выше с основнвми показателями: минимум - 18, максимум - 65 - всего 48 уникальных целых лет."
   ]
  },
  {
   "cell_type": "code",
   "execution_count": 10,
   "metadata": {},
   "outputs": [
    {
     "data": {
      "image/png": "[encoded data removed]",
      "text/plain": [
       "<Figure size 432x288 with 1 Axes>"
      ]
     },
     "metadata": {
      "needs_background": "light"
     },
     "output_type": "display_data"
    }
   ],
   "source": [
    "plt.title(\"Возраст, года\", fontweight='bold', size='medium')\n",
    "plt.ylabel(\"Частота, шт\")\n",
    "sns.distplot(a=df['Возраст'], bins=48, kde=False, rug=False, axlabel=\"Возраст, года\")\n",
    "plt.show()"
   ]
  },
  {
   "cell_type": "markdown",
   "metadata": {},
   "source": [
    "Видим, что чем больше возраст, тем плавно снижается число клиентов. Нет неожиданных пиков и выделяющихся значений. Это хорошо.\n",
    "\n",
    "Теперь посмотрим на зарплаты."
   ]
  },
  {
   "cell_type": "code",
   "execution_count": 11,
   "metadata": {},
   "outputs": [
    {
     "data": {
      "image/png": "[encoded data removed]",
      "text/plain": [
       "<Figure size 432x288 with 1 Axes>"
      ]
     },
     "metadata": {
      "needs_background": "light"
     },
     "output_type": "display_data"
    }
   ],
   "source": [
    "plt.title(\"Зарплата, руб\", fontweight='bold', size='medium')\n",
    "plt.ylabel(\"Частота, шт\")\n",
    "sns.distplot(a=df['Зарплата'], kde=False, rug=False, axlabel=\"Зарплата, руб\")\n",
    "plt.show()"
   ]
  },
  {
   "cell_type": "markdown",
   "metadata": {},
   "source": [
    "Также нет неожиданных всплесков, распределение похоже на нормальное.\n",
    "\n",
    "Первичная проверка данных показала, что вероятно ошибок в данных нет. Это зорошо, переходим к следующим шагам."
   ]
  },
  {
   "cell_type": "markdown",
   "metadata": {},
   "source": [
    "## Умножение матриц"
   ]
  },
  {
   "cell_type": "markdown",
   "metadata": {},
   "source": [
    "Ответим в данном разделе на один из вопросов задачи:\n",
    "\n",
    "Признаки умножают на обратимую матрицу. Изменится ли качество линейной регрессии? (Её можно обучить заново.)\n",
    "- Изменится. Приведите примеры матриц.\n",
    "- Не изменится. Укажите, как связаны параметры линейной регрессии в исходной задаче и в преобразованной.\n",
    "\n",
    "А ниже вы можете найти небольшую <b> инструкцию для оформления математических текстов</b>:"
   ]
  },
  {
   "cell_type": "markdown",
   "metadata": {},
   "source": [
    "\"В этом задании вы можете записывать формулы в *Jupyter Notebook.*\n",
    "\n",
    "Чтобы записать формулу внутри текста, окружите её символами доллара \\\\$; если снаружи —  двойными символами \\\\$\\\\$. Эти формулы записываются на языке вёрстки *LaTeX.* \n",
    "\n",
    "Для примера мы записали формулы линейной регрессии. Можете их скопировать и отредактировать, чтобы решить задачу.\n",
    "\n",
    "Работать в *LaTeX* необязательно.\""
   ]
  },
  {
   "cell_type": "markdown",
   "metadata": {},
   "source": [
    "Обозначения:\n",
    "\n",
    "- $X$ — матрица признаков (нулевой столбец состоит из единиц)\n",
    "\n",
    "- $y$ — вектор целевого признака\n",
    "\n",
    "- $P$ — матрица, на которую умножаются признаки\n",
    "\n",
    "- $w$ — вектор весов линейной регрессии (нулевой элемент равен сдвигу)"
   ]
  },
  {
   "cell_type": "markdown",
   "metadata": {},
   "source": [
    "Предсказания:\n",
    "\n",
    "$$\n",
    "a = Xw\n",
    "$$\n",
    "\n",
    "Задача обучения:\n",
    "\n",
    "$$\n",
    "w = \\arg\\min_w MSE(Xw, y)\n",
    "$$\n",
    "\n",
    "Формула обучения:\n",
    "\n",
    "$$\n",
    "w = (X^T X)^{-1} X^T y\n",
    "$$"
   ]
  },
  {
   "cell_type": "markdown",
   "metadata": {},
   "source": [
    "**Ответ:**  Качество модели линейной регрессии не изменится после умножения на обратимую матрицу.\n",
    "\n",
    "**Обоснование:** \n",
    "\n",
    "Давайте сравним, как будет обучаться модель при линейной регрессии на матрице X и матрице XP, где 𝑃  — обратимая матрица, на которую умножаются признаки. Нам необходимо сравниь расчет a и w для матриц X и XP.\n",
    "\n",
    "\n",
    "<b>Расчет w и a для X:</b>\n",
    "Возьмем формулы из условия задачи и посмотрим как выражается предсказания a уже через X и y:\n",
    "\n",
    "$$\n",
    "w = (X^T X)^{-1} X^T y\n",
    "$$\n",
    "\n",
    "\n",
    "$$\n",
    "a = Xw = X (X^T X)^{-1} X^T y\n",
    "$$\n",
    "\n",
    "<b>Расчет w и a для XP:</b>\n",
    "Также посмотрим как выражается предсказания a уже через X и y, а также обратимую матрицу P:\n",
    "\n",
    "$$\n",
    "w = ((XP)^T (XP))^{-1} (XP)^T y\n",
    "$$\n",
    "\n",
    "\n",
    "$$\n",
    "a = XPw = XP((XP)^T (XP))^{-1} (XP)^T y\n",
    "$$\n",
    "\n",
    "Формула выглядит достточно большой, попробуем ее преобразовать. Для этого нам могут понадобиться свойства обратных и транспонированных матриц:\n",
    "- Свойство операции транспонирования матриц: $(AB)^T = B^T\n",
    "A^T$ \n",
    "- Свойство обратной матрицы: $(AB)^{-1} = B^{-1} A^{-1}$\n",
    "- Свойство обратной матрицы: $ A^{-1} A = A A^{-1} = E $\n",
    "- Свойство обратной матрицы: $(A^T)^{-1} = (A^{-1})^T$. \n",
    "\n",
    "Важно помнить, что обратная матрица есть только у квадратной, поэтому эти свойства для обратных матриц мы можем применять к квадратным матрицам. Квадратные матрицы - это точно: \n",
    "- Наша матрица P, так как по условию мы знаем, что она квадратная, так как обратимая.\n",
    "- Также матрицы, которые являются результатом умножения матрицы на себя транспонированную - они тоже всегда квадратные (потому если размер матрицы был $m*n$, то у транспонированной будет $n*m$, а у их произвеведения - $m*m$).\n",
    "- Или если это транспонированные матрицы перечиленных матриц.\n",
    "\n",
    "\n",
    "Применим для формулы a свойство 1 для транспонированной матрицы:\n",
    "\n",
    "$$\n",
    "a = XP ((XP)^T (XP))^{-1} (XP)^T y = XP (P^T X^T X P)^{-1} P^T X^T y\n",
    "$$\n",
    "\n",
    "Теперь внимательно посмотрим на содержимое внутри скобок. Изначально это была квадратная матрица, так как это так как это произведение матрицы, умноженной на транспонированную $(XP)^T (XP)$. Тепреь мы видим, что после преобразование последний множитель - это квадратная матрица P. Значит и $P^T X^T X$ тоже квадратная.\n",
    "\n",
    "Это можно легко доказать от обратного: пусть она не квадратная, размера $m*n$, где m не равно n, тогда у квадратной матрицы P должен быть размер $n*n$ - чтобы умножение было возможно. тогда у всего соержимого скобок размер должен быть $m*n$. Но это не квадратная матрица, так как m не равно n. А должна быть квадратная, так как это произведение матрицы, умноженной на транспонированную $(XP)^T (XP)$. Противоречие! Поэтому $P^T X^T X$ тоже квадратная.\n",
    "\n",
    "Применим свойство обратной матрицы, номер 2 в нашем общем списке:\n",
    "\n",
    "$$\n",
    "a = XP (P^T X^T X P)^{-1} P^T X^T y = XP P^{-1}(P^T X^T X)^{-1}P^T X^T y\n",
    "$$\n",
    "\n",
    "Видим, что у нас появилось рядом произведение $P P^{-1}$. Оно равно E матрице (свойство 3 из нашего списка), а произведение единичной матрицы на другую матрицу равно этой матрице. Применим это:\n",
    "\n",
    "$$\n",
    "a = XP P^{-1}(P^T X^T X)^{-1}P^T X^T y = X E (P^T X^T X)^{-1}P^T X^T y = X (P^T X^T X)^{-1}P^T X^T y\n",
    "$$\n",
    "\n",
    "\n",
    "Теперь применим свойство номер 2 еще раз к содержимому скобок. внутри есть 2 квадратные матрицы: $P^T$ и $X^T X$:\n",
    "\n",
    "$$\n",
    "a =  X (P^T X^T X)^{-1}P^T X^T y = X(X^T X)^{-1}(P^T)^{-1}P^T X^T y\n",
    "$$\n",
    "\n",
    "Опять видим рядом умножение матрицы $(P^T)$ и обратной ей. А значит, что можем сократить это.\n",
    "\n",
    "$$\n",
    "a =  X(X^T X)^{-1}(P^T)^{-1}P^T X^T y = X(X^T X)^{-1} X^T y\n",
    "$$\n",
    "\n",
    "\n",
    "Теперь сравним этот результат и расчет a для просто X. Они совпадают: $a = X(X^T X)^{-1} X^T y$!\n",
    "\n",
    "А значит, что предсказания не изменятся после умножения на обратимую матрицу."
   ]
  },
  {
   "cell_type": "markdown",
   "metadata": {},
   "source": [
    "## Алгоритм преобразования"
   ]
  },
  {
   "cell_type": "markdown",
   "metadata": {},
   "source": [
    "**Алгоритм**\n",
    "\n",
    "Изпользуя рассуждения выше, для защиты данных клиентов страховой компании «Хоть потоп» можно предложить метод преобразования данных - умножение признаков на обратимую матрицу. \n",
    "\n",
    "А именно следующие шаги:\n",
    "- Разделяем признаки и целевой признак в разные сущности.\n",
    "- Создаем функцию для кодирования матрицы с признаками. А именно:\n",
    "- Генерируем рандомную квадратную матрицу, исходя из размера датасета с признаками.\n",
    "- Проверяем эту матрицу на обратимость.\n",
    "- Умножаем матрицу с признаками на рандомную квадратную.\n",
    "- Обучаем модель линейной регресии дважды: сначала на неизмененных данных, а потом на закодированных.\n",
    "- Сравниваем R2 метрики у полученных предсказаний."
   ]
  },
  {
   "cell_type": "markdown",
   "metadata": {},
   "source": [
    "**Обоснование**\n",
    "\n",
    "Матрицу для кодирования данных можно подбирать случайным методом, тогда при умножении на нее - качество предсказаний не изменится, как мы доказали выше. А подобрать матрицу для разблокировки данных будем сложно. Ведь для такой матрицы размера $4*4$ нужно перебрать около $10^{16}$ вариантов матриц."
   ]
  },
  {
   "cell_type": "markdown",
   "metadata": {},
   "source": [
    "## Проверка алгоритма"
   ]
  },
  {
   "cell_type": "markdown",
   "metadata": {},
   "source": [
    "Для начала выделим из нашего датасета целевой и другие признаки."
   ]
  },
  {
   "cell_type": "code",
   "execution_count": 12,
   "metadata": {},
   "outputs": [],
   "source": [
    "target = df['Страховые выплаты']\n",
    "features = df.drop('Страховые выплаты', axis=1)"
   ]
  },
  {
   "cell_type": "code",
   "execution_count": 13,
   "metadata": {},
   "outputs": [
    {
     "data": {
      "text/plain": [
       "(5000, 4)"
      ]
     },
     "execution_count": 13,
     "metadata": {},
     "output_type": "execute_result"
    }
   ],
   "source": [
    "features.shape"
   ]
  },
  {
   "cell_type": "markdown",
   "metadata": {},
   "source": [
    "Напишем функцию, которая преобразует исходную матрицу, умножая ее на случайную обратимую."
   ]
  },
  {
   "cell_type": "code",
   "execution_count": 14,
   "metadata": {},
   "outputs": [],
   "source": [
    "class ConvertingMatrix:\n",
    "    def converting(self, X):\n",
    "        self.X = X\n",
    "        self.P_length = self.X.shape[1]\n",
    "        np.random.seed(123)\n",
    "        self.P = np.random.normal(size=(self.P_length, self.P_length))\n",
    "        try:\n",
    "            self.P_inv = np.linalg.inv(self.P)\n",
    "            print(\"Success! That was an inverse matrix.\")\n",
    "            self.X_conv = self.X @ self.P\n",
    "            return self.X_conv\n",
    "        except ValueError:\n",
    "            print(\"Oops!  That was no inverse matrix.  Try again...\")  "
   ]
  },
  {
   "cell_type": "code",
   "execution_count": 15,
   "metadata": {},
   "outputs": [
    {
     "name": "stdout",
     "output_type": "stream",
     "text": [
      "Success! That was an inverse matrix.\n"
     ]
    }
   ],
   "source": [
    "features_new = ConvertingMatrix().converting(features)"
   ]
  },
  {
   "cell_type": "code",
   "execution_count": 16,
   "metadata": {},
   "outputs": [
    {
     "data": {
      "text/html": [
       "<div>\n",
       "<style scoped>\n",
       "    .dataframe tbody tr th:only-of-type {\n",
       "        vertical-align: middle;\n",
       "    }\n",
       "\n",
       "    .dataframe tbody tr th {\n",
       "        vertical-align: top;\n",
       "    }\n",
       "\n",
       "    .dataframe thead th {\n",
       "        text-align: right;\n",
       "    }\n",
       "</style>\n",
       "<table border=\"1\" class=\"dataframe\">\n",
       "  <thead>\n",
       "    <tr style=\"text-align: right;\">\n",
       "      <th></th>\n",
       "      <th>0</th>\n",
       "      <th>1</th>\n",
       "      <th>2</th>\n",
       "      <th>3</th>\n",
       "    </tr>\n",
       "  </thead>\n",
       "  <tbody>\n",
       "    <tr>\n",
       "      <td>0</td>\n",
       "      <td>62767.121580</td>\n",
       "      <td>-42922.256611</td>\n",
       "      <td>-33772.407973</td>\n",
       "      <td>-4717.090923</td>\n",
       "    </tr>\n",
       "    <tr>\n",
       "      <td>1</td>\n",
       "      <td>48080.453609</td>\n",
       "      <td>-32860.808107</td>\n",
       "      <td>-25909.744989</td>\n",
       "      <td>-3619.105152</td>\n",
       "    </tr>\n",
       "    <tr>\n",
       "      <td>2</td>\n",
       "      <td>26567.882026</td>\n",
       "      <td>-18153.656788</td>\n",
       "      <td>-14326.982882</td>\n",
       "      <td>-2001.326814</td>\n",
       "    </tr>\n",
       "    <tr>\n",
       "      <td>3</td>\n",
       "      <td>52780.374162</td>\n",
       "      <td>-36109.672411</td>\n",
       "      <td>-28361.400751</td>\n",
       "      <td>-3959.239872</td>\n",
       "    </tr>\n",
       "    <tr>\n",
       "      <td>4</td>\n",
       "      <td>33023.649915</td>\n",
       "      <td>-22574.686931</td>\n",
       "      <td>-17786.592598</td>\n",
       "      <td>-2485.419938</td>\n",
       "    </tr>\n",
       "  </tbody>\n",
       "</table>\n",
       "</div>"
      ],
      "text/plain": [
       "              0             1             2            3\n",
       "0  62767.121580 -42922.256611 -33772.407973 -4717.090923\n",
       "1  48080.453609 -32860.808107 -25909.744989 -3619.105152\n",
       "2  26567.882026 -18153.656788 -14326.982882 -2001.326814\n",
       "3  52780.374162 -36109.672411 -28361.400751 -3959.239872\n",
       "4  33023.649915 -22574.686931 -17786.592598 -2485.419938"
      ]
     },
     "execution_count": 16,
     "metadata": {},
     "output_type": "execute_result"
    }
   ],
   "source": [
    "features_new.head()"
   ]
  },
  {
   "cell_type": "markdown",
   "metadata": {},
   "source": [
    "Видим, что матрица с признаками действительно сильно изменилась и не похожа на исходные данные. Данные закодировали.\n",
    "\n",
    "Теперь применим модель линейной регрессии для преобразованных и нет признаков. И оценим качество по оценке r2."
   ]
  },
  {
   "cell_type": "code",
   "execution_count": 17,
   "metadata": {},
   "outputs": [],
   "source": [
    "model = LinearRegression()"
   ]
  },
  {
   "cell_type": "code",
   "execution_count": 18,
   "metadata": {},
   "outputs": [],
   "source": [
    "model.fit(features, target) \n",
    "\n",
    "predictions = model.predict(features)\n",
    "r2_before = r2_score(target, predictions)"
   ]
  },
  {
   "cell_type": "code",
   "execution_count": 19,
   "metadata": {},
   "outputs": [],
   "source": [
    "model.fit(features_new, target) \n",
    "\n",
    "predictions_new = model.predict(features_new)\n",
    "r2_after = r2_score(target, predictions_new)"
   ]
  },
  {
   "cell_type": "code",
   "execution_count": 20,
   "metadata": {},
   "outputs": [
    {
     "data": {
      "text/plain": [
       "(0.42494550286668, 0.424945502866682)"
      ]
     },
     "execution_count": 20,
     "metadata": {},
     "output_type": "execute_result"
    }
   ],
   "source": [
    "r2_before, r2_after"
   ]
  },
  {
   "cell_type": "markdown",
   "metadata": {},
   "source": [
    "Видим, что значения очень похожи, но на определенном знаке после запятой начитаются различия. Чтобы понять существенные ли они воспользуемся функцией isclose."
   ]
  },
  {
   "cell_type": "code",
   "execution_count": 21,
   "metadata": {},
   "outputs": [
    {
     "data": {
      "text/plain": [
       "True"
      ]
     },
     "execution_count": 21,
     "metadata": {},
     "output_type": "execute_result"
    }
   ],
   "source": [
    "np.isclose(r2_before, r2_after)"
   ]
  },
  {
   "cell_type": "markdown",
   "metadata": {},
   "source": [
    "Видим, что значения одинаковые. Это означает, что мы на практике проверили наши рассуждения выше."
   ]
  },
  {
   "cell_type": "markdown",
   "metadata": {},
   "source": [
    "## Вывод"
   ]
  },
  {
   "cell_type": "markdown",
   "metadata": {},
   "source": [
    "<b>Краткие выводы проекта:</b>\n",
    "- В сете с данными, состоящем из 5000 строк не было обнаружено пропусков и ошибок.\n",
    "- Был разобран вопрос о качестве моделей, если перед обучением матрицу с признаками умножать на обратимую матрицу.\n",
    "- Было выведено теоритически, что в таком случае качество модели не изменится.\n",
    "- Данный способ был запрограммирован и применен на сете с нашими данными.\n",
    "- На практике было выявлено, что качество моделей действительно не отличается для моделей, построенных на исходных данных, и для моделей закодированных с помощью умножения на обратимую матрицу."
   ]
  },
  {
   "cell_type": "markdown",
   "metadata": {},
   "source": [
    "## Чек-лист проверки"
   ]
  },
  {
   "cell_type": "markdown",
   "metadata": {},
   "source": [
    "Поставьте 'x' в выполненных пунктах. Далее нажмите Shift+Enter."
   ]
  },
  {
   "cell_type": "markdown",
   "metadata": {},
   "source": [
    "- [x]  Jupyter Notebook открыт\n",
    "- [x]  Весь код выполняется без ошибок\n",
    "- [x]  Ячейки с кодом расположены в порядке исполнения\n",
    "- [x]  Выполнен шаг 1: данные загружены\n",
    "- [x]  Выполнен шаг 2: получен ответ на вопрос об умножении матриц\n",
    "    - [x]  Указан правильный вариант ответа\n",
    "    - [x]  Вариант обоснован\n",
    "- [x]  Выполнен шаг 3: предложен алгоритм преобразования\n",
    "    - [x]  Алгоритм описан\n",
    "    - [x]  Алгоритм обоснован\n",
    "- [x]  Выполнен шаг 4: алгоритм проверен\n",
    "    - [x]  Алгоритм реализован\n",
    "    - [x]  Проведено сравнение качества моделей до и после преобразования"
   ]
  }
 ],
 "metadata": {
  "ExecuteTimeLog": [
   {
    "duration": 780,
    "start_time": "2021-09-20T17:58:58.611Z"
   },
   {
    "duration": 18,
    "start_time": "2021-09-20T18:00:00.193Z"
   },
   {
    "duration": 19,
    "start_time": "2021-09-20T18:00:18.601Z"
   },
   {
    "duration": 10,
    "start_time": "2021-09-20T18:00:20.329Z"
   },
   {
    "duration": 23,
    "start_time": "2021-09-20T18:01:07.848Z"
   },
   {
    "duration": 782,
    "start_time": "2021-09-22T12:16:07.548Z"
   },
   {
    "duration": 19,
    "start_time": "2021-09-22T12:16:08.332Z"
   },
   {
    "duration": 13,
    "start_time": "2021-09-22T12:16:08.354Z"
   },
   {
    "duration": 23,
    "start_time": "2021-09-22T12:16:08.370Z"
   },
   {
    "duration": 83,
    "start_time": "2021-09-22T13:44:11.044Z"
   },
   {
    "duration": 8,
    "start_time": "2021-09-22T13:44:19.096Z"
   },
   {
    "duration": 322,
    "start_time": "2021-09-22T13:47:10.239Z"
   },
   {
    "duration": 114,
    "start_time": "2021-09-22T13:47:23.500Z"
   },
   {
    "duration": 563,
    "start_time": "2021-09-22T13:47:28.040Z"
   },
   {
    "duration": 602,
    "start_time": "2021-09-22T13:47:38.846Z"
   },
   {
    "duration": 377,
    "start_time": "2021-09-22T13:47:41.952Z"
   },
   {
    "duration": 399,
    "start_time": "2021-09-22T13:48:20.459Z"
   },
   {
    "duration": 419,
    "start_time": "2021-09-22T13:48:30.867Z"
   },
   {
    "duration": 385,
    "start_time": "2021-09-22T13:48:55.794Z"
   },
   {
    "duration": 426,
    "start_time": "2021-09-22T13:49:26.903Z"
   },
   {
    "duration": 484,
    "start_time": "2021-09-22T13:49:35.485Z"
   },
   {
    "duration": 403,
    "start_time": "2021-09-22T13:49:40.237Z"
   },
   {
    "duration": 38,
    "start_time": "2021-09-22T13:50:09.584Z"
   },
   {
    "duration": 400,
    "start_time": "2021-09-22T13:50:45.972Z"
   },
   {
    "duration": 440,
    "start_time": "2021-09-22T13:54:24.858Z"
   },
   {
    "duration": 358,
    "start_time": "2021-09-22T13:59:40.214Z"
   },
   {
    "duration": 282,
    "start_time": "2021-09-22T13:59:46.508Z"
   },
   {
    "duration": 335,
    "start_time": "2021-09-22T14:02:34.907Z"
   },
   {
    "duration": 291,
    "start_time": "2021-09-22T14:02:40.393Z"
   },
   {
    "duration": 11,
    "start_time": "2021-09-22T14:03:09.062Z"
   },
   {
    "duration": 9,
    "start_time": "2021-09-22T14:03:27.919Z"
   },
   {
    "duration": 9,
    "start_time": "2021-09-22T14:04:11.254Z"
   },
   {
    "duration": 1436,
    "start_time": "2021-09-23T07:49:27.268Z"
   },
   {
    "duration": 21,
    "start_time": "2021-09-23T07:49:28.706Z"
   },
   {
    "duration": 26,
    "start_time": "2021-09-23T07:49:28.729Z"
   },
   {
    "duration": 34,
    "start_time": "2021-09-23T07:49:28.757Z"
   },
   {
    "duration": 54,
    "start_time": "2021-09-23T07:49:28.793Z"
   },
   {
    "duration": 9,
    "start_time": "2021-09-23T07:49:28.849Z"
   },
   {
    "duration": 11,
    "start_time": "2021-09-23T07:49:28.860Z"
   },
   {
    "duration": 29,
    "start_time": "2021-09-23T07:49:28.874Z"
   },
   {
    "duration": 17,
    "start_time": "2021-09-23T07:49:28.906Z"
   },
   {
    "duration": 397,
    "start_time": "2021-09-23T07:49:28.925Z"
   },
   {
    "duration": 412,
    "start_time": "2021-09-23T07:49:29.324Z"
   },
   {
    "duration": 5,
    "start_time": "2021-09-23T09:29:46.332Z"
   },
   {
    "duration": 6,
    "start_time": "2021-09-23T09:32:41.397Z"
   },
   {
    "duration": 6,
    "start_time": "2021-09-23T09:33:44.383Z"
   },
   {
    "duration": 590,
    "start_time": "2021-09-23T09:38:24.285Z"
   },
   {
    "duration": 6,
    "start_time": "2021-09-23T09:40:47.167Z"
   },
   {
    "duration": 274,
    "start_time": "2021-09-23T09:40:49.005Z"
   },
   {
    "duration": 6,
    "start_time": "2021-09-23T09:44:01.743Z"
   },
   {
    "duration": 579,
    "start_time": "2021-09-23T09:44:14.689Z"
   },
   {
    "duration": 148,
    "start_time": "2021-09-23T09:49:00.158Z"
   },
   {
    "duration": 6,
    "start_time": "2021-09-23T09:49:37.081Z"
   },
   {
    "duration": 307,
    "start_time": "2021-09-23T09:49:41.136Z"
   },
   {
    "duration": 5,
    "start_time": "2021-09-23T09:51:19.055Z"
   },
   {
    "duration": 7,
    "start_time": "2021-09-23T09:51:26.726Z"
   },
   {
    "duration": 275,
    "start_time": "2021-09-23T09:51:29.460Z"
   },
   {
    "duration": 2074,
    "start_time": "2021-09-23T09:52:30.723Z"
   },
   {
    "duration": 24,
    "start_time": "2021-09-23T09:52:32.801Z"
   },
   {
    "duration": 21,
    "start_time": "2021-09-23T09:52:32.829Z"
   },
   {
    "duration": 24,
    "start_time": "2021-09-23T09:52:32.854Z"
   },
   {
    "duration": 70,
    "start_time": "2021-09-23T09:52:32.881Z"
   },
   {
    "duration": 10,
    "start_time": "2021-09-23T09:52:32.954Z"
   },
   {
    "duration": 38,
    "start_time": "2021-09-23T09:52:32.967Z"
   },
   {
    "duration": 22,
    "start_time": "2021-09-23T09:52:33.010Z"
   },
   {
    "duration": 33,
    "start_time": "2021-09-23T09:52:33.036Z"
   },
   {
    "duration": 440,
    "start_time": "2021-09-23T09:52:33.072Z"
   },
   {
    "duration": 437,
    "start_time": "2021-09-23T09:52:33.514Z"
   },
   {
    "duration": 6,
    "start_time": "2021-09-23T09:52:33.954Z"
   },
   {
    "duration": 17,
    "start_time": "2021-09-23T09:52:33.962Z"
   },
   {
    "duration": 516,
    "start_time": "2021-09-23T09:52:33.982Z"
   },
   {
    "duration": 6,
    "start_time": "2021-09-23T09:53:00.014Z"
   },
   {
    "duration": 5,
    "start_time": "2021-09-23T09:53:33.278Z"
   },
   {
    "duration": 294,
    "start_time": "2021-09-23T09:53:36.637Z"
   },
   {
    "duration": 537,
    "start_time": "2021-09-23T09:54:34.563Z"
   },
   {
    "duration": 6,
    "start_time": "2021-09-23T09:54:47.889Z"
   },
   {
    "duration": 761,
    "start_time": "2021-09-23T09:54:50.160Z"
   },
   {
    "duration": 7,
    "start_time": "2021-09-23T09:55:08.911Z"
   },
   {
    "duration": 7,
    "start_time": "2021-09-23T09:55:36.431Z"
   },
   {
    "duration": 5,
    "start_time": "2021-09-23T09:55:40.098Z"
   },
   {
    "duration": 264,
    "start_time": "2021-09-23T10:03:54.659Z"
   },
   {
    "duration": 4,
    "start_time": "2021-09-23T10:06:00.844Z"
   },
   {
    "duration": 21,
    "start_time": "2021-09-23T10:08:07.429Z"
   },
   {
    "duration": 11,
    "start_time": "2021-09-23T10:08:39.552Z"
   },
   {
    "duration": 5,
    "start_time": "2021-09-23T10:08:51.735Z"
   },
   {
    "duration": 6,
    "start_time": "2021-09-23T10:10:42.352Z"
   },
   {
    "duration": 1485,
    "start_time": "2021-09-23T10:18:59.067Z"
   },
   {
    "duration": 23,
    "start_time": "2021-09-23T10:19:00.555Z"
   },
   {
    "duration": 37,
    "start_time": "2021-09-23T10:19:00.582Z"
   },
   {
    "duration": 58,
    "start_time": "2021-09-23T10:19:00.623Z"
   },
   {
    "duration": 76,
    "start_time": "2021-09-23T10:19:00.684Z"
   },
   {
    "duration": 12,
    "start_time": "2021-09-23T10:19:00.762Z"
   },
   {
    "duration": 68,
    "start_time": "2021-09-23T10:19:00.777Z"
   },
   {
    "duration": 50,
    "start_time": "2021-09-23T10:19:00.848Z"
   },
   {
    "duration": 48,
    "start_time": "2021-09-23T10:19:00.902Z"
   },
   {
    "duration": 437,
    "start_time": "2021-09-23T10:19:00.952Z"
   },
   {
    "duration": 437,
    "start_time": "2021-09-23T10:19:01.391Z"
   },
   {
    "duration": 5,
    "start_time": "2021-09-23T10:19:01.831Z"
   },
   {
    "duration": 50,
    "start_time": "2021-09-23T10:19:01.839Z"
   },
   {
    "duration": 30,
    "start_time": "2021-09-23T10:19:01.892Z"
   },
   {
    "duration": 103,
    "start_time": "2021-09-23T10:19:01.925Z"
   },
   {
    "duration": 73,
    "start_time": "2021-09-23T10:19:02.031Z"
   },
   {
    "duration": 63,
    "start_time": "2021-09-23T10:19:02.107Z"
   },
   {
    "duration": 176,
    "start_time": "2021-09-23T10:19:02.173Z"
   },
   {
    "duration": 83,
    "start_time": "2021-09-23T10:19:02.353Z"
   },
   {
    "duration": 5,
    "start_time": "2021-09-23T10:19:02.524Z"
   },
   {
    "duration": 11,
    "start_time": "2021-09-23T10:21:43.210Z"
   },
   {
    "duration": 1465,
    "start_time": "2021-09-23T10:22:40.600Z"
   },
   {
    "duration": 23,
    "start_time": "2021-09-23T10:22:42.067Z"
   },
   {
    "duration": 10,
    "start_time": "2021-09-23T10:22:42.094Z"
   },
   {
    "duration": 30,
    "start_time": "2021-09-23T10:22:42.107Z"
   },
   {
    "duration": 35,
    "start_time": "2021-09-23T10:22:42.140Z"
   },
   {
    "duration": 8,
    "start_time": "2021-09-23T10:22:42.178Z"
   },
   {
    "duration": 52,
    "start_time": "2021-09-23T10:22:42.189Z"
   },
   {
    "duration": 13,
    "start_time": "2021-09-23T10:22:42.244Z"
   },
   {
    "duration": 7,
    "start_time": "2021-09-23T10:22:42.260Z"
   },
   {
    "duration": 420,
    "start_time": "2021-09-23T10:22:42.270Z"
   },
   {
    "duration": 489,
    "start_time": "2021-09-23T10:22:42.693Z"
   },
   {
    "duration": 5,
    "start_time": "2021-09-23T10:22:43.184Z"
   },
   {
    "duration": 12,
    "start_time": "2021-09-23T10:22:43.191Z"
   },
   {
    "duration": 19,
    "start_time": "2021-09-23T10:22:43.205Z"
   },
   {
    "duration": 5,
    "start_time": "2021-09-23T10:22:43.233Z"
   },
   {
    "duration": 15,
    "start_time": "2021-09-23T10:22:43.240Z"
   },
   {
    "duration": 7,
    "start_time": "2021-09-23T10:22:43.257Z"
   },
   {
    "duration": 68,
    "start_time": "2021-09-23T10:22:43.267Z"
   },
   {
    "duration": 100,
    "start_time": "2021-09-23T10:22:43.339Z"
   },
   {
    "duration": 191,
    "start_time": "2021-09-23T10:22:43.442Z"
   },
   {
    "duration": 6,
    "start_time": "2021-09-23T10:22:43.636Z"
   },
   {
    "duration": 308,
    "start_time": "2021-09-23T21:40:33.104Z"
   },
   {
    "duration": 1534,
    "start_time": "2021-09-23T21:40:53.018Z"
   },
   {
    "duration": 23,
    "start_time": "2021-09-23T21:40:54.555Z"
   },
   {
    "duration": 9,
    "start_time": "2021-09-23T21:40:54.582Z"
   },
   {
    "duration": 35,
    "start_time": "2021-09-23T21:40:54.594Z"
   },
   {
    "duration": 36,
    "start_time": "2021-09-23T21:40:54.632Z"
   },
   {
    "duration": 7,
    "start_time": "2021-09-23T21:40:54.670Z"
   },
   {
    "duration": 27,
    "start_time": "2021-09-23T21:40:54.679Z"
   },
   {
    "duration": 9,
    "start_time": "2021-09-23T21:40:54.723Z"
   },
   {
    "duration": 23,
    "start_time": "2021-09-23T21:40:54.735Z"
   },
   {
    "duration": 398,
    "start_time": "2021-09-23T21:40:54.761Z"
   },
   {
    "duration": 426,
    "start_time": "2021-09-23T21:40:55.161Z"
   },
   {
    "duration": 5,
    "start_time": "2021-09-23T21:40:55.589Z"
   },
   {
    "duration": 12,
    "start_time": "2021-09-23T21:40:55.597Z"
   },
   {
    "duration": 10,
    "start_time": "2021-09-23T21:40:55.624Z"
   },
   {
    "duration": 11,
    "start_time": "2021-09-23T21:40:55.636Z"
   },
   {
    "duration": 8,
    "start_time": "2021-09-23T21:40:55.649Z"
   },
   {
    "duration": 18,
    "start_time": "2021-09-23T21:40:55.659Z"
   },
   {
    "duration": 20,
    "start_time": "2021-09-23T21:40:55.680Z"
   },
   {
    "duration": 39,
    "start_time": "2021-09-23T21:40:55.703Z"
   },
   {
    "duration": 106,
    "start_time": "2021-09-23T21:40:55.825Z"
   },
   {
    "duration": 100,
    "start_time": "2021-09-23T21:40:55.935Z"
   },
   {
    "duration": 10,
    "start_time": "2021-09-23T21:40:56.123Z"
   },
   {
    "duration": 831,
    "start_time": "2021-09-23T21:41:34.364Z"
   },
   {
    "duration": 477,
    "start_time": "2021-09-23T21:41:58.105Z"
   },
   {
    "duration": 10,
    "start_time": "2021-09-23T21:43:04.980Z"
   },
   {
    "duration": 436,
    "start_time": "2021-09-23T21:43:04.993Z"
   },
   {
    "duration": 8,
    "start_time": "2021-09-23T21:47:05.663Z"
   },
   {
    "duration": 431,
    "start_time": "2021-09-23T21:47:06.836Z"
   },
   {
    "duration": 5,
    "start_time": "2021-09-23T21:47:24.888Z"
   },
   {
    "duration": 949,
    "start_time": "2021-09-23T21:47:31.066Z"
   },
   {
    "duration": 11,
    "start_time": "2021-09-23T21:47:38.235Z"
   },
   {
    "duration": 5,
    "start_time": "2021-09-23T21:47:59.660Z"
   },
   {
    "duration": 584,
    "start_time": "2021-09-23T21:48:04.760Z"
   },
   {
    "duration": 5,
    "start_time": "2021-09-23T21:48:12.686Z"
   },
   {
    "duration": 526,
    "start_time": "2021-09-23T21:48:18.478Z"
   },
   {
    "duration": 1493,
    "start_time": "2021-09-23T21:48:51.712Z"
   },
   {
    "duration": 21,
    "start_time": "2021-09-23T21:48:53.208Z"
   },
   {
    "duration": 9,
    "start_time": "2021-09-23T21:48:53.232Z"
   },
   {
    "duration": 19,
    "start_time": "2021-09-23T21:48:53.244Z"
   },
   {
    "duration": 58,
    "start_time": "2021-09-23T21:48:53.266Z"
   },
   {
    "duration": 8,
    "start_time": "2021-09-23T21:48:53.326Z"
   },
   {
    "duration": 17,
    "start_time": "2021-09-23T21:48:53.336Z"
   },
   {
    "duration": 18,
    "start_time": "2021-09-23T21:48:53.356Z"
   },
   {
    "duration": 19,
    "start_time": "2021-09-23T21:48:53.379Z"
   },
   {
    "duration": 387,
    "start_time": "2021-09-23T21:48:53.401Z"
   },
   {
    "duration": 435,
    "start_time": "2021-09-23T21:48:53.791Z"
   },
   {
    "duration": 6,
    "start_time": "2021-09-23T21:48:54.229Z"
   },
   {
    "duration": 12,
    "start_time": "2021-09-23T21:48:54.239Z"
   },
   {
    "duration": 7,
    "start_time": "2021-09-23T21:48:54.253Z"
   },
   {
    "duration": 6,
    "start_time": "2021-09-23T21:48:54.263Z"
   },
   {
    "duration": 51,
    "start_time": "2021-09-23T21:48:54.272Z"
   },
   {
    "duration": 4,
    "start_time": "2021-09-23T21:48:54.325Z"
   },
   {
    "duration": 93,
    "start_time": "2021-09-23T21:48:54.332Z"
   },
   {
    "duration": 98,
    "start_time": "2021-09-23T21:48:54.428Z"
   },
   {
    "duration": 97,
    "start_time": "2021-09-23T21:48:54.530Z"
   },
   {
    "duration": 95,
    "start_time": "2021-09-23T21:48:54.633Z"
   },
   {
    "duration": 1238,
    "start_time": "2021-09-24T07:14:16.742Z"
   },
   {
    "duration": 22,
    "start_time": "2021-09-24T07:14:17.981Z"
   },
   {
    "duration": 9,
    "start_time": "2021-09-24T07:14:18.006Z"
   },
   {
    "duration": 26,
    "start_time": "2021-09-24T07:14:18.017Z"
   },
   {
    "duration": 34,
    "start_time": "2021-09-24T07:14:18.046Z"
   },
   {
    "duration": 6,
    "start_time": "2021-09-24T07:14:18.083Z"
   },
   {
    "duration": 7,
    "start_time": "2021-09-24T07:14:18.091Z"
   },
   {
    "duration": 6,
    "start_time": "2021-09-24T07:14:18.102Z"
   },
   {
    "duration": 8,
    "start_time": "2021-09-24T07:14:18.146Z"
   },
   {
    "duration": 407,
    "start_time": "2021-09-24T07:14:18.156Z"
   },
   {
    "duration": 399,
    "start_time": "2021-09-24T07:14:18.566Z"
   },
   {
    "duration": 4,
    "start_time": "2021-09-24T07:14:18.967Z"
   },
   {
    "duration": 7,
    "start_time": "2021-09-24T07:14:18.974Z"
   },
   {
    "duration": 5,
    "start_time": "2021-09-24T07:14:18.983Z"
   },
   {
    "duration": 6,
    "start_time": "2021-09-24T07:14:18.990Z"
   },
   {
    "duration": 17,
    "start_time": "2021-09-24T07:14:18.998Z"
   },
   {
    "duration": 3,
    "start_time": "2021-09-24T07:14:19.045Z"
   },
   {
    "duration": 106,
    "start_time": "2021-09-24T07:14:19.050Z"
   },
   {
    "duration": 91,
    "start_time": "2021-09-24T07:14:19.160Z"
   },
   {
    "duration": 98,
    "start_time": "2021-09-24T07:14:19.253Z"
   },
   {
    "duration": 97,
    "start_time": "2021-09-24T07:14:19.353Z"
   },
   {
    "duration": 1117,
    "start_time": "2021-09-24T07:15:11.473Z"
   },
   {
    "duration": 18,
    "start_time": "2021-09-24T07:15:12.592Z"
   },
   {
    "duration": 9,
    "start_time": "2021-09-24T07:15:12.613Z"
   },
   {
    "duration": 15,
    "start_time": "2021-09-24T07:15:12.624Z"
   },
   {
    "duration": 25,
    "start_time": "2021-09-24T07:15:12.640Z"
   },
   {
    "duration": 7,
    "start_time": "2021-09-24T07:15:12.668Z"
   },
   {
    "duration": 13,
    "start_time": "2021-09-24T07:15:12.677Z"
   },
   {
    "duration": 17,
    "start_time": "2021-09-24T07:15:12.694Z"
   },
   {
    "duration": 14,
    "start_time": "2021-09-24T07:15:12.714Z"
   },
   {
    "duration": 231,
    "start_time": "2021-09-24T07:15:12.744Z"
   },
   {
    "duration": 254,
    "start_time": "2021-09-24T07:15:12.977Z"
   },
   {
    "duration": 13,
    "start_time": "2021-09-24T07:15:13.233Z"
   },
   {
    "duration": 15,
    "start_time": "2021-09-24T07:15:13.249Z"
   },
   {
    "duration": 9,
    "start_time": "2021-09-24T07:15:13.266Z"
   },
   {
    "duration": 1400,
    "start_time": "2021-09-24T07:15:13.277Z"
   },
   {
    "duration": -238,
    "start_time": "2021-09-24T07:15:14.917Z"
   },
   {
    "duration": -241,
    "start_time": "2021-09-24T07:15:14.921Z"
   },
   {
    "duration": -243,
    "start_time": "2021-09-24T07:15:14.925Z"
   },
   {
    "duration": -246,
    "start_time": "2021-09-24T07:15:14.929Z"
   },
   {
    "duration": -250,
    "start_time": "2021-09-24T07:15:14.934Z"
   },
   {
    "duration": -252,
    "start_time": "2021-09-24T07:15:14.938Z"
   },
   {
    "duration": 1161,
    "start_time": "2021-09-24T07:16:39.979Z"
   },
   {
    "duration": 20,
    "start_time": "2021-09-24T07:16:41.142Z"
   },
   {
    "duration": 8,
    "start_time": "2021-09-24T07:16:41.164Z"
   },
   {
    "duration": 12,
    "start_time": "2021-09-24T07:16:41.175Z"
   },
   {
    "duration": 24,
    "start_time": "2021-09-24T07:16:41.189Z"
   },
   {
    "duration": 5,
    "start_time": "2021-09-24T07:16:41.215Z"
   },
   {
    "duration": 24,
    "start_time": "2021-09-24T07:16:41.222Z"
   },
   {
    "duration": 7,
    "start_time": "2021-09-24T07:16:41.248Z"
   },
   {
    "duration": 9,
    "start_time": "2021-09-24T07:16:41.257Z"
   },
   {
    "duration": 247,
    "start_time": "2021-09-24T07:16:41.268Z"
   },
   {
    "duration": 255,
    "start_time": "2021-09-24T07:16:41.517Z"
   },
   {
    "duration": 4,
    "start_time": "2021-09-24T07:16:41.774Z"
   },
   {
    "duration": 6,
    "start_time": "2021-09-24T07:16:41.780Z"
   },
   {
    "duration": 6,
    "start_time": "2021-09-24T07:16:41.788Z"
   },
   {
    "duration": 6,
    "start_time": "2021-09-24T07:16:41.796Z"
   },
   {
    "duration": 42,
    "start_time": "2021-09-24T07:16:41.804Z"
   },
   {
    "duration": 3,
    "start_time": "2021-09-24T07:16:41.848Z"
   },
   {
    "duration": 105,
    "start_time": "2021-09-24T07:16:41.852Z"
   },
   {
    "duration": 8,
    "start_time": "2021-09-24T07:16:42.045Z"
   },
   {
    "duration": 98,
    "start_time": "2021-09-24T07:16:42.055Z"
   },
   {
    "duration": 91,
    "start_time": "2021-09-24T07:16:42.155Z"
   },
   {
    "duration": 5,
    "start_time": "2021-09-24T07:31:35.558Z"
   },
   {
    "duration": 849,
    "start_time": "2021-09-24T07:31:37.789Z"
   },
   {
    "duration": 6,
    "start_time": "2021-09-24T07:32:05.928Z"
   },
   {
    "duration": 12,
    "start_time": "2021-09-24T07:32:09.343Z"
   },
   {
    "duration": 533,
    "start_time": "2021-09-24T07:32:36.363Z"
   },
   {
    "duration": 4,
    "start_time": "2021-09-24T07:33:15.742Z"
   },
   {
    "duration": 9,
    "start_time": "2021-09-24T07:33:17.904Z"
   },
   {
    "duration": 4,
    "start_time": "2021-09-24T07:33:59.948Z"
   },
   {
    "duration": 5,
    "start_time": "2021-09-24T07:34:02.682Z"
   },
   {
    "duration": 628,
    "start_time": "2021-09-24T07:34:05.659Z"
   },
   {
    "duration": 4,
    "start_time": "2021-09-24T07:35:51.089Z"
   },
   {
    "duration": 5,
    "start_time": "2021-09-24T07:36:10.748Z"
   },
   {
    "duration": 8,
    "start_time": "2021-09-24T07:36:16.547Z"
   },
   {
    "duration": 1340,
    "start_time": "2021-09-24T07:37:22.318Z"
   },
   {
    "duration": 20,
    "start_time": "2021-09-24T07:37:23.661Z"
   },
   {
    "duration": 7,
    "start_time": "2021-09-24T07:37:23.684Z"
   },
   {
    "duration": 12,
    "start_time": "2021-09-24T07:37:23.694Z"
   },
   {
    "duration": 40,
    "start_time": "2021-09-24T07:37:23.708Z"
   },
   {
    "duration": 6,
    "start_time": "2021-09-24T07:37:23.750Z"
   },
   {
    "duration": 9,
    "start_time": "2021-09-24T07:37:23.758Z"
   },
   {
    "duration": 12,
    "start_time": "2021-09-24T07:37:23.769Z"
   },
   {
    "duration": 6,
    "start_time": "2021-09-24T07:37:23.785Z"
   },
   {
    "duration": 276,
    "start_time": "2021-09-24T07:37:23.793Z"
   },
   {
    "duration": 247,
    "start_time": "2021-09-24T07:37:24.071Z"
   },
   {
    "duration": 4,
    "start_time": "2021-09-24T07:37:24.320Z"
   },
   {
    "duration": 20,
    "start_time": "2021-09-24T07:37:24.326Z"
   },
   {
    "duration": 6,
    "start_time": "2021-09-24T07:37:24.348Z"
   },
   {
    "duration": 18,
    "start_time": "2021-09-24T07:37:24.357Z"
   },
   {
    "duration": 68,
    "start_time": "2021-09-24T07:37:24.378Z"
   },
   {
    "duration": 8,
    "start_time": "2021-09-24T07:37:24.449Z"
   },
   {
    "duration": 100,
    "start_time": "2021-09-24T07:37:24.459Z"
   },
   {
    "duration": 184,
    "start_time": "2021-09-24T07:37:24.562Z"
   },
   {
    "duration": 5,
    "start_time": "2021-09-24T07:37:24.749Z"
   },
   {
    "duration": 94,
    "start_time": "2021-09-24T07:37:24.756Z"
   },
   {
    "duration": 1169,
    "start_time": "2021-09-24T07:49:36.970Z"
   },
   {
    "duration": 19,
    "start_time": "2021-09-24T07:49:38.141Z"
   },
   {
    "duration": 7,
    "start_time": "2021-09-24T07:49:38.162Z"
   },
   {
    "duration": 13,
    "start_time": "2021-09-24T07:49:38.171Z"
   },
   {
    "duration": 24,
    "start_time": "2021-09-24T07:49:38.186Z"
   },
   {
    "duration": 6,
    "start_time": "2021-09-24T07:49:38.211Z"
   },
   {
    "duration": 6,
    "start_time": "2021-09-24T07:49:38.219Z"
   },
   {
    "duration": 9,
    "start_time": "2021-09-24T07:49:38.243Z"
   },
   {
    "duration": 7,
    "start_time": "2021-09-24T07:49:38.256Z"
   },
   {
    "duration": 388,
    "start_time": "2021-09-24T07:49:38.266Z"
   },
   {
    "duration": 406,
    "start_time": "2021-09-24T07:49:38.656Z"
   },
   {
    "duration": 5,
    "start_time": "2021-09-24T07:49:39.064Z"
   },
   {
    "duration": 9,
    "start_time": "2021-09-24T07:49:39.071Z"
   },
   {
    "duration": 7,
    "start_time": "2021-09-24T07:49:39.082Z"
   },
   {
    "duration": 9,
    "start_time": "2021-09-24T07:49:39.091Z"
   },
   {
    "duration": 53,
    "start_time": "2021-09-24T07:49:39.103Z"
   },
   {
    "duration": 4,
    "start_time": "2021-09-24T07:49:39.158Z"
   },
   {
    "duration": 100,
    "start_time": "2021-09-24T07:49:39.244Z"
   },
   {
    "duration": 103,
    "start_time": "2021-09-24T07:49:39.347Z"
   },
   {
    "duration": 92,
    "start_time": "2021-09-24T07:49:39.452Z"
   },
   {
    "duration": 99,
    "start_time": "2021-09-24T07:49:39.547Z"
   }
  ],
  "kernelspec": {
   "display_name": "Python 3",
   "language": "python",
   "name": "python3"
  },
  "language_info": {
   "codemirror_mode": {
    "name": "ipython",
    "version": 3
   },
   "file_extension": ".py",
   "mimetype": "text/x-python",
   "name": "python",
   "nbconvert_exporter": "python",
   "pygments_lexer": "ipython3",
   "version": "3.8.8"
  },
  "toc": {
   "base_numbering": 1,
   "nav_menu": {},
   "number_sections": true,
   "sideBar": true,
   "skip_h1_title": true,
   "title_cell": "Содержание",
   "title_sidebar": "Contents",
   "toc_cell": true,
   "toc_position": {
    "height": "calc(100% - 180px)",
    "left": "10px",
    "top": "150px",
    "width": "220.188px"
   },
   "toc_section_display": true,
   "toc_window_display": true
  }
 },
 "nbformat": 4,
 "nbformat_minor": 2
}

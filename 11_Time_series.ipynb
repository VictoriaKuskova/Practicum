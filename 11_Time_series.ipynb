{
 "cells": [
  {
   "cell_type": "markdown",
   "metadata": {},
   "source": [
    "#  Прогнозирование заказов такси"
   ]
  },
  {
   "cell_type": "markdown",
   "metadata": {},
   "source": [
    "## Введение"
   ]
  },
  {
   "cell_type": "markdown",
   "metadata": {},
   "source": [
    "В данном проекте мы решим задачу в рамках темы \"Временные ряды\", по проекту \"Прогнозирование заказов такси\".\n",
    "\n",
    "Ниже можно найти описание задачи, а также примерный план проекта.\n",
    "\n",
    "<b>Описание задачи:</b>\n",
    "\n",
    "\n",
    "Компания «Чётенькое такси» собрала исторические данные о заказах такси в аэропортах. Чтобы привлекать больше водителей в период пиковой нагрузки, нужно спрогнозировать количество заказов такси на следующий час. Постройте модель для такого предсказания.\n",
    "\n",
    "Значение метрики *RMSE* на тестовой выборке должно быть не больше 48.\n",
    "\n",
    "Вам нужно:\n",
    "\n",
    "1. Загрузить данные и выполнить их ресемплирование по одному часу.\n",
    "2. Проанализировать данные.\n",
    "3. Обучить разные модели с различными гиперпараметрами. Сделать тестовую выборку размером 10% от исходных данных.\n",
    "4. Проверить данные на тестовой выборке и сделать выводы.\n",
    "\n",
    "\n",
    "Данные лежат в файле `taxi.csv`. Количество заказов находится в столбце `num_orders` (от англ. *number of orders*, «число заказов»).\n",
    "\n",
    "<b>План работы над проектом:</b>\n",
    "- Загрузка данных и ресемплирование.\n",
    "- Анализ данных.\n",
    "- Обучение моделей.\n",
    "- Изучение моделей и выбор оптимальной.\n",
    "- Общий вывод.\n",
    "- Чек-лист проекта.\n",
    "\n",
    "<b>Автор проекта:</b>\n",
    "- Виктория Кускова, \n",
    "- студентка Яндекс.Практикума, 2021.\n"
   ]
  },
  {
   "cell_type": "markdown",
   "metadata": {},
   "source": [
    "## Подготовка"
   ]
  },
  {
   "cell_type": "markdown",
   "metadata": {},
   "source": [
    "Выделим импорты всех библиотек, импорт файла с данными и общую информацию по нему в отдельные ячейки."
   ]
  },
  {
   "cell_type": "code",
   "execution_count": 1,
   "metadata": {},
   "outputs": [],
   "source": [
    "import pandas as pd\n",
    "import numpy as np\n",
    "import matplotlib.pyplot as plt\n",
    "from statsmodels.tsa.seasonal import seasonal_decompose\n",
    "import warnings\n",
    "from sklearn.model_selection import train_test_split, cross_val_score, TimeSeriesSplit, GridSearchCV\n",
    "from sklearn.linear_model import LinearRegression\n",
    "from sklearn.tree import DecisionTreeRegressor\n",
    "from sklearn.ensemble import RandomForestRegressor\n",
    "from lightgbm import LGBMRegressor\n",
    "from catboost import CatBoostRegressor\n",
    "from sklearn.metrics import mean_squared_error"
   ]
  },
  {
   "cell_type": "code",
   "execution_count": 2,
   "metadata": {},
   "outputs": [],
   "source": [
    "#импорт файла с данными\n",
    "df = pd.read_csv('/datasets/taxi.csv', index_col=[0], parse_dates=[0])"
   ]
  },
  {
   "cell_type": "code",
   "execution_count": 3,
   "metadata": {},
   "outputs": [
    {
     "name": "stdout",
     "output_type": "stream",
     "text": [
      "<class 'pandas.core.frame.DataFrame'>\n",
      "DatetimeIndex: 26496 entries, 2018-03-01 00:00:00 to 2018-08-31 23:50:00\n",
      "Data columns (total 1 columns):\n",
      "num_orders    26496 non-null int64\n",
      "dtypes: int64(1)\n",
      "memory usage: 414.0 KB\n"
     ]
    }
   ],
   "source": [
    "df.info()"
   ]
  },
  {
   "cell_type": "markdown",
   "metadata": {},
   "source": [
    "Видим, что мы успешно загрузили данные, создав индекс по дате. Но теперь нам нужно выполнить ресемплирование по одному часу."
   ]
  },
  {
   "cell_type": "code",
   "execution_count": 4,
   "metadata": {},
   "outputs": [],
   "source": [
    "df.sort_index(inplace=True)\n",
    "df = df.resample('1H').sum()"
   ]
  },
  {
   "cell_type": "code",
   "execution_count": 5,
   "metadata": {},
   "outputs": [
    {
     "name": "stdout",
     "output_type": "stream",
     "text": [
      "<class 'pandas.core.frame.DataFrame'>\n",
      "DatetimeIndex: 4416 entries, 2018-03-01 00:00:00 to 2018-08-31 23:00:00\n",
      "Freq: H\n",
      "Data columns (total 1 columns):\n",
      "num_orders    4416 non-null int64\n",
      "dtypes: int64(1)\n",
      "memory usage: 69.0 KB\n"
     ]
    }
   ],
   "source": [
    "df.info()"
   ]
  },
  {
   "cell_type": "markdown",
   "metadata": {},
   "source": [
    "Объем строк уменьшился, это хорошо, значит данные сгруппировались. Видно, что данные у нас с марта по август 2018 года. Посмотрим на первые строки."
   ]
  },
  {
   "cell_type": "code",
   "execution_count": 6,
   "metadata": {},
   "outputs": [
    {
     "data": {
      "text/html": [
       "<div>\n",
       "<style scoped>\n",
       "    .dataframe tbody tr th:only-of-type {\n",
       "        vertical-align: middle;\n",
       "    }\n",
       "\n",
       "    .dataframe tbody tr th {\n",
       "        vertical-align: top;\n",
       "    }\n",
       "\n",
       "    .dataframe thead th {\n",
       "        text-align: right;\n",
       "    }\n",
       "</style>\n",
       "<table border=\"1\" class=\"dataframe\">\n",
       "  <thead>\n",
       "    <tr style=\"text-align: right;\">\n",
       "      <th></th>\n",
       "      <th>num_orders</th>\n",
       "    </tr>\n",
       "    <tr>\n",
       "      <th>datetime</th>\n",
       "      <th></th>\n",
       "    </tr>\n",
       "  </thead>\n",
       "  <tbody>\n",
       "    <tr>\n",
       "      <td>2018-03-01 00:00:00</td>\n",
       "      <td>124</td>\n",
       "    </tr>\n",
       "    <tr>\n",
       "      <td>2018-03-01 01:00:00</td>\n",
       "      <td>85</td>\n",
       "    </tr>\n",
       "    <tr>\n",
       "      <td>2018-03-01 02:00:00</td>\n",
       "      <td>71</td>\n",
       "    </tr>\n",
       "    <tr>\n",
       "      <td>2018-03-01 03:00:00</td>\n",
       "      <td>66</td>\n",
       "    </tr>\n",
       "    <tr>\n",
       "      <td>2018-03-01 04:00:00</td>\n",
       "      <td>43</td>\n",
       "    </tr>\n",
       "  </tbody>\n",
       "</table>\n",
       "</div>"
      ],
      "text/plain": [
       "                     num_orders\n",
       "datetime                       \n",
       "2018-03-01 00:00:00         124\n",
       "2018-03-01 01:00:00          85\n",
       "2018-03-01 02:00:00          71\n",
       "2018-03-01 03:00:00          66\n",
       "2018-03-01 04:00:00          43"
      ]
     },
     "execution_count": 6,
     "metadata": {},
     "output_type": "execute_result"
    }
   ],
   "source": [
    "df.head()"
   ]
  },
  {
   "cell_type": "markdown",
   "metadata": {},
   "source": [
    "Данные загружены, теперь посмотрим на них внимательнее и попробуем проанализировать."
   ]
  },
  {
   "cell_type": "markdown",
   "metadata": {},
   "source": [
    "## Анализ"
   ]
  },
  {
   "cell_type": "markdown",
   "metadata": {},
   "source": [
    "### Изучение данных"
   ]
  },
  {
   "cell_type": "markdown",
   "metadata": {},
   "source": [
    "Посмотрим на то, как меняются данные относительно времени."
   ]
  },
  {
   "cell_type": "code",
   "execution_count": 7,
   "metadata": {},
   "outputs": [
    {
     "data": {
      "image/png": "[encoded data removed]",
      "text/plain": [
       "<Figure size 1080x360 with 1 Axes>"
      ]
     },
     "metadata": {
      "needs_background": "light"
     },
     "output_type": "display_data"
    }
   ],
   "source": [
    "warnings.filterwarnings('ignore')\n",
    "plt.figure(figsize=(15, 5))\n",
    "plt.title(\"Количество заказов такси за час\", fontweight='bold', size='large')\n",
    "plt.plot(df)\n",
    "plt.show()"
   ]
  },
  {
   "cell_type": "markdown",
   "metadata": {},
   "source": [
    "Даже по этому графику можно сделать первые выводы:\n",
    "- количество заказов постепенно растет от марта к августу.\n",
    "- максимальное количество заказов за 1 час пришлось на август, видим даже несколько выбросов.\n",
    "- от часа к часу значение колеблитс, поэтому график такой скачащий.\n",
    "\n",
    "Так как видно, что число заказов в среднем постепенно растет. И в авгуте среднее больше чем в марте. Также и колебаться данные начинают к авгуту сильнее. Поэтому и отклонение скорее всего отличное и меняется со временем. Это говорит о том, что наш ряд <b>нестационарный</b>.\n",
    "\n",
    "Посмотрим на него внимательнее. Добавим скользящее среднее, где  рамер скольжения - 24 (аналог среднего числа заказов за сутки). Сразу добавим этот столбец, чтобы скользящее среднее считалась без учета текущего часа. "
   ]
  },
  {
   "cell_type": "code",
   "execution_count": 8,
   "metadata": {},
   "outputs": [],
   "source": [
    "df['rolling_mean'] = df['num_orders'].shift().rolling(24).mean()"
   ]
  },
  {
   "cell_type": "code",
   "execution_count": 9,
   "metadata": {},
   "outputs": [
    {
     "data": {
      "image/png": "[encoded data removed]",
      "text/plain": [
       "<Figure size 1080x360 with 1 Axes>"
      ]
     },
     "metadata": {
      "needs_background": "light"
     },
     "output_type": "display_data"
    }
   ],
   "source": [
    "plt.figure(figsize=(15, 5))\n",
    "plt.title(\"Количество заказов такси за час\", fontweight='bold', size='large')\n",
    "plt.plot(df)\n",
    "plt.show()"
   ]
  },
  {
   "cell_type": "markdown",
   "metadata": {},
   "source": [
    "Да, видим подтверждение наших наблюдений: \n",
    "- Среднее число заказов за час явно растет - наблюдается определенные <b>тренд</b>. \n",
    "- Но также видим и определенную <b>сезонность</b> отностельно дня ко дню. \n",
    "\n",
    "Посмотрим на эти параметры более явно."
   ]
  },
  {
   "cell_type": "code",
   "execution_count": 10,
   "metadata": {},
   "outputs": [],
   "source": [
    "decomposed = seasonal_decompose(df['num_orders'])"
   ]
  },
  {
   "cell_type": "code",
   "execution_count": 11,
   "metadata": {},
   "outputs": [
    {
     "data": {
      "image/png": "[encoded data removed]",
      "text/plain": [
       "<Figure size 1080x576 with 3 Axes>"
      ]
     },
     "metadata": {
      "needs_background": "light"
     },
     "output_type": "display_data"
    }
   ],
   "source": [
    "plt.figure(figsize=(15, 8))\n",
    "plt.subplot(311)\n",
    "decomposed.trend.plot(ax=plt.gca())\n",
    "plt.title('Trend')\n",
    "plt.subplot(312)\n",
    "decomposed.seasonal.plot(ax=plt.gca())\n",
    "plt.title('Seasonality')\n",
    "plt.subplot(313)\n",
    "decomposed.resid.plot(ax=plt.gca())\n",
    "plt.title('Residuals')\n",
    "plt.tight_layout()"
   ]
  },
  {
   "cell_type": "markdown",
   "metadata": {},
   "source": [
    "Видим на таком большом отрезке времени довольно плотные графики. Но тренд возрастания, определенную сезонность и остаточную сотсаляющую видно. Посмотрим на это на еще и более коротком отрезке - Августе."
   ]
  },
  {
   "cell_type": "code",
   "execution_count": 12,
   "metadata": {},
   "outputs": [],
   "source": [
    "decomposed2 = seasonal_decompose(df['2018-08':'2018-08']['num_orders'])"
   ]
  },
  {
   "cell_type": "code",
   "execution_count": 13,
   "metadata": {},
   "outputs": [
    {
     "data": {
      "image/png": "[encoded data removed]",
      "text/plain": [
       "<Figure size 1080x576 with 3 Axes>"
      ]
     },
     "metadata": {
      "needs_background": "light"
     },
     "output_type": "display_data"
    }
   ],
   "source": [
    "plt.figure(figsize=(15, 8))\n",
    "plt.subplot(311)\n",
    "decomposed2.trend.plot(ax=plt.gca())\n",
    "plt.title('Trend')\n",
    "plt.subplot(312)\n",
    "decomposed2.seasonal.plot(ax=plt.gca())\n",
    "plt.title('Seasonality')\n",
    "plt.subplot(313)\n",
    "decomposed2.resid.plot(ax=plt.gca())\n",
    "plt.title('Residuals')\n",
    "plt.tight_layout()"
   ]
  },
  {
   "cell_type": "markdown",
   "metadata": {},
   "source": [
    "Видим определенно сезонность, которая очень похожа на зависимость от времени суток. Количество цикличных пиков и падений равносильно количеству дней за август."
   ]
  },
  {
   "cell_type": "markdown",
   "metadata": {},
   "source": [
    "### Подготовка признаков"
   ]
  },
  {
   "cell_type": "markdown",
   "metadata": {},
   "source": [
    "Добавим к нашей выборке дополнительные столбцы. Начнем с временных показателей."
   ]
  },
  {
   "cell_type": "code",
   "execution_count": 14,
   "metadata": {},
   "outputs": [],
   "source": [
    "ml_df = df.copy()"
   ]
  },
  {
   "cell_type": "code",
   "execution_count": 15,
   "metadata": {},
   "outputs": [],
   "source": [
    "ml_df['year'] = ml_df.index.year\n",
    "ml_df['month'] = ml_df.index.month\n",
    "ml_df['day'] = ml_df.index.day\n",
    "ml_df['dayofweek'] = ml_df.index.dayofweek\n",
    "ml_df['hour'] = ml_df.index.hour"
   ]
  },
  {
   "cell_type": "code",
   "execution_count": 16,
   "metadata": {},
   "outputs": [
    {
     "data": {
      "text/html": [
       "<div>\n",
       "<style scoped>\n",
       "    .dataframe tbody tr th:only-of-type {\n",
       "        vertical-align: middle;\n",
       "    }\n",
       "\n",
       "    .dataframe tbody tr th {\n",
       "        vertical-align: top;\n",
       "    }\n",
       "\n",
       "    .dataframe thead th {\n",
       "        text-align: right;\n",
       "    }\n",
       "</style>\n",
       "<table border=\"1\" class=\"dataframe\">\n",
       "  <thead>\n",
       "    <tr style=\"text-align: right;\">\n",
       "      <th></th>\n",
       "      <th>num_orders</th>\n",
       "      <th>rolling_mean</th>\n",
       "      <th>year</th>\n",
       "      <th>month</th>\n",
       "      <th>day</th>\n",
       "      <th>dayofweek</th>\n",
       "      <th>hour</th>\n",
       "    </tr>\n",
       "    <tr>\n",
       "      <th>datetime</th>\n",
       "      <th></th>\n",
       "      <th></th>\n",
       "      <th></th>\n",
       "      <th></th>\n",
       "      <th></th>\n",
       "      <th></th>\n",
       "      <th></th>\n",
       "    </tr>\n",
       "  </thead>\n",
       "  <tbody>\n",
       "    <tr>\n",
       "      <td>2018-03-01 00:00:00</td>\n",
       "      <td>124</td>\n",
       "      <td>NaN</td>\n",
       "      <td>2018</td>\n",
       "      <td>3</td>\n",
       "      <td>1</td>\n",
       "      <td>3</td>\n",
       "      <td>0</td>\n",
       "    </tr>\n",
       "    <tr>\n",
       "      <td>2018-03-01 01:00:00</td>\n",
       "      <td>85</td>\n",
       "      <td>NaN</td>\n",
       "      <td>2018</td>\n",
       "      <td>3</td>\n",
       "      <td>1</td>\n",
       "      <td>3</td>\n",
       "      <td>1</td>\n",
       "    </tr>\n",
       "    <tr>\n",
       "      <td>2018-03-01 02:00:00</td>\n",
       "      <td>71</td>\n",
       "      <td>NaN</td>\n",
       "      <td>2018</td>\n",
       "      <td>3</td>\n",
       "      <td>1</td>\n",
       "      <td>3</td>\n",
       "      <td>2</td>\n",
       "    </tr>\n",
       "    <tr>\n",
       "      <td>2018-03-01 03:00:00</td>\n",
       "      <td>66</td>\n",
       "      <td>NaN</td>\n",
       "      <td>2018</td>\n",
       "      <td>3</td>\n",
       "      <td>1</td>\n",
       "      <td>3</td>\n",
       "      <td>3</td>\n",
       "    </tr>\n",
       "    <tr>\n",
       "      <td>2018-03-01 04:00:00</td>\n",
       "      <td>43</td>\n",
       "      <td>NaN</td>\n",
       "      <td>2018</td>\n",
       "      <td>3</td>\n",
       "      <td>1</td>\n",
       "      <td>3</td>\n",
       "      <td>4</td>\n",
       "    </tr>\n",
       "  </tbody>\n",
       "</table>\n",
       "</div>"
      ],
      "text/plain": [
       "                     num_orders  rolling_mean  year  month  day  dayofweek  \\\n",
       "datetime                                                                     \n",
       "2018-03-01 00:00:00         124           NaN  2018      3    1          3   \n",
       "2018-03-01 01:00:00          85           NaN  2018      3    1          3   \n",
       "2018-03-01 02:00:00          71           NaN  2018      3    1          3   \n",
       "2018-03-01 03:00:00          66           NaN  2018      3    1          3   \n",
       "2018-03-01 04:00:00          43           NaN  2018      3    1          3   \n",
       "\n",
       "                     hour  \n",
       "datetime                   \n",
       "2018-03-01 00:00:00     0  \n",
       "2018-03-01 01:00:00     1  \n",
       "2018-03-01 02:00:00     2  \n",
       "2018-03-01 03:00:00     3  \n",
       "2018-03-01 04:00:00     4  "
      ]
     },
     "execution_count": 16,
     "metadata": {},
     "output_type": "execute_result"
    }
   ],
   "source": [
    "ml_df.head()"
   ]
  },
  {
   "cell_type": "markdown",
   "metadata": {},
   "source": [
    "Теперь добавим отстающие значения."
   ]
  },
  {
   "cell_type": "code",
   "execution_count": 17,
   "metadata": {},
   "outputs": [],
   "source": [
    "for lag in range(1, 25):\n",
    "    ml_df['lag_{}'.format(lag)] = ml_df['num_orders'].shift(lag)"
   ]
  },
  {
   "cell_type": "code",
   "execution_count": 18,
   "metadata": {},
   "outputs": [
    {
     "data": {
      "text/html": [
       "<div>\n",
       "<style scoped>\n",
       "    .dataframe tbody tr th:only-of-type {\n",
       "        vertical-align: middle;\n",
       "    }\n",
       "\n",
       "    .dataframe tbody tr th {\n",
       "        vertical-align: top;\n",
       "    }\n",
       "\n",
       "    .dataframe thead th {\n",
       "        text-align: right;\n",
       "    }\n",
       "</style>\n",
       "<table border=\"1\" class=\"dataframe\">\n",
       "  <thead>\n",
       "    <tr style=\"text-align: right;\">\n",
       "      <th></th>\n",
       "      <th>num_orders</th>\n",
       "      <th>rolling_mean</th>\n",
       "      <th>year</th>\n",
       "      <th>month</th>\n",
       "      <th>day</th>\n",
       "      <th>dayofweek</th>\n",
       "      <th>hour</th>\n",
       "      <th>lag_1</th>\n",
       "      <th>lag_2</th>\n",
       "      <th>lag_3</th>\n",
       "      <th>...</th>\n",
       "      <th>lag_15</th>\n",
       "      <th>lag_16</th>\n",
       "      <th>lag_17</th>\n",
       "      <th>lag_18</th>\n",
       "      <th>lag_19</th>\n",
       "      <th>lag_20</th>\n",
       "      <th>lag_21</th>\n",
       "      <th>lag_22</th>\n",
       "      <th>lag_23</th>\n",
       "      <th>lag_24</th>\n",
       "    </tr>\n",
       "    <tr>\n",
       "      <th>datetime</th>\n",
       "      <th></th>\n",
       "      <th></th>\n",
       "      <th></th>\n",
       "      <th></th>\n",
       "      <th></th>\n",
       "      <th></th>\n",
       "      <th></th>\n",
       "      <th></th>\n",
       "      <th></th>\n",
       "      <th></th>\n",
       "      <th></th>\n",
       "      <th></th>\n",
       "      <th></th>\n",
       "      <th></th>\n",
       "      <th></th>\n",
       "      <th></th>\n",
       "      <th></th>\n",
       "      <th></th>\n",
       "      <th></th>\n",
       "      <th></th>\n",
       "      <th></th>\n",
       "    </tr>\n",
       "  </thead>\n",
       "  <tbody>\n",
       "    <tr>\n",
       "      <td>2018-03-01 00:00:00</td>\n",
       "      <td>124</td>\n",
       "      <td>NaN</td>\n",
       "      <td>2018</td>\n",
       "      <td>3</td>\n",
       "      <td>1</td>\n",
       "      <td>3</td>\n",
       "      <td>0</td>\n",
       "      <td>NaN</td>\n",
       "      <td>NaN</td>\n",
       "      <td>NaN</td>\n",
       "      <td>...</td>\n",
       "      <td>NaN</td>\n",
       "      <td>NaN</td>\n",
       "      <td>NaN</td>\n",
       "      <td>NaN</td>\n",
       "      <td>NaN</td>\n",
       "      <td>NaN</td>\n",
       "      <td>NaN</td>\n",
       "      <td>NaN</td>\n",
       "      <td>NaN</td>\n",
       "      <td>NaN</td>\n",
       "    </tr>\n",
       "    <tr>\n",
       "      <td>2018-03-01 01:00:00</td>\n",
       "      <td>85</td>\n",
       "      <td>NaN</td>\n",
       "      <td>2018</td>\n",
       "      <td>3</td>\n",
       "      <td>1</td>\n",
       "      <td>3</td>\n",
       "      <td>1</td>\n",
       "      <td>124.0</td>\n",
       "      <td>NaN</td>\n",
       "      <td>NaN</td>\n",
       "      <td>...</td>\n",
       "      <td>NaN</td>\n",
       "      <td>NaN</td>\n",
       "      <td>NaN</td>\n",
       "      <td>NaN</td>\n",
       "      <td>NaN</td>\n",
       "      <td>NaN</td>\n",
       "      <td>NaN</td>\n",
       "      <td>NaN</td>\n",
       "      <td>NaN</td>\n",
       "      <td>NaN</td>\n",
       "    </tr>\n",
       "    <tr>\n",
       "      <td>2018-03-01 02:00:00</td>\n",
       "      <td>71</td>\n",
       "      <td>NaN</td>\n",
       "      <td>2018</td>\n",
       "      <td>3</td>\n",
       "      <td>1</td>\n",
       "      <td>3</td>\n",
       "      <td>2</td>\n",
       "      <td>85.0</td>\n",
       "      <td>124.0</td>\n",
       "      <td>NaN</td>\n",
       "      <td>...</td>\n",
       "      <td>NaN</td>\n",
       "      <td>NaN</td>\n",
       "      <td>NaN</td>\n",
       "      <td>NaN</td>\n",
       "      <td>NaN</td>\n",
       "      <td>NaN</td>\n",
       "      <td>NaN</td>\n",
       "      <td>NaN</td>\n",
       "      <td>NaN</td>\n",
       "      <td>NaN</td>\n",
       "    </tr>\n",
       "    <tr>\n",
       "      <td>2018-03-01 03:00:00</td>\n",
       "      <td>66</td>\n",
       "      <td>NaN</td>\n",
       "      <td>2018</td>\n",
       "      <td>3</td>\n",
       "      <td>1</td>\n",
       "      <td>3</td>\n",
       "      <td>3</td>\n",
       "      <td>71.0</td>\n",
       "      <td>85.0</td>\n",
       "      <td>124.0</td>\n",
       "      <td>...</td>\n",
       "      <td>NaN</td>\n",
       "      <td>NaN</td>\n",
       "      <td>NaN</td>\n",
       "      <td>NaN</td>\n",
       "      <td>NaN</td>\n",
       "      <td>NaN</td>\n",
       "      <td>NaN</td>\n",
       "      <td>NaN</td>\n",
       "      <td>NaN</td>\n",
       "      <td>NaN</td>\n",
       "    </tr>\n",
       "    <tr>\n",
       "      <td>2018-03-01 04:00:00</td>\n",
       "      <td>43</td>\n",
       "      <td>NaN</td>\n",
       "      <td>2018</td>\n",
       "      <td>3</td>\n",
       "      <td>1</td>\n",
       "      <td>3</td>\n",
       "      <td>4</td>\n",
       "      <td>66.0</td>\n",
       "      <td>71.0</td>\n",
       "      <td>85.0</td>\n",
       "      <td>...</td>\n",
       "      <td>NaN</td>\n",
       "      <td>NaN</td>\n",
       "      <td>NaN</td>\n",
       "      <td>NaN</td>\n",
       "      <td>NaN</td>\n",
       "      <td>NaN</td>\n",
       "      <td>NaN</td>\n",
       "      <td>NaN</td>\n",
       "      <td>NaN</td>\n",
       "      <td>NaN</td>\n",
       "    </tr>\n",
       "  </tbody>\n",
       "</table>\n",
       "<p>5 rows × 31 columns</p>\n",
       "</div>"
      ],
      "text/plain": [
       "                     num_orders  rolling_mean  year  month  day  dayofweek  \\\n",
       "datetime                                                                     \n",
       "2018-03-01 00:00:00         124           NaN  2018      3    1          3   \n",
       "2018-03-01 01:00:00          85           NaN  2018      3    1          3   \n",
       "2018-03-01 02:00:00          71           NaN  2018      3    1          3   \n",
       "2018-03-01 03:00:00          66           NaN  2018      3    1          3   \n",
       "2018-03-01 04:00:00          43           NaN  2018      3    1          3   \n",
       "\n",
       "                     hour  lag_1  lag_2  lag_3  ...  lag_15  lag_16  lag_17  \\\n",
       "datetime                                        ...                           \n",
       "2018-03-01 00:00:00     0    NaN    NaN    NaN  ...     NaN     NaN     NaN   \n",
       "2018-03-01 01:00:00     1  124.0    NaN    NaN  ...     NaN     NaN     NaN   \n",
       "2018-03-01 02:00:00     2   85.0  124.0    NaN  ...     NaN     NaN     NaN   \n",
       "2018-03-01 03:00:00     3   71.0   85.0  124.0  ...     NaN     NaN     NaN   \n",
       "2018-03-01 04:00:00     4   66.0   71.0   85.0  ...     NaN     NaN     NaN   \n",
       "\n",
       "                     lag_18  lag_19  lag_20  lag_21  lag_22  lag_23  lag_24  \n",
       "datetime                                                                     \n",
       "2018-03-01 00:00:00     NaN     NaN     NaN     NaN     NaN     NaN     NaN  \n",
       "2018-03-01 01:00:00     NaN     NaN     NaN     NaN     NaN     NaN     NaN  \n",
       "2018-03-01 02:00:00     NaN     NaN     NaN     NaN     NaN     NaN     NaN  \n",
       "2018-03-01 03:00:00     NaN     NaN     NaN     NaN     NaN     NaN     NaN  \n",
       "2018-03-01 04:00:00     NaN     NaN     NaN     NaN     NaN     NaN     NaN  \n",
       "\n",
       "[5 rows x 31 columns]"
      ]
     },
     "execution_count": 18,
     "metadata": {},
     "output_type": "execute_result"
    }
   ],
   "source": [
    "ml_df.head()"
   ]
  },
  {
   "cell_type": "markdown",
   "metadata": {},
   "source": [
    "Отстающие данные тоже добавили."
   ]
  },
  {
   "cell_type": "markdown",
   "metadata": {},
   "source": [
    "## Обучение"
   ]
  },
  {
   "cell_type": "markdown",
   "metadata": {},
   "source": [
    "### Создание выборок"
   ]
  },
  {
   "cell_type": "markdown",
   "metadata": {},
   "source": [
    "Создадим тестовую и обучающие выборки."
   ]
  },
  {
   "cell_type": "code",
   "execution_count": 19,
   "metadata": {},
   "outputs": [],
   "source": [
    "train, test = train_test_split(ml_df, shuffle=False, test_size=0.1)\n",
    "train = train.dropna()\n",
    "\n",
    "target_train = train['num_orders']\n",
    "target_test = test['num_orders']\n",
    "features_train = train.drop('num_orders', axis=1)\n",
    "features_test = test.drop('num_orders', axis=1)"
   ]
  },
  {
   "cell_type": "code",
   "execution_count": 20,
   "metadata": {},
   "outputs": [
    {
     "data": {
      "text/plain": [
       "(Timestamp('2018-03-02 00:00:00'),\n",
       " Timestamp('2018-08-13 13:00:00'),\n",
       " Timestamp('2018-08-13 14:00:00'),\n",
       " Timestamp('2018-08-31 23:00:00'))"
      ]
     },
     "execution_count": 20,
     "metadata": {},
     "output_type": "execute_result"
    }
   ],
   "source": [
    "train.index.min(), train.index.max(), test.index.min(), test.index.max()"
   ]
  },
  {
   "cell_type": "code",
   "execution_count": 21,
   "metadata": {},
   "outputs": [
    {
     "data": {
      "text/plain": [
       "((3950,), (442,), (3950, 30), (442, 30))"
      ]
     },
     "execution_count": 21,
     "metadata": {},
     "output_type": "execute_result"
    }
   ],
   "source": [
    "target_train.shape, target_test.shape, features_train.shape, features_test.shape"
   ]
  },
  {
   "cell_type": "markdown",
   "metadata": {},
   "source": [
    "Разделение прошло успешно, стык на дате 13.08.2018. Размеры выборок 9 к 1. Единственный момент, что из-за смещения по столбцам с отсающими данными - у нас удалились некоторые строки за 01.03, так как они были с пустыми значениями."
   ]
  },
  {
   "cell_type": "markdown",
   "metadata": {},
   "source": [
    "### Проверка элементарных моделей"
   ]
  },
  {
   "cell_type": "markdown",
   "metadata": {},
   "source": [
    "Посмотрим, что будет если предсказывать константой."
   ]
  },
  {
   "cell_type": "code",
   "execution_count": 22,
   "metadata": {},
   "outputs": [],
   "source": [
    "pred_median = np.ones(target_test.shape)*target_train.median()\n",
    "pred_mean = np.ones(target_test.shape)*target_train.mean()"
   ]
  },
  {
   "cell_type": "code",
   "execution_count": 23,
   "metadata": {},
   "outputs": [
    {
     "data": {
      "text/plain": [
       "(87.15277582981295, 84.6499381993622)"
      ]
     },
     "execution_count": 23,
     "metadata": {},
     "output_type": "execute_result"
    }
   ],
   "source": [
    "mean_squared_error(target_test, pred_median)**0.5, mean_squared_error(target_test, pred_mean)**0.5"
   ]
  },
  {
   "cell_type": "markdown",
   "metadata": {},
   "source": [
    "Теперь посмотрим на оценку RMSE у модели — предсказание предыдущим значением ряда."
   ]
  },
  {
   "cell_type": "code",
   "execution_count": 24,
   "metadata": {},
   "outputs": [],
   "source": [
    "pred_previous = target_test.shift()\n",
    "pred_previous.iloc[0] = target_train.iloc[-1]"
   ]
  },
  {
   "cell_type": "code",
   "execution_count": 25,
   "metadata": {},
   "outputs": [
    {
     "data": {
      "text/plain": [
       "58.856486242815066"
      ]
     },
     "execution_count": 25,
     "metadata": {},
     "output_type": "execute_result"
    }
   ],
   "source": [
    "mean_squared_error(target_test, pred_previous)**0.5"
   ]
  },
  {
   "cell_type": "markdown",
   "metadata": {},
   "source": [
    "Запомним это значение, а также так как мы помним, что имеет место сезонность в 24 часа, посмотрим на модель сдвига на 24 часа."
   ]
  },
  {
   "cell_type": "code",
   "execution_count": 26,
   "metadata": {},
   "outputs": [],
   "source": [
    "pred_previous_24 = features_test['lag_24']"
   ]
  },
  {
   "cell_type": "code",
   "execution_count": 27,
   "metadata": {},
   "outputs": [
    {
     "data": {
      "text/plain": [
       "57.187059099999075"
      ]
     },
     "execution_count": 27,
     "metadata": {},
     "output_type": "execute_result"
    }
   ],
   "source": [
    "mean_squared_error(target_test, pred_previous_24)**0.5"
   ]
  },
  {
   "cell_type": "markdown",
   "metadata": {},
   "source": [
    "Чуть лучше, но все еще не достигается необходимое значение в 48. Но запомним и это значение. И приступим к более сложным моделям.\n",
    "\n",
    "| N |       Model                | RMSE на тестовой выборке |  \n",
    "|---|----------------------------|------------|\n",
    "| 1 | Median |   87.15  |  \n",
    "| 2 | Mean |   84.64 | \n",
    "| 3 | Previous |   58.85 | \n",
    "| 4 | Previous 24 |   57.18 |  "
   ]
  },
  {
   "cell_type": "markdown",
   "metadata": {},
   "source": [
    "### Линейная регрессия"
   ]
  },
  {
   "cell_type": "markdown",
   "metadata": {},
   "source": [
    "Посмотрим на модель линейной регресии. Будем использовать TimeSeriesSplit для корретной работы кроссвалидации. "
   ]
  },
  {
   "cell_type": "code",
   "execution_count": 28,
   "metadata": {},
   "outputs": [
    {
     "name": "stdout",
     "output_type": "stream",
     "text": [
      "CPU times: user 340 ms, sys: 333 ms, total: 673 ms\n",
      "Wall time: 604 ms\n"
     ]
    },
    {
     "data": {
      "text/plain": [
       "26.941302874226977"
      ]
     },
     "execution_count": 28,
     "metadata": {},
     "output_type": "execute_result"
    }
   ],
   "source": [
    "%%time\n",
    "warnings.filterwarnings('ignore')\n",
    "model_lin_reg = LinearRegression()\n",
    "\n",
    "scores_lin_reg = cross_val_score(\n",
    "    model_lin_reg, features_train, target_train,\n",
    "    cv=TimeSeriesSplit(n_splits=5).split(features_train), scoring = 'neg_mean_squared_error')\n",
    "\n",
    "rmse_lin_reg = sum((-1*scores_lin_reg)**0.5)/5\n",
    "rmse_lin_reg "
   ]
  },
  {
   "cell_type": "markdown",
   "metadata": {},
   "source": [
    "Отлично, необходимая метрика достигнута при обучении! Возможно на тесте все изменится, но пока запомним этот результат и перейдем к другим моделям.\n",
    "\n",
    "Более сложные модели будем запоминать будем в отдельную таблицу.\n",
    "\n",
    "| N |       Model                | RMSE |  \n",
    "|---|----------------------------|------------|\n",
    "| 1 |LinearRegression |   26.94 |  \n"
   ]
  },
  {
   "cell_type": "markdown",
   "metadata": {},
   "source": [
    "### Дерево решений"
   ]
  },
  {
   "cell_type": "markdown",
   "metadata": {},
   "source": [
    "Переберем параметры через цикл. Так как в кроссвалидации есть риск перемешивания выборок, что нам не нужно"
   ]
  },
  {
   "cell_type": "code",
   "execution_count": 29,
   "metadata": {},
   "outputs": [],
   "source": [
    "model_decision_tree = DecisionTreeRegressor(random_state=12345)\n",
    "parameters_decision_tree = { 'max_depth': range(1, 20) }"
   ]
  },
  {
   "cell_type": "code",
   "execution_count": 30,
   "metadata": {},
   "outputs": [
    {
     "name": "stdout",
     "output_type": "stream",
     "text": [
      "CPU times: user 3.55 s, sys: 0 ns, total: 3.55 s\n",
      "Wall time: 3.57 s\n"
     ]
    },
    {
     "data": {
      "text/plain": [
       "GridSearchCV(cv=<generator object TimeSeriesSplit.split at 0x7f6bbf145d50>,\n",
       "             error_score='raise-deprecating',\n",
       "             estimator=DecisionTreeRegressor(criterion='mse', max_depth=None,\n",
       "                                             max_features=None,\n",
       "                                             max_leaf_nodes=None,\n",
       "                                             min_impurity_decrease=0.0,\n",
       "                                             min_impurity_split=None,\n",
       "                                             min_samples_leaf=1,\n",
       "                                             min_samples_split=2,\n",
       "                                             min_weight_fraction_leaf=0.0,\n",
       "                                             presort=False, random_state=12345,\n",
       "                                             splitter='best'),\n",
       "             iid='warn', n_jobs=-1, param_grid={'max_depth': range(1, 20)},\n",
       "             pre_dispatch='2*n_jobs', refit=True, return_train_score=False,\n",
       "             scoring='neg_mean_squared_error', verbose=0)"
      ]
     },
     "execution_count": 30,
     "metadata": {},
     "output_type": "execute_result"
    }
   ],
   "source": [
    "%%time\n",
    "grid_search = GridSearchCV(\n",
    "    estimator = model_decision_tree, param_grid = parameters_decision_tree,\n",
    "    scoring = 'neg_mean_squared_error', n_jobs = -1,\n",
    "    cv=TimeSeriesSplit(n_splits=5).split(features_train)\n",
    ")\n",
    "grid_search.fit(features_train, target_train)"
   ]
  },
  {
   "cell_type": "code",
   "execution_count": 31,
   "metadata": {},
   "outputs": [
    {
     "data": {
      "text/plain": [
       "({'max_depth': 5}, 30.659438978158978)"
      ]
     },
     "execution_count": 31,
     "metadata": {},
     "output_type": "execute_result"
    }
   ],
   "source": [
    "grid_search.best_params_ , (-1*grid_search.best_score_)**0.5"
   ]
  },
  {
   "cell_type": "markdown",
   "metadata": {},
   "source": [
    "Кажется дерево решений хуже решает эту задачу, чем линейная регрессия.\n",
    "\n",
    "| N |       Model                | RMSE |  \n",
    "|---|----------------------------|------------|\n",
    "| 1 |LinearRegression |   26.94 |   \n",
    "| 2 | DecisionTreeRegressor |   30.65 |  "
   ]
  },
  {
   "cell_type": "markdown",
   "metadata": {},
   "source": [
    "###  Лес решений"
   ]
  },
  {
   "cell_type": "markdown",
   "metadata": {},
   "source": [
    "Переберем параметры также через цикл. "
   ]
  },
  {
   "cell_type": "code",
   "execution_count": 32,
   "metadata": {},
   "outputs": [],
   "source": [
    "model_random_forest = RandomForestRegressor(random_state=12345)\n",
    "parameters_random_forest = { 'n_estimators': range(1, 21),\n",
    "                            'max_depth': range(1, 11) }"
   ]
  },
  {
   "cell_type": "code",
   "execution_count": 33,
   "metadata": {},
   "outputs": [
    {
     "name": "stdout",
     "output_type": "stream",
     "text": [
      "CPU times: user 2min 34s, sys: 265 ms, total: 2min 34s\n",
      "Wall time: 2min 37s\n"
     ]
    },
    {
     "data": {
      "text/plain": [
       "GridSearchCV(cv=<generator object TimeSeriesSplit.split at 0x7f6bbe66c6d0>,\n",
       "             error_score='raise-deprecating',\n",
       "             estimator=RandomForestRegressor(bootstrap=True, criterion='mse',\n",
       "                                             max_depth=None,\n",
       "                                             max_features='auto',\n",
       "                                             max_leaf_nodes=None,\n",
       "                                             min_impurity_decrease=0.0,\n",
       "                                             min_impurity_split=None,\n",
       "                                             min_samples_leaf=1,\n",
       "                                             min_samples_split=2,\n",
       "                                             min_weight_fraction_leaf=0.0,\n",
       "                                             n_estimators='warn', n_jobs=None,\n",
       "                                             oob_score=False,\n",
       "                                             random_state=12345, verbose=0,\n",
       "                                             warm_start=False),\n",
       "             iid='warn', n_jobs=-1,\n",
       "             param_grid={'max_depth': range(1, 11),\n",
       "                         'n_estimators': range(1, 21)},\n",
       "             pre_dispatch='2*n_jobs', refit=True, return_train_score=False,\n",
       "             scoring='neg_mean_squared_error', verbose=0)"
      ]
     },
     "execution_count": 33,
     "metadata": {},
     "output_type": "execute_result"
    }
   ],
   "source": [
    "%%time\n",
    "grid_search = GridSearchCV(\n",
    "    estimator = model_random_forest, param_grid = parameters_random_forest,\n",
    "    scoring = 'neg_mean_squared_error', n_jobs = -1,\n",
    "    cv=TimeSeriesSplit(n_splits=5).split(features_train)\n",
    ")\n",
    "grid_search.fit(features_train, target_train)"
   ]
  },
  {
   "cell_type": "code",
   "execution_count": 34,
   "metadata": {},
   "outputs": [
    {
     "data": {
      "text/plain": [
       "({'max_depth': 9, 'n_estimators': 20}, 26.312690595685737)"
      ]
     },
     "execution_count": 34,
     "metadata": {},
     "output_type": "execute_result"
    }
   ],
   "source": [
    "grid_search.best_params_ , (-1*grid_search.best_score_)**0.5"
   ]
  },
  {
   "cell_type": "markdown",
   "metadata": {},
   "source": [
    "Отличная метрика! Запомним ее."
   ]
  },
  {
   "cell_type": "markdown",
   "metadata": {},
   "source": [
    "| N |       Model                | RMSE |  \n",
    "|---|----------------------------|------------|\n",
    "| 1 |LinearRegression |   26.94 |   \n",
    "| 2 | DecisionTreeRegressor |   30.65 |  \n",
    "| 3 | RandomForestRegressor |   26.31 | "
   ]
  },
  {
   "cell_type": "markdown",
   "metadata": {},
   "source": [
    "### LightGBM"
   ]
  },
  {
   "cell_type": "markdown",
   "metadata": {},
   "source": [
    "Попробуем решить эту задачу регрессии через библиотеку LightGBM."
   ]
  },
  {
   "cell_type": "code",
   "execution_count": 35,
   "metadata": {},
   "outputs": [],
   "source": [
    "model_lgbm = LGBMRegressor(random_state=12345)\n",
    "\n",
    "parameters = { 'n_estimators': [10, 20, 30],\n",
    "              'max_depth': [5, 10, 20],\n",
    "             'learning_rate': [0.1, 1.0]\n",
    "             }"
   ]
  },
  {
   "cell_type": "code",
   "execution_count": 36,
   "metadata": {},
   "outputs": [
    {
     "name": "stdout",
     "output_type": "stream",
     "text": [
      "CPU times: user 42.9 s, sys: 352 ms, total: 43.3 s\n",
      "Wall time: 43.8 s\n"
     ]
    },
    {
     "data": {
      "text/plain": [
       "GridSearchCV(cv=<generator object TimeSeriesSplit.split at 0x7f6bbe66cd50>,\n",
       "             error_score='raise-deprecating',\n",
       "             estimator=LGBMRegressor(boosting_type='gbdt', class_weight=None,\n",
       "                                     colsample_bytree=1.0,\n",
       "                                     importance_type='split', learning_rate=0.1,\n",
       "                                     max_depth=-1, min_child_samples=20,\n",
       "                                     min_child_weight=0.001, min_split_gain=0.0,\n",
       "                                     n_estimators=100, n_jobs=-1, num_leaves=31,\n",
       "                                     objective=None, random_state=12345,\n",
       "                                     reg_alpha=0.0, reg_lambda=0.0, silent=True,\n",
       "                                     subsample=1.0, subsample_for_bin=200000,\n",
       "                                     subsample_freq=0),\n",
       "             iid='warn', n_jobs=-1,\n",
       "             param_grid={'learning_rate': [0.1, 1.0], 'max_depth': [5, 10, 20],\n",
       "                         'n_estimators': [10, 20, 30]},\n",
       "             pre_dispatch='2*n_jobs', refit=True, return_train_score=False,\n",
       "             scoring='neg_mean_squared_error', verbose=0)"
      ]
     },
     "execution_count": 36,
     "metadata": {},
     "output_type": "execute_result"
    }
   ],
   "source": [
    "%%time\n",
    "grid_search = GridSearchCV(\n",
    "    estimator = model_lgbm, param_grid = parameters,\n",
    "    scoring = 'neg_mean_squared_error', n_jobs = -1,\n",
    "    cv=TimeSeriesSplit(n_splits=5).split(features_train)\n",
    ")\n",
    "\n",
    "grid_search.fit(features_train, target_train)"
   ]
  },
  {
   "cell_type": "code",
   "execution_count": 37,
   "metadata": {},
   "outputs": [
    {
     "data": {
      "text/plain": [
       "({'learning_rate': 0.1, 'max_depth': 10, 'n_estimators': 30},\n",
       " 25.671204463244713)"
      ]
     },
     "execution_count": 37,
     "metadata": {},
     "output_type": "execute_result"
    }
   ],
   "source": [
    "grid_search.best_params_ , (-1*grid_search.best_score_)**0.5"
   ]
  },
  {
   "cell_type": "markdown",
   "metadata": {},
   "source": [
    "Метрика еще улучшилась.\n",
    "\n",
    "| N |       Model                | RMSE |  \n",
    "|---|----------------------------|------------|\n",
    "| 1 |LinearRegression |   26.94 |   \n",
    "| 2 | DecisionTreeRegressor |   30.65 |  \n",
    "| 3 | RandomForestRegressor |   26.31 | \n",
    "| 4 | LGBMRegressor |   25.67 |"
   ]
  },
  {
   "cell_type": "markdown",
   "metadata": {},
   "source": [
    "### CatBoost"
   ]
  },
  {
   "cell_type": "markdown",
   "metadata": {},
   "source": [
    "Приступим к регрессии из CatBoost. \n",
    "\n",
    "К сожалению, ядро не дало перебрать хоть какие-то гиперпараметры в этой моделе, поэтому тут останавливаемся на базовой, без перебора параметров"
   ]
  },
  {
   "cell_type": "code",
   "execution_count": 38,
   "metadata": {},
   "outputs": [],
   "source": [
    "model_cat_boost = CatBoostRegressor(random_seed=12345,\n",
    "                                    loss_function='RMSE')\n",
    "\n",
    "#parameters_cat_boost = { 'n_estimators': [20, 50]}"
   ]
  },
  {
   "cell_type": "code",
   "execution_count": 39,
   "metadata": {
    "scrolled": true
   },
   "outputs": [
    {
     "name": "stdout",
     "output_type": "stream",
     "text": [
      "0:\tlearn: 29.2922887\ttotal: 49.4ms\tremaining: 49.4s\n",
      "999:\tlearn: 3.5571247\ttotal: 13.7s\tremaining: 0us\n",
      "0:\tlearn: 29.9562776\ttotal: 2.66ms\tremaining: 2.66s\n",
      "999:\tlearn: 7.0086114\ttotal: 19.3s\tremaining: 0us\n",
      "0:\tlearn: 31.5668873\ttotal: 5.11ms\tremaining: 5.11s\n",
      "999:\tlearn: 9.1770846\ttotal: 21.2s\tremaining: 0us\n",
      "0:\tlearn: 32.9567215\ttotal: 3.45ms\tremaining: 3.44s\n",
      "999:\tlearn: 10.8749528\ttotal: 26.5s\tremaining: 0us\n",
      "0:\tlearn: 34.3095200\ttotal: 4.16ms\tremaining: 4.15s\n",
      "999:\tlearn: 12.2889709\ttotal: 28.3s\tremaining: 0us\n",
      "0:\tlearn: 38.1294062\ttotal: 3.85ms\tremaining: 3.84s\n",
      "999:\tlearn: 14.0662859\ttotal: 30.1s\tremaining: 0us\n",
      "CPU times: user 2min 7s, sys: 15 s, total: 2min 22s\n",
      "Wall time: 2min 30s\n"
     ]
    },
    {
     "data": {
      "text/plain": [
       "GridSearchCV(cv=<generator object TimeSeriesSplit.split at 0x7f6bbe6343d0>,\n",
       "             error_score='raise-deprecating',\n",
       "             estimator=<catboost.core.CatBoostRegressor object at 0x7f6bbe578f50>,\n",
       "             iid='warn', n_jobs=-1, param_grid={}, pre_dispatch='2*n_jobs',\n",
       "             refit=True, return_train_score=False,\n",
       "             scoring='neg_mean_squared_error', verbose=0)"
      ]
     },
     "execution_count": 39,
     "metadata": {},
     "output_type": "execute_result"
    }
   ],
   "source": [
    "%%time\n",
    "grid_search = GridSearchCV(\n",
    "    estimator = model_cat_boost, scoring ='neg_mean_squared_error', \n",
    "    param_grid = {}, n_jobs = -1,\n",
    "    cv=TimeSeriesSplit(n_splits=5).split(features_train)\n",
    ")\n",
    "\n",
    "grid_search.fit(features_train, target_train, verbose=1000)"
   ]
  },
  {
   "cell_type": "code",
   "execution_count": 40,
   "metadata": {},
   "outputs": [
    {
     "data": {
      "text/plain": [
       "24.470565227278737"
      ]
     },
     "execution_count": 40,
     "metadata": {},
     "output_type": "execute_result"
    }
   ],
   "source": [
    "(-1*grid_search.best_score_)**0.5"
   ]
  },
  {
   "cell_type": "markdown",
   "metadata": {},
   "source": [
    "Модель CatBoostRegressor показала себя лучше, чем LGBMRegressor. И относительно этой модели, еще и переобучена меньше.\n",
    "\n",
    "| N |       Model                | RMSE |  \n",
    "|---|----------------------------|------------|\n",
    "| 1 |LinearRegression |   26.94 |   \n",
    "| 2 | DecisionTreeRegressor |   30.65 |  \n",
    "| 3 | RandomForestRegressor |   26.31 | \n",
    "| 4 | LGBMRegressor |   25.67 |\n",
    "| 5 | <b>CatBoostRegressor</b> |   24.47 | \n",
    "\n",
    "\n",
    "Остановимся на ней как на основной."
   ]
  },
  {
   "cell_type": "markdown",
   "metadata": {},
   "source": [
    "## Тестирование"
   ]
  },
  {
   "cell_type": "markdown",
   "metadata": {},
   "source": [
    "Протестируем модель CatBoostRegressor, на которой и остановились."
   ]
  },
  {
   "cell_type": "code",
   "execution_count": 41,
   "metadata": {},
   "outputs": [
    {
     "name": "stdout",
     "output_type": "stream",
     "text": [
      "0:\tlearn: 38.1294062\ttotal: 4.89ms\tremaining: 4.89s\n",
      "999:\tlearn: 14.0662859\ttotal: 30.3s\tremaining: 0us\n",
      "CPU times: user 27.7 s, sys: 3.37 s, total: 31 s\n",
      "Wall time: 33.9 s\n"
     ]
    }
   ],
   "source": [
    "%%time\n",
    "model_cat_boost.fit(features_train, target_train, verbose=1000)\n",
    "\n",
    "pred_cat_boost = model_cat_boost.predict(features_test)"
   ]
  },
  {
   "cell_type": "code",
   "execution_count": 42,
   "metadata": {},
   "outputs": [
    {
     "data": {
      "text/plain": [
       "40.97215225298124"
      ]
     },
     "execution_count": 42,
     "metadata": {},
     "output_type": "execute_result"
    }
   ],
   "source": [
    "mean_squared_error(target_test, pred_cat_boost)**0.5"
   ]
  },
  {
   "cell_type": "markdown",
   "metadata": {},
   "source": [
    "Результат на тесте выше, чем при обучении. Но это меньше 48, поэтому условие задачи и тестирования выполняется. \n",
    "Модель прошла тестирование.\n",
    "\n",
    "Посмотрим теперь какие факторы оказались важны при обучении модели."
   ]
  },
  {
   "cell_type": "code",
   "execution_count": 43,
   "metadata": {},
   "outputs": [
    {
     "data": {
      "text/plain": [
       "array([ 2.57396444,  0.        ,  2.56215612,  0.67270993,  4.15457242,\n",
       "       16.63423235,  8.07853546,  3.91778969,  3.02315155,  1.3095191 ,\n",
       "        1.75900304,  1.64350389,  4.04074554,  1.68899347,  1.7802805 ,\n",
       "        1.94656082,  1.72568675,  2.43202338,  1.99175458,  1.166896  ,\n",
       "        1.2666396 ,  1.13734237,  3.39097449,  1.65906548,  1.56960794,\n",
       "        1.71940829,  1.58770221,  1.80965537,  3.03741671, 19.72010853])"
      ]
     },
     "execution_count": 43,
     "metadata": {},
     "output_type": "execute_result"
    }
   ],
   "source": [
    "model_cat_boost.feature_importances_"
   ]
  },
  {
   "cell_type": "markdown",
   "metadata": {},
   "source": [
    "Попробуем это визуализировать."
   ]
  },
  {
   "cell_type": "code",
   "execution_count": 44,
   "metadata": {},
   "outputs": [],
   "source": [
    "columns = list(features_train.columns)"
   ]
  },
  {
   "cell_type": "code",
   "execution_count": 45,
   "metadata": {},
   "outputs": [
    {
     "data": {
      "image/png": "[encoded data removed]",
      "text/plain": [
       "<Figure size 1080x360 with 1 Axes>"
      ]
     },
     "metadata": {
      "needs_background": "light"
     },
     "output_type": "display_data"
    }
   ],
   "source": [
    "plt.figure(figsize=(15, 5))\n",
    "plt.title(\"Важность признаков в итоговой модели\", fontweight='bold', size='medium')\n",
    "\n",
    "plt.ylabel(\"Важность\")\n",
    "plt.xlabel(\"Признаки\")\n",
    "plt.xticks(range(len(model_cat_boost.feature_importances_)), columns, rotation=50, size='medium')\n",
    "plt.bar(\n",
    "    range(len(model_cat_boost.feature_importances_)),\n",
    "    model_cat_boost.feature_importances_)\n",
    "plt.show()"
   ]
  },
  {
   "cell_type": "markdown",
   "metadata": {},
   "source": [
    "Видим, что факторы, которые внесли наибольший вклад:\n",
    "- количество заказов 24 часа назад,\n",
    "- час, временной атрибут,\n",
    "- количество заказов за прошлый час.\n",
    "\n",
    "Совсем не важным оказался год. Что логично, так как он одинаковый на всех строках - 2018."
   ]
  },
  {
   "cell_type": "markdown",
   "metadata": {},
   "source": [
    "## Вывод"
   ]
  },
  {
   "cell_type": "markdown",
   "metadata": {},
   "source": [
    "<b>Краткие выводы проекта:</b>\n",
    "- Данные по заказам такси с марта по август 2018 года.\n",
    "- На основе графика можно увидеть, что количество заказов постепенно растет от марта к августу.\n",
    "- Максимальное количество заказов за 1 час пришлось на август, есть даже несколько выбросов.\n",
    "- Есть определенный тренд: Число заказов в среднем постепенно растет. \n",
    "- К примеру, в августе среднее число заказов в 1 час больше чем в марте. Также и колебаться данные начинают к августу сильнее. Поэтому и снандартное отклонение меняется со временем. \n",
    "- Это говорит о том, что наш ряд нестационарный.\n",
    "- Также есть и сезонность, на более узком отрезке видно - она циклично в разрезе суток.\n",
    "\n",
    "Для предсказания сначала использовались элементарные модели. Они показали следующие результаты, но RMSE у всех больше 48 и не удовлетворяет условию задачи.\n",
    "\n",
    "| N |       Model                | RMSE на тестовой выборке |  \n",
    "|---|----------------------------|------------|\n",
    "| 1 | Median |   87.15  |  \n",
    "| 2 | Mean |   84.64 | \n",
    "| 3 | Previous |   58.85 | \n",
    "| 4 | Previous 24 |   57.18 |  \n",
    "\n",
    "После были использованы более сложные модели, данные перед обучением были насыщены новыми признаками: скользящим среднем по прошлым данным, отстающими данными и временными атрибутами. \n",
    "Итоги обучения моделей:\n",
    "\n",
    "| N |       Model                | RMSE |  \n",
    "|---|----------------------------|------------|\n",
    "| 1 | LinearRegression |   26.94 |   \n",
    "| 2 | DecisionTreeRegressor |   30.65 |  \n",
    "| 3 | RandomForestRegressor |   26.31 | \n",
    "| 4 | LGBMRegressor |   25.67 |\n",
    "| 5 | <b>CatBoostRegressor</b> |   24.47 | \n",
    "\n",
    "\n",
    "- Все модели показали качество при обучении лучше, чем элементарные -  константы  и  сдвиг на предудушее значение и на 24 часа назад.\n",
    "- Хуже всего себя показала модель DecisionTreeRegressor, RMSE около 31.\n",
    "- LinearRegression и RandomForestRegressor показали себя похожим образом RMSE около 26.\n",
    "- Лучше всего себя показали модели LGBMRegressor и CatBoostRegressor (RMSE около 25 и 24), но  у CatBoostRegressor RMSE меньше.  Поэтому остановимся на ней.\n",
    "\n",
    "При тестировании выбранная модель CatBoostRegressor показала RMSE на тесте 40.97, что меньше 48 и подходит под условие задачи. Хотя определенно видна проблема переобучения.\n",
    "\n",
    "Видим, что факторы, которые внесли наибольший вклад при обучении модели:\n",
    "- количество заказов 24 часа назад,\n",
    "- час, временной атрибут,\n",
    "- количество заказов за прошлый час."
   ]
  },
  {
   "cell_type": "markdown",
   "metadata": {},
   "source": [
    "## Чек-лист проверки"
   ]
  },
  {
   "cell_type": "markdown",
   "metadata": {},
   "source": [
    "- [x]  Jupyter Notebook открыт\n",
    "- [x]  Весь код выполняется без ошибок\n",
    "- [x]  Ячейки с кодом расположены в порядке исполнения\n",
    "- [x]  Данные загружены и подготовлены\n",
    "- [x]  Данные проанализированы\n",
    "- [x]  Модель обучена, гиперпараметры подобраны\n",
    "- [x]  Качество моделей проверено, выводы сделаны\n",
    "- [x]  Значение *RMSE* на тестовой выборке не больше 48"
   ]
  }
 ],
 "metadata": {
  "ExecuteTimeLog": [
   {
    "duration": 787,
    "start_time": "2021-09-27T14:14:46.841Z"
   },
   {
    "duration": 357,
    "start_time": "2021-09-27T14:16:33.822Z"
   },
   {
    "duration": 46,
    "start_time": "2021-09-27T14:16:36.291Z"
   },
   {
    "duration": 9,
    "start_time": "2021-09-27T14:16:37.848Z"
   },
   {
    "duration": 13,
    "start_time": "2021-09-27T14:18:54.943Z"
   },
   {
    "duration": 9,
    "start_time": "2021-09-27T14:19:03.970Z"
   },
   {
    "duration": 20,
    "start_time": "2021-09-27T14:20:06.501Z"
   },
   {
    "duration": 851,
    "start_time": "2021-09-27T18:10:11.435Z"
   },
   {
    "duration": 51,
    "start_time": "2021-09-27T18:10:12.288Z"
   },
   {
    "duration": 12,
    "start_time": "2021-09-27T18:10:12.347Z"
   },
   {
    "duration": 34,
    "start_time": "2021-09-27T18:10:12.361Z"
   },
   {
    "duration": 8,
    "start_time": "2021-09-27T18:10:12.397Z"
   },
   {
    "duration": 16,
    "start_time": "2021-09-27T18:10:12.408Z"
   },
   {
    "duration": 716,
    "start_time": "2021-09-27T18:10:12.427Z"
   },
   {
    "duration": 500,
    "start_time": "2021-09-27T18:10:33.208Z"
   },
   {
    "duration": 756,
    "start_time": "2021-09-27T18:11:01.792Z"
   },
   {
    "duration": 469,
    "start_time": "2021-09-27T18:11:12.447Z"
   },
   {
    "duration": 439,
    "start_time": "2021-09-27T18:11:33.158Z"
   },
   {
    "duration": 268,
    "start_time": "2021-09-27T18:13:17.041Z"
   },
   {
    "duration": 383,
    "start_time": "2021-09-27T18:13:27.986Z"
   },
   {
    "duration": 371,
    "start_time": "2021-09-27T18:13:38.244Z"
   },
   {
    "duration": 359,
    "start_time": "2021-09-27T18:26:36.447Z"
   },
   {
    "duration": 9,
    "start_time": "2021-09-27T18:26:45.261Z"
   },
   {
    "duration": 392,
    "start_time": "2021-09-27T18:26:55.069Z"
   },
   {
    "duration": 490,
    "start_time": "2021-09-27T18:31:53.134Z"
   },
   {
    "duration": 10,
    "start_time": "2021-09-27T18:33:09.515Z"
   },
   {
    "duration": 1394,
    "start_time": "2021-09-27T18:33:48.406Z"
   },
   {
    "duration": 1645,
    "start_time": "2021-09-27T18:34:36.924Z"
   },
   {
    "duration": 372,
    "start_time": "2021-09-27T18:34:52.691Z"
   },
   {
    "duration": 13,
    "start_time": "2021-09-27T18:35:43.494Z"
   },
   {
    "duration": 1697,
    "start_time": "2021-09-27T18:35:46.555Z"
   },
   {
    "duration": 8,
    "start_time": "2021-09-27T18:41:15.984Z"
   },
   {
    "duration": 1519,
    "start_time": "2021-09-27T18:41:33.341Z"
   },
   {
    "duration": 732,
    "start_time": "2021-09-27T18:43:10.452Z"
   },
   {
    "duration": 10,
    "start_time": "2021-09-27T18:43:38.237Z"
   },
   {
    "duration": 1455,
    "start_time": "2021-09-27T18:43:52.053Z"
   },
   {
    "duration": 12,
    "start_time": "2021-09-27T19:07:06.807Z"
   },
   {
    "duration": 14,
    "start_time": "2021-09-27T19:07:16.886Z"
   },
   {
    "duration": 31,
    "start_time": "2021-09-27T19:10:40.137Z"
   },
   {
    "duration": 32,
    "start_time": "2021-09-27T19:11:10.060Z"
   },
   {
    "duration": 236,
    "start_time": "2021-09-27T19:12:58.495Z"
   },
   {
    "duration": 91,
    "start_time": "2021-09-27T19:13:09.994Z"
   },
   {
    "duration": 17,
    "start_time": "2021-09-27T19:13:13.290Z"
   },
   {
    "duration": 7,
    "start_time": "2021-09-27T19:16:11.629Z"
   },
   {
    "duration": 5,
    "start_time": "2021-09-27T19:17:22.343Z"
   },
   {
    "duration": 4,
    "start_time": "2021-09-27T19:20:34.560Z"
   },
   {
    "duration": 741,
    "start_time": "2021-09-27T19:21:09.264Z"
   },
   {
    "duration": 24,
    "start_time": "2021-09-27T19:21:19.559Z"
   },
   {
    "duration": 6,
    "start_time": "2021-09-27T19:21:24.947Z"
   },
   {
    "duration": 1416,
    "start_time": "2021-09-27T20:07:36.029Z"
   },
   {
    "duration": 62,
    "start_time": "2021-09-27T20:07:37.449Z"
   },
   {
    "duration": 9,
    "start_time": "2021-09-27T20:07:37.514Z"
   },
   {
    "duration": 17,
    "start_time": "2021-09-27T20:07:37.525Z"
   },
   {
    "duration": 8,
    "start_time": "2021-09-27T20:07:37.545Z"
   },
   {
    "duration": 15,
    "start_time": "2021-09-27T20:07:37.583Z"
   },
   {
    "duration": 445,
    "start_time": "2021-09-27T20:07:37.601Z"
   },
   {
    "duration": 9,
    "start_time": "2021-09-27T20:07:38.051Z"
   },
   {
    "duration": 444,
    "start_time": "2021-09-27T20:07:38.064Z"
   },
   {
    "duration": 12,
    "start_time": "2021-09-27T20:07:38.511Z"
   },
   {
    "duration": 1673,
    "start_time": "2021-09-27T20:07:38.526Z"
   },
   {
    "duration": 10,
    "start_time": "2021-09-27T20:07:40.202Z"
   },
   {
    "duration": 1660,
    "start_time": "2021-09-27T20:07:40.214Z"
   },
   {
    "duration": 14,
    "start_time": "2021-09-27T20:07:41.877Z"
   },
   {
    "duration": 13,
    "start_time": "2021-09-27T20:07:41.893Z"
   },
   {
    "duration": 32,
    "start_time": "2021-09-27T20:07:41.908Z"
   },
   {
    "duration": 65,
    "start_time": "2021-09-27T20:07:41.942Z"
   },
   {
    "duration": 15,
    "start_time": "2021-09-27T20:07:42.009Z"
   },
   {
    "duration": 6,
    "start_time": "2021-09-27T20:07:42.026Z"
   },
   {
    "duration": 6,
    "start_time": "2021-09-27T20:07:42.035Z"
   },
   {
    "duration": 5,
    "start_time": "2021-09-27T20:07:42.083Z"
   },
   {
    "duration": 8,
    "start_time": "2021-09-27T20:07:42.091Z"
   },
   {
    "duration": 400,
    "start_time": "2021-09-27T20:10:15.695Z"
   },
   {
    "duration": 4,
    "start_time": "2021-09-27T20:10:21.761Z"
   },
   {
    "duration": 7,
    "start_time": "2021-09-27T20:10:25.105Z"
   },
   {
    "duration": 250,
    "start_time": "2021-09-27T20:14:07.527Z"
   },
   {
    "duration": 4,
    "start_time": "2021-09-27T20:14:15.549Z"
   },
   {
    "duration": 8719,
    "start_time": "2021-09-27T20:14:20.330Z"
   },
   {
    "duration": 5,
    "start_time": "2021-09-27T20:14:42.765Z"
   },
   {
    "duration": 8,
    "start_time": "2021-09-27T20:15:07.401Z"
   },
   {
    "duration": 21,
    "start_time": "2021-09-27T20:20:51.363Z"
   },
   {
    "duration": 11,
    "start_time": "2021-09-27T20:21:40.717Z"
   },
   {
    "duration": 6,
    "start_time": "2021-09-27T20:21:50.061Z"
   },
   {
    "duration": 14,
    "start_time": "2021-09-27T20:24:06.033Z"
   },
   {
    "duration": 10,
    "start_time": "2021-09-27T20:24:24.409Z"
   },
   {
    "duration": 1495,
    "start_time": "2021-09-27T20:41:23.263Z"
   },
   {
    "duration": 47,
    "start_time": "2021-09-27T20:41:24.762Z"
   },
   {
    "duration": 9,
    "start_time": "2021-09-27T20:41:24.812Z"
   },
   {
    "duration": 14,
    "start_time": "2021-09-27T20:41:24.823Z"
   },
   {
    "duration": 9,
    "start_time": "2021-09-27T20:41:24.839Z"
   },
   {
    "duration": 42,
    "start_time": "2021-09-27T20:41:24.850Z"
   },
   {
    "duration": 380,
    "start_time": "2021-09-27T20:41:24.895Z"
   },
   {
    "duration": 9,
    "start_time": "2021-09-27T20:41:25.282Z"
   },
   {
    "duration": 410,
    "start_time": "2021-09-27T20:41:25.295Z"
   },
   {
    "duration": 13,
    "start_time": "2021-09-27T20:41:25.708Z"
   },
   {
    "duration": 1619,
    "start_time": "2021-09-27T20:41:25.723Z"
   },
   {
    "duration": 12,
    "start_time": "2021-09-27T20:41:27.344Z"
   },
   {
    "duration": 1535,
    "start_time": "2021-09-27T20:41:27.358Z"
   },
   {
    "duration": 12,
    "start_time": "2021-09-27T20:41:28.896Z"
   },
   {
    "duration": 13,
    "start_time": "2021-09-27T20:41:28.910Z"
   },
   {
    "duration": 61,
    "start_time": "2021-09-27T20:41:28.926Z"
   },
   {
    "duration": 32,
    "start_time": "2021-09-27T20:41:28.989Z"
   },
   {
    "duration": 15,
    "start_time": "2021-09-27T20:41:29.023Z"
   },
   {
    "duration": 6,
    "start_time": "2021-09-27T20:41:29.040Z"
   },
   {
    "duration": 36,
    "start_time": "2021-09-27T20:41:29.049Z"
   },
   {
    "duration": 9,
    "start_time": "2021-09-27T20:41:29.087Z"
   },
   {
    "duration": 16,
    "start_time": "2021-09-27T20:41:29.098Z"
   },
   {
    "duration": 7,
    "start_time": "2021-09-27T20:41:29.116Z"
   },
   {
    "duration": 12,
    "start_time": "2021-09-27T20:41:29.125Z"
   },
   {
    "duration": 11,
    "start_time": "2021-09-27T20:41:29.139Z"
   },
   {
    "duration": 29,
    "start_time": "2021-09-27T20:41:29.155Z"
   },
   {
    "duration": 196,
    "start_time": "2021-09-27T20:41:29.186Z"
   },
   {
    "duration": 9,
    "start_time": "2021-09-27T20:41:29.386Z"
   },
   {
    "duration": 99,
    "start_time": "2021-09-27T20:41:29.398Z"
   },
   {
    "duration": 539,
    "start_time": "2021-09-27T20:41:29.501Z"
   },
   {
    "duration": -285,
    "start_time": "2021-09-27T20:41:30.327Z"
   },
   {
    "duration": -293,
    "start_time": "2021-09-27T20:41:30.337Z"
   },
   {
    "duration": -301,
    "start_time": "2021-09-27T20:41:30.346Z"
   },
   {
    "duration": 1280,
    "start_time": "2021-09-27T20:42:20.885Z"
   },
   {
    "duration": 6,
    "start_time": "2021-09-27T20:42:25.098Z"
   },
   {
    "duration": 1281,
    "start_time": "2021-09-27T20:43:27.074Z"
   },
   {
    "duration": 6,
    "start_time": "2021-09-27T20:43:30.625Z"
   },
   {
    "duration": 1246,
    "start_time": "2021-09-27T20:44:10.258Z"
   },
   {
    "duration": 6,
    "start_time": "2021-09-27T20:44:13.232Z"
   },
   {
    "duration": 251,
    "start_time": "2021-09-27T20:47:04.400Z"
   },
   {
    "duration": 55177,
    "start_time": "2021-09-27T20:47:22.960Z"
   },
   {
    "duration": 5,
    "start_time": "2021-09-27T20:54:28.055Z"
   },
   {
    "duration": 83,
    "start_time": "2021-09-27T20:54:55.471Z"
   },
   {
    "duration": 18,
    "start_time": "2021-09-27T20:57:03.957Z"
   },
   {
    "duration": 19,
    "start_time": "2021-09-27T20:58:23.454Z"
   },
   {
    "duration": 260,
    "start_time": "2021-09-27T21:01:40.074Z"
   },
   {
    "duration": 1425,
    "start_time": "2021-09-27T21:07:50.935Z"
   },
   {
    "duration": 45,
    "start_time": "2021-09-27T21:07:52.363Z"
   },
   {
    "duration": 8,
    "start_time": "2021-09-27T21:07:52.411Z"
   },
   {
    "duration": 22,
    "start_time": "2021-09-27T21:07:52.421Z"
   },
   {
    "duration": 16,
    "start_time": "2021-09-27T21:07:52.446Z"
   },
   {
    "duration": 30,
    "start_time": "2021-09-27T21:07:52.464Z"
   },
   {
    "duration": 403,
    "start_time": "2021-09-27T21:07:52.497Z"
   },
   {
    "duration": 9,
    "start_time": "2021-09-27T21:07:52.902Z"
   },
   {
    "duration": 418,
    "start_time": "2021-09-27T21:07:52.915Z"
   },
   {
    "duration": 9,
    "start_time": "2021-09-27T21:07:53.336Z"
   },
   {
    "duration": 1625,
    "start_time": "2021-09-27T21:07:53.347Z"
   },
   {
    "duration": 15,
    "start_time": "2021-09-27T21:07:54.974Z"
   },
   {
    "duration": 1517,
    "start_time": "2021-09-27T21:07:54.992Z"
   },
   {
    "duration": 12,
    "start_time": "2021-09-27T21:07:56.512Z"
   },
   {
    "duration": 14,
    "start_time": "2021-09-27T21:07:56.527Z"
   },
   {
    "duration": 60,
    "start_time": "2021-09-27T21:07:56.544Z"
   },
   {
    "duration": 31,
    "start_time": "2021-09-27T21:07:56.606Z"
   },
   {
    "duration": 15,
    "start_time": "2021-09-27T21:07:56.639Z"
   },
   {
    "duration": 30,
    "start_time": "2021-09-27T21:07:56.657Z"
   },
   {
    "duration": 8,
    "start_time": "2021-09-27T21:07:56.690Z"
   },
   {
    "duration": 6,
    "start_time": "2021-09-27T21:07:56.700Z"
   },
   {
    "duration": 8,
    "start_time": "2021-09-27T21:07:56.708Z"
   },
   {
    "duration": 20,
    "start_time": "2021-09-27T21:07:56.718Z"
   },
   {
    "duration": 42,
    "start_time": "2021-09-27T21:07:56.740Z"
   },
   {
    "duration": 4,
    "start_time": "2021-09-27T21:07:56.784Z"
   },
   {
    "duration": 9,
    "start_time": "2021-09-27T21:07:56.790Z"
   },
   {
    "duration": 178,
    "start_time": "2021-09-27T21:07:56.804Z"
   },
   {
    "duration": 7,
    "start_time": "2021-09-27T21:07:56.985Z"
   },
   {
    "duration": 10,
    "start_time": "2021-09-27T21:07:56.994Z"
   },
   {
    "duration": 1355,
    "start_time": "2021-09-27T21:07:57.085Z"
   },
   {
    "duration": 4,
    "start_time": "2021-09-27T21:07:58.443Z"
   },
   {
    "duration": 54766,
    "start_time": "2021-09-27T21:07:58.450Z"
   },
   {
    "duration": 7,
    "start_time": "2021-09-27T21:08:53.219Z"
   },
   {
    "duration": 22,
    "start_time": "2021-09-27T21:08:53.229Z"
   },
   {
    "duration": 77,
    "start_time": "2021-09-27T21:11:53.700Z"
   },
   {
    "duration": 2638,
    "start_time": "2021-09-27T21:13:28.755Z"
   },
   {
    "duration": 7,
    "start_time": "2021-09-27T21:13:34.984Z"
   },
   {
    "duration": 9,
    "start_time": "2021-09-27T21:17:11.783Z"
   },
   {
    "duration": 8,
    "start_time": "2021-09-27T21:19:01.542Z"
   },
   {
    "duration": 1646,
    "start_time": "2021-09-27T21:19:32.846Z"
   },
   {
    "duration": 7,
    "start_time": "2021-09-27T21:19:37.950Z"
   },
   {
    "duration": 8,
    "start_time": "2021-09-27T21:19:39.610Z"
   },
   {
    "duration": 25,
    "start_time": "2021-09-27T21:19:52.156Z"
   },
   {
    "duration": 32048,
    "start_time": "2021-09-27T21:25:06.328Z"
   },
   {
    "duration": 31158,
    "start_time": "2021-09-27T21:26:24.254Z"
   },
   {
    "duration": 9,
    "start_time": "2021-09-27T21:27:04.235Z"
   },
   {
    "duration": 6,
    "start_time": "2021-09-27T21:27:06.285Z"
   },
   {
    "duration": 12,
    "start_time": "2021-09-27T21:27:32.122Z"
   },
   {
    "duration": 1522,
    "start_time": "2021-09-27T21:34:29.069Z"
   },
   {
    "duration": 45,
    "start_time": "2021-09-27T21:34:30.593Z"
   },
   {
    "duration": 7,
    "start_time": "2021-09-27T21:34:30.641Z"
   },
   {
    "duration": 22,
    "start_time": "2021-09-27T21:34:30.651Z"
   },
   {
    "duration": 13,
    "start_time": "2021-09-27T21:34:30.675Z"
   },
   {
    "duration": 17,
    "start_time": "2021-09-27T21:34:30.691Z"
   },
   {
    "duration": 412,
    "start_time": "2021-09-27T21:34:30.711Z"
   },
   {
    "duration": 11,
    "start_time": "2021-09-27T21:34:31.128Z"
   },
   {
    "duration": 419,
    "start_time": "2021-09-27T21:34:31.142Z"
   },
   {
    "duration": 23,
    "start_time": "2021-09-27T21:34:31.564Z"
   },
   {
    "duration": 1682,
    "start_time": "2021-09-27T21:34:31.590Z"
   },
   {
    "duration": 14,
    "start_time": "2021-09-27T21:34:33.275Z"
   },
   {
    "duration": 1495,
    "start_time": "2021-09-27T21:34:33.291Z"
   },
   {
    "duration": 12,
    "start_time": "2021-09-27T21:34:34.789Z"
   },
   {
    "duration": 13,
    "start_time": "2021-09-27T21:34:34.803Z"
   },
   {
    "duration": 63,
    "start_time": "2021-09-27T21:34:34.819Z"
   },
   {
    "duration": 38,
    "start_time": "2021-09-27T21:34:34.885Z"
   },
   {
    "duration": 23,
    "start_time": "2021-09-27T21:34:34.926Z"
   },
   {
    "duration": 33,
    "start_time": "2021-09-27T21:34:34.952Z"
   },
   {
    "duration": 7,
    "start_time": "2021-09-27T21:34:34.988Z"
   },
   {
    "duration": 10,
    "start_time": "2021-09-27T21:34:34.998Z"
   },
   {
    "duration": 19,
    "start_time": "2021-09-27T21:34:35.010Z"
   },
   {
    "duration": 5,
    "start_time": "2021-09-27T21:34:35.034Z"
   },
   {
    "duration": 44,
    "start_time": "2021-09-27T21:34:35.041Z"
   },
   {
    "duration": 4,
    "start_time": "2021-09-27T21:34:35.088Z"
   },
   {
    "duration": 18,
    "start_time": "2021-09-27T21:34:35.094Z"
   },
   {
    "duration": 168,
    "start_time": "2021-09-27T21:34:35.115Z"
   },
   {
    "duration": 10,
    "start_time": "2021-09-27T21:34:35.286Z"
   },
   {
    "duration": 15,
    "start_time": "2021-09-27T21:34:35.383Z"
   },
   {
    "duration": 1338,
    "start_time": "2021-09-27T21:34:35.483Z"
   },
   {
    "duration": 5,
    "start_time": "2021-09-27T21:34:36.823Z"
   },
   {
    "duration": 55120,
    "start_time": "2021-09-27T21:34:36.832Z"
   },
   {
    "duration": 5,
    "start_time": "2021-09-27T21:35:31.955Z"
   },
   {
    "duration": 33,
    "start_time": "2021-09-27T21:35:31.963Z"
   },
   {
    "duration": 1803,
    "start_time": "2021-09-27T21:35:31.998Z"
   },
   {
    "duration": 7,
    "start_time": "2021-09-27T21:35:33.884Z"
   },
   {
    "duration": 96,
    "start_time": "2021-09-27T21:35:33.893Z"
   },
   {
    "duration": 31661,
    "start_time": "2021-09-27T21:35:33.991Z"
   },
   {
    "duration": 8,
    "start_time": "2021-09-27T21:36:05.655Z"
   },
   {
    "duration": 10,
    "start_time": "2021-09-27T21:36:05.666Z"
   },
   {
    "duration": 17,
    "start_time": "2021-09-27T21:36:05.678Z"
   },
   {
    "duration": 102,
    "start_time": "2021-09-28T07:41:52.835Z"
   },
   {
    "duration": 1515,
    "start_time": "2021-09-28T07:57:43.974Z"
   },
   {
    "duration": 47,
    "start_time": "2021-09-28T07:57:45.492Z"
   },
   {
    "duration": 12,
    "start_time": "2021-09-28T07:57:45.541Z"
   },
   {
    "duration": 32,
    "start_time": "2021-09-28T07:57:45.556Z"
   },
   {
    "duration": 34,
    "start_time": "2021-09-28T07:57:45.591Z"
   },
   {
    "duration": 59,
    "start_time": "2021-09-28T07:57:45.627Z"
   },
   {
    "duration": 408,
    "start_time": "2021-09-28T07:57:45.689Z"
   },
   {
    "duration": 22,
    "start_time": "2021-09-28T07:57:46.101Z"
   },
   {
    "duration": 408,
    "start_time": "2021-09-28T07:57:46.127Z"
   },
   {
    "duration": 12,
    "start_time": "2021-09-28T07:57:46.538Z"
   },
   {
    "duration": 1650,
    "start_time": "2021-09-28T07:57:46.553Z"
   },
   {
    "duration": 23,
    "start_time": "2021-09-28T07:57:48.205Z"
   },
   {
    "duration": 1591,
    "start_time": "2021-09-28T07:57:48.231Z"
   },
   {
    "duration": 5,
    "start_time": "2021-09-28T07:57:49.825Z"
   },
   {
    "duration": 52,
    "start_time": "2021-09-28T07:57:49.833Z"
   },
   {
    "duration": 38,
    "start_time": "2021-09-28T07:57:49.888Z"
   },
   {
    "duration": 45,
    "start_time": "2021-09-28T07:57:49.929Z"
   },
   {
    "duration": 33,
    "start_time": "2021-09-28T07:57:49.976Z"
   },
   {
    "duration": 19,
    "start_time": "2021-09-28T07:57:50.023Z"
   },
   {
    "duration": 16,
    "start_time": "2021-09-28T07:57:50.045Z"
   },
   {
    "duration": 49,
    "start_time": "2021-09-28T07:57:50.063Z"
   },
   {
    "duration": 43,
    "start_time": "2021-09-28T07:57:50.115Z"
   },
   {
    "duration": 28,
    "start_time": "2021-09-28T07:57:50.162Z"
   },
   {
    "duration": 17,
    "start_time": "2021-09-28T07:57:50.193Z"
   },
   {
    "duration": 27,
    "start_time": "2021-09-28T07:57:50.212Z"
   },
   {
    "duration": 18,
    "start_time": "2021-09-28T07:57:50.242Z"
   },
   {
    "duration": 46,
    "start_time": "2021-09-28T07:57:50.263Z"
   },
   {
    "duration": 58,
    "start_time": "2021-09-28T07:57:50.312Z"
   },
   {
    "duration": 107,
    "start_time": "2021-09-28T07:57:50.424Z"
   },
   {
    "duration": 358,
    "start_time": "2021-09-28T07:57:50.534Z"
   },
   {
    "duration": 276,
    "start_time": "2021-09-28T07:57:50.895Z"
   },
   {
    "duration": -225,
    "start_time": "2021-09-28T07:57:51.400Z"
   },
   {
    "duration": -229,
    "start_time": "2021-09-28T07:57:51.406Z"
   },
   {
    "duration": -231,
    "start_time": "2021-09-28T07:57:51.411Z"
   },
   {
    "duration": -235,
    "start_time": "2021-09-28T07:57:51.417Z"
   },
   {
    "duration": -237,
    "start_time": "2021-09-28T07:57:51.421Z"
   },
   {
    "duration": -238,
    "start_time": "2021-09-28T07:57:51.425Z"
   },
   {
    "duration": -240,
    "start_time": "2021-09-28T07:57:51.429Z"
   },
   {
    "duration": -242,
    "start_time": "2021-09-28T07:57:51.434Z"
   },
   {
    "duration": -244,
    "start_time": "2021-09-28T07:57:51.438Z"
   },
   {
    "duration": -246,
    "start_time": "2021-09-28T07:57:51.442Z"
   },
   {
    "duration": -248,
    "start_time": "2021-09-28T07:57:51.447Z"
   },
   {
    "duration": -250,
    "start_time": "2021-09-28T07:57:51.451Z"
   },
   {
    "duration": 5,
    "start_time": "2021-09-28T07:58:30.357Z"
   },
   {
    "duration": 1807,
    "start_time": "2021-09-28T07:58:35.376Z"
   },
   {
    "duration": 46,
    "start_time": "2021-09-28T07:58:37.186Z"
   },
   {
    "duration": 8,
    "start_time": "2021-09-28T07:58:37.235Z"
   },
   {
    "duration": 32,
    "start_time": "2021-09-28T07:58:37.245Z"
   },
   {
    "duration": 23,
    "start_time": "2021-09-28T07:58:37.279Z"
   },
   {
    "duration": 43,
    "start_time": "2021-09-28T07:58:37.304Z"
   },
   {
    "duration": 525,
    "start_time": "2021-09-28T07:58:37.349Z"
   },
   {
    "duration": 9,
    "start_time": "2021-09-28T07:58:37.877Z"
   },
   {
    "duration": 431,
    "start_time": "2021-09-28T07:58:37.888Z"
   },
   {
    "duration": 9,
    "start_time": "2021-09-28T07:58:38.322Z"
   },
   {
    "duration": 1721,
    "start_time": "2021-09-28T07:58:38.334Z"
   },
   {
    "duration": 12,
    "start_time": "2021-09-28T07:58:40.058Z"
   },
   {
    "duration": 1687,
    "start_time": "2021-09-28T07:58:40.072Z"
   },
   {
    "duration": 5,
    "start_time": "2021-09-28T07:58:41.762Z"
   },
   {
    "duration": 29,
    "start_time": "2021-09-28T07:58:41.770Z"
   },
   {
    "duration": 32,
    "start_time": "2021-09-28T07:58:41.802Z"
   },
   {
    "duration": 30,
    "start_time": "2021-09-28T07:58:41.836Z"
   },
   {
    "duration": 37,
    "start_time": "2021-09-28T07:58:41.869Z"
   },
   {
    "duration": 31,
    "start_time": "2021-09-28T07:58:41.909Z"
   },
   {
    "duration": 16,
    "start_time": "2021-09-28T07:58:41.943Z"
   },
   {
    "duration": 32,
    "start_time": "2021-09-28T07:58:41.962Z"
   },
   {
    "duration": 21,
    "start_time": "2021-09-28T07:58:41.997Z"
   },
   {
    "duration": 20,
    "start_time": "2021-09-28T07:58:42.025Z"
   },
   {
    "duration": 6,
    "start_time": "2021-09-28T07:58:42.049Z"
   },
   {
    "duration": 18,
    "start_time": "2021-09-28T07:58:42.058Z"
   },
   {
    "duration": 8,
    "start_time": "2021-09-28T07:58:42.079Z"
   },
   {
    "duration": 13,
    "start_time": "2021-09-28T07:58:42.090Z"
   },
   {
    "duration": 123,
    "start_time": "2021-09-28T07:58:42.106Z"
   },
   {
    "duration": 99,
    "start_time": "2021-09-28T07:58:42.232Z"
   },
   {
    "duration": 296,
    "start_time": "2021-09-28T07:58:42.333Z"
   },
   {
    "duration": 482,
    "start_time": "2021-09-28T07:58:42.723Z"
   },
   {
    "duration": -265,
    "start_time": "2021-09-28T07:58:43.473Z"
   },
   {
    "duration": -269,
    "start_time": "2021-09-28T07:58:43.479Z"
   },
   {
    "duration": -271,
    "start_time": "2021-09-28T07:58:43.483Z"
   },
   {
    "duration": -275,
    "start_time": "2021-09-28T07:58:43.488Z"
   },
   {
    "duration": -277,
    "start_time": "2021-09-28T07:58:43.492Z"
   },
   {
    "duration": -280,
    "start_time": "2021-09-28T07:58:43.496Z"
   },
   {
    "duration": -282,
    "start_time": "2021-09-28T07:58:43.500Z"
   },
   {
    "duration": -286,
    "start_time": "2021-09-28T07:58:43.505Z"
   },
   {
    "duration": -288,
    "start_time": "2021-09-28T07:58:43.509Z"
   },
   {
    "duration": -291,
    "start_time": "2021-09-28T07:58:43.513Z"
   },
   {
    "duration": -294,
    "start_time": "2021-09-28T07:58:43.517Z"
   },
   {
    "duration": -297,
    "start_time": "2021-09-28T07:58:43.522Z"
   },
   {
    "duration": 484,
    "start_time": "2021-09-28T07:59:13.245Z"
   },
   {
    "duration": 5,
    "start_time": "2021-09-28T08:09:20.265Z"
   },
   {
    "duration": 3,
    "start_time": "2021-09-28T08:09:24.549Z"
   },
   {
    "duration": 3645,
    "start_time": "2021-09-28T08:09:27.864Z"
   },
   {
    "duration": 6,
    "start_time": "2021-09-28T08:09:36.286Z"
   },
   {
    "duration": 4,
    "start_time": "2021-09-28T08:13:48.808Z"
   },
   {
    "duration": 150112,
    "start_time": "2021-09-28T08:13:50.358Z"
   },
   {
    "duration": 6,
    "start_time": "2021-09-28T08:17:13.014Z"
   },
   {
    "duration": 4,
    "start_time": "2021-09-28T08:17:37.302Z"
   },
   {
    "duration": 32908,
    "start_time": "2021-09-28T08:17:39.223Z"
   },
   {
    "duration": 6,
    "start_time": "2021-09-28T08:18:20.662Z"
   },
   {
    "duration": 5,
    "start_time": "2021-09-28T08:22:12.822Z"
   },
   {
    "duration": 333,
    "start_time": "2021-09-28T08:26:34.361Z"
   },
   {
    "duration": 1577,
    "start_time": "2021-09-28T08:26:44.223Z"
   },
   {
    "duration": 49,
    "start_time": "2021-09-28T08:26:45.802Z"
   },
   {
    "duration": 9,
    "start_time": "2021-09-28T08:26:45.857Z"
   },
   {
    "duration": 35,
    "start_time": "2021-09-28T08:26:45.868Z"
   },
   {
    "duration": 18,
    "start_time": "2021-09-28T08:26:45.905Z"
   },
   {
    "duration": 18,
    "start_time": "2021-09-28T08:26:45.926Z"
   },
   {
    "duration": 415,
    "start_time": "2021-09-28T08:26:45.949Z"
   },
   {
    "duration": 9,
    "start_time": "2021-09-28T08:26:46.367Z"
   },
   {
    "duration": 417,
    "start_time": "2021-09-28T08:26:46.379Z"
   },
   {
    "duration": 24,
    "start_time": "2021-09-28T08:26:46.798Z"
   },
   {
    "duration": 1718,
    "start_time": "2021-09-28T08:26:46.825Z"
   },
   {
    "duration": 13,
    "start_time": "2021-09-28T08:26:48.545Z"
   },
   {
    "duration": 1550,
    "start_time": "2021-09-28T08:26:48.560Z"
   },
   {
    "duration": 10,
    "start_time": "2021-09-28T08:26:50.113Z"
   },
   {
    "duration": 62,
    "start_time": "2021-09-28T08:26:50.126Z"
   },
   {
    "duration": 106,
    "start_time": "2021-09-28T08:26:50.190Z"
   },
   {
    "duration": 54,
    "start_time": "2021-09-28T08:26:50.298Z"
   },
   {
    "duration": 31,
    "start_time": "2021-09-28T08:26:50.355Z"
   },
   {
    "duration": 18,
    "start_time": "2021-09-28T08:26:50.389Z"
   },
   {
    "duration": 16,
    "start_time": "2021-09-28T08:26:50.424Z"
   },
   {
    "duration": 22,
    "start_time": "2021-09-28T08:26:50.442Z"
   },
   {
    "duration": 21,
    "start_time": "2021-09-28T08:26:50.470Z"
   },
   {
    "duration": 10,
    "start_time": "2021-09-28T08:26:50.495Z"
   },
   {
    "duration": 16,
    "start_time": "2021-09-28T08:26:50.507Z"
   },
   {
    "duration": 21,
    "start_time": "2021-09-28T08:26:50.526Z"
   },
   {
    "duration": 34,
    "start_time": "2021-09-28T08:26:50.550Z"
   },
   {
    "duration": 34,
    "start_time": "2021-09-28T08:26:50.586Z"
   },
   {
    "duration": 1000,
    "start_time": "2021-09-28T08:26:50.623Z"
   },
   {
    "duration": 93,
    "start_time": "2021-09-28T08:26:51.631Z"
   },
   {
    "duration": 3549,
    "start_time": "2021-09-28T08:26:51.726Z"
   },
   {
    "duration": 5,
    "start_time": "2021-09-28T08:26:55.277Z"
   },
   {
    "duration": 21,
    "start_time": "2021-09-28T08:26:55.285Z"
   },
   {
    "duration": 153540,
    "start_time": "2021-09-28T08:26:55.309Z"
   },
   {
    "duration": 5,
    "start_time": "2021-09-28T08:29:28.852Z"
   },
   {
    "duration": 29,
    "start_time": "2021-09-28T08:29:28.859Z"
   },
   {
    "duration": 32343,
    "start_time": "2021-09-28T08:29:28.891Z"
   },
   {
    "duration": 87,
    "start_time": "2021-09-28T08:30:01.238Z"
   },
   {
    "duration": 64,
    "start_time": "2021-09-28T08:30:01.329Z"
   },
   {
    "duration": 1605,
    "start_time": "2021-09-28T08:32:47.688Z"
   },
   {
    "duration": 46,
    "start_time": "2021-09-28T08:32:49.296Z"
   },
   {
    "duration": 8,
    "start_time": "2021-09-28T08:32:49.345Z"
   },
   {
    "duration": 34,
    "start_time": "2021-09-28T08:32:49.356Z"
   },
   {
    "duration": 16,
    "start_time": "2021-09-28T08:32:49.392Z"
   },
   {
    "duration": 31,
    "start_time": "2021-09-28T08:32:49.411Z"
   },
   {
    "duration": 396,
    "start_time": "2021-09-28T08:32:49.445Z"
   },
   {
    "duration": 9,
    "start_time": "2021-09-28T08:32:49.846Z"
   },
   {
    "duration": 414,
    "start_time": "2021-09-28T08:32:49.858Z"
   },
   {
    "duration": 9,
    "start_time": "2021-09-28T08:32:50.274Z"
   },
   {
    "duration": 1746,
    "start_time": "2021-09-28T08:32:50.286Z"
   },
   {
    "duration": 11,
    "start_time": "2021-09-28T08:32:52.034Z"
   },
   {
    "duration": 1564,
    "start_time": "2021-09-28T08:32:52.047Z"
   },
   {
    "duration": 10,
    "start_time": "2021-09-28T08:32:53.613Z"
   },
   {
    "duration": 32,
    "start_time": "2021-09-28T08:32:53.625Z"
   },
   {
    "duration": 43,
    "start_time": "2021-09-28T08:32:53.659Z"
   },
   {
    "duration": 45,
    "start_time": "2021-09-28T08:32:53.705Z"
   },
   {
    "duration": 38,
    "start_time": "2021-09-28T08:32:53.753Z"
   },
   {
    "duration": 18,
    "start_time": "2021-09-28T08:32:53.793Z"
   },
   {
    "duration": 17,
    "start_time": "2021-09-28T08:32:53.813Z"
   },
   {
    "duration": 12,
    "start_time": "2021-09-28T08:32:53.833Z"
   },
   {
    "duration": 23,
    "start_time": "2021-09-28T08:32:53.848Z"
   },
   {
    "duration": 32,
    "start_time": "2021-09-28T08:32:53.876Z"
   },
   {
    "duration": 24,
    "start_time": "2021-09-28T08:32:53.911Z"
   },
   {
    "duration": 48,
    "start_time": "2021-09-28T08:32:53.938Z"
   },
   {
    "duration": 28,
    "start_time": "2021-09-28T08:32:53.988Z"
   },
   {
    "duration": 31,
    "start_time": "2021-09-28T08:32:54.019Z"
   },
   {
    "duration": 972,
    "start_time": "2021-09-28T08:32:54.052Z"
   },
   {
    "duration": 4,
    "start_time": "2021-09-28T08:32:55.027Z"
   },
   {
    "duration": 3738,
    "start_time": "2021-09-28T08:32:55.034Z"
   },
   {
    "duration": 6,
    "start_time": "2021-09-28T08:32:58.775Z"
   },
   {
    "duration": 57,
    "start_time": "2021-09-28T08:32:58.783Z"
   },
   {
    "duration": 153115,
    "start_time": "2021-09-28T08:32:58.843Z"
   },
   {
    "duration": 6,
    "start_time": "2021-09-28T08:35:31.961Z"
   },
   {
    "duration": 13,
    "start_time": "2021-09-28T08:35:31.970Z"
   },
   {
    "duration": 32944,
    "start_time": "2021-09-28T08:35:31.985Z"
   },
   {
    "duration": 5,
    "start_time": "2021-09-28T08:36:04.931Z"
   },
   {
    "duration": 23,
    "start_time": "2021-09-28T08:36:04.939Z"
   },
   {
    "duration": 12339,
    "start_time": "2021-09-28T08:36:04.965Z"
   },
   {
    "duration": 279,
    "start_time": "2021-09-28T08:36:17.307Z"
   },
   {
    "duration": -167,
    "start_time": "2021-09-28T08:36:17.756Z"
   },
   {
    "duration": -172,
    "start_time": "2021-09-28T08:36:17.762Z"
   },
   {
    "duration": -176,
    "start_time": "2021-09-28T08:36:17.768Z"
   },
   {
    "duration": 4,
    "start_time": "2021-09-28T08:36:51.053Z"
   },
   {
    "duration": 152090,
    "start_time": "2021-09-28T08:36:55.554Z"
   },
   {
    "duration": 5,
    "start_time": "2021-09-28T08:39:27.647Z"
   },
   {
    "duration": 32680,
    "start_time": "2021-09-28T08:46:00.142Z"
   },
   {
    "duration": 8,
    "start_time": "2021-09-28T08:47:02.760Z"
   },
   {
    "duration": 280,
    "start_time": "2021-09-28T08:47:46.213Z"
   },
   {
    "duration": 6,
    "start_time": "2021-09-28T08:47:57.426Z"
   },
   {
    "duration": 4,
    "start_time": "2021-09-28T08:54:36.687Z"
   },
   {
    "duration": 446,
    "start_time": "2021-09-28T08:54:38.620Z"
   },
   {
    "duration": 546,
    "start_time": "2021-09-28T08:55:12.959Z"
   },
   {
    "duration": 540,
    "start_time": "2021-09-28T08:55:19.588Z"
   },
   {
    "duration": 673,
    "start_time": "2021-09-28T08:56:07.107Z"
   },
   {
    "duration": 1563,
    "start_time": "2021-09-28T09:07:56.436Z"
   },
   {
    "duration": 47,
    "start_time": "2021-09-28T09:07:58.002Z"
   },
   {
    "duration": 9,
    "start_time": "2021-09-28T09:07:58.053Z"
   },
   {
    "duration": 18,
    "start_time": "2021-09-28T09:07:58.065Z"
   },
   {
    "duration": 9,
    "start_time": "2021-09-28T09:07:58.086Z"
   },
   {
    "duration": 31,
    "start_time": "2021-09-28T09:07:58.097Z"
   },
   {
    "duration": 413,
    "start_time": "2021-09-28T09:07:58.131Z"
   },
   {
    "duration": 9,
    "start_time": "2021-09-28T09:07:58.548Z"
   },
   {
    "duration": 611,
    "start_time": "2021-09-28T09:07:58.560Z"
   },
   {
    "duration": 10,
    "start_time": "2021-09-28T09:07:59.174Z"
   },
   {
    "duration": 1795,
    "start_time": "2021-09-28T09:07:59.187Z"
   },
   {
    "duration": 14,
    "start_time": "2021-09-28T09:08:00.985Z"
   },
   {
    "duration": 1579,
    "start_time": "2021-09-28T09:08:01.001Z"
   },
   {
    "duration": 4,
    "start_time": "2021-09-28T09:08:02.583Z"
   },
   {
    "duration": 37,
    "start_time": "2021-09-28T09:08:02.590Z"
   },
   {
    "duration": 14,
    "start_time": "2021-09-28T09:08:02.629Z"
   },
   {
    "duration": 60,
    "start_time": "2021-09-28T09:08:02.646Z"
   },
   {
    "duration": 34,
    "start_time": "2021-09-28T09:08:02.708Z"
   },
   {
    "duration": 23,
    "start_time": "2021-09-28T09:08:02.744Z"
   },
   {
    "duration": 6,
    "start_time": "2021-09-28T09:08:02.769Z"
   },
   {
    "duration": 16,
    "start_time": "2021-09-28T09:08:02.778Z"
   },
   {
    "duration": 27,
    "start_time": "2021-09-28T09:08:02.796Z"
   },
   {
    "duration": 11,
    "start_time": "2021-09-28T09:08:02.828Z"
   },
   {
    "duration": 7,
    "start_time": "2021-09-28T09:08:02.841Z"
   },
   {
    "duration": 15,
    "start_time": "2021-09-28T09:08:02.850Z"
   },
   {
    "duration": 10,
    "start_time": "2021-09-28T09:08:02.867Z"
   },
   {
    "duration": 13,
    "start_time": "2021-09-28T09:08:02.879Z"
   },
   {
    "duration": 702,
    "start_time": "2021-09-28T09:08:02.923Z"
   },
   {
    "duration": 92,
    "start_time": "2021-09-28T09:08:03.629Z"
   },
   {
    "duration": 3582,
    "start_time": "2021-09-28T09:08:03.724Z"
   },
   {
    "duration": 16,
    "start_time": "2021-09-28T09:08:07.309Z"
   },
   {
    "duration": 39,
    "start_time": "2021-09-28T09:08:07.328Z"
   },
   {
    "duration": 157773,
    "start_time": "2021-09-28T09:08:07.370Z"
   },
   {
    "duration": 5,
    "start_time": "2021-09-28T09:10:45.146Z"
   },
   {
    "duration": 11,
    "start_time": "2021-09-28T09:10:45.153Z"
   },
   {
    "duration": 43859,
    "start_time": "2021-09-28T09:10:45.166Z"
   },
   {
    "duration": 6,
    "start_time": "2021-09-28T09:11:29.027Z"
   },
   {
    "duration": 25,
    "start_time": "2021-09-28T09:11:29.035Z"
   },
   {
    "duration": 150473,
    "start_time": "2021-09-28T09:11:29.062Z"
   },
   {
    "duration": 6,
    "start_time": "2021-09-28T09:13:59.537Z"
   },
   {
    "duration": 33897,
    "start_time": "2021-09-28T09:13:59.545Z"
   },
   {
    "duration": 6,
    "start_time": "2021-09-28T09:14:33.445Z"
   },
   {
    "duration": 26,
    "start_time": "2021-09-28T09:14:33.454Z"
   },
   {
    "duration": 20,
    "start_time": "2021-09-28T09:14:33.482Z"
   },
   {
    "duration": 550,
    "start_time": "2021-09-28T09:14:33.504Z"
   }
  ],
  "kernelspec": {
   "display_name": "Python 3",
   "language": "python",
   "name": "python3"
  },
  "language_info": {
   "codemirror_mode": {
    "name": "ipython",
    "version": 3
   },
   "file_extension": ".py",
   "mimetype": "text/x-python",
   "name": "python",
   "nbconvert_exporter": "python",
   "pygments_lexer": "ipython3",
   "version": "3.8.8"
  },
  "toc": {
   "base_numbering": 1,
   "nav_menu": {},
   "number_sections": true,
   "sideBar": true,
   "skip_h1_title": true,
   "title_cell": "Содержание",
   "title_sidebar": "Contents",
   "toc_cell": true,
   "toc_position": {
    "height": "calc(100% - 180px)",
    "left": "10px",
    "top": "150px",
    "width": "269.188px"
   },
   "toc_section_display": true,
   "toc_window_display": true
  }
 },
 "nbformat": 4,
 "nbformat_minor": 2
}

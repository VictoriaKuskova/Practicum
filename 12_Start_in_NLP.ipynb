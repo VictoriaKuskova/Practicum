{
 "cells": [
  {
   "cell_type": "markdown",
   "metadata": {
    "toc": true
   },
   "source": [
    "<h1>Содержание<span class=\"tocSkip\"></span></h1>\n",
    "<div class=\"toc\"><ul class=\"toc-item\"><li><span><a href=\"#Введение\" data-toc-modified-id=\"Введение-1\"><span class=\"toc-item-num\">1&nbsp;&nbsp;</span>Введение</a></span></li><li><span><a href=\"#Подготовка\" data-toc-modified-id=\"Подготовка-2\"><span class=\"toc-item-num\">2&nbsp;&nbsp;</span>Подготовка</a></span><ul class=\"toc-item\"><li><span><a href=\"#Общая-подготовка\" data-toc-modified-id=\"Общая-подготовка-2.1\"><span class=\"toc-item-num\">2.1&nbsp;&nbsp;</span>Общая подготовка</a></span></li><li><span><a href=\"#Лемматизация-и-очистка-текста\" data-toc-modified-id=\"Лемматизация-и-очистка-текста-2.2\"><span class=\"toc-item-num\">2.2&nbsp;&nbsp;</span>Лемматизация и очистка текста</a></span></li><li><span><a href=\"#Создание-выборок\" data-toc-modified-id=\"Создание-выборок-2.3\"><span class=\"toc-item-num\">2.3&nbsp;&nbsp;</span>Создание выборок</a></span></li></ul></li><li><span><a href=\"#Обучение\" data-toc-modified-id=\"Обучение-3\"><span class=\"toc-item-num\">3&nbsp;&nbsp;</span>Обучение</a></span><ul class=\"toc-item\"><li><span><a href=\"#Логистическая-регрессия\" data-toc-modified-id=\"Логистическая-регрессия-3.1\"><span class=\"toc-item-num\">3.1&nbsp;&nbsp;</span>Логистическая регрессия</a></span></li><li><span><a href=\"#LightGBM\" data-toc-modified-id=\"LightGBM-3.2\"><span class=\"toc-item-num\">3.2&nbsp;&nbsp;</span>LightGBM</a></span></li><li><span><a href=\"#CatBoost\" data-toc-modified-id=\"CatBoost-3.3\"><span class=\"toc-item-num\">3.3&nbsp;&nbsp;</span>CatBoost</a></span></li><li><span><a href=\"#Тестирование\" data-toc-modified-id=\"Тестирование-3.4\"><span class=\"toc-item-num\">3.4&nbsp;&nbsp;</span>Тестирование</a></span></li></ul></li><li><span><a href=\"#Выводы\" data-toc-modified-id=\"Выводы-4\"><span class=\"toc-item-num\">4&nbsp;&nbsp;</span>Выводы</a></span></li><li><span><a href=\"#Чек-лист-проверки\" data-toc-modified-id=\"Чек-лист-проверки-5\"><span class=\"toc-item-num\">5&nbsp;&nbsp;</span>Чек-лист проверки</a></span></li></ul></div>"
   ]
  },
  {
   "cell_type": "markdown",
   "metadata": {},
   "source": [
    "# Проект для «Викишоп»"
   ]
  },
  {
   "cell_type": "markdown",
   "metadata": {},
   "source": [
    "## Введение"
   ]
  },
  {
   "cell_type": "markdown",
   "metadata": {},
   "source": [
    "В данном проекте мы решим задачу в рамках темы \"Машинное обучение для текстов\", по проекту \"Проект для «Викишоп»\". Проект будет выполняться <b>БЕЗ помощи нейронной сети BERT</b>.\n",
    "\n",
    "Ниже можно найти описание задачи, а также примерный план проекта.\n",
    "\n",
    "<b>Описание задачи:</b>\n",
    "\n",
    "\n",
    "Интернет-магазин «Викишоп» запускает новый сервис. Теперь пользователи могут редактировать и дополнять описания товаров, как в вики-сообществах. То есть клиенты предлагают свои правки и комментируют изменения других. Магазину нужен инструмент, который будет искать токсичные комментарии и отправлять их на модерацию. \n",
    "\n",
    "Обучите модель классифицировать комментарии на позитивные и негативные. В вашем распоряжении набор данных с разметкой о токсичности правок.\n",
    "\n",
    "Постройте модель со значением метрики качества *F1* не меньше 0.75. \n",
    "\n",
    "**Инструкция по выполнению проекта**\n",
    "\n",
    "1. Загрузите и подготовьте данные.\n",
    "2. Обучите разные модели. \n",
    "3. Сделайте выводы.\n",
    "\n",
    "Для выполнения проекта применять *BERT* необязательно, но вы можете попробовать.\n",
    "\n",
    "**Описание данных**\n",
    "\n",
    "Данные находятся в файле `toxic_comments.csv`. Столбец *text* в нём содержит текст комментария, а *toxic* — целевой признак.\n",
    "\n",
    "\n",
    "<b>План работы над проектом:</b>\n",
    "- Загрузка данных.\n",
    "- Обработка данных.\n",
    "- Обучение моделей.\n",
    "- Изучение моделей и выбор оптимальной.\n",
    "- Общий вывод.\n",
    "- Чек-лист проекта.\n",
    "\n",
    "<b>Автор проекта:</b>\n",
    "- Виктория Кускова, \n",
    "- студентка Яндекс.Практикума, 2021.\n"
   ]
  },
  {
   "cell_type": "markdown",
   "metadata": {},
   "source": [
    "## Подготовка"
   ]
  },
  {
   "cell_type": "markdown",
   "metadata": {},
   "source": [
    "### Общая подготовка"
   ]
  },
  {
   "cell_type": "markdown",
   "metadata": {},
   "source": [
    "Выделим импорты всех библиотек, импорт файла с данными и по общую информацию по нему в отдельные ячейки."
   ]
  },
  {
   "cell_type": "code",
   "execution_count": 1,
   "metadata": {
    "scrolled": true
   },
   "outputs": [
    {
     "name": "stderr",
     "output_type": "stream",
     "text": [
      "[nltk_data] Downloading package stopwords to /home/jovyan/nltk_data...\n",
      "[nltk_data]   Package stopwords is already up-to-date!\n",
      "[nltk_data] Downloading package averaged_perceptron_tagger to\n",
      "[nltk_data]     /home/jovyan/nltk_data...\n",
      "[nltk_data]   Package averaged_perceptron_tagger is already up-to-\n",
      "[nltk_data]       date!\n"
     ]
    }
   ],
   "source": [
    "import pandas as pd\n",
    "import numpy as np\n",
    "import matplotlib.pyplot as plt\n",
    "from tqdm import notebook\n",
    "import warnings\n",
    "warnings.filterwarnings('ignore')\n",
    "\n",
    "import re\n",
    "import nltk\n",
    "from nltk.corpus import stopwords as nltk_stopwords\n",
    "nltk.download('stopwords')\n",
    "stopwords = set(nltk_stopwords.words('english'))\n",
    "\n",
    "from nltk import word_tokenize, pos_tag\n",
    "nltk.download('averaged_perceptron_tagger')\n",
    "from nltk.stem import WordNetLemmatizer, SnowballStemmer\n",
    "from nltk.corpus import wordnet\n",
    "s = SnowballStemmer('english')\n",
    "w = WordNetLemmatizer()\n",
    "import spacy\n",
    "#nlp = spacy.load('en')\n",
    "nlp = spacy.load(\"en_core_web_sm\")\n",
    "\n",
    "from sklearn.feature_extraction.text import TfidfVectorizer\n",
    "from sklearn.model_selection import train_test_split, GridSearchCV, StratifiedKFold\n",
    "from sklearn.pipeline import Pipeline\n",
    "#from sklearn.utils.class_weight import compute_class_weight\n",
    "from sklearn.linear_model import LogisticRegression\n",
    "from lightgbm import LGBMClassifier\n",
    "from catboost import CatBoostClassifier\n",
    "from sklearn.metrics import f1_score"
   ]
  },
  {
   "cell_type": "markdown",
   "metadata": {},
   "source": [
    "s = SnowballStemmer('english')\n",
    "w = WordNetLemmatizer()\n",
    "nltk.download('stopwords')\n",
    "stopwords = set(nltk_stopwords.words('english'))"
   ]
  },
  {
   "cell_type": "code",
   "execution_count": 2,
   "metadata": {
    "scrolled": true
   },
   "outputs": [],
   "source": [
    "df = pd.read_csv('/datasets/toxic_comments.csv')"
   ]
  },
  {
   "cell_type": "code",
   "execution_count": 3,
   "metadata": {
    "scrolled": true
   },
   "outputs": [
    {
     "name": "stdout",
     "output_type": "stream",
     "text": [
      "<class 'pandas.core.frame.DataFrame'>\n",
      "RangeIndex: 159571 entries, 0 to 159570\n",
      "Data columns (total 2 columns):\n",
      "text     159571 non-null object\n",
      "toxic    159571 non-null int64\n",
      "dtypes: int64(1), object(1)\n",
      "memory usage: 2.4+ MB\n"
     ]
    }
   ],
   "source": [
    "df.info()"
   ]
  },
  {
   "cell_type": "markdown",
   "metadata": {},
   "source": [
    "В общем наборе данных у нас 159 тыс строк. Видим 1 столбец с текстом, который будем обрабатывать и целевой признак."
   ]
  },
  {
   "cell_type": "code",
   "execution_count": 4,
   "metadata": {
    "scrolled": true
   },
   "outputs": [
    {
     "data": {
      "text/html": [
       "<div>\n",
       "<style scoped>\n",
       "    .dataframe tbody tr th:only-of-type {\n",
       "        vertical-align: middle;\n",
       "    }\n",
       "\n",
       "    .dataframe tbody tr th {\n",
       "        vertical-align: top;\n",
       "    }\n",
       "\n",
       "    .dataframe thead th {\n",
       "        text-align: right;\n",
       "    }\n",
       "</style>\n",
       "<table border=\"1\" class=\"dataframe\">\n",
       "  <thead>\n",
       "    <tr style=\"text-align: right;\">\n",
       "      <th></th>\n",
       "      <th>text</th>\n",
       "      <th>toxic</th>\n",
       "    </tr>\n",
       "  </thead>\n",
       "  <tbody>\n",
       "    <tr>\n",
       "      <td>0</td>\n",
       "      <td>Explanation\\nWhy the edits made under my usern...</td>\n",
       "      <td>0</td>\n",
       "    </tr>\n",
       "    <tr>\n",
       "      <td>1</td>\n",
       "      <td>D'aww! He matches this background colour I'm s...</td>\n",
       "      <td>0</td>\n",
       "    </tr>\n",
       "    <tr>\n",
       "      <td>2</td>\n",
       "      <td>Hey man, I'm really not trying to edit war. It...</td>\n",
       "      <td>0</td>\n",
       "    </tr>\n",
       "    <tr>\n",
       "      <td>3</td>\n",
       "      <td>\"\\nMore\\nI can't make any real suggestions on ...</td>\n",
       "      <td>0</td>\n",
       "    </tr>\n",
       "    <tr>\n",
       "      <td>4</td>\n",
       "      <td>You, sir, are my hero. Any chance you remember...</td>\n",
       "      <td>0</td>\n",
       "    </tr>\n",
       "  </tbody>\n",
       "</table>\n",
       "</div>"
      ],
      "text/plain": [
       "                                                text  toxic\n",
       "0  Explanation\\nWhy the edits made under my usern...      0\n",
       "1  D'aww! He matches this background colour I'm s...      0\n",
       "2  Hey man, I'm really not trying to edit war. It...      0\n",
       "3  \"\\nMore\\nI can't make any real suggestions on ...      0\n",
       "4  You, sir, are my hero. Any chance you remember...      0"
      ]
     },
     "execution_count": 4,
     "metadata": {},
     "output_type": "execute_result"
    }
   ],
   "source": [
    "df.head()"
   ]
  },
  {
   "cell_type": "markdown",
   "metadata": {},
   "source": [
    "По первым строкам видно, что преобладают нейтральные комментарии. Посмотрим на соотнощение в значениях целевого признака по всему массиву данных."
   ]
  },
  {
   "cell_type": "code",
   "execution_count": 5,
   "metadata": {
    "scrolled": true
   },
   "outputs": [
    {
     "data": {
      "text/plain": [
       "0    0.898321\n",
       "1    0.101679\n",
       "Name: toxic, dtype: float64"
      ]
     },
     "execution_count": 5,
     "metadata": {},
     "output_type": "execute_result"
    }
   ],
   "source": [
    "class_frequency = df['toxic'].value_counts(normalize=True)\n",
    "\n",
    "class_frequency"
   ]
  },
  {
   "cell_type": "code",
   "execution_count": 6,
   "metadata": {
    "scrolled": true
   },
   "outputs": [
    {
     "data": {
      "image/png": "[encoded data removed]",
      "text/plain": [
       "<Figure size 432x288 with 1 Axes>"
      ]
     },
     "metadata": {
      "needs_background": "light"
     },
     "output_type": "display_data"
    }
   ],
   "source": [
    "class_frequency.plot(kind='bar')\n",
    "\n",
    "plt.title(\"Соотношение комментариев\", fontweight='bold', size='large')\n",
    "plt.ylabel(\"Частота, сообщения\")\n",
    "plt.xlabel(\"Нейтральные и токсичные комментарии\", size='large')\n",
    "plt.show()"
   ]
  },
  {
   "cell_type": "markdown",
   "metadata": {},
   "source": [
    "Дизбаланс классов есть: 9 к 1 по нейтральным и токсичным комментариям. Его необходимо будет учитывать при обучении моделей и формировании выборок. "
   ]
  },
  {
   "cell_type": "markdown",
   "metadata": {},
   "source": [
    "Также можно посмотреть на другие свойства и как они соотносятся с целевым признаком. \n",
    "- Можно посмотреть на длину сообщения.\n",
    "- Состоит ли сообщение только из букв верхнего регистра.\n",
    "- Состоит ли сообщение только из букв нижнего регистра."
   ]
  },
  {
   "cell_type": "code",
   "execution_count": 7,
   "metadata": {
    "scrolled": true
   },
   "outputs": [],
   "source": [
    "df['len_text'] = df['text'].apply(lambda x: len(x))\n",
    "df['text_is_upper'] = df['text'].apply(lambda x: str(x).isupper())\n",
    "df['text_is_lower'] = df['text'].apply(lambda x: str(x).islower())"
   ]
  },
  {
   "cell_type": "code",
   "execution_count": 8,
   "metadata": {
    "scrolled": true
   },
   "outputs": [
    {
     "data": {
      "text/html": [
       "<div>\n",
       "<style scoped>\n",
       "    .dataframe tbody tr th:only-of-type {\n",
       "        vertical-align: middle;\n",
       "    }\n",
       "\n",
       "    .dataframe tbody tr th {\n",
       "        vertical-align: top;\n",
       "    }\n",
       "\n",
       "    .dataframe thead th {\n",
       "        text-align: right;\n",
       "    }\n",
       "</style>\n",
       "<table border=\"1\" class=\"dataframe\">\n",
       "  <thead>\n",
       "    <tr style=\"text-align: right;\">\n",
       "      <th></th>\n",
       "      <th>text</th>\n",
       "      <th>toxic</th>\n",
       "      <th>len_text</th>\n",
       "      <th>text_is_upper</th>\n",
       "      <th>text_is_lower</th>\n",
       "    </tr>\n",
       "  </thead>\n",
       "  <tbody>\n",
       "    <tr>\n",
       "      <td>0</td>\n",
       "      <td>Explanation\\nWhy the edits made under my usern...</td>\n",
       "      <td>0</td>\n",
       "      <td>264</td>\n",
       "      <td>False</td>\n",
       "      <td>False</td>\n",
       "    </tr>\n",
       "    <tr>\n",
       "      <td>1</td>\n",
       "      <td>D'aww! He matches this background colour I'm s...</td>\n",
       "      <td>0</td>\n",
       "      <td>112</td>\n",
       "      <td>False</td>\n",
       "      <td>False</td>\n",
       "    </tr>\n",
       "    <tr>\n",
       "      <td>2</td>\n",
       "      <td>Hey man, I'm really not trying to edit war. It...</td>\n",
       "      <td>0</td>\n",
       "      <td>233</td>\n",
       "      <td>False</td>\n",
       "      <td>False</td>\n",
       "    </tr>\n",
       "    <tr>\n",
       "      <td>3</td>\n",
       "      <td>\"\\nMore\\nI can't make any real suggestions on ...</td>\n",
       "      <td>0</td>\n",
       "      <td>622</td>\n",
       "      <td>False</td>\n",
       "      <td>False</td>\n",
       "    </tr>\n",
       "    <tr>\n",
       "      <td>4</td>\n",
       "      <td>You, sir, are my hero. Any chance you remember...</td>\n",
       "      <td>0</td>\n",
       "      <td>67</td>\n",
       "      <td>False</td>\n",
       "      <td>False</td>\n",
       "    </tr>\n",
       "    <tr>\n",
       "      <td>5</td>\n",
       "      <td>\"\\n\\nCongratulations from me as well, use the ...</td>\n",
       "      <td>0</td>\n",
       "      <td>65</td>\n",
       "      <td>False</td>\n",
       "      <td>False</td>\n",
       "    </tr>\n",
       "    <tr>\n",
       "      <td>6</td>\n",
       "      <td>COCKSUCKER BEFORE YOU PISS AROUND ON MY WORK</td>\n",
       "      <td>1</td>\n",
       "      <td>44</td>\n",
       "      <td>True</td>\n",
       "      <td>False</td>\n",
       "    </tr>\n",
       "    <tr>\n",
       "      <td>7</td>\n",
       "      <td>Your vandalism to the Matt Shirvington article...</td>\n",
       "      <td>0</td>\n",
       "      <td>115</td>\n",
       "      <td>False</td>\n",
       "      <td>False</td>\n",
       "    </tr>\n",
       "    <tr>\n",
       "      <td>8</td>\n",
       "      <td>Sorry if the word 'nonsense' was offensive to ...</td>\n",
       "      <td>0</td>\n",
       "      <td>472</td>\n",
       "      <td>False</td>\n",
       "      <td>False</td>\n",
       "    </tr>\n",
       "    <tr>\n",
       "      <td>9</td>\n",
       "      <td>alignment on this subject and which are contra...</td>\n",
       "      <td>0</td>\n",
       "      <td>70</td>\n",
       "      <td>False</td>\n",
       "      <td>False</td>\n",
       "    </tr>\n",
       "    <tr>\n",
       "      <td>10</td>\n",
       "      <td>\"\\nFair use rationale for Image:Wonju.jpg\\n\\nT...</td>\n",
       "      <td>0</td>\n",
       "      <td>2875</td>\n",
       "      <td>False</td>\n",
       "      <td>False</td>\n",
       "    </tr>\n",
       "    <tr>\n",
       "      <td>11</td>\n",
       "      <td>bbq \\n\\nbe a man and lets discuss it-maybe ove...</td>\n",
       "      <td>0</td>\n",
       "      <td>56</td>\n",
       "      <td>False</td>\n",
       "      <td>True</td>\n",
       "    </tr>\n",
       "    <tr>\n",
       "      <td>12</td>\n",
       "      <td>Hey... what is it..\\n@ | talk .\\nWhat is it......</td>\n",
       "      <td>1</td>\n",
       "      <td>319</td>\n",
       "      <td>False</td>\n",
       "      <td>False</td>\n",
       "    </tr>\n",
       "    <tr>\n",
       "      <td>13</td>\n",
       "      <td>Before you start throwing accusations and warn...</td>\n",
       "      <td>0</td>\n",
       "      <td>819</td>\n",
       "      <td>False</td>\n",
       "      <td>False</td>\n",
       "    </tr>\n",
       "    <tr>\n",
       "      <td>14</td>\n",
       "      <td>Oh, and the girl above started her arguments w...</td>\n",
       "      <td>0</td>\n",
       "      <td>219</td>\n",
       "      <td>False</td>\n",
       "      <td>False</td>\n",
       "    </tr>\n",
       "  </tbody>\n",
       "</table>\n",
       "</div>"
      ],
      "text/plain": [
       "                                                 text  toxic  len_text  \\\n",
       "0   Explanation\\nWhy the edits made under my usern...      0       264   \n",
       "1   D'aww! He matches this background colour I'm s...      0       112   \n",
       "2   Hey man, I'm really not trying to edit war. It...      0       233   \n",
       "3   \"\\nMore\\nI can't make any real suggestions on ...      0       622   \n",
       "4   You, sir, are my hero. Any chance you remember...      0        67   \n",
       "5   \"\\n\\nCongratulations from me as well, use the ...      0        65   \n",
       "6        COCKSUCKER BEFORE YOU PISS AROUND ON MY WORK      1        44   \n",
       "7   Your vandalism to the Matt Shirvington article...      0       115   \n",
       "8   Sorry if the word 'nonsense' was offensive to ...      0       472   \n",
       "9   alignment on this subject and which are contra...      0        70   \n",
       "10  \"\\nFair use rationale for Image:Wonju.jpg\\n\\nT...      0      2875   \n",
       "11  bbq \\n\\nbe a man and lets discuss it-maybe ove...      0        56   \n",
       "12  Hey... what is it..\\n@ | talk .\\nWhat is it......      1       319   \n",
       "13  Before you start throwing accusations and warn...      0       819   \n",
       "14  Oh, and the girl above started her arguments w...      0       219   \n",
       "\n",
       "    text_is_upper  text_is_lower  \n",
       "0           False          False  \n",
       "1           False          False  \n",
       "2           False          False  \n",
       "3           False          False  \n",
       "4           False          False  \n",
       "5           False          False  \n",
       "6            True          False  \n",
       "7           False          False  \n",
       "8           False          False  \n",
       "9           False          False  \n",
       "10          False          False  \n",
       "11          False           True  \n",
       "12          False          False  \n",
       "13          False          False  \n",
       "14          False          False  "
      ]
     },
     "execution_count": 8,
     "metadata": {},
     "output_type": "execute_result"
    }
   ],
   "source": [
    "df.head(15)"
   ]
  },
  {
   "cell_type": "markdown",
   "metadata": {},
   "source": [
    "Отлично, видим, что функции сработали. Посмотрим на соотношение классов и как это соотносится с целевым признаком."
   ]
  },
  {
   "cell_type": "code",
   "execution_count": 9,
   "metadata": {
    "scrolled": true
   },
   "outputs": [
    {
     "data": {
      "text/plain": [
       "False    0.989334\n",
       "True     0.010666\n",
       "Name: text_is_upper, dtype: float64"
      ]
     },
     "execution_count": 9,
     "metadata": {},
     "output_type": "execute_result"
    }
   ],
   "source": [
    "df['text_is_upper'].value_counts(normalize=True)"
   ]
  },
  {
   "cell_type": "code",
   "execution_count": 10,
   "metadata": {
    "scrolled": true
   },
   "outputs": [
    {
     "data": {
      "text/plain": [
       "False    0.96114\n",
       "True     0.03886\n",
       "Name: text_is_lower, dtype: float64"
      ]
     },
     "execution_count": 10,
     "metadata": {},
     "output_type": "execute_result"
    }
   ],
   "source": [
    "df['text_is_lower'].value_counts(normalize=True)"
   ]
  },
  {
   "cell_type": "markdown",
   "metadata": {},
   "source": [
    "В верхнем регистре около 1% комментариев, в нижнем 3%. Посмотрим сколько срези этих комментариев токсичных."
   ]
  },
  {
   "cell_type": "code",
   "execution_count": 11,
   "metadata": {
    "scrolled": true
   },
   "outputs": [
    {
     "data": {
      "text/plain": [
       "1    0.66745\n",
       "0    0.33255\n",
       "Name: toxic, dtype: float64"
      ]
     },
     "execution_count": 11,
     "metadata": {},
     "output_type": "execute_result"
    }
   ],
   "source": [
    "df[df['text_is_upper'] == True]['toxic'].value_counts(normalize=True)"
   ]
  },
  {
   "cell_type": "code",
   "execution_count": 12,
   "metadata": {
    "scrolled": true
   },
   "outputs": [
    {
     "data": {
      "text/plain": [
       "0    0.722948\n",
       "1    0.277052\n",
       "Name: toxic, dtype: float64"
      ]
     },
     "execution_count": 12,
     "metadata": {},
     "output_type": "execute_result"
    }
   ],
   "source": [
    "df[df['text_is_lower'] == True]['toxic'].value_counts(normalize=True)"
   ]
  },
  {
   "cell_type": "markdown",
   "metadata": {},
   "source": [
    "Интересто, что среди 1% комментариев в верхнем регистре туже 33% токсичных, а не 10% как по всему датасету. А среди тех, что писали только в нижнем регистре 27%.\n",
    "\n",
    "Теперь посмотрим на зависимость длины сообщения и типа комментария."
   ]
  },
  {
   "cell_type": "code",
   "execution_count": 13,
   "metadata": {
    "scrolled": true
   },
   "outputs": [
    {
     "data": {
      "image/png": "[encoded data removed]",
      "text/plain": [
       "<Figure size 432x288 with 1 Axes>"
      ]
     },
     "metadata": {
      "needs_background": "light"
     },
     "output_type": "display_data"
    }
   ],
   "source": [
    "df.plot(\n",
    "        x='len_text', y='toxic', kind='scatter'\n",
    ")  \n",
    "plt.title(\"Диаграмма рассеивания, длина и тип сообщения\", fontweight='bold', size='large')\n",
    "plt.ylabel(\"Тип сообщения\")\n",
    "plt.xlabel(\"Длина сообщения, количество знаков\")\n",
    "plt.show()"
   ]
  },
  {
   "cell_type": "markdown",
   "metadata": {},
   "source": [
    "Не видно очевидной завимости и разделения на классы от длины сообщения. Посмотрим на среднюю длину и медиану по двум классам."
   ]
  },
  {
   "cell_type": "code",
   "execution_count": 14,
   "metadata": {
    "scrolled": true
   },
   "outputs": [
    {
     "data": {
      "text/plain": [
       "toxic\n",
       "0    404.347174\n",
       "1    303.304037\n",
       "Name: len_text, dtype: float64"
      ]
     },
     "execution_count": 14,
     "metadata": {},
     "output_type": "execute_result"
    }
   ],
   "source": [
    "df.groupby('toxic')['len_text'].mean()"
   ]
  },
  {
   "cell_type": "code",
   "execution_count": 15,
   "metadata": {
    "scrolled": true
   },
   "outputs": [
    {
     "data": {
      "text/plain": [
       "toxic\n",
       "0    216\n",
       "1    128\n",
       "Name: len_text, dtype: int64"
      ]
     },
     "execution_count": 15,
     "metadata": {},
     "output_type": "execute_result"
    }
   ],
   "source": [
    "df.groupby('toxic')['len_text'].median()"
   ]
  },
  {
   "cell_type": "markdown",
   "metadata": {},
   "source": [
    "И все-таки видно, что токсичные комментарии короче - 303 символов против 404 у нейтральных в среднем. Больше половины из них короче 128 символов. Когда у нейтральных медиана около 216."
   ]
  },
  {
   "cell_type": "markdown",
   "metadata": {},
   "source": [
    "### Лемматизация и очистка текста"
   ]
  },
  {
   "cell_type": "markdown",
   "metadata": {},
   "source": [
    "Сделаем обработку изначального текста. Лемматизируем его (или сделаем стемминг) и очистим (уберем ненужные символы). Для лемматизации английского текста библитека pymystem3 не подходит, поэтому посмотрим какой из способов лемматизации или стемминга ниже нам больше понравится:\n",
    "- SnowballStemmer;\n",
    "- WordNetLemmatizer; \n",
    "- библиотека Spacy.\n",
    "\n",
    "Сначала посмотрим как это работает на 1 примере."
   ]
  },
  {
   "cell_type": "code",
   "execution_count": 16,
   "metadata": {
    "scrolled": true
   },
   "outputs": [
    {
     "data": {
      "text/plain": [
       "\"Explanation\\nWhy the edits made under my username Hardcore Metallica Fan were reverted? They weren't vandalisms, just closure on some GAs after I voted at New York Dolls FAC. And please don't remove the template from the talk page since I'm retired now.89.205.38.27\""
      ]
     },
     "execution_count": 16,
     "metadata": {},
     "output_type": "execute_result"
    }
   ],
   "source": [
    "df['text'][0]"
   ]
  },
  {
   "cell_type": "code",
   "execution_count": 17,
   "metadata": {
    "scrolled": true
   },
   "outputs": [
    {
     "name": "stdout",
     "output_type": "stream",
     "text": [
      "CPU times: user 213 µs, sys: 27 µs, total: 240 µs\n",
      "Wall time: 247 µs\n"
     ]
    },
    {
     "data": {
      "text/plain": [
       "\"explanation\\nwhy the edits made under my username hardcore metallica fan were reverted? they weren't vandalisms, just closure on some gas after i voted at new york dolls fac. and please don't remove the template from the talk page since i'm retired now.89.205.38.27\""
      ]
     },
     "execution_count": 17,
     "metadata": {},
     "output_type": "execute_result"
    }
   ],
   "source": [
    "%%time\n",
    "s.stem(df['text'][0])"
   ]
  },
  {
   "cell_type": "markdown",
   "metadata": {},
   "source": [
    "Видим, что стемминг работает, посмотрим на другие."
   ]
  },
  {
   "cell_type": "code",
   "execution_count": 18,
   "metadata": {
    "scrolled": true
   },
   "outputs": [
    {
     "name": "stdout",
     "output_type": "stream",
     "text": [
      "CPU times: user 2.09 s, sys: 85 ms, total: 2.17 s\n",
      "Wall time: 2.17 s\n"
     ]
    },
    {
     "data": {
      "text/plain": [
       "\"Explanation\\nWhy the edits made under my username Hardcore Metallica Fan were reverted? They weren't vandalisms, just closure on some GAs after I voted at New York Dolls FAC. And please don't remove the template from the talk page since I'm retired now.89.205.38.27\""
      ]
     },
     "execution_count": 18,
     "metadata": {},
     "output_type": "execute_result"
    }
   ],
   "source": [
    "%%time\n",
    "\n",
    "w.lemmatize(df['text'][0])"
   ]
  },
  {
   "cell_type": "markdown",
   "metadata": {},
   "source": [
    "Лемматизации все еще не произшло. Это происходит из особенности работы метода. Чтобы он работал правильно - нужно для каждого слова из текста подирать правильный тег при лемматизации.\n",
    "\n",
    "<i> Как правильно это сделать я подчерпнула из этой статьи: https://www.geeksforgeeks.org/python-lemmatization-approaches-with-examples/ </i>"
   ]
  },
  {
   "cell_type": "code",
   "execution_count": 19,
   "metadata": {
    "scrolled": true
   },
   "outputs": [],
   "source": [
    "def pos_tagger(nltk_tag):\n",
    "    if nltk_tag.startswith('J'):\n",
    "        return wordnet.ADJ\n",
    "    elif nltk_tag.startswith('V'):\n",
    "        return wordnet.VERB\n",
    "    elif nltk_tag.startswith('N'):\n",
    "        return wordnet.NOUN\n",
    "    elif nltk_tag.startswith('R'):\n",
    "        return wordnet.ADV\n",
    "    else:         \n",
    "        return None"
   ]
  },
  {
   "cell_type": "code",
   "execution_count": 20,
   "metadata": {
    "scrolled": false
   },
   "outputs": [],
   "source": [
    "pos_tagged = nltk.pos_tag(nltk.word_tokenize(df['text'][0]))"
   ]
  },
  {
   "cell_type": "code",
   "execution_count": 21,
   "metadata": {
    "scrolled": true
   },
   "outputs": [],
   "source": [
    "wordnet_tagged = list(map(lambda x: (x[0], pos_tagger(x[1])), pos_tagged))"
   ]
  },
  {
   "cell_type": "code",
   "execution_count": 22,
   "metadata": {
    "scrolled": true
   },
   "outputs": [
    {
     "name": "stdout",
     "output_type": "stream",
     "text": [
      "CPU times: user 4.75 ms, sys: 0 ns, total: 4.75 ms\n",
      "Wall time: 4.45 ms\n"
     ]
    },
    {
     "data": {
      "text/plain": [
       "\"Explanation Why the edits make under my username Hardcore Metallica Fan be revert ? They be n't vandalisms , just closure on some GAs after I vote at New York Dolls FAC . And please do n't remove the template from the talk page since I 'm retired now.89.205.38.27\""
      ]
     },
     "execution_count": 22,
     "metadata": {},
     "output_type": "execute_result"
    }
   ],
   "source": [
    "%%time\n",
    "pos_tagged = nltk.pos_tag(nltk.word_tokenize(df['text'][0]))\n",
    "wordnet_tagged = list(map(lambda x: (x[0], pos_tagger(x[1])), pos_tagged))\n",
    "\n",
    "lemmas = []\n",
    "for word, tag in wordnet_tagged:\n",
    "    if tag is None:\n",
    "        lemmas.append(word)\n",
    "    else:       \n",
    "        lemmas.append(w.lemmatize(word, tag))\n",
    "\n",
    "\" \".join(lemmas)"
   ]
  },
  {
   "cell_type": "markdown",
   "metadata": {},
   "source": [
    "Отлично, леммаизация произошла. Хоть она и дольше стемминга.\n",
    "Посмотрим на библиотеку Spacy."
   ]
  },
  {
   "cell_type": "code",
   "execution_count": 23,
   "metadata": {
    "scrolled": true
   },
   "outputs": [
    {
     "name": "stdout",
     "output_type": "stream",
     "text": [
      "CPU times: user 20.6 ms, sys: 4.06 ms, total: 24.6 ms\n",
      "Wall time: 23.5 ms\n"
     ]
    },
    {
     "data": {
      "text/plain": [
       "'explanation \\n why the edit make under -PRON- username Hardcore Metallica Fan be revert ? -PRON- be not vandalism , just closure on some gas after -PRON- vote at New York Dolls FAC . and please do not remove the template from the talk page since -PRON- be retire now.89.205.38.27'"
      ]
     },
     "execution_count": 23,
     "metadata": {},
     "output_type": "execute_result"
    }
   ],
   "source": [
    "%%time\n",
    "lemmas = []\n",
    "for token in nlp(df['text'][0]):\n",
    "    lemmas.append(token.lemma_)\n",
    "\n",
    "\" \".join(lemmas)"
   ]
  },
  {
   "cell_type": "markdown",
   "metadata": {},
   "source": [
    "Лучше всего работают библиотека Spacy и WordNetLemmatizer, хотя они и непростые в реализации. Но Spacy медленнее. Хоть на 1 примере это меньше 1 сек. Но на 159 тыс - это будет более существенно.\n",
    "\n",
    "Но остановимся именно на WordNetLemmatizer. Так как она одна действительно приводит слова к леммам и чуть быстрее."
   ]
  },
  {
   "cell_type": "markdown",
   "metadata": {},
   "source": [
    "Напишем функцию очистки текста и проветим на 1 примере."
   ]
  },
  {
   "cell_type": "code",
   "execution_count": 24,
   "metadata": {
    "scrolled": true
   },
   "outputs": [],
   "source": [
    "def clear_text(text):\n",
    "    \n",
    "    clear_list = re.sub(r'[^a-zA-Z ]', ' ', text).split()\n",
    "    clear_text = \" \".join(clear_list)\n",
    "    clear_text = clear_text.lower()\n",
    "    return clear_text"
   ]
  },
  {
   "cell_type": "code",
   "execution_count": 25,
   "metadata": {
    "scrolled": true
   },
   "outputs": [
    {
     "data": {
      "text/plain": [
       "'explanation why the edits made under my username hardcore metallica fan were reverted they weren t vandalisms just closure on some gas after i voted at new york dolls fac and please don t remove the template from the talk page since i m retired now'"
      ]
     },
     "execution_count": 25,
     "metadata": {},
     "output_type": "execute_result"
    }
   ],
   "source": [
    "clear_text(df['text'][0])"
   ]
  },
  {
   "cell_type": "markdown",
   "metadata": {},
   "source": [
    "Теперь напищем функцию лемматизации на основе WordNetLemmatizer и проверим ее."
   ]
  },
  {
   "cell_type": "code",
   "execution_count": 26,
   "metadata": {
    "scrolled": true
   },
   "outputs": [],
   "source": [
    "def lemmatize(text):\n",
    "    pos_tagged = nltk.pos_tag(nltk.word_tokenize(text))\n",
    "    wordnet_tagged = list(map(lambda x: (x[0], pos_tagger(x[1])), pos_tagged))\n",
    "    lemmas = []\n",
    "    for word, tag in wordnet_tagged:\n",
    "        if tag is None:\n",
    "            lemmas.append(word)\n",
    "        else:\n",
    "            lemmas.append(w.lemmatize(word, tag))\n",
    "    lemm_text = \" \".join(lemmas)\n",
    "    return lemm_text"
   ]
  },
  {
   "cell_type": "code",
   "execution_count": 27,
   "metadata": {
    "scrolled": true
   },
   "outputs": [
    {
     "data": {
      "text/plain": [
       "'explanation why the edits make under my username hardcore metallica fan be revert they be n t vandalisms just closure on some gas after i vote at new york dolls fac and please do n t remove the template from the talk page since i m retired now'"
      ]
     },
     "execution_count": 27,
     "metadata": {},
     "output_type": "execute_result"
    }
   ],
   "source": [
    "clear_text(lemmatize(df['text'][0]))"
   ]
  },
  {
   "cell_type": "markdown",
   "metadata": {},
   "source": [
    "Отлично, функция есть. Но давайте сделаем не только лемматизированный текст, но еще и просто стемминговый. Ведь возможно лемматизируя и убирая формы некоторых слов - мы только выкидываем информацию. К примеру, глагол в какой-то форме встречается часто именно в негативных комментариях. Или даже нейтральное \"be\" ничего не дает в понимании, а вот \"are\"  или его сокращенная форма скорее чаще встречается в негативных. Стемминг сохраняет эту информацию по формам глаголов, хотя теряет часть смыслов для других слов.\n",
    "\n",
    "Создадим еще столбец со примененным стеммингом и проверим некоторые модели и на нем."
   ]
  },
  {
   "cell_type": "code",
   "execution_count": 28,
   "metadata": {
    "scrolled": true
   },
   "outputs": [],
   "source": [
    "def stem(text):\n",
    "    stem_list = s.stem(text)\n",
    "    stem_text = \"\".join(stem_list)\n",
    "    return stem_text"
   ]
  },
  {
   "cell_type": "code",
   "execution_count": 29,
   "metadata": {
    "scrolled": true
   },
   "outputs": [
    {
     "data": {
      "text/plain": [
       "'explanation why the edits made under my username hardcore metallica fan were reverted they weren t vandalisms just closure on some gas after i voted at new york dolls fac and please don t remove the template from the talk page since i m retired now'"
      ]
     },
     "execution_count": 29,
     "metadata": {},
     "output_type": "execute_result"
    }
   ],
   "source": [
    "clear_text(stem(df['text'][0]))"
   ]
  },
  {
   "cell_type": "markdown",
   "metadata": {},
   "source": [
    "Теперь давайте создадим отдельный столбец из лемматизированного и стеммингово текста. А прошлые ненужные столбцы удалим, чтобы очистить память."
   ]
  },
  {
   "cell_type": "code",
   "execution_count": 30,
   "metadata": {
    "scrolled": true
   },
   "outputs": [],
   "source": [
    "df['lemm_text'] = None\n",
    "df['stem_text'] = None\n",
    "df.drop(['len_text', 'text_is_upper', 'text_is_lower'], axis=1, inplace=True)"
   ]
  },
  {
   "cell_type": "code",
   "execution_count": 31,
   "metadata": {
    "scrolled": true
   },
   "outputs": [
    {
     "data": {
      "text/html": [
       "<div>\n",
       "<style scoped>\n",
       "    .dataframe tbody tr th:only-of-type {\n",
       "        vertical-align: middle;\n",
       "    }\n",
       "\n",
       "    .dataframe tbody tr th {\n",
       "        vertical-align: top;\n",
       "    }\n",
       "\n",
       "    .dataframe thead th {\n",
       "        text-align: right;\n",
       "    }\n",
       "</style>\n",
       "<table border=\"1\" class=\"dataframe\">\n",
       "  <thead>\n",
       "    <tr style=\"text-align: right;\">\n",
       "      <th></th>\n",
       "      <th>text</th>\n",
       "      <th>toxic</th>\n",
       "      <th>lemm_text</th>\n",
       "      <th>stem_text</th>\n",
       "    </tr>\n",
       "  </thead>\n",
       "  <tbody>\n",
       "    <tr>\n",
       "      <td>0</td>\n",
       "      <td>Explanation\\nWhy the edits made under my usern...</td>\n",
       "      <td>0</td>\n",
       "      <td>None</td>\n",
       "      <td>None</td>\n",
       "    </tr>\n",
       "    <tr>\n",
       "      <td>1</td>\n",
       "      <td>D'aww! He matches this background colour I'm s...</td>\n",
       "      <td>0</td>\n",
       "      <td>None</td>\n",
       "      <td>None</td>\n",
       "    </tr>\n",
       "    <tr>\n",
       "      <td>2</td>\n",
       "      <td>Hey man, I'm really not trying to edit war. It...</td>\n",
       "      <td>0</td>\n",
       "      <td>None</td>\n",
       "      <td>None</td>\n",
       "    </tr>\n",
       "    <tr>\n",
       "      <td>3</td>\n",
       "      <td>\"\\nMore\\nI can't make any real suggestions on ...</td>\n",
       "      <td>0</td>\n",
       "      <td>None</td>\n",
       "      <td>None</td>\n",
       "    </tr>\n",
       "    <tr>\n",
       "      <td>4</td>\n",
       "      <td>You, sir, are my hero. Any chance you remember...</td>\n",
       "      <td>0</td>\n",
       "      <td>None</td>\n",
       "      <td>None</td>\n",
       "    </tr>\n",
       "  </tbody>\n",
       "</table>\n",
       "</div>"
      ],
      "text/plain": [
       "                                                text  toxic lemm_text  \\\n",
       "0  Explanation\\nWhy the edits made under my usern...      0      None   \n",
       "1  D'aww! He matches this background colour I'm s...      0      None   \n",
       "2  Hey man, I'm really not trying to edit war. It...      0      None   \n",
       "3  \"\\nMore\\nI can't make any real suggestions on ...      0      None   \n",
       "4  You, sir, are my hero. Any chance you remember...      0      None   \n",
       "\n",
       "  stem_text  \n",
       "0      None  \n",
       "1      None  \n",
       "2      None  \n",
       "3      None  \n",
       "4      None  "
      ]
     },
     "execution_count": 31,
     "metadata": {},
     "output_type": "execute_result"
    }
   ],
   "source": [
    "df.head()"
   ]
  },
  {
   "cell_type": "code",
   "execution_count": 32,
   "metadata": {
    "scrolled": true
   },
   "outputs": [
    {
     "data": {
      "application/vnd.jupyter.widget-view+json": {
       "model_id": "f42c2ea87b4948d1880de23d96f9bfbf",
       "version_major": 2,
       "version_minor": 0
      },
      "text/plain": [
       "HBox(children=(HTML(value=''), FloatProgress(value=0.0, max=159571.0), HTML(value='')))"
      ]
     },
     "metadata": {},
     "output_type": "display_data"
    },
    {
     "name": "stdout",
     "output_type": "stream",
     "text": [
      "\n",
      "CPU times: user 22min 8s, sys: 24.4 s, total: 22min 32s\n",
      "Wall time: 23min 30s\n"
     ]
    }
   ],
   "source": [
    "%%time\n",
    "for i in notebook.tqdm(range(len(df))):\n",
    "    df['lemm_text'][i] = clear_text(lemmatize(df['text'][i]))"
   ]
  },
  {
   "cell_type": "code",
   "execution_count": 33,
   "metadata": {
    "scrolled": true
   },
   "outputs": [
    {
     "data": {
      "application/vnd.jupyter.widget-view+json": {
       "model_id": "afab1b356433499f9581f24112db73e9",
       "version_major": 2,
       "version_minor": 0
      },
      "text/plain": [
       "HBox(children=(HTML(value=''), FloatProgress(value=0.0, max=159571.0), HTML(value='')))"
      ]
     },
     "metadata": {},
     "output_type": "display_data"
    },
    {
     "name": "stdout",
     "output_type": "stream",
     "text": [
      "\n",
      "CPU times: user 4min 30s, sys: 13.4 s, total: 4min 44s\n",
      "Wall time: 4min 56s\n"
     ]
    }
   ],
   "source": [
    "%%time\n",
    "for i in notebook.tqdm(range(len(df))):\n",
    "    df['stem_text'][i] = clear_text(stem(df['text'][i]))"
   ]
  },
  {
   "cell_type": "code",
   "execution_count": 34,
   "metadata": {
    "scrolled": true
   },
   "outputs": [
    {
     "name": "stdout",
     "output_type": "stream",
     "text": [
      "<class 'pandas.core.frame.DataFrame'>\n",
      "RangeIndex: 159571 entries, 0 to 159570\n",
      "Data columns (total 4 columns):\n",
      "text         159571 non-null object\n",
      "toxic        159571 non-null int64\n",
      "lemm_text    159571 non-null object\n",
      "stem_text    159571 non-null object\n",
      "dtypes: int64(1), object(3)\n",
      "memory usage: 4.9+ MB\n"
     ]
    }
   ],
   "source": [
    "df.info()"
   ]
  },
  {
   "cell_type": "code",
   "execution_count": 35,
   "metadata": {
    "scrolled": true
   },
   "outputs": [
    {
     "data": {
      "text/html": [
       "<div>\n",
       "<style scoped>\n",
       "    .dataframe tbody tr th:only-of-type {\n",
       "        vertical-align: middle;\n",
       "    }\n",
       "\n",
       "    .dataframe tbody tr th {\n",
       "        vertical-align: top;\n",
       "    }\n",
       "\n",
       "    .dataframe thead th {\n",
       "        text-align: right;\n",
       "    }\n",
       "</style>\n",
       "<table border=\"1\" class=\"dataframe\">\n",
       "  <thead>\n",
       "    <tr style=\"text-align: right;\">\n",
       "      <th></th>\n",
       "      <th>text</th>\n",
       "      <th>toxic</th>\n",
       "      <th>lemm_text</th>\n",
       "      <th>stem_text</th>\n",
       "    </tr>\n",
       "  </thead>\n",
       "  <tbody>\n",
       "    <tr>\n",
       "      <td>0</td>\n",
       "      <td>Explanation\\nWhy the edits made under my usern...</td>\n",
       "      <td>0</td>\n",
       "      <td>explanation why the edits make under my userna...</td>\n",
       "      <td>explanation why the edits made under my userna...</td>\n",
       "    </tr>\n",
       "    <tr>\n",
       "      <td>1</td>\n",
       "      <td>D'aww! He matches this background colour I'm s...</td>\n",
       "      <td>0</td>\n",
       "      <td>d aww he match this background colour i m seem...</td>\n",
       "      <td>d aww he matches this background colour i m se...</td>\n",
       "    </tr>\n",
       "    <tr>\n",
       "      <td>2</td>\n",
       "      <td>Hey man, I'm really not trying to edit war. It...</td>\n",
       "      <td>0</td>\n",
       "      <td>hey man i m really not try to edit war it s ju...</td>\n",
       "      <td>hey man i m really not trying to edit war it s...</td>\n",
       "    </tr>\n",
       "    <tr>\n",
       "      <td>3</td>\n",
       "      <td>\"\\nMore\\nI can't make any real suggestions on ...</td>\n",
       "      <td>0</td>\n",
       "      <td>more i ca n t make any real suggestion on impr...</td>\n",
       "      <td>more i can t make any real suggestions on impr...</td>\n",
       "    </tr>\n",
       "    <tr>\n",
       "      <td>4</td>\n",
       "      <td>You, sir, are my hero. Any chance you remember...</td>\n",
       "      <td>0</td>\n",
       "      <td>you sir be my hero any chance you remember wha...</td>\n",
       "      <td>you sir are my hero any chance you remember wh...</td>\n",
       "    </tr>\n",
       "  </tbody>\n",
       "</table>\n",
       "</div>"
      ],
      "text/plain": [
       "                                                text  toxic  \\\n",
       "0  Explanation\\nWhy the edits made under my usern...      0   \n",
       "1  D'aww! He matches this background colour I'm s...      0   \n",
       "2  Hey man, I'm really not trying to edit war. It...      0   \n",
       "3  \"\\nMore\\nI can't make any real suggestions on ...      0   \n",
       "4  You, sir, are my hero. Any chance you remember...      0   \n",
       "\n",
       "                                           lemm_text  \\\n",
       "0  explanation why the edits make under my userna...   \n",
       "1  d aww he match this background colour i m seem...   \n",
       "2  hey man i m really not try to edit war it s ju...   \n",
       "3  more i ca n t make any real suggestion on impr...   \n",
       "4  you sir be my hero any chance you remember wha...   \n",
       "\n",
       "                                           stem_text  \n",
       "0  explanation why the edits made under my userna...  \n",
       "1  d aww he matches this background colour i m se...  \n",
       "2  hey man i m really not trying to edit war it s...  \n",
       "3  more i can t make any real suggestions on impr...  \n",
       "4  you sir are my hero any chance you remember wh...  "
      ]
     },
     "execution_count": 35,
     "metadata": {},
     "output_type": "execute_result"
    }
   ],
   "source": [
    "df.head()"
   ]
  },
  {
   "cell_type": "markdown",
   "metadata": {},
   "source": [
    "Лемматизировали, стемминговали и очистили текст. Теперь создадим выборки."
   ]
  },
  {
   "cell_type": "markdown",
   "metadata": {},
   "source": [
    "### Создание выборок"
   ]
  },
  {
   "cell_type": "markdown",
   "metadata": {},
   "source": [
    "Чтобы оценить качество моделей - запустим их на случайном фрагменте нашего датасета. Даже на фрагменте можно оценить и сравнить качетво моделей, при этом код будет работать в разы быстрее. А лучший уже обучим на всей выборке и протестируем.\n",
    "\n",
    "Сначала выделим предсказания и целевой признак в отдельные множества.  Для всей выборки и фрагмента. И посмотрим сохраняет ли баланс классов."
   ]
  },
  {
   "cell_type": "code",
   "execution_count": 36,
   "metadata": {
    "scrolled": true
   },
   "outputs": [],
   "source": [
    "df_sample = df.sample(40000, random_state=12345).reset_index(drop=True)"
   ]
  },
  {
   "cell_type": "code",
   "execution_count": 37,
   "metadata": {
    "scrolled": true
   },
   "outputs": [
    {
     "data": {
      "text/plain": [
       "0    0.89755\n",
       "1    0.10245\n",
       "Name: toxic, dtype: float64"
      ]
     },
     "execution_count": 37,
     "metadata": {},
     "output_type": "execute_result"
    }
   ],
   "source": [
    "df_sample['toxic'].value_counts(normalize=True)"
   ]
  },
  {
   "cell_type": "code",
   "execution_count": 38,
   "metadata": {
    "scrolled": true
   },
   "outputs": [
    {
     "data": {
      "text/plain": [
       "0    0.898321\n",
       "1    0.101679\n",
       "Name: toxic, dtype: float64"
      ]
     },
     "execution_count": 38,
     "metadata": {},
     "output_type": "execute_result"
    }
   ],
   "source": [
    "class_frequency"
   ]
  },
  {
   "cell_type": "markdown",
   "metadata": {},
   "source": [
    "Баланс классов сохраняется в подвыборке."
   ]
  },
  {
   "cell_type": "code",
   "execution_count": 39,
   "metadata": {
    "scrolled": true
   },
   "outputs": [],
   "source": [
    "features = df.drop('toxic', axis=1)\n",
    "target = df['toxic']\n",
    "\n",
    "features_sample = df_sample.drop('toxic', axis=1)\n",
    "target_sample = df_sample['toxic']"
   ]
  },
  {
   "cell_type": "markdown",
   "metadata": {},
   "source": [
    "При разбиении на выборки не забудем учесть про дисбаланс классов и поставить stratify=target."
   ]
  },
  {
   "cell_type": "code",
   "execution_count": 40,
   "metadata": {
    "scrolled": true
   },
   "outputs": [
    {
     "name": "stdout",
     "output_type": "stream",
     "text": [
      "CPU times: user 105 ms, sys: 8.08 ms, total: 113 ms\n",
      "Wall time: 132 ms\n"
     ]
    }
   ],
   "source": [
    "%%time\n",
    "features_train, features_test, target_train, target_test = train_test_split(\n",
    "    features, target, test_size=0.25, stratify=target, random_state=12345) "
   ]
  },
  {
   "cell_type": "code",
   "execution_count": 41,
   "metadata": {
    "scrolled": true
   },
   "outputs": [
    {
     "name": "stdout",
     "output_type": "stream",
     "text": [
      "CPU times: user 35.9 ms, sys: 0 ns, total: 35.9 ms\n",
      "Wall time: 42.2 ms\n"
     ]
    }
   ],
   "source": [
    "%%time\n",
    "features_train_sample, features_test_sample, target_train_sample, target_test_sample = train_test_split(\n",
    "    features_sample, target_sample, test_size=0.25, stratify=target_sample, random_state=12345) "
   ]
  },
  {
   "cell_type": "code",
   "execution_count": 42,
   "metadata": {
    "scrolled": true
   },
   "outputs": [
    {
     "data": {
      "text/plain": [
       "((119678, 3), (39893, 3), (119678,), (39893,))"
      ]
     },
     "execution_count": 42,
     "metadata": {},
     "output_type": "execute_result"
    }
   ],
   "source": [
    "features_train.shape, features_test.shape, target_train.shape, target_test.shape"
   ]
  },
  {
   "cell_type": "code",
   "execution_count": 43,
   "metadata": {
    "scrolled": true
   },
   "outputs": [
    {
     "data": {
      "text/plain": [
       "((30000, 3), (10000, 3), (30000,), (10000,))"
      ]
     },
     "execution_count": 43,
     "metadata": {},
     "output_type": "execute_result"
    }
   ],
   "source": [
    "features_train_sample.shape, features_test_sample.shape, target_train_sample.shape, target_test_sample.shape"
   ]
  },
  {
   "cell_type": "markdown",
   "metadata": {},
   "source": [
    "Выборки создались. Размеры как раз 75 к 25."
   ]
  },
  {
   "cell_type": "markdown",
   "metadata": {},
   "source": [
    "## Обучение"
   ]
  },
  {
   "cell_type": "markdown",
   "metadata": {},
   "source": [
    "Сделаем векторизацию для наших выборок. Они пригодятся нам для финального обучения лучшей модели и ее тестрования. Но при обучении будем использовать кроссвалидацию на невекторизованных данных и запускать векторизацию для каждой выборки внутри кроссвалидации."
   ]
  },
  {
   "cell_type": "markdown",
   "metadata": {},
   "source": [
    "Перейдем непосредственно к кроссвалидации при обучении моделей."
   ]
  },
  {
   "cell_type": "markdown",
   "metadata": {},
   "source": [
    "### Логистическая регрессия"
   ]
  },
  {
   "cell_type": "markdown",
   "metadata": {},
   "source": [
    "Логистическая регрессия - не такая сложная модель, как другие. Поэтому на таком большом объеме данных мы можем перебрать у нее несколько гиперпараметров при векторизации. Также не забываем про балансировку классов."
   ]
  },
  {
   "cell_type": "code",
   "execution_count": 44,
   "metadata": {
    "scrolled": true
   },
   "outputs": [],
   "source": [
    "pipeline_log_reg = Pipeline([\n",
    "    ('vectorizer', TfidfVectorizer(stop_words=stopwords, ngram_range=(1, 1))),\n",
    "    ('classifier', LogisticRegression(random_state=12345, class_weight='balanced'))\n",
    "    ])\n",
    "parameters = {'vectorizer__ngram_range': [(1, 1), (1, 2), (2, 2)],\n",
    "              'classifier__C': [1, 10, 100]}"
   ]
  },
  {
   "cell_type": "code",
   "execution_count": 45,
   "metadata": {
    "scrolled": true
   },
   "outputs": [
    {
     "name": "stdout",
     "output_type": "stream",
     "text": [
      "CPU times: user 4min 48s, sys: 2min 22s, total: 7min 10s\n",
      "Wall time: 7min 12s\n"
     ]
    },
    {
     "data": {
      "text/plain": [
       "GridSearchCV(cv=StratifiedKFold(n_splits=3, random_state=12345, shuffle=True),\n",
       "             error_score='raise-deprecating',\n",
       "             estimator=Pipeline(memory=None,\n",
       "                                steps=[('vectorizer',\n",
       "                                        TfidfVectorizer(analyzer='word',\n",
       "                                                        binary=False,\n",
       "                                                        decode_error='strict',\n",
       "                                                        dtype=<class 'numpy.float64'>,\n",
       "                                                        encoding='utf-8',\n",
       "                                                        input='content',\n",
       "                                                        lowercase=True,\n",
       "                                                        max_df=1.0,\n",
       "                                                        max_features=None,\n",
       "                                                        min_df=1,\n",
       "                                                        ngram_ra...\n",
       "                                                           l1_ratio=None,\n",
       "                                                           max_iter=100,\n",
       "                                                           multi_class='warn',\n",
       "                                                           n_jobs=None,\n",
       "                                                           penalty='l2',\n",
       "                                                           random_state=12345,\n",
       "                                                           solver='warn',\n",
       "                                                           tol=0.0001,\n",
       "                                                           verbose=0,\n",
       "                                                           warm_start=False))],\n",
       "                                verbose=False),\n",
       "             iid='warn', n_jobs=None,\n",
       "             param_grid={'classifier__C': [1, 10, 100],\n",
       "                         'vectorizer__ngram_range': [(1, 1), (1, 2), (2, 2)]},\n",
       "             pre_dispatch='2*n_jobs', refit=True, return_train_score=False,\n",
       "             scoring='f1', verbose=0)"
      ]
     },
     "execution_count": 45,
     "metadata": {},
     "output_type": "execute_result"
    }
   ],
   "source": [
    "%%time\n",
    "cv = StratifiedKFold(n_splits=3, shuffle=True, random_state=12345)\n",
    "\n",
    "grid_search = GridSearchCV(pipeline_log_reg, cv=cv, param_grid = parameters, scoring='f1')\n",
    "\n",
    "grid_search.fit(features_train_sample['lemm_text'], target_train_sample)"
   ]
  },
  {
   "cell_type": "code",
   "execution_count": 46,
   "metadata": {
    "scrolled": true
   },
   "outputs": [
    {
     "data": {
      "text/plain": [
       "(0.7562225578448845, {'classifier__C': 100, 'vectorizer__ngram_range': (1, 2)})"
      ]
     },
     "execution_count": 46,
     "metadata": {},
     "output_type": "execute_result"
    }
   ],
   "source": [
    "grid_search.best_score_, grid_search.best_params_"
   ]
  },
  {
   "cell_type": "code",
   "execution_count": 47,
   "metadata": {
    "scrolled": true
   },
   "outputs": [
    {
     "name": "stdout",
     "output_type": "stream",
     "text": [
      "CPU times: user 4min 48s, sys: 2min 17s, total: 7min 6s\n",
      "Wall time: 7min 8s\n"
     ]
    },
    {
     "data": {
      "text/plain": [
       "GridSearchCV(cv=StratifiedKFold(n_splits=3, random_state=12345, shuffle=True),\n",
       "             error_score='raise-deprecating',\n",
       "             estimator=Pipeline(memory=None,\n",
       "                                steps=[('vectorizer',\n",
       "                                        TfidfVectorizer(analyzer='word',\n",
       "                                                        binary=False,\n",
       "                                                        decode_error='strict',\n",
       "                                                        dtype=<class 'numpy.float64'>,\n",
       "                                                        encoding='utf-8',\n",
       "                                                        input='content',\n",
       "                                                        lowercase=True,\n",
       "                                                        max_df=1.0,\n",
       "                                                        max_features=None,\n",
       "                                                        min_df=1,\n",
       "                                                        ngram_ra...\n",
       "                                                           l1_ratio=None,\n",
       "                                                           max_iter=100,\n",
       "                                                           multi_class='warn',\n",
       "                                                           n_jobs=None,\n",
       "                                                           penalty='l2',\n",
       "                                                           random_state=12345,\n",
       "                                                           solver='warn',\n",
       "                                                           tol=0.0001,\n",
       "                                                           verbose=0,\n",
       "                                                           warm_start=False))],\n",
       "                                verbose=False),\n",
       "             iid='warn', n_jobs=None,\n",
       "             param_grid={'classifier__C': [1, 10, 100],\n",
       "                         'vectorizer__ngram_range': [(1, 1), (1, 2), (2, 2)]},\n",
       "             pre_dispatch='2*n_jobs', refit=True, return_train_score=False,\n",
       "             scoring='f1', verbose=0)"
      ]
     },
     "execution_count": 47,
     "metadata": {},
     "output_type": "execute_result"
    }
   ],
   "source": [
    "%%time\n",
    "grid_search = GridSearchCV(pipeline_log_reg, cv=cv, param_grid = parameters, scoring='f1')\n",
    "\n",
    "grid_search.fit(features_train_sample['stem_text'], target_train_sample)"
   ]
  },
  {
   "cell_type": "code",
   "execution_count": 48,
   "metadata": {
    "scrolled": true
   },
   "outputs": [
    {
     "data": {
      "text/plain": [
       "(0.7510224224385532, {'classifier__C': 100, 'vectorizer__ngram_range': (1, 2)})"
      ]
     },
     "execution_count": 48,
     "metadata": {},
     "output_type": "execute_result"
    }
   ],
   "source": [
    "grid_search.best_score_, grid_search.best_params_"
   ]
  },
  {
   "cell_type": "markdown",
   "metadata": {},
   "source": [
    "Модель показала отличные результаты и для лемматизации и для стемминга: больше 0,75 на гиперпараметрах: С=100 и N-граммах размера (1,2). \n",
    "Запомним F1 этих моделей ниже.\n",
    "\n",
    "| N |       Model               | F1 на lemm_text |  F1 на stem_text | \n",
    "|---|---------------------------|------------|------------|\n",
    "| 1 |LogisticRegression  |  0.7562| 0.7510| \n"
   ]
  },
  {
   "cell_type": "markdown",
   "metadata": {},
   "source": [
    "### LightGBM"
   ]
  },
  {
   "cell_type": "markdown",
   "metadata": {},
   "source": [
    "Данная модель обучается очень долго, поэтому пока проверим только базовый вариант."
   ]
  },
  {
   "cell_type": "code",
   "execution_count": 49,
   "metadata": {
    "scrolled": true
   },
   "outputs": [],
   "source": [
    "pipeline_lgbm = Pipeline([\n",
    "    ('vectorizer', TfidfVectorizer(stop_words=stopwords)),\n",
    "    ('classifier', LGBMClassifier(random_state=12345, class_weight='balanced'))\n",
    "    ])\n",
    "\n",
    "parameters = {}"
   ]
  },
  {
   "cell_type": "code",
   "execution_count": 50,
   "metadata": {
    "scrolled": true
   },
   "outputs": [
    {
     "name": "stdout",
     "output_type": "stream",
     "text": [
      "CPU times: user 3min 7s, sys: 827 ms, total: 3min 8s\n",
      "Wall time: 3min 11s\n"
     ]
    },
    {
     "data": {
      "text/plain": [
       "GridSearchCV(cv=StratifiedKFold(n_splits=3, random_state=12345, shuffle=True),\n",
       "             error_score='raise-deprecating',\n",
       "             estimator=Pipeline(memory=None,\n",
       "                                steps=[('vectorizer',\n",
       "                                        TfidfVectorizer(analyzer='word',\n",
       "                                                        binary=False,\n",
       "                                                        decode_error='strict',\n",
       "                                                        dtype=<class 'numpy.float64'>,\n",
       "                                                        encoding='utf-8',\n",
       "                                                        input='content',\n",
       "                                                        lowercase=True,\n",
       "                                                        max_df=1.0,\n",
       "                                                        max_features=None,\n",
       "                                                        min_df=1,\n",
       "                                                        ngram_ra...\n",
       "                                                       min_child_weight=0.001,\n",
       "                                                       min_split_gain=0.0,\n",
       "                                                       n_estimators=100,\n",
       "                                                       n_jobs=-1, num_leaves=31,\n",
       "                                                       objective=None,\n",
       "                                                       random_state=12345,\n",
       "                                                       reg_alpha=0.0,\n",
       "                                                       reg_lambda=0.0,\n",
       "                                                       silent=True,\n",
       "                                                       subsample=1.0,\n",
       "                                                       subsample_for_bin=200000,\n",
       "                                                       subsample_freq=0))],\n",
       "                                verbose=False),\n",
       "             iid='warn', n_jobs=None, param_grid={}, pre_dispatch='2*n_jobs',\n",
       "             refit=True, return_train_score=False, scoring='f1', verbose=0)"
      ]
     },
     "execution_count": 50,
     "metadata": {},
     "output_type": "execute_result"
    }
   ],
   "source": [
    "%%time\n",
    "grid_search = GridSearchCV(pipeline_lgbm, cv=cv, param_grid = parameters, scoring='f1')\n",
    "\n",
    "grid_search.fit(features_train_sample['lemm_text'], target_train_sample)"
   ]
  },
  {
   "cell_type": "code",
   "execution_count": 51,
   "metadata": {
    "scrolled": true
   },
   "outputs": [
    {
     "data": {
      "text/plain": [
       "0.6848980469454317"
      ]
     },
     "execution_count": 51,
     "metadata": {},
     "output_type": "execute_result"
    }
   ],
   "source": [
    "#grid_search.best_params_, \n",
    "grid_search.best_score_"
   ]
  },
  {
   "cell_type": "code",
   "execution_count": 52,
   "metadata": {
    "scrolled": true
   },
   "outputs": [
    {
     "name": "stdout",
     "output_type": "stream",
     "text": [
      "CPU times: user 3min 16s, sys: 619 ms, total: 3min 16s\n",
      "Wall time: 3min 19s\n"
     ]
    },
    {
     "data": {
      "text/plain": [
       "GridSearchCV(cv=StratifiedKFold(n_splits=3, random_state=12345, shuffle=True),\n",
       "             error_score='raise-deprecating',\n",
       "             estimator=Pipeline(memory=None,\n",
       "                                steps=[('vectorizer',\n",
       "                                        TfidfVectorizer(analyzer='word',\n",
       "                                                        binary=False,\n",
       "                                                        decode_error='strict',\n",
       "                                                        dtype=<class 'numpy.float64'>,\n",
       "                                                        encoding='utf-8',\n",
       "                                                        input='content',\n",
       "                                                        lowercase=True,\n",
       "                                                        max_df=1.0,\n",
       "                                                        max_features=None,\n",
       "                                                        min_df=1,\n",
       "                                                        ngram_ra...\n",
       "                                                       min_child_weight=0.001,\n",
       "                                                       min_split_gain=0.0,\n",
       "                                                       n_estimators=100,\n",
       "                                                       n_jobs=-1, num_leaves=31,\n",
       "                                                       objective=None,\n",
       "                                                       random_state=12345,\n",
       "                                                       reg_alpha=0.0,\n",
       "                                                       reg_lambda=0.0,\n",
       "                                                       silent=True,\n",
       "                                                       subsample=1.0,\n",
       "                                                       subsample_for_bin=200000,\n",
       "                                                       subsample_freq=0))],\n",
       "                                verbose=False),\n",
       "             iid='warn', n_jobs=None, param_grid={}, pre_dispatch='2*n_jobs',\n",
       "             refit=True, return_train_score=False, scoring='f1', verbose=0)"
      ]
     },
     "execution_count": 52,
     "metadata": {},
     "output_type": "execute_result"
    }
   ],
   "source": [
    "%%time\n",
    "grid_search = GridSearchCV(pipeline_lgbm, cv=cv, param_grid = parameters, scoring='f1')\n",
    "\n",
    "grid_search.fit(features_train_sample['stem_text'], target_train_sample)"
   ]
  },
  {
   "cell_type": "code",
   "execution_count": 53,
   "metadata": {
    "scrolled": true
   },
   "outputs": [
    {
     "data": {
      "text/plain": [
       "0.6849669493055335"
      ]
     },
     "execution_count": 53,
     "metadata": {},
     "output_type": "execute_result"
    }
   ],
   "source": [
    "grid_search.best_score_"
   ]
  },
  {
   "cell_type": "markdown",
   "metadata": {},
   "source": [
    "У LGBMClassifier метрики немного ниже. Возможно при переборе гиперпараметров мы могли их повысить, но время на перебор увеличилось бы в разы, даже не смотря на то, что мы подбираем параметры не на всем массиве данных. Когда у Логистической регрессии похожее время занимает уже перебор нескольких гиперпараметров. \n",
    "\n",
    "\n",
    "Запомним F1 этих моделей ниже.\n",
    "\n",
    "| N |       Model               | F1 на lemm_text |  F1 на stem_text | \n",
    "|---|---------------------------|------------|------------|\n",
    "| 1 |LogisticRegression  |  0.7562| 0.7510| \n",
    "| 2 |LGBMClassifier  |  0.6848| 0.6849 | "
   ]
  },
  {
   "cell_type": "markdown",
   "metadata": {},
   "source": [
    "### CatBoost"
   ]
  },
  {
   "cell_type": "markdown",
   "metadata": {},
   "source": [
    "Посмотрим и на классификатор из CatBoost. Он немного быстрее LGBMClassifier, поэтому переберем один гиперпараметр."
   ]
  },
  {
   "cell_type": "code",
   "execution_count": 54,
   "metadata": {
    "scrolled": true
   },
   "outputs": [],
   "source": [
    "pipeline_cat_boost = Pipeline([\n",
    "    ('vectorizer', TfidfVectorizer(stop_words=stopwords, ngram_range=(1, 1))),\n",
    "    ('classifier', CatBoostClassifier(random_seed=12345,\n",
    "                                    loss_function='Logloss',\n",
    "                                    class_weights=[1, 9],\n",
    "                                    silent=True))\n",
    "    ])\n",
    "\n",
    "\n",
    "parameters = {'classifier__iterations': [10, 20, 30]}"
   ]
  },
  {
   "cell_type": "code",
   "execution_count": 55,
   "metadata": {
    "scrolled": true
   },
   "outputs": [
    {
     "name": "stdout",
     "output_type": "stream",
     "text": [
      "CPU times: user 6min, sys: 21 s, total: 6min 21s\n",
      "Wall time: 6min 35s\n"
     ]
    },
    {
     "data": {
      "text/plain": [
       "GridSearchCV(cv=StratifiedKFold(n_splits=3, random_state=12345, shuffle=True),\n",
       "             error_score='raise-deprecating',\n",
       "             estimator=Pipeline(memory=None,\n",
       "                                steps=[('vectorizer',\n",
       "                                        TfidfVectorizer(analyzer='word',\n",
       "                                                        binary=False,\n",
       "                                                        decode_error='strict',\n",
       "                                                        dtype=<class 'numpy.float64'>,\n",
       "                                                        encoding='utf-8',\n",
       "                                                        input='content',\n",
       "                                                        lowercase=True,\n",
       "                                                        max_df=1.0,\n",
       "                                                        max_features=None,\n",
       "                                                        min_df=1,\n",
       "                                                        ngram_ra...\n",
       "                                                        strip_accents=None,\n",
       "                                                        sublinear_tf=False,\n",
       "                                                        token_pattern='(?u)\\\\b\\\\w\\\\w+\\\\b',\n",
       "                                                        tokenizer=None,\n",
       "                                                        use_idf=True,\n",
       "                                                        vocabulary=None)),\n",
       "                                       ('classifier',\n",
       "                                        <catboost.core.CatBoostClassifier object at 0x7fc2302cb0d0>)],\n",
       "                                verbose=False),\n",
       "             iid='warn', n_jobs=None,\n",
       "             param_grid={'classifier__iterations': [10, 20, 30]},\n",
       "             pre_dispatch='2*n_jobs', refit=True, return_train_score=False,\n",
       "             scoring='f1', verbose=0)"
      ]
     },
     "execution_count": 55,
     "metadata": {},
     "output_type": "execute_result"
    }
   ],
   "source": [
    "%%time\n",
    "grid_search = GridSearchCV(pipeline_cat_boost, cv=cv, param_grid = parameters, scoring='f1')\n",
    "\n",
    "grid_search.fit(features_train_sample['lemm_text'], target_train_sample)"
   ]
  },
  {
   "cell_type": "code",
   "execution_count": 56,
   "metadata": {
    "scrolled": true
   },
   "outputs": [
    {
     "data": {
      "text/plain": [
       "(0.6589160832958381, {'classifier__iterations': 30})"
      ]
     },
     "execution_count": 56,
     "metadata": {},
     "output_type": "execute_result"
    }
   ],
   "source": [
    "grid_search.best_score_, grid_search.best_params_"
   ]
  },
  {
   "cell_type": "code",
   "execution_count": 57,
   "metadata": {
    "scrolled": true
   },
   "outputs": [
    {
     "name": "stdout",
     "output_type": "stream",
     "text": [
      "CPU times: user 6min 41s, sys: 21.7 s, total: 7min 2s\n",
      "Wall time: 7min 16s\n"
     ]
    },
    {
     "data": {
      "text/plain": [
       "GridSearchCV(cv=StratifiedKFold(n_splits=3, random_state=12345, shuffle=True),\n",
       "             error_score='raise-deprecating',\n",
       "             estimator=Pipeline(memory=None,\n",
       "                                steps=[('vectorizer',\n",
       "                                        TfidfVectorizer(analyzer='word',\n",
       "                                                        binary=False,\n",
       "                                                        decode_error='strict',\n",
       "                                                        dtype=<class 'numpy.float64'>,\n",
       "                                                        encoding='utf-8',\n",
       "                                                        input='content',\n",
       "                                                        lowercase=True,\n",
       "                                                        max_df=1.0,\n",
       "                                                        max_features=None,\n",
       "                                                        min_df=1,\n",
       "                                                        ngram_ra...\n",
       "                                                        strip_accents=None,\n",
       "                                                        sublinear_tf=False,\n",
       "                                                        token_pattern='(?u)\\\\b\\\\w\\\\w+\\\\b',\n",
       "                                                        tokenizer=None,\n",
       "                                                        use_idf=True,\n",
       "                                                        vocabulary=None)),\n",
       "                                       ('classifier',\n",
       "                                        <catboost.core.CatBoostClassifier object at 0x7fc2302cb0d0>)],\n",
       "                                verbose=False),\n",
       "             iid='warn', n_jobs=None,\n",
       "             param_grid={'classifier__iterations': [10, 20, 30]},\n",
       "             pre_dispatch='2*n_jobs', refit=True, return_train_score=False,\n",
       "             scoring='f1', verbose=0)"
      ]
     },
     "execution_count": 57,
     "metadata": {},
     "output_type": "execute_result"
    }
   ],
   "source": [
    "%%time\n",
    "grid_search = GridSearchCV(pipeline_cat_boost, cv=cv, param_grid = parameters, scoring='f1')\n",
    "\n",
    "grid_search.fit(features_train_sample['stem_text'], target_train_sample)"
   ]
  },
  {
   "cell_type": "code",
   "execution_count": 58,
   "metadata": {
    "scrolled": true
   },
   "outputs": [
    {
     "data": {
      "text/plain": [
       "(0.6500214193458996, {'classifier__iterations': 30})"
      ]
     },
     "execution_count": 58,
     "metadata": {},
     "output_type": "execute_result"
    }
   ],
   "source": [
    "grid_search.best_score_, grid_search.best_params_"
   ]
  },
  {
   "cell_type": "markdown",
   "metadata": {},
   "source": [
    "CatBoost ведет себя также не так хорошо, как Логистическая регрессия. Запомним оценки.\n",
    "\n",
    "| N |       Model               | F1 на lemm_text |  F1 на stem_text | \n",
    "|---|---------------------------|------------|------------|\n",
    "| 1 |LogisticRegression  |  0.7562| 0.7510| \n",
    "| 2 |LGBMClassifier  |  0.6848| 0.6849 | \n",
    "| 3 |CatBoostClassifier  |  0.6589| 0.6500 |\n",
    "\n",
    "Остановимся на LogisticRegression на лемматизированном тексте. Теперь обучим ее на всей обучающей выборке."
   ]
  },
  {
   "cell_type": "markdown",
   "metadata": {},
   "source": [
    "### Тестирование"
   ]
  },
  {
   "cell_type": "markdown",
   "metadata": {},
   "source": [
    "Векторизуем данные по всей обучающей выборке. За базу для предсказаний возьмем столбец с лемматизированным текстом. И возьмем лучшие параметры модели Логистичекой регрессии, которые нашли: C=100 и N-граммы = (1, 2).\n",
    "\n",
    "Но чтобы упростить вычиления и сохранить ядро - удалим уже невостребованные и тяжелые переменные."
   ]
  },
  {
   "cell_type": "code",
   "execution_count": 59,
   "metadata": {},
   "outputs": [],
   "source": [
    "del df\n",
    "del df_sample\n",
    "del features_sample\n",
    "del target_sample\n",
    "del features_train_sample\n",
    "del features_test_sample\n",
    "del target_train_sample\n",
    "del target_test_sample"
   ]
  },
  {
   "cell_type": "code",
   "execution_count": 60,
   "metadata": {
    "scrolled": true
   },
   "outputs": [
    {
     "name": "stdout",
     "output_type": "stream",
     "text": [
      "CPU times: user 48 s, sys: 465 ms, total: 48.5 s\n",
      "Wall time: 49.2 s\n"
     ]
    }
   ],
   "source": [
    "%%time\n",
    "count_tf_idf = TfidfVectorizer(stop_words=stopwords, ngram_range=(1, 2))\n",
    "tf_idf = count_tf_idf.fit(features_train['lemm_text'])\n",
    "tf_idf_train = count_tf_idf.transform(features_train['lemm_text'])\n",
    "tf_idf_test = count_tf_idf.transform(features_test['lemm_text'])"
   ]
  },
  {
   "cell_type": "code",
   "execution_count": 61,
   "metadata": {
    "scrolled": true
   },
   "outputs": [
    {
     "data": {
      "text/plain": [
       "LogisticRegression(C=100, class_weight='balanced', dual=False,\n",
       "                   fit_intercept=True, intercept_scaling=1, l1_ratio=None,\n",
       "                   max_iter=100, multi_class='warn', n_jobs=None, penalty='l2',\n",
       "                   random_state=12345, solver='warn', tol=0.0001, verbose=0,\n",
       "                   warm_start=False)"
      ]
     },
     "execution_count": 61,
     "metadata": {},
     "output_type": "execute_result"
    }
   ],
   "source": [
    "model=LogisticRegression(random_state=12345, class_weight='balanced', C=100)\n",
    "\n",
    "model.fit(tf_idf_train,target_train)"
   ]
  },
  {
   "cell_type": "code",
   "execution_count": 62,
   "metadata": {
    "scrolled": true
   },
   "outputs": [],
   "source": [
    "predictions = model.predict(tf_idf_test)"
   ]
  },
  {
   "cell_type": "code",
   "execution_count": 63,
   "metadata": {
    "scrolled": true
   },
   "outputs": [
    {
     "data": {
      "text/plain": [
       "0.7914752424706483"
      ]
     },
     "execution_count": 63,
     "metadata": {},
     "output_type": "execute_result"
    }
   ],
   "source": [
    "f1_score(predictions, target_test)"
   ]
  },
  {
   "cell_type": "markdown",
   "metadata": {},
   "source": [
    "После обучения на всей выборке модель показала даже F1 - 0.7914. Отличный результат! Условие задачи выполняется."
   ]
  },
  {
   "cell_type": "markdown",
   "metadata": {},
   "source": [
    "## Выводы"
   ]
  },
  {
   "cell_type": "markdown",
   "metadata": {},
   "source": [
    "<b> Общая инфомация </b>\n",
    "- В датасете с тестовыми значениями, среди которых нужно найти токсичные - всего 159 тыс строк.\n",
    "- Наблюдается дизбаланс классов: 9 к 1, нейтральные к токсичным. Чтобы избежать дизбаланса при разбиении на выборки и обчунии моделей используются специальные параметры.\n",
    "- В только верхнем регистре написано около 1% комментариев, а только в нижнем 3%. \n",
    "- Интересто, что среди 1% комментариев в верхнем регистре туже 33% токсичных, а не 10% как по всему датасету. А среди тех, что писали только в нижнем регистре 27%.\n",
    "- Токсичные комментарии короче - 303 символов против 404 у нейтральных в среднем. Больше половины из них короче 128 символов. Когда у нейтральных медиана около 216.\n",
    "- Для дальнейшей работы с текстами - тесксты лемматизируем и применяем стемминг, а также производим очистку от других символов.\n",
    "\n",
    "<b> Обучение моделей </b>\n",
    "- Для подбора оптимальной - модели сначала изучаем на подвыборке из 40 тыс строк. А после уже обучаем на всей выборке тренировочной, которая сотсаляет 75% от всех строк датасета.\n",
    "- При обучении моделей для построения признаков для обучения используем метод TF-IDF. \n",
    "- Проверяем на лемматизированном тексте и на стемминговом. Для части моделей также смотрим разные гиперпараметры.\n",
    "- Рассматривались модели: Логистическая регрессия, классификаторы из LightGBM и CatBoost.\n",
    "- На ограниченной выборке (40 тыс строк) модели показали себя следующим образом:\n",
    "\n",
    "\n",
    "| N |       Model               | F1 на lemm_text |  F1 на stem_text | \n",
    "|---|---------------------------|------------|------------|\n",
    "| 1 |LogisticRegression  |  0.7562| 0.7510| \n",
    "| 2 |LGBMClassifier  |  0.6848| 0.6849 | \n",
    "| 3 |CatBoostClassifier  |  0.6589| 0.6500 |\n",
    "\n",
    "\n",
    "- Лучше всего на подвыборке из 40 тыс себя показала LogisticRegression. F1 больше 0,75 на гиперпараметрах: С=100 и N-граммах размера (1,2) для метода TF-IDF. Причем на стемминге у LogisticRegression результат только чуть хуже, чем на лемматизации.\n",
    "\n",
    "<b> Стемминг и Лемматизация </b>\n",
    "- У всех моделей предсказание по стеммингу очень похоже на то, что было при лемматизации. А где-то даже лучше. Опять же это может быть следствием того, что какая-то форма существительных или глаголов чаще встречается в негативных комментариях, которая остается именно после стемминга. А приводя все к одной форме, к леммам, мы теряем эту составляющую. Стемминг тоже теряет другие формы и отличия у слов, но у части слов он наборот не меняет форму.\n",
    "- К примеру, глагол в какой-то форме встречается часто именно в негативных комментариях. Или даже нейтральное \"be\" ничего не дает в понимании, а вот \"are\" или его сокращенная форма скорее чаще встречается в негативных. Стемминг эти формы не терят, это слишком сложно для него и формы сохраняются. \n",
    "- При этом стемминги еще быстрее производить на большом объеме данных. При обработке лемматизация заняла около 25 мин, а стемминг 5 мин.\n",
    "- Как итог: лемматизация и стемминг - это 2 разных метода обработки текстов, со своими преимуществами и минусами. Но в данном случае стемминг показал себя не хуже лемматизации. А по скорости ее обогнал.\n",
    "\n",
    "<b> Тестирование </b>\n",
    "- На тесте <b>LogisticRegression</b> на лемматизированном тексте с выбранными гиперпараметрами: С=100 и N-граммах размера (1,2) для метода TF-IDF показала лучший результат. \n",
    "- После обучения на всей обучающей выборке модель LogisticRegression показала <b>на теcтовой выборке даже F1 - 0.7914</b>. Отличный результат! Больше 0,75, условие задачи выполняется."
   ]
  },
  {
   "cell_type": "markdown",
   "metadata": {},
   "source": [
    "## Чек-лист проверки"
   ]
  },
  {
   "cell_type": "markdown",
   "metadata": {},
   "source": [
    "- [x]  Jupyter Notebook открыт\n",
    "- [x]  Весь код выполняется без ошибок\n",
    "- [x]  Ячейки с кодом расположены в порядке исполнения\n",
    "- [x]  Данные загружены и подготовлены\n",
    "- [x]  Модели обучены\n",
    "- [x]  Значение метрики *F1* не меньше 0.75\n",
    "- [x]  Выводы написаны"
   ]
  }
 ],
 "metadata": {
  "ExecuteTimeLog": [
   {
    "duration": 1112,
    "start_time": "2021-09-29T10:33:09.951Z"
   },
   {
    "duration": 577,
    "start_time": "2021-09-29T10:43:10.290Z"
   },
   {
    "duration": 26,
    "start_time": "2021-09-29T10:43:25.989Z"
   },
   {
    "duration": 3,
    "start_time": "2021-09-29T11:14:19.491Z"
   },
   {
    "duration": 2030,
    "start_time": "2021-09-29T11:15:15.577Z"
   },
   {
    "duration": 325,
    "start_time": "2021-09-29T11:16:23.022Z"
   },
   {
    "duration": 3,
    "start_time": "2021-09-29T11:16:57.054Z"
   },
   {
    "duration": 1167,
    "start_time": "2021-09-29T11:18:16.877Z"
   },
   {
    "duration": 604,
    "start_time": "2021-09-29T11:18:18.046Z"
   },
   {
    "duration": 21,
    "start_time": "2021-09-29T11:18:18.652Z"
   },
   {
    "duration": 2050,
    "start_time": "2021-09-29T11:18:18.675Z"
   },
   {
    "duration": 1123,
    "start_time": "2021-09-29T11:23:55.045Z"
   },
   {
    "duration": 661,
    "start_time": "2021-09-29T11:24:01.536Z"
   },
   {
    "duration": 27,
    "start_time": "2021-09-29T11:24:03.543Z"
   },
   {
    "duration": 1166,
    "start_time": "2021-09-29T11:31:37.388Z"
   },
   {
    "duration": 627,
    "start_time": "2021-09-29T11:31:38.555Z"
   },
   {
    "duration": 25,
    "start_time": "2021-09-29T11:31:39.185Z"
   },
   {
    "duration": 3,
    "start_time": "2021-09-29T11:31:39.212Z"
   },
   {
    "duration": 10,
    "start_time": "2021-09-29T11:31:39.216Z"
   },
   {
    "duration": 5,
    "start_time": "2021-09-29T11:31:39.227Z"
   },
   {
    "duration": 9,
    "start_time": "2021-09-29T11:31:39.234Z"
   },
   {
    "duration": 353544,
    "start_time": "2021-09-29T11:31:39.244Z"
   },
   {
    "duration": -217,
    "start_time": "2021-09-29T11:37:33.007Z"
   },
   {
    "duration": -219,
    "start_time": "2021-09-29T11:37:33.010Z"
   },
   {
    "duration": -221,
    "start_time": "2021-09-29T11:37:33.013Z"
   },
   {
    "duration": 4,
    "start_time": "2021-09-29T11:40:43.707Z"
   },
   {
    "duration": 3,
    "start_time": "2021-09-29T11:40:49.630Z"
   },
   {
    "duration": 1103,
    "start_time": "2021-09-29T11:40:58.664Z"
   },
   {
    "duration": 650,
    "start_time": "2021-09-29T11:40:59.769Z"
   },
   {
    "duration": 25,
    "start_time": "2021-09-29T11:41:00.421Z"
   },
   {
    "duration": 23,
    "start_time": "2021-09-29T11:41:00.449Z"
   },
   {
    "duration": 2160,
    "start_time": "2021-09-29T11:41:00.474Z"
   },
   {
    "duration": 6,
    "start_time": "2021-09-29T11:41:02.635Z"
   },
   {
    "duration": 6,
    "start_time": "2021-09-29T11:41:02.643Z"
   },
   {
    "duration": 9,
    "start_time": "2021-09-29T11:41:02.651Z"
   },
   {
    "duration": 178021,
    "start_time": "2021-09-29T11:41:02.661Z"
   },
   {
    "duration": 7,
    "start_time": "2021-09-29T11:44:00.684Z"
   },
   {
    "duration": 1106,
    "start_time": "2021-09-29T11:44:18.651Z"
   },
   {
    "duration": 619,
    "start_time": "2021-09-29T11:44:19.759Z"
   },
   {
    "duration": 22,
    "start_time": "2021-09-29T11:44:20.380Z"
   },
   {
    "duration": 11,
    "start_time": "2021-09-29T11:44:20.404Z"
   },
   {
    "duration": 2141,
    "start_time": "2021-09-29T11:44:20.417Z"
   },
   {
    "duration": 6,
    "start_time": "2021-09-29T11:44:22.560Z"
   },
   {
    "duration": 6,
    "start_time": "2021-09-29T11:44:22.568Z"
   },
   {
    "duration": 8,
    "start_time": "2021-09-29T11:44:22.576Z"
   },
   {
    "duration": 15,
    "start_time": "2021-09-29T11:44:22.585Z"
   },
   {
    "duration": 8,
    "start_time": "2021-09-29T11:44:22.602Z"
   },
   {
    "duration": 1200,
    "start_time": "2021-09-29T11:44:47.766Z"
   },
   {
    "duration": 625,
    "start_time": "2021-09-29T11:44:54.805Z"
   },
   {
    "duration": 30,
    "start_time": "2021-09-29T11:44:57.300Z"
   },
   {
    "duration": 14,
    "start_time": "2021-09-29T11:44:59.491Z"
   },
   {
    "duration": 2117,
    "start_time": "2021-09-29T11:45:10.806Z"
   },
   {
    "duration": 3,
    "start_time": "2021-09-29T11:45:15.889Z"
   },
   {
    "duration": 4,
    "start_time": "2021-09-29T11:45:17.718Z"
   },
   {
    "duration": 8,
    "start_time": "2021-09-29T11:45:22.253Z"
   },
   {
    "duration": 8,
    "start_time": "2021-09-29T11:45:25.309Z"
   },
   {
    "duration": 3,
    "start_time": "2021-09-29T11:46:26.767Z"
   },
   {
    "duration": 11,
    "start_time": "2021-09-29T11:46:29.630Z"
   },
   {
    "duration": 23011,
    "start_time": "2021-09-29T11:46:40.880Z"
   },
   {
    "duration": 396,
    "start_time": "2021-09-29T11:48:05.633Z"
   },
   {
    "duration": 4,
    "start_time": "2021-09-29T12:07:15.561Z"
   },
   {
    "duration": 409,
    "start_time": "2021-09-29T12:07:48.946Z"
   },
   {
    "duration": 1189,
    "start_time": "2021-09-29T12:08:17.382Z"
   },
   {
    "duration": 608,
    "start_time": "2021-09-29T12:08:18.573Z"
   },
   {
    "duration": 25,
    "start_time": "2021-09-29T12:08:19.182Z"
   },
   {
    "duration": 13,
    "start_time": "2021-09-29T12:08:19.209Z"
   },
   {
    "duration": 3,
    "start_time": "2021-09-29T12:08:19.223Z"
   },
   {
    "duration": 6,
    "start_time": "2021-09-29T12:08:19.227Z"
   },
   {
    "duration": 5,
    "start_time": "2021-09-29T12:08:19.234Z"
   },
   {
    "duration": 10,
    "start_time": "2021-09-29T12:08:19.241Z"
   },
   {
    "duration": 460349,
    "start_time": "2021-09-29T12:08:19.253Z"
   },
   {
    "duration": 8,
    "start_time": "2021-09-29T12:15:59.604Z"
   },
   {
    "duration": 2157,
    "start_time": "2021-09-29T12:15:59.613Z"
   },
   {
    "duration": 13,
    "start_time": "2021-09-29T12:16:01.772Z"
   },
   {
    "duration": 1172,
    "start_time": "2021-09-29T12:17:16.694Z"
   },
   {
    "duration": 608,
    "start_time": "2021-09-29T12:17:17.868Z"
   },
   {
    "duration": 33,
    "start_time": "2021-09-29T12:17:18.481Z"
   },
   {
    "duration": 12,
    "start_time": "2021-09-29T12:17:18.516Z"
   },
   {
    "duration": 2173,
    "start_time": "2021-09-29T12:17:18.529Z"
   },
   {
    "duration": 5,
    "start_time": "2021-09-29T12:17:20.704Z"
   },
   {
    "duration": 6,
    "start_time": "2021-09-29T12:17:20.710Z"
   },
   {
    "duration": 1226,
    "start_time": "2021-09-29T12:17:20.719Z"
   },
   {
    "duration": -97,
    "start_time": "2021-09-29T12:17:22.045Z"
   },
   {
    "duration": -100,
    "start_time": "2021-09-29T12:17:22.049Z"
   },
   {
    "duration": -100,
    "start_time": "2021-09-29T12:17:22.051Z"
   },
   {
    "duration": -106,
    "start_time": "2021-09-29T12:17:22.058Z"
   },
   {
    "duration": 432,
    "start_time": "2021-09-29T12:17:42.776Z"
   },
   {
    "duration": 1189,
    "start_time": "2021-09-29T12:25:30.166Z"
   },
   {
    "duration": 1466,
    "start_time": "2021-09-29T12:25:31.357Z"
   },
   {
    "duration": 23,
    "start_time": "2021-09-29T12:25:32.826Z"
   },
   {
    "duration": 29,
    "start_time": "2021-09-29T12:25:32.851Z"
   },
   {
    "duration": 2160,
    "start_time": "2021-09-29T12:25:32.882Z"
   },
   {
    "duration": 6,
    "start_time": "2021-09-29T12:25:35.045Z"
   },
   {
    "duration": 8,
    "start_time": "2021-09-29T12:25:35.053Z"
   },
   {
    "duration": 11,
    "start_time": "2021-09-29T12:25:35.063Z"
   },
   {
    "duration": 8,
    "start_time": "2021-09-29T12:25:35.076Z"
   },
   {
    "duration": 261,
    "start_time": "2021-09-29T12:25:35.085Z"
   },
   {
    "duration": 7,
    "start_time": "2021-09-29T12:25:35.347Z"
   },
   {
    "duration": 1157,
    "start_time": "2021-09-29T12:26:33.131Z"
   },
   {
    "duration": 612,
    "start_time": "2021-09-29T12:26:37.341Z"
   },
   {
    "duration": 29,
    "start_time": "2021-09-29T12:26:39.114Z"
   },
   {
    "duration": 14,
    "start_time": "2021-09-29T12:26:41.259Z"
   },
   {
    "duration": 3,
    "start_time": "2021-09-29T12:26:48.361Z"
   },
   {
    "duration": 9,
    "start_time": "2021-09-29T12:27:12.822Z"
   },
   {
    "duration": 3,
    "start_time": "2021-09-29T12:27:22.600Z"
   },
   {
    "duration": 4,
    "start_time": "2021-09-29T12:27:36.054Z"
   },
   {
    "duration": 5,
    "start_time": "2021-09-29T12:27:54.839Z"
   },
   {
    "duration": 8,
    "start_time": "2021-09-29T12:27:56.460Z"
   },
   {
    "duration": 1324149,
    "start_time": "2021-09-29T12:28:28.825Z"
   },
   {
    "duration": 7,
    "start_time": "2021-09-29T12:50:39.227Z"
   },
   {
    "duration": 2227,
    "start_time": "2021-09-29T12:51:24.739Z"
   },
   {
    "duration": 297,
    "start_time": "2021-09-29T12:54:12.001Z"
   },
   {
    "duration": 1233,
    "start_time": "2021-09-29T12:56:06.677Z"
   },
   {
    "duration": 673,
    "start_time": "2021-09-29T12:56:07.912Z"
   },
   {
    "duration": 14,
    "start_time": "2021-09-29T12:56:08.587Z"
   },
   {
    "duration": 21,
    "start_time": "2021-09-29T12:56:08.604Z"
   },
   {
    "duration": 6,
    "start_time": "2021-09-29T12:56:08.626Z"
   },
   {
    "duration": 7,
    "start_time": "2021-09-29T12:56:08.633Z"
   },
   {
    "duration": 10,
    "start_time": "2021-09-29T12:56:08.642Z"
   },
   {
    "duration": 6,
    "start_time": "2021-09-29T12:56:08.654Z"
   },
   {
    "duration": 9,
    "start_time": "2021-09-29T12:56:08.662Z"
   },
   {
    "duration": 28,
    "start_time": "2021-09-29T12:56:08.673Z"
   },
   {
    "duration": 13,
    "start_time": "2021-09-29T12:56:08.703Z"
   },
   {
    "duration": 6,
    "start_time": "2021-09-29T12:56:08.718Z"
   },
   {
    "duration": 8977,
    "start_time": "2021-09-29T12:56:08.725Z"
   },
   {
    "duration": 9,
    "start_time": "2021-09-29T12:56:17.705Z"
   },
   {
    "duration": 188,
    "start_time": "2021-09-29T12:56:17.716Z"
   },
   {
    "duration": 179,
    "start_time": "2021-09-29T12:56:17.906Z"
   },
   {
    "duration": 112,
    "start_time": "2021-09-29T12:58:01.382Z"
   },
   {
    "duration": 474,
    "start_time": "2021-09-29T13:00:21.555Z"
   },
   {
    "duration": 927,
    "start_time": "2021-09-29T13:00:36.144Z"
   },
   {
    "duration": 757,
    "start_time": "2021-09-29T13:00:39.548Z"
   },
   {
    "duration": 4,
    "start_time": "2021-09-29T13:00:44.322Z"
   },
   {
    "duration": 7,
    "start_time": "2021-09-29T13:00:47.022Z"
   },
   {
    "duration": 1013,
    "start_time": "2021-09-29T13:02:51.193Z"
   },
   {
    "duration": 3,
    "start_time": "2021-09-29T13:02:54.072Z"
   },
   {
    "duration": 6,
    "start_time": "2021-09-29T13:02:55.953Z"
   },
   {
    "duration": 5,
    "start_time": "2021-09-29T13:05:37.593Z"
   },
   {
    "duration": 10,
    "start_time": "2021-09-29T13:05:51.095Z"
   },
   {
    "duration": 207,
    "start_time": "2021-09-29T13:13:22.461Z"
   },
   {
    "duration": 27,
    "start_time": "2021-09-29T13:13:27.956Z"
   },
   {
    "duration": 2,
    "start_time": "2021-09-29T13:13:31.244Z"
   },
   {
    "duration": 16184,
    "start_time": "2021-09-29T13:14:59.246Z"
   },
   {
    "duration": 3,
    "start_time": "2021-09-29T13:15:23.948Z"
   },
   {
    "duration": 7,
    "start_time": "2021-09-29T13:15:25.653Z"
   },
   {
    "duration": 12588,
    "start_time": "2021-09-29T13:16:25.136Z"
   },
   {
    "duration": 12,
    "start_time": "2021-09-29T13:16:51.376Z"
   },
   {
    "duration": 6,
    "start_time": "2021-09-29T13:16:54.195Z"
   },
   {
    "duration": 159,
    "start_time": "2021-09-29T13:17:09.104Z"
   },
   {
    "duration": 157,
    "start_time": "2021-09-29T13:17:18.449Z"
   },
   {
    "duration": 47641,
    "start_time": "2021-09-29T13:17:43.685Z"
   },
   {
    "duration": 362097,
    "start_time": "2021-09-29T13:18:42.838Z"
   },
   {
    "duration": 9327,
    "start_time": "2021-09-29T13:24:48.229Z"
   },
   {
    "duration": 124,
    "start_time": "2021-09-29T13:25:02.886Z"
   },
   {
    "duration": 7,
    "start_time": "2021-09-29T13:25:06.047Z"
   },
   {
    "duration": 1159,
    "start_time": "2021-09-29T13:29:09.753Z"
   },
   {
    "duration": 136,
    "start_time": "2021-09-29T13:29:10.914Z"
   },
   {
    "duration": 641,
    "start_time": "2021-09-29T13:29:11.052Z"
   },
   {
    "duration": 10,
    "start_time": "2021-09-29T13:29:11.695Z"
   },
   {
    "duration": 23,
    "start_time": "2021-09-29T13:29:11.707Z"
   },
   {
    "duration": 12,
    "start_time": "2021-09-29T13:29:11.732Z"
   },
   {
    "duration": 14,
    "start_time": "2021-09-29T13:29:11.745Z"
   },
   {
    "duration": 16,
    "start_time": "2021-09-29T13:29:11.761Z"
   },
   {
    "duration": 11,
    "start_time": "2021-09-29T13:29:11.779Z"
   },
   {
    "duration": 13,
    "start_time": "2021-09-29T13:29:11.792Z"
   },
   {
    "duration": 18,
    "start_time": "2021-09-29T13:29:11.807Z"
   },
   {
    "duration": 10,
    "start_time": "2021-09-29T13:29:11.826Z"
   },
   {
    "duration": 24636,
    "start_time": "2021-09-29T13:29:11.837Z"
   },
   {
    "duration": 25,
    "start_time": "2021-09-29T13:29:36.475Z"
   },
   {
    "duration": 336,
    "start_time": "2021-09-29T13:29:36.502Z"
   },
   {
    "duration": 285,
    "start_time": "2021-09-29T13:29:36.840Z"
   },
   {
    "duration": 1825,
    "start_time": "2021-09-29T13:29:37.127Z"
   },
   {
    "duration": 1647,
    "start_time": "2021-09-29T13:29:38.954Z"
   },
   {
    "duration": 4,
    "start_time": "2021-09-29T13:29:40.603Z"
   },
   {
    "duration": 6,
    "start_time": "2021-09-29T13:29:40.700Z"
   },
   {
    "duration": 4,
    "start_time": "2021-09-29T13:29:40.708Z"
   },
   {
    "duration": 10,
    "start_time": "2021-09-29T13:29:40.713Z"
   },
   {
    "duration": 24974,
    "start_time": "2021-09-29T13:29:40.725Z"
   },
   {
    "duration": 102,
    "start_time": "2021-09-29T13:30:05.702Z"
   },
   {
    "duration": 7,
    "start_time": "2021-09-29T13:30:05.806Z"
   },
   {
    "duration": 13918,
    "start_time": "2021-09-29T13:30:05.815Z"
   },
   {
    "duration": 179,
    "start_time": "2021-09-29T13:30:19.735Z"
   },
   {
    "duration": 8,
    "start_time": "2021-09-29T13:30:19.916Z"
   },
   {
    "duration": 2203,
    "start_time": "2021-09-29T13:31:34.741Z"
   },
   {
    "duration": 9734,
    "start_time": "2021-09-29T13:42:56.903Z"
   },
   {
    "duration": 1281,
    "start_time": "2021-09-29T13:43:45.905Z"
   },
   {
    "duration": 114,
    "start_time": "2021-09-29T13:43:47.188Z"
   },
   {
    "duration": 652,
    "start_time": "2021-09-29T13:43:47.304Z"
   },
   {
    "duration": 18,
    "start_time": "2021-09-29T13:43:47.958Z"
   },
   {
    "duration": 22,
    "start_time": "2021-09-29T13:43:47.978Z"
   },
   {
    "duration": 18,
    "start_time": "2021-09-29T13:43:48.002Z"
   },
   {
    "duration": 16,
    "start_time": "2021-09-29T13:43:48.021Z"
   },
   {
    "duration": 2,
    "start_time": "2021-09-29T13:43:48.039Z"
   },
   {
    "duration": 5,
    "start_time": "2021-09-29T13:43:48.044Z"
   },
   {
    "duration": 5,
    "start_time": "2021-09-29T13:43:48.052Z"
   },
   {
    "duration": 10,
    "start_time": "2021-09-29T13:43:48.059Z"
   },
   {
    "duration": 4,
    "start_time": "2021-09-29T13:43:48.071Z"
   },
   {
    "duration": 178660,
    "start_time": "2021-09-29T13:43:48.077Z"
   },
   {
    "duration": 61,
    "start_time": "2021-09-29T13:46:46.743Z"
   },
   {
    "duration": 2235,
    "start_time": "2021-09-29T13:46:46.806Z"
   },
   {
    "duration": 1250,
    "start_time": "2021-09-29T13:50:06.971Z"
   },
   {
    "duration": 111,
    "start_time": "2021-09-29T13:50:08.223Z"
   },
   {
    "duration": 739,
    "start_time": "2021-09-29T13:50:08.337Z"
   },
   {
    "duration": 8,
    "start_time": "2021-09-29T13:50:09.078Z"
   },
   {
    "duration": 15,
    "start_time": "2021-09-29T13:50:09.088Z"
   },
   {
    "duration": 3,
    "start_time": "2021-09-29T13:50:09.104Z"
   },
   {
    "duration": 9,
    "start_time": "2021-09-29T13:50:09.108Z"
   },
   {
    "duration": 7,
    "start_time": "2021-09-29T13:50:09.118Z"
   },
   {
    "duration": 5,
    "start_time": "2021-09-29T13:50:09.128Z"
   },
   {
    "duration": 5,
    "start_time": "2021-09-29T13:50:09.135Z"
   },
   {
    "duration": 8,
    "start_time": "2021-09-29T13:50:09.142Z"
   },
   {
    "duration": 3,
    "start_time": "2021-09-29T13:50:09.152Z"
   },
   {
    "duration": 8044,
    "start_time": "2021-09-29T13:50:09.157Z"
   },
   {
    "duration": 7,
    "start_time": "2021-09-29T13:50:17.203Z"
   },
   {
    "duration": 8,
    "start_time": "2021-09-29T13:50:17.212Z"
   },
   {
    "duration": 12,
    "start_time": "2021-09-29T13:50:17.221Z"
   },
   {
    "duration": 1442,
    "start_time": "2021-09-29T13:50:17.234Z"
   },
   {
    "duration": 3124,
    "start_time": "2021-09-29T13:50:18.677Z"
   },
   {
    "duration": 6,
    "start_time": "2021-09-29T13:50:21.803Z"
   },
   {
    "duration": 7,
    "start_time": "2021-09-29T13:50:21.900Z"
   },
   {
    "duration": 6,
    "start_time": "2021-09-29T13:50:21.909Z"
   },
   {
    "duration": 13,
    "start_time": "2021-09-29T13:50:21.917Z"
   },
   {
    "duration": 43575,
    "start_time": "2021-09-29T13:50:21.931Z"
   },
   {
    "duration": 98,
    "start_time": "2021-09-29T13:51:05.508Z"
   },
   {
    "duration": 7,
    "start_time": "2021-09-29T13:51:05.608Z"
   },
   {
    "duration": 14,
    "start_time": "2021-09-29T13:51:05.616Z"
   },
   {
    "duration": 3115,
    "start_time": "2021-09-29T13:51:05.633Z"
   },
   {
    "duration": 216,
    "start_time": "2021-09-29T13:51:08.750Z"
   },
   {
    "duration": -233,
    "start_time": "2021-09-29T13:51:09.201Z"
   },
   {
    "duration": 2472,
    "start_time": "2021-09-29T13:52:32.808Z"
   },
   {
    "duration": 2211,
    "start_time": "2021-09-29T13:53:22.930Z"
   },
   {
    "duration": 8,
    "start_time": "2021-09-29T13:58:25.293Z"
   },
   {
    "duration": 1678,
    "start_time": "2021-09-29T13:59:30.714Z"
   },
   {
    "duration": 15467,
    "start_time": "2021-09-29T14:00:28.591Z"
   },
   {
    "duration": 188,
    "start_time": "2021-09-29T14:01:37.822Z"
   },
   {
    "duration": 12,
    "start_time": "2021-09-29T14:01:41.221Z"
   },
   {
    "duration": 10,
    "start_time": "2021-09-29T14:02:14.524Z"
   },
   {
    "duration": 16,
    "start_time": "2021-09-29T14:02:22.770Z"
   },
   {
    "duration": 1276,
    "start_time": "2021-09-29T14:02:57.412Z"
   },
   {
    "duration": 112,
    "start_time": "2021-09-29T14:02:58.690Z"
   },
   {
    "duration": 705,
    "start_time": "2021-09-29T14:02:58.806Z"
   },
   {
    "duration": 14,
    "start_time": "2021-09-29T14:02:59.513Z"
   },
   {
    "duration": 88,
    "start_time": "2021-09-29T14:02:59.529Z"
   },
   {
    "duration": 8,
    "start_time": "2021-09-29T14:02:59.619Z"
   },
   {
    "duration": 3,
    "start_time": "2021-09-29T14:02:59.630Z"
   },
   {
    "duration": 9,
    "start_time": "2021-09-29T14:02:59.636Z"
   },
   {
    "duration": 4,
    "start_time": "2021-09-29T14:02:59.647Z"
   },
   {
    "duration": 6,
    "start_time": "2021-09-29T14:02:59.653Z"
   },
   {
    "duration": 5,
    "start_time": "2021-09-29T14:02:59.661Z"
   },
   {
    "duration": 46,
    "start_time": "2021-09-29T14:02:59.667Z"
   },
   {
    "duration": 2,
    "start_time": "2021-09-29T14:02:59.715Z"
   },
   {
    "duration": 14219,
    "start_time": "2021-09-29T14:02:59.719Z"
   },
   {
    "duration": 10,
    "start_time": "2021-09-29T14:03:13.940Z"
   },
   {
    "duration": 8,
    "start_time": "2021-09-29T14:03:13.952Z"
   },
   {
    "duration": 61,
    "start_time": "2021-09-29T14:03:13.962Z"
   },
   {
    "duration": 2361,
    "start_time": "2021-09-29T14:03:14.025Z"
   },
   {
    "duration": 4525,
    "start_time": "2021-09-29T14:03:16.388Z"
   },
   {
    "duration": 9,
    "start_time": "2021-09-29T14:03:20.915Z"
   },
   {
    "duration": 99,
    "start_time": "2021-09-29T14:03:20.926Z"
   },
   {
    "duration": 24,
    "start_time": "2021-09-29T14:03:21.027Z"
   },
   {
    "duration": 25,
    "start_time": "2021-09-29T14:03:21.054Z"
   },
   {
    "duration": 566160,
    "start_time": "2021-09-29T14:03:21.082Z"
   },
   {
    "duration": 169,
    "start_time": "2021-09-29T14:12:47.244Z"
   },
   {
    "duration": 11,
    "start_time": "2021-09-29T14:12:47.422Z"
   },
   {
    "duration": 19675,
    "start_time": "2021-09-29T14:12:47.435Z"
   },
   {
    "duration": 232,
    "start_time": "2021-09-29T14:13:07.112Z"
   },
   {
    "duration": 8,
    "start_time": "2021-09-29T14:13:07.346Z"
   },
   {
    "duration": 1646,
    "start_time": "2021-09-29T19:52:54.566Z"
   },
   {
    "duration": 232,
    "start_time": "2021-09-29T19:52:56.217Z"
   },
   {
    "duration": 783,
    "start_time": "2021-09-29T19:52:56.452Z"
   },
   {
    "duration": 33,
    "start_time": "2021-09-29T19:52:57.238Z"
   },
   {
    "duration": 20,
    "start_time": "2021-09-29T19:52:57.273Z"
   },
   {
    "duration": 29,
    "start_time": "2021-09-29T19:52:57.295Z"
   },
   {
    "duration": 4,
    "start_time": "2021-09-29T19:52:57.327Z"
   },
   {
    "duration": 17,
    "start_time": "2021-09-29T19:52:57.333Z"
   },
   {
    "duration": 4,
    "start_time": "2021-09-29T19:52:57.353Z"
   },
   {
    "duration": 8,
    "start_time": "2021-09-29T19:52:57.360Z"
   },
   {
    "duration": 8,
    "start_time": "2021-09-29T19:52:57.370Z"
   },
   {
    "duration": 13,
    "start_time": "2021-09-29T19:52:57.381Z"
   },
   {
    "duration": 6,
    "start_time": "2021-09-29T19:52:57.396Z"
   },
   {
    "duration": 286413,
    "start_time": "2021-09-29T19:52:57.405Z"
   },
   {
    "duration": 103,
    "start_time": "2021-09-29T19:57:43.821Z"
   },
   {
    "duration": 150,
    "start_time": "2021-09-29T19:57:43.926Z"
   },
   {
    "duration": -71,
    "start_time": "2021-09-29T19:57:44.150Z"
   },
   {
    "duration": -73,
    "start_time": "2021-09-29T19:57:44.154Z"
   },
   {
    "duration": -75,
    "start_time": "2021-09-29T19:57:44.157Z"
   },
   {
    "duration": -75,
    "start_time": "2021-09-29T19:57:44.159Z"
   },
   {
    "duration": -83,
    "start_time": "2021-09-29T19:57:44.168Z"
   },
   {
    "duration": -86,
    "start_time": "2021-09-29T19:57:44.173Z"
   },
   {
    "duration": -91,
    "start_time": "2021-09-29T19:57:44.179Z"
   },
   {
    "duration": -92,
    "start_time": "2021-09-29T19:57:44.181Z"
   },
   {
    "duration": -93,
    "start_time": "2021-09-29T19:57:44.184Z"
   },
   {
    "duration": -94,
    "start_time": "2021-09-29T19:57:44.187Z"
   },
   {
    "duration": -97,
    "start_time": "2021-09-29T19:57:44.191Z"
   },
   {
    "duration": -98,
    "start_time": "2021-09-29T19:57:44.194Z"
   },
   {
    "duration": -98,
    "start_time": "2021-09-29T19:57:44.196Z"
   },
   {
    "duration": -99,
    "start_time": "2021-09-29T19:57:44.198Z"
   },
   {
    "duration": 1619,
    "start_time": "2021-09-30T05:56:07.007Z"
   },
   {
    "duration": 244,
    "start_time": "2021-09-30T05:56:08.628Z"
   },
   {
    "duration": 806,
    "start_time": "2021-09-30T05:56:08.875Z"
   },
   {
    "duration": 18,
    "start_time": "2021-09-30T05:56:09.684Z"
   },
   {
    "duration": 36,
    "start_time": "2021-09-30T05:56:09.705Z"
   },
   {
    "duration": 19,
    "start_time": "2021-09-30T05:56:09.744Z"
   },
   {
    "duration": 5,
    "start_time": "2021-09-30T05:56:09.766Z"
   },
   {
    "duration": 43,
    "start_time": "2021-09-30T05:56:09.776Z"
   },
   {
    "duration": 4,
    "start_time": "2021-09-30T05:56:09.824Z"
   },
   {
    "duration": 11,
    "start_time": "2021-09-30T05:56:09.831Z"
   },
   {
    "duration": 6,
    "start_time": "2021-09-30T05:56:09.845Z"
   },
   {
    "duration": 14,
    "start_time": "2021-09-30T05:56:09.853Z"
   },
   {
    "duration": 49,
    "start_time": "2021-09-30T05:56:09.870Z"
   },
   {
    "duration": 22425,
    "start_time": "2021-09-30T05:56:09.921Z"
   },
   {
    "duration": 20,
    "start_time": "2021-09-30T05:56:32.349Z"
   },
   {
    "duration": 188,
    "start_time": "2021-09-30T05:56:32.416Z"
   },
   {
    "duration": -50,
    "start_time": "2021-09-30T05:56:32.658Z"
   },
   {
    "duration": -55,
    "start_time": "2021-09-30T05:56:32.665Z"
   },
   {
    "duration": -57,
    "start_time": "2021-09-30T05:56:32.669Z"
   },
   {
    "duration": -60,
    "start_time": "2021-09-30T05:56:32.674Z"
   },
   {
    "duration": -61,
    "start_time": "2021-09-30T05:56:32.677Z"
   },
   {
    "duration": -63,
    "start_time": "2021-09-30T05:56:32.680Z"
   },
   {
    "duration": -64,
    "start_time": "2021-09-30T05:56:32.683Z"
   },
   {
    "duration": -72,
    "start_time": "2021-09-30T05:56:32.693Z"
   },
   {
    "duration": -74,
    "start_time": "2021-09-30T05:56:32.697Z"
   },
   {
    "duration": -76,
    "start_time": "2021-09-30T05:56:32.701Z"
   },
   {
    "duration": -76,
    "start_time": "2021-09-30T05:56:32.703Z"
   },
   {
    "duration": -77,
    "start_time": "2021-09-30T05:56:32.706Z"
   },
   {
    "duration": -86,
    "start_time": "2021-09-30T05:56:32.716Z"
   },
   {
    "duration": -89,
    "start_time": "2021-09-30T05:56:32.720Z"
   },
   {
    "duration": 12,
    "start_time": "2021-09-30T06:00:40.910Z"
   },
   {
    "duration": 4,
    "start_time": "2021-09-30T06:01:00.290Z"
   },
   {
    "duration": 24,
    "start_time": "2021-09-30T06:01:03.652Z"
   },
   {
    "duration": 4825,
    "start_time": "2021-09-30T06:01:09.791Z"
   },
   {
    "duration": 644,
    "start_time": "2021-09-30T06:01:38.075Z"
   },
   {
    "duration": 406,
    "start_time": "2021-09-30T06:01:54.929Z"
   },
   {
    "duration": 6,
    "start_time": "2021-09-30T06:35:24.990Z"
   },
   {
    "duration": 6,
    "start_time": "2021-09-30T06:35:52.388Z"
   },
   {
    "duration": 1721,
    "start_time": "2021-09-30T06:53:51.009Z"
   },
   {
    "duration": 230,
    "start_time": "2021-09-30T06:53:52.733Z"
   },
   {
    "duration": 761,
    "start_time": "2021-09-30T06:53:52.966Z"
   },
   {
    "duration": 32,
    "start_time": "2021-09-30T06:53:53.730Z"
   },
   {
    "duration": 21,
    "start_time": "2021-09-30T06:53:53.765Z"
   },
   {
    "duration": 46,
    "start_time": "2021-09-30T06:53:53.788Z"
   },
   {
    "duration": 3,
    "start_time": "2021-09-30T06:53:53.837Z"
   },
   {
    "duration": 16,
    "start_time": "2021-09-30T06:53:53.844Z"
   },
   {
    "duration": 4,
    "start_time": "2021-09-30T06:53:53.863Z"
   },
   {
    "duration": 8,
    "start_time": "2021-09-30T06:53:53.869Z"
   },
   {
    "duration": 37,
    "start_time": "2021-09-30T06:53:53.879Z"
   },
   {
    "duration": 11,
    "start_time": "2021-09-30T06:53:53.919Z"
   },
   {
    "duration": 3,
    "start_time": "2021-09-30T06:53:53.933Z"
   },
   {
    "duration": 285306,
    "start_time": "2021-09-30T06:53:53.939Z"
   },
   {
    "duration": 80,
    "start_time": "2021-09-30T06:58:39.247Z"
   },
   {
    "duration": 18,
    "start_time": "2021-09-30T06:58:39.329Z"
   },
   {
    "duration": 8,
    "start_time": "2021-09-30T06:58:39.350Z"
   },
   {
    "duration": 121,
    "start_time": "2021-09-30T06:58:39.361Z"
   },
   {
    "duration": 18177,
    "start_time": "2021-09-30T06:58:39.485Z"
   },
   {
    "duration": 6,
    "start_time": "2021-09-30T06:58:57.665Z"
   },
   {
    "duration": 14314,
    "start_time": "2021-09-30T06:58:57.673Z"
   },
   {
    "duration": 27,
    "start_time": "2021-09-30T06:59:11.989Z"
   },
   {
    "duration": 20,
    "start_time": "2021-09-30T06:59:12.018Z"
   },
   {
    "duration": 22,
    "start_time": "2021-09-30T06:59:12.041Z"
   },
   {
    "duration": 68,
    "start_time": "2021-09-30T06:59:12.065Z"
   },
   {
    "duration": 340504,
    "start_time": "2021-09-30T06:59:12.137Z"
   },
   {
    "duration": 4579,
    "start_time": "2021-09-30T07:04:52.644Z"
   },
   {
    "duration": 20,
    "start_time": "2021-09-30T07:04:57.225Z"
   },
   {
    "duration": 148120,
    "start_time": "2021-09-30T07:04:57.248Z"
   },
   {
    "duration": 1486,
    "start_time": "2021-09-30T07:07:25.370Z"
   },
   {
    "duration": 25,
    "start_time": "2021-09-30T07:07:26.858Z"
   },
   {
    "duration": 9,
    "start_time": "2021-09-30T07:10:08.038Z"
   },
   {
    "duration": 1984,
    "start_time": "2021-09-30T07:21:04.377Z"
   },
   {
    "duration": 226,
    "start_time": "2021-09-30T07:21:06.363Z"
   },
   {
    "duration": 783,
    "start_time": "2021-09-30T07:21:06.592Z"
   },
   {
    "duration": 12,
    "start_time": "2021-09-30T07:21:07.378Z"
   },
   {
    "duration": 33,
    "start_time": "2021-09-30T07:21:07.393Z"
   },
   {
    "duration": 15,
    "start_time": "2021-09-30T07:21:07.429Z"
   },
   {
    "duration": 1286,
    "start_time": "2021-09-30T07:21:07.446Z"
   },
   {
    "duration": -70,
    "start_time": "2021-09-30T07:21:08.806Z"
   },
   {
    "duration": -102,
    "start_time": "2021-09-30T07:21:08.839Z"
   },
   {
    "duration": -105,
    "start_time": "2021-09-30T07:21:08.844Z"
   },
   {
    "duration": -108,
    "start_time": "2021-09-30T07:21:08.848Z"
   },
   {
    "duration": -120,
    "start_time": "2021-09-30T07:21:08.862Z"
   },
   {
    "duration": -137,
    "start_time": "2021-09-30T07:21:08.880Z"
   },
   {
    "duration": -142,
    "start_time": "2021-09-30T07:21:08.888Z"
   },
   {
    "duration": -163,
    "start_time": "2021-09-30T07:21:08.910Z"
   },
   {
    "duration": -167,
    "start_time": "2021-09-30T07:21:08.915Z"
   },
   {
    "duration": -180,
    "start_time": "2021-09-30T07:21:08.929Z"
   },
   {
    "duration": -192,
    "start_time": "2021-09-30T07:21:08.942Z"
   },
   {
    "duration": -195,
    "start_time": "2021-09-30T07:21:08.947Z"
   },
   {
    "duration": -212,
    "start_time": "2021-09-30T07:21:08.965Z"
   },
   {
    "duration": -239,
    "start_time": "2021-09-30T07:21:08.993Z"
   },
   {
    "duration": -242,
    "start_time": "2021-09-30T07:21:08.997Z"
   },
   {
    "duration": -255,
    "start_time": "2021-09-30T07:21:09.012Z"
   },
   {
    "duration": -269,
    "start_time": "2021-09-30T07:21:09.027Z"
   },
   {
    "duration": -315,
    "start_time": "2021-09-30T07:21:09.074Z"
   },
   {
    "duration": -199,
    "start_time": "2021-09-30T07:21:09.081Z"
   },
   {
    "duration": -241,
    "start_time": "2021-09-30T07:21:09.124Z"
   },
   {
    "duration": -213,
    "start_time": "2021-09-30T07:21:09.129Z"
   },
   {
    "duration": -222,
    "start_time": "2021-09-30T07:21:09.140Z"
   },
   {
    "duration": -226,
    "start_time": "2021-09-30T07:21:09.145Z"
   },
   {
    "duration": -236,
    "start_time": "2021-09-30T07:21:09.157Z"
   },
   {
    "duration": -240,
    "start_time": "2021-09-30T07:21:09.162Z"
   },
   {
    "duration": -251,
    "start_time": "2021-09-30T07:21:09.175Z"
   },
   {
    "duration": -257,
    "start_time": "2021-09-30T07:21:09.182Z"
   },
   {
    "duration": 6,
    "start_time": "2021-09-30T07:22:20.710Z"
   },
   {
    "duration": 211,
    "start_time": "2021-09-30T07:22:24.840Z"
   },
   {
    "duration": 207,
    "start_time": "2021-09-30T07:23:16.044Z"
   },
   {
    "duration": 231,
    "start_time": "2021-09-30T07:23:34.479Z"
   },
   {
    "duration": 673,
    "start_time": "2021-09-30T07:23:55.563Z"
   },
   {
    "duration": 218,
    "start_time": "2021-09-30T07:24:07.465Z"
   },
   {
    "duration": 213,
    "start_time": "2021-09-30T07:24:22.952Z"
   },
   {
    "duration": 1735,
    "start_time": "2021-09-30T07:24:38.484Z"
   },
   {
    "duration": 233,
    "start_time": "2021-09-30T07:24:40.221Z"
   },
   {
    "duration": 793,
    "start_time": "2021-09-30T07:24:40.459Z"
   },
   {
    "duration": 14,
    "start_time": "2021-09-30T07:24:41.256Z"
   },
   {
    "duration": 15,
    "start_time": "2021-09-30T07:24:41.273Z"
   },
   {
    "duration": 43,
    "start_time": "2021-09-30T07:24:41.290Z"
   },
   {
    "duration": 243,
    "start_time": "2021-09-30T07:24:41.336Z"
   },
   {
    "duration": 8,
    "start_time": "2021-09-30T07:24:41.583Z"
   },
   {
    "duration": 4,
    "start_time": "2021-09-30T07:24:41.594Z"
   },
   {
    "duration": 2454,
    "start_time": "2021-09-30T07:24:41.600Z"
   },
   {
    "duration": 4,
    "start_time": "2021-09-30T07:24:44.056Z"
   },
   {
    "duration": 9,
    "start_time": "2021-09-30T07:24:44.063Z"
   },
   {
    "duration": 6,
    "start_time": "2021-09-30T07:24:44.075Z"
   },
   {
    "duration": 40,
    "start_time": "2021-09-30T07:24:44.084Z"
   },
   {
    "duration": 5,
    "start_time": "2021-09-30T07:24:44.127Z"
   },
   {
    "duration": 598,
    "start_time": "2021-09-30T07:24:44.134Z"
   },
   {
    "duration": -284,
    "start_time": "2021-09-30T07:24:45.020Z"
   },
   {
    "duration": -290,
    "start_time": "2021-09-30T07:24:45.028Z"
   },
   {
    "duration": -292,
    "start_time": "2021-09-30T07:24:45.031Z"
   },
   {
    "duration": -295,
    "start_time": "2021-09-30T07:24:45.036Z"
   },
   {
    "duration": -299,
    "start_time": "2021-09-30T07:24:45.042Z"
   },
   {
    "duration": -302,
    "start_time": "2021-09-30T07:24:45.046Z"
   },
   {
    "duration": -320,
    "start_time": "2021-09-30T07:24:45.065Z"
   },
   {
    "duration": -326,
    "start_time": "2021-09-30T07:24:45.072Z"
   },
   {
    "duration": -344,
    "start_time": "2021-09-30T07:24:45.093Z"
   },
   {
    "duration": -365,
    "start_time": "2021-09-30T07:24:45.116Z"
   },
   {
    "duration": -376,
    "start_time": "2021-09-30T07:24:45.128Z"
   },
   {
    "duration": -392,
    "start_time": "2021-09-30T07:24:45.146Z"
   },
   {
    "duration": -399,
    "start_time": "2021-09-30T07:24:45.154Z"
   },
   {
    "duration": -467,
    "start_time": "2021-09-30T07:24:45.224Z"
   },
   {
    "duration": -470,
    "start_time": "2021-09-30T07:24:45.229Z"
   },
   {
    "duration": -474,
    "start_time": "2021-09-30T07:24:45.234Z"
   },
   {
    "duration": -499,
    "start_time": "2021-09-30T07:24:45.260Z"
   },
   {
    "duration": -501,
    "start_time": "2021-09-30T07:24:45.264Z"
   },
   {
    "duration": 1799,
    "start_time": "2021-09-30T07:25:17.474Z"
   },
   {
    "duration": 256,
    "start_time": "2021-09-30T07:25:19.276Z"
   },
   {
    "duration": 805,
    "start_time": "2021-09-30T07:25:19.535Z"
   },
   {
    "duration": 14,
    "start_time": "2021-09-30T07:25:20.343Z"
   },
   {
    "duration": 24,
    "start_time": "2021-09-30T07:25:20.359Z"
   },
   {
    "duration": 14,
    "start_time": "2021-09-30T07:25:20.385Z"
   },
   {
    "duration": 233,
    "start_time": "2021-09-30T07:25:20.417Z"
   },
   {
    "duration": 7,
    "start_time": "2021-09-30T07:25:20.654Z"
   },
   {
    "duration": 5,
    "start_time": "2021-09-30T07:25:20.664Z"
   },
   {
    "duration": 2274,
    "start_time": "2021-09-30T07:25:20.671Z"
   },
   {
    "duration": 4,
    "start_time": "2021-09-30T07:25:22.947Z"
   },
   {
    "duration": 12,
    "start_time": "2021-09-30T07:25:22.953Z"
   },
   {
    "duration": 7,
    "start_time": "2021-09-30T07:25:22.968Z"
   },
   {
    "duration": 43,
    "start_time": "2021-09-30T07:25:22.978Z"
   },
   {
    "duration": 4,
    "start_time": "2021-09-30T07:25:23.024Z"
   },
   {
    "duration": 567,
    "start_time": "2021-09-30T07:25:23.031Z"
   },
   {
    "duration": -1423,
    "start_time": "2021-09-30T07:25:25.025Z"
   },
   {
    "duration": -1425,
    "start_time": "2021-09-30T07:25:25.029Z"
   },
   {
    "duration": -1886,
    "start_time": "2021-09-30T07:25:25.492Z"
   },
   {
    "duration": -2047,
    "start_time": "2021-09-30T07:25:25.656Z"
   },
   {
    "duration": -2053,
    "start_time": "2021-09-30T07:25:25.664Z"
   },
   {
    "duration": -2065,
    "start_time": "2021-09-30T07:25:25.679Z"
   },
   {
    "duration": -2066,
    "start_time": "2021-09-30T07:25:25.682Z"
   },
   {
    "duration": -2220,
    "start_time": "2021-09-30T07:25:25.838Z"
   },
   {
    "duration": -2228,
    "start_time": "2021-09-30T07:25:25.848Z"
   },
   {
    "duration": -2373,
    "start_time": "2021-09-30T07:25:25.996Z"
   },
   {
    "duration": -2375,
    "start_time": "2021-09-30T07:25:26.000Z"
   },
   {
    "duration": -2379,
    "start_time": "2021-09-30T07:25:26.007Z"
   },
   {
    "duration": -2380,
    "start_time": "2021-09-30T07:25:26.010Z"
   },
   {
    "duration": -2538,
    "start_time": "2021-09-30T07:25:26.170Z"
   },
   {
    "duration": -2538,
    "start_time": "2021-09-30T07:25:26.173Z"
   },
   {
    "duration": -2539,
    "start_time": "2021-09-30T07:25:26.176Z"
   },
   {
    "duration": -2540,
    "start_time": "2021-09-30T07:25:26.179Z"
   },
   {
    "duration": -2541,
    "start_time": "2021-09-30T07:25:26.182Z"
   },
   {
    "duration": 4,
    "start_time": "2021-09-30T07:27:07.203Z"
   },
   {
    "duration": 6,
    "start_time": "2021-09-30T07:27:10.806Z"
   },
   {
    "duration": 862,
    "start_time": "2021-09-30T07:27:52.231Z"
   },
   {
    "duration": 7,
    "start_time": "2021-09-30T07:28:03.222Z"
   },
   {
    "duration": 6,
    "start_time": "2021-09-30T07:30:37.513Z"
   },
   {
    "duration": 192,
    "start_time": "2021-09-30T07:45:15.508Z"
   },
   {
    "duration": 3523,
    "start_time": "2021-09-30T07:49:41.805Z"
   },
   {
    "duration": 6,
    "start_time": "2021-09-30T07:49:51.913Z"
   },
   {
    "duration": 441,
    "start_time": "2021-09-30T07:49:54.035Z"
   },
   {
    "duration": 6,
    "start_time": "2021-09-30T07:50:10.238Z"
   },
   {
    "duration": 6,
    "start_time": "2021-09-30T07:50:19.524Z"
   },
   {
    "duration": 597,
    "start_time": "2021-09-30T07:51:19.582Z"
   },
   {
    "duration": 635,
    "start_time": "2021-09-30T07:52:27.700Z"
   },
   {
    "duration": 47,
    "start_time": "2021-09-30T07:52:41.134Z"
   },
   {
    "duration": 30,
    "start_time": "2021-09-30T07:53:34.119Z"
   },
   {
    "duration": 29,
    "start_time": "2021-09-30T07:53:54.623Z"
   },
   {
    "duration": 8,
    "start_time": "2021-09-30T07:55:29.282Z"
   },
   {
    "duration": 8,
    "start_time": "2021-09-30T07:55:31.616Z"
   },
   {
    "duration": 33,
    "start_time": "2021-09-30T07:55:34.506Z"
   },
   {
    "duration": 30,
    "start_time": "2021-09-30T07:59:48.544Z"
   },
   {
    "duration": 31,
    "start_time": "2021-09-30T07:59:54.633Z"
   },
   {
    "duration": 4,
    "start_time": "2021-09-30T08:00:33.242Z"
   },
   {
    "duration": 6,
    "start_time": "2021-09-30T08:00:48.198Z"
   },
   {
    "duration": 4,
    "start_time": "2021-09-30T08:05:32.131Z"
   },
   {
    "duration": 27,
    "start_time": "2021-09-30T08:05:53.353Z"
   },
   {
    "duration": 4960,
    "start_time": "2021-09-30T08:12:32.311Z"
   },
   {
    "duration": 788,
    "start_time": "2021-09-30T08:12:37.273Z"
   },
   {
    "duration": 14,
    "start_time": "2021-09-30T08:12:38.064Z"
   },
   {
    "duration": 35,
    "start_time": "2021-09-30T08:12:38.081Z"
   },
   {
    "duration": 11,
    "start_time": "2021-09-30T08:12:38.118Z"
   },
   {
    "duration": 252,
    "start_time": "2021-09-30T08:12:38.132Z"
   },
   {
    "duration": 7,
    "start_time": "2021-09-30T08:12:38.387Z"
   },
   {
    "duration": 8,
    "start_time": "2021-09-30T08:12:38.415Z"
   },
   {
    "duration": 2153,
    "start_time": "2021-09-30T08:12:38.427Z"
   },
   {
    "duration": 43,
    "start_time": "2021-09-30T08:12:40.583Z"
   },
   {
    "duration": 5,
    "start_time": "2021-09-30T08:12:40.629Z"
   },
   {
    "duration": 8,
    "start_time": "2021-09-30T08:12:40.637Z"
   },
   {
    "duration": 4,
    "start_time": "2021-09-30T08:12:40.648Z"
   },
   {
    "duration": 64,
    "start_time": "2021-09-30T08:12:40.654Z"
   },
   {
    "duration": 6,
    "start_time": "2021-09-30T08:12:40.720Z"
   },
   {
    "duration": 18,
    "start_time": "2021-09-30T08:12:40.728Z"
   },
   {
    "duration": 63325,
    "start_time": "2021-09-30T08:12:40.749Z"
   },
   {
    "duration": 16,
    "start_time": "2021-09-30T08:13:44.076Z"
   },
   {
    "duration": 142,
    "start_time": "2021-09-30T08:13:44.095Z"
   },
   {
    "duration": -133,
    "start_time": "2021-09-30T08:13:44.374Z"
   },
   {
    "duration": -135,
    "start_time": "2021-09-30T08:13:44.377Z"
   },
   {
    "duration": -136,
    "start_time": "2021-09-30T08:13:44.380Z"
   },
   {
    "duration": -144,
    "start_time": "2021-09-30T08:13:44.389Z"
   },
   {
    "duration": -148,
    "start_time": "2021-09-30T08:13:44.395Z"
   },
   {
    "duration": -149,
    "start_time": "2021-09-30T08:13:44.398Z"
   },
   {
    "duration": -152,
    "start_time": "2021-09-30T08:13:44.402Z"
   },
   {
    "duration": -156,
    "start_time": "2021-09-30T08:13:44.407Z"
   },
   {
    "duration": -158,
    "start_time": "2021-09-30T08:13:44.410Z"
   },
   {
    "duration": -159,
    "start_time": "2021-09-30T08:13:44.413Z"
   },
   {
    "duration": -160,
    "start_time": "2021-09-30T08:13:44.415Z"
   },
   {
    "duration": -175,
    "start_time": "2021-09-30T08:13:44.431Z"
   },
   {
    "duration": -186,
    "start_time": "2021-09-30T08:13:44.444Z"
   },
   {
    "duration": -190,
    "start_time": "2021-09-30T08:13:44.449Z"
   },
   {
    "duration": -193,
    "start_time": "2021-09-30T08:13:44.453Z"
   },
   {
    "duration": 4689,
    "start_time": "2021-09-30T08:13:52.653Z"
   },
   {
    "duration": 765,
    "start_time": "2021-09-30T08:13:57.345Z"
   },
   {
    "duration": 10,
    "start_time": "2021-09-30T08:13:58.113Z"
   },
   {
    "duration": 15,
    "start_time": "2021-09-30T08:13:58.125Z"
   },
   {
    "duration": 11,
    "start_time": "2021-09-30T08:13:58.142Z"
   },
   {
    "duration": 258,
    "start_time": "2021-09-30T08:13:58.155Z"
   },
   {
    "duration": 5,
    "start_time": "2021-09-30T08:13:58.416Z"
   },
   {
    "duration": 9,
    "start_time": "2021-09-30T08:13:58.425Z"
   },
   {
    "duration": 2188,
    "start_time": "2021-09-30T08:13:58.437Z"
   },
   {
    "duration": 30,
    "start_time": "2021-09-30T08:14:00.628Z"
   },
   {
    "duration": 4,
    "start_time": "2021-09-30T08:14:00.660Z"
   },
   {
    "duration": 16,
    "start_time": "2021-09-30T08:14:00.667Z"
   },
   {
    "duration": 31,
    "start_time": "2021-09-30T08:14:00.685Z"
   },
   {
    "duration": 36,
    "start_time": "2021-09-30T08:14:00.719Z"
   },
   {
    "duration": 8,
    "start_time": "2021-09-30T08:14:00.757Z"
   },
   {
    "duration": 35,
    "start_time": "2021-09-30T08:14:00.767Z"
   },
   {
    "duration": 213970,
    "start_time": "2021-09-30T08:14:00.805Z"
   },
   {
    "duration": 16,
    "start_time": "2021-09-30T08:17:34.778Z"
   },
   {
    "duration": 149,
    "start_time": "2021-09-30T08:17:34.818Z"
   },
   {
    "duration": -60,
    "start_time": "2021-09-30T08:17:35.030Z"
   },
   {
    "duration": -65,
    "start_time": "2021-09-30T08:17:35.037Z"
   },
   {
    "duration": -66,
    "start_time": "2021-09-30T08:17:35.040Z"
   },
   {
    "duration": -68,
    "start_time": "2021-09-30T08:17:35.043Z"
   },
   {
    "duration": -70,
    "start_time": "2021-09-30T08:17:35.047Z"
   },
   {
    "duration": -76,
    "start_time": "2021-09-30T08:17:35.054Z"
   },
   {
    "duration": -79,
    "start_time": "2021-09-30T08:17:35.058Z"
   },
   {
    "duration": -79,
    "start_time": "2021-09-30T08:17:35.062Z"
   },
   {
    "duration": -89,
    "start_time": "2021-09-30T08:17:35.073Z"
   },
   {
    "duration": -93,
    "start_time": "2021-09-30T08:17:35.078Z"
   },
   {
    "duration": -101,
    "start_time": "2021-09-30T08:17:35.088Z"
   },
   {
    "duration": -104,
    "start_time": "2021-09-30T08:17:35.092Z"
   },
   {
    "duration": -107,
    "start_time": "2021-09-30T08:17:35.096Z"
   },
   {
    "duration": -109,
    "start_time": "2021-09-30T08:17:35.100Z"
   },
   {
    "duration": -111,
    "start_time": "2021-09-30T08:17:35.103Z"
   },
   {
    "duration": 11,
    "start_time": "2021-09-30T08:17:40.907Z"
   },
   {
    "duration": 4,
    "start_time": "2021-09-30T08:19:45.361Z"
   },
   {
    "duration": 13,
    "start_time": "2021-09-30T08:19:47.327Z"
   },
   {
    "duration": 6,
    "start_time": "2021-09-30T08:21:22.208Z"
   },
   {
    "duration": 1172,
    "start_time": "2021-09-30T08:23:56.665Z"
   },
   {
    "duration": 771,
    "start_time": "2021-09-30T08:25:17.405Z"
   },
   {
    "duration": 632,
    "start_time": "2021-09-30T08:32:13.567Z"
   },
   {
    "duration": 392,
    "start_time": "2021-09-30T08:32:28.044Z"
   },
   {
    "duration": 449,
    "start_time": "2021-09-30T08:32:52.293Z"
   },
   {
    "duration": 446,
    "start_time": "2021-09-30T08:34:38.236Z"
   },
   {
    "duration": 4,
    "start_time": "2021-09-30T08:37:56.997Z"
   },
   {
    "duration": 5,
    "start_time": "2021-09-30T08:38:02.443Z"
   },
   {
    "duration": 418,
    "start_time": "2021-09-30T08:38:07.961Z"
   },
   {
    "duration": 962,
    "start_time": "2021-09-30T08:38:52.491Z"
   },
   {
    "duration": 446,
    "start_time": "2021-09-30T08:39:01.045Z"
   },
   {
    "duration": 15404,
    "start_time": "2021-09-30T08:39:22.325Z"
   },
   {
    "duration": 6,
    "start_time": "2021-09-30T08:41:34.913Z"
   },
   {
    "duration": 6100,
    "start_time": "2021-09-30T08:41:50.026Z"
   },
   {
    "duration": 7,
    "start_time": "2021-09-30T08:42:00.371Z"
   },
   {
    "duration": 1531,
    "start_time": "2021-09-30T08:42:20.594Z"
   },
   {
    "duration": 9,
    "start_time": "2021-09-30T08:42:24.666Z"
   },
   {
    "duration": 11,
    "start_time": "2021-09-30T08:42:26.474Z"
   },
   {
    "duration": 789,
    "start_time": "2021-09-30T08:53:56.551Z"
   },
   {
    "duration": 366,
    "start_time": "2021-09-30T09:01:45.389Z"
   },
   {
    "duration": 5,
    "start_time": "2021-09-30T09:03:30.329Z"
   },
   {
    "duration": 461,
    "start_time": "2021-09-30T09:04:39.435Z"
   },
   {
    "duration": 1804,
    "start_time": "2021-09-30T09:05:00.660Z"
   },
   {
    "duration": 160,
    "start_time": "2021-09-30T09:05:09.319Z"
   },
   {
    "duration": 294,
    "start_time": "2021-09-30T09:05:37.309Z"
   },
   {
    "duration": 24,
    "start_time": "2021-09-30T09:09:13.086Z"
   },
   {
    "duration": 20,
    "start_time": "2021-09-30T09:09:25.616Z"
   },
   {
    "duration": 21,
    "start_time": "2021-09-30T09:11:22.784Z"
   },
   {
    "duration": 21,
    "start_time": "2021-09-30T09:11:28.309Z"
   },
   {
    "duration": 22,
    "start_time": "2021-09-30T09:11:31.776Z"
   },
   {
    "duration": 31,
    "start_time": "2021-09-30T09:11:36.597Z"
   },
   {
    "duration": 8,
    "start_time": "2021-09-30T09:17:14.267Z"
   },
   {
    "duration": 29,
    "start_time": "2021-09-30T09:17:41.479Z"
   },
   {
    "duration": 16,
    "start_time": "2021-09-30T09:19:11.838Z"
   },
   {
    "duration": 11,
    "start_time": "2021-09-30T09:20:15.189Z"
   },
   {
    "duration": 5,
    "start_time": "2021-09-30T09:21:25.646Z"
   },
   {
    "duration": 7,
    "start_time": "2021-09-30T09:22:14.230Z"
   },
   {
    "duration": 4,
    "start_time": "2021-09-30T09:22:18.387Z"
   },
   {
    "duration": 316,
    "start_time": "2021-09-30T09:31:28.111Z"
   },
   {
    "duration": 283,
    "start_time": "2021-09-30T09:31:36.986Z"
   },
   {
    "duration": 12,
    "start_time": "2021-09-30T09:31:57.082Z"
   },
   {
    "duration": 124,
    "start_time": "2021-09-30T09:37:39.961Z"
   },
   {
    "duration": 6,
    "start_time": "2021-09-30T09:38:09.365Z"
   },
   {
    "duration": 9,
    "start_time": "2021-09-30T09:38:12.374Z"
   },
   {
    "duration": 5360,
    "start_time": "2021-09-30T09:39:51.204Z"
   },
   {
    "duration": 817,
    "start_time": "2021-09-30T09:39:56.566Z"
   },
   {
    "duration": 10,
    "start_time": "2021-09-30T09:39:57.386Z"
   },
   {
    "duration": 29,
    "start_time": "2021-09-30T09:39:57.399Z"
   },
   {
    "duration": 17,
    "start_time": "2021-09-30T09:39:57.430Z"
   },
   {
    "duration": 255,
    "start_time": "2021-09-30T09:39:57.449Z"
   },
   {
    "duration": 10,
    "start_time": "2021-09-30T09:39:57.707Z"
   },
   {
    "duration": 7,
    "start_time": "2021-09-30T09:39:57.721Z"
   },
   {
    "duration": 2180,
    "start_time": "2021-09-30T09:39:57.731Z"
   },
   {
    "duration": 5,
    "start_time": "2021-09-30T09:39:59.913Z"
   },
   {
    "duration": 183,
    "start_time": "2021-09-30T09:39:59.920Z"
   },
   {
    "duration": 5,
    "start_time": "2021-09-30T09:40:00.105Z"
   },
   {
    "duration": 16,
    "start_time": "2021-09-30T09:40:00.116Z"
   },
   {
    "duration": 50,
    "start_time": "2021-09-30T09:40:00.135Z"
   },
   {
    "duration": 29,
    "start_time": "2021-09-30T09:40:00.188Z"
   },
   {
    "duration": 10,
    "start_time": "2021-09-30T09:40:00.220Z"
   },
   {
    "duration": 11,
    "start_time": "2021-09-30T09:40:00.232Z"
   },
   {
    "duration": 12,
    "start_time": "2021-09-30T09:40:00.246Z"
   },
   {
    "duration": 29,
    "start_time": "2021-09-30T09:40:00.260Z"
   },
   {
    "duration": 29,
    "start_time": "2021-09-30T09:40:00.292Z"
   },
   {
    "duration": 16,
    "start_time": "2021-09-30T09:40:00.324Z"
   },
   {
    "duration": 62510,
    "start_time": "2021-09-30T09:40:00.343Z"
   },
   {
    "duration": 12,
    "start_time": "2021-09-30T09:41:02.858Z"
   },
   {
    "duration": 41,
    "start_time": "2021-09-30T09:41:02.875Z"
   },
   {
    "duration": 6,
    "start_time": "2021-09-30T09:41:02.919Z"
   },
   {
    "duration": 34,
    "start_time": "2021-09-30T09:41:02.928Z"
   },
   {
    "duration": 11,
    "start_time": "2021-09-30T09:41:02.964Z"
   },
   {
    "duration": 1194,
    "start_time": "2021-09-30T09:41:02.978Z"
   },
   {
    "duration": 4,
    "start_time": "2021-09-30T09:41:04.175Z"
   },
   {
    "duration": 6242,
    "start_time": "2021-09-30T09:41:04.181Z"
   },
   {
    "duration": 8,
    "start_time": "2021-09-30T09:41:10.426Z"
   },
   {
    "duration": 988,
    "start_time": "2021-09-30T09:41:10.436Z"
   },
   {
    "duration": 5,
    "start_time": "2021-09-30T09:41:11.428Z"
   },
   {
    "duration": 13,
    "start_time": "2021-09-30T09:41:11.518Z"
   },
   {
    "duration": 6,
    "start_time": "2021-09-30T09:41:11.534Z"
   },
   {
    "duration": 12,
    "start_time": "2021-09-30T09:41:11.542Z"
   },
   {
    "duration": 154787,
    "start_time": "2021-09-30T09:41:11.556Z"
   },
   {
    "duration": 171,
    "start_time": "2021-09-30T09:43:46.346Z"
   },
   {
    "duration": 9,
    "start_time": "2021-09-30T09:43:46.519Z"
   },
   {
    "duration": 10488,
    "start_time": "2021-09-30T09:43:46.531Z"
   },
   {
    "duration": 118,
    "start_time": "2021-09-30T09:43:57.021Z"
   },
   {
    "duration": 9,
    "start_time": "2021-09-30T09:43:57.142Z"
   },
   {
    "duration": 4562,
    "start_time": "2021-09-30T09:48:55.418Z"
   },
   {
    "duration": 815,
    "start_time": "2021-09-30T09:48:59.983Z"
   },
   {
    "duration": 21,
    "start_time": "2021-09-30T09:49:00.802Z"
   },
   {
    "duration": 26,
    "start_time": "2021-09-30T09:49:00.827Z"
   },
   {
    "duration": 14,
    "start_time": "2021-09-30T09:49:00.855Z"
   },
   {
    "duration": 258,
    "start_time": "2021-09-30T09:49:00.872Z"
   },
   {
    "duration": 6,
    "start_time": "2021-09-30T09:49:01.132Z"
   },
   {
    "duration": 14,
    "start_time": "2021-09-30T09:49:01.140Z"
   },
   {
    "duration": 2168,
    "start_time": "2021-09-30T09:49:01.158Z"
   },
   {
    "duration": 5,
    "start_time": "2021-09-30T09:49:03.329Z"
   },
   {
    "duration": 170,
    "start_time": "2021-09-30T09:49:03.336Z"
   },
   {
    "duration": 4,
    "start_time": "2021-09-30T09:49:03.509Z"
   },
   {
    "duration": 27,
    "start_time": "2021-09-30T09:49:03.517Z"
   },
   {
    "duration": 44,
    "start_time": "2021-09-30T09:49:03.546Z"
   },
   {
    "duration": 25,
    "start_time": "2021-09-30T09:49:03.592Z"
   },
   {
    "duration": 11,
    "start_time": "2021-09-30T09:49:03.620Z"
   },
   {
    "duration": 9,
    "start_time": "2021-09-30T09:49:03.634Z"
   },
   {
    "duration": 15,
    "start_time": "2021-09-30T09:49:03.646Z"
   },
   {
    "duration": 23,
    "start_time": "2021-09-30T09:49:03.663Z"
   },
   {
    "duration": 5,
    "start_time": "2021-09-30T09:49:03.688Z"
   },
   {
    "duration": 27,
    "start_time": "2021-09-30T09:49:03.696Z"
   },
   {
    "duration": 67293,
    "start_time": "2021-09-30T09:49:03.725Z"
   },
   {
    "duration": 12,
    "start_time": "2021-09-30T09:50:11.020Z"
   },
   {
    "duration": 13,
    "start_time": "2021-09-30T09:50:11.035Z"
   },
   {
    "duration": 7,
    "start_time": "2021-09-30T09:50:11.051Z"
   },
   {
    "duration": 20,
    "start_time": "2021-09-30T09:50:11.060Z"
   },
   {
    "duration": 5,
    "start_time": "2021-09-30T09:50:11.120Z"
   },
   {
    "duration": 618,
    "start_time": "2021-09-30T09:50:11.128Z"
   },
   {
    "duration": -226,
    "start_time": "2021-09-30T09:50:11.974Z"
   },
   {
    "duration": -228,
    "start_time": "2021-09-30T09:50:11.979Z"
   },
   {
    "duration": -229,
    "start_time": "2021-09-30T09:50:11.982Z"
   },
   {
    "duration": -232,
    "start_time": "2021-09-30T09:50:11.986Z"
   },
   {
    "duration": -233,
    "start_time": "2021-09-30T09:50:11.989Z"
   },
   {
    "duration": -235,
    "start_time": "2021-09-30T09:50:11.992Z"
   },
   {
    "duration": -236,
    "start_time": "2021-09-30T09:50:11.995Z"
   },
   {
    "duration": -240,
    "start_time": "2021-09-30T09:50:12.000Z"
   },
   {
    "duration": -242,
    "start_time": "2021-09-30T09:50:12.004Z"
   },
   {
    "duration": -245,
    "start_time": "2021-09-30T09:50:12.008Z"
   },
   {
    "duration": -246,
    "start_time": "2021-09-30T09:50:12.011Z"
   },
   {
    "duration": -248,
    "start_time": "2021-09-30T09:50:12.014Z"
   },
   {
    "duration": -250,
    "start_time": "2021-09-30T09:50:12.018Z"
   },
   {
    "duration": -250,
    "start_time": "2021-09-30T09:50:12.021Z"
   },
   {
    "duration": 1092,
    "start_time": "2021-09-30T09:50:51.933Z"
   },
   {
    "duration": 5,
    "start_time": "2021-09-30T09:51:04.979Z"
   },
   {
    "duration": 2218,
    "start_time": "2021-09-30T09:51:10.345Z"
   },
   {
    "duration": 7,
    "start_time": "2021-09-30T09:51:15.732Z"
   },
   {
    "duration": 4,
    "start_time": "2021-09-30T09:51:24.094Z"
   },
   {
    "duration": 2166,
    "start_time": "2021-09-30T09:51:26.899Z"
   },
   {
    "duration": 5,
    "start_time": "2021-09-30T09:51:43.213Z"
   },
   {
    "duration": 6985,
    "start_time": "2021-09-30T09:51:45.242Z"
   },
   {
    "duration": 4445,
    "start_time": "2021-09-30T10:00:30.312Z"
   },
   {
    "duration": 805,
    "start_time": "2021-09-30T10:00:34.760Z"
   },
   {
    "duration": 10,
    "start_time": "2021-09-30T10:00:35.569Z"
   },
   {
    "duration": 34,
    "start_time": "2021-09-30T10:00:35.582Z"
   },
   {
    "duration": 10,
    "start_time": "2021-09-30T10:00:35.619Z"
   },
   {
    "duration": 243,
    "start_time": "2021-09-30T10:00:35.632Z"
   },
   {
    "duration": 6,
    "start_time": "2021-09-30T10:00:35.877Z"
   },
   {
    "duration": 30,
    "start_time": "2021-09-30T10:00:35.887Z"
   },
   {
    "duration": 2380,
    "start_time": "2021-09-30T10:00:35.920Z"
   },
   {
    "duration": 14,
    "start_time": "2021-09-30T10:00:38.302Z"
   },
   {
    "duration": 173,
    "start_time": "2021-09-30T10:00:38.319Z"
   },
   {
    "duration": 5,
    "start_time": "2021-09-30T10:00:38.495Z"
   },
   {
    "duration": 36,
    "start_time": "2021-09-30T10:00:38.503Z"
   },
   {
    "duration": 82,
    "start_time": "2021-09-30T10:00:38.542Z"
   },
   {
    "duration": 4,
    "start_time": "2021-09-30T10:00:38.627Z"
   },
   {
    "duration": 17,
    "start_time": "2021-09-30T10:00:38.633Z"
   },
   {
    "duration": 10,
    "start_time": "2021-09-30T10:00:38.652Z"
   },
   {
    "duration": 13,
    "start_time": "2021-09-30T10:00:38.664Z"
   },
   {
    "duration": 36,
    "start_time": "2021-09-30T10:00:38.680Z"
   },
   {
    "duration": 6,
    "start_time": "2021-09-30T10:00:38.718Z"
   },
   {
    "duration": 29,
    "start_time": "2021-09-30T10:00:38.726Z"
   },
   {
    "duration": 59137,
    "start_time": "2021-09-30T10:00:38.758Z"
   },
   {
    "duration": 25,
    "start_time": "2021-09-30T10:01:37.900Z"
   },
   {
    "duration": 15,
    "start_time": "2021-09-30T10:01:37.928Z"
   },
   {
    "duration": 9,
    "start_time": "2021-09-30T10:01:37.946Z"
   },
   {
    "duration": 26,
    "start_time": "2021-09-30T10:01:37.957Z"
   },
   {
    "duration": 30,
    "start_time": "2021-09-30T10:01:37.986Z"
   },
   {
    "duration": 1085,
    "start_time": "2021-09-30T10:01:38.019Z"
   },
   {
    "duration": 10,
    "start_time": "2021-09-30T10:01:39.107Z"
   },
   {
    "duration": 2151,
    "start_time": "2021-09-30T10:01:39.119Z"
   },
   {
    "duration": 5,
    "start_time": "2021-09-30T10:01:41.272Z"
   },
   {
    "duration": 7,
    "start_time": "2021-09-30T10:01:41.279Z"
   },
   {
    "duration": 562,
    "start_time": "2021-09-30T10:01:41.289Z"
   },
   {
    "duration": 386,
    "start_time": "2021-09-30T10:01:41.854Z"
   },
   {
    "duration": -72,
    "start_time": "2021-09-30T10:01:42.315Z"
   },
   {
    "duration": -103,
    "start_time": "2021-09-30T10:01:42.347Z"
   },
   {
    "duration": -112,
    "start_time": "2021-09-30T10:01:42.358Z"
   },
   {
    "duration": -116,
    "start_time": "2021-09-30T10:01:42.363Z"
   },
   {
    "duration": -125,
    "start_time": "2021-09-30T10:01:42.374Z"
   },
   {
    "duration": -129,
    "start_time": "2021-09-30T10:01:42.379Z"
   },
   {
    "duration": 5,
    "start_time": "2021-09-30T10:02:58.484Z"
   },
   {
    "duration": 311,
    "start_time": "2021-09-30T10:03:00.806Z"
   },
   {
    "duration": 5,
    "start_time": "2021-09-30T10:04:02.137Z"
   },
   {
    "duration": 382,
    "start_time": "2021-09-30T10:04:03.396Z"
   },
   {
    "duration": 5,
    "start_time": "2021-09-30T10:06:06.460Z"
   },
   {
    "duration": 329,
    "start_time": "2021-09-30T10:06:08.575Z"
   },
   {
    "duration": 5,
    "start_time": "2021-09-30T10:07:03.757Z"
   },
   {
    "duration": 53868,
    "start_time": "2021-09-30T10:07:05.686Z"
   },
   {
    "duration": 6,
    "start_time": "2021-09-30T10:08:15.812Z"
   },
   {
    "duration": 5,
    "start_time": "2021-09-30T10:08:44.357Z"
   },
   {
    "duration": 322,
    "start_time": "2021-09-30T10:08:47.148Z"
   },
   {
    "duration": 144,
    "start_time": "2021-09-30T10:11:04.476Z"
   },
   {
    "duration": 6,
    "start_time": "2021-09-30T10:11:16.540Z"
   },
   {
    "duration": 327,
    "start_time": "2021-09-30T10:11:45.408Z"
   },
   {
    "duration": 5,
    "start_time": "2021-09-30T10:15:23.235Z"
   },
   {
    "duration": 11517,
    "start_time": "2021-09-30T10:15:25.853Z"
   },
   {
    "duration": 6,
    "start_time": "2021-09-30T10:16:18.585Z"
   },
   {
    "duration": 5,
    "start_time": "2021-09-30T10:16:32.161Z"
   },
   {
    "duration": 22624,
    "start_time": "2021-09-30T10:16:36.898Z"
   },
   {
    "duration": 6,
    "start_time": "2021-09-30T10:17:07.247Z"
   },
   {
    "duration": 4982,
    "start_time": "2021-09-30T10:18:54.821Z"
   },
   {
    "duration": 818,
    "start_time": "2021-09-30T10:18:59.806Z"
   },
   {
    "duration": 17,
    "start_time": "2021-09-30T10:19:00.628Z"
   },
   {
    "duration": 32,
    "start_time": "2021-09-30T10:19:00.648Z"
   },
   {
    "duration": 17,
    "start_time": "2021-09-30T10:19:00.683Z"
   },
   {
    "duration": 246,
    "start_time": "2021-09-30T10:19:00.717Z"
   },
   {
    "duration": 7,
    "start_time": "2021-09-30T10:19:00.965Z"
   },
   {
    "duration": 12,
    "start_time": "2021-09-30T10:19:00.974Z"
   },
   {
    "duration": 2371,
    "start_time": "2021-09-30T10:19:01.019Z"
   },
   {
    "duration": 5,
    "start_time": "2021-09-30T10:19:03.393Z"
   },
   {
    "duration": 173,
    "start_time": "2021-09-30T10:19:03.400Z"
   },
   {
    "duration": 4,
    "start_time": "2021-09-30T10:19:03.575Z"
   },
   {
    "duration": 31,
    "start_time": "2021-09-30T10:19:03.581Z"
   },
   {
    "duration": 27,
    "start_time": "2021-09-30T10:19:03.616Z"
   },
   {
    "duration": 5,
    "start_time": "2021-09-30T10:19:03.646Z"
   },
   {
    "duration": 10,
    "start_time": "2021-09-30T10:19:03.654Z"
   },
   {
    "duration": 6,
    "start_time": "2021-09-30T10:19:03.667Z"
   },
   {
    "duration": 45,
    "start_time": "2021-09-30T10:19:03.676Z"
   },
   {
    "duration": 11,
    "start_time": "2021-09-30T10:19:03.723Z"
   },
   {
    "duration": 9,
    "start_time": "2021-09-30T10:19:03.737Z"
   },
   {
    "duration": 20,
    "start_time": "2021-09-30T10:19:03.749Z"
   },
   {
    "duration": 131826,
    "start_time": "2021-09-30T10:19:03.771Z"
   },
   {
    "duration": 31,
    "start_time": "2021-09-30T10:21:15.600Z"
   },
   {
    "duration": 13,
    "start_time": "2021-09-30T10:21:15.634Z"
   },
   {
    "duration": 18,
    "start_time": "2021-09-30T10:21:15.649Z"
   },
   {
    "duration": 35,
    "start_time": "2021-09-30T10:21:15.669Z"
   },
   {
    "duration": 10,
    "start_time": "2021-09-30T10:21:15.710Z"
   },
   {
    "duration": 4065,
    "start_time": "2021-09-30T10:21:15.723Z"
   },
   {
    "duration": 6,
    "start_time": "2021-09-30T10:21:19.816Z"
   },
   {
    "duration": 59029,
    "start_time": "2021-09-30T10:21:19.825Z"
   },
   {
    "duration": 7,
    "start_time": "2021-09-30T10:22:18.857Z"
   },
   {
    "duration": 8,
    "start_time": "2021-09-30T10:22:18.867Z"
   },
   {
    "duration": 1017403,
    "start_time": "2021-09-30T10:22:18.878Z"
   },
   {
    "duration": 421,
    "start_time": "2021-09-30T10:39:16.284Z"
   },
   {
    "duration": -63,
    "start_time": "2021-09-30T10:39:16.771Z"
   },
   {
    "duration": -102,
    "start_time": "2021-09-30T10:39:16.811Z"
   },
   {
    "duration": -110,
    "start_time": "2021-09-30T10:39:16.820Z"
   },
   {
    "duration": -113,
    "start_time": "2021-09-30T10:39:16.824Z"
   },
   {
    "duration": -123,
    "start_time": "2021-09-30T10:39:16.836Z"
   },
   {
    "duration": -126,
    "start_time": "2021-09-30T10:39:16.840Z"
   },
   {
    "duration": 6166,
    "start_time": "2021-09-30T10:40:08.074Z"
   },
   {
    "duration": 123633,
    "start_time": "2021-09-30T10:40:26.143Z"
   },
   {
    "duration": 6,
    "start_time": "2021-09-30T10:43:11.312Z"
   },
   {
    "duration": 6980,
    "start_time": "2021-09-30T10:43:12.913Z"
   },
   {
    "duration": 97305,
    "start_time": "2021-09-30T10:43:29.863Z"
   },
   {
    "duration": 6039,
    "start_time": "2021-09-30T10:45:15.600Z"
   },
   {
    "duration": 784,
    "start_time": "2021-09-30T10:45:21.642Z"
   },
   {
    "duration": 11,
    "start_time": "2021-09-30T10:45:22.429Z"
   },
   {
    "duration": 17,
    "start_time": "2021-09-30T10:45:22.443Z"
   },
   {
    "duration": 17,
    "start_time": "2021-09-30T10:45:22.463Z"
   },
   {
    "duration": 259,
    "start_time": "2021-09-30T10:45:22.483Z"
   },
   {
    "duration": 6,
    "start_time": "2021-09-30T10:45:22.745Z"
   },
   {
    "duration": 18,
    "start_time": "2021-09-30T10:45:22.754Z"
   },
   {
    "duration": 2262,
    "start_time": "2021-09-30T10:45:22.777Z"
   },
   {
    "duration": 5,
    "start_time": "2021-09-30T10:45:25.042Z"
   },
   {
    "duration": 169,
    "start_time": "2021-09-30T10:45:25.050Z"
   },
   {
    "duration": 4,
    "start_time": "2021-09-30T10:45:25.221Z"
   },
   {
    "duration": 16,
    "start_time": "2021-09-30T10:45:25.227Z"
   },
   {
    "duration": 34,
    "start_time": "2021-09-30T10:45:25.246Z"
   },
   {
    "duration": 34,
    "start_time": "2021-09-30T10:45:25.282Z"
   },
   {
    "duration": 9,
    "start_time": "2021-09-30T10:45:25.319Z"
   },
   {
    "duration": 5,
    "start_time": "2021-09-30T10:45:25.330Z"
   },
   {
    "duration": 5,
    "start_time": "2021-09-30T10:45:25.337Z"
   },
   {
    "duration": 14,
    "start_time": "2021-09-30T10:45:25.345Z"
   },
   {
    "duration": 6,
    "start_time": "2021-09-30T10:45:25.361Z"
   },
   {
    "duration": 47,
    "start_time": "2021-09-30T10:45:25.369Z"
   },
   {
    "duration": 14,
    "start_time": "2021-09-30T10:45:25.419Z"
   },
   {
    "duration": 145942,
    "start_time": "2021-09-30T10:45:25.435Z"
   },
   {
    "duration": 14287,
    "start_time": "2021-09-30T10:47:51.379Z"
   },
   {
    "duration": 53,
    "start_time": "2021-09-30T10:48:05.669Z"
   },
   {
    "duration": 17,
    "start_time": "2021-09-30T10:48:05.724Z"
   },
   {
    "duration": 8,
    "start_time": "2021-09-30T10:48:05.747Z"
   },
   {
    "duration": 72,
    "start_time": "2021-09-30T10:48:05.758Z"
   },
   {
    "duration": 6,
    "start_time": "2021-09-30T10:48:05.833Z"
   },
   {
    "duration": 21,
    "start_time": "2021-09-30T10:48:05.842Z"
   },
   {
    "duration": 8,
    "start_time": "2021-09-30T10:48:05.865Z"
   },
   {
    "duration": 31548,
    "start_time": "2021-09-30T10:48:05.875Z"
   },
   {
    "duration": 478,
    "start_time": "2021-09-30T10:48:37.426Z"
   },
   {
    "duration": -252,
    "start_time": "2021-09-30T10:48:38.160Z"
   },
   {
    "duration": -256,
    "start_time": "2021-09-30T10:48:38.166Z"
   },
   {
    "duration": -261,
    "start_time": "2021-09-30T10:48:38.172Z"
   },
   {
    "duration": -263,
    "start_time": "2021-09-30T10:48:38.176Z"
   },
   {
    "duration": -266,
    "start_time": "2021-09-30T10:48:38.181Z"
   },
   {
    "duration": -267,
    "start_time": "2021-09-30T10:48:38.184Z"
   },
   {
    "duration": -269,
    "start_time": "2021-09-30T10:48:38.188Z"
   },
   {
    "duration": -272,
    "start_time": "2021-09-30T10:48:38.192Z"
   },
   {
    "duration": -274,
    "start_time": "2021-09-30T10:48:38.196Z"
   },
   {
    "duration": -276,
    "start_time": "2021-09-30T10:48:38.200Z"
   },
   {
    "duration": -279,
    "start_time": "2021-09-30T10:48:38.204Z"
   },
   {
    "duration": -282,
    "start_time": "2021-09-30T10:48:38.209Z"
   },
   {
    "duration": 7,
    "start_time": "2021-09-30T10:48:46.048Z"
   },
   {
    "duration": 6369,
    "start_time": "2021-09-30T10:49:10.195Z"
   },
   {
    "duration": 1106,
    "start_time": "2021-09-30T10:49:16.568Z"
   },
   {
    "duration": 11,
    "start_time": "2021-09-30T10:49:17.679Z"
   },
   {
    "duration": 36,
    "start_time": "2021-09-30T10:49:17.692Z"
   },
   {
    "duration": 21,
    "start_time": "2021-09-30T10:49:17.730Z"
   },
   {
    "duration": 282,
    "start_time": "2021-09-30T10:49:17.754Z"
   },
   {
    "duration": 6,
    "start_time": "2021-09-30T10:49:18.039Z"
   },
   {
    "duration": 9,
    "start_time": "2021-09-30T10:49:18.049Z"
   },
   {
    "duration": 2375,
    "start_time": "2021-09-30T10:49:18.061Z"
   },
   {
    "duration": 4,
    "start_time": "2021-09-30T10:49:20.439Z"
   },
   {
    "duration": 149,
    "start_time": "2021-09-30T10:49:20.446Z"
   },
   {
    "duration": 3,
    "start_time": "2021-09-30T10:49:20.598Z"
   },
   {
    "duration": 16,
    "start_time": "2021-09-30T10:49:20.604Z"
   },
   {
    "duration": 26,
    "start_time": "2021-09-30T10:49:20.622Z"
   },
   {
    "duration": 4,
    "start_time": "2021-09-30T10:49:20.650Z"
   },
   {
    "duration": 11,
    "start_time": "2021-09-30T10:49:20.657Z"
   },
   {
    "duration": 4,
    "start_time": "2021-09-30T10:49:20.671Z"
   },
   {
    "duration": 40,
    "start_time": "2021-09-30T10:49:20.678Z"
   },
   {
    "duration": 13,
    "start_time": "2021-09-30T10:49:20.721Z"
   },
   {
    "duration": 4,
    "start_time": "2021-09-30T10:49:20.737Z"
   },
   {
    "duration": 8,
    "start_time": "2021-09-30T10:49:20.744Z"
   },
   {
    "duration": 61,
    "start_time": "2021-09-30T10:49:20.755Z"
   },
   {
    "duration": 13,
    "start_time": "2021-09-30T10:49:20.822Z"
   },
   {
    "duration": 137321,
    "start_time": "2021-09-30T10:49:20.838Z"
   },
   {
    "duration": 13817,
    "start_time": "2021-09-30T10:51:38.161Z"
   },
   {
    "duration": 47,
    "start_time": "2021-09-30T10:51:51.981Z"
   },
   {
    "duration": 17,
    "start_time": "2021-09-30T10:51:52.031Z"
   },
   {
    "duration": 17,
    "start_time": "2021-09-30T10:51:52.051Z"
   },
   {
    "duration": 64,
    "start_time": "2021-09-30T10:51:52.070Z"
   },
   {
    "duration": 8,
    "start_time": "2021-09-30T10:51:52.136Z"
   },
   {
    "duration": 21,
    "start_time": "2021-09-30T10:51:52.146Z"
   },
   {
    "duration": 19,
    "start_time": "2021-09-30T10:51:52.169Z"
   },
   {
    "duration": 54658,
    "start_time": "2021-09-30T10:51:52.190Z"
   },
   {
    "duration": 5,
    "start_time": "2021-09-30T10:52:46.850Z"
   },
   {
    "duration": 58787,
    "start_time": "2021-09-30T10:52:46.858Z"
   },
   {
    "duration": 5,
    "start_time": "2021-09-30T10:53:45.648Z"
   },
   {
    "duration": 15,
    "start_time": "2021-09-30T10:53:45.656Z"
   },
   {
    "duration": 641656,
    "start_time": "2021-09-30T10:53:45.673Z"
   },
   {
    "duration": 5,
    "start_time": "2021-09-30T11:04:27.331Z"
   },
   {
    "duration": 9,
    "start_time": "2021-09-30T11:04:27.338Z"
   },
   {
    "duration": 69681,
    "start_time": "2021-09-30T11:04:27.349Z"
   },
   {
    "duration": 6,
    "start_time": "2021-09-30T11:05:37.032Z"
   },
   {
    "duration": 17,
    "start_time": "2021-09-30T11:05:37.040Z"
   },
   {
    "duration": 904,
    "start_time": "2021-09-30T11:05:37.059Z"
   },
   {
    "duration": -104,
    "start_time": "2021-09-30T11:05:38.070Z"
   },
   {
    "duration": -109,
    "start_time": "2021-09-30T11:05:38.076Z"
   },
   {
    "duration": 6,
    "start_time": "2021-09-30T11:06:01.833Z"
   },
   {
    "duration": 217399,
    "start_time": "2021-09-30T11:06:14.521Z"
   },
   {
    "duration": 562,
    "start_time": "2021-09-30T11:09:51.923Z"
   },
   {
    "duration": 5509,
    "start_time": "2021-09-30T11:10:37.901Z"
   },
   {
    "duration": 1164,
    "start_time": "2021-09-30T11:10:43.413Z"
   },
   {
    "duration": 49,
    "start_time": "2021-09-30T11:10:44.581Z"
   },
   {
    "duration": 20,
    "start_time": "2021-09-30T11:10:44.633Z"
   },
   {
    "duration": 17,
    "start_time": "2021-09-30T11:10:44.656Z"
   },
   {
    "duration": 266,
    "start_time": "2021-09-30T11:10:44.676Z"
   },
   {
    "duration": 17,
    "start_time": "2021-09-30T11:10:44.946Z"
   },
   {
    "duration": 8,
    "start_time": "2021-09-30T11:10:44.969Z"
   },
   {
    "duration": 2153,
    "start_time": "2021-09-30T11:10:44.980Z"
   },
   {
    "duration": 5,
    "start_time": "2021-09-30T11:10:47.136Z"
   },
   {
    "duration": 168,
    "start_time": "2021-09-30T11:10:47.143Z"
   },
   {
    "duration": 4,
    "start_time": "2021-09-30T11:10:47.316Z"
   },
   {
    "duration": 33,
    "start_time": "2021-09-30T11:10:47.322Z"
   },
   {
    "duration": 45,
    "start_time": "2021-09-30T11:10:47.358Z"
   },
   {
    "duration": 4,
    "start_time": "2021-09-30T11:10:47.405Z"
   },
   {
    "duration": 24,
    "start_time": "2021-09-30T11:10:47.416Z"
   },
   {
    "duration": 27,
    "start_time": "2021-09-30T11:10:47.443Z"
   },
   {
    "duration": 32,
    "start_time": "2021-09-30T11:10:47.472Z"
   },
   {
    "duration": 23,
    "start_time": "2021-09-30T11:10:47.506Z"
   },
   {
    "duration": 21,
    "start_time": "2021-09-30T11:10:47.531Z"
   },
   {
    "duration": 20,
    "start_time": "2021-09-30T11:10:47.555Z"
   },
   {
    "duration": 32,
    "start_time": "2021-09-30T11:10:47.578Z"
   },
   {
    "duration": 27,
    "start_time": "2021-09-30T11:10:47.615Z"
   },
   {
    "duration": 1419790,
    "start_time": "2021-09-30T11:10:47.645Z"
   },
   {
    "duration": 320362,
    "start_time": "2021-09-30T11:34:27.437Z"
   },
   {
    "duration": 96,
    "start_time": "2021-09-30T11:39:47.801Z"
   },
   {
    "duration": 11,
    "start_time": "2021-09-30T11:39:47.915Z"
   },
   {
    "duration": 25,
    "start_time": "2021-09-30T11:39:47.929Z"
   },
   {
    "duration": 144,
    "start_time": "2021-09-30T11:39:47.956Z"
   },
   {
    "duration": 13,
    "start_time": "2021-09-30T11:39:48.103Z"
   },
   {
    "duration": 6,
    "start_time": "2021-09-30T11:39:48.118Z"
   },
   {
    "duration": 332296,
    "start_time": "2021-09-30T11:39:48.126Z"
   },
   {
    "duration": 7,
    "start_time": "2021-09-30T11:45:20.425Z"
   },
   {
    "duration": 321464,
    "start_time": "2021-09-30T11:45:20.435Z"
   },
   {
    "duration": 5,
    "start_time": "2021-09-30T11:50:41.916Z"
   },
   {
    "duration": 13,
    "start_time": "2021-09-30T11:50:41.923Z"
   },
   {
    "duration": 2601103,
    "start_time": "2021-09-30T11:50:41.938Z"
   },
   {
    "duration": 6,
    "start_time": "2021-09-30T12:34:03.043Z"
   },
   {
    "duration": 8,
    "start_time": "2021-09-30T12:34:03.051Z"
   },
   {
    "duration": 487148,
    "start_time": "2021-09-30T12:34:03.062Z"
   },
   {
    "duration": 5,
    "start_time": "2021-09-30T12:42:10.217Z"
   },
   {
    "duration": 16,
    "start_time": "2021-09-30T12:42:10.224Z"
   },
   {
    "duration": 668,
    "start_time": "2021-09-30T12:42:10.242Z"
   },
   {
    "duration": -182,
    "start_time": "2021-09-30T12:42:11.095Z"
   },
   {
    "duration": -188,
    "start_time": "2021-09-30T12:42:11.102Z"
   },
   {
    "duration": 6,
    "start_time": "2021-09-30T12:43:46.216Z"
   },
   {
    "duration": 137,
    "start_time": "2021-09-30T12:43:50.558Z"
   },
   {
    "duration": 7,
    "start_time": "2021-09-30T12:44:21.986Z"
   },
   {
    "duration": 5,
    "start_time": "2021-09-30T12:44:25.578Z"
   },
   {
    "duration": 7,
    "start_time": "2021-09-30T12:44:28.849Z"
   },
   {
    "duration": 6,
    "start_time": "2021-09-30T12:44:42.925Z"
   },
   {
    "duration": 7,
    "start_time": "2021-09-30T12:44:48.065Z"
   },
   {
    "duration": 5,
    "start_time": "2021-09-30T12:44:50.804Z"
   },
   {
    "duration": 6391,
    "start_time": "2021-09-30T12:45:15.697Z"
   },
   {
    "duration": 814,
    "start_time": "2021-09-30T12:45:22.091Z"
   },
   {
    "duration": 47,
    "start_time": "2021-09-30T12:45:22.909Z"
   },
   {
    "duration": 22,
    "start_time": "2021-09-30T12:45:22.960Z"
   },
   {
    "duration": 34,
    "start_time": "2021-09-30T12:45:22.985Z"
   },
   {
    "duration": 353,
    "start_time": "2021-09-30T12:45:23.022Z"
   },
   {
    "duration": 16,
    "start_time": "2021-09-30T12:45:23.378Z"
   },
   {
    "duration": 9,
    "start_time": "2021-09-30T12:45:23.415Z"
   },
   {
    "duration": 3306,
    "start_time": "2021-09-30T12:45:23.428Z"
   },
   {
    "duration": 7,
    "start_time": "2021-09-30T12:45:26.736Z"
   },
   {
    "duration": 200,
    "start_time": "2021-09-30T12:45:26.746Z"
   },
   {
    "duration": 6,
    "start_time": "2021-09-30T12:45:26.950Z"
   },
   {
    "duration": 21,
    "start_time": "2021-09-30T12:45:26.959Z"
   },
   {
    "duration": 73,
    "start_time": "2021-09-30T12:45:26.983Z"
   },
   {
    "duration": 5,
    "start_time": "2021-09-30T12:45:27.060Z"
   },
   {
    "duration": 25,
    "start_time": "2021-09-30T12:45:27.068Z"
   },
   {
    "duration": 22,
    "start_time": "2021-09-30T12:45:27.095Z"
   },
   {
    "duration": 22,
    "start_time": "2021-09-30T12:45:27.119Z"
   },
   {
    "duration": 16,
    "start_time": "2021-09-30T12:45:27.143Z"
   },
   {
    "duration": 24,
    "start_time": "2021-09-30T12:45:27.162Z"
   },
   {
    "duration": 22,
    "start_time": "2021-09-30T12:45:27.189Z"
   },
   {
    "duration": 19,
    "start_time": "2021-09-30T12:45:27.214Z"
   },
   {
    "duration": 1458098,
    "start_time": "2021-09-30T12:45:27.240Z"
   },
   {
    "duration": 292677,
    "start_time": "2021-09-30T13:09:45.341Z"
   },
   {
    "duration": 112,
    "start_time": "2021-09-30T13:14:38.020Z"
   },
   {
    "duration": 18,
    "start_time": "2021-09-30T13:14:38.135Z"
   },
   {
    "duration": 46,
    "start_time": "2021-09-30T13:14:38.156Z"
   },
   {
    "duration": 79,
    "start_time": "2021-09-30T13:14:38.205Z"
   },
   {
    "duration": 192,
    "start_time": "2021-09-30T13:14:38.287Z"
   },
   {
    "duration": 36,
    "start_time": "2021-09-30T13:14:38.482Z"
   },
   {
    "duration": 5,
    "start_time": "2021-09-30T13:14:38.520Z"
   },
   {
    "duration": 11,
    "start_time": "2021-09-30T13:14:38.527Z"
   },
   {
    "duration": 14,
    "start_time": "2021-09-30T13:14:38.540Z"
   },
   {
    "duration": 79001,
    "start_time": "2021-09-30T13:14:38.557Z"
   },
   {
    "duration": 6,
    "start_time": "2021-09-30T13:15:57.560Z"
   },
   {
    "duration": 79988,
    "start_time": "2021-09-30T13:15:57.568Z"
   },
   {
    "duration": 5,
    "start_time": "2021-09-30T13:17:17.558Z"
   },
   {
    "duration": 16,
    "start_time": "2021-09-30T13:17:17.566Z"
   },
   {
    "duration": 9,
    "start_time": "2021-09-30T13:17:17.584Z"
   },
   {
    "duration": -95,
    "start_time": "2021-09-30T13:17:17.712Z"
   },
   {
    "duration": -100,
    "start_time": "2021-09-30T13:17:17.718Z"
   },
   {
    "duration": -105,
    "start_time": "2021-09-30T13:17:17.724Z"
   },
   {
    "duration": -111,
    "start_time": "2021-09-30T13:17:17.731Z"
   },
   {
    "duration": -154,
    "start_time": "2021-09-30T13:17:17.776Z"
   },
   {
    "duration": -159,
    "start_time": "2021-09-30T13:17:17.782Z"
   },
   {
    "duration": -164,
    "start_time": "2021-09-30T13:17:17.788Z"
   },
   {
    "duration": -170,
    "start_time": "2021-09-30T13:17:17.795Z"
   },
   {
    "duration": 5,
    "start_time": "2021-09-30T13:18:16.846Z"
   },
   {
    "duration": 332534,
    "start_time": "2021-09-30T13:18:19.423Z"
   },
   {
    "duration": 5,
    "start_time": "2021-09-30T13:23:58.753Z"
   },
   {
    "duration": 349413,
    "start_time": "2021-09-30T13:24:12.554Z"
   },
   {
    "duration": 5,
    "start_time": "2021-09-30T13:31:52.941Z"
   },
   {
    "duration": 4,
    "start_time": "2021-09-30T13:34:55.116Z"
   },
   {
    "duration": 336627,
    "start_time": "2021-09-30T13:35:11.643Z"
   },
   {
    "duration": 5,
    "start_time": "2021-09-30T13:41:55.067Z"
   },
   {
    "duration": 344021,
    "start_time": "2021-09-30T13:42:14.530Z"
   },
   {
    "duration": 5,
    "start_time": "2021-09-30T13:48:03.969Z"
   },
   {
    "duration": 5,
    "start_time": "2021-09-30T13:48:24.697Z"
   },
   {
    "duration": 321974,
    "start_time": "2021-09-30T13:48:26.809Z"
   },
   {
    "duration": 5,
    "start_time": "2021-09-30T13:54:34.475Z"
   },
   {
    "duration": 358784,
    "start_time": "2021-09-30T13:54:46.076Z"
   },
   {
    "duration": 5,
    "start_time": "2021-09-30T14:00:57.292Z"
   },
   {
    "duration": 55867,
    "start_time": "2021-09-30T14:08:16.196Z"
   },
   {
    "duration": 57971,
    "start_time": "2021-09-30T14:09:21.757Z"
   },
   {
    "duration": 60927,
    "start_time": "2021-09-30T14:11:25.203Z"
   },
   {
    "duration": 21,
    "start_time": "2021-09-30T14:17:43.664Z"
   },
   {
    "duration": 20,
    "start_time": "2021-09-30T14:17:45.882Z"
   },
   {
    "duration": 5963,
    "start_time": "2021-10-01T11:20:14.088Z"
   },
   {
    "duration": 3193,
    "start_time": "2021-10-01T11:20:20.054Z"
   },
   {
    "duration": 30,
    "start_time": "2021-10-01T11:20:23.250Z"
   },
   {
    "duration": 33,
    "start_time": "2021-10-01T11:20:23.282Z"
   },
   {
    "duration": 41,
    "start_time": "2021-10-01T11:20:23.318Z"
   },
   {
    "duration": 225,
    "start_time": "2021-10-01T11:20:23.362Z"
   },
   {
    "duration": 468,
    "start_time": "2021-10-01T11:20:23.590Z"
   },
   {
    "duration": -77,
    "start_time": "2021-10-01T11:20:24.140Z"
   },
   {
    "duration": -85,
    "start_time": "2021-10-01T11:20:24.150Z"
   },
   {
    "duration": -91,
    "start_time": "2021-10-01T11:20:24.157Z"
   },
   {
    "duration": -113,
    "start_time": "2021-10-01T11:20:24.181Z"
   },
   {
    "duration": -120,
    "start_time": "2021-10-01T11:20:24.189Z"
   },
   {
    "duration": -126,
    "start_time": "2021-10-01T11:20:24.197Z"
   },
   {
    "duration": -141,
    "start_time": "2021-10-01T11:20:24.213Z"
   },
   {
    "duration": -148,
    "start_time": "2021-10-01T11:20:24.221Z"
   },
   {
    "duration": -162,
    "start_time": "2021-10-01T11:20:24.237Z"
   },
   {
    "duration": -182,
    "start_time": "2021-10-01T11:20:24.258Z"
   },
   {
    "duration": -198,
    "start_time": "2021-10-01T11:20:24.275Z"
   },
   {
    "duration": -212,
    "start_time": "2021-10-01T11:20:24.291Z"
   },
   {
    "duration": -230,
    "start_time": "2021-10-01T11:20:24.310Z"
   },
   {
    "duration": -257,
    "start_time": "2021-10-01T11:20:24.339Z"
   },
   {
    "duration": -277,
    "start_time": "2021-10-01T11:20:24.361Z"
   },
   {
    "duration": -302,
    "start_time": "2021-10-01T11:20:24.387Z"
   },
   {
    "duration": -321,
    "start_time": "2021-10-01T11:20:24.408Z"
   },
   {
    "duration": -340,
    "start_time": "2021-10-01T11:20:24.428Z"
   },
   {
    "duration": -347,
    "start_time": "2021-10-01T11:20:24.437Z"
   },
   {
    "duration": -354,
    "start_time": "2021-10-01T11:20:24.445Z"
   },
   {
    "duration": -358,
    "start_time": "2021-10-01T11:20:24.450Z"
   },
   {
    "duration": -362,
    "start_time": "2021-10-01T11:20:24.456Z"
   },
   {
    "duration": -386,
    "start_time": "2021-10-01T11:20:24.481Z"
   },
   {
    "duration": -390,
    "start_time": "2021-10-01T11:20:24.486Z"
   },
   {
    "duration": -394,
    "start_time": "2021-10-01T11:20:24.492Z"
   },
   {
    "duration": -399,
    "start_time": "2021-10-01T11:20:24.498Z"
   },
   {
    "duration": -443,
    "start_time": "2021-10-01T11:20:24.568Z"
   },
   {
    "duration": -448,
    "start_time": "2021-10-01T11:20:24.574Z"
   },
   {
    "duration": -451,
    "start_time": "2021-10-01T11:20:24.579Z"
   },
   {
    "duration": -455,
    "start_time": "2021-10-01T11:20:24.585Z"
   },
   {
    "duration": -458,
    "start_time": "2021-10-01T11:20:24.590Z"
   },
   {
    "duration": -461,
    "start_time": "2021-10-01T11:20:24.595Z"
   },
   {
    "duration": -465,
    "start_time": "2021-10-01T11:20:24.600Z"
   },
   {
    "duration": -468,
    "start_time": "2021-10-01T11:20:24.605Z"
   },
   {
    "duration": -471,
    "start_time": "2021-10-01T11:20:24.610Z"
   },
   {
    "duration": -494,
    "start_time": "2021-10-01T11:20:24.634Z"
   },
   {
    "duration": -497,
    "start_time": "2021-10-01T11:20:24.639Z"
   },
   {
    "duration": -514,
    "start_time": "2021-10-01T11:20:24.657Z"
   },
   {
    "duration": -519,
    "start_time": "2021-10-01T11:20:24.664Z"
   },
   {
    "duration": -524,
    "start_time": "2021-10-01T11:20:24.670Z"
   },
   {
    "duration": -528,
    "start_time": "2021-10-01T11:20:24.676Z"
   },
   {
    "duration": -537,
    "start_time": "2021-10-01T11:20:24.686Z"
   },
   {
    "duration": -540,
    "start_time": "2021-10-01T11:20:24.691Z"
   },
   {
    "duration": -544,
    "start_time": "2021-10-01T11:20:24.696Z"
   },
   {
    "duration": -547,
    "start_time": "2021-10-01T11:20:24.701Z"
   },
   {
    "duration": -551,
    "start_time": "2021-10-01T11:20:24.707Z"
   },
   {
    "duration": 5,
    "start_time": "2021-10-01T11:20:39.996Z"
   },
   {
    "duration": 10,
    "start_time": "2021-10-01T11:20:43.048Z"
   },
   {
    "duration": 28703,
    "start_time": "2021-10-01T11:22:22.794Z"
   },
   {
    "duration": 288,
    "start_time": "2021-10-01T11:25:06.201Z"
   },
   {
    "duration": 85,
    "start_time": "2021-10-01T11:27:26.964Z"
   },
   {
    "duration": 12,
    "start_time": "2021-10-01T11:27:42.523Z"
   },
   {
    "duration": 6,
    "start_time": "2021-10-01T11:28:44.659Z"
   },
   {
    "duration": 12,
    "start_time": "2021-10-01T11:28:49.212Z"
   },
   {
    "duration": 110,
    "start_time": "2021-10-01T11:29:08.061Z"
   },
   {
    "duration": 13,
    "start_time": "2021-10-01T11:29:09.795Z"
   },
   {
    "duration": 118,
    "start_time": "2021-10-01T11:30:28.301Z"
   },
   {
    "duration": 12,
    "start_time": "2021-10-01T11:30:30.517Z"
   },
   {
    "duration": 13,
    "start_time": "2021-10-01T11:30:46.803Z"
   },
   {
    "duration": 5,
    "start_time": "2021-10-01T11:32:02.337Z"
   },
   {
    "duration": 14,
    "start_time": "2021-10-01T11:32:04.995Z"
   },
   {
    "duration": 5,
    "start_time": "2021-10-01T11:32:46.437Z"
   },
   {
    "duration": 6,
    "start_time": "2021-10-01T11:33:04.380Z"
   },
   {
    "duration": 5,
    "start_time": "2021-10-01T11:33:12.379Z"
   },
   {
    "duration": 6,
    "start_time": "2021-10-01T11:33:38.428Z"
   },
   {
    "duration": 312,
    "start_time": "2021-10-01T11:36:02.418Z"
   },
   {
    "duration": 16,
    "start_time": "2021-10-01T11:36:04.445Z"
   },
   {
    "duration": 10,
    "start_time": "2021-10-01T11:39:00.611Z"
   },
   {
    "duration": 11,
    "start_time": "2021-10-01T11:39:35.588Z"
   },
   {
    "duration": 13,
    "start_time": "2021-10-01T11:41:43.883Z"
   },
   {
    "duration": 11,
    "start_time": "2021-10-01T11:43:48.906Z"
   },
   {
    "duration": 2442,
    "start_time": "2021-10-01T11:46:26.125Z"
   },
   {
    "duration": 94,
    "start_time": "2021-10-01T11:47:41.140Z"
   },
   {
    "duration": 285,
    "start_time": "2021-10-01T11:50:15.210Z"
   },
   {
    "duration": 282,
    "start_time": "2021-10-01T11:50:55.691Z"
   },
   {
    "duration": 34,
    "start_time": "2021-10-01T11:51:33.651Z"
   },
   {
    "duration": 13,
    "start_time": "2021-10-01T11:51:48.728Z"
   },
   {
    "duration": 14,
    "start_time": "2021-10-01T11:52:47.350Z"
   },
   {
    "duration": 4323,
    "start_time": "2021-10-01T11:56:19.259Z"
   },
   {
    "duration": 747,
    "start_time": "2021-10-01T11:56:23.585Z"
   },
   {
    "duration": 32,
    "start_time": "2021-10-01T11:56:24.336Z"
   },
   {
    "duration": 17,
    "start_time": "2021-10-01T11:56:24.372Z"
   },
   {
    "duration": 11,
    "start_time": "2021-10-01T11:56:24.423Z"
   },
   {
    "duration": 240,
    "start_time": "2021-10-01T11:56:24.437Z"
   },
   {
    "duration": 338,
    "start_time": "2021-10-01T11:56:24.679Z"
   },
   {
    "duration": 16,
    "start_time": "2021-10-01T11:56:25.019Z"
   },
   {
    "duration": 21,
    "start_time": "2021-10-01T11:56:25.041Z"
   },
   {
    "duration": 9,
    "start_time": "2021-10-01T11:56:25.066Z"
   },
   {
    "duration": 45,
    "start_time": "2021-10-01T11:56:25.078Z"
   },
   {
    "duration": 12,
    "start_time": "2021-10-01T11:56:25.125Z"
   },
   {
    "duration": 2576,
    "start_time": "2021-10-01T11:56:25.139Z"
   },
   {
    "duration": 12,
    "start_time": "2021-10-01T11:56:27.718Z"
   },
   {
    "duration": 15,
    "start_time": "2021-10-01T11:56:27.732Z"
   },
   {
    "duration": 13,
    "start_time": "2021-10-01T11:56:27.750Z"
   },
   {
    "duration": 6,
    "start_time": "2021-10-01T11:56:27.766Z"
   },
   {
    "duration": 2212,
    "start_time": "2021-10-01T11:56:27.774Z"
   },
   {
    "duration": 5,
    "start_time": "2021-10-01T11:56:29.988Z"
   },
   {
    "duration": 192,
    "start_time": "2021-10-01T11:56:29.996Z"
   },
   {
    "duration": 4,
    "start_time": "2021-10-01T11:56:30.191Z"
   },
   {
    "duration": 38,
    "start_time": "2021-10-01T11:56:30.197Z"
   },
   {
    "duration": 65,
    "start_time": "2021-10-01T11:56:30.237Z"
   },
   {
    "duration": 6,
    "start_time": "2021-10-01T11:56:30.305Z"
   },
   {
    "duration": 23,
    "start_time": "2021-10-01T11:56:30.314Z"
   },
   {
    "duration": 22,
    "start_time": "2021-10-01T11:56:30.340Z"
   },
   {
    "duration": 28,
    "start_time": "2021-10-01T11:56:30.369Z"
   },
   {
    "duration": 12,
    "start_time": "2021-10-01T11:56:30.400Z"
   },
   {
    "duration": 22,
    "start_time": "2021-10-01T11:56:30.415Z"
   },
   {
    "duration": 17,
    "start_time": "2021-10-01T11:56:30.440Z"
   },
   {
    "duration": 29,
    "start_time": "2021-10-01T11:56:30.459Z"
   },
   {
    "duration": 1287232,
    "start_time": "2021-10-01T11:56:30.490Z"
   },
   {
    "duration": 272404,
    "start_time": "2021-10-01T12:17:57.724Z"
   },
   {
    "duration": 93,
    "start_time": "2021-10-01T12:22:30.131Z"
   },
   {
    "duration": 16,
    "start_time": "2021-10-01T12:22:30.226Z"
   },
   {
    "duration": 8119,
    "start_time": "2021-10-01T12:22:30.244Z"
   },
   {
    "duration": -212,
    "start_time": "2021-10-01T12:22:38.578Z"
   },
   {
    "duration": -216,
    "start_time": "2021-10-01T12:22:38.584Z"
   },
   {
    "duration": -219,
    "start_time": "2021-10-01T12:22:38.588Z"
   },
   {
    "duration": -222,
    "start_time": "2021-10-01T12:22:38.593Z"
   },
   {
    "duration": -226,
    "start_time": "2021-10-01T12:22:38.598Z"
   },
   {
    "duration": -230,
    "start_time": "2021-10-01T12:22:38.603Z"
   },
   {
    "duration": -234,
    "start_time": "2021-10-01T12:22:38.609Z"
   },
   {
    "duration": -238,
    "start_time": "2021-10-01T12:22:38.615Z"
   },
   {
    "duration": -242,
    "start_time": "2021-10-01T12:22:38.620Z"
   },
   {
    "duration": -246,
    "start_time": "2021-10-01T12:22:38.625Z"
   },
   {
    "duration": -251,
    "start_time": "2021-10-01T12:22:38.632Z"
   },
   {
    "duration": -255,
    "start_time": "2021-10-01T12:22:38.637Z"
   },
   {
    "duration": -268,
    "start_time": "2021-10-01T12:22:38.652Z"
   },
   {
    "duration": -272,
    "start_time": "2021-10-01T12:22:38.657Z"
   },
   {
    "duration": -276,
    "start_time": "2021-10-01T12:22:38.663Z"
   },
   {
    "duration": -281,
    "start_time": "2021-10-01T12:22:38.670Z"
   },
   {
    "duration": -284,
    "start_time": "2021-10-01T12:22:38.674Z"
   },
   {
    "duration": -288,
    "start_time": "2021-10-01T12:22:38.679Z"
   },
   {
    "duration": -293,
    "start_time": "2021-10-01T12:22:38.685Z"
   },
   {
    "duration": -295,
    "start_time": "2021-10-01T12:22:38.690Z"
   },
   {
    "duration": -298,
    "start_time": "2021-10-01T12:22:38.695Z"
   },
   {
    "duration": -305,
    "start_time": "2021-10-01T12:22:38.703Z"
   },
   {
    "duration": -309,
    "start_time": "2021-10-01T12:22:38.708Z"
   },
   {
    "duration": -314,
    "start_time": "2021-10-01T12:22:38.715Z"
   },
   {
    "duration": 9185,
    "start_time": "2021-10-01T12:26:01.749Z"
   },
   {
    "duration": 27,
    "start_time": "2021-10-01T12:26:32.039Z"
   },
   {
    "duration": 8,
    "start_time": "2021-10-01T12:26:59.352Z"
   },
   {
    "duration": 9,
    "start_time": "2021-10-01T12:34:30.889Z"
   },
   {
    "duration": 6,
    "start_time": "2021-10-01T12:34:38.037Z"
   },
   {
    "duration": 28,
    "start_time": "2021-10-01T12:38:44.601Z"
   },
   {
    "duration": 145,
    "start_time": "2021-10-01T12:38:48.215Z"
   },
   {
    "duration": 44,
    "start_time": "2021-10-01T12:38:51.168Z"
   },
   {
    "duration": 8,
    "start_time": "2021-10-01T12:38:53.600Z"
   },
   {
    "duration": 5,
    "start_time": "2021-10-01T12:38:55.674Z"
   },
   {
    "duration": 5,
    "start_time": "2021-10-01T12:38:58.408Z"
   },
   {
    "duration": 340150,
    "start_time": "2021-10-01T12:39:00.600Z"
   },
   {
    "duration": 6,
    "start_time": "2021-10-01T12:44:49.611Z"
   },
   {
    "duration": 324816,
    "start_time": "2021-10-01T12:44:56.829Z"
   },
   {
    "duration": 5,
    "start_time": "2021-10-01T12:50:30.669Z"
   },
   {
    "duration": 42,
    "start_time": "2021-10-01T12:51:08.220Z"
   },
   {
    "duration": 10,
    "start_time": "2021-10-01T12:51:10.321Z"
   },
   {
    "duration": 54,
    "start_time": "2021-10-01T12:51:19.690Z"
   },
   {
    "duration": 154,
    "start_time": "2021-10-01T12:51:22.732Z"
   },
   {
    "duration": 57,
    "start_time": "2021-10-01T12:51:25.272Z"
   },
   {
    "duration": 5,
    "start_time": "2021-10-01T12:51:29.618Z"
   },
   {
    "duration": 5,
    "start_time": "2021-10-01T12:51:31.763Z"
   },
   {
    "duration": 5,
    "start_time": "2021-10-01T12:51:34.891Z"
   },
   {
    "duration": 530361,
    "start_time": "2021-10-01T12:51:37.729Z"
   },
   {
    "duration": 7,
    "start_time": "2021-10-01T13:00:42.744Z"
   },
   {
    "duration": 517107,
    "start_time": "2021-10-01T13:00:50.504Z"
   },
   {
    "duration": 7,
    "start_time": "2021-10-01T13:10:38.273Z"
   },
   {
    "duration": 5,
    "start_time": "2021-10-01T13:10:47.421Z"
   },
   {
    "duration": 418454,
    "start_time": "2021-10-01T13:10:48.901Z"
   },
   {
    "duration": 6,
    "start_time": "2021-10-01T13:20:32.437Z"
   },
   {
    "duration": 707748,
    "start_time": "2021-10-01T13:20:46.134Z"
   },
   {
    "duration": 6,
    "start_time": "2021-10-01T13:33:00.279Z"
   },
   {
    "duration": 5,
    "start_time": "2021-10-01T13:33:10.595Z"
   },
   {
    "duration": 487991,
    "start_time": "2021-10-01T13:33:12.380Z"
   },
   {
    "duration": 5,
    "start_time": "2021-10-01T13:41:25.267Z"
   },
   {
    "duration": 535008,
    "start_time": "2021-10-01T13:41:27.614Z"
   },
   {
    "duration": 6,
    "start_time": "2021-10-01T13:50:28.757Z"
   },
   {
    "duration": 4574,
    "start_time": "2021-10-01T13:51:23.113Z"
   },
   {
    "duration": 3441,
    "start_time": "2021-10-01T13:51:27.690Z"
   },
   {
    "duration": 32,
    "start_time": "2021-10-01T13:51:31.137Z"
   },
   {
    "duration": 45,
    "start_time": "2021-10-01T13:51:31.172Z"
   },
   {
    "duration": 33,
    "start_time": "2021-10-01T13:51:31.220Z"
   },
   {
    "duration": 247,
    "start_time": "2021-10-01T13:51:31.256Z"
   },
   {
    "duration": 349,
    "start_time": "2021-10-01T13:51:31.505Z"
   },
   {
    "duration": 14,
    "start_time": "2021-10-01T13:51:31.858Z"
   },
   {
    "duration": 26,
    "start_time": "2021-10-01T13:51:31.875Z"
   },
   {
    "duration": 25,
    "start_time": "2021-10-01T13:51:31.903Z"
   },
   {
    "duration": 17,
    "start_time": "2021-10-01T13:51:31.931Z"
   },
   {
    "duration": 23,
    "start_time": "2021-10-01T13:51:31.950Z"
   },
   {
    "duration": 2564,
    "start_time": "2021-10-01T13:51:31.976Z"
   },
   {
    "duration": 15,
    "start_time": "2021-10-01T13:51:34.543Z"
   },
   {
    "duration": 39,
    "start_time": "2021-10-01T13:51:34.561Z"
   },
   {
    "duration": 33,
    "start_time": "2021-10-01T13:51:34.603Z"
   },
   {
    "duration": 20,
    "start_time": "2021-10-01T13:51:34.638Z"
   },
   {
    "duration": 2268,
    "start_time": "2021-10-01T13:51:34.660Z"
   },
   {
    "duration": 7,
    "start_time": "2021-10-01T13:51:36.932Z"
   },
   {
    "duration": 217,
    "start_time": "2021-10-01T13:51:36.941Z"
   },
   {
    "duration": 4,
    "start_time": "2021-10-01T13:51:37.161Z"
   },
   {
    "duration": 44,
    "start_time": "2021-10-01T13:51:37.167Z"
   },
   {
    "duration": 68,
    "start_time": "2021-10-01T13:51:37.217Z"
   },
   {
    "duration": 4,
    "start_time": "2021-10-01T13:51:37.290Z"
   },
   {
    "duration": 36,
    "start_time": "2021-10-01T13:51:37.297Z"
   },
   {
    "duration": 35,
    "start_time": "2021-10-01T13:51:37.336Z"
   },
   {
    "duration": 31,
    "start_time": "2021-10-01T13:51:37.374Z"
   },
   {
    "duration": 17,
    "start_time": "2021-10-01T13:51:37.408Z"
   },
   {
    "duration": 23,
    "start_time": "2021-10-01T13:51:37.429Z"
   },
   {
    "duration": 33,
    "start_time": "2021-10-01T13:51:37.455Z"
   },
   {
    "duration": 41,
    "start_time": "2021-10-01T13:51:37.491Z"
   },
   {
    "duration": 180822,
    "start_time": "2021-10-01T13:51:37.535Z"
   },
   {
    "duration": 5979,
    "start_time": "2021-10-01T13:54:38.360Z"
   },
   {
    "duration": 42,
    "start_time": "2021-10-01T13:54:44.342Z"
   },
   {
    "duration": 13,
    "start_time": "2021-10-01T13:54:44.387Z"
   },
   {
    "duration": 35,
    "start_time": "2021-10-01T13:54:44.423Z"
   },
   {
    "duration": 8,
    "start_time": "2021-10-01T13:54:44.461Z"
   },
   {
    "duration": 9,
    "start_time": "2021-10-01T13:54:44.471Z"
   },
   {
    "duration": 63,
    "start_time": "2021-10-01T13:54:44.483Z"
   },
   {
    "duration": 145,
    "start_time": "2021-10-01T13:54:44.549Z"
   },
   {
    "duration": 58,
    "start_time": "2021-10-01T13:54:44.697Z"
   },
   {
    "duration": 6,
    "start_time": "2021-10-01T13:54:44.758Z"
   },
   {
    "duration": 12,
    "start_time": "2021-10-01T13:54:44.767Z"
   },
   {
    "duration": 5,
    "start_time": "2021-10-01T13:54:44.782Z"
   },
   {
    "duration": 278,
    "start_time": "2021-10-01T13:54:44.823Z"
   },
   {
    "duration": 737,
    "start_time": "2021-10-01T13:54:45.104Z"
   },
   {
    "duration": -63,
    "start_time": "2021-10-01T13:54:45.906Z"
   },
   {
    "duration": -68,
    "start_time": "2021-10-01T13:54:45.913Z"
   },
   {
    "duration": -75,
    "start_time": "2021-10-01T13:54:45.921Z"
   },
   {
    "duration": -89,
    "start_time": "2021-10-01T13:54:45.937Z"
   },
   {
    "duration": -103,
    "start_time": "2021-10-01T13:54:45.952Z"
   },
   {
    "duration": -109,
    "start_time": "2021-10-01T13:54:45.960Z"
   },
   {
    "duration": -114,
    "start_time": "2021-10-01T13:54:45.966Z"
   },
   {
    "duration": -118,
    "start_time": "2021-10-01T13:54:45.972Z"
   },
   {
    "duration": -123,
    "start_time": "2021-10-01T13:54:45.978Z"
   },
   {
    "duration": -128,
    "start_time": "2021-10-01T13:54:45.984Z"
   },
   {
    "duration": -133,
    "start_time": "2021-10-01T13:54:45.991Z"
   },
   {
    "duration": -137,
    "start_time": "2021-10-01T13:54:45.996Z"
   },
   {
    "duration": -142,
    "start_time": "2021-10-01T13:54:46.002Z"
   },
   {
    "duration": -146,
    "start_time": "2021-10-01T13:54:46.008Z"
   },
   {
    "duration": -151,
    "start_time": "2021-10-01T13:54:46.014Z"
   },
   {
    "duration": -166,
    "start_time": "2021-10-01T13:54:46.031Z"
   },
   {
    "duration": 4620,
    "start_time": "2021-10-01T13:57:20.889Z"
   },
   {
    "duration": 783,
    "start_time": "2021-10-01T13:57:25.513Z"
   },
   {
    "duration": 34,
    "start_time": "2021-10-01T13:57:26.299Z"
   },
   {
    "duration": 32,
    "start_time": "2021-10-01T13:57:26.335Z"
   },
   {
    "duration": 26,
    "start_time": "2021-10-01T13:57:26.370Z"
   },
   {
    "duration": 264,
    "start_time": "2021-10-01T13:57:26.398Z"
   },
   {
    "duration": 342,
    "start_time": "2021-10-01T13:57:26.664Z"
   },
   {
    "duration": 28,
    "start_time": "2021-10-01T13:57:27.009Z"
   },
   {
    "duration": 11,
    "start_time": "2021-10-01T13:57:27.040Z"
   },
   {
    "duration": 23,
    "start_time": "2021-10-01T13:57:27.054Z"
   },
   {
    "duration": 16,
    "start_time": "2021-10-01T13:57:27.080Z"
   },
   {
    "duration": 39,
    "start_time": "2021-10-01T13:57:27.098Z"
   },
   {
    "duration": 2464,
    "start_time": "2021-10-01T13:57:27.139Z"
   },
   {
    "duration": 22,
    "start_time": "2021-10-01T13:57:29.605Z"
   },
   {
    "duration": 16,
    "start_time": "2021-10-01T13:57:29.629Z"
   },
   {
    "duration": 13,
    "start_time": "2021-10-01T13:57:29.648Z"
   },
   {
    "duration": 7,
    "start_time": "2021-10-01T13:57:29.664Z"
   },
   {
    "duration": 2341,
    "start_time": "2021-10-01T13:57:29.674Z"
   },
   {
    "duration": 4,
    "start_time": "2021-10-01T13:57:32.018Z"
   },
   {
    "duration": 180,
    "start_time": "2021-10-01T13:57:32.024Z"
   },
   {
    "duration": 4,
    "start_time": "2021-10-01T13:57:32.207Z"
   },
   {
    "duration": 21,
    "start_time": "2021-10-01T13:57:32.213Z"
   },
   {
    "duration": 32,
    "start_time": "2021-10-01T13:57:32.241Z"
   },
   {
    "duration": 5,
    "start_time": "2021-10-01T13:57:32.278Z"
   },
   {
    "duration": 44,
    "start_time": "2021-10-01T13:57:32.286Z"
   },
   {
    "duration": 8,
    "start_time": "2021-10-01T13:57:32.333Z"
   },
   {
    "duration": 19,
    "start_time": "2021-10-01T13:57:32.344Z"
   },
   {
    "duration": 7,
    "start_time": "2021-10-01T13:57:32.366Z"
   },
   {
    "duration": 9,
    "start_time": "2021-10-01T13:57:32.376Z"
   },
   {
    "duration": 40,
    "start_time": "2021-10-01T13:57:32.387Z"
   },
   {
    "duration": 16,
    "start_time": "2021-10-01T13:57:32.435Z"
   },
   {
    "duration": 1459008,
    "start_time": "2021-10-01T13:57:32.454Z"
   },
   {
    "duration": 319262,
    "start_time": "2021-10-01T14:21:51.465Z"
   },
   {
    "duration": 113,
    "start_time": "2021-10-01T14:27:10.730Z"
   },
   {
    "duration": 16,
    "start_time": "2021-10-01T14:27:10.846Z"
   },
   {
    "duration": 82,
    "start_time": "2021-10-01T14:27:10.865Z"
   },
   {
    "duration": 21,
    "start_time": "2021-10-01T14:27:10.950Z"
   },
   {
    "duration": 9,
    "start_time": "2021-10-01T14:27:10.974Z"
   },
   {
    "duration": 87,
    "start_time": "2021-10-01T14:27:10.987Z"
   },
   {
    "duration": 201,
    "start_time": "2021-10-01T14:27:11.077Z"
   },
   {
    "duration": 60,
    "start_time": "2021-10-01T14:27:11.281Z"
   },
   {
    "duration": 6,
    "start_time": "2021-10-01T14:27:11.344Z"
   },
   {
    "duration": 20,
    "start_time": "2021-10-01T14:27:11.352Z"
   },
   {
    "duration": 13,
    "start_time": "2021-10-01T14:27:11.375Z"
   },
   {
    "duration": 550914,
    "start_time": "2021-10-01T14:27:11.391Z"
   },
   {
    "duration": 6,
    "start_time": "2021-10-01T14:36:22.307Z"
   },
   {
    "duration": 569993,
    "start_time": "2021-10-01T14:36:22.315Z"
   },
   {
    "duration": 6,
    "start_time": "2021-10-01T14:45:52.312Z"
   },
   {
    "duration": 22,
    "start_time": "2021-10-01T14:45:52.325Z"
   },
   {
    "duration": 1449389,
    "start_time": "2021-10-01T14:45:52.349Z"
   },
   {
    "duration": 379,
    "start_time": "2021-10-01T15:10:01.748Z"
   },
   {
    "duration": -214,
    "start_time": "2021-10-01T15:10:02.346Z"
   },
   {
    "duration": -220,
    "start_time": "2021-10-01T15:10:02.354Z"
   },
   {
    "duration": -223,
    "start_time": "2021-10-01T15:10:02.360Z"
   },
   {
    "duration": -226,
    "start_time": "2021-10-01T15:10:02.366Z"
   },
   {
    "duration": -229,
    "start_time": "2021-10-01T15:10:02.372Z"
   },
   {
    "duration": -232,
    "start_time": "2021-10-01T15:10:02.378Z"
   },
   {
    "duration": -247,
    "start_time": "2021-10-01T15:10:02.395Z"
   },
   {
    "duration": -261,
    "start_time": "2021-10-01T15:10:02.412Z"
   },
   {
    "duration": -268,
    "start_time": "2021-10-01T15:10:02.420Z"
   },
   {
    "duration": -273,
    "start_time": "2021-10-01T15:10:02.427Z"
   },
   {
    "duration": -291,
    "start_time": "2021-10-01T15:10:02.447Z"
   },
   {
    "duration": -307,
    "start_time": "2021-10-01T15:10:02.468Z"
   },
   {
    "duration": 5,
    "start_time": "2021-10-01T15:10:15.685Z"
   },
   {
    "duration": 1155740,
    "start_time": "2021-10-01T15:10:25.544Z"
   },
   {
    "duration": 990077,
    "start_time": "2021-10-01T15:51:34.284Z"
   },
   {
    "duration": 4988,
    "start_time": "2021-10-01T17:25:24.440Z"
   },
   {
    "duration": 866,
    "start_time": "2021-10-01T17:25:29.432Z"
   },
   {
    "duration": 34,
    "start_time": "2021-10-01T17:25:30.301Z"
   },
   {
    "duration": 33,
    "start_time": "2021-10-01T17:25:30.341Z"
   },
   {
    "duration": 34,
    "start_time": "2021-10-01T17:25:30.377Z"
   },
   {
    "duration": 253,
    "start_time": "2021-10-01T17:25:30.414Z"
   },
   {
    "duration": 386,
    "start_time": "2021-10-01T17:25:30.670Z"
   },
   {
    "duration": 21,
    "start_time": "2021-10-01T17:25:31.059Z"
   },
   {
    "duration": 19,
    "start_time": "2021-10-01T17:25:31.083Z"
   },
   {
    "duration": 34,
    "start_time": "2021-10-01T17:25:31.105Z"
   },
   {
    "duration": 18,
    "start_time": "2021-10-01T17:25:31.143Z"
   },
   {
    "duration": 20,
    "start_time": "2021-10-01T17:25:31.164Z"
   },
   {
    "duration": 2676,
    "start_time": "2021-10-01T17:25:31.186Z"
   },
   {
    "duration": 12,
    "start_time": "2021-10-01T17:25:33.865Z"
   },
   {
    "duration": 42,
    "start_time": "2021-10-01T17:25:33.879Z"
   },
   {
    "duration": 32,
    "start_time": "2021-10-01T17:25:33.924Z"
   },
   {
    "duration": 18,
    "start_time": "2021-10-01T17:25:33.958Z"
   },
   {
    "duration": 2400,
    "start_time": "2021-10-01T17:25:33.978Z"
   },
   {
    "duration": 5,
    "start_time": "2021-10-01T17:25:36.381Z"
   },
   {
    "duration": 187,
    "start_time": "2021-10-01T17:25:36.388Z"
   },
   {
    "duration": 4,
    "start_time": "2021-10-01T17:25:36.578Z"
   },
   {
    "duration": 15,
    "start_time": "2021-10-01T17:25:36.585Z"
   },
   {
    "duration": 43,
    "start_time": "2021-10-01T17:25:36.623Z"
   },
   {
    "duration": 4,
    "start_time": "2021-10-01T17:25:36.670Z"
   },
   {
    "duration": 17,
    "start_time": "2021-10-01T17:25:36.676Z"
   },
   {
    "duration": 29,
    "start_time": "2021-10-01T17:25:36.695Z"
   },
   {
    "duration": 21,
    "start_time": "2021-10-01T17:25:36.727Z"
   },
   {
    "duration": 8,
    "start_time": "2021-10-01T17:25:36.751Z"
   },
   {
    "duration": 14,
    "start_time": "2021-10-01T17:25:36.762Z"
   },
   {
    "duration": 10,
    "start_time": "2021-10-01T17:25:36.778Z"
   },
   {
    "duration": 42,
    "start_time": "2021-10-01T17:25:36.790Z"
   },
   {
    "duration": 4416,
    "start_time": "2021-10-01T17:50:09.666Z"
   },
   {
    "duration": 841,
    "start_time": "2021-10-01T17:50:14.085Z"
   },
   {
    "duration": 38,
    "start_time": "2021-10-01T17:50:14.930Z"
   },
   {
    "duration": 16,
    "start_time": "2021-10-01T17:50:14.971Z"
   },
   {
    "duration": 56,
    "start_time": "2021-10-01T17:50:14.990Z"
   },
   {
    "duration": 243,
    "start_time": "2021-10-01T17:50:15.049Z"
   },
   {
    "duration": 365,
    "start_time": "2021-10-01T17:50:15.295Z"
   },
   {
    "duration": 17,
    "start_time": "2021-10-01T17:50:15.664Z"
   },
   {
    "duration": 38,
    "start_time": "2021-10-01T17:50:15.685Z"
   },
   {
    "duration": 30,
    "start_time": "2021-10-01T17:50:15.726Z"
   },
   {
    "duration": 26,
    "start_time": "2021-10-01T17:50:15.759Z"
   },
   {
    "duration": 45,
    "start_time": "2021-10-01T17:50:15.787Z"
   },
   {
    "duration": 2627,
    "start_time": "2021-10-01T17:50:15.836Z"
   },
   {
    "duration": 16,
    "start_time": "2021-10-01T17:50:18.466Z"
   },
   {
    "duration": 38,
    "start_time": "2021-10-01T17:50:18.484Z"
   },
   {
    "duration": 19,
    "start_time": "2021-10-01T17:50:18.525Z"
   },
   {
    "duration": 12,
    "start_time": "2021-10-01T17:50:18.547Z"
   },
   {
    "duration": 3384,
    "start_time": "2021-10-01T17:50:18.562Z"
   },
   {
    "duration": 6,
    "start_time": "2021-10-01T17:50:21.949Z"
   },
   {
    "duration": 223,
    "start_time": "2021-10-01T17:50:21.958Z"
   },
   {
    "duration": 5,
    "start_time": "2021-10-01T17:50:22.184Z"
   },
   {
    "duration": 43,
    "start_time": "2021-10-01T17:50:22.192Z"
   },
   {
    "duration": 69,
    "start_time": "2021-10-01T17:50:22.248Z"
   },
   {
    "duration": 11,
    "start_time": "2021-10-01T17:50:22.322Z"
   },
   {
    "duration": 18,
    "start_time": "2021-10-01T17:50:22.336Z"
   },
   {
    "duration": 40,
    "start_time": "2021-10-01T17:50:22.356Z"
   },
   {
    "duration": 43,
    "start_time": "2021-10-01T17:50:22.399Z"
   },
   {
    "duration": 4,
    "start_time": "2021-10-01T17:50:22.444Z"
   },
   {
    "duration": 22,
    "start_time": "2021-10-01T17:50:22.450Z"
   },
   {
    "duration": 29,
    "start_time": "2021-10-01T17:50:22.475Z"
   },
   {
    "duration": 24,
    "start_time": "2021-10-01T17:50:22.506Z"
   },
   {
    "duration": 96549,
    "start_time": "2021-10-01T18:15:38.691Z"
   },
   {
    "duration": 97,
    "start_time": "2021-10-01T18:17:15.243Z"
   },
   {
    "duration": 21,
    "start_time": "2021-10-01T18:17:15.344Z"
   },
   {
    "duration": 68,
    "start_time": "2021-10-01T18:17:15.368Z"
   },
   {
    "duration": 10,
    "start_time": "2021-10-01T18:17:15.439Z"
   },
   {
    "duration": 10,
    "start_time": "2021-10-01T18:17:15.452Z"
   },
   {
    "duration": 44,
    "start_time": "2021-10-01T18:17:15.465Z"
   },
   {
    "duration": 137,
    "start_time": "2021-10-01T18:17:15.523Z"
   },
   {
    "duration": 44,
    "start_time": "2021-10-01T18:17:15.662Z"
   },
   {
    "duration": 5,
    "start_time": "2021-10-01T18:17:15.723Z"
   },
   {
    "duration": 29,
    "start_time": "2021-10-01T18:17:15.731Z"
   },
   {
    "duration": 30,
    "start_time": "2021-10-01T18:17:15.762Z"
   },
   {
    "duration": 10720,
    "start_time": "2021-10-01T18:17:15.795Z"
   },
   {
    "duration": 306,
    "start_time": "2021-10-01T18:17:26.518Z"
   },
   {
    "duration": -67,
    "start_time": "2021-10-01T18:17:26.895Z"
   },
   {
    "duration": -76,
    "start_time": "2021-10-01T18:17:26.906Z"
   },
   {
    "duration": -81,
    "start_time": "2021-10-01T18:17:26.913Z"
   },
   {
    "duration": -117,
    "start_time": "2021-10-01T18:17:26.951Z"
   },
   {
    "duration": -150,
    "start_time": "2021-10-01T18:17:26.986Z"
   },
   {
    "duration": -181,
    "start_time": "2021-10-01T18:17:27.019Z"
   },
   {
    "duration": -211,
    "start_time": "2021-10-01T18:17:27.051Z"
   },
   {
    "duration": -231,
    "start_time": "2021-10-01T18:17:27.073Z"
   },
   {
    "duration": -236,
    "start_time": "2021-10-01T18:17:27.080Z"
   },
   {
    "duration": -242,
    "start_time": "2021-10-01T18:17:27.088Z"
   },
   {
    "duration": -254,
    "start_time": "2021-10-01T18:17:27.102Z"
   },
   {
    "duration": -268,
    "start_time": "2021-10-01T18:17:27.118Z"
   },
   {
    "duration": -286,
    "start_time": "2021-10-01T18:17:27.138Z"
   },
   {
    "duration": -301,
    "start_time": "2021-10-01T18:17:27.155Z"
   },
   {
    "duration": -314,
    "start_time": "2021-10-01T18:17:27.170Z"
   },
   {
    "duration": -325,
    "start_time": "2021-10-01T18:17:27.183Z"
   },
   {
    "duration": -338,
    "start_time": "2021-10-01T18:17:27.198Z"
   },
   {
    "duration": -310,
    "start_time": "2021-10-01T18:17:27.232Z"
   },
   {
    "duration": 4370,
    "start_time": "2021-10-01T18:17:34.608Z"
   },
   {
    "duration": 878,
    "start_time": "2021-10-01T18:17:38.981Z"
   },
   {
    "duration": 34,
    "start_time": "2021-10-01T18:17:39.861Z"
   },
   {
    "duration": 35,
    "start_time": "2021-10-01T18:17:39.898Z"
   },
   {
    "duration": 30,
    "start_time": "2021-10-01T18:17:39.936Z"
   },
   {
    "duration": 248,
    "start_time": "2021-10-01T18:17:39.968Z"
   },
   {
    "duration": 349,
    "start_time": "2021-10-01T18:17:40.218Z"
   },
   {
    "duration": 15,
    "start_time": "2021-10-01T18:17:40.570Z"
   },
   {
    "duration": 34,
    "start_time": "2021-10-01T18:17:40.589Z"
   },
   {
    "duration": 26,
    "start_time": "2021-10-01T18:17:40.626Z"
   },
   {
    "duration": 24,
    "start_time": "2021-10-01T18:17:40.655Z"
   },
   {
    "duration": 26,
    "start_time": "2021-10-01T18:17:40.681Z"
   },
   {
    "duration": 2580,
    "start_time": "2021-10-01T18:17:40.709Z"
   },
   {
    "duration": 12,
    "start_time": "2021-10-01T18:17:43.291Z"
   },
   {
    "duration": 38,
    "start_time": "2021-10-01T18:17:43.305Z"
   },
   {
    "duration": 16,
    "start_time": "2021-10-01T18:17:43.345Z"
   },
   {
    "duration": 9,
    "start_time": "2021-10-01T18:17:43.363Z"
   },
   {
    "duration": 2130,
    "start_time": "2021-10-01T18:17:43.375Z"
   },
   {
    "duration": 15,
    "start_time": "2021-10-01T18:17:45.507Z"
   },
   {
    "duration": 177,
    "start_time": "2021-10-01T18:17:45.525Z"
   },
   {
    "duration": 4,
    "start_time": "2021-10-01T18:17:45.704Z"
   },
   {
    "duration": 37,
    "start_time": "2021-10-01T18:17:45.710Z"
   },
   {
    "duration": 48,
    "start_time": "2021-10-01T18:17:45.753Z"
   },
   {
    "duration": 6,
    "start_time": "2021-10-01T18:17:45.804Z"
   },
   {
    "duration": 33,
    "start_time": "2021-10-01T18:17:45.812Z"
   },
   {
    "duration": 28,
    "start_time": "2021-10-01T18:17:45.848Z"
   },
   {
    "duration": 48,
    "start_time": "2021-10-01T18:17:45.878Z"
   },
   {
    "duration": 30,
    "start_time": "2021-10-01T18:17:45.928Z"
   },
   {
    "duration": 40,
    "start_time": "2021-10-01T18:17:45.960Z"
   },
   {
    "duration": 35,
    "start_time": "2021-10-01T18:17:46.002Z"
   },
   {
    "duration": 42,
    "start_time": "2021-10-01T18:17:46.039Z"
   },
   {
    "duration": 1408198,
    "start_time": "2021-10-01T18:17:46.084Z"
   },
   {
    "duration": 307983,
    "start_time": "2021-10-01T18:41:14.284Z"
   },
   {
    "duration": 110,
    "start_time": "2021-10-01T18:46:22.269Z"
   },
   {
    "duration": 27,
    "start_time": "2021-10-01T18:46:22.382Z"
   },
   {
    "duration": 55,
    "start_time": "2021-10-01T18:46:22.412Z"
   },
   {
    "duration": 9,
    "start_time": "2021-10-01T18:46:22.469Z"
   },
   {
    "duration": 17,
    "start_time": "2021-10-01T18:46:22.480Z"
   },
   {
    "duration": 58,
    "start_time": "2021-10-01T18:46:22.499Z"
   },
   {
    "duration": 145,
    "start_time": "2021-10-01T18:46:22.560Z"
   },
   {
    "duration": 59,
    "start_time": "2021-10-01T18:46:22.708Z"
   },
   {
    "duration": 6,
    "start_time": "2021-10-01T18:46:22.770Z"
   },
   {
    "duration": 16,
    "start_time": "2021-10-01T18:46:22.779Z"
   },
   {
    "duration": 35,
    "start_time": "2021-10-01T18:46:22.797Z"
   },
   {
    "duration": 492341,
    "start_time": "2021-10-01T18:46:22.837Z"
   },
   {
    "duration": 5,
    "start_time": "2021-10-01T18:54:35.181Z"
   },
   {
    "duration": 506502,
    "start_time": "2021-10-01T18:54:35.188Z"
   },
   {
    "duration": 5,
    "start_time": "2021-10-01T19:03:01.693Z"
   },
   {
    "duration": 32,
    "start_time": "2021-10-01T19:03:01.724Z"
   },
   {
    "duration": 1108893,
    "start_time": "2021-10-01T19:03:01.759Z"
   },
   {
    "duration": 7,
    "start_time": "2021-10-01T19:21:30.655Z"
   },
   {
    "duration": 1363798,
    "start_time": "2021-10-01T19:21:30.664Z"
   },
   {
    "duration": 4,
    "start_time": "2021-10-01T19:44:14.465Z"
   },
   {
    "duration": 52,
    "start_time": "2021-10-01T19:44:14.471Z"
   },
   {
    "duration": 485498,
    "start_time": "2021-10-01T19:44:14.526Z"
   },
   {
    "duration": 8,
    "start_time": "2021-10-01T19:52:20.027Z"
   },
   {
    "duration": 533761,
    "start_time": "2021-10-01T19:52:20.039Z"
   },
   {
    "duration": 6,
    "start_time": "2021-10-01T20:01:13.802Z"
   },
   {
    "duration": 30,
    "start_time": "2021-10-01T20:01:13.810Z"
   },
   {
    "duration": 299,
    "start_time": "2021-10-01T20:07:34.888Z"
   },
   {
    "duration": 4318,
    "start_time": "2021-10-01T20:07:50.556Z"
   },
   {
    "duration": 3403,
    "start_time": "2021-10-01T20:07:54.877Z"
   },
   {
    "duration": 46,
    "start_time": "2021-10-01T20:07:58.283Z"
   },
   {
    "duration": 15,
    "start_time": "2021-10-01T20:07:58.333Z"
   },
   {
    "duration": 38,
    "start_time": "2021-10-01T20:07:58.351Z"
   },
   {
    "duration": 246,
    "start_time": "2021-10-01T20:07:58.393Z"
   },
   {
    "duration": 353,
    "start_time": "2021-10-01T20:07:58.642Z"
   },
   {
    "duration": 24,
    "start_time": "2021-10-01T20:07:59.000Z"
   },
   {
    "duration": 29,
    "start_time": "2021-10-01T20:07:59.028Z"
   },
   {
    "duration": 16,
    "start_time": "2021-10-01T20:07:59.059Z"
   },
   {
    "duration": 30,
    "start_time": "2021-10-01T20:07:59.078Z"
   },
   {
    "duration": 24,
    "start_time": "2021-10-01T20:07:59.110Z"
   },
   {
    "duration": 2555,
    "start_time": "2021-10-01T20:07:59.137Z"
   },
   {
    "duration": 28,
    "start_time": "2021-10-01T20:08:01.696Z"
   },
   {
    "duration": 33,
    "start_time": "2021-10-01T20:08:01.727Z"
   },
   {
    "duration": 26,
    "start_time": "2021-10-01T20:08:01.763Z"
   },
   {
    "duration": 44,
    "start_time": "2021-10-01T20:08:01.792Z"
   },
   {
    "duration": 2305,
    "start_time": "2021-10-01T20:08:01.838Z"
   },
   {
    "duration": 5,
    "start_time": "2021-10-01T20:08:04.145Z"
   },
   {
    "duration": 216,
    "start_time": "2021-10-01T20:08:04.152Z"
   },
   {
    "duration": 3,
    "start_time": "2021-10-01T20:08:04.371Z"
   },
   {
    "duration": 32,
    "start_time": "2021-10-01T20:08:04.376Z"
   },
   {
    "duration": 46,
    "start_time": "2021-10-01T20:08:04.414Z"
   },
   {
    "duration": 5,
    "start_time": "2021-10-01T20:08:04.463Z"
   },
   {
    "duration": 32,
    "start_time": "2021-10-01T20:08:04.470Z"
   },
   {
    "duration": 25,
    "start_time": "2021-10-01T20:08:04.504Z"
   },
   {
    "duration": 47,
    "start_time": "2021-10-01T20:08:04.533Z"
   },
   {
    "duration": 25,
    "start_time": "2021-10-01T20:08:04.583Z"
   },
   {
    "duration": 32,
    "start_time": "2021-10-01T20:08:04.611Z"
   },
   {
    "duration": 71,
    "start_time": "2021-10-01T20:08:04.646Z"
   },
   {
    "duration": 19,
    "start_time": "2021-10-01T20:08:04.720Z"
   },
   {
    "duration": 1412515,
    "start_time": "2021-10-01T20:08:04.743Z"
   },
   {
    "duration": 315392,
    "start_time": "2021-10-01T20:31:37.261Z"
   },
   {
    "duration": 125,
    "start_time": "2021-10-01T20:36:52.656Z"
   },
   {
    "duration": 14,
    "start_time": "2021-10-01T20:36:52.783Z"
   },
   {
    "duration": 45,
    "start_time": "2021-10-01T20:36:52.822Z"
   },
   {
    "duration": 11,
    "start_time": "2021-10-01T20:36:52.870Z"
   },
   {
    "duration": 5,
    "start_time": "2021-10-01T20:36:52.884Z"
   },
   {
    "duration": 37,
    "start_time": "2021-10-01T20:36:52.923Z"
   },
   {
    "duration": 150,
    "start_time": "2021-10-01T20:36:52.962Z"
   },
   {
    "duration": 52,
    "start_time": "2021-10-01T20:36:53.115Z"
   },
   {
    "duration": 5,
    "start_time": "2021-10-01T20:36:53.169Z"
   },
   {
    "duration": 23,
    "start_time": "2021-10-01T20:36:53.176Z"
   },
   {
    "duration": 27,
    "start_time": "2021-10-01T20:36:53.202Z"
   },
   {
    "duration": 505149,
    "start_time": "2021-10-01T20:36:53.233Z"
   },
   {
    "duration": 5,
    "start_time": "2021-10-01T20:45:18.384Z"
   },
   {
    "duration": 556308,
    "start_time": "2021-10-01T20:45:18.392Z"
   },
   {
    "duration": 20,
    "start_time": "2021-10-01T20:54:34.703Z"
   },
   {
    "duration": 4,
    "start_time": "2021-10-01T20:54:34.726Z"
   },
   {
    "duration": 1061918,
    "start_time": "2021-10-01T20:54:34.732Z"
   },
   {
    "duration": 6,
    "start_time": "2021-10-01T21:12:16.652Z"
   },
   {
    "duration": 810389,
    "start_time": "2021-10-01T21:12:16.661Z"
   },
   {
    "duration": 5,
    "start_time": "2021-10-01T21:25:47.052Z"
   },
   {
    "duration": 19,
    "start_time": "2021-10-01T21:25:47.060Z"
   },
   {
    "duration": 486562,
    "start_time": "2021-10-01T21:25:47.082Z"
   },
   {
    "duration": 8,
    "start_time": "2021-10-01T21:33:53.648Z"
   },
   {
    "duration": 536725,
    "start_time": "2021-10-01T21:33:53.659Z"
   },
   {
    "duration": 5,
    "start_time": "2021-10-01T21:42:50.387Z"
   },
   {
    "duration": 411,
    "start_time": "2021-10-01T21:44:19.535Z"
   },
   {
    "duration": 4483,
    "start_time": "2021-10-01T21:45:13.735Z"
   },
   {
    "duration": 3419,
    "start_time": "2021-10-01T21:45:18.221Z"
   },
   {
    "duration": 31,
    "start_time": "2021-10-01T21:45:21.643Z"
   },
   {
    "duration": 16,
    "start_time": "2021-10-01T21:45:21.677Z"
   },
   {
    "duration": 44,
    "start_time": "2021-10-01T21:45:21.695Z"
   },
   {
    "duration": 268,
    "start_time": "2021-10-01T21:45:21.742Z"
   },
   {
    "duration": 350,
    "start_time": "2021-10-01T21:45:22.013Z"
   },
   {
    "duration": 15,
    "start_time": "2021-10-01T21:45:22.365Z"
   },
   {
    "duration": 11,
    "start_time": "2021-10-01T21:45:22.384Z"
   },
   {
    "duration": 34,
    "start_time": "2021-10-01T21:45:22.398Z"
   },
   {
    "duration": 13,
    "start_time": "2021-10-01T21:45:22.435Z"
   },
   {
    "duration": 12,
    "start_time": "2021-10-01T21:45:22.450Z"
   },
   {
    "duration": 2500,
    "start_time": "2021-10-01T21:45:22.464Z"
   },
   {
    "duration": 12,
    "start_time": "2021-10-01T21:45:24.967Z"
   },
   {
    "duration": 34,
    "start_time": "2021-10-01T21:45:24.981Z"
   },
   {
    "duration": 18,
    "start_time": "2021-10-01T21:45:25.022Z"
   },
   {
    "duration": 8,
    "start_time": "2021-10-01T21:45:25.042Z"
   },
   {
    "duration": 2216,
    "start_time": "2021-10-01T21:45:25.052Z"
   },
   {
    "duration": 5,
    "start_time": "2021-10-01T21:45:27.270Z"
   },
   {
    "duration": 208,
    "start_time": "2021-10-01T21:45:27.278Z"
   },
   {
    "duration": 4,
    "start_time": "2021-10-01T21:45:27.488Z"
   },
   {
    "duration": 33,
    "start_time": "2021-10-01T21:45:27.494Z"
   },
   {
    "duration": 53,
    "start_time": "2021-10-01T21:45:27.529Z"
   },
   {
    "duration": 4,
    "start_time": "2021-10-01T21:45:27.585Z"
   },
   {
    "duration": 20,
    "start_time": "2021-10-01T21:45:27.591Z"
   },
   {
    "duration": 10,
    "start_time": "2021-10-01T21:45:27.614Z"
   },
   {
    "duration": 11,
    "start_time": "2021-10-01T21:45:27.636Z"
   },
   {
    "duration": 14,
    "start_time": "2021-10-01T21:45:27.650Z"
   },
   {
    "duration": 15,
    "start_time": "2021-10-01T21:45:27.667Z"
   },
   {
    "duration": 79,
    "start_time": "2021-10-01T21:45:27.685Z"
   },
   {
    "duration": 11,
    "start_time": "2021-10-01T21:45:27.766Z"
   },
   {
    "duration": 1410402,
    "start_time": "2021-10-01T21:45:27.779Z"
   },
   {
    "duration": 296102,
    "start_time": "2021-10-01T22:08:58.184Z"
   },
   {
    "duration": 100,
    "start_time": "2021-10-01T22:13:54.290Z"
   },
   {
    "duration": 12,
    "start_time": "2021-10-01T22:13:54.423Z"
   },
   {
    "duration": 34,
    "start_time": "2021-10-01T22:13:54.437Z"
   },
   {
    "duration": 8,
    "start_time": "2021-10-01T22:13:54.473Z"
   },
   {
    "duration": 39,
    "start_time": "2021-10-01T22:13:54.484Z"
   },
   {
    "duration": 29,
    "start_time": "2021-10-01T22:13:54.525Z"
   },
   {
    "duration": 139,
    "start_time": "2021-10-01T22:13:54.556Z"
   },
   {
    "duration": 47,
    "start_time": "2021-10-01T22:13:54.697Z"
   },
   {
    "duration": 6,
    "start_time": "2021-10-01T22:13:54.747Z"
   },
   {
    "duration": 19,
    "start_time": "2021-10-01T22:13:54.755Z"
   },
   {
    "duration": 16,
    "start_time": "2021-10-01T22:13:54.777Z"
   },
   {
    "duration": 432675,
    "start_time": "2021-10-01T22:13:54.796Z"
   },
   {
    "duration": 7,
    "start_time": "2021-10-01T22:21:07.474Z"
   },
   {
    "duration": 428595,
    "start_time": "2021-10-01T22:21:07.484Z"
   },
   {
    "duration": 5,
    "start_time": "2021-10-01T22:28:16.081Z"
   },
   {
    "duration": 35,
    "start_time": "2021-10-01T22:28:16.088Z"
   },
   {
    "duration": 191231,
    "start_time": "2021-10-01T22:28:16.125Z"
   },
   {
    "duration": 5,
    "start_time": "2021-10-01T22:31:27.359Z"
   },
   {
    "duration": 199990,
    "start_time": "2021-10-01T22:31:27.366Z"
   },
   {
    "duration": 5,
    "start_time": "2021-10-01T22:34:47.359Z"
   },
   {
    "duration": 56,
    "start_time": "2021-10-01T22:34:47.366Z"
   },
   {
    "duration": 395596,
    "start_time": "2021-10-01T22:34:47.425Z"
   },
   {
    "duration": 5,
    "start_time": "2021-10-01T22:41:23.023Z"
   },
   {
    "duration": 436394,
    "start_time": "2021-10-01T22:41:23.030Z"
   },
   {
    "duration": 5,
    "start_time": "2021-10-01T22:48:39.427Z"
   },
   {
    "duration": 33,
    "start_time": "2021-10-01T22:48:39.435Z"
   },
   {
    "duration": 49191,
    "start_time": "2021-10-01T22:48:39.470Z"
   },
   {
    "duration": 56575,
    "start_time": "2021-10-01T22:49:28.664Z"
   },
   {
    "duration": 23,
    "start_time": "2021-10-01T22:50:25.241Z"
   },
   {
    "duration": 81,
    "start_time": "2021-10-01T22:50:25.266Z"
   }
  ],
  "kernelspec": {
   "display_name": "Python 3",
   "language": "python",
   "name": "python3"
  },
  "language_info": {
   "codemirror_mode": {
    "name": "ipython",
    "version": 3
   },
   "file_extension": ".py",
   "mimetype": "text/x-python",
   "name": "python",
   "nbconvert_exporter": "python",
   "pygments_lexer": "ipython3",
   "version": "3.8.8"
  },
  "toc": {
   "base_numbering": 1,
   "nav_menu": {},
   "number_sections": true,
   "sideBar": true,
   "skip_h1_title": true,
   "title_cell": "Содержание",
   "title_sidebar": "Contents",
   "toc_cell": true,
   "toc_position": {
    "height": "calc(100% - 180px)",
    "left": "10px",
    "top": "150px",
    "width": "180px"
   },
   "toc_section_display": true,
   "toc_window_display": true
  }
 },
 "nbformat": 4,
 "nbformat_minor": 2
}

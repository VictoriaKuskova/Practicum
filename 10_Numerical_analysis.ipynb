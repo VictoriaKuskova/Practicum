{
 "cells": [
  {
   "cell_type": "markdown",
   "metadata": {},
   "source": [
    "# Определение стоимости автомобилей"
   ]
  },
  {
   "cell_type": "markdown",
   "metadata": {},
   "source": [
    "## Введение"
   ]
  },
  {
   "cell_type": "markdown",
   "metadata": {},
   "source": [
    "В данном проекте мы решим задачу в рамках темы \"Численные методы\", по проекту \"Определение стоимости автомобилей\".\n",
    "\n",
    "Ниже можно найти описание задачи, а также примерный план проекта.\n",
    "\n",
    "<b>Описание задачи:</b>\n",
    "\n",
    "Сервис по продаже автомобилей с пробегом «Не бит, не крашен» разрабатывает приложение для привлечения новых клиентов. В нём можно быстро узнать рыночную стоимость своего автомобиля. В вашем распоряжении исторические данные: технические характеристики, комплектации и цены автомобилей. Вам нужно построить модель для определения стоимости. \n",
    "\n",
    "Заказчику важны:\n",
    "\n",
    "- качество предсказания;\n",
    "- скорость предсказания;\n",
    "- время обучения.\n",
    "\n",
    "<b>План работы над проектом:</b>\n",
    "- Изучение общей информации о файле с данными.\n",
    "- Изучение столбцов и проверка данных.\n",
    "- Обучение моделей.\n",
    "- Изучение моделей и выбор оптимальной.\n",
    "- Общий вывод.\n",
    "- Чек-лист проекта.\n",
    "\n",
    "<b>Автор проекта:</b>\n",
    "- Виктория Кускова, \n",
    "- студентка Яндекс.Практикума, 2021.\n"
   ]
  },
  {
   "cell_type": "markdown",
   "metadata": {},
   "source": [
    "## Подготовка данных"
   ]
  },
  {
   "cell_type": "markdown",
   "metadata": {},
   "source": [
    "### Общая информация"
   ]
  },
  {
   "cell_type": "markdown",
   "metadata": {},
   "source": [
    "Выделим импорты всех библиотек, импорт файла с данными и общую информацию по нему в отдельные ячейки."
   ]
  },
  {
   "cell_type": "code",
   "execution_count": 1,
   "metadata": {},
   "outputs": [],
   "source": [
    "import pandas as pd\n",
    "import numpy as np\n",
    "import seaborn as sns\n",
    "import matplotlib.pyplot as plt\n",
    "import warnings\n",
    "from sklearn.model_selection import train_test_split\n",
    "from sklearn.model_selection import cross_val_score\n",
    "from sklearn.preprocessing import StandardScaler\n",
    "from sklearn.linear_model import LinearRegression\n",
    "from lightgbm import LGBMRegressor\n",
    "from catboost import CatBoostRegressor\n",
    "from sklearn.metrics import mean_squared_error\n",
    "from sklearn.model_selection import GridSearchCV"
   ]
  },
  {
   "cell_type": "code",
   "execution_count": 2,
   "metadata": {},
   "outputs": [],
   "source": [
    "#импорт файла с данными\n",
    "df = pd.read_csv('/datasets/autos.csv')"
   ]
  },
  {
   "cell_type": "code",
   "execution_count": 3,
   "metadata": {},
   "outputs": [
    {
     "name": "stdout",
     "output_type": "stream",
     "text": [
      "<class 'pandas.core.frame.DataFrame'>\n",
      "RangeIndex: 354369 entries, 0 to 354368\n",
      "Data columns (total 16 columns):\n",
      "DateCrawled          354369 non-null object\n",
      "Price                354369 non-null int64\n",
      "VehicleType          316879 non-null object\n",
      "RegistrationYear     354369 non-null int64\n",
      "Gearbox              334536 non-null object\n",
      "Power                354369 non-null int64\n",
      "Model                334664 non-null object\n",
      "Kilometer            354369 non-null int64\n",
      "RegistrationMonth    354369 non-null int64\n",
      "FuelType             321474 non-null object\n",
      "Brand                354369 non-null object\n",
      "NotRepaired          283215 non-null object\n",
      "DateCreated          354369 non-null object\n",
      "NumberOfPictures     354369 non-null int64\n",
      "PostalCode           354369 non-null int64\n",
      "LastSeen             354369 non-null object\n",
      "dtypes: int64(7), object(9)\n",
      "memory usage: 43.3+ MB\n"
     ]
    }
   ],
   "source": [
    "df.info()"
   ]
  },
  {
   "cell_type": "code",
   "execution_count": 4,
   "metadata": {},
   "outputs": [
    {
     "data": {
      "text/plain": [
       "(354369, 16)"
      ]
     },
     "execution_count": 4,
     "metadata": {},
     "output_type": "execute_result"
    }
   ],
   "source": [
    "df.shape"
   ]
  },
  {
   "cell_type": "markdown",
   "metadata": {},
   "source": [
    "Итого, у нас 354369 строк и 16 столбцов. Один из столбцов целевой - Price. \n",
    "\n",
    "Видим, что у всех столбцов тип целые числа или объект. \n",
    "\n",
    "Также видим, что есть пропуски в следующих 5 столбцах:\n",
    "- VehicleType - 37490 пропусков, это около 10% строк;\n",
    "- Gearbox - 19833 пропусков, около 5% строк;\n",
    "- Model - 19705 пропусков, около 5% строк;\n",
    "- FuelType - 32895, около 10%;\n",
    "- NotRepaired - 71154, около 20%.\n",
    "\n",
    "Все эти признаки с типом object. Возможно причины возникновения пропусков связаны с этим, к примеру это могло быть из-за:\n",
    "- Неполнота списка вариантов для выбора. И когда пользователь или сотрудник вносят данные по автомобилю, то могут не найти нужного варианта и пропустить заполнение этого поля.\n",
    "- Незнание пользователем или сотрудником значение технического поля и вариантов ответа, поэтому они могут пропустить заполнение этого шага.\n",
    "- Вариант ответа (один из объектов) подбирается уже после заполнения анкеты, и из-за ошибок в заполении -вариант не подбирается автоматически.\n",
    "- Эти данные собираются в одну таблицу тянутся из разных систем, и где-то могут быть не полные справочники, или не совпадающие друг с другом, устаревшие на каком-то этапе, поэтому данные теряются при передаче и сборе данных.\n",
    "- Сам пропуск может означать отдельный тип. К примеру, если машина не была ремонтирована, то возможно пропуск это и означает.\n",
    "\n",
    "Посмотрим далее на эти столбцы и поймем нужно ли заменять эти пропуски, или модели лучше и обучить на данных с пропусками. Ведь, к примеру, если у пользователей были проблемы с заполнением определенных полей и они их пропускли, то они будут пропускать их и в будущем, и наша модель, обученная на данных без пропусков будет работать некорректно.\n",
    "\n",
    "Посмотри еще на первые строки датасета."
   ]
  },
  {
   "cell_type": "code",
   "execution_count": 5,
   "metadata": {},
   "outputs": [
    {
     "data": {
      "text/html": [
       "<div>\n",
       "<style scoped>\n",
       "    .dataframe tbody tr th:only-of-type {\n",
       "        vertical-align: middle;\n",
       "    }\n",
       "\n",
       "    .dataframe tbody tr th {\n",
       "        vertical-align: top;\n",
       "    }\n",
       "\n",
       "    .dataframe thead th {\n",
       "        text-align: right;\n",
       "    }\n",
       "</style>\n",
       "<table border=\"1\" class=\"dataframe\">\n",
       "  <thead>\n",
       "    <tr style=\"text-align: right;\">\n",
       "      <th></th>\n",
       "      <th>DateCrawled</th>\n",
       "      <th>Price</th>\n",
       "      <th>VehicleType</th>\n",
       "      <th>RegistrationYear</th>\n",
       "      <th>Gearbox</th>\n",
       "      <th>Power</th>\n",
       "      <th>Model</th>\n",
       "      <th>Kilometer</th>\n",
       "      <th>RegistrationMonth</th>\n",
       "      <th>FuelType</th>\n",
       "      <th>Brand</th>\n",
       "      <th>NotRepaired</th>\n",
       "      <th>DateCreated</th>\n",
       "      <th>NumberOfPictures</th>\n",
       "      <th>PostalCode</th>\n",
       "      <th>LastSeen</th>\n",
       "    </tr>\n",
       "  </thead>\n",
       "  <tbody>\n",
       "    <tr>\n",
       "      <td>0</td>\n",
       "      <td>2016-03-24 11:52:17</td>\n",
       "      <td>480</td>\n",
       "      <td>NaN</td>\n",
       "      <td>1993</td>\n",
       "      <td>manual</td>\n",
       "      <td>0</td>\n",
       "      <td>golf</td>\n",
       "      <td>150000</td>\n",
       "      <td>0</td>\n",
       "      <td>petrol</td>\n",
       "      <td>volkswagen</td>\n",
       "      <td>NaN</td>\n",
       "      <td>2016-03-24 00:00:00</td>\n",
       "      <td>0</td>\n",
       "      <td>70435</td>\n",
       "      <td>2016-04-07 03:16:57</td>\n",
       "    </tr>\n",
       "    <tr>\n",
       "      <td>1</td>\n",
       "      <td>2016-03-24 10:58:45</td>\n",
       "      <td>18300</td>\n",
       "      <td>coupe</td>\n",
       "      <td>2011</td>\n",
       "      <td>manual</td>\n",
       "      <td>190</td>\n",
       "      <td>NaN</td>\n",
       "      <td>125000</td>\n",
       "      <td>5</td>\n",
       "      <td>gasoline</td>\n",
       "      <td>audi</td>\n",
       "      <td>yes</td>\n",
       "      <td>2016-03-24 00:00:00</td>\n",
       "      <td>0</td>\n",
       "      <td>66954</td>\n",
       "      <td>2016-04-07 01:46:50</td>\n",
       "    </tr>\n",
       "    <tr>\n",
       "      <td>2</td>\n",
       "      <td>2016-03-14 12:52:21</td>\n",
       "      <td>9800</td>\n",
       "      <td>suv</td>\n",
       "      <td>2004</td>\n",
       "      <td>auto</td>\n",
       "      <td>163</td>\n",
       "      <td>grand</td>\n",
       "      <td>125000</td>\n",
       "      <td>8</td>\n",
       "      <td>gasoline</td>\n",
       "      <td>jeep</td>\n",
       "      <td>NaN</td>\n",
       "      <td>2016-03-14 00:00:00</td>\n",
       "      <td>0</td>\n",
       "      <td>90480</td>\n",
       "      <td>2016-04-05 12:47:46</td>\n",
       "    </tr>\n",
       "    <tr>\n",
       "      <td>3</td>\n",
       "      <td>2016-03-17 16:54:04</td>\n",
       "      <td>1500</td>\n",
       "      <td>small</td>\n",
       "      <td>2001</td>\n",
       "      <td>manual</td>\n",
       "      <td>75</td>\n",
       "      <td>golf</td>\n",
       "      <td>150000</td>\n",
       "      <td>6</td>\n",
       "      <td>petrol</td>\n",
       "      <td>volkswagen</td>\n",
       "      <td>no</td>\n",
       "      <td>2016-03-17 00:00:00</td>\n",
       "      <td>0</td>\n",
       "      <td>91074</td>\n",
       "      <td>2016-03-17 17:40:17</td>\n",
       "    </tr>\n",
       "    <tr>\n",
       "      <td>4</td>\n",
       "      <td>2016-03-31 17:25:20</td>\n",
       "      <td>3600</td>\n",
       "      <td>small</td>\n",
       "      <td>2008</td>\n",
       "      <td>manual</td>\n",
       "      <td>69</td>\n",
       "      <td>fabia</td>\n",
       "      <td>90000</td>\n",
       "      <td>7</td>\n",
       "      <td>gasoline</td>\n",
       "      <td>skoda</td>\n",
       "      <td>no</td>\n",
       "      <td>2016-03-31 00:00:00</td>\n",
       "      <td>0</td>\n",
       "      <td>60437</td>\n",
       "      <td>2016-04-06 10:17:21</td>\n",
       "    </tr>\n",
       "  </tbody>\n",
       "</table>\n",
       "</div>"
      ],
      "text/plain": [
       "           DateCrawled  Price VehicleType  RegistrationYear Gearbox  Power  \\\n",
       "0  2016-03-24 11:52:17    480         NaN              1993  manual      0   \n",
       "1  2016-03-24 10:58:45  18300       coupe              2011  manual    190   \n",
       "2  2016-03-14 12:52:21   9800         suv              2004    auto    163   \n",
       "3  2016-03-17 16:54:04   1500       small              2001  manual     75   \n",
       "4  2016-03-31 17:25:20   3600       small              2008  manual     69   \n",
       "\n",
       "   Model  Kilometer  RegistrationMonth  FuelType       Brand NotRepaired  \\\n",
       "0   golf     150000                  0    petrol  volkswagen         NaN   \n",
       "1    NaN     125000                  5  gasoline        audi         yes   \n",
       "2  grand     125000                  8  gasoline        jeep         NaN   \n",
       "3   golf     150000                  6    petrol  volkswagen          no   \n",
       "4  fabia      90000                  7  gasoline       skoda          no   \n",
       "\n",
       "           DateCreated  NumberOfPictures  PostalCode             LastSeen  \n",
       "0  2016-03-24 00:00:00                 0       70435  2016-04-07 03:16:57  \n",
       "1  2016-03-24 00:00:00                 0       66954  2016-04-07 01:46:50  \n",
       "2  2016-03-14 00:00:00                 0       90480  2016-04-05 12:47:46  \n",
       "3  2016-03-17 00:00:00                 0       91074  2016-03-17 17:40:17  \n",
       "4  2016-03-31 00:00:00                 0       60437  2016-04-06 10:17:21  "
      ]
     },
     "execution_count": 5,
     "metadata": {},
     "output_type": "execute_result"
    }
   ],
   "source": [
    "df.head()"
   ]
  },
  {
   "cell_type": "markdown",
   "metadata": {},
   "source": [
    "Видим, что в датасете есть признаки, которые характеризуют транспортное средство, но некоторые также характеризуют и пользователя (дата псоледней активности, индекс) или техинические (дата скачивания анкеты). Не все они необходимы для обучения модели. \n",
    "\n",
    "Дальше изучим столбцы подробнее, и решим какие признаки мы отберем для обучения."
   ]
  },
  {
   "cell_type": "markdown",
   "metadata": {},
   "source": [
    "### Изучения столбцов и проверка данных"
   ]
  },
  {
   "cell_type": "markdown",
   "metadata": {},
   "source": [
    "#### Общие проверки"
   ]
  },
  {
   "cell_type": "markdown",
   "metadata": {},
   "source": [
    "Для начала проверим есть ли дубликаты."
   ]
  },
  {
   "cell_type": "code",
   "execution_count": 6,
   "metadata": {},
   "outputs": [
    {
     "data": {
      "text/html": [
       "<div>\n",
       "<style scoped>\n",
       "    .dataframe tbody tr th:only-of-type {\n",
       "        vertical-align: middle;\n",
       "    }\n",
       "\n",
       "    .dataframe tbody tr th {\n",
       "        vertical-align: top;\n",
       "    }\n",
       "\n",
       "    .dataframe thead th {\n",
       "        text-align: right;\n",
       "    }\n",
       "</style>\n",
       "<table border=\"1\" class=\"dataframe\">\n",
       "  <thead>\n",
       "    <tr style=\"text-align: right;\">\n",
       "      <th></th>\n",
       "      <th>DateCrawled</th>\n",
       "      <th>Price</th>\n",
       "      <th>VehicleType</th>\n",
       "      <th>RegistrationYear</th>\n",
       "      <th>Gearbox</th>\n",
       "      <th>Power</th>\n",
       "      <th>Model</th>\n",
       "      <th>Kilometer</th>\n",
       "      <th>RegistrationMonth</th>\n",
       "      <th>FuelType</th>\n",
       "      <th>Brand</th>\n",
       "      <th>NotRepaired</th>\n",
       "      <th>DateCreated</th>\n",
       "      <th>NumberOfPictures</th>\n",
       "      <th>PostalCode</th>\n",
       "      <th>LastSeen</th>\n",
       "    </tr>\n",
       "  </thead>\n",
       "  <tbody>\n",
       "    <tr>\n",
       "      <td>171088</td>\n",
       "      <td>2016-03-08 18:42:48</td>\n",
       "      <td>1799</td>\n",
       "      <td>coupe</td>\n",
       "      <td>1999</td>\n",
       "      <td>auto</td>\n",
       "      <td>193</td>\n",
       "      <td>clk</td>\n",
       "      <td>20000</td>\n",
       "      <td>7</td>\n",
       "      <td>petrol</td>\n",
       "      <td>mercedes_benz</td>\n",
       "      <td>no</td>\n",
       "      <td>2016-03-08 00:00:00</td>\n",
       "      <td>0</td>\n",
       "      <td>89518</td>\n",
       "      <td>2016-03-09 09:46:57</td>\n",
       "    </tr>\n",
       "    <tr>\n",
       "      <td>231258</td>\n",
       "      <td>2016-03-28 00:56:10</td>\n",
       "      <td>1000</td>\n",
       "      <td>small</td>\n",
       "      <td>2002</td>\n",
       "      <td>manual</td>\n",
       "      <td>83</td>\n",
       "      <td>other</td>\n",
       "      <td>150000</td>\n",
       "      <td>1</td>\n",
       "      <td>petrol</td>\n",
       "      <td>suzuki</td>\n",
       "      <td>no</td>\n",
       "      <td>2016-03-28 00:00:00</td>\n",
       "      <td>0</td>\n",
       "      <td>66589</td>\n",
       "      <td>2016-03-28 08:46:21</td>\n",
       "    </tr>\n",
       "    <tr>\n",
       "      <td>258109</td>\n",
       "      <td>2016-04-03 09:01:15</td>\n",
       "      <td>4699</td>\n",
       "      <td>coupe</td>\n",
       "      <td>2003</td>\n",
       "      <td>auto</td>\n",
       "      <td>218</td>\n",
       "      <td>clk</td>\n",
       "      <td>125000</td>\n",
       "      <td>6</td>\n",
       "      <td>petrol</td>\n",
       "      <td>mercedes_benz</td>\n",
       "      <td>yes</td>\n",
       "      <td>2016-04-03 00:00:00</td>\n",
       "      <td>0</td>\n",
       "      <td>75196</td>\n",
       "      <td>2016-04-07 09:44:54</td>\n",
       "    </tr>\n",
       "    <tr>\n",
       "      <td>325651</td>\n",
       "      <td>2016-03-18 18:46:15</td>\n",
       "      <td>1999</td>\n",
       "      <td>wagon</td>\n",
       "      <td>2001</td>\n",
       "      <td>manual</td>\n",
       "      <td>131</td>\n",
       "      <td>passat</td>\n",
       "      <td>150000</td>\n",
       "      <td>7</td>\n",
       "      <td>gasoline</td>\n",
       "      <td>volkswagen</td>\n",
       "      <td>no</td>\n",
       "      <td>2016-03-18 00:00:00</td>\n",
       "      <td>0</td>\n",
       "      <td>36391</td>\n",
       "      <td>2016-03-18 18:46:15</td>\n",
       "    </tr>\n",
       "  </tbody>\n",
       "</table>\n",
       "</div>"
      ],
      "text/plain": [
       "                DateCrawled  Price VehicleType  RegistrationYear Gearbox  \\\n",
       "171088  2016-03-08 18:42:48   1799       coupe              1999    auto   \n",
       "231258  2016-03-28 00:56:10   1000       small              2002  manual   \n",
       "258109  2016-04-03 09:01:15   4699       coupe              2003    auto   \n",
       "325651  2016-03-18 18:46:15   1999       wagon              2001  manual   \n",
       "\n",
       "        Power   Model  Kilometer  RegistrationMonth  FuelType          Brand  \\\n",
       "171088    193     clk      20000                  7    petrol  mercedes_benz   \n",
       "231258     83   other     150000                  1    petrol         suzuki   \n",
       "258109    218     clk     125000                  6    petrol  mercedes_benz   \n",
       "325651    131  passat     150000                  7  gasoline     volkswagen   \n",
       "\n",
       "       NotRepaired          DateCreated  NumberOfPictures  PostalCode  \\\n",
       "171088          no  2016-03-08 00:00:00                 0       89518   \n",
       "231258          no  2016-03-28 00:00:00                 0       66589   \n",
       "258109         yes  2016-04-03 00:00:00                 0       75196   \n",
       "325651          no  2016-03-18 00:00:00                 0       36391   \n",
       "\n",
       "                   LastSeen  \n",
       "171088  2016-03-09 09:46:57  \n",
       "231258  2016-03-28 08:46:21  \n",
       "258109  2016-04-07 09:44:54  \n",
       "325651  2016-03-18 18:46:15  "
      ]
     },
     "execution_count": 6,
     "metadata": {},
     "output_type": "execute_result"
    }
   ],
   "source": [
    "df[df.duplicated()]"
   ]
  },
  {
   "cell_type": "markdown",
   "metadata": {},
   "source": [
    "Мы нашли строки, которые полностью дублируют друг друга. Несмотря на то, то у нас нет столбца четкого идентификатора пользавателя или объявления - у нас есть дата загрузки анкеты, месяц и год регистрации автомобиля, индекс и др. И вряд ли у нас нашлось бы у одного пользователя 2 абсолютно одинаковых автомобиля с идентичным пробегом. Или даже 2 разных пользователя, у которых оказались такие идентичные автосредства. Скорее всего это ошибка загрузки данных, запись попала дважды.\n",
    "\n",
    "Удалим данные дубликаты."
   ]
  },
  {
   "cell_type": "code",
   "execution_count": 7,
   "metadata": {},
   "outputs": [],
   "source": [
    "df.drop_duplicates(inplace=True)"
   ]
  },
  {
   "cell_type": "code",
   "execution_count": 8,
   "metadata": {
    "scrolled": true
   },
   "outputs": [
    {
     "data": {
      "text/plain": [
       "(354365, 16)"
      ]
     },
     "execution_count": 8,
     "metadata": {},
     "output_type": "execute_result"
    }
   ],
   "source": [
    "df.shape"
   ]
  },
  {
   "cell_type": "markdown",
   "metadata": {},
   "source": [
    "Дубликаты удалились.\n",
    "\n",
    "Теперь посмотрим на столбцы DateCrawled - дата скачивания анкеты из базы, DateCreated — дата создания анкеты, PostalCode — почтовый индекс владельца анкеты (пользователя), LastSeen — дата последней активности пользователя. Все эти столбцы характеризуют скорее технические данные или личные данные пользователей.\n"
   ]
  },
  {
   "cell_type": "code",
   "execution_count": 9,
   "metadata": {},
   "outputs": [
    {
     "data": {
      "text/plain": [
       "('2016-03-05 14:06:22', '2016-04-07 14:36:58')"
      ]
     },
     "execution_count": 9,
     "metadata": {},
     "output_type": "execute_result"
    }
   ],
   "source": [
    "df['DateCrawled'].min(), df['DateCrawled'].max()"
   ]
  },
  {
   "cell_type": "code",
   "execution_count": 10,
   "metadata": {},
   "outputs": [
    {
     "data": {
      "text/plain": [
       "('2014-03-10 00:00:00', '2016-04-07 00:00:00')"
      ]
     },
     "execution_count": 10,
     "metadata": {},
     "output_type": "execute_result"
    }
   ],
   "source": [
    "df['DateCreated'].min(), df['DateCreated'].max()"
   ]
  },
  {
   "cell_type": "code",
   "execution_count": 11,
   "metadata": {},
   "outputs": [
    {
     "data": {
      "text/plain": [
       "array([70435, 66954, 90480, ..., 38528, 38325, 31096])"
      ]
     },
     "execution_count": 11,
     "metadata": {},
     "output_type": "execute_result"
    }
   ],
   "source": [
    "df['PostalCode'].unique()"
   ]
  },
  {
   "cell_type": "code",
   "execution_count": 12,
   "metadata": {},
   "outputs": [
    {
     "data": {
      "text/plain": [
       "('2016-03-05 14:15:08', '2016-04-07 14:58:51')"
      ]
     },
     "execution_count": 12,
     "metadata": {},
     "output_type": "execute_result"
    }
   ],
   "source": [
    "df['LastSeen'].min(), df['LastSeen'].max()"
   ]
  },
  {
   "cell_type": "markdown",
   "metadata": {},
   "source": [
    "Действительно видим, что это технические поля. Скачивались анкеты в 2016 году, пользователи были активны также в 2016, а регистрировались с 2014 по 2016. Индексы разнообразные, была идея попробовать по ним идентифиццировать страну, но при первом же поиске примера индекса 70435, стало понятно что он повторяется в разных странах. Поэтому эта информация скорее бесполезная и мы не будем брать ее для обучения модели."
   ]
  },
  {
   "cell_type": "code",
   "execution_count": 13,
   "metadata": {},
   "outputs": [
    {
     "name": "stdout",
     "output_type": "stream",
     "text": [
      "<class 'pandas.core.frame.DataFrame'>\n",
      "Int64Index: 354365 entries, 0 to 354368\n",
      "Data columns (total 12 columns):\n",
      "Price                354365 non-null int64\n",
      "VehicleType          316875 non-null object\n",
      "RegistrationYear     354365 non-null int64\n",
      "Gearbox              334532 non-null object\n",
      "Power                354365 non-null int64\n",
      "Model                334660 non-null object\n",
      "Kilometer            354365 non-null int64\n",
      "RegistrationMonth    354365 non-null int64\n",
      "FuelType             321470 non-null object\n",
      "Brand                354365 non-null object\n",
      "NotRepaired          283211 non-null object\n",
      "NumberOfPictures     354365 non-null int64\n",
      "dtypes: int64(6), object(6)\n",
      "memory usage: 35.1+ MB\n"
     ]
    }
   ],
   "source": [
    "df.drop(columns=['DateCrawled','DateCreated','PostalCode','LastSeen'], axis=1, inplace=True)\n",
    "\n",
    "df.info()"
   ]
  },
  {
   "cell_type": "markdown",
   "metadata": {},
   "source": [
    "#### Числовые столбцы"
   ]
  },
  {
   "cell_type": "markdown",
   "metadata": {},
   "source": [
    "Теперь посмотрим на числовые столбцы. Посмотрим на их характеристики и графики распределения."
   ]
  },
  {
   "cell_type": "code",
   "execution_count": 14,
   "metadata": {},
   "outputs": [
    {
     "data": {
      "text/html": [
       "<div>\n",
       "<style scoped>\n",
       "    .dataframe tbody tr th:only-of-type {\n",
       "        vertical-align: middle;\n",
       "    }\n",
       "\n",
       "    .dataframe tbody tr th {\n",
       "        vertical-align: top;\n",
       "    }\n",
       "\n",
       "    .dataframe thead th {\n",
       "        text-align: right;\n",
       "    }\n",
       "</style>\n",
       "<table border=\"1\" class=\"dataframe\">\n",
       "  <thead>\n",
       "    <tr style=\"text-align: right;\">\n",
       "      <th></th>\n",
       "      <th>count</th>\n",
       "      <th>mean</th>\n",
       "      <th>std</th>\n",
       "      <th>min</th>\n",
       "      <th>25%</th>\n",
       "      <th>50%</th>\n",
       "      <th>75%</th>\n",
       "      <th>max</th>\n",
       "    </tr>\n",
       "  </thead>\n",
       "  <tbody>\n",
       "    <tr>\n",
       "      <td>Price</td>\n",
       "      <td>354365.0</td>\n",
       "      <td>4416.679830</td>\n",
       "      <td>4514.176349</td>\n",
       "      <td>0.0</td>\n",
       "      <td>1050.0</td>\n",
       "      <td>2700.0</td>\n",
       "      <td>6400.0</td>\n",
       "      <td>20000.0</td>\n",
       "    </tr>\n",
       "    <tr>\n",
       "      <td>RegistrationYear</td>\n",
       "      <td>354365.0</td>\n",
       "      <td>2004.234481</td>\n",
       "      <td>90.228466</td>\n",
       "      <td>1000.0</td>\n",
       "      <td>1999.0</td>\n",
       "      <td>2003.0</td>\n",
       "      <td>2008.0</td>\n",
       "      <td>9999.0</td>\n",
       "    </tr>\n",
       "    <tr>\n",
       "      <td>Power</td>\n",
       "      <td>354365.0</td>\n",
       "      <td>110.093816</td>\n",
       "      <td>189.851330</td>\n",
       "      <td>0.0</td>\n",
       "      <td>69.0</td>\n",
       "      <td>105.0</td>\n",
       "      <td>143.0</td>\n",
       "      <td>20000.0</td>\n",
       "    </tr>\n",
       "    <tr>\n",
       "      <td>Kilometer</td>\n",
       "      <td>354365.0</td>\n",
       "      <td>128211.363989</td>\n",
       "      <td>37905.083858</td>\n",
       "      <td>5000.0</td>\n",
       "      <td>125000.0</td>\n",
       "      <td>150000.0</td>\n",
       "      <td>150000.0</td>\n",
       "      <td>150000.0</td>\n",
       "    </tr>\n",
       "    <tr>\n",
       "      <td>RegistrationMonth</td>\n",
       "      <td>354365.0</td>\n",
       "      <td>5.714650</td>\n",
       "      <td>3.726432</td>\n",
       "      <td>0.0</td>\n",
       "      <td>3.0</td>\n",
       "      <td>6.0</td>\n",
       "      <td>9.0</td>\n",
       "      <td>12.0</td>\n",
       "    </tr>\n",
       "    <tr>\n",
       "      <td>NumberOfPictures</td>\n",
       "      <td>354365.0</td>\n",
       "      <td>0.000000</td>\n",
       "      <td>0.000000</td>\n",
       "      <td>0.0</td>\n",
       "      <td>0.0</td>\n",
       "      <td>0.0</td>\n",
       "      <td>0.0</td>\n",
       "      <td>0.0</td>\n",
       "    </tr>\n",
       "  </tbody>\n",
       "</table>\n",
       "</div>"
      ],
      "text/plain": [
       "                      count           mean           std     min       25%  \\\n",
       "Price              354365.0    4416.679830   4514.176349     0.0    1050.0   \n",
       "RegistrationYear   354365.0    2004.234481     90.228466  1000.0    1999.0   \n",
       "Power              354365.0     110.093816    189.851330     0.0      69.0   \n",
       "Kilometer          354365.0  128211.363989  37905.083858  5000.0  125000.0   \n",
       "RegistrationMonth  354365.0       5.714650      3.726432     0.0       3.0   \n",
       "NumberOfPictures   354365.0       0.000000      0.000000     0.0       0.0   \n",
       "\n",
       "                        50%       75%       max  \n",
       "Price                2700.0    6400.0   20000.0  \n",
       "RegistrationYear     2003.0    2008.0    9999.0  \n",
       "Power                 105.0     143.0   20000.0  \n",
       "Kilometer          150000.0  150000.0  150000.0  \n",
       "RegistrationMonth       6.0       9.0      12.0  \n",
       "NumberOfPictures        0.0       0.0       0.0  "
      ]
     },
     "execution_count": 14,
     "metadata": {},
     "output_type": "execute_result"
    }
   ],
   "source": [
    "df.describe().T"
   ]
  },
  {
   "cell_type": "markdown",
   "metadata": {},
   "source": [
    "Сразу видим, что столбец с <b>количеством фотографий</b> оказался бесполезный. В нем все значения равны 0. \n",
    "\n",
    "Его тоже нужно будет удалить."
   ]
  },
  {
   "cell_type": "code",
   "execution_count": 15,
   "metadata": {},
   "outputs": [
    {
     "name": "stdout",
     "output_type": "stream",
     "text": [
      "<class 'pandas.core.frame.DataFrame'>\n",
      "Int64Index: 354365 entries, 0 to 354368\n",
      "Data columns (total 11 columns):\n",
      "Price                354365 non-null int64\n",
      "VehicleType          316875 non-null object\n",
      "RegistrationYear     354365 non-null int64\n",
      "Gearbox              334532 non-null object\n",
      "Power                354365 non-null int64\n",
      "Model                334660 non-null object\n",
      "Kilometer            354365 non-null int64\n",
      "RegistrationMonth    354365 non-null int64\n",
      "FuelType             321470 non-null object\n",
      "Brand                354365 non-null object\n",
      "NotRepaired          283211 non-null object\n",
      "dtypes: int64(5), object(6)\n",
      "memory usage: 32.4+ MB\n"
     ]
    }
   ],
   "source": [
    "df.drop(columns=['NumberOfPictures'], axis=1, inplace=True)\n",
    "\n",
    "df.info()"
   ]
  },
  {
   "cell_type": "markdown",
   "metadata": {},
   "source": [
    "Также столбец с <b>месяцем регистрации</b> выглядит простым и без ошибок. Посмотри на распределение значений."
   ]
  },
  {
   "cell_type": "code",
   "execution_count": 16,
   "metadata": {},
   "outputs": [
    {
     "data": {
      "text/plain": [
       "0     37352\n",
       "3     34373\n",
       "6     31507\n",
       "4     29270\n",
       "5     29153\n",
       "7     27211\n",
       "10    26099\n",
       "12    24289\n",
       "11    24186\n",
       "9     23813\n",
       "1     23218\n",
       "8     22627\n",
       "2     21267\n",
       "Name: RegistrationMonth, dtype: int64"
      ]
     },
     "execution_count": 16,
     "metadata": {},
     "output_type": "execute_result"
    }
   ],
   "source": [
    "df['RegistrationMonth'].value_counts()"
   ]
  },
  {
   "cell_type": "markdown",
   "metadata": {},
   "source": [
    "Видим, что все-таки есть значение, где он не указан. Вероятно люди, заполняя анкету, не всегда помнят его. Это большая часть данных - около 10%. Оставим его как есть, вероятно при использовании приложения в будущем. Такие ситуации будут повторяться и нам нужно будет предсказывать цену и в таких случаях тоже."
   ]
  },
  {
   "cell_type": "markdown",
   "metadata": {},
   "source": [
    "Теперь посмотрим на <b>Цену</b>, целевой признак."
   ]
  },
  {
   "cell_type": "code",
   "execution_count": 17,
   "metadata": {},
   "outputs": [
    {
     "data": {
      "image/png": "[encoded data removed]",
      "text/plain": [
       "<Figure size 432x288 with 1 Axes>"
      ]
     },
     "metadata": {
      "needs_background": "light"
     },
     "output_type": "display_data"
    }
   ],
   "source": [
    "plt.title(\"Целевой признак - Цена, евро\", fontweight='bold', size='medium')\n",
    "plt.ylabel(\"Частота, шт\")\n",
    "sns.distplot(a=df['Price'], kde=False, rug=False, axlabel=\"Цена, евро\")\n",
    "plt.show()"
   ]
  },
  {
   "cell_type": "markdown",
   "metadata": {},
   "source": [
    "У целевого признака нет неожиданных выбросов и необычных значений, это хорошо. Видно, что чем дороже объявление, тем таких объявлений меньше. Это правдоподобно. Посмотрим также отдельно на пик около 0."
   ]
  },
  {
   "cell_type": "code",
   "execution_count": 18,
   "metadata": {},
   "outputs": [
    {
     "data": {
      "image/png": "[encoded data removed]",
      "text/plain": [
       "<Figure size 432x288 with 1 Axes>"
      ]
     },
     "metadata": {
      "needs_background": "light"
     },
     "output_type": "display_data"
    }
   ],
   "source": [
    "plt.title(\"Целевой признак - Цена меньше 100 евро\", fontweight='bold', size='medium')\n",
    "plt.ylabel(\"Частота, шт\")\n",
    "sns.distplot(a=df.query('Price < 100')['Price'], kde=False, rug=False, axlabel=\"Цена, евро\")\n",
    "plt.show()"
   ]
  },
  {
   "cell_type": "code",
   "execution_count": 19,
   "metadata": {},
   "outputs": [
    {
     "data": {
      "text/plain": [
       "Price                10772\n",
       "VehicleType           7032\n",
       "RegistrationYear     10772\n",
       "Gearbox               8294\n",
       "Power                10772\n",
       "Model                 8588\n",
       "Kilometer            10772\n",
       "RegistrationMonth    10772\n",
       "FuelType              7336\n",
       "Brand                10772\n",
       "NotRepaired           5484\n",
       "dtype: int64"
      ]
     },
     "execution_count": 19,
     "metadata": {},
     "output_type": "execute_result"
    }
   ],
   "source": [
    "df[df['Price'] == 0].count()"
   ]
  },
  {
   "cell_type": "code",
   "execution_count": 20,
   "metadata": {},
   "outputs": [
    {
     "data": {
      "text/html": [
       "<div>\n",
       "<style scoped>\n",
       "    .dataframe tbody tr th:only-of-type {\n",
       "        vertical-align: middle;\n",
       "    }\n",
       "\n",
       "    .dataframe tbody tr th {\n",
       "        vertical-align: top;\n",
       "    }\n",
       "\n",
       "    .dataframe thead th {\n",
       "        text-align: right;\n",
       "    }\n",
       "</style>\n",
       "<table border=\"1\" class=\"dataframe\">\n",
       "  <thead>\n",
       "    <tr style=\"text-align: right;\">\n",
       "      <th></th>\n",
       "      <th>Price</th>\n",
       "      <th>VehicleType</th>\n",
       "      <th>RegistrationYear</th>\n",
       "      <th>Gearbox</th>\n",
       "      <th>Power</th>\n",
       "      <th>Model</th>\n",
       "      <th>Kilometer</th>\n",
       "      <th>RegistrationMonth</th>\n",
       "      <th>FuelType</th>\n",
       "      <th>Brand</th>\n",
       "      <th>NotRepaired</th>\n",
       "    </tr>\n",
       "  </thead>\n",
       "  <tbody>\n",
       "    <tr>\n",
       "      <td>7</td>\n",
       "      <td>0</td>\n",
       "      <td>sedan</td>\n",
       "      <td>1980</td>\n",
       "      <td>manual</td>\n",
       "      <td>50</td>\n",
       "      <td>other</td>\n",
       "      <td>40000</td>\n",
       "      <td>7</td>\n",
       "      <td>petrol</td>\n",
       "      <td>volkswagen</td>\n",
       "      <td>no</td>\n",
       "    </tr>\n",
       "    <tr>\n",
       "      <td>40</td>\n",
       "      <td>0</td>\n",
       "      <td>NaN</td>\n",
       "      <td>1990</td>\n",
       "      <td>NaN</td>\n",
       "      <td>0</td>\n",
       "      <td>corsa</td>\n",
       "      <td>150000</td>\n",
       "      <td>1</td>\n",
       "      <td>petrol</td>\n",
       "      <td>opel</td>\n",
       "      <td>NaN</td>\n",
       "    </tr>\n",
       "    <tr>\n",
       "      <td>111</td>\n",
       "      <td>0</td>\n",
       "      <td>NaN</td>\n",
       "      <td>2017</td>\n",
       "      <td>manual</td>\n",
       "      <td>0</td>\n",
       "      <td>golf</td>\n",
       "      <td>5000</td>\n",
       "      <td>12</td>\n",
       "      <td>petrol</td>\n",
       "      <td>volkswagen</td>\n",
       "      <td>NaN</td>\n",
       "    </tr>\n",
       "    <tr>\n",
       "      <td>115</td>\n",
       "      <td>0</td>\n",
       "      <td>small</td>\n",
       "      <td>1999</td>\n",
       "      <td>NaN</td>\n",
       "      <td>0</td>\n",
       "      <td>NaN</td>\n",
       "      <td>5000</td>\n",
       "      <td>0</td>\n",
       "      <td>petrol</td>\n",
       "      <td>volkswagen</td>\n",
       "      <td>NaN</td>\n",
       "    </tr>\n",
       "    <tr>\n",
       "      <td>152</td>\n",
       "      <td>0</td>\n",
       "      <td>bus</td>\n",
       "      <td>2004</td>\n",
       "      <td>manual</td>\n",
       "      <td>101</td>\n",
       "      <td>meriva</td>\n",
       "      <td>150000</td>\n",
       "      <td>10</td>\n",
       "      <td>lpg</td>\n",
       "      <td>opel</td>\n",
       "      <td>yes</td>\n",
       "    </tr>\n",
       "  </tbody>\n",
       "</table>\n",
       "</div>"
      ],
      "text/plain": [
       "     Price VehicleType  RegistrationYear Gearbox  Power   Model  Kilometer  \\\n",
       "7        0       sedan              1980  manual     50   other      40000   \n",
       "40       0         NaN              1990     NaN      0   corsa     150000   \n",
       "111      0         NaN              2017  manual      0    golf       5000   \n",
       "115      0       small              1999     NaN      0     NaN       5000   \n",
       "152      0         bus              2004  manual    101  meriva     150000   \n",
       "\n",
       "     RegistrationMonth FuelType       Brand NotRepaired  \n",
       "7                    7   petrol  volkswagen          no  \n",
       "40                   1   petrol        opel         NaN  \n",
       "111                 12   petrol  volkswagen         NaN  \n",
       "115                  0   petrol  volkswagen         NaN  \n",
       "152                 10      lpg        opel         yes  "
      ]
     },
     "execution_count": 20,
     "metadata": {},
     "output_type": "execute_result"
    }
   ],
   "source": [
    "df[df['Price'] == 0].head()"
   ]
  },
  {
   "cell_type": "markdown",
   "metadata": {},
   "source": [
    "Видим, что нулевых значений много, но при этом параметры машины не выглядят так, что владелец готов отдать ее бесплатно. Возможно эти значения как раз появились из-за того, что он не понимает какую цену ставить и оставляет 0, чтобы посмотреть что ему предложат покупатели.\n",
    "\n",
    "Принашем работающем приложении и модели такие ситуации уменьшатся, так как мы по умолчанию будем предлагать цену.\n",
    "\n",
    "Для обучения же модели уберем эти данные."
   ]
  },
  {
   "cell_type": "code",
   "execution_count": 21,
   "metadata": {},
   "outputs": [],
   "source": [
    "df.drop(df[df['Price'] == 0].index, inplace=True)"
   ]
  },
  {
   "cell_type": "markdown",
   "metadata": {},
   "source": [
    "Если смотреть на следующий признак - <b>Год регистрации</b>, то из таблицы с характеристиками видим в минимуме и максимуме неправдоподобные значения - 1000 и 9999. \n",
    "\n",
    "Очевидно, что раз данные мы выгружали в 2016 году, то года больше 2016 - это ошибки. Автомобиль изобрели в 1886, а первое производство автомобилей было основано в 1888. Это возможно, что люди могут продавать раритетные машины, но машины выпущенные до 1888 года - это явно ошибка. Посмотрим на эти строки. И распределение остальных данных без них."
   ]
  },
  {
   "cell_type": "code",
   "execution_count": 22,
   "metadata": {},
   "outputs": [
    {
     "data": {
      "text/plain": [
       "Price                13832\n",
       "VehicleType             19\n",
       "RegistrationYear     13832\n",
       "Gearbox              12079\n",
       "Power                13832\n",
       "Model                11948\n",
       "Kilometer            13832\n",
       "RegistrationMonth    13832\n",
       "FuelType              8548\n",
       "Brand                13832\n",
       "NotRepaired           7848\n",
       "dtype: int64"
      ]
     },
     "execution_count": 22,
     "metadata": {},
     "output_type": "execute_result"
    }
   ],
   "source": [
    "df.query('RegistrationYear > 2016 or RegistrationYear < 1888').count()"
   ]
  },
  {
   "cell_type": "code",
   "execution_count": 23,
   "metadata": {
    "scrolled": true
   },
   "outputs": [
    {
     "data": {
      "text/plain": [
       "array([2018, 2017, 5000, 3200, 1000, 9999, 8888, 1500, 2200, 4100, 3000,\n",
       "       2066, 2019, 1800, 1234, 8000, 5300, 9000, 2900, 6000, 5900, 5911,\n",
       "       1400, 4000, 8500, 1255, 3700, 3800, 4800, 7000, 6500, 2290, 1001,\n",
       "       9450, 2500, 5555, 5600, 1600, 1111, 2222, 1039, 1300, 2800, 4500,\n",
       "       1602, 7800, 7100, 8200])"
      ]
     },
     "execution_count": 23,
     "metadata": {},
     "output_type": "execute_result"
    }
   ],
   "source": [
    "df.query('RegistrationYear > 2016 or RegistrationYear < 1888')['RegistrationYear'].unique()"
   ]
  },
  {
   "cell_type": "markdown",
   "metadata": {},
   "source": [
    "Тут явно выделяются значение 2017 и 2018. Эти года, которые находятся на временной прямой рядом. Остальные же года больше походят на ошибки, а не реальные года. посмотрим на количества значений по этим ошибкам."
   ]
  },
  {
   "cell_type": "code",
   "execution_count": 24,
   "metadata": {
    "scrolled": true
   },
   "outputs": [
    {
     "data": {
      "text/plain": [
       "2017    9895\n",
       "2018    3782\n",
       "1000      31\n",
       "9999      18\n",
       "2019      16\n",
       "5000      16\n",
       "3000       6\n",
       "6000       5\n",
       "1800       5\n",
       "1234       4\n",
       "7000       4\n",
       "2500       3\n",
       "4000       3\n",
       "1500       3\n",
       "1600       2\n",
       "4500       2\n",
       "8000       2\n",
       "5911       2\n",
       "9000       2\n",
       "1300       2\n",
       "5555       2\n",
       "3800       1\n",
       "3200       1\n",
       "5600       1\n",
       "2800       1\n",
       "4800       1\n",
       "2200       1\n",
       "1400       1\n",
       "1001       1\n",
       "1255       1\n",
       "1602       1\n",
       "2066       1\n",
       "1039       1\n",
       "7100       1\n",
       "6500       1\n",
       "2222       1\n",
       "5900       1\n",
       "9450       1\n",
       "5300       1\n",
       "4100       1\n",
       "3700       1\n",
       "2900       1\n",
       "8888       1\n",
       "8200       1\n",
       "7800       1\n",
       "1111       1\n",
       "2290       1\n",
       "8500       1\n",
       "Name: RegistrationYear, dtype: int64"
      ]
     },
     "execution_count": 24,
     "metadata": {},
     "output_type": "execute_result"
    }
   ],
   "source": [
    "df.query('RegistrationYear > 2016 or RegistrationYear < 1888')['RegistrationYear'].value_counts()"
   ]
  },
  {
   "cell_type": "markdown",
   "metadata": {},
   "source": [
    "Действительно ошибка с 2017 и 2018 сильно распространенна. А другие не очень. Вероятно с 2000 годами люди случайно ошибались. Важно, что для корректной работы модели и приложения в будущем мы не сможем при таких ошибках предсказывать цену правильно. Поэтому необходимо не допустить вводить такие данные. Необходимо будет поставть заглушку на ввод неправильных значений. К примеру, выдавать ошибку при вводе года до 1888 и после текущего года.\n",
    "\n",
    "\n",
    "А теперь удалим неправдаподобные значения."
   ]
  },
  {
   "cell_type": "code",
   "execution_count": 25,
   "metadata": {},
   "outputs": [],
   "source": [
    "df.drop(df[df['RegistrationYear'] > 2016].index, inplace=True)\n",
    "df.drop(df[df['RegistrationYear'] < 1888].index, inplace=True)"
   ]
  },
  {
   "cell_type": "code",
   "execution_count": 26,
   "metadata": {},
   "outputs": [
    {
     "name": "stdout",
     "output_type": "stream",
     "text": [
      "<class 'pandas.core.frame.DataFrame'>\n",
      "Int64Index: 329761 entries, 0 to 354368\n",
      "Data columns (total 11 columns):\n",
      "Price                329761 non-null int64\n",
      "VehicleType          309824 non-null object\n",
      "RegistrationYear     329761 non-null int64\n",
      "Gearbox              314159 non-null object\n",
      "Power                329761 non-null int64\n",
      "Model                314124 non-null object\n",
      "Kilometer            329761 non-null int64\n",
      "RegistrationMonth    329761 non-null int64\n",
      "FuelType             305586 non-null object\n",
      "Brand                329761 non-null object\n",
      "NotRepaired          269879 non-null object\n",
      "dtypes: int64(5), object(6)\n",
      "memory usage: 30.2+ MB\n"
     ]
    }
   ],
   "source": [
    "df.info()"
   ]
  },
  {
   "cell_type": "markdown",
   "metadata": {},
   "source": [
    "Посмотрим на оставщиеся данные с корректным годом 1888 - 2016."
   ]
  },
  {
   "cell_type": "code",
   "execution_count": 27,
   "metadata": {},
   "outputs": [
    {
     "data": {
      "image/png": "[encoded data removed]",
      "text/plain": [
       "<Figure size 432x288 with 1 Axes>"
      ]
     },
     "metadata": {
      "needs_background": "light"
     },
     "output_type": "display_data"
    }
   ],
   "source": [
    "plt.title(\"Год регистрации, года 1888 - 2016\", fontweight='bold', size='medium')\n",
    "plt.ylabel(\"Частота, шт\")\n",
    "sns.distplot(a=df.query(\n",
    "    'RegistrationYear <= 2016 and RegistrationYear >= 1888'\n",
    ")['RegistrationYear'], kde=False, rug=False, axlabel=\"Год регистрации автомобиля\")\n",
    "plt.show()"
   ]
  },
  {
   "cell_type": "markdown",
   "metadata": {},
   "source": [
    "Теперь данные выглядят правдоподобно. "
   ]
  },
  {
   "cell_type": "markdown",
   "metadata": {},
   "source": [
    "Посмотрим на <b>Пробег</b>."
   ]
  },
  {
   "cell_type": "code",
   "execution_count": 28,
   "metadata": {},
   "outputs": [
    {
     "data": {
      "image/png": "[encoded data removed]",
      "text/plain": [
       "<Figure size 432x288 with 1 Axes>"
      ]
     },
     "metadata": {
      "needs_background": "light"
     },
     "output_type": "display_data"
    }
   ],
   "source": [
    "plt.title(\"Пробег, км\", fontweight='bold', size='medium')\n",
    "plt.ylabel(\"Частота, шт\")\n",
    "sns.distplot(a=df['Kilometer'], kde=False, rug=False, axlabel=\"Пробег, км\")\n",
    "plt.show()"
   ]
  },
  {
   "cell_type": "markdown",
   "metadata": {},
   "source": [
    "Видим, что значения распределены только в нескольких точках. Скорее всего это примерный пробег и было всего несколько вариантов выбора этого показателя. Проверим это ниже. Но распределение это выглядит правдоподобно, так как у большинства поддержанных машин большой пробег."
   ]
  },
  {
   "cell_type": "code",
   "execution_count": 29,
   "metadata": {},
   "outputs": [
    {
     "data": {
      "text/plain": [
       "150000    220503\n",
       "125000     34410\n",
       "100000     14007\n",
       "90000      11036\n",
       "80000       9612\n",
       "70000       8270\n",
       "60000       7213\n",
       "50000       5991\n",
       "5000        4973\n",
       "40000       4763\n",
       "30000       4221\n",
       "20000       3688\n",
       "10000       1074\n",
       "Name: Kilometer, dtype: int64"
      ]
     },
     "execution_count": 29,
     "metadata": {},
     "output_type": "execute_result"
    }
   ],
   "source": [
    "df['Kilometer'].value_counts()"
   ]
  },
  {
   "cell_type": "markdown",
   "metadata": {},
   "source": [
    "Действительно, всего несколько примерных вариантов. Этот столбец оставляем как есть."
   ]
  },
  {
   "cell_type": "markdown",
   "metadata": {},
   "source": [
    "Теперь посмотрим на <b>Мощность</b>. По характеристикам видим, что есть аномальные большие значения. А именно, если проверить текущие достижения в машиностроении, то машины с мощностью более 1000 л.с. - сильная редкость. А средняя - около 100. Посмотрим на них в нашем наборе данных."
   ]
  },
  {
   "cell_type": "code",
   "execution_count": 30,
   "metadata": {},
   "outputs": [
    {
     "data": {
      "text/plain": [
       "Price                262\n",
       "VehicleType          245\n",
       "RegistrationYear     262\n",
       "Gearbox              251\n",
       "Power                262\n",
       "Model                234\n",
       "Kilometer            262\n",
       "RegistrationMonth    262\n",
       "FuelType             220\n",
       "Brand                262\n",
       "NotRepaired          168\n",
       "dtype: int64"
      ]
     },
     "execution_count": 30,
     "metadata": {},
     "output_type": "execute_result"
    }
   ],
   "source": [
    "df.query('Power > 1000').count()"
   ]
  },
  {
   "cell_type": "markdown",
   "metadata": {},
   "source": [
    "Таких строк всего 302, посмотрим на распределение."
   ]
  },
  {
   "cell_type": "code",
   "execution_count": 31,
   "metadata": {},
   "outputs": [
    {
     "data": {
      "image/png": "[encoded data removed]",
      "text/plain": [
       "<Figure size 432x288 with 1 Axes>"
      ]
     },
     "metadata": {
      "needs_background": "light"
     },
     "output_type": "display_data"
    }
   ],
   "source": [
    "plt.title(\"Мощность больше 1000 л. с.\", fontweight='bold', size='medium')\n",
    "plt.ylabel(\"Частота, шт\")\n",
    "sns.distplot(a=df.query('Power >= 1000')['Power'], kde=False, rug=False, axlabel=\"Мощность, л. с.\")\n",
    "plt.show()"
   ]
  },
  {
   "cell_type": "markdown",
   "metadata": {},
   "source": [
    "Возможно для некоторых случаев ошибка заключается в лишнем 0. Но мы также видим и значения около 200 тыс, у них ошибка заключается в другом. Так как таких случаев немного, то удалим их. Но для корректной работы приложения в будущем, необходимо установить заглушку-подсказку на ввод данного параметра. Нужно ограничить его максимальной мощностью."
   ]
  },
  {
   "cell_type": "code",
   "execution_count": 32,
   "metadata": {},
   "outputs": [],
   "source": [
    "df.drop(df[df['Power'] >= 1000].index, inplace=True)"
   ]
  },
  {
   "cell_type": "code",
   "execution_count": 33,
   "metadata": {
    "scrolled": true
   },
   "outputs": [
    {
     "name": "stdout",
     "output_type": "stream",
     "text": [
      "<class 'pandas.core.frame.DataFrame'>\n",
      "Int64Index: 329495 entries, 0 to 354368\n",
      "Data columns (total 11 columns):\n",
      "Price                329495 non-null int64\n",
      "VehicleType          309575 non-null object\n",
      "RegistrationYear     329495 non-null int64\n",
      "Gearbox              313904 non-null object\n",
      "Power                329495 non-null int64\n",
      "Model                313886 non-null object\n",
      "Kilometer            329495 non-null int64\n",
      "RegistrationMonth    329495 non-null int64\n",
      "FuelType             305363 non-null object\n",
      "Brand                329495 non-null object\n",
      "NotRepaired          269708 non-null object\n",
      "dtypes: int64(5), object(6)\n",
      "memory usage: 30.2+ MB\n"
     ]
    }
   ],
   "source": [
    "df.info()"
   ]
  },
  {
   "cell_type": "code",
   "execution_count": 34,
   "metadata": {},
   "outputs": [
    {
     "data": {
      "image/png": "[encoded data removed]",
      "text/plain": [
       "<Figure size 432x288 with 1 Axes>"
      ]
     },
     "metadata": {
      "needs_background": "light"
     },
     "output_type": "display_data"
    }
   ],
   "source": [
    "plt.title(\"Мощность, л. с.\", fontweight='bold', size='medium')\n",
    "plt.ylabel(\"Частота, шт\")\n",
    "sns.distplot(a=df['Power'], kde=False, rug=False, axlabel=\"Мощность, л. с.\")\n",
    "plt.show()"
   ]
  },
  {
   "cell_type": "markdown",
   "metadata": {},
   "source": [
    "Мы видим, что опять же есть пик около 0. Но скорее всего опять же это значит, что пользователь это не указал. Необходимо исключить эту возможность на уровне приложения. Возможно поставив минимальную мощность. Или лучше ставить базовую среднюю мощность как вариант по умолчанию.\n",
    "\n",
    "Посмотрим на данные около 0. И возможно заменим их на популярное значение."
   ]
  },
  {
   "cell_type": "code",
   "execution_count": 35,
   "metadata": {},
   "outputs": [
    {
     "data": {
      "image/png": "[encoded data removed]",
      "text/plain": [
       "<Figure size 432x288 with 1 Axes>"
      ]
     },
     "metadata": {
      "needs_background": "light"
     },
     "output_type": "display_data"
    }
   ],
   "source": [
    "plt.title(\"Мощность меньше 10 л. с.\", fontweight='bold', size='medium')\n",
    "plt.ylabel(\"Частота, шт\")\n",
    "sns.distplot(a=df.query('Power < 10')['Power'], kde=False, rug=False, axlabel=\"Мощность, л. с.\")\n",
    "plt.show()"
   ]
  },
  {
   "cell_type": "markdown",
   "metadata": {},
   "source": [
    "Давайте подумаем на что моожно заменить 0. Можно заменить это на среднее или медиану, к примеру. Также скорее всего мощность зависит от года регистарции. Как возможно и цена, наш целевой признак."
   ]
  },
  {
   "cell_type": "code",
   "execution_count": 36,
   "metadata": {},
   "outputs": [
    {
     "data": {
      "text/plain": [
       "(108.67455955325573, 105.0)"
      ]
     },
     "execution_count": 36,
     "metadata": {},
     "output_type": "execute_result"
    }
   ],
   "source": [
    "df['Power'].mean(), df['Power'].median()"
   ]
  },
  {
   "cell_type": "code",
   "execution_count": 37,
   "metadata": {},
   "outputs": [
    {
     "data": {
      "image/png": "[encoded data removed]",
      "text/plain": [
       "<Figure size 432x288 with 1 Axes>"
      ]
     },
     "metadata": {
      "needs_background": "light"
     },
     "output_type": "display_data"
    }
   ],
   "source": [
    "df.query('Power.notnull()').plot(\n",
    "        x='RegistrationYear', y='Power', kind='scatter'\n",
    ")  \n",
    "plt.title(\"Диаграмма рассеивания, год регистрации и мощность\", fontweight='bold', size='large')\n",
    "plt.ylabel(\"Мощность, л. с.\")\n",
    "plt.xlabel(\"Год регистрации\")\n",
    "plt.show()"
   ]
  },
  {
   "cell_type": "code",
   "execution_count": 38,
   "metadata": {},
   "outputs": [
    {
     "data": {
      "image/png": "[encoded data removed]",
      "text/plain": [
       "<Figure size 432x288 with 1 Axes>"
      ]
     },
     "metadata": {
      "needs_background": "light"
     },
     "output_type": "display_data"
    }
   ],
   "source": [
    "df.query('Price.notnull()').plot(\n",
    "        x='RegistrationYear', y='Price', kind='scatter'\n",
    ")  \n",
    "plt.title(\"Диаграмма рассеивания, год регистрации и цена\", fontweight='bold', size='large')\n",
    "plt.ylabel(\"Цена, евро\")\n",
    "plt.xlabel(\"Год регистрации\")\n",
    "plt.show()"
   ]
  },
  {
   "cell_type": "markdown",
   "metadata": {},
   "source": [
    "На первом графике зависимость от года видна больше, чем по цене. Хотя и по цене видно, что последние 10 лет более плотные.\n",
    "\n",
    "Исходя из этого, давайте внедрим такой категориальный столбец \"Retro\":\n",
    "- до 1970;\n",
    "- от 1970 до 1990;\n",
    "- от 1990 до 2000;\n",
    "- от 2000 до 2005;\n",
    "- от 2005 до 2010;\n",
    "- от 2010\n",
    "\n",
    "И посмотрим на медианы мощность по этим группам."
   ]
  },
  {
   "cell_type": "code",
   "execution_count": 39,
   "metadata": {},
   "outputs": [],
   "source": [
    "def retro_group(year):\n",
    "    if year < 1970:\n",
    "        return 'super-retro'\n",
    "    elif year >= 1970 and year < 1990:\n",
    "        return 'retro'\n",
    "    elif year >= 1990 and year < 2000:\n",
    "        return 'old'\n",
    "    elif year >= 2000 and year < 2005:\n",
    "        return 'dated'\n",
    "    elif year >= 2005 and year < 2010:\n",
    "        return 'middle'\n",
    "    else:\n",
    "        return 'new'\n",
    "    \n",
    "df['Retro'] = df['RegistrationYear'].apply(retro_group)\n",
    "#df['Retro'] = df['Retro'].astype('category')"
   ]
  },
  {
   "cell_type": "code",
   "execution_count": 40,
   "metadata": {},
   "outputs": [
    {
     "data": {
      "text/plain": [
       "dated          100196\n",
       "old             88193\n",
       "middle          87821\n",
       "new             44423\n",
       "retro            7743\n",
       "super-retro      1119\n",
       "Name: Retro, dtype: int64"
      ]
     },
     "execution_count": 40,
     "metadata": {},
     "output_type": "execute_result"
    }
   ],
   "source": [
    "df['Retro'].value_counts()"
   ]
  },
  {
   "cell_type": "markdown",
   "metadata": {},
   "source": [
    "Ретро классы предсталены меньше, но это нормально. Классы поддержанных машин последних лет имееют один порядок, хотя есть и лидеры. Оставим такое распределение."
   ]
  },
  {
   "cell_type": "markdown",
   "metadata": {},
   "source": [
    "Посмотрим на данные мощности медиан без 0 значений по группировки от ретрости машин, общая была - 105."
   ]
  },
  {
   "cell_type": "code",
   "execution_count": 41,
   "metadata": {},
   "outputs": [
    {
     "data": {
      "text/plain": [
       "Retro\n",
       "dated          105\n",
       "middle         122\n",
       "new            105\n",
       "old             90\n",
       "retro           75\n",
       "super-retro     34\n",
       "Name: Power, dtype: int64"
      ]
     },
     "execution_count": 41,
     "metadata": {},
     "output_type": "execute_result"
    }
   ],
   "source": [
    "df.query('Power.notnull()').groupby(by='Retro')['Power'].median()"
   ]
  },
  {
   "cell_type": "markdown",
   "metadata": {},
   "source": [
    "У двух групп медиана совпала с общей, а так видно, что у ретро машин мощность меньше. А вот во второй половине нулевых выпускали больше можных машин. Заменим нули."
   ]
  },
  {
   "cell_type": "code",
   "execution_count": 42,
   "metadata": {},
   "outputs": [],
   "source": [
    "retro_groups = df['Retro'].unique()\n",
    "power_median = 0\n",
    "\n",
    "for text in retro_groups:\n",
    "    power_median = df[df['Retro'] == text]['Power'].median()\n",
    "    df.loc[(df['Power'] == 0)&(df['Retro'] == text), 'Power'] = power_median\n"
   ]
  },
  {
   "cell_type": "code",
   "execution_count": 43,
   "metadata": {},
   "outputs": [
    {
     "data": {
      "image/png": "[encoded data removed]",
      "text/plain": [
       "<Figure size 432x288 with 1 Axes>"
      ]
     },
     "metadata": {
      "needs_background": "light"
     },
     "output_type": "display_data"
    }
   ],
   "source": [
    "plt.title(\"Мощность, л. с.\", fontweight='bold', size='medium')\n",
    "plt.ylabel(\"Частота, шт\")\n",
    "sns.distplot(a=df['Power'], kde=False, rug=False, axlabel=\"Мощность, л. с.\")\n",
    "plt.show()"
   ]
  },
  {
   "cell_type": "markdown",
   "metadata": {},
   "source": [
    "Пика в 0 по мощности больше нет. По числовым данным прошлись, теперь посмотри на категориальные."
   ]
  },
  {
   "cell_type": "markdown",
   "metadata": {},
   "source": [
    "#### Категориальные столбцы"
   ]
  },
  {
   "cell_type": "markdown",
   "metadata": {},
   "source": [
    "Посмотрим на столбцы VehicleType, Gearbox, Model, FuelType, Brand, NotRepaired. Во многих из них есть пропуски, как мы помним.\n",
    "\n",
    "Также у нас появился новй столбец с группой ретрости машины. Но его мы уже изучили, и даже уже перевели в категориальный тип."
   ]
  },
  {
   "cell_type": "code",
   "execution_count": 44,
   "metadata": {},
   "outputs": [
    {
     "data": {
      "text/plain": [
       "sedan          89329\n",
       "small          77959\n",
       "wagon          63636\n",
       "bus            28318\n",
       "convertible    19853\n",
       "coupe          15623\n",
       "suv            11782\n",
       "other           3075\n",
       "Name: VehicleType, dtype: int64"
      ]
     },
     "execution_count": 44,
     "metadata": {},
     "output_type": "execute_result"
    }
   ],
   "source": [
    "df['VehicleType'].value_counts()"
   ]
  },
  {
   "cell_type": "code",
   "execution_count": 45,
   "metadata": {},
   "outputs": [
    {
     "data": {
      "text/plain": [
       "manual    250958\n",
       "auto       62946\n",
       "Name: Gearbox, dtype: int64"
      ]
     },
     "execution_count": 45,
     "metadata": {},
     "output_type": "execute_result"
    }
   ],
   "source": [
    "df['Gearbox'].value_counts()"
   ]
  },
  {
   "cell_type": "code",
   "execution_count": 46,
   "metadata": {},
   "outputs": [
    {
     "data": {
      "text/plain": [
       "golf                  26722\n",
       "other                 23169\n",
       "3er                   18657\n",
       "polo                  12021\n",
       "corsa                 11586\n",
       "                      ...  \n",
       "kalina                    6\n",
       "rangerover                3\n",
       "serie_3                   3\n",
       "range_rover_evoque        2\n",
       "serie_1                   1\n",
       "Name: Model, Length: 250, dtype: int64"
      ]
     },
     "execution_count": 46,
     "metadata": {},
     "output_type": "execute_result"
    }
   ],
   "source": [
    "df['Model'].value_counts()"
   ]
  },
  {
   "cell_type": "code",
   "execution_count": 47,
   "metadata": {},
   "outputs": [
    {
     "data": {
      "text/plain": [
       "petrol      204559\n",
       "gasoline     94783\n",
       "lpg           5020\n",
       "cng            531\n",
       "hybrid         220\n",
       "other          163\n",
       "electric        87\n",
       "Name: FuelType, dtype: int64"
      ]
     },
     "execution_count": 47,
     "metadata": {},
     "output_type": "execute_result"
    }
   ],
   "source": [
    "df['FuelType'].value_counts()"
   ]
  },
  {
   "cell_type": "code",
   "execution_count": 48,
   "metadata": {},
   "outputs": [
    {
     "data": {
      "text/plain": [
       "volkswagen        70761\n",
       "opel              36650\n",
       "bmw               34734\n",
       "mercedes_benz     30322\n",
       "audi              27628\n",
       "ford              23482\n",
       "renault           16416\n",
       "peugeot           10420\n",
       "fiat               8871\n",
       "seat               6354\n",
       "skoda              5298\n",
       "mazda              5254\n",
       "smart              4962\n",
       "citroen            4797\n",
       "nissan             4615\n",
       "toyota             4391\n",
       "hyundai            3398\n",
       "mini               3058\n",
       "volvo              3053\n",
       "mitsubishi         2813\n",
       "sonstige_autos     2711\n",
       "honda              2591\n",
       "kia                2305\n",
       "suzuki             2200\n",
       "alfa_romeo         2155\n",
       "chevrolet          1654\n",
       "chrysler           1325\n",
       "dacia               865\n",
       "daihatsu            749\n",
       "porsche             724\n",
       "subaru              717\n",
       "jeep                633\n",
       "land_rover          526\n",
       "daewoo              504\n",
       "saab                504\n",
       "jaguar              488\n",
       "trabant             487\n",
       "rover               437\n",
       "lancia              436\n",
       "lada                207\n",
       "Name: Brand, dtype: int64"
      ]
     },
     "execution_count": 48,
     "metadata": {},
     "output_type": "execute_result"
    }
   ],
   "source": [
    "df['Brand'].value_counts()"
   ]
  },
  {
   "cell_type": "code",
   "execution_count": 49,
   "metadata": {},
   "outputs": [
    {
     "data": {
      "text/plain": [
       "no     236781\n",
       "yes     32927\n",
       "Name: NotRepaired, dtype: int64"
      ]
     },
     "execution_count": 49,
     "metadata": {},
     "output_type": "execute_result"
    }
   ],
   "source": [
    "df['NotRepaired'].value_counts()"
   ]
  },
  {
   "cell_type": "markdown",
   "metadata": {},
   "source": [
    "Также видим, что в данных столбцах есть самые популярные варианты часто, иногда есть значение others. Помня возможную природу пропусков, пропуски в данных значениях некорректно заполнять другими. Так как вероятно такие незаполненные данные будут опять встречаться в приложениях. Часто пользователи не знают или не помнят эту информацию, когда хотят узнать примерную цену через приложение. приравнивать к others тоже не верно, так как это именно уникальные значения, а не то, что неизвестно какие эти значения.\n",
    "\n",
    "Заполним пропуски уникальным значением: None. Мы знаем, что некотрые библиотеки работают с признаками с пропусками, но не все, некоторые простые модели не могут их воспринимать. Поэтому сделаем это."
   ]
  },
  {
   "cell_type": "code",
   "execution_count": 50,
   "metadata": {},
   "outputs": [],
   "source": [
    "set = ['VehicleType', 'Gearbox', 'Model', 'Brand','FuelType', 'NotRepaired', 'Retro']\n",
    "\n",
    "for text in set:\n",
    "    df[text] = df[text].fillna('None')"
   ]
  },
  {
   "cell_type": "markdown",
   "metadata": {},
   "source": [
    "Также видим, что почти для всех классов в столбцах значения встречаются часто, кроме столбца Модель. Там есть значения, где даже есть только 1 строка. При разбиении и дальнейшей оцифровизации признаков это может быть проблемой, так как эти значения могут попасть только в 1 из выборок. Оставим только значения с высокой частотой, а редкие заменим на other."
   ]
  },
  {
   "cell_type": "code",
   "execution_count": 51,
   "metadata": {},
   "outputs": [],
   "source": [
    "all_models = df['Model'].unique()\n",
    "\n",
    "for text in all_models:\n",
    "    if df[df['Model'] == text]['Model'].count() < 100:\n",
    "        df.loc[df['Model'] == text, 'Model'] = 'other'    "
   ]
  },
  {
   "cell_type": "code",
   "execution_count": 52,
   "metadata": {},
   "outputs": [
    {
     "data": {
      "text/plain": [
       "golf         26722\n",
       "other        25327\n",
       "3er          18657\n",
       "None         15609\n",
       "polo         12021\n",
       "             ...  \n",
       "outlander      114\n",
       "900            114\n",
       "r19            111\n",
       "aveo           110\n",
       "antara         104\n",
       "Name: Model, Length: 204, dtype: int64"
      ]
     },
     "execution_count": 52,
     "metadata": {},
     "output_type": "execute_result"
    }
   ],
   "source": [
    "df['Model'].value_counts()"
   ]
  },
  {
   "cell_type": "markdown",
   "metadata": {},
   "source": [
    "Мы успешно убрали нечасто встречающиеся модели. Теперь переведем типы данных в категориальные."
   ]
  },
  {
   "cell_type": "code",
   "execution_count": 53,
   "metadata": {},
   "outputs": [],
   "source": [
    "for text in set:\n",
    "    df[text] = df[text].astype('category')"
   ]
  },
  {
   "cell_type": "code",
   "execution_count": 54,
   "metadata": {
    "scrolled": false
   },
   "outputs": [
    {
     "name": "stdout",
     "output_type": "stream",
     "text": [
      "<class 'pandas.core.frame.DataFrame'>\n",
      "Int64Index: 329495 entries, 0 to 354368\n",
      "Data columns (total 12 columns):\n",
      "Price                329495 non-null int64\n",
      "VehicleType          329495 non-null category\n",
      "RegistrationYear     329495 non-null int64\n",
      "Gearbox              329495 non-null category\n",
      "Power                329495 non-null float64\n",
      "Model                329495 non-null category\n",
      "Kilometer            329495 non-null int64\n",
      "RegistrationMonth    329495 non-null int64\n",
      "FuelType             329495 non-null category\n",
      "Brand                329495 non-null category\n",
      "NotRepaired          329495 non-null category\n",
      "Retro                329495 non-null category\n",
      "dtypes: category(7), float64(1), int64(4)\n",
      "memory usage: 17.6 MB\n"
     ]
    }
   ],
   "source": [
    "df.info()"
   ]
  },
  {
   "cell_type": "markdown",
   "metadata": {},
   "source": [
    "Мы подготовили данные для дальнейшей работы. Пропусков нет. \n",
    "\n",
    "Важно, что мы исключили неправдаподобные значения по году регистрации и мощности. И скорректировали данные по моделям. Чтобы модель и приложения работали корректно в будущем, необходимо исключить ввод неправдоподобных значений на уровне приложения.\n",
    "\n",
    "А также мы заменили редко встречающиеся модели на Other, при работе приложения нужно также повторять эту операцию. А именно запомнить варианты моделей, которые были в этот дата сете и если вариант не из него - заменять на others.\n",
    "\n",
    "При переобучении модели - список должен обновляться."
   ]
  },
  {
   "cell_type": "markdown",
   "metadata": {},
   "source": [
    "## Обучение моделей"
   ]
  },
  {
   "cell_type": "markdown",
   "metadata": {},
   "source": [
    "### Разделение на выборки"
   ]
  },
  {
   "cell_type": "markdown",
   "metadata": {},
   "source": [
    "Для начала подготовим выборки."
   ]
  },
  {
   "cell_type": "code",
   "execution_count": 55,
   "metadata": {},
   "outputs": [],
   "source": [
    "#определим признаки и целевой признак\n",
    "target = df['Price']\n",
    "features = df.drop(['Price'], axis=1)"
   ]
  },
  {
   "cell_type": "markdown",
   "metadata": {},
   "source": [
    "Выше мы разделили данные на признаки и целевой признак. Теперь нам необходимо создать выборки с данными:\n",
    "- тренировочную,\n",
    "- тестовую.\n",
    "\n",
    "Так как для обучения моделей мы будем использовать только кросс-валидационные методы, то выделять отдельно валидационную не будем. Возьмем соотношение 75% и 25%."
   ]
  },
  {
   "cell_type": "code",
   "execution_count": 56,
   "metadata": {},
   "outputs": [],
   "source": [
    "#второе деление на тренировочную и тестовую выборки\n",
    "features_train, features_test, target_train, target_test = train_test_split(\n",
    "    features, target, test_size=0.25, random_state=12345) "
   ]
  },
  {
   "cell_type": "code",
   "execution_count": 57,
   "metadata": {},
   "outputs": [
    {
     "data": {
      "text/plain": [
       "((247121, 11), (247121,), (82374, 11), (82374,))"
      ]
     },
     "execution_count": 57,
     "metadata": {},
     "output_type": "execute_result"
    }
   ],
   "source": [
    "features_train.shape, target_train.shape, features_test.shape, target_test.shape"
   ]
  },
  {
   "cell_type": "markdown",
   "metadata": {},
   "source": [
    "Отлично, размеры валидационной выборки и тестовой равны. "
   ]
  },
  {
   "cell_type": "markdown",
   "metadata": {},
   "source": [
    "### Элементарные модели"
   ]
  },
  {
   "cell_type": "markdown",
   "metadata": {},
   "source": [
    "Для начала оценим параметры модели, которая всегда предсказывает среднее (округленное до целого), или медиану. Посмотрим на RMSE этих моделей, и будем сравнивать другие модели относительно этих.\n",
    "\n",
    "Начнем с медианы."
   ]
  },
  {
   "cell_type": "code",
   "execution_count": 58,
   "metadata": {},
   "outputs": [
    {
     "name": "stdout",
     "output_type": "stream",
     "text": [
      "CPU times: user 5.94 ms, sys: 91 µs, total: 6.03 ms\n",
      "Wall time: 5.8 ms\n"
     ]
    }
   ],
   "source": [
    "%%time\n",
    "\n",
    "median = target_train.median()"
   ]
  },
  {
   "cell_type": "code",
   "execution_count": 59,
   "metadata": {},
   "outputs": [
    {
     "name": "stdout",
     "output_type": "stream",
     "text": [
      "CPU times: user 151 µs, sys: 0 ns, total: 151 µs\n",
      "Wall time: 155 µs\n"
     ]
    }
   ],
   "source": [
    "%%time\n",
    "predictions_median = [median] * len(target_test)"
   ]
  },
  {
   "cell_type": "code",
   "execution_count": 60,
   "metadata": {},
   "outputs": [
    {
     "data": {
      "text/plain": [
       "4822.905293818952"
      ]
     },
     "execution_count": 60,
     "metadata": {},
     "output_type": "execute_result"
    }
   ],
   "source": [
    "mean_squared_error(target_test, predictions_median)**0.5"
   ]
  },
  {
   "cell_type": "markdown",
   "metadata": {},
   "source": [
    "Время обучения и предсказания совсем маленькие. Запишем данные в талицу и проверим также предсказание по среднему."
   ]
  },
  {
   "cell_type": "markdown",
   "metadata": {},
   "source": [
    "| N |       Model                | RMSE  | Время обучения | Скорость предсказания на 82 тыс строк |  \n",
    "|---|----------------------------|------------|----------|----------|\n",
    "| 1 | Median |   4822.90  | Меньше 1 сек    | Меньше 1 сек    |\n"
   ]
  },
  {
   "cell_type": "code",
   "execution_count": 61,
   "metadata": {},
   "outputs": [
    {
     "name": "stdout",
     "output_type": "stream",
     "text": [
      "CPU times: user 1.11 ms, sys: 0 ns, total: 1.11 ms\n",
      "Wall time: 754 µs\n"
     ]
    }
   ],
   "source": [
    "%%time\n",
    "\n",
    "mean = target_train.mean()"
   ]
  },
  {
   "cell_type": "code",
   "execution_count": 62,
   "metadata": {},
   "outputs": [
    {
     "name": "stdout",
     "output_type": "stream",
     "text": [
      "CPU times: user 171 µs, sys: 0 ns, total: 171 µs\n",
      "Wall time: 176 µs\n"
     ]
    }
   ],
   "source": [
    "%%time\n",
    "predictions_mean = [mean] * len(target_test)"
   ]
  },
  {
   "cell_type": "code",
   "execution_count": 63,
   "metadata": {},
   "outputs": [
    {
     "data": {
      "text/plain": [
       "4517.310258022457"
      ]
     },
     "execution_count": 63,
     "metadata": {},
     "output_type": "execute_result"
    }
   ],
   "source": [
    "mean_squared_error(target_test, predictions_mean)**0.5"
   ]
  },
  {
   "cell_type": "markdown",
   "metadata": {},
   "source": [
    "Данные похожи на медиану, запомним."
   ]
  },
  {
   "cell_type": "markdown",
   "metadata": {},
   "source": [
    "| N |       Model                | RMSE  | Время обучения | Скорость предсказания на 82 тыс строк |  \n",
    "|---|----------------------------|------------|----------|----------|\n",
    "| 1 | Median |   4822.90  | Меньше 1 сек    | Меньше 1 сек    |\n",
    "| 2 | Mean |   4517.31  | Меньше 1 сек    | Меньше 1 сек    |"
   ]
  },
  {
   "cell_type": "markdown",
   "metadata": {},
   "source": [
    "### Модель линейной регрессии"
   ]
  },
  {
   "cell_type": "markdown",
   "metadata": {},
   "source": [
    "Начнем с базовой модели Линейной регрессии. Только она не умеет работать с категориальными переменными. Там необходимо их закодировать, а потом масштабировать.\n",
    "\n",
    "Воспользуемся методом OHE для категориальных столбцов, причем так как наши данные разделены на группы однозначно, и из одного получается другой, то чтобы избежать Дамми-ловушки, удалим первый столбец для каждого прзнака."
   ]
  },
  {
   "cell_type": "code",
   "execution_count": 64,
   "metadata": {},
   "outputs": [],
   "source": [
    "features_train_coded = features_train.copy()\n",
    "features_test_coded = features_test.copy()\n",
    "\n",
    "\n",
    "features_train_coded = pd.get_dummies(features_train_coded, drop_first=True)\n",
    "features_test_coded = pd.get_dummies(features_test_coded, drop_first=True)"
   ]
  },
  {
   "cell_type": "markdown",
   "metadata": {},
   "source": [
    "Теперь масштабируем данные."
   ]
  },
  {
   "cell_type": "code",
   "execution_count": 65,
   "metadata": {},
   "outputs": [
    {
     "name": "stdout",
     "output_type": "stream",
     "text": [
      "CPU times: user 1.23 s, sys: 764 ms, total: 2 s\n",
      "Wall time: 2 s\n"
     ]
    }
   ],
   "source": [
    "%%time\n",
    "scaler = StandardScaler()\n",
    "scaler.fit(features_train_coded) \n",
    "pd.options.mode.chained_assignment = None\n",
    "\n",
    "features_train_coded = scaler.transform(features_train_coded)\n",
    "features_test_coded = scaler.transform(features_test_coded)"
   ]
  },
  {
   "cell_type": "code",
   "execution_count": 66,
   "metadata": {},
   "outputs": [
    {
     "name": "stdout",
     "output_type": "stream",
     "text": [
      "CPU times: user 1min 2s, sys: 20.2 s, total: 1min 22s\n",
      "Wall time: 1min 23s\n"
     ]
    },
    {
     "data": {
      "text/plain": [
       "2350.962416093841"
      ]
     },
     "execution_count": 66,
     "metadata": {},
     "output_type": "execute_result"
    }
   ],
   "source": [
    "%%time\n",
    "warnings.filterwarnings('ignore')\n",
    "model_lin_reg = LinearRegression()\n",
    "\n",
    "scores_lin_reg = cross_val_score(\n",
    "    model_lin_reg, features_train_coded, target_train, cv=5, scoring = 'neg_mean_squared_error')\n",
    "\n",
    "rmse_lin_reg = sum((-1*scores_lin_reg)**0.5)/5\n",
    "rmse_lin_reg "
   ]
  },
  {
   "cell_type": "code",
   "execution_count": 67,
   "metadata": {},
   "outputs": [
    {
     "name": "stdout",
     "output_type": "stream",
     "text": [
      "CPU times: user 14.3 s, sys: 4.44 s, total: 18.8 s\n",
      "Wall time: 19.1 s\n"
     ]
    },
    {
     "data": {
      "text/plain": [
       "LinearRegression(copy_X=True, fit_intercept=True, n_jobs=None, normalize=False)"
      ]
     },
     "execution_count": 67,
     "metadata": {},
     "output_type": "execute_result"
    }
   ],
   "source": [
    "%%time\n",
    "model_lin_reg.fit(features_train_coded, target_train)"
   ]
  },
  {
   "cell_type": "code",
   "execution_count": 68,
   "metadata": {},
   "outputs": [
    {
     "name": "stdout",
     "output_type": "stream",
     "text": [
      "CPU times: user 47.6 ms, sys: 28.6 ms, total: 76.2 ms\n",
      "Wall time: 22.9 ms\n"
     ]
    }
   ],
   "source": [
    "%%time\n",
    "predictions_test_lin_reg = model_lin_reg.predict(features_test_coded)"
   ]
  },
  {
   "cell_type": "markdown",
   "metadata": {},
   "source": [
    "Линейная регрессия уже показала себя лучше относительно элементарных. Время обучения возьмем общее на нахождение оценки кросс валидацией и самого обучения модели. Теперь воспользуемся более сложными моделями."
   ]
  },
  {
   "cell_type": "markdown",
   "metadata": {},
   "source": [
    "| N |       Model                | RMSE  | Время обучения | Скорость предсказания на 82 тыс строк |  \n",
    "|---|----------------------------|------------|----------|----------|\n",
    "| 1 | Median |   4822.90  | Меньше 1 сек    | Меньше 1 сек    |\n",
    "| 2 | Mean |   4517.31  | Меньше 1 сек    | Меньше 1 сек    |\n",
    "| 3 | LinearRegression |   2350.96  | Около 2 мин    | Меньше 1 сек    |"
   ]
  },
  {
   "cell_type": "markdown",
   "metadata": {},
   "source": [
    "### LightGBM"
   ]
  },
  {
   "cell_type": "markdown",
   "metadata": {},
   "source": [
    "Также попробуем модель из LightGBM. Разработка компании Microsoft, быстро и точно обучает градиентный бустинг. Работает с категориальными признаками напрямую. \n",
    "\n",
    "Для оценки разных гиперпараметров возьмем:\n",
    "- n_estimators, количество деревьев решений, используемых в ансамбле. Деревья принятия решений добавляются в модель последовательно в попытке исправить и улучшить прогнозы, сделанные предыдущими деревьями.\n",
    "- max_depth, глубина деревьев.\n",
    "- learning_rate, cкорость обучения, которая контролирует степень вклада каждой модели в прогнозирование ансамбля.\n",
    "\n",
    "\n",
    "Посмотрим на то, как модель обрабатывает категориальные признаки. И отдельно воспользуемся уже обработанными закодированными данными для Линейной регрессии."
   ]
  },
  {
   "cell_type": "code",
   "execution_count": 69,
   "metadata": {},
   "outputs": [],
   "source": [
    "categorical_columns = ['VehicleType', 'Gearbox', 'Model', 'FuelType', 'Brand', 'NotRepaired', 'Retro']"
   ]
  },
  {
   "cell_type": "code",
   "execution_count": 70,
   "metadata": {},
   "outputs": [],
   "source": [
    "model_lgbm = LGBMRegressor(random_state=12345, categorical_feature=categorical_columns)\n",
    "#model_lgbm2 = LGBMRegressor(random_state=12345) \n",
    "\n",
    "parameters = { 'n_estimators': [10, 20, 30],\n",
    "              'max_depth': [5, 10, 20],\n",
    "             'learning_rate': [0.1, 1.0],\n",
    "             }"
   ]
  },
  {
   "cell_type": "code",
   "execution_count": 71,
   "metadata": {},
   "outputs": [
    {
     "name": "stdout",
     "output_type": "stream",
     "text": [
      "CPU times: user 1min 37s, sys: 0 ns, total: 1min 37s\n",
      "Wall time: 1min 38s\n"
     ]
    },
    {
     "data": {
      "text/plain": [
       "GridSearchCV(cv='warn', error_score='raise-deprecating',\n",
       "             estimator=LGBMRegressor(boosting_type='gbdt',\n",
       "                                     categorical_feature=['VehicleType',\n",
       "                                                          'Gearbox', 'Model',\n",
       "                                                          'FuelType', 'Brand',\n",
       "                                                          'NotRepaired',\n",
       "                                                          'Retro'],\n",
       "                                     class_weight=None, colsample_bytree=1.0,\n",
       "                                     importance_type='split', learning_rate=0.1,\n",
       "                                     max_depth=-1, min_child_samples=20,\n",
       "                                     min_child_weight=0.001, min_split_gain=0.0,\n",
       "                                     n_estimators=100, n_jobs=-1, num_leaves=31,\n",
       "                                     objective=None, random_state=12345,\n",
       "                                     reg_alpha=0.0, reg_lambda=0.0, silent=True,\n",
       "                                     subsample=1.0, subsample_for_bin=200000,\n",
       "                                     subsample_freq=0),\n",
       "             iid='warn', n_jobs=-1,\n",
       "             param_grid={'learning_rate': [0.1, 1.0], 'max_depth': [5, 10, 20],\n",
       "                         'n_estimators': [10, 20, 30]},\n",
       "             pre_dispatch='2*n_jobs', refit=True, return_train_score=False,\n",
       "             scoring='neg_mean_squared_error', verbose=0)"
      ]
     },
     "execution_count": 71,
     "metadata": {},
     "output_type": "execute_result"
    }
   ],
   "source": [
    "%%time\n",
    "grid_search = GridSearchCV(\n",
    "    estimator = model_lgbm, param_grid = parameters, scoring = 'neg_mean_squared_error', n_jobs = -1\n",
    ")\n",
    "\n",
    "grid_search.fit(features_train, target_train)"
   ]
  },
  {
   "cell_type": "code",
   "execution_count": 72,
   "metadata": {},
   "outputs": [
    {
     "data": {
      "text/plain": [
       "({'learning_rate': 1.0, 'max_depth': 20, 'n_estimators': 30},\n",
       " 1796.2069757886359)"
      ]
     },
     "execution_count": 72,
     "metadata": {},
     "output_type": "execute_result"
    }
   ],
   "source": [
    "grid_search.best_params_ , (-1*grid_search.best_score_)**0.5"
   ]
  },
  {
   "cell_type": "code",
   "execution_count": 73,
   "metadata": {},
   "outputs": [
    {
     "name": "stdout",
     "output_type": "stream",
     "text": [
      "CPU times: user 3.17 s, sys: 0 ns, total: 3.17 s\n",
      "Wall time: 3.2 s\n"
     ]
    },
    {
     "data": {
      "text/plain": [
       "LGBMRegressor(boosting_type='gbdt', class_weight=None, colsample_bytree=1.0,\n",
       "              importance_type='split', learning_rate=1.0, max_depth=20,\n",
       "              min_child_samples=20, min_child_weight=0.001, min_split_gain=0.0,\n",
       "              n_estimators=30, n_jobs=-1, num_leaves=31, objective=None,\n",
       "              random_state=12345, reg_alpha=0.0, reg_lambda=0.0, silent=True,\n",
       "              subsample=1.0, subsample_for_bin=200000, subsample_freq=0)"
      ]
     },
     "execution_count": 73,
     "metadata": {},
     "output_type": "execute_result"
    }
   ],
   "source": [
    "%%time\n",
    "model_lgbm_best = LGBMRegressor(\n",
    "    random_state=12345, learning_rate=1.0,  max_depth=20, n_estimators=30)\n",
    "model_lgbm_best.fit(features_train, target_train)"
   ]
  },
  {
   "cell_type": "code",
   "execution_count": 74,
   "metadata": {},
   "outputs": [
    {
     "name": "stdout",
     "output_type": "stream",
     "text": [
      "CPU times: user 253 ms, sys: 0 ns, total: 253 ms\n",
      "Wall time: 293 ms\n"
     ]
    }
   ],
   "source": [
    "%%time\n",
    "predictions_test_lgbm = model_lgbm_best.predict(features_test)"
   ]
  },
  {
   "cell_type": "markdown",
   "metadata": {},
   "source": [
    "Отлично, оценка еще улучшилась. Внесем в таблицу результатов."
   ]
  },
  {
   "cell_type": "markdown",
   "metadata": {},
   "source": [
    "| N |       Model                | RMSE  | Время обучения | Скорость предсказания на 82 тыс строк |  \n",
    "|---|----------------------------|------------|----------|----------|\n",
    "| 1 | Median |   4822.90  | Меньше 1 сек    | Меньше 1 сек    |\n",
    "| 2 | Mean |   4517.31  | Меньше 1 сек    | Меньше 1 сек    |\n",
    "| 3 | LinearRegression |   2350.96  | Около 2 мин    | Меньше 1 сек    |\n",
    "| 4 | LGBMRegressor  |   1796.20 | Около 2-3 мин    | Меньше 1 сек    |"
   ]
  },
  {
   "cell_type": "markdown",
   "metadata": {},
   "source": [
    "### CatBoost"
   ]
  },
  {
   "cell_type": "markdown",
   "metadata": {},
   "source": [
    "Также попробуем и библиотеку CatBoost и модель регрессии из нее."
   ]
  },
  {
   "cell_type": "code",
   "execution_count": 75,
   "metadata": {},
   "outputs": [],
   "source": [
    "#categorical_columns = ['VehicleType', 'Gearbox', 'Model', 'FuelType', 'Brand', 'NotRepaired']\n",
    "model_cat_boost = CatBoostRegressor(random_seed=12345,\n",
    "                                    loss_function='RMSE',\n",
    "                                    cat_features=categorical_columns)\n",
    "\n",
    "parameters_cat_boost = { 'n_estimators': [10, 20, 30],\n",
    "                        'depth': [5, 10, 15],\n",
    "                       }"
   ]
  },
  {
   "cell_type": "code",
   "execution_count": 76,
   "metadata": {
    "scrolled": true
   },
   "outputs": [
    {
     "name": "stdout",
     "output_type": "stream",
     "text": [
      "0:\tlearn: 4481.9737494\ttotal: 234ms\tremaining: 2.1s\n",
      "9:\tlearn: 3834.0745405\ttotal: 2.04s\tremaining: 0us\n",
      "0:\tlearn: 4477.4623911\ttotal: 25.3ms\tremaining: 227ms\n",
      "9:\tlearn: 3833.3231697\ttotal: 1.62s\tremaining: 0us\n",
      "0:\tlearn: 4461.4226076\ttotal: 156ms\tremaining: 1.41s\n",
      "9:\tlearn: 3829.3763744\ttotal: 1.75s\tremaining: 0us\n",
      "0:\tlearn: 4481.9737494\ttotal: 177ms\tremaining: 3.36s\n",
      "19:\tlearn: 3325.4190487\ttotal: 3.47s\tremaining: 0us\n",
      "0:\tlearn: 4477.4623911\ttotal: 167ms\tremaining: 3.17s\n",
      "19:\tlearn: 3323.2099809\ttotal: 3.46s\tremaining: 0us\n",
      "0:\tlearn: 4461.4226076\ttotal: 59.3ms\tremaining: 1.13s\n",
      "19:\tlearn: 3305.3232791\ttotal: 3.44s\tremaining: 0us\n",
      "0:\tlearn: 4481.9737494\ttotal: 77.2ms\tremaining: 2.24s\n",
      "29:\tlearn: 2972.5655886\ttotal: 4.98s\tremaining: 0us\n",
      "0:\tlearn: 4477.4623911\ttotal: 70.2ms\tremaining: 2.04s\n",
      "29:\tlearn: 2961.3380749\ttotal: 5.05s\tremaining: 0us\n",
      "0:\tlearn: 4461.4226076\ttotal: 76.3ms\tremaining: 2.21s\n",
      "29:\tlearn: 2947.6739676\ttotal: 5.06s\tremaining: 0us\n",
      "0:\tlearn: 4468.7215735\ttotal: 257ms\tremaining: 2.31s\n",
      "9:\tlearn: 3735.1659485\ttotal: 3.05s\tremaining: 0us\n",
      "0:\tlearn: 4464.0127629\ttotal: 246ms\tremaining: 2.21s\n",
      "9:\tlearn: 3732.2940411\ttotal: 3.05s\tremaining: 0us\n",
      "0:\tlearn: 4449.8224018\ttotal: 284ms\tremaining: 2.56s\n",
      "9:\tlearn: 3722.1517280\ttotal: 3.08s\tremaining: 0us\n",
      "0:\tlearn: 4468.7215735\ttotal: 273ms\tremaining: 5.19s\n",
      "19:\tlearn: 3155.7845961\ttotal: 6.02s\tremaining: 0us\n",
      "0:\tlearn: 4464.0127629\ttotal: 215ms\tremaining: 4.08s\n",
      "19:\tlearn: 3153.7375329\ttotal: 6s\tremaining: 0us\n",
      "0:\tlearn: 4449.8224018\ttotal: 219ms\tremaining: 4.17s\n",
      "19:\tlearn: 3143.3897846\ttotal: 6s\tremaining: 0us\n",
      "0:\tlearn: 4468.7215735\ttotal: 273ms\tremaining: 7.92s\n",
      "29:\tlearn: 2763.9323147\ttotal: 9.06s\tremaining: 0us\n",
      "0:\tlearn: 4464.0127629\ttotal: 279ms\tremaining: 8.09s\n",
      "29:\tlearn: 2763.1450963\ttotal: 8.97s\tremaining: 0us\n",
      "0:\tlearn: 4449.8224018\ttotal: 242ms\tremaining: 7.02s\n",
      "29:\tlearn: 2750.8424783\ttotal: 9.03s\tremaining: 0us\n",
      "0:\tlearn: 4464.2319155\ttotal: 1.79s\tremaining: 16.2s\n",
      "9:\tlearn: 3704.6164106\ttotal: 12.7s\tremaining: 0us\n",
      "0:\tlearn: 4460.4249442\ttotal: 1.27s\tremaining: 11.5s\n",
      "9:\tlearn: 3701.7110171\ttotal: 12.1s\tremaining: 0us\n",
      "0:\tlearn: 4444.6173996\ttotal: 1.19s\tremaining: 10.7s\n",
      "9:\tlearn: 3690.2685513\ttotal: 12.5s\tremaining: 0us\n",
      "0:\tlearn: 4464.2319155\ttotal: 1.25s\tremaining: 23.8s\n",
      "19:\tlearn: 3108.1807326\ttotal: 24.6s\tremaining: 0us\n",
      "0:\tlearn: 4460.4249442\ttotal: 1.22s\tremaining: 23.2s\n",
      "19:\tlearn: 3102.7751115\ttotal: 24.9s\tremaining: 0us\n",
      "0:\tlearn: 4444.6173996\ttotal: 1.13s\tremaining: 21.6s\n",
      "19:\tlearn: 3093.4854949\ttotal: 26.2s\tremaining: 0us\n",
      "0:\tlearn: 4464.2319155\ttotal: 1.33s\tremaining: 38.5s\n",
      "29:\tlearn: 2696.1513887\ttotal: 37.4s\tremaining: 0us\n",
      "0:\tlearn: 4460.4249442\ttotal: 1.16s\tremaining: 33.6s\n",
      "29:\tlearn: 2694.4233124\ttotal: 37s\tremaining: 0us\n",
      "0:\tlearn: 4444.6173996\ttotal: 1.32s\tremaining: 38.4s\n",
      "29:\tlearn: 2684.2326264\ttotal: 38.2s\tremaining: 0us\n",
      "0:\tlearn: 4456.4386589\ttotal: 1.47s\tremaining: 42.8s\n",
      "29:\tlearn: 2688.5202767\ttotal: 43.7s\tremaining: 0us\n",
      "CPU times: user 5min 23s, sys: 48.2 s, total: 6min 11s\n",
      "Wall time: 6min 53s\n"
     ]
    },
    {
     "data": {
      "text/plain": [
       "GridSearchCV(cv='warn', error_score='raise-deprecating',\n",
       "             estimator=<catboost.core.CatBoostRegressor object at 0x7f6cb36d8110>,\n",
       "             iid='warn', n_jobs=-1,\n",
       "             param_grid={'depth': [5, 10, 15], 'n_estimators': [10, 20, 30]},\n",
       "             pre_dispatch='2*n_jobs', refit=True, return_train_score=False,\n",
       "             scoring='neg_mean_squared_error', verbose=0)"
      ]
     },
     "execution_count": 76,
     "metadata": {},
     "output_type": "execute_result"
    }
   ],
   "source": [
    "%%time\n",
    "grid_search = GridSearchCV(\n",
    "    estimator = model_cat_boost, scoring ='neg_mean_squared_error', \n",
    "    param_grid = parameters_cat_boost, n_jobs = -1\n",
    ")\n",
    "\n",
    "grid_search.fit(features_train, target_train, verbose=30)"
   ]
  },
  {
   "cell_type": "code",
   "execution_count": 77,
   "metadata": {},
   "outputs": [
    {
     "data": {
      "text/plain": [
       "({'depth': 15, 'n_estimators': 30}, 2706.1546569912493)"
      ]
     },
     "execution_count": 77,
     "metadata": {},
     "output_type": "execute_result"
    }
   ],
   "source": [
    "grid_search.best_params_ , (-1*grid_search.best_score_)**0.5"
   ]
  },
  {
   "cell_type": "markdown",
   "metadata": {},
   "source": [
    "Оценки , посмотрим на скорость предсказания."
   ]
  },
  {
   "cell_type": "code",
   "execution_count": 78,
   "metadata": {},
   "outputs": [
    {
     "name": "stdout",
     "output_type": "stream",
     "text": [
      "0:\tlearn: 4456.4386589\ttotal: 1.44s\tremaining: 41.6s\n",
      "29:\tlearn: 2688.5202767\ttotal: 43.5s\tremaining: 0us\n",
      "CPU times: user 38.1 s, sys: 6.27 s, total: 44.4 s\n",
      "Wall time: 45.8 s\n"
     ]
    },
    {
     "data": {
      "text/plain": [
       "<catboost.core.CatBoostRegressor at 0x7f6cb36d8410>"
      ]
     },
     "execution_count": 78,
     "metadata": {},
     "output_type": "execute_result"
    }
   ],
   "source": [
    "%%time\n",
    "model_cat_boost_best = CatBoostRegressor(random_seed=12345,\n",
    "                                         loss_function='RMSE',\n",
    "                                         depth=15, \n",
    "                                         n_estimators=30,\n",
    "                                         cat_features=categorical_columns\n",
    "                                        )\n",
    "model_cat_boost_best.fit(features_train, target_train, verbose=30)"
   ]
  },
  {
   "cell_type": "code",
   "execution_count": 79,
   "metadata": {},
   "outputs": [
    {
     "name": "stdout",
     "output_type": "stream",
     "text": [
      "CPU times: user 113 ms, sys: 1.79 ms, total: 115 ms\n",
      "Wall time: 82.7 ms\n"
     ]
    }
   ],
   "source": [
    "%%time\n",
    "predictions_test_cat_boost = model_cat_boost_best.predict(features_test)"
   ]
  },
  {
   "cell_type": "markdown",
   "metadata": {},
   "source": [
    "Внесем и то, как показала себя эта модель, и сравним их дальше. К сожалению, результаты ниже, чем у других моделей.\n",
    "\n",
    "| N |       Model                | RMSE  | Время обучения | Скорость предсказания на 82 тыс строк |  \n",
    "|---|----------------------------|------------|----------|----------|\n",
    "| 1 | Median |   4822.90  | Меньше 1 сек    | Меньше 1 сек    |\n",
    "| 2 | Mean |   4517.31  | Меньше 1 сек    | Меньше 1 сек    |\n",
    "| 3 | LinearRegression |   2350.96  | Около 2 мин    | Меньше 1 сек    |\n",
    "| 4 | LGBMRegressor  |   1796.20 | Около 2-3 мин    | Меньше 1 сек    |\n",
    "| 5 | CatBoostRegressor  |   2706.15  | Около 8 мин    | Меньше 1 сек    |"
   ]
  },
  {
   "cell_type": "markdown",
   "metadata": {},
   "source": [
    "## Анализ моделей"
   ]
  },
  {
   "cell_type": "markdown",
   "metadata": {},
   "source": [
    "Проанализируем результаты:\n",
    "- Все модели, которые мы рассматривали, показали результаты по RMSE лучше, чем элементарные (среднее и медиана).\n",
    "- CatBoostRegressor ведет себя на порядок хуже по RMSE, чем другие модели. А линейная регресиия вевет себя хуже, чем LGBMRegressor.\n",
    "- Лучше всего себя показывает модель LGBMRegressor. С гиперпараметрами максимальная глубина дерева - 20 и количеством деревьев 30, и скоростью обучения 1.0. Скорость предсказания у всех моделей несущественная. По времени обучения больше всего у CatBoostRegressor. У LGBMRegressor занчительно меньше, поэтому точно останавливаемся на ней.\n",
    "\n",
    "| N |       Model                | RMSE  | Время обучения | Скорость предсказания на 82 тыс строк |  \n",
    "|---|----------------------------|------------|----------|----------|\n",
    "| 1 | Median |   4822.90  | Меньше 1 сек    | Меньше 1 сек    |\n",
    "| 2 | Mean |   4517.31  | Меньше 1 сек    | Меньше 1 сек    |\n",
    "| 3 | LinearRegression |   2350.96  | Около 2 мин    | Меньше 1 сек    |\n",
    "| 4 | <b>LGBMRegressor</b>  |   1796.20 | Около 2-3 мин    | Меньше 1 сек    |\n",
    "| 5 | CatBoostRegressor  |   2706.15  | Около 8 мин    | Меньше 1 сек    |\n",
    "\n",
    "Протестируем итоговую модель. А точнее посмотрим на точность предсказания на тесте, предсказания мы уже сохранили выше."
   ]
  },
  {
   "cell_type": "code",
   "execution_count": 80,
   "metadata": {},
   "outputs": [
    {
     "data": {
      "text/plain": [
       "1782.7991086365346"
      ]
     },
     "execution_count": 80,
     "metadata": {},
     "output_type": "execute_result"
    }
   ],
   "source": [
    "mean_squared_error(target_test, predictions_test_lgbm)**0.5"
   ]
  },
  {
   "cell_type": "markdown",
   "metadata": {},
   "source": [
    "На тесте оценка изменилась несущественно - 1782.79. Считаем, что тестирование модель прошла.\n",
    "\n",
    "\n",
    "Посмотрим теперь какие параметры дали наибольший вклад в модель."
   ]
  },
  {
   "cell_type": "code",
   "execution_count": 81,
   "metadata": {},
   "outputs": [
    {
     "data": {
      "text/plain": [
       "array([ 57, 167,  18, 174, 236,  90,  24,  12,  72,  30,  20], dtype=int32)"
      ]
     },
     "execution_count": 81,
     "metadata": {},
     "output_type": "execute_result"
    }
   ],
   "source": [
    "model_lgbm_best.feature_importances_"
   ]
  },
  {
   "cell_type": "code",
   "execution_count": 82,
   "metadata": {},
   "outputs": [
    {
     "data": {
      "text/plain": [
       "Index(['VehicleType', 'RegistrationYear', 'Gearbox', 'Power', 'Model',\n",
       "       'Kilometer', 'RegistrationMonth', 'FuelType', 'Brand', 'NotRepaired',\n",
       "       'Retro'],\n",
       "      dtype='object')"
      ]
     },
     "execution_count": 82,
     "metadata": {},
     "output_type": "execute_result"
    }
   ],
   "source": [
    "features_train.columns"
   ]
  },
  {
   "cell_type": "code",
   "execution_count": 83,
   "metadata": {},
   "outputs": [],
   "source": [
    "columns = list(features_train.columns)"
   ]
  },
  {
   "cell_type": "markdown",
   "metadata": {},
   "source": [
    "Так сложно понять, выведем это на график."
   ]
  },
  {
   "cell_type": "code",
   "execution_count": 84,
   "metadata": {},
   "outputs": [
    {
     "data": {
      "image/png": "[encoded data removed]",
      "text/plain": [
       "<Figure size 1080x360 with 1 Axes>"
      ]
     },
     "metadata": {
      "needs_background": "light"
     },
     "output_type": "display_data"
    }
   ],
   "source": [
    "plt.figure(figsize=(15, 5))\n",
    "plt.title(\"Важность признаков в итоговой модели\", fontweight='bold', size='medium')\n",
    "\n",
    "plt.ylabel(\"Важность\")\n",
    "plt.xlabel(\"Признаки\")\n",
    "plt.xticks(range(11), columns, rotation=20, size='medium')\n",
    "plt.bar(\n",
    "    range(len(model_lgbm_best.feature_importances_)),\n",
    "    model_lgbm_best.feature_importances_)\n",
    "plt.show()"
   ]
  },
  {
   "cell_type": "markdown",
   "metadata": {},
   "source": [
    "Видим, что наибольший вклад внесли признаки: Модель, Мощность и Год регистрации. "
   ]
  },
  {
   "cell_type": "markdown",
   "metadata": {},
   "source": [
    "## Вывод"
   ]
  },
  {
   "cell_type": "markdown",
   "metadata": {},
   "source": [
    "<b>Краткие выводы проекта:</b>\n",
    "- Для корректной работы приложения и модели необходимо внедрить <b>заглушку</b> на ввод неправдоподобных данных: года регистрации автомобиля до 1888 и после текущего года, мощность автомобиля ограничить максимальной до 1000 л.c. А по умолчанию, к примеру, ставить медианное значение 105.\n",
    "- Также при обработке данных мы заменили редко встречающиеся модели на Other, при работе приложения нужно также повторять эту операцию. А именно запомнить варианты моделей, которые были в этом обучающем датасете и если вариант не из него - заменять на Other перед предсказанием. При переобучении модели - список должен обновляться.\n",
    "\n",
    "\n",
    "- Для предсказания использовались 3 модели: Линейная регрессия, LGBMRegressor, CatBoostRegressor.\n",
    "\n",
    "- Все модели, которые мы рассматривали, показали результаты по RMSE лучше, чем элементарные (среднее и медиана).\n",
    "- CatBoostRegressor ведет себя на порядок хуже по RMSE, чем другие модели. А линейная регресиия вевет себя хуже, чем LGBMRegressor.\n",
    "- Лучше всего себя показывает модель LGBMRegressor. С гиперпараметрами максимальная глубина дерева - 20 и количеством деревьев 30, и скоростью обучения 1.0. Скорость предсказания у всех моделей несущественная. По времени обучения больше всего у CatBoostRegressor. У LGBMRegressor занчительно меньше, поэтому точно останавливаемся на ней.\n",
    "\n",
    "| N |       Model                | RMSE  | Время обучения | Скорость предсказания на 82 тыс строк |  \n",
    "|---|----------------------------|------------|----------|----------|\n",
    "| 1 | Median |   4822.90  | Меньше 1 сек    | Меньше 1 сек    |\n",
    "| 2 | Mean |   4517.31  | Меньше 1 сек    | Меньше 1 сек    |\n",
    "| 3 | LinearRegression |   2350.96  | Около 2 мин    | Меньше 1 сек    |\n",
    "| 4 | <b>LGBMRegressor</b>  |   1796.20 | Около 2-3 мин    | Меньше 1 сек    |\n",
    "| 5 | CatBoostRegressor  |   2706.15  | Около 8 мин    | Меньше 1 сек    |\n",
    "\n",
    "- На тесте оценка итоговой модели <b>LGBMRegressor</b> оказалась 1782.79, что близко к оценке при обучении.\n",
    "\n",
    "- Наибольший вклад в обучении модели внесли признаки: Модель, Мощность и Год регистрации. "
   ]
  },
  {
   "cell_type": "markdown",
   "metadata": {},
   "source": [
    "## Чек-лист проверки"
   ]
  },
  {
   "cell_type": "markdown",
   "metadata": {},
   "source": [
    "Поставьте 'x' в выполненных пунктах. Далее нажмите Shift+Enter."
   ]
  },
  {
   "cell_type": "markdown",
   "metadata": {},
   "source": [
    "- [x]  Jupyter Notebook открыт\n",
    "- [x]  Весь код выполняется без ошибок\n",
    "- [x]  Ячейки с кодом расположены в порядке исполнения\n",
    "- [x]  Выполнена загрузка и подготовка данных\n",
    "- [x]  Выполнено обучение моделей\n",
    "- [x]  Есть анализ скорости работы и качества моделей"
   ]
  }
 ],
 "metadata": {
  "ExecuteTimeLog": [
   {
    "duration": 1287,
    "start_time": "2021-09-25T13:14:25.365Z"
   },
   {
    "duration": 3,
    "start_time": "2021-09-25T13:14:59.784Z"
   },
   {
    "duration": 802,
    "start_time": "2021-09-25T13:15:36.274Z"
   },
   {
    "duration": 120,
    "start_time": "2021-09-25T13:15:48.366Z"
   },
   {
    "duration": 353,
    "start_time": "2021-09-25T13:19:25.358Z"
   },
   {
    "duration": 5,
    "start_time": "2021-09-25T13:19:29.002Z"
   },
   {
    "duration": 14,
    "start_time": "2021-09-25T13:28:11.184Z"
   },
   {
    "duration": 100,
    "start_time": "2021-09-25T13:28:50.300Z"
   },
   {
    "duration": 90,
    "start_time": "2021-09-25T14:00:44.895Z"
   },
   {
    "duration": 21,
    "start_time": "2021-09-25T14:01:14.265Z"
   },
   {
    "duration": 25,
    "start_time": "2021-09-25T14:02:03.909Z"
   },
   {
    "duration": 47,
    "start_time": "2021-09-25T14:02:30.286Z"
   },
   {
    "duration": 63,
    "start_time": "2021-09-25T14:14:10.799Z"
   },
   {
    "duration": 21,
    "start_time": "2021-09-25T14:14:39.289Z"
   },
   {
    "duration": 7,
    "start_time": "2021-09-25T14:14:53.554Z"
   },
   {
    "duration": 68,
    "start_time": "2021-09-25T14:15:39.594Z"
   },
   {
    "duration": 476,
    "start_time": "2021-09-25T14:28:21.092Z"
   },
   {
    "duration": 483,
    "start_time": "2021-09-25T14:33:28.890Z"
   },
   {
    "duration": 448,
    "start_time": "2021-09-25T14:33:44.753Z"
   },
   {
    "duration": 4,
    "start_time": "2021-09-25T14:33:55.355Z"
   },
   {
    "duration": 117,
    "start_time": "2021-09-25T14:44:05.601Z"
   },
   {
    "duration": 3,
    "start_time": "2021-09-25T14:48:59.501Z"
   },
   {
    "duration": 314,
    "start_time": "2021-09-25T14:49:06.210Z"
   },
   {
    "duration": 262,
    "start_time": "2021-09-25T14:51:57.486Z"
   },
   {
    "duration": 9,
    "start_time": "2021-09-25T14:54:33.305Z"
   },
   {
    "duration": 81,
    "start_time": "2021-09-25T14:59:27.480Z"
   },
   {
    "duration": 20,
    "start_time": "2021-09-25T15:01:06.268Z"
   },
   {
    "duration": 15,
    "start_time": "2021-09-25T15:02:00.475Z"
   },
   {
    "duration": 322,
    "start_time": "2021-09-25T15:02:46.076Z"
   },
   {
    "duration": 297,
    "start_time": "2021-09-25T15:13:52.127Z"
   },
   {
    "duration": 343,
    "start_time": "2021-09-25T15:17:01.226Z"
   },
   {
    "duration": 397,
    "start_time": "2021-09-25T15:17:21.677Z"
   },
   {
    "duration": 18,
    "start_time": "2021-09-25T15:20:18.358Z"
   },
   {
    "duration": 41,
    "start_time": "2021-09-25T15:22:16.174Z"
   },
   {
    "duration": 23,
    "start_time": "2021-09-25T15:22:29.771Z"
   },
   {
    "duration": 294,
    "start_time": "2021-09-25T15:23:24.823Z"
   },
   {
    "duration": 358,
    "start_time": "2021-09-25T15:23:55.267Z"
   },
   {
    "duration": 357,
    "start_time": "2021-09-25T15:24:23.603Z"
   },
   {
    "duration": 355,
    "start_time": "2021-09-25T15:24:29.945Z"
   },
   {
    "duration": 195,
    "start_time": "2021-09-25T15:24:57.781Z"
   },
   {
    "duration": 21,
    "start_time": "2021-09-25T15:27:05.540Z"
   },
   {
    "duration": 134,
    "start_time": "2021-09-25T15:31:36.049Z"
   },
   {
    "duration": 8,
    "start_time": "2021-09-25T15:35:35.383Z"
   },
   {
    "duration": 360,
    "start_time": "2021-09-25T15:40:28.939Z"
   },
   {
    "duration": 681,
    "start_time": "2021-09-25T15:40:41.868Z"
   },
   {
    "duration": 1414,
    "start_time": "2021-09-25T15:42:29.028Z"
   },
   {
    "duration": 1309,
    "start_time": "2021-09-25T15:42:30.445Z"
   },
   {
    "duration": 129,
    "start_time": "2021-09-25T15:42:31.756Z"
   },
   {
    "duration": 7,
    "start_time": "2021-09-25T15:42:31.888Z"
   },
   {
    "duration": 21,
    "start_time": "2021-09-25T15:42:31.897Z"
   },
   {
    "duration": 527,
    "start_time": "2021-09-25T15:42:31.920Z"
   },
   {
    "duration": 541,
    "start_time": "2021-09-25T15:42:32.449Z"
   },
   {
    "duration": 4,
    "start_time": "2021-09-25T15:42:32.992Z"
   },
   {
    "duration": 85,
    "start_time": "2021-09-25T15:42:33.000Z"
   },
   {
    "duration": 48,
    "start_time": "2021-09-25T15:42:33.088Z"
   },
   {
    "duration": 9,
    "start_time": "2021-09-25T15:42:33.150Z"
   },
   {
    "duration": 90,
    "start_time": "2021-09-25T15:42:33.160Z"
   },
   {
    "duration": 138,
    "start_time": "2021-09-25T15:42:33.252Z"
   },
   {
    "duration": 111,
    "start_time": "2021-09-25T15:42:33.392Z"
   },
   {
    "duration": 123,
    "start_time": "2021-09-25T15:42:33.505Z"
   },
   {
    "duration": 9,
    "start_time": "2021-09-25T15:42:33.630Z"
   },
   {
    "duration": 346,
    "start_time": "2021-09-25T15:42:33.649Z"
   },
   {
    "duration": 25,
    "start_time": "2021-09-25T15:42:33.996Z"
   },
   {
    "duration": 35,
    "start_time": "2021-09-25T15:42:34.023Z"
   },
   {
    "duration": 19,
    "start_time": "2021-09-25T15:42:34.060Z"
   },
   {
    "duration": 336,
    "start_time": "2021-09-25T15:42:34.081Z"
   },
   {
    "duration": 220,
    "start_time": "2021-09-25T15:42:34.419Z"
   },
   {
    "duration": 27,
    "start_time": "2021-09-25T15:42:34.640Z"
   },
   {
    "duration": 287,
    "start_time": "2021-09-25T15:42:34.669Z"
   },
   {
    "duration": 310,
    "start_time": "2021-09-25T15:42:34.958Z"
   },
   {
    "duration": 13,
    "start_time": "2021-09-25T15:46:43.266Z"
   },
   {
    "duration": 15,
    "start_time": "2021-09-25T15:47:05.091Z"
   },
   {
    "duration": 11,
    "start_time": "2021-09-25T15:48:06.445Z"
   },
   {
    "duration": 11,
    "start_time": "2021-09-25T15:49:15.814Z"
   },
   {
    "duration": 538,
    "start_time": "2021-09-25T15:51:24.082Z"
   },
   {
    "duration": 293,
    "start_time": "2021-09-25T15:51:33.363Z"
   },
   {
    "duration": 382,
    "start_time": "2021-09-25T15:52:24.220Z"
   },
   {
    "duration": 10,
    "start_time": "2021-09-25T15:53:28.728Z"
   },
   {
    "duration": 312,
    "start_time": "2021-09-25T15:56:45.787Z"
   },
   {
    "duration": 214,
    "start_time": "2021-09-25T15:56:48.778Z"
   },
   {
    "duration": 23,
    "start_time": "2021-09-25T16:01:37.396Z"
   },
   {
    "duration": 163,
    "start_time": "2021-09-25T16:01:47.033Z"
   },
   {
    "duration": 4,
    "start_time": "2021-09-25T16:02:41.413Z"
   },
   {
    "duration": 10,
    "start_time": "2021-09-25T16:03:49.403Z"
   },
   {
    "duration": 83,
    "start_time": "2021-09-25T16:03:52.715Z"
   },
   {
    "duration": 1244,
    "start_time": "2021-09-25T16:03:59.895Z"
   },
   {
    "duration": 1052,
    "start_time": "2021-09-25T16:04:01.141Z"
   },
   {
    "duration": 215,
    "start_time": "2021-09-25T16:04:02.196Z"
   },
   {
    "duration": 7,
    "start_time": "2021-09-25T16:04:02.414Z"
   },
   {
    "duration": 32,
    "start_time": "2021-09-25T16:04:02.423Z"
   },
   {
    "duration": 540,
    "start_time": "2021-09-25T16:04:02.457Z"
   },
   {
    "duration": 561,
    "start_time": "2021-09-25T16:04:02.999Z"
   },
   {
    "duration": 4,
    "start_time": "2021-09-25T16:04:03.562Z"
   },
   {
    "duration": 88,
    "start_time": "2021-09-25T16:04:03.568Z"
   },
   {
    "duration": 49,
    "start_time": "2021-09-25T16:04:03.658Z"
   },
   {
    "duration": 7,
    "start_time": "2021-09-25T16:04:03.709Z"
   },
   {
    "duration": 98,
    "start_time": "2021-09-25T16:04:03.718Z"
   },
   {
    "duration": 137,
    "start_time": "2021-09-25T16:04:03.818Z"
   },
   {
    "duration": 107,
    "start_time": "2021-09-25T16:04:03.957Z"
   },
   {
    "duration": 143,
    "start_time": "2021-09-25T16:04:04.066Z"
   },
   {
    "duration": 8,
    "start_time": "2021-09-25T16:04:04.211Z"
   },
   {
    "duration": 576,
    "start_time": "2021-09-25T16:04:04.222Z"
   },
   {
    "duration": 24,
    "start_time": "2021-09-25T16:04:04.800Z"
   },
   {
    "duration": 30,
    "start_time": "2021-09-25T16:04:04.825Z"
   },
   {
    "duration": 18,
    "start_time": "2021-09-25T16:04:04.857Z"
   },
   {
    "duration": 338,
    "start_time": "2021-09-25T16:04:04.877Z"
   },
   {
    "duration": 218,
    "start_time": "2021-09-25T16:04:05.217Z"
   },
   {
    "duration": 32,
    "start_time": "2021-09-25T16:04:05.438Z"
   },
   {
    "duration": 288,
    "start_time": "2021-09-25T16:04:05.472Z"
   },
   {
    "duration": 9,
    "start_time": "2021-09-25T16:04:05.762Z"
   },
   {
    "duration": 11,
    "start_time": "2021-09-25T16:04:05.773Z"
   },
   {
    "duration": 225,
    "start_time": "2021-09-25T16:04:05.785Z"
   },
   {
    "duration": 37,
    "start_time": "2021-09-25T16:04:06.012Z"
   },
   {
    "duration": 83,
    "start_time": "2021-09-25T16:04:06.051Z"
   },
   {
    "duration": 445,
    "start_time": "2021-09-25T16:04:06.136Z"
   },
   {
    "duration": 318,
    "start_time": "2021-09-25T16:04:50.179Z"
   },
   {
    "duration": 454,
    "start_time": "2021-09-25T16:05:02.704Z"
   },
   {
    "duration": 300,
    "start_time": "2021-09-25T16:05:20.454Z"
   },
   {
    "duration": 1225,
    "start_time": "2021-09-25T16:14:21.680Z"
   },
   {
    "duration": 895,
    "start_time": "2021-09-25T16:14:22.907Z"
   },
   {
    "duration": 131,
    "start_time": "2021-09-25T16:14:23.804Z"
   },
   {
    "duration": 13,
    "start_time": "2021-09-25T16:14:23.937Z"
   },
   {
    "duration": 19,
    "start_time": "2021-09-25T16:14:23.952Z"
   },
   {
    "duration": 543,
    "start_time": "2021-09-25T16:14:23.973Z"
   },
   {
    "duration": 638,
    "start_time": "2021-09-25T16:14:24.518Z"
   },
   {
    "duration": 4,
    "start_time": "2021-09-25T16:14:25.159Z"
   },
   {
    "duration": 87,
    "start_time": "2021-09-25T16:14:25.165Z"
   },
   {
    "duration": 71,
    "start_time": "2021-09-25T16:14:25.255Z"
   },
   {
    "duration": 23,
    "start_time": "2021-09-25T16:14:25.328Z"
   },
   {
    "duration": 132,
    "start_time": "2021-09-25T16:14:25.353Z"
   },
   {
    "duration": 196,
    "start_time": "2021-09-25T16:14:25.488Z"
   },
   {
    "duration": 131,
    "start_time": "2021-09-25T16:14:25.686Z"
   },
   {
    "duration": 168,
    "start_time": "2021-09-25T16:14:25.819Z"
   },
   {
    "duration": 8,
    "start_time": "2021-09-25T16:14:25.990Z"
   },
   {
    "duration": 342,
    "start_time": "2021-09-25T16:14:26.000Z"
   },
   {
    "duration": 76,
    "start_time": "2021-09-25T16:14:26.349Z"
   },
   {
    "duration": 16,
    "start_time": "2021-09-25T16:14:26.426Z"
   },
   {
    "duration": 17,
    "start_time": "2021-09-25T16:14:26.444Z"
   },
   {
    "duration": 344,
    "start_time": "2021-09-25T16:14:26.463Z"
   },
   {
    "duration": 232,
    "start_time": "2021-09-25T16:14:26.809Z"
   },
   {
    "duration": 23,
    "start_time": "2021-09-25T16:14:27.048Z"
   },
   {
    "duration": 287,
    "start_time": "2021-09-25T16:14:27.073Z"
   },
   {
    "duration": 8,
    "start_time": "2021-09-25T16:14:27.362Z"
   },
   {
    "duration": 11,
    "start_time": "2021-09-25T16:14:27.372Z"
   },
   {
    "duration": 222,
    "start_time": "2021-09-25T16:14:27.384Z"
   },
   {
    "duration": 79,
    "start_time": "2021-09-25T16:14:27.609Z"
   },
   {
    "duration": 130,
    "start_time": "2021-09-25T16:14:27.690Z"
   },
   {
    "duration": 428,
    "start_time": "2021-09-25T16:14:27.823Z"
   },
   {
    "duration": 141,
    "start_time": "2021-09-25T16:24:50.446Z"
   },
   {
    "duration": 120,
    "start_time": "2021-09-25T16:24:59.573Z"
   },
   {
    "duration": 24,
    "start_time": "2021-09-25T16:29:43.586Z"
   },
   {
    "duration": 33,
    "start_time": "2021-09-25T16:37:16.489Z"
   },
   {
    "duration": 1203,
    "start_time": "2021-09-25T16:38:46.055Z"
   },
   {
    "duration": 856,
    "start_time": "2021-09-25T16:38:47.260Z"
   },
   {
    "duration": 130,
    "start_time": "2021-09-25T16:38:48.119Z"
   },
   {
    "duration": 6,
    "start_time": "2021-09-25T16:38:48.251Z"
   },
   {
    "duration": 16,
    "start_time": "2021-09-25T16:38:48.258Z"
   },
   {
    "duration": 518,
    "start_time": "2021-09-25T16:38:48.276Z"
   },
   {
    "duration": 586,
    "start_time": "2021-09-25T16:38:48.796Z"
   },
   {
    "duration": 4,
    "start_time": "2021-09-25T16:38:49.386Z"
   },
   {
    "duration": 131,
    "start_time": "2021-09-25T16:38:49.393Z"
   },
   {
    "duration": 76,
    "start_time": "2021-09-25T16:38:49.527Z"
   },
   {
    "duration": 10,
    "start_time": "2021-09-25T16:38:49.605Z"
   },
   {
    "duration": 159,
    "start_time": "2021-09-25T16:38:49.617Z"
   },
   {
    "duration": 198,
    "start_time": "2021-09-25T16:38:49.778Z"
   },
   {
    "duration": 110,
    "start_time": "2021-09-25T16:38:49.978Z"
   },
   {
    "duration": 117,
    "start_time": "2021-09-25T16:38:50.090Z"
   },
   {
    "duration": 8,
    "start_time": "2021-09-25T16:38:50.209Z"
   },
   {
    "duration": 358,
    "start_time": "2021-09-25T16:38:50.219Z"
   },
   {
    "duration": 39,
    "start_time": "2021-09-25T16:38:50.579Z"
   },
   {
    "duration": 30,
    "start_time": "2021-09-25T16:38:50.620Z"
   },
   {
    "duration": 22,
    "start_time": "2021-09-25T16:38:50.653Z"
   },
   {
    "duration": 131,
    "start_time": "2021-09-25T16:38:50.677Z"
   },
   {
    "duration": 81,
    "start_time": "2021-09-25T16:38:50.811Z"
   },
   {
    "duration": 366,
    "start_time": "2021-09-25T16:38:50.896Z"
   },
   {
    "duration": 275,
    "start_time": "2021-09-25T16:38:51.265Z"
   },
   {
    "duration": 15,
    "start_time": "2021-09-25T16:38:51.541Z"
   },
   {
    "duration": 13,
    "start_time": "2021-09-25T16:38:51.557Z"
   },
   {
    "duration": 592,
    "start_time": "2021-09-25T16:38:51.572Z"
   },
   {
    "duration": 88,
    "start_time": "2021-09-25T16:38:52.166Z"
   },
   {
    "duration": 77,
    "start_time": "2021-09-25T16:38:52.256Z"
   },
   {
    "duration": 300,
    "start_time": "2021-09-25T16:38:52.335Z"
   },
   {
    "duration": 33,
    "start_time": "2021-09-25T16:45:07.000Z"
   },
   {
    "duration": 49,
    "start_time": "2021-09-25T16:47:35.527Z"
   },
   {
    "duration": 55,
    "start_time": "2021-09-25T16:47:56.702Z"
   },
   {
    "duration": 40,
    "start_time": "2021-09-25T16:48:06.925Z"
   },
   {
    "duration": 46,
    "start_time": "2021-09-25T16:48:18.548Z"
   },
   {
    "duration": 37,
    "start_time": "2021-09-25T16:48:26.317Z"
   },
   {
    "duration": 629,
    "start_time": "2021-09-25T17:00:06.188Z"
   },
   {
    "duration": 81,
    "start_time": "2021-09-25T17:00:18.546Z"
   },
   {
    "duration": 83,
    "start_time": "2021-09-25T17:00:28.585Z"
   },
   {
    "duration": 20,
    "start_time": "2021-09-25T17:09:39.770Z"
   },
   {
    "duration": 1495,
    "start_time": "2021-09-26T10:54:26.796Z"
   },
   {
    "duration": 1189,
    "start_time": "2021-09-26T10:54:28.295Z"
   },
   {
    "duration": 169,
    "start_time": "2021-09-26T10:54:29.487Z"
   },
   {
    "duration": 8,
    "start_time": "2021-09-26T10:54:29.659Z"
   },
   {
    "duration": 34,
    "start_time": "2021-09-26T10:54:29.670Z"
   },
   {
    "duration": 714,
    "start_time": "2021-09-26T10:54:29.707Z"
   },
   {
    "duration": 769,
    "start_time": "2021-09-26T10:54:30.423Z"
   },
   {
    "duration": 5,
    "start_time": "2021-09-26T10:54:31.194Z"
   },
   {
    "duration": 112,
    "start_time": "2021-09-26T10:54:31.203Z"
   },
   {
    "duration": 71,
    "start_time": "2021-09-26T10:54:31.318Z"
   },
   {
    "duration": 9,
    "start_time": "2021-09-26T10:54:31.392Z"
   },
   {
    "duration": 109,
    "start_time": "2021-09-26T10:54:31.403Z"
   },
   {
    "duration": 173,
    "start_time": "2021-09-26T10:54:31.515Z"
   },
   {
    "duration": 117,
    "start_time": "2021-09-26T10:54:31.691Z"
   },
   {
    "duration": 153,
    "start_time": "2021-09-26T10:54:31.811Z"
   },
   {
    "duration": 11,
    "start_time": "2021-09-26T10:54:31.967Z"
   },
   {
    "duration": 489,
    "start_time": "2021-09-26T10:54:31.980Z"
   },
   {
    "duration": 32,
    "start_time": "2021-09-26T10:54:32.472Z"
   },
   {
    "duration": 20,
    "start_time": "2021-09-26T10:54:32.506Z"
   },
   {
    "duration": 46,
    "start_time": "2021-09-26T10:54:32.529Z"
   },
   {
    "duration": 188,
    "start_time": "2021-09-26T10:54:32.577Z"
   },
   {
    "duration": 103,
    "start_time": "2021-09-26T10:54:32.768Z"
   },
   {
    "duration": 507,
    "start_time": "2021-09-26T10:54:32.874Z"
   },
   {
    "duration": 448,
    "start_time": "2021-09-26T10:54:33.383Z"
   },
   {
    "duration": 24,
    "start_time": "2021-09-26T10:54:33.833Z"
   },
   {
    "duration": 13,
    "start_time": "2021-09-26T10:54:33.859Z"
   },
   {
    "duration": 338,
    "start_time": "2021-09-26T10:54:33.877Z"
   },
   {
    "duration": 87,
    "start_time": "2021-09-26T10:54:34.218Z"
   },
   {
    "duration": 105,
    "start_time": "2021-09-26T10:54:34.308Z"
   },
   {
    "duration": 519,
    "start_time": "2021-09-26T10:54:34.415Z"
   },
   {
    "duration": 52,
    "start_time": "2021-09-26T10:54:34.937Z"
   },
   {
    "duration": 65,
    "start_time": "2021-09-26T10:54:34.991Z"
   },
   {
    "duration": 55,
    "start_time": "2021-09-26T10:54:35.058Z"
   },
   {
    "duration": 61,
    "start_time": "2021-09-26T10:54:35.115Z"
   },
   {
    "duration": 52,
    "start_time": "2021-09-26T10:54:35.179Z"
   },
   {
    "duration": 55,
    "start_time": "2021-09-26T10:54:35.233Z"
   },
   {
    "duration": 123,
    "start_time": "2021-09-26T10:54:35.290Z"
   },
   {
    "duration": 101,
    "start_time": "2021-09-26T10:54:35.415Z"
   },
   {
    "duration": 42,
    "start_time": "2021-09-26T10:54:35.518Z"
   },
   {
    "duration": 164,
    "start_time": "2021-09-26T10:54:35.563Z"
   },
   {
    "duration": 5,
    "start_time": "2021-09-26T10:54:35.730Z"
   },
   {
    "duration": 147,
    "start_time": "2021-09-26T10:54:35.737Z"
   },
   {
    "duration": 5,
    "start_time": "2021-09-26T10:54:35.886Z"
   },
   {
    "duration": 134,
    "start_time": "2021-09-26T10:54:35.893Z"
   },
   {
    "duration": 5,
    "start_time": "2021-09-26T11:12:25.448Z"
   },
   {
    "duration": 4,
    "start_time": "2021-09-26T11:15:34.094Z"
   },
   {
    "duration": 491,
    "start_time": "2021-09-26T11:20:16.165Z"
   },
   {
    "duration": 390,
    "start_time": "2021-09-26T11:24:10.155Z"
   },
   {
    "duration": 9,
    "start_time": "2021-09-26T11:24:17.807Z"
   },
   {
    "duration": 247,
    "start_time": "2021-09-26T11:25:54.124Z"
   },
   {
    "duration": 248,
    "start_time": "2021-09-26T11:27:41.777Z"
   },
   {
    "duration": 4,
    "start_time": "2021-09-26T11:28:32.030Z"
   },
   {
    "duration": 258,
    "start_time": "2021-09-26T11:29:06.674Z"
   },
   {
    "duration": 335,
    "start_time": "2021-09-26T11:29:20.712Z"
   },
   {
    "duration": 18,
    "start_time": "2021-09-26T11:31:47.261Z"
   },
   {
    "duration": 20,
    "start_time": "2021-09-26T11:31:57.046Z"
   },
   {
    "duration": 9,
    "start_time": "2021-09-26T11:33:22.823Z"
   },
   {
    "duration": 4,
    "start_time": "2021-09-26T11:33:24.985Z"
   },
   {
    "duration": 6,
    "start_time": "2021-09-26T11:33:44.357Z"
   },
   {
    "duration": 15,
    "start_time": "2021-09-26T11:33:49.414Z"
   },
   {
    "duration": 1556,
    "start_time": "2021-09-26T11:36:41.396Z"
   },
   {
    "duration": 1080,
    "start_time": "2021-09-26T11:36:42.955Z"
   },
   {
    "duration": 165,
    "start_time": "2021-09-26T11:36:44.038Z"
   },
   {
    "duration": 7,
    "start_time": "2021-09-26T11:36:44.205Z"
   },
   {
    "duration": 42,
    "start_time": "2021-09-26T11:36:44.215Z"
   },
   {
    "duration": 625,
    "start_time": "2021-09-26T11:36:44.259Z"
   },
   {
    "duration": 694,
    "start_time": "2021-09-26T11:36:44.886Z"
   },
   {
    "duration": 5,
    "start_time": "2021-09-26T11:36:45.583Z"
   },
   {
    "duration": 118,
    "start_time": "2021-09-26T11:36:45.591Z"
   },
   {
    "duration": 72,
    "start_time": "2021-09-26T11:36:45.712Z"
   },
   {
    "duration": 8,
    "start_time": "2021-09-26T11:36:45.787Z"
   },
   {
    "duration": 113,
    "start_time": "2021-09-26T11:36:45.797Z"
   },
   {
    "duration": 170,
    "start_time": "2021-09-26T11:36:45.912Z"
   },
   {
    "duration": 114,
    "start_time": "2021-09-26T11:36:46.085Z"
   },
   {
    "duration": 155,
    "start_time": "2021-09-26T11:36:46.201Z"
   },
   {
    "duration": 13,
    "start_time": "2021-09-26T11:36:46.359Z"
   },
   {
    "duration": 502,
    "start_time": "2021-09-26T11:36:46.374Z"
   },
   {
    "duration": 33,
    "start_time": "2021-09-26T11:36:46.879Z"
   },
   {
    "duration": 43,
    "start_time": "2021-09-26T11:36:46.914Z"
   },
   {
    "duration": 23,
    "start_time": "2021-09-26T11:36:46.960Z"
   },
   {
    "duration": 187,
    "start_time": "2021-09-26T11:36:46.986Z"
   },
   {
    "duration": 101,
    "start_time": "2021-09-26T11:36:47.175Z"
   },
   {
    "duration": 499,
    "start_time": "2021-09-26T11:36:47.283Z"
   },
   {
    "duration": 423,
    "start_time": "2021-09-26T11:36:47.785Z"
   },
   {
    "duration": 12,
    "start_time": "2021-09-26T11:36:48.210Z"
   },
   {
    "duration": 33,
    "start_time": "2021-09-26T11:36:48.224Z"
   },
   {
    "duration": 337,
    "start_time": "2021-09-26T11:36:48.259Z"
   },
   {
    "duration": 85,
    "start_time": "2021-09-26T11:36:48.598Z"
   },
   {
    "duration": 107,
    "start_time": "2021-09-26T11:36:48.685Z"
   },
   {
    "duration": 520,
    "start_time": "2021-09-26T11:36:48.794Z"
   },
   {
    "duration": 52,
    "start_time": "2021-09-26T11:36:49.317Z"
   },
   {
    "duration": 45,
    "start_time": "2021-09-26T11:36:49.372Z"
   },
   {
    "duration": 65,
    "start_time": "2021-09-26T11:36:49.420Z"
   },
   {
    "duration": 48,
    "start_time": "2021-09-26T11:36:49.487Z"
   },
   {
    "duration": 58,
    "start_time": "2021-09-26T11:36:49.537Z"
   },
   {
    "duration": 45,
    "start_time": "2021-09-26T11:36:49.598Z"
   },
   {
    "duration": 121,
    "start_time": "2021-09-26T11:36:49.657Z"
   },
   {
    "duration": 99,
    "start_time": "2021-09-26T11:36:49.781Z"
   },
   {
    "duration": 28,
    "start_time": "2021-09-26T11:36:49.883Z"
   },
   {
    "duration": 199,
    "start_time": "2021-09-26T11:36:49.914Z"
   },
   {
    "duration": 7,
    "start_time": "2021-09-26T11:36:50.115Z"
   },
   {
    "duration": 151,
    "start_time": "2021-09-26T11:36:50.125Z"
   },
   {
    "duration": 7,
    "start_time": "2021-09-26T11:36:50.278Z"
   },
   {
    "duration": 15,
    "start_time": "2021-09-26T11:36:50.287Z"
   },
   {
    "duration": 7,
    "start_time": "2021-09-26T11:36:50.304Z"
   },
   {
    "duration": 52,
    "start_time": "2021-09-26T11:36:50.313Z"
   },
   {
    "duration": 5,
    "start_time": "2021-09-26T11:40:25.066Z"
   },
   {
    "duration": 5,
    "start_time": "2021-09-26T11:40:26.722Z"
   },
   {
    "duration": 13,
    "start_time": "2021-09-26T11:40:28.712Z"
   },
   {
    "duration": 708,
    "start_time": "2021-09-26T11:48:57.407Z"
   },
   {
    "duration": 5,
    "start_time": "2021-09-26T11:53:48.214Z"
   },
   {
    "duration": 3491,
    "start_time": "2021-09-26T11:53:52.001Z"
   },
   {
    "duration": 377,
    "start_time": "2021-09-26T11:55:29.616Z"
   },
   {
    "duration": 364,
    "start_time": "2021-09-26T11:55:54.094Z"
   },
   {
    "duration": 360,
    "start_time": "2021-09-26T11:57:19.188Z"
   },
   {
    "duration": 2619,
    "start_time": "2021-09-26T11:58:25.183Z"
   },
   {
    "duration": 10,
    "start_time": "2021-09-26T11:59:11.192Z"
   },
   {
    "duration": 10,
    "start_time": "2021-09-26T11:59:29.222Z"
   },
   {
    "duration": 1673,
    "start_time": "2021-09-26T11:59:42.466Z"
   },
   {
    "duration": 1097,
    "start_time": "2021-09-26T11:59:44.141Z"
   },
   {
    "duration": 172,
    "start_time": "2021-09-26T11:59:45.242Z"
   },
   {
    "duration": 8,
    "start_time": "2021-09-26T11:59:45.416Z"
   },
   {
    "duration": 40,
    "start_time": "2021-09-26T11:59:45.427Z"
   },
   {
    "duration": 627,
    "start_time": "2021-09-26T11:59:45.469Z"
   },
   {
    "duration": 684,
    "start_time": "2021-09-26T11:59:46.098Z"
   },
   {
    "duration": 5,
    "start_time": "2021-09-26T11:59:46.785Z"
   },
   {
    "duration": 102,
    "start_time": "2021-09-26T11:59:46.793Z"
   },
   {
    "duration": 72,
    "start_time": "2021-09-26T11:59:46.897Z"
   },
   {
    "duration": 9,
    "start_time": "2021-09-26T11:59:46.972Z"
   },
   {
    "duration": 114,
    "start_time": "2021-09-26T11:59:46.983Z"
   },
   {
    "duration": 178,
    "start_time": "2021-09-26T11:59:47.100Z"
   },
   {
    "duration": 126,
    "start_time": "2021-09-26T11:59:47.280Z"
   },
   {
    "duration": 162,
    "start_time": "2021-09-26T11:59:47.408Z"
   },
   {
    "duration": 12,
    "start_time": "2021-09-26T11:59:47.572Z"
   },
   {
    "duration": 508,
    "start_time": "2021-09-26T11:59:47.586Z"
   },
   {
    "duration": 33,
    "start_time": "2021-09-26T11:59:48.097Z"
   },
   {
    "duration": 35,
    "start_time": "2021-09-26T11:59:48.133Z"
   },
   {
    "duration": 23,
    "start_time": "2021-09-26T11:59:48.170Z"
   },
   {
    "duration": 208,
    "start_time": "2021-09-26T11:59:48.195Z"
   },
   {
    "duration": 105,
    "start_time": "2021-09-26T11:59:48.406Z"
   },
   {
    "duration": 512,
    "start_time": "2021-09-26T11:59:48.517Z"
   },
   {
    "duration": 447,
    "start_time": "2021-09-26T11:59:49.032Z"
   },
   {
    "duration": 11,
    "start_time": "2021-09-26T11:59:49.482Z"
   },
   {
    "duration": 12,
    "start_time": "2021-09-26T11:59:49.496Z"
   },
   {
    "duration": 353,
    "start_time": "2021-09-26T11:59:49.510Z"
   },
   {
    "duration": 74,
    "start_time": "2021-09-26T11:59:49.866Z"
   },
   {
    "duration": 121,
    "start_time": "2021-09-26T11:59:49.942Z"
   },
   {
    "duration": 516,
    "start_time": "2021-09-26T11:59:50.065Z"
   },
   {
    "duration": 43,
    "start_time": "2021-09-26T11:59:50.584Z"
   },
   {
    "duration": 59,
    "start_time": "2021-09-26T11:59:50.629Z"
   },
   {
    "duration": 50,
    "start_time": "2021-09-26T11:59:50.690Z"
   },
   {
    "duration": 50,
    "start_time": "2021-09-26T11:59:50.742Z"
   },
   {
    "duration": 49,
    "start_time": "2021-09-26T11:59:50.794Z"
   },
   {
    "duration": 42,
    "start_time": "2021-09-26T11:59:50.856Z"
   },
   {
    "duration": 128,
    "start_time": "2021-09-26T11:59:50.900Z"
   },
   {
    "duration": 102,
    "start_time": "2021-09-26T11:59:51.031Z"
   },
   {
    "duration": 40,
    "start_time": "2021-09-26T11:59:51.136Z"
   },
   {
    "duration": 173,
    "start_time": "2021-09-26T11:59:51.178Z"
   },
   {
    "duration": 6,
    "start_time": "2021-09-26T11:59:51.353Z"
   },
   {
    "duration": 147,
    "start_time": "2021-09-26T11:59:51.361Z"
   },
   {
    "duration": 6,
    "start_time": "2021-09-26T11:59:51.510Z"
   },
   {
    "duration": 19,
    "start_time": "2021-09-26T11:59:51.518Z"
   },
   {
    "duration": 18,
    "start_time": "2021-09-26T11:59:51.539Z"
   },
   {
    "duration": 12,
    "start_time": "2021-09-26T11:59:51.560Z"
   },
   {
    "duration": 8,
    "start_time": "2021-09-26T11:59:51.575Z"
   },
   {
    "duration": 6,
    "start_time": "2021-09-26T11:59:51.586Z"
   },
   {
    "duration": 18,
    "start_time": "2021-09-26T11:59:51.595Z"
   },
   {
    "duration": 672,
    "start_time": "2021-09-26T11:59:51.616Z"
   },
   {
    "duration": 3505,
    "start_time": "2021-09-26T11:59:52.290Z"
   },
   {
    "duration": 25,
    "start_time": "2021-09-26T12:07:52.397Z"
   },
   {
    "duration": 531,
    "start_time": "2021-09-26T12:10:44.131Z"
   },
   {
    "duration": 1650,
    "start_time": "2021-09-26T12:10:57.826Z"
   },
   {
    "duration": 1193,
    "start_time": "2021-09-26T12:10:59.480Z"
   },
   {
    "duration": 162,
    "start_time": "2021-09-26T12:11:00.676Z"
   },
   {
    "duration": 7,
    "start_time": "2021-09-26T12:11:00.841Z"
   },
   {
    "duration": 55,
    "start_time": "2021-09-26T12:11:00.856Z"
   },
   {
    "duration": 707,
    "start_time": "2021-09-26T12:11:00.914Z"
   },
   {
    "duration": 916,
    "start_time": "2021-09-26T12:11:01.623Z"
   },
   {
    "duration": 5,
    "start_time": "2021-09-26T12:11:02.543Z"
   },
   {
    "duration": 104,
    "start_time": "2021-09-26T12:11:02.550Z"
   },
   {
    "duration": 63,
    "start_time": "2021-09-26T12:11:02.656Z"
   },
   {
    "duration": 10,
    "start_time": "2021-09-26T12:11:02.721Z"
   },
   {
    "duration": 94,
    "start_time": "2021-09-26T12:11:02.733Z"
   },
   {
    "duration": 171,
    "start_time": "2021-09-26T12:11:02.829Z"
   },
   {
    "duration": 151,
    "start_time": "2021-09-26T12:11:03.003Z"
   },
   {
    "duration": 146,
    "start_time": "2021-09-26T12:11:03.157Z"
   },
   {
    "duration": 11,
    "start_time": "2021-09-26T12:11:03.305Z"
   },
   {
    "duration": 601,
    "start_time": "2021-09-26T12:11:03.318Z"
   },
   {
    "duration": 44,
    "start_time": "2021-09-26T12:11:03.922Z"
   },
   {
    "duration": 21,
    "start_time": "2021-09-26T12:11:03.968Z"
   },
   {
    "duration": 65,
    "start_time": "2021-09-26T12:11:03.992Z"
   },
   {
    "duration": 303,
    "start_time": "2021-09-26T12:11:04.060Z"
   },
   {
    "duration": 211,
    "start_time": "2021-09-26T12:11:04.366Z"
   },
   {
    "duration": 790,
    "start_time": "2021-09-26T12:11:04.584Z"
   },
   {
    "duration": 439,
    "start_time": "2021-09-26T12:11:05.377Z"
   },
   {
    "duration": 15,
    "start_time": "2021-09-26T12:11:05.820Z"
   },
   {
    "duration": 13,
    "start_time": "2021-09-26T12:11:05.855Z"
   },
   {
    "duration": 354,
    "start_time": "2021-09-26T12:11:05.871Z"
   },
   {
    "duration": 88,
    "start_time": "2021-09-26T12:11:06.228Z"
   },
   {
    "duration": 103,
    "start_time": "2021-09-26T12:11:06.318Z"
   },
   {
    "duration": 560,
    "start_time": "2021-09-26T12:11:06.423Z"
   },
   {
    "duration": 51,
    "start_time": "2021-09-26T12:11:06.986Z"
   },
   {
    "duration": 60,
    "start_time": "2021-09-26T12:11:07.040Z"
   },
   {
    "duration": 67,
    "start_time": "2021-09-26T12:11:07.103Z"
   },
   {
    "duration": 47,
    "start_time": "2021-09-26T12:11:07.172Z"
   },
   {
    "duration": 72,
    "start_time": "2021-09-26T12:11:07.221Z"
   },
   {
    "duration": 46,
    "start_time": "2021-09-26T12:11:07.295Z"
   },
   {
    "duration": 121,
    "start_time": "2021-09-26T12:11:07.343Z"
   },
   {
    "duration": 104,
    "start_time": "2021-09-26T12:11:07.466Z"
   },
   {
    "duration": 2452,
    "start_time": "2021-09-26T12:11:07.573Z"
   },
   {
    "duration": -221,
    "start_time": "2021-09-26T12:11:10.248Z"
   },
   {
    "duration": -224,
    "start_time": "2021-09-26T12:11:10.253Z"
   },
   {
    "duration": -228,
    "start_time": "2021-09-26T12:11:10.258Z"
   },
   {
    "duration": -234,
    "start_time": "2021-09-26T12:11:10.266Z"
   },
   {
    "duration": -249,
    "start_time": "2021-09-26T12:11:10.282Z"
   },
   {
    "duration": -253,
    "start_time": "2021-09-26T12:11:10.288Z"
   },
   {
    "duration": -270,
    "start_time": "2021-09-26T12:11:10.306Z"
   },
   {
    "duration": -280,
    "start_time": "2021-09-26T12:11:10.318Z"
   },
   {
    "duration": -285,
    "start_time": "2021-09-26T12:11:10.324Z"
   },
   {
    "duration": -289,
    "start_time": "2021-09-26T12:11:10.330Z"
   },
   {
    "duration": -304,
    "start_time": "2021-09-26T12:11:10.346Z"
   },
   {
    "duration": -309,
    "start_time": "2021-09-26T12:11:10.353Z"
   },
   {
    "duration": -351,
    "start_time": "2021-09-26T12:11:10.396Z"
   },
   {
    "duration": -355,
    "start_time": "2021-09-26T12:11:10.402Z"
   },
   {
    "duration": 1434,
    "start_time": "2021-09-26T12:12:15.071Z"
   },
   {
    "duration": 26,
    "start_time": "2021-09-26T12:13:02.586Z"
   },
   {
    "duration": 44,
    "start_time": "2021-09-26T12:13:33.891Z"
   },
   {
    "duration": 6046,
    "start_time": "2021-09-26T12:14:36.237Z"
   },
   {
    "duration": 408,
    "start_time": "2021-09-26T12:16:08.417Z"
   },
   {
    "duration": 650,
    "start_time": "2021-09-26T12:18:32.060Z"
   },
   {
    "duration": 10876,
    "start_time": "2021-09-26T12:18:48.886Z"
   },
   {
    "duration": 394,
    "start_time": "2021-09-26T12:19:02.926Z"
   },
   {
    "duration": 45,
    "start_time": "2021-09-26T12:19:14.068Z"
   },
   {
    "duration": 363,
    "start_time": "2021-09-26T12:19:45.577Z"
   },
   {
    "duration": 238,
    "start_time": "2021-09-26T12:20:03.222Z"
   },
   {
    "duration": 408,
    "start_time": "2021-09-26T12:20:10.754Z"
   },
   {
    "duration": 1498,
    "start_time": "2021-09-26T12:23:02.466Z"
   },
   {
    "duration": 1489,
    "start_time": "2021-09-26T12:23:03.967Z"
   },
   {
    "duration": 164,
    "start_time": "2021-09-26T12:23:05.459Z"
   },
   {
    "duration": 7,
    "start_time": "2021-09-26T12:23:05.626Z"
   },
   {
    "duration": 38,
    "start_time": "2021-09-26T12:23:05.635Z"
   },
   {
    "duration": 754,
    "start_time": "2021-09-26T12:23:05.675Z"
   },
   {
    "duration": 685,
    "start_time": "2021-09-26T12:23:06.431Z"
   },
   {
    "duration": 6,
    "start_time": "2021-09-26T12:23:07.121Z"
   },
   {
    "duration": 162,
    "start_time": "2021-09-26T12:23:07.131Z"
   },
   {
    "duration": 87,
    "start_time": "2021-09-26T12:23:07.297Z"
   },
   {
    "duration": 10,
    "start_time": "2021-09-26T12:23:07.386Z"
   },
   {
    "duration": 110,
    "start_time": "2021-09-26T12:23:07.398Z"
   },
   {
    "duration": 172,
    "start_time": "2021-09-26T12:23:07.510Z"
   },
   {
    "duration": 118,
    "start_time": "2021-09-26T12:23:07.685Z"
   },
   {
    "duration": 151,
    "start_time": "2021-09-26T12:23:07.805Z"
   },
   {
    "duration": 11,
    "start_time": "2021-09-26T12:23:07.959Z"
   },
   {
    "duration": 485,
    "start_time": "2021-09-26T12:23:07.973Z"
   },
   {
    "duration": 32,
    "start_time": "2021-09-26T12:23:08.461Z"
   },
   {
    "duration": 21,
    "start_time": "2021-09-26T12:23:08.496Z"
   },
   {
    "duration": 49,
    "start_time": "2021-09-26T12:23:08.520Z"
   },
   {
    "duration": 187,
    "start_time": "2021-09-26T12:23:08.571Z"
   },
   {
    "duration": 105,
    "start_time": "2021-09-26T12:23:08.761Z"
   },
   {
    "duration": 472,
    "start_time": "2021-09-26T12:23:08.871Z"
   },
   {
    "duration": 472,
    "start_time": "2021-09-26T12:23:09.346Z"
   },
   {
    "duration": 14,
    "start_time": "2021-09-26T12:23:09.821Z"
   },
   {
    "duration": 16,
    "start_time": "2021-09-26T12:23:09.856Z"
   },
   {
    "duration": 335,
    "start_time": "2021-09-26T12:23:09.874Z"
   },
   {
    "duration": 86,
    "start_time": "2021-09-26T12:23:10.212Z"
   },
   {
    "duration": 109,
    "start_time": "2021-09-26T12:23:10.301Z"
   },
   {
    "duration": 605,
    "start_time": "2021-09-26T12:23:10.413Z"
   },
   {
    "duration": 49,
    "start_time": "2021-09-26T12:23:11.021Z"
   },
   {
    "duration": 60,
    "start_time": "2021-09-26T12:23:11.073Z"
   },
   {
    "duration": 51,
    "start_time": "2021-09-26T12:23:11.136Z"
   },
   {
    "duration": 49,
    "start_time": "2021-09-26T12:23:11.190Z"
   },
   {
    "duration": 47,
    "start_time": "2021-09-26T12:23:11.256Z"
   },
   {
    "duration": 62,
    "start_time": "2021-09-26T12:23:11.305Z"
   },
   {
    "duration": 37,
    "start_time": "2021-09-26T12:23:11.369Z"
   },
   {
    "duration": 105,
    "start_time": "2021-09-26T12:23:11.408Z"
   },
   {
    "duration": 86,
    "start_time": "2021-09-26T12:23:11.516Z"
   },
   {
    "duration": 24,
    "start_time": "2021-09-26T12:23:11.605Z"
   },
   {
    "duration": 167,
    "start_time": "2021-09-26T12:23:11.631Z"
   },
   {
    "duration": 6,
    "start_time": "2021-09-26T12:23:11.800Z"
   },
   {
    "duration": 147,
    "start_time": "2021-09-26T12:23:11.809Z"
   },
   {
    "duration": 6,
    "start_time": "2021-09-26T12:23:11.958Z"
   },
   {
    "duration": 16,
    "start_time": "2021-09-26T12:23:11.966Z"
   },
   {
    "duration": 5,
    "start_time": "2021-09-26T12:23:11.984Z"
   },
   {
    "duration": 21,
    "start_time": "2021-09-26T12:23:11.991Z"
   },
   {
    "duration": 8,
    "start_time": "2021-09-26T12:23:12.015Z"
   },
   {
    "duration": 34,
    "start_time": "2021-09-26T12:23:12.025Z"
   },
   {
    "duration": 15,
    "start_time": "2021-09-26T12:23:12.062Z"
   },
   {
    "duration": 339,
    "start_time": "2021-09-26T12:23:12.080Z"
   },
   {
    "duration": 670,
    "start_time": "2021-09-26T12:23:12.421Z"
   },
   {
    "duration": 551,
    "start_time": "2021-09-26T13:32:32.101Z"
   },
   {
    "duration": 24,
    "start_time": "2021-09-26T13:32:45.377Z"
   },
   {
    "duration": 3514,
    "start_time": "2021-09-26T13:32:49.274Z"
   },
   {
    "duration": 3580,
    "start_time": "2021-09-26T13:33:01.398Z"
   },
   {
    "duration": 3145,
    "start_time": "2021-09-26T13:33:18.715Z"
   },
   {
    "duration": 15,
    "start_time": "2021-09-26T13:33:31.537Z"
   },
   {
    "duration": 7,
    "start_time": "2021-09-26T13:33:36.569Z"
   },
   {
    "duration": 10032,
    "start_time": "2021-09-26T13:42:22.415Z"
   },
   {
    "duration": 1533,
    "start_time": "2021-09-26T13:42:40.751Z"
   },
   {
    "duration": 1059,
    "start_time": "2021-09-26T13:42:42.287Z"
   },
   {
    "duration": 165,
    "start_time": "2021-09-26T13:42:43.349Z"
   },
   {
    "duration": 8,
    "start_time": "2021-09-26T13:42:43.517Z"
   },
   {
    "duration": 41,
    "start_time": "2021-09-26T13:42:43.527Z"
   },
   {
    "duration": 625,
    "start_time": "2021-09-26T13:42:43.571Z"
   },
   {
    "duration": 1058,
    "start_time": "2021-09-26T13:42:44.199Z"
   },
   {
    "duration": 6,
    "start_time": "2021-09-26T13:42:45.260Z"
   },
   {
    "duration": 106,
    "start_time": "2021-09-26T13:42:45.270Z"
   },
   {
    "duration": 60,
    "start_time": "2021-09-26T13:42:45.380Z"
   },
   {
    "duration": 10,
    "start_time": "2021-09-26T13:42:45.455Z"
   },
   {
    "duration": 106,
    "start_time": "2021-09-26T13:42:45.468Z"
   },
   {
    "duration": 169,
    "start_time": "2021-09-26T13:42:45.576Z"
   },
   {
    "duration": 118,
    "start_time": "2021-09-26T13:42:45.747Z"
   },
   {
    "duration": 146,
    "start_time": "2021-09-26T13:42:45.868Z"
   },
   {
    "duration": 12,
    "start_time": "2021-09-26T13:42:46.017Z"
   },
   {
    "duration": 506,
    "start_time": "2021-09-26T13:42:46.031Z"
   },
   {
    "duration": 39,
    "start_time": "2021-09-26T13:42:46.539Z"
   },
   {
    "duration": 20,
    "start_time": "2021-09-26T13:42:46.581Z"
   },
   {
    "duration": 23,
    "start_time": "2021-09-26T13:42:46.604Z"
   },
   {
    "duration": 200,
    "start_time": "2021-09-26T13:42:46.629Z"
   },
   {
    "duration": 98,
    "start_time": "2021-09-26T13:42:46.831Z"
   },
   {
    "duration": 501,
    "start_time": "2021-09-26T13:42:46.931Z"
   },
   {
    "duration": 443,
    "start_time": "2021-09-26T13:42:47.436Z"
   },
   {
    "duration": 12,
    "start_time": "2021-09-26T13:42:47.882Z"
   },
   {
    "duration": 23,
    "start_time": "2021-09-26T13:42:47.897Z"
   },
   {
    "duration": 352,
    "start_time": "2021-09-26T13:42:47.926Z"
   },
   {
    "duration": 86,
    "start_time": "2021-09-26T13:42:48.281Z"
   },
   {
    "duration": 101,
    "start_time": "2021-09-26T13:42:48.369Z"
   },
   {
    "duration": 530,
    "start_time": "2021-09-26T13:42:48.472Z"
   },
   {
    "duration": 51,
    "start_time": "2021-09-26T13:42:49.004Z"
   },
   {
    "duration": 44,
    "start_time": "2021-09-26T13:42:49.058Z"
   },
   {
    "duration": 58,
    "start_time": "2021-09-26T13:42:49.104Z"
   },
   {
    "duration": 47,
    "start_time": "2021-09-26T13:42:49.164Z"
   },
   {
    "duration": 58,
    "start_time": "2021-09-26T13:42:49.213Z"
   },
   {
    "duration": 50,
    "start_time": "2021-09-26T13:42:49.274Z"
   },
   {
    "duration": 124,
    "start_time": "2021-09-26T13:42:49.326Z"
   },
   {
    "duration": 489,
    "start_time": "2021-09-26T13:42:49.453Z"
   },
   {
    "duration": -281,
    "start_time": "2021-09-26T13:42:50.225Z"
   },
   {
    "duration": -284,
    "start_time": "2021-09-26T13:42:50.229Z"
   },
   {
    "duration": -288,
    "start_time": "2021-09-26T13:42:50.236Z"
   },
   {
    "duration": -291,
    "start_time": "2021-09-26T13:42:50.240Z"
   },
   {
    "duration": -297,
    "start_time": "2021-09-26T13:42:50.247Z"
   },
   {
    "duration": -306,
    "start_time": "2021-09-26T13:42:50.258Z"
   },
   {
    "duration": -309,
    "start_time": "2021-09-26T13:42:50.263Z"
   },
   {
    "duration": -314,
    "start_time": "2021-09-26T13:42:50.269Z"
   },
   {
    "duration": -316,
    "start_time": "2021-09-26T13:42:50.273Z"
   },
   {
    "duration": -325,
    "start_time": "2021-09-26T13:42:50.283Z"
   },
   {
    "duration": -327,
    "start_time": "2021-09-26T13:42:50.287Z"
   },
   {
    "duration": -337,
    "start_time": "2021-09-26T13:42:50.299Z"
   },
   {
    "duration": -348,
    "start_time": "2021-09-26T13:42:50.311Z"
   },
   {
    "duration": -351,
    "start_time": "2021-09-26T13:42:50.315Z"
   },
   {
    "duration": -368,
    "start_time": "2021-09-26T13:42:50.334Z"
   },
   {
    "duration": -371,
    "start_time": "2021-09-26T13:42:50.338Z"
   },
   {
    "duration": -374,
    "start_time": "2021-09-26T13:42:50.342Z"
   },
   {
    "duration": -376,
    "start_time": "2021-09-26T13:42:50.346Z"
   },
   {
    "duration": 392,
    "start_time": "2021-09-26T13:44:49.479Z"
   },
   {
    "duration": 362,
    "start_time": "2021-09-26T13:46:02.287Z"
   },
   {
    "duration": 375,
    "start_time": "2021-09-26T13:46:16.079Z"
   },
   {
    "duration": 151,
    "start_time": "2021-09-26T13:46:34.931Z"
   },
   {
    "duration": 38,
    "start_time": "2021-09-26T13:47:29.515Z"
   },
   {
    "duration": 6,
    "start_time": "2021-09-26T13:48:07.970Z"
   },
   {
    "duration": 142,
    "start_time": "2021-09-26T13:49:23.426Z"
   },
   {
    "duration": 2698,
    "start_time": "2021-09-26T13:50:13.511Z"
   },
   {
    "duration": 20,
    "start_time": "2021-09-26T13:51:53.194Z"
   },
   {
    "duration": 38,
    "start_time": "2021-09-26T13:53:01.188Z"
   },
   {
    "duration": 38,
    "start_time": "2021-09-26T13:55:18.025Z"
   },
   {
    "duration": 6717,
    "start_time": "2021-09-26T13:57:08.670Z"
   },
   {
    "duration": 67,
    "start_time": "2021-09-26T13:58:02.159Z"
   },
   {
    "duration": 99,
    "start_time": "2021-09-26T13:58:21.465Z"
   },
   {
    "duration": 1557,
    "start_time": "2021-09-26T14:00:50.416Z"
   },
   {
    "duration": 1100,
    "start_time": "2021-09-26T14:00:51.976Z"
   },
   {
    "duration": 168,
    "start_time": "2021-09-26T14:00:53.079Z"
   },
   {
    "duration": 12,
    "start_time": "2021-09-26T14:00:53.249Z"
   },
   {
    "duration": 28,
    "start_time": "2021-09-26T14:00:53.263Z"
   },
   {
    "duration": 637,
    "start_time": "2021-09-26T14:00:53.293Z"
   },
   {
    "duration": 681,
    "start_time": "2021-09-26T14:00:53.932Z"
   },
   {
    "duration": 4,
    "start_time": "2021-09-26T14:00:54.617Z"
   },
   {
    "duration": 101,
    "start_time": "2021-09-26T14:00:54.624Z"
   },
   {
    "duration": 70,
    "start_time": "2021-09-26T14:00:54.728Z"
   },
   {
    "duration": 9,
    "start_time": "2021-09-26T14:00:54.800Z"
   },
   {
    "duration": 109,
    "start_time": "2021-09-26T14:00:54.811Z"
   },
   {
    "duration": 179,
    "start_time": "2021-09-26T14:00:54.923Z"
   },
   {
    "duration": 124,
    "start_time": "2021-09-26T14:00:55.105Z"
   },
   {
    "duration": 163,
    "start_time": "2021-09-26T14:00:55.232Z"
   },
   {
    "duration": 13,
    "start_time": "2021-09-26T14:00:55.398Z"
   },
   {
    "duration": 530,
    "start_time": "2021-09-26T14:00:55.414Z"
   },
   {
    "duration": 36,
    "start_time": "2021-09-26T14:00:55.947Z"
   },
   {
    "duration": 22,
    "start_time": "2021-09-26T14:00:55.986Z"
   },
   {
    "duration": 52,
    "start_time": "2021-09-26T14:00:56.011Z"
   },
   {
    "duration": 183,
    "start_time": "2021-09-26T14:00:56.065Z"
   },
   {
    "duration": 113,
    "start_time": "2021-09-26T14:00:56.250Z"
   },
   {
    "duration": 484,
    "start_time": "2021-09-26T14:00:56.368Z"
   },
   {
    "duration": 425,
    "start_time": "2021-09-26T14:00:56.855Z"
   },
   {
    "duration": 12,
    "start_time": "2021-09-26T14:00:57.283Z"
   },
   {
    "duration": 17,
    "start_time": "2021-09-26T14:00:57.297Z"
   },
   {
    "duration": 353,
    "start_time": "2021-09-26T14:00:57.317Z"
   },
   {
    "duration": 85,
    "start_time": "2021-09-26T14:00:57.679Z"
   },
   {
    "duration": 104,
    "start_time": "2021-09-26T14:00:57.766Z"
   },
   {
    "duration": 537,
    "start_time": "2021-09-26T14:00:57.872Z"
   },
   {
    "duration": 53,
    "start_time": "2021-09-26T14:00:58.411Z"
   },
   {
    "duration": 54,
    "start_time": "2021-09-26T14:00:58.466Z"
   },
   {
    "duration": 88,
    "start_time": "2021-09-26T14:00:58.523Z"
   },
   {
    "duration": 51,
    "start_time": "2021-09-26T14:00:58.613Z"
   },
   {
    "duration": 69,
    "start_time": "2021-09-26T14:00:58.667Z"
   },
   {
    "duration": 51,
    "start_time": "2021-09-26T14:00:58.739Z"
   },
   {
    "duration": 138,
    "start_time": "2021-09-26T14:00:58.793Z"
   },
   {
    "duration": 7074,
    "start_time": "2021-09-26T14:00:58.934Z"
   },
   {
    "duration": 54,
    "start_time": "2021-09-26T14:01:06.011Z"
   },
   {
    "duration": 113,
    "start_time": "2021-09-26T14:01:06.068Z"
   },
   {
    "duration": 27,
    "start_time": "2021-09-26T14:01:06.184Z"
   },
   {
    "duration": 188,
    "start_time": "2021-09-26T14:01:06.214Z"
   },
   {
    "duration": 5,
    "start_time": "2021-09-26T14:01:06.405Z"
   },
   {
    "duration": 153,
    "start_time": "2021-09-26T14:01:06.413Z"
   },
   {
    "duration": 6,
    "start_time": "2021-09-26T14:01:06.568Z"
   },
   {
    "duration": 14,
    "start_time": "2021-09-26T14:01:06.576Z"
   },
   {
    "duration": 5,
    "start_time": "2021-09-26T14:01:06.592Z"
   },
   {
    "duration": 14,
    "start_time": "2021-09-26T14:01:06.599Z"
   },
   {
    "duration": 43,
    "start_time": "2021-09-26T14:01:06.616Z"
   },
   {
    "duration": 9,
    "start_time": "2021-09-26T14:01:06.662Z"
   },
   {
    "duration": 23,
    "start_time": "2021-09-26T14:01:06.673Z"
   },
   {
    "duration": 590,
    "start_time": "2021-09-26T14:01:06.698Z"
   },
   {
    "duration": 3488,
    "start_time": "2021-09-26T14:01:07.290Z"
   },
   {
    "duration": 17785,
    "start_time": "2021-09-26T14:01:10.781Z"
   },
   {
    "duration": 95,
    "start_time": "2021-09-26T14:01:28.568Z"
   },
   {
    "duration": 98,
    "start_time": "2021-09-26T14:01:28.666Z"
   },
   {
    "duration": 1571,
    "start_time": "2021-09-26T15:33:12.836Z"
   },
   {
    "duration": 1385,
    "start_time": "2021-09-26T15:33:14.410Z"
   },
   {
    "duration": 169,
    "start_time": "2021-09-26T15:33:15.798Z"
   },
   {
    "duration": 7,
    "start_time": "2021-09-26T15:33:15.971Z"
   },
   {
    "duration": 24,
    "start_time": "2021-09-26T15:33:15.982Z"
   },
   {
    "duration": 767,
    "start_time": "2021-09-26T15:33:16.009Z"
   },
   {
    "duration": 818,
    "start_time": "2021-09-26T15:33:16.778Z"
   },
   {
    "duration": 5,
    "start_time": "2021-09-26T15:33:17.600Z"
   },
   {
    "duration": 104,
    "start_time": "2021-09-26T15:33:17.608Z"
   },
   {
    "duration": 76,
    "start_time": "2021-09-26T15:33:17.714Z"
   },
   {
    "duration": 9,
    "start_time": "2021-09-26T15:33:17.792Z"
   },
   {
    "duration": 107,
    "start_time": "2021-09-26T15:33:17.804Z"
   },
   {
    "duration": 176,
    "start_time": "2021-09-26T15:33:17.914Z"
   },
   {
    "duration": 123,
    "start_time": "2021-09-26T15:33:18.093Z"
   },
   {
    "duration": 153,
    "start_time": "2021-09-26T15:33:18.220Z"
   },
   {
    "duration": 13,
    "start_time": "2021-09-26T15:33:18.376Z"
   },
   {
    "duration": 519,
    "start_time": "2021-09-26T15:33:18.392Z"
   },
   {
    "duration": 32,
    "start_time": "2021-09-26T15:33:18.914Z"
   },
   {
    "duration": 23,
    "start_time": "2021-09-26T15:33:18.956Z"
   },
   {
    "duration": 24,
    "start_time": "2021-09-26T15:33:18.981Z"
   },
   {
    "duration": 201,
    "start_time": "2021-09-26T15:33:19.008Z"
   },
   {
    "duration": 102,
    "start_time": "2021-09-26T15:33:19.211Z"
   },
   {
    "duration": 556,
    "start_time": "2021-09-26T15:33:19.319Z"
   },
   {
    "duration": 435,
    "start_time": "2021-09-26T15:33:19.878Z"
   },
   {
    "duration": 11,
    "start_time": "2021-09-26T15:33:20.316Z"
   },
   {
    "duration": 30,
    "start_time": "2021-09-26T15:33:20.330Z"
   },
   {
    "duration": 402,
    "start_time": "2021-09-26T15:33:20.362Z"
   },
   {
    "duration": 90,
    "start_time": "2021-09-26T15:33:20.766Z"
   },
   {
    "duration": 102,
    "start_time": "2021-09-26T15:33:20.858Z"
   },
   {
    "duration": 513,
    "start_time": "2021-09-26T15:33:20.962Z"
   },
   {
    "duration": 44,
    "start_time": "2021-09-26T15:33:21.477Z"
   },
   {
    "duration": 60,
    "start_time": "2021-09-26T15:33:21.524Z"
   },
   {
    "duration": 48,
    "start_time": "2021-09-26T15:33:21.587Z"
   },
   {
    "duration": 56,
    "start_time": "2021-09-26T15:33:21.638Z"
   },
   {
    "duration": 61,
    "start_time": "2021-09-26T15:33:21.696Z"
   },
   {
    "duration": 42,
    "start_time": "2021-09-26T15:33:21.760Z"
   },
   {
    "duration": 134,
    "start_time": "2021-09-26T15:33:21.804Z"
   },
   {
    "duration": 6920,
    "start_time": "2021-09-26T15:33:21.941Z"
   },
   {
    "duration": 44,
    "start_time": "2021-09-26T15:33:28.864Z"
   },
   {
    "duration": 119,
    "start_time": "2021-09-26T15:33:28.911Z"
   },
   {
    "duration": 36,
    "start_time": "2021-09-26T15:33:29.032Z"
   },
   {
    "duration": 175,
    "start_time": "2021-09-26T15:33:29.070Z"
   },
   {
    "duration": 10,
    "start_time": "2021-09-26T15:33:29.247Z"
   },
   {
    "duration": 152,
    "start_time": "2021-09-26T15:33:29.259Z"
   },
   {
    "duration": 5,
    "start_time": "2021-09-26T15:33:29.413Z"
   },
   {
    "duration": 16,
    "start_time": "2021-09-26T15:33:29.421Z"
   },
   {
    "duration": 5,
    "start_time": "2021-09-26T15:33:29.456Z"
   },
   {
    "duration": 20,
    "start_time": "2021-09-26T15:33:29.464Z"
   },
   {
    "duration": 7,
    "start_time": "2021-09-26T15:33:29.486Z"
   },
   {
    "duration": 7,
    "start_time": "2021-09-26T15:33:29.495Z"
   },
   {
    "duration": 15,
    "start_time": "2021-09-26T15:33:29.504Z"
   },
   {
    "duration": 581,
    "start_time": "2021-09-26T15:33:29.555Z"
   },
   {
    "duration": 2922,
    "start_time": "2021-09-26T15:33:30.138Z"
   },
   {
    "duration": 18497,
    "start_time": "2021-09-26T15:33:33.062Z"
   },
   {
    "duration": 101,
    "start_time": "2021-09-26T15:33:51.561Z"
   },
   {
    "duration": 96,
    "start_time": "2021-09-26T15:33:51.666Z"
   },
   {
    "duration": 1762,
    "start_time": "2021-09-26T15:38:00.841Z"
   },
   {
    "duration": 1121,
    "start_time": "2021-09-26T15:38:02.605Z"
   },
   {
    "duration": 169,
    "start_time": "2021-09-26T15:38:03.729Z"
   },
   {
    "duration": 8,
    "start_time": "2021-09-26T15:38:03.901Z"
   },
   {
    "duration": 38,
    "start_time": "2021-09-26T15:38:03.911Z"
   },
   {
    "duration": 657,
    "start_time": "2021-09-26T15:38:03.957Z"
   },
   {
    "duration": 696,
    "start_time": "2021-09-26T15:38:04.617Z"
   },
   {
    "duration": 5,
    "start_time": "2021-09-26T15:38:05.317Z"
   },
   {
    "duration": 101,
    "start_time": "2021-09-26T15:38:05.326Z"
   },
   {
    "duration": 73,
    "start_time": "2021-09-26T15:38:05.429Z"
   },
   {
    "duration": 9,
    "start_time": "2021-09-26T15:38:05.504Z"
   },
   {
    "duration": 109,
    "start_time": "2021-09-26T15:38:05.515Z"
   },
   {
    "duration": 182,
    "start_time": "2021-09-26T15:38:05.627Z"
   },
   {
    "duration": 120,
    "start_time": "2021-09-26T15:38:05.811Z"
   },
   {
    "duration": 170,
    "start_time": "2021-09-26T15:38:05.933Z"
   },
   {
    "duration": 11,
    "start_time": "2021-09-26T15:38:06.105Z"
   },
   {
    "duration": 539,
    "start_time": "2021-09-26T15:38:06.119Z"
   },
   {
    "duration": 32,
    "start_time": "2021-09-26T15:38:06.660Z"
   },
   {
    "duration": 20,
    "start_time": "2021-09-26T15:38:06.694Z"
   },
   {
    "duration": 48,
    "start_time": "2021-09-26T15:38:06.716Z"
   },
   {
    "duration": 179,
    "start_time": "2021-09-26T15:38:06.767Z"
   },
   {
    "duration": 108,
    "start_time": "2021-09-26T15:38:06.949Z"
   },
   {
    "duration": 675,
    "start_time": "2021-09-26T15:38:07.063Z"
   },
   {
    "duration": 434,
    "start_time": "2021-09-26T15:38:07.741Z"
   },
   {
    "duration": 11,
    "start_time": "2021-09-26T15:38:08.177Z"
   },
   {
    "duration": 13,
    "start_time": "2021-09-26T15:38:08.190Z"
   },
   {
    "duration": 421,
    "start_time": "2021-09-26T15:38:08.206Z"
   },
   {
    "duration": 85,
    "start_time": "2021-09-26T15:38:08.630Z"
   },
   {
    "duration": 107,
    "start_time": "2021-09-26T15:38:08.718Z"
   },
   {
    "duration": 447,
    "start_time": "2021-09-26T15:38:08.828Z"
   },
   {
    "duration": 43,
    "start_time": "2021-09-26T15:38:09.277Z"
   },
   {
    "duration": 63,
    "start_time": "2021-09-26T15:38:09.322Z"
   },
   {
    "duration": 46,
    "start_time": "2021-09-26T15:38:09.387Z"
   },
   {
    "duration": 58,
    "start_time": "2021-09-26T15:38:09.435Z"
   },
   {
    "duration": 60,
    "start_time": "2021-09-26T15:38:09.496Z"
   },
   {
    "duration": 43,
    "start_time": "2021-09-26T15:38:09.558Z"
   },
   {
    "duration": 130,
    "start_time": "2021-09-26T15:38:09.604Z"
   },
   {
    "duration": 6961,
    "start_time": "2021-09-26T15:38:09.736Z"
   },
   {
    "duration": 45,
    "start_time": "2021-09-26T15:38:16.699Z"
   },
   {
    "duration": 108,
    "start_time": "2021-09-26T15:38:16.756Z"
   },
   {
    "duration": 27,
    "start_time": "2021-09-26T15:38:16.866Z"
   },
   {
    "duration": 190,
    "start_time": "2021-09-26T15:38:16.896Z"
   },
   {
    "duration": 7,
    "start_time": "2021-09-26T15:38:17.089Z"
   },
   {
    "duration": 182,
    "start_time": "2021-09-26T15:38:17.099Z"
   },
   {
    "duration": 7,
    "start_time": "2021-09-26T15:38:17.285Z"
   },
   {
    "duration": 21,
    "start_time": "2021-09-26T15:38:17.295Z"
   },
   {
    "duration": 6,
    "start_time": "2021-09-26T15:38:17.319Z"
   },
   {
    "duration": 42,
    "start_time": "2021-09-26T15:38:17.328Z"
   },
   {
    "duration": 15,
    "start_time": "2021-09-26T15:38:17.373Z"
   },
   {
    "duration": 7,
    "start_time": "2021-09-26T15:38:17.391Z"
   },
   {
    "duration": 17,
    "start_time": "2021-09-26T15:38:17.401Z"
   },
   {
    "duration": 644,
    "start_time": "2021-09-26T15:38:17.421Z"
   },
   {
    "duration": 3074,
    "start_time": "2021-09-26T15:38:18.068Z"
   },
   {
    "duration": 17120,
    "start_time": "2021-09-26T15:38:21.145Z"
   },
   {
    "duration": 93,
    "start_time": "2021-09-26T15:38:38.267Z"
   },
   {
    "duration": 97,
    "start_time": "2021-09-26T15:38:38.364Z"
   },
   {
    "duration": 514,
    "start_time": "2021-09-26T15:50:52.264Z"
   },
   {
    "duration": 4,
    "start_time": "2021-09-26T15:51:17.983Z"
   },
   {
    "duration": 139,
    "start_time": "2021-09-26T16:17:59.669Z"
   },
   {
    "duration": 5,
    "start_time": "2021-09-26T16:18:21.833Z"
   },
   {
    "duration": 247,
    "start_time": "2021-09-26T16:18:52.418Z"
   },
   {
    "duration": 5,
    "start_time": "2021-09-26T16:19:16.975Z"
   },
   {
    "duration": 4,
    "start_time": "2021-09-26T16:20:27.776Z"
   },
   {
    "duration": 268,
    "start_time": "2021-09-26T16:20:41.679Z"
   },
   {
    "duration": 370,
    "start_time": "2021-09-26T16:21:08.657Z"
   },
   {
    "duration": 368416,
    "start_time": "2021-09-26T16:23:41.596Z"
   },
   {
    "duration": 7,
    "start_time": "2021-09-26T16:30:32.257Z"
   },
   {
    "duration": 5,
    "start_time": "2021-09-26T16:30:49.910Z"
   },
   {
    "duration": 5,
    "start_time": "2021-09-26T16:32:30.604Z"
   },
   {
    "duration": 5,
    "start_time": "2021-09-26T16:33:55.333Z"
   },
   {
    "duration": 1622,
    "start_time": "2021-09-26T16:43:04.159Z"
   },
   {
    "duration": 1123,
    "start_time": "2021-09-26T16:43:05.784Z"
   },
   {
    "duration": 169,
    "start_time": "2021-09-26T16:43:06.910Z"
   },
   {
    "duration": 8,
    "start_time": "2021-09-26T16:43:07.082Z"
   },
   {
    "duration": 23,
    "start_time": "2021-09-26T16:43:07.093Z"
   },
   {
    "duration": 761,
    "start_time": "2021-09-26T16:43:07.119Z"
   },
   {
    "duration": 675,
    "start_time": "2021-09-26T16:43:07.882Z"
   },
   {
    "duration": 5,
    "start_time": "2021-09-26T16:43:08.561Z"
   },
   {
    "duration": 103,
    "start_time": "2021-09-26T16:43:08.569Z"
   },
   {
    "duration": 62,
    "start_time": "2021-09-26T16:43:08.674Z"
   },
   {
    "duration": 12,
    "start_time": "2021-09-26T16:43:08.755Z"
   },
   {
    "duration": 116,
    "start_time": "2021-09-26T16:43:08.770Z"
   },
   {
    "duration": 171,
    "start_time": "2021-09-26T16:43:08.889Z"
   },
   {
    "duration": 120,
    "start_time": "2021-09-26T16:43:09.063Z"
   },
   {
    "duration": 154,
    "start_time": "2021-09-26T16:43:09.186Z"
   },
   {
    "duration": 19,
    "start_time": "2021-09-26T16:43:09.343Z"
   },
   {
    "duration": 495,
    "start_time": "2021-09-26T16:43:09.365Z"
   },
   {
    "duration": 32,
    "start_time": "2021-09-26T16:43:09.863Z"
   },
   {
    "duration": 22,
    "start_time": "2021-09-26T16:43:09.897Z"
   },
   {
    "duration": 48,
    "start_time": "2021-09-26T16:43:09.921Z"
   },
   {
    "duration": 192,
    "start_time": "2021-09-26T16:43:09.972Z"
   },
   {
    "duration": 105,
    "start_time": "2021-09-26T16:43:10.167Z"
   },
   {
    "duration": 520,
    "start_time": "2021-09-26T16:43:10.279Z"
   },
   {
    "duration": 794,
    "start_time": "2021-09-26T16:43:10.802Z"
   },
   {
    "duration": 12,
    "start_time": "2021-09-26T16:43:11.599Z"
   },
   {
    "duration": 11,
    "start_time": "2021-09-26T16:43:11.614Z"
   },
   {
    "duration": 424,
    "start_time": "2021-09-26T16:43:11.628Z"
   },
   {
    "duration": 77,
    "start_time": "2021-09-26T16:43:12.055Z"
   },
   {
    "duration": 115,
    "start_time": "2021-09-26T16:43:12.134Z"
   },
   {
    "duration": 452,
    "start_time": "2021-09-26T16:43:12.256Z"
   },
   {
    "duration": 50,
    "start_time": "2021-09-26T16:43:12.711Z"
   },
   {
    "duration": 44,
    "start_time": "2021-09-26T16:43:12.763Z"
   },
   {
    "duration": 67,
    "start_time": "2021-09-26T16:43:12.809Z"
   },
   {
    "duration": 44,
    "start_time": "2021-09-26T16:43:12.878Z"
   },
   {
    "duration": 65,
    "start_time": "2021-09-26T16:43:12.925Z"
   },
   {
    "duration": 45,
    "start_time": "2021-09-26T16:43:12.993Z"
   },
   {
    "duration": 124,
    "start_time": "2021-09-26T16:43:13.056Z"
   },
   {
    "duration": 6622,
    "start_time": "2021-09-26T16:43:13.182Z"
   },
   {
    "duration": 50,
    "start_time": "2021-09-26T16:43:19.807Z"
   },
   {
    "duration": 107,
    "start_time": "2021-09-26T16:43:19.859Z"
   },
   {
    "duration": 27,
    "start_time": "2021-09-26T16:43:19.968Z"
   },
   {
    "duration": 191,
    "start_time": "2021-09-26T16:43:19.997Z"
   },
   {
    "duration": 6,
    "start_time": "2021-09-26T16:43:20.190Z"
   },
   {
    "duration": 380,
    "start_time": "2021-09-26T16:43:20.198Z"
   },
   {
    "duration": 246,
    "start_time": "2021-09-26T16:43:20.580Z"
   },
   {
    "duration": 355,
    "start_time": "2021-09-26T16:43:20.829Z"
   },
   {
    "duration": -145,
    "start_time": "2021-09-26T16:43:21.332Z"
   },
   {
    "duration": -150,
    "start_time": "2021-09-26T16:43:21.338Z"
   },
   {
    "duration": -152,
    "start_time": "2021-09-26T16:43:21.342Z"
   },
   {
    "duration": -185,
    "start_time": "2021-09-26T16:43:21.376Z"
   },
   {
    "duration": -190,
    "start_time": "2021-09-26T16:43:21.383Z"
   },
   {
    "duration": -193,
    "start_time": "2021-09-26T16:43:21.388Z"
   },
   {
    "duration": -197,
    "start_time": "2021-09-26T16:43:21.393Z"
   },
   {
    "duration": -199,
    "start_time": "2021-09-26T16:43:21.397Z"
   },
   {
    "duration": -203,
    "start_time": "2021-09-26T16:43:21.402Z"
   },
   {
    "duration": -205,
    "start_time": "2021-09-26T16:43:21.406Z"
   },
   {
    "duration": -207,
    "start_time": "2021-09-26T16:43:21.410Z"
   },
   {
    "duration": -210,
    "start_time": "2021-09-26T16:43:21.414Z"
   },
   {
    "duration": 13,
    "start_time": "2021-09-26T16:43:38.635Z"
   },
   {
    "duration": 257,
    "start_time": "2021-09-26T16:43:41.459Z"
   },
   {
    "duration": 5,
    "start_time": "2021-09-26T16:43:51.872Z"
   },
   {
    "duration": 15,
    "start_time": "2021-09-26T16:44:00.966Z"
   },
   {
    "duration": 5,
    "start_time": "2021-09-26T16:44:25.851Z"
   },
   {
    "duration": 6,
    "start_time": "2021-09-26T16:44:32.668Z"
   },
   {
    "duration": 920,
    "start_time": "2021-09-26T16:44:35.190Z"
   },
   {
    "duration": 16,
    "start_time": "2021-09-26T16:44:43.253Z"
   },
   {
    "duration": 618,
    "start_time": "2021-09-26T16:46:48.912Z"
   },
   {
    "duration": 3383,
    "start_time": "2021-09-26T16:46:56.513Z"
   },
   {
    "duration": 254,
    "start_time": "2021-09-26T16:53:04.991Z"
   },
   {
    "duration": 277,
    "start_time": "2021-09-26T16:58:54.920Z"
   },
   {
    "duration": 73567,
    "start_time": "2021-09-26T16:59:16.991Z"
   },
   {
    "duration": 6,
    "start_time": "2021-09-26T17:00:37.348Z"
   },
   {
    "duration": 6,
    "start_time": "2021-09-26T17:00:50.488Z"
   },
   {
    "duration": 243,
    "start_time": "2021-09-26T17:05:18.295Z"
   },
   {
    "duration": 287,
    "start_time": "2021-09-26T17:07:25.515Z"
   },
   {
    "duration": 243,
    "start_time": "2021-09-26T17:11:19.170Z"
   },
   {
    "duration": 245,
    "start_time": "2021-09-26T17:12:32.252Z"
   },
   {
    "duration": 7,
    "start_time": "2021-09-26T17:12:52.602Z"
   },
   {
    "duration": 255,
    "start_time": "2021-09-26T17:13:01.239Z"
   },
   {
    "duration": 393,
    "start_time": "2021-09-26T17:13:11.839Z"
   },
   {
    "duration": 98891,
    "start_time": "2021-09-26T17:14:03.865Z"
   },
   {
    "duration": 284,
    "start_time": "2021-09-26T17:15:49.718Z"
   },
   {
    "duration": 23824,
    "start_time": "2021-09-26T17:15:53.845Z"
   },
   {
    "duration": 22129,
    "start_time": "2021-09-26T17:18:26.534Z"
   },
   {
    "duration": 40,
    "start_time": "2021-09-26T17:19:02.818Z"
   },
   {
    "duration": 5,
    "start_time": "2021-09-26T17:23:06.387Z"
   },
   {
    "duration": 364,
    "start_time": "2021-09-26T17:23:17.453Z"
   },
   {
    "duration": 1646,
    "start_time": "2021-09-26T17:29:14.741Z"
   },
   {
    "duration": 1166,
    "start_time": "2021-09-26T17:29:16.390Z"
   },
   {
    "duration": 168,
    "start_time": "2021-09-26T17:29:17.559Z"
   },
   {
    "duration": 8,
    "start_time": "2021-09-26T17:29:17.730Z"
   },
   {
    "duration": 23,
    "start_time": "2021-09-26T17:29:17.756Z"
   },
   {
    "duration": 686,
    "start_time": "2021-09-26T17:29:17.781Z"
   },
   {
    "duration": 712,
    "start_time": "2021-09-26T17:29:18.469Z"
   },
   {
    "duration": 8,
    "start_time": "2021-09-26T17:29:19.185Z"
   },
   {
    "duration": 115,
    "start_time": "2021-09-26T17:29:19.196Z"
   },
   {
    "duration": 77,
    "start_time": "2021-09-26T17:29:19.314Z"
   },
   {
    "duration": 9,
    "start_time": "2021-09-26T17:29:19.393Z"
   },
   {
    "duration": 111,
    "start_time": "2021-09-26T17:29:19.404Z"
   },
   {
    "duration": 179,
    "start_time": "2021-09-26T17:29:19.517Z"
   },
   {
    "duration": 125,
    "start_time": "2021-09-26T17:29:19.698Z"
   },
   {
    "duration": 153,
    "start_time": "2021-09-26T17:29:19.825Z"
   },
   {
    "duration": 11,
    "start_time": "2021-09-26T17:29:19.981Z"
   },
   {
    "duration": 514,
    "start_time": "2021-09-26T17:29:19.994Z"
   },
   {
    "duration": 34,
    "start_time": "2021-09-26T17:29:20.511Z"
   },
   {
    "duration": 22,
    "start_time": "2021-09-26T17:29:20.556Z"
   },
   {
    "duration": 27,
    "start_time": "2021-09-26T17:29:20.581Z"
   },
   {
    "duration": 210,
    "start_time": "2021-09-26T17:29:20.611Z"
   },
   {
    "duration": 103,
    "start_time": "2021-09-26T17:29:20.823Z"
   },
   {
    "duration": 605,
    "start_time": "2021-09-26T17:29:20.932Z"
   },
   {
    "duration": 430,
    "start_time": "2021-09-26T17:29:21.540Z"
   },
   {
    "duration": 12,
    "start_time": "2021-09-26T17:29:21.973Z"
   },
   {
    "duration": 14,
    "start_time": "2021-09-26T17:29:21.988Z"
   },
   {
    "duration": 445,
    "start_time": "2021-09-26T17:29:22.005Z"
   },
   {
    "duration": 70,
    "start_time": "2021-09-26T17:29:22.452Z"
   },
   {
    "duration": 109,
    "start_time": "2021-09-26T17:29:22.524Z"
   },
   {
    "duration": 447,
    "start_time": "2021-09-26T17:29:22.635Z"
   },
   {
    "duration": 42,
    "start_time": "2021-09-26T17:29:23.085Z"
   },
   {
    "duration": 62,
    "start_time": "2021-09-26T17:29:23.130Z"
   },
   {
    "duration": 62,
    "start_time": "2021-09-26T17:29:23.194Z"
   },
   {
    "duration": 43,
    "start_time": "2021-09-26T17:29:23.258Z"
   },
   {
    "duration": 64,
    "start_time": "2021-09-26T17:29:23.304Z"
   },
   {
    "duration": 48,
    "start_time": "2021-09-26T17:29:23.371Z"
   },
   {
    "duration": 135,
    "start_time": "2021-09-26T17:29:23.421Z"
   },
   {
    "duration": 6807,
    "start_time": "2021-09-26T17:29:23.558Z"
   },
   {
    "duration": 47,
    "start_time": "2021-09-26T17:29:30.367Z"
   },
   {
    "duration": 129,
    "start_time": "2021-09-26T17:29:30.417Z"
   },
   {
    "duration": 37,
    "start_time": "2021-09-26T17:29:30.548Z"
   },
   {
    "duration": 180,
    "start_time": "2021-09-26T17:29:30.587Z"
   },
   {
    "duration": 5,
    "start_time": "2021-09-26T17:29:30.769Z"
   },
   {
    "duration": 44,
    "start_time": "2021-09-26T17:29:30.776Z"
   },
   {
    "duration": 5,
    "start_time": "2021-09-26T17:29:30.823Z"
   },
   {
    "duration": 50,
    "start_time": "2021-09-26T17:29:30.830Z"
   },
   {
    "duration": 41,
    "start_time": "2021-09-26T17:29:30.882Z"
   },
   {
    "duration": 30,
    "start_time": "2021-09-26T17:29:30.926Z"
   },
   {
    "duration": 57,
    "start_time": "2021-09-26T17:29:30.959Z"
   },
   {
    "duration": 649,
    "start_time": "2021-09-26T17:29:31.019Z"
   },
   {
    "duration": 3274,
    "start_time": "2021-09-26T17:29:31.671Z"
   },
   {
    "duration": 99614,
    "start_time": "2021-09-26T17:29:34.947Z"
   },
   {
    "duration": 22797,
    "start_time": "2021-09-26T17:31:14.565Z"
   },
   {
    "duration": 98,
    "start_time": "2021-09-26T17:31:37.365Z"
   },
   {
    "duration": 95,
    "start_time": "2021-09-26T17:31:37.466Z"
   },
   {
    "duration": 444759,
    "start_time": "2021-09-26T17:31:37.564Z"
   },
   {
    "duration": 32,
    "start_time": "2021-09-26T17:39:02.326Z"
   },
   {
    "duration": 16,
    "start_time": "2021-09-26T17:39:02.360Z"
   },
   {
    "duration": 26,
    "start_time": "2021-09-26T17:39:02.378Z"
   },
   {
    "duration": 440363,
    "start_time": "2021-09-26T17:40:04.549Z"
   },
   {
    "duration": 6,
    "start_time": "2021-09-26T17:48:05.253Z"
   },
   {
    "duration": 1526,
    "start_time": "2021-09-26T17:48:32.109Z"
   },
   {
    "duration": 1085,
    "start_time": "2021-09-26T17:48:33.638Z"
   },
   {
    "duration": 164,
    "start_time": "2021-09-26T17:48:34.726Z"
   },
   {
    "duration": 7,
    "start_time": "2021-09-26T17:48:34.893Z"
   },
   {
    "duration": 27,
    "start_time": "2021-09-26T17:48:34.902Z"
   },
   {
    "duration": 626,
    "start_time": "2021-09-26T17:48:34.931Z"
   },
   {
    "duration": 668,
    "start_time": "2021-09-26T17:48:35.560Z"
   },
   {
    "duration": 5,
    "start_time": "2021-09-26T17:48:36.232Z"
   },
   {
    "duration": 99,
    "start_time": "2021-09-26T17:48:36.240Z"
   },
   {
    "duration": 72,
    "start_time": "2021-09-26T17:48:36.341Z"
   },
   {
    "duration": 9,
    "start_time": "2021-09-26T17:48:36.415Z"
   },
   {
    "duration": 117,
    "start_time": "2021-09-26T17:48:36.426Z"
   },
   {
    "duration": 177,
    "start_time": "2021-09-26T17:48:36.545Z"
   },
   {
    "duration": 112,
    "start_time": "2021-09-26T17:48:36.724Z"
   },
   {
    "duration": 150,
    "start_time": "2021-09-26T17:48:36.838Z"
   },
   {
    "duration": 12,
    "start_time": "2021-09-26T17:48:36.991Z"
   },
   {
    "duration": 499,
    "start_time": "2021-09-26T17:48:37.005Z"
   },
   {
    "duration": 32,
    "start_time": "2021-09-26T17:48:37.507Z"
   },
   {
    "duration": 34,
    "start_time": "2021-09-26T17:48:37.541Z"
   },
   {
    "duration": 23,
    "start_time": "2021-09-26T17:48:37.578Z"
   },
   {
    "duration": 200,
    "start_time": "2021-09-26T17:48:37.604Z"
   },
   {
    "duration": 118,
    "start_time": "2021-09-26T17:48:37.807Z"
   },
   {
    "duration": 495,
    "start_time": "2021-09-26T17:48:37.932Z"
   },
   {
    "duration": 444,
    "start_time": "2021-09-26T17:48:38.431Z"
   },
   {
    "duration": 13,
    "start_time": "2021-09-26T17:48:38.878Z"
   },
   {
    "duration": 14,
    "start_time": "2021-09-26T17:48:38.894Z"
   },
   {
    "duration": 426,
    "start_time": "2021-09-26T17:48:38.911Z"
   },
   {
    "duration": 87,
    "start_time": "2021-09-26T17:48:39.340Z"
   },
   {
    "duration": 109,
    "start_time": "2021-09-26T17:48:39.429Z"
   },
   {
    "duration": 462,
    "start_time": "2021-09-26T17:48:39.541Z"
   },
   {
    "duration": 53,
    "start_time": "2021-09-26T17:48:40.005Z"
   },
   {
    "duration": 44,
    "start_time": "2021-09-26T17:48:40.061Z"
   },
   {
    "duration": 71,
    "start_time": "2021-09-26T17:48:40.107Z"
   },
   {
    "duration": 52,
    "start_time": "2021-09-26T17:48:40.180Z"
   },
   {
    "duration": 65,
    "start_time": "2021-09-26T17:48:40.234Z"
   },
   {
    "duration": 55,
    "start_time": "2021-09-26T17:48:40.301Z"
   },
   {
    "duration": 126,
    "start_time": "2021-09-26T17:48:40.359Z"
   },
   {
    "duration": 6664,
    "start_time": "2021-09-26T17:48:40.487Z"
   },
   {
    "duration": 44,
    "start_time": "2021-09-26T17:48:47.156Z"
   },
   {
    "duration": 109,
    "start_time": "2021-09-26T17:48:47.203Z"
   },
   {
    "duration": 41,
    "start_time": "2021-09-26T17:48:47.315Z"
   },
   {
    "duration": 179,
    "start_time": "2021-09-26T17:48:47.358Z"
   },
   {
    "duration": 6,
    "start_time": "2021-09-26T17:48:47.539Z"
   },
   {
    "duration": 22,
    "start_time": "2021-09-26T17:48:47.547Z"
   },
   {
    "duration": 5,
    "start_time": "2021-09-26T17:48:47.572Z"
   },
   {
    "duration": 20,
    "start_time": "2021-09-26T17:48:47.579Z"
   },
   {
    "duration": 8,
    "start_time": "2021-09-26T17:48:47.601Z"
   },
   {
    "duration": 46,
    "start_time": "2021-09-26T17:48:47.611Z"
   },
   {
    "duration": 15,
    "start_time": "2021-09-26T17:48:47.659Z"
   },
   {
    "duration": 709,
    "start_time": "2021-09-26T17:48:47.676Z"
   },
   {
    "duration": 3364,
    "start_time": "2021-09-26T17:48:48.387Z"
   },
   {
    "duration": 98312,
    "start_time": "2021-09-26T17:48:51.755Z"
   },
   {
    "duration": 22006,
    "start_time": "2021-09-26T17:50:30.157Z"
   },
   {
    "duration": 104,
    "start_time": "2021-09-26T17:50:52.166Z"
   },
   {
    "duration": 5,
    "start_time": "2021-09-26T17:50:52.355Z"
   },
   {
    "duration": 491857,
    "start_time": "2021-09-26T17:50:52.362Z"
   },
   {
    "duration": 6,
    "start_time": "2021-09-26T17:59:04.222Z"
   },
   {
    "duration": 21161,
    "start_time": "2021-09-26T17:59:04.257Z"
   },
   {
    "duration": 643,
    "start_time": "2021-09-26T17:59:25.420Z"
   },
   {
    "duration": 3,
    "start_time": "2021-09-26T17:59:26.065Z"
   },
   {
    "duration": 515,
    "start_time": "2021-09-26T17:59:26.070Z"
   },
   {
    "duration": -186,
    "start_time": "2021-09-26T17:59:26.774Z"
   },
   {
    "duration": 25921,
    "start_time": "2021-09-26T18:00:51.756Z"
   },
   {
    "duration": 5,
    "start_time": "2021-09-26T18:03:04.073Z"
   },
   {
    "duration": 88411,
    "start_time": "2021-09-26T18:03:07.944Z"
   },
   {
    "duration": 107552,
    "start_time": "2021-09-26T18:04:42.892Z"
   },
   {
    "duration": 5,
    "start_time": "2021-09-26T18:07:14.600Z"
   },
   {
    "duration": 241,
    "start_time": "2021-09-26T18:08:29.185Z"
   },
   {
    "duration": 262,
    "start_time": "2021-09-26T18:08:46.237Z"
   },
   {
    "duration": 12092,
    "start_time": "2021-09-26T18:09:40.606Z"
   },
   {
    "duration": 14200,
    "start_time": "2021-09-26T18:10:00.746Z"
   },
   {
    "duration": 6,
    "start_time": "2021-09-26T18:11:08.544Z"
   },
   {
    "duration": 104163,
    "start_time": "2021-09-26T18:11:31.609Z"
   },
   {
    "duration": 107578,
    "start_time": "2021-09-26T18:13:21.472Z"
   },
   {
    "duration": 5,
    "start_time": "2021-09-26T18:15:15.313Z"
   },
   {
    "duration": 14255,
    "start_time": "2021-09-26T18:15:29.453Z"
   },
   {
    "duration": 8,
    "start_time": "2021-09-26T18:21:19.562Z"
   },
   {
    "duration": 1513,
    "start_time": "2021-09-26T18:24:53.390Z"
   },
   {
    "duration": 1105,
    "start_time": "2021-09-26T18:24:54.906Z"
   },
   {
    "duration": 170,
    "start_time": "2021-09-26T18:24:56.014Z"
   },
   {
    "duration": 7,
    "start_time": "2021-09-26T18:24:56.188Z"
   },
   {
    "duration": 27,
    "start_time": "2021-09-26T18:24:56.199Z"
   },
   {
    "duration": 680,
    "start_time": "2021-09-26T18:24:56.228Z"
   },
   {
    "duration": 668,
    "start_time": "2021-09-26T18:24:56.911Z"
   },
   {
    "duration": 6,
    "start_time": "2021-09-26T18:24:57.584Z"
   },
   {
    "duration": 109,
    "start_time": "2021-09-26T18:24:57.594Z"
   },
   {
    "duration": 75,
    "start_time": "2021-09-26T18:24:57.706Z"
   },
   {
    "duration": 13,
    "start_time": "2021-09-26T18:24:57.784Z"
   },
   {
    "duration": 113,
    "start_time": "2021-09-26T18:24:57.800Z"
   },
   {
    "duration": 177,
    "start_time": "2021-09-26T18:24:57.916Z"
   },
   {
    "duration": 116,
    "start_time": "2021-09-26T18:24:58.096Z"
   },
   {
    "duration": 157,
    "start_time": "2021-09-26T18:24:58.215Z"
   },
   {
    "duration": 13,
    "start_time": "2021-09-26T18:24:58.375Z"
   },
   {
    "duration": 490,
    "start_time": "2021-09-26T18:24:58.391Z"
   },
   {
    "duration": 35,
    "start_time": "2021-09-26T18:24:58.884Z"
   },
   {
    "duration": 49,
    "start_time": "2021-09-26T18:24:58.922Z"
   },
   {
    "duration": 26,
    "start_time": "2021-09-26T18:24:58.974Z"
   },
   {
    "duration": 195,
    "start_time": "2021-09-26T18:24:59.003Z"
   },
   {
    "duration": 104,
    "start_time": "2021-09-26T18:24:59.201Z"
   },
   {
    "duration": 578,
    "start_time": "2021-09-26T18:24:59.310Z"
   },
   {
    "duration": 477,
    "start_time": "2021-09-26T18:24:59.891Z"
   },
   {
    "duration": 11,
    "start_time": "2021-09-26T18:25:00.371Z"
   },
   {
    "duration": 24,
    "start_time": "2021-09-26T18:25:00.385Z"
   },
   {
    "duration": 418,
    "start_time": "2021-09-26T18:25:00.411Z"
   },
   {
    "duration": 106,
    "start_time": "2021-09-26T18:25:00.832Z"
   },
   {
    "duration": 100,
    "start_time": "2021-09-26T18:25:00.941Z"
   },
   {
    "duration": 449,
    "start_time": "2021-09-26T18:25:01.044Z"
   },
   {
    "duration": 43,
    "start_time": "2021-09-26T18:25:01.495Z"
   },
   {
    "duration": 49,
    "start_time": "2021-09-26T18:25:01.555Z"
   },
   {
    "duration": 77,
    "start_time": "2021-09-26T18:25:01.606Z"
   },
   {
    "duration": 100,
    "start_time": "2021-09-26T18:25:01.685Z"
   },
   {
    "duration": 63,
    "start_time": "2021-09-26T18:25:01.787Z"
   },
   {
    "duration": 126,
    "start_time": "2021-09-26T18:25:01.852Z"
   },
   {
    "duration": 227,
    "start_time": "2021-09-26T18:25:01.980Z"
   },
   {
    "duration": 6645,
    "start_time": "2021-09-26T18:25:02.210Z"
   },
   {
    "duration": 45,
    "start_time": "2021-09-26T18:25:08.858Z"
   },
   {
    "duration": 114,
    "start_time": "2021-09-26T18:25:08.906Z"
   },
   {
    "duration": 39,
    "start_time": "2021-09-26T18:25:09.024Z"
   },
   {
    "duration": 171,
    "start_time": "2021-09-26T18:25:09.065Z"
   },
   {
    "duration": 17,
    "start_time": "2021-09-26T18:25:09.238Z"
   },
   {
    "duration": 14,
    "start_time": "2021-09-26T18:25:09.257Z"
   },
   {
    "duration": 6,
    "start_time": "2021-09-26T18:25:09.273Z"
   },
   {
    "duration": 25,
    "start_time": "2021-09-26T18:25:09.281Z"
   },
   {
    "duration": 11,
    "start_time": "2021-09-26T18:25:09.309Z"
   },
   {
    "duration": 9,
    "start_time": "2021-09-26T18:25:09.323Z"
   },
   {
    "duration": 14,
    "start_time": "2021-09-26T18:25:09.357Z"
   },
   {
    "duration": 929,
    "start_time": "2021-09-26T18:25:09.373Z"
   },
   {
    "duration": 3352,
    "start_time": "2021-09-26T18:25:10.304Z"
   },
   {
    "duration": 96098,
    "start_time": "2021-09-26T18:25:13.658Z"
   },
   {
    "duration": 21808,
    "start_time": "2021-09-26T18:26:49.758Z"
   },
   {
    "duration": 94,
    "start_time": "2021-09-26T18:27:11.569Z"
   },
   {
    "duration": 6,
    "start_time": "2021-09-26T18:27:11.759Z"
   },
   {
    "duration": 502850,
    "start_time": "2021-09-26T18:27:11.769Z"
   },
   {
    "duration": 6,
    "start_time": "2021-09-26T18:35:34.621Z"
   },
   {
    "duration": 28615,
    "start_time": "2021-09-26T18:35:34.629Z"
   },
   {
    "duration": 718,
    "start_time": "2021-09-26T18:36:03.246Z"
   },
   {
    "duration": 4,
    "start_time": "2021-09-26T18:36:03.967Z"
   },
   {
    "duration": 104492,
    "start_time": "2021-09-26T18:36:03.973Z"
   },
   {
    "duration": 6,
    "start_time": "2021-09-26T18:37:48.468Z"
   },
   {
    "duration": 14259,
    "start_time": "2021-09-26T18:37:48.476Z"
   },
   {
    "duration": 723,
    "start_time": "2021-09-26T18:38:02.738Z"
   },
   {
    "duration": 6,
    "start_time": "2021-09-26T18:38:03.463Z"
   },
   {
    "duration": 1354,
    "start_time": "2021-09-26T18:38:38.845Z"
   },
   {
    "duration": 4,
    "start_time": "2021-09-26T18:39:48.514Z"
   },
   {
    "duration": 1217,
    "start_time": "2021-09-26T18:39:51.107Z"
   },
   {
    "duration": 313407,
    "start_time": "2021-09-26T18:40:18.235Z"
   },
   {
    "duration": 6,
    "start_time": "2021-09-26T18:47:55.703Z"
   },
   {
    "duration": 10858,
    "start_time": "2021-09-26T18:49:29.139Z"
   },
   {
    "duration": 13045,
    "start_time": "2021-09-26T18:50:09.400Z"
   },
   {
    "duration": 263,
    "start_time": "2021-09-26T18:51:59.976Z"
   },
   {
    "duration": 14028,
    "start_time": "2021-09-26T18:52:18.765Z"
   },
   {
    "duration": 2021,
    "start_time": "2021-09-26T18:53:44.572Z"
   },
   {
    "duration": 1256,
    "start_time": "2021-09-26T18:53:46.595Z"
   },
   {
    "duration": 159,
    "start_time": "2021-09-26T18:53:47.857Z"
   },
   {
    "duration": 7,
    "start_time": "2021-09-26T18:53:48.019Z"
   },
   {
    "duration": 41,
    "start_time": "2021-09-26T18:53:48.028Z"
   },
   {
    "duration": 686,
    "start_time": "2021-09-26T18:53:48.071Z"
   },
   {
    "duration": 690,
    "start_time": "2021-09-26T18:53:48.760Z"
   },
   {
    "duration": 5,
    "start_time": "2021-09-26T18:53:49.454Z"
   },
   {
    "duration": 102,
    "start_time": "2021-09-26T18:53:49.461Z"
   },
   {
    "duration": 63,
    "start_time": "2021-09-26T18:53:49.565Z"
   },
   {
    "duration": 27,
    "start_time": "2021-09-26T18:53:49.630Z"
   },
   {
    "duration": 113,
    "start_time": "2021-09-26T18:53:49.659Z"
   },
   {
    "duration": 173,
    "start_time": "2021-09-26T18:53:49.774Z"
   },
   {
    "duration": 121,
    "start_time": "2021-09-26T18:53:49.950Z"
   },
   {
    "duration": 160,
    "start_time": "2021-09-26T18:53:50.074Z"
   },
   {
    "duration": 20,
    "start_time": "2021-09-26T18:53:50.237Z"
   },
   {
    "duration": 484,
    "start_time": "2021-09-26T18:53:50.259Z"
   },
   {
    "duration": 33,
    "start_time": "2021-09-26T18:53:50.745Z"
   },
   {
    "duration": 20,
    "start_time": "2021-09-26T18:53:50.780Z"
   },
   {
    "duration": 54,
    "start_time": "2021-09-26T18:53:50.802Z"
   },
   {
    "duration": 171,
    "start_time": "2021-09-26T18:53:50.858Z"
   },
   {
    "duration": 100,
    "start_time": "2021-09-26T18:53:51.031Z"
   },
   {
    "duration": 486,
    "start_time": "2021-09-26T18:53:51.138Z"
   },
   {
    "duration": 421,
    "start_time": "2021-09-26T18:53:51.628Z"
   },
   {
    "duration": 11,
    "start_time": "2021-09-26T18:53:52.052Z"
   },
   {
    "duration": 18,
    "start_time": "2021-09-26T18:53:52.066Z"
   },
   {
    "duration": 502,
    "start_time": "2021-09-26T18:53:52.088Z"
   },
   {
    "duration": 92,
    "start_time": "2021-09-26T18:53:52.593Z"
   },
   {
    "duration": 99,
    "start_time": "2021-09-26T18:53:52.687Z"
   },
   {
    "duration": 437,
    "start_time": "2021-09-26T18:53:52.788Z"
   },
   {
    "duration": 51,
    "start_time": "2021-09-26T18:53:53.227Z"
   },
   {
    "duration": 47,
    "start_time": "2021-09-26T18:53:53.281Z"
   },
   {
    "duration": 63,
    "start_time": "2021-09-26T18:53:53.331Z"
   },
   {
    "duration": 47,
    "start_time": "2021-09-26T18:53:53.396Z"
   },
   {
    "duration": 48,
    "start_time": "2021-09-26T18:53:53.456Z"
   },
   {
    "duration": 58,
    "start_time": "2021-09-26T18:53:53.506Z"
   },
   {
    "duration": 123,
    "start_time": "2021-09-26T18:53:53.567Z"
   },
   {
    "duration": 6752,
    "start_time": "2021-09-26T18:53:53.692Z"
   },
   {
    "duration": 82,
    "start_time": "2021-09-26T18:54:00.447Z"
   },
   {
    "duration": 116,
    "start_time": "2021-09-26T18:54:00.532Z"
   },
   {
    "duration": 33,
    "start_time": "2021-09-26T18:54:00.656Z"
   },
   {
    "duration": 201,
    "start_time": "2021-09-26T18:54:00.692Z"
   },
   {
    "duration": 5,
    "start_time": "2021-09-26T18:54:00.896Z"
   },
   {
    "duration": 39,
    "start_time": "2021-09-26T18:54:00.903Z"
   },
   {
    "duration": 38,
    "start_time": "2021-09-26T18:54:00.945Z"
   },
   {
    "duration": 51,
    "start_time": "2021-09-26T18:54:00.986Z"
   },
   {
    "duration": 25,
    "start_time": "2021-09-26T18:54:01.039Z"
   },
   {
    "duration": 33,
    "start_time": "2021-09-26T18:54:01.067Z"
   },
   {
    "duration": 39,
    "start_time": "2021-09-26T18:54:01.102Z"
   },
   {
    "duration": 792,
    "start_time": "2021-09-26T18:54:01.144Z"
   },
   {
    "duration": 3237,
    "start_time": "2021-09-26T18:54:01.939Z"
   },
   {
    "duration": 99584,
    "start_time": "2021-09-26T18:54:05.179Z"
   },
   {
    "duration": 23002,
    "start_time": "2021-09-26T18:55:44.766Z"
   },
   {
    "duration": 96,
    "start_time": "2021-09-26T18:56:07.771Z"
   },
   {
    "duration": 90,
    "start_time": "2021-09-26T18:56:07.870Z"
   },
   {
    "duration": 28579,
    "start_time": "2021-09-26T18:56:07.964Z"
   },
   {
    "duration": 407,
    "start_time": "2021-09-26T18:56:36.545Z"
   },
   {
    "duration": -84,
    "start_time": "2021-09-26T18:56:37.039Z"
   },
   {
    "duration": -92,
    "start_time": "2021-09-26T18:56:37.049Z"
   },
   {
    "duration": -108,
    "start_time": "2021-09-26T18:56:37.067Z"
   },
   {
    "duration": -111,
    "start_time": "2021-09-26T18:56:37.072Z"
   },
   {
    "duration": -115,
    "start_time": "2021-09-26T18:56:37.078Z"
   },
   {
    "duration": -128,
    "start_time": "2021-09-26T18:56:37.093Z"
   },
   {
    "duration": -142,
    "start_time": "2021-09-26T18:56:37.109Z"
   },
   {
    "duration": -147,
    "start_time": "2021-09-26T18:56:37.116Z"
   },
   {
    "duration": -161,
    "start_time": "2021-09-26T18:56:37.132Z"
   },
   {
    "duration": -177,
    "start_time": "2021-09-26T18:56:37.151Z"
   },
   {
    "duration": -182,
    "start_time": "2021-09-26T18:56:37.158Z"
   },
   {
    "duration": 1659,
    "start_time": "2021-09-26T18:57:03.859Z"
   },
   {
    "duration": 1112,
    "start_time": "2021-09-26T18:57:05.520Z"
   },
   {
    "duration": 167,
    "start_time": "2021-09-26T18:57:06.636Z"
   },
   {
    "duration": 7,
    "start_time": "2021-09-26T18:57:06.806Z"
   },
   {
    "duration": 42,
    "start_time": "2021-09-26T18:57:06.815Z"
   },
   {
    "duration": 726,
    "start_time": "2021-09-26T18:57:06.859Z"
   },
   {
    "duration": 1044,
    "start_time": "2021-09-26T18:57:07.587Z"
   },
   {
    "duration": 5,
    "start_time": "2021-09-26T18:57:08.634Z"
   },
   {
    "duration": 104,
    "start_time": "2021-09-26T18:57:08.642Z"
   },
   {
    "duration": 63,
    "start_time": "2021-09-26T18:57:08.756Z"
   },
   {
    "duration": 9,
    "start_time": "2021-09-26T18:57:08.821Z"
   },
   {
    "duration": 122,
    "start_time": "2021-09-26T18:57:08.832Z"
   },
   {
    "duration": 179,
    "start_time": "2021-09-26T18:57:08.956Z"
   },
   {
    "duration": 108,
    "start_time": "2021-09-26T18:57:09.137Z"
   },
   {
    "duration": 155,
    "start_time": "2021-09-26T18:57:09.256Z"
   },
   {
    "duration": 11,
    "start_time": "2021-09-26T18:57:09.413Z"
   },
   {
    "duration": 484,
    "start_time": "2021-09-26T18:57:09.427Z"
   },
   {
    "duration": 31,
    "start_time": "2021-09-26T18:57:09.914Z"
   },
   {
    "duration": 26,
    "start_time": "2021-09-26T18:57:09.947Z"
   },
   {
    "duration": 26,
    "start_time": "2021-09-26T18:57:09.975Z"
   },
   {
    "duration": 202,
    "start_time": "2021-09-26T18:57:10.003Z"
   },
   {
    "duration": 106,
    "start_time": "2021-09-26T18:57:10.208Z"
   },
   {
    "duration": 523,
    "start_time": "2021-09-26T18:57:10.320Z"
   },
   {
    "duration": 449,
    "start_time": "2021-09-26T18:57:10.849Z"
   },
   {
    "duration": 11,
    "start_time": "2021-09-26T18:57:11.301Z"
   },
   {
    "duration": 20,
    "start_time": "2021-09-26T18:57:11.314Z"
   },
   {
    "duration": 410,
    "start_time": "2021-09-26T18:57:11.336Z"
   },
   {
    "duration": 76,
    "start_time": "2021-09-26T18:57:11.748Z"
   },
   {
    "duration": 117,
    "start_time": "2021-09-26T18:57:11.826Z"
   },
   {
    "duration": 494,
    "start_time": "2021-09-26T18:57:11.945Z"
   },
   {
    "duration": 48,
    "start_time": "2021-09-26T18:57:12.441Z"
   },
   {
    "duration": 62,
    "start_time": "2021-09-26T18:57:12.491Z"
   },
   {
    "duration": 62,
    "start_time": "2021-09-26T18:57:12.555Z"
   },
   {
    "duration": 56,
    "start_time": "2021-09-26T18:57:12.619Z"
   },
   {
    "duration": 73,
    "start_time": "2021-09-26T18:57:12.677Z"
   },
   {
    "duration": 65,
    "start_time": "2021-09-26T18:57:12.753Z"
   },
   {
    "duration": 125,
    "start_time": "2021-09-26T18:57:12.820Z"
   },
   {
    "duration": 6885,
    "start_time": "2021-09-26T18:57:12.947Z"
   },
   {
    "duration": 48,
    "start_time": "2021-09-26T18:57:19.834Z"
   },
   {
    "duration": 112,
    "start_time": "2021-09-26T18:57:19.885Z"
   },
   {
    "duration": 27,
    "start_time": "2021-09-26T18:57:19.999Z"
   },
   {
    "duration": 186,
    "start_time": "2021-09-26T18:57:20.029Z"
   },
   {
    "duration": 6,
    "start_time": "2021-09-26T18:57:20.217Z"
   },
   {
    "duration": 33,
    "start_time": "2021-09-26T18:57:20.225Z"
   },
   {
    "duration": 6,
    "start_time": "2021-09-26T18:57:20.260Z"
   },
   {
    "duration": 18,
    "start_time": "2021-09-26T18:57:20.269Z"
   },
   {
    "duration": 6,
    "start_time": "2021-09-26T18:57:20.290Z"
   },
   {
    "duration": 5,
    "start_time": "2021-09-26T18:57:20.299Z"
   },
   {
    "duration": 60,
    "start_time": "2021-09-26T18:57:20.307Z"
   },
   {
    "duration": 623,
    "start_time": "2021-09-26T18:57:20.369Z"
   },
   {
    "duration": 562,
    "start_time": "2021-09-26T18:57:20.994Z"
   },
   {
    "duration": -80,
    "start_time": "2021-09-26T18:57:21.639Z"
   },
   {
    "duration": -83,
    "start_time": "2021-09-26T18:57:21.644Z"
   },
   {
    "duration": -103,
    "start_time": "2021-09-26T18:57:21.666Z"
   },
   {
    "duration": -115,
    "start_time": "2021-09-26T18:57:21.679Z"
   },
   {
    "duration": -119,
    "start_time": "2021-09-26T18:57:21.685Z"
   },
   {
    "duration": -123,
    "start_time": "2021-09-26T18:57:21.691Z"
   },
   {
    "duration": -126,
    "start_time": "2021-09-26T18:57:21.695Z"
   },
   {
    "duration": -131,
    "start_time": "2021-09-26T18:57:21.701Z"
   },
   {
    "duration": -133,
    "start_time": "2021-09-26T18:57:21.705Z"
   },
   {
    "duration": -138,
    "start_time": "2021-09-26T18:57:21.711Z"
   },
   {
    "duration": -140,
    "start_time": "2021-09-26T18:57:21.715Z"
   },
   {
    "duration": -144,
    "start_time": "2021-09-26T18:57:21.721Z"
   },
   {
    "duration": -156,
    "start_time": "2021-09-26T18:57:21.734Z"
   },
   {
    "duration": -162,
    "start_time": "2021-09-26T18:57:21.741Z"
   },
   {
    "duration": -165,
    "start_time": "2021-09-26T18:57:21.745Z"
   },
   {
    "duration": -168,
    "start_time": "2021-09-26T18:57:21.750Z"
   },
   {
    "duration": -172,
    "start_time": "2021-09-26T18:57:21.755Z"
   },
   {
    "duration": 3376,
    "start_time": "2021-09-26T18:57:34.460Z"
   },
   {
    "duration": 1765,
    "start_time": "2021-09-26T18:58:35.642Z"
   },
   {
    "duration": 1270,
    "start_time": "2021-09-26T18:58:37.410Z"
   },
   {
    "duration": 309,
    "start_time": "2021-09-26T18:58:38.683Z"
   },
   {
    "duration": 8,
    "start_time": "2021-09-26T18:58:38.994Z"
   },
   {
    "duration": 71,
    "start_time": "2021-09-26T18:58:39.004Z"
   },
   {
    "duration": 642,
    "start_time": "2021-09-26T18:58:39.077Z"
   },
   {
    "duration": 696,
    "start_time": "2021-09-26T18:58:39.721Z"
   },
   {
    "duration": 4,
    "start_time": "2021-09-26T18:58:40.419Z"
   },
   {
    "duration": 102,
    "start_time": "2021-09-26T18:58:40.427Z"
   },
   {
    "duration": 71,
    "start_time": "2021-09-26T18:58:40.532Z"
   },
   {
    "duration": 10,
    "start_time": "2021-09-26T18:58:40.605Z"
   },
   {
    "duration": 113,
    "start_time": "2021-09-26T18:58:40.617Z"
   },
   {
    "duration": 189,
    "start_time": "2021-09-26T18:58:40.733Z"
   },
   {
    "duration": 113,
    "start_time": "2021-09-26T18:58:40.925Z"
   },
   {
    "duration": 162,
    "start_time": "2021-09-26T18:58:41.041Z"
   },
   {
    "duration": 11,
    "start_time": "2021-09-26T18:58:41.206Z"
   },
   {
    "duration": 492,
    "start_time": "2021-09-26T18:58:41.220Z"
   },
   {
    "duration": 41,
    "start_time": "2021-09-26T18:58:41.714Z"
   },
   {
    "duration": 21,
    "start_time": "2021-09-26T18:58:41.758Z"
   },
   {
    "duration": 24,
    "start_time": "2021-09-26T18:58:41.781Z"
   },
   {
    "duration": 198,
    "start_time": "2021-09-26T18:58:41.808Z"
   },
   {
    "duration": 104,
    "start_time": "2021-09-26T18:58:42.009Z"
   },
   {
    "duration": 513,
    "start_time": "2021-09-26T18:58:42.115Z"
   },
   {
    "duration": 537,
    "start_time": "2021-09-26T18:58:42.631Z"
   },
   {
    "duration": 11,
    "start_time": "2021-09-26T18:58:43.171Z"
   },
   {
    "duration": 13,
    "start_time": "2021-09-26T18:58:43.185Z"
   },
   {
    "duration": 434,
    "start_time": "2021-09-26T18:58:43.206Z"
   },
   {
    "duration": 83,
    "start_time": "2021-09-26T18:58:43.645Z"
   },
   {
    "duration": 112,
    "start_time": "2021-09-26T18:58:43.731Z"
   },
   {
    "duration": 454,
    "start_time": "2021-09-26T18:58:43.857Z"
   },
   {
    "duration": 58,
    "start_time": "2021-09-26T18:58:44.314Z"
   },
   {
    "duration": 45,
    "start_time": "2021-09-26T18:58:44.375Z"
   },
   {
    "duration": 72,
    "start_time": "2021-09-26T18:58:44.423Z"
   },
   {
    "duration": 46,
    "start_time": "2021-09-26T18:58:44.498Z"
   },
   {
    "duration": 50,
    "start_time": "2021-09-26T18:58:44.556Z"
   },
   {
    "duration": 56,
    "start_time": "2021-09-26T18:58:44.609Z"
   },
   {
    "duration": 133,
    "start_time": "2021-09-26T18:58:44.668Z"
   },
   {
    "duration": 6792,
    "start_time": "2021-09-26T18:58:44.804Z"
   },
   {
    "duration": 43,
    "start_time": "2021-09-26T18:58:51.598Z"
   },
   {
    "duration": 102,
    "start_time": "2021-09-26T18:58:51.656Z"
   },
   {
    "duration": 27,
    "start_time": "2021-09-26T18:58:51.761Z"
   },
   {
    "duration": 192,
    "start_time": "2021-09-26T18:58:51.791Z"
   },
   {
    "duration": 6,
    "start_time": "2021-09-26T18:58:51.985Z"
   },
   {
    "duration": 21,
    "start_time": "2021-09-26T18:58:51.993Z"
   },
   {
    "duration": 5,
    "start_time": "2021-09-26T18:58:52.016Z"
   },
   {
    "duration": 36,
    "start_time": "2021-09-26T18:58:52.023Z"
   },
   {
    "duration": 6,
    "start_time": "2021-09-26T18:58:52.061Z"
   },
   {
    "duration": 7,
    "start_time": "2021-09-26T18:58:52.069Z"
   },
   {
    "duration": 20,
    "start_time": "2021-09-26T18:58:52.079Z"
   },
   {
    "duration": 634,
    "start_time": "2021-09-26T18:58:52.102Z"
   },
   {
    "duration": 3301,
    "start_time": "2021-09-26T18:58:52.739Z"
   },
   {
    "duration": 96619,
    "start_time": "2021-09-26T18:58:56.043Z"
   },
   {
    "duration": 22294,
    "start_time": "2021-09-26T19:00:32.665Z"
   },
   {
    "duration": 100,
    "start_time": "2021-09-26T19:00:54.961Z"
   },
   {
    "duration": 92,
    "start_time": "2021-09-26T19:00:55.064Z"
   },
   {
    "duration": 497066,
    "start_time": "2021-09-26T19:00:55.159Z"
   },
   {
    "duration": 9,
    "start_time": "2021-09-26T19:09:12.228Z"
   },
   {
    "duration": 26446,
    "start_time": "2021-09-26T19:09:12.239Z"
   },
   {
    "duration": 681,
    "start_time": "2021-09-26T19:09:38.688Z"
   },
   {
    "duration": 4,
    "start_time": "2021-09-26T19:09:39.372Z"
   },
   {
    "duration": 105617,
    "start_time": "2021-09-26T19:09:39.378Z"
   },
   {
    "duration": 6,
    "start_time": "2021-09-26T19:11:24.997Z"
   },
   {
    "duration": 9,
    "start_time": "2021-09-26T19:11:25.006Z"
   },
   {
    "duration": 297223,
    "start_time": "2021-09-26T19:11:25.017Z"
   },
   {
    "duration": 7,
    "start_time": "2021-09-26T19:16:22.243Z"
   },
   {
    "duration": 14590,
    "start_time": "2021-09-26T19:16:22.253Z"
   },
   {
    "duration": 406,
    "start_time": "2021-09-26T19:16:36.845Z"
   },
   {
    "duration": 6,
    "start_time": "2021-09-26T19:16:37.253Z"
   },
   {
    "duration": 212,
    "start_time": "2021-09-26T19:17:00.193Z"
   },
   {
    "duration": 8,
    "start_time": "2021-09-26T19:17:32.391Z"
   },
   {
    "duration": 6,
    "start_time": "2021-09-26T19:17:35.655Z"
   },
   {
    "duration": 7,
    "start_time": "2021-09-26T19:17:43.096Z"
   },
   {
    "duration": 1253,
    "start_time": "2021-09-27T07:31:28.953Z"
   },
   {
    "duration": 452,
    "start_time": "2021-09-27T07:31:30.208Z"
   },
   {
    "duration": -156,
    "start_time": "2021-09-27T07:31:30.820Z"
   },
   {
    "duration": -163,
    "start_time": "2021-09-27T07:31:30.828Z"
   },
   {
    "duration": -170,
    "start_time": "2021-09-27T07:31:30.836Z"
   },
   {
    "duration": -176,
    "start_time": "2021-09-27T07:31:30.843Z"
   },
   {
    "duration": -183,
    "start_time": "2021-09-27T07:31:30.850Z"
   },
   {
    "duration": -188,
    "start_time": "2021-09-27T07:31:30.856Z"
   },
   {
    "duration": -193,
    "start_time": "2021-09-27T07:31:30.862Z"
   },
   {
    "duration": -199,
    "start_time": "2021-09-27T07:31:30.869Z"
   },
   {
    "duration": -204,
    "start_time": "2021-09-27T07:31:30.876Z"
   },
   {
    "duration": -210,
    "start_time": "2021-09-27T07:31:30.883Z"
   },
   {
    "duration": -215,
    "start_time": "2021-09-27T07:31:30.889Z"
   },
   {
    "duration": -220,
    "start_time": "2021-09-27T07:31:30.894Z"
   },
   {
    "duration": -226,
    "start_time": "2021-09-27T07:31:30.901Z"
   },
   {
    "duration": -231,
    "start_time": "2021-09-27T07:31:30.907Z"
   },
   {
    "duration": -246,
    "start_time": "2021-09-27T07:31:30.923Z"
   },
   {
    "duration": -251,
    "start_time": "2021-09-27T07:31:30.929Z"
   },
   {
    "duration": -257,
    "start_time": "2021-09-27T07:31:30.936Z"
   },
   {
    "duration": -264,
    "start_time": "2021-09-27T07:31:30.943Z"
   },
   {
    "duration": -268,
    "start_time": "2021-09-27T07:31:30.949Z"
   },
   {
    "duration": -273,
    "start_time": "2021-09-27T07:31:30.955Z"
   },
   {
    "duration": -280,
    "start_time": "2021-09-27T07:31:30.962Z"
   },
   {
    "duration": -283,
    "start_time": "2021-09-27T07:31:30.967Z"
   },
   {
    "duration": -288,
    "start_time": "2021-09-27T07:31:30.973Z"
   },
   {
    "duration": -294,
    "start_time": "2021-09-27T07:31:30.979Z"
   },
   {
    "duration": -299,
    "start_time": "2021-09-27T07:31:30.985Z"
   },
   {
    "duration": -304,
    "start_time": "2021-09-27T07:31:30.991Z"
   },
   {
    "duration": -310,
    "start_time": "2021-09-27T07:31:30.998Z"
   },
   {
    "duration": -315,
    "start_time": "2021-09-27T07:31:31.004Z"
   },
   {
    "duration": -321,
    "start_time": "2021-09-27T07:31:31.011Z"
   },
   {
    "duration": -327,
    "start_time": "2021-09-27T07:31:31.017Z"
   },
   {
    "duration": -345,
    "start_time": "2021-09-27T07:31:31.036Z"
   },
   {
    "duration": -352,
    "start_time": "2021-09-27T07:31:31.044Z"
   },
   {
    "duration": -359,
    "start_time": "2021-09-27T07:31:31.052Z"
   },
   {
    "duration": -364,
    "start_time": "2021-09-27T07:31:31.058Z"
   },
   {
    "duration": -370,
    "start_time": "2021-09-27T07:31:31.065Z"
   },
   {
    "duration": -375,
    "start_time": "2021-09-27T07:31:31.071Z"
   },
   {
    "duration": -381,
    "start_time": "2021-09-27T07:31:31.078Z"
   },
   {
    "duration": -385,
    "start_time": "2021-09-27T07:31:31.084Z"
   },
   {
    "duration": -392,
    "start_time": "2021-09-27T07:31:31.091Z"
   },
   {
    "duration": -400,
    "start_time": "2021-09-27T07:31:31.100Z"
   },
   {
    "duration": -489,
    "start_time": "2021-09-27T07:31:31.190Z"
   },
   {
    "duration": -494,
    "start_time": "2021-09-27T07:31:31.196Z"
   },
   {
    "duration": -498,
    "start_time": "2021-09-27T07:31:31.202Z"
   },
   {
    "duration": -503,
    "start_time": "2021-09-27T07:31:31.207Z"
   },
   {
    "duration": -508,
    "start_time": "2021-09-27T07:31:31.213Z"
   },
   {
    "duration": -512,
    "start_time": "2021-09-27T07:31:31.219Z"
   },
   {
    "duration": -517,
    "start_time": "2021-09-27T07:31:31.225Z"
   },
   {
    "duration": -522,
    "start_time": "2021-09-27T07:31:31.231Z"
   },
   {
    "duration": -557,
    "start_time": "2021-09-27T07:31:31.267Z"
   },
   {
    "duration": -564,
    "start_time": "2021-09-27T07:31:31.275Z"
   },
   {
    "duration": -570,
    "start_time": "2021-09-27T07:31:31.282Z"
   },
   {
    "duration": -631,
    "start_time": "2021-09-27T07:31:31.344Z"
   },
   {
    "duration": -637,
    "start_time": "2021-09-27T07:31:31.351Z"
   },
   {
    "duration": -727,
    "start_time": "2021-09-27T07:31:31.442Z"
   },
   {
    "duration": -749,
    "start_time": "2021-09-27T07:31:31.465Z"
   },
   {
    "duration": -753,
    "start_time": "2021-09-27T07:31:31.470Z"
   },
   {
    "duration": -760,
    "start_time": "2021-09-27T07:31:31.478Z"
   },
   {
    "duration": -777,
    "start_time": "2021-09-27T07:31:31.495Z"
   },
   {
    "duration": -783,
    "start_time": "2021-09-27T07:31:31.502Z"
   },
   {
    "duration": -732,
    "start_time": "2021-09-27T07:31:31.508Z"
   },
   {
    "duration": -737,
    "start_time": "2021-09-27T07:31:31.514Z"
   },
   {
    "duration": -742,
    "start_time": "2021-09-27T07:31:31.520Z"
   },
   {
    "duration": -749,
    "start_time": "2021-09-27T07:31:31.528Z"
   },
   {
    "duration": -754,
    "start_time": "2021-09-27T07:31:31.534Z"
   },
   {
    "duration": -786,
    "start_time": "2021-09-27T07:31:31.567Z"
   },
   {
    "duration": -830,
    "start_time": "2021-09-27T07:31:31.611Z"
   },
   {
    "duration": -837,
    "start_time": "2021-09-27T07:31:31.619Z"
   },
   {
    "duration": -842,
    "start_time": "2021-09-27T07:31:31.625Z"
   },
   {
    "duration": -847,
    "start_time": "2021-09-27T07:31:31.632Z"
   },
   {
    "duration": -852,
    "start_time": "2021-09-27T07:31:31.637Z"
   },
   {
    "duration": -858,
    "start_time": "2021-09-27T07:31:31.644Z"
   },
   {
    "duration": 1324,
    "start_time": "2021-09-27T07:31:50.776Z"
   },
   {
    "duration": 892,
    "start_time": "2021-09-27T07:31:52.102Z"
   },
   {
    "duration": 140,
    "start_time": "2021-09-27T07:31:52.996Z"
   },
   {
    "duration": 7,
    "start_time": "2021-09-27T07:31:53.138Z"
   },
   {
    "duration": 32,
    "start_time": "2021-09-27T07:31:53.147Z"
   },
   {
    "duration": 411,
    "start_time": "2021-09-27T07:31:53.181Z"
   },
   {
    "duration": 470,
    "start_time": "2021-09-27T07:31:53.594Z"
   },
   {
    "duration": 3,
    "start_time": "2021-09-27T07:31:54.067Z"
   },
   {
    "duration": 72,
    "start_time": "2021-09-27T07:31:54.072Z"
   },
   {
    "duration": 61,
    "start_time": "2021-09-27T07:31:54.147Z"
   },
   {
    "duration": 7,
    "start_time": "2021-09-27T07:31:54.210Z"
   },
   {
    "duration": 79,
    "start_time": "2021-09-27T07:31:54.218Z"
   },
   {
    "duration": 136,
    "start_time": "2021-09-27T07:31:54.299Z"
   },
   {
    "duration": 92,
    "start_time": "2021-09-27T07:31:54.437Z"
   },
   {
    "duration": 112,
    "start_time": "2021-09-27T07:31:54.530Z"
   },
   {
    "duration": 8,
    "start_time": "2021-09-27T07:31:54.643Z"
   },
   {
    "duration": 324,
    "start_time": "2021-09-27T07:31:54.652Z"
   },
   {
    "duration": 133,
    "start_time": "2021-09-27T07:31:54.978Z"
   },
   {
    "duration": -241,
    "start_time": "2021-09-27T07:31:55.356Z"
   },
   {
    "duration": -316,
    "start_time": "2021-09-27T07:31:55.432Z"
   },
   {
    "duration": -322,
    "start_time": "2021-09-27T07:31:55.439Z"
   },
   {
    "duration": -330,
    "start_time": "2021-09-27T07:31:55.448Z"
   },
   {
    "duration": -335,
    "start_time": "2021-09-27T07:31:55.454Z"
   },
   {
    "duration": -342,
    "start_time": "2021-09-27T07:31:55.462Z"
   },
   {
    "duration": -356,
    "start_time": "2021-09-27T07:31:55.477Z"
   },
   {
    "duration": -363,
    "start_time": "2021-09-27T07:31:55.485Z"
   },
   {
    "duration": -370,
    "start_time": "2021-09-27T07:31:55.493Z"
   },
   {
    "duration": -375,
    "start_time": "2021-09-27T07:31:55.499Z"
   },
   {
    "duration": -381,
    "start_time": "2021-09-27T07:31:55.506Z"
   },
   {
    "duration": -388,
    "start_time": "2021-09-27T07:31:55.514Z"
   },
   {
    "duration": -393,
    "start_time": "2021-09-27T07:31:55.520Z"
   },
   {
    "duration": -400,
    "start_time": "2021-09-27T07:31:55.528Z"
   },
   {
    "duration": -405,
    "start_time": "2021-09-27T07:31:55.534Z"
   },
   {
    "duration": -471,
    "start_time": "2021-09-27T07:31:55.601Z"
   },
   {
    "duration": -478,
    "start_time": "2021-09-27T07:31:55.609Z"
   },
   {
    "duration": -485,
    "start_time": "2021-09-27T07:31:55.617Z"
   },
   {
    "duration": -491,
    "start_time": "2021-09-27T07:31:55.624Z"
   },
   {
    "duration": -498,
    "start_time": "2021-09-27T07:31:55.632Z"
   },
   {
    "duration": -505,
    "start_time": "2021-09-27T07:31:55.640Z"
   },
   {
    "duration": -825,
    "start_time": "2021-09-27T07:31:55.961Z"
   },
   {
    "duration": -831,
    "start_time": "2021-09-27T07:31:55.968Z"
   },
   {
    "duration": -837,
    "start_time": "2021-09-27T07:31:55.975Z"
   },
   {
    "duration": -844,
    "start_time": "2021-09-27T07:31:55.983Z"
   },
   {
    "duration": -849,
    "start_time": "2021-09-27T07:31:55.989Z"
   },
   {
    "duration": -854,
    "start_time": "2021-09-27T07:31:55.995Z"
   },
   {
    "duration": -914,
    "start_time": "2021-09-27T07:31:56.056Z"
   },
   {
    "duration": -957,
    "start_time": "2021-09-27T07:31:56.100Z"
   },
   {
    "duration": -962,
    "start_time": "2021-09-27T07:31:56.106Z"
   },
   {
    "duration": -1204,
    "start_time": "2021-09-27T07:31:56.349Z"
   },
   {
    "duration": -1210,
    "start_time": "2021-09-27T07:31:56.356Z"
   },
   {
    "duration": -1215,
    "start_time": "2021-09-27T07:31:56.361Z"
   },
   {
    "duration": -1222,
    "start_time": "2021-09-27T07:31:56.369Z"
   },
   {
    "duration": -1227,
    "start_time": "2021-09-27T07:31:56.375Z"
   },
   {
    "duration": -1233,
    "start_time": "2021-09-27T07:31:56.382Z"
   },
   {
    "duration": -1238,
    "start_time": "2021-09-27T07:31:56.388Z"
   },
   {
    "duration": -1244,
    "start_time": "2021-09-27T07:31:56.395Z"
   },
   {
    "duration": -1255,
    "start_time": "2021-09-27T07:31:56.407Z"
   },
   {
    "duration": -1261,
    "start_time": "2021-09-27T07:31:56.414Z"
   },
   {
    "duration": -1265,
    "start_time": "2021-09-27T07:31:56.419Z"
   },
   {
    "duration": -1251,
    "start_time": "2021-09-27T07:31:56.427Z"
   },
   {
    "duration": -1256,
    "start_time": "2021-09-27T07:31:56.433Z"
   },
   {
    "duration": -1262,
    "start_time": "2021-09-27T07:31:56.440Z"
   },
   {
    "duration": -1267,
    "start_time": "2021-09-27T07:31:56.446Z"
   },
   {
    "duration": -1271,
    "start_time": "2021-09-27T07:31:56.451Z"
   },
   {
    "duration": -1276,
    "start_time": "2021-09-27T07:31:56.457Z"
   },
   {
    "duration": -1281,
    "start_time": "2021-09-27T07:31:56.463Z"
   },
   {
    "duration": -1286,
    "start_time": "2021-09-27T07:31:56.469Z"
   },
   {
    "duration": -1291,
    "start_time": "2021-09-27T07:31:56.475Z"
   },
   {
    "duration": -1296,
    "start_time": "2021-09-27T07:31:56.481Z"
   },
   {
    "duration": -1302,
    "start_time": "2021-09-27T07:31:56.488Z"
   },
   {
    "duration": -1306,
    "start_time": "2021-09-27T07:31:56.493Z"
   },
   {
    "duration": -1312,
    "start_time": "2021-09-27T07:31:56.500Z"
   },
   {
    "duration": -1317,
    "start_time": "2021-09-27T07:31:56.506Z"
   },
   {
    "duration": -1330,
    "start_time": "2021-09-27T07:31:56.520Z"
   },
   {
    "duration": 1294,
    "start_time": "2021-09-27T07:32:28.668Z"
   },
   {
    "duration": 795,
    "start_time": "2021-09-27T07:32:29.964Z"
   },
   {
    "duration": 129,
    "start_time": "2021-09-27T07:32:30.761Z"
   },
   {
    "duration": 6,
    "start_time": "2021-09-27T07:32:30.892Z"
   },
   {
    "duration": 28,
    "start_time": "2021-09-27T07:32:30.900Z"
   },
   {
    "duration": 919,
    "start_time": "2021-09-27T07:32:30.931Z"
   },
   {
    "duration": 461,
    "start_time": "2021-09-27T07:32:31.852Z"
   },
   {
    "duration": 4,
    "start_time": "2021-09-27T07:32:32.315Z"
   },
   {
    "duration": 72,
    "start_time": "2021-09-27T07:32:32.321Z"
   },
   {
    "duration": 45,
    "start_time": "2021-09-27T07:32:32.395Z"
   },
   {
    "duration": 7,
    "start_time": "2021-09-27T07:32:32.442Z"
   },
   {
    "duration": 82,
    "start_time": "2021-09-27T07:32:32.451Z"
   },
   {
    "duration": 122,
    "start_time": "2021-09-27T07:32:32.534Z"
   },
   {
    "duration": 92,
    "start_time": "2021-09-27T07:32:32.657Z"
   },
   {
    "duration": 116,
    "start_time": "2021-09-27T07:32:32.750Z"
   },
   {
    "duration": 14,
    "start_time": "2021-09-27T07:32:32.868Z"
   },
   {
    "duration": 308,
    "start_time": "2021-09-27T07:32:32.884Z"
   },
   {
    "duration": 264,
    "start_time": "2021-09-27T07:32:33.194Z"
   },
   {
    "duration": 27,
    "start_time": "2021-09-27T07:32:33.460Z"
   },
   {
    "duration": 15,
    "start_time": "2021-09-27T07:32:33.489Z"
   },
   {
    "duration": 15,
    "start_time": "2021-09-27T07:32:33.506Z"
   },
   {
    "duration": 106,
    "start_time": "2021-09-27T07:32:33.523Z"
   },
   {
    "duration": 78,
    "start_time": "2021-09-27T07:32:33.633Z"
   },
   {
    "duration": 307,
    "start_time": "2021-09-27T07:32:33.713Z"
   },
   {
    "duration": 268,
    "start_time": "2021-09-27T07:32:34.022Z"
   },
   {
    "duration": 8,
    "start_time": "2021-09-27T07:32:34.291Z"
   },
   {
    "duration": 9,
    "start_time": "2021-09-27T07:32:34.300Z"
   },
   {
    "duration": 290,
    "start_time": "2021-09-27T07:32:34.311Z"
   },
   {
    "duration": 37,
    "start_time": "2021-09-27T07:32:34.603Z"
   },
   {
    "duration": 87,
    "start_time": "2021-09-27T07:32:34.641Z"
   },
   {
    "duration": 284,
    "start_time": "2021-09-27T07:32:34.730Z"
   },
   {
    "duration": 255,
    "start_time": "2021-09-27T07:32:35.016Z"
   },
   {
    "duration": 32,
    "start_time": "2021-09-27T07:32:35.276Z"
   },
   {
    "duration": 38,
    "start_time": "2021-09-27T07:32:35.310Z"
   },
   {
    "duration": 46,
    "start_time": "2021-09-27T07:32:35.350Z"
   },
   {
    "duration": 33,
    "start_time": "2021-09-27T07:32:35.397Z"
   },
   {
    "duration": 49,
    "start_time": "2021-09-27T07:32:35.432Z"
   },
   {
    "duration": 33,
    "start_time": "2021-09-27T07:32:35.483Z"
   },
   {
    "duration": 95,
    "start_time": "2021-09-27T07:32:35.518Z"
   },
   {
    "duration": 5170,
    "start_time": "2021-09-27T07:32:35.614Z"
   },
   {
    "duration": 35,
    "start_time": "2021-09-27T07:32:40.786Z"
   },
   {
    "duration": 116,
    "start_time": "2021-09-27T07:32:40.823Z"
   },
   {
    "duration": 25,
    "start_time": "2021-09-27T07:32:40.941Z"
   },
   {
    "duration": 11,
    "start_time": "2021-09-27T07:32:40.977Z"
   },
   {
    "duration": 57,
    "start_time": "2021-09-27T07:32:40.990Z"
   },
   {
    "duration": 5,
    "start_time": "2021-09-27T07:32:41.049Z"
   },
   {
    "duration": 10,
    "start_time": "2021-09-27T07:32:41.077Z"
   },
   {
    "duration": 3,
    "start_time": "2021-09-27T07:32:41.089Z"
   },
   {
    "duration": 13,
    "start_time": "2021-09-27T07:32:41.094Z"
   },
   {
    "duration": 4,
    "start_time": "2021-09-27T07:32:41.109Z"
   },
   {
    "duration": 5,
    "start_time": "2021-09-27T07:32:41.115Z"
   },
   {
    "duration": 12,
    "start_time": "2021-09-27T07:32:41.121Z"
   },
   {
    "duration": 503,
    "start_time": "2021-09-27T07:32:41.135Z"
   },
   {
    "duration": 2461,
    "start_time": "2021-09-27T07:32:41.640Z"
   },
   {
    "duration": 84278,
    "start_time": "2021-09-27T07:32:44.102Z"
   },
   {
    "duration": 19698,
    "start_time": "2021-09-27T07:34:08.382Z"
   },
   {
    "duration": 101,
    "start_time": "2021-09-27T07:34:28.083Z"
   },
   {
    "duration": 92,
    "start_time": "2021-09-27T07:34:28.187Z"
   },
   {
    "duration": 5,
    "start_time": "2021-09-27T07:34:28.280Z"
   },
   {
    "duration": 521,
    "start_time": "2021-09-27T07:34:28.287Z"
   },
   {
    "duration": 395,
    "start_time": "2021-09-27T07:34:28.810Z"
   },
   {
    "duration": -41,
    "start_time": "2021-09-27T07:34:29.247Z"
   },
   {
    "duration": -70,
    "start_time": "2021-09-27T07:34:29.278Z"
   },
   {
    "duration": -89,
    "start_time": "2021-09-27T07:34:29.298Z"
   },
   {
    "duration": -99,
    "start_time": "2021-09-27T07:34:29.308Z"
   },
   {
    "duration": -106,
    "start_time": "2021-09-27T07:34:29.316Z"
   },
   {
    "duration": -113,
    "start_time": "2021-09-27T07:34:29.324Z"
   },
   {
    "duration": -118,
    "start_time": "2021-09-27T07:34:29.330Z"
   },
   {
    "duration": -124,
    "start_time": "2021-09-27T07:34:29.337Z"
   },
   {
    "duration": -138,
    "start_time": "2021-09-27T07:34:29.352Z"
   },
   {
    "duration": -146,
    "start_time": "2021-09-27T07:34:29.361Z"
   },
   {
    "duration": -153,
    "start_time": "2021-09-27T07:34:29.369Z"
   },
   {
    "duration": -159,
    "start_time": "2021-09-27T07:34:29.376Z"
   },
   {
    "duration": -182,
    "start_time": "2021-09-27T07:34:29.400Z"
   },
   {
    "duration": 1375,
    "start_time": "2021-09-27T07:40:24.396Z"
   },
   {
    "duration": 1027,
    "start_time": "2021-09-27T07:40:25.773Z"
   },
   {
    "duration": 147,
    "start_time": "2021-09-27T07:40:26.802Z"
   },
   {
    "duration": 6,
    "start_time": "2021-09-27T07:40:26.951Z"
   },
   {
    "duration": 29,
    "start_time": "2021-09-27T07:40:26.959Z"
   },
   {
    "duration": 465,
    "start_time": "2021-09-27T07:40:26.989Z"
   },
   {
    "duration": 465,
    "start_time": "2021-09-27T07:40:27.456Z"
   },
   {
    "duration": 3,
    "start_time": "2021-09-27T07:40:27.924Z"
   },
   {
    "duration": 258,
    "start_time": "2021-09-27T07:40:27.929Z"
   },
   {
    "duration": 49,
    "start_time": "2021-09-27T07:40:28.189Z"
   },
   {
    "duration": 7,
    "start_time": "2021-09-27T07:40:28.240Z"
   },
   {
    "duration": 85,
    "start_time": "2021-09-27T07:40:28.249Z"
   },
   {
    "duration": 143,
    "start_time": "2021-09-27T07:40:28.336Z"
   },
   {
    "duration": 83,
    "start_time": "2021-09-27T07:40:28.481Z"
   },
   {
    "duration": 110,
    "start_time": "2021-09-27T07:40:28.577Z"
   },
   {
    "duration": 8,
    "start_time": "2021-09-27T07:40:28.688Z"
   },
   {
    "duration": 336,
    "start_time": "2021-09-27T07:40:28.698Z"
   },
   {
    "duration": 271,
    "start_time": "2021-09-27T07:40:29.035Z"
   },
   {
    "duration": 13,
    "start_time": "2021-09-27T07:40:29.308Z"
   },
   {
    "duration": 17,
    "start_time": "2021-09-27T07:40:29.323Z"
   },
   {
    "duration": 36,
    "start_time": "2021-09-27T07:40:29.342Z"
   },
   {
    "duration": 15,
    "start_time": "2021-09-27T07:40:29.380Z"
   },
   {
    "duration": 97,
    "start_time": "2021-09-27T07:40:29.399Z"
   },
   {
    "duration": 88,
    "start_time": "2021-09-27T07:40:29.499Z"
   },
   {
    "duration": 302,
    "start_time": "2021-09-27T07:40:29.589Z"
   },
   {
    "duration": 346,
    "start_time": "2021-09-27T07:40:29.893Z"
   },
   {
    "duration": 8,
    "start_time": "2021-09-27T07:40:30.240Z"
   },
   {
    "duration": 18,
    "start_time": "2021-09-27T07:40:30.249Z"
   },
   {
    "duration": 213,
    "start_time": "2021-09-27T07:40:30.269Z"
   },
   {
    "duration": 40,
    "start_time": "2021-09-27T07:40:30.483Z"
   },
   {
    "duration": 86,
    "start_time": "2021-09-27T07:40:30.525Z"
   },
   {
    "duration": 295,
    "start_time": "2021-09-27T07:40:30.613Z"
   },
   {
    "duration": 286,
    "start_time": "2021-09-27T07:40:30.910Z"
   },
   {
    "duration": 38,
    "start_time": "2021-09-27T07:40:31.198Z"
   },
   {
    "duration": 53,
    "start_time": "2021-09-27T07:40:31.238Z"
   },
   {
    "duration": 38,
    "start_time": "2021-09-27T07:40:31.293Z"
   },
   {
    "duration": 47,
    "start_time": "2021-09-27T07:40:31.333Z"
   },
   {
    "duration": 50,
    "start_time": "2021-09-27T07:40:31.382Z"
   },
   {
    "duration": 72,
    "start_time": "2021-09-27T07:40:31.434Z"
   },
   {
    "duration": 143,
    "start_time": "2021-09-27T07:40:31.508Z"
   },
   {
    "duration": 5298,
    "start_time": "2021-09-27T07:40:31.653Z"
   },
   {
    "duration": 38,
    "start_time": "2021-09-27T07:40:36.953Z"
   },
   {
    "duration": 114,
    "start_time": "2021-09-27T07:40:36.993Z"
   },
   {
    "duration": 26,
    "start_time": "2021-09-27T07:40:37.109Z"
   },
   {
    "duration": 10,
    "start_time": "2021-09-27T07:40:37.137Z"
   },
   {
    "duration": 79,
    "start_time": "2021-09-27T07:40:37.149Z"
   },
   {
    "duration": 5,
    "start_time": "2021-09-27T07:40:37.230Z"
   },
   {
    "duration": 21,
    "start_time": "2021-09-27T07:40:37.236Z"
   },
   {
    "duration": 4,
    "start_time": "2021-09-27T07:40:37.259Z"
   },
   {
    "duration": 26,
    "start_time": "2021-09-27T07:40:37.264Z"
   },
   {
    "duration": 22,
    "start_time": "2021-09-27T07:40:37.292Z"
   },
   {
    "duration": 10,
    "start_time": "2021-09-27T07:40:37.316Z"
   },
   {
    "duration": 18,
    "start_time": "2021-09-27T07:40:37.328Z"
   },
   {
    "duration": 466,
    "start_time": "2021-09-27T07:40:37.348Z"
   },
   {
    "duration": 2460,
    "start_time": "2021-09-27T07:40:37.816Z"
   },
   {
    "duration": 85706,
    "start_time": "2021-09-27T07:40:40.278Z"
   },
   {
    "duration": 19692,
    "start_time": "2021-09-27T07:42:05.986Z"
   },
   {
    "duration": 100,
    "start_time": "2021-09-27T07:42:25.681Z"
   },
   {
    "duration": 4,
    "start_time": "2021-09-27T07:42:25.784Z"
   },
   {
    "duration": 3,
    "start_time": "2021-09-27T07:42:25.878Z"
   },
   {
    "duration": 566232,
    "start_time": "2021-09-27T07:42:25.884Z"
   },
   {
    "duration": 471,
    "start_time": "2021-09-27T07:51:52.118Z"
   },
   {
    "duration": -377,
    "start_time": "2021-09-27T07:51:52.969Z"
   },
   {
    "duration": -384,
    "start_time": "2021-09-27T07:51:52.977Z"
   },
   {
    "duration": -390,
    "start_time": "2021-09-27T07:51:52.984Z"
   },
   {
    "duration": -395,
    "start_time": "2021-09-27T07:51:52.990Z"
   },
   {
    "duration": -423,
    "start_time": "2021-09-27T07:51:53.019Z"
   },
   {
    "duration": -437,
    "start_time": "2021-09-27T07:51:53.034Z"
   },
   {
    "duration": -444,
    "start_time": "2021-09-27T07:51:53.041Z"
   },
   {
    "duration": -452,
    "start_time": "2021-09-27T07:51:53.051Z"
   },
   {
    "duration": -490,
    "start_time": "2021-09-27T07:51:53.090Z"
   },
   {
    "duration": -496,
    "start_time": "2021-09-27T07:51:53.097Z"
   },
   {
    "duration": -501,
    "start_time": "2021-09-27T07:51:53.103Z"
   },
   {
    "duration": -507,
    "start_time": "2021-09-27T07:51:53.110Z"
   },
   {
    "duration": 13,
    "start_time": "2021-09-27T07:52:05.545Z"
   },
   {
    "duration": 4,
    "start_time": "2021-09-27T07:52:45.557Z"
   },
   {
    "duration": 1302,
    "start_time": "2021-09-27T08:03:16.220Z"
   },
   {
    "duration": 955,
    "start_time": "2021-09-27T08:03:17.525Z"
   },
   {
    "duration": 212,
    "start_time": "2021-09-27T08:03:18.483Z"
   },
   {
    "duration": 5,
    "start_time": "2021-09-27T08:03:18.697Z"
   },
   {
    "duration": 22,
    "start_time": "2021-09-27T08:03:18.704Z"
   },
   {
    "duration": 428,
    "start_time": "2021-09-27T08:03:18.728Z"
   },
   {
    "duration": 449,
    "start_time": "2021-09-27T08:03:19.158Z"
   },
   {
    "duration": 4,
    "start_time": "2021-09-27T08:03:19.610Z"
   },
   {
    "duration": 70,
    "start_time": "2021-09-27T08:03:19.616Z"
   },
   {
    "duration": 46,
    "start_time": "2021-09-27T08:03:19.688Z"
   },
   {
    "duration": 7,
    "start_time": "2021-09-27T08:03:19.736Z"
   },
   {
    "duration": 78,
    "start_time": "2021-09-27T08:03:19.745Z"
   },
   {
    "duration": 127,
    "start_time": "2021-09-27T08:03:19.825Z"
   },
   {
    "duration": 93,
    "start_time": "2021-09-27T08:03:19.954Z"
   },
   {
    "duration": 117,
    "start_time": "2021-09-27T08:03:20.048Z"
   },
   {
    "duration": 12,
    "start_time": "2021-09-27T08:03:20.167Z"
   },
   {
    "duration": 317,
    "start_time": "2021-09-27T08:03:20.181Z"
   },
   {
    "duration": 261,
    "start_time": "2021-09-27T08:03:20.500Z"
   },
   {
    "duration": 18,
    "start_time": "2021-09-27T08:03:20.763Z"
   },
   {
    "duration": 28,
    "start_time": "2021-09-27T08:03:20.782Z"
   },
   {
    "duration": 57,
    "start_time": "2021-09-27T08:03:20.811Z"
   },
   {
    "duration": 22,
    "start_time": "2021-09-27T08:03:20.870Z"
   },
   {
    "duration": 13,
    "start_time": "2021-09-27T08:03:20.895Z"
   },
   {
    "duration": 14,
    "start_time": "2021-09-27T08:03:20.911Z"
   },
   {
    "duration": 102,
    "start_time": "2021-09-27T08:03:20.927Z"
   },
   {
    "duration": 78,
    "start_time": "2021-09-27T08:03:21.031Z"
   },
   {
    "duration": 316,
    "start_time": "2021-09-27T08:03:21.110Z"
   },
   {
    "duration": 333,
    "start_time": "2021-09-27T08:03:21.428Z"
   },
   {
    "duration": 15,
    "start_time": "2021-09-27T08:03:21.763Z"
   },
   {
    "duration": 11,
    "start_time": "2021-09-27T08:03:21.780Z"
   },
   {
    "duration": 213,
    "start_time": "2021-09-27T08:03:21.793Z"
   },
   {
    "duration": 38,
    "start_time": "2021-09-27T08:03:22.008Z"
   },
   {
    "duration": 92,
    "start_time": "2021-09-27T08:03:22.048Z"
   },
   {
    "duration": 284,
    "start_time": "2021-09-27T08:03:22.142Z"
   },
   {
    "duration": 256,
    "start_time": "2021-09-27T08:03:22.428Z"
   },
   {
    "duration": 3080,
    "start_time": "2021-09-27T08:03:22.687Z"
   },
   {
    "duration": 17,
    "start_time": "2021-09-27T08:03:25.770Z"
   },
   {
    "duration": 9,
    "start_time": "2021-09-27T08:03:25.788Z"
   },
   {
    "duration": 823,
    "start_time": "2021-09-27T08:03:25.799Z"
   },
   {
    "duration": -203,
    "start_time": "2021-09-27T08:03:26.827Z"
   },
   {
    "duration": -219,
    "start_time": "2021-09-27T08:03:26.844Z"
   },
   {
    "duration": -223,
    "start_time": "2021-09-27T08:03:26.850Z"
   },
   {
    "duration": -237,
    "start_time": "2021-09-27T08:03:26.865Z"
   },
   {
    "duration": -250,
    "start_time": "2021-09-27T08:03:26.879Z"
   },
   {
    "duration": -263,
    "start_time": "2021-09-27T08:03:26.893Z"
   },
   {
    "duration": -268,
    "start_time": "2021-09-27T08:03:26.899Z"
   },
   {
    "duration": -282,
    "start_time": "2021-09-27T08:03:26.914Z"
   },
   {
    "duration": -296,
    "start_time": "2021-09-27T08:03:26.928Z"
   },
   {
    "duration": -303,
    "start_time": "2021-09-27T08:03:26.936Z"
   },
   {
    "duration": -308,
    "start_time": "2021-09-27T08:03:26.942Z"
   },
   {
    "duration": -313,
    "start_time": "2021-09-27T08:03:26.948Z"
   },
   {
    "duration": -318,
    "start_time": "2021-09-27T08:03:26.954Z"
   },
   {
    "duration": -323,
    "start_time": "2021-09-27T08:03:26.960Z"
   },
   {
    "duration": -328,
    "start_time": "2021-09-27T08:03:26.966Z"
   },
   {
    "duration": -333,
    "start_time": "2021-09-27T08:03:26.973Z"
   },
   {
    "duration": -337,
    "start_time": "2021-09-27T08:03:26.978Z"
   },
   {
    "duration": -342,
    "start_time": "2021-09-27T08:03:26.984Z"
   },
   {
    "duration": -346,
    "start_time": "2021-09-27T08:03:26.989Z"
   },
   {
    "duration": -409,
    "start_time": "2021-09-27T08:03:27.053Z"
   },
   {
    "duration": -414,
    "start_time": "2021-09-27T08:03:27.059Z"
   },
   {
    "duration": -419,
    "start_time": "2021-09-27T08:03:27.065Z"
   },
   {
    "duration": -425,
    "start_time": "2021-09-27T08:03:27.072Z"
   },
   {
    "duration": -490,
    "start_time": "2021-09-27T08:03:27.138Z"
   },
   {
    "duration": -494,
    "start_time": "2021-09-27T08:03:27.143Z"
   },
   {
    "duration": -609,
    "start_time": "2021-09-27T08:03:27.259Z"
   },
   {
    "duration": -682,
    "start_time": "2021-09-27T08:03:27.333Z"
   },
   {
    "duration": -687,
    "start_time": "2021-09-27T08:03:27.339Z"
   },
   {
    "duration": -692,
    "start_time": "2021-09-27T08:03:27.345Z"
   },
   {
    "duration": -697,
    "start_time": "2021-09-27T08:03:27.351Z"
   },
   {
    "duration": -702,
    "start_time": "2021-09-27T08:03:27.357Z"
   },
   {
    "duration": -707,
    "start_time": "2021-09-27T08:03:27.363Z"
   },
   {
    "duration": -712,
    "start_time": "2021-09-27T08:03:27.369Z"
   },
   {
    "duration": -762,
    "start_time": "2021-09-27T08:03:27.420Z"
   },
   {
    "duration": -768,
    "start_time": "2021-09-27T08:03:27.427Z"
   },
   {
    "duration": -773,
    "start_time": "2021-09-27T08:03:27.433Z"
   },
   {
    "duration": -811,
    "start_time": "2021-09-27T08:03:27.472Z"
   },
   {
    "duration": -816,
    "start_time": "2021-09-27T08:03:27.478Z"
   },
   {
    "duration": -821,
    "start_time": "2021-09-27T08:03:27.484Z"
   },
   {
    "duration": -814,
    "start_time": "2021-09-27T08:03:27.490Z"
   },
   {
    "duration": -819,
    "start_time": "2021-09-27T08:03:27.496Z"
   },
   {
    "duration": -824,
    "start_time": "2021-09-27T08:03:27.502Z"
   },
   {
    "duration": 1244,
    "start_time": "2021-09-27T08:06:29.628Z"
   },
   {
    "duration": 780,
    "start_time": "2021-09-27T08:06:30.874Z"
   },
   {
    "duration": 128,
    "start_time": "2021-09-27T08:06:31.657Z"
   },
   {
    "duration": 5,
    "start_time": "2021-09-27T08:06:31.787Z"
   },
   {
    "duration": 27,
    "start_time": "2021-09-27T08:06:31.794Z"
   },
   {
    "duration": 434,
    "start_time": "2021-09-27T08:06:31.822Z"
   },
   {
    "duration": 453,
    "start_time": "2021-09-27T08:06:32.257Z"
   },
   {
    "duration": 3,
    "start_time": "2021-09-27T08:06:32.713Z"
   },
   {
    "duration": 79,
    "start_time": "2021-09-27T08:06:32.718Z"
   },
   {
    "duration": 99,
    "start_time": "2021-09-27T08:06:32.799Z"
   },
   {
    "duration": 6,
    "start_time": "2021-09-27T08:06:32.900Z"
   },
   {
    "duration": 116,
    "start_time": "2021-09-27T08:06:32.908Z"
   },
   {
    "duration": 215,
    "start_time": "2021-09-27T08:06:33.077Z"
   },
   {
    "duration": 93,
    "start_time": "2021-09-27T08:06:33.293Z"
   },
   {
    "duration": 114,
    "start_time": "2021-09-27T08:06:33.387Z"
   },
   {
    "duration": 7,
    "start_time": "2021-09-27T08:06:33.503Z"
   },
   {
    "duration": 316,
    "start_time": "2021-09-27T08:06:33.512Z"
   },
   {
    "duration": 261,
    "start_time": "2021-09-27T08:06:33.830Z"
   },
   {
    "duration": 14,
    "start_time": "2021-09-27T08:06:34.093Z"
   },
   {
    "duration": 15,
    "start_time": "2021-09-27T08:06:34.109Z"
   },
   {
    "duration": 78,
    "start_time": "2021-09-27T08:06:34.126Z"
   },
   {
    "duration": 18,
    "start_time": "2021-09-27T08:06:34.206Z"
   },
   {
    "duration": 14,
    "start_time": "2021-09-27T08:06:34.229Z"
   },
   {
    "duration": 40,
    "start_time": "2021-09-27T08:06:34.246Z"
   },
   {
    "duration": 77,
    "start_time": "2021-09-27T08:06:34.287Z"
   },
   {
    "duration": 83,
    "start_time": "2021-09-27T08:06:34.366Z"
   },
   {
    "duration": 316,
    "start_time": "2021-09-27T08:06:34.451Z"
   },
   {
    "duration": 331,
    "start_time": "2021-09-27T08:06:34.769Z"
   },
   {
    "duration": 8,
    "start_time": "2021-09-27T08:06:35.101Z"
   },
   {
    "duration": 11,
    "start_time": "2021-09-27T08:06:35.110Z"
   },
   {
    "duration": 220,
    "start_time": "2021-09-27T08:06:35.123Z"
   },
   {
    "duration": 45,
    "start_time": "2021-09-27T08:06:35.345Z"
   },
   {
    "duration": 74,
    "start_time": "2021-09-27T08:06:35.392Z"
   },
   {
    "duration": 283,
    "start_time": "2021-09-27T08:06:35.476Z"
   },
   {
    "duration": 16,
    "start_time": "2021-09-27T08:06:35.761Z"
   },
   {
    "duration": 10,
    "start_time": "2021-09-27T08:06:35.780Z"
   },
   {
    "duration": 11,
    "start_time": "2021-09-27T08:06:35.792Z"
   },
   {
    "duration": 289,
    "start_time": "2021-09-27T08:06:35.805Z"
   },
   {
    "duration": 32,
    "start_time": "2021-09-27T08:06:36.096Z"
   },
   {
    "duration": 49,
    "start_time": "2021-09-27T08:06:36.130Z"
   },
   {
    "duration": 46,
    "start_time": "2021-09-27T08:06:36.181Z"
   },
   {
    "duration": 35,
    "start_time": "2021-09-27T08:06:36.229Z"
   },
   {
    "duration": 45,
    "start_time": "2021-09-27T08:06:36.266Z"
   },
   {
    "duration": 44,
    "start_time": "2021-09-27T08:06:36.313Z"
   },
   {
    "duration": 85,
    "start_time": "2021-09-27T08:06:36.359Z"
   },
   {
    "duration": 4977,
    "start_time": "2021-09-27T08:06:36.446Z"
   },
   {
    "duration": 36,
    "start_time": "2021-09-27T08:06:41.425Z"
   },
   {
    "duration": 114,
    "start_time": "2021-09-27T08:06:41.463Z"
   },
   {
    "duration": 27,
    "start_time": "2021-09-27T08:06:41.578Z"
   },
   {
    "duration": 10,
    "start_time": "2021-09-27T08:06:41.607Z"
   },
   {
    "duration": 82,
    "start_time": "2021-09-27T08:06:41.619Z"
   },
   {
    "duration": 5,
    "start_time": "2021-09-27T08:06:41.703Z"
   },
   {
    "duration": 27,
    "start_time": "2021-09-27T08:06:41.710Z"
   },
   {
    "duration": 10,
    "start_time": "2021-09-27T08:06:41.739Z"
   },
   {
    "duration": 24,
    "start_time": "2021-09-27T08:06:41.751Z"
   },
   {
    "duration": 31,
    "start_time": "2021-09-27T08:06:41.777Z"
   },
   {
    "duration": 17,
    "start_time": "2021-09-27T08:06:41.810Z"
   },
   {
    "duration": 19,
    "start_time": "2021-09-27T08:06:41.829Z"
   },
   {
    "duration": 449,
    "start_time": "2021-09-27T08:06:41.850Z"
   },
   {
    "duration": 2057,
    "start_time": "2021-09-27T08:06:42.301Z"
   },
   {
    "duration": 63675,
    "start_time": "2021-09-27T08:06:44.360Z"
   },
   {
    "duration": 16843,
    "start_time": "2021-09-27T08:07:48.037Z"
   },
   {
    "duration": 97,
    "start_time": "2021-09-27T08:08:04.882Z"
   },
   {
    "duration": 4,
    "start_time": "2021-09-27T08:08:04.982Z"
   },
   {
    "duration": 20,
    "start_time": "2021-09-27T08:08:05.077Z"
   },
   {
    "duration": 57540,
    "start_time": "2021-09-27T08:08:05.098Z"
   },
   {
    "duration": 384,
    "start_time": "2021-09-27T08:09:02.639Z"
   },
   {
    "duration": -63,
    "start_time": "2021-09-27T08:09:03.088Z"
   },
   {
    "duration": -68,
    "start_time": "2021-09-27T08:09:03.094Z"
   },
   {
    "duration": -76,
    "start_time": "2021-09-27T08:09:03.103Z"
   },
   {
    "duration": -95,
    "start_time": "2021-09-27T08:09:03.123Z"
   },
   {
    "duration": -100,
    "start_time": "2021-09-27T08:09:03.130Z"
   },
   {
    "duration": -106,
    "start_time": "2021-09-27T08:09:03.137Z"
   },
   {
    "duration": -112,
    "start_time": "2021-09-27T08:09:03.144Z"
   },
   {
    "duration": -119,
    "start_time": "2021-09-27T08:09:03.152Z"
   },
   {
    "duration": -125,
    "start_time": "2021-09-27T08:09:03.159Z"
   },
   {
    "duration": -130,
    "start_time": "2021-09-27T08:09:03.165Z"
   },
   {
    "duration": -134,
    "start_time": "2021-09-27T08:09:03.170Z"
   },
   {
    "duration": -141,
    "start_time": "2021-09-27T08:09:03.178Z"
   },
   {
    "duration": 1285,
    "start_time": "2021-09-27T08:09:48.781Z"
   },
   {
    "duration": 799,
    "start_time": "2021-09-27T08:09:50.068Z"
   },
   {
    "duration": 124,
    "start_time": "2021-09-27T08:09:50.868Z"
   },
   {
    "duration": 5,
    "start_time": "2021-09-27T08:09:50.994Z"
   },
   {
    "duration": 19,
    "start_time": "2021-09-27T08:09:51.000Z"
   },
   {
    "duration": 432,
    "start_time": "2021-09-27T08:09:51.021Z"
   },
   {
    "duration": 455,
    "start_time": "2021-09-27T08:09:51.454Z"
   },
   {
    "duration": 4,
    "start_time": "2021-09-27T08:09:51.911Z"
   },
   {
    "duration": 67,
    "start_time": "2021-09-27T08:09:51.917Z"
   },
   {
    "duration": 45,
    "start_time": "2021-09-27T08:09:51.986Z"
   },
   {
    "duration": 6,
    "start_time": "2021-09-27T08:09:52.033Z"
   },
   {
    "duration": 82,
    "start_time": "2021-09-27T08:09:52.040Z"
   },
   {
    "duration": 123,
    "start_time": "2021-09-27T08:09:52.124Z"
   },
   {
    "duration": 94,
    "start_time": "2021-09-27T08:09:52.249Z"
   },
   {
    "duration": 117,
    "start_time": "2021-09-27T08:09:52.344Z"
   },
   {
    "duration": 14,
    "start_time": "2021-09-27T08:09:52.462Z"
   },
   {
    "duration": 311,
    "start_time": "2021-09-27T08:09:52.478Z"
   },
   {
    "duration": 262,
    "start_time": "2021-09-27T08:09:52.791Z"
   },
   {
    "duration": 13,
    "start_time": "2021-09-27T08:09:53.055Z"
   },
   {
    "duration": 15,
    "start_time": "2021-09-27T08:09:53.077Z"
   },
   {
    "duration": 52,
    "start_time": "2021-09-27T08:09:53.094Z"
   },
   {
    "duration": 41,
    "start_time": "2021-09-27T08:09:53.148Z"
   },
   {
    "duration": 13,
    "start_time": "2021-09-27T08:09:53.193Z"
   },
   {
    "duration": 14,
    "start_time": "2021-09-27T08:09:53.209Z"
   },
   {
    "duration": 95,
    "start_time": "2021-09-27T08:09:53.225Z"
   },
   {
    "duration": 77,
    "start_time": "2021-09-27T08:09:53.321Z"
   },
   {
    "duration": 305,
    "start_time": "2021-09-27T08:09:53.400Z"
   },
   {
    "duration": 341,
    "start_time": "2021-09-27T08:09:53.707Z"
   },
   {
    "duration": 8,
    "start_time": "2021-09-27T08:09:54.049Z"
   },
   {
    "duration": 22,
    "start_time": "2021-09-27T08:09:54.059Z"
   },
   {
    "duration": 211,
    "start_time": "2021-09-27T08:09:54.082Z"
   },
   {
    "duration": 36,
    "start_time": "2021-09-27T08:09:54.295Z"
   },
   {
    "duration": 85,
    "start_time": "2021-09-27T08:09:54.333Z"
   },
   {
    "duration": 276,
    "start_time": "2021-09-27T08:09:54.419Z"
   },
   {
    "duration": 255,
    "start_time": "2021-09-27T08:09:54.697Z"
   },
   {
    "duration": 11,
    "start_time": "2021-09-27T08:09:54.954Z"
   },
   {
    "duration": 18,
    "start_time": "2021-09-27T08:09:54.966Z"
   },
   {
    "duration": 11,
    "start_time": "2021-09-27T08:09:54.986Z"
   },
   {
    "duration": 31,
    "start_time": "2021-09-27T08:09:54.999Z"
   },
   {
    "duration": 52,
    "start_time": "2021-09-27T08:09:55.032Z"
   },
   {
    "duration": 35,
    "start_time": "2021-09-27T08:09:55.086Z"
   },
   {
    "duration": 54,
    "start_time": "2021-09-27T08:09:55.124Z"
   },
   {
    "duration": 37,
    "start_time": "2021-09-27T08:09:55.180Z"
   },
   {
    "duration": 33,
    "start_time": "2021-09-27T08:09:55.219Z"
   },
   {
    "duration": 79,
    "start_time": "2021-09-27T08:09:55.276Z"
   },
   {
    "duration": 5172,
    "start_time": "2021-09-27T08:09:55.357Z"
   },
   {
    "duration": 33,
    "start_time": "2021-09-27T08:10:00.531Z"
   },
   {
    "duration": 111,
    "start_time": "2021-09-27T08:10:00.577Z"
   },
   {
    "duration": 26,
    "start_time": "2021-09-27T08:10:00.690Z"
   },
   {
    "duration": 10,
    "start_time": "2021-09-27T08:10:00.718Z"
   },
   {
    "duration": 81,
    "start_time": "2021-09-27T08:10:00.730Z"
   },
   {
    "duration": 4,
    "start_time": "2021-09-27T08:10:00.813Z"
   },
   {
    "duration": 24,
    "start_time": "2021-09-27T08:10:00.820Z"
   },
   {
    "duration": 13,
    "start_time": "2021-09-27T08:10:00.846Z"
   },
   {
    "duration": 29,
    "start_time": "2021-09-27T08:10:00.861Z"
   },
   {
    "duration": 17,
    "start_time": "2021-09-27T08:10:00.892Z"
   },
   {
    "duration": 15,
    "start_time": "2021-09-27T08:10:00.912Z"
   },
   {
    "duration": 26,
    "start_time": "2021-09-27T08:10:00.929Z"
   },
   {
    "duration": 589,
    "start_time": "2021-09-27T08:10:00.957Z"
   },
   {
    "duration": 1966,
    "start_time": "2021-09-27T08:10:01.548Z"
   },
   {
    "duration": 81364,
    "start_time": "2021-09-27T08:10:03.515Z"
   },
   {
    "duration": 16900,
    "start_time": "2021-09-27T08:11:24.881Z"
   },
   {
    "duration": 97,
    "start_time": "2021-09-27T08:11:41.782Z"
   },
   {
    "duration": 5,
    "start_time": "2021-09-27T08:11:41.881Z"
   },
   {
    "duration": 5,
    "start_time": "2021-09-27T08:11:41.977Z"
   },
   {
    "duration": 256044,
    "start_time": "2021-09-27T08:11:41.984Z"
   },
   {
    "duration": 614,
    "start_time": "2021-09-27T08:15:58.030Z"
   },
   {
    "duration": -55,
    "start_time": "2021-09-27T08:15:58.701Z"
   },
   {
    "duration": -58,
    "start_time": "2021-09-27T08:15:58.706Z"
   },
   {
    "duration": -109,
    "start_time": "2021-09-27T08:15:58.758Z"
   },
   {
    "duration": -114,
    "start_time": "2021-09-27T08:15:58.764Z"
   },
   {
    "duration": -119,
    "start_time": "2021-09-27T08:15:58.770Z"
   },
   {
    "duration": -125,
    "start_time": "2021-09-27T08:15:58.777Z"
   },
   {
    "duration": -131,
    "start_time": "2021-09-27T08:15:58.784Z"
   },
   {
    "duration": -136,
    "start_time": "2021-09-27T08:15:58.789Z"
   },
   {
    "duration": -142,
    "start_time": "2021-09-27T08:15:58.797Z"
   },
   {
    "duration": -149,
    "start_time": "2021-09-27T08:15:58.804Z"
   },
   {
    "duration": -192,
    "start_time": "2021-09-27T08:15:58.848Z"
   },
   {
    "duration": -199,
    "start_time": "2021-09-27T08:15:58.856Z"
   },
   {
    "duration": 1300,
    "start_time": "2021-09-27T08:16:09.156Z"
   },
   {
    "duration": 788,
    "start_time": "2021-09-27T08:16:10.457Z"
   },
   {
    "duration": 129,
    "start_time": "2021-09-27T08:16:11.247Z"
   },
   {
    "duration": 5,
    "start_time": "2021-09-27T08:16:11.378Z"
   },
   {
    "duration": 31,
    "start_time": "2021-09-27T08:16:11.385Z"
   },
   {
    "duration": 441,
    "start_time": "2021-09-27T08:16:11.418Z"
   },
   {
    "duration": 471,
    "start_time": "2021-09-27T08:16:11.861Z"
   },
   {
    "duration": 3,
    "start_time": "2021-09-27T08:16:12.337Z"
   },
   {
    "duration": 69,
    "start_time": "2021-09-27T08:16:12.343Z"
   },
   {
    "duration": 47,
    "start_time": "2021-09-27T08:16:12.414Z"
   },
   {
    "duration": 19,
    "start_time": "2021-09-27T08:16:12.463Z"
   },
   {
    "duration": 62,
    "start_time": "2021-09-27T08:16:12.484Z"
   },
   {
    "duration": 144,
    "start_time": "2021-09-27T08:16:12.548Z"
   },
   {
    "duration": 102,
    "start_time": "2021-09-27T08:16:12.694Z"
   },
   {
    "duration": 111,
    "start_time": "2021-09-27T08:16:12.798Z"
   },
   {
    "duration": 8,
    "start_time": "2021-09-27T08:16:12.910Z"
   },
   {
    "duration": 323,
    "start_time": "2021-09-27T08:16:12.919Z"
   },
   {
    "duration": 260,
    "start_time": "2021-09-27T08:16:13.244Z"
   },
   {
    "duration": 13,
    "start_time": "2021-09-27T08:16:13.505Z"
   },
   {
    "duration": 15,
    "start_time": "2021-09-27T08:16:13.520Z"
   },
   {
    "duration": 74,
    "start_time": "2021-09-27T08:16:13.536Z"
   },
   {
    "duration": 19,
    "start_time": "2021-09-27T08:16:13.612Z"
   },
   {
    "duration": 14,
    "start_time": "2021-09-27T08:16:13.636Z"
   },
   {
    "duration": 36,
    "start_time": "2021-09-27T08:16:13.652Z"
   },
   {
    "duration": 89,
    "start_time": "2021-09-27T08:16:13.689Z"
   },
   {
    "duration": 106,
    "start_time": "2021-09-27T08:16:13.780Z"
   },
   {
    "duration": 314,
    "start_time": "2021-09-27T08:16:13.887Z"
   },
   {
    "duration": 361,
    "start_time": "2021-09-27T08:16:14.203Z"
   },
   {
    "duration": 10,
    "start_time": "2021-09-27T08:16:14.566Z"
   },
   {
    "duration": 10,
    "start_time": "2021-09-27T08:16:14.578Z"
   },
   {
    "duration": 213,
    "start_time": "2021-09-27T08:16:14.589Z"
   },
   {
    "duration": 37,
    "start_time": "2021-09-27T08:16:14.804Z"
   },
   {
    "duration": 81,
    "start_time": "2021-09-27T08:16:14.843Z"
   },
   {
    "duration": 367,
    "start_time": "2021-09-27T08:16:14.926Z"
   },
   {
    "duration": 253,
    "start_time": "2021-09-27T08:16:15.294Z"
   },
   {
    "duration": 3410,
    "start_time": "2021-09-27T08:16:15.548Z"
   },
   {
    "duration": 3104,
    "start_time": "2021-09-27T08:16:18.960Z"
   },
   {
    "duration": 450,
    "start_time": "2021-09-27T08:16:22.067Z"
   },
   {
    "duration": -48,
    "start_time": "2021-09-27T08:16:22.568Z"
   },
   {
    "duration": -53,
    "start_time": "2021-09-27T08:16:22.575Z"
   },
   {
    "duration": -58,
    "start_time": "2021-09-27T08:16:22.581Z"
   },
   {
    "duration": -112,
    "start_time": "2021-09-27T08:16:22.637Z"
   },
   {
    "duration": -119,
    "start_time": "2021-09-27T08:16:22.645Z"
   },
   {
    "duration": -123,
    "start_time": "2021-09-27T08:16:22.651Z"
   },
   {
    "duration": -137,
    "start_time": "2021-09-27T08:16:22.667Z"
   },
   {
    "duration": -143,
    "start_time": "2021-09-27T08:16:22.674Z"
   },
   {
    "duration": -148,
    "start_time": "2021-09-27T08:16:22.681Z"
   },
   {
    "duration": -153,
    "start_time": "2021-09-27T08:16:22.687Z"
   },
   {
    "duration": -159,
    "start_time": "2021-09-27T08:16:22.695Z"
   },
   {
    "duration": -164,
    "start_time": "2021-09-27T08:16:22.701Z"
   },
   {
    "duration": -170,
    "start_time": "2021-09-27T08:16:22.709Z"
   },
   {
    "duration": -176,
    "start_time": "2021-09-27T08:16:22.716Z"
   },
   {
    "duration": -312,
    "start_time": "2021-09-27T08:16:22.854Z"
   },
   {
    "duration": -327,
    "start_time": "2021-09-27T08:16:22.870Z"
   },
   {
    "duration": -332,
    "start_time": "2021-09-27T08:16:22.877Z"
   },
   {
    "duration": -338,
    "start_time": "2021-09-27T08:16:22.884Z"
   },
   {
    "duration": -343,
    "start_time": "2021-09-27T08:16:22.891Z"
   },
   {
    "duration": -348,
    "start_time": "2021-09-27T08:16:22.897Z"
   },
   {
    "duration": -353,
    "start_time": "2021-09-27T08:16:22.904Z"
   },
   {
    "duration": -358,
    "start_time": "2021-09-27T08:16:22.910Z"
   },
   {
    "duration": -363,
    "start_time": "2021-09-27T08:16:22.917Z"
   },
   {
    "duration": -368,
    "start_time": "2021-09-27T08:16:22.923Z"
   },
   {
    "duration": -373,
    "start_time": "2021-09-27T08:16:22.930Z"
   },
   {
    "duration": -607,
    "start_time": "2021-09-27T08:16:23.165Z"
   },
   {
    "duration": -595,
    "start_time": "2021-09-27T08:16:23.172Z"
   },
   {
    "duration": -601,
    "start_time": "2021-09-27T08:16:23.180Z"
   },
   {
    "duration": -607,
    "start_time": "2021-09-27T08:16:23.187Z"
   },
   {
    "duration": -613,
    "start_time": "2021-09-27T08:16:23.194Z"
   },
   {
    "duration": -617,
    "start_time": "2021-09-27T08:16:23.200Z"
   },
   {
    "duration": -629,
    "start_time": "2021-09-27T08:16:23.214Z"
   },
   {
    "duration": -637,
    "start_time": "2021-09-27T08:16:23.223Z"
   },
   {
    "duration": -641,
    "start_time": "2021-09-27T08:16:23.229Z"
   },
   {
    "duration": -647,
    "start_time": "2021-09-27T08:16:23.236Z"
   },
   {
    "duration": -651,
    "start_time": "2021-09-27T08:16:23.242Z"
   },
   {
    "duration": -656,
    "start_time": "2021-09-27T08:16:23.248Z"
   },
   {
    "duration": -660,
    "start_time": "2021-09-27T08:16:23.254Z"
   },
   {
    "duration": -667,
    "start_time": "2021-09-27T08:16:23.262Z"
   },
   {
    "duration": -671,
    "start_time": "2021-09-27T08:16:23.268Z"
   },
   {
    "duration": -677,
    "start_time": "2021-09-27T08:16:23.275Z"
   },
   {
    "duration": -681,
    "start_time": "2021-09-27T08:16:23.281Z"
   },
   {
    "duration": -687,
    "start_time": "2021-09-27T08:16:23.288Z"
   },
   {
    "duration": 11,
    "start_time": "2021-09-27T08:26:41.501Z"
   },
   {
    "duration": 370,
    "start_time": "2021-09-27T08:27:20.918Z"
   },
   {
    "duration": 116,
    "start_time": "2021-09-27T08:27:33.248Z"
   },
   {
    "duration": 126,
    "start_time": "2021-09-27T08:30:23.286Z"
   },
   {
    "duration": 123,
    "start_time": "2021-09-27T08:31:28.920Z"
   },
   {
    "duration": 35,
    "start_time": "2021-09-27T08:31:36.318Z"
   },
   {
    "duration": 62,
    "start_time": "2021-09-27T08:32:47.848Z"
   },
   {
    "duration": 145,
    "start_time": "2021-09-27T08:33:14.946Z"
   },
   {
    "duration": 85,
    "start_time": "2021-09-27T08:34:16.268Z"
   },
   {
    "duration": 118,
    "start_time": "2021-09-27T08:34:36.295Z"
   },
   {
    "duration": 61,
    "start_time": "2021-09-27T08:34:43.581Z"
   },
   {
    "duration": 28,
    "start_time": "2021-09-27T08:35:12.711Z"
   },
   {
    "duration": 96,
    "start_time": "2021-09-27T08:37:23.271Z"
   },
   {
    "duration": 27,
    "start_time": "2021-09-27T08:37:25.575Z"
   },
   {
    "duration": 100,
    "start_time": "2021-09-27T08:38:04.277Z"
   },
   {
    "duration": 28,
    "start_time": "2021-09-27T08:38:06.888Z"
   },
   {
    "duration": 99,
    "start_time": "2021-09-27T08:42:45.938Z"
   },
   {
    "duration": 28,
    "start_time": "2021-09-27T08:42:48.641Z"
   },
   {
    "duration": 63,
    "start_time": "2021-09-27T08:44:48.506Z"
   },
   {
    "duration": 398,
    "start_time": "2021-09-27T08:48:46.325Z"
   },
   {
    "duration": 133,
    "start_time": "2021-09-27T08:49:52.898Z"
   },
   {
    "duration": 405,
    "start_time": "2021-09-27T08:50:02.901Z"
   },
   {
    "duration": 124,
    "start_time": "2021-09-27T08:50:44.459Z"
   },
   {
    "duration": 9,
    "start_time": "2021-09-27T08:50:46.018Z"
   },
   {
    "duration": 45,
    "start_time": "2021-09-27T08:50:53.761Z"
   },
   {
    "duration": 428,
    "start_time": "2021-09-27T08:50:58.514Z"
   },
   {
    "duration": 403,
    "start_time": "2021-09-27T08:51:23.406Z"
   },
   {
    "duration": 378,
    "start_time": "2021-09-27T08:53:14.466Z"
   },
   {
    "duration": 41,
    "start_time": "2021-09-27T08:54:42.512Z"
   },
   {
    "duration": 60,
    "start_time": "2021-09-27T08:54:56.726Z"
   },
   {
    "duration": 58,
    "start_time": "2021-09-27T08:56:04.801Z"
   },
   {
    "duration": 90,
    "start_time": "2021-09-27T08:56:51.594Z"
   },
   {
    "duration": 286,
    "start_time": "2021-09-27T08:57:32.573Z"
   },
   {
    "duration": 1251,
    "start_time": "2021-09-27T08:59:45.023Z"
   },
   {
    "duration": 776,
    "start_time": "2021-09-27T08:59:46.276Z"
   },
   {
    "duration": 133,
    "start_time": "2021-09-27T08:59:47.054Z"
   },
   {
    "duration": 5,
    "start_time": "2021-09-27T08:59:47.189Z"
   },
   {
    "duration": 26,
    "start_time": "2021-09-27T08:59:47.196Z"
   },
   {
    "duration": 431,
    "start_time": "2021-09-27T08:59:47.224Z"
   },
   {
    "duration": 460,
    "start_time": "2021-09-27T08:59:47.657Z"
   },
   {
    "duration": 3,
    "start_time": "2021-09-27T08:59:48.120Z"
   },
   {
    "duration": 69,
    "start_time": "2021-09-27T08:59:48.125Z"
   },
   {
    "duration": 48,
    "start_time": "2021-09-27T08:59:48.195Z"
   },
   {
    "duration": 7,
    "start_time": "2021-09-27T08:59:48.244Z"
   },
   {
    "duration": 81,
    "start_time": "2021-09-27T08:59:48.252Z"
   },
   {
    "duration": 123,
    "start_time": "2021-09-27T08:59:48.335Z"
   },
   {
    "duration": 96,
    "start_time": "2021-09-27T08:59:48.460Z"
   },
   {
    "duration": 111,
    "start_time": "2021-09-27T08:59:48.558Z"
   },
   {
    "duration": 12,
    "start_time": "2021-09-27T08:59:48.670Z"
   },
   {
    "duration": 315,
    "start_time": "2021-09-27T08:59:48.684Z"
   },
   {
    "duration": 272,
    "start_time": "2021-09-27T08:59:49.001Z"
   },
   {
    "duration": 13,
    "start_time": "2021-09-27T08:59:49.277Z"
   },
   {
    "duration": 18,
    "start_time": "2021-09-27T08:59:49.293Z"
   },
   {
    "duration": 131,
    "start_time": "2021-09-27T08:59:49.313Z"
   },
   {
    "duration": 17,
    "start_time": "2021-09-27T08:59:49.446Z"
   },
   {
    "duration": 13,
    "start_time": "2021-09-27T08:59:49.467Z"
   },
   {
    "duration": 14,
    "start_time": "2021-09-27T08:59:49.483Z"
   },
   {
    "duration": 86,
    "start_time": "2021-09-27T08:59:49.499Z"
   },
   {
    "duration": 73,
    "start_time": "2021-09-27T08:59:49.587Z"
   },
   {
    "duration": 322,
    "start_time": "2021-09-27T08:59:49.662Z"
   },
   {
    "duration": 346,
    "start_time": "2021-09-27T08:59:49.986Z"
   },
   {
    "duration": 7,
    "start_time": "2021-09-27T08:59:50.334Z"
   },
   {
    "duration": 10,
    "start_time": "2021-09-27T08:59:50.342Z"
   },
   {
    "duration": 218,
    "start_time": "2021-09-27T08:59:50.354Z"
   },
   {
    "duration": 39,
    "start_time": "2021-09-27T08:59:50.573Z"
   },
   {
    "duration": 85,
    "start_time": "2021-09-27T08:59:50.614Z"
   },
   {
    "duration": 289,
    "start_time": "2021-09-27T08:59:50.701Z"
   },
   {
    "duration": 258,
    "start_time": "2021-09-27T08:59:50.991Z"
   },
   {
    "duration": 13,
    "start_time": "2021-09-27T08:59:51.251Z"
   },
   {
    "duration": 3171,
    "start_time": "2021-09-27T08:59:51.277Z"
   },
   {
    "duration": 3160,
    "start_time": "2021-09-27T08:59:54.450Z"
   },
   {
    "duration": 126,
    "start_time": "2021-09-27T08:59:57.612Z"
   },
   {
    "duration": 8,
    "start_time": "2021-09-27T08:59:57.740Z"
   },
   {
    "duration": 48,
    "start_time": "2021-09-27T08:59:57.750Z"
   },
   {
    "duration": 97,
    "start_time": "2021-09-27T08:59:57.800Z"
   },
   {
    "duration": 298,
    "start_time": "2021-09-27T08:59:57.898Z"
   },
   {
    "duration": 32,
    "start_time": "2021-09-27T08:59:58.198Z"
   },
   {
    "duration": 55,
    "start_time": "2021-09-27T08:59:58.232Z"
   },
   {
    "duration": 36,
    "start_time": "2021-09-27T08:59:58.289Z"
   },
   {
    "duration": 50,
    "start_time": "2021-09-27T08:59:58.327Z"
   },
   {
    "duration": 35,
    "start_time": "2021-09-27T08:59:58.379Z"
   },
   {
    "duration": 35,
    "start_time": "2021-09-27T08:59:58.416Z"
   },
   {
    "duration": 95,
    "start_time": "2021-09-27T08:59:58.453Z"
   },
   {
    "duration": 5363,
    "start_time": "2021-09-27T08:59:58.549Z"
   },
   {
    "duration": 35,
    "start_time": "2021-09-27T09:00:03.914Z"
   },
   {
    "duration": 115,
    "start_time": "2021-09-27T09:00:03.951Z"
   },
   {
    "duration": 30,
    "start_time": "2021-09-27T09:00:04.068Z"
   },
   {
    "duration": 12,
    "start_time": "2021-09-27T09:00:04.100Z"
   },
   {
    "duration": 80,
    "start_time": "2021-09-27T09:00:04.113Z"
   },
   {
    "duration": 5,
    "start_time": "2021-09-27T09:00:04.195Z"
   },
   {
    "duration": 14,
    "start_time": "2021-09-27T09:00:04.202Z"
   },
   {
    "duration": 4,
    "start_time": "2021-09-27T09:00:04.218Z"
   },
   {
    "duration": 14,
    "start_time": "2021-09-27T09:00:04.224Z"
   },
   {
    "duration": 37,
    "start_time": "2021-09-27T09:00:04.241Z"
   },
   {
    "duration": 4,
    "start_time": "2021-09-27T09:00:04.280Z"
   },
   {
    "duration": 19,
    "start_time": "2021-09-27T09:00:04.285Z"
   },
   {
    "duration": 457,
    "start_time": "2021-09-27T09:00:04.305Z"
   },
   {
    "duration": 2074,
    "start_time": "2021-09-27T09:00:04.764Z"
   },
   {
    "duration": 85742,
    "start_time": "2021-09-27T09:00:06.840Z"
   },
   {
    "duration": 17794,
    "start_time": "2021-09-27T09:01:32.584Z"
   },
   {
    "duration": 96,
    "start_time": "2021-09-27T09:01:50.385Z"
   },
   {
    "duration": 90,
    "start_time": "2021-09-27T09:01:50.487Z"
   },
   {
    "duration": 9,
    "start_time": "2021-09-27T09:01:50.580Z"
   },
   {
    "duration": 70624,
    "start_time": "2021-09-27T09:01:50.591Z"
   },
   {
    "duration": 435,
    "start_time": "2021-09-27T09:03:01.217Z"
   },
   {
    "duration": -163,
    "start_time": "2021-09-27T09:03:01.817Z"
   },
   {
    "duration": -195,
    "start_time": "2021-09-27T09:03:01.850Z"
   },
   {
    "duration": -203,
    "start_time": "2021-09-27T09:03:01.859Z"
   },
   {
    "duration": -211,
    "start_time": "2021-09-27T09:03:01.868Z"
   },
   {
    "duration": -216,
    "start_time": "2021-09-27T09:03:01.874Z"
   },
   {
    "duration": -223,
    "start_time": "2021-09-27T09:03:01.882Z"
   },
   {
    "duration": -230,
    "start_time": "2021-09-27T09:03:01.890Z"
   },
   {
    "duration": -266,
    "start_time": "2021-09-27T09:03:01.927Z"
   },
   {
    "duration": -289,
    "start_time": "2021-09-27T09:03:01.951Z"
   },
   {
    "duration": -298,
    "start_time": "2021-09-27T09:03:01.961Z"
   },
   {
    "duration": -303,
    "start_time": "2021-09-27T09:03:01.968Z"
   },
   {
    "duration": -338,
    "start_time": "2021-09-27T09:03:02.004Z"
   },
   {
    "duration": 1302,
    "start_time": "2021-09-27T09:08:20.269Z"
   },
   {
    "duration": 798,
    "start_time": "2021-09-27T09:08:21.574Z"
   },
   {
    "duration": 122,
    "start_time": "2021-09-27T09:08:22.374Z"
   },
   {
    "duration": 5,
    "start_time": "2021-09-27T09:08:22.498Z"
   },
   {
    "duration": 17,
    "start_time": "2021-09-27T09:08:22.505Z"
   },
   {
    "duration": 434,
    "start_time": "2021-09-27T09:08:22.524Z"
   },
   {
    "duration": 467,
    "start_time": "2021-09-27T09:08:22.960Z"
   },
   {
    "duration": 4,
    "start_time": "2021-09-27T09:08:23.429Z"
   },
   {
    "duration": 67,
    "start_time": "2021-09-27T09:08:23.435Z"
   },
   {
    "duration": 46,
    "start_time": "2021-09-27T09:08:23.504Z"
   },
   {
    "duration": 6,
    "start_time": "2021-09-27T09:08:23.552Z"
   },
   {
    "duration": 62,
    "start_time": "2021-09-27T09:08:23.577Z"
   },
   {
    "duration": 128,
    "start_time": "2021-09-27T09:08:23.641Z"
   },
   {
    "duration": 88,
    "start_time": "2021-09-27T09:08:23.771Z"
   },
   {
    "duration": 120,
    "start_time": "2021-09-27T09:08:23.861Z"
   },
   {
    "duration": 7,
    "start_time": "2021-09-27T09:08:23.983Z"
   },
   {
    "duration": 320,
    "start_time": "2021-09-27T09:08:23.993Z"
   },
   {
    "duration": 262,
    "start_time": "2021-09-27T09:08:24.314Z"
   },
   {
    "duration": 14,
    "start_time": "2021-09-27T09:08:24.578Z"
   },
   {
    "duration": 15,
    "start_time": "2021-09-27T09:08:24.594Z"
   },
   {
    "duration": 76,
    "start_time": "2021-09-27T09:08:24.612Z"
   },
   {
    "duration": 18,
    "start_time": "2021-09-27T09:08:24.690Z"
   },
   {
    "duration": 14,
    "start_time": "2021-09-27T09:08:24.711Z"
   },
   {
    "duration": 15,
    "start_time": "2021-09-27T09:08:24.727Z"
   },
   {
    "duration": 104,
    "start_time": "2021-09-27T09:08:24.743Z"
   },
   {
    "duration": 83,
    "start_time": "2021-09-27T09:08:24.849Z"
   },
   {
    "duration": 319,
    "start_time": "2021-09-27T09:08:24.934Z"
   },
   {
    "duration": 334,
    "start_time": "2021-09-27T09:08:25.255Z"
   },
   {
    "duration": 8,
    "start_time": "2021-09-27T09:08:25.591Z"
   },
   {
    "duration": 10,
    "start_time": "2021-09-27T09:08:25.600Z"
   },
   {
    "duration": 214,
    "start_time": "2021-09-27T09:08:25.612Z"
   },
   {
    "duration": 49,
    "start_time": "2021-09-27T09:08:25.828Z"
   },
   {
    "duration": 74,
    "start_time": "2021-09-27T09:08:25.878Z"
   },
   {
    "duration": 285,
    "start_time": "2021-09-27T09:08:25.954Z"
   },
   {
    "duration": 266,
    "start_time": "2021-09-27T09:08:26.241Z"
   },
   {
    "duration": 13,
    "start_time": "2021-09-27T09:08:26.509Z"
   },
   {
    "duration": 3272,
    "start_time": "2021-09-27T09:08:26.524Z"
   },
   {
    "duration": 3272,
    "start_time": "2021-09-27T09:08:29.798Z"
   },
   {
    "duration": 111,
    "start_time": "2021-09-27T09:08:33.072Z"
   },
   {
    "duration": 29,
    "start_time": "2021-09-27T09:08:33.185Z"
   },
   {
    "duration": 89,
    "start_time": "2021-09-27T09:08:33.215Z"
   },
   {
    "duration": 273,
    "start_time": "2021-09-27T09:08:33.305Z"
   },
   {
    "duration": 292,
    "start_time": "2021-09-27T09:08:33.579Z"
   },
   {
    "duration": 32,
    "start_time": "2021-09-27T09:08:33.876Z"
   },
   {
    "duration": 38,
    "start_time": "2021-09-27T09:08:33.909Z"
   },
   {
    "duration": 42,
    "start_time": "2021-09-27T09:08:33.949Z"
   },
   {
    "duration": 32,
    "start_time": "2021-09-27T09:08:33.993Z"
   },
   {
    "duration": 51,
    "start_time": "2021-09-27T09:08:34.027Z"
   },
   {
    "duration": 36,
    "start_time": "2021-09-27T09:08:34.080Z"
   },
   {
    "duration": 119,
    "start_time": "2021-09-27T09:08:34.118Z"
   },
   {
    "duration": 5215,
    "start_time": "2021-09-27T09:08:34.238Z"
   },
   {
    "duration": 38,
    "start_time": "2021-09-27T09:08:39.455Z"
   },
   {
    "duration": 158,
    "start_time": "2021-09-27T09:08:39.495Z"
   },
   {
    "duration": 15,
    "start_time": "2021-09-27T09:08:39.655Z"
   },
   {
    "duration": 8,
    "start_time": "2021-09-27T09:08:39.676Z"
   },
   {
    "duration": 71,
    "start_time": "2021-09-27T09:08:39.686Z"
   },
   {
    "duration": 5,
    "start_time": "2021-09-27T09:08:39.758Z"
   },
   {
    "duration": 26,
    "start_time": "2021-09-27T09:08:39.764Z"
   },
   {
    "duration": 18,
    "start_time": "2021-09-27T09:08:39.792Z"
   },
   {
    "duration": 38,
    "start_time": "2021-09-27T09:08:39.812Z"
   },
   {
    "duration": 30,
    "start_time": "2021-09-27T09:08:39.852Z"
   },
   {
    "duration": 25,
    "start_time": "2021-09-27T09:08:39.884Z"
   },
   {
    "duration": 26,
    "start_time": "2021-09-27T09:08:39.911Z"
   },
   {
    "duration": 481,
    "start_time": "2021-09-27T09:08:39.939Z"
   },
   {
    "duration": 2002,
    "start_time": "2021-09-27T09:08:40.423Z"
   },
   {
    "duration": 84451,
    "start_time": "2021-09-27T09:08:42.427Z"
   },
   {
    "duration": 19403,
    "start_time": "2021-09-27T09:10:06.880Z"
   },
   {
    "duration": 94,
    "start_time": "2021-09-27T09:10:26.289Z"
   },
   {
    "duration": 93,
    "start_time": "2021-09-27T09:10:26.386Z"
   },
   {
    "duration": 6,
    "start_time": "2021-09-27T09:10:26.482Z"
   },
   {
    "duration": 72287,
    "start_time": "2021-09-27T09:10:26.491Z"
   },
   {
    "duration": 4,
    "start_time": "2021-09-27T09:11:38.780Z"
   },
   {
    "duration": 77054,
    "start_time": "2021-09-27T09:11:38.786Z"
   },
   {
    "duration": 384,
    "start_time": "2021-09-27T09:12:55.842Z"
   },
   {
    "duration": -73,
    "start_time": "2021-09-27T09:12:56.302Z"
   },
   {
    "duration": -80,
    "start_time": "2021-09-27T09:12:56.311Z"
   },
   {
    "duration": -104,
    "start_time": "2021-09-27T09:12:56.337Z"
   },
   {
    "duration": -112,
    "start_time": "2021-09-27T09:12:56.346Z"
   },
   {
    "duration": -121,
    "start_time": "2021-09-27T09:12:56.356Z"
   },
   {
    "duration": -128,
    "start_time": "2021-09-27T09:12:56.365Z"
   },
   {
    "duration": -137,
    "start_time": "2021-09-27T09:12:56.375Z"
   },
   {
    "duration": -143,
    "start_time": "2021-09-27T09:12:56.383Z"
   },
   {
    "duration": -153,
    "start_time": "2021-09-27T09:12:56.394Z"
   },
   {
    "duration": -159,
    "start_time": "2021-09-27T09:12:56.402Z"
   },
   {
    "duration": -180,
    "start_time": "2021-09-27T09:12:56.424Z"
   },
   {
    "duration": -188,
    "start_time": "2021-09-27T09:12:56.434Z"
   },
   {
    "duration": -197,
    "start_time": "2021-09-27T09:12:56.444Z"
   },
   {
    "duration": 1246,
    "start_time": "2021-09-27T09:15:17.325Z"
   },
   {
    "duration": 781,
    "start_time": "2021-09-27T09:15:18.573Z"
   },
   {
    "duration": 128,
    "start_time": "2021-09-27T09:15:19.356Z"
   },
   {
    "duration": 5,
    "start_time": "2021-09-27T09:15:19.486Z"
   },
   {
    "duration": 23,
    "start_time": "2021-09-27T09:15:19.493Z"
   },
   {
    "duration": 497,
    "start_time": "2021-09-27T09:15:19.518Z"
   },
   {
    "duration": 482,
    "start_time": "2021-09-27T09:15:20.016Z"
   },
   {
    "duration": 4,
    "start_time": "2021-09-27T09:15:20.501Z"
   },
   {
    "duration": 73,
    "start_time": "2021-09-27T09:15:20.508Z"
   },
   {
    "duration": 45,
    "start_time": "2021-09-27T09:15:20.582Z"
   },
   {
    "duration": 7,
    "start_time": "2021-09-27T09:15:20.629Z"
   },
   {
    "duration": 83,
    "start_time": "2021-09-27T09:15:20.637Z"
   },
   {
    "duration": 123,
    "start_time": "2021-09-27T09:15:20.722Z"
   },
   {
    "duration": 98,
    "start_time": "2021-09-27T09:15:20.847Z"
   },
   {
    "duration": 115,
    "start_time": "2021-09-27T09:15:20.947Z"
   },
   {
    "duration": 13,
    "start_time": "2021-09-27T09:15:21.064Z"
   },
   {
    "duration": 326,
    "start_time": "2021-09-27T09:15:21.079Z"
   },
   {
    "duration": 269,
    "start_time": "2021-09-27T09:15:21.407Z"
   },
   {
    "duration": 14,
    "start_time": "2021-09-27T09:15:21.678Z"
   },
   {
    "duration": 15,
    "start_time": "2021-09-27T09:15:21.694Z"
   },
   {
    "duration": 74,
    "start_time": "2021-09-27T09:15:21.711Z"
   },
   {
    "duration": 18,
    "start_time": "2021-09-27T09:15:21.787Z"
   },
   {
    "duration": 13,
    "start_time": "2021-09-27T09:15:21.809Z"
   },
   {
    "duration": 14,
    "start_time": "2021-09-27T09:15:21.825Z"
   },
   {
    "duration": 104,
    "start_time": "2021-09-27T09:15:21.841Z"
   },
   {
    "duration": 77,
    "start_time": "2021-09-27T09:15:21.947Z"
   },
   {
    "duration": 313,
    "start_time": "2021-09-27T09:15:22.025Z"
   },
   {
    "duration": 365,
    "start_time": "2021-09-27T09:15:22.340Z"
   },
   {
    "duration": 7,
    "start_time": "2021-09-27T09:15:22.707Z"
   },
   {
    "duration": 22,
    "start_time": "2021-09-27T09:15:22.716Z"
   },
   {
    "duration": 204,
    "start_time": "2021-09-27T09:15:22.739Z"
   },
   {
    "duration": 49,
    "start_time": "2021-09-27T09:15:22.945Z"
   },
   {
    "duration": 73,
    "start_time": "2021-09-27T09:15:22.996Z"
   },
   {
    "duration": 284,
    "start_time": "2021-09-27T09:15:23.076Z"
   },
   {
    "duration": 249,
    "start_time": "2021-09-27T09:15:23.361Z"
   },
   {
    "duration": 10,
    "start_time": "2021-09-27T09:15:23.612Z"
   },
   {
    "duration": 3094,
    "start_time": "2021-09-27T09:15:23.624Z"
   },
   {
    "duration": 3309,
    "start_time": "2021-09-27T09:15:26.720Z"
   },
   {
    "duration": 109,
    "start_time": "2021-09-27T09:15:30.031Z"
   },
   {
    "duration": 35,
    "start_time": "2021-09-27T09:15:30.142Z"
   },
   {
    "duration": 83,
    "start_time": "2021-09-27T09:15:30.178Z"
   },
   {
    "duration": 281,
    "start_time": "2021-09-27T09:15:30.263Z"
   },
   {
    "duration": 295,
    "start_time": "2021-09-27T09:15:30.546Z"
   },
   {
    "duration": 42,
    "start_time": "2021-09-27T09:15:30.843Z"
   },
   {
    "duration": 51,
    "start_time": "2021-09-27T09:15:30.887Z"
   },
   {
    "duration": 38,
    "start_time": "2021-09-27T09:15:30.941Z"
   },
   {
    "duration": 42,
    "start_time": "2021-09-27T09:15:30.981Z"
   },
   {
    "duration": 61,
    "start_time": "2021-09-27T09:15:31.025Z"
   },
   {
    "duration": 45,
    "start_time": "2021-09-27T09:15:31.088Z"
   },
   {
    "duration": 135,
    "start_time": "2021-09-27T09:15:31.134Z"
   },
   {
    "duration": 5231,
    "start_time": "2021-09-27T09:15:31.271Z"
   },
   {
    "duration": 33,
    "start_time": "2021-09-27T09:15:36.504Z"
   },
   {
    "duration": 147,
    "start_time": "2021-09-27T09:15:36.539Z"
   },
   {
    "duration": 15,
    "start_time": "2021-09-27T09:15:36.687Z"
   },
   {
    "duration": 7,
    "start_time": "2021-09-27T09:15:36.704Z"
   },
   {
    "duration": 76,
    "start_time": "2021-09-27T09:15:36.713Z"
   },
   {
    "duration": 4,
    "start_time": "2021-09-27T09:15:36.791Z"
   },
   {
    "duration": 15,
    "start_time": "2021-09-27T09:15:36.797Z"
   },
   {
    "duration": 4,
    "start_time": "2021-09-27T09:15:36.814Z"
   },
   {
    "duration": 19,
    "start_time": "2021-09-27T09:15:36.820Z"
   },
   {
    "duration": 8,
    "start_time": "2021-09-27T09:15:36.841Z"
   },
   {
    "duration": 5,
    "start_time": "2021-09-27T09:15:36.851Z"
   },
   {
    "duration": 11,
    "start_time": "2021-09-27T09:15:36.877Z"
   },
   {
    "duration": 507,
    "start_time": "2021-09-27T09:15:36.889Z"
   },
   {
    "duration": 1967,
    "start_time": "2021-09-27T09:15:37.398Z"
   },
   {
    "duration": 49054,
    "start_time": "2021-09-27T09:15:39.367Z"
   },
   {
    "duration": 18503,
    "start_time": "2021-09-27T09:16:28.423Z"
   },
   {
    "duration": 236,
    "start_time": "2021-09-27T09:16:46.932Z"
   },
   {
    "duration": 2,
    "start_time": "2021-09-27T09:16:47.170Z"
   },
   {
    "duration": 5,
    "start_time": "2021-09-27T09:16:47.174Z"
   },
   {
    "duration": 7846,
    "start_time": "2021-09-27T09:16:47.181Z"
   },
   {
    "duration": 339,
    "start_time": "2021-09-27T09:16:55.028Z"
   },
   {
    "duration": -110,
    "start_time": "2021-09-27T09:16:55.479Z"
   },
   {
    "duration": -119,
    "start_time": "2021-09-27T09:16:55.489Z"
   },
   {
    "duration": -138,
    "start_time": "2021-09-27T09:16:55.509Z"
   },
   {
    "duration": -147,
    "start_time": "2021-09-27T09:16:55.519Z"
   },
   {
    "duration": -155,
    "start_time": "2021-09-27T09:16:55.528Z"
   },
   {
    "duration": -163,
    "start_time": "2021-09-27T09:16:55.537Z"
   },
   {
    "duration": -189,
    "start_time": "2021-09-27T09:16:55.564Z"
   },
   {
    "duration": -208,
    "start_time": "2021-09-27T09:16:55.584Z"
   },
   {
    "duration": -216,
    "start_time": "2021-09-27T09:16:55.593Z"
   },
   {
    "duration": 1384,
    "start_time": "2021-09-27T09:17:08.109Z"
   },
   {
    "duration": 797,
    "start_time": "2021-09-27T09:17:09.495Z"
   },
   {
    "duration": 127,
    "start_time": "2021-09-27T09:17:10.294Z"
   },
   {
    "duration": 7,
    "start_time": "2021-09-27T09:17:10.423Z"
   },
   {
    "duration": 22,
    "start_time": "2021-09-27T09:17:10.432Z"
   },
   {
    "duration": 450,
    "start_time": "2021-09-27T09:17:10.456Z"
   },
   {
    "duration": 465,
    "start_time": "2021-09-27T09:17:10.908Z"
   },
   {
    "duration": 4,
    "start_time": "2021-09-27T09:17:11.374Z"
   },
   {
    "duration": 60,
    "start_time": "2021-09-27T09:17:11.380Z"
   },
   {
    "duration": 63,
    "start_time": "2021-09-27T09:17:11.442Z"
   },
   {
    "duration": 6,
    "start_time": "2021-09-27T09:17:11.507Z"
   },
   {
    "duration": 76,
    "start_time": "2021-09-27T09:17:11.515Z"
   },
   {
    "duration": 123,
    "start_time": "2021-09-27T09:17:11.593Z"
   },
   {
    "duration": 95,
    "start_time": "2021-09-27T09:17:11.717Z"
   },
   {
    "duration": 120,
    "start_time": "2021-09-27T09:17:11.814Z"
   },
   {
    "duration": 8,
    "start_time": "2021-09-27T09:17:11.936Z"
   },
   {
    "duration": 341,
    "start_time": "2021-09-27T09:17:11.946Z"
   },
   {
    "duration": 292,
    "start_time": "2021-09-27T09:17:12.289Z"
   },
   {
    "duration": 14,
    "start_time": "2021-09-27T09:17:12.582Z"
   },
   {
    "duration": 15,
    "start_time": "2021-09-27T09:17:12.598Z"
   },
   {
    "duration": 79,
    "start_time": "2021-09-27T09:17:12.615Z"
   },
   {
    "duration": 19,
    "start_time": "2021-09-27T09:17:12.696Z"
   },
   {
    "duration": 15,
    "start_time": "2021-09-27T09:17:12.717Z"
   },
   {
    "duration": 46,
    "start_time": "2021-09-27T09:17:12.734Z"
   },
   {
    "duration": 94,
    "start_time": "2021-09-27T09:17:12.783Z"
   },
   {
    "duration": 82,
    "start_time": "2021-09-27T09:17:12.879Z"
   },
   {
    "duration": 321,
    "start_time": "2021-09-27T09:17:12.980Z"
   },
   {
    "duration": 384,
    "start_time": "2021-09-27T09:17:13.304Z"
   },
   {
    "duration": 8,
    "start_time": "2021-09-27T09:17:13.690Z"
   },
   {
    "duration": 10,
    "start_time": "2021-09-27T09:17:13.699Z"
   },
   {
    "duration": 231,
    "start_time": "2021-09-27T09:17:13.710Z"
   },
   {
    "duration": 43,
    "start_time": "2021-09-27T09:17:13.943Z"
   },
   {
    "duration": 76,
    "start_time": "2021-09-27T09:17:13.987Z"
   },
   {
    "duration": 289,
    "start_time": "2021-09-27T09:17:14.076Z"
   },
   {
    "duration": 264,
    "start_time": "2021-09-27T09:17:14.367Z"
   },
   {
    "duration": 13,
    "start_time": "2021-09-27T09:17:14.633Z"
   },
   {
    "duration": 3160,
    "start_time": "2021-09-27T09:17:14.648Z"
   },
   {
    "duration": 3204,
    "start_time": "2021-09-27T09:17:17.810Z"
   },
   {
    "duration": 107,
    "start_time": "2021-09-27T09:17:21.016Z"
   },
   {
    "duration": 29,
    "start_time": "2021-09-27T09:17:21.125Z"
   },
   {
    "duration": 88,
    "start_time": "2021-09-27T09:17:21.156Z"
   },
   {
    "duration": 278,
    "start_time": "2021-09-27T09:17:21.246Z"
   },
   {
    "duration": 287,
    "start_time": "2021-09-27T09:17:21.526Z"
   },
   {
    "duration": 32,
    "start_time": "2021-09-27T09:17:21.815Z"
   },
   {
    "duration": 48,
    "start_time": "2021-09-27T09:17:21.849Z"
   },
   {
    "duration": 56,
    "start_time": "2021-09-27T09:17:21.899Z"
   },
   {
    "duration": 43,
    "start_time": "2021-09-27T09:17:21.957Z"
   },
   {
    "duration": 42,
    "start_time": "2021-09-27T09:17:22.002Z"
   },
   {
    "duration": 39,
    "start_time": "2021-09-27T09:17:22.046Z"
   },
   {
    "duration": 117,
    "start_time": "2021-09-27T09:17:22.087Z"
   },
   {
    "duration": 5063,
    "start_time": "2021-09-27T09:17:22.205Z"
   },
   {
    "duration": 34,
    "start_time": "2021-09-27T09:17:27.270Z"
   },
   {
    "duration": 151,
    "start_time": "2021-09-27T09:17:27.306Z"
   },
   {
    "duration": 23,
    "start_time": "2021-09-27T09:17:27.458Z"
   },
   {
    "duration": 6,
    "start_time": "2021-09-27T09:17:27.483Z"
   },
   {
    "duration": 53,
    "start_time": "2021-09-27T09:17:27.491Z"
   },
   {
    "duration": 3,
    "start_time": "2021-09-27T09:17:27.546Z"
   },
   {
    "duration": 31,
    "start_time": "2021-09-27T09:17:27.551Z"
   },
   {
    "duration": 5,
    "start_time": "2021-09-27T09:17:27.584Z"
   },
   {
    "duration": 22,
    "start_time": "2021-09-27T09:17:27.591Z"
   },
   {
    "duration": 10,
    "start_time": "2021-09-27T09:17:27.614Z"
   },
   {
    "duration": 11,
    "start_time": "2021-09-27T09:17:27.625Z"
   },
   {
    "duration": 15,
    "start_time": "2021-09-27T09:17:27.638Z"
   },
   {
    "duration": 394,
    "start_time": "2021-09-27T09:17:27.655Z"
   },
   {
    "duration": 1946,
    "start_time": "2021-09-27T09:17:28.051Z"
   },
   {
    "duration": 82980,
    "start_time": "2021-09-27T09:17:29.999Z"
   },
   {
    "duration": 18004,
    "start_time": "2021-09-27T09:18:52.981Z"
   },
   {
    "duration": 102,
    "start_time": "2021-09-27T09:19:11.077Z"
   },
   {
    "duration": 4,
    "start_time": "2021-09-27T09:19:11.182Z"
   },
   {
    "duration": 4,
    "start_time": "2021-09-27T09:19:11.277Z"
   },
   {
    "duration": 102407,
    "start_time": "2021-09-27T09:19:11.283Z"
   },
   {
    "duration": 4,
    "start_time": "2021-09-27T09:20:53.691Z"
   },
   {
    "duration": 19916,
    "start_time": "2021-09-27T09:20:53.697Z"
   },
   {
    "duration": 574,
    "start_time": "2021-09-27T09:21:13.677Z"
   },
   {
    "duration": -388,
    "start_time": "2021-09-27T09:21:14.640Z"
   },
   {
    "duration": -396,
    "start_time": "2021-09-27T09:21:14.649Z"
   },
   {
    "duration": -842,
    "start_time": "2021-09-27T09:21:15.096Z"
   },
   {
    "duration": -1020,
    "start_time": "2021-09-27T09:21:15.275Z"
   },
   {
    "duration": -1041,
    "start_time": "2021-09-27T09:21:15.296Z"
   },
   {
    "duration": -1048,
    "start_time": "2021-09-27T09:21:15.304Z"
   },
   {
    "duration": -1056,
    "start_time": "2021-09-27T09:21:15.313Z"
   },
   {
    "duration": 1953,
    "start_time": "2021-09-27T09:21:59.026Z"
   },
   {
    "duration": 157,
    "start_time": "2021-09-27T09:22:09.021Z"
   },
   {
    "duration": 2767,
    "start_time": "2021-09-27T09:22:46.723Z"
   },
   {
    "duration": 168,
    "start_time": "2021-09-27T09:23:05.916Z"
   },
   {
    "duration": 3,
    "start_time": "2021-09-27T09:23:12.144Z"
   },
   {
    "duration": 125525,
    "start_time": "2021-09-27T09:23:27.390Z"
   },
   {
    "duration": 4,
    "start_time": "2021-09-27T09:26:05.910Z"
   },
   {
    "duration": 3,
    "start_time": "2021-09-27T09:26:14.048Z"
   },
   {
    "duration": 421131,
    "start_time": "2021-09-27T09:26:16.115Z"
   },
   {
    "duration": 5,
    "start_time": "2021-09-27T09:34:31.654Z"
   },
   {
    "duration": 48224,
    "start_time": "2021-09-27T09:34:53.158Z"
   },
   {
    "duration": 79,
    "start_time": "2021-09-27T09:35:53.207Z"
   },
   {
    "duration": 6,
    "start_time": "2021-09-27T09:38:59.214Z"
   },
   {
    "duration": 4,
    "start_time": "2021-09-27T09:39:07.152Z"
   },
   {
    "duration": 120,
    "start_time": "2021-09-27T09:42:20.413Z"
   },
   {
    "duration": 162,
    "start_time": "2021-09-27T09:42:28.084Z"
   },
   {
    "duration": 5,
    "start_time": "2021-09-27T09:44:40.636Z"
   },
   {
    "duration": 4,
    "start_time": "2021-09-27T09:48:44.690Z"
   },
   {
    "duration": 5,
    "start_time": "2021-09-27T09:48:58.112Z"
   },
   {
    "duration": 1133,
    "start_time": "2021-09-27T09:49:28.419Z"
   },
   {
    "duration": 3,
    "start_time": "2021-09-27T09:49:42.489Z"
   },
   {
    "duration": 834,
    "start_time": "2021-09-27T09:49:46.841Z"
   },
   {
    "duration": 919,
    "start_time": "2021-09-27T09:50:01.924Z"
   },
   {
    "duration": 173,
    "start_time": "2021-09-27T09:51:09.524Z"
   },
   {
    "duration": 522,
    "start_time": "2021-09-27T09:53:58.817Z"
   },
   {
    "duration": 179,
    "start_time": "2021-09-27T09:54:08.302Z"
   },
   {
    "duration": 343,
    "start_time": "2021-09-27T09:54:44.385Z"
   },
   {
    "duration": 210,
    "start_time": "2021-09-27T09:55:06.057Z"
   },
   {
    "duration": 224,
    "start_time": "2021-09-27T09:55:11.802Z"
   },
   {
    "duration": 221,
    "start_time": "2021-09-27T09:55:36.164Z"
   },
   {
    "duration": 224,
    "start_time": "2021-09-27T09:55:44.456Z"
   },
   {
    "duration": 215,
    "start_time": "2021-09-27T09:55:50.272Z"
   },
   {
    "duration": 302,
    "start_time": "2021-09-27T09:56:16.199Z"
   },
   {
    "duration": 230,
    "start_time": "2021-09-27T09:56:26.369Z"
   },
   {
    "duration": 239,
    "start_time": "2021-09-27T09:56:38.755Z"
   },
   {
    "duration": 1357,
    "start_time": "2021-09-27T10:04:27.803Z"
   },
   {
    "duration": 818,
    "start_time": "2021-09-27T10:04:29.161Z"
   },
   {
    "duration": 125,
    "start_time": "2021-09-27T10:04:29.981Z"
   },
   {
    "duration": 5,
    "start_time": "2021-09-27T10:04:30.108Z"
   },
   {
    "duration": 21,
    "start_time": "2021-09-27T10:04:30.115Z"
   },
   {
    "duration": 478,
    "start_time": "2021-09-27T10:04:30.138Z"
   },
   {
    "duration": 501,
    "start_time": "2021-09-27T10:04:30.617Z"
   },
   {
    "duration": 3,
    "start_time": "2021-09-27T10:04:31.121Z"
   },
   {
    "duration": 72,
    "start_time": "2021-09-27T10:04:31.126Z"
   },
   {
    "duration": 48,
    "start_time": "2021-09-27T10:04:31.200Z"
   },
   {
    "duration": 7,
    "start_time": "2021-09-27T10:04:31.249Z"
   },
   {
    "duration": 82,
    "start_time": "2021-09-27T10:04:31.257Z"
   },
   {
    "duration": 138,
    "start_time": "2021-09-27T10:04:31.341Z"
   },
   {
    "duration": 97,
    "start_time": "2021-09-27T10:04:31.481Z"
   },
   {
    "duration": 116,
    "start_time": "2021-09-27T10:04:31.580Z"
   },
   {
    "duration": 7,
    "start_time": "2021-09-27T10:04:31.698Z"
   },
   {
    "duration": 322,
    "start_time": "2021-09-27T10:04:31.707Z"
   },
   {
    "duration": 268,
    "start_time": "2021-09-27T10:04:32.031Z"
   },
   {
    "duration": 15,
    "start_time": "2021-09-27T10:04:32.301Z"
   },
   {
    "duration": 20,
    "start_time": "2021-09-27T10:04:32.318Z"
   },
   {
    "duration": 81,
    "start_time": "2021-09-27T10:04:32.340Z"
   },
   {
    "duration": 19,
    "start_time": "2021-09-27T10:04:32.423Z"
   },
   {
    "duration": 36,
    "start_time": "2021-09-27T10:04:32.446Z"
   },
   {
    "duration": 16,
    "start_time": "2021-09-27T10:04:32.485Z"
   },
   {
    "duration": 102,
    "start_time": "2021-09-27T10:04:32.502Z"
   },
   {
    "duration": 78,
    "start_time": "2021-09-27T10:04:32.606Z"
   },
   {
    "duration": 328,
    "start_time": "2021-09-27T10:04:32.686Z"
   },
   {
    "duration": 339,
    "start_time": "2021-09-27T10:04:33.016Z"
   },
   {
    "duration": 7,
    "start_time": "2021-09-27T10:04:33.357Z"
   },
   {
    "duration": 27,
    "start_time": "2021-09-27T10:04:33.365Z"
   },
   {
    "duration": 211,
    "start_time": "2021-09-27T10:04:33.393Z"
   },
   {
    "duration": 40,
    "start_time": "2021-09-27T10:04:33.606Z"
   },
   {
    "duration": 84,
    "start_time": "2021-09-27T10:04:33.647Z"
   },
   {
    "duration": 311,
    "start_time": "2021-09-27T10:04:33.733Z"
   },
   {
    "duration": 261,
    "start_time": "2021-09-27T10:04:34.047Z"
   },
   {
    "duration": 11,
    "start_time": "2021-09-27T10:04:34.310Z"
   },
   {
    "duration": 3159,
    "start_time": "2021-09-27T10:04:34.323Z"
   },
   {
    "duration": 3193,
    "start_time": "2021-09-27T10:04:37.484Z"
   },
   {
    "duration": 111,
    "start_time": "2021-09-27T10:04:40.679Z"
   },
   {
    "duration": 28,
    "start_time": "2021-09-27T10:04:40.792Z"
   },
   {
    "duration": 89,
    "start_time": "2021-09-27T10:04:40.822Z"
   },
   {
    "duration": 285,
    "start_time": "2021-09-27T10:04:40.913Z"
   },
   {
    "duration": 291,
    "start_time": "2021-09-27T10:04:41.200Z"
   },
   {
    "duration": 32,
    "start_time": "2021-09-27T10:04:41.493Z"
   },
   {
    "duration": 45,
    "start_time": "2021-09-27T10:04:41.527Z"
   },
   {
    "duration": 36,
    "start_time": "2021-09-27T10:04:41.577Z"
   },
   {
    "duration": 48,
    "start_time": "2021-09-27T10:04:41.615Z"
   },
   {
    "duration": 41,
    "start_time": "2021-09-27T10:04:41.665Z"
   },
   {
    "duration": 31,
    "start_time": "2021-09-27T10:04:41.708Z"
   },
   {
    "duration": 119,
    "start_time": "2021-09-27T10:04:41.741Z"
   },
   {
    "duration": 5068,
    "start_time": "2021-09-27T10:04:41.861Z"
   },
   {
    "duration": 33,
    "start_time": "2021-09-27T10:04:46.931Z"
   },
   {
    "duration": 145,
    "start_time": "2021-09-27T10:04:46.976Z"
   },
   {
    "duration": 14,
    "start_time": "2021-09-27T10:04:47.123Z"
   },
   {
    "duration": 7,
    "start_time": "2021-09-27T10:04:47.139Z"
   },
   {
    "duration": 70,
    "start_time": "2021-09-27T10:04:47.148Z"
   },
   {
    "duration": 4,
    "start_time": "2021-09-27T10:04:47.220Z"
   },
   {
    "duration": 20,
    "start_time": "2021-09-27T10:04:47.225Z"
   },
   {
    "duration": 10,
    "start_time": "2021-09-27T10:04:47.246Z"
   },
   {
    "duration": 22,
    "start_time": "2021-09-27T10:04:47.258Z"
   },
   {
    "duration": 21,
    "start_time": "2021-09-27T10:04:47.282Z"
   },
   {
    "duration": 5,
    "start_time": "2021-09-27T10:04:47.305Z"
   },
   {
    "duration": 37,
    "start_time": "2021-09-27T10:04:47.312Z"
   },
   {
    "duration": 408,
    "start_time": "2021-09-27T10:04:47.351Z"
   },
   {
    "duration": 2003,
    "start_time": "2021-09-27T10:04:47.761Z"
   },
   {
    "duration": 83119,
    "start_time": "2021-09-27T10:04:49.765Z"
   },
   {
    "duration": 19195,
    "start_time": "2021-09-27T10:06:12.887Z"
   },
   {
    "duration": 91,
    "start_time": "2021-09-27T10:06:32.087Z"
   },
   {
    "duration": 4,
    "start_time": "2021-09-27T10:06:32.181Z"
   },
   {
    "duration": 5,
    "start_time": "2021-09-27T10:06:32.277Z"
   },
   {
    "duration": 98305,
    "start_time": "2021-09-27T10:06:32.284Z"
   },
   {
    "duration": 4,
    "start_time": "2021-09-27T10:08:10.590Z"
   },
   {
    "duration": 3286,
    "start_time": "2021-09-27T10:08:10.596Z"
   },
   {
    "duration": 297,
    "start_time": "2021-09-27T10:08:13.884Z"
   },
   {
    "duration": 3,
    "start_time": "2021-09-27T10:08:14.183Z"
   },
   {
    "duration": 413196,
    "start_time": "2021-09-27T10:08:14.188Z"
   },
   {
    "duration": 4,
    "start_time": "2021-09-27T10:15:07.386Z"
   },
   {
    "duration": 45809,
    "start_time": "2021-09-27T10:15:07.392Z"
   },
   {
    "duration": 86,
    "start_time": "2021-09-27T10:15:53.202Z"
   },
   {
    "duration": 89,
    "start_time": "2021-09-27T10:15:53.290Z"
   },
   {
    "duration": 10,
    "start_time": "2021-09-27T10:15:53.380Z"
   },
   {
    "duration": 14,
    "start_time": "2021-09-27T10:15:53.391Z"
   },
   {
    "duration": 11,
    "start_time": "2021-09-27T10:15:53.407Z"
   },
   {
    "duration": 236,
    "start_time": "2021-09-27T10:15:53.420Z"
   }
  ],
  "kernelspec": {
   "display_name": "Python 3",
   "language": "python",
   "name": "python3"
  },
  "language_info": {
   "codemirror_mode": {
    "name": "ipython",
    "version": 3
   },
   "file_extension": ".py",
   "mimetype": "text/x-python",
   "name": "python",
   "nbconvert_exporter": "python",
   "pygments_lexer": "ipython3",
   "version": "3.8.8"
  },
  "toc": {
   "base_numbering": 1,
   "nav_menu": {},
   "number_sections": true,
   "sideBar": true,
   "skip_h1_title": true,
   "title_cell": "Table of Contents",
   "title_sidebar": "Contents",
   "toc_cell": false,
   "toc_position": {
    "height": "calc(100% - 180px)",
    "left": "10px",
    "top": "150px",
    "width": "269.188px"
   },
   "toc_section_display": true,
   "toc_window_display": true
  }
 },
 "nbformat": 4,
 "nbformat_minor": 2
}
